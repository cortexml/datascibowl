{
 "metadata": {
  "name": "",
  "signature": "sha256:8f7b8004f7288af5df0fe2f9a5066344461d20222f52dffdc5cc94d319bda9fa"
 },
 "nbformat": 3,
 "nbformat_minor": 0,
 "worksheets": [
  {
   "cells": [
    {
     "cell_type": "code",
     "collapsed": false,
     "input": [
      "# using the region centre is pertty straight forward, take\n",
      "# the max region region properties from skimage.measure.regionprops\n",
      "# for the largest region, and it has an attribute/key centroid which is\n",
      "# a list x,y\n",
      "# however, the function that returns the region props can return none, then when\n",
      "# i look for its centroid attribute, the training/feature reading loop fails\n",
      "# perhaps lower the theshold for the amount of the region which should be non zero... \n",
      "# nope, so make the get hu moments deal with a case where the region is none and there\n",
      "# fore has no regions. minmajaxis ratio returns 0 of region is none. i can think of a \n",
      "# either doing the same, but maybe need 7 0s, or not using that one in the training set\n",
      "# in this case use naive when region missing\n",
      "\n",
      "#Import libraries for doing image analysis\n",
      "from skimage.io import imread\n",
      "from skimage.transform import resize\n",
      "from sklearn.ensemble import RandomForestClassifier as RF\n",
      "import glob\n",
      "import os\n",
      "from sklearn import cross_validation\n",
      "from sklearn.cross_validation import StratifiedKFold as KFold\n",
      "from sklearn.metrics import classification_report\n",
      "from matplotlib import pyplot as plt\n",
      "from matplotlib import colors\n",
      "from pylab import cm\n",
      "from skimage import segmentation\n",
      "from skimage.morphology import watershed\n",
      "from skimage import measure\n",
      "from skimage import morphology\n",
      "import numpy as np\n",
      "import pandas as pd\n",
      "from scipy import ndimage\n",
      "from skimage.feature import peak_local_max\n",
      "# make graphics inline\n",
      "%matplotlib inline"
     ],
     "language": "python",
     "metadata": {},
     "outputs": [],
     "prompt_number": 1
    },
    {
     "cell_type": "code",
     "collapsed": false,
     "input": [
      "import warnings\n",
      "warnings.filterwarnings(\"ignore\")"
     ],
     "language": "python",
     "metadata": {},
     "outputs": [],
     "prompt_number": 2
    },
    {
     "cell_type": "code",
     "collapsed": false,
     "input": [
      "# get the classnames from the directory structure\n",
      "# i think the . avoids hidden dirs\n",
      "directory_names = list(set(glob.glob(os.path.join(\"competition_data\",\"train\", \"*\"))).\\\n",
      " difference(set(glob.glob(os.path.join(\"competition_data\",\"train\",\"*.*\")))))\n",
      "# print len(directory_names)\n",
      "# print directory_names[1:10]"
     ],
     "language": "python",
     "metadata": {},
     "outputs": [],
     "prompt_number": 3
    },
    {
     "cell_type": "code",
     "collapsed": false,
     "input": [
      "# find the largest nonzero region\n",
      "def getLargestRegion(props, labelmap, imagethres):\n",
      "    regionmaxprop = None\n",
      "    for regionprop in props:\n",
      "        # check to see if the region is at least 50% nonzero\n",
      "        if sum(imagethres[labelmap == regionprop.label])*1.0/regionprop.area < 0.5:\n",
      "            continue\n",
      "        if regionmaxprop is None:\n",
      "            regionmaxprop = regionprop\n",
      "        if regionmaxprop.filled_area < regionprop.filled_area:\n",
      "            regionmaxprop = regionprop\n",
      "    return regionmaxprop"
     ],
     "language": "python",
     "metadata": {},
     "outputs": [],
     "prompt_number": 4
    },
    {
     "cell_type": "code",
     "collapsed": false,
     "input": [
      "def get_hu_moments(regionmaxprop, image):\n",
      "    hu_moments = np.zeros(7)\n",
      "    if regionmaxprop is not None:\n",
      "        central_moments = measure.moments_central(image, regionmaxprop.centroid[0], regionmaxprop.centroid[1])\n",
      "    else:\n",
      "        central_moments = measure.moments_central(image, (image.shape[0]+1)/2, (image.shape[1]+1)/2)\n",
      "    normalized_moments = measure.moments_normalized(central_moments)\n",
      "    hu_moments = measure.moments_hu(normalized_moments)\n",
      "    return hu_moments"
     ],
     "language": "python",
     "metadata": {},
     "outputs": [],
     "prompt_number": 5
    },
    {
     "cell_type": "code",
     "collapsed": false,
     "input": [
      "def getMaxRegion(image):\n",
      "    image = image.copy()\n",
      "    # Create the thresholded image to eliminate some of the background\n",
      "    # not sure i like this threshold condition\n",
      "    imagethr = np.where(image > np.mean(image),0.,1.0)\n",
      "\n",
      "    #Dilate the image\n",
      "    imdilated = morphology.dilation(imagethr, np.ones((4,4)))\n",
      "\n",
      "    # Create the label list\n",
      "    label_list = measure.label(imdilated)\n",
      "    label_list = imagethr*label_list\n",
      "    label_list = label_list.astype(int)\n",
      "    \n",
      "    region_list = measure.regionprops(label_list)\n",
      "    maxregion = getLargestRegion(region_list, label_list, imagethr)\n",
      "    \n",
      "    return maxregion\n",
      "\n",
      "def getMinorMajorRatio(maxregion):\n",
      "    # guard against cases where the segmentation fails by providing zeros\n",
      "    ratio = 0.0\n",
      "    if ((not maxregion is None) and  (maxregion.major_axis_length != 0.0)):\n",
      "        ratio = 0.0 if maxregion is None else  maxregion.minor_axis_length*1.0 / maxregion.major_axis_length\n",
      "    return ratio\n"
     ],
     "language": "python",
     "metadata": {},
     "outputs": [],
     "prompt_number": 6
    },
    {
     "cell_type": "code",
     "collapsed": false,
     "input": [
      "# Rescale the images and create the combined metrics and training labels\n",
      "\n",
      "#get the total training images\n",
      "numberofImages = 0\n",
      "for folder in directory_names:\n",
      "    for fileNameDir in os.walk(folder):   \n",
      "        for fileName in fileNameDir[2]:\n",
      "             # Only read in the images\n",
      "            if fileName[-4:] != \".jpg\":\n",
      "              continue\n",
      "            numberofImages += 1\n",
      "print numberofImages"
     ],
     "language": "python",
     "metadata": {},
     "outputs": [
      {
       "output_type": "stream",
       "stream": "stdout",
       "text": [
        "30336\n"
       ]
      }
     ],
     "prompt_number": 7
    },
    {
     "cell_type": "code",
     "collapsed": false,
     "input": [
      "# We'll rescale the images to be 25x25\n",
      "maxPixel = 25\n",
      "imageSize = maxPixel * maxPixel\n",
      "num_rows = numberofImages # one row for each image in the training dataset\n",
      "# !--Be careful the number of features is hard codede here\n",
      "num_features = 8 # for our ratio and 7 hu central moments\n",
      "\n",
      "# X is the feature vector with one row of features per image\n",
      "# consisting of the hu central moments and our metric\n",
      "X = np.zeros((num_rows, num_features), dtype=float)\n",
      "# y is the numeric class label \n",
      "y = np.zeros((num_rows))\n",
      "\n",
      "files = []\n",
      "# Generate training data\n",
      "i = 0    \n",
      "label = 0\n",
      "# List of string of class names\n",
      "namesClasses = list()\n",
      "\n",
      "# how to see dimensions of numpy array\n",
      "print X.shape"
     ],
     "language": "python",
     "metadata": {},
     "outputs": [
      {
       "output_type": "stream",
       "stream": "stdout",
       "text": [
        "(30336, 8)\n"
       ]
      }
     ],
     "prompt_number": 8
    },
    {
     "cell_type": "code",
     "collapsed": false,
     "input": [
      "print \"Reading images\"\n",
      "# Navigate through the list of directories\n",
      "for folder in directory_names:\n",
      "    # Append the string class name for each class\n",
      "    currentClass = folder.split(os.pathsep)[-1]\n",
      "    namesClasses.append(currentClass)\n",
      "#     print currentClass\n",
      "    for fileNameDir in os.walk(folder):   \n",
      "        for fileName in fileNameDir[2]:\n",
      "            # Only read in the images\n",
      "            if fileName[-4:] != \".jpg\":\n",
      "              continue\n",
      "            \n",
      "            # Read in the images and create the features\n",
      "            nameFileImage = \"{0}{1}{2}\".format(fileNameDir[0], os.sep, fileName)            \n",
      "            image = imread(nameFileImage, as_grey=True)\n",
      "            files.append(nameFileImage)\n",
      "#             print nameFileImage\n",
      "            maxregion = getMaxRegion(image)\n",
      "#             print(maxregion)\n",
      "            axisratio = getMinorMajorRatio(maxregion)\n",
      "            image = resize(image, (maxPixel, maxPixel))\n",
      "            \n",
      "            # Store the rescaled image pixels and the axis ratio\n",
      "            #X[i, 0:imageSize] = np.reshape(image, (1, imageSize))\n",
      "            X[i, 0:7] = get_hu_moments(maxregion, image)\n",
      "            X[i, 7] = axisratio\n",
      "            \n",
      "            # ! why replacing 0:7 with something length = 7, 0:7 is 8 isn't it?!?!\n",
      "            \n",
      "            # Store the classlabel\n",
      "            y[i] = label\n",
      "            i += 1\n",
      "            # report progress for each 5% done  \n",
      "            report = [int((j+1)*num_rows/20.) for j in range(20)]\n",
      "            if i in report: print np.ceil(i *100.0 / num_rows), \"% done\"\n",
      "    label += 1"
     ],
     "language": "python",
     "metadata": {},
     "outputs": [
      {
       "output_type": "stream",
       "stream": "stdout",
       "text": [
        "Reading images\n",
        "5.0"
       ]
      },
      {
       "output_type": "stream",
       "stream": "stdout",
       "text": [
        " % done\n",
        "10.0"
       ]
      },
      {
       "output_type": "stream",
       "stream": "stdout",
       "text": [
        " % done\n",
        "15.0"
       ]
      },
      {
       "output_type": "stream",
       "stream": "stdout",
       "text": [
        " % done\n",
        "20.0"
       ]
      },
      {
       "output_type": "stream",
       "stream": "stdout",
       "text": [
        " % done\n",
        "25.0"
       ]
      },
      {
       "output_type": "stream",
       "stream": "stdout",
       "text": [
        " % done\n",
        "30.0"
       ]
      },
      {
       "output_type": "stream",
       "stream": "stdout",
       "text": [
        " % done\n",
        "35.0"
       ]
      },
      {
       "output_type": "stream",
       "stream": "stdout",
       "text": [
        " % done\n",
        "40.0"
       ]
      },
      {
       "output_type": "stream",
       "stream": "stdout",
       "text": [
        " % done\n",
        "45.0"
       ]
      },
      {
       "output_type": "stream",
       "stream": "stdout",
       "text": [
        " % done\n",
        "50.0"
       ]
      },
      {
       "output_type": "stream",
       "stream": "stdout",
       "text": [
        " % done\n",
        "55.0"
       ]
      },
      {
       "output_type": "stream",
       "stream": "stdout",
       "text": [
        " % done\n",
        "60.0"
       ]
      },
      {
       "output_type": "stream",
       "stream": "stdout",
       "text": [
        " % done\n",
        "65.0"
       ]
      },
      {
       "output_type": "stream",
       "stream": "stdout",
       "text": [
        " % done\n",
        "70.0"
       ]
      },
      {
       "output_type": "stream",
       "stream": "stdout",
       "text": [
        " % done\n",
        "75.0"
       ]
      },
      {
       "output_type": "stream",
       "stream": "stdout",
       "text": [
        " % done\n",
        "80.0"
       ]
      },
      {
       "output_type": "stream",
       "stream": "stdout",
       "text": [
        " % done\n",
        "85.0"
       ]
      },
      {
       "output_type": "stream",
       "stream": "stdout",
       "text": [
        " % done\n",
        "90.0"
       ]
      },
      {
       "output_type": "stream",
       "stream": "stdout",
       "text": [
        " % done\n",
        "95.0"
       ]
      },
      {
       "output_type": "stream",
       "stream": "stdout",
       "text": [
        " % done\n",
        "100.0"
       ]
      },
      {
       "output_type": "stream",
       "stream": "stdout",
       "text": [
        " % done\n"
       ]
      }
     ],
     "prompt_number": 9
    },
    {
     "cell_type": "code",
     "collapsed": false,
     "input": [
      "print \"Training\"\n",
      "# n_estimators is the number of decision trees\n",
      "# max_features also known as m_try is set to the default value of the square root of the number of features\n",
      "clf = RF(n_estimators=100, n_jobs=3);\n",
      "scores = cross_validation.cross_val_score(clf, X, y, cv=5, n_jobs=1);\n",
      "print \"Accuracy of all classes\"\n",
      "print np.mean(scores)"
     ],
     "language": "python",
     "metadata": {},
     "outputs": [
      {
       "output_type": "stream",
       "stream": "stdout",
       "text": [
        "Training\n",
        "Accuracy of all classes"
       ]
      },
      {
       "output_type": "stream",
       "stream": "stdout",
       "text": [
        "\n",
        "0.237315630713\n"
       ]
      }
     ],
     "prompt_number": 10
    },
    {
     "cell_type": "code",
     "collapsed": false,
     "input": [
      "def multiclass_log_loss(y_true, y_pred, eps=1e-15):\n",
      "    \"\"\"Multi class version of Logarithmic Loss metric.\n",
      "    https://www.kaggle.com/wiki/MultiClassLogLoss\n",
      "\n",
      "    Parameters\n",
      "    ----------\n",
      "    y_true : array, shape = [n_samples]\n",
      "            true class, intergers in [0, n_classes - 1)\n",
      "    y_pred : array, shape = [n_samples, n_classes]\n",
      "\n",
      "    Returns\n",
      "    -------\n",
      "    loss : float\n",
      "    \"\"\"\n",
      "    predictions = np.clip(y_pred, eps, 1 - eps)\n",
      "\n",
      "    # normalize row sums to 1\n",
      "    predictions /= predictions.sum(axis=1)[:, np.newaxis]\n",
      "\n",
      "    actual = np.zeros(y_pred.shape)\n",
      "    n_samples = actual.shape[0]\n",
      "    actual[np.arange(n_samples), y_true.astype(int)] = 1\n",
      "    vectsum = np.sum(actual * np.log(predictions))\n",
      "    loss = -1.0 / n_samples * vectsum\n",
      "    return loss\n"
     ],
     "language": "python",
     "metadata": {},
     "outputs": [],
     "prompt_number": 11
    },
    {
     "cell_type": "code",
     "collapsed": false,
     "input": [
      "# Get the probability predictions for computing the log-loss function\n",
      "kf = KFold(y, n_folds=5)\n",
      "# prediction probabilities number of samples, by number of classes\n",
      "y_pred = np.zeros((len(y),len(set(y))))\n",
      "for train, test in kf:\n",
      "    X_train, X_test, y_train, y_test = X[train,:], X[test,:], y[train], y[test]\n",
      "    clf = RF(n_estimators=100, n_jobs=3)\n",
      "    clf.fit(X_train, y_train)\n",
      "    y_pred[test] = clf.predict_proba(X_test)"
     ],
     "language": "python",
     "metadata": {},
     "outputs": [],
     "prompt_number": 12
    },
    {
     "cell_type": "code",
     "collapsed": false,
     "input": [
      "multiclass_log_loss(y, y_pred)\n",
      "# 2.8312848633252683 old score"
     ],
     "language": "python",
     "metadata": {},
     "outputs": [
      {
       "metadata": {},
       "output_type": "pyout",
       "prompt_number": 13,
       "text": [
        "10.120144115930909"
       ]
      }
     ],
     "prompt_number": 13
    },
    {
     "cell_type": "code",
     "collapsed": false,
     "input": [
      "## Tutorial for submitting\n",
      "header = \"acantharia_protist_big_center,acantharia_protist_halo,acantharia_protist,amphipods,appendicularian_fritillaridae,appendicularian_s_shape,appendicularian_slight_curve,appendicularian_straight,artifacts_edge,artifacts,chaetognath_non_sagitta,chaetognath_other,chaetognath_sagitta,chordate_type1,copepod_calanoid_eggs,copepod_calanoid_eucalanus,copepod_calanoid_flatheads,copepod_calanoid_frillyAntennae,copepod_calanoid_large_side_antennatucked,copepod_calanoid_large,copepod_calanoid_octomoms,copepod_calanoid_small_longantennae,copepod_calanoid,copepod_cyclopoid_copilia,copepod_cyclopoid_oithona_eggs,copepod_cyclopoid_oithona,copepod_other,crustacean_other,ctenophore_cestid,ctenophore_cydippid_no_tentacles,ctenophore_cydippid_tentacles,ctenophore_lobate,decapods,detritus_blob,detritus_filamentous,detritus_other,diatom_chain_string,diatom_chain_tube,echinoderm_larva_pluteus_brittlestar,echinoderm_larva_pluteus_early,echinoderm_larva_pluteus_typeC,echinoderm_larva_pluteus_urchin,echinoderm_larva_seastar_bipinnaria,echinoderm_larva_seastar_brachiolaria,echinoderm_seacucumber_auricularia_larva,echinopluteus,ephyra,euphausiids_young,euphausiids,fecal_pellet,fish_larvae_deep_body,fish_larvae_leptocephali,fish_larvae_medium_body,fish_larvae_myctophids,fish_larvae_thin_body,fish_larvae_very_thin_body,heteropod,hydromedusae_aglaura,hydromedusae_bell_and_tentacles,hydromedusae_h15,hydromedusae_haliscera_small_sideview,hydromedusae_haliscera,hydromedusae_liriope,hydromedusae_narco_dark,hydromedusae_narco_young,hydromedusae_narcomedusae,hydromedusae_other,hydromedusae_partial_dark,hydromedusae_shapeA_sideview_small,hydromedusae_shapeA,hydromedusae_shapeB,hydromedusae_sideview_big,hydromedusae_solmaris,hydromedusae_solmundella,hydromedusae_typeD_bell_and_tentacles,hydromedusae_typeD,hydromedusae_typeE,hydromedusae_typeF,invertebrate_larvae_other_A,invertebrate_larvae_other_B,jellies_tentacles,polychaete,protist_dark_center,protist_fuzzy_olive,protist_noctiluca,protist_other,protist_star,pteropod_butterfly,pteropod_theco_dev_seq,pteropod_triangle,radiolarian_chain,radiolarian_colony,shrimp_caridean,shrimp_sergestidae,shrimp_zoea,shrimp-like_other,siphonophore_calycophoran_abylidae,siphonophore_calycophoran_rocketship_adult,siphonophore_calycophoran_rocketship_young,siphonophore_calycophoran_sphaeronectes_stem,siphonophore_calycophoran_sphaeronectes_young,siphonophore_calycophoran_sphaeronectes,siphonophore_other_parts,siphonophore_partial,siphonophore_physonect_young,siphonophore_physonect,stomatopod,tornaria_acorn_worm_larvae,trichodesmium_bowtie,trichodesmium_multiple,trichodesmium_puff,trichodesmium_tuft,trochophore_larvae,tunicate_doliolid_nurse,tunicate_doliolid,tunicate_partial,tunicate_salp_chains,tunicate_salp,unknown_blobs_and_smudges,unknown_sticks,unknown_unclassified\".split(',')"
     ],
     "language": "python",
     "metadata": {},
     "outputs": [],
     "prompt_number": 14
    },
    {
     "cell_type": "code",
     "collapsed": false,
     "input": [
      "labels = map(lambda s: s.split('/')[-1], namesClasses)"
     ],
     "language": "python",
     "metadata": {},
     "outputs": [],
     "prompt_number": 15
    },
    {
     "cell_type": "code",
     "collapsed": false,
     "input": [
      "#get the total test images\n",
      "fnames = glob.glob(os.path.join(\"competition_data\", \"test\", \"*.jpg\"))\n",
      "numberofTestImages = len(fnames)"
     ],
     "language": "python",
     "metadata": {},
     "outputs": [],
     "prompt_number": 16
    },
    {
     "cell_type": "code",
     "collapsed": false,
     "input": [
      "print numberofTestImages\n",
      "print num_features"
     ],
     "language": "python",
     "metadata": {},
     "outputs": [
      {
       "output_type": "stream",
       "stream": "stdout",
       "text": [
        "130400\n",
        "8\n"
       ]
      }
     ],
     "prompt_number": 17
    },
    {
     "cell_type": "code",
     "collapsed": false,
     "input": [
      "X_test = np.zeros((numberofTestImages, num_features), dtype=float)"
     ],
     "language": "python",
     "metadata": {},
     "outputs": [],
     "prompt_number": 18
    },
    {
     "cell_type": "code",
     "collapsed": false,
     "input": [
      "images = map(lambda fileName: fileName.split('/')[-1], fnames)"
     ],
     "language": "python",
     "metadata": {},
     "outputs": [],
     "prompt_number": 19
    },
    {
     "cell_type": "code",
     "collapsed": false,
     "input": [
      "i = 0\n",
      "# report progress for each 5% done  \n",
      "report = [int((j+1)*numberofTestImages/20.) for j in range(20)]\n",
      "for fileName in fnames:\n",
      "    image = imread(nameFileImage, as_grey=True)\n",
      "    maxregion = getMaxRegion(image)\n",
      "    axisratio = getMinorMajorRatio(maxregion)\n",
      "    image = resize(image, (maxPixel, maxPixel))\n",
      "    \n",
      "    X_test[i, 0:7] = get_hu_moments(maxregion, image)\n",
      "    X_test[i, 7] = axisratio\n",
      " \n",
      "    i += 1\n",
      "    if i in report: print np.ceil(i *100.0 / numberofTestImages), \"% done\""
     ],
     "language": "python",
     "metadata": {},
     "outputs": [
      {
       "output_type": "stream",
       "stream": "stdout",
       "text": [
        "5.0 % done\n",
        "10.0"
       ]
      },
      {
       "output_type": "stream",
       "stream": "stdout",
       "text": [
        " % done\n",
        "15.0"
       ]
      },
      {
       "output_type": "stream",
       "stream": "stdout",
       "text": [
        " % done\n",
        "20.0"
       ]
      },
      {
       "output_type": "stream",
       "stream": "stdout",
       "text": [
        " % done\n",
        "25.0"
       ]
      },
      {
       "output_type": "stream",
       "stream": "stdout",
       "text": [
        " % done\n",
        "30.0"
       ]
      },
      {
       "output_type": "stream",
       "stream": "stdout",
       "text": [
        " % done\n",
        "35.0"
       ]
      },
      {
       "output_type": "stream",
       "stream": "stdout",
       "text": [
        " % done\n",
        "40.0"
       ]
      },
      {
       "output_type": "stream",
       "stream": "stdout",
       "text": [
        " % done\n",
        "45.0"
       ]
      },
      {
       "output_type": "stream",
       "stream": "stdout",
       "text": [
        " % done\n",
        "50.0"
       ]
      },
      {
       "output_type": "stream",
       "stream": "stdout",
       "text": [
        " % done\n",
        "55.0"
       ]
      },
      {
       "output_type": "stream",
       "stream": "stdout",
       "text": [
        " % done\n",
        "60.0"
       ]
      },
      {
       "output_type": "stream",
       "stream": "stdout",
       "text": [
        " % done\n",
        "65.0"
       ]
      },
      {
       "output_type": "stream",
       "stream": "stdout",
       "text": [
        " % done\n",
        "70.0"
       ]
      },
      {
       "output_type": "stream",
       "stream": "stdout",
       "text": [
        " % done\n",
        "75.0"
       ]
      },
      {
       "output_type": "stream",
       "stream": "stdout",
       "text": [
        " % done\n",
        "80.0"
       ]
      },
      {
       "output_type": "stream",
       "stream": "stdout",
       "text": [
        " % done\n",
        "85.0"
       ]
      },
      {
       "output_type": "stream",
       "stream": "stdout",
       "text": [
        " % done\n",
        "90.0"
       ]
      },
      {
       "output_type": "stream",
       "stream": "stdout",
       "text": [
        " % done\n",
        "95.0"
       ]
      },
      {
       "output_type": "stream",
       "stream": "stdout",
       "text": [
        " % done\n",
        "100.0"
       ]
      },
      {
       "output_type": "stream",
       "stream": "stdout",
       "text": [
        " % done\n"
       ]
      }
     ],
     "prompt_number": 22
    },
    {
     "cell_type": "code",
     "collapsed": false,
     "input": [
      "y_pred = clf.predict_proba(X_test)"
     ],
     "language": "python",
     "metadata": {},
     "outputs": [],
     "prompt_number": 23
    },
    {
     "cell_type": "code",
     "collapsed": false,
     "input": [
      "y_pred.shape"
     ],
     "language": "python",
     "metadata": {},
     "outputs": [
      {
       "metadata": {},
       "output_type": "pyout",
       "prompt_number": 24,
       "text": [
        "(130400, 121)"
       ]
      }
     ],
     "prompt_number": 24
    },
    {
     "cell_type": "code",
     "collapsed": false,
     "input": [
      "print labels[1]\n",
      "print images[1]\n",
      "print len(images)\n",
      "print len(labels)"
     ],
     "language": "python",
     "metadata": {},
     "outputs": [
      {
       "output_type": "stream",
       "stream": "stdout",
       "text": [
        "hydromedusae_shapeB\n",
        "10.jpg\n",
        "130400\n",
        "121\n"
       ]
      }
     ],
     "prompt_number": 25
    },
    {
     "cell_type": "code",
     "collapsed": false,
     "input": [
      "df = pd.DataFrame(y_pred, columns=labels, index=images)"
     ],
     "language": "python",
     "metadata": {},
     "outputs": [],
     "prompt_number": 26
    },
    {
     "cell_type": "code",
     "collapsed": false,
     "input": [
      "df.index.name = 'image'\n",
      "df = df[header]\n",
      "df.to_csv('competition_data/submission_hu_centred_zero_NoneRegions.csv')\n",
      "!gzip competition_data/submission_hu_centred_zero_NoneRegions.csv\n",
      "!ls -l competition_data/submission_hu_centred_zero_NoneRegions.csv.gz"
     ],
     "language": "python",
     "metadata": {},
     "outputs": []
    },
    {
     "cell_type": "code",
     "collapsed": false,
     "input": [
      "y_pred[0]"
     ],
     "language": "python",
     "metadata": {},
     "outputs": [
      {
       "metadata": {},
       "output_type": "pyout",
       "prompt_number": 27,
       "text": [
        "array([  1.53784185e-02,   4.16526478e-03,   3.37853550e-03,\n",
        "         3.14718760e-04,   4.51711308e-03,   1.01043303e-02,\n",
        "         5.32817303e-02,   1.00974238e-05,   1.66955797e-04,\n",
        "         3.14900921e-03,   4.53566619e-02,   3.57809031e-03,\n",
        "         3.27184572e-04,   3.97372413e-04,   4.44576059e-05,\n",
        "         1.70733944e-02,   1.35140193e-02,   3.10286230e-04,\n",
        "         3.26405428e-02,   1.10593533e-03,   6.82500055e-04,\n",
        "         5.02410225e-04,   1.21976399e-03,   4.42682514e-04,\n",
        "         2.30172262e-04,   1.26661201e-02,   1.80970122e-03,\n",
        "         8.20253181e-04,   2.74969957e-04,   1.56455940e-03,\n",
        "         1.23613425e-04,   4.50569426e-04,   2.08049706e-03,\n",
        "         2.63606465e-05,   1.43040297e-03,   3.69711971e-04,\n",
        "         7.48174322e-04,   8.28860811e-03,   1.71949428e-03,\n",
        "         2.20540309e-03,   1.33295745e-03,   2.39089132e-04,\n",
        "         2.04611964e-04,   1.13286891e-04,   2.71433988e-03,\n",
        "         1.85274458e-03,   4.61535307e-04,   3.88979401e-03,\n",
        "         7.44924051e-04,   6.17518448e-03,   5.39779369e-03,\n",
        "         2.35680060e-03,   7.96146705e-04,   1.71360479e-02,\n",
        "         2.53560440e-04,   1.84631353e-04,   6.81261195e-04,\n",
        "         1.39768745e-02,   7.06296694e-05,   7.14240857e-04,\n",
        "         9.55297432e-04,   5.32281650e-03,   9.14026657e-03,\n",
        "         1.17384367e-04,   2.74768809e-03,   1.36220750e-04,\n",
        "         1.41303811e-03,   1.51740498e-04,   4.41901031e-04,\n",
        "         3.16161002e-04,   1.65307134e-03,   1.20974916e-02,\n",
        "         1.28386509e-01,   2.01985216e-03,   1.16722347e-03,\n",
        "         9.66913221e-04,   1.52244817e-03,   6.10879846e-02,\n",
        "         1.10307160e-04,   4.16186279e-03,   7.10370826e-04,\n",
        "         3.57236167e-03,   1.96779609e-03,   9.67577542e-03,\n",
        "         2.34437574e-03,   3.21718977e-03,   1.20130954e-03,\n",
        "         1.53569081e-05,   5.21559087e-02,   2.40122430e-03,\n",
        "         2.09973287e-02,   1.98279189e-02,   1.05510682e-04,\n",
        "         9.95139904e-04,   2.04688838e-04,   3.57296337e-04,\n",
        "         1.71182339e-01,   3.48626081e-04,   8.68929198e-04,\n",
        "         1.98974921e-04,   1.37973004e-04,   1.32085558e-03,\n",
        "         4.52697479e-05,   9.18010039e-05,   4.78121682e-03,\n",
        "         3.93595873e-03,   5.36201057e-03,   7.00362720e-03,\n",
        "         7.15984983e-04,   5.09063065e-05,   1.74846432e-02,\n",
        "         3.12784201e-02,   2.67648222e-02,   1.94020683e-04,\n",
        "         9.47243847e-04,   6.24510570e-04,   5.48574061e-02,\n",
        "         3.61864808e-04,   1.03954291e-02,   1.19798528e-03,\n",
        "         4.16910067e-04])"
       ]
      }
     ],
     "prompt_number": 27
    },
    {
     "cell_type": "code",
     "collapsed": false,
     "input": [],
     "language": "python",
     "metadata": {},
     "outputs": [],
     "prompt_number": 27
    }
   ],
   "metadata": {}
  }
 ]
}