{
 "metadata": {
  "name": "",
  "signature": "sha256:ce256f9ca74a542cd86e1ff58ffd6f0a7a76e0a7f703572bdb19601acd152ec2"
 },
 "nbformat": 3,
 "nbformat_minor": 0,
 "worksheets": [
  {
   "cells": [
    {
     "cell_type": "code",
     "collapsed": false,
     "input": [
      "import glob\n",
      "import os\n",
      "import numpy as np\n",
      "# import pandas as pd\n",
      "import theano\n",
      "from pylearn2.datasets.datascibowl import DataSciBowl\n",
      "from pylearn2.utils import serial"
     ],
     "language": "python",
     "metadata": {},
     "outputs": [],
     "prompt_number": 1
    },
    {
     "cell_type": "code",
     "collapsed": false,
     "input": [
      "data = DataSciBowl() #???\n",
      "X_test = data.X #???\n",
      "\n",
      "model_path = 'softmax_regression_best_shuf_ctr_03.pkl'\n",
      "model = serial.load( model_path )\n",
      "\n",
      "X = model.get_input_space().make_theano_batch()\n",
      "Y = model.fprop( X )\n",
      "\n",
      "f = theano.function( [X], Y )"
     ],
     "language": "python",
     "metadata": {},
     "outputs": [],
     "prompt_number": 51
    },
    {
     "cell_type": "code",
     "collapsed": false,
     "input": [
      "y = f( X_test )"
     ],
     "language": "python",
     "metadata": {},
     "outputs": [],
     "prompt_number": 52
    },
    {
     "cell_type": "code",
     "collapsed": false,
     "input": [
      "y.shape"
     ],
     "language": "python",
     "metadata": {},
     "outputs": [
      {
       "metadata": {},
       "output_type": "pyout",
       "prompt_number": 53,
       "text": [
        "(130400, 121)"
       ]
      }
     ],
     "prompt_number": 53
    },
    {
     "cell_type": "code",
     "collapsed": false,
     "input": [
      "y[1:10,]"
     ],
     "language": "python",
     "metadata": {},
     "outputs": [
      {
       "metadata": {},
       "output_type": "pyout",
       "prompt_number": 54,
       "text": [
        "array([[  1.49346324e-02,   9.95772872e-04,   5.53935159e-04, ...,\n",
        "          2.36347644e-03,   5.81939637e-03,   9.01007287e-03],\n",
        "       [  4.70616011e-08,   1.42149710e-06,   2.76890773e-05, ...,\n",
        "          2.42167008e-07,   1.30562728e-05,   1.65200531e-04],\n",
        "       [  9.38207505e-04,   4.05340714e-04,   1.02863217e-03, ...,\n",
        "          1.29179659e-02,   1.38900064e-02,   6.94597408e-03],\n",
        "       ..., \n",
        "       [  8.75291405e-06,   2.14339578e-05,   2.42306717e-05, ...,\n",
        "          1.08342886e-04,   2.19876612e-04,   2.95460313e-03],\n",
        "       [  1.18201627e-15,   1.53416862e-06,   9.90429416e-10, ...,\n",
        "          1.88883709e-02,   2.72682143e-08,   4.82946613e-05],\n",
        "       [  2.63716811e-01,   3.34977422e-05,   6.28500505e-04, ...,\n",
        "          1.97058562e-05,   1.14471024e-03,   4.75597993e-04]])"
       ]
      }
     ],
     "prompt_number": 54
    }
   ],
   "metadata": {}
  }
 ]
}