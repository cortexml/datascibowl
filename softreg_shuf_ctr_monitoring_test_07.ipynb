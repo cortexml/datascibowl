{
 "metadata": {
  "name": "",
  "signature": "sha256:2653e6e1860d2bcc2ef9d6550bed1ace809ab39f22e772fbaac8f8bbf9885efb"
 },
 "nbformat": 3,
 "nbformat_minor": 0,
 "worksheets": [
  {
   "cells": [
    {
     "cell_type": "code",
     "collapsed": false,
     "input": [
      "import os\n",
      "import pylearn2\n",
      "from pylearn2.config import yaml_parse"
     ],
     "language": "python",
     "metadata": {},
     "outputs": [],
     "prompt_number": 1
    },
    {
     "cell_type": "code",
     "collapsed": false,
     "input": [
      "dirname = os.path.abspath(os.path.dirname('softmax_regression_shuffle_center_07.ipynb'))\n",
      "# dirname"
     ],
     "language": "python",
     "metadata": {},
     "outputs": [],
     "prompt_number": 2
    },
    {
     "cell_type": "code",
     "collapsed": false,
     "input": [
      "with open(os.path.join(dirname, 'sr_train_07.yaml'), 'r') as f:\n",
      "    train = f.read()\n",
      "save_path = '.'\n",
      "train_params = {'monitoring_batches': 1}\n",
      "train = train % locals()"
     ],
     "language": "python",
     "metadata": {},
     "outputs": [],
     "prompt_number": 17
    },
    {
     "cell_type": "code",
     "collapsed": false,
     "input": [
      "print train"
     ],
     "language": "python",
     "metadata": {},
     "outputs": [
      {
       "output_type": "stream",
       "stream": "stdout",
       "text": [
        "!obj:pylearn2.train.Train {\n",
        "    dataset: &train !obj:pylearn2.datasets.datascibowl.DataSciBowl {\n",
        "        which_set: 'train',\n",
        "        start: 0,\n",
        "        stop: 25000,\n",
        "        shuffle: True,\n",
        "        center: True,\n",
        "    },\n",
        "    model: !obj:pylearn2.models.softmax_regression.SoftmaxRegression {\n",
        "        n_classes: 121,\n",
        "        irange: 0.,\n",
        "        nvis: 1024\n",
        "    },\n",
        "    algorithm: !obj:pylearn2.training_algorithms.bgd.BGD {\n",
        "        batch_size: 5000,\n",
        "        line_search_mode: 'exhaustive',\n",
        "        conjugate: True,\n",
        "        monitoring_dataset:\n",
        "            {\n",
        "                'train' : *train,\n",
        "                'valid' : !obj:pylearn2.datasets.datascibowl.DataSciBowl {\n",
        "                              which_set: 'train',\n",
        "                              start: 25000,\n",
        "                              stop:  30000,\n",
        "                              shuffle: True,\n",
        "                              center: True\n",
        "                          }\n",
        "            },\n",
        "        termination_criterion: !obj:pylearn2.termination_criteria.MonitorBased {\n",
        "            channel_name: \"valid_y_misclass\"\n",
        "        },\n",
        "        monitoring_batches: 1\n",
        "    },\n",
        "    extensions: [\n",
        "        !obj:pylearn2.train_extensions.best_params.MonitorBasedSaveBest {\n",
        "             channel_name: 'valid_y_misclass',\n",
        "             save_path: \"softmax_regression_best_shuf_ctr_07.pkl\"\n",
        "        },\n",
        "        !obj:pylearn2.train_extensions.roc_auc.RocAucChannel {\n",
        "            channel_name_suffix: 'roc_auc'\n",
        "        }\n",
        "    ],\n",
        "    save_path: \"softmax_regression_shuf_ctr_07.pkl\",\n",
        "    save_freq: 1\n",
        "}\n",
        "\n"
       ]
      }
     ],
     "prompt_number": 18
    },
    {
     "cell_type": "code",
     "collapsed": false,
     "input": [
      "train = yaml_parse.load(train)\n",
      "train.main_loop()"
     ],
     "language": "python",
     "metadata": {},
     "outputs": [
      {
       "output_type": "stream",
       "stream": "stdout",
       "text": [
        "Looking for data in /home/joth/projects/2014-12-20_datascibowl/competition_data/train\n",
        "Found 30336 images"
       ]
      },
      {
       "output_type": "stream",
       "stream": "stdout",
       "text": [
        "\n",
        "Reading files from /home/joth/projects/2014-12-20_datascibowl/competition_data/train/acantharia_protist\n",
        "Reading files from /home/joth/projects/2014-12-20_datascibowl/competition_data/train/acantharia_protist_big_center"
       ]
      },
      {
       "output_type": "stream",
       "stream": "stdout",
       "text": [
        "\n",
        "Reading files from /home/joth/projects/2014-12-20_datascibowl/competition_data/train/acantharia_protist_halo\n",
        "Reading files from /home/joth/projects/2014-12-20_datascibowl/competition_data/train/amphipods"
       ]
      },
      {
       "output_type": "stream",
       "stream": "stdout",
       "text": [
        "\n",
        "Reading files from /home/joth/projects/2014-12-20_datascibowl/competition_data/train/appendicularian_fritillaridae\n",
        "Reading files from /home/joth/projects/2014-12-20_datascibowl/competition_data/train/appendicularian_s_shape\n",
        "Reading files from /home/joth/projects/2014-12-20_datascibowl/competition_data/train/appendicularian_slight_curve"
       ]
      },
      {
       "output_type": "stream",
       "stream": "stdout",
       "text": [
        "\n",
        "Reading files from /home/joth/projects/2014-12-20_datascibowl/competition_data/train/appendicularian_straight"
       ]
      },
      {
       "output_type": "stream",
       "stream": "stdout",
       "text": [
        "\n",
        "Reading files from /home/joth/projects/2014-12-20_datascibowl/competition_data/train/artifacts"
       ]
      },
      {
       "output_type": "stream",
       "stream": "stdout",
       "text": [
        "\n",
        "Reading files from /home/joth/projects/2014-12-20_datascibowl/competition_data/train/artifacts_edge"
       ]
      },
      {
       "output_type": "stream",
       "stream": "stdout",
       "text": [
        "\n",
        "Reading files from /home/joth/projects/2014-12-20_datascibowl/competition_data/train/chaetognath_non_sagitta"
       ]
      },
      {
       "output_type": "stream",
       "stream": "stdout",
       "text": [
        "\n",
        "Reading files from /home/joth/projects/2014-12-20_datascibowl/competition_data/train/chaetognath_other"
       ]
      },
      {
       "output_type": "stream",
       "stream": "stdout",
       "text": [
        "\n",
        "Reading files from /home/joth/projects/2014-12-20_datascibowl/competition_data/train/chaetognath_sagitta"
       ]
      },
      {
       "output_type": "stream",
       "stream": "stdout",
       "text": [
        "\n",
        "Reading files from /home/joth/projects/2014-12-20_datascibowl/competition_data/train/chordate_type1"
       ]
      },
      {
       "output_type": "stream",
       "stream": "stdout",
       "text": [
        "\n",
        "Reading files from /home/joth/projects/2014-12-20_datascibowl/competition_data/train/copepod_calanoid"
       ]
      },
      {
       "output_type": "stream",
       "stream": "stdout",
       "text": [
        "\n",
        "Reading files from /home/joth/projects/2014-12-20_datascibowl/competition_data/train/copepod_calanoid_eggs"
       ]
      },
      {
       "output_type": "stream",
       "stream": "stdout",
       "text": [
        "\n",
        "Reading files from /home/joth/projects/2014-12-20_datascibowl/competition_data/train/copepod_calanoid_eucalanus"
       ]
      },
      {
       "output_type": "stream",
       "stream": "stdout",
       "text": [
        "\n",
        "Reading files from /home/joth/projects/2014-12-20_datascibowl/competition_data/train/copepod_calanoid_flatheads"
       ]
      },
      {
       "output_type": "stream",
       "stream": "stdout",
       "text": [
        "\n",
        "Reading files from /home/joth/projects/2014-12-20_datascibowl/competition_data/train/copepod_calanoid_frillyAntennae"
       ]
      },
      {
       "output_type": "stream",
       "stream": "stdout",
       "text": [
        "\n",
        "Reading files from /home/joth/projects/2014-12-20_datascibowl/competition_data/train/copepod_calanoid_large\n",
        "Reading files from /home/joth/projects/2014-12-20_datascibowl/competition_data/train/copepod_calanoid_large_side_antennatucked"
       ]
      },
      {
       "output_type": "stream",
       "stream": "stdout",
       "text": [
        "\n",
        "Reading files from /home/joth/projects/2014-12-20_datascibowl/competition_data/train/copepod_calanoid_octomoms"
       ]
      },
      {
       "output_type": "stream",
       "stream": "stdout",
       "text": [
        "\n",
        "Reading files from /home/joth/projects/2014-12-20_datascibowl/competition_data/train/copepod_calanoid_small_longantennae\n",
        "Reading files from /home/joth/projects/2014-12-20_datascibowl/competition_data/train/copepod_cyclopoid_copilia"
       ]
      },
      {
       "output_type": "stream",
       "stream": "stdout",
       "text": [
        "\n",
        "Reading files from /home/joth/projects/2014-12-20_datascibowl/competition_data/train/copepod_cyclopoid_oithona\n",
        "Reading files from /home/joth/projects/2014-12-20_datascibowl/competition_data/train/copepod_cyclopoid_oithona_eggs"
       ]
      },
      {
       "output_type": "stream",
       "stream": "stdout",
       "text": [
        "\n",
        "Reading files from /home/joth/projects/2014-12-20_datascibowl/competition_data/train/copepod_other"
       ]
      },
      {
       "output_type": "stream",
       "stream": "stdout",
       "text": [
        "\n",
        "Reading files from /home/joth/projects/2014-12-20_datascibowl/competition_data/train/crustacean_other\n",
        "Reading files from /home/joth/projects/2014-12-20_datascibowl/competition_data/train/ctenophore_cestid"
       ]
      },
      {
       "output_type": "stream",
       "stream": "stdout",
       "text": [
        "\n",
        "Reading files from /home/joth/projects/2014-12-20_datascibowl/competition_data/train/ctenophore_cydippid_no_tentacles"
       ]
      },
      {
       "output_type": "stream",
       "stream": "stdout",
       "text": [
        "\n",
        "Reading files from /home/joth/projects/2014-12-20_datascibowl/competition_data/train/ctenophore_cydippid_tentacles\n",
        "Reading files from /home/joth/projects/2014-12-20_datascibowl/competition_data/train/ctenophore_lobate"
       ]
      },
      {
       "output_type": "stream",
       "stream": "stdout",
       "text": [
        "\n",
        "Reading files from /home/joth/projects/2014-12-20_datascibowl/competition_data/train/decapods\n",
        "Reading files from /home/joth/projects/2014-12-20_datascibowl/competition_data/train/detritus_blob"
       ]
      },
      {
       "output_type": "stream",
       "stream": "stdout",
       "text": [
        "\n",
        "Reading files from /home/joth/projects/2014-12-20_datascibowl/competition_data/train/detritus_filamentous"
       ]
      },
      {
       "output_type": "stream",
       "stream": "stdout",
       "text": [
        "\n",
        "Reading files from /home/joth/projects/2014-12-20_datascibowl/competition_data/train/detritus_other"
       ]
      },
      {
       "output_type": "stream",
       "stream": "stdout",
       "text": [
        "\n",
        "Reading files from /home/joth/projects/2014-12-20_datascibowl/competition_data/train/diatom_chain_string"
       ]
      },
      {
       "output_type": "stream",
       "stream": "stdout",
       "text": [
        "\n",
        "Reading files from /home/joth/projects/2014-12-20_datascibowl/competition_data/train/diatom_chain_tube"
       ]
      },
      {
       "output_type": "stream",
       "stream": "stdout",
       "text": [
        "\n",
        "Reading files from /home/joth/projects/2014-12-20_datascibowl/competition_data/train/echinoderm_larva_pluteus_brittlestar"
       ]
      },
      {
       "output_type": "stream",
       "stream": "stdout",
       "text": [
        "\n",
        "Reading files from /home/joth/projects/2014-12-20_datascibowl/competition_data/train/echinoderm_larva_pluteus_early\n",
        "Reading files from /home/joth/projects/2014-12-20_datascibowl/competition_data/train/echinoderm_larva_pluteus_typeC"
       ]
      },
      {
       "output_type": "stream",
       "stream": "stdout",
       "text": [
        "\n",
        "Reading files from /home/joth/projects/2014-12-20_datascibowl/competition_data/train/echinoderm_larva_pluteus_urchin"
       ]
      },
      {
       "output_type": "stream",
       "stream": "stdout",
       "text": [
        "\n",
        "Reading files from /home/joth/projects/2014-12-20_datascibowl/competition_data/train/echinoderm_larva_seastar_bipinnaria"
       ]
      },
      {
       "output_type": "stream",
       "stream": "stdout",
       "text": [
        "\n",
        "Reading files from /home/joth/projects/2014-12-20_datascibowl/competition_data/train/echinoderm_larva_seastar_brachiolaria"
       ]
      },
      {
       "output_type": "stream",
       "stream": "stdout",
       "text": [
        "\n",
        "Reading files from /home/joth/projects/2014-12-20_datascibowl/competition_data/train/echinoderm_seacucumber_auricularia_larva"
       ]
      },
      {
       "output_type": "stream",
       "stream": "stdout",
       "text": [
        "\n",
        "Reading files from /home/joth/projects/2014-12-20_datascibowl/competition_data/train/echinopluteus"
       ]
      },
      {
       "output_type": "stream",
       "stream": "stdout",
       "text": [
        "\n",
        "Reading files from /home/joth/projects/2014-12-20_datascibowl/competition_data/train/ephyra\n",
        "Reading files from /home/joth/projects/2014-12-20_datascibowl/competition_data/train/euphausiids\n",
        "Reading files from /home/joth/projects/2014-12-20_datascibowl/competition_data/train/euphausiids_young"
       ]
      },
      {
       "output_type": "stream",
       "stream": "stdout",
       "text": [
        "\n",
        "Reading files from /home/joth/projects/2014-12-20_datascibowl/competition_data/train/fecal_pellet\n",
        "Reading files from /home/joth/projects/2014-12-20_datascibowl/competition_data/train/fish_larvae_deep_body"
       ]
      },
      {
       "output_type": "stream",
       "stream": "stdout",
       "text": [
        "\n",
        "Reading files from /home/joth/projects/2014-12-20_datascibowl/competition_data/train/fish_larvae_leptocephali\n",
        "Reading files from /home/joth/projects/2014-12-20_datascibowl/competition_data/train/fish_larvae_medium_body\n",
        "Reading files from /home/joth/projects/2014-12-20_datascibowl/competition_data/train/fish_larvae_myctophids"
       ]
      },
      {
       "output_type": "stream",
       "stream": "stdout",
       "text": [
        "\n",
        "Reading files from /home/joth/projects/2014-12-20_datascibowl/competition_data/train/fish_larvae_thin_body"
       ]
      },
      {
       "output_type": "stream",
       "stream": "stdout",
       "text": [
        "\n",
        "Reading files from /home/joth/projects/2014-12-20_datascibowl/competition_data/train/fish_larvae_very_thin_body"
       ]
      },
      {
       "output_type": "stream",
       "stream": "stdout",
       "text": [
        "\n",
        "Reading files from /home/joth/projects/2014-12-20_datascibowl/competition_data/train/heteropod\n",
        "Reading files from /home/joth/projects/2014-12-20_datascibowl/competition_data/train/hydromedusae_aglaura\n",
        "Reading files from /home/joth/projects/2014-12-20_datascibowl/competition_data/train/hydromedusae_bell_and_tentacles"
       ]
      },
      {
       "output_type": "stream",
       "stream": "stdout",
       "text": [
        "\n",
        "Reading files from /home/joth/projects/2014-12-20_datascibowl/competition_data/train/hydromedusae_h15"
       ]
      },
      {
       "output_type": "stream",
       "stream": "stdout",
       "text": [
        "\n",
        "Reading files from /home/joth/projects/2014-12-20_datascibowl/competition_data/train/hydromedusae_haliscera\n",
        "Reading files from /home/joth/projects/2014-12-20_datascibowl/competition_data/train/hydromedusae_haliscera_small_sideview"
       ]
      },
      {
       "output_type": "stream",
       "stream": "stdout",
       "text": [
        "\n",
        "Reading files from /home/joth/projects/2014-12-20_datascibowl/competition_data/train/hydromedusae_liriope\n",
        "Reading files from /home/joth/projects/2014-12-20_datascibowl/competition_data/train/hydromedusae_narco_dark\n",
        "Reading files from /home/joth/projects/2014-12-20_datascibowl/competition_data/train/hydromedusae_narco_young\n",
        "Reading files from /home/joth/projects/2014-12-20_datascibowl/competition_data/train/hydromedusae_narcomedusae"
       ]
      },
      {
       "output_type": "stream",
       "stream": "stdout",
       "text": [
        "\n",
        "Reading files from /home/joth/projects/2014-12-20_datascibowl/competition_data/train/hydromedusae_other"
       ]
      },
      {
       "output_type": "stream",
       "stream": "stdout",
       "text": [
        "\n",
        "Reading files from /home/joth/projects/2014-12-20_datascibowl/competition_data/train/hydromedusae_partial_dark\n",
        "Reading files from /home/joth/projects/2014-12-20_datascibowl/competition_data/train/hydromedusae_shapeA"
       ]
      },
      {
       "output_type": "stream",
       "stream": "stdout",
       "text": [
        "\n",
        "Reading files from /home/joth/projects/2014-12-20_datascibowl/competition_data/train/hydromedusae_shapeA_sideview_small"
       ]
      },
      {
       "output_type": "stream",
       "stream": "stdout",
       "text": [
        "\n",
        "Reading files from /home/joth/projects/2014-12-20_datascibowl/competition_data/train/hydromedusae_shapeB"
       ]
      },
      {
       "output_type": "stream",
       "stream": "stdout",
       "text": [
        "\n",
        "Reading files from /home/joth/projects/2014-12-20_datascibowl/competition_data/train/hydromedusae_sideview_big"
       ]
      },
      {
       "output_type": "stream",
       "stream": "stdout",
       "text": [
        "\n",
        "Reading files from /home/joth/projects/2014-12-20_datascibowl/competition_data/train/hydromedusae_solmaris"
       ]
      },
      {
       "output_type": "stream",
       "stream": "stdout",
       "text": [
        "\n",
        "Reading files from /home/joth/projects/2014-12-20_datascibowl/competition_data/train/hydromedusae_solmundella"
       ]
      },
      {
       "output_type": "stream",
       "stream": "stdout",
       "text": [
        "\n",
        "Reading files from /home/joth/projects/2014-12-20_datascibowl/competition_data/train/hydromedusae_typeD"
       ]
      },
      {
       "output_type": "stream",
       "stream": "stdout",
       "text": [
        "\n",
        "Reading files from /home/joth/projects/2014-12-20_datascibowl/competition_data/train/hydromedusae_typeD_bell_and_tentacles\n",
        "Reading files from /home/joth/projects/2014-12-20_datascibowl/competition_data/train/hydromedusae_typeE"
       ]
      },
      {
       "output_type": "stream",
       "stream": "stdout",
       "text": [
        "\n",
        "Reading files from /home/joth/projects/2014-12-20_datascibowl/competition_data/train/hydromedusae_typeF\n",
        "Reading files from /home/joth/projects/2014-12-20_datascibowl/competition_data/train/invertebrate_larvae_other_A"
       ]
      },
      {
       "output_type": "stream",
       "stream": "stdout",
       "text": [
        "\n",
        "Reading files from /home/joth/projects/2014-12-20_datascibowl/competition_data/train/invertebrate_larvae_other_B\n",
        "Reading files from /home/joth/projects/2014-12-20_datascibowl/competition_data/train/jellies_tentacles\n",
        "Reading files from /home/joth/projects/2014-12-20_datascibowl/competition_data/train/polychaete"
       ]
      },
      {
       "output_type": "stream",
       "stream": "stdout",
       "text": [
        "\n",
        "Reading files from /home/joth/projects/2014-12-20_datascibowl/competition_data/train/protist_dark_center"
       ]
      },
      {
       "output_type": "stream",
       "stream": "stdout",
       "text": [
        "\n",
        "Reading files from /home/joth/projects/2014-12-20_datascibowl/competition_data/train/protist_fuzzy_olive"
       ]
      },
      {
       "output_type": "stream",
       "stream": "stdout",
       "text": [
        "\n",
        "Reading files from /home/joth/projects/2014-12-20_datascibowl/competition_data/train/protist_noctiluca"
       ]
      },
      {
       "output_type": "stream",
       "stream": "stdout",
       "text": [
        "\n",
        "Reading files from /home/joth/projects/2014-12-20_datascibowl/competition_data/train/protist_other"
       ]
      },
      {
       "output_type": "stream",
       "stream": "stdout",
       "text": [
        "\n",
        "Reading files from /home/joth/projects/2014-12-20_datascibowl/competition_data/train/protist_star"
       ]
      },
      {
       "output_type": "stream",
       "stream": "stdout",
       "text": [
        "\n",
        "Reading files from /home/joth/projects/2014-12-20_datascibowl/competition_data/train/pteropod_butterfly"
       ]
      },
      {
       "output_type": "stream",
       "stream": "stdout",
       "text": [
        "\n",
        "Reading files from /home/joth/projects/2014-12-20_datascibowl/competition_data/train/pteropod_theco_dev_seq"
       ]
      },
      {
       "output_type": "stream",
       "stream": "stdout",
       "text": [
        "\n",
        "Reading files from /home/joth/projects/2014-12-20_datascibowl/competition_data/train/pteropod_triangle\n",
        "Reading files from /home/joth/projects/2014-12-20_datascibowl/competition_data/train/radiolarian_chain"
       ]
      },
      {
       "output_type": "stream",
       "stream": "stdout",
       "text": [
        "\n",
        "Reading files from /home/joth/projects/2014-12-20_datascibowl/competition_data/train/radiolarian_colony"
       ]
      },
      {
       "output_type": "stream",
       "stream": "stdout",
       "text": [
        "\n",
        "Reading files from /home/joth/projects/2014-12-20_datascibowl/competition_data/train/shrimp-like_other"
       ]
      },
      {
       "output_type": "stream",
       "stream": "stdout",
       "text": [
        "\n",
        "Reading files from /home/joth/projects/2014-12-20_datascibowl/competition_data/train/shrimp_caridean\n",
        "Reading files from /home/joth/projects/2014-12-20_datascibowl/competition_data/train/shrimp_sergestidae"
       ]
      },
      {
       "output_type": "stream",
       "stream": "stdout",
       "text": [
        "\n",
        "Reading files from /home/joth/projects/2014-12-20_datascibowl/competition_data/train/shrimp_zoea"
       ]
      },
      {
       "output_type": "stream",
       "stream": "stdout",
       "text": [
        "\n",
        "Reading files from /home/joth/projects/2014-12-20_datascibowl/competition_data/train/siphonophore_calycophoran_abylidae"
       ]
      },
      {
       "output_type": "stream",
       "stream": "stdout",
       "text": [
        "\n",
        "Reading files from /home/joth/projects/2014-12-20_datascibowl/competition_data/train/siphonophore_calycophoran_rocketship_adult"
       ]
      },
      {
       "output_type": "stream",
       "stream": "stdout",
       "text": [
        "\n",
        "Reading files from /home/joth/projects/2014-12-20_datascibowl/competition_data/train/siphonophore_calycophoran_rocketship_young"
       ]
      },
      {
       "output_type": "stream",
       "stream": "stdout",
       "text": [
        "\n",
        "Reading files from /home/joth/projects/2014-12-20_datascibowl/competition_data/train/siphonophore_calycophoran_sphaeronectes"
       ]
      },
      {
       "output_type": "stream",
       "stream": "stdout",
       "text": [
        "\n",
        "Reading files from /home/joth/projects/2014-12-20_datascibowl/competition_data/train/siphonophore_calycophoran_sphaeronectes_stem"
       ]
      },
      {
       "output_type": "stream",
       "stream": "stdout",
       "text": [
        "\n",
        "Reading files from /home/joth/projects/2014-12-20_datascibowl/competition_data/train/siphonophore_calycophoran_sphaeronectes_young\n",
        "Reading files from /home/joth/projects/2014-12-20_datascibowl/competition_data/train/siphonophore_other_parts"
       ]
      },
      {
       "output_type": "stream",
       "stream": "stdout",
       "text": [
        "\n",
        "Reading files from /home/joth/projects/2014-12-20_datascibowl/competition_data/train/siphonophore_partial\n",
        "Reading files from /home/joth/projects/2014-12-20_datascibowl/competition_data/train/siphonophore_physonect\n",
        "Reading files from /home/joth/projects/2014-12-20_datascibowl/competition_data/train/siphonophore_physonect_young"
       ]
      },
      {
       "output_type": "stream",
       "stream": "stdout",
       "text": [
        "\n",
        "Reading files from /home/joth/projects/2014-12-20_datascibowl/competition_data/train/stomatopod\n",
        "Reading files from /home/joth/projects/2014-12-20_datascibowl/competition_data/train/tornaria_acorn_worm_larvae\n",
        "Reading files from /home/joth/projects/2014-12-20_datascibowl/competition_data/train/trichodesmium_bowtie"
       ]
      },
      {
       "output_type": "stream",
       "stream": "stdout",
       "text": [
        "\n",
        "Reading files from /home/joth/projects/2014-12-20_datascibowl/competition_data/train/trichodesmium_multiple"
       ]
      },
      {
       "output_type": "stream",
       "stream": "stdout",
       "text": [
        "\n",
        "Reading files from /home/joth/projects/2014-12-20_datascibowl/competition_data/train/trichodesmium_puff\n",
        "Reading files from /home/joth/projects/2014-12-20_datascibowl/competition_data/train/trichodesmium_tuft"
       ]
      },
      {
       "output_type": "stream",
       "stream": "stdout",
       "text": [
        "\n",
        "Reading files from /home/joth/projects/2014-12-20_datascibowl/competition_data/train/trochophore_larvae"
       ]
      },
      {
       "output_type": "stream",
       "stream": "stdout",
       "text": [
        "\n",
        "Reading files from /home/joth/projects/2014-12-20_datascibowl/competition_data/train/tunicate_doliolid\n",
        "Reading files from /home/joth/projects/2014-12-20_datascibowl/competition_data/train/tunicate_doliolid_nurse"
       ]
      },
      {
       "output_type": "stream",
       "stream": "stdout",
       "text": [
        "\n",
        "Reading files from /home/joth/projects/2014-12-20_datascibowl/competition_data/train/tunicate_partial"
       ]
      },
      {
       "output_type": "stream",
       "stream": "stdout",
       "text": [
        "\n",
        "Reading files from /home/joth/projects/2014-12-20_datascibowl/competition_data/train/tunicate_salp"
       ]
      },
      {
       "output_type": "stream",
       "stream": "stdout",
       "text": [
        "\n",
        "Reading files from /home/joth/projects/2014-12-20_datascibowl/competition_data/train/tunicate_salp_chains"
       ]
      },
      {
       "output_type": "stream",
       "stream": "stdout",
       "text": [
        "\n",
        "Reading files from /home/joth/projects/2014-12-20_datascibowl/competition_data/train/unknown_blobs_and_smudges"
       ]
      },
      {
       "output_type": "stream",
       "stream": "stdout",
       "text": [
        "\n",
        "Reading files from /home/joth/projects/2014-12-20_datascibowl/competition_data/train/unknown_sticks"
       ]
      },
      {
       "output_type": "stream",
       "stream": "stdout",
       "text": [
        "\n",
        "Reading files from /home/joth/projects/2014-12-20_datascibowl/competition_data/train/unknown_unclassified"
       ]
      },
      {
       "output_type": "stream",
       "stream": "stdout",
       "text": [
        "\n",
        "topo_view.shape: (30336, 32, 32, 1)"
       ]
      },
      {
       "output_type": "stream",
       "stream": "stdout",
       "text": [
        "\n",
        "NAs: 0\n",
        "Swapping 0 and 24158\n",
        "Swapping 1000 and 507\n",
        "Swapping 2000 and 10329"
       ]
      },
      {
       "output_type": "stream",
       "stream": "stdout",
       "text": [
        "\n",
        "Swapping 3000 and 12566\n",
        "Swapping 4000 and 5782\n",
        "Swapping 5000 and 14421\n",
        "Swapping 6000 and 25855\n",
        "Swapping 7000 and 19226\n",
        "Swapping 8000 and 5480"
       ]
      },
      {
       "output_type": "stream",
       "stream": "stdout",
       "text": [
        "\n",
        "Swapping 9000 and 14824\n",
        "Swapping 10000 and 7481\n",
        "Swapping 11000 and 4899\n",
        "Swapping 12000 and 547\n",
        "Swapping 13000 and 17117\n",
        "Swapping 14000 and 15848"
       ]
      },
      {
       "output_type": "stream",
       "stream": "stdout",
       "text": [
        "\n",
        "Swapping 15000 and 26705\n",
        "Swapping 16000 and 11752\n",
        "Swapping 17000 and 13157\n",
        "Swapping 18000 and 19743\n",
        "Swapping 19000 and 29262\n",
        "Swapping 20000 and 10984"
       ]
      },
      {
       "output_type": "stream",
       "stream": "stdout",
       "text": [
        "\n",
        "Swapping 21000 and 9312\n",
        "Swapping 22000 and 14681\n",
        "Swapping 23000 and 22392\n",
        "Swapping 24000 and 8749\n",
        "Swapping 25000 and 14310\n",
        "Swapping 26000 and 223"
       ]
      },
      {
       "output_type": "stream",
       "stream": "stdout",
       "text": [
        "\n",
        "Swapping 27000 and 9727\n",
        "Swapping 28000 and 13098\n",
        "Swapping 29000 and 4946\n",
        "Swapping 30000 and 19434\n",
        "Looking for data in /home/joth/projects/2014-12-20_datascibowl/competition_data/train"
       ]
      },
      {
       "output_type": "stream",
       "stream": "stdout",
       "text": [
        "\n",
        "Found 30336 images"
       ]
      },
      {
       "output_type": "stream",
       "stream": "stdout",
       "text": [
        "\n",
        "Reading files from /home/joth/projects/2014-12-20_datascibowl/competition_data/train/acantharia_protist\n",
        "Reading files from /home/joth/projects/2014-12-20_datascibowl/competition_data/train/acantharia_protist_big_center"
       ]
      },
      {
       "output_type": "stream",
       "stream": "stdout",
       "text": [
        "\n",
        "Reading files from /home/joth/projects/2014-12-20_datascibowl/competition_data/train/acantharia_protist_halo\n",
        "Reading files from /home/joth/projects/2014-12-20_datascibowl/competition_data/train/amphipods"
       ]
      },
      {
       "output_type": "stream",
       "stream": "stdout",
       "text": [
        "\n",
        "Reading files from /home/joth/projects/2014-12-20_datascibowl/competition_data/train/appendicularian_fritillaridae\n",
        "Reading files from /home/joth/projects/2014-12-20_datascibowl/competition_data/train/appendicularian_s_shape"
       ]
      },
      {
       "output_type": "stream",
       "stream": "stdout",
       "text": [
        "\n",
        "Reading files from /home/joth/projects/2014-12-20_datascibowl/competition_data/train/appendicularian_slight_curve"
       ]
      },
      {
       "output_type": "stream",
       "stream": "stdout",
       "text": [
        "\n",
        "Reading files from /home/joth/projects/2014-12-20_datascibowl/competition_data/train/appendicularian_straight"
       ]
      },
      {
       "output_type": "stream",
       "stream": "stdout",
       "text": [
        "\n",
        "Reading files from /home/joth/projects/2014-12-20_datascibowl/competition_data/train/artifacts"
       ]
      },
      {
       "output_type": "stream",
       "stream": "stdout",
       "text": [
        "\n",
        "Reading files from /home/joth/projects/2014-12-20_datascibowl/competition_data/train/artifacts_edge"
       ]
      },
      {
       "output_type": "stream",
       "stream": "stdout",
       "text": [
        "\n",
        "Reading files from /home/joth/projects/2014-12-20_datascibowl/competition_data/train/chaetognath_non_sagitta"
       ]
      },
      {
       "output_type": "stream",
       "stream": "stdout",
       "text": [
        "\n",
        "Reading files from /home/joth/projects/2014-12-20_datascibowl/competition_data/train/chaetognath_other"
       ]
      },
      {
       "output_type": "stream",
       "stream": "stdout",
       "text": [
        "\n",
        "Reading files from /home/joth/projects/2014-12-20_datascibowl/competition_data/train/chaetognath_sagitta"
       ]
      },
      {
       "output_type": "stream",
       "stream": "stdout",
       "text": [
        "\n",
        "Reading files from /home/joth/projects/2014-12-20_datascibowl/competition_data/train/chordate_type1"
       ]
      },
      {
       "output_type": "stream",
       "stream": "stdout",
       "text": [
        "\n",
        "Reading files from /home/joth/projects/2014-12-20_datascibowl/competition_data/train/copepod_calanoid"
       ]
      },
      {
       "output_type": "stream",
       "stream": "stdout",
       "text": [
        "\n",
        "Reading files from /home/joth/projects/2014-12-20_datascibowl/competition_data/train/copepod_calanoid_eggs"
       ]
      },
      {
       "output_type": "stream",
       "stream": "stdout",
       "text": [
        "\n",
        "Reading files from /home/joth/projects/2014-12-20_datascibowl/competition_data/train/copepod_calanoid_eucalanus"
       ]
      },
      {
       "output_type": "stream",
       "stream": "stdout",
       "text": [
        "\n",
        "Reading files from /home/joth/projects/2014-12-20_datascibowl/competition_data/train/copepod_calanoid_flatheads"
       ]
      },
      {
       "output_type": "stream",
       "stream": "stdout",
       "text": [
        "\n",
        "Reading files from /home/joth/projects/2014-12-20_datascibowl/competition_data/train/copepod_calanoid_frillyAntennae"
       ]
      },
      {
       "output_type": "stream",
       "stream": "stdout",
       "text": [
        "\n",
        "Reading files from /home/joth/projects/2014-12-20_datascibowl/competition_data/train/copepod_calanoid_large\n",
        "Reading files from /home/joth/projects/2014-12-20_datascibowl/competition_data/train/copepod_calanoid_large_side_antennatucked"
       ]
      },
      {
       "output_type": "stream",
       "stream": "stdout",
       "text": [
        "\n",
        "Reading files from /home/joth/projects/2014-12-20_datascibowl/competition_data/train/copepod_calanoid_octomoms"
       ]
      },
      {
       "output_type": "stream",
       "stream": "stdout",
       "text": [
        "\n",
        "Reading files from /home/joth/projects/2014-12-20_datascibowl/competition_data/train/copepod_calanoid_small_longantennae\n",
        "Reading files from /home/joth/projects/2014-12-20_datascibowl/competition_data/train/copepod_cyclopoid_copilia"
       ]
      },
      {
       "output_type": "stream",
       "stream": "stdout",
       "text": [
        "\n",
        "Reading files from /home/joth/projects/2014-12-20_datascibowl/competition_data/train/copepod_cyclopoid_oithona\n",
        "Reading files from /home/joth/projects/2014-12-20_datascibowl/competition_data/train/copepod_cyclopoid_oithona_eggs"
       ]
      },
      {
       "output_type": "stream",
       "stream": "stdout",
       "text": [
        "\n",
        "Reading files from /home/joth/projects/2014-12-20_datascibowl/competition_data/train/copepod_other"
       ]
      },
      {
       "output_type": "stream",
       "stream": "stdout",
       "text": [
        "\n",
        "Reading files from /home/joth/projects/2014-12-20_datascibowl/competition_data/train/crustacean_other\n",
        "Reading files from /home/joth/projects/2014-12-20_datascibowl/competition_data/train/ctenophore_cestid"
       ]
      },
      {
       "output_type": "stream",
       "stream": "stdout",
       "text": [
        "\n",
        "Reading files from /home/joth/projects/2014-12-20_datascibowl/competition_data/train/ctenophore_cydippid_no_tentacles"
       ]
      },
      {
       "output_type": "stream",
       "stream": "stdout",
       "text": [
        "\n",
        "Reading files from /home/joth/projects/2014-12-20_datascibowl/competition_data/train/ctenophore_cydippid_tentacles\n",
        "Reading files from /home/joth/projects/2014-12-20_datascibowl/competition_data/train/ctenophore_lobate"
       ]
      },
      {
       "output_type": "stream",
       "stream": "stdout",
       "text": [
        "\n",
        "Reading files from /home/joth/projects/2014-12-20_datascibowl/competition_data/train/decapods\n",
        "Reading files from /home/joth/projects/2014-12-20_datascibowl/competition_data/train/detritus_blob"
       ]
      },
      {
       "output_type": "stream",
       "stream": "stdout",
       "text": [
        "\n",
        "Reading files from /home/joth/projects/2014-12-20_datascibowl/competition_data/train/detritus_filamentous"
       ]
      },
      {
       "output_type": "stream",
       "stream": "stdout",
       "text": [
        "\n",
        "Reading files from /home/joth/projects/2014-12-20_datascibowl/competition_data/train/detritus_other"
       ]
      },
      {
       "output_type": "stream",
       "stream": "stdout",
       "text": [
        "\n",
        "Reading files from /home/joth/projects/2014-12-20_datascibowl/competition_data/train/diatom_chain_string"
       ]
      },
      {
       "output_type": "stream",
       "stream": "stdout",
       "text": [
        "\n",
        "Reading files from /home/joth/projects/2014-12-20_datascibowl/competition_data/train/diatom_chain_tube"
       ]
      },
      {
       "output_type": "stream",
       "stream": "stdout",
       "text": [
        "\n",
        "Reading files from /home/joth/projects/2014-12-20_datascibowl/competition_data/train/echinoderm_larva_pluteus_brittlestar"
       ]
      },
      {
       "output_type": "stream",
       "stream": "stdout",
       "text": [
        "\n",
        "Reading files from /home/joth/projects/2014-12-20_datascibowl/competition_data/train/echinoderm_larva_pluteus_early\n",
        "Reading files from /home/joth/projects/2014-12-20_datascibowl/competition_data/train/echinoderm_larva_pluteus_typeC"
       ]
      },
      {
       "output_type": "stream",
       "stream": "stdout",
       "text": [
        "\n",
        "Reading files from /home/joth/projects/2014-12-20_datascibowl/competition_data/train/echinoderm_larva_pluteus_urchin"
       ]
      },
      {
       "output_type": "stream",
       "stream": "stdout",
       "text": [
        "\n",
        "Reading files from /home/joth/projects/2014-12-20_datascibowl/competition_data/train/echinoderm_larva_seastar_bipinnaria"
       ]
      },
      {
       "output_type": "stream",
       "stream": "stdout",
       "text": [
        "\n",
        "Reading files from /home/joth/projects/2014-12-20_datascibowl/competition_data/train/echinoderm_larva_seastar_brachiolaria"
       ]
      },
      {
       "output_type": "stream",
       "stream": "stdout",
       "text": [
        "\n",
        "Reading files from /home/joth/projects/2014-12-20_datascibowl/competition_data/train/echinoderm_seacucumber_auricularia_larva"
       ]
      },
      {
       "output_type": "stream",
       "stream": "stdout",
       "text": [
        "\n",
        "Reading files from /home/joth/projects/2014-12-20_datascibowl/competition_data/train/echinopluteus"
       ]
      },
      {
       "output_type": "stream",
       "stream": "stdout",
       "text": [
        "\n",
        "Reading files from /home/joth/projects/2014-12-20_datascibowl/competition_data/train/ephyra\n",
        "Reading files from /home/joth/projects/2014-12-20_datascibowl/competition_data/train/euphausiids\n",
        "Reading files from /home/joth/projects/2014-12-20_datascibowl/competition_data/train/euphausiids_young"
       ]
      },
      {
       "output_type": "stream",
       "stream": "stdout",
       "text": [
        "\n",
        "Reading files from /home/joth/projects/2014-12-20_datascibowl/competition_data/train/fecal_pellet\n",
        "Reading files from /home/joth/projects/2014-12-20_datascibowl/competition_data/train/fish_larvae_deep_body"
       ]
      },
      {
       "output_type": "stream",
       "stream": "stdout",
       "text": [
        "\n",
        "Reading files from /home/joth/projects/2014-12-20_datascibowl/competition_data/train/fish_larvae_leptocephali\n",
        "Reading files from /home/joth/projects/2014-12-20_datascibowl/competition_data/train/fish_larvae_medium_body\n",
        "Reading files from /home/joth/projects/2014-12-20_datascibowl/competition_data/train/fish_larvae_myctophids"
       ]
      },
      {
       "output_type": "stream",
       "stream": "stdout",
       "text": [
        "\n",
        "Reading files from /home/joth/projects/2014-12-20_datascibowl/competition_data/train/fish_larvae_thin_body"
       ]
      },
      {
       "output_type": "stream",
       "stream": "stdout",
       "text": [
        "\n",
        "Reading files from /home/joth/projects/2014-12-20_datascibowl/competition_data/train/fish_larvae_very_thin_body\n",
        "Reading files from /home/joth/projects/2014-12-20_datascibowl/competition_data/train/heteropod"
       ]
      },
      {
       "output_type": "stream",
       "stream": "stdout",
       "text": [
        "\n",
        "Reading files from /home/joth/projects/2014-12-20_datascibowl/competition_data/train/hydromedusae_aglaura\n",
        "Reading files from /home/joth/projects/2014-12-20_datascibowl/competition_data/train/hydromedusae_bell_and_tentacles"
       ]
      },
      {
       "output_type": "stream",
       "stream": "stdout",
       "text": [
        "\n",
        "Reading files from /home/joth/projects/2014-12-20_datascibowl/competition_data/train/hydromedusae_h15"
       ]
      },
      {
       "output_type": "stream",
       "stream": "stdout",
       "text": [
        "\n",
        "Reading files from /home/joth/projects/2014-12-20_datascibowl/competition_data/train/hydromedusae_haliscera\n",
        "Reading files from /home/joth/projects/2014-12-20_datascibowl/competition_data/train/hydromedusae_haliscera_small_sideview"
       ]
      },
      {
       "output_type": "stream",
       "stream": "stdout",
       "text": [
        "\n",
        "Reading files from /home/joth/projects/2014-12-20_datascibowl/competition_data/train/hydromedusae_liriope\n",
        "Reading files from /home/joth/projects/2014-12-20_datascibowl/competition_data/train/hydromedusae_narco_dark\n",
        "Reading files from /home/joth/projects/2014-12-20_datascibowl/competition_data/train/hydromedusae_narco_young\n",
        "Reading files from /home/joth/projects/2014-12-20_datascibowl/competition_data/train/hydromedusae_narcomedusae"
       ]
      },
      {
       "output_type": "stream",
       "stream": "stdout",
       "text": [
        "\n",
        "Reading files from /home/joth/projects/2014-12-20_datascibowl/competition_data/train/hydromedusae_other"
       ]
      },
      {
       "output_type": "stream",
       "stream": "stdout",
       "text": [
        "\n",
        "Reading files from /home/joth/projects/2014-12-20_datascibowl/competition_data/train/hydromedusae_partial_dark\n",
        "Reading files from /home/joth/projects/2014-12-20_datascibowl/competition_data/train/hydromedusae_shapeA"
       ]
      },
      {
       "output_type": "stream",
       "stream": "stdout",
       "text": [
        "\n",
        "Reading files from /home/joth/projects/2014-12-20_datascibowl/competition_data/train/hydromedusae_shapeA_sideview_small"
       ]
      },
      {
       "output_type": "stream",
       "stream": "stdout",
       "text": [
        "\n",
        "Reading files from /home/joth/projects/2014-12-20_datascibowl/competition_data/train/hydromedusae_shapeB"
       ]
      },
      {
       "output_type": "stream",
       "stream": "stdout",
       "text": [
        "\n",
        "Reading files from /home/joth/projects/2014-12-20_datascibowl/competition_data/train/hydromedusae_sideview_big"
       ]
      },
      {
       "output_type": "stream",
       "stream": "stdout",
       "text": [
        "\n",
        "Reading files from /home/joth/projects/2014-12-20_datascibowl/competition_data/train/hydromedusae_solmaris"
       ]
      },
      {
       "output_type": "stream",
       "stream": "stdout",
       "text": [
        "\n",
        "Reading files from /home/joth/projects/2014-12-20_datascibowl/competition_data/train/hydromedusae_solmundella"
       ]
      },
      {
       "output_type": "stream",
       "stream": "stdout",
       "text": [
        "\n",
        "Reading files from /home/joth/projects/2014-12-20_datascibowl/competition_data/train/hydromedusae_typeD"
       ]
      },
      {
       "output_type": "stream",
       "stream": "stdout",
       "text": [
        "\n",
        "Reading files from /home/joth/projects/2014-12-20_datascibowl/competition_data/train/hydromedusae_typeD_bell_and_tentacles\n",
        "Reading files from /home/joth/projects/2014-12-20_datascibowl/competition_data/train/hydromedusae_typeE"
       ]
      },
      {
       "output_type": "stream",
       "stream": "stdout",
       "text": [
        "\n",
        "Reading files from /home/joth/projects/2014-12-20_datascibowl/competition_data/train/hydromedusae_typeF\n",
        "Reading files from /home/joth/projects/2014-12-20_datascibowl/competition_data/train/invertebrate_larvae_other_A"
       ]
      },
      {
       "output_type": "stream",
       "stream": "stdout",
       "text": [
        "\n",
        "Reading files from /home/joth/projects/2014-12-20_datascibowl/competition_data/train/invertebrate_larvae_other_B\n",
        "Reading files from /home/joth/projects/2014-12-20_datascibowl/competition_data/train/jellies_tentacles\n",
        "Reading files from /home/joth/projects/2014-12-20_datascibowl/competition_data/train/polychaete"
       ]
      },
      {
       "output_type": "stream",
       "stream": "stdout",
       "text": [
        "\n",
        "Reading files from /home/joth/projects/2014-12-20_datascibowl/competition_data/train/protist_dark_center"
       ]
      },
      {
       "output_type": "stream",
       "stream": "stdout",
       "text": [
        "\n",
        "Reading files from /home/joth/projects/2014-12-20_datascibowl/competition_data/train/protist_fuzzy_olive"
       ]
      },
      {
       "output_type": "stream",
       "stream": "stdout",
       "text": [
        "\n",
        "Reading files from /home/joth/projects/2014-12-20_datascibowl/competition_data/train/protist_noctiluca"
       ]
      },
      {
       "output_type": "stream",
       "stream": "stdout",
       "text": [
        "\n",
        "Reading files from /home/joth/projects/2014-12-20_datascibowl/competition_data/train/protist_other"
       ]
      },
      {
       "output_type": "stream",
       "stream": "stdout",
       "text": [
        "\n",
        "Reading files from /home/joth/projects/2014-12-20_datascibowl/competition_data/train/protist_star"
       ]
      },
      {
       "output_type": "stream",
       "stream": "stdout",
       "text": [
        "\n",
        "Reading files from /home/joth/projects/2014-12-20_datascibowl/competition_data/train/pteropod_butterfly"
       ]
      },
      {
       "output_type": "stream",
       "stream": "stdout",
       "text": [
        "\n",
        "Reading files from /home/joth/projects/2014-12-20_datascibowl/competition_data/train/pteropod_theco_dev_seq"
       ]
      },
      {
       "output_type": "stream",
       "stream": "stdout",
       "text": [
        "\n",
        "Reading files from /home/joth/projects/2014-12-20_datascibowl/competition_data/train/pteropod_triangle\n",
        "Reading files from /home/joth/projects/2014-12-20_datascibowl/competition_data/train/radiolarian_chain"
       ]
      },
      {
       "output_type": "stream",
       "stream": "stdout",
       "text": [
        "\n",
        "Reading files from /home/joth/projects/2014-12-20_datascibowl/competition_data/train/radiolarian_colony"
       ]
      },
      {
       "output_type": "stream",
       "stream": "stdout",
       "text": [
        "\n",
        "Reading files from /home/joth/projects/2014-12-20_datascibowl/competition_data/train/shrimp-like_other"
       ]
      },
      {
       "output_type": "stream",
       "stream": "stdout",
       "text": [
        "\n",
        "Reading files from /home/joth/projects/2014-12-20_datascibowl/competition_data/train/shrimp_caridean\n",
        "Reading files from /home/joth/projects/2014-12-20_datascibowl/competition_data/train/shrimp_sergestidae"
       ]
      },
      {
       "output_type": "stream",
       "stream": "stdout",
       "text": [
        "\n",
        "Reading files from /home/joth/projects/2014-12-20_datascibowl/competition_data/train/shrimp_zoea"
       ]
      },
      {
       "output_type": "stream",
       "stream": "stdout",
       "text": [
        "\n",
        "Reading files from /home/joth/projects/2014-12-20_datascibowl/competition_data/train/siphonophore_calycophoran_abylidae"
       ]
      },
      {
       "output_type": "stream",
       "stream": "stdout",
       "text": [
        "\n",
        "Reading files from /home/joth/projects/2014-12-20_datascibowl/competition_data/train/siphonophore_calycophoran_rocketship_adult"
       ]
      },
      {
       "output_type": "stream",
       "stream": "stdout",
       "text": [
        "\n",
        "Reading files from /home/joth/projects/2014-12-20_datascibowl/competition_data/train/siphonophore_calycophoran_rocketship_young"
       ]
      },
      {
       "output_type": "stream",
       "stream": "stdout",
       "text": [
        "\n",
        "Reading files from /home/joth/projects/2014-12-20_datascibowl/competition_data/train/siphonophore_calycophoran_sphaeronectes"
       ]
      },
      {
       "output_type": "stream",
       "stream": "stdout",
       "text": [
        "\n",
        "Reading files from /home/joth/projects/2014-12-20_datascibowl/competition_data/train/siphonophore_calycophoran_sphaeronectes_stem"
       ]
      },
      {
       "output_type": "stream",
       "stream": "stdout",
       "text": [
        "\n",
        "Reading files from /home/joth/projects/2014-12-20_datascibowl/competition_data/train/siphonophore_calycophoran_sphaeronectes_young"
       ]
      },
      {
       "output_type": "stream",
       "stream": "stdout",
       "text": [
        "\n",
        "Reading files from /home/joth/projects/2014-12-20_datascibowl/competition_data/train/siphonophore_other_parts"
       ]
      },
      {
       "output_type": "stream",
       "stream": "stdout",
       "text": [
        "\n",
        "Reading files from /home/joth/projects/2014-12-20_datascibowl/competition_data/train/siphonophore_partial\n",
        "Reading files from /home/joth/projects/2014-12-20_datascibowl/competition_data/train/siphonophore_physonect\n",
        "Reading files from /home/joth/projects/2014-12-20_datascibowl/competition_data/train/siphonophore_physonect_young"
       ]
      },
      {
       "output_type": "stream",
       "stream": "stdout",
       "text": [
        "\n",
        "Reading files from /home/joth/projects/2014-12-20_datascibowl/competition_data/train/stomatopod\n",
        "Reading files from /home/joth/projects/2014-12-20_datascibowl/competition_data/train/tornaria_acorn_worm_larvae\n",
        "Reading files from /home/joth/projects/2014-12-20_datascibowl/competition_data/train/trichodesmium_bowtie"
       ]
      },
      {
       "output_type": "stream",
       "stream": "stdout",
       "text": [
        "\n",
        "Reading files from /home/joth/projects/2014-12-20_datascibowl/competition_data/train/trichodesmium_multiple"
       ]
      },
      {
       "output_type": "stream",
       "stream": "stdout",
       "text": [
        "\n",
        "Reading files from /home/joth/projects/2014-12-20_datascibowl/competition_data/train/trichodesmium_puff\n",
        "Reading files from /home/joth/projects/2014-12-20_datascibowl/competition_data/train/trichodesmium_tuft"
       ]
      },
      {
       "output_type": "stream",
       "stream": "stdout",
       "text": [
        "\n",
        "Reading files from /home/joth/projects/2014-12-20_datascibowl/competition_data/train/trochophore_larvae"
       ]
      },
      {
       "output_type": "stream",
       "stream": "stdout",
       "text": [
        "\n",
        "Reading files from /home/joth/projects/2014-12-20_datascibowl/competition_data/train/tunicate_doliolid\n",
        "Reading files from /home/joth/projects/2014-12-20_datascibowl/competition_data/train/tunicate_doliolid_nurse"
       ]
      },
      {
       "output_type": "stream",
       "stream": "stdout",
       "text": [
        "\n",
        "Reading files from /home/joth/projects/2014-12-20_datascibowl/competition_data/train/tunicate_partial"
       ]
      },
      {
       "output_type": "stream",
       "stream": "stdout",
       "text": [
        "\n",
        "Reading files from /home/joth/projects/2014-12-20_datascibowl/competition_data/train/tunicate_salp"
       ]
      },
      {
       "output_type": "stream",
       "stream": "stdout",
       "text": [
        "\n",
        "Reading files from /home/joth/projects/2014-12-20_datascibowl/competition_data/train/tunicate_salp_chains"
       ]
      },
      {
       "output_type": "stream",
       "stream": "stdout",
       "text": [
        "\n",
        "Reading files from /home/joth/projects/2014-12-20_datascibowl/competition_data/train/unknown_blobs_and_smudges"
       ]
      },
      {
       "output_type": "stream",
       "stream": "stdout",
       "text": [
        "\n",
        "Reading files from /home/joth/projects/2014-12-20_datascibowl/competition_data/train/unknown_sticks"
       ]
      },
      {
       "output_type": "stream",
       "stream": "stdout",
       "text": [
        "\n",
        "Reading files from /home/joth/projects/2014-12-20_datascibowl/competition_data/train/unknown_unclassified"
       ]
      },
      {
       "output_type": "stream",
       "stream": "stdout",
       "text": [
        "\n",
        "topo_view.shape: (30336, 32, 32, 1)"
       ]
      },
      {
       "output_type": "stream",
       "stream": "stdout",
       "text": [
        "\n",
        "NAs: 0\n",
        "Swapping 0 and 24158\n",
        "Swapping 1000 and 507\n",
        "Swapping 2000 and 10329"
       ]
      },
      {
       "output_type": "stream",
       "stream": "stdout",
       "text": [
        "\n",
        "Swapping 3000 and 12566\n",
        "Swapping 4000 and 5782\n",
        "Swapping 5000 and 14421\n",
        "Swapping 6000 and 25855\n",
        "Swapping 7000 and 19226\n",
        "Swapping 8000 and 5480"
       ]
      },
      {
       "output_type": "stream",
       "stream": "stdout",
       "text": [
        "\n",
        "Swapping 9000 and 14824\n",
        "Swapping 10000 and 7481\n",
        "Swapping 11000 and 4899\n",
        "Swapping 12000 and 547\n",
        "Swapping 13000 and 17117\n",
        "Swapping 14000 and 15848\n",
        "Swapping 15000 and 26705"
       ]
      },
      {
       "output_type": "stream",
       "stream": "stdout",
       "text": [
        "\n",
        "Swapping 16000 and 11752\n",
        "Swapping 17000 and 13157\n",
        "Swapping 18000 and 19743\n",
        "Swapping 19000 and 29262\n",
        "Swapping 20000 and 10984\n",
        "Swapping 21000 and 9312\n",
        "Swapping 22000 and 14681"
       ]
      },
      {
       "output_type": "stream",
       "stream": "stdout",
       "text": [
        "\n",
        "Swapping 23000 and 22392\n",
        "Swapping 24000 and 8749\n",
        "Swapping 25000 and 14310\n",
        "Swapping 26000 and 223\n",
        "Swapping 27000 and 9727\n",
        "Swapping 28000 and 13098"
       ]
      },
      {
       "output_type": "stream",
       "stream": "stdout",
       "text": [
        "\n",
        "Swapping 29000 and 4946\n",
        "Swapping 30000 and 19434\n",
        "compiling begin_record_entry...\n"
       ]
      },
      {
       "output_type": "stream",
       "stream": "stderr",
       "text": [
        "/home/joth/projects/2014-12-20_datascibowl/pylearn2_fork/pylearn2/utils/iteration.py:783: UserWarning: dataset is using the old iterator interface which is deprecated and will become officially unsupported as of July 28, 2015. The dataset should implement a `get` method respecting the new interface.\n",
        "  warnings.warn(\"dataset is using the old iterator interface which \"\n"
       ]
      },
      {
       "output_type": "stream",
       "stream": "stdout",
       "text": [
        "compiling begin_record_entry done. Time elapsed: 0.042436 seconds\n"
       ]
      },
      {
       "output_type": "stream",
       "stream": "stdout",
       "text": [
        "Monitored channels: \n"
       ]
      },
      {
       "output_type": "stream",
       "stream": "stdout",
       "text": [
        "\tave_grad_mult\n"
       ]
      },
      {
       "output_type": "stream",
       "stream": "stdout",
       "text": [
        "\tave_grad_size\n"
       ]
      },
      {
       "output_type": "stream",
       "stream": "stdout",
       "text": [
        "\tave_step_size\n"
       ]
      },
      {
       "output_type": "stream",
       "stream": "stdout",
       "text": [
        "\ttotal_seconds_last_epoch\n"
       ]
      },
      {
       "output_type": "stream",
       "stream": "stdout",
       "text": [
        "\ttrain_objective\n"
       ]
      },
      {
       "output_type": "stream",
       "stream": "stdout",
       "text": [
        "\ttrain_roc_auc\n"
       ]
      },
      {
       "output_type": "stream",
       "stream": "stdout",
       "text": [
        "\ttrain_y_col_norms_max\n"
       ]
      },
      {
       "output_type": "stream",
       "stream": "stdout",
       "text": [
        "\ttrain_y_col_norms_mean\n"
       ]
      },
      {
       "output_type": "stream",
       "stream": "stdout",
       "text": [
        "\ttrain_y_col_norms_min\n"
       ]
      },
      {
       "output_type": "stream",
       "stream": "stdout",
       "text": [
        "\ttrain_y_max_max_class\n"
       ]
      },
      {
       "output_type": "stream",
       "stream": "stdout",
       "text": [
        "\ttrain_y_mean_max_class\n"
       ]
      },
      {
       "output_type": "stream",
       "stream": "stdout",
       "text": [
        "\ttrain_y_min_max_class\n"
       ]
      },
      {
       "output_type": "stream",
       "stream": "stdout",
       "text": [
        "\ttrain_y_misclass\n"
       ]
      },
      {
       "output_type": "stream",
       "stream": "stdout",
       "text": [
        "\ttrain_y_nll\n"
       ]
      },
      {
       "output_type": "stream",
       "stream": "stdout",
       "text": [
        "\ttrain_y_row_norms_max\n"
       ]
      },
      {
       "output_type": "stream",
       "stream": "stdout",
       "text": [
        "\ttrain_y_row_norms_mean\n"
       ]
      },
      {
       "output_type": "stream",
       "stream": "stdout",
       "text": [
        "\ttrain_y_row_norms_min\n"
       ]
      },
      {
       "output_type": "stream",
       "stream": "stdout",
       "text": [
        "\ttraining_seconds_this_epoch\n"
       ]
      },
      {
       "output_type": "stream",
       "stream": "stdout",
       "text": [
        "\tvalid_objective\n"
       ]
      },
      {
       "output_type": "stream",
       "stream": "stdout",
       "text": [
        "\tvalid_roc_auc\n"
       ]
      },
      {
       "output_type": "stream",
       "stream": "stdout",
       "text": [
        "\tvalid_y_col_norms_max\n"
       ]
      },
      {
       "output_type": "stream",
       "stream": "stdout",
       "text": [
        "\tvalid_y_col_norms_mean\n"
       ]
      },
      {
       "output_type": "stream",
       "stream": "stdout",
       "text": [
        "\tvalid_y_col_norms_min\n"
       ]
      },
      {
       "output_type": "stream",
       "stream": "stdout",
       "text": [
        "\tvalid_y_max_max_class\n"
       ]
      },
      {
       "output_type": "stream",
       "stream": "stdout",
       "text": [
        "\tvalid_y_mean_max_class\n"
       ]
      },
      {
       "output_type": "stream",
       "stream": "stdout",
       "text": [
        "\tvalid_y_min_max_class\n"
       ]
      },
      {
       "output_type": "stream",
       "stream": "stdout",
       "text": [
        "\tvalid_y_misclass\n"
       ]
      },
      {
       "output_type": "stream",
       "stream": "stdout",
       "text": [
        "\tvalid_y_nll\n"
       ]
      },
      {
       "output_type": "stream",
       "stream": "stdout",
       "text": [
        "\tvalid_y_row_norms_max\n"
       ]
      },
      {
       "output_type": "stream",
       "stream": "stdout",
       "text": [
        "\tvalid_y_row_norms_mean\n"
       ]
      },
      {
       "output_type": "stream",
       "stream": "stdout",
       "text": [
        "\tvalid_y_row_norms_min\n"
       ]
      },
      {
       "output_type": "stream",
       "stream": "stdout",
       "text": [
        "Compiling accum...\n"
       ]
      },
      {
       "output_type": "stream",
       "stream": "stdout",
       "text": [
        "graph size: 118\n"
       ]
      },
      {
       "output_type": "stream",
       "stream": "stdout",
       "text": [
        "graph size: 103\n"
       ]
      },
      {
       "output_type": "stream",
       "stream": "stdout",
       "text": [
        "Compiling accum done. Time elapsed: 1.135450 seconds\n"
       ]
      },
      {
       "output_type": "stream",
       "stream": "stdout",
       "text": [
        "Monitoring step:\n"
       ]
      },
      {
       "output_type": "stream",
       "stream": "stdout",
       "text": [
        "\tEpochs seen: 0\n"
       ]
      },
      {
       "output_type": "stream",
       "stream": "stdout",
       "text": [
        "\tBatches seen: 0\n"
       ]
      },
      {
       "output_type": "stream",
       "stream": "stdout",
       "text": [
        "\tExamples seen: 0\n"
       ]
      },
      {
       "output_type": "stream",
       "stream": "stdout",
       "text": [
        "\tave_grad_mult: 0.0\n"
       ]
      },
      {
       "output_type": "stream",
       "stream": "stdout",
       "text": [
        "\tave_grad_size: 0.0\n"
       ]
      },
      {
       "output_type": "stream",
       "stream": "stdout",
       "text": [
        "\tave_step_size: 0.0\n"
       ]
      },
      {
       "output_type": "stream",
       "stream": "stdout",
       "text": [
        "\ttotal_seconds_last_epoch: 0.0\n"
       ]
      },
      {
       "output_type": "stream",
       "stream": "stdout",
       "text": [
        "\ttrain_objective: 4.7957905456\n"
       ]
      },
      {
       "output_type": "stream",
       "stream": "stdout",
       "text": [
        "\ttrain_roc_auc: 0.5\n"
       ]
      },
      {
       "output_type": "stream",
       "stream": "stdout",
       "text": [
        "\ttrain_y_col_norms_max: 0.0\n"
       ]
      },
      {
       "output_type": "stream",
       "stream": "stdout",
       "text": [
        "\ttrain_y_col_norms_mean: 0.0\n"
       ]
      },
      {
       "output_type": "stream",
       "stream": "stdout",
       "text": [
        "\ttrain_y_col_norms_min: 0.0\n"
       ]
      },
      {
       "output_type": "stream",
       "stream": "stdout",
       "text": [
        "\ttrain_y_max_max_class: 0.00826446280992\n"
       ]
      },
      {
       "output_type": "stream",
       "stream": "stdout",
       "text": [
        "\ttrain_y_mean_max_class: 0.00826446280991\n"
       ]
      },
      {
       "output_type": "stream",
       "stream": "stdout",
       "text": [
        "\ttrain_y_min_max_class: 0.00826446280992\n"
       ]
      },
      {
       "output_type": "stream",
       "stream": "stdout",
       "text": [
        "\ttrain_y_misclass: 0.97088\n"
       ]
      },
      {
       "output_type": "stream",
       "stream": "stdout",
       "text": [
        "\ttrain_y_nll: 4.7957905456\n"
       ]
      },
      {
       "output_type": "stream",
       "stream": "stdout",
       "text": [
        "\ttrain_y_row_norms_max: 0.0\n"
       ]
      },
      {
       "output_type": "stream",
       "stream": "stdout",
       "text": [
        "\ttrain_y_row_norms_mean: 0.0\n"
       ]
      },
      {
       "output_type": "stream",
       "stream": "stdout",
       "text": [
        "\ttrain_y_row_norms_min: 0.0\n"
       ]
      },
      {
       "output_type": "stream",
       "stream": "stdout",
       "text": [
        "\ttraining_seconds_this_epoch: 0.0\n"
       ]
      },
      {
       "output_type": "stream",
       "stream": "stdout",
       "text": [
        "\tvalid_objective: 4.7957905456\n"
       ]
      },
      {
       "output_type": "stream",
       "stream": "stdout",
       "text": [
        "\tvalid_roc_auc: 0.5\n"
       ]
      },
      {
       "output_type": "stream",
       "stream": "stdout",
       "text": [
        "\tvalid_y_col_norms_max: 0.0\n"
       ]
      },
      {
       "output_type": "stream",
       "stream": "stdout",
       "text": [
        "\tvalid_y_col_norms_mean: 0.0\n"
       ]
      },
      {
       "output_type": "stream",
       "stream": "stdout",
       "text": [
        "\tvalid_y_col_norms_min: 0.0\n"
       ]
      },
      {
       "output_type": "stream",
       "stream": "stdout",
       "text": [
        "\tvalid_y_max_max_class: 0.00826446280992\n"
       ]
      },
      {
       "output_type": "stream",
       "stream": "stdout",
       "text": [
        "\tvalid_y_mean_max_class: 0.00826446280992\n"
       ]
      },
      {
       "output_type": "stream",
       "stream": "stdout",
       "text": [
        "\tvalid_y_min_max_class: 0.00826446280992\n"
       ]
      },
      {
       "output_type": "stream",
       "stream": "stdout",
       "text": [
        "\tvalid_y_misclass: 0.971\n"
       ]
      },
      {
       "output_type": "stream",
       "stream": "stdout",
       "text": [
        "\tvalid_y_nll: 4.7957905456\n"
       ]
      },
      {
       "output_type": "stream",
       "stream": "stdout",
       "text": [
        "\tvalid_y_row_norms_max: 0.0\n"
       ]
      },
      {
       "output_type": "stream",
       "stream": "stdout",
       "text": [
        "\tvalid_y_row_norms_mean: 0.0\n"
       ]
      },
      {
       "output_type": "stream",
       "stream": "stdout",
       "text": [
        "\tvalid_y_row_norms_min: 0.0\n"
       ]
      },
      {
       "output_type": "stream",
       "stream": "stdout",
       "text": [
        "Saving to softmax_regression_best_shuf_ctr_07.pkl...\n"
       ]
      },
      {
       "output_type": "stream",
       "stream": "stdout",
       "text": [
        "Saving to softmax_regression_best_shuf_ctr_07.pkl done. Time elapsed: 0.188432 seconds\n"
       ]
      },
      {
       "output_type": "stream",
       "stream": "stdout",
       "text": [
        "Time this epoch: 0:06:37.486632\n"
       ]
      },
      {
       "output_type": "stream",
       "stream": "stdout",
       "text": [
        "Monitoring step:\n"
       ]
      },
      {
       "output_type": "stream",
       "stream": "stdout",
       "text": [
        "\tEpochs seen: 1\n"
       ]
      },
      {
       "output_type": "stream",
       "stream": "stdout",
       "text": [
        "\tBatches seen: 5\n"
       ]
      },
      {
       "output_type": "stream",
       "stream": "stdout",
       "text": [
        "\tExamples seen: 25000\n"
       ]
      },
      {
       "output_type": "stream",
       "stream": "stdout",
       "text": [
        "\tave_grad_mult: 6.66635827699\n"
       ]
      },
      {
       "output_type": "stream",
       "stream": "stdout",
       "text": [
        "\tave_grad_size: 0.312674410944\n"
       ]
      },
      {
       "output_type": "stream",
       "stream": "stdout",
       "text": [
        "\tave_step_size: 1.66345120078\n"
       ]
      },
      {
       "output_type": "stream",
       "stream": "stdout",
       "text": [
        "\ttotal_seconds_last_epoch: 0.0\n"
       ]
      },
      {
       "output_type": "stream",
       "stream": "stdout",
       "text": [
        "\ttrain_objective: 2.45614243082\n"
       ]
      },
      {
       "output_type": "stream",
       "stream": "stdout",
       "text": [
        "\ttrain_roc_auc: 0.702046069919\n"
       ]
      },
      {
       "output_type": "stream",
       "stream": "stdout",
       "text": [
        "\ttrain_y_col_norms_max: 5.36600235412\n"
       ]
      },
      {
       "output_type": "stream",
       "stream": "stdout",
       "text": [
        "\ttrain_y_col_norms_mean: 2.35439562779\n"
       ]
      },
      {
       "output_type": "stream",
       "stream": "stdout",
       "text": [
        "\ttrain_y_col_norms_min: 0.404837314506\n"
       ]
      },
      {
       "output_type": "stream",
       "stream": "stdout",
       "text": [
        "\ttrain_y_max_max_class: 0.999651326774\n"
       ]
      },
      {
       "output_type": "stream",
       "stream": "stdout",
       "text": [
        "\ttrain_y_mean_max_class: 0.314199486383\n"
       ]
      },
      {
       "output_type": "stream",
       "stream": "stdout",
       "text": [
        "\ttrain_y_min_max_class: 0.0449304685727\n"
       ]
      },
      {
       "output_type": "stream",
       "stream": "stdout",
       "text": [
        "\ttrain_y_misclass: 0.60164\n"
       ]
      },
      {
       "output_type": "stream",
       "stream": "stdout",
       "text": [
        "\ttrain_y_nll: 2.45614243082\n"
       ]
      },
      {
       "output_type": "stream",
       "stream": "stdout",
       "text": [
        "\ttrain_y_row_norms_max: 2.36462410903\n"
       ]
      },
      {
       "output_type": "stream",
       "stream": "stdout",
       "text": [
        "\ttrain_y_row_norms_mean: 0.802571885514\n"
       ]
      },
      {
       "output_type": "stream",
       "stream": "stdout",
       "text": [
        "\ttrain_y_row_norms_min: 0.290883418081\n"
       ]
      },
      {
       "output_type": "stream",
       "stream": "stdout",
       "text": [
        "\ttraining_seconds_this_epoch: 397.486632\n"
       ]
      },
      {
       "output_type": "stream",
       "stream": "stdout",
       "text": [
        "\tvalid_objective: 2.6708221008\n"
       ]
      },
      {
       "output_type": "stream",
       "stream": "stdout",
       "text": [
        "\tvalid_roc_auc: 0.554466012941\n"
       ]
      },
      {
       "output_type": "stream",
       "stream": "stdout",
       "text": [
        "\tvalid_y_col_norms_max: 5.36600235412\n"
       ]
      },
      {
       "output_type": "stream",
       "stream": "stdout",
       "text": [
        "\tvalid_y_col_norms_mean: 2.35439562779\n"
       ]
      },
      {
       "output_type": "stream",
       "stream": "stdout",
       "text": [
        "\tvalid_y_col_norms_min: 0.404837314506\n"
       ]
      },
      {
       "output_type": "stream",
       "stream": "stdout",
       "text": [
        "\tvalid_y_max_max_class: 0.997551876877\n"
       ]
      },
      {
       "output_type": "stream",
       "stream": "stdout",
       "text": [
        "\tvalid_y_mean_max_class: 0.310854843135\n"
       ]
      },
      {
       "output_type": "stream",
       "stream": "stdout",
       "text": [
        "\tvalid_y_min_max_class: 0.0494611225501\n"
       ]
      },
      {
       "output_type": "stream",
       "stream": "stdout",
       "text": [
        "\tvalid_y_misclass: 0.6454\n"
       ]
      },
      {
       "output_type": "stream",
       "stream": "stdout",
       "text": [
        "\tvalid_y_nll: 2.6708221008\n"
       ]
      },
      {
       "output_type": "stream",
       "stream": "stdout",
       "text": [
        "\tvalid_y_row_norms_max: 2.36462410903\n"
       ]
      },
      {
       "output_type": "stream",
       "stream": "stdout",
       "text": [
        "\tvalid_y_row_norms_mean: 0.802571885514\n"
       ]
      },
      {
       "output_type": "stream",
       "stream": "stdout",
       "text": [
        "\tvalid_y_row_norms_min: 0.290883418081\n"
       ]
      },
      {
       "output_type": "stream",
       "stream": "stdout",
       "text": [
        "Saving to softmax_regression_best_shuf_ctr_07.pkl...\n"
       ]
      },
      {
       "output_type": "stream",
       "stream": "stdout",
       "text": [
        "Saving to softmax_regression_best_shuf_ctr_07.pkl done. Time elapsed: 0.119410 seconds\n"
       ]
      },
      {
       "output_type": "stream",
       "stream": "stdout",
       "text": [
        "Saving to softmax_regression_shuf_ctr_07.pkl...\n"
       ]
      },
      {
       "output_type": "stream",
       "stream": "stdout",
       "text": [
        "Saving to softmax_regression_shuf_ctr_07.pkl done. Time elapsed: 0.114434 seconds\n"
       ]
      },
      {
       "ename": "KeyboardInterrupt",
       "evalue": "",
       "output_type": "pyerr",
       "traceback": [
        "\u001b[1;31m---------------------------------------------------------------------------\u001b[0m\n\u001b[1;31mKeyboardInterrupt\u001b[0m                         Traceback (most recent call last)",
        "\u001b[1;32m<ipython-input-19-99a022070172>\u001b[0m in \u001b[0;36m<module>\u001b[1;34m()\u001b[0m\n\u001b[0;32m      1\u001b[0m \u001b[0mtrain\u001b[0m \u001b[1;33m=\u001b[0m \u001b[0myaml_parse\u001b[0m\u001b[1;33m.\u001b[0m\u001b[0mload\u001b[0m\u001b[1;33m(\u001b[0m\u001b[0mtrain\u001b[0m\u001b[1;33m)\u001b[0m\u001b[1;33m\u001b[0m\u001b[0m\n\u001b[1;32m----> 2\u001b[1;33m \u001b[0mtrain\u001b[0m\u001b[1;33m.\u001b[0m\u001b[0mmain_loop\u001b[0m\u001b[1;33m(\u001b[0m\u001b[1;33m)\u001b[0m\u001b[1;33m\u001b[0m\u001b[0m\n\u001b[0m",
        "\u001b[1;32m/home/joth/projects/2014-12-20_datascibowl/pylearn2_fork/pylearn2/train.pyc\u001b[0m in \u001b[0;36mmain_loop\u001b[1;34m(self, time_budget)\u001b[0m\n\u001b[0;32m    205\u001b[0m                             \u001b[0mlog\u001b[0m\u001b[1;33m,\u001b[0m \u001b[0mNone\u001b[0m\u001b[1;33m,\u001b[0m \u001b[0mfinal_msg\u001b[0m\u001b[1;33m=\u001b[0m\u001b[1;34m'Time this epoch:'\u001b[0m\u001b[1;33m,\u001b[0m\u001b[1;33m\u001b[0m\u001b[0m\n\u001b[0;32m    206\u001b[0m                             callbacks=[self.training_seconds.set_value]):\n\u001b[1;32m--> 207\u001b[1;33m                         \u001b[0mrval\u001b[0m \u001b[1;33m=\u001b[0m \u001b[0mself\u001b[0m\u001b[1;33m.\u001b[0m\u001b[0malgorithm\u001b[0m\u001b[1;33m.\u001b[0m\u001b[0mtrain\u001b[0m\u001b[1;33m(\u001b[0m\u001b[0mdataset\u001b[0m\u001b[1;33m=\u001b[0m\u001b[0mself\u001b[0m\u001b[1;33m.\u001b[0m\u001b[0mdataset\u001b[0m\u001b[1;33m)\u001b[0m\u001b[1;33m\u001b[0m\u001b[0m\n\u001b[0m\u001b[0;32m    208\u001b[0m                     \u001b[1;32mif\u001b[0m \u001b[0mrval\u001b[0m \u001b[1;32mis\u001b[0m \u001b[1;32mnot\u001b[0m \u001b[0mNone\u001b[0m\u001b[1;33m:\u001b[0m\u001b[1;33m\u001b[0m\u001b[0m\n\u001b[0;32m    209\u001b[0m                         raise ValueError(\"TrainingAlgorithm.train should not \"\n",
        "\u001b[1;32m/home/joth/projects/2014-12-20_datascibowl/pylearn2_fork/pylearn2/training_algorithms/bgd.pyc\u001b[0m in \u001b[0;36mtrain\u001b[1;34m(self, dataset)\u001b[0m\n\u001b[0;32m    310\u001b[0m \u001b[1;33m\u001b[0m\u001b[0m\n\u001b[0;32m    311\u001b[0m             \u001b[0mself\u001b[0m\u001b[1;33m.\u001b[0m\u001b[0mbefore_step\u001b[0m\u001b[1;33m(\u001b[0m\u001b[0mmodel\u001b[0m\u001b[1;33m)\u001b[0m\u001b[1;33m\u001b[0m\u001b[0m\n\u001b[1;32m--> 312\u001b[1;33m             \u001b[0mself\u001b[0m\u001b[1;33m.\u001b[0m\u001b[0moptimizer\u001b[0m\u001b[1;33m.\u001b[0m\u001b[0mminimize\u001b[0m\u001b[1;33m(\u001b[0m\u001b[1;33m*\u001b[0m\u001b[0mdata\u001b[0m\u001b[1;33m)\u001b[0m\u001b[1;33m\u001b[0m\u001b[0m\n\u001b[0m\u001b[0;32m    313\u001b[0m             \u001b[0mself\u001b[0m\u001b[1;33m.\u001b[0m\u001b[0mafter_step\u001b[0m\u001b[1;33m(\u001b[0m\u001b[0mmodel\u001b[0m\u001b[1;33m)\u001b[0m\u001b[1;33m\u001b[0m\u001b[0m\n\u001b[0;32m    314\u001b[0m             \u001b[0mactual_batch_size\u001b[0m \u001b[1;33m=\u001b[0m \u001b[0mflat_data_specs\u001b[0m\u001b[1;33m[\u001b[0m\u001b[1;36m0\u001b[0m\u001b[1;33m]\u001b[0m\u001b[1;33m.\u001b[0m\u001b[0mnp_batch_size\u001b[0m\u001b[1;33m(\u001b[0m\u001b[0mdata\u001b[0m\u001b[1;33m)\u001b[0m\u001b[1;33m\u001b[0m\u001b[0m\n",
        "\u001b[1;32m/home/joth/projects/2014-12-20_datascibowl/pylearn2_fork/pylearn2/optimization/batch_gradient_descent.pyc\u001b[0m in \u001b[0;36mminimize\u001b[1;34m(self, *inputs)\u001b[0m\n\u001b[0;32m    335\u001b[0m             \u001b[1;32mif\u001b[0m \u001b[0mself\u001b[0m\u001b[1;33m.\u001b[0m\u001b[0mconjugate\u001b[0m\u001b[1;33m:\u001b[0m\u001b[1;33m\u001b[0m\u001b[0m\n\u001b[0;32m    336\u001b[0m                 \u001b[0mself\u001b[0m\u001b[1;33m.\u001b[0m\u001b[0m_store_old_grad\u001b[0m\u001b[1;33m(\u001b[0m\u001b[0mnorm\u001b[0m\u001b[1;33m)\u001b[0m\u001b[1;33m\u001b[0m\u001b[0m\n\u001b[1;32m--> 337\u001b[1;33m             \u001b[0mself\u001b[0m\u001b[1;33m.\u001b[0m\u001b[0m_compute_grad\u001b[0m\u001b[1;33m(\u001b[0m\u001b[1;33m*\u001b[0m\u001b[0minputs\u001b[0m\u001b[1;33m)\u001b[0m\u001b[1;33m\u001b[0m\u001b[0m\n\u001b[0m\u001b[0;32m    338\u001b[0m             \u001b[1;32mif\u001b[0m \u001b[0mself\u001b[0m\u001b[1;33m.\u001b[0m\u001b[0mconjugate\u001b[0m\u001b[1;33m:\u001b[0m\u001b[1;33m\u001b[0m\u001b[0m\n\u001b[0;32m    339\u001b[0m                 \u001b[0mself\u001b[0m\u001b[1;33m.\u001b[0m\u001b[0m_make_conjugate\u001b[0m\u001b[1;33m(\u001b[0m\u001b[1;33m)\u001b[0m\u001b[1;33m\u001b[0m\u001b[0m\n",
        "\u001b[1;32m/home/joth/venvs/2014-12-20_datascibowl/lib/python2.7/site-packages/theano/compile/function_module.pyc\u001b[0m in \u001b[0;36m__call__\u001b[1;34m(self, *args, **kwargs)\u001b[0m\n\u001b[0;32m    593\u001b[0m         \u001b[0mt0_fn\u001b[0m \u001b[1;33m=\u001b[0m \u001b[0mtime\u001b[0m\u001b[1;33m.\u001b[0m\u001b[0mtime\u001b[0m\u001b[1;33m(\u001b[0m\u001b[1;33m)\u001b[0m\u001b[1;33m\u001b[0m\u001b[0m\n\u001b[0;32m    594\u001b[0m         \u001b[1;32mtry\u001b[0m\u001b[1;33m:\u001b[0m\u001b[1;33m\u001b[0m\u001b[0m\n\u001b[1;32m--> 595\u001b[1;33m             \u001b[0moutputs\u001b[0m \u001b[1;33m=\u001b[0m \u001b[0mself\u001b[0m\u001b[1;33m.\u001b[0m\u001b[0mfn\u001b[0m\u001b[1;33m(\u001b[0m\u001b[1;33m)\u001b[0m\u001b[1;33m\u001b[0m\u001b[0m\n\u001b[0m\u001b[0;32m    596\u001b[0m         \u001b[1;32mexcept\u001b[0m \u001b[0mException\u001b[0m\u001b[1;33m:\u001b[0m\u001b[1;33m\u001b[0m\u001b[0m\n\u001b[0;32m    597\u001b[0m             \u001b[1;32mif\u001b[0m \u001b[0mhasattr\u001b[0m\u001b[1;33m(\u001b[0m\u001b[0mself\u001b[0m\u001b[1;33m.\u001b[0m\u001b[0mfn\u001b[0m\u001b[1;33m,\u001b[0m \u001b[1;34m'position_of_error'\u001b[0m\u001b[1;33m)\u001b[0m\u001b[1;33m:\u001b[0m\u001b[1;33m\u001b[0m\u001b[0m\n",
        "\u001b[1;31mKeyboardInterrupt\u001b[0m: "
       ]
      }
     ],
     "prompt_number": 19
    },
    {
     "cell_type": "code",
     "collapsed": false,
     "input": [
      "!pylearn2_fork/pylearn2/scripts/print_monitor.py softmax_regression_best_shuf_ctr_07.pkl"
     ],
     "language": "python",
     "metadata": {},
     "outputs": [
      {
       "output_type": "stream",
       "stream": "stdout",
       "text": [
        "epochs seen:  1\r\n"
       ]
      },
      {
       "output_type": "stream",
       "stream": "stdout",
       "text": [
        "time trained:  406.184148073\r\n",
        "ave_grad_mult : 6.66635827699\r\n",
        "ave_grad_size : 0.312674410944\r\n",
        "ave_step_size : 1.66345120078\r\n",
        "total_seconds_last_epoch : 0.0\r\n",
        "train_objective : 2.45614243082\r\n",
        "train_roc_auc : 0.702046069919\r\n",
        "train_y_col_norms_max : 5.36600235412\r\n",
        "train_y_col_norms_mean : 2.35439562779\r\n",
        "train_y_col_norms_min : 0.404837314506\r\n",
        "train_y_max_max_class : 0.999651326774\r\n",
        "train_y_mean_max_class : 0.314199486383\r\n",
        "train_y_min_max_class : 0.0449304685727\r\n",
        "train_y_misclass : 0.60164\r\n",
        "train_y_nll : 2.45614243082\r\n",
        "train_y_row_norms_max : 2.36462410903\r\n",
        "train_y_row_norms_mean : 0.802571885514\r\n",
        "train_y_row_norms_min : 0.290883418081\r\n",
        "training_seconds_this_epoch : 397.486632\r\n",
        "valid_objective : 2.6708221008\r\n",
        "valid_roc_auc : 0.554466012941\r\n",
        "valid_y_col_norms_max : 5.36600235412\r\n",
        "valid_y_col_norms_mean : 2.35439562779\r\n",
        "valid_y_col_norms_min : 0.404837314506\r\n",
        "valid_y_max_max_class : 0.997551876877\r\n",
        "valid_y_mean_max_class : 0.310854843135\r\n",
        "valid_y_min_max_class : 0.0494611225501\r\n",
        "valid_y_misclass : 0.6454\r\n",
        "valid_y_nll : 2.6708221008\r\n",
        "valid_y_row_norms_max : 2.36462410903\r\n",
        "valid_y_row_norms_mean : 0.802571885514\r\n",
        "valid_y_row_norms_min : 0.290883418081\r\n"
       ]
      }
     ],
     "prompt_number": 20
    },
    {
     "cell_type": "code",
     "collapsed": false,
     "input": [],
     "language": "python",
     "metadata": {},
     "outputs": []
    }
   ],
   "metadata": {}
  }
 ]
}