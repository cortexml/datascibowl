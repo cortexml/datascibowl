{
 "metadata": {
  "name": "",
  "signature": "sha256:9a16836392467f8dd14a56ec34f7e76942a0fcfba0448edea03f9cf1f2e1ca37"
 },
 "nbformat": 3,
 "nbformat_minor": 0,
 "worksheets": [
  {
   "cells": [
    {
     "cell_type": "code",
     "collapsed": false,
     "input": [
      "#Import libraries for doing image analysis\n",
      "from skimage.io import imread\n",
      "from skimage.transform import resize\n",
      "from sklearn.ensemble import RandomForestClassifier as RF\n",
      "import glob\n",
      "import os\n",
      "from sklearn import cross_validation\n",
      "from sklearn.cross_validation import StratifiedKFold as KFold\n",
      "from sklearn.metrics import classification_report\n",
      "from matplotlib import pyplot as plt\n",
      "from matplotlib import colors\n",
      "from pylab import cm\n",
      "from skimage import segmentation\n",
      "from skimage.morphology import watershed\n",
      "from skimage import measure\n",
      "from skimage import morphology\n",
      "import numpy as np\n",
      "import pandas as pd\n",
      "from scipy import ndimage\n",
      "from skimage.feature import peak_local_max\n",
      "# make graphics inline\n",
      "%matplotlib inline"
     ],
     "language": "python",
     "metadata": {},
     "outputs": [],
     "prompt_number": 1
    },
    {
     "cell_type": "code",
     "collapsed": false,
     "input": [
      "import warnings\n",
      "warnings.filterwarnings(\"ignore\")"
     ],
     "language": "python",
     "metadata": {},
     "outputs": [],
     "prompt_number": 2
    },
    {
     "cell_type": "code",
     "collapsed": false,
     "input": [
      "# set()\n",
      "print glob.glob(\"*\")\n",
      "print os.path.join(\"competition_data\", \"train\")\n",
      "dirs = glob.glob(os.path.join(\"competition_data\", \"train\", \"*\"))\n",
      "print set(glob.glob(os.path.join(\"competition_data\", \"train\", \"*.*\")))\n",
      "len(dirs)"
     ],
     "language": "python",
     "metadata": {},
     "outputs": [
      {
       "output_type": "stream",
       "stream": "stdout",
       "text": [
        "['notes.org', 'competition_data', 'data_download.txt', 'hu_moments_centred.ipynb', 'hu_moments_naive.ipynb', 'ltxpng', 'hu_moments_centred_naive_for_missing_regions.ipynb', 'tutorial.ipynb', 'hu_moments_2-6_naive.ipynb']\n",
        "competition_data/train\n",
        "set([])\n"
       ]
      },
      {
       "metadata": {},
       "output_type": "pyout",
       "prompt_number": 3,
       "text": [
        "121"
       ]
      }
     ],
     "prompt_number": 3
    },
    {
     "cell_type": "code",
     "collapsed": false,
     "input": [
      "# get the classnames from the directory structure\n",
      "# i think the . avoids hidden dirs\n",
      "directory_names = list(set(glob.glob(os.path.join(\"competition_data\",\"train\", \"*\"))).\\\n",
      " difference(set(glob.glob(os.path.join(\"competition_data\",\"train\",\"*.*\")))))\n",
      "print len(directory_names)\n",
      "print directory_names[1:10]"
     ],
     "language": "python",
     "metadata": {},
     "outputs": [
      {
       "output_type": "stream",
       "stream": "stdout",
       "text": [
        "121\n",
        "['competition_data/train/hydromedusae_shapeB', 'competition_data/train/hydromedusae_shapeA', 'competition_data/train/siphonophore_other_parts', 'competition_data/train/tunicate_doliolid_nurse', 'competition_data/train/acantharia_protist', 'competition_data/train/hydromedusae_narco_young', 'competition_data/train/fish_larvae_deep_body', 'competition_data/train/hydromedusae_haliscera_small_sideview', 'competition_data/train/echinoderm_larva_pluteus_early']\n"
       ]
      }
     ],
     "prompt_number": 4
    },
    {
     "cell_type": "code",
     "collapsed": false,
     "input": [
      "# find the largest nonzero region\n",
      "def getLargestRegion(props=None, labelmap=None, imagethres=None):\n",
      "    regionmaxprop = None\n",
      "    for regionprop in props:\n",
      "        # check to see if the region is at least 50% nonzero\n",
      "        if sum(imagethres[labelmap == regionprop.label])*1.0/regionprop.area < 0.50:\n",
      "            continue\n",
      "        if regionmaxprop is None:\n",
      "            regionmaxprop = regionprop\n",
      "        if regionmaxprop.filled_area < regionprop.filled_area:\n",
      "            regionmaxprop = regionprop\n",
      "    return regionmaxprop"
     ],
     "language": "python",
     "metadata": {},
     "outputs": [],
     "prompt_number": 5
    },
    {
     "cell_type": "code",
     "collapsed": false,
     "input": [
      "def get_hu_moments(image):\n",
      "    central_moments = measure.moments_central(image, (image.shape[0]+1)/2, (image.shape[1]+1)/2)\n",
      "    normalized_moments = measure.moments_normalized(central_moments)\n",
      "    hu_moments = measure.moments_hu(normalized_moments)\n",
      "    return hu_moments"
     ],
     "language": "python",
     "metadata": {},
     "outputs": [],
     "prompt_number": 6
    },
    {
     "cell_type": "code",
     "collapsed": false,
     "input": [
      "def getMinorMajorRatio(image):\n",
      "    image = image.copy()\n",
      "    # Create the thresholded image to eliminate some of the background\n",
      "    imagethr = np.where(image > np.mean(image),0.,1.0)\n",
      "\n",
      "    #Dilate the image\n",
      "    imdilated = morphology.dilation(imagethr, np.ones((4,4)))\n",
      "\n",
      "    # Create the label list\n",
      "    label_list = measure.label(imdilated)\n",
      "    label_list = imagethr*label_list\n",
      "    label_list = label_list.astype(int)\n",
      "    \n",
      "    region_list = measure.regionprops(label_list)\n",
      "    maxregion = getLargestRegion(region_list, label_list, imagethr)\n",
      "    \n",
      "    # guard against cases where the segmentation fails by providing zeros\n",
      "    ratio = 0.0\n",
      "    if ((not maxregion is None) and  (maxregion.major_axis_length != 0.0)):\n",
      "        ratio = 0.0 if maxregion is None else  maxregion.minor_axis_length*1.0 / maxregion.major_axis_length\n",
      "    return ratio\n"
     ],
     "language": "python",
     "metadata": {},
     "outputs": [],
     "prompt_number": 7
    },
    {
     "cell_type": "code",
     "collapsed": false,
     "input": [
      "# Rescale the images and create the combined metrics and training labels\n",
      "\n",
      "#get the total training images\n",
      "numberofImages = 0\n",
      "for folder in directory_names:\n",
      "    for fileNameDir in os.walk(folder):   \n",
      "        for fileName in fileNameDir[2]:\n",
      "             # Only read in the images\n",
      "            if fileName[-4:] != \".jpg\":\n",
      "              continue\n",
      "            numberofImages += 1\n",
      "print numberofImages"
     ],
     "language": "python",
     "metadata": {},
     "outputs": [
      {
       "output_type": "stream",
       "stream": "stdout",
       "text": [
        "30336\n"
       ]
      }
     ],
     "prompt_number": 8
    },
    {
     "cell_type": "code",
     "collapsed": false,
     "input": [
      "# We'll rescale the images to be 25x25\n",
      "maxPixel = 25\n",
      "imageSize = maxPixel * maxPixel\n",
      "num_rows = numberofImages # one row for each image in the training dataset\n",
      "# !--Be careful the number of features is hard codede here\n",
      "num_features = 6 # for our ratio and 7 hu central moments\n",
      "\n",
      "# X is the feature vector with one row of features per image\n",
      "# consisting of the hu central moments and our metric\n",
      "X = np.zeros((num_rows, num_features), dtype=float)\n",
      "# y is the numeric class label \n",
      "y = np.zeros((num_rows))\n",
      "\n",
      "files = []\n",
      "# Generate training data\n",
      "i = 0    \n",
      "label = 0\n",
      "# List of string of class names\n",
      "namesClasses = list()\n",
      "\n",
      "# how to see dimensions of numpy array\n",
      "print X.shape"
     ],
     "language": "python",
     "metadata": {},
     "outputs": [
      {
       "output_type": "stream",
       "stream": "stdout",
       "text": [
        "(30336, 6)\n"
       ]
      }
     ],
     "prompt_number": 9
    },
    {
     "cell_type": "code",
     "collapsed": false,
     "input": [
      "print \"Reading images\"\n",
      "# Navigate through the list of directories\n",
      "for folder in directory_names:\n",
      "    # Append the string class name for each class\n",
      "    currentClass = folder.split(os.pathsep)[-1]\n",
      "    namesClasses.append(currentClass)\n",
      "    for fileNameDir in os.walk(folder):   \n",
      "        for fileName in fileNameDir[2]:\n",
      "            # Only read in the images\n",
      "            if fileName[-4:] != \".jpg\":\n",
      "              continue\n",
      "            \n",
      "            # Read in the images and create the features\n",
      "            nameFileImage = \"{0}{1}{2}\".format(fileNameDir[0], os.sep, fileName)            \n",
      "            image = imread(nameFileImage, as_grey=True)\n",
      "            files.append(nameFileImage)\n",
      "            axisratio = getMinorMajorRatio(image)\n",
      "            image = resize(image, (maxPixel, maxPixel))\n",
      "            \n",
      "            # Store the rescaled image pixels and the axis ratio\n",
      "            #X[i, 0:imageSize] = np.reshape(image, (1, imageSize))\n",
      "            # Use only moments 2-6, as \n",
      "            X[i, 0:5] = get_hu_moments(image)[1:6]\n",
      "            X[i, 5] = axisratio\n",
      "            \n",
      "            # ! why replacing 0:7 with something length = 7, 0:7 is 8 isn't it?!?!\n",
      "            \n",
      "            # Store the classlabel\n",
      "            y[i] = label\n",
      "            i += 1\n",
      "            # report progress for each 5% done  \n",
      "            report = [int((j+1)*num_rows/20.) for j in range(20)]\n",
      "            if i in report: print np.ceil(i *100.0 / num_rows), \"% done\"\n",
      "    label += 1"
     ],
     "language": "python",
     "metadata": {},
     "outputs": [
      {
       "output_type": "stream",
       "stream": "stdout",
       "text": [
        "Reading images\n",
        "5.0"
       ]
      },
      {
       "output_type": "stream",
       "stream": "stdout",
       "text": [
        " % done\n",
        "10.0"
       ]
      },
      {
       "output_type": "stream",
       "stream": "stdout",
       "text": [
        " % done\n",
        "15.0"
       ]
      },
      {
       "output_type": "stream",
       "stream": "stdout",
       "text": [
        " % done\n",
        "20.0"
       ]
      },
      {
       "output_type": "stream",
       "stream": "stdout",
       "text": [
        " % done\n",
        "25.0"
       ]
      },
      {
       "output_type": "stream",
       "stream": "stdout",
       "text": [
        " % done\n",
        "30.0"
       ]
      },
      {
       "output_type": "stream",
       "stream": "stdout",
       "text": [
        " % done\n",
        "35.0"
       ]
      },
      {
       "output_type": "stream",
       "stream": "stdout",
       "text": [
        " % done\n",
        "40.0"
       ]
      },
      {
       "output_type": "stream",
       "stream": "stdout",
       "text": [
        " % done\n",
        "45.0"
       ]
      },
      {
       "output_type": "stream",
       "stream": "stdout",
       "text": [
        " % done\n",
        "50.0"
       ]
      },
      {
       "output_type": "stream",
       "stream": "stdout",
       "text": [
        " % done\n",
        "55.0"
       ]
      },
      {
       "output_type": "stream",
       "stream": "stdout",
       "text": [
        " % done\n",
        "60.0"
       ]
      },
      {
       "output_type": "stream",
       "stream": "stdout",
       "text": [
        " % done\n",
        "65.0"
       ]
      },
      {
       "output_type": "stream",
       "stream": "stdout",
       "text": [
        " % done\n",
        "70.0"
       ]
      },
      {
       "output_type": "stream",
       "stream": "stdout",
       "text": [
        " % done\n",
        "75.0"
       ]
      },
      {
       "output_type": "stream",
       "stream": "stdout",
       "text": [
        " % done\n",
        "80.0"
       ]
      },
      {
       "output_type": "stream",
       "stream": "stdout",
       "text": [
        " % done\n",
        "85.0"
       ]
      },
      {
       "output_type": "stream",
       "stream": "stdout",
       "text": [
        " % done\n",
        "90.0"
       ]
      },
      {
       "output_type": "stream",
       "stream": "stdout",
       "text": [
        " % done\n",
        "95.0"
       ]
      },
      {
       "output_type": "stream",
       "stream": "stdout",
       "text": [
        " % done\n",
        "100.0"
       ]
      },
      {
       "output_type": "stream",
       "stream": "stdout",
       "text": [
        " % done\n"
       ]
      }
     ],
     "prompt_number": 10
    },
    {
     "cell_type": "code",
     "collapsed": false,
     "input": [
      "print X.shape\n",
      "for i in xrange(30337):\n",
      "    if i % 1000 == 0:\n",
      "        print i\n",
      "        print X[i::30336]\n",
      "    else:\n",
      "        continue"
     ],
     "language": "python",
     "metadata": {},
     "outputs": [
      {
       "output_type": "stream",
       "stream": "stdout",
       "text": [
        "(30336, 6)\n",
        "0\n",
        "[[  1.88866578e-05   1.51670114e-07   4.37178802e-04   3.36056557e-09\n",
        "    1.89116844e-06   4.70081824e-01]]\n",
        "1000\n",
        "[[  1.69495464e-05   8.29416448e-07   4.71577326e-04   8.93714211e-09\n",
        "    1.94006387e-06   7.70601074e-01]]\n",
        "2000\n",
        "[[  1.14851380e-05   4.41773534e-08   3.80797891e-04   1.54945714e-09\n",
        "    1.29049545e-06   8.66546017e-01]]\n",
        "3000\n",
        "[[  2.10425390e-05   9.94736321e-07   6.68011923e-04  -3.04870252e-10\n",
        "    1.92567328e-06   1.97893300e-01]]\n",
        "4000\n",
        "[[  2.03800317e-05   7.80028079e-06   4.31305448e-04  -2.37659011e-08\n",
        "   -1.50170394e-06   1.39732501e-01]]\n",
        "5000\n",
        "[[  6.64218039e-05   1.21996443e-06   4.85409325e-04   6.74541437e-09\n",
        "    3.74015206e-06   1.04402450e-01]]\n",
        "6000\n",
        "[[  1.14796322e-05   5.73819888e-08   4.05146663e-04   1.83697241e-09\n",
        "    1.37043365e-06   7.62652224e-01]]\n",
        "7000\n",
        "[[  7.34760321e-06   3.88462794e-07   4.76298286e-04   4.23071754e-09\n",
        "    1.04971924e-06   2.17898948e-01]]\n",
        "8000\n",
        "[[  7.76290331e-05   5.88734410e-08   7.45083004e-04  -2.95670517e-09\n",
        "    4.45472296e-06   7.08907833e-01]]\n",
        "9000\n",
        "[[  1.29830532e-05   6.55964476e-08   3.72632689e-04   1.84215235e-09\n",
        "    1.34205482e-06   1.71816927e-01]]\n",
        "10000\n",
        "[[  2.37251948e-04   2.38303141e-05   8.97797359e-04   4.54496189e-08\n",
        "    1.16683459e-05   6.14703123e-01]]\n",
        "11000\n",
        "[[  8.04325769e-06   3.70033217e-08   5.14524077e-04  -2.33379505e-10\n",
        "    1.43956451e-06   7.67775620e-01]]\n",
        "12000\n",
        "[[  1.63222438e-05   5.47721088e-08   4.57290406e-04   2.22429452e-09\n",
        "    1.84366901e-06   6.39168228e-01]]\n",
        "13000\n",
        "[[  1.34212308e-05   4.99418948e-08   4.09064768e-04   1.83014547e-09\n",
        "    1.49667369e-06   5.92601927e-01]]\n",
        "14000\n",
        "[[  1.94055855e-05   1.66892187e-07   5.40952365e-04   5.13990563e-09\n",
        "    2.38192686e-06   7.16774103e-01]]\n",
        "15000\n",
        "[[  2.82162472e-05   3.03366334e-07   5.73943414e-04   6.59743773e-09\n",
        "    3.03512150e-06   6.35176364e-01]]\n",
        "16000\n",
        "[[  2.01136741e-05   2.43294830e-07   8.36540149e-04   1.08502678e-08\n",
        "    3.73114347e-06   8.46576887e-01]]\n",
        "17000\n",
        "[[  2.01723848e-05   9.19336545e-08   5.06405659e-04   3.36262285e-09\n",
        "    2.27236078e-06   5.87795558e-01]]\n",
        "18000\n",
        "[[  2.40354169e-06   6.73487263e-08   4.12822445e-04  -2.09044222e-09\n",
        "    6.36699201e-07   1.12489374e-01]]\n",
        "19000\n",
        "[[  1.33669324e-05   3.64978746e-08   4.03540202e-04   9.17284603e-10\n",
        "    1.47437829e-06   5.37247379e-01]]\n",
        "20000\n",
        "[[  1.05603002e-05   2.65287552e-08   3.86758574e-04   1.12609388e-09\n",
        "    1.25642126e-06   7.02447886e-01]]\n",
        "21000\n",
        "[[  2.39316188e-05   1.21197844e-06   8.54742672e-04  -2.37092404e-08\n",
        "   -4.12664338e-06   3.74101032e-01]]\n",
        "22000\n",
        "[[  3.33313884e-05   4.38922376e-07   4.33953838e-04   2.71010162e-09\n",
        "    2.50402443e-06   7.22941784e-01]]\n",
        "23000\n",
        "[[  1.65662684e-05   4.08148211e-07   4.75790702e-04   3.43910564e-09\n",
        "    1.93611156e-06   1.90096700e-01]]\n",
        "24000\n",
        "[[  2.43038164e-06   2.63921689e-08   4.10529178e-04   1.10055473e-09\n",
        "    6.08497544e-07   9.32730541e-02]]\n",
        "25000\n",
        "[[  6.15123947e-06   1.53511082e-07   4.76258430e-04  -1.41683216e-09\n",
        "    3.13586619e-07   1.03819019e-01]]\n",
        "26000\n",
        "[[  4.21290502e-05   7.55393892e-07   5.62282366e-04   1.08660015e-08\n",
        "    3.40398794e-06   2.88970404e-01]]\n",
        "27000\n",
        "[[  1.15071292e-05   5.46055762e-08   5.17686877e-04   2.51443576e-09\n",
        "    1.73436471e-06   8.00414043e-01]]\n",
        "28000\n",
        "[[  1.74722390e-05   1.49506292e-07   5.35920080e-04   4.67234045e-09\n",
        "    2.21122799e-06   6.72353971e-01]]\n",
        "29000\n",
        "[[  2.73942957e-05   1.97407861e-07   5.13661576e-04   5.02157094e-09\n",
        "    2.62885663e-06   4.38612341e-01]]\n",
        "30000\n",
        "[[  4.09800435e-06   1.54376781e-07   4.00213361e-04   3.14155370e-09\n",
        "    8.09947415e-07   4.66829211e-01]]\n"
       ]
      }
     ],
     "prompt_number": 11
    },
    {
     "cell_type": "code",
     "collapsed": false,
     "input": [
      "print \"Training\"\n",
      "# n_estimators is the number of decision trees\n",
      "# max_features also known as m_try is set to the default value of the square root of the number of features\n",
      "clf = RF(n_estimators=100, n_jobs=3)\n",
      "scores = cross_validation.cross_val_score(clf, X, y, cv=5, n_jobs=1)\n",
      "print(\"Accuracy: %0.2f (+/- %0.5f)\" % (scores.mean(), scores.std() * 2))\n",
      "# print \"Accuracy of all classes\"\n",
      "# print np.mean(scores)"
     ],
     "language": "python",
     "metadata": {},
     "outputs": [
      {
       "output_type": "stream",
       "stream": "stdout",
       "text": [
        "Training\n",
        "Accuracy: 0.28 (+/- 0.00452)\n"
       ]
      }
     ],
     "prompt_number": 14
    },
    {
     "cell_type": "code",
     "collapsed": false,
     "input": [
      "def multiclass_log_loss(y_true, y_pred, eps=1e-15):\n",
      "    \"\"\"Multi class version of Logarithmic Loss metric.\n",
      "    https://www.kaggle.com/wiki/MultiClassLogLoss\n",
      "\n",
      "    Parameters\n",
      "    ----------\n",
      "    y_true : array, shape = [n_samples]\n",
      "            true class, intergers in [0, n_classes - 1)\n",
      "    y_pred : array, shape = [n_samples, n_classes]\n",
      "\n",
      "    Returns\n",
      "    -------\n",
      "    loss : float\n",
      "    \"\"\"\n",
      "    predictions = np.clip(y_pred, eps, 1 - eps)\n",
      "\n",
      "    # normalize row sums to 1\n",
      "    predictions /= predictions.sum(axis=1)[:, np.newaxis]\n",
      "\n",
      "    actual = np.zeros(y_pred.shape)\n",
      "    n_samples = actual.shape[0]\n",
      "    actual[np.arange(n_samples), y_true.astype(int)] = 1\n",
      "    vectsum = np.sum(actual * np.log(predictions))\n",
      "    loss = -1.0 / n_samples * vectsum\n",
      "    return loss\n"
     ],
     "language": "python",
     "metadata": {},
     "outputs": [],
     "prompt_number": 15
    },
    {
     "cell_type": "code",
     "collapsed": false,
     "input": [
      "# Get the probability predictions for computing the log-loss function\n",
      "kf = KFold(y, n_folds=5)\n",
      "# prediction probabilities number of samples, by number of classes\n",
      "y_pred = np.zeros((len(y),len(set(y))))\n",
      "for train, test in kf:\n",
      "    X_train, X_test, y_train, y_test = X[train,:], X[test,:], y[train], y[test]\n",
      "    clf = RF(n_estimators=100, n_jobs=3)\n",
      "    clf.fit(X_train, y_train)\n",
      "    y_pred[test] = clf.predict_proba(X_test)"
     ],
     "language": "python",
     "metadata": {},
     "outputs": [],
     "prompt_number": 16
    },
    {
     "cell_type": "code",
     "collapsed": false,
     "input": [
      "multiclass_log_loss(y, y_pred)\n",
      "# 2.8312848633252683 old score"
     ],
     "language": "python",
     "metadata": {},
     "outputs": [
      {
       "metadata": {},
       "output_type": "pyout",
       "prompt_number": 18,
       "text": [
        "3.0722228405580134"
       ]
      }
     ],
     "prompt_number": 18
    },
    {
     "cell_type": "code",
     "collapsed": false,
     "input": [
      "## Tutorial for submitting\n",
      "header = \"acantharia_protist_big_center,acantharia_protist_halo,acantharia_protist,amphipods,appendicularian_fritillaridae,appendicularian_s_shape,appendicularian_slight_curve,appendicularian_straight,artifacts_edge,artifacts,chaetognath_non_sagitta,chaetognath_other,chaetognath_sagitta,chordate_type1,copepod_calanoid_eggs,copepod_calanoid_eucalanus,copepod_calanoid_flatheads,copepod_calanoid_frillyAntennae,copepod_calanoid_large_side_antennatucked,copepod_calanoid_large,copepod_calanoid_octomoms,copepod_calanoid_small_longantennae,copepod_calanoid,copepod_cyclopoid_copilia,copepod_cyclopoid_oithona_eggs,copepod_cyclopoid_oithona,copepod_other,crustacean_other,ctenophore_cestid,ctenophore_cydippid_no_tentacles,ctenophore_cydippid_tentacles,ctenophore_lobate,decapods,detritus_blob,detritus_filamentous,detritus_other,diatom_chain_string,diatom_chain_tube,echinoderm_larva_pluteus_brittlestar,echinoderm_larva_pluteus_early,echinoderm_larva_pluteus_typeC,echinoderm_larva_pluteus_urchin,echinoderm_larva_seastar_bipinnaria,echinoderm_larva_seastar_brachiolaria,echinoderm_seacucumber_auricularia_larva,echinopluteus,ephyra,euphausiids_young,euphausiids,fecal_pellet,fish_larvae_deep_body,fish_larvae_leptocephali,fish_larvae_medium_body,fish_larvae_myctophids,fish_larvae_thin_body,fish_larvae_very_thin_body,heteropod,hydromedusae_aglaura,hydromedusae_bell_and_tentacles,hydromedusae_h15,hydromedusae_haliscera_small_sideview,hydromedusae_haliscera,hydromedusae_liriope,hydromedusae_narco_dark,hydromedusae_narco_young,hydromedusae_narcomedusae,hydromedusae_other,hydromedusae_partial_dark,hydromedusae_shapeA_sideview_small,hydromedusae_shapeA,hydromedusae_shapeB,hydromedusae_sideview_big,hydromedusae_solmaris,hydromedusae_solmundella,hydromedusae_typeD_bell_and_tentacles,hydromedusae_typeD,hydromedusae_typeE,hydromedusae_typeF,invertebrate_larvae_other_A,invertebrate_larvae_other_B,jellies_tentacles,polychaete,protist_dark_center,protist_fuzzy_olive,protist_noctiluca,protist_other,protist_star,pteropod_butterfly,pteropod_theco_dev_seq,pteropod_triangle,radiolarian_chain,radiolarian_colony,shrimp_caridean,shrimp_sergestidae,shrimp_zoea,shrimp-like_other,siphonophore_calycophoran_abylidae,siphonophore_calycophoran_rocketship_adult,siphonophore_calycophoran_rocketship_young,siphonophore_calycophoran_sphaeronectes_stem,siphonophore_calycophoran_sphaeronectes_young,siphonophore_calycophoran_sphaeronectes,siphonophore_other_parts,siphonophore_partial,siphonophore_physonect_young,siphonophore_physonect,stomatopod,tornaria_acorn_worm_larvae,trichodesmium_bowtie,trichodesmium_multiple,trichodesmium_puff,trichodesmium_tuft,trochophore_larvae,tunicate_doliolid_nurse,tunicate_doliolid,tunicate_partial,tunicate_salp_chains,tunicate_salp,unknown_blobs_and_smudges,unknown_sticks,unknown_unclassified\".split(',')"
     ],
     "language": "python",
     "metadata": {},
     "outputs": [],
     "prompt_number": 19
    },
    {
     "cell_type": "code",
     "collapsed": false,
     "input": [
      "labels = map(lambda s: s.split('/')[-1], namesClasses)"
     ],
     "language": "python",
     "metadata": {},
     "outputs": [],
     "prompt_number": 20
    },
    {
     "cell_type": "code",
     "collapsed": false,
     "input": [
      "#get the total test images\n",
      "fnames = glob.glob(os.path.join(\"competition_data\", \"test\", \"*.jpg\"))\n",
      "numberofTestImages = len(fnames)"
     ],
     "language": "python",
     "metadata": {},
     "outputs": [],
     "prompt_number": 21
    },
    {
     "cell_type": "code",
     "collapsed": false,
     "input": [
      "print numberofTestImages\n",
      "print num_features"
     ],
     "language": "python",
     "metadata": {},
     "outputs": [
      {
       "output_type": "stream",
       "stream": "stdout",
       "text": [
        "130400\n",
        "6\n"
       ]
      }
     ],
     "prompt_number": 22
    },
    {
     "cell_type": "code",
     "collapsed": false,
     "input": [
      "X_test = np.zeros((numberofTestImages, num_features), dtype=float)"
     ],
     "language": "python",
     "metadata": {},
     "outputs": [],
     "prompt_number": 23
    },
    {
     "cell_type": "code",
     "collapsed": false,
     "input": [
      "images = map(lambda fileName: fileName.split('/')[-1], fnames)"
     ],
     "language": "python",
     "metadata": {},
     "outputs": [],
     "prompt_number": 24
    },
    {
     "cell_type": "code",
     "collapsed": false,
     "input": [
      "i = 0\n",
      "# report progress for each 5% done  \n",
      "report = [int((j+1)*numberofTestImages/20.) for j in range(20)]\n",
      "for fileName in fnames:\n",
      "    # Read in the images and create the features\n",
      "    image = imread(fileName, as_grey=True)\n",
      "    axisratio = getMinorMajorRatio(image)\n",
      "    image = resize(image, (maxPixel, maxPixel))\n",
      "\n",
      "    # Store the rescaled image pixels and the axis ratio\n",
      "#     X_test[i, 0:imageSize] = np.reshape(image, (1, imageSize))\n",
      "    X_test[i, 0:5] = get_hu_moments(image)[1:6]\n",
      "    X_test[i, 5] = axisratio\n",
      " \n",
      "    i += 1\n",
      "    if i in report: print np.ceil(i *100.0 / numberofTestImages), \"% done\""
     ],
     "language": "python",
     "metadata": {},
     "outputs": [
      {
       "output_type": "stream",
       "stream": "stdout",
       "text": [
        "5.0 % done\n",
        "10.0"
       ]
      },
      {
       "output_type": "stream",
       "stream": "stdout",
       "text": [
        " % done\n",
        "15.0"
       ]
      },
      {
       "output_type": "stream",
       "stream": "stdout",
       "text": [
        " % done\n",
        "20.0"
       ]
      },
      {
       "output_type": "stream",
       "stream": "stdout",
       "text": [
        " % done\n",
        "25.0"
       ]
      },
      {
       "output_type": "stream",
       "stream": "stdout",
       "text": [
        " % done\n",
        "30.0"
       ]
      },
      {
       "output_type": "stream",
       "stream": "stdout",
       "text": [
        " % done\n",
        "35.0"
       ]
      },
      {
       "output_type": "stream",
       "stream": "stdout",
       "text": [
        " % done\n",
        "40.0"
       ]
      },
      {
       "output_type": "stream",
       "stream": "stdout",
       "text": [
        " % done\n",
        "45.0"
       ]
      },
      {
       "output_type": "stream",
       "stream": "stdout",
       "text": [
        " % done\n",
        "50.0"
       ]
      },
      {
       "output_type": "stream",
       "stream": "stdout",
       "text": [
        " % done\n",
        "55.0"
       ]
      },
      {
       "output_type": "stream",
       "stream": "stdout",
       "text": [
        " % done\n",
        "60.0"
       ]
      },
      {
       "output_type": "stream",
       "stream": "stdout",
       "text": [
        " % done\n",
        "65.0"
       ]
      },
      {
       "output_type": "stream",
       "stream": "stdout",
       "text": [
        " % done\n",
        "70.0"
       ]
      },
      {
       "output_type": "stream",
       "stream": "stdout",
       "text": [
        " % done\n",
        "75.0"
       ]
      },
      {
       "output_type": "stream",
       "stream": "stdout",
       "text": [
        " % done\n",
        "80.0"
       ]
      },
      {
       "output_type": "stream",
       "stream": "stdout",
       "text": [
        " % done\n",
        "85.0"
       ]
      },
      {
       "output_type": "stream",
       "stream": "stdout",
       "text": [
        " % done\n",
        "90.0"
       ]
      },
      {
       "output_type": "stream",
       "stream": "stdout",
       "text": [
        " % done\n",
        "95.0"
       ]
      },
      {
       "output_type": "stream",
       "stream": "stdout",
       "text": [
        " % done\n",
        "100.0"
       ]
      },
      {
       "output_type": "stream",
       "stream": "stdout",
       "text": [
        " % done\n"
       ]
      }
     ],
     "prompt_number": 25
    },
    {
     "cell_type": "code",
     "collapsed": false,
     "input": [
      "y_pred = clf.predict_proba(X_test)"
     ],
     "language": "python",
     "metadata": {},
     "outputs": [],
     "prompt_number": 26
    },
    {
     "cell_type": "code",
     "collapsed": false,
     "input": [
      "y_pred.shape"
     ],
     "language": "python",
     "metadata": {},
     "outputs": [
      {
       "metadata": {},
       "output_type": "pyout",
       "prompt_number": 27,
       "text": [
        "(130400, 121)"
       ]
      }
     ],
     "prompt_number": 27
    },
    {
     "cell_type": "code",
     "collapsed": false,
     "input": [
      "print labels[1]\n",
      "print images[1]\n",
      "print len(images)\n",
      "print len(labels)"
     ],
     "language": "python",
     "metadata": {},
     "outputs": [
      {
       "output_type": "stream",
       "stream": "stdout",
       "text": [
        "hydromedusae_shapeB\n",
        "10.jpg\n",
        "130400\n",
        "121\n"
       ]
      }
     ],
     "prompt_number": 28
    },
    {
     "cell_type": "code",
     "collapsed": false,
     "input": [
      "df = pd.DataFrame(y_pred, columns=labels, index=images)"
     ],
     "language": "python",
     "metadata": {},
     "outputs": [],
     "prompt_number": 29
    },
    {
     "cell_type": "code",
     "collapsed": false,
     "input": [
      "df.index.name = 'image'\n",
      "df = df[header]\n",
      "df.to_csv('competition_data/submission_hu_moments_2-6.csv')"
     ],
     "language": "python",
     "metadata": {},
     "outputs": []
    },
    {
     "cell_type": "code",
     "collapsed": false,
     "input": [
      "!gzip competition_data/submission_hu_moments_2-6.csv\n",
      "!ls -l competition_data/submission_hu_moments_2-6.csv.gz"
     ],
     "language": "python",
     "metadata": {},
     "outputs": [
      {
       "output_type": "stream",
       "stream": "stdout",
       "text": [
        "-rw-r--r-- 1 joth joth 128143663 Jan  4 14:33 competition_data/submission_hu_moments_2-6.csv.gz\r\n"
       ]
      }
     ],
     "prompt_number": 31
    }
   ],
   "metadata": {}
  }
 ]
}