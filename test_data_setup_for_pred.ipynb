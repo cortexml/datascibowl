{
 "metadata": {
  "name": "",
  "signature": "sha256:537d76f0cae9fe984b7c24ba23034ea2faf7bc505ac74487fe2262f1edbed1ae"
 },
 "nbformat": 3,
 "nbformat_minor": 0,
 "worksheets": [
  {
   "cells": [
    {
     "cell_type": "code",
     "collapsed": false,
     "input": [
      "import glob\n",
      "import os\n",
      "import numpy as np\n",
      "from skimage.io import imread\n",
      "from skimage.transform import resize"
     ],
     "language": "python",
     "metadata": {},
     "outputs": [],
     "prompt_number": 14
    },
    {
     "cell_type": "code",
     "collapsed": false,
     "input": [
      "maxPixel = 32\n",
      "fnames = glob.glob(os.path.join(\"competition_data\", \"test\", \"*.jpg\"))\n",
      "numberofTestImages = len(fnames)\n",
      "X_test = np.zeros((numberofTestImages, maxPixel*maxPixel), dtype=float)\n",
      "images = map(lambda fileName: fileName.split('/')[-1], fnames)"
     ],
     "language": "python",
     "metadata": {},
     "outputs": [],
     "prompt_number": 9
    },
    {
     "cell_type": "code",
     "collapsed": false,
     "input": [
      "i = 0\n",
      "# report progress for each 5% done  \n",
      "report = [int((j+1)*numberofTestImages/20.) for j in range(20)]\n",
      "for fileName in fnames:\n",
      "    image = imread(fileName, as_grey=True)\n",
      "    image = resize(image, (maxPixel, maxPixel))\n",
      "\n",
      "    image = np.reshape(image, (1, maxPixel*maxPixel))\n",
      "    \n",
      "    X_test[i, :] = image\n",
      " \n",
      "    i += 1\n",
      "    if i == 100:\n",
      "        break\n",
      "    if i in report: print np.ceil(i *100.0 / numberofTestImages), \"% done\""
     ],
     "language": "python",
     "metadata": {},
     "outputs": [],
     "prompt_number": 30
    },
    {
     "cell_type": "code",
     "collapsed": false,
     "input": [
      "print X_test.shape\n",
      "X_test[1:100,]"
     ],
     "language": "python",
     "metadata": {},
     "outputs": [
      {
       "output_type": "stream",
       "stream": "stdout",
       "text": [
        "(130400, 1024)\n"
       ]
      },
      {
       "metadata": {},
       "output_type": "pyout",
       "prompt_number": 32,
       "text": [
        "array([[ 1.        ,  1.        ,  1.        , ...,  1.        ,\n",
        "         1.        ,  1.        ],\n",
        "       [ 1.        ,  1.        ,  1.        , ...,  0.99686926,\n",
        "         0.98919271,  0.97329197],\n",
        "       [ 1.        ,  1.        ,  1.        , ...,  1.        ,\n",
        "         1.        ,  1.        ],\n",
        "       ..., \n",
        "       [ 1.        ,  1.        ,  1.        , ...,  1.        ,\n",
        "         1.        ,  1.        ],\n",
        "       [ 1.        ,  1.        ,  1.        , ...,  1.        ,\n",
        "         1.        ,  1.        ],\n",
        "       [ 0.96762791,  0.9969401 ,  0.97565487, ...,  0.99802773,\n",
        "         0.99600184,  0.98932292]])"
       ]
      }
     ],
     "prompt_number": 32
    },
    {
     "cell_type": "code",
     "collapsed": false,
     "input": [
      "X_test -= X_test.mean(axis=0)"
     ],
     "language": "python",
     "metadata": {},
     "outputs": [],
     "prompt_number": 27
    },
    {
     "cell_type": "code",
     "collapsed": false,
     "input": [
      "X_test[1:100,]"
     ],
     "language": "python",
     "metadata": {},
     "outputs": [
      {
       "metadata": {},
       "output_type": "pyout",
       "prompt_number": 33,
       "text": [
        "array([[ 1.        ,  1.        ,  1.        , ...,  1.        ,\n",
        "         1.        ,  1.        ],\n",
        "       [ 1.        ,  1.        ,  1.        , ...,  0.99686926,\n",
        "         0.98919271,  0.97329197],\n",
        "       [ 1.        ,  1.        ,  1.        , ...,  1.        ,\n",
        "         1.        ,  1.        ],\n",
        "       ..., \n",
        "       [ 1.        ,  1.        ,  1.        , ...,  1.        ,\n",
        "         1.        ,  1.        ],\n",
        "       [ 1.        ,  1.        ,  1.        , ...,  1.        ,\n",
        "         1.        ,  1.        ],\n",
        "       [ 0.96762791,  0.9969401 ,  0.97565487, ...,  0.99802773,\n",
        "         0.99600184,  0.98932292]])"
       ]
      }
     ],
     "prompt_number": 33
    },
    {
     "cell_type": "code",
     "collapsed": false,
     "input": [],
     "language": "python",
     "metadata": {},
     "outputs": []
    }
   ],
   "metadata": {}
  }
 ]
}