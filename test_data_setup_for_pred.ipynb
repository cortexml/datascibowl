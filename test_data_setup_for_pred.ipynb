{
 "metadata": {
  "name": "",
  "signature": "sha256:59c37eefaab1f80d38f852b47ad928042f576687634627a1df4ffbf73f010273"
 },
 "nbformat": 3,
 "nbformat_minor": 0,
 "worksheets": [
  {
   "cells": [
    {
     "cell_type": "code",
     "collapsed": false,
     "input": [
      "import glob\n",
      "import os\n",
      "import numpy as np\n",
      "from skimage.io import imread\n",
      "from skimage.transform import resize"
     ],
     "language": "python",
     "metadata": {},
     "outputs": [],
     "prompt_number": 14
    },
    {
     "cell_type": "code",
     "collapsed": false,
     "input": [
      "maxPixel = 32\n",
      "fnames = glob.glob(os.path.join(\"competition_data\", \"test\", \"*.jpg\"))\n",
      "numberofTestImages = len(fnames)\n",
      "X_test = np.zeros((numberofTestImages, maxPixel*maxPixel), dtype=float)\n",
      "images = map(lambda fileName: fileName.split('/')[-1], fnames)"
     ],
     "language": "python",
     "metadata": {},
     "outputs": [],
     "prompt_number": 9
    },
    {
     "cell_type": "code",
     "collapsed": false,
     "input": [
      "i = 0\n",
      "# report progress for each 5% done  \n",
      "report = [int((j+1)*numberofTestImages/20.) for j in range(20)]\n",
      "for fileName in fnames:\n",
      "    image = imread(fileName, as_grey=True)\n",
      "    image = resize(image, (maxPixel, maxPixel))\n",
      "\n",
      "    image = np.reshape(image, (1, maxPixel*maxPixel))\n",
      "    \n",
      "    X_test[i, :] = image\n",
      " \n",
      "    i += 1\n",
      "#     if i == 100:\n",
      "#         break\n",
      "    if i in report: print np.ceil(i *100.0 / numberofTestImages), \"% done\""
     ],
     "language": "python",
     "metadata": {},
     "outputs": [
      {
       "output_type": "stream",
       "stream": "stdout",
       "text": [
        "5.0 % done\n",
        "10.0"
       ]
      },
      {
       "output_type": "stream",
       "stream": "stdout",
       "text": [
        " % done\n",
        "15.0"
       ]
      },
      {
       "output_type": "stream",
       "stream": "stdout",
       "text": [
        " % done\n",
        "20.0"
       ]
      },
      {
       "output_type": "stream",
       "stream": "stdout",
       "text": [
        " % done\n",
        "25.0"
       ]
      },
      {
       "output_type": "stream",
       "stream": "stdout",
       "text": [
        " % done\n",
        "30.0"
       ]
      },
      {
       "output_type": "stream",
       "stream": "stdout",
       "text": [
        " % done\n",
        "35.0"
       ]
      },
      {
       "output_type": "stream",
       "stream": "stdout",
       "text": [
        " % done\n",
        "40.0"
       ]
      },
      {
       "output_type": "stream",
       "stream": "stdout",
       "text": [
        " % done\n",
        "45.0"
       ]
      },
      {
       "output_type": "stream",
       "stream": "stdout",
       "text": [
        " % done\n",
        "50.0"
       ]
      },
      {
       "output_type": "stream",
       "stream": "stdout",
       "text": [
        " % done\n",
        "55.0"
       ]
      },
      {
       "output_type": "stream",
       "stream": "stdout",
       "text": [
        " % done\n",
        "60.0"
       ]
      },
      {
       "output_type": "stream",
       "stream": "stdout",
       "text": [
        " % done\n",
        "65.0"
       ]
      },
      {
       "output_type": "stream",
       "stream": "stdout",
       "text": [
        " % done\n",
        "70.0"
       ]
      },
      {
       "output_type": "stream",
       "stream": "stdout",
       "text": [
        " % done\n",
        "75.0"
       ]
      },
      {
       "output_type": "stream",
       "stream": "stdout",
       "text": [
        " % done\n",
        "80.0"
       ]
      },
      {
       "output_type": "stream",
       "stream": "stdout",
       "text": [
        " % done\n",
        "85.0"
       ]
      },
      {
       "output_type": "stream",
       "stream": "stdout",
       "text": [
        " % done\n",
        "90.0"
       ]
      },
      {
       "output_type": "stream",
       "stream": "stdout",
       "text": [
        " % done\n",
        "95.0"
       ]
      },
      {
       "output_type": "stream",
       "stream": "stdout",
       "text": [
        " % done\n",
        "100.0"
       ]
      },
      {
       "output_type": "stream",
       "stream": "stdout",
       "text": [
        " % done\n"
       ]
      }
     ],
     "prompt_number": 34
    },
    {
     "cell_type": "code",
     "collapsed": false,
     "input": [
      "# center pixel vals about mean\n",
      "X_test -= X_test.mean(axis=0)"
     ],
     "language": "python",
     "metadata": {},
     "outputs": [],
     "prompt_number": 37
    },
    {
     "cell_type": "code",
     "collapsed": false,
     "input": [
      "import tables\n",
      "# how long does it take to read the h5 file vs the images?\n",
      "# h5file = tables.openFile('test_data_centred.h5', mode='w', title=\"Test Array\")\n",
      "# root = h5file.root\n",
      "# h5file.createArray(root, \"test_data_centred\", X_test)\n",
      "# h5file.close()"
     ],
     "language": "python",
     "metadata": {},
     "outputs": [],
     "prompt_number": 48
    },
    {
     "cell_type": "code",
     "collapsed": false,
     "input": [
      "import theano\n",
      "from pylearn2.datasets.datascibowl import DataSciBowl\n",
      "from pylearn2.utils import serial\n",
      "\n",
      "model_path = 'softmax_regression_best_shuf_ctr_03.pkl'\n",
      "model = serial.load( model_path )\n",
      "\n",
      "X = model.get_input_space().make_theano_batch()\n",
      "Y = model.fprop( X )\n",
      "\n",
      "f = theano.function( [X], Y )"
     ],
     "language": "python",
     "metadata": {},
     "outputs": [],
     "prompt_number": 51
    },
    {
     "cell_type": "code",
     "collapsed": false,
     "input": [
      "y = f( X_test )"
     ],
     "language": "python",
     "metadata": {},
     "outputs": [],
     "prompt_number": 52
    },
    {
     "cell_type": "code",
     "collapsed": false,
     "input": [
      "y.shape"
     ],
     "language": "python",
     "metadata": {},
     "outputs": [
      {
       "metadata": {},
       "output_type": "pyout",
       "prompt_number": 53,
       "text": [
        "(130400, 121)"
       ]
      }
     ],
     "prompt_number": 53
    },
    {
     "cell_type": "code",
     "collapsed": false,
     "input": [
      "y[1:10,]"
     ],
     "language": "python",
     "metadata": {},
     "outputs": [
      {
       "metadata": {},
       "output_type": "pyout",
       "prompt_number": 54,
       "text": [
        "array([[  1.49346324e-02,   9.95772872e-04,   5.53935159e-04, ...,\n",
        "          2.36347644e-03,   5.81939637e-03,   9.01007287e-03],\n",
        "       [  4.70616011e-08,   1.42149710e-06,   2.76890773e-05, ...,\n",
        "          2.42167008e-07,   1.30562728e-05,   1.65200531e-04],\n",
        "       [  9.38207505e-04,   4.05340714e-04,   1.02863217e-03, ...,\n",
        "          1.29179659e-02,   1.38900064e-02,   6.94597408e-03],\n",
        "       ..., \n",
        "       [  8.75291405e-06,   2.14339578e-05,   2.42306717e-05, ...,\n",
        "          1.08342886e-04,   2.19876612e-04,   2.95460313e-03],\n",
        "       [  1.18201627e-15,   1.53416862e-06,   9.90429416e-10, ...,\n",
        "          1.88883709e-02,   2.72682143e-08,   4.82946613e-05],\n",
        "       [  2.63716811e-01,   3.34977422e-05,   6.28500505e-04, ...,\n",
        "          1.97058562e-05,   1.14471024e-03,   4.75597993e-04]])"
       ]
      }
     ],
     "prompt_number": 54
    },
    {
     "cell_type": "code",
     "collapsed": false,
     "input": [],
     "language": "python",
     "metadata": {},
     "outputs": []
    }
   ],
   "metadata": {}
  }
 ]
}