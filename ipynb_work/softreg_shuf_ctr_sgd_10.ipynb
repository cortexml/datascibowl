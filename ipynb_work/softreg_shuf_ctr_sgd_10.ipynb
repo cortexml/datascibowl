{
 "metadata": {
  "name": "",
  "signature": "sha256:663db444c7fbdc04b1e0521cc66a5f55b1d359f9f144b15ddb1852b45c375997"
 },
 "nbformat": 3,
 "nbformat_minor": 0,
 "worksheets": [
  {
   "cells": [
    {
     "cell_type": "markdown",
     "metadata": {},
     "source": [
      "1. Setup the yaml file\n",
      "    - data\n",
      "    - model \n",
      "    - algorithm\n",
      "    - termination criteria\n",
      "    - monitoring extensions (filename)\n",
      "    - save path (filename)\n",
      "2. Update paths/filenames in ipython notebook\n",
      "    - print monitor of best fit\n",
      "    - prediction model and save file path\n",
      "    - gzip"
     ]
    },
    {
     "cell_type": "markdown",
     "metadata": {},
     "source": [
      "In this case, the GPU computing seems to be working. Perhaps so expiriment parameters force slow work on the GPU. This are not clear yet. But I will look around pylearn docs for GPU use."
     ]
    },
    {
     "cell_type": "markdown",
     "metadata": {},
     "source": [
      "In this case, I am training and saving the best model based on NLL instead of misclass rate."
     ]
    },
    {
     "cell_type": "code",
     "collapsed": false,
     "input": [
      "import os\n",
      "import pylearn2\n",
      "from pylearn2.config import yaml_parse\n",
      "import glob\n",
      "import numpy as np\n",
      "import pickle as pkl\n",
      "import pandas as pd"
     ],
     "language": "python",
     "metadata": {},
     "outputs": [
      {
       "output_type": "stream",
       "stream": "stderr",
       "text": [
        "Using gpu device 0: GeForce GTX 550 Ti\n"
       ]
      }
     ],
     "prompt_number": 1
    },
    {
     "cell_type": "code",
     "collapsed": false,
     "input": [
      "os.environ[\"PYLEARN2_DATA_PATH\"] = \"/home/jotham/projects/2014-12-20_datascibowl/data\"\n",
      "print os.path.expandvars(\"$PYLEARN2_DATA_PATH\")"
     ],
     "language": "python",
     "metadata": {},
     "outputs": [
      {
       "output_type": "stream",
       "stream": "stdout",
       "text": [
        "/home/jotham/projects/2014-12-20_datascibowl/data\n"
       ]
      }
     ],
     "prompt_number": 4
    },
    {
     "cell_type": "code",
     "collapsed": false,
     "input": [
      "with open('sr_train_10.yaml', 'r') as f:\n",
      "    train = f.read()\n",
      "save_path = '.'\n",
      "train = train %locals()"
     ],
     "language": "python",
     "metadata": {},
     "outputs": [],
     "prompt_number": 5
    },
    {
     "cell_type": "code",
     "collapsed": false,
     "input": [
      "print train"
     ],
     "language": "python",
     "metadata": {},
     "outputs": [
      {
       "output_type": "stream",
       "stream": "stdout",
       "text": [
        "!obj:pylearn2.train.Train {\n",
        "    dataset: &train !obj:pylearn2.datasets.datascibowl.DataSciBowl {\n",
        "        which_set: 'train',\n",
        "        start: 0,\n",
        "        stop: 25000,\n",
        "        shuffle: True,\n",
        "        center: True,\n",
        "    },\n",
        "    model: !obj:pylearn2.models.softmax_regression.SoftmaxRegression {\n",
        "        n_classes: 121,\n",
        "        irange: 0.,\n",
        "        nvis: 1024\n",
        "    },\n",
        "    algorithm: !obj:pylearn2.training_algorithms.sgd.SGD {\n",
        "        batch_size: 5000,\n",
        "        learning_rate: 0.01,\n",
        "        monitoring_dataset:\n",
        "            {\n",
        "                'train' : *train,\n",
        "                'valid' : !obj:pylearn2.datasets.datascibowl.DataSciBowl {\n",
        "                              which_set: 'train',\n",
        "                              start: 25000,\n",
        "                              stop:  30000,\n",
        "                              shuffle: True,\n",
        "                              center: True\n",
        "                          }\n",
        "            },\n",
        "        termination_criterion: !obj:pylearn2.termination_criteria.MonitorBased {\n",
        "            channel_name: \"valid_y_nll\"\n",
        "        }\n",
        "    },\n",
        "    extensions: [\n",
        "        !obj:pylearn2.train_extensions.best_params.MonitorBasedSaveBest {\n",
        "             channel_name: 'valid_y_nll',\n",
        "             save_path: \"softreg_shuf_ctr_sgd_bestnll_10.pkl\"\n",
        "        }\n",
        "    ],\n",
        "    save_path: \"softreg_shuf_ctr_sgd_last_10.pkl\",\n",
        "    save_freq: 1\n",
        "}\n",
        "\n"
       ]
      }
     ],
     "prompt_number": 6
    },
    {
     "cell_type": "code",
     "collapsed": false,
     "input": [
      "train = yaml_parse.load(train)\n",
      "train.main_loop()"
     ],
     "language": "python",
     "metadata": {},
     "outputs": [
      {
       "output_type": "stream",
       "stream": "stdout",
       "text": [
        "Looking for data in /home/jotham/projects/2014-12-20_datascibowl/data/datascibowl/train\n",
        "Found 30336 images"
       ]
      },
      {
       "output_type": "stream",
       "stream": "stdout",
       "text": [
        "\n",
        "Reading files from /home/jotham/projects/2014-12-20_datascibowl/data/datascibowl/train/euphausiids_young\n",
        "Reading files from /home/jotham/projects/2014-12-20_datascibowl/data/datascibowl/train/hydromedusae_narcomedusae\n",
        "Reading files from /home/jotham/projects/2014-12-20_datascibowl/data/datascibowl/train/copepod_calanoid_small_longantennae"
       ]
      },
      {
       "output_type": "stream",
       "stream": "stdout",
       "text": [
        "\n",
        "Reading files from /home/jotham/projects/2014-12-20_datascibowl/data/datascibowl/train/appendicularian_s_shape"
       ]
      },
      {
       "output_type": "stream",
       "stream": "stdout",
       "text": [
        "\n",
        "Reading files from /home/jotham/projects/2014-12-20_datascibowl/data/datascibowl/train/decapods"
       ]
      },
      {
       "output_type": "stream",
       "stream": "stdout",
       "text": [
        "\n",
        "Reading files from /home/jotham/projects/2014-12-20_datascibowl/data/datascibowl/train/hydromedusae_typeD_bell_and_tentacles\n",
        "Reading files from /home/jotham/projects/2014-12-20_datascibowl/data/datascibowl/train/crustacean_other"
       ]
      },
      {
       "output_type": "stream",
       "stream": "stdout",
       "text": [
        "\n",
        "Reading files from /home/jotham/projects/2014-12-20_datascibowl/data/datascibowl/train/hydromedusae_bell_and_tentacles"
       ]
      },
      {
       "output_type": "stream",
       "stream": "stdout",
       "text": [
        "\n",
        "Reading files from /home/jotham/projects/2014-12-20_datascibowl/data/datascibowl/train/echinoderm_larva_pluteus_brittlestar"
       ]
      },
      {
       "output_type": "stream",
       "stream": "stdout",
       "text": [
        "\n",
        "Reading files from /home/jotham/projects/2014-12-20_datascibowl/data/datascibowl/train/invertebrate_larvae_other_B\n",
        "Reading files from /home/jotham/projects/2014-12-20_datascibowl/data/datascibowl/train/hydromedusae_solmaris"
       ]
      },
      {
       "output_type": "stream",
       "stream": "stdout",
       "text": [
        "\n",
        "Reading files from /home/jotham/projects/2014-12-20_datascibowl/data/datascibowl/train/chaetognath_sagitta"
       ]
      },
      {
       "output_type": "stream",
       "stream": "stdout",
       "text": [
        "\n",
        "Reading files from /home/jotham/projects/2014-12-20_datascibowl/data/datascibowl/train/hydromedusae_shapeA"
       ]
      },
      {
       "output_type": "stream",
       "stream": "stdout",
       "text": [
        "\n",
        "Reading files from /home/jotham/projects/2014-12-20_datascibowl/data/datascibowl/train/hydromedusae_shapeB"
       ]
      },
      {
       "output_type": "stream",
       "stream": "stdout",
       "text": [
        "\n",
        "Reading files from /home/jotham/projects/2014-12-20_datascibowl/data/datascibowl/train/hydromedusae_haliscera"
       ]
      },
      {
       "output_type": "stream",
       "stream": "stdout",
       "text": [
        "\n",
        "Reading files from /home/jotham/projects/2014-12-20_datascibowl/data/datascibowl/train/hydromedusae_typeE"
       ]
      },
      {
       "output_type": "stream",
       "stream": "stdout",
       "text": [
        "\n",
        "Reading files from /home/jotham/projects/2014-12-20_datascibowl/data/datascibowl/train/hydromedusae_h15\n",
        "Reading files from /home/jotham/projects/2014-12-20_datascibowl/data/datascibowl/train/artifacts_edge\n",
        "Reading files from /home/jotham/projects/2014-12-20_datascibowl/data/datascibowl/train/copepod_calanoid_frillyAntennae"
       ]
      },
      {
       "output_type": "stream",
       "stream": "stdout",
       "text": [
        "\n",
        "Reading files from /home/jotham/projects/2014-12-20_datascibowl/data/datascibowl/train/copepod_calanoid_large"
       ]
      },
      {
       "output_type": "stream",
       "stream": "stdout",
       "text": [
        "\n",
        "Reading files from /home/jotham/projects/2014-12-20_datascibowl/data/datascibowl/train/siphonophore_calycophoran_abylidae"
       ]
      },
      {
       "output_type": "stream",
       "stream": "stdout",
       "text": [
        "\n",
        "Reading files from /home/jotham/projects/2014-12-20_datascibowl/data/datascibowl/train/invertebrate_larvae_other_A"
       ]
      },
      {
       "output_type": "stream",
       "stream": "stdout",
       "text": [
        "\n",
        "Reading files from /home/jotham/projects/2014-12-20_datascibowl/data/datascibowl/train/protist_dark_center\n",
        "Reading files from /home/jotham/projects/2014-12-20_datascibowl/data/datascibowl/train/ctenophore_cestid"
       ]
      },
      {
       "output_type": "stream",
       "stream": "stdout",
       "text": [
        "\n",
        "Reading files from /home/jotham/projects/2014-12-20_datascibowl/data/datascibowl/train/trichodesmium_tuft"
       ]
      },
      {
       "output_type": "stream",
       "stream": "stdout",
       "text": [
        "\n",
        "Reading files from /home/jotham/projects/2014-12-20_datascibowl/data/datascibowl/train/detritus_other"
       ]
      },
      {
       "output_type": "stream",
       "stream": "stdout",
       "text": [
        "\n",
        "Reading files from /home/jotham/projects/2014-12-20_datascibowl/data/datascibowl/train/tornaria_acorn_worm_larvae"
       ]
      },
      {
       "output_type": "stream",
       "stream": "stdout",
       "text": [
        "\n",
        "Reading files from /home/jotham/projects/2014-12-20_datascibowl/data/datascibowl/train/hydromedusae_other\n",
        "Reading files from /home/jotham/projects/2014-12-20_datascibowl/data/datascibowl/train/tunicate_salp\n",
        "Reading files from /home/jotham/projects/2014-12-20_datascibowl/data/datascibowl/train/shrimp_caridean"
       ]
      },
      {
       "output_type": "stream",
       "stream": "stdout",
       "text": [
        "\n",
        "Reading files from /home/jotham/projects/2014-12-20_datascibowl/data/datascibowl/train/copepod_cyclopoid_oithona\n",
        "Reading files from /home/jotham/projects/2014-12-20_datascibowl/data/datascibowl/train/hydromedusae_sideview_big"
       ]
      },
      {
       "output_type": "stream",
       "stream": "stdout",
       "text": [
        "\n",
        "Reading files from /home/jotham/projects/2014-12-20_datascibowl/data/datascibowl/train/trochophore_larvae"
       ]
      },
      {
       "output_type": "stream",
       "stream": "stdout",
       "text": [
        "\n",
        "Reading files from /home/jotham/projects/2014-12-20_datascibowl/data/datascibowl/train/artifacts\n",
        "Reading files from /home/jotham/projects/2014-12-20_datascibowl/data/datascibowl/train/acantharia_protist"
       ]
      },
      {
       "output_type": "stream",
       "stream": "stdout",
       "text": [
        "\n",
        "Reading files from /home/jotham/projects/2014-12-20_datascibowl/data/datascibowl/train/ctenophore_lobate"
       ]
      },
      {
       "output_type": "stream",
       "stream": "stdout",
       "text": [
        "\n",
        "Reading files from /home/jotham/projects/2014-12-20_datascibowl/data/datascibowl/train/copepod_calanoid_eucalanus"
       ]
      },
      {
       "output_type": "stream",
       "stream": "stdout",
       "text": [
        "\n",
        "Reading files from /home/jotham/projects/2014-12-20_datascibowl/data/datascibowl/train/siphonophore_calycophoran_sphaeronectes_young"
       ]
      },
      {
       "output_type": "stream",
       "stream": "stdout",
       "text": [
        "\n",
        "Reading files from /home/jotham/projects/2014-12-20_datascibowl/data/datascibowl/train/fish_larvae_myctophids"
       ]
      },
      {
       "output_type": "stream",
       "stream": "stdout",
       "text": [
        "\n",
        "Reading files from /home/jotham/projects/2014-12-20_datascibowl/data/datascibowl/train/echinoderm_larva_pluteus_early"
       ]
      },
      {
       "output_type": "stream",
       "stream": "stdout",
       "text": [
        "\n",
        "Reading files from /home/jotham/projects/2014-12-20_datascibowl/data/datascibowl/train/hydromedusae_aglaura"
       ]
      },
      {
       "output_type": "stream",
       "stream": "stdout",
       "text": [
        "\n",
        "Reading files from /home/jotham/projects/2014-12-20_datascibowl/data/datascibowl/train/echinoderm_larva_pluteus_urchin"
       ]
      },
      {
       "output_type": "stream",
       "stream": "stdout",
       "text": [
        "\n",
        "Reading files from /home/jotham/projects/2014-12-20_datascibowl/data/datascibowl/train/tunicate_partial"
       ]
      },
      {
       "output_type": "stream",
       "stream": "stdout",
       "text": [
        "\n",
        "Reading files from /home/jotham/projects/2014-12-20_datascibowl/data/datascibowl/train/pteropod_triangle"
       ]
      },
      {
       "output_type": "stream",
       "stream": "stdout",
       "text": [
        "\n",
        "Reading files from /home/jotham/projects/2014-12-20_datascibowl/data/datascibowl/train/echinoderm_seacucumber_auricularia_larva"
       ]
      },
      {
       "output_type": "stream",
       "stream": "stdout",
       "text": [
        "\n",
        "Reading files from /home/jotham/projects/2014-12-20_datascibowl/data/datascibowl/train/hydromedusae_typeD"
       ]
      },
      {
       "output_type": "stream",
       "stream": "stdout",
       "text": [
        "\n",
        "Reading files from /home/jotham/projects/2014-12-20_datascibowl/data/datascibowl/train/siphonophore_calycophoran_sphaeronectes\n",
        "Reading files from /home/jotham/projects/2014-12-20_datascibowl/data/datascibowl/train/chordate_type1"
       ]
      },
      {
       "output_type": "stream",
       "stream": "stdout",
       "text": [
        "\n",
        "Reading files from /home/jotham/projects/2014-12-20_datascibowl/data/datascibowl/train/trichodesmium_multiple"
       ]
      },
      {
       "output_type": "stream",
       "stream": "stdout",
       "text": [
        "\n",
        "Reading files from /home/jotham/projects/2014-12-20_datascibowl/data/datascibowl/train/appendicularian_straight\n",
        "Reading files from /home/jotham/projects/2014-12-20_datascibowl/data/datascibowl/train/appendicularian_slight_curve"
       ]
      },
      {
       "output_type": "stream",
       "stream": "stdout",
       "text": [
        "\n",
        "Reading files from /home/jotham/projects/2014-12-20_datascibowl/data/datascibowl/train/hydromedusae_typeF"
       ]
      },
      {
       "output_type": "stream",
       "stream": "stdout",
       "text": [
        "\n",
        "Reading files from /home/jotham/projects/2014-12-20_datascibowl/data/datascibowl/train/fecal_pellet\n",
        "Reading files from /home/jotham/projects/2014-12-20_datascibowl/data/datascibowl/train/hydromedusae_narco_dark"
       ]
      },
      {
       "output_type": "stream",
       "stream": "stdout",
       "text": [
        "\n",
        "Reading files from /home/jotham/projects/2014-12-20_datascibowl/data/datascibowl/train/shrimp-like_other\n",
        "Reading files from /home/jotham/projects/2014-12-20_datascibowl/data/datascibowl/train/diatom_chain_string"
       ]
      },
      {
       "output_type": "stream",
       "stream": "stdout",
       "text": [
        "\n",
        "Reading files from /home/jotham/projects/2014-12-20_datascibowl/data/datascibowl/train/fish_larvae_very_thin_body"
       ]
      },
      {
       "output_type": "stream",
       "stream": "stdout",
       "text": [
        "\n",
        "Reading files from /home/jotham/projects/2014-12-20_datascibowl/data/datascibowl/train/detritus_filamentous\n",
        "Reading files from /home/jotham/projects/2014-12-20_datascibowl/data/datascibowl/train/amphipods"
       ]
      },
      {
       "output_type": "stream",
       "stream": "stdout",
       "text": [
        "\n",
        "Reading files from /home/jotham/projects/2014-12-20_datascibowl/data/datascibowl/train/siphonophore_other_parts\n",
        "Reading files from /home/jotham/projects/2014-12-20_datascibowl/data/datascibowl/train/trichodesmium_bowtie"
       ]
      },
      {
       "output_type": "stream",
       "stream": "stdout",
       "text": [
        "\n",
        "Reading files from /home/jotham/projects/2014-12-20_datascibowl/data/datascibowl/train/siphonophore_physonect"
       ]
      },
      {
       "output_type": "stream",
       "stream": "stdout",
       "text": [
        "\n",
        "Reading files from /home/jotham/projects/2014-12-20_datascibowl/data/datascibowl/train/chaetognath_other"
       ]
      },
      {
       "output_type": "stream",
       "stream": "stdout",
       "text": [
        "\n",
        "Reading files from /home/jotham/projects/2014-12-20_datascibowl/data/datascibowl/train/pteropod_butterfly"
       ]
      },
      {
       "output_type": "stream",
       "stream": "stdout",
       "text": [
        "\n",
        "Reading files from /home/jotham/projects/2014-12-20_datascibowl/data/datascibowl/train/tunicate_salp_chains"
       ]
      },
      {
       "output_type": "stream",
       "stream": "stdout",
       "text": [
        "\n",
        "Reading files from /home/jotham/projects/2014-12-20_datascibowl/data/datascibowl/train/copepod_calanoid_eggs"
       ]
      },
      {
       "output_type": "stream",
       "stream": "stdout",
       "text": [
        "\n",
        "Reading files from /home/jotham/projects/2014-12-20_datascibowl/data/datascibowl/train/euphausiids"
       ]
      },
      {
       "output_type": "stream",
       "stream": "stdout",
       "text": [
        "\n",
        "Reading files from /home/jotham/projects/2014-12-20_datascibowl/data/datascibowl/train/copepod_other"
       ]
      },
      {
       "output_type": "stream",
       "stream": "stdout",
       "text": [
        "\n",
        "Reading files from /home/jotham/projects/2014-12-20_datascibowl/data/datascibowl/train/shrimp_zoea\n",
        "Reading files from /home/jotham/projects/2014-12-20_datascibowl/data/datascibowl/train/tunicate_doliolid_nurse"
       ]
      },
      {
       "output_type": "stream",
       "stream": "stdout",
       "text": [
        "\n",
        "Reading files from /home/jotham/projects/2014-12-20_datascibowl/data/datascibowl/train/copepod_calanoid_flatheads"
       ]
      },
      {
       "output_type": "stream",
       "stream": "stdout",
       "text": [
        "\n",
        "Reading files from /home/jotham/projects/2014-12-20_datascibowl/data/datascibowl/train/siphonophore_calycophoran_rocketship_adult"
       ]
      },
      {
       "output_type": "stream",
       "stream": "stdout",
       "text": [
        "\n",
        "Reading files from /home/jotham/projects/2014-12-20_datascibowl/data/datascibowl/train/ephyra"
       ]
      },
      {
       "output_type": "stream",
       "stream": "stdout",
       "text": [
        "\n",
        "Reading files from /home/jotham/projects/2014-12-20_datascibowl/data/datascibowl/train/copepod_calanoid\n",
        "Reading files from /home/jotham/projects/2014-12-20_datascibowl/data/datascibowl/train/fish_larvae_thin_body"
       ]
      },
      {
       "output_type": "stream",
       "stream": "stdout",
       "text": [
        "\n",
        "Reading files from /home/jotham/projects/2014-12-20_datascibowl/data/datascibowl/train/radiolarian_chain"
       ]
      },
      {
       "output_type": "stream",
       "stream": "stdout",
       "text": [
        "\n",
        "Reading files from /home/jotham/projects/2014-12-20_datascibowl/data/datascibowl/train/hydromedusae_shapeA_sideview_small"
       ]
      },
      {
       "output_type": "stream",
       "stream": "stdout",
       "text": [
        "\n",
        "Reading files from /home/jotham/projects/2014-12-20_datascibowl/data/datascibowl/train/fish_larvae_leptocephali"
       ]
      },
      {
       "output_type": "stream",
       "stream": "stdout",
       "text": [
        "\n",
        "Reading files from /home/jotham/projects/2014-12-20_datascibowl/data/datascibowl/train/hydromedusae_haliscera_small_sideview\n",
        "Reading files from /home/jotham/projects/2014-12-20_datascibowl/data/datascibowl/train/acantharia_protist_halo\n",
        "Reading files from /home/jotham/projects/2014-12-20_datascibowl/data/datascibowl/train/stomatopod"
       ]
      },
      {
       "output_type": "stream",
       "stream": "stdout",
       "text": [
        "\n",
        "Reading files from /home/jotham/projects/2014-12-20_datascibowl/data/datascibowl/train/protist_star\n",
        "Reading files from /home/jotham/projects/2014-12-20_datascibowl/data/datascibowl/train/protist_noctiluca"
       ]
      },
      {
       "output_type": "stream",
       "stream": "stdout",
       "text": [
        "\n",
        "Reading files from /home/jotham/projects/2014-12-20_datascibowl/data/datascibowl/train/copepod_cyclopoid_oithona_eggs"
       ]
      },
      {
       "output_type": "stream",
       "stream": "stdout",
       "text": [
        "\n",
        "Reading files from /home/jotham/projects/2014-12-20_datascibowl/data/datascibowl/train/echinoderm_larva_pluteus_typeC"
       ]
      },
      {
       "output_type": "stream",
       "stream": "stdout",
       "text": [
        "\n",
        "Reading files from /home/jotham/projects/2014-12-20_datascibowl/data/datascibowl/train/jellies_tentacles"
       ]
      },
      {
       "output_type": "stream",
       "stream": "stdout",
       "text": [
        "\n",
        "Reading files from /home/jotham/projects/2014-12-20_datascibowl/data/datascibowl/train/siphonophore_physonect_young"
       ]
      },
      {
       "output_type": "stream",
       "stream": "stdout",
       "text": [
        "\n",
        "Reading files from /home/jotham/projects/2014-12-20_datascibowl/data/datascibowl/train/detritus_blob\n",
        "Reading files from /home/jotham/projects/2014-12-20_datascibowl/data/datascibowl/train/unknown_unclassified"
       ]
      },
      {
       "output_type": "stream",
       "stream": "stdout",
       "text": [
        "\n",
        "Reading files from /home/jotham/projects/2014-12-20_datascibowl/data/datascibowl/train/unknown_sticks"
       ]
      },
      {
       "output_type": "stream",
       "stream": "stdout",
       "text": [
        "\n",
        "Reading files from /home/jotham/projects/2014-12-20_datascibowl/data/datascibowl/train/siphonophore_calycophoran_sphaeronectes_stem"
       ]
      },
      {
       "output_type": "stream",
       "stream": "stdout",
       "text": [
        "\n",
        "Reading files from /home/jotham/projects/2014-12-20_datascibowl/data/datascibowl/train/echinopluteus"
       ]
      },
      {
       "output_type": "stream",
       "stream": "stdout",
       "text": [
        "\n",
        "Reading files from /home/jotham/projects/2014-12-20_datascibowl/data/datascibowl/train/heteropod\n",
        "Reading files from /home/jotham/projects/2014-12-20_datascibowl/data/datascibowl/train/unknown_blobs_and_smudges\n",
        "Reading files from /home/jotham/projects/2014-12-20_datascibowl/data/datascibowl/train/echinoderm_larva_seastar_bipinnaria"
       ]
      },
      {
       "output_type": "stream",
       "stream": "stdout",
       "text": [
        "\n",
        "Reading files from /home/jotham/projects/2014-12-20_datascibowl/data/datascibowl/train/echinoderm_larva_seastar_brachiolaria"
       ]
      },
      {
       "output_type": "stream",
       "stream": "stdout",
       "text": [
        "\n",
        "Reading files from /home/jotham/projects/2014-12-20_datascibowl/data/datascibowl/train/copepod_cyclopoid_copilia"
       ]
      },
      {
       "output_type": "stream",
       "stream": "stdout",
       "text": [
        "\n",
        "Reading files from /home/jotham/projects/2014-12-20_datascibowl/data/datascibowl/train/chaetognath_non_sagitta\n",
        "Reading files from /home/jotham/projects/2014-12-20_datascibowl/data/datascibowl/train/tunicate_doliolid"
       ]
      },
      {
       "output_type": "stream",
       "stream": "stdout",
       "text": [
        "\n",
        "Reading files from /home/jotham/projects/2014-12-20_datascibowl/data/datascibowl/train/hydromedusae_liriope"
       ]
      },
      {
       "output_type": "stream",
       "stream": "stdout",
       "text": [
        "\n",
        "Reading files from /home/jotham/projects/2014-12-20_datascibowl/data/datascibowl/train/ctenophore_cydippid_tentacles\n",
        "Reading files from /home/jotham/projects/2014-12-20_datascibowl/data/datascibowl/train/siphonophore_calycophoran_rocketship_young"
       ]
      },
      {
       "output_type": "stream",
       "stream": "stdout",
       "text": [
        "\n",
        "Reading files from /home/jotham/projects/2014-12-20_datascibowl/data/datascibowl/train/copepod_calanoid_large_side_antennatucked"
       ]
      },
      {
       "output_type": "stream",
       "stream": "stdout",
       "text": [
        "\n",
        "Reading files from /home/jotham/projects/2014-12-20_datascibowl/data/datascibowl/train/fish_larvae_deep_body"
       ]
      },
      {
       "output_type": "stream",
       "stream": "stdout",
       "text": [
        "\n",
        "Reading files from /home/jotham/projects/2014-12-20_datascibowl/data/datascibowl/train/ctenophore_cydippid_no_tentacles\n",
        "Reading files from /home/jotham/projects/2014-12-20_datascibowl/data/datascibowl/train/hydromedusae_solmundella\n",
        "Reading files from /home/jotham/projects/2014-12-20_datascibowl/data/datascibowl/train/trichodesmium_puff"
       ]
      },
      {
       "output_type": "stream",
       "stream": "stdout",
       "text": [
        "\n",
        "Reading files from /home/jotham/projects/2014-12-20_datascibowl/data/datascibowl/train/hydromedusae_partial_dark"
       ]
      },
      {
       "output_type": "stream",
       "stream": "stdout",
       "text": [
        "\n",
        "Reading files from /home/jotham/projects/2014-12-20_datascibowl/data/datascibowl/train/hydromedusae_narco_young"
       ]
      },
      {
       "output_type": "stream",
       "stream": "stdout",
       "text": [
        "\n",
        "Reading files from /home/jotham/projects/2014-12-20_datascibowl/data/datascibowl/train/polychaete"
       ]
      },
      {
       "output_type": "stream",
       "stream": "stdout",
       "text": [
        "\n",
        "Reading files from /home/jotham/projects/2014-12-20_datascibowl/data/datascibowl/train/protist_other"
       ]
      },
      {
       "output_type": "stream",
       "stream": "stdout",
       "text": [
        "\n",
        "Reading files from /home/jotham/projects/2014-12-20_datascibowl/data/datascibowl/train/copepod_calanoid_octomoms"
       ]
      },
      {
       "output_type": "stream",
       "stream": "stdout",
       "text": [
        "\n",
        "Reading files from /home/jotham/projects/2014-12-20_datascibowl/data/datascibowl/train/acantharia_protist_big_center\n",
        "Reading files from /home/jotham/projects/2014-12-20_datascibowl/data/datascibowl/train/diatom_chain_tube"
       ]
      },
      {
       "output_type": "stream",
       "stream": "stdout",
       "text": [
        "\n",
        "Reading files from /home/jotham/projects/2014-12-20_datascibowl/data/datascibowl/train/fish_larvae_medium_body"
       ]
      },
      {
       "output_type": "stream",
       "stream": "stdout",
       "text": [
        "\n",
        "Reading files from /home/jotham/projects/2014-12-20_datascibowl/data/datascibowl/train/shrimp_sergestidae"
       ]
      },
      {
       "output_type": "stream",
       "stream": "stdout",
       "text": [
        "\n",
        "Reading files from /home/jotham/projects/2014-12-20_datascibowl/data/datascibowl/train/pteropod_theco_dev_seq"
       ]
      },
      {
       "output_type": "stream",
       "stream": "stdout",
       "text": [
        "\n",
        "Reading files from /home/jotham/projects/2014-12-20_datascibowl/data/datascibowl/train/siphonophore_partial\n",
        "Reading files from /home/jotham/projects/2014-12-20_datascibowl/data/datascibowl/train/protist_fuzzy_olive\n",
        "Reading files from /home/jotham/projects/2014-12-20_datascibowl/data/datascibowl/train/appendicularian_fritillaridae"
       ]
      },
      {
       "output_type": "stream",
       "stream": "stdout",
       "text": [
        "\n",
        "Reading files from /home/jotham/projects/2014-12-20_datascibowl/data/datascibowl/train/radiolarian_colony\n",
        "topo_view.shape: (30336, 32, 32, 1)"
       ]
      },
      {
       "output_type": "stream",
       "stream": "stdout",
       "text": [
        "\n",
        "NAs: 0\n",
        "Swapping 0 and 24158\n",
        "Swapping 1000 and 507\n",
        "Swapping 2000 and 10329\n",
        "Swapping 3000 and 12566\n",
        "Swapping 4000 and 5782"
       ]
      },
      {
       "output_type": "stream",
       "stream": "stdout",
       "text": [
        "\n",
        "Swapping 5000 and 14421\n",
        "Swapping 6000 and 25855\n",
        "Swapping 7000 and 19226\n",
        "Swapping 8000 and 5480\n",
        "Swapping 9000 and 14824\n",
        "Swapping 10000 and 7481\n",
        "Swapping 11000 and 4899"
       ]
      },
      {
       "output_type": "stream",
       "stream": "stdout",
       "text": [
        "\n",
        "Swapping 12000 and 547\n",
        "Swapping 13000 and 17117\n",
        "Swapping 14000 and 15848\n",
        "Swapping 15000 and 26705\n",
        "Swapping 16000 and 11752\n",
        "Swapping 17000 and 13157\n",
        "Swapping 18000 and 19743"
       ]
      },
      {
       "output_type": "stream",
       "stream": "stdout",
       "text": [
        "\n",
        "Swapping 19000 and 29262\n",
        "Swapping 20000 and 10984\n",
        "Swapping 21000 and 9312\n",
        "Swapping 22000 and 14681\n",
        "Swapping 23000 and 22392\n",
        "Swapping 24000 and 8749\n",
        "Swapping 25000 and 14310"
       ]
      },
      {
       "output_type": "stream",
       "stream": "stdout",
       "text": [
        "\n",
        "Swapping 26000 and 223\n",
        "Swapping 27000 and 9727\n",
        "Swapping 28000 and 13098\n",
        "Swapping 29000 and 4946\n",
        "Swapping 30000 and 19434\n",
        "Looking for data in /home/jotham/projects/2014-12-20_datascibowl/data/datascibowl/train"
       ]
      },
      {
       "output_type": "stream",
       "stream": "stdout",
       "text": [
        "\n",
        "Found 30336 images"
       ]
      },
      {
       "output_type": "stream",
       "stream": "stdout",
       "text": [
        "\n",
        "Reading files from /home/jotham/projects/2014-12-20_datascibowl/data/datascibowl/train/euphausiids_young\n",
        "Reading files from /home/jotham/projects/2014-12-20_datascibowl/data/datascibowl/train/hydromedusae_narcomedusae\n",
        "Reading files from /home/jotham/projects/2014-12-20_datascibowl/data/datascibowl/train/copepod_calanoid_small_longantennae"
       ]
      },
      {
       "output_type": "stream",
       "stream": "stdout",
       "text": [
        "\n",
        "Reading files from /home/jotham/projects/2014-12-20_datascibowl/data/datascibowl/train/appendicularian_s_shape"
       ]
      },
      {
       "output_type": "stream",
       "stream": "stdout",
       "text": [
        "\n",
        "Reading files from /home/jotham/projects/2014-12-20_datascibowl/data/datascibowl/train/decapods"
       ]
      },
      {
       "output_type": "stream",
       "stream": "stdout",
       "text": [
        "\n",
        "Reading files from /home/jotham/projects/2014-12-20_datascibowl/data/datascibowl/train/hydromedusae_typeD_bell_and_tentacles\n",
        "Reading files from /home/jotham/projects/2014-12-20_datascibowl/data/datascibowl/train/crustacean_other"
       ]
      },
      {
       "output_type": "stream",
       "stream": "stdout",
       "text": [
        "\n",
        "Reading files from /home/jotham/projects/2014-12-20_datascibowl/data/datascibowl/train/hydromedusae_bell_and_tentacles"
       ]
      },
      {
       "output_type": "stream",
       "stream": "stdout",
       "text": [
        "\n",
        "Reading files from /home/jotham/projects/2014-12-20_datascibowl/data/datascibowl/train/echinoderm_larva_pluteus_brittlestar"
       ]
      },
      {
       "output_type": "stream",
       "stream": "stdout",
       "text": [
        "\n",
        "Reading files from /home/jotham/projects/2014-12-20_datascibowl/data/datascibowl/train/invertebrate_larvae_other_B\n",
        "Reading files from /home/jotham/projects/2014-12-20_datascibowl/data/datascibowl/train/hydromedusae_solmaris\n",
        "Reading files from /home/jotham/projects/2014-12-20_datascibowl/data/datascibowl/train/chaetognath_sagitta"
       ]
      },
      {
       "output_type": "stream",
       "stream": "stdout",
       "text": [
        "\n",
        "Reading files from /home/jotham/projects/2014-12-20_datascibowl/data/datascibowl/train/hydromedusae_shapeA"
       ]
      },
      {
       "output_type": "stream",
       "stream": "stdout",
       "text": [
        "\n",
        "Reading files from /home/jotham/projects/2014-12-20_datascibowl/data/datascibowl/train/hydromedusae_shapeB"
       ]
      },
      {
       "output_type": "stream",
       "stream": "stdout",
       "text": [
        "\n",
        "Reading files from /home/jotham/projects/2014-12-20_datascibowl/data/datascibowl/train/hydromedusae_haliscera"
       ]
      },
      {
       "output_type": "stream",
       "stream": "stdout",
       "text": [
        "\n",
        "Reading files from /home/jotham/projects/2014-12-20_datascibowl/data/datascibowl/train/hydromedusae_typeE"
       ]
      },
      {
       "output_type": "stream",
       "stream": "stdout",
       "text": [
        "\n",
        "Reading files from /home/jotham/projects/2014-12-20_datascibowl/data/datascibowl/train/hydromedusae_h15\n",
        "Reading files from /home/jotham/projects/2014-12-20_datascibowl/data/datascibowl/train/artifacts_edge\n",
        "Reading files from /home/jotham/projects/2014-12-20_datascibowl/data/datascibowl/train/copepod_calanoid_frillyAntennae"
       ]
      },
      {
       "output_type": "stream",
       "stream": "stdout",
       "text": [
        "\n",
        "Reading files from /home/jotham/projects/2014-12-20_datascibowl/data/datascibowl/train/copepod_calanoid_large\n",
        "Reading files from /home/jotham/projects/2014-12-20_datascibowl/data/datascibowl/train/siphonophore_calycophoran_abylidae"
       ]
      },
      {
       "output_type": "stream",
       "stream": "stdout",
       "text": [
        "\n",
        "Reading files from /home/jotham/projects/2014-12-20_datascibowl/data/datascibowl/train/invertebrate_larvae_other_A"
       ]
      },
      {
       "output_type": "stream",
       "stream": "stdout",
       "text": [
        "\n",
        "Reading files from /home/jotham/projects/2014-12-20_datascibowl/data/datascibowl/train/protist_dark_center\n",
        "Reading files from /home/jotham/projects/2014-12-20_datascibowl/data/datascibowl/train/ctenophore_cestid"
       ]
      },
      {
       "output_type": "stream",
       "stream": "stdout",
       "text": [
        "\n",
        "Reading files from /home/jotham/projects/2014-12-20_datascibowl/data/datascibowl/train/trichodesmium_tuft"
       ]
      },
      {
       "output_type": "stream",
       "stream": "stdout",
       "text": [
        "\n",
        "Reading files from /home/jotham/projects/2014-12-20_datascibowl/data/datascibowl/train/detritus_other"
       ]
      },
      {
       "output_type": "stream",
       "stream": "stdout",
       "text": [
        "\n",
        "Reading files from /home/jotham/projects/2014-12-20_datascibowl/data/datascibowl/train/tornaria_acorn_worm_larvae"
       ]
      },
      {
       "output_type": "stream",
       "stream": "stdout",
       "text": [
        "\n",
        "Reading files from /home/jotham/projects/2014-12-20_datascibowl/data/datascibowl/train/hydromedusae_other\n",
        "Reading files from /home/jotham/projects/2014-12-20_datascibowl/data/datascibowl/train/tunicate_salp\n",
        "Reading files from /home/jotham/projects/2014-12-20_datascibowl/data/datascibowl/train/shrimp_caridean"
       ]
      },
      {
       "output_type": "stream",
       "stream": "stdout",
       "text": [
        "\n",
        "Reading files from /home/jotham/projects/2014-12-20_datascibowl/data/datascibowl/train/copepod_cyclopoid_oithona\n",
        "Reading files from /home/jotham/projects/2014-12-20_datascibowl/data/datascibowl/train/hydromedusae_sideview_big"
       ]
      },
      {
       "output_type": "stream",
       "stream": "stdout",
       "text": [
        "\n",
        "Reading files from /home/jotham/projects/2014-12-20_datascibowl/data/datascibowl/train/trochophore_larvae\n",
        "Reading files from /home/jotham/projects/2014-12-20_datascibowl/data/datascibowl/train/artifacts"
       ]
      },
      {
       "output_type": "stream",
       "stream": "stdout",
       "text": [
        "\n",
        "Reading files from /home/jotham/projects/2014-12-20_datascibowl/data/datascibowl/train/acantharia_protist"
       ]
      },
      {
       "output_type": "stream",
       "stream": "stdout",
       "text": [
        "\n",
        "Reading files from /home/jotham/projects/2014-12-20_datascibowl/data/datascibowl/train/ctenophore_lobate"
       ]
      },
      {
       "output_type": "stream",
       "stream": "stdout",
       "text": [
        "\n",
        "Reading files from /home/jotham/projects/2014-12-20_datascibowl/data/datascibowl/train/copepod_calanoid_eucalanus\n",
        "Reading files from /home/jotham/projects/2014-12-20_datascibowl/data/datascibowl/train/siphonophore_calycophoran_sphaeronectes_young"
       ]
      },
      {
       "output_type": "stream",
       "stream": "stdout",
       "text": [
        "\n",
        "Reading files from /home/jotham/projects/2014-12-20_datascibowl/data/datascibowl/train/fish_larvae_myctophids"
       ]
      },
      {
       "output_type": "stream",
       "stream": "stdout",
       "text": [
        "\n",
        "Reading files from /home/jotham/projects/2014-12-20_datascibowl/data/datascibowl/train/echinoderm_larva_pluteus_early"
       ]
      },
      {
       "output_type": "stream",
       "stream": "stdout",
       "text": [
        "\n",
        "Reading files from /home/jotham/projects/2014-12-20_datascibowl/data/datascibowl/train/hydromedusae_aglaura"
       ]
      },
      {
       "output_type": "stream",
       "stream": "stdout",
       "text": [
        "\n",
        "Reading files from /home/jotham/projects/2014-12-20_datascibowl/data/datascibowl/train/echinoderm_larva_pluteus_urchin"
       ]
      },
      {
       "output_type": "stream",
       "stream": "stdout",
       "text": [
        "\n",
        "Reading files from /home/jotham/projects/2014-12-20_datascibowl/data/datascibowl/train/tunicate_partial"
       ]
      },
      {
       "output_type": "stream",
       "stream": "stdout",
       "text": [
        "\n",
        "Reading files from /home/jotham/projects/2014-12-20_datascibowl/data/datascibowl/train/pteropod_triangle"
       ]
      },
      {
       "output_type": "stream",
       "stream": "stdout",
       "text": [
        "\n",
        "Reading files from /home/jotham/projects/2014-12-20_datascibowl/data/datascibowl/train/echinoderm_seacucumber_auricularia_larva\n",
        "Reading files from /home/jotham/projects/2014-12-20_datascibowl/data/datascibowl/train/hydromedusae_typeD"
       ]
      },
      {
       "output_type": "stream",
       "stream": "stdout",
       "text": [
        "\n",
        "Reading files from /home/jotham/projects/2014-12-20_datascibowl/data/datascibowl/train/siphonophore_calycophoran_sphaeronectes\n",
        "Reading files from /home/jotham/projects/2014-12-20_datascibowl/data/datascibowl/train/chordate_type1"
       ]
      },
      {
       "output_type": "stream",
       "stream": "stdout",
       "text": [
        "\n",
        "Reading files from /home/jotham/projects/2014-12-20_datascibowl/data/datascibowl/train/trichodesmium_multiple\n",
        "Reading files from /home/jotham/projects/2014-12-20_datascibowl/data/datascibowl/train/appendicularian_straight"
       ]
      },
      {
       "output_type": "stream",
       "stream": "stdout",
       "text": [
        "\n",
        "Reading files from /home/jotham/projects/2014-12-20_datascibowl/data/datascibowl/train/appendicularian_slight_curve"
       ]
      },
      {
       "output_type": "stream",
       "stream": "stdout",
       "text": [
        "\n",
        "Reading files from /home/jotham/projects/2014-12-20_datascibowl/data/datascibowl/train/hydromedusae_typeF"
       ]
      },
      {
       "output_type": "stream",
       "stream": "stdout",
       "text": [
        "\n",
        "Reading files from /home/jotham/projects/2014-12-20_datascibowl/data/datascibowl/train/fecal_pellet\n",
        "Reading files from /home/jotham/projects/2014-12-20_datascibowl/data/datascibowl/train/hydromedusae_narco_dark"
       ]
      },
      {
       "output_type": "stream",
       "stream": "stdout",
       "text": [
        "\n",
        "Reading files from /home/jotham/projects/2014-12-20_datascibowl/data/datascibowl/train/shrimp-like_other\n",
        "Reading files from /home/jotham/projects/2014-12-20_datascibowl/data/datascibowl/train/diatom_chain_string\n",
        "Reading files from /home/jotham/projects/2014-12-20_datascibowl/data/datascibowl/train/fish_larvae_very_thin_body"
       ]
      },
      {
       "output_type": "stream",
       "stream": "stdout",
       "text": [
        "\n",
        "Reading files from /home/jotham/projects/2014-12-20_datascibowl/data/datascibowl/train/detritus_filamentous\n",
        "Reading files from /home/jotham/projects/2014-12-20_datascibowl/data/datascibowl/train/amphipods"
       ]
      },
      {
       "output_type": "stream",
       "stream": "stdout",
       "text": [
        "\n",
        "Reading files from /home/jotham/projects/2014-12-20_datascibowl/data/datascibowl/train/siphonophore_other_parts\n",
        "Reading files from /home/jotham/projects/2014-12-20_datascibowl/data/datascibowl/train/trichodesmium_bowtie"
       ]
      },
      {
       "output_type": "stream",
       "stream": "stdout",
       "text": [
        "\n",
        "Reading files from /home/jotham/projects/2014-12-20_datascibowl/data/datascibowl/train/siphonophore_physonect"
       ]
      },
      {
       "output_type": "stream",
       "stream": "stdout",
       "text": [
        "\n",
        "Reading files from /home/jotham/projects/2014-12-20_datascibowl/data/datascibowl/train/chaetognath_other"
       ]
      },
      {
       "output_type": "stream",
       "stream": "stdout",
       "text": [
        "\n",
        "Reading files from /home/jotham/projects/2014-12-20_datascibowl/data/datascibowl/train/pteropod_butterfly"
       ]
      },
      {
       "output_type": "stream",
       "stream": "stdout",
       "text": [
        "\n",
        "Reading files from /home/jotham/projects/2014-12-20_datascibowl/data/datascibowl/train/tunicate_salp_chains"
       ]
      },
      {
       "output_type": "stream",
       "stream": "stdout",
       "text": [
        "\n",
        "Reading files from /home/jotham/projects/2014-12-20_datascibowl/data/datascibowl/train/copepod_calanoid_eggs"
       ]
      },
      {
       "output_type": "stream",
       "stream": "stdout",
       "text": [
        "\n",
        "Reading files from /home/jotham/projects/2014-12-20_datascibowl/data/datascibowl/train/euphausiids"
       ]
      },
      {
       "output_type": "stream",
       "stream": "stdout",
       "text": [
        "\n",
        "Reading files from /home/jotham/projects/2014-12-20_datascibowl/data/datascibowl/train/copepod_other"
       ]
      },
      {
       "output_type": "stream",
       "stream": "stdout",
       "text": [
        "\n",
        "Reading files from /home/jotham/projects/2014-12-20_datascibowl/data/datascibowl/train/shrimp_zoea\n",
        "Reading files from /home/jotham/projects/2014-12-20_datascibowl/data/datascibowl/train/tunicate_doliolid_nurse"
       ]
      },
      {
       "output_type": "stream",
       "stream": "stdout",
       "text": [
        "\n",
        "Reading files from /home/jotham/projects/2014-12-20_datascibowl/data/datascibowl/train/copepod_calanoid_flatheads"
       ]
      },
      {
       "output_type": "stream",
       "stream": "stdout",
       "text": [
        "\n",
        "Reading files from /home/jotham/projects/2014-12-20_datascibowl/data/datascibowl/train/siphonophore_calycophoran_rocketship_adult"
       ]
      },
      {
       "output_type": "stream",
       "stream": "stdout",
       "text": [
        "\n",
        "Reading files from /home/jotham/projects/2014-12-20_datascibowl/data/datascibowl/train/ephyra"
       ]
      },
      {
       "output_type": "stream",
       "stream": "stdout",
       "text": [
        "\n",
        "Reading files from /home/jotham/projects/2014-12-20_datascibowl/data/datascibowl/train/copepod_calanoid\n",
        "Reading files from /home/jotham/projects/2014-12-20_datascibowl/data/datascibowl/train/fish_larvae_thin_body"
       ]
      },
      {
       "output_type": "stream",
       "stream": "stdout",
       "text": [
        "\n",
        "Reading files from /home/jotham/projects/2014-12-20_datascibowl/data/datascibowl/train/radiolarian_chain\n",
        "Reading files from /home/jotham/projects/2014-12-20_datascibowl/data/datascibowl/train/hydromedusae_shapeA_sideview_small"
       ]
      },
      {
       "output_type": "stream",
       "stream": "stdout",
       "text": [
        "\n",
        "Reading files from /home/jotham/projects/2014-12-20_datascibowl/data/datascibowl/train/fish_larvae_leptocephali"
       ]
      },
      {
       "output_type": "stream",
       "stream": "stdout",
       "text": [
        "\n",
        "Reading files from /home/jotham/projects/2014-12-20_datascibowl/data/datascibowl/train/hydromedusae_haliscera_small_sideview\n",
        "Reading files from /home/jotham/projects/2014-12-20_datascibowl/data/datascibowl/train/acantharia_protist_halo\n",
        "Reading files from /home/jotham/projects/2014-12-20_datascibowl/data/datascibowl/train/stomatopod"
       ]
      },
      {
       "output_type": "stream",
       "stream": "stdout",
       "text": [
        "\n",
        "Reading files from /home/jotham/projects/2014-12-20_datascibowl/data/datascibowl/train/protist_star\n",
        "Reading files from /home/jotham/projects/2014-12-20_datascibowl/data/datascibowl/train/protist_noctiluca"
       ]
      },
      {
       "output_type": "stream",
       "stream": "stdout",
       "text": [
        "\n",
        "Reading files from /home/jotham/projects/2014-12-20_datascibowl/data/datascibowl/train/copepod_cyclopoid_oithona_eggs"
       ]
      },
      {
       "output_type": "stream",
       "stream": "stdout",
       "text": [
        "\n",
        "Reading files from /home/jotham/projects/2014-12-20_datascibowl/data/datascibowl/train/echinoderm_larva_pluteus_typeC"
       ]
      },
      {
       "output_type": "stream",
       "stream": "stdout",
       "text": [
        "\n",
        "Reading files from /home/jotham/projects/2014-12-20_datascibowl/data/datascibowl/train/jellies_tentacles"
       ]
      },
      {
       "output_type": "stream",
       "stream": "stdout",
       "text": [
        "\n",
        "Reading files from /home/jotham/projects/2014-12-20_datascibowl/data/datascibowl/train/siphonophore_physonect_young"
       ]
      },
      {
       "output_type": "stream",
       "stream": "stdout",
       "text": [
        "\n",
        "Reading files from /home/jotham/projects/2014-12-20_datascibowl/data/datascibowl/train/detritus_blob\n",
        "Reading files from /home/jotham/projects/2014-12-20_datascibowl/data/datascibowl/train/unknown_unclassified"
       ]
      },
      {
       "output_type": "stream",
       "stream": "stdout",
       "text": [
        "\n",
        "Reading files from /home/jotham/projects/2014-12-20_datascibowl/data/datascibowl/train/unknown_sticks"
       ]
      },
      {
       "output_type": "stream",
       "stream": "stdout",
       "text": [
        "\n",
        "Reading files from /home/jotham/projects/2014-12-20_datascibowl/data/datascibowl/train/siphonophore_calycophoran_sphaeronectes_stem"
       ]
      },
      {
       "output_type": "stream",
       "stream": "stdout",
       "text": [
        "\n",
        "Reading files from /home/jotham/projects/2014-12-20_datascibowl/data/datascibowl/train/echinopluteus\n",
        "Reading files from /home/jotham/projects/2014-12-20_datascibowl/data/datascibowl/train/heteropod"
       ]
      },
      {
       "output_type": "stream",
       "stream": "stdout",
       "text": [
        "\n",
        "Reading files from /home/jotham/projects/2014-12-20_datascibowl/data/datascibowl/train/unknown_blobs_and_smudges\n",
        "Reading files from /home/jotham/projects/2014-12-20_datascibowl/data/datascibowl/train/echinoderm_larva_seastar_bipinnaria"
       ]
      },
      {
       "output_type": "stream",
       "stream": "stdout",
       "text": [
        "\n",
        "Reading files from /home/jotham/projects/2014-12-20_datascibowl/data/datascibowl/train/echinoderm_larva_seastar_brachiolaria"
       ]
      },
      {
       "output_type": "stream",
       "stream": "stdout",
       "text": [
        "\n",
        "Reading files from /home/jotham/projects/2014-12-20_datascibowl/data/datascibowl/train/copepod_cyclopoid_copilia"
       ]
      },
      {
       "output_type": "stream",
       "stream": "stdout",
       "text": [
        "\n",
        "Reading files from /home/jotham/projects/2014-12-20_datascibowl/data/datascibowl/train/chaetognath_non_sagitta\n",
        "Reading files from /home/jotham/projects/2014-12-20_datascibowl/data/datascibowl/train/tunicate_doliolid"
       ]
      },
      {
       "output_type": "stream",
       "stream": "stdout",
       "text": [
        "\n",
        "Reading files from /home/jotham/projects/2014-12-20_datascibowl/data/datascibowl/train/hydromedusae_liriope"
       ]
      },
      {
       "output_type": "stream",
       "stream": "stdout",
       "text": [
        "\n",
        "Reading files from /home/jotham/projects/2014-12-20_datascibowl/data/datascibowl/train/ctenophore_cydippid_tentacles\n",
        "Reading files from /home/jotham/projects/2014-12-20_datascibowl/data/datascibowl/train/siphonophore_calycophoran_rocketship_young\n",
        "Reading files from /home/jotham/projects/2014-12-20_datascibowl/data/datascibowl/train/copepod_calanoid_large_side_antennatucked"
       ]
      },
      {
       "output_type": "stream",
       "stream": "stdout",
       "text": [
        "\n",
        "Reading files from /home/jotham/projects/2014-12-20_datascibowl/data/datascibowl/train/fish_larvae_deep_body"
       ]
      },
      {
       "output_type": "stream",
       "stream": "stdout",
       "text": [
        "\n",
        "Reading files from /home/jotham/projects/2014-12-20_datascibowl/data/datascibowl/train/ctenophore_cydippid_no_tentacles\n",
        "Reading files from /home/jotham/projects/2014-12-20_datascibowl/data/datascibowl/train/hydromedusae_solmundella\n",
        "Reading files from /home/jotham/projects/2014-12-20_datascibowl/data/datascibowl/train/trichodesmium_puff"
       ]
      },
      {
       "output_type": "stream",
       "stream": "stdout",
       "text": [
        "\n",
        "Reading files from /home/jotham/projects/2014-12-20_datascibowl/data/datascibowl/train/hydromedusae_partial_dark"
       ]
      },
      {
       "output_type": "stream",
       "stream": "stdout",
       "text": [
        "\n",
        "Reading files from /home/jotham/projects/2014-12-20_datascibowl/data/datascibowl/train/hydromedusae_narco_young"
       ]
      },
      {
       "output_type": "stream",
       "stream": "stdout",
       "text": [
        "\n",
        "Reading files from /home/jotham/projects/2014-12-20_datascibowl/data/datascibowl/train/polychaete"
       ]
      },
      {
       "output_type": "stream",
       "stream": "stdout",
       "text": [
        "\n",
        "Reading files from /home/jotham/projects/2014-12-20_datascibowl/data/datascibowl/train/protist_other"
       ]
      },
      {
       "output_type": "stream",
       "stream": "stdout",
       "text": [
        "\n",
        "Reading files from /home/jotham/projects/2014-12-20_datascibowl/data/datascibowl/train/copepod_calanoid_octomoms"
       ]
      },
      {
       "output_type": "stream",
       "stream": "stdout",
       "text": [
        "\n",
        "Reading files from /home/jotham/projects/2014-12-20_datascibowl/data/datascibowl/train/acantharia_protist_big_center\n",
        "Reading files from /home/jotham/projects/2014-12-20_datascibowl/data/datascibowl/train/diatom_chain_tube\n",
        "Reading files from /home/jotham/projects/2014-12-20_datascibowl/data/datascibowl/train/fish_larvae_medium_body"
       ]
      },
      {
       "output_type": "stream",
       "stream": "stdout",
       "text": [
        "\n",
        "Reading files from /home/jotham/projects/2014-12-20_datascibowl/data/datascibowl/train/shrimp_sergestidae"
       ]
      },
      {
       "output_type": "stream",
       "stream": "stdout",
       "text": [
        "\n",
        "Reading files from /home/jotham/projects/2014-12-20_datascibowl/data/datascibowl/train/pteropod_theco_dev_seq"
       ]
      },
      {
       "output_type": "stream",
       "stream": "stdout",
       "text": [
        "\n",
        "Reading files from /home/jotham/projects/2014-12-20_datascibowl/data/datascibowl/train/siphonophore_partial\n",
        "Reading files from /home/jotham/projects/2014-12-20_datascibowl/data/datascibowl/train/protist_fuzzy_olive\n",
        "Reading files from /home/jotham/projects/2014-12-20_datascibowl/data/datascibowl/train/appendicularian_fritillaridae"
       ]
      },
      {
       "output_type": "stream",
       "stream": "stdout",
       "text": [
        "\n",
        "Reading files from /home/jotham/projects/2014-12-20_datascibowl/data/datascibowl/train/radiolarian_colony\n",
        "topo_view.shape: (30336, 32, 32, 1)"
       ]
      },
      {
       "output_type": "stream",
       "stream": "stdout",
       "text": [
        "\n",
        "NAs: 0\n",
        "Swapping 0 and 24158\n",
        "Swapping 1000 and 507\n",
        "Swapping 2000 and 10329\n",
        "Swapping 3000 and 12566\n",
        "Swapping 4000 and 5782"
       ]
      },
      {
       "output_type": "stream",
       "stream": "stdout",
       "text": [
        "\n",
        "Swapping 5000 and 14421\n",
        "Swapping 6000 and 25855\n",
        "Swapping 7000 and 19226\n",
        "Swapping 8000 and 5480\n",
        "Swapping 9000 and 14824\n",
        "Swapping 10000 and 7481\n",
        "Swapping 11000 and 4899"
       ]
      },
      {
       "output_type": "stream",
       "stream": "stdout",
       "text": [
        "\n",
        "Swapping 12000 and 547\n",
        "Swapping 13000 and 17117\n",
        "Swapping 14000 and 15848\n",
        "Swapping 15000 and 26705\n",
        "Swapping 16000 and 11752\n",
        "Swapping 17000 and 13157\n",
        "Swapping 18000 and 19743"
       ]
      },
      {
       "output_type": "stream",
       "stream": "stdout",
       "text": [
        "\n",
        "Swapping 19000 and 29262\n",
        "Swapping 20000 and 10984\n",
        "Swapping 21000 and 9312\n",
        "Swapping 22000 and 14681\n",
        "Swapping 23000 and 22392\n",
        "Swapping 24000 and 8749\n",
        "Swapping 25000 and 14310"
       ]
      },
      {
       "output_type": "stream",
       "stream": "stdout",
       "text": [
        "\n",
        "Swapping 26000 and 223\n",
        "Swapping 27000 and 9727\n",
        "Swapping 28000 and 13098\n",
        "Swapping 29000 and 4946\n",
        "Swapping 30000 and 19434\n",
        "Parameter and initial learning rate summary:\n"
       ]
      },
      {
       "output_type": "stream",
       "stream": "stdout",
       "text": [
        "\tsoftmax_b: 0.00999999977648\n"
       ]
      },
      {
       "output_type": "stream",
       "stream": "stdout",
       "text": [
        "\tsoftmax_W: 0.00999999977648\n"
       ]
      },
      {
       "output_type": "stream",
       "stream": "stdout",
       "text": [
        "Compiling sgd_update...\n"
       ]
      },
      {
       "output_type": "stream",
       "stream": "stderr",
       "text": [
        "/home/jotham/projects/2014-12-20_datascibowl/pylearn2_fork/pylearn2/utils/iteration.py:783: UserWarning: dataset is using the old iterator interface which is deprecated and will become officially unsupported as of July 28, 2015. The dataset should implement a `get` method respecting the new interface.\n",
        "  warnings.warn(\"dataset is using the old iterator interface which \"\n"
       ]
      },
      {
       "output_type": "stream",
       "stream": "stdout",
       "text": [
        "Compiling sgd_update done. Time elapsed: 0.215111 seconds\n"
       ]
      },
      {
       "output_type": "stream",
       "stream": "stdout",
       "text": [
        "compiling begin_record_entry...\n"
       ]
      },
      {
       "output_type": "stream",
       "stream": "stdout",
       "text": [
        "compiling begin_record_entry done. Time elapsed: 0.060119 seconds\n"
       ]
      },
      {
       "output_type": "stream",
       "stream": "stdout",
       "text": [
        "Monitored channels: \n"
       ]
      },
      {
       "output_type": "stream",
       "stream": "stdout",
       "text": [
        "\tlearning_rate\n"
       ]
      },
      {
       "output_type": "stream",
       "stream": "stdout",
       "text": [
        "\ttotal_seconds_last_epoch\n"
       ]
      },
      {
       "output_type": "stream",
       "stream": "stdout",
       "text": [
        "\ttrain_objective\n"
       ]
      },
      {
       "output_type": "stream",
       "stream": "stdout",
       "text": [
        "\ttrain_y_col_norms_max\n"
       ]
      },
      {
       "output_type": "stream",
       "stream": "stdout",
       "text": [
        "\ttrain_y_col_norms_mean\n"
       ]
      },
      {
       "output_type": "stream",
       "stream": "stdout",
       "text": [
        "\ttrain_y_col_norms_min\n"
       ]
      },
      {
       "output_type": "stream",
       "stream": "stdout",
       "text": [
        "\ttrain_y_max_max_class\n"
       ]
      },
      {
       "output_type": "stream",
       "stream": "stdout",
       "text": [
        "\ttrain_y_mean_max_class\n"
       ]
      },
      {
       "output_type": "stream",
       "stream": "stdout",
       "text": [
        "\ttrain_y_min_max_class\n"
       ]
      },
      {
       "output_type": "stream",
       "stream": "stdout",
       "text": [
        "\ttrain_y_misclass\n"
       ]
      },
      {
       "output_type": "stream",
       "stream": "stdout",
       "text": [
        "\ttrain_y_nll\n"
       ]
      },
      {
       "output_type": "stream",
       "stream": "stdout",
       "text": [
        "\ttrain_y_row_norms_max\n"
       ]
      },
      {
       "output_type": "stream",
       "stream": "stdout",
       "text": [
        "\ttrain_y_row_norms_mean\n"
       ]
      },
      {
       "output_type": "stream",
       "stream": "stdout",
       "text": [
        "\ttrain_y_row_norms_min\n"
       ]
      },
      {
       "output_type": "stream",
       "stream": "stdout",
       "text": [
        "\ttraining_seconds_this_epoch\n"
       ]
      },
      {
       "output_type": "stream",
       "stream": "stdout",
       "text": [
        "\tvalid_objective\n"
       ]
      },
      {
       "output_type": "stream",
       "stream": "stdout",
       "text": [
        "\tvalid_y_col_norms_max\n"
       ]
      },
      {
       "output_type": "stream",
       "stream": "stdout",
       "text": [
        "\tvalid_y_col_norms_mean\n"
       ]
      },
      {
       "output_type": "stream",
       "stream": "stdout",
       "text": [
        "\tvalid_y_col_norms_min\n"
       ]
      },
      {
       "output_type": "stream",
       "stream": "stdout",
       "text": [
        "\tvalid_y_max_max_class\n"
       ]
      },
      {
       "output_type": "stream",
       "stream": "stdout",
       "text": [
        "\tvalid_y_mean_max_class\n"
       ]
      },
      {
       "output_type": "stream",
       "stream": "stdout",
       "text": [
        "\tvalid_y_min_max_class\n"
       ]
      },
      {
       "output_type": "stream",
       "stream": "stdout",
       "text": [
        "\tvalid_y_misclass\n"
       ]
      },
      {
       "output_type": "stream",
       "stream": "stdout",
       "text": [
        "\tvalid_y_nll\n"
       ]
      },
      {
       "output_type": "stream",
       "stream": "stdout",
       "text": [
        "\tvalid_y_row_norms_max\n"
       ]
      },
      {
       "output_type": "stream",
       "stream": "stdout",
       "text": [
        "\tvalid_y_row_norms_mean\n"
       ]
      },
      {
       "output_type": "stream",
       "stream": "stdout",
       "text": [
        "\tvalid_y_row_norms_min\n"
       ]
      },
      {
       "output_type": "stream",
       "stream": "stdout",
       "text": [
        "Compiling accum...\n"
       ]
      },
      {
       "output_type": "stream",
       "stream": "stdout",
       "text": [
        "graph size: 142\n"
       ]
      },
      {
       "output_type": "stream",
       "stream": "stdout",
       "text": [
        "graph size: 124\n"
       ]
      },
      {
       "output_type": "stream",
       "stream": "stdout",
       "text": [
        "Compiling accum done. Time elapsed: 0.250452 seconds\n"
       ]
      },
      {
       "output_type": "stream",
       "stream": "stdout",
       "text": [
        "Monitoring step:\n"
       ]
      },
      {
       "output_type": "stream",
       "stream": "stdout",
       "text": [
        "\tEpochs seen: 0\n"
       ]
      },
      {
       "output_type": "stream",
       "stream": "stdout",
       "text": [
        "\tBatches seen: 0\n"
       ]
      },
      {
       "output_type": "stream",
       "stream": "stdout",
       "text": [
        "\tExamples seen: 0\n"
       ]
      },
      {
       "output_type": "stream",
       "stream": "stdout",
       "text": [
        "\tlearning_rate: 0.0100000007078\n"
       ]
      },
      {
       "output_type": "stream",
       "stream": "stdout",
       "text": [
        "\ttotal_seconds_last_epoch: 0.0\n"
       ]
      },
      {
       "output_type": "stream",
       "stream": "stdout",
       "text": [
        "\ttrain_objective: 4.7957906723\n"
       ]
      },
      {
       "output_type": "stream",
       "stream": "stdout",
       "text": [
        "\ttrain_y_col_norms_max: 0.0\n"
       ]
      },
      {
       "output_type": "stream",
       "stream": "stdout",
       "text": [
        "\ttrain_y_col_norms_mean: 0.0\n"
       ]
      },
      {
       "output_type": "stream",
       "stream": "stdout",
       "text": [
        "\ttrain_y_col_norms_min: 0.0\n"
       ]
      },
      {
       "output_type": "stream",
       "stream": "stdout",
       "text": [
        "\ttrain_y_max_max_class: 0.00826446246356\n"
       ]
      },
      {
       "output_type": "stream",
       "stream": "stdout",
       "text": [
        "\ttrain_y_mean_max_class: 0.00826446246356\n"
       ]
      },
      {
       "output_type": "stream",
       "stream": "stdout",
       "text": [
        "\ttrain_y_min_max_class: 0.00826446246356\n"
       ]
      },
      {
       "output_type": "stream",
       "stream": "stdout",
       "text": [
        "\ttrain_y_misclass: 0.998679995537\n"
       ]
      },
      {
       "output_type": "stream",
       "stream": "stdout",
       "text": [
        "\ttrain_y_nll: 4.7957906723\n"
       ]
      },
      {
       "output_type": "stream",
       "stream": "stdout",
       "text": [
        "\ttrain_y_row_norms_max: 0.0\n"
       ]
      },
      {
       "output_type": "stream",
       "stream": "stdout",
       "text": [
        "\ttrain_y_row_norms_mean: 0.0\n"
       ]
      },
      {
       "output_type": "stream",
       "stream": "stdout",
       "text": [
        "\ttrain_y_row_norms_min: 0.0\n"
       ]
      },
      {
       "output_type": "stream",
       "stream": "stdout",
       "text": [
        "\ttraining_seconds_this_epoch: 0.0\n"
       ]
      },
      {
       "output_type": "stream",
       "stream": "stdout",
       "text": [
        "\tvalid_objective: 4.7957906723\n"
       ]
      },
      {
       "output_type": "stream",
       "stream": "stdout",
       "text": [
        "\tvalid_y_col_norms_max: 0.0\n"
       ]
      },
      {
       "output_type": "stream",
       "stream": "stdout",
       "text": [
        "\tvalid_y_col_norms_mean: 0.0\n"
       ]
      },
      {
       "output_type": "stream",
       "stream": "stdout",
       "text": [
        "\tvalid_y_col_norms_min: 0.0\n"
       ]
      },
      {
       "output_type": "stream",
       "stream": "stdout",
       "text": [
        "\tvalid_y_max_max_class: 0.00826446246356\n"
       ]
      },
      {
       "output_type": "stream",
       "stream": "stdout",
       "text": [
        "\tvalid_y_mean_max_class: 0.00826446246356\n"
       ]
      },
      {
       "output_type": "stream",
       "stream": "stdout",
       "text": [
        "\tvalid_y_min_max_class: 0.00826446246356\n"
       ]
      },
      {
       "output_type": "stream",
       "stream": "stdout",
       "text": [
        "\tvalid_y_misclass: 0.999199986458\n"
       ]
      },
      {
       "output_type": "stream",
       "stream": "stdout",
       "text": [
        "\tvalid_y_nll: 4.7957906723\n"
       ]
      },
      {
       "output_type": "stream",
       "stream": "stdout",
       "text": [
        "\tvalid_y_row_norms_max: 0.0\n"
       ]
      },
      {
       "output_type": "stream",
       "stream": "stdout",
       "text": [
        "\tvalid_y_row_norms_mean: 0.0\n"
       ]
      },
      {
       "output_type": "stream",
       "stream": "stdout",
       "text": [
        "\tvalid_y_row_norms_min: 0.0\n"
       ]
      },
      {
       "output_type": "stream",
       "stream": "stdout",
       "text": [
        "Saving to softreg_shuf_ctr_sgd_bestnll_10.pkl...\n"
       ]
      },
      {
       "output_type": "stream",
       "stream": "stdout",
       "text": [
        "Saving to softreg_shuf_ctr_sgd_bestnll_10.pkl done. Time elapsed: 0.073058 seconds\n"
       ]
      },
      {
       "output_type": "stream",
       "stream": "stdout",
       "text": [
        "Time this epoch: 29.016099 seconds\n"
       ]
      },
      {
       "output_type": "stream",
       "stream": "stdout",
       "text": [
        "Monitoring step:\n"
       ]
      },
      {
       "output_type": "stream",
       "stream": "stdout",
       "text": [
        "\tEpochs seen: 1\n"
       ]
      },
      {
       "output_type": "stream",
       "stream": "stdout",
       "text": [
        "\tBatches seen: 5\n"
       ]
      },
      {
       "output_type": "stream",
       "stream": "stdout",
       "text": [
        "\tExamples seen: 25000\n"
       ]
      },
      {
       "output_type": "stream",
       "stream": "stdout",
       "text": [
        "\tlearning_rate: 0.0100000007078\n"
       ]
      },
      {
       "output_type": "stream",
       "stream": "stdout",
       "text": [
        "\ttotal_seconds_last_epoch: 0.0\n"
       ]
      },
      {
       "output_type": "stream",
       "stream": "stdout",
       "text": [
        "\ttrain_objective: 4.78735542297\n"
       ]
      },
      {
       "output_type": "stream",
       "stream": "stdout",
       "text": [
        "\ttrain_y_col_norms_max: 0.0160204358399\n"
       ]
      },
      {
       "output_type": "stream",
       "stream": "stdout",
       "text": [
        "\ttrain_y_col_norms_mean: 0.000815838691778\n"
       ]
      },
      {
       "output_type": "stream",
       "stream": "stdout",
       "text": [
        "\ttrain_y_col_norms_min: 2.59382541117e-05\n"
       ]
      },
      {
       "output_type": "stream",
       "stream": "stdout",
       "text": [
        "\ttrain_y_max_max_class: 0.00948067661375\n"
       ]
      },
      {
       "output_type": "stream",
       "stream": "stdout",
       "text": [
        "\ttrain_y_mean_max_class: 0.0084280539304\n"
       ]
      },
      {
       "output_type": "stream",
       "stream": "stdout",
       "text": [
        "\ttrain_y_min_max_class: 0.00827920157462\n"
       ]
      },
      {
       "output_type": "stream",
       "stream": "stdout",
       "text": [
        "\ttrain_y_misclass: 0.827439963818\n"
       ]
      },
      {
       "output_type": "stream",
       "stream": "stdout",
       "text": [
        "\ttrain_y_nll: 4.78735542297\n"
       ]
      },
      {
       "output_type": "stream",
       "stream": "stdout",
       "text": [
        "\ttrain_y_row_norms_max: 0.00189983844757\n"
       ]
      },
      {
       "output_type": "stream",
       "stream": "stdout",
       "text": [
        "\ttrain_y_row_norms_mean: 0.000413905392634\n"
       ]
      },
      {
       "output_type": "stream",
       "stream": "stdout",
       "text": [
        "\ttrain_y_row_norms_min: 0.000111158296932\n"
       ]
      },
      {
       "output_type": "stream",
       "stream": "stdout",
       "text": [
        "\ttraining_seconds_this_epoch: 29.0160980225\n"
       ]
      },
      {
       "output_type": "stream",
       "stream": "stdout",
       "text": [
        "\tvalid_objective: 4.78698635101\n"
       ]
      },
      {
       "output_type": "stream",
       "stream": "stdout",
       "text": [
        "\tvalid_y_col_norms_max: 0.0160204358399\n"
       ]
      },
      {
       "output_type": "stream",
       "stream": "stdout",
       "text": [
        "\tvalid_y_col_norms_mean: 0.000815838691778\n"
       ]
      },
      {
       "output_type": "stream",
       "stream": "stdout",
       "text": [
        "\tvalid_y_col_norms_min: 2.59382541117e-05\n"
       ]
      },
      {
       "output_type": "stream",
       "stream": "stdout",
       "text": [
        "\tvalid_y_max_max_class: 0.00954821705818\n"
       ]
      },
      {
       "output_type": "stream",
       "stream": "stdout",
       "text": [
        "\tvalid_y_mean_max_class: 0.00843234267086\n"
       ]
      },
      {
       "output_type": "stream",
       "stream": "stdout",
       "text": [
        "\tvalid_y_min_max_class: 0.00828025769442\n"
       ]
      },
      {
       "output_type": "stream",
       "stream": "stdout",
       "text": [
        "\tvalid_y_misclass: 0.821399986744\n"
       ]
      },
      {
       "output_type": "stream",
       "stream": "stdout",
       "text": [
        "\tvalid_y_nll: 4.78698635101\n"
       ]
      },
      {
       "output_type": "stream",
       "stream": "stdout",
       "text": [
        "\tvalid_y_row_norms_max: 0.00189983844757\n"
       ]
      },
      {
       "output_type": "stream",
       "stream": "stdout",
       "text": [
        "\tvalid_y_row_norms_mean: 0.000413905392634\n"
       ]
      },
      {
       "output_type": "stream",
       "stream": "stdout",
       "text": [
        "\tvalid_y_row_norms_min: 0.000111158296932\n"
       ]
      },
      {
       "output_type": "stream",
       "stream": "stdout",
       "text": [
        "Saving to softreg_shuf_ctr_sgd_bestnll_10.pkl...\n"
       ]
      },
      {
       "output_type": "stream",
       "stream": "stdout",
       "text": [
        "Saving to softreg_shuf_ctr_sgd_bestnll_10.pkl done. Time elapsed: 0.042979 seconds\n"
       ]
      },
      {
       "output_type": "stream",
       "stream": "stdout",
       "text": [
        "Saving to softreg_shuf_ctr_sgd_last_10.pkl...\n"
       ]
      },
      {
       "output_type": "stream",
       "stream": "stdout",
       "text": [
        "Saving to softreg_shuf_ctr_sgd_last_10.pkl done. Time elapsed: 0.042822 seconds\n"
       ]
      },
      {
       "output_type": "stream",
       "stream": "stdout",
       "text": [
        "Time this epoch: 30.323238 seconds\n"
       ]
      },
      {
       "output_type": "stream",
       "stream": "stdout",
       "text": [
        "Monitoring step:\n"
       ]
      },
      {
       "output_type": "stream",
       "stream": "stdout",
       "text": [
        "\tEpochs seen: 2\n"
       ]
      },
      {
       "output_type": "stream",
       "stream": "stdout",
       "text": [
        "\tBatches seen: 10\n"
       ]
      },
      {
       "output_type": "stream",
       "stream": "stdout",
       "text": [
        "\tExamples seen: 50000\n"
       ]
      },
      {
       "output_type": "stream",
       "stream": "stdout",
       "text": [
        "\tlearning_rate: 0.0100000007078\n"
       ]
      },
      {
       "output_type": "stream",
       "stream": "stdout",
       "text": [
        "\ttotal_seconds_last_epoch: 33.1123771667\n"
       ]
      },
      {
       "output_type": "stream",
       "stream": "stdout",
       "text": [
        "\ttrain_objective: 4.77894926071\n"
       ]
      },
      {
       "output_type": "stream",
       "stream": "stdout",
       "text": [
        "\ttrain_y_col_norms_max: 0.0320068784058\n"
       ]
      },
      {
       "output_type": "stream",
       "stream": "stdout",
       "text": [
        "\ttrain_y_col_norms_mean: 0.00163056096062\n"
       ]
      },
      {
       "output_type": "stream",
       "stream": "stdout",
       "text": [
        "\ttrain_y_col_norms_min: 5.18541346537e-05\n"
       ]
      },
      {
       "output_type": "stream",
       "stream": "stdout",
       "text": [
        "\ttrain_y_max_max_class: 0.010870475322\n"
       ]
      },
      {
       "output_type": "stream",
       "stream": "stdout",
       "text": [
        "\ttrain_y_mean_max_class: 0.00859995093197\n"
       ]
      },
      {
       "output_type": "stream",
       "stream": "stdout",
       "text": [
        "\ttrain_y_min_max_class: 0.00829395465553\n"
       ]
      },
      {
       "output_type": "stream",
       "stream": "stdout",
       "text": [
        "\ttrain_y_misclass: 0.827520012856\n"
       ]
      },
      {
       "output_type": "stream",
       "stream": "stdout",
       "text": [
        "\ttrain_y_nll: 4.77894926071\n"
       ]
      },
      {
       "output_type": "stream",
       "stream": "stdout",
       "text": [
        "\ttrain_y_row_norms_max: 0.00379600212909\n"
       ]
      },
      {
       "output_type": "stream",
       "stream": "stdout",
       "text": [
        "\ttrain_y_row_norms_mean: 0.000827241572551\n"
       ]
      },
      {
       "output_type": "stream",
       "stream": "stdout",
       "text": [
        "\ttrain_y_row_norms_min: 0.000222269649385\n"
       ]
      },
      {
       "output_type": "stream",
       "stream": "stdout",
       "text": [
        "\ttraining_seconds_this_epoch: 30.3232383728\n"
       ]
      },
      {
       "output_type": "stream",
       "stream": "stdout",
       "text": [
        "\tvalid_objective: 4.77821207047\n"
       ]
      },
      {
       "output_type": "stream",
       "stream": "stdout",
       "text": [
        "\tvalid_y_col_norms_max: 0.0320068784058\n"
       ]
      },
      {
       "output_type": "stream",
       "stream": "stdout",
       "text": [
        "\tvalid_y_col_norms_mean: 0.00163056107704\n"
       ]
      },
      {
       "output_type": "stream",
       "stream": "stdout",
       "text": [
        "\tvalid_y_col_norms_min: 5.18541346537e-05\n"
       ]
      },
      {
       "output_type": "stream",
       "stream": "stdout",
       "text": [
        "\tvalid_y_max_max_class: 0.0110249249265\n"
       ]
      },
      {
       "output_type": "stream",
       "stream": "stdout",
       "text": [
        "\tvalid_y_mean_max_class: 0.00860889907926\n"
       ]
      },
      {
       "output_type": "stream",
       "stream": "stdout",
       "text": [
        "\tvalid_y_min_max_class: 0.00829607248306\n"
       ]
      },
      {
       "output_type": "stream",
       "stream": "stdout",
       "text": [
        "\tvalid_y_misclass: 0.821399986744\n"
       ]
      },
      {
       "output_type": "stream",
       "stream": "stdout",
       "text": [
        "\tvalid_y_nll: 4.77821207047\n"
       ]
      },
      {
       "output_type": "stream",
       "stream": "stdout",
       "text": [
        "\tvalid_y_row_norms_max: 0.00379600212909\n"
       ]
      },
      {
       "output_type": "stream",
       "stream": "stdout",
       "text": [
        "\tvalid_y_row_norms_mean: 0.000827241630759\n"
       ]
      },
      {
       "output_type": "stream",
       "stream": "stdout",
       "text": [
        "\tvalid_y_row_norms_min: 0.000222269649385\n"
       ]
      },
      {
       "output_type": "stream",
       "stream": "stdout",
       "text": [
        "Saving to softreg_shuf_ctr_sgd_bestnll_10.pkl...\n"
       ]
      },
      {
       "output_type": "stream",
       "stream": "stdout",
       "text": [
        "Saving to softreg_shuf_ctr_sgd_bestnll_10.pkl done. Time elapsed: 0.044931 seconds\n"
       ]
      },
      {
       "output_type": "stream",
       "stream": "stdout",
       "text": [
        "Saving to softreg_shuf_ctr_sgd_last_10.pkl...\n"
       ]
      },
      {
       "output_type": "stream",
       "stream": "stdout",
       "text": [
        "Saving to softreg_shuf_ctr_sgd_last_10.pkl done. Time elapsed: 0.044207 seconds\n"
       ]
      },
      {
       "output_type": "stream",
       "stream": "stdout",
       "text": [
        "Time this epoch: 30.654705 seconds\n"
       ]
      },
      {
       "output_type": "stream",
       "stream": "stdout",
       "text": [
        "Monitoring step:\n"
       ]
      },
      {
       "output_type": "stream",
       "stream": "stdout",
       "text": [
        "\tEpochs seen: 3\n"
       ]
      },
      {
       "output_type": "stream",
       "stream": "stdout",
       "text": [
        "\tBatches seen: 15\n"
       ]
      },
      {
       "output_type": "stream",
       "stream": "stdout",
       "text": [
        "\tExamples seen: 75000\n"
       ]
      },
      {
       "output_type": "stream",
       "stream": "stdout",
       "text": [
        "\tlearning_rate: 0.0100000007078\n"
       ]
      },
      {
       "output_type": "stream",
       "stream": "stdout",
       "text": [
        "\ttotal_seconds_last_epoch: 34.4431381226\n"
       ]
      },
      {
       "output_type": "stream",
       "stream": "stdout",
       "text": [
        "\ttrain_objective: 4.77057266235\n"
       ]
      },
      {
       "output_type": "stream",
       "stream": "stdout",
       "text": [
        "\ttrain_y_col_norms_max: 0.0479573309422\n"
       ]
      },
      {
       "output_type": "stream",
       "stream": "stdout",
       "text": [
        "\ttrain_y_col_norms_mean: 0.00244414713234\n"
       ]
      },
      {
       "output_type": "stream",
       "stream": "stdout",
       "text": [
        "\ttrain_y_col_norms_min: 7.77407040005e-05\n"
       ]
      },
      {
       "output_type": "stream",
       "stream": "stdout",
       "text": [
        "\ttrain_y_max_max_class: 0.0124572776258\n"
       ]
      },
      {
       "output_type": "stream",
       "stream": "stdout",
       "text": [
        "\ttrain_y_mean_max_class: 0.0087807700038\n"
       ]
      },
      {
       "output_type": "stream",
       "stream": "stdout",
       "text": [
        "\ttrain_y_min_max_class: 0.00830872077495\n"
       ]
      },
      {
       "output_type": "stream",
       "stream": "stdout",
       "text": [
        "\ttrain_y_misclass: 0.827559947968\n"
       ]
      },
      {
       "output_type": "stream",
       "stream": "stdout",
       "text": [
        "\ttrain_y_nll: 4.77057266235\n"
       ]
      },
      {
       "output_type": "stream",
       "stream": "stdout",
       "text": [
        "\ttrain_y_row_norms_max: 0.00568836648017\n"
       ]
      },
      {
       "output_type": "stream",
       "stream": "stdout",
       "text": [
        "\ttrain_y_row_norms_mean: 0.00123998243362\n"
       ]
      },
      {
       "output_type": "stream",
       "stream": "stdout",
       "text": [
        "\ttrain_y_row_norms_min: 0.000333334435709\n"
       ]
      },
      {
       "output_type": "stream",
       "stream": "stdout",
       "text": [
        "\ttraining_seconds_this_epoch: 30.654706955\n"
       ]
      },
      {
       "output_type": "stream",
       "stream": "stdout",
       "text": [
        "\tvalid_objective: 4.76946926117\n"
       ]
      },
      {
       "output_type": "stream",
       "stream": "stdout",
       "text": [
        "\tvalid_y_col_norms_max: 0.0479573272169\n"
       ]
      },
      {
       "output_type": "stream",
       "stream": "stdout",
       "text": [
        "\tvalid_y_col_norms_mean: 0.00244414713234\n"
       ]
      },
      {
       "output_type": "stream",
       "stream": "stdout",
       "text": [
        "\tvalid_y_col_norms_min: 7.77407040005e-05\n"
       ]
      },
      {
       "output_type": "stream",
       "stream": "stdout",
       "text": [
        "\tvalid_y_max_max_class: 0.0127219343558\n"
       ]
      },
      {
       "output_type": "stream",
       "stream": "stdout",
       "text": [
        "\tvalid_y_mean_max_class: 0.00879478175193\n"
       ]
      },
      {
       "output_type": "stream",
       "stream": "stdout",
       "text": [
        "\tvalid_y_min_max_class: 0.00831190589815\n"
       ]
      },
      {
       "output_type": "stream",
       "stream": "stdout",
       "text": [
        "\tvalid_y_misclass: 0.821399986744\n"
       ]
      },
      {
       "output_type": "stream",
       "stream": "stdout",
       "text": [
        "\tvalid_y_nll: 4.76946926117\n"
       ]
      },
      {
       "output_type": "stream",
       "stream": "stdout",
       "text": [
        "\tvalid_y_row_norms_max: 0.00568836648017\n"
       ]
      },
      {
       "output_type": "stream",
       "stream": "stdout",
       "text": [
        "\tvalid_y_row_norms_mean: 0.0012399823172\n"
       ]
      },
      {
       "output_type": "stream",
       "stream": "stdout",
       "text": [
        "\tvalid_y_row_norms_min: 0.000333334435709\n"
       ]
      },
      {
       "output_type": "stream",
       "stream": "stdout",
       "text": [
        "Saving to softreg_shuf_ctr_sgd_bestnll_10.pkl...\n"
       ]
      },
      {
       "output_type": "stream",
       "stream": "stdout",
       "text": [
        "Saving to softreg_shuf_ctr_sgd_bestnll_10.pkl done. Time elapsed: 0.042918 seconds\n"
       ]
      },
      {
       "output_type": "stream",
       "stream": "stdout",
       "text": [
        "Saving to softreg_shuf_ctr_sgd_last_10.pkl...\n"
       ]
      },
      {
       "output_type": "stream",
       "stream": "stdout",
       "text": [
        "Saving to softreg_shuf_ctr_sgd_last_10.pkl done. Time elapsed: 0.042865 seconds\n"
       ]
      },
      {
       "output_type": "stream",
       "stream": "stdout",
       "text": [
        "Time this epoch: 30.775710 seconds\n"
       ]
      },
      {
       "output_type": "stream",
       "stream": "stdout",
       "text": [
        "Monitoring step:\n"
       ]
      },
      {
       "output_type": "stream",
       "stream": "stdout",
       "text": [
        "\tEpochs seen: 4\n"
       ]
      },
      {
       "output_type": "stream",
       "stream": "stdout",
       "text": [
        "\tBatches seen: 20\n"
       ]
      },
      {
       "output_type": "stream",
       "stream": "stdout",
       "text": [
        "\tExamples seen: 100000\n"
       ]
      },
      {
       "output_type": "stream",
       "stream": "stdout",
       "text": [
        "\tlearning_rate: 0.0100000007078\n"
       ]
      },
      {
       "output_type": "stream",
       "stream": "stdout",
       "text": [
        "\ttotal_seconds_last_epoch: 34.7768249512\n"
       ]
      },
      {
       "output_type": "stream",
       "stream": "stdout",
       "text": [
        "\ttrain_objective: 4.76222753525\n"
       ]
      },
      {
       "output_type": "stream",
       "stream": "stdout",
       "text": [
        "\ttrain_y_col_norms_max: 0.0638702884316\n"
       ]
      },
      {
       "output_type": "stream",
       "stream": "stdout",
       "text": [
        "\ttrain_y_col_norms_mean: 0.00325658568181\n"
       ]
      },
      {
       "output_type": "stream",
       "stream": "stdout",
       "text": [
        "\ttrain_y_col_norms_min: 0.000103579252027\n"
       ]
      },
      {
       "output_type": "stream",
       "stream": "stdout",
       "text": [
        "\ttrain_y_max_max_class: 0.0142673971131\n"
       ]
      },
      {
       "output_type": "stream",
       "stream": "stdout",
       "text": [
        "\ttrain_y_mean_max_class: 0.00897118914872\n"
       ]
      },
      {
       "output_type": "stream",
       "stream": "stdout",
       "text": [
        "\ttrain_y_min_max_class: 0.00832350272685\n"
       ]
      },
      {
       "output_type": "stream",
       "stream": "stdout",
       "text": [
        "\ttrain_y_misclass: 0.827560007572\n"
       ]
      },
      {
       "output_type": "stream",
       "stream": "stdout",
       "text": [
        "\ttrain_y_nll: 4.76222753525\n"
       ]
      },
      {
       "output_type": "stream",
       "stream": "stdout",
       "text": [
        "\ttrain_y_row_norms_max: 0.00757681578398\n"
       ]
      },
      {
       "output_type": "stream",
       "stream": "stdout",
       "text": [
        "\ttrain_y_row_norms_mean: 0.00165211083367\n"
       ]
      },
      {
       "output_type": "stream",
       "stream": "stdout",
       "text": [
        "\ttrain_y_row_norms_min: 0.000444351811893\n"
       ]
      },
      {
       "output_type": "stream",
       "stream": "stdout",
       "text": [
        "\ttraining_seconds_this_epoch: 30.7757091522\n"
       ]
      },
      {
       "output_type": "stream",
       "stream": "stdout",
       "text": [
        "\tvalid_objective: 4.76075839996\n"
       ]
      },
      {
       "output_type": "stream",
       "stream": "stdout",
       "text": [
        "\tvalid_y_col_norms_max: 0.0638702884316\n"
       ]
      },
      {
       "output_type": "stream",
       "stream": "stdout",
       "text": [
        "\tvalid_y_col_norms_mean: 0.00325658568181\n"
       ]
      },
      {
       "output_type": "stream",
       "stream": "stdout",
       "text": [
        "\tvalid_y_col_norms_min: 0.000103579244751\n"
       ]
      },
      {
       "output_type": "stream",
       "stream": "stdout",
       "text": [
        "\tvalid_y_max_max_class: 0.0146701382473\n"
       ]
      },
      {
       "output_type": "stream",
       "stream": "stdout",
       "text": [
        "\tvalid_y_mean_max_class: 0.00899069476873\n"
       ]
      },
      {
       "output_type": "stream",
       "stream": "stdout",
       "text": [
        "\tvalid_y_min_max_class: 0.00832775980234\n"
       ]
      },
      {
       "output_type": "stream",
       "stream": "stdout",
       "text": [
        "\tvalid_y_misclass: 0.821399986744\n"
       ]
      },
      {
       "output_type": "stream",
       "stream": "stdout",
       "text": [
        "\tvalid_y_nll: 4.76075839996\n"
       ]
      },
      {
       "output_type": "stream",
       "stream": "stdout",
       "text": [
        "\tvalid_y_row_norms_max: 0.00757681578398\n"
       ]
      },
      {
       "output_type": "stream",
       "stream": "stdout",
       "text": [
        "\tvalid_y_row_norms_mean: 0.00165211083367\n"
       ]
      },
      {
       "output_type": "stream",
       "stream": "stdout",
       "text": [
        "\tvalid_y_row_norms_min: 0.000444351811893\n"
       ]
      },
      {
       "output_type": "stream",
       "stream": "stdout",
       "text": [
        "Saving to softreg_shuf_ctr_sgd_bestnll_10.pkl...\n"
       ]
      },
      {
       "output_type": "stream",
       "stream": "stdout",
       "text": [
        "Saving to softreg_shuf_ctr_sgd_bestnll_10.pkl done. Time elapsed: 0.043914 seconds\n"
       ]
      },
      {
       "output_type": "stream",
       "stream": "stdout",
       "text": [
        "Saving to softreg_shuf_ctr_sgd_last_10.pkl...\n"
       ]
      },
      {
       "output_type": "stream",
       "stream": "stdout",
       "text": [
        "Saving to softreg_shuf_ctr_sgd_last_10.pkl done. Time elapsed: 0.044100 seconds\n"
       ]
      },
      {
       "output_type": "stream",
       "stream": "stdout",
       "text": [
        "Time this epoch: 30.796377 seconds\n"
       ]
      },
      {
       "output_type": "stream",
       "stream": "stdout",
       "text": [
        "Monitoring step:\n"
       ]
      },
      {
       "output_type": "stream",
       "stream": "stdout",
       "text": [
        "\tEpochs seen: 5\n"
       ]
      },
      {
       "output_type": "stream",
       "stream": "stdout",
       "text": [
        "\tBatches seen: 25\n"
       ]
      },
      {
       "output_type": "stream",
       "stream": "stdout",
       "text": [
        "\tExamples seen: 125000\n"
       ]
      },
      {
       "output_type": "stream",
       "stream": "stdout",
       "text": [
        "\tlearning_rate: 0.0100000007078\n"
       ]
      },
      {
       "output_type": "stream",
       "stream": "stdout",
       "text": [
        "\ttotal_seconds_last_epoch: 34.8632316589\n"
       ]
      },
      {
       "output_type": "stream",
       "stream": "stdout",
       "text": [
        "\ttrain_objective: 4.75391435623\n"
       ]
      },
      {
       "output_type": "stream",
       "stream": "stdout",
       "text": [
        "\ttrain_y_col_norms_max: 0.0797432512045\n"
       ]
      },
      {
       "output_type": "stream",
       "stream": "stdout",
       "text": [
        "\ttrain_y_col_norms_mean: 0.00406785821542\n"
       ]
      },
      {
       "output_type": "stream",
       "stream": "stdout",
       "text": [
        "\ttrain_y_col_norms_min: 0.000129368068883\n"
       ]
      },
      {
       "output_type": "stream",
       "stream": "stdout",
       "text": [
        "\ttrain_y_max_max_class: 0.0163301732391\n"
       ]
      },
      {
       "output_type": "stream",
       "stream": "stdout",
       "text": [
        "\ttrain_y_mean_max_class: 0.00917192175984\n"
       ]
      },
      {
       "output_type": "stream",
       "stream": "stdout",
       "text": [
        "\ttrain_y_min_max_class: 0.00833829771727\n"
       ]
      },
      {
       "output_type": "stream",
       "stream": "stdout",
       "text": [
        "\ttrain_y_misclass: 0.827600002289\n"
       ]
      },
      {
       "output_type": "stream",
       "stream": "stdout",
       "text": [
        "\ttrain_y_nll: 4.75391435623\n"
       ]
      },
      {
       "output_type": "stream",
       "stream": "stdout",
       "text": [
        "\ttrain_y_row_norms_max: 0.00946115329862\n"
       ]
      },
      {
       "output_type": "stream",
       "stream": "stdout",
       "text": [
        "\ttrain_y_row_norms_mean: 0.00206359871663\n"
       ]
      },
      {
       "output_type": "stream",
       "stream": "stdout",
       "text": [
        "\ttrain_y_row_norms_min: 0.000555320235435\n"
       ]
      },
      {
       "output_type": "stream",
       "stream": "stdout",
       "text": [
        "\ttraining_seconds_this_epoch: 30.796377182\n"
       ]
      },
      {
       "output_type": "stream",
       "stream": "stdout",
       "text": [
        "\tvalid_objective: 4.7520813942\n"
       ]
      },
      {
       "output_type": "stream",
       "stream": "stdout",
       "text": [
        "\tvalid_y_col_norms_max: 0.0797432437539\n"
       ]
      },
      {
       "output_type": "stream",
       "stream": "stdout",
       "text": [
        "\tvalid_y_col_norms_mean: 0.00406785868108\n"
       ]
      },
      {
       "output_type": "stream",
       "stream": "stdout",
       "text": [
        "\tvalid_y_col_norms_min: 0.000129368068883\n"
       ]
      },
      {
       "output_type": "stream",
       "stream": "stdout",
       "text": [
        "\tvalid_y_max_max_class: 0.0169041547924\n"
       ]
      },
      {
       "output_type": "stream",
       "stream": "stdout",
       "text": [
        "\tvalid_y_mean_max_class: 0.00919738877565\n"
       ]
      },
      {
       "output_type": "stream",
       "stream": "stdout",
       "text": [
        "\tvalid_y_min_max_class: 0.00834363233298\n"
       ]
      },
      {
       "output_type": "stream",
       "stream": "stdout",
       "text": [
        "\tvalid_y_misclass: 0.820999979973\n"
       ]
      },
      {
       "output_type": "stream",
       "stream": "stdout",
       "text": [
        "\tvalid_y_nll: 4.7520813942\n"
       ]
      },
      {
       "output_type": "stream",
       "stream": "stdout",
       "text": [
        "\tvalid_y_row_norms_max: 0.00946115329862\n"
       ]
      },
      {
       "output_type": "stream",
       "stream": "stdout",
       "text": [
        "\tvalid_y_row_norms_mean: 0.00206359871663\n"
       ]
      },
      {
       "output_type": "stream",
       "stream": "stdout",
       "text": [
        "\tvalid_y_row_norms_min: 0.000555320235435\n"
       ]
      },
      {
       "output_type": "stream",
       "stream": "stdout",
       "text": [
        "Saving to softreg_shuf_ctr_sgd_bestnll_10.pkl...\n"
       ]
      },
      {
       "output_type": "stream",
       "stream": "stdout",
       "text": [
        "Saving to softreg_shuf_ctr_sgd_bestnll_10.pkl done. Time elapsed: 0.043950 seconds\n"
       ]
      },
      {
       "output_type": "stream",
       "stream": "stdout",
       "text": [
        "Saving to softreg_shuf_ctr_sgd_last_10.pkl...\n"
       ]
      },
      {
       "output_type": "stream",
       "stream": "stdout",
       "text": [
        "Saving to softreg_shuf_ctr_sgd_last_10.pkl done. Time elapsed: 0.043643 seconds\n"
       ]
      },
      {
       "output_type": "stream",
       "stream": "stdout",
       "text": [
        "Time this epoch: 30.893894 seconds\n"
       ]
      },
      {
       "output_type": "stream",
       "stream": "stdout",
       "text": [
        "Monitoring step:\n"
       ]
      },
      {
       "output_type": "stream",
       "stream": "stdout",
       "text": [
        "\tEpochs seen: 6\n"
       ]
      },
      {
       "output_type": "stream",
       "stream": "stdout",
       "text": [
        "\tBatches seen: 30\n"
       ]
      },
      {
       "output_type": "stream",
       "stream": "stdout",
       "text": [
        "\tExamples seen: 150000\n"
       ]
      },
      {
       "output_type": "stream",
       "stream": "stdout",
       "text": [
        "\tlearning_rate: 0.0100000007078\n"
       ]
      },
      {
       "output_type": "stream",
       "stream": "stdout",
       "text": [
        "\ttotal_seconds_last_epoch: 34.9358634949\n"
       ]
      },
      {
       "output_type": "stream",
       "stream": "stdout",
       "text": [
        "\ttrain_objective: 4.74563550949\n"
       ]
      },
      {
       "output_type": "stream",
       "stream": "stdout",
       "text": [
        "\ttrain_y_col_norms_max: 0.0955740958452\n"
       ]
      },
      {
       "output_type": "stream",
       "stream": "stdout",
       "text": [
        "\ttrain_y_col_norms_mean: 0.00487794540823\n"
       ]
      },
      {
       "output_type": "stream",
       "stream": "stdout",
       "text": [
        "\ttrain_y_col_norms_min: 0.000155097659444\n"
       ]
      },
      {
       "output_type": "stream",
       "stream": "stdout",
       "text": [
        "\ttrain_y_max_max_class: 0.0186782311648\n"
       ]
      },
      {
       "output_type": "stream",
       "stream": "stdout",
       "text": [
        "\ttrain_y_mean_max_class: 0.00938373617828\n"
       ]
      },
      {
       "output_type": "stream",
       "stream": "stdout",
       "text": [
        "\ttrain_y_min_max_class: 0.00835310760885\n"
       ]
      },
      {
       "output_type": "stream",
       "stream": "stdout",
       "text": [
        "\ttrain_y_misclass: 0.827639997005\n"
       ]
      },
      {
       "output_type": "stream",
       "stream": "stdout",
       "text": [
        "\ttrain_y_nll: 4.74563550949\n"
       ]
      },
      {
       "output_type": "stream",
       "stream": "stdout",
       "text": [
        "\ttrain_y_row_norms_max: 0.0113412505016\n"
       ]
      },
      {
       "output_type": "stream",
       "stream": "stdout",
       "text": [
        "\ttrain_y_row_norms_mean: 0.0024744188413\n"
       ]
      },
      {
       "output_type": "stream",
       "stream": "stdout",
       "text": [
        "\ttrain_y_row_norms_min: 0.000666236388497\n"
       ]
      },
      {
       "output_type": "stream",
       "stream": "stdout",
       "text": [
        "\ttraining_seconds_this_epoch: 30.8938941956\n"
       ]
      },
      {
       "output_type": "stream",
       "stream": "stdout",
       "text": [
        "\tvalid_objective: 4.74343967438\n"
       ]
      },
      {
       "output_type": "stream",
       "stream": "stdout",
       "text": [
        "\tvalid_y_col_norms_max: 0.0955740958452\n"
       ]
      },
      {
       "output_type": "stream",
       "stream": "stdout",
       "text": [
        "\tvalid_y_col_norms_mean: 0.00487794540823\n"
       ]
      },
      {
       "output_type": "stream",
       "stream": "stdout",
       "text": [
        "\tvalid_y_col_norms_min: 0.000155097659444\n"
       ]
      },
      {
       "output_type": "stream",
       "stream": "stdout",
       "text": [
        "\tvalid_y_max_max_class: 0.0194626357406\n"
       ]
      },
      {
       "output_type": "stream",
       "stream": "stdout",
       "text": [
        "\tvalid_y_mean_max_class: 0.00941566657275\n"
       ]
      },
      {
       "output_type": "stream",
       "stream": "stdout",
       "text": [
        "\tvalid_y_min_max_class: 0.00835952535272\n"
       ]
      },
      {
       "output_type": "stream",
       "stream": "stdout",
       "text": [
        "\tvalid_y_misclass: 0.820999979973\n"
       ]
      },
      {
       "output_type": "stream",
       "stream": "stdout",
       "text": [
        "\tvalid_y_nll: 4.74343967438\n"
       ]
      },
      {
       "output_type": "stream",
       "stream": "stdout",
       "text": [
        "\tvalid_y_row_norms_max: 0.0113412505016\n"
       ]
      },
      {
       "output_type": "stream",
       "stream": "stdout",
       "text": [
        "\tvalid_y_row_norms_mean: 0.0024744188413\n"
       ]
      },
      {
       "output_type": "stream",
       "stream": "stdout",
       "text": [
        "\tvalid_y_row_norms_min: 0.000666236388497\n"
       ]
      },
      {
       "output_type": "stream",
       "stream": "stdout",
       "text": [
        "Saving to softreg_shuf_ctr_sgd_bestnll_10.pkl...\n"
       ]
      },
      {
       "output_type": "stream",
       "stream": "stdout",
       "text": [
        "Saving to softreg_shuf_ctr_sgd_bestnll_10.pkl done. Time elapsed: 0.043985 seconds\n"
       ]
      },
      {
       "output_type": "stream",
       "stream": "stdout",
       "text": [
        "Saving to softreg_shuf_ctr_sgd_last_10.pkl...\n"
       ]
      },
      {
       "output_type": "stream",
       "stream": "stdout",
       "text": [
        "Saving to softreg_shuf_ctr_sgd_last_10.pkl done. Time elapsed: 0.043680 seconds\n"
       ]
      },
      {
       "output_type": "stream",
       "stream": "stdout",
       "text": [
        "Saving to softreg_shuf_ctr_sgd_last_10.pkl...\n"
       ]
      },
      {
       "output_type": "stream",
       "stream": "stdout",
       "text": [
        "Saving to softreg_shuf_ctr_sgd_last_10.pkl done. Time elapsed: 0.043949 seconds\n"
       ]
      }
     ],
     "prompt_number": 7
    },
    {
     "cell_type": "code",
     "collapsed": false,
     "input": [
      "!../pylearn2_fork/pylearn2/scripts/print_monitor.py softreg_shuf_ctr_sgd_bestnll_10.pkl"
     ],
     "language": "python",
     "metadata": {},
     "outputs": [
      {
       "output_type": "stream",
       "stream": "stdout",
       "text": [
        "Using gpu device 0: GeForce GTX 550 Ti\r\n"
       ]
      },
      {
       "output_type": "stream",
       "stream": "stdout",
       "text": [
        "epochs seen:  6\r\n",
        "time trained:  211.511057854\r\n",
        "learning_rate : 0.0100000007078\r\n",
        "total_seconds_last_epoch : 34.9358634949\r\n",
        "train_objective : 4.74563550949\r\n",
        "train_y_col_norms_max : 0.0955740958452\r\n",
        "train_y_col_norms_mean : 0.00487794540823\r\n",
        "train_y_col_norms_min : 0.000155097659444\r\n",
        "train_y_max_max_class : 0.0186782311648\r\n",
        "train_y_mean_max_class : 0.00938373617828\r\n",
        "train_y_min_max_class : 0.00835310760885\r\n",
        "train_y_misclass : 0.827639997005\r\n",
        "train_y_nll : 4.74563550949\r\n",
        "train_y_row_norms_max : 0.0113412505016\r\n",
        "train_y_row_norms_mean : 0.0024744188413\r\n",
        "train_y_row_norms_min : 0.000666236388497\r\n",
        "training_seconds_this_epoch : 30.8938941956\r\n",
        "valid_objective : 4.74343967438\r\n",
        "valid_y_col_norms_max : 0.0955740958452\r\n",
        "valid_y_col_norms_mean : 0.00487794540823\r\n",
        "valid_y_col_norms_min : 0.000155097659444\r\n",
        "valid_y_max_max_class : 0.0194626357406\r\n",
        "valid_y_mean_max_class : 0.00941566657275\r\n",
        "valid_y_min_max_class : 0.00835952535272\r\n",
        "valid_y_misclass : 0.820999979973\r\n",
        "valid_y_nll : 4.74343967438\r\n",
        "valid_y_row_norms_max : 0.0113412505016\r\n",
        "valid_y_row_norms_mean : 0.0024744188413\r\n",
        "valid_y_row_norms_min : 0.000666236388497\r\n"
       ]
      }
     ],
     "prompt_number": 8
    },
    {
     "cell_type": "code",
     "collapsed": false,
     "input": [
      "# !chmod u+x pylearn2_fork/pylearn2/scripts/mlp/predict_csv.py"
     ],
     "language": "python",
     "metadata": {},
     "outputs": []
    },
    {
     "cell_type": "code",
     "collapsed": false,
     "input": [
      "!../pylearn2_fork/pylearn2/scripts/mlp/predict_csv.py \\\n",
      "    softreg_shuf_ctr_sgd_bestnll_10.pkl\\\n",
      "    test_data_centered.npy\\\n",
      "    submission_softreg_shuf_ctr_sgd_bestnll_10.csv\\\n",
      "    pred_rownames.pkl\\\n",
      "    pred_colnames.pkl"
     ],
     "language": "python",
     "metadata": {},
     "outputs": [
      {
       "output_type": "stream",
       "stream": "stdout",
       "text": [
        "Using gpu device 0: GeForce GTX 550 Ti\r\n"
       ]
      },
      {
       "output_type": "stream",
       "stream": "stdout",
       "text": [
        "loading model...\r\n"
       ]
      },
      {
       "output_type": "stream",
       "stream": "stdout",
       "text": [
        "setting up symbolic expressions...\r\n"
       ]
      },
      {
       "output_type": "stream",
       "stream": "stdout",
       "text": [
        "loading data and predicting...\r\n"
       ]
      },
      {
       "output_type": "stream",
       "stream": "stdout",
       "text": [
        "writing predictions...\r\n"
       ]
      }
     ],
     "prompt_number": 9
    },
    {
     "cell_type": "code",
     "collapsed": false,
     "input": [
      "y = pd.read_csv('submission_softreg_shuf_ctr_sgd_bestnll_10.csv')\n",
      "y"
     ],
     "language": "python",
     "metadata": {},
     "outputs": [
      {
       "html": [
        "<div style=\"max-height:1000px;max-width:1500px;overflow:auto;\">\n",
        "<table border=\"1\" class=\"dataframe\">\n",
        "  <thead>\n",
        "    <tr style=\"text-align: right;\">\n",
        "      <th></th>\n",
        "      <th>image</th>\n",
        "      <th>appendicularian_slight_curve</th>\n",
        "      <th>hydromedusae_shapeB</th>\n",
        "      <th>hydromedusae_shapeA</th>\n",
        "      <th>siphonophore_other_parts</th>\n",
        "      <th>tunicate_doliolid_nurse</th>\n",
        "      <th>acantharia_protist</th>\n",
        "      <th>hydromedusae_narco_young</th>\n",
        "      <th>fish_larvae_deep_body</th>\n",
        "      <th>hydromedusae_haliscera_small_sideview</th>\n",
        "      <th>...</th>\n",
        "      <th>unknown_sticks</th>\n",
        "      <th>unknown_unclassified</th>\n",
        "      <th>pteropod_theco_dev_seq</th>\n",
        "      <th>acantharia_protist_halo</th>\n",
        "      <th>hydromedusae_typeD_bell_and_tentacles</th>\n",
        "      <th>echinoderm_larva_pluteus_typeC</th>\n",
        "      <th>decapods</th>\n",
        "      <th>copepod_calanoid_small_longantennae</th>\n",
        "      <th>euphausiids</th>\n",
        "      <th>echinopluteus</th>\n",
        "    </tr>\n",
        "  </thead>\n",
        "  <tbody>\n",
        "    <tr>\n",
        "      <th>0     </th>\n",
        "      <td>      1.jpg</td>\n",
        "      <td> 0.008242</td>\n",
        "      <td> 0.008272</td>\n",
        "      <td> 0.008276</td>\n",
        "      <td> 0.008331</td>\n",
        "      <td> 0.008233</td>\n",
        "      <td> 0.008258</td>\n",
        "      <td> 0.008218</td>\n",
        "      <td> 0.008269</td>\n",
        "      <td> 0.008258</td>\n",
        "      <td>...</td>\n",
        "      <td> 0.008252</td>\n",
        "      <td> 0.008246</td>\n",
        "      <td> 0.008400</td>\n",
        "      <td> 0.008203</td>\n",
        "      <td> 0.008270</td>\n",
        "      <td> 0.008246</td>\n",
        "      <td> 0.008243</td>\n",
        "      <td> 0.008205</td>\n",
        "      <td> 0.008244</td>\n",
        "      <td> 0.008227</td>\n",
        "    </tr>\n",
        "    <tr>\n",
        "      <th>1     </th>\n",
        "      <td>     10.jpg</td>\n",
        "      <td> 0.008238</td>\n",
        "      <td> 0.008273</td>\n",
        "      <td> 0.008270</td>\n",
        "      <td> 0.008357</td>\n",
        "      <td> 0.008236</td>\n",
        "      <td> 0.008259</td>\n",
        "      <td> 0.008223</td>\n",
        "      <td> 0.008269</td>\n",
        "      <td> 0.008257</td>\n",
        "      <td>...</td>\n",
        "      <td> 0.008245</td>\n",
        "      <td> 0.008247</td>\n",
        "      <td> 0.008369</td>\n",
        "      <td> 0.008210</td>\n",
        "      <td> 0.008269</td>\n",
        "      <td> 0.008246</td>\n",
        "      <td> 0.008242</td>\n",
        "      <td> 0.008244</td>\n",
        "      <td> 0.008246</td>\n",
        "      <td> 0.008238</td>\n",
        "    </tr>\n",
        "    <tr>\n",
        "      <th>2     </th>\n",
        "      <td>    100.jpg</td>\n",
        "      <td> 0.008238</td>\n",
        "      <td> 0.008272</td>\n",
        "      <td> 0.008269</td>\n",
        "      <td> 0.008307</td>\n",
        "      <td> 0.008236</td>\n",
        "      <td> 0.008278</td>\n",
        "      <td> 0.008192</td>\n",
        "      <td> 0.008280</td>\n",
        "      <td> 0.008258</td>\n",
        "      <td>...</td>\n",
        "      <td> 0.008244</td>\n",
        "      <td> 0.008243</td>\n",
        "      <td> 0.008375</td>\n",
        "      <td> 0.008222</td>\n",
        "      <td> 0.008281</td>\n",
        "      <td> 0.008248</td>\n",
        "      <td> 0.008262</td>\n",
        "      <td> 0.008143</td>\n",
        "      <td> 0.008242</td>\n",
        "      <td> 0.008255</td>\n",
        "    </tr>\n",
        "    <tr>\n",
        "      <th>3     </th>\n",
        "      <td>   1000.jpg</td>\n",
        "      <td> 0.008255</td>\n",
        "      <td> 0.008258</td>\n",
        "      <td> 0.008261</td>\n",
        "      <td> 0.008330</td>\n",
        "      <td> 0.008244</td>\n",
        "      <td> 0.008247</td>\n",
        "      <td> 0.008232</td>\n",
        "      <td> 0.008252</td>\n",
        "      <td> 0.008251</td>\n",
        "      <td>...</td>\n",
        "      <td> 0.008250</td>\n",
        "      <td> 0.008246</td>\n",
        "      <td> 0.008328</td>\n",
        "      <td> 0.008225</td>\n",
        "      <td> 0.008260</td>\n",
        "      <td> 0.008246</td>\n",
        "      <td> 0.008240</td>\n",
        "      <td> 0.008187</td>\n",
        "      <td> 0.008245</td>\n",
        "      <td> 0.008232</td>\n",
        "    </tr>\n",
        "    <tr>\n",
        "      <th>4     </th>\n",
        "      <td>  10000.jpg</td>\n",
        "      <td> 0.008234</td>\n",
        "      <td> 0.008158</td>\n",
        "      <td> 0.008130</td>\n",
        "      <td> 0.008135</td>\n",
        "      <td> 0.008293</td>\n",
        "      <td> 0.008153</td>\n",
        "      <td> 0.008481</td>\n",
        "      <td> 0.008124</td>\n",
        "      <td> 0.008171</td>\n",
        "      <td>...</td>\n",
        "      <td> 0.008216</td>\n",
        "      <td> 0.008217</td>\n",
        "      <td> 0.007797</td>\n",
        "      <td> 0.008460</td>\n",
        "      <td> 0.008154</td>\n",
        "      <td> 0.008207</td>\n",
        "      <td> 0.008206</td>\n",
        "      <td> 0.008545</td>\n",
        "      <td> 0.008225</td>\n",
        "      <td> 0.008339</td>\n",
        "    </tr>\n",
        "    <tr>\n",
        "      <th>5     </th>\n",
        "      <td> 100000.jpg</td>\n",
        "      <td> 0.008241</td>\n",
        "      <td> 0.008262</td>\n",
        "      <td> 0.008259</td>\n",
        "      <td> 0.008342</td>\n",
        "      <td> 0.008245</td>\n",
        "      <td> 0.008253</td>\n",
        "      <td> 0.008235</td>\n",
        "      <td> 0.008258</td>\n",
        "      <td> 0.008251</td>\n",
        "      <td>...</td>\n",
        "      <td> 0.008247</td>\n",
        "      <td> 0.008246</td>\n",
        "      <td> 0.008311</td>\n",
        "      <td> 0.008233</td>\n",
        "      <td> 0.008266</td>\n",
        "      <td> 0.008245</td>\n",
        "      <td> 0.008246</td>\n",
        "      <td> 0.008236</td>\n",
        "      <td> 0.008246</td>\n",
        "      <td> 0.008252</td>\n",
        "    </tr>\n",
        "    <tr>\n",
        "      <th>6     </th>\n",
        "      <td> 100001.jpg</td>\n",
        "      <td> 0.008236</td>\n",
        "      <td> 0.008274</td>\n",
        "      <td> 0.008268</td>\n",
        "      <td> 0.008351</td>\n",
        "      <td> 0.008231</td>\n",
        "      <td> 0.008263</td>\n",
        "      <td> 0.008198</td>\n",
        "      <td> 0.008274</td>\n",
        "      <td> 0.008259</td>\n",
        "      <td>...</td>\n",
        "      <td> 0.008245</td>\n",
        "      <td> 0.008245</td>\n",
        "      <td> 0.008349</td>\n",
        "      <td> 0.008205</td>\n",
        "      <td> 0.008268</td>\n",
        "      <td> 0.008249</td>\n",
        "      <td> 0.008250</td>\n",
        "      <td> 0.008292</td>\n",
        "      <td> 0.008245</td>\n",
        "      <td> 0.008242</td>\n",
        "    </tr>\n",
        "    <tr>\n",
        "      <th>7     </th>\n",
        "      <td> 100002.jpg</td>\n",
        "      <td> 0.008235</td>\n",
        "      <td> 0.008272</td>\n",
        "      <td> 0.008265</td>\n",
        "      <td> 0.008383</td>\n",
        "      <td> 0.008234</td>\n",
        "      <td> 0.008262</td>\n",
        "      <td> 0.008206</td>\n",
        "      <td> 0.008270</td>\n",
        "      <td> 0.008258</td>\n",
        "      <td>...</td>\n",
        "      <td> 0.008244</td>\n",
        "      <td> 0.008244</td>\n",
        "      <td> 0.008342</td>\n",
        "      <td> 0.008219</td>\n",
        "      <td> 0.008265</td>\n",
        "      <td> 0.008247</td>\n",
        "      <td> 0.008248</td>\n",
        "      <td> 0.008288</td>\n",
        "      <td> 0.008245</td>\n",
        "      <td> 0.008255</td>\n",
        "    </tr>\n",
        "    <tr>\n",
        "      <th>8     </th>\n",
        "      <td> 100003.jpg</td>\n",
        "      <td> 0.008247</td>\n",
        "      <td> 0.008174</td>\n",
        "      <td> 0.008158</td>\n",
        "      <td> 0.008147</td>\n",
        "      <td> 0.008287</td>\n",
        "      <td> 0.008170</td>\n",
        "      <td> 0.008450</td>\n",
        "      <td> 0.008148</td>\n",
        "      <td> 0.008188</td>\n",
        "      <td>...</td>\n",
        "      <td> 0.008229</td>\n",
        "      <td> 0.008226</td>\n",
        "      <td> 0.007899</td>\n",
        "      <td> 0.008398</td>\n",
        "      <td> 0.008180</td>\n",
        "      <td> 0.008217</td>\n",
        "      <td> 0.008214</td>\n",
        "      <td> 0.008497</td>\n",
        "      <td> 0.008232</td>\n",
        "      <td> 0.008304</td>\n",
        "    </tr>\n",
        "    <tr>\n",
        "      <th>9     </th>\n",
        "      <td> 100004.jpg</td>\n",
        "      <td> 0.008231</td>\n",
        "      <td> 0.008288</td>\n",
        "      <td> 0.008292</td>\n",
        "      <td> 0.008388</td>\n",
        "      <td> 0.008216</td>\n",
        "      <td> 0.008275</td>\n",
        "      <td> 0.008154</td>\n",
        "      <td> 0.008291</td>\n",
        "      <td> 0.008268</td>\n",
        "      <td>...</td>\n",
        "      <td> 0.008248</td>\n",
        "      <td> 0.008244</td>\n",
        "      <td> 0.008468</td>\n",
        "      <td> 0.008157</td>\n",
        "      <td> 0.008286</td>\n",
        "      <td> 0.008247</td>\n",
        "      <td> 0.008246</td>\n",
        "      <td> 0.008178</td>\n",
        "      <td> 0.008242</td>\n",
        "      <td> 0.008212</td>\n",
        "    </tr>\n",
        "    <tr>\n",
        "      <th>10    </th>\n",
        "      <td> 100005.jpg</td>\n",
        "      <td> 0.008251</td>\n",
        "      <td> 0.008268</td>\n",
        "      <td> 0.008272</td>\n",
        "      <td> 0.008325</td>\n",
        "      <td> 0.008233</td>\n",
        "      <td> 0.008259</td>\n",
        "      <td> 0.008221</td>\n",
        "      <td> 0.008268</td>\n",
        "      <td> 0.008256</td>\n",
        "      <td>...</td>\n",
        "      <td> 0.008250</td>\n",
        "      <td> 0.008245</td>\n",
        "      <td> 0.008424</td>\n",
        "      <td> 0.008201</td>\n",
        "      <td> 0.008265</td>\n",
        "      <td> 0.008247</td>\n",
        "      <td> 0.008243</td>\n",
        "      <td> 0.008216</td>\n",
        "      <td> 0.008243</td>\n",
        "      <td> 0.008225</td>\n",
        "    </tr>\n",
        "    <tr>\n",
        "      <th>11    </th>\n",
        "      <td> 100006.jpg</td>\n",
        "      <td> 0.008251</td>\n",
        "      <td> 0.008261</td>\n",
        "      <td> 0.008259</td>\n",
        "      <td> 0.008320</td>\n",
        "      <td> 0.008241</td>\n",
        "      <td> 0.008249</td>\n",
        "      <td> 0.008244</td>\n",
        "      <td> 0.008256</td>\n",
        "      <td> 0.008250</td>\n",
        "      <td>...</td>\n",
        "      <td> 0.008250</td>\n",
        "      <td> 0.008247</td>\n",
        "      <td> 0.008327</td>\n",
        "      <td> 0.008215</td>\n",
        "      <td> 0.008254</td>\n",
        "      <td> 0.008245</td>\n",
        "      <td> 0.008240</td>\n",
        "      <td> 0.008295</td>\n",
        "      <td> 0.008245</td>\n",
        "      <td> 0.008233</td>\n",
        "    </tr>\n",
        "    <tr>\n",
        "      <th>12    </th>\n",
        "      <td> 100007.jpg</td>\n",
        "      <td> 0.008249</td>\n",
        "      <td> 0.008195</td>\n",
        "      <td> 0.008187</td>\n",
        "      <td> 0.008181</td>\n",
        "      <td> 0.008279</td>\n",
        "      <td> 0.008185</td>\n",
        "      <td> 0.008405</td>\n",
        "      <td> 0.008169</td>\n",
        "      <td> 0.008204</td>\n",
        "      <td>...</td>\n",
        "      <td> 0.008241</td>\n",
        "      <td> 0.008233</td>\n",
        "      <td> 0.007991</td>\n",
        "      <td> 0.008376</td>\n",
        "      <td> 0.008201</td>\n",
        "      <td> 0.008226</td>\n",
        "      <td> 0.008220</td>\n",
        "      <td> 0.008398</td>\n",
        "      <td> 0.008237</td>\n",
        "      <td> 0.008290</td>\n",
        "    </tr>\n",
        "    <tr>\n",
        "      <th>13    </th>\n",
        "      <td> 100008.jpg</td>\n",
        "      <td> 0.008249</td>\n",
        "      <td> 0.008261</td>\n",
        "      <td> 0.008257</td>\n",
        "      <td> 0.008297</td>\n",
        "      <td> 0.008241</td>\n",
        "      <td> 0.008263</td>\n",
        "      <td> 0.008253</td>\n",
        "      <td> 0.008267</td>\n",
        "      <td> 0.008252</td>\n",
        "      <td>...</td>\n",
        "      <td> 0.008248</td>\n",
        "      <td> 0.008246</td>\n",
        "      <td> 0.008316</td>\n",
        "      <td> 0.008208</td>\n",
        "      <td> 0.008256</td>\n",
        "      <td> 0.008244</td>\n",
        "      <td> 0.008243</td>\n",
        "      <td> 0.008328</td>\n",
        "      <td> 0.008243</td>\n",
        "      <td> 0.008237</td>\n",
        "    </tr>\n",
        "    <tr>\n",
        "      <th>14    </th>\n",
        "      <td>  10001.jpg</td>\n",
        "      <td> 0.008247</td>\n",
        "      <td> 0.008234</td>\n",
        "      <td> 0.008222</td>\n",
        "      <td> 0.008273</td>\n",
        "      <td> 0.008263</td>\n",
        "      <td> 0.008219</td>\n",
        "      <td> 0.008324</td>\n",
        "      <td> 0.008216</td>\n",
        "      <td> 0.008230</td>\n",
        "      <td>...</td>\n",
        "      <td> 0.008243</td>\n",
        "      <td> 0.008242</td>\n",
        "      <td> 0.008147</td>\n",
        "      <td> 0.008310</td>\n",
        "      <td> 0.008228</td>\n",
        "      <td> 0.008239</td>\n",
        "      <td> 0.008233</td>\n",
        "      <td> 0.008387</td>\n",
        "      <td> 0.008245</td>\n",
        "      <td> 0.008278</td>\n",
        "    </tr>\n",
        "    <tr>\n",
        "      <th>15    </th>\n",
        "      <td> 100011.jpg</td>\n",
        "      <td> 0.008232</td>\n",
        "      <td> 0.008285</td>\n",
        "      <td> 0.008288</td>\n",
        "      <td> 0.008377</td>\n",
        "      <td> 0.008219</td>\n",
        "      <td> 0.008274</td>\n",
        "      <td> 0.008160</td>\n",
        "      <td> 0.008289</td>\n",
        "      <td> 0.008267</td>\n",
        "      <td>...</td>\n",
        "      <td> 0.008247</td>\n",
        "      <td> 0.008244</td>\n",
        "      <td> 0.008448</td>\n",
        "      <td> 0.008167</td>\n",
        "      <td> 0.008284</td>\n",
        "      <td> 0.008247</td>\n",
        "      <td> 0.008249</td>\n",
        "      <td> 0.008184</td>\n",
        "      <td> 0.008242</td>\n",
        "      <td> 0.008219</td>\n",
        "    </tr>\n",
        "    <tr>\n",
        "      <th>16    </th>\n",
        "      <td> 100012.jpg</td>\n",
        "      <td> 0.008245</td>\n",
        "      <td> 0.008237</td>\n",
        "      <td> 0.008221</td>\n",
        "      <td> 0.008291</td>\n",
        "      <td> 0.008266</td>\n",
        "      <td> 0.008229</td>\n",
        "      <td> 0.008307</td>\n",
        "      <td> 0.008222</td>\n",
        "      <td> 0.008233</td>\n",
        "      <td>...</td>\n",
        "      <td> 0.008241</td>\n",
        "      <td> 0.008242</td>\n",
        "      <td> 0.008142</td>\n",
        "      <td> 0.008321</td>\n",
        "      <td> 0.008234</td>\n",
        "      <td> 0.008242</td>\n",
        "      <td> 0.008243</td>\n",
        "      <td> 0.008346</td>\n",
        "      <td> 0.008246</td>\n",
        "      <td> 0.008292</td>\n",
        "    </tr>\n",
        "    <tr>\n",
        "      <th>17    </th>\n",
        "      <td> 100013.jpg</td>\n",
        "      <td> 0.008231</td>\n",
        "      <td> 0.008275</td>\n",
        "      <td> 0.008278</td>\n",
        "      <td> 0.008380</td>\n",
        "      <td> 0.008234</td>\n",
        "      <td> 0.008265</td>\n",
        "      <td> 0.008195</td>\n",
        "      <td> 0.008275</td>\n",
        "      <td> 0.008260</td>\n",
        "      <td>...</td>\n",
        "      <td> 0.008248</td>\n",
        "      <td> 0.008245</td>\n",
        "      <td> 0.008380</td>\n",
        "      <td> 0.008213</td>\n",
        "      <td> 0.008291</td>\n",
        "      <td> 0.008246</td>\n",
        "      <td> 0.008249</td>\n",
        "      <td> 0.008172</td>\n",
        "      <td> 0.008245</td>\n",
        "      <td> 0.008243</td>\n",
        "    </tr>\n",
        "    <tr>\n",
        "      <th>18    </th>\n",
        "      <td> 100014.jpg</td>\n",
        "      <td> 0.008244</td>\n",
        "      <td> 0.008269</td>\n",
        "      <td> 0.008275</td>\n",
        "      <td> 0.008316</td>\n",
        "      <td> 0.008231</td>\n",
        "      <td> 0.008258</td>\n",
        "      <td> 0.008223</td>\n",
        "      <td> 0.008269</td>\n",
        "      <td> 0.008258</td>\n",
        "      <td>...</td>\n",
        "      <td> 0.008254</td>\n",
        "      <td> 0.008246</td>\n",
        "      <td> 0.008382</td>\n",
        "      <td> 0.008196</td>\n",
        "      <td> 0.008266</td>\n",
        "      <td> 0.008246</td>\n",
        "      <td> 0.008242</td>\n",
        "      <td> 0.008268</td>\n",
        "      <td> 0.008243</td>\n",
        "      <td> 0.008222</td>\n",
        "    </tr>\n",
        "    <tr>\n",
        "      <th>19    </th>\n",
        "      <td> 100015.jpg</td>\n",
        "      <td> 0.008246</td>\n",
        "      <td> 0.008269</td>\n",
        "      <td> 0.008281</td>\n",
        "      <td> 0.008329</td>\n",
        "      <td> 0.008232</td>\n",
        "      <td> 0.008260</td>\n",
        "      <td> 0.008209</td>\n",
        "      <td> 0.008270</td>\n",
        "      <td> 0.008259</td>\n",
        "      <td>...</td>\n",
        "      <td> 0.008253</td>\n",
        "      <td> 0.008246</td>\n",
        "      <td> 0.008417</td>\n",
        "      <td> 0.008195</td>\n",
        "      <td> 0.008273</td>\n",
        "      <td> 0.008246</td>\n",
        "      <td> 0.008242</td>\n",
        "      <td> 0.008163</td>\n",
        "      <td> 0.008243</td>\n",
        "      <td> 0.008217</td>\n",
        "    </tr>\n",
        "    <tr>\n",
        "      <th>20    </th>\n",
        "      <td> 100016.jpg</td>\n",
        "      <td> 0.008235</td>\n",
        "      <td> 0.008255</td>\n",
        "      <td> 0.008235</td>\n",
        "      <td> 0.008265</td>\n",
        "      <td> 0.008247</td>\n",
        "      <td> 0.008293</td>\n",
        "      <td> 0.008188</td>\n",
        "      <td> 0.008278</td>\n",
        "      <td> 0.008249</td>\n",
        "      <td>...</td>\n",
        "      <td> 0.008230</td>\n",
        "      <td> 0.008240</td>\n",
        "      <td> 0.008225</td>\n",
        "      <td> 0.008266</td>\n",
        "      <td> 0.008271</td>\n",
        "      <td> 0.008249</td>\n",
        "      <td> 0.008305</td>\n",
        "      <td> 0.008154</td>\n",
        "      <td> 0.008241</td>\n",
        "      <td> 0.008300</td>\n",
        "    </tr>\n",
        "    <tr>\n",
        "      <th>21    </th>\n",
        "      <td> 100017.jpg</td>\n",
        "      <td> 0.008231</td>\n",
        "      <td> 0.008264</td>\n",
        "      <td> 0.008268</td>\n",
        "      <td> 0.008337</td>\n",
        "      <td> 0.008242</td>\n",
        "      <td> 0.008257</td>\n",
        "      <td> 0.008241</td>\n",
        "      <td> 0.008261</td>\n",
        "      <td> 0.008254</td>\n",
        "      <td>...</td>\n",
        "      <td> 0.008250</td>\n",
        "      <td> 0.008245</td>\n",
        "      <td> 0.008318</td>\n",
        "      <td> 0.008249</td>\n",
        "      <td> 0.008277</td>\n",
        "      <td> 0.008245</td>\n",
        "      <td> 0.008247</td>\n",
        "      <td> 0.008219</td>\n",
        "      <td> 0.008246</td>\n",
        "      <td> 0.008254</td>\n",
        "    </tr>\n",
        "    <tr>\n",
        "      <th>22    </th>\n",
        "      <td> 100018.jpg</td>\n",
        "      <td> 0.008272</td>\n",
        "      <td> 0.008238</td>\n",
        "      <td> 0.008237</td>\n",
        "      <td> 0.008236</td>\n",
        "      <td> 0.008251</td>\n",
        "      <td> 0.008246</td>\n",
        "      <td> 0.008275</td>\n",
        "      <td> 0.008243</td>\n",
        "      <td> 0.008239</td>\n",
        "      <td>...</td>\n",
        "      <td> 0.008247</td>\n",
        "      <td> 0.008244</td>\n",
        "      <td> 0.008276</td>\n",
        "      <td> 0.008239</td>\n",
        "      <td> 0.008240</td>\n",
        "      <td> 0.008246</td>\n",
        "      <td> 0.008248</td>\n",
        "      <td> 0.008261</td>\n",
        "      <td> 0.008242</td>\n",
        "      <td> 0.008243</td>\n",
        "    </tr>\n",
        "    <tr>\n",
        "      <th>23    </th>\n",
        "      <td> 100019.jpg</td>\n",
        "      <td> 0.008233</td>\n",
        "      <td> 0.008264</td>\n",
        "      <td> 0.008269</td>\n",
        "      <td> 0.008340</td>\n",
        "      <td> 0.008241</td>\n",
        "      <td> 0.008255</td>\n",
        "      <td> 0.008230</td>\n",
        "      <td> 0.008260</td>\n",
        "      <td> 0.008254</td>\n",
        "      <td>...</td>\n",
        "      <td> 0.008250</td>\n",
        "      <td> 0.008245</td>\n",
        "      <td> 0.008319</td>\n",
        "      <td> 0.008252</td>\n",
        "      <td> 0.008279</td>\n",
        "      <td> 0.008246</td>\n",
        "      <td> 0.008249</td>\n",
        "      <td> 0.008199</td>\n",
        "      <td> 0.008246</td>\n",
        "      <td> 0.008256</td>\n",
        "    </tr>\n",
        "    <tr>\n",
        "      <th>24    </th>\n",
        "      <td>  10002.jpg</td>\n",
        "      <td> 0.008245</td>\n",
        "      <td> 0.008263</td>\n",
        "      <td> 0.008254</td>\n",
        "      <td> 0.008353</td>\n",
        "      <td> 0.008242</td>\n",
        "      <td> 0.008252</td>\n",
        "      <td> 0.008233</td>\n",
        "      <td> 0.008257</td>\n",
        "      <td> 0.008251</td>\n",
        "      <td>...</td>\n",
        "      <td> 0.008244</td>\n",
        "      <td> 0.008244</td>\n",
        "      <td> 0.008313</td>\n",
        "      <td> 0.008235</td>\n",
        "      <td> 0.008257</td>\n",
        "      <td> 0.008247</td>\n",
        "      <td> 0.008246</td>\n",
        "      <td> 0.008294</td>\n",
        "      <td> 0.008246</td>\n",
        "      <td> 0.008261</td>\n",
        "    </tr>\n",
        "    <tr>\n",
        "      <th>25    </th>\n",
        "      <td> 100020.jpg</td>\n",
        "      <td> 0.008242</td>\n",
        "      <td> 0.008261</td>\n",
        "      <td> 0.008258</td>\n",
        "      <td> 0.008317</td>\n",
        "      <td> 0.008243</td>\n",
        "      <td> 0.008247</td>\n",
        "      <td> 0.008252</td>\n",
        "      <td> 0.008252</td>\n",
        "      <td> 0.008250</td>\n",
        "      <td>...</td>\n",
        "      <td> 0.008248</td>\n",
        "      <td> 0.008245</td>\n",
        "      <td> 0.008306</td>\n",
        "      <td> 0.008249</td>\n",
        "      <td> 0.008256</td>\n",
        "      <td> 0.008246</td>\n",
        "      <td> 0.008244</td>\n",
        "      <td> 0.008276</td>\n",
        "      <td> 0.008246</td>\n",
        "      <td> 0.008257</td>\n",
        "    </tr>\n",
        "    <tr>\n",
        "      <th>26    </th>\n",
        "      <td> 100021.jpg</td>\n",
        "      <td> 0.008250</td>\n",
        "      <td> 0.008237</td>\n",
        "      <td> 0.008236</td>\n",
        "      <td> 0.008245</td>\n",
        "      <td> 0.008260</td>\n",
        "      <td> 0.008229</td>\n",
        "      <td> 0.008330</td>\n",
        "      <td> 0.008228</td>\n",
        "      <td> 0.008236</td>\n",
        "      <td>...</td>\n",
        "      <td> 0.008250</td>\n",
        "      <td> 0.008245</td>\n",
        "      <td> 0.008197</td>\n",
        "      <td> 0.008267</td>\n",
        "      <td> 0.008236</td>\n",
        "      <td> 0.008239</td>\n",
        "      <td> 0.008232</td>\n",
        "      <td> 0.008398</td>\n",
        "      <td> 0.008244</td>\n",
        "      <td> 0.008249</td>\n",
        "    </tr>\n",
        "    <tr>\n",
        "      <th>27    </th>\n",
        "      <td> 100022.jpg</td>\n",
        "      <td> 0.008239</td>\n",
        "      <td> 0.008254</td>\n",
        "      <td> 0.008257</td>\n",
        "      <td> 0.008309</td>\n",
        "      <td> 0.008251</td>\n",
        "      <td> 0.008251</td>\n",
        "      <td> 0.008258</td>\n",
        "      <td> 0.008253</td>\n",
        "      <td> 0.008248</td>\n",
        "      <td>...</td>\n",
        "      <td> 0.008251</td>\n",
        "      <td> 0.008246</td>\n",
        "      <td> 0.008281</td>\n",
        "      <td> 0.008235</td>\n",
        "      <td> 0.008276</td>\n",
        "      <td> 0.008244</td>\n",
        "      <td> 0.008244</td>\n",
        "      <td> 0.008254</td>\n",
        "      <td> 0.008245</td>\n",
        "      <td> 0.008249</td>\n",
        "    </tr>\n",
        "    <tr>\n",
        "      <th>28    </th>\n",
        "      <td> 100023.jpg</td>\n",
        "      <td> 0.008283</td>\n",
        "      <td> 0.008229</td>\n",
        "      <td> 0.008219</td>\n",
        "      <td> 0.008210</td>\n",
        "      <td> 0.008262</td>\n",
        "      <td> 0.008231</td>\n",
        "      <td> 0.008322</td>\n",
        "      <td> 0.008225</td>\n",
        "      <td> 0.008230</td>\n",
        "      <td>...</td>\n",
        "      <td> 0.008241</td>\n",
        "      <td> 0.008242</td>\n",
        "      <td> 0.008266</td>\n",
        "      <td> 0.008288</td>\n",
        "      <td> 0.008225</td>\n",
        "      <td> 0.008247</td>\n",
        "      <td> 0.008247</td>\n",
        "      <td> 0.008277</td>\n",
        "      <td> 0.008242</td>\n",
        "      <td> 0.008261</td>\n",
        "    </tr>\n",
        "    <tr>\n",
        "      <th>29    </th>\n",
        "      <td> 100024.jpg</td>\n",
        "      <td> 0.008256</td>\n",
        "      <td> 0.008241</td>\n",
        "      <td> 0.008240</td>\n",
        "      <td> 0.008215</td>\n",
        "      <td> 0.008256</td>\n",
        "      <td> 0.008226</td>\n",
        "      <td> 0.008337</td>\n",
        "      <td> 0.008224</td>\n",
        "      <td> 0.008234</td>\n",
        "      <td>...</td>\n",
        "      <td> 0.008254</td>\n",
        "      <td> 0.008244</td>\n",
        "      <td> 0.008252</td>\n",
        "      <td> 0.008291</td>\n",
        "      <td> 0.008234</td>\n",
        "      <td> 0.008241</td>\n",
        "      <td> 0.008234</td>\n",
        "      <td> 0.008303</td>\n",
        "      <td> 0.008243</td>\n",
        "      <td> 0.008255</td>\n",
        "    </tr>\n",
        "    <tr>\n",
        "      <th>...</th>\n",
        "      <td>...</td>\n",
        "      <td>...</td>\n",
        "      <td>...</td>\n",
        "      <td>...</td>\n",
        "      <td>...</td>\n",
        "      <td>...</td>\n",
        "      <td>...</td>\n",
        "      <td>...</td>\n",
        "      <td>...</td>\n",
        "      <td>...</td>\n",
        "      <td>...</td>\n",
        "      <td>...</td>\n",
        "      <td>...</td>\n",
        "      <td>...</td>\n",
        "      <td>...</td>\n",
        "      <td>...</td>\n",
        "      <td>...</td>\n",
        "      <td>...</td>\n",
        "      <td>...</td>\n",
        "      <td>...</td>\n",
        "      <td>...</td>\n",
        "    </tr>\n",
        "    <tr>\n",
        "      <th>130370</th>\n",
        "      <td>  99963.jpg</td>\n",
        "      <td> 0.008232</td>\n",
        "      <td> 0.008280</td>\n",
        "      <td> 0.008278</td>\n",
        "      <td> 0.008383</td>\n",
        "      <td> 0.008227</td>\n",
        "      <td> 0.008272</td>\n",
        "      <td> 0.008169</td>\n",
        "      <td> 0.008282</td>\n",
        "      <td> 0.008263</td>\n",
        "      <td>...</td>\n",
        "      <td> 0.008244</td>\n",
        "      <td> 0.008244</td>\n",
        "      <td> 0.008395</td>\n",
        "      <td> 0.008199</td>\n",
        "      <td> 0.008283</td>\n",
        "      <td> 0.008247</td>\n",
        "      <td> 0.008252</td>\n",
        "      <td> 0.008192</td>\n",
        "      <td> 0.008244</td>\n",
        "      <td> 0.008242</td>\n",
        "    </tr>\n",
        "    <tr>\n",
        "      <th>130371</th>\n",
        "      <td>  99964.jpg</td>\n",
        "      <td> 0.008246</td>\n",
        "      <td> 0.008264</td>\n",
        "      <td> 0.008274</td>\n",
        "      <td> 0.008300</td>\n",
        "      <td> 0.008236</td>\n",
        "      <td> 0.008253</td>\n",
        "      <td> 0.008238</td>\n",
        "      <td> 0.008261</td>\n",
        "      <td> 0.008255</td>\n",
        "      <td>...</td>\n",
        "      <td> 0.008256</td>\n",
        "      <td> 0.008245</td>\n",
        "      <td> 0.008371</td>\n",
        "      <td> 0.008214</td>\n",
        "      <td> 0.008268</td>\n",
        "      <td> 0.008246</td>\n",
        "      <td> 0.008241</td>\n",
        "      <td> 0.008216</td>\n",
        "      <td> 0.008244</td>\n",
        "      <td> 0.008223</td>\n",
        "    </tr>\n",
        "    <tr>\n",
        "      <th>130372</th>\n",
        "      <td>  99966.jpg</td>\n",
        "      <td> 0.008234</td>\n",
        "      <td> 0.008280</td>\n",
        "      <td> 0.008277</td>\n",
        "      <td> 0.008370</td>\n",
        "      <td> 0.008227</td>\n",
        "      <td> 0.008275</td>\n",
        "      <td> 0.008186</td>\n",
        "      <td> 0.008285</td>\n",
        "      <td> 0.008264</td>\n",
        "      <td>...</td>\n",
        "      <td> 0.008246</td>\n",
        "      <td> 0.008245</td>\n",
        "      <td> 0.008380</td>\n",
        "      <td> 0.008185</td>\n",
        "      <td> 0.008274</td>\n",
        "      <td> 0.008247</td>\n",
        "      <td> 0.008249</td>\n",
        "      <td> 0.008257</td>\n",
        "      <td> 0.008244</td>\n",
        "      <td> 0.008236</td>\n",
        "    </tr>\n",
        "    <tr>\n",
        "      <th>130373</th>\n",
        "      <td>  99967.jpg</td>\n",
        "      <td> 0.008247</td>\n",
        "      <td> 0.008263</td>\n",
        "      <td> 0.008274</td>\n",
        "      <td> 0.008304</td>\n",
        "      <td> 0.008237</td>\n",
        "      <td> 0.008253</td>\n",
        "      <td> 0.008237</td>\n",
        "      <td> 0.008261</td>\n",
        "      <td> 0.008255</td>\n",
        "      <td>...</td>\n",
        "      <td> 0.008255</td>\n",
        "      <td> 0.008246</td>\n",
        "      <td> 0.008378</td>\n",
        "      <td> 0.008209</td>\n",
        "      <td> 0.008266</td>\n",
        "      <td> 0.008245</td>\n",
        "      <td> 0.008240</td>\n",
        "      <td> 0.008211</td>\n",
        "      <td> 0.008243</td>\n",
        "      <td> 0.008222</td>\n",
        "    </tr>\n",
        "    <tr>\n",
        "      <th>130374</th>\n",
        "      <td>  99968.jpg</td>\n",
        "      <td> 0.008243</td>\n",
        "      <td> 0.008220</td>\n",
        "      <td> 0.008202</td>\n",
        "      <td> 0.008279</td>\n",
        "      <td> 0.008271</td>\n",
        "      <td> 0.008210</td>\n",
        "      <td> 0.008346</td>\n",
        "      <td> 0.008200</td>\n",
        "      <td> 0.008221</td>\n",
        "      <td>...</td>\n",
        "      <td> 0.008237</td>\n",
        "      <td> 0.008238</td>\n",
        "      <td> 0.008053</td>\n",
        "      <td> 0.008346</td>\n",
        "      <td> 0.008213</td>\n",
        "      <td> 0.008235</td>\n",
        "      <td> 0.008233</td>\n",
        "      <td> 0.008464</td>\n",
        "      <td> 0.008244</td>\n",
        "      <td> 0.008302</td>\n",
        "    </tr>\n",
        "    <tr>\n",
        "      <th>130375</th>\n",
        "      <td>  99969.jpg</td>\n",
        "      <td> 0.008242</td>\n",
        "      <td> 0.008259</td>\n",
        "      <td> 0.008251</td>\n",
        "      <td> 0.008348</td>\n",
        "      <td> 0.008251</td>\n",
        "      <td> 0.008244</td>\n",
        "      <td> 0.008240</td>\n",
        "      <td> 0.008248</td>\n",
        "      <td> 0.008248</td>\n",
        "      <td>...</td>\n",
        "      <td> 0.008246</td>\n",
        "      <td> 0.008245</td>\n",
        "      <td> 0.008278</td>\n",
        "      <td> 0.008260</td>\n",
        "      <td> 0.008267</td>\n",
        "      <td> 0.008245</td>\n",
        "      <td> 0.008247</td>\n",
        "      <td> 0.008222</td>\n",
        "      <td> 0.008248</td>\n",
        "      <td> 0.008263</td>\n",
        "    </tr>\n",
        "    <tr>\n",
        "      <th>130376</th>\n",
        "      <td>   9997.jpg</td>\n",
        "      <td> 0.008246</td>\n",
        "      <td> 0.008243</td>\n",
        "      <td> 0.008231</td>\n",
        "      <td> 0.008304</td>\n",
        "      <td> 0.008257</td>\n",
        "      <td> 0.008233</td>\n",
        "      <td> 0.008290</td>\n",
        "      <td> 0.008231</td>\n",
        "      <td> 0.008238</td>\n",
        "      <td>...</td>\n",
        "      <td> 0.008244</td>\n",
        "      <td> 0.008244</td>\n",
        "      <td> 0.008191</td>\n",
        "      <td> 0.008288</td>\n",
        "      <td> 0.008240</td>\n",
        "      <td> 0.008242</td>\n",
        "      <td> 0.008241</td>\n",
        "      <td> 0.008356</td>\n",
        "      <td> 0.008246</td>\n",
        "      <td> 0.008273</td>\n",
        "    </tr>\n",
        "    <tr>\n",
        "      <th>130377</th>\n",
        "      <td>  99970.jpg</td>\n",
        "      <td> 0.008233</td>\n",
        "      <td> 0.008284</td>\n",
        "      <td> 0.008289</td>\n",
        "      <td> 0.008375</td>\n",
        "      <td> 0.008217</td>\n",
        "      <td> 0.008275</td>\n",
        "      <td> 0.008157</td>\n",
        "      <td> 0.008290</td>\n",
        "      <td> 0.008267</td>\n",
        "      <td>...</td>\n",
        "      <td> 0.008247</td>\n",
        "      <td> 0.008244</td>\n",
        "      <td> 0.008464</td>\n",
        "      <td> 0.008160</td>\n",
        "      <td> 0.008285</td>\n",
        "      <td> 0.008248</td>\n",
        "      <td> 0.008250</td>\n",
        "      <td> 0.008174</td>\n",
        "      <td> 0.008242</td>\n",
        "      <td> 0.008211</td>\n",
        "    </tr>\n",
        "    <tr>\n",
        "      <th>130378</th>\n",
        "      <td>  99974.jpg</td>\n",
        "      <td> 0.008244</td>\n",
        "      <td> 0.008140</td>\n",
        "      <td> 0.008103</td>\n",
        "      <td> 0.008121</td>\n",
        "      <td> 0.008292</td>\n",
        "      <td> 0.008136</td>\n",
        "      <td> 0.008490</td>\n",
        "      <td> 0.008103</td>\n",
        "      <td> 0.008156</td>\n",
        "      <td>...</td>\n",
        "      <td> 0.008204</td>\n",
        "      <td> 0.008209</td>\n",
        "      <td> 0.007749</td>\n",
        "      <td> 0.008475</td>\n",
        "      <td> 0.008132</td>\n",
        "      <td> 0.008202</td>\n",
        "      <td> 0.008204</td>\n",
        "      <td> 0.008559</td>\n",
        "      <td> 0.008218</td>\n",
        "      <td> 0.008351</td>\n",
        "    </tr>\n",
        "    <tr>\n",
        "      <th>130379</th>\n",
        "      <td>  99975.jpg</td>\n",
        "      <td> 0.008248</td>\n",
        "      <td> 0.008233</td>\n",
        "      <td> 0.008241</td>\n",
        "      <td> 0.008252</td>\n",
        "      <td> 0.008260</td>\n",
        "      <td> 0.008225</td>\n",
        "      <td> 0.008322</td>\n",
        "      <td> 0.008221</td>\n",
        "      <td> 0.008235</td>\n",
        "      <td>...</td>\n",
        "      <td> 0.008253</td>\n",
        "      <td> 0.008243</td>\n",
        "      <td> 0.008198</td>\n",
        "      <td> 0.008289</td>\n",
        "      <td> 0.008248</td>\n",
        "      <td> 0.008239</td>\n",
        "      <td> 0.008233</td>\n",
        "      <td> 0.008269</td>\n",
        "      <td> 0.008245</td>\n",
        "      <td> 0.008251</td>\n",
        "    </tr>\n",
        "    <tr>\n",
        "      <th>130380</th>\n",
        "      <td>  99976.jpg</td>\n",
        "      <td> 0.008245</td>\n",
        "      <td> 0.008274</td>\n",
        "      <td> 0.008277</td>\n",
        "      <td> 0.008364</td>\n",
        "      <td> 0.008228</td>\n",
        "      <td> 0.008265</td>\n",
        "      <td> 0.008184</td>\n",
        "      <td> 0.008275</td>\n",
        "      <td> 0.008261</td>\n",
        "      <td>...</td>\n",
        "      <td> 0.008247</td>\n",
        "      <td> 0.008245</td>\n",
        "      <td> 0.008416</td>\n",
        "      <td> 0.008189</td>\n",
        "      <td> 0.008275</td>\n",
        "      <td> 0.008248</td>\n",
        "      <td> 0.008246</td>\n",
        "      <td> 0.008174</td>\n",
        "      <td> 0.008244</td>\n",
        "      <td> 0.008223</td>\n",
        "    </tr>\n",
        "    <tr>\n",
        "      <th>130381</th>\n",
        "      <td>  99977.jpg</td>\n",
        "      <td> 0.008233</td>\n",
        "      <td> 0.008281</td>\n",
        "      <td> 0.008283</td>\n",
        "      <td> 0.008378</td>\n",
        "      <td> 0.008223</td>\n",
        "      <td> 0.008272</td>\n",
        "      <td> 0.008167</td>\n",
        "      <td> 0.008284</td>\n",
        "      <td> 0.008265</td>\n",
        "      <td>...</td>\n",
        "      <td> 0.008248</td>\n",
        "      <td> 0.008244</td>\n",
        "      <td> 0.008420</td>\n",
        "      <td> 0.008180</td>\n",
        "      <td> 0.008286</td>\n",
        "      <td> 0.008247</td>\n",
        "      <td> 0.008249</td>\n",
        "      <td> 0.008183</td>\n",
        "      <td> 0.008244</td>\n",
        "      <td> 0.008226</td>\n",
        "    </tr>\n",
        "    <tr>\n",
        "      <th>130382</th>\n",
        "      <td>  99979.jpg</td>\n",
        "      <td> 0.008249</td>\n",
        "      <td> 0.008260</td>\n",
        "      <td> 0.008262</td>\n",
        "      <td> 0.008304</td>\n",
        "      <td> 0.008242</td>\n",
        "      <td> 0.008248</td>\n",
        "      <td> 0.008255</td>\n",
        "      <td> 0.008254</td>\n",
        "      <td> 0.008251</td>\n",
        "      <td>...</td>\n",
        "      <td> 0.008252</td>\n",
        "      <td> 0.008246</td>\n",
        "      <td> 0.008333</td>\n",
        "      <td> 0.008232</td>\n",
        "      <td> 0.008262</td>\n",
        "      <td> 0.008245</td>\n",
        "      <td> 0.008240</td>\n",
        "      <td> 0.008233</td>\n",
        "      <td> 0.008245</td>\n",
        "      <td> 0.008235</td>\n",
        "    </tr>\n",
        "    <tr>\n",
        "      <th>130383</th>\n",
        "      <td>   9998.jpg</td>\n",
        "      <td> 0.008281</td>\n",
        "      <td> 0.008199</td>\n",
        "      <td> 0.008178</td>\n",
        "      <td> 0.008157</td>\n",
        "      <td> 0.008272</td>\n",
        "      <td> 0.008232</td>\n",
        "      <td> 0.008358</td>\n",
        "      <td> 0.008204</td>\n",
        "      <td> 0.008212</td>\n",
        "      <td>...</td>\n",
        "      <td> 0.008232</td>\n",
        "      <td> 0.008234</td>\n",
        "      <td> 0.008024</td>\n",
        "      <td> 0.008316</td>\n",
        "      <td> 0.008193</td>\n",
        "      <td> 0.008235</td>\n",
        "      <td> 0.008248</td>\n",
        "      <td> 0.008413</td>\n",
        "      <td> 0.008236</td>\n",
        "      <td> 0.008303</td>\n",
        "    </tr>\n",
        "    <tr>\n",
        "      <th>130384</th>\n",
        "      <td>  99980.jpg</td>\n",
        "      <td> 0.008233</td>\n",
        "      <td> 0.008274</td>\n",
        "      <td> 0.008280</td>\n",
        "      <td> 0.008352</td>\n",
        "      <td> 0.008231</td>\n",
        "      <td> 0.008266</td>\n",
        "      <td> 0.008200</td>\n",
        "      <td> 0.008276</td>\n",
        "      <td> 0.008261</td>\n",
        "      <td>...</td>\n",
        "      <td> 0.008249</td>\n",
        "      <td> 0.008245</td>\n",
        "      <td> 0.008399</td>\n",
        "      <td> 0.008193</td>\n",
        "      <td> 0.008284</td>\n",
        "      <td> 0.008246</td>\n",
        "      <td> 0.008246</td>\n",
        "      <td> 0.008208</td>\n",
        "      <td> 0.008244</td>\n",
        "      <td> 0.008229</td>\n",
        "    </tr>\n",
        "    <tr>\n",
        "      <th>130385</th>\n",
        "      <td>  99981.jpg</td>\n",
        "      <td> 0.008250</td>\n",
        "      <td> 0.008165</td>\n",
        "      <td> 0.008145</td>\n",
        "      <td> 0.008141</td>\n",
        "      <td> 0.008288</td>\n",
        "      <td> 0.008155</td>\n",
        "      <td> 0.008459</td>\n",
        "      <td> 0.008131</td>\n",
        "      <td> 0.008178</td>\n",
        "      <td>...</td>\n",
        "      <td> 0.008223</td>\n",
        "      <td> 0.008221</td>\n",
        "      <td> 0.007872</td>\n",
        "      <td> 0.008419</td>\n",
        "      <td> 0.008163</td>\n",
        "      <td> 0.008213</td>\n",
        "      <td> 0.008206</td>\n",
        "      <td> 0.008495</td>\n",
        "      <td> 0.008228</td>\n",
        "      <td> 0.008311</td>\n",
        "    </tr>\n",
        "    <tr>\n",
        "      <th>130386</th>\n",
        "      <td>  99983.jpg</td>\n",
        "      <td> 0.008232</td>\n",
        "      <td> 0.008269</td>\n",
        "      <td> 0.008256</td>\n",
        "      <td> 0.008274</td>\n",
        "      <td> 0.008234</td>\n",
        "      <td> 0.008285</td>\n",
        "      <td> 0.008170</td>\n",
        "      <td> 0.008283</td>\n",
        "      <td> 0.008256</td>\n",
        "      <td>...</td>\n",
        "      <td> 0.008235</td>\n",
        "      <td> 0.008241</td>\n",
        "      <td> 0.008334</td>\n",
        "      <td> 0.008242</td>\n",
        "      <td> 0.008291</td>\n",
        "      <td> 0.008249</td>\n",
        "      <td> 0.008292</td>\n",
        "      <td> 0.008130</td>\n",
        "      <td> 0.008240</td>\n",
        "      <td> 0.008281</td>\n",
        "    </tr>\n",
        "    <tr>\n",
        "      <th>130387</th>\n",
        "      <td>  99984.jpg</td>\n",
        "      <td> 0.008253</td>\n",
        "      <td> 0.008224</td>\n",
        "      <td> 0.008220</td>\n",
        "      <td> 0.008218</td>\n",
        "      <td> 0.008268</td>\n",
        "      <td> 0.008221</td>\n",
        "      <td> 0.008361</td>\n",
        "      <td> 0.008215</td>\n",
        "      <td> 0.008227</td>\n",
        "      <td>...</td>\n",
        "      <td> 0.008246</td>\n",
        "      <td> 0.008242</td>\n",
        "      <td> 0.008133</td>\n",
        "      <td> 0.008298</td>\n",
        "      <td> 0.008224</td>\n",
        "      <td> 0.008236</td>\n",
        "      <td> 0.008231</td>\n",
        "      <td> 0.008431</td>\n",
        "      <td> 0.008242</td>\n",
        "      <td> 0.008269</td>\n",
        "    </tr>\n",
        "    <tr>\n",
        "      <th>130388</th>\n",
        "      <td>  99986.jpg</td>\n",
        "      <td> 0.008250</td>\n",
        "      <td> 0.008248</td>\n",
        "      <td> 0.008233</td>\n",
        "      <td> 0.008276</td>\n",
        "      <td> 0.008254</td>\n",
        "      <td> 0.008255</td>\n",
        "      <td> 0.008264</td>\n",
        "      <td> 0.008249</td>\n",
        "      <td> 0.008243</td>\n",
        "      <td>...</td>\n",
        "      <td> 0.008240</td>\n",
        "      <td> 0.008242</td>\n",
        "      <td> 0.008232</td>\n",
        "      <td> 0.008289</td>\n",
        "      <td> 0.008247</td>\n",
        "      <td> 0.008248</td>\n",
        "      <td> 0.008264</td>\n",
        "      <td> 0.008252</td>\n",
        "      <td> 0.008244</td>\n",
        "      <td> 0.008289</td>\n",
        "    </tr>\n",
        "    <tr>\n",
        "      <th>130389</th>\n",
        "      <td>  99987.jpg</td>\n",
        "      <td> 0.008238</td>\n",
        "      <td> 0.008208</td>\n",
        "      <td> 0.008199</td>\n",
        "      <td> 0.008189</td>\n",
        "      <td> 0.008280</td>\n",
        "      <td> 0.008199</td>\n",
        "      <td> 0.008410</td>\n",
        "      <td> 0.008184</td>\n",
        "      <td> 0.008211</td>\n",
        "      <td>...</td>\n",
        "      <td> 0.008242</td>\n",
        "      <td> 0.008236</td>\n",
        "      <td> 0.008023</td>\n",
        "      <td> 0.008379</td>\n",
        "      <td> 0.008213</td>\n",
        "      <td> 0.008230</td>\n",
        "      <td> 0.008227</td>\n",
        "      <td> 0.008388</td>\n",
        "      <td> 0.008241</td>\n",
        "      <td> 0.008303</td>\n",
        "    </tr>\n",
        "    <tr>\n",
        "      <th>130390</th>\n",
        "      <td>  99988.jpg</td>\n",
        "      <td> 0.008231</td>\n",
        "      <td> 0.008287</td>\n",
        "      <td> 0.008292</td>\n",
        "      <td> 0.008388</td>\n",
        "      <td> 0.008217</td>\n",
        "      <td> 0.008274</td>\n",
        "      <td> 0.008155</td>\n",
        "      <td> 0.008291</td>\n",
        "      <td> 0.008268</td>\n",
        "      <td>...</td>\n",
        "      <td> 0.008248</td>\n",
        "      <td> 0.008244</td>\n",
        "      <td> 0.008464</td>\n",
        "      <td> 0.008160</td>\n",
        "      <td> 0.008286</td>\n",
        "      <td> 0.008247</td>\n",
        "      <td> 0.008246</td>\n",
        "      <td> 0.008179</td>\n",
        "      <td> 0.008242</td>\n",
        "      <td> 0.008213</td>\n",
        "    </tr>\n",
        "    <tr>\n",
        "      <th>130391</th>\n",
        "      <td>  99989.jpg</td>\n",
        "      <td> 0.008248</td>\n",
        "      <td> 0.008238</td>\n",
        "      <td> 0.008236</td>\n",
        "      <td> 0.008275</td>\n",
        "      <td> 0.008261</td>\n",
        "      <td> 0.008241</td>\n",
        "      <td> 0.008291</td>\n",
        "      <td> 0.008234</td>\n",
        "      <td> 0.008239</td>\n",
        "      <td>...</td>\n",
        "      <td> 0.008248</td>\n",
        "      <td> 0.008243</td>\n",
        "      <td> 0.008182</td>\n",
        "      <td> 0.008268</td>\n",
        "      <td> 0.008250</td>\n",
        "      <td> 0.008241</td>\n",
        "      <td> 0.008243</td>\n",
        "      <td> 0.008301</td>\n",
        "      <td> 0.008245</td>\n",
        "      <td> 0.008268</td>\n",
        "    </tr>\n",
        "    <tr>\n",
        "      <th>130392</th>\n",
        "      <td>   9999.jpg</td>\n",
        "      <td> 0.008258</td>\n",
        "      <td> 0.008264</td>\n",
        "      <td> 0.008258</td>\n",
        "      <td> 0.008331</td>\n",
        "      <td> 0.008236</td>\n",
        "      <td> 0.008267</td>\n",
        "      <td> 0.008219</td>\n",
        "      <td> 0.008271</td>\n",
        "      <td> 0.008255</td>\n",
        "      <td>...</td>\n",
        "      <td> 0.008244</td>\n",
        "      <td> 0.008244</td>\n",
        "      <td> 0.008355</td>\n",
        "      <td> 0.008207</td>\n",
        "      <td> 0.008257</td>\n",
        "      <td> 0.008248</td>\n",
        "      <td> 0.008249</td>\n",
        "      <td> 0.008254</td>\n",
        "      <td> 0.008243</td>\n",
        "      <td> 0.008245</td>\n",
        "    </tr>\n",
        "    <tr>\n",
        "      <th>130393</th>\n",
        "      <td>  99990.jpg</td>\n",
        "      <td> 0.008239</td>\n",
        "      <td> 0.008270</td>\n",
        "      <td> 0.008260</td>\n",
        "      <td> 0.008313</td>\n",
        "      <td> 0.008239</td>\n",
        "      <td> 0.008277</td>\n",
        "      <td> 0.008192</td>\n",
        "      <td> 0.008278</td>\n",
        "      <td> 0.008256</td>\n",
        "      <td>...</td>\n",
        "      <td> 0.008240</td>\n",
        "      <td> 0.008242</td>\n",
        "      <td> 0.008340</td>\n",
        "      <td> 0.008239</td>\n",
        "      <td> 0.008275</td>\n",
        "      <td> 0.008250</td>\n",
        "      <td> 0.008273</td>\n",
        "      <td> 0.008160</td>\n",
        "      <td> 0.008242</td>\n",
        "      <td> 0.008269</td>\n",
        "    </tr>\n",
        "    <tr>\n",
        "      <th>130394</th>\n",
        "      <td>  99992.jpg</td>\n",
        "      <td> 0.008248</td>\n",
        "      <td> 0.008170</td>\n",
        "      <td> 0.008150</td>\n",
        "      <td> 0.008130</td>\n",
        "      <td> 0.008289</td>\n",
        "      <td> 0.008161</td>\n",
        "      <td> 0.008459</td>\n",
        "      <td> 0.008138</td>\n",
        "      <td> 0.008181</td>\n",
        "      <td>...</td>\n",
        "      <td> 0.008225</td>\n",
        "      <td> 0.008224</td>\n",
        "      <td> 0.007884</td>\n",
        "      <td> 0.008423</td>\n",
        "      <td> 0.008172</td>\n",
        "      <td> 0.008215</td>\n",
        "      <td> 0.008214</td>\n",
        "      <td> 0.008466</td>\n",
        "      <td> 0.008230</td>\n",
        "      <td> 0.008317</td>\n",
        "    </tr>\n",
        "    <tr>\n",
        "      <th>130395</th>\n",
        "      <td>  99994.jpg</td>\n",
        "      <td> 0.008272</td>\n",
        "      <td> 0.008234</td>\n",
        "      <td> 0.008234</td>\n",
        "      <td> 0.008241</td>\n",
        "      <td> 0.008254</td>\n",
        "      <td> 0.008242</td>\n",
        "      <td> 0.008286</td>\n",
        "      <td> 0.008236</td>\n",
        "      <td> 0.008236</td>\n",
        "      <td>...</td>\n",
        "      <td> 0.008248</td>\n",
        "      <td> 0.008244</td>\n",
        "      <td> 0.008258</td>\n",
        "      <td> 0.008242</td>\n",
        "      <td> 0.008237</td>\n",
        "      <td> 0.008243</td>\n",
        "      <td> 0.008243</td>\n",
        "      <td> 0.008247</td>\n",
        "      <td> 0.008242</td>\n",
        "      <td> 0.008241</td>\n",
        "    </tr>\n",
        "    <tr>\n",
        "      <th>130396</th>\n",
        "      <td>  99995.jpg</td>\n",
        "      <td> 0.008248</td>\n",
        "      <td> 0.008254</td>\n",
        "      <td> 0.008244</td>\n",
        "      <td> 0.008255</td>\n",
        "      <td> 0.008253</td>\n",
        "      <td> 0.008234</td>\n",
        "      <td> 0.008298</td>\n",
        "      <td> 0.008236</td>\n",
        "      <td> 0.008241</td>\n",
        "      <td>...</td>\n",
        "      <td> 0.008250</td>\n",
        "      <td> 0.008245</td>\n",
        "      <td> 0.008273</td>\n",
        "      <td> 0.008293</td>\n",
        "      <td> 0.008244</td>\n",
        "      <td> 0.008245</td>\n",
        "      <td> 0.008246</td>\n",
        "      <td> 0.008258</td>\n",
        "      <td> 0.008244</td>\n",
        "      <td> 0.008274</td>\n",
        "    </tr>\n",
        "    <tr>\n",
        "      <th>130397</th>\n",
        "      <td>  99996.jpg</td>\n",
        "      <td> 0.008256</td>\n",
        "      <td> 0.008244</td>\n",
        "      <td> 0.008237</td>\n",
        "      <td> 0.008221</td>\n",
        "      <td> 0.008259</td>\n",
        "      <td> 0.008228</td>\n",
        "      <td> 0.008320</td>\n",
        "      <td> 0.008226</td>\n",
        "      <td> 0.008236</td>\n",
        "      <td>...</td>\n",
        "      <td> 0.008250</td>\n",
        "      <td> 0.008244</td>\n",
        "      <td> 0.008273</td>\n",
        "      <td> 0.008304</td>\n",
        "      <td> 0.008238</td>\n",
        "      <td> 0.008244</td>\n",
        "      <td> 0.008247</td>\n",
        "      <td> 0.008248</td>\n",
        "      <td> 0.008242</td>\n",
        "      <td> 0.008270</td>\n",
        "    </tr>\n",
        "    <tr>\n",
        "      <th>130398</th>\n",
        "      <td>  99997.jpg</td>\n",
        "      <td> 0.008246</td>\n",
        "      <td> 0.008262</td>\n",
        "      <td> 0.008265</td>\n",
        "      <td> 0.008332</td>\n",
        "      <td> 0.008238</td>\n",
        "      <td> 0.008254</td>\n",
        "      <td> 0.008224</td>\n",
        "      <td> 0.008260</td>\n",
        "      <td> 0.008253</td>\n",
        "      <td>...</td>\n",
        "      <td> 0.008250</td>\n",
        "      <td> 0.008245</td>\n",
        "      <td> 0.008326</td>\n",
        "      <td> 0.008213</td>\n",
        "      <td> 0.008264</td>\n",
        "      <td> 0.008246</td>\n",
        "      <td> 0.008244</td>\n",
        "      <td> 0.008245</td>\n",
        "      <td> 0.008245</td>\n",
        "      <td> 0.008235</td>\n",
        "    </tr>\n",
        "    <tr>\n",
        "      <th>130399</th>\n",
        "      <td>  99999.jpg</td>\n",
        "      <td> 0.008243</td>\n",
        "      <td> 0.008277</td>\n",
        "      <td> 0.008278</td>\n",
        "      <td> 0.008381</td>\n",
        "      <td> 0.008226</td>\n",
        "      <td> 0.008266</td>\n",
        "      <td> 0.008167</td>\n",
        "      <td> 0.008278</td>\n",
        "      <td> 0.008262</td>\n",
        "      <td>...</td>\n",
        "      <td> 0.008247</td>\n",
        "      <td> 0.008244</td>\n",
        "      <td> 0.008419</td>\n",
        "      <td> 0.008175</td>\n",
        "      <td> 0.008277</td>\n",
        "      <td> 0.008248</td>\n",
        "      <td> 0.008248</td>\n",
        "      <td> 0.008184</td>\n",
        "      <td> 0.008243</td>\n",
        "      <td> 0.008226</td>\n",
        "    </tr>\n",
        "  </tbody>\n",
        "</table>\n",
        "<p>130400 rows \u00d7 122 columns</p>\n",
        "</div>"
       ],
       "metadata": {},
       "output_type": "pyout",
       "prompt_number": 10,
       "text": [
        "             image  appendicularian_slight_curve  hydromedusae_shapeB  \\\n",
        "0            1.jpg                      0.008242             0.008272   \n",
        "1           10.jpg                      0.008238             0.008273   \n",
        "2          100.jpg                      0.008238             0.008272   \n",
        "3         1000.jpg                      0.008255             0.008258   \n",
        "4        10000.jpg                      0.008234             0.008158   \n",
        "5       100000.jpg                      0.008241             0.008262   \n",
        "6       100001.jpg                      0.008236             0.008274   \n",
        "7       100002.jpg                      0.008235             0.008272   \n",
        "8       100003.jpg                      0.008247             0.008174   \n",
        "9       100004.jpg                      0.008231             0.008288   \n",
        "10      100005.jpg                      0.008251             0.008268   \n",
        "11      100006.jpg                      0.008251             0.008261   \n",
        "12      100007.jpg                      0.008249             0.008195   \n",
        "13      100008.jpg                      0.008249             0.008261   \n",
        "14       10001.jpg                      0.008247             0.008234   \n",
        "15      100011.jpg                      0.008232             0.008285   \n",
        "16      100012.jpg                      0.008245             0.008237   \n",
        "17      100013.jpg                      0.008231             0.008275   \n",
        "18      100014.jpg                      0.008244             0.008269   \n",
        "19      100015.jpg                      0.008246             0.008269   \n",
        "20      100016.jpg                      0.008235             0.008255   \n",
        "21      100017.jpg                      0.008231             0.008264   \n",
        "22      100018.jpg                      0.008272             0.008238   \n",
        "23      100019.jpg                      0.008233             0.008264   \n",
        "24       10002.jpg                      0.008245             0.008263   \n",
        "25      100020.jpg                      0.008242             0.008261   \n",
        "26      100021.jpg                      0.008250             0.008237   \n",
        "27      100022.jpg                      0.008239             0.008254   \n",
        "28      100023.jpg                      0.008283             0.008229   \n",
        "29      100024.jpg                      0.008256             0.008241   \n",
        "...            ...                           ...                  ...   \n",
        "130370   99963.jpg                      0.008232             0.008280   \n",
        "130371   99964.jpg                      0.008246             0.008264   \n",
        "130372   99966.jpg                      0.008234             0.008280   \n",
        "130373   99967.jpg                      0.008247             0.008263   \n",
        "130374   99968.jpg                      0.008243             0.008220   \n",
        "130375   99969.jpg                      0.008242             0.008259   \n",
        "130376    9997.jpg                      0.008246             0.008243   \n",
        "130377   99970.jpg                      0.008233             0.008284   \n",
        "130378   99974.jpg                      0.008244             0.008140   \n",
        "130379   99975.jpg                      0.008248             0.008233   \n",
        "130380   99976.jpg                      0.008245             0.008274   \n",
        "130381   99977.jpg                      0.008233             0.008281   \n",
        "130382   99979.jpg                      0.008249             0.008260   \n",
        "130383    9998.jpg                      0.008281             0.008199   \n",
        "130384   99980.jpg                      0.008233             0.008274   \n",
        "130385   99981.jpg                      0.008250             0.008165   \n",
        "130386   99983.jpg                      0.008232             0.008269   \n",
        "130387   99984.jpg                      0.008253             0.008224   \n",
        "130388   99986.jpg                      0.008250             0.008248   \n",
        "130389   99987.jpg                      0.008238             0.008208   \n",
        "130390   99988.jpg                      0.008231             0.008287   \n",
        "130391   99989.jpg                      0.008248             0.008238   \n",
        "130392    9999.jpg                      0.008258             0.008264   \n",
        "130393   99990.jpg                      0.008239             0.008270   \n",
        "130394   99992.jpg                      0.008248             0.008170   \n",
        "130395   99994.jpg                      0.008272             0.008234   \n",
        "130396   99995.jpg                      0.008248             0.008254   \n",
        "130397   99996.jpg                      0.008256             0.008244   \n",
        "130398   99997.jpg                      0.008246             0.008262   \n",
        "130399   99999.jpg                      0.008243             0.008277   \n",
        "\n",
        "        hydromedusae_shapeA  siphonophore_other_parts  \\\n",
        "0                  0.008276                  0.008331   \n",
        "1                  0.008270                  0.008357   \n",
        "2                  0.008269                  0.008307   \n",
        "3                  0.008261                  0.008330   \n",
        "4                  0.008130                  0.008135   \n",
        "5                  0.008259                  0.008342   \n",
        "6                  0.008268                  0.008351   \n",
        "7                  0.008265                  0.008383   \n",
        "8                  0.008158                  0.008147   \n",
        "9                  0.008292                  0.008388   \n",
        "10                 0.008272                  0.008325   \n",
        "11                 0.008259                  0.008320   \n",
        "12                 0.008187                  0.008181   \n",
        "13                 0.008257                  0.008297   \n",
        "14                 0.008222                  0.008273   \n",
        "15                 0.008288                  0.008377   \n",
        "16                 0.008221                  0.008291   \n",
        "17                 0.008278                  0.008380   \n",
        "18                 0.008275                  0.008316   \n",
        "19                 0.008281                  0.008329   \n",
        "20                 0.008235                  0.008265   \n",
        "21                 0.008268                  0.008337   \n",
        "22                 0.008237                  0.008236   \n",
        "23                 0.008269                  0.008340   \n",
        "24                 0.008254                  0.008353   \n",
        "25                 0.008258                  0.008317   \n",
        "26                 0.008236                  0.008245   \n",
        "27                 0.008257                  0.008309   \n",
        "28                 0.008219                  0.008210   \n",
        "29                 0.008240                  0.008215   \n",
        "...                     ...                       ...   \n",
        "130370             0.008278                  0.008383   \n",
        "130371             0.008274                  0.008300   \n",
        "130372             0.008277                  0.008370   \n",
        "130373             0.008274                  0.008304   \n",
        "130374             0.008202                  0.008279   \n",
        "130375             0.008251                  0.008348   \n",
        "130376             0.008231                  0.008304   \n",
        "130377             0.008289                  0.008375   \n",
        "130378             0.008103                  0.008121   \n",
        "130379             0.008241                  0.008252   \n",
        "130380             0.008277                  0.008364   \n",
        "130381             0.008283                  0.008378   \n",
        "130382             0.008262                  0.008304   \n",
        "130383             0.008178                  0.008157   \n",
        "130384             0.008280                  0.008352   \n",
        "130385             0.008145                  0.008141   \n",
        "130386             0.008256                  0.008274   \n",
        "130387             0.008220                  0.008218   \n",
        "130388             0.008233                  0.008276   \n",
        "130389             0.008199                  0.008189   \n",
        "130390             0.008292                  0.008388   \n",
        "130391             0.008236                  0.008275   \n",
        "130392             0.008258                  0.008331   \n",
        "130393             0.008260                  0.008313   \n",
        "130394             0.008150                  0.008130   \n",
        "130395             0.008234                  0.008241   \n",
        "130396             0.008244                  0.008255   \n",
        "130397             0.008237                  0.008221   \n",
        "130398             0.008265                  0.008332   \n",
        "130399             0.008278                  0.008381   \n",
        "\n",
        "        tunicate_doliolid_nurse  acantharia_protist  hydromedusae_narco_young  \\\n",
        "0                      0.008233            0.008258                  0.008218   \n",
        "1                      0.008236            0.008259                  0.008223   \n",
        "2                      0.008236            0.008278                  0.008192   \n",
        "3                      0.008244            0.008247                  0.008232   \n",
        "4                      0.008293            0.008153                  0.008481   \n",
        "5                      0.008245            0.008253                  0.008235   \n",
        "6                      0.008231            0.008263                  0.008198   \n",
        "7                      0.008234            0.008262                  0.008206   \n",
        "8                      0.008287            0.008170                  0.008450   \n",
        "9                      0.008216            0.008275                  0.008154   \n",
        "10                     0.008233            0.008259                  0.008221   \n",
        "11                     0.008241            0.008249                  0.008244   \n",
        "12                     0.008279            0.008185                  0.008405   \n",
        "13                     0.008241            0.008263                  0.008253   \n",
        "14                     0.008263            0.008219                  0.008324   \n",
        "15                     0.008219            0.008274                  0.008160   \n",
        "16                     0.008266            0.008229                  0.008307   \n",
        "17                     0.008234            0.008265                  0.008195   \n",
        "18                     0.008231            0.008258                  0.008223   \n",
        "19                     0.008232            0.008260                  0.008209   \n",
        "20                     0.008247            0.008293                  0.008188   \n",
        "21                     0.008242            0.008257                  0.008241   \n",
        "22                     0.008251            0.008246                  0.008275   \n",
        "23                     0.008241            0.008255                  0.008230   \n",
        "24                     0.008242            0.008252                  0.008233   \n",
        "25                     0.008243            0.008247                  0.008252   \n",
        "26                     0.008260            0.008229                  0.008330   \n",
        "27                     0.008251            0.008251                  0.008258   \n",
        "28                     0.008262            0.008231                  0.008322   \n",
        "29                     0.008256            0.008226                  0.008337   \n",
        "...                         ...                 ...                       ...   \n",
        "130370                 0.008227            0.008272                  0.008169   \n",
        "130371                 0.008236            0.008253                  0.008238   \n",
        "130372                 0.008227            0.008275                  0.008186   \n",
        "130373                 0.008237            0.008253                  0.008237   \n",
        "130374                 0.008271            0.008210                  0.008346   \n",
        "130375                 0.008251            0.008244                  0.008240   \n",
        "130376                 0.008257            0.008233                  0.008290   \n",
        "130377                 0.008217            0.008275                  0.008157   \n",
        "130378                 0.008292            0.008136                  0.008490   \n",
        "130379                 0.008260            0.008225                  0.008322   \n",
        "130380                 0.008228            0.008265                  0.008184   \n",
        "130381                 0.008223            0.008272                  0.008167   \n",
        "130382                 0.008242            0.008248                  0.008255   \n",
        "130383                 0.008272            0.008232                  0.008358   \n",
        "130384                 0.008231            0.008266                  0.008200   \n",
        "130385                 0.008288            0.008155                  0.008459   \n",
        "130386                 0.008234            0.008285                  0.008170   \n",
        "130387                 0.008268            0.008221                  0.008361   \n",
        "130388                 0.008254            0.008255                  0.008264   \n",
        "130389                 0.008280            0.008199                  0.008410   \n",
        "130390                 0.008217            0.008274                  0.008155   \n",
        "130391                 0.008261            0.008241                  0.008291   \n",
        "130392                 0.008236            0.008267                  0.008219   \n",
        "130393                 0.008239            0.008277                  0.008192   \n",
        "130394                 0.008289            0.008161                  0.008459   \n",
        "130395                 0.008254            0.008242                  0.008286   \n",
        "130396                 0.008253            0.008234                  0.008298   \n",
        "130397                 0.008259            0.008228                  0.008320   \n",
        "130398                 0.008238            0.008254                  0.008224   \n",
        "130399                 0.008226            0.008266                  0.008167   \n",
        "\n",
        "        fish_larvae_deep_body  hydromedusae_haliscera_small_sideview  \\\n",
        "0                    0.008269                               0.008258   \n",
        "1                    0.008269                               0.008257   \n",
        "2                    0.008280                               0.008258   \n",
        "3                    0.008252                               0.008251   \n",
        "4                    0.008124                               0.008171   \n",
        "5                    0.008258                               0.008251   \n",
        "6                    0.008274                               0.008259   \n",
        "7                    0.008270                               0.008258   \n",
        "8                    0.008148                               0.008188   \n",
        "9                    0.008291                               0.008268   \n",
        "10                   0.008268                               0.008256   \n",
        "11                   0.008256                               0.008250   \n",
        "12                   0.008169                               0.008204   \n",
        "13                   0.008267                               0.008252   \n",
        "14                   0.008216                               0.008230   \n",
        "15                   0.008289                               0.008267   \n",
        "16                   0.008222                               0.008233   \n",
        "17                   0.008275                               0.008260   \n",
        "18                   0.008269                               0.008258   \n",
        "19                   0.008270                               0.008259   \n",
        "20                   0.008278                               0.008249   \n",
        "21                   0.008261                               0.008254   \n",
        "22                   0.008243                               0.008239   \n",
        "23                   0.008260                               0.008254   \n",
        "24                   0.008257                               0.008251   \n",
        "25                   0.008252                               0.008250   \n",
        "26                   0.008228                               0.008236   \n",
        "27                   0.008253                               0.008248   \n",
        "28                   0.008225                               0.008230   \n",
        "29                   0.008224                               0.008234   \n",
        "...                       ...                                    ...   \n",
        "130370               0.008282                               0.008263   \n",
        "130371               0.008261                               0.008255   \n",
        "130372               0.008285                               0.008264   \n",
        "130373               0.008261                               0.008255   \n",
        "130374               0.008200                               0.008221   \n",
        "130375               0.008248                               0.008248   \n",
        "130376               0.008231                               0.008238   \n",
        "130377               0.008290                               0.008267   \n",
        "130378               0.008103                               0.008156   \n",
        "130379               0.008221                               0.008235   \n",
        "130380               0.008275                               0.008261   \n",
        "130381               0.008284                               0.008265   \n",
        "130382               0.008254                               0.008251   \n",
        "130383               0.008204                               0.008212   \n",
        "130384               0.008276                               0.008261   \n",
        "130385               0.008131                               0.008178   \n",
        "130386               0.008283                               0.008256   \n",
        "130387               0.008215                               0.008227   \n",
        "130388               0.008249                               0.008243   \n",
        "130389               0.008184                               0.008211   \n",
        "130390               0.008291                               0.008268   \n",
        "130391               0.008234                               0.008239   \n",
        "130392               0.008271                               0.008255   \n",
        "130393               0.008278                               0.008256   \n",
        "130394               0.008138                               0.008181   \n",
        "130395               0.008236                               0.008236   \n",
        "130396               0.008236                               0.008241   \n",
        "130397               0.008226                               0.008236   \n",
        "130398               0.008260                               0.008253   \n",
        "130399               0.008278                               0.008262   \n",
        "\n",
        "            ...        unknown_sticks  unknown_unclassified  \\\n",
        "0           ...              0.008252              0.008246   \n",
        "1           ...              0.008245              0.008247   \n",
        "2           ...              0.008244              0.008243   \n",
        "3           ...              0.008250              0.008246   \n",
        "4           ...              0.008216              0.008217   \n",
        "5           ...              0.008247              0.008246   \n",
        "6           ...              0.008245              0.008245   \n",
        "7           ...              0.008244              0.008244   \n",
        "8           ...              0.008229              0.008226   \n",
        "9           ...              0.008248              0.008244   \n",
        "10          ...              0.008250              0.008245   \n",
        "11          ...              0.008250              0.008247   \n",
        "12          ...              0.008241              0.008233   \n",
        "13          ...              0.008248              0.008246   \n",
        "14          ...              0.008243              0.008242   \n",
        "15          ...              0.008247              0.008244   \n",
        "16          ...              0.008241              0.008242   \n",
        "17          ...              0.008248              0.008245   \n",
        "18          ...              0.008254              0.008246   \n",
        "19          ...              0.008253              0.008246   \n",
        "20          ...              0.008230              0.008240   \n",
        "21          ...              0.008250              0.008245   \n",
        "22          ...              0.008247              0.008244   \n",
        "23          ...              0.008250              0.008245   \n",
        "24          ...              0.008244              0.008244   \n",
        "25          ...              0.008248              0.008245   \n",
        "26          ...              0.008250              0.008245   \n",
        "27          ...              0.008251              0.008246   \n",
        "28          ...              0.008241              0.008242   \n",
        "29          ...              0.008254              0.008244   \n",
        "...         ...                   ...                   ...   \n",
        "130370      ...              0.008244              0.008244   \n",
        "130371      ...              0.008256              0.008245   \n",
        "130372      ...              0.008246              0.008245   \n",
        "130373      ...              0.008255              0.008246   \n",
        "130374      ...              0.008237              0.008238   \n",
        "130375      ...              0.008246              0.008245   \n",
        "130376      ...              0.008244              0.008244   \n",
        "130377      ...              0.008247              0.008244   \n",
        "130378      ...              0.008204              0.008209   \n",
        "130379      ...              0.008253              0.008243   \n",
        "130380      ...              0.008247              0.008245   \n",
        "130381      ...              0.008248              0.008244   \n",
        "130382      ...              0.008252              0.008246   \n",
        "130383      ...              0.008232              0.008234   \n",
        "130384      ...              0.008249              0.008245   \n",
        "130385      ...              0.008223              0.008221   \n",
        "130386      ...              0.008235              0.008241   \n",
        "130387      ...              0.008246              0.008242   \n",
        "130388      ...              0.008240              0.008242   \n",
        "130389      ...              0.008242              0.008236   \n",
        "130390      ...              0.008248              0.008244   \n",
        "130391      ...              0.008248              0.008243   \n",
        "130392      ...              0.008244              0.008244   \n",
        "130393      ...              0.008240              0.008242   \n",
        "130394      ...              0.008225              0.008224   \n",
        "130395      ...              0.008248              0.008244   \n",
        "130396      ...              0.008250              0.008245   \n",
        "130397      ...              0.008250              0.008244   \n",
        "130398      ...              0.008250              0.008245   \n",
        "130399      ...              0.008247              0.008244   \n",
        "\n",
        "        pteropod_theco_dev_seq  acantharia_protist_halo  \\\n",
        "0                     0.008400                 0.008203   \n",
        "1                     0.008369                 0.008210   \n",
        "2                     0.008375                 0.008222   \n",
        "3                     0.008328                 0.008225   \n",
        "4                     0.007797                 0.008460   \n",
        "5                     0.008311                 0.008233   \n",
        "6                     0.008349                 0.008205   \n",
        "7                     0.008342                 0.008219   \n",
        "8                     0.007899                 0.008398   \n",
        "9                     0.008468                 0.008157   \n",
        "10                    0.008424                 0.008201   \n",
        "11                    0.008327                 0.008215   \n",
        "12                    0.007991                 0.008376   \n",
        "13                    0.008316                 0.008208   \n",
        "14                    0.008147                 0.008310   \n",
        "15                    0.008448                 0.008167   \n",
        "16                    0.008142                 0.008321   \n",
        "17                    0.008380                 0.008213   \n",
        "18                    0.008382                 0.008196   \n",
        "19                    0.008417                 0.008195   \n",
        "20                    0.008225                 0.008266   \n",
        "21                    0.008318                 0.008249   \n",
        "22                    0.008276                 0.008239   \n",
        "23                    0.008319                 0.008252   \n",
        "24                    0.008313                 0.008235   \n",
        "25                    0.008306                 0.008249   \n",
        "26                    0.008197                 0.008267   \n",
        "27                    0.008281                 0.008235   \n",
        "28                    0.008266                 0.008288   \n",
        "29                    0.008252                 0.008291   \n",
        "...                        ...                      ...   \n",
        "130370                0.008395                 0.008199   \n",
        "130371                0.008371                 0.008214   \n",
        "130372                0.008380                 0.008185   \n",
        "130373                0.008378                 0.008209   \n",
        "130374                0.008053                 0.008346   \n",
        "130375                0.008278                 0.008260   \n",
        "130376                0.008191                 0.008288   \n",
        "130377                0.008464                 0.008160   \n",
        "130378                0.007749                 0.008475   \n",
        "130379                0.008198                 0.008289   \n",
        "130380                0.008416                 0.008189   \n",
        "130381                0.008420                 0.008180   \n",
        "130382                0.008333                 0.008232   \n",
        "130383                0.008024                 0.008316   \n",
        "130384                0.008399                 0.008193   \n",
        "130385                0.007872                 0.008419   \n",
        "130386                0.008334                 0.008242   \n",
        "130387                0.008133                 0.008298   \n",
        "130388                0.008232                 0.008289   \n",
        "130389                0.008023                 0.008379   \n",
        "130390                0.008464                 0.008160   \n",
        "130391                0.008182                 0.008268   \n",
        "130392                0.008355                 0.008207   \n",
        "130393                0.008340                 0.008239   \n",
        "130394                0.007884                 0.008423   \n",
        "130395                0.008258                 0.008242   \n",
        "130396                0.008273                 0.008293   \n",
        "130397                0.008273                 0.008304   \n",
        "130398                0.008326                 0.008213   \n",
        "130399                0.008419                 0.008175   \n",
        "\n",
        "        hydromedusae_typeD_bell_and_tentacles  echinoderm_larva_pluteus_typeC  \\\n",
        "0                                    0.008270                        0.008246   \n",
        "1                                    0.008269                        0.008246   \n",
        "2                                    0.008281                        0.008248   \n",
        "3                                    0.008260                        0.008246   \n",
        "4                                    0.008154                        0.008207   \n",
        "5                                    0.008266                        0.008245   \n",
        "6                                    0.008268                        0.008249   \n",
        "7                                    0.008265                        0.008247   \n",
        "8                                    0.008180                        0.008217   \n",
        "9                                    0.008286                        0.008247   \n",
        "10                                   0.008265                        0.008247   \n",
        "11                                   0.008254                        0.008245   \n",
        "12                                   0.008201                        0.008226   \n",
        "13                                   0.008256                        0.008244   \n",
        "14                                   0.008228                        0.008239   \n",
        "15                                   0.008284                        0.008247   \n",
        "16                                   0.008234                        0.008242   \n",
        "17                                   0.008291                        0.008246   \n",
        "18                                   0.008266                        0.008246   \n",
        "19                                   0.008273                        0.008246   \n",
        "20                                   0.008271                        0.008249   \n",
        "21                                   0.008277                        0.008245   \n",
        "22                                   0.008240                        0.008246   \n",
        "23                                   0.008279                        0.008246   \n",
        "24                                   0.008257                        0.008247   \n",
        "25                                   0.008256                        0.008246   \n",
        "26                                   0.008236                        0.008239   \n",
        "27                                   0.008276                        0.008244   \n",
        "28                                   0.008225                        0.008247   \n",
        "29                                   0.008234                        0.008241   \n",
        "...                                       ...                             ...   \n",
        "130370                               0.008283                        0.008247   \n",
        "130371                               0.008268                        0.008246   \n",
        "130372                               0.008274                        0.008247   \n",
        "130373                               0.008266                        0.008245   \n",
        "130374                               0.008213                        0.008235   \n",
        "130375                               0.008267                        0.008245   \n",
        "130376                               0.008240                        0.008242   \n",
        "130377                               0.008285                        0.008248   \n",
        "130378                               0.008132                        0.008202   \n",
        "130379                               0.008248                        0.008239   \n",
        "130380                               0.008275                        0.008248   \n",
        "130381                               0.008286                        0.008247   \n",
        "130382                               0.008262                        0.008245   \n",
        "130383                               0.008193                        0.008235   \n",
        "130384                               0.008284                        0.008246   \n",
        "130385                               0.008163                        0.008213   \n",
        "130386                               0.008291                        0.008249   \n",
        "130387                               0.008224                        0.008236   \n",
        "130388                               0.008247                        0.008248   \n",
        "130389                               0.008213                        0.008230   \n",
        "130390                               0.008286                        0.008247   \n",
        "130391                               0.008250                        0.008241   \n",
        "130392                               0.008257                        0.008248   \n",
        "130393                               0.008275                        0.008250   \n",
        "130394                               0.008172                        0.008215   \n",
        "130395                               0.008237                        0.008243   \n",
        "130396                               0.008244                        0.008245   \n",
        "130397                               0.008238                        0.008244   \n",
        "130398                               0.008264                        0.008246   \n",
        "130399                               0.008277                        0.008248   \n",
        "\n",
        "        decapods  copepod_calanoid_small_longantennae  euphausiids  \\\n",
        "0       0.008243                             0.008205     0.008244   \n",
        "1       0.008242                             0.008244     0.008246   \n",
        "2       0.008262                             0.008143     0.008242   \n",
        "3       0.008240                             0.008187     0.008245   \n",
        "4       0.008206                             0.008545     0.008225   \n",
        "5       0.008246                             0.008236     0.008246   \n",
        "6       0.008250                             0.008292     0.008245   \n",
        "7       0.008248                             0.008288     0.008245   \n",
        "8       0.008214                             0.008497     0.008232   \n",
        "9       0.008246                             0.008178     0.008242   \n",
        "10      0.008243                             0.008216     0.008243   \n",
        "11      0.008240                             0.008295     0.008245   \n",
        "12      0.008220                             0.008398     0.008237   \n",
        "13      0.008243                             0.008328     0.008243   \n",
        "14      0.008233                             0.008387     0.008245   \n",
        "15      0.008249                             0.008184     0.008242   \n",
        "16      0.008243                             0.008346     0.008246   \n",
        "17      0.008249                             0.008172     0.008245   \n",
        "18      0.008242                             0.008268     0.008243   \n",
        "19      0.008242                             0.008163     0.008243   \n",
        "20      0.008305                             0.008154     0.008241   \n",
        "21      0.008247                             0.008219     0.008246   \n",
        "22      0.008248                             0.008261     0.008242   \n",
        "23      0.008249                             0.008199     0.008246   \n",
        "24      0.008246                             0.008294     0.008246   \n",
        "25      0.008244                             0.008276     0.008246   \n",
        "26      0.008232                             0.008398     0.008244   \n",
        "27      0.008244                             0.008254     0.008245   \n",
        "28      0.008247                             0.008277     0.008242   \n",
        "29      0.008234                             0.008303     0.008243   \n",
        "...          ...                                  ...          ...   \n",
        "130370  0.008252                             0.008192     0.008244   \n",
        "130371  0.008241                             0.008216     0.008244   \n",
        "130372  0.008249                             0.008257     0.008244   \n",
        "130373  0.008240                             0.008211     0.008243   \n",
        "130374  0.008233                             0.008464     0.008244   \n",
        "130375  0.008247                             0.008222     0.008248   \n",
        "130376  0.008241                             0.008356     0.008246   \n",
        "130377  0.008250                             0.008174     0.008242   \n",
        "130378  0.008204                             0.008559     0.008218   \n",
        "130379  0.008233                             0.008269     0.008245   \n",
        "130380  0.008246                             0.008174     0.008244   \n",
        "130381  0.008249                             0.008183     0.008244   \n",
        "130382  0.008240                             0.008233     0.008245   \n",
        "130383  0.008248                             0.008413     0.008236   \n",
        "130384  0.008246                             0.008208     0.008244   \n",
        "130385  0.008206                             0.008495     0.008228   \n",
        "130386  0.008292                             0.008130     0.008240   \n",
        "130387  0.008231                             0.008431     0.008242   \n",
        "130388  0.008264                             0.008252     0.008244   \n",
        "130389  0.008227                             0.008388     0.008241   \n",
        "130390  0.008246                             0.008179     0.008242   \n",
        "130391  0.008243                             0.008301     0.008245   \n",
        "130392  0.008249                             0.008254     0.008243   \n",
        "130393  0.008273                             0.008160     0.008242   \n",
        "130394  0.008214                             0.008466     0.008230   \n",
        "130395  0.008243                             0.008247     0.008242   \n",
        "130396  0.008246                             0.008258     0.008244   \n",
        "130397  0.008247                             0.008248     0.008242   \n",
        "130398  0.008244                             0.008245     0.008245   \n",
        "130399  0.008248                             0.008184     0.008243   \n",
        "\n",
        "        echinopluteus  \n",
        "0            0.008227  \n",
        "1            0.008238  \n",
        "2            0.008255  \n",
        "3            0.008232  \n",
        "4            0.008339  \n",
        "5            0.008252  \n",
        "6            0.008242  \n",
        "7            0.008255  \n",
        "8            0.008304  \n",
        "9            0.008212  \n",
        "10           0.008225  \n",
        "11           0.008233  \n",
        "12           0.008290  \n",
        "13           0.008237  \n",
        "14           0.008278  \n",
        "15           0.008219  \n",
        "16           0.008292  \n",
        "17           0.008243  \n",
        "18           0.008222  \n",
        "19           0.008217  \n",
        "20           0.008300  \n",
        "21           0.008254  \n",
        "22           0.008243  \n",
        "23           0.008256  \n",
        "24           0.008261  \n",
        "25           0.008257  \n",
        "26           0.008249  \n",
        "27           0.008249  \n",
        "28           0.008261  \n",
        "29           0.008255  \n",
        "...               ...  \n",
        "130370       0.008242  \n",
        "130371       0.008223  \n",
        "130372       0.008236  \n",
        "130373       0.008222  \n",
        "130374       0.008302  \n",
        "130375       0.008263  \n",
        "130376       0.008273  \n",
        "130377       0.008211  \n",
        "130378       0.008351  \n",
        "130379       0.008251  \n",
        "130380       0.008223  \n",
        "130381       0.008226  \n",
        "130382       0.008235  \n",
        "130383       0.008303  \n",
        "130384       0.008229  \n",
        "130385       0.008311  \n",
        "130386       0.008281  \n",
        "130387       0.008269  \n",
        "130388       0.008289  \n",
        "130389       0.008303  \n",
        "130390       0.008213  \n",
        "130391       0.008268  \n",
        "130392       0.008245  \n",
        "130393       0.008269  \n",
        "130394       0.008317  \n",
        "130395       0.008241  \n",
        "130396       0.008274  \n",
        "130397       0.008270  \n",
        "130398       0.008235  \n",
        "130399       0.008226  \n",
        "\n",
        "[130400 rows x 122 columns]"
       ]
      }
     ],
     "prompt_number": 10
    },
    {
     "cell_type": "code",
     "collapsed": false,
     "input": [
      "!gzip submission_softreg_shuf_ctr_sgd_bestnll_10.csv"
     ],
     "language": "python",
     "metadata": {},
     "outputs": [],
     "prompt_number": 12
    },
    {
     "cell_type": "code",
     "collapsed": false,
     "input": [],
     "language": "python",
     "metadata": {},
     "outputs": []
    }
   ],
   "metadata": {}
  }
 ]
}