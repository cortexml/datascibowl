{
 "metadata": {
  "name": "",
  "signature": "sha256:e640d068f696e8767c1599090136e13f4236447abde9218347b1edccbec6e9b6"
 },
 "nbformat": 3,
 "nbformat_minor": 0,
 "worksheets": [
  {
   "cells": [
    {
     "cell_type": "markdown",
     "metadata": {},
     "source": [
      "1. Setup the yaml file\n",
      "    - data\n",
      "    - model \n",
      "    - algorithm\n",
      "    - termination criteria\n",
      "    - monitoring extensions (filename)\n",
      "    - save path (filename)\n",
      "2. Update paths/filenames in ipython notebook\n",
      "    - print monitor of best fit\n",
      "    - prediction model and save file path\n",
      "    - gzip"
     ]
    },
    {
     "cell_type": "code",
     "collapsed": false,
     "input": [
      "import os\n",
      "import pylearn2\n",
      "from pylearn2.config import yaml_parse\n",
      "import glob\n",
      "import numpy as np\n",
      "import pickle as pkl\n",
      "import pandas as pd"
     ],
     "language": "python",
     "metadata": {},
     "outputs": [
      {
       "output_type": "stream",
       "stream": "stderr",
       "text": [
        "Using gpu device 0: GeForce GTX 550 Ti\n"
       ]
      }
     ],
     "prompt_number": 1
    },
    {
     "cell_type": "code",
     "collapsed": false,
     "input": [
      "os.environ[\"PYLEARN2_DATA_PATH\"] = \"/home/jotham/projects/2014-12-20_datascibowl/data\"\n",
      "print os.path.expandvars(\"$PYLEARN2_DATA_PATH\")"
     ],
     "language": "python",
     "metadata": {},
     "outputs": [
      {
       "output_type": "stream",
       "stream": "stdout",
       "text": [
        "/home/jotham/projects/2014-12-20_datascibowl/data\n"
       ]
      }
     ],
     "prompt_number": 2
    },
    {
     "cell_type": "code",
     "collapsed": false,
     "input": [
      "with open('cnn_maxout_01.yaml', 'r') as f:\n",
      "    train = f.read()\n",
      "save_path = '.'\n",
      "train = train %locals()"
     ],
     "language": "python",
     "metadata": {},
     "outputs": [],
     "prompt_number": 3
    },
    {
     "cell_type": "code",
     "collapsed": false,
     "input": [
      "print train"
     ],
     "language": "python",
     "metadata": {},
     "outputs": [
      {
       "output_type": "stream",
       "stream": "stdout",
       "text": [
        "!obj:pylearn2.train.Train {\n",
        "    dataset: &train !obj:pylearn2.datasets.datascibowl.DataSciBowl {\n",
        "        which_set: 'train',\n",
        "        start: 0,\n",
        "        stop: 25000,\n",
        "        shuffle: True,\n",
        "        center: True,\n",
        "    },\n",
        "    model: !obj:pylearn2.models.mlp.MLP {\n",
        "        batch_size: 100,\n",
        "        input_space: !obj:pylearn2.space.Conv2DSpace {\n",
        "            shape: [32, 32],\n",
        "            num_channels: 1,\n",
        "            axes: ['c', 0, 1, 'b'],\n",
        "        },\n",
        "        layers: [\n",
        "            !obj:pylearn2.models.maxout.MaxoutConvC01B {\n",
        "                layer_name: 'h0',\n",
        "                pad: 0,\n",
        "                num_channels: 48,\n",
        "                num_pieces: 2,\n",
        "                kernel_shape: [8, 8],\n",
        "                pool_shape: [4, 4],\n",
        "                pool_stride: [2, 2],\n",
        "                irange: .005,\n",
        "                max_kernel_norm: .9,\n",
        "            },\n",
        "            !obj:pylearn2.models.maxout.MaxoutConvC01B {\n",
        "                layer_name: 'h1',\n",
        "                pad: 3,\n",
        "                num_channels: 48,\n",
        "                num_pieces: 2,\n",
        "                kernel_shape: [8, 8],\n",
        "                pool_shape: [4, 4],\n",
        "                pool_stride: [2, 2],\n",
        "                irange: .005,\n",
        "                max_kernel_norm: 1.9365,\n",
        "            },\n",
        "            !obj:pylearn2.models.maxout.MaxoutConvC01B {\n",
        "                pad: 3,\n",
        "                layer_name: 'h2',\n",
        "                num_channels: 24,\n",
        "                num_pieces: 4,\n",
        "                kernel_shape: [5, 5],\n",
        "                pool_shape: [2, 2],\n",
        "                pool_stride: [2, 2],\n",
        "                irange: .005,\n",
        "                max_kernel_norm: 1.9365,\n",
        "            },\n",
        "            !obj:pylearn2.models.mlp.Softmax {\n",
        "                max_col_norm: 1.9365,\n",
        "                layer_name: 'y',\n",
        "                n_classes: 121,\n",
        "                irange: .005\n",
        "            }\n",
        "        ],\n",
        "    },\n",
        "    algorithm: !obj:pylearn2.training_algorithms.sgd.SGD {\n",
        "        learning_rate: .05,\n",
        "        learning_rule: !obj:pylearn2.training_algorithms.learning_rule.Momentum {\n",
        "            init_momentum: 0.5,\n",
        "        },\n",
        "        train_iteration_mode: 'even_shuffled_sequential',\n",
        "        monitor_iteration_mode: 'even_sequential',\n",
        "        monitoring_dataset: {\n",
        "                'train' : *train,\n",
        "                'valid' : !obj:pylearn2.datasets.datascibowl.DataSciBowl {\n",
        "                              which_set: 'train',\n",
        "                              start: 25000,\n",
        "                              stop:  30000,\n",
        "                              shuffle: True,\n",
        "                              center: True\n",
        "                          }\n",
        "        },\n",
        "        cost: !obj:pylearn2.costs.mlp.dropout.Dropout {\n",
        "            input_include_probs: { 'h0' : .8 },\n",
        "            input_scales: { 'h0': 1. }\n",
        "        },\n",
        "        termination_criterion: !obj:pylearn2.termination_criteria.MonitorBased {\n",
        "            channel_name: \"valid_y_nll\",\n",
        "            prop_decrease: 0.,\n",
        "            N: 15\n",
        "        },\n",
        "        update_callbacks: !obj:pylearn2.training_algorithms.sgd.ExponentialDecay {\n",
        "            decay_factor: 1.00004,\n",
        "            min_lr: .000001\n",
        "        }\n",
        "    },\n",
        "    extensions:\n",
        "        [ !obj:pylearn2.train_extensions.best_params.MonitorBasedSaveBest {\n",
        "             channel_name: 'valid_y_nll',\n",
        "             save_path: \"cnn_00_best.pkl\"\n",
        "        }, !obj:pylearn2.training_algorithms.learning_rule.MomentumAdjustor {\n",
        "            start: 1,\n",
        "            saturate: 250,\n",
        "            final_momentum: 0.7\n",
        "        }\n",
        "    ]\n",
        "}\n"
       ]
      }
     ],
     "prompt_number": 4
    },
    {
     "cell_type": "code",
     "collapsed": false,
     "input": [
      "train = yaml_parse.load(train)\n",
      "train.main_loop()"
     ],
     "language": "python",
     "metadata": {},
     "outputs": [
      {
       "output_type": "stream",
       "stream": "stdout",
       "text": [
        "Input shape: (32, 32)\n"
       ]
      },
      {
       "output_type": "stream",
       "stream": "stdout",
       "text": [
        "Detector space: (25, 25)\n"
       ]
      },
      {
       "output_type": "stream",
       "stream": "stdout",
       "text": [
        "Output space: (12, 12)\n"
       ]
      },
      {
       "output_type": "stream",
       "stream": "stdout",
       "text": [
        "Input shape: (12, 12)\n"
       ]
      },
      {
       "output_type": "stream",
       "stream": "stdout",
       "text": [
        "Detector space: (11, 11)\n"
       ]
      },
      {
       "output_type": "stream",
       "stream": "stdout",
       "text": [
        "Output space: (5, 5)\n"
       ]
      },
      {
       "output_type": "stream",
       "stream": "stdout",
       "text": [
        "Input shape: (5, 5)\n"
       ]
      },
      {
       "output_type": "stream",
       "stream": "stdout",
       "text": [
        "Detector space: (7, 7)\n"
       ]
      },
      {
       "output_type": "stream",
       "stream": "stdout",
       "text": [
        "Output space: (4, 4)\n"
       ]
      },
      {
       "output_type": "stream",
       "stream": "stdout",
       "text": [
        "Looking for data in /home/jotham/projects/2014-12-20_datascibowl/data/datascibowl/train\n",
        "Found 30336 images"
       ]
      },
      {
       "output_type": "stream",
       "stream": "stdout",
       "text": [
        "\n",
        "Reading files from /home/jotham/projects/2014-12-20_datascibowl/data/datascibowl/train/euphausiids_young\n",
        "Reading files from /home/jotham/projects/2014-12-20_datascibowl/data/datascibowl/train/hydromedusae_narcomedusae\n",
        "Reading files from /home/jotham/projects/2014-12-20_datascibowl/data/datascibowl/train/copepod_calanoid_small_longantennae"
       ]
      },
      {
       "output_type": "stream",
       "stream": "stdout",
       "text": [
        "\n",
        "Reading files from /home/jotham/projects/2014-12-20_datascibowl/data/datascibowl/train/appendicularian_s_shape"
       ]
      },
      {
       "output_type": "stream",
       "stream": "stdout",
       "text": [
        "\n",
        "Reading files from /home/jotham/projects/2014-12-20_datascibowl/data/datascibowl/train/decapods"
       ]
      },
      {
       "output_type": "stream",
       "stream": "stdout",
       "text": [
        "\n",
        "Reading files from /home/jotham/projects/2014-12-20_datascibowl/data/datascibowl/train/hydromedusae_typeD_bell_and_tentacles\n",
        "Reading files from /home/jotham/projects/2014-12-20_datascibowl/data/datascibowl/train/crustacean_other"
       ]
      },
      {
       "output_type": "stream",
       "stream": "stdout",
       "text": [
        "\n",
        "Reading files from /home/jotham/projects/2014-12-20_datascibowl/data/datascibowl/train/hydromedusae_bell_and_tentacles"
       ]
      },
      {
       "output_type": "stream",
       "stream": "stdout",
       "text": [
        "\n",
        "Reading files from /home/jotham/projects/2014-12-20_datascibowl/data/datascibowl/train/echinoderm_larva_pluteus_brittlestar"
       ]
      },
      {
       "output_type": "stream",
       "stream": "stdout",
       "text": [
        "\n",
        "Reading files from /home/jotham/projects/2014-12-20_datascibowl/data/datascibowl/train/invertebrate_larvae_other_B\n",
        "Reading files from /home/jotham/projects/2014-12-20_datascibowl/data/datascibowl/train/hydromedusae_solmaris\n",
        "Reading files from /home/jotham/projects/2014-12-20_datascibowl/data/datascibowl/train/chaetognath_sagitta"
       ]
      },
      {
       "output_type": "stream",
       "stream": "stdout",
       "text": [
        "\n",
        "Reading files from /home/jotham/projects/2014-12-20_datascibowl/data/datascibowl/train/hydromedusae_shapeA"
       ]
      },
      {
       "output_type": "stream",
       "stream": "stdout",
       "text": [
        "\n",
        "Reading files from /home/jotham/projects/2014-12-20_datascibowl/data/datascibowl/train/hydromedusae_shapeB"
       ]
      },
      {
       "output_type": "stream",
       "stream": "stdout",
       "text": [
        "\n",
        "Reading files from /home/jotham/projects/2014-12-20_datascibowl/data/datascibowl/train/hydromedusae_haliscera"
       ]
      },
      {
       "output_type": "stream",
       "stream": "stdout",
       "text": [
        "\n",
        "Reading files from /home/jotham/projects/2014-12-20_datascibowl/data/datascibowl/train/hydromedusae_typeE"
       ]
      },
      {
       "output_type": "stream",
       "stream": "stdout",
       "text": [
        "\n",
        "Reading files from /home/jotham/projects/2014-12-20_datascibowl/data/datascibowl/train/hydromedusae_h15\n",
        "Reading files from /home/jotham/projects/2014-12-20_datascibowl/data/datascibowl/train/artifacts_edge\n",
        "Reading files from /home/jotham/projects/2014-12-20_datascibowl/data/datascibowl/train/copepod_calanoid_frillyAntennae"
       ]
      },
      {
       "output_type": "stream",
       "stream": "stdout",
       "text": [
        "\n",
        "Reading files from /home/jotham/projects/2014-12-20_datascibowl/data/datascibowl/train/copepod_calanoid_large\n",
        "Reading files from /home/jotham/projects/2014-12-20_datascibowl/data/datascibowl/train/siphonophore_calycophoran_abylidae"
       ]
      },
      {
       "output_type": "stream",
       "stream": "stdout",
       "text": [
        "\n",
        "Reading files from /home/jotham/projects/2014-12-20_datascibowl/data/datascibowl/train/invertebrate_larvae_other_A"
       ]
      },
      {
       "output_type": "stream",
       "stream": "stdout",
       "text": [
        "\n",
        "Reading files from /home/jotham/projects/2014-12-20_datascibowl/data/datascibowl/train/protist_dark_center\n",
        "Reading files from /home/jotham/projects/2014-12-20_datascibowl/data/datascibowl/train/ctenophore_cestid"
       ]
      },
      {
       "output_type": "stream",
       "stream": "stdout",
       "text": [
        "\n",
        "Reading files from /home/jotham/projects/2014-12-20_datascibowl/data/datascibowl/train/trichodesmium_tuft"
       ]
      },
      {
       "output_type": "stream",
       "stream": "stdout",
       "text": [
        "\n",
        "Reading files from /home/jotham/projects/2014-12-20_datascibowl/data/datascibowl/train/detritus_other"
       ]
      },
      {
       "output_type": "stream",
       "stream": "stdout",
       "text": [
        "\n",
        "Reading files from /home/jotham/projects/2014-12-20_datascibowl/data/datascibowl/train/tornaria_acorn_worm_larvae"
       ]
      },
      {
       "output_type": "stream",
       "stream": "stdout",
       "text": [
        "\n",
        "Reading files from /home/jotham/projects/2014-12-20_datascibowl/data/datascibowl/train/hydromedusae_other\n",
        "Reading files from /home/jotham/projects/2014-12-20_datascibowl/data/datascibowl/train/tunicate_salp\n",
        "Reading files from /home/jotham/projects/2014-12-20_datascibowl/data/datascibowl/train/shrimp_caridean"
       ]
      },
      {
       "output_type": "stream",
       "stream": "stdout",
       "text": [
        "\n",
        "Reading files from /home/jotham/projects/2014-12-20_datascibowl/data/datascibowl/train/copepod_cyclopoid_oithona\n",
        "Reading files from /home/jotham/projects/2014-12-20_datascibowl/data/datascibowl/train/hydromedusae_sideview_big"
       ]
      },
      {
       "output_type": "stream",
       "stream": "stdout",
       "text": [
        "\n",
        "Reading files from /home/jotham/projects/2014-12-20_datascibowl/data/datascibowl/train/trochophore_larvae"
       ]
      },
      {
       "output_type": "stream",
       "stream": "stdout",
       "text": [
        "\n",
        "Reading files from /home/jotham/projects/2014-12-20_datascibowl/data/datascibowl/train/artifacts\n",
        "Reading files from /home/jotham/projects/2014-12-20_datascibowl/data/datascibowl/train/acantharia_protist"
       ]
      },
      {
       "output_type": "stream",
       "stream": "stdout",
       "text": [
        "\n",
        "Reading files from /home/jotham/projects/2014-12-20_datascibowl/data/datascibowl/train/ctenophore_lobate"
       ]
      },
      {
       "output_type": "stream",
       "stream": "stdout",
       "text": [
        "\n",
        "Reading files from /home/jotham/projects/2014-12-20_datascibowl/data/datascibowl/train/copepod_calanoid_eucalanus\n",
        "Reading files from /home/jotham/projects/2014-12-20_datascibowl/data/datascibowl/train/siphonophore_calycophoran_sphaeronectes_young"
       ]
      },
      {
       "output_type": "stream",
       "stream": "stdout",
       "text": [
        "\n",
        "Reading files from /home/jotham/projects/2014-12-20_datascibowl/data/datascibowl/train/fish_larvae_myctophids"
       ]
      },
      {
       "output_type": "stream",
       "stream": "stdout",
       "text": [
        "\n",
        "Reading files from /home/jotham/projects/2014-12-20_datascibowl/data/datascibowl/train/echinoderm_larva_pluteus_early"
       ]
      },
      {
       "output_type": "stream",
       "stream": "stdout",
       "text": [
        "\n",
        "Reading files from /home/jotham/projects/2014-12-20_datascibowl/data/datascibowl/train/hydromedusae_aglaura"
       ]
      },
      {
       "output_type": "stream",
       "stream": "stdout",
       "text": [
        "\n",
        "Reading files from /home/jotham/projects/2014-12-20_datascibowl/data/datascibowl/train/echinoderm_larva_pluteus_urchin"
       ]
      },
      {
       "output_type": "stream",
       "stream": "stdout",
       "text": [
        "\n",
        "Reading files from /home/jotham/projects/2014-12-20_datascibowl/data/datascibowl/train/tunicate_partial"
       ]
      },
      {
       "output_type": "stream",
       "stream": "stdout",
       "text": [
        "\n",
        "Reading files from /home/jotham/projects/2014-12-20_datascibowl/data/datascibowl/train/pteropod_triangle"
       ]
      },
      {
       "output_type": "stream",
       "stream": "stdout",
       "text": [
        "\n",
        "Reading files from /home/jotham/projects/2014-12-20_datascibowl/data/datascibowl/train/echinoderm_seacucumber_auricularia_larva\n",
        "Reading files from /home/jotham/projects/2014-12-20_datascibowl/data/datascibowl/train/hydromedusae_typeD"
       ]
      },
      {
       "output_type": "stream",
       "stream": "stdout",
       "text": [
        "\n",
        "Reading files from /home/jotham/projects/2014-12-20_datascibowl/data/datascibowl/train/siphonophore_calycophoran_sphaeronectes\n",
        "Reading files from /home/jotham/projects/2014-12-20_datascibowl/data/datascibowl/train/chordate_type1"
       ]
      },
      {
       "output_type": "stream",
       "stream": "stdout",
       "text": [
        "\n",
        "Reading files from /home/jotham/projects/2014-12-20_datascibowl/data/datascibowl/train/trichodesmium_multiple\n",
        "Reading files from /home/jotham/projects/2014-12-20_datascibowl/data/datascibowl/train/appendicularian_straight"
       ]
      },
      {
       "output_type": "stream",
       "stream": "stdout",
       "text": [
        "\n",
        "Reading files from /home/jotham/projects/2014-12-20_datascibowl/data/datascibowl/train/appendicularian_slight_curve"
       ]
      },
      {
       "output_type": "stream",
       "stream": "stdout",
       "text": [
        "\n",
        "Reading files from /home/jotham/projects/2014-12-20_datascibowl/data/datascibowl/train/hydromedusae_typeF"
       ]
      },
      {
       "output_type": "stream",
       "stream": "stdout",
       "text": [
        "\n",
        "Reading files from /home/jotham/projects/2014-12-20_datascibowl/data/datascibowl/train/fecal_pellet\n",
        "Reading files from /home/jotham/projects/2014-12-20_datascibowl/data/datascibowl/train/hydromedusae_narco_dark"
       ]
      },
      {
       "output_type": "stream",
       "stream": "stdout",
       "text": [
        "\n",
        "Reading files from /home/jotham/projects/2014-12-20_datascibowl/data/datascibowl/train/shrimp-like_other\n",
        "Reading files from /home/jotham/projects/2014-12-20_datascibowl/data/datascibowl/train/diatom_chain_string"
       ]
      },
      {
       "output_type": "stream",
       "stream": "stdout",
       "text": [
        "\n",
        "Reading files from /home/jotham/projects/2014-12-20_datascibowl/data/datascibowl/train/fish_larvae_very_thin_body"
       ]
      },
      {
       "output_type": "stream",
       "stream": "stdout",
       "text": [
        "\n",
        "Reading files from /home/jotham/projects/2014-12-20_datascibowl/data/datascibowl/train/detritus_filamentous\n",
        "Reading files from /home/jotham/projects/2014-12-20_datascibowl/data/datascibowl/train/amphipods"
       ]
      },
      {
       "output_type": "stream",
       "stream": "stdout",
       "text": [
        "\n",
        "Reading files from /home/jotham/projects/2014-12-20_datascibowl/data/datascibowl/train/siphonophore_other_parts\n",
        "Reading files from /home/jotham/projects/2014-12-20_datascibowl/data/datascibowl/train/trichodesmium_bowtie\n",
        "Reading files from /home/jotham/projects/2014-12-20_datascibowl/data/datascibowl/train/siphonophore_physonect"
       ]
      },
      {
       "output_type": "stream",
       "stream": "stdout",
       "text": [
        "\n",
        "Reading files from /home/jotham/projects/2014-12-20_datascibowl/data/datascibowl/train/chaetognath_other"
       ]
      },
      {
       "output_type": "stream",
       "stream": "stdout",
       "text": [
        "\n",
        "Reading files from /home/jotham/projects/2014-12-20_datascibowl/data/datascibowl/train/pteropod_butterfly"
       ]
      },
      {
       "output_type": "stream",
       "stream": "stdout",
       "text": [
        "\n",
        "Reading files from /home/jotham/projects/2014-12-20_datascibowl/data/datascibowl/train/tunicate_salp_chains"
       ]
      },
      {
       "output_type": "stream",
       "stream": "stdout",
       "text": [
        "\n",
        "Reading files from /home/jotham/projects/2014-12-20_datascibowl/data/datascibowl/train/copepod_calanoid_eggs"
       ]
      },
      {
       "output_type": "stream",
       "stream": "stdout",
       "text": [
        "\n",
        "Reading files from /home/jotham/projects/2014-12-20_datascibowl/data/datascibowl/train/euphausiids"
       ]
      },
      {
       "output_type": "stream",
       "stream": "stdout",
       "text": [
        "\n",
        "Reading files from /home/jotham/projects/2014-12-20_datascibowl/data/datascibowl/train/copepod_other"
       ]
      },
      {
       "output_type": "stream",
       "stream": "stdout",
       "text": [
        "\n",
        "Reading files from /home/jotham/projects/2014-12-20_datascibowl/data/datascibowl/train/shrimp_zoea\n",
        "Reading files from /home/jotham/projects/2014-12-20_datascibowl/data/datascibowl/train/tunicate_doliolid_nurse"
       ]
      },
      {
       "output_type": "stream",
       "stream": "stdout",
       "text": [
        "\n",
        "Reading files from /home/jotham/projects/2014-12-20_datascibowl/data/datascibowl/train/copepod_calanoid_flatheads"
       ]
      },
      {
       "output_type": "stream",
       "stream": "stdout",
       "text": [
        "\n",
        "Reading files from /home/jotham/projects/2014-12-20_datascibowl/data/datascibowl/train/siphonophore_calycophoran_rocketship_adult"
       ]
      },
      {
       "output_type": "stream",
       "stream": "stdout",
       "text": [
        "\n",
        "Reading files from /home/jotham/projects/2014-12-20_datascibowl/data/datascibowl/train/ephyra"
       ]
      },
      {
       "output_type": "stream",
       "stream": "stdout",
       "text": [
        "\n",
        "Reading files from /home/jotham/projects/2014-12-20_datascibowl/data/datascibowl/train/copepod_calanoid\n",
        "Reading files from /home/jotham/projects/2014-12-20_datascibowl/data/datascibowl/train/fish_larvae_thin_body"
       ]
      },
      {
       "output_type": "stream",
       "stream": "stdout",
       "text": [
        "\n",
        "Reading files from /home/jotham/projects/2014-12-20_datascibowl/data/datascibowl/train/radiolarian_chain\n",
        "Reading files from /home/jotham/projects/2014-12-20_datascibowl/data/datascibowl/train/hydromedusae_shapeA_sideview_small"
       ]
      },
      {
       "output_type": "stream",
       "stream": "stdout",
       "text": [
        "\n",
        "Reading files from /home/jotham/projects/2014-12-20_datascibowl/data/datascibowl/train/fish_larvae_leptocephali"
       ]
      },
      {
       "output_type": "stream",
       "stream": "stdout",
       "text": [
        "\n",
        "Reading files from /home/jotham/projects/2014-12-20_datascibowl/data/datascibowl/train/hydromedusae_haliscera_small_sideview\n",
        "Reading files from /home/jotham/projects/2014-12-20_datascibowl/data/datascibowl/train/acantharia_protist_halo\n",
        "Reading files from /home/jotham/projects/2014-12-20_datascibowl/data/datascibowl/train/stomatopod"
       ]
      },
      {
       "output_type": "stream",
       "stream": "stdout",
       "text": [
        "\n",
        "Reading files from /home/jotham/projects/2014-12-20_datascibowl/data/datascibowl/train/protist_star\n",
        "Reading files from /home/jotham/projects/2014-12-20_datascibowl/data/datascibowl/train/protist_noctiluca"
       ]
      },
      {
       "output_type": "stream",
       "stream": "stdout",
       "text": [
        "\n",
        "Reading files from /home/jotham/projects/2014-12-20_datascibowl/data/datascibowl/train/copepod_cyclopoid_oithona_eggs"
       ]
      },
      {
       "output_type": "stream",
       "stream": "stdout",
       "text": [
        "\n",
        "Reading files from /home/jotham/projects/2014-12-20_datascibowl/data/datascibowl/train/echinoderm_larva_pluteus_typeC"
       ]
      },
      {
       "output_type": "stream",
       "stream": "stdout",
       "text": [
        "\n",
        "Reading files from /home/jotham/projects/2014-12-20_datascibowl/data/datascibowl/train/jellies_tentacles"
       ]
      },
      {
       "output_type": "stream",
       "stream": "stdout",
       "text": [
        "\n",
        "Reading files from /home/jotham/projects/2014-12-20_datascibowl/data/datascibowl/train/siphonophore_physonect_young"
       ]
      },
      {
       "output_type": "stream",
       "stream": "stdout",
       "text": [
        "\n",
        "Reading files from /home/jotham/projects/2014-12-20_datascibowl/data/datascibowl/train/detritus_blob\n",
        "Reading files from /home/jotham/projects/2014-12-20_datascibowl/data/datascibowl/train/unknown_unclassified"
       ]
      },
      {
       "output_type": "stream",
       "stream": "stdout",
       "text": [
        "\n",
        "Reading files from /home/jotham/projects/2014-12-20_datascibowl/data/datascibowl/train/unknown_sticks"
       ]
      },
      {
       "output_type": "stream",
       "stream": "stdout",
       "text": [
        "\n",
        "Reading files from /home/jotham/projects/2014-12-20_datascibowl/data/datascibowl/train/siphonophore_calycophoran_sphaeronectes_stem"
       ]
      },
      {
       "output_type": "stream",
       "stream": "stdout",
       "text": [
        "\n",
        "Reading files from /home/jotham/projects/2014-12-20_datascibowl/data/datascibowl/train/echinopluteus\n",
        "Reading files from /home/jotham/projects/2014-12-20_datascibowl/data/datascibowl/train/heteropod"
       ]
      },
      {
       "output_type": "stream",
       "stream": "stdout",
       "text": [
        "\n",
        "Reading files from /home/jotham/projects/2014-12-20_datascibowl/data/datascibowl/train/unknown_blobs_and_smudges\n",
        "Reading files from /home/jotham/projects/2014-12-20_datascibowl/data/datascibowl/train/echinoderm_larva_seastar_bipinnaria"
       ]
      },
      {
       "output_type": "stream",
       "stream": "stdout",
       "text": [
        "\n",
        "Reading files from /home/jotham/projects/2014-12-20_datascibowl/data/datascibowl/train/echinoderm_larva_seastar_brachiolaria"
       ]
      },
      {
       "output_type": "stream",
       "stream": "stdout",
       "text": [
        "\n",
        "Reading files from /home/jotham/projects/2014-12-20_datascibowl/data/datascibowl/train/copepod_cyclopoid_copilia"
       ]
      },
      {
       "output_type": "stream",
       "stream": "stdout",
       "text": [
        "\n",
        "Reading files from /home/jotham/projects/2014-12-20_datascibowl/data/datascibowl/train/chaetognath_non_sagitta\n",
        "Reading files from /home/jotham/projects/2014-12-20_datascibowl/data/datascibowl/train/tunicate_doliolid"
       ]
      },
      {
       "output_type": "stream",
       "stream": "stdout",
       "text": [
        "\n",
        "Reading files from /home/jotham/projects/2014-12-20_datascibowl/data/datascibowl/train/hydromedusae_liriope"
       ]
      },
      {
       "output_type": "stream",
       "stream": "stdout",
       "text": [
        "\n",
        "Reading files from /home/jotham/projects/2014-12-20_datascibowl/data/datascibowl/train/ctenophore_cydippid_tentacles\n",
        "Reading files from /home/jotham/projects/2014-12-20_datascibowl/data/datascibowl/train/siphonophore_calycophoran_rocketship_young"
       ]
      },
      {
       "output_type": "stream",
       "stream": "stdout",
       "text": [
        "\n",
        "Reading files from /home/jotham/projects/2014-12-20_datascibowl/data/datascibowl/train/copepod_calanoid_large_side_antennatucked"
       ]
      },
      {
       "output_type": "stream",
       "stream": "stdout",
       "text": [
        "\n",
        "Reading files from /home/jotham/projects/2014-12-20_datascibowl/data/datascibowl/train/fish_larvae_deep_body"
       ]
      },
      {
       "output_type": "stream",
       "stream": "stdout",
       "text": [
        "\n",
        "Reading files from /home/jotham/projects/2014-12-20_datascibowl/data/datascibowl/train/ctenophore_cydippid_no_tentacles\n",
        "Reading files from /home/jotham/projects/2014-12-20_datascibowl/data/datascibowl/train/hydromedusae_solmundella\n",
        "Reading files from /home/jotham/projects/2014-12-20_datascibowl/data/datascibowl/train/trichodesmium_puff"
       ]
      },
      {
       "output_type": "stream",
       "stream": "stdout",
       "text": [
        "\n",
        "Reading files from /home/jotham/projects/2014-12-20_datascibowl/data/datascibowl/train/hydromedusae_partial_dark"
       ]
      },
      {
       "output_type": "stream",
       "stream": "stdout",
       "text": [
        "\n",
        "Reading files from /home/jotham/projects/2014-12-20_datascibowl/data/datascibowl/train/hydromedusae_narco_young"
       ]
      },
      {
       "output_type": "stream",
       "stream": "stdout",
       "text": [
        "\n",
        "Reading files from /home/jotham/projects/2014-12-20_datascibowl/data/datascibowl/train/polychaete"
       ]
      },
      {
       "output_type": "stream",
       "stream": "stdout",
       "text": [
        "\n",
        "Reading files from /home/jotham/projects/2014-12-20_datascibowl/data/datascibowl/train/protist_other"
       ]
      },
      {
       "output_type": "stream",
       "stream": "stdout",
       "text": [
        "\n",
        "Reading files from /home/jotham/projects/2014-12-20_datascibowl/data/datascibowl/train/copepod_calanoid_octomoms"
       ]
      },
      {
       "output_type": "stream",
       "stream": "stdout",
       "text": [
        "\n",
        "Reading files from /home/jotham/projects/2014-12-20_datascibowl/data/datascibowl/train/acantharia_protist_big_center\n",
        "Reading files from /home/jotham/projects/2014-12-20_datascibowl/data/datascibowl/train/diatom_chain_tube\n",
        "Reading files from /home/jotham/projects/2014-12-20_datascibowl/data/datascibowl/train/fish_larvae_medium_body"
       ]
      },
      {
       "output_type": "stream",
       "stream": "stdout",
       "text": [
        "\n",
        "Reading files from /home/jotham/projects/2014-12-20_datascibowl/data/datascibowl/train/shrimp_sergestidae"
       ]
      },
      {
       "output_type": "stream",
       "stream": "stdout",
       "text": [
        "\n",
        "Reading files from /home/jotham/projects/2014-12-20_datascibowl/data/datascibowl/train/pteropod_theco_dev_seq"
       ]
      },
      {
       "output_type": "stream",
       "stream": "stdout",
       "text": [
        "\n",
        "Reading files from /home/jotham/projects/2014-12-20_datascibowl/data/datascibowl/train/siphonophore_partial\n",
        "Reading files from /home/jotham/projects/2014-12-20_datascibowl/data/datascibowl/train/protist_fuzzy_olive\n",
        "Reading files from /home/jotham/projects/2014-12-20_datascibowl/data/datascibowl/train/appendicularian_fritillaridae"
       ]
      },
      {
       "output_type": "stream",
       "stream": "stdout",
       "text": [
        "\n",
        "Reading files from /home/jotham/projects/2014-12-20_datascibowl/data/datascibowl/train/radiolarian_colony\n",
        "topo_view.shape: (30336, 32, 32, 1)"
       ]
      },
      {
       "output_type": "stream",
       "stream": "stdout",
       "text": [
        "\n",
        "NAs: 0\n",
        "Swapping 0 and 24158\n",
        "Swapping 1000 and 507\n",
        "Swapping 2000 and 10329"
       ]
      },
      {
       "output_type": "stream",
       "stream": "stdout",
       "text": [
        "\n",
        "Swapping 3000 and 12566\n",
        "Swapping 4000 and 5782\n",
        "Swapping 5000 and 14421\n",
        "Swapping 6000 and 25855\n",
        "Swapping 7000 and 19226\n",
        "Swapping 8000 and 5480\n",
        "Swapping 9000 and 14824"
       ]
      },
      {
       "output_type": "stream",
       "stream": "stdout",
       "text": [
        "\n",
        "Swapping 10000 and 7481\n",
        "Swapping 11000 and 4899\n",
        "Swapping 12000 and 547\n",
        "Swapping 13000 and 17117\n",
        "Swapping 14000 and 15848\n",
        "Swapping 15000 and 26705\n",
        "Swapping 16000 and 11752"
       ]
      },
      {
       "output_type": "stream",
       "stream": "stdout",
       "text": [
        "\n",
        "Swapping 17000 and 13157\n",
        "Swapping 18000 and 19743\n",
        "Swapping 19000 and 29262\n",
        "Swapping 20000 and 10984\n",
        "Swapping 21000 and 9312\n",
        "Swapping 22000 and 14681\n",
        "Swapping 23000 and 22392"
       ]
      },
      {
       "output_type": "stream",
       "stream": "stdout",
       "text": [
        "\n",
        "Swapping 24000 and 8749\n",
        "Swapping 25000 and 14310\n",
        "Swapping 26000 and 223\n",
        "Swapping 27000 and 9727\n",
        "Swapping 28000 and 13098\n",
        "Swapping 29000 and 4946\n",
        "Swapping 30000 and 19434"
       ]
      },
      {
       "output_type": "stream",
       "stream": "stdout",
       "text": [
        "\n",
        "Looking for data in /home/jotham/projects/2014-12-20_datascibowl/data/datascibowl/train\n",
        "Found 30336 images"
       ]
      },
      {
       "output_type": "stream",
       "stream": "stdout",
       "text": [
        "\n",
        "Reading files from /home/jotham/projects/2014-12-20_datascibowl/data/datascibowl/train/euphausiids_young\n",
        "Reading files from /home/jotham/projects/2014-12-20_datascibowl/data/datascibowl/train/hydromedusae_narcomedusae\n",
        "Reading files from /home/jotham/projects/2014-12-20_datascibowl/data/datascibowl/train/copepod_calanoid_small_longantennae"
       ]
      },
      {
       "output_type": "stream",
       "stream": "stdout",
       "text": [
        "\n",
        "Reading files from /home/jotham/projects/2014-12-20_datascibowl/data/datascibowl/train/appendicularian_s_shape"
       ]
      },
      {
       "output_type": "stream",
       "stream": "stdout",
       "text": [
        "\n",
        "Reading files from /home/jotham/projects/2014-12-20_datascibowl/data/datascibowl/train/decapods"
       ]
      },
      {
       "output_type": "stream",
       "stream": "stdout",
       "text": [
        "\n",
        "Reading files from /home/jotham/projects/2014-12-20_datascibowl/data/datascibowl/train/hydromedusae_typeD_bell_and_tentacles\n",
        "Reading files from /home/jotham/projects/2014-12-20_datascibowl/data/datascibowl/train/crustacean_other"
       ]
      },
      {
       "output_type": "stream",
       "stream": "stdout",
       "text": [
        "\n",
        "Reading files from /home/jotham/projects/2014-12-20_datascibowl/data/datascibowl/train/hydromedusae_bell_and_tentacles"
       ]
      },
      {
       "output_type": "stream",
       "stream": "stdout",
       "text": [
        "\n",
        "Reading files from /home/jotham/projects/2014-12-20_datascibowl/data/datascibowl/train/echinoderm_larva_pluteus_brittlestar"
       ]
      },
      {
       "output_type": "stream",
       "stream": "stdout",
       "text": [
        "\n",
        "Reading files from /home/jotham/projects/2014-12-20_datascibowl/data/datascibowl/train/invertebrate_larvae_other_B\n",
        "Reading files from /home/jotham/projects/2014-12-20_datascibowl/data/datascibowl/train/hydromedusae_solmaris\n",
        "Reading files from /home/jotham/projects/2014-12-20_datascibowl/data/datascibowl/train/chaetognath_sagitta"
       ]
      },
      {
       "output_type": "stream",
       "stream": "stdout",
       "text": [
        "\n",
        "Reading files from /home/jotham/projects/2014-12-20_datascibowl/data/datascibowl/train/hydromedusae_shapeA"
       ]
      },
      {
       "output_type": "stream",
       "stream": "stdout",
       "text": [
        "\n",
        "Reading files from /home/jotham/projects/2014-12-20_datascibowl/data/datascibowl/train/hydromedusae_shapeB"
       ]
      },
      {
       "output_type": "stream",
       "stream": "stdout",
       "text": [
        "\n",
        "Reading files from /home/jotham/projects/2014-12-20_datascibowl/data/datascibowl/train/hydromedusae_haliscera"
       ]
      },
      {
       "output_type": "stream",
       "stream": "stdout",
       "text": [
        "\n",
        "Reading files from /home/jotham/projects/2014-12-20_datascibowl/data/datascibowl/train/hydromedusae_typeE"
       ]
      },
      {
       "output_type": "stream",
       "stream": "stdout",
       "text": [
        "\n",
        "Reading files from /home/jotham/projects/2014-12-20_datascibowl/data/datascibowl/train/hydromedusae_h15\n",
        "Reading files from /home/jotham/projects/2014-12-20_datascibowl/data/datascibowl/train/artifacts_edge\n",
        "Reading files from /home/jotham/projects/2014-12-20_datascibowl/data/datascibowl/train/copepod_calanoid_frillyAntennae"
       ]
      },
      {
       "output_type": "stream",
       "stream": "stdout",
       "text": [
        "\n",
        "Reading files from /home/jotham/projects/2014-12-20_datascibowl/data/datascibowl/train/copepod_calanoid_large\n",
        "Reading files from /home/jotham/projects/2014-12-20_datascibowl/data/datascibowl/train/siphonophore_calycophoran_abylidae"
       ]
      },
      {
       "output_type": "stream",
       "stream": "stdout",
       "text": [
        "\n",
        "Reading files from /home/jotham/projects/2014-12-20_datascibowl/data/datascibowl/train/invertebrate_larvae_other_A"
       ]
      },
      {
       "output_type": "stream",
       "stream": "stdout",
       "text": [
        "\n",
        "Reading files from /home/jotham/projects/2014-12-20_datascibowl/data/datascibowl/train/protist_dark_center\n",
        "Reading files from /home/jotham/projects/2014-12-20_datascibowl/data/datascibowl/train/ctenophore_cestid"
       ]
      },
      {
       "output_type": "stream",
       "stream": "stdout",
       "text": [
        "\n",
        "Reading files from /home/jotham/projects/2014-12-20_datascibowl/data/datascibowl/train/trichodesmium_tuft"
       ]
      },
      {
       "output_type": "stream",
       "stream": "stdout",
       "text": [
        "\n",
        "Reading files from /home/jotham/projects/2014-12-20_datascibowl/data/datascibowl/train/detritus_other"
       ]
      },
      {
       "output_type": "stream",
       "stream": "stdout",
       "text": [
        "\n",
        "Reading files from /home/jotham/projects/2014-12-20_datascibowl/data/datascibowl/train/tornaria_acorn_worm_larvae"
       ]
      },
      {
       "output_type": "stream",
       "stream": "stdout",
       "text": [
        "\n",
        "Reading files from /home/jotham/projects/2014-12-20_datascibowl/data/datascibowl/train/hydromedusae_other\n",
        "Reading files from /home/jotham/projects/2014-12-20_datascibowl/data/datascibowl/train/tunicate_salp\n",
        "Reading files from /home/jotham/projects/2014-12-20_datascibowl/data/datascibowl/train/shrimp_caridean"
       ]
      },
      {
       "output_type": "stream",
       "stream": "stdout",
       "text": [
        "\n",
        "Reading files from /home/jotham/projects/2014-12-20_datascibowl/data/datascibowl/train/copepod_cyclopoid_oithona\n",
        "Reading files from /home/jotham/projects/2014-12-20_datascibowl/data/datascibowl/train/hydromedusae_sideview_big"
       ]
      },
      {
       "output_type": "stream",
       "stream": "stdout",
       "text": [
        "\n",
        "Reading files from /home/jotham/projects/2014-12-20_datascibowl/data/datascibowl/train/trochophore_larvae"
       ]
      },
      {
       "output_type": "stream",
       "stream": "stdout",
       "text": [
        "\n",
        "Reading files from /home/jotham/projects/2014-12-20_datascibowl/data/datascibowl/train/artifacts\n",
        "Reading files from /home/jotham/projects/2014-12-20_datascibowl/data/datascibowl/train/acantharia_protist"
       ]
      },
      {
       "output_type": "stream",
       "stream": "stdout",
       "text": [
        "\n",
        "Reading files from /home/jotham/projects/2014-12-20_datascibowl/data/datascibowl/train/ctenophore_lobate"
       ]
      },
      {
       "output_type": "stream",
       "stream": "stdout",
       "text": [
        "\n",
        "Reading files from /home/jotham/projects/2014-12-20_datascibowl/data/datascibowl/train/copepod_calanoid_eucalanus\n",
        "Reading files from /home/jotham/projects/2014-12-20_datascibowl/data/datascibowl/train/siphonophore_calycophoran_sphaeronectes_young"
       ]
      },
      {
       "output_type": "stream",
       "stream": "stdout",
       "text": [
        "\n",
        "Reading files from /home/jotham/projects/2014-12-20_datascibowl/data/datascibowl/train/fish_larvae_myctophids"
       ]
      },
      {
       "output_type": "stream",
       "stream": "stdout",
       "text": [
        "\n",
        "Reading files from /home/jotham/projects/2014-12-20_datascibowl/data/datascibowl/train/echinoderm_larva_pluteus_early"
       ]
      },
      {
       "output_type": "stream",
       "stream": "stdout",
       "text": [
        "\n",
        "Reading files from /home/jotham/projects/2014-12-20_datascibowl/data/datascibowl/train/hydromedusae_aglaura"
       ]
      },
      {
       "output_type": "stream",
       "stream": "stdout",
       "text": [
        "\n",
        "Reading files from /home/jotham/projects/2014-12-20_datascibowl/data/datascibowl/train/echinoderm_larva_pluteus_urchin"
       ]
      },
      {
       "output_type": "stream",
       "stream": "stdout",
       "text": [
        "\n",
        "Reading files from /home/jotham/projects/2014-12-20_datascibowl/data/datascibowl/train/tunicate_partial"
       ]
      },
      {
       "output_type": "stream",
       "stream": "stdout",
       "text": [
        "\n",
        "Reading files from /home/jotham/projects/2014-12-20_datascibowl/data/datascibowl/train/pteropod_triangle"
       ]
      },
      {
       "output_type": "stream",
       "stream": "stdout",
       "text": [
        "\n",
        "Reading files from /home/jotham/projects/2014-12-20_datascibowl/data/datascibowl/train/echinoderm_seacucumber_auricularia_larva\n",
        "Reading files from /home/jotham/projects/2014-12-20_datascibowl/data/datascibowl/train/hydromedusae_typeD"
       ]
      },
      {
       "output_type": "stream",
       "stream": "stdout",
       "text": [
        "\n",
        "Reading files from /home/jotham/projects/2014-12-20_datascibowl/data/datascibowl/train/siphonophore_calycophoran_sphaeronectes\n",
        "Reading files from /home/jotham/projects/2014-12-20_datascibowl/data/datascibowl/train/chordate_type1"
       ]
      },
      {
       "output_type": "stream",
       "stream": "stdout",
       "text": [
        "\n",
        "Reading files from /home/jotham/projects/2014-12-20_datascibowl/data/datascibowl/train/trichodesmium_multiple\n",
        "Reading files from /home/jotham/projects/2014-12-20_datascibowl/data/datascibowl/train/appendicularian_straight"
       ]
      },
      {
       "output_type": "stream",
       "stream": "stdout",
       "text": [
        "\n",
        "Reading files from /home/jotham/projects/2014-12-20_datascibowl/data/datascibowl/train/appendicularian_slight_curve"
       ]
      },
      {
       "output_type": "stream",
       "stream": "stdout",
       "text": [
        "\n",
        "Reading files from /home/jotham/projects/2014-12-20_datascibowl/data/datascibowl/train/hydromedusae_typeF"
       ]
      },
      {
       "output_type": "stream",
       "stream": "stdout",
       "text": [
        "\n",
        "Reading files from /home/jotham/projects/2014-12-20_datascibowl/data/datascibowl/train/fecal_pellet\n",
        "Reading files from /home/jotham/projects/2014-12-20_datascibowl/data/datascibowl/train/hydromedusae_narco_dark"
       ]
      },
      {
       "output_type": "stream",
       "stream": "stdout",
       "text": [
        "\n",
        "Reading files from /home/jotham/projects/2014-12-20_datascibowl/data/datascibowl/train/shrimp-like_other\n",
        "Reading files from /home/jotham/projects/2014-12-20_datascibowl/data/datascibowl/train/diatom_chain_string\n",
        "Reading files from /home/jotham/projects/2014-12-20_datascibowl/data/datascibowl/train/fish_larvae_very_thin_body"
       ]
      },
      {
       "output_type": "stream",
       "stream": "stdout",
       "text": [
        "\n",
        "Reading files from /home/jotham/projects/2014-12-20_datascibowl/data/datascibowl/train/detritus_filamentous\n",
        "Reading files from /home/jotham/projects/2014-12-20_datascibowl/data/datascibowl/train/amphipods"
       ]
      },
      {
       "output_type": "stream",
       "stream": "stdout",
       "text": [
        "\n",
        "Reading files from /home/jotham/projects/2014-12-20_datascibowl/data/datascibowl/train/siphonophore_other_parts\n",
        "Reading files from /home/jotham/projects/2014-12-20_datascibowl/data/datascibowl/train/trichodesmium_bowtie"
       ]
      },
      {
       "output_type": "stream",
       "stream": "stdout",
       "text": [
        "\n",
        "Reading files from /home/jotham/projects/2014-12-20_datascibowl/data/datascibowl/train/siphonophore_physonect"
       ]
      },
      {
       "output_type": "stream",
       "stream": "stdout",
       "text": [
        "\n",
        "Reading files from /home/jotham/projects/2014-12-20_datascibowl/data/datascibowl/train/chaetognath_other"
       ]
      },
      {
       "output_type": "stream",
       "stream": "stdout",
       "text": [
        "\n",
        "Reading files from /home/jotham/projects/2014-12-20_datascibowl/data/datascibowl/train/pteropod_butterfly"
       ]
      },
      {
       "output_type": "stream",
       "stream": "stdout",
       "text": [
        "\n",
        "Reading files from /home/jotham/projects/2014-12-20_datascibowl/data/datascibowl/train/tunicate_salp_chains"
       ]
      },
      {
       "output_type": "stream",
       "stream": "stdout",
       "text": [
        "\n",
        "Reading files from /home/jotham/projects/2014-12-20_datascibowl/data/datascibowl/train/copepod_calanoid_eggs"
       ]
      },
      {
       "output_type": "stream",
       "stream": "stdout",
       "text": [
        "\n",
        "Reading files from /home/jotham/projects/2014-12-20_datascibowl/data/datascibowl/train/euphausiids"
       ]
      },
      {
       "output_type": "stream",
       "stream": "stdout",
       "text": [
        "\n",
        "Reading files from /home/jotham/projects/2014-12-20_datascibowl/data/datascibowl/train/copepod_other"
       ]
      },
      {
       "output_type": "stream",
       "stream": "stdout",
       "text": [
        "\n",
        "Reading files from /home/jotham/projects/2014-12-20_datascibowl/data/datascibowl/train/shrimp_zoea\n",
        "Reading files from /home/jotham/projects/2014-12-20_datascibowl/data/datascibowl/train/tunicate_doliolid_nurse"
       ]
      },
      {
       "output_type": "stream",
       "stream": "stdout",
       "text": [
        "\n",
        "Reading files from /home/jotham/projects/2014-12-20_datascibowl/data/datascibowl/train/copepod_calanoid_flatheads"
       ]
      },
      {
       "output_type": "stream",
       "stream": "stdout",
       "text": [
        "\n",
        "Reading files from /home/jotham/projects/2014-12-20_datascibowl/data/datascibowl/train/siphonophore_calycophoran_rocketship_adult"
       ]
      },
      {
       "output_type": "stream",
       "stream": "stdout",
       "text": [
        "\n",
        "Reading files from /home/jotham/projects/2014-12-20_datascibowl/data/datascibowl/train/ephyra"
       ]
      },
      {
       "output_type": "stream",
       "stream": "stdout",
       "text": [
        "\n",
        "Reading files from /home/jotham/projects/2014-12-20_datascibowl/data/datascibowl/train/copepod_calanoid\n",
        "Reading files from /home/jotham/projects/2014-12-20_datascibowl/data/datascibowl/train/fish_larvae_thin_body"
       ]
      },
      {
       "output_type": "stream",
       "stream": "stdout",
       "text": [
        "\n",
        "Reading files from /home/jotham/projects/2014-12-20_datascibowl/data/datascibowl/train/radiolarian_chain\n",
        "Reading files from /home/jotham/projects/2014-12-20_datascibowl/data/datascibowl/train/hydromedusae_shapeA_sideview_small"
       ]
      },
      {
       "output_type": "stream",
       "stream": "stdout",
       "text": [
        "\n",
        "Reading files from /home/jotham/projects/2014-12-20_datascibowl/data/datascibowl/train/fish_larvae_leptocephali"
       ]
      },
      {
       "output_type": "stream",
       "stream": "stdout",
       "text": [
        "\n",
        "Reading files from /home/jotham/projects/2014-12-20_datascibowl/data/datascibowl/train/hydromedusae_haliscera_small_sideview\n",
        "Reading files from /home/jotham/projects/2014-12-20_datascibowl/data/datascibowl/train/acantharia_protist_halo\n",
        "Reading files from /home/jotham/projects/2014-12-20_datascibowl/data/datascibowl/train/stomatopod"
       ]
      },
      {
       "output_type": "stream",
       "stream": "stdout",
       "text": [
        "\n",
        "Reading files from /home/jotham/projects/2014-12-20_datascibowl/data/datascibowl/train/protist_star\n",
        "Reading files from /home/jotham/projects/2014-12-20_datascibowl/data/datascibowl/train/protist_noctiluca"
       ]
      },
      {
       "output_type": "stream",
       "stream": "stdout",
       "text": [
        "\n",
        "Reading files from /home/jotham/projects/2014-12-20_datascibowl/data/datascibowl/train/copepod_cyclopoid_oithona_eggs"
       ]
      },
      {
       "output_type": "stream",
       "stream": "stdout",
       "text": [
        "\n",
        "Reading files from /home/jotham/projects/2014-12-20_datascibowl/data/datascibowl/train/echinoderm_larva_pluteus_typeC"
       ]
      },
      {
       "output_type": "stream",
       "stream": "stdout",
       "text": [
        "\n",
        "Reading files from /home/jotham/projects/2014-12-20_datascibowl/data/datascibowl/train/jellies_tentacles"
       ]
      },
      {
       "output_type": "stream",
       "stream": "stdout",
       "text": [
        "\n",
        "Reading files from /home/jotham/projects/2014-12-20_datascibowl/data/datascibowl/train/siphonophore_physonect_young"
       ]
      },
      {
       "output_type": "stream",
       "stream": "stdout",
       "text": [
        "\n",
        "Reading files from /home/jotham/projects/2014-12-20_datascibowl/data/datascibowl/train/detritus_blob\n",
        "Reading files from /home/jotham/projects/2014-12-20_datascibowl/data/datascibowl/train/unknown_unclassified"
       ]
      },
      {
       "output_type": "stream",
       "stream": "stdout",
       "text": [
        "\n",
        "Reading files from /home/jotham/projects/2014-12-20_datascibowl/data/datascibowl/train/unknown_sticks"
       ]
      },
      {
       "output_type": "stream",
       "stream": "stdout",
       "text": [
        "\n",
        "Reading files from /home/jotham/projects/2014-12-20_datascibowl/data/datascibowl/train/siphonophore_calycophoran_sphaeronectes_stem"
       ]
      },
      {
       "output_type": "stream",
       "stream": "stdout",
       "text": [
        "\n",
        "Reading files from /home/jotham/projects/2014-12-20_datascibowl/data/datascibowl/train/echinopluteus\n",
        "Reading files from /home/jotham/projects/2014-12-20_datascibowl/data/datascibowl/train/heteropod"
       ]
      },
      {
       "output_type": "stream",
       "stream": "stdout",
       "text": [
        "\n",
        "Reading files from /home/jotham/projects/2014-12-20_datascibowl/data/datascibowl/train/unknown_blobs_and_smudges\n",
        "Reading files from /home/jotham/projects/2014-12-20_datascibowl/data/datascibowl/train/echinoderm_larva_seastar_bipinnaria"
       ]
      },
      {
       "output_type": "stream",
       "stream": "stdout",
       "text": [
        "\n",
        "Reading files from /home/jotham/projects/2014-12-20_datascibowl/data/datascibowl/train/echinoderm_larva_seastar_brachiolaria"
       ]
      },
      {
       "output_type": "stream",
       "stream": "stdout",
       "text": [
        "\n",
        "Reading files from /home/jotham/projects/2014-12-20_datascibowl/data/datascibowl/train/copepod_cyclopoid_copilia"
       ]
      },
      {
       "output_type": "stream",
       "stream": "stdout",
       "text": [
        "\n",
        "Reading files from /home/jotham/projects/2014-12-20_datascibowl/data/datascibowl/train/chaetognath_non_sagitta\n",
        "Reading files from /home/jotham/projects/2014-12-20_datascibowl/data/datascibowl/train/tunicate_doliolid"
       ]
      },
      {
       "output_type": "stream",
       "stream": "stdout",
       "text": [
        "\n",
        "Reading files from /home/jotham/projects/2014-12-20_datascibowl/data/datascibowl/train/hydromedusae_liriope"
       ]
      },
      {
       "output_type": "stream",
       "stream": "stdout",
       "text": [
        "\n",
        "Reading files from /home/jotham/projects/2014-12-20_datascibowl/data/datascibowl/train/ctenophore_cydippid_tentacles\n",
        "Reading files from /home/jotham/projects/2014-12-20_datascibowl/data/datascibowl/train/siphonophore_calycophoran_rocketship_young"
       ]
      },
      {
       "output_type": "stream",
       "stream": "stdout",
       "text": [
        "\n",
        "Reading files from /home/jotham/projects/2014-12-20_datascibowl/data/datascibowl/train/copepod_calanoid_large_side_antennatucked"
       ]
      },
      {
       "output_type": "stream",
       "stream": "stdout",
       "text": [
        "\n",
        "Reading files from /home/jotham/projects/2014-12-20_datascibowl/data/datascibowl/train/fish_larvae_deep_body"
       ]
      },
      {
       "output_type": "stream",
       "stream": "stdout",
       "text": [
        "\n",
        "Reading files from /home/jotham/projects/2014-12-20_datascibowl/data/datascibowl/train/ctenophore_cydippid_no_tentacles\n",
        "Reading files from /home/jotham/projects/2014-12-20_datascibowl/data/datascibowl/train/hydromedusae_solmundella\n",
        "Reading files from /home/jotham/projects/2014-12-20_datascibowl/data/datascibowl/train/trichodesmium_puff"
       ]
      },
      {
       "output_type": "stream",
       "stream": "stdout",
       "text": [
        "\n",
        "Reading files from /home/jotham/projects/2014-12-20_datascibowl/data/datascibowl/train/hydromedusae_partial_dark"
       ]
      },
      {
       "output_type": "stream",
       "stream": "stdout",
       "text": [
        "\n",
        "Reading files from /home/jotham/projects/2014-12-20_datascibowl/data/datascibowl/train/hydromedusae_narco_young"
       ]
      },
      {
       "output_type": "stream",
       "stream": "stdout",
       "text": [
        "\n",
        "Reading files from /home/jotham/projects/2014-12-20_datascibowl/data/datascibowl/train/polychaete"
       ]
      },
      {
       "output_type": "stream",
       "stream": "stdout",
       "text": [
        "\n",
        "Reading files from /home/jotham/projects/2014-12-20_datascibowl/data/datascibowl/train/protist_other"
       ]
      },
      {
       "output_type": "stream",
       "stream": "stdout",
       "text": [
        "\n",
        "Reading files from /home/jotham/projects/2014-12-20_datascibowl/data/datascibowl/train/copepod_calanoid_octomoms"
       ]
      },
      {
       "output_type": "stream",
       "stream": "stdout",
       "text": [
        "\n",
        "Reading files from /home/jotham/projects/2014-12-20_datascibowl/data/datascibowl/train/acantharia_protist_big_center\n",
        "Reading files from /home/jotham/projects/2014-12-20_datascibowl/data/datascibowl/train/diatom_chain_tube\n",
        "Reading files from /home/jotham/projects/2014-12-20_datascibowl/data/datascibowl/train/fish_larvae_medium_body"
       ]
      },
      {
       "output_type": "stream",
       "stream": "stdout",
       "text": [
        "\n",
        "Reading files from /home/jotham/projects/2014-12-20_datascibowl/data/datascibowl/train/shrimp_sergestidae"
       ]
      },
      {
       "output_type": "stream",
       "stream": "stdout",
       "text": [
        "\n",
        "Reading files from /home/jotham/projects/2014-12-20_datascibowl/data/datascibowl/train/pteropod_theco_dev_seq"
       ]
      },
      {
       "output_type": "stream",
       "stream": "stdout",
       "text": [
        "\n",
        "Reading files from /home/jotham/projects/2014-12-20_datascibowl/data/datascibowl/train/siphonophore_partial\n",
        "Reading files from /home/jotham/projects/2014-12-20_datascibowl/data/datascibowl/train/protist_fuzzy_olive\n",
        "Reading files from /home/jotham/projects/2014-12-20_datascibowl/data/datascibowl/train/appendicularian_fritillaridae"
       ]
      },
      {
       "output_type": "stream",
       "stream": "stdout",
       "text": [
        "\n",
        "Reading files from /home/jotham/projects/2014-12-20_datascibowl/data/datascibowl/train/radiolarian_colony\n",
        "topo_view.shape: (30336, 32, 32, 1)"
       ]
      },
      {
       "output_type": "stream",
       "stream": "stdout",
       "text": [
        "\n",
        "NAs: 0\n",
        "Swapping 0 and 24158\n",
        "Swapping 1000 and 507\n",
        "Swapping 2000 and 10329"
       ]
      },
      {
       "output_type": "stream",
       "stream": "stdout",
       "text": [
        "\n",
        "Swapping 3000 and 12566\n",
        "Swapping 4000 and 5782\n",
        "Swapping 5000 and 14421\n",
        "Swapping 6000 and 25855\n",
        "Swapping 7000 and 19226\n",
        "Swapping 8000 and 5480\n",
        "Swapping 9000 and 14824"
       ]
      },
      {
       "output_type": "stream",
       "stream": "stdout",
       "text": [
        "\n",
        "Swapping 10000 and 7481\n",
        "Swapping 11000 and 4899\n",
        "Swapping 12000 and 547\n",
        "Swapping 13000 and 17117\n",
        "Swapping 14000 and 15848\n",
        "Swapping 15000 and 26705\n",
        "Swapping 16000 and 11752"
       ]
      },
      {
       "output_type": "stream",
       "stream": "stdout",
       "text": [
        "\n",
        "Swapping 17000 and 13157\n",
        "Swapping 18000 and 19743\n",
        "Swapping 19000 and 29262\n",
        "Swapping 20000 and 10984\n",
        "Swapping 21000 and 9312\n",
        "Swapping 22000 and 14681\n",
        "Swapping 23000 and 22392"
       ]
      },
      {
       "output_type": "stream",
       "stream": "stdout",
       "text": [
        "\n",
        "Swapping 24000 and 8749\n",
        "Swapping 25000 and 14310\n",
        "Swapping 26000 and 223\n",
        "Swapping 27000 and 9727\n",
        "Swapping 28000 and 13098\n",
        "Swapping 29000 and 4946\n",
        "Swapping 30000 and 19434"
       ]
      },
      {
       "output_type": "stream",
       "stream": "stdout",
       "text": [
        "\n",
        "Parameter and initial learning rate summary:\n"
       ]
      },
      {
       "output_type": "stream",
       "stream": "stdout",
       "text": [
        "\th0_W: 0.0500000007451\n"
       ]
      },
      {
       "output_type": "stream",
       "stream": "stdout",
       "text": [
        "\th0_b: 0.0500000007451\n"
       ]
      },
      {
       "output_type": "stream",
       "stream": "stdout",
       "text": [
        "\th1_W: 0.0500000007451\n"
       ]
      },
      {
       "output_type": "stream",
       "stream": "stdout",
       "text": [
        "\th1_b: 0.0500000007451\n"
       ]
      },
      {
       "output_type": "stream",
       "stream": "stdout",
       "text": [
        "\th2_W: 0.0500000007451\n"
       ]
      },
      {
       "output_type": "stream",
       "stream": "stdout",
       "text": [
        "\th2_b: 0.0500000007451\n"
       ]
      },
      {
       "output_type": "stream",
       "stream": "stdout",
       "text": [
        "\tsoftmax_b: 0.0500000007451\n"
       ]
      },
      {
       "output_type": "stream",
       "stream": "stdout",
       "text": [
        "\tsoftmax_W: 0.0500000007451\n"
       ]
      },
      {
       "output_type": "stream",
       "stream": "stdout",
       "text": [
        "Compiling sgd_update...\n"
       ]
      },
      {
       "output_type": "stream",
       "stream": "stderr",
       "text": [
        "/home/jotham/projects/2014-12-20_datascibowl/pylearn2_fork/pylearn2/utils/iteration.py:783: UserWarning: dataset is using the old iterator interface which is deprecated and will become officially unsupported as of July 28, 2015. The dataset should implement a `get` method respecting the new interface.\n",
        "  warnings.warn(\"dataset is using the old iterator interface which \"\n"
       ]
      },
      {
       "output_type": "stream",
       "stream": "stderr",
       "text": [
        "ERROR (theano.gof.opt): Optimization failure due to: local_dnn_conv_alpha_merge\n"
       ]
      },
      {
       "output_type": "stream",
       "stream": "stderr",
       "text": [
        "ERROR:theano.gof.opt:Optimization failure due to: local_dnn_conv_alpha_merge\n"
       ]
      },
      {
       "output_type": "stream",
       "stream": "stderr",
       "text": [
        "ERROR (theano.gof.opt): TRACEBACK:\n"
       ]
      },
      {
       "output_type": "stream",
       "stream": "stderr",
       "text": [
        "ERROR:theano.gof.opt:TRACEBACK:\n"
       ]
      },
      {
       "output_type": "stream",
       "stream": "stderr",
       "text": [
        "ERROR (theano.gof.opt): Traceback (most recent call last):\n",
        "  File \"/home/jotham/venvs/2014-12-20_datascibowl/lib/python2.7/site-packages/theano/gof/opt.py\", line 1493, in process_node\n",
        "    replacements = lopt.transform(node)\n",
        "  File \"/home/jotham/venvs/2014-12-20_datascibowl/lib/python2.7/site-packages/theano/sandbox/cuda/opt_util.py\", line 56, in opt\n",
        "    lr = grab_cpu_scalar(node.inputs[0], nd=nd)\n",
        "  File \"/home/jotham/venvs/2014-12-20_datascibowl/lib/python2.7/site-packages/theano/sandbox/cuda/opt_util.py\", line 18, in grab_cpu_scalar\n",
        "    return host_from_gpu(n.inputs[0])\n",
        "NameError: global name 'host_from_gpu' is not defined\n",
        "\n"
       ]
      },
      {
       "output_type": "stream",
       "stream": "stderr",
       "text": [
        "ERROR:theano.gof.opt:Traceback (most recent call last):\n",
        "  File \"/home/jotham/venvs/2014-12-20_datascibowl/lib/python2.7/site-packages/theano/gof/opt.py\", line 1493, in process_node\n",
        "    replacements = lopt.transform(node)\n",
        "  File \"/home/jotham/venvs/2014-12-20_datascibowl/lib/python2.7/site-packages/theano/sandbox/cuda/opt_util.py\", line 56, in opt\n",
        "    lr = grab_cpu_scalar(node.inputs[0], nd=nd)\n",
        "  File \"/home/jotham/venvs/2014-12-20_datascibowl/lib/python2.7/site-packages/theano/sandbox/cuda/opt_util.py\", line 18, in grab_cpu_scalar\n",
        "    return host_from_gpu(n.inputs[0])\n",
        "NameError: global name 'host_from_gpu' is not defined\n",
        "\n"
       ]
      },
      {
       "output_type": "stream",
       "stream": "stderr",
       "text": [
        "ERROR (theano.gof.opt): Optimization failure due to: local_dnn_convw_alpha_merge\n"
       ]
      },
      {
       "output_type": "stream",
       "stream": "stderr",
       "text": [
        "ERROR:theano.gof.opt:Optimization failure due to: local_dnn_convw_alpha_merge\n"
       ]
      },
      {
       "output_type": "stream",
       "stream": "stderr",
       "text": [
        "ERROR (theano.gof.opt): TRACEBACK:\n"
       ]
      },
      {
       "output_type": "stream",
       "stream": "stderr",
       "text": [
        "ERROR:theano.gof.opt:TRACEBACK:\n"
       ]
      },
      {
       "output_type": "stream",
       "stream": "stderr",
       "text": [
        "ERROR (theano.gof.opt): Traceback (most recent call last):\n",
        "  File \"/home/jotham/venvs/2014-12-20_datascibowl/lib/python2.7/site-packages/theano/gof/opt.py\", line 1493, in process_node\n",
        "    replacements = lopt.transform(node)\n",
        "  File \"/home/jotham/venvs/2014-12-20_datascibowl/lib/python2.7/site-packages/theano/sandbox/cuda/opt_util.py\", line 56, in opt\n",
        "    lr = grab_cpu_scalar(node.inputs[0], nd=nd)\n",
        "  File \"/home/jotham/venvs/2014-12-20_datascibowl/lib/python2.7/site-packages/theano/sandbox/cuda/opt_util.py\", line 18, in grab_cpu_scalar\n",
        "    return host_from_gpu(n.inputs[0])\n",
        "NameError: global name 'host_from_gpu' is not defined\n",
        "\n"
       ]
      },
      {
       "output_type": "stream",
       "stream": "stderr",
       "text": [
        "ERROR:theano.gof.opt:Traceback (most recent call last):\n",
        "  File \"/home/jotham/venvs/2014-12-20_datascibowl/lib/python2.7/site-packages/theano/gof/opt.py\", line 1493, in process_node\n",
        "    replacements = lopt.transform(node)\n",
        "  File \"/home/jotham/venvs/2014-12-20_datascibowl/lib/python2.7/site-packages/theano/sandbox/cuda/opt_util.py\", line 56, in opt\n",
        "    lr = grab_cpu_scalar(node.inputs[0], nd=nd)\n",
        "  File \"/home/jotham/venvs/2014-12-20_datascibowl/lib/python2.7/site-packages/theano/sandbox/cuda/opt_util.py\", line 18, in grab_cpu_scalar\n",
        "    return host_from_gpu(n.inputs[0])\n",
        "NameError: global name 'host_from_gpu' is not defined\n",
        "\n"
       ]
      },
      {
       "output_type": "stream",
       "stream": "stderr",
       "text": [
        "ERROR (theano.gof.opt): Optimization failure due to: local_dnn_convi_alpha_merge\n"
       ]
      },
      {
       "output_type": "stream",
       "stream": "stderr",
       "text": [
        "ERROR:theano.gof.opt:Optimization failure due to: local_dnn_convi_alpha_merge\n"
       ]
      },
      {
       "output_type": "stream",
       "stream": "stderr",
       "text": [
        "ERROR (theano.gof.opt): TRACEBACK:\n"
       ]
      },
      {
       "output_type": "stream",
       "stream": "stderr",
       "text": [
        "ERROR:theano.gof.opt:TRACEBACK:\n"
       ]
      },
      {
       "output_type": "stream",
       "stream": "stderr",
       "text": [
        "ERROR (theano.gof.opt): Traceback (most recent call last):\n",
        "  File \"/home/jotham/venvs/2014-12-20_datascibowl/lib/python2.7/site-packages/theano/gof/opt.py\", line 1493, in process_node\n",
        "    replacements = lopt.transform(node)\n",
        "  File \"/home/jotham/venvs/2014-12-20_datascibowl/lib/python2.7/site-packages/theano/sandbox/cuda/opt_util.py\", line 56, in opt\n",
        "    lr = grab_cpu_scalar(node.inputs[0], nd=nd)\n",
        "  File \"/home/jotham/venvs/2014-12-20_datascibowl/lib/python2.7/site-packages/theano/sandbox/cuda/opt_util.py\", line 18, in grab_cpu_scalar\n",
        "    return host_from_gpu(n.inputs[0])\n",
        "NameError: global name 'host_from_gpu' is not defined\n",
        "\n"
       ]
      },
      {
       "output_type": "stream",
       "stream": "stderr",
       "text": [
        "ERROR:theano.gof.opt:Traceback (most recent call last):\n",
        "  File \"/home/jotham/venvs/2014-12-20_datascibowl/lib/python2.7/site-packages/theano/gof/opt.py\", line 1493, in process_node\n",
        "    replacements = lopt.transform(node)\n",
        "  File \"/home/jotham/venvs/2014-12-20_datascibowl/lib/python2.7/site-packages/theano/sandbox/cuda/opt_util.py\", line 56, in opt\n",
        "    lr = grab_cpu_scalar(node.inputs[0], nd=nd)\n",
        "  File \"/home/jotham/venvs/2014-12-20_datascibowl/lib/python2.7/site-packages/theano/sandbox/cuda/opt_util.py\", line 18, in grab_cpu_scalar\n",
        "    return host_from_gpu(n.inputs[0])\n",
        "NameError: global name 'host_from_gpu' is not defined\n",
        "\n"
       ]
      },
      {
       "output_type": "stream",
       "stream": "stderr",
       "text": [
        "ERROR (theano.gof.opt): Optimization failure due to: local_dnn_conv_alpha_merge\n"
       ]
      },
      {
       "output_type": "stream",
       "stream": "stderr",
       "text": [
        "ERROR:theano.gof.opt:Optimization failure due to: local_dnn_conv_alpha_merge\n"
       ]
      },
      {
       "output_type": "stream",
       "stream": "stderr",
       "text": [
        "ERROR (theano.gof.opt): TRACEBACK:\n"
       ]
      },
      {
       "output_type": "stream",
       "stream": "stderr",
       "text": [
        "ERROR:theano.gof.opt:TRACEBACK:\n"
       ]
      },
      {
       "output_type": "stream",
       "stream": "stderr",
       "text": [
        "ERROR (theano.gof.opt): Traceback (most recent call last):\n",
        "  File \"/home/jotham/venvs/2014-12-20_datascibowl/lib/python2.7/site-packages/theano/gof/opt.py\", line 1493, in process_node\n",
        "    replacements = lopt.transform(node)\n",
        "  File \"/home/jotham/venvs/2014-12-20_datascibowl/lib/python2.7/site-packages/theano/sandbox/cuda/opt_util.py\", line 56, in opt\n",
        "    lr = grab_cpu_scalar(node.inputs[0], nd=nd)\n",
        "  File \"/home/jotham/venvs/2014-12-20_datascibowl/lib/python2.7/site-packages/theano/sandbox/cuda/opt_util.py\", line 18, in grab_cpu_scalar\n",
        "    return host_from_gpu(n.inputs[0])\n",
        "NameError: global name 'host_from_gpu' is not defined\n",
        "\n"
       ]
      },
      {
       "output_type": "stream",
       "stream": "stderr",
       "text": [
        "ERROR:theano.gof.opt:Traceback (most recent call last):\n",
        "  File \"/home/jotham/venvs/2014-12-20_datascibowl/lib/python2.7/site-packages/theano/gof/opt.py\", line 1493, in process_node\n",
        "    replacements = lopt.transform(node)\n",
        "  File \"/home/jotham/venvs/2014-12-20_datascibowl/lib/python2.7/site-packages/theano/sandbox/cuda/opt_util.py\", line 56, in opt\n",
        "    lr = grab_cpu_scalar(node.inputs[0], nd=nd)\n",
        "  File \"/home/jotham/venvs/2014-12-20_datascibowl/lib/python2.7/site-packages/theano/sandbox/cuda/opt_util.py\", line 18, in grab_cpu_scalar\n",
        "    return host_from_gpu(n.inputs[0])\n",
        "NameError: global name 'host_from_gpu' is not defined\n",
        "\n"
       ]
      },
      {
       "output_type": "stream",
       "stream": "stderr",
       "text": [
        "ERROR (theano.gof.opt): Optimization failure due to: local_dnn_convw_alpha_merge\n"
       ]
      },
      {
       "output_type": "stream",
       "stream": "stderr",
       "text": [
        "ERROR:theano.gof.opt:Optimization failure due to: local_dnn_convw_alpha_merge\n"
       ]
      },
      {
       "output_type": "stream",
       "stream": "stderr",
       "text": [
        "ERROR (theano.gof.opt): TRACEBACK:\n"
       ]
      },
      {
       "output_type": "stream",
       "stream": "stderr",
       "text": [
        "ERROR:theano.gof.opt:TRACEBACK:\n"
       ]
      },
      {
       "output_type": "stream",
       "stream": "stderr",
       "text": [
        "ERROR (theano.gof.opt): Traceback (most recent call last):\n",
        "  File \"/home/jotham/venvs/2014-12-20_datascibowl/lib/python2.7/site-packages/theano/gof/opt.py\", line 1493, in process_node\n",
        "    replacements = lopt.transform(node)\n",
        "  File \"/home/jotham/venvs/2014-12-20_datascibowl/lib/python2.7/site-packages/theano/sandbox/cuda/opt_util.py\", line 56, in opt\n",
        "    lr = grab_cpu_scalar(node.inputs[0], nd=nd)\n",
        "  File \"/home/jotham/venvs/2014-12-20_datascibowl/lib/python2.7/site-packages/theano/sandbox/cuda/opt_util.py\", line 18, in grab_cpu_scalar\n",
        "    return host_from_gpu(n.inputs[0])\n",
        "NameError: global name 'host_from_gpu' is not defined\n",
        "\n"
       ]
      },
      {
       "output_type": "stream",
       "stream": "stderr",
       "text": [
        "ERROR:theano.gof.opt:Traceback (most recent call last):\n",
        "  File \"/home/jotham/venvs/2014-12-20_datascibowl/lib/python2.7/site-packages/theano/gof/opt.py\", line 1493, in process_node\n",
        "    replacements = lopt.transform(node)\n",
        "  File \"/home/jotham/venvs/2014-12-20_datascibowl/lib/python2.7/site-packages/theano/sandbox/cuda/opt_util.py\", line 56, in opt\n",
        "    lr = grab_cpu_scalar(node.inputs[0], nd=nd)\n",
        "  File \"/home/jotham/venvs/2014-12-20_datascibowl/lib/python2.7/site-packages/theano/sandbox/cuda/opt_util.py\", line 18, in grab_cpu_scalar\n",
        "    return host_from_gpu(n.inputs[0])\n",
        "NameError: global name 'host_from_gpu' is not defined\n",
        "\n"
       ]
      },
      {
       "output_type": "stream",
       "stream": "stderr",
       "text": [
        "ERROR (theano.gof.opt): Optimization failure due to: local_dnn_convi_alpha_merge\n"
       ]
      },
      {
       "output_type": "stream",
       "stream": "stderr",
       "text": [
        "ERROR:theano.gof.opt:Optimization failure due to: local_dnn_convi_alpha_merge\n"
       ]
      },
      {
       "output_type": "stream",
       "stream": "stderr",
       "text": [
        "ERROR (theano.gof.opt): TRACEBACK:\n"
       ]
      },
      {
       "output_type": "stream",
       "stream": "stderr",
       "text": [
        "ERROR:theano.gof.opt:TRACEBACK:\n"
       ]
      },
      {
       "output_type": "stream",
       "stream": "stderr",
       "text": [
        "ERROR (theano.gof.opt): Traceback (most recent call last):\n",
        "  File \"/home/jotham/venvs/2014-12-20_datascibowl/lib/python2.7/site-packages/theano/gof/opt.py\", line 1493, in process_node\n",
        "    replacements = lopt.transform(node)\n",
        "  File \"/home/jotham/venvs/2014-12-20_datascibowl/lib/python2.7/site-packages/theano/sandbox/cuda/opt_util.py\", line 56, in opt\n",
        "    lr = grab_cpu_scalar(node.inputs[0], nd=nd)\n",
        "  File \"/home/jotham/venvs/2014-12-20_datascibowl/lib/python2.7/site-packages/theano/sandbox/cuda/opt_util.py\", line 18, in grab_cpu_scalar\n",
        "    return host_from_gpu(n.inputs[0])\n",
        "NameError: global name 'host_from_gpu' is not defined\n",
        "\n"
       ]
      },
      {
       "output_type": "stream",
       "stream": "stderr",
       "text": [
        "ERROR:theano.gof.opt:Traceback (most recent call last):\n",
        "  File \"/home/jotham/venvs/2014-12-20_datascibowl/lib/python2.7/site-packages/theano/gof/opt.py\", line 1493, in process_node\n",
        "    replacements = lopt.transform(node)\n",
        "  File \"/home/jotham/venvs/2014-12-20_datascibowl/lib/python2.7/site-packages/theano/sandbox/cuda/opt_util.py\", line 56, in opt\n",
        "    lr = grab_cpu_scalar(node.inputs[0], nd=nd)\n",
        "  File \"/home/jotham/venvs/2014-12-20_datascibowl/lib/python2.7/site-packages/theano/sandbox/cuda/opt_util.py\", line 18, in grab_cpu_scalar\n",
        "    return host_from_gpu(n.inputs[0])\n",
        "NameError: global name 'host_from_gpu' is not defined\n",
        "\n"
       ]
      },
      {
       "output_type": "stream",
       "stream": "stderr",
       "text": [
        "ERROR (theano.gof.opt): Optimization failure due to: local_dnn_conv_alpha_merge\n"
       ]
      },
      {
       "output_type": "stream",
       "stream": "stderr",
       "text": [
        "ERROR:theano.gof.opt:Optimization failure due to: local_dnn_conv_alpha_merge\n"
       ]
      },
      {
       "output_type": "stream",
       "stream": "stderr",
       "text": [
        "ERROR (theano.gof.opt): TRACEBACK:\n"
       ]
      },
      {
       "output_type": "stream",
       "stream": "stderr",
       "text": [
        "ERROR:theano.gof.opt:TRACEBACK:\n"
       ]
      },
      {
       "output_type": "stream",
       "stream": "stderr",
       "text": [
        "ERROR (theano.gof.opt): Traceback (most recent call last):\n",
        "  File \"/home/jotham/venvs/2014-12-20_datascibowl/lib/python2.7/site-packages/theano/gof/opt.py\", line 1493, in process_node\n",
        "    replacements = lopt.transform(node)\n",
        "  File \"/home/jotham/venvs/2014-12-20_datascibowl/lib/python2.7/site-packages/theano/sandbox/cuda/opt_util.py\", line 56, in opt\n",
        "    lr = grab_cpu_scalar(node.inputs[0], nd=nd)\n",
        "  File \"/home/jotham/venvs/2014-12-20_datascibowl/lib/python2.7/site-packages/theano/sandbox/cuda/opt_util.py\", line 18, in grab_cpu_scalar\n",
        "    return host_from_gpu(n.inputs[0])\n",
        "NameError: global name 'host_from_gpu' is not defined\n",
        "\n"
       ]
      },
      {
       "output_type": "stream",
       "stream": "stderr",
       "text": [
        "ERROR:theano.gof.opt:Traceback (most recent call last):\n",
        "  File \"/home/jotham/venvs/2014-12-20_datascibowl/lib/python2.7/site-packages/theano/gof/opt.py\", line 1493, in process_node\n",
        "    replacements = lopt.transform(node)\n",
        "  File \"/home/jotham/venvs/2014-12-20_datascibowl/lib/python2.7/site-packages/theano/sandbox/cuda/opt_util.py\", line 56, in opt\n",
        "    lr = grab_cpu_scalar(node.inputs[0], nd=nd)\n",
        "  File \"/home/jotham/venvs/2014-12-20_datascibowl/lib/python2.7/site-packages/theano/sandbox/cuda/opt_util.py\", line 18, in grab_cpu_scalar\n",
        "    return host_from_gpu(n.inputs[0])\n",
        "NameError: global name 'host_from_gpu' is not defined\n",
        "\n"
       ]
      },
      {
       "output_type": "stream",
       "stream": "stderr",
       "text": [
        "ERROR (theano.gof.opt): Optimization failure due to: local_dnn_convw_alpha_merge\n"
       ]
      },
      {
       "output_type": "stream",
       "stream": "stderr",
       "text": [
        "ERROR:theano.gof.opt:Optimization failure due to: local_dnn_convw_alpha_merge\n"
       ]
      },
      {
       "output_type": "stream",
       "stream": "stderr",
       "text": [
        "ERROR (theano.gof.opt): TRACEBACK:\n"
       ]
      },
      {
       "output_type": "stream",
       "stream": "stderr",
       "text": [
        "ERROR:theano.gof.opt:TRACEBACK:\n"
       ]
      },
      {
       "output_type": "stream",
       "stream": "stderr",
       "text": [
        "ERROR (theano.gof.opt): Traceback (most recent call last):\n",
        "  File \"/home/jotham/venvs/2014-12-20_datascibowl/lib/python2.7/site-packages/theano/gof/opt.py\", line 1493, in process_node\n",
        "    replacements = lopt.transform(node)\n",
        "  File \"/home/jotham/venvs/2014-12-20_datascibowl/lib/python2.7/site-packages/theano/sandbox/cuda/opt_util.py\", line 56, in opt\n",
        "    lr = grab_cpu_scalar(node.inputs[0], nd=nd)\n",
        "  File \"/home/jotham/venvs/2014-12-20_datascibowl/lib/python2.7/site-packages/theano/sandbox/cuda/opt_util.py\", line 18, in grab_cpu_scalar\n",
        "    return host_from_gpu(n.inputs[0])\n",
        "NameError: global name 'host_from_gpu' is not defined\n",
        "\n"
       ]
      },
      {
       "output_type": "stream",
       "stream": "stderr",
       "text": [
        "ERROR:theano.gof.opt:Traceback (most recent call last):\n",
        "  File \"/home/jotham/venvs/2014-12-20_datascibowl/lib/python2.7/site-packages/theano/gof/opt.py\", line 1493, in process_node\n",
        "    replacements = lopt.transform(node)\n",
        "  File \"/home/jotham/venvs/2014-12-20_datascibowl/lib/python2.7/site-packages/theano/sandbox/cuda/opt_util.py\", line 56, in opt\n",
        "    lr = grab_cpu_scalar(node.inputs[0], nd=nd)\n",
        "  File \"/home/jotham/venvs/2014-12-20_datascibowl/lib/python2.7/site-packages/theano/sandbox/cuda/opt_util.py\", line 18, in grab_cpu_scalar\n",
        "    return host_from_gpu(n.inputs[0])\n",
        "NameError: global name 'host_from_gpu' is not defined\n",
        "\n"
       ]
      },
      {
       "output_type": "stream",
       "stream": "stderr",
       "text": [
        "ERROR (theano.gof.opt): Optimization failure due to: local_dnn_convi_alpha_merge\n"
       ]
      },
      {
       "output_type": "stream",
       "stream": "stderr",
       "text": [
        "ERROR:theano.gof.opt:Optimization failure due to: local_dnn_convi_alpha_merge\n"
       ]
      },
      {
       "output_type": "stream",
       "stream": "stderr",
       "text": [
        "ERROR (theano.gof.opt): TRACEBACK:\n"
       ]
      },
      {
       "output_type": "stream",
       "stream": "stderr",
       "text": [
        "ERROR:theano.gof.opt:TRACEBACK:\n"
       ]
      },
      {
       "output_type": "stream",
       "stream": "stderr",
       "text": [
        "ERROR (theano.gof.opt): Traceback (most recent call last):\n",
        "  File \"/home/jotham/venvs/2014-12-20_datascibowl/lib/python2.7/site-packages/theano/gof/opt.py\", line 1493, in process_node\n",
        "    replacements = lopt.transform(node)\n",
        "  File \"/home/jotham/venvs/2014-12-20_datascibowl/lib/python2.7/site-packages/theano/sandbox/cuda/opt_util.py\", line 56, in opt\n",
        "    lr = grab_cpu_scalar(node.inputs[0], nd=nd)\n",
        "  File \"/home/jotham/venvs/2014-12-20_datascibowl/lib/python2.7/site-packages/theano/sandbox/cuda/opt_util.py\", line 18, in grab_cpu_scalar\n",
        "    return host_from_gpu(n.inputs[0])\n",
        "NameError: global name 'host_from_gpu' is not defined\n",
        "\n"
       ]
      },
      {
       "output_type": "stream",
       "stream": "stderr",
       "text": [
        "ERROR:theano.gof.opt:Traceback (most recent call last):\n",
        "  File \"/home/jotham/venvs/2014-12-20_datascibowl/lib/python2.7/site-packages/theano/gof/opt.py\", line 1493, in process_node\n",
        "    replacements = lopt.transform(node)\n",
        "  File \"/home/jotham/venvs/2014-12-20_datascibowl/lib/python2.7/site-packages/theano/sandbox/cuda/opt_util.py\", line 56, in opt\n",
        "    lr = grab_cpu_scalar(node.inputs[0], nd=nd)\n",
        "  File \"/home/jotham/venvs/2014-12-20_datascibowl/lib/python2.7/site-packages/theano/sandbox/cuda/opt_util.py\", line 18, in grab_cpu_scalar\n",
        "    return host_from_gpu(n.inputs[0])\n",
        "NameError: global name 'host_from_gpu' is not defined\n",
        "\n"
       ]
      },
      {
       "output_type": "stream",
       "stream": "stderr",
       "text": [
        "ERROR (theano.gof.opt): Optimization failure due to: local_dnn_conv_alpha_merge\n"
       ]
      },
      {
       "output_type": "stream",
       "stream": "stderr",
       "text": [
        "ERROR:theano.gof.opt:Optimization failure due to: local_dnn_conv_alpha_merge\n"
       ]
      },
      {
       "output_type": "stream",
       "stream": "stderr",
       "text": [
        "ERROR (theano.gof.opt): TRACEBACK:\n"
       ]
      },
      {
       "output_type": "stream",
       "stream": "stderr",
       "text": [
        "ERROR:theano.gof.opt:TRACEBACK:\n"
       ]
      },
      {
       "output_type": "stream",
       "stream": "stderr",
       "text": [
        "ERROR (theano.gof.opt): Traceback (most recent call last):\n",
        "  File \"/home/jotham/venvs/2014-12-20_datascibowl/lib/python2.7/site-packages/theano/gof/opt.py\", line 1493, in process_node\n",
        "    replacements = lopt.transform(node)\n",
        "  File \"/home/jotham/venvs/2014-12-20_datascibowl/lib/python2.7/site-packages/theano/sandbox/cuda/opt_util.py\", line 56, in opt\n",
        "    lr = grab_cpu_scalar(node.inputs[0], nd=nd)\n",
        "  File \"/home/jotham/venvs/2014-12-20_datascibowl/lib/python2.7/site-packages/theano/sandbox/cuda/opt_util.py\", line 18, in grab_cpu_scalar\n",
        "    return host_from_gpu(n.inputs[0])\n",
        "NameError: global name 'host_from_gpu' is not defined\n",
        "\n"
       ]
      },
      {
       "output_type": "stream",
       "stream": "stderr",
       "text": [
        "ERROR:theano.gof.opt:Traceback (most recent call last):\n",
        "  File \"/home/jotham/venvs/2014-12-20_datascibowl/lib/python2.7/site-packages/theano/gof/opt.py\", line 1493, in process_node\n",
        "    replacements = lopt.transform(node)\n",
        "  File \"/home/jotham/venvs/2014-12-20_datascibowl/lib/python2.7/site-packages/theano/sandbox/cuda/opt_util.py\", line 56, in opt\n",
        "    lr = grab_cpu_scalar(node.inputs[0], nd=nd)\n",
        "  File \"/home/jotham/venvs/2014-12-20_datascibowl/lib/python2.7/site-packages/theano/sandbox/cuda/opt_util.py\", line 18, in grab_cpu_scalar\n",
        "    return host_from_gpu(n.inputs[0])\n",
        "NameError: global name 'host_from_gpu' is not defined\n",
        "\n"
       ]
      },
      {
       "output_type": "stream",
       "stream": "stderr",
       "text": [
        "ERROR (theano.gof.opt): Optimization failure due to: local_dnn_convw_alpha_merge\n"
       ]
      },
      {
       "output_type": "stream",
       "stream": "stderr",
       "text": [
        "ERROR:theano.gof.opt:Optimization failure due to: local_dnn_convw_alpha_merge\n"
       ]
      },
      {
       "output_type": "stream",
       "stream": "stderr",
       "text": [
        "ERROR (theano.gof.opt): TRACEBACK:\n"
       ]
      },
      {
       "output_type": "stream",
       "stream": "stderr",
       "text": [
        "ERROR:theano.gof.opt:TRACEBACK:\n"
       ]
      },
      {
       "output_type": "stream",
       "stream": "stderr",
       "text": [
        "ERROR (theano.gof.opt): Traceback (most recent call last):\n",
        "  File \"/home/jotham/venvs/2014-12-20_datascibowl/lib/python2.7/site-packages/theano/gof/opt.py\", line 1493, in process_node\n",
        "    replacements = lopt.transform(node)\n",
        "  File \"/home/jotham/venvs/2014-12-20_datascibowl/lib/python2.7/site-packages/theano/sandbox/cuda/opt_util.py\", line 56, in opt\n",
        "    lr = grab_cpu_scalar(node.inputs[0], nd=nd)\n",
        "  File \"/home/jotham/venvs/2014-12-20_datascibowl/lib/python2.7/site-packages/theano/sandbox/cuda/opt_util.py\", line 18, in grab_cpu_scalar\n",
        "    return host_from_gpu(n.inputs[0])\n",
        "NameError: global name 'host_from_gpu' is not defined\n",
        "\n"
       ]
      },
      {
       "output_type": "stream",
       "stream": "stderr",
       "text": [
        "ERROR:theano.gof.opt:Traceback (most recent call last):\n",
        "  File \"/home/jotham/venvs/2014-12-20_datascibowl/lib/python2.7/site-packages/theano/gof/opt.py\", line 1493, in process_node\n",
        "    replacements = lopt.transform(node)\n",
        "  File \"/home/jotham/venvs/2014-12-20_datascibowl/lib/python2.7/site-packages/theano/sandbox/cuda/opt_util.py\", line 56, in opt\n",
        "    lr = grab_cpu_scalar(node.inputs[0], nd=nd)\n",
        "  File \"/home/jotham/venvs/2014-12-20_datascibowl/lib/python2.7/site-packages/theano/sandbox/cuda/opt_util.py\", line 18, in grab_cpu_scalar\n",
        "    return host_from_gpu(n.inputs[0])\n",
        "NameError: global name 'host_from_gpu' is not defined\n",
        "\n"
       ]
      },
      {
       "output_type": "stream",
       "stream": "stderr",
       "text": [
        "ERROR (theano.gof.opt): Optimization failure due to: local_dnn_convi_alpha_merge\n"
       ]
      },
      {
       "output_type": "stream",
       "stream": "stderr",
       "text": [
        "ERROR:theano.gof.opt:Optimization failure due to: local_dnn_convi_alpha_merge\n"
       ]
      },
      {
       "output_type": "stream",
       "stream": "stderr",
       "text": [
        "ERROR (theano.gof.opt): TRACEBACK:\n"
       ]
      },
      {
       "output_type": "stream",
       "stream": "stderr",
       "text": [
        "ERROR:theano.gof.opt:TRACEBACK:\n"
       ]
      },
      {
       "output_type": "stream",
       "stream": "stderr",
       "text": [
        "ERROR (theano.gof.opt): Traceback (most recent call last):\n",
        "  File \"/home/jotham/venvs/2014-12-20_datascibowl/lib/python2.7/site-packages/theano/gof/opt.py\", line 1493, in process_node\n",
        "    replacements = lopt.transform(node)\n",
        "  File \"/home/jotham/venvs/2014-12-20_datascibowl/lib/python2.7/site-packages/theano/sandbox/cuda/opt_util.py\", line 56, in opt\n",
        "    lr = grab_cpu_scalar(node.inputs[0], nd=nd)\n",
        "  File \"/home/jotham/venvs/2014-12-20_datascibowl/lib/python2.7/site-packages/theano/sandbox/cuda/opt_util.py\", line 18, in grab_cpu_scalar\n",
        "    return host_from_gpu(n.inputs[0])\n",
        "NameError: global name 'host_from_gpu' is not defined\n",
        "\n"
       ]
      },
      {
       "output_type": "stream",
       "stream": "stderr",
       "text": [
        "ERROR:theano.gof.opt:Traceback (most recent call last):\n",
        "  File \"/home/jotham/venvs/2014-12-20_datascibowl/lib/python2.7/site-packages/theano/gof/opt.py\", line 1493, in process_node\n",
        "    replacements = lopt.transform(node)\n",
        "  File \"/home/jotham/venvs/2014-12-20_datascibowl/lib/python2.7/site-packages/theano/sandbox/cuda/opt_util.py\", line 56, in opt\n",
        "    lr = grab_cpu_scalar(node.inputs[0], nd=nd)\n",
        "  File \"/home/jotham/venvs/2014-12-20_datascibowl/lib/python2.7/site-packages/theano/sandbox/cuda/opt_util.py\", line 18, in grab_cpu_scalar\n",
        "    return host_from_gpu(n.inputs[0])\n",
        "NameError: global name 'host_from_gpu' is not defined\n",
        "\n"
       ]
      },
      {
       "output_type": "stream",
       "stream": "stderr",
       "text": [
        "ERROR (theano.gof.opt): Optimization failure due to: local_dnn_conv_alpha_merge\n"
       ]
      },
      {
       "output_type": "stream",
       "stream": "stderr",
       "text": [
        "ERROR:theano.gof.opt:Optimization failure due to: local_dnn_conv_alpha_merge\n"
       ]
      },
      {
       "output_type": "stream",
       "stream": "stderr",
       "text": [
        "ERROR (theano.gof.opt): TRACEBACK:\n"
       ]
      },
      {
       "output_type": "stream",
       "stream": "stderr",
       "text": [
        "ERROR:theano.gof.opt:TRACEBACK:\n"
       ]
      },
      {
       "output_type": "stream",
       "stream": "stderr",
       "text": [
        "ERROR (theano.gof.opt): Traceback (most recent call last):\n",
        "  File \"/home/jotham/venvs/2014-12-20_datascibowl/lib/python2.7/site-packages/theano/gof/opt.py\", line 1493, in process_node\n",
        "    replacements = lopt.transform(node)\n",
        "  File \"/home/jotham/venvs/2014-12-20_datascibowl/lib/python2.7/site-packages/theano/sandbox/cuda/opt_util.py\", line 56, in opt\n",
        "    lr = grab_cpu_scalar(node.inputs[0], nd=nd)\n",
        "  File \"/home/jotham/venvs/2014-12-20_datascibowl/lib/python2.7/site-packages/theano/sandbox/cuda/opt_util.py\", line 18, in grab_cpu_scalar\n",
        "    return host_from_gpu(n.inputs[0])\n",
        "NameError: global name 'host_from_gpu' is not defined\n",
        "\n"
       ]
      },
      {
       "output_type": "stream",
       "stream": "stderr",
       "text": [
        "ERROR:theano.gof.opt:Traceback (most recent call last):\n",
        "  File \"/home/jotham/venvs/2014-12-20_datascibowl/lib/python2.7/site-packages/theano/gof/opt.py\", line 1493, in process_node\n",
        "    replacements = lopt.transform(node)\n",
        "  File \"/home/jotham/venvs/2014-12-20_datascibowl/lib/python2.7/site-packages/theano/sandbox/cuda/opt_util.py\", line 56, in opt\n",
        "    lr = grab_cpu_scalar(node.inputs[0], nd=nd)\n",
        "  File \"/home/jotham/venvs/2014-12-20_datascibowl/lib/python2.7/site-packages/theano/sandbox/cuda/opt_util.py\", line 18, in grab_cpu_scalar\n",
        "    return host_from_gpu(n.inputs[0])\n",
        "NameError: global name 'host_from_gpu' is not defined\n",
        "\n"
       ]
      },
      {
       "output_type": "stream",
       "stream": "stderr",
       "text": [
        "ERROR (theano.gof.opt): Optimization failure due to: local_dnn_convw_alpha_merge\n"
       ]
      },
      {
       "output_type": "stream",
       "stream": "stderr",
       "text": [
        "ERROR:theano.gof.opt:Optimization failure due to: local_dnn_convw_alpha_merge\n"
       ]
      },
      {
       "output_type": "stream",
       "stream": "stderr",
       "text": [
        "ERROR (theano.gof.opt): TRACEBACK:\n"
       ]
      },
      {
       "output_type": "stream",
       "stream": "stderr",
       "text": [
        "ERROR:theano.gof.opt:TRACEBACK:\n"
       ]
      },
      {
       "output_type": "stream",
       "stream": "stderr",
       "text": [
        "ERROR (theano.gof.opt): Traceback (most recent call last):\n",
        "  File \"/home/jotham/venvs/2014-12-20_datascibowl/lib/python2.7/site-packages/theano/gof/opt.py\", line 1493, in process_node\n",
        "    replacements = lopt.transform(node)\n",
        "  File \"/home/jotham/venvs/2014-12-20_datascibowl/lib/python2.7/site-packages/theano/sandbox/cuda/opt_util.py\", line 56, in opt\n",
        "    lr = grab_cpu_scalar(node.inputs[0], nd=nd)\n",
        "  File \"/home/jotham/venvs/2014-12-20_datascibowl/lib/python2.7/site-packages/theano/sandbox/cuda/opt_util.py\", line 18, in grab_cpu_scalar\n",
        "    return host_from_gpu(n.inputs[0])\n",
        "NameError: global name 'host_from_gpu' is not defined\n",
        "\n"
       ]
      },
      {
       "output_type": "stream",
       "stream": "stderr",
       "text": [
        "ERROR:theano.gof.opt:Traceback (most recent call last):\n",
        "  File \"/home/jotham/venvs/2014-12-20_datascibowl/lib/python2.7/site-packages/theano/gof/opt.py\", line 1493, in process_node\n",
        "    replacements = lopt.transform(node)\n",
        "  File \"/home/jotham/venvs/2014-12-20_datascibowl/lib/python2.7/site-packages/theano/sandbox/cuda/opt_util.py\", line 56, in opt\n",
        "    lr = grab_cpu_scalar(node.inputs[0], nd=nd)\n",
        "  File \"/home/jotham/venvs/2014-12-20_datascibowl/lib/python2.7/site-packages/theano/sandbox/cuda/opt_util.py\", line 18, in grab_cpu_scalar\n",
        "    return host_from_gpu(n.inputs[0])\n",
        "NameError: global name 'host_from_gpu' is not defined\n",
        "\n"
       ]
      },
      {
       "output_type": "stream",
       "stream": "stderr",
       "text": [
        "ERROR (theano.gof.opt): Optimization failure due to: local_dnn_convi_alpha_merge\n"
       ]
      },
      {
       "output_type": "stream",
       "stream": "stderr",
       "text": [
        "ERROR:theano.gof.opt:Optimization failure due to: local_dnn_convi_alpha_merge\n"
       ]
      },
      {
       "output_type": "stream",
       "stream": "stderr",
       "text": [
        "ERROR (theano.gof.opt): TRACEBACK:\n"
       ]
      },
      {
       "output_type": "stream",
       "stream": "stderr",
       "text": [
        "ERROR:theano.gof.opt:TRACEBACK:\n"
       ]
      },
      {
       "output_type": "stream",
       "stream": "stderr",
       "text": [
        "ERROR (theano.gof.opt): Traceback (most recent call last):\n",
        "  File \"/home/jotham/venvs/2014-12-20_datascibowl/lib/python2.7/site-packages/theano/gof/opt.py\", line 1493, in process_node\n",
        "    replacements = lopt.transform(node)\n",
        "  File \"/home/jotham/venvs/2014-12-20_datascibowl/lib/python2.7/site-packages/theano/sandbox/cuda/opt_util.py\", line 56, in opt\n",
        "    lr = grab_cpu_scalar(node.inputs[0], nd=nd)\n",
        "  File \"/home/jotham/venvs/2014-12-20_datascibowl/lib/python2.7/site-packages/theano/sandbox/cuda/opt_util.py\", line 18, in grab_cpu_scalar\n",
        "    return host_from_gpu(n.inputs[0])\n",
        "NameError: global name 'host_from_gpu' is not defined\n",
        "\n"
       ]
      },
      {
       "output_type": "stream",
       "stream": "stderr",
       "text": [
        "ERROR:theano.gof.opt:Traceback (most recent call last):\n",
        "  File \"/home/jotham/venvs/2014-12-20_datascibowl/lib/python2.7/site-packages/theano/gof/opt.py\", line 1493, in process_node\n",
        "    replacements = lopt.transform(node)\n",
        "  File \"/home/jotham/venvs/2014-12-20_datascibowl/lib/python2.7/site-packages/theano/sandbox/cuda/opt_util.py\", line 56, in opt\n",
        "    lr = grab_cpu_scalar(node.inputs[0], nd=nd)\n",
        "  File \"/home/jotham/venvs/2014-12-20_datascibowl/lib/python2.7/site-packages/theano/sandbox/cuda/opt_util.py\", line 18, in grab_cpu_scalar\n",
        "    return host_from_gpu(n.inputs[0])\n",
        "NameError: global name 'host_from_gpu' is not defined\n",
        "\n"
       ]
      },
      {
       "output_type": "stream",
       "stream": "stderr",
       "text": [
        "ERROR (theano.gof.opt): Optimization failure due to: local_dnn_conv_alpha_merge\n"
       ]
      },
      {
       "output_type": "stream",
       "stream": "stderr",
       "text": [
        "ERROR:theano.gof.opt:Optimization failure due to: local_dnn_conv_alpha_merge\n"
       ]
      },
      {
       "output_type": "stream",
       "stream": "stderr",
       "text": [
        "ERROR (theano.gof.opt): TRACEBACK:\n"
       ]
      },
      {
       "output_type": "stream",
       "stream": "stderr",
       "text": [
        "ERROR:theano.gof.opt:TRACEBACK:\n"
       ]
      },
      {
       "output_type": "stream",
       "stream": "stderr",
       "text": [
        "ERROR (theano.gof.opt): Traceback (most recent call last):\n",
        "  File \"/home/jotham/venvs/2014-12-20_datascibowl/lib/python2.7/site-packages/theano/gof/opt.py\", line 1493, in process_node\n",
        "    replacements = lopt.transform(node)\n",
        "  File \"/home/jotham/venvs/2014-12-20_datascibowl/lib/python2.7/site-packages/theano/sandbox/cuda/opt_util.py\", line 56, in opt\n",
        "    lr = grab_cpu_scalar(node.inputs[0], nd=nd)\n",
        "  File \"/home/jotham/venvs/2014-12-20_datascibowl/lib/python2.7/site-packages/theano/sandbox/cuda/opt_util.py\", line 18, in grab_cpu_scalar\n",
        "    return host_from_gpu(n.inputs[0])\n",
        "NameError: global name 'host_from_gpu' is not defined\n",
        "\n"
       ]
      },
      {
       "output_type": "stream",
       "stream": "stderr",
       "text": [
        "ERROR:theano.gof.opt:Traceback (most recent call last):\n",
        "  File \"/home/jotham/venvs/2014-12-20_datascibowl/lib/python2.7/site-packages/theano/gof/opt.py\", line 1493, in process_node\n",
        "    replacements = lopt.transform(node)\n",
        "  File \"/home/jotham/venvs/2014-12-20_datascibowl/lib/python2.7/site-packages/theano/sandbox/cuda/opt_util.py\", line 56, in opt\n",
        "    lr = grab_cpu_scalar(node.inputs[0], nd=nd)\n",
        "  File \"/home/jotham/venvs/2014-12-20_datascibowl/lib/python2.7/site-packages/theano/sandbox/cuda/opt_util.py\", line 18, in grab_cpu_scalar\n",
        "    return host_from_gpu(n.inputs[0])\n",
        "NameError: global name 'host_from_gpu' is not defined\n",
        "\n"
       ]
      },
      {
       "output_type": "stream",
       "stream": "stderr",
       "text": [
        "ERROR (theano.gof.opt): Optimization failure due to: local_dnn_convw_alpha_merge\n"
       ]
      },
      {
       "output_type": "stream",
       "stream": "stderr",
       "text": [
        "ERROR:theano.gof.opt:Optimization failure due to: local_dnn_convw_alpha_merge\n"
       ]
      },
      {
       "output_type": "stream",
       "stream": "stderr",
       "text": [
        "ERROR (theano.gof.opt): TRACEBACK:\n"
       ]
      },
      {
       "output_type": "stream",
       "stream": "stderr",
       "text": [
        "ERROR:theano.gof.opt:TRACEBACK:\n"
       ]
      },
      {
       "output_type": "stream",
       "stream": "stderr",
       "text": [
        "ERROR (theano.gof.opt): Traceback (most recent call last):\n",
        "  File \"/home/jotham/venvs/2014-12-20_datascibowl/lib/python2.7/site-packages/theano/gof/opt.py\", line 1493, in process_node\n",
        "    replacements = lopt.transform(node)\n",
        "  File \"/home/jotham/venvs/2014-12-20_datascibowl/lib/python2.7/site-packages/theano/sandbox/cuda/opt_util.py\", line 56, in opt\n",
        "    lr = grab_cpu_scalar(node.inputs[0], nd=nd)\n",
        "  File \"/home/jotham/venvs/2014-12-20_datascibowl/lib/python2.7/site-packages/theano/sandbox/cuda/opt_util.py\", line 18, in grab_cpu_scalar\n",
        "    return host_from_gpu(n.inputs[0])\n",
        "NameError: global name 'host_from_gpu' is not defined\n",
        "\n"
       ]
      },
      {
       "output_type": "stream",
       "stream": "stderr",
       "text": [
        "ERROR:theano.gof.opt:Traceback (most recent call last):\n",
        "  File \"/home/jotham/venvs/2014-12-20_datascibowl/lib/python2.7/site-packages/theano/gof/opt.py\", line 1493, in process_node\n",
        "    replacements = lopt.transform(node)\n",
        "  File \"/home/jotham/venvs/2014-12-20_datascibowl/lib/python2.7/site-packages/theano/sandbox/cuda/opt_util.py\", line 56, in opt\n",
        "    lr = grab_cpu_scalar(node.inputs[0], nd=nd)\n",
        "  File \"/home/jotham/venvs/2014-12-20_datascibowl/lib/python2.7/site-packages/theano/sandbox/cuda/opt_util.py\", line 18, in grab_cpu_scalar\n",
        "    return host_from_gpu(n.inputs[0])\n",
        "NameError: global name 'host_from_gpu' is not defined\n",
        "\n"
       ]
      },
      {
       "output_type": "stream",
       "stream": "stderr",
       "text": [
        "ERROR (theano.gof.opt): Optimization failure due to: local_dnn_convi_alpha_merge\n"
       ]
      },
      {
       "output_type": "stream",
       "stream": "stderr",
       "text": [
        "ERROR:theano.gof.opt:Optimization failure due to: local_dnn_convi_alpha_merge\n"
       ]
      },
      {
       "output_type": "stream",
       "stream": "stderr",
       "text": [
        "ERROR (theano.gof.opt): TRACEBACK:\n"
       ]
      },
      {
       "output_type": "stream",
       "stream": "stderr",
       "text": [
        "ERROR:theano.gof.opt:TRACEBACK:\n"
       ]
      },
      {
       "output_type": "stream",
       "stream": "stderr",
       "text": [
        "ERROR (theano.gof.opt): Traceback (most recent call last):\n",
        "  File \"/home/jotham/venvs/2014-12-20_datascibowl/lib/python2.7/site-packages/theano/gof/opt.py\", line 1493, in process_node\n",
        "    replacements = lopt.transform(node)\n",
        "  File \"/home/jotham/venvs/2014-12-20_datascibowl/lib/python2.7/site-packages/theano/sandbox/cuda/opt_util.py\", line 56, in opt\n",
        "    lr = grab_cpu_scalar(node.inputs[0], nd=nd)\n",
        "  File \"/home/jotham/venvs/2014-12-20_datascibowl/lib/python2.7/site-packages/theano/sandbox/cuda/opt_util.py\", line 18, in grab_cpu_scalar\n",
        "    return host_from_gpu(n.inputs[0])\n",
        "NameError: global name 'host_from_gpu' is not defined\n",
        "\n"
       ]
      },
      {
       "output_type": "stream",
       "stream": "stderr",
       "text": [
        "ERROR:theano.gof.opt:Traceback (most recent call last):\n",
        "  File \"/home/jotham/venvs/2014-12-20_datascibowl/lib/python2.7/site-packages/theano/gof/opt.py\", line 1493, in process_node\n",
        "    replacements = lopt.transform(node)\n",
        "  File \"/home/jotham/venvs/2014-12-20_datascibowl/lib/python2.7/site-packages/theano/sandbox/cuda/opt_util.py\", line 56, in opt\n",
        "    lr = grab_cpu_scalar(node.inputs[0], nd=nd)\n",
        "  File \"/home/jotham/venvs/2014-12-20_datascibowl/lib/python2.7/site-packages/theano/sandbox/cuda/opt_util.py\", line 18, in grab_cpu_scalar\n",
        "    return host_from_gpu(n.inputs[0])\n",
        "NameError: global name 'host_from_gpu' is not defined\n",
        "\n"
       ]
      },
      {
       "output_type": "stream",
       "stream": "stderr",
       "text": [
        "ERROR (theano.gof.opt): Optimization failure due to: local_dnn_conv_alpha_merge\n"
       ]
      },
      {
       "output_type": "stream",
       "stream": "stderr",
       "text": [
        "ERROR:theano.gof.opt:Optimization failure due to: local_dnn_conv_alpha_merge\n"
       ]
      },
      {
       "output_type": "stream",
       "stream": "stderr",
       "text": [
        "ERROR (theano.gof.opt): TRACEBACK:\n"
       ]
      },
      {
       "output_type": "stream",
       "stream": "stderr",
       "text": [
        "ERROR:theano.gof.opt:TRACEBACK:\n"
       ]
      },
      {
       "output_type": "stream",
       "stream": "stderr",
       "text": [
        "ERROR (theano.gof.opt): Traceback (most recent call last):\n",
        "  File \"/home/jotham/venvs/2014-12-20_datascibowl/lib/python2.7/site-packages/theano/gof/opt.py\", line 1493, in process_node\n",
        "    replacements = lopt.transform(node)\n",
        "  File \"/home/jotham/venvs/2014-12-20_datascibowl/lib/python2.7/site-packages/theano/sandbox/cuda/opt_util.py\", line 56, in opt\n",
        "    lr = grab_cpu_scalar(node.inputs[0], nd=nd)\n",
        "  File \"/home/jotham/venvs/2014-12-20_datascibowl/lib/python2.7/site-packages/theano/sandbox/cuda/opt_util.py\", line 18, in grab_cpu_scalar\n",
        "    return host_from_gpu(n.inputs[0])\n",
        "NameError: global name 'host_from_gpu' is not defined\n",
        "\n"
       ]
      },
      {
       "output_type": "stream",
       "stream": "stderr",
       "text": [
        "ERROR:theano.gof.opt:Traceback (most recent call last):\n",
        "  File \"/home/jotham/venvs/2014-12-20_datascibowl/lib/python2.7/site-packages/theano/gof/opt.py\", line 1493, in process_node\n",
        "    replacements = lopt.transform(node)\n",
        "  File \"/home/jotham/venvs/2014-12-20_datascibowl/lib/python2.7/site-packages/theano/sandbox/cuda/opt_util.py\", line 56, in opt\n",
        "    lr = grab_cpu_scalar(node.inputs[0], nd=nd)\n",
        "  File \"/home/jotham/venvs/2014-12-20_datascibowl/lib/python2.7/site-packages/theano/sandbox/cuda/opt_util.py\", line 18, in grab_cpu_scalar\n",
        "    return host_from_gpu(n.inputs[0])\n",
        "NameError: global name 'host_from_gpu' is not defined\n",
        "\n"
       ]
      },
      {
       "output_type": "stream",
       "stream": "stderr",
       "text": [
        "ERROR (theano.gof.opt): Optimization failure due to: local_dnn_convw_alpha_merge\n"
       ]
      },
      {
       "output_type": "stream",
       "stream": "stderr",
       "text": [
        "ERROR:theano.gof.opt:Optimization failure due to: local_dnn_convw_alpha_merge\n"
       ]
      },
      {
       "output_type": "stream",
       "stream": "stderr",
       "text": [
        "ERROR (theano.gof.opt): TRACEBACK:\n"
       ]
      },
      {
       "output_type": "stream",
       "stream": "stderr",
       "text": [
        "ERROR:theano.gof.opt:TRACEBACK:\n"
       ]
      },
      {
       "output_type": "stream",
       "stream": "stderr",
       "text": [
        "ERROR (theano.gof.opt): Traceback (most recent call last):\n",
        "  File \"/home/jotham/venvs/2014-12-20_datascibowl/lib/python2.7/site-packages/theano/gof/opt.py\", line 1493, in process_node\n",
        "    replacements = lopt.transform(node)\n",
        "  File \"/home/jotham/venvs/2014-12-20_datascibowl/lib/python2.7/site-packages/theano/sandbox/cuda/opt_util.py\", line 56, in opt\n",
        "    lr = grab_cpu_scalar(node.inputs[0], nd=nd)\n",
        "  File \"/home/jotham/venvs/2014-12-20_datascibowl/lib/python2.7/site-packages/theano/sandbox/cuda/opt_util.py\", line 18, in grab_cpu_scalar\n",
        "    return host_from_gpu(n.inputs[0])\n",
        "NameError: global name 'host_from_gpu' is not defined\n",
        "\n"
       ]
      },
      {
       "output_type": "stream",
       "stream": "stderr",
       "text": [
        "ERROR:theano.gof.opt:Traceback (most recent call last):\n",
        "  File \"/home/jotham/venvs/2014-12-20_datascibowl/lib/python2.7/site-packages/theano/gof/opt.py\", line 1493, in process_node\n",
        "    replacements = lopt.transform(node)\n",
        "  File \"/home/jotham/venvs/2014-12-20_datascibowl/lib/python2.7/site-packages/theano/sandbox/cuda/opt_util.py\", line 56, in opt\n",
        "    lr = grab_cpu_scalar(node.inputs[0], nd=nd)\n",
        "  File \"/home/jotham/venvs/2014-12-20_datascibowl/lib/python2.7/site-packages/theano/sandbox/cuda/opt_util.py\", line 18, in grab_cpu_scalar\n",
        "    return host_from_gpu(n.inputs[0])\n",
        "NameError: global name 'host_from_gpu' is not defined\n",
        "\n"
       ]
      },
      {
       "output_type": "stream",
       "stream": "stderr",
       "text": [
        "ERROR (theano.gof.opt): Optimization failure due to: local_dnn_convi_alpha_merge\n"
       ]
      },
      {
       "output_type": "stream",
       "stream": "stderr",
       "text": [
        "ERROR:theano.gof.opt:Optimization failure due to: local_dnn_convi_alpha_merge\n"
       ]
      },
      {
       "output_type": "stream",
       "stream": "stderr",
       "text": [
        "ERROR (theano.gof.opt): TRACEBACK:\n"
       ]
      },
      {
       "output_type": "stream",
       "stream": "stderr",
       "text": [
        "ERROR:theano.gof.opt:TRACEBACK:\n"
       ]
      },
      {
       "output_type": "stream",
       "stream": "stderr",
       "text": [
        "ERROR (theano.gof.opt): Traceback (most recent call last):\n",
        "  File \"/home/jotham/venvs/2014-12-20_datascibowl/lib/python2.7/site-packages/theano/gof/opt.py\", line 1493, in process_node\n",
        "    replacements = lopt.transform(node)\n",
        "  File \"/home/jotham/venvs/2014-12-20_datascibowl/lib/python2.7/site-packages/theano/sandbox/cuda/opt_util.py\", line 56, in opt\n",
        "    lr = grab_cpu_scalar(node.inputs[0], nd=nd)\n",
        "  File \"/home/jotham/venvs/2014-12-20_datascibowl/lib/python2.7/site-packages/theano/sandbox/cuda/opt_util.py\", line 18, in grab_cpu_scalar\n",
        "    return host_from_gpu(n.inputs[0])\n",
        "NameError: global name 'host_from_gpu' is not defined\n",
        "\n"
       ]
      },
      {
       "output_type": "stream",
       "stream": "stderr",
       "text": [
        "ERROR:theano.gof.opt:Traceback (most recent call last):\n",
        "  File \"/home/jotham/venvs/2014-12-20_datascibowl/lib/python2.7/site-packages/theano/gof/opt.py\", line 1493, in process_node\n",
        "    replacements = lopt.transform(node)\n",
        "  File \"/home/jotham/venvs/2014-12-20_datascibowl/lib/python2.7/site-packages/theano/sandbox/cuda/opt_util.py\", line 56, in opt\n",
        "    lr = grab_cpu_scalar(node.inputs[0], nd=nd)\n",
        "  File \"/home/jotham/venvs/2014-12-20_datascibowl/lib/python2.7/site-packages/theano/sandbox/cuda/opt_util.py\", line 18, in grab_cpu_scalar\n",
        "    return host_from_gpu(n.inputs[0])\n",
        "NameError: global name 'host_from_gpu' is not defined\n",
        "\n"
       ]
      },
      {
       "output_type": "stream",
       "stream": "stderr",
       "text": [
        "ERROR (theano.gof.opt): Optimization failure due to: local_dnn_conv_alpha_merge\n"
       ]
      },
      {
       "output_type": "stream",
       "stream": "stderr",
       "text": [
        "ERROR:theano.gof.opt:Optimization failure due to: local_dnn_conv_alpha_merge\n"
       ]
      },
      {
       "output_type": "stream",
       "stream": "stderr",
       "text": [
        "ERROR (theano.gof.opt): TRACEBACK:\n"
       ]
      },
      {
       "output_type": "stream",
       "stream": "stderr",
       "text": [
        "ERROR:theano.gof.opt:TRACEBACK:\n"
       ]
      },
      {
       "output_type": "stream",
       "stream": "stderr",
       "text": [
        "ERROR (theano.gof.opt): Traceback (most recent call last):\n",
        "  File \"/home/jotham/venvs/2014-12-20_datascibowl/lib/python2.7/site-packages/theano/gof/opt.py\", line 1493, in process_node\n",
        "    replacements = lopt.transform(node)\n",
        "  File \"/home/jotham/venvs/2014-12-20_datascibowl/lib/python2.7/site-packages/theano/sandbox/cuda/opt_util.py\", line 56, in opt\n",
        "    lr = grab_cpu_scalar(node.inputs[0], nd=nd)\n",
        "  File \"/home/jotham/venvs/2014-12-20_datascibowl/lib/python2.7/site-packages/theano/sandbox/cuda/opt_util.py\", line 18, in grab_cpu_scalar\n",
        "    return host_from_gpu(n.inputs[0])\n",
        "NameError: global name 'host_from_gpu' is not defined\n",
        "\n"
       ]
      },
      {
       "output_type": "stream",
       "stream": "stderr",
       "text": [
        "ERROR:theano.gof.opt:Traceback (most recent call last):\n",
        "  File \"/home/jotham/venvs/2014-12-20_datascibowl/lib/python2.7/site-packages/theano/gof/opt.py\", line 1493, in process_node\n",
        "    replacements = lopt.transform(node)\n",
        "  File \"/home/jotham/venvs/2014-12-20_datascibowl/lib/python2.7/site-packages/theano/sandbox/cuda/opt_util.py\", line 56, in opt\n",
        "    lr = grab_cpu_scalar(node.inputs[0], nd=nd)\n",
        "  File \"/home/jotham/venvs/2014-12-20_datascibowl/lib/python2.7/site-packages/theano/sandbox/cuda/opt_util.py\", line 18, in grab_cpu_scalar\n",
        "    return host_from_gpu(n.inputs[0])\n",
        "NameError: global name 'host_from_gpu' is not defined\n",
        "\n"
       ]
      },
      {
       "output_type": "stream",
       "stream": "stderr",
       "text": [
        "ERROR (theano.gof.opt): Optimization failure due to: local_dnn_convw_alpha_merge\n"
       ]
      },
      {
       "output_type": "stream",
       "stream": "stderr",
       "text": [
        "ERROR:theano.gof.opt:Optimization failure due to: local_dnn_convw_alpha_merge\n"
       ]
      },
      {
       "output_type": "stream",
       "stream": "stderr",
       "text": [
        "ERROR (theano.gof.opt): TRACEBACK:\n"
       ]
      },
      {
       "output_type": "stream",
       "stream": "stderr",
       "text": [
        "ERROR:theano.gof.opt:TRACEBACK:\n"
       ]
      },
      {
       "output_type": "stream",
       "stream": "stderr",
       "text": [
        "ERROR (theano.gof.opt): Traceback (most recent call last):\n",
        "  File \"/home/jotham/venvs/2014-12-20_datascibowl/lib/python2.7/site-packages/theano/gof/opt.py\", line 1493, in process_node\n",
        "    replacements = lopt.transform(node)\n",
        "  File \"/home/jotham/venvs/2014-12-20_datascibowl/lib/python2.7/site-packages/theano/sandbox/cuda/opt_util.py\", line 56, in opt\n",
        "    lr = grab_cpu_scalar(node.inputs[0], nd=nd)\n",
        "  File \"/home/jotham/venvs/2014-12-20_datascibowl/lib/python2.7/site-packages/theano/sandbox/cuda/opt_util.py\", line 18, in grab_cpu_scalar\n",
        "    return host_from_gpu(n.inputs[0])\n",
        "NameError: global name 'host_from_gpu' is not defined\n",
        "\n"
       ]
      },
      {
       "output_type": "stream",
       "stream": "stderr",
       "text": [
        "ERROR:theano.gof.opt:Traceback (most recent call last):\n",
        "  File \"/home/jotham/venvs/2014-12-20_datascibowl/lib/python2.7/site-packages/theano/gof/opt.py\", line 1493, in process_node\n",
        "    replacements = lopt.transform(node)\n",
        "  File \"/home/jotham/venvs/2014-12-20_datascibowl/lib/python2.7/site-packages/theano/sandbox/cuda/opt_util.py\", line 56, in opt\n",
        "    lr = grab_cpu_scalar(node.inputs[0], nd=nd)\n",
        "  File \"/home/jotham/venvs/2014-12-20_datascibowl/lib/python2.7/site-packages/theano/sandbox/cuda/opt_util.py\", line 18, in grab_cpu_scalar\n",
        "    return host_from_gpu(n.inputs[0])\n",
        "NameError: global name 'host_from_gpu' is not defined\n",
        "\n"
       ]
      },
      {
       "output_type": "stream",
       "stream": "stderr",
       "text": [
        "ERROR (theano.gof.opt): Optimization failure due to: local_dnn_convi_alpha_merge\n"
       ]
      },
      {
       "output_type": "stream",
       "stream": "stderr",
       "text": [
        "ERROR:theano.gof.opt:Optimization failure due to: local_dnn_convi_alpha_merge\n"
       ]
      },
      {
       "output_type": "stream",
       "stream": "stderr",
       "text": [
        "ERROR (theano.gof.opt): TRACEBACK:\n"
       ]
      },
      {
       "output_type": "stream",
       "stream": "stderr",
       "text": [
        "ERROR:theano.gof.opt:TRACEBACK:\n"
       ]
      },
      {
       "output_type": "stream",
       "stream": "stderr",
       "text": [
        "ERROR (theano.gof.opt): Traceback (most recent call last):\n",
        "  File \"/home/jotham/venvs/2014-12-20_datascibowl/lib/python2.7/site-packages/theano/gof/opt.py\", line 1493, in process_node\n",
        "    replacements = lopt.transform(node)\n",
        "  File \"/home/jotham/venvs/2014-12-20_datascibowl/lib/python2.7/site-packages/theano/sandbox/cuda/opt_util.py\", line 56, in opt\n",
        "    lr = grab_cpu_scalar(node.inputs[0], nd=nd)\n",
        "  File \"/home/jotham/venvs/2014-12-20_datascibowl/lib/python2.7/site-packages/theano/sandbox/cuda/opt_util.py\", line 18, in grab_cpu_scalar\n",
        "    return host_from_gpu(n.inputs[0])\n",
        "NameError: global name 'host_from_gpu' is not defined\n",
        "\n"
       ]
      },
      {
       "output_type": "stream",
       "stream": "stderr",
       "text": [
        "ERROR:theano.gof.opt:Traceback (most recent call last):\n",
        "  File \"/home/jotham/venvs/2014-12-20_datascibowl/lib/python2.7/site-packages/theano/gof/opt.py\", line 1493, in process_node\n",
        "    replacements = lopt.transform(node)\n",
        "  File \"/home/jotham/venvs/2014-12-20_datascibowl/lib/python2.7/site-packages/theano/sandbox/cuda/opt_util.py\", line 56, in opt\n",
        "    lr = grab_cpu_scalar(node.inputs[0], nd=nd)\n",
        "  File \"/home/jotham/venvs/2014-12-20_datascibowl/lib/python2.7/site-packages/theano/sandbox/cuda/opt_util.py\", line 18, in grab_cpu_scalar\n",
        "    return host_from_gpu(n.inputs[0])\n",
        "NameError: global name 'host_from_gpu' is not defined\n",
        "\n"
       ]
      },
      {
       "output_type": "stream",
       "stream": "stderr",
       "text": [
        "ERROR (theano.gof.opt): Optimization failure due to: local_dnn_conv_alpha_merge\n"
       ]
      },
      {
       "output_type": "stream",
       "stream": "stderr",
       "text": [
        "ERROR:theano.gof.opt:Optimization failure due to: local_dnn_conv_alpha_merge\n"
       ]
      },
      {
       "output_type": "stream",
       "stream": "stderr",
       "text": [
        "ERROR (theano.gof.opt): TRACEBACK:\n"
       ]
      },
      {
       "output_type": "stream",
       "stream": "stderr",
       "text": [
        "ERROR:theano.gof.opt:TRACEBACK:\n"
       ]
      },
      {
       "output_type": "stream",
       "stream": "stderr",
       "text": [
        "ERROR (theano.gof.opt): Traceback (most recent call last):\n",
        "  File \"/home/jotham/venvs/2014-12-20_datascibowl/lib/python2.7/site-packages/theano/gof/opt.py\", line 1493, in process_node\n",
        "    replacements = lopt.transform(node)\n",
        "  File \"/home/jotham/venvs/2014-12-20_datascibowl/lib/python2.7/site-packages/theano/sandbox/cuda/opt_util.py\", line 56, in opt\n",
        "    lr = grab_cpu_scalar(node.inputs[0], nd=nd)\n",
        "  File \"/home/jotham/venvs/2014-12-20_datascibowl/lib/python2.7/site-packages/theano/sandbox/cuda/opt_util.py\", line 18, in grab_cpu_scalar\n",
        "    return host_from_gpu(n.inputs[0])\n",
        "NameError: global name 'host_from_gpu' is not defined\n",
        "\n"
       ]
      },
      {
       "output_type": "stream",
       "stream": "stderr",
       "text": [
        "ERROR:theano.gof.opt:Traceback (most recent call last):\n",
        "  File \"/home/jotham/venvs/2014-12-20_datascibowl/lib/python2.7/site-packages/theano/gof/opt.py\", line 1493, in process_node\n",
        "    replacements = lopt.transform(node)\n",
        "  File \"/home/jotham/venvs/2014-12-20_datascibowl/lib/python2.7/site-packages/theano/sandbox/cuda/opt_util.py\", line 56, in opt\n",
        "    lr = grab_cpu_scalar(node.inputs[0], nd=nd)\n",
        "  File \"/home/jotham/venvs/2014-12-20_datascibowl/lib/python2.7/site-packages/theano/sandbox/cuda/opt_util.py\", line 18, in grab_cpu_scalar\n",
        "    return host_from_gpu(n.inputs[0])\n",
        "NameError: global name 'host_from_gpu' is not defined\n",
        "\n"
       ]
      },
      {
       "output_type": "stream",
       "stream": "stderr",
       "text": [
        "ERROR (theano.gof.opt): Optimization failure due to: local_dnn_convw_alpha_merge\n"
       ]
      },
      {
       "output_type": "stream",
       "stream": "stderr",
       "text": [
        "ERROR:theano.gof.opt:Optimization failure due to: local_dnn_convw_alpha_merge\n"
       ]
      },
      {
       "output_type": "stream",
       "stream": "stderr",
       "text": [
        "ERROR (theano.gof.opt): TRACEBACK:\n"
       ]
      },
      {
       "output_type": "stream",
       "stream": "stderr",
       "text": [
        "ERROR:theano.gof.opt:TRACEBACK:\n"
       ]
      },
      {
       "output_type": "stream",
       "stream": "stderr",
       "text": [
        "ERROR (theano.gof.opt): Traceback (most recent call last):\n",
        "  File \"/home/jotham/venvs/2014-12-20_datascibowl/lib/python2.7/site-packages/theano/gof/opt.py\", line 1493, in process_node\n",
        "    replacements = lopt.transform(node)\n",
        "  File \"/home/jotham/venvs/2014-12-20_datascibowl/lib/python2.7/site-packages/theano/sandbox/cuda/opt_util.py\", line 56, in opt\n",
        "    lr = grab_cpu_scalar(node.inputs[0], nd=nd)\n",
        "  File \"/home/jotham/venvs/2014-12-20_datascibowl/lib/python2.7/site-packages/theano/sandbox/cuda/opt_util.py\", line 18, in grab_cpu_scalar\n",
        "    return host_from_gpu(n.inputs[0])\n",
        "NameError: global name 'host_from_gpu' is not defined\n",
        "\n"
       ]
      },
      {
       "output_type": "stream",
       "stream": "stderr",
       "text": [
        "ERROR:theano.gof.opt:Traceback (most recent call last):\n",
        "  File \"/home/jotham/venvs/2014-12-20_datascibowl/lib/python2.7/site-packages/theano/gof/opt.py\", line 1493, in process_node\n",
        "    replacements = lopt.transform(node)\n",
        "  File \"/home/jotham/venvs/2014-12-20_datascibowl/lib/python2.7/site-packages/theano/sandbox/cuda/opt_util.py\", line 56, in opt\n",
        "    lr = grab_cpu_scalar(node.inputs[0], nd=nd)\n",
        "  File \"/home/jotham/venvs/2014-12-20_datascibowl/lib/python2.7/site-packages/theano/sandbox/cuda/opt_util.py\", line 18, in grab_cpu_scalar\n",
        "    return host_from_gpu(n.inputs[0])\n",
        "NameError: global name 'host_from_gpu' is not defined\n",
        "\n"
       ]
      },
      {
       "output_type": "stream",
       "stream": "stderr",
       "text": [
        "ERROR (theano.gof.opt): Optimization failure due to: local_dnn_convi_alpha_merge\n"
       ]
      },
      {
       "output_type": "stream",
       "stream": "stderr",
       "text": [
        "ERROR:theano.gof.opt:Optimization failure due to: local_dnn_convi_alpha_merge\n"
       ]
      },
      {
       "output_type": "stream",
       "stream": "stderr",
       "text": [
        "ERROR (theano.gof.opt): TRACEBACK:\n"
       ]
      },
      {
       "output_type": "stream",
       "stream": "stderr",
       "text": [
        "ERROR:theano.gof.opt:TRACEBACK:\n"
       ]
      },
      {
       "output_type": "stream",
       "stream": "stderr",
       "text": [
        "ERROR (theano.gof.opt): Traceback (most recent call last):\n",
        "  File \"/home/jotham/venvs/2014-12-20_datascibowl/lib/python2.7/site-packages/theano/gof/opt.py\", line 1493, in process_node\n",
        "    replacements = lopt.transform(node)\n",
        "  File \"/home/jotham/venvs/2014-12-20_datascibowl/lib/python2.7/site-packages/theano/sandbox/cuda/opt_util.py\", line 56, in opt\n",
        "    lr = grab_cpu_scalar(node.inputs[0], nd=nd)\n",
        "  File \"/home/jotham/venvs/2014-12-20_datascibowl/lib/python2.7/site-packages/theano/sandbox/cuda/opt_util.py\", line 18, in grab_cpu_scalar\n",
        "    return host_from_gpu(n.inputs[0])\n",
        "NameError: global name 'host_from_gpu' is not defined\n",
        "\n"
       ]
      },
      {
       "output_type": "stream",
       "stream": "stderr",
       "text": [
        "ERROR:theano.gof.opt:Traceback (most recent call last):\n",
        "  File \"/home/jotham/venvs/2014-12-20_datascibowl/lib/python2.7/site-packages/theano/gof/opt.py\", line 1493, in process_node\n",
        "    replacements = lopt.transform(node)\n",
        "  File \"/home/jotham/venvs/2014-12-20_datascibowl/lib/python2.7/site-packages/theano/sandbox/cuda/opt_util.py\", line 56, in opt\n",
        "    lr = grab_cpu_scalar(node.inputs[0], nd=nd)\n",
        "  File \"/home/jotham/venvs/2014-12-20_datascibowl/lib/python2.7/site-packages/theano/sandbox/cuda/opt_util.py\", line 18, in grab_cpu_scalar\n",
        "    return host_from_gpu(n.inputs[0])\n",
        "NameError: global name 'host_from_gpu' is not defined\n",
        "\n"
       ]
      },
      {
       "output_type": "stream",
       "stream": "stderr",
       "text": [
        "ERROR (theano.gof.opt): Optimization failure due to: local_dnn_conv_alpha_merge\n"
       ]
      },
      {
       "output_type": "stream",
       "stream": "stderr",
       "text": [
        "ERROR:theano.gof.opt:Optimization failure due to: local_dnn_conv_alpha_merge\n"
       ]
      },
      {
       "output_type": "stream",
       "stream": "stderr",
       "text": [
        "ERROR (theano.gof.opt): TRACEBACK:\n"
       ]
      },
      {
       "output_type": "stream",
       "stream": "stderr",
       "text": [
        "ERROR:theano.gof.opt:TRACEBACK:\n"
       ]
      },
      {
       "output_type": "stream",
       "stream": "stderr",
       "text": [
        "ERROR (theano.gof.opt): Traceback (most recent call last):\n",
        "  File \"/home/jotham/venvs/2014-12-20_datascibowl/lib/python2.7/site-packages/theano/gof/opt.py\", line 1493, in process_node\n",
        "    replacements = lopt.transform(node)\n",
        "  File \"/home/jotham/venvs/2014-12-20_datascibowl/lib/python2.7/site-packages/theano/sandbox/cuda/opt_util.py\", line 56, in opt\n",
        "    lr = grab_cpu_scalar(node.inputs[0], nd=nd)\n",
        "  File \"/home/jotham/venvs/2014-12-20_datascibowl/lib/python2.7/site-packages/theano/sandbox/cuda/opt_util.py\", line 18, in grab_cpu_scalar\n",
        "    return host_from_gpu(n.inputs[0])\n",
        "NameError: global name 'host_from_gpu' is not defined\n",
        "\n"
       ]
      },
      {
       "output_type": "stream",
       "stream": "stderr",
       "text": [
        "ERROR:theano.gof.opt:Traceback (most recent call last):\n",
        "  File \"/home/jotham/venvs/2014-12-20_datascibowl/lib/python2.7/site-packages/theano/gof/opt.py\", line 1493, in process_node\n",
        "    replacements = lopt.transform(node)\n",
        "  File \"/home/jotham/venvs/2014-12-20_datascibowl/lib/python2.7/site-packages/theano/sandbox/cuda/opt_util.py\", line 56, in opt\n",
        "    lr = grab_cpu_scalar(node.inputs[0], nd=nd)\n",
        "  File \"/home/jotham/venvs/2014-12-20_datascibowl/lib/python2.7/site-packages/theano/sandbox/cuda/opt_util.py\", line 18, in grab_cpu_scalar\n",
        "    return host_from_gpu(n.inputs[0])\n",
        "NameError: global name 'host_from_gpu' is not defined\n",
        "\n"
       ]
      },
      {
       "output_type": "stream",
       "stream": "stderr",
       "text": [
        "ERROR (theano.gof.opt): Optimization failure due to: local_dnn_convw_alpha_merge\n"
       ]
      },
      {
       "output_type": "stream",
       "stream": "stderr",
       "text": [
        "ERROR:theano.gof.opt:Optimization failure due to: local_dnn_convw_alpha_merge\n"
       ]
      },
      {
       "output_type": "stream",
       "stream": "stderr",
       "text": [
        "ERROR (theano.gof.opt): TRACEBACK:\n"
       ]
      },
      {
       "output_type": "stream",
       "stream": "stderr",
       "text": [
        "ERROR:theano.gof.opt:TRACEBACK:\n"
       ]
      },
      {
       "output_type": "stream",
       "stream": "stderr",
       "text": [
        "ERROR (theano.gof.opt): Traceback (most recent call last):\n",
        "  File \"/home/jotham/venvs/2014-12-20_datascibowl/lib/python2.7/site-packages/theano/gof/opt.py\", line 1493, in process_node\n",
        "    replacements = lopt.transform(node)\n",
        "  File \"/home/jotham/venvs/2014-12-20_datascibowl/lib/python2.7/site-packages/theano/sandbox/cuda/opt_util.py\", line 56, in opt\n",
        "    lr = grab_cpu_scalar(node.inputs[0], nd=nd)\n",
        "  File \"/home/jotham/venvs/2014-12-20_datascibowl/lib/python2.7/site-packages/theano/sandbox/cuda/opt_util.py\", line 18, in grab_cpu_scalar\n",
        "    return host_from_gpu(n.inputs[0])\n",
        "NameError: global name 'host_from_gpu' is not defined\n",
        "\n"
       ]
      },
      {
       "output_type": "stream",
       "stream": "stderr",
       "text": [
        "ERROR:theano.gof.opt:Traceback (most recent call last):\n",
        "  File \"/home/jotham/venvs/2014-12-20_datascibowl/lib/python2.7/site-packages/theano/gof/opt.py\", line 1493, in process_node\n",
        "    replacements = lopt.transform(node)\n",
        "  File \"/home/jotham/venvs/2014-12-20_datascibowl/lib/python2.7/site-packages/theano/sandbox/cuda/opt_util.py\", line 56, in opt\n",
        "    lr = grab_cpu_scalar(node.inputs[0], nd=nd)\n",
        "  File \"/home/jotham/venvs/2014-12-20_datascibowl/lib/python2.7/site-packages/theano/sandbox/cuda/opt_util.py\", line 18, in grab_cpu_scalar\n",
        "    return host_from_gpu(n.inputs[0])\n",
        "NameError: global name 'host_from_gpu' is not defined\n",
        "\n"
       ]
      },
      {
       "output_type": "stream",
       "stream": "stderr",
       "text": [
        "ERROR (theano.gof.opt): Optimization failure due to: local_dnn_convi_alpha_merge\n"
       ]
      },
      {
       "output_type": "stream",
       "stream": "stderr",
       "text": [
        "ERROR:theano.gof.opt:Optimization failure due to: local_dnn_convi_alpha_merge\n"
       ]
      },
      {
       "output_type": "stream",
       "stream": "stderr",
       "text": [
        "ERROR (theano.gof.opt): TRACEBACK:\n"
       ]
      },
      {
       "output_type": "stream",
       "stream": "stderr",
       "text": [
        "ERROR:theano.gof.opt:TRACEBACK:\n"
       ]
      },
      {
       "output_type": "stream",
       "stream": "stderr",
       "text": [
        "ERROR (theano.gof.opt): Traceback (most recent call last):\n",
        "  File \"/home/jotham/venvs/2014-12-20_datascibowl/lib/python2.7/site-packages/theano/gof/opt.py\", line 1493, in process_node\n",
        "    replacements = lopt.transform(node)\n",
        "  File \"/home/jotham/venvs/2014-12-20_datascibowl/lib/python2.7/site-packages/theano/sandbox/cuda/opt_util.py\", line 56, in opt\n",
        "    lr = grab_cpu_scalar(node.inputs[0], nd=nd)\n",
        "  File \"/home/jotham/venvs/2014-12-20_datascibowl/lib/python2.7/site-packages/theano/sandbox/cuda/opt_util.py\", line 18, in grab_cpu_scalar\n",
        "    return host_from_gpu(n.inputs[0])\n",
        "NameError: global name 'host_from_gpu' is not defined\n",
        "\n"
       ]
      },
      {
       "output_type": "stream",
       "stream": "stderr",
       "text": [
        "ERROR:theano.gof.opt:Traceback (most recent call last):\n",
        "  File \"/home/jotham/venvs/2014-12-20_datascibowl/lib/python2.7/site-packages/theano/gof/opt.py\", line 1493, in process_node\n",
        "    replacements = lopt.transform(node)\n",
        "  File \"/home/jotham/venvs/2014-12-20_datascibowl/lib/python2.7/site-packages/theano/sandbox/cuda/opt_util.py\", line 56, in opt\n",
        "    lr = grab_cpu_scalar(node.inputs[0], nd=nd)\n",
        "  File \"/home/jotham/venvs/2014-12-20_datascibowl/lib/python2.7/site-packages/theano/sandbox/cuda/opt_util.py\", line 18, in grab_cpu_scalar\n",
        "    return host_from_gpu(n.inputs[0])\n",
        "NameError: global name 'host_from_gpu' is not defined\n",
        "\n"
       ]
      },
      {
       "output_type": "stream",
       "stream": "stderr",
       "text": [
        "ERROR (theano.gof.opt): Optimization failure due to: local_dnn_conv_alpha_merge\n"
       ]
      },
      {
       "output_type": "stream",
       "stream": "stderr",
       "text": [
        "ERROR:theano.gof.opt:Optimization failure due to: local_dnn_conv_alpha_merge\n"
       ]
      },
      {
       "output_type": "stream",
       "stream": "stderr",
       "text": [
        "ERROR (theano.gof.opt): TRACEBACK:\n"
       ]
      },
      {
       "output_type": "stream",
       "stream": "stderr",
       "text": [
        "ERROR:theano.gof.opt:TRACEBACK:\n"
       ]
      },
      {
       "output_type": "stream",
       "stream": "stderr",
       "text": [
        "ERROR (theano.gof.opt): Traceback (most recent call last):\n",
        "  File \"/home/jotham/venvs/2014-12-20_datascibowl/lib/python2.7/site-packages/theano/gof/opt.py\", line 1493, in process_node\n",
        "    replacements = lopt.transform(node)\n",
        "  File \"/home/jotham/venvs/2014-12-20_datascibowl/lib/python2.7/site-packages/theano/sandbox/cuda/opt_util.py\", line 56, in opt\n",
        "    lr = grab_cpu_scalar(node.inputs[0], nd=nd)\n",
        "  File \"/home/jotham/venvs/2014-12-20_datascibowl/lib/python2.7/site-packages/theano/sandbox/cuda/opt_util.py\", line 18, in grab_cpu_scalar\n",
        "    return host_from_gpu(n.inputs[0])\n",
        "NameError: global name 'host_from_gpu' is not defined\n",
        "\n"
       ]
      },
      {
       "output_type": "stream",
       "stream": "stderr",
       "text": [
        "ERROR:theano.gof.opt:Traceback (most recent call last):\n",
        "  File \"/home/jotham/venvs/2014-12-20_datascibowl/lib/python2.7/site-packages/theano/gof/opt.py\", line 1493, in process_node\n",
        "    replacements = lopt.transform(node)\n",
        "  File \"/home/jotham/venvs/2014-12-20_datascibowl/lib/python2.7/site-packages/theano/sandbox/cuda/opt_util.py\", line 56, in opt\n",
        "    lr = grab_cpu_scalar(node.inputs[0], nd=nd)\n",
        "  File \"/home/jotham/venvs/2014-12-20_datascibowl/lib/python2.7/site-packages/theano/sandbox/cuda/opt_util.py\", line 18, in grab_cpu_scalar\n",
        "    return host_from_gpu(n.inputs[0])\n",
        "NameError: global name 'host_from_gpu' is not defined\n",
        "\n"
       ]
      },
      {
       "output_type": "stream",
       "stream": "stderr",
       "text": [
        "ERROR (theano.gof.opt): Optimization failure due to: local_dnn_convw_alpha_merge\n"
       ]
      },
      {
       "output_type": "stream",
       "stream": "stderr",
       "text": [
        "ERROR:theano.gof.opt:Optimization failure due to: local_dnn_convw_alpha_merge\n"
       ]
      },
      {
       "output_type": "stream",
       "stream": "stderr",
       "text": [
        "ERROR (theano.gof.opt): TRACEBACK:\n"
       ]
      },
      {
       "output_type": "stream",
       "stream": "stderr",
       "text": [
        "ERROR:theano.gof.opt:TRACEBACK:\n"
       ]
      },
      {
       "output_type": "stream",
       "stream": "stderr",
       "text": [
        "ERROR (theano.gof.opt): Traceback (most recent call last):\n",
        "  File \"/home/jotham/venvs/2014-12-20_datascibowl/lib/python2.7/site-packages/theano/gof/opt.py\", line 1493, in process_node\n",
        "    replacements = lopt.transform(node)\n",
        "  File \"/home/jotham/venvs/2014-12-20_datascibowl/lib/python2.7/site-packages/theano/sandbox/cuda/opt_util.py\", line 56, in opt\n",
        "    lr = grab_cpu_scalar(node.inputs[0], nd=nd)\n",
        "  File \"/home/jotham/venvs/2014-12-20_datascibowl/lib/python2.7/site-packages/theano/sandbox/cuda/opt_util.py\", line 18, in grab_cpu_scalar\n",
        "    return host_from_gpu(n.inputs[0])\n",
        "NameError: global name 'host_from_gpu' is not defined\n",
        "\n"
       ]
      },
      {
       "output_type": "stream",
       "stream": "stderr",
       "text": [
        "ERROR:theano.gof.opt:Traceback (most recent call last):\n",
        "  File \"/home/jotham/venvs/2014-12-20_datascibowl/lib/python2.7/site-packages/theano/gof/opt.py\", line 1493, in process_node\n",
        "    replacements = lopt.transform(node)\n",
        "  File \"/home/jotham/venvs/2014-12-20_datascibowl/lib/python2.7/site-packages/theano/sandbox/cuda/opt_util.py\", line 56, in opt\n",
        "    lr = grab_cpu_scalar(node.inputs[0], nd=nd)\n",
        "  File \"/home/jotham/venvs/2014-12-20_datascibowl/lib/python2.7/site-packages/theano/sandbox/cuda/opt_util.py\", line 18, in grab_cpu_scalar\n",
        "    return host_from_gpu(n.inputs[0])\n",
        "NameError: global name 'host_from_gpu' is not defined\n",
        "\n"
       ]
      },
      {
       "output_type": "stream",
       "stream": "stderr",
       "text": [
        "ERROR (theano.gof.opt): Optimization failure due to: local_dnn_convi_alpha_merge\n"
       ]
      },
      {
       "output_type": "stream",
       "stream": "stderr",
       "text": [
        "ERROR:theano.gof.opt:Optimization failure due to: local_dnn_convi_alpha_merge\n"
       ]
      },
      {
       "output_type": "stream",
       "stream": "stderr",
       "text": [
        "ERROR (theano.gof.opt): TRACEBACK:\n"
       ]
      },
      {
       "output_type": "stream",
       "stream": "stderr",
       "text": [
        "ERROR:theano.gof.opt:TRACEBACK:\n"
       ]
      },
      {
       "output_type": "stream",
       "stream": "stderr",
       "text": [
        "ERROR (theano.gof.opt): Traceback (most recent call last):\n",
        "  File \"/home/jotham/venvs/2014-12-20_datascibowl/lib/python2.7/site-packages/theano/gof/opt.py\", line 1493, in process_node\n",
        "    replacements = lopt.transform(node)\n",
        "  File \"/home/jotham/venvs/2014-12-20_datascibowl/lib/python2.7/site-packages/theano/sandbox/cuda/opt_util.py\", line 56, in opt\n",
        "    lr = grab_cpu_scalar(node.inputs[0], nd=nd)\n",
        "  File \"/home/jotham/venvs/2014-12-20_datascibowl/lib/python2.7/site-packages/theano/sandbox/cuda/opt_util.py\", line 18, in grab_cpu_scalar\n",
        "    return host_from_gpu(n.inputs[0])\n",
        "NameError: global name 'host_from_gpu' is not defined\n",
        "\n"
       ]
      },
      {
       "output_type": "stream",
       "stream": "stderr",
       "text": [
        "ERROR:theano.gof.opt:Traceback (most recent call last):\n",
        "  File \"/home/jotham/venvs/2014-12-20_datascibowl/lib/python2.7/site-packages/theano/gof/opt.py\", line 1493, in process_node\n",
        "    replacements = lopt.transform(node)\n",
        "  File \"/home/jotham/venvs/2014-12-20_datascibowl/lib/python2.7/site-packages/theano/sandbox/cuda/opt_util.py\", line 56, in opt\n",
        "    lr = grab_cpu_scalar(node.inputs[0], nd=nd)\n",
        "  File \"/home/jotham/venvs/2014-12-20_datascibowl/lib/python2.7/site-packages/theano/sandbox/cuda/opt_util.py\", line 18, in grab_cpu_scalar\n",
        "    return host_from_gpu(n.inputs[0])\n",
        "NameError: global name 'host_from_gpu' is not defined\n",
        "\n"
       ]
      },
      {
       "output_type": "stream",
       "stream": "stderr",
       "text": [
        "ERROR (theano.gof.opt): Optimization failure due to: local_dnn_conv_alpha_merge\n"
       ]
      },
      {
       "output_type": "stream",
       "stream": "stderr",
       "text": [
        "ERROR:theano.gof.opt:Optimization failure due to: local_dnn_conv_alpha_merge\n"
       ]
      },
      {
       "output_type": "stream",
       "stream": "stderr",
       "text": [
        "ERROR (theano.gof.opt): TRACEBACK:\n"
       ]
      },
      {
       "output_type": "stream",
       "stream": "stderr",
       "text": [
        "ERROR:theano.gof.opt:TRACEBACK:\n"
       ]
      },
      {
       "output_type": "stream",
       "stream": "stderr",
       "text": [
        "ERROR (theano.gof.opt): Traceback (most recent call last):\n",
        "  File \"/home/jotham/venvs/2014-12-20_datascibowl/lib/python2.7/site-packages/theano/gof/opt.py\", line 1493, in process_node\n",
        "    replacements = lopt.transform(node)\n",
        "  File \"/home/jotham/venvs/2014-12-20_datascibowl/lib/python2.7/site-packages/theano/sandbox/cuda/opt_util.py\", line 56, in opt\n",
        "    lr = grab_cpu_scalar(node.inputs[0], nd=nd)\n",
        "  File \"/home/jotham/venvs/2014-12-20_datascibowl/lib/python2.7/site-packages/theano/sandbox/cuda/opt_util.py\", line 18, in grab_cpu_scalar\n",
        "    return host_from_gpu(n.inputs[0])\n",
        "NameError: global name 'host_from_gpu' is not defined\n",
        "\n"
       ]
      },
      {
       "output_type": "stream",
       "stream": "stderr",
       "text": [
        "ERROR:theano.gof.opt:Traceback (most recent call last):\n",
        "  File \"/home/jotham/venvs/2014-12-20_datascibowl/lib/python2.7/site-packages/theano/gof/opt.py\", line 1493, in process_node\n",
        "    replacements = lopt.transform(node)\n",
        "  File \"/home/jotham/venvs/2014-12-20_datascibowl/lib/python2.7/site-packages/theano/sandbox/cuda/opt_util.py\", line 56, in opt\n",
        "    lr = grab_cpu_scalar(node.inputs[0], nd=nd)\n",
        "  File \"/home/jotham/venvs/2014-12-20_datascibowl/lib/python2.7/site-packages/theano/sandbox/cuda/opt_util.py\", line 18, in grab_cpu_scalar\n",
        "    return host_from_gpu(n.inputs[0])\n",
        "NameError: global name 'host_from_gpu' is not defined\n",
        "\n"
       ]
      },
      {
       "output_type": "stream",
       "stream": "stderr",
       "text": [
        "ERROR (theano.gof.opt): Optimization failure due to: local_dnn_convw_alpha_merge\n"
       ]
      },
      {
       "output_type": "stream",
       "stream": "stderr",
       "text": [
        "ERROR:theano.gof.opt:Optimization failure due to: local_dnn_convw_alpha_merge\n"
       ]
      },
      {
       "output_type": "stream",
       "stream": "stderr",
       "text": [
        "ERROR (theano.gof.opt): TRACEBACK:\n"
       ]
      },
      {
       "output_type": "stream",
       "stream": "stderr",
       "text": [
        "ERROR:theano.gof.opt:TRACEBACK:\n"
       ]
      },
      {
       "output_type": "stream",
       "stream": "stderr",
       "text": [
        "ERROR (theano.gof.opt): Traceback (most recent call last):\n",
        "  File \"/home/jotham/venvs/2014-12-20_datascibowl/lib/python2.7/site-packages/theano/gof/opt.py\", line 1493, in process_node\n",
        "    replacements = lopt.transform(node)\n",
        "  File \"/home/jotham/venvs/2014-12-20_datascibowl/lib/python2.7/site-packages/theano/sandbox/cuda/opt_util.py\", line 56, in opt\n",
        "    lr = grab_cpu_scalar(node.inputs[0], nd=nd)\n",
        "  File \"/home/jotham/venvs/2014-12-20_datascibowl/lib/python2.7/site-packages/theano/sandbox/cuda/opt_util.py\", line 18, in grab_cpu_scalar\n",
        "    return host_from_gpu(n.inputs[0])\n",
        "NameError: global name 'host_from_gpu' is not defined\n",
        "\n"
       ]
      },
      {
       "output_type": "stream",
       "stream": "stderr",
       "text": [
        "ERROR:theano.gof.opt:Traceback (most recent call last):\n",
        "  File \"/home/jotham/venvs/2014-12-20_datascibowl/lib/python2.7/site-packages/theano/gof/opt.py\", line 1493, in process_node\n",
        "    replacements = lopt.transform(node)\n",
        "  File \"/home/jotham/venvs/2014-12-20_datascibowl/lib/python2.7/site-packages/theano/sandbox/cuda/opt_util.py\", line 56, in opt\n",
        "    lr = grab_cpu_scalar(node.inputs[0], nd=nd)\n",
        "  File \"/home/jotham/venvs/2014-12-20_datascibowl/lib/python2.7/site-packages/theano/sandbox/cuda/opt_util.py\", line 18, in grab_cpu_scalar\n",
        "    return host_from_gpu(n.inputs[0])\n",
        "NameError: global name 'host_from_gpu' is not defined\n",
        "\n"
       ]
      },
      {
       "output_type": "stream",
       "stream": "stderr",
       "text": [
        "ERROR (theano.gof.opt): Optimization failure due to: local_dnn_convi_alpha_merge\n"
       ]
      },
      {
       "output_type": "stream",
       "stream": "stderr",
       "text": [
        "ERROR:theano.gof.opt:Optimization failure due to: local_dnn_convi_alpha_merge\n"
       ]
      },
      {
       "output_type": "stream",
       "stream": "stderr",
       "text": [
        "ERROR (theano.gof.opt): TRACEBACK:\n"
       ]
      },
      {
       "output_type": "stream",
       "stream": "stderr",
       "text": [
        "ERROR:theano.gof.opt:TRACEBACK:\n"
       ]
      },
      {
       "output_type": "stream",
       "stream": "stderr",
       "text": [
        "ERROR (theano.gof.opt): Traceback (most recent call last):\n",
        "  File \"/home/jotham/venvs/2014-12-20_datascibowl/lib/python2.7/site-packages/theano/gof/opt.py\", line 1493, in process_node\n",
        "    replacements = lopt.transform(node)\n",
        "  File \"/home/jotham/venvs/2014-12-20_datascibowl/lib/python2.7/site-packages/theano/sandbox/cuda/opt_util.py\", line 56, in opt\n",
        "    lr = grab_cpu_scalar(node.inputs[0], nd=nd)\n",
        "  File \"/home/jotham/venvs/2014-12-20_datascibowl/lib/python2.7/site-packages/theano/sandbox/cuda/opt_util.py\", line 18, in grab_cpu_scalar\n",
        "    return host_from_gpu(n.inputs[0])\n",
        "NameError: global name 'host_from_gpu' is not defined\n",
        "\n"
       ]
      },
      {
       "output_type": "stream",
       "stream": "stderr",
       "text": [
        "ERROR:theano.gof.opt:Traceback (most recent call last):\n",
        "  File \"/home/jotham/venvs/2014-12-20_datascibowl/lib/python2.7/site-packages/theano/gof/opt.py\", line 1493, in process_node\n",
        "    replacements = lopt.transform(node)\n",
        "  File \"/home/jotham/venvs/2014-12-20_datascibowl/lib/python2.7/site-packages/theano/sandbox/cuda/opt_util.py\", line 56, in opt\n",
        "    lr = grab_cpu_scalar(node.inputs[0], nd=nd)\n",
        "  File \"/home/jotham/venvs/2014-12-20_datascibowl/lib/python2.7/site-packages/theano/sandbox/cuda/opt_util.py\", line 18, in grab_cpu_scalar\n",
        "    return host_from_gpu(n.inputs[0])\n",
        "NameError: global name 'host_from_gpu' is not defined\n",
        "\n"
       ]
      },
      {
       "output_type": "stream",
       "stream": "stderr",
       "text": [
        "ERROR (theano.gof.opt): Optimization failure due to: local_dnn_conv_alpha_merge\n"
       ]
      },
      {
       "output_type": "stream",
       "stream": "stderr",
       "text": [
        "ERROR:theano.gof.opt:Optimization failure due to: local_dnn_conv_alpha_merge\n"
       ]
      },
      {
       "output_type": "stream",
       "stream": "stderr",
       "text": [
        "ERROR (theano.gof.opt): TRACEBACK:\n"
       ]
      },
      {
       "output_type": "stream",
       "stream": "stderr",
       "text": [
        "ERROR:theano.gof.opt:TRACEBACK:\n"
       ]
      },
      {
       "output_type": "stream",
       "stream": "stderr",
       "text": [
        "ERROR (theano.gof.opt): Traceback (most recent call last):\n",
        "  File \"/home/jotham/venvs/2014-12-20_datascibowl/lib/python2.7/site-packages/theano/gof/opt.py\", line 1493, in process_node\n",
        "    replacements = lopt.transform(node)\n",
        "  File \"/home/jotham/venvs/2014-12-20_datascibowl/lib/python2.7/site-packages/theano/sandbox/cuda/opt_util.py\", line 56, in opt\n",
        "    lr = grab_cpu_scalar(node.inputs[0], nd=nd)\n",
        "  File \"/home/jotham/venvs/2014-12-20_datascibowl/lib/python2.7/site-packages/theano/sandbox/cuda/opt_util.py\", line 18, in grab_cpu_scalar\n",
        "    return host_from_gpu(n.inputs[0])\n",
        "NameError: global name 'host_from_gpu' is not defined\n",
        "\n"
       ]
      },
      {
       "output_type": "stream",
       "stream": "stderr",
       "text": [
        "ERROR:theano.gof.opt:Traceback (most recent call last):\n",
        "  File \"/home/jotham/venvs/2014-12-20_datascibowl/lib/python2.7/site-packages/theano/gof/opt.py\", line 1493, in process_node\n",
        "    replacements = lopt.transform(node)\n",
        "  File \"/home/jotham/venvs/2014-12-20_datascibowl/lib/python2.7/site-packages/theano/sandbox/cuda/opt_util.py\", line 56, in opt\n",
        "    lr = grab_cpu_scalar(node.inputs[0], nd=nd)\n",
        "  File \"/home/jotham/venvs/2014-12-20_datascibowl/lib/python2.7/site-packages/theano/sandbox/cuda/opt_util.py\", line 18, in grab_cpu_scalar\n",
        "    return host_from_gpu(n.inputs[0])\n",
        "NameError: global name 'host_from_gpu' is not defined\n",
        "\n"
       ]
      },
      {
       "output_type": "stream",
       "stream": "stderr",
       "text": [
        "ERROR (theano.gof.opt): Optimization failure due to: local_dnn_convw_alpha_merge\n"
       ]
      },
      {
       "output_type": "stream",
       "stream": "stderr",
       "text": [
        "ERROR:theano.gof.opt:Optimization failure due to: local_dnn_convw_alpha_merge\n"
       ]
      },
      {
       "output_type": "stream",
       "stream": "stderr",
       "text": [
        "ERROR (theano.gof.opt): TRACEBACK:\n"
       ]
      },
      {
       "output_type": "stream",
       "stream": "stderr",
       "text": [
        "ERROR:theano.gof.opt:TRACEBACK:\n"
       ]
      },
      {
       "output_type": "stream",
       "stream": "stderr",
       "text": [
        "ERROR (theano.gof.opt): Traceback (most recent call last):\n",
        "  File \"/home/jotham/venvs/2014-12-20_datascibowl/lib/python2.7/site-packages/theano/gof/opt.py\", line 1493, in process_node\n",
        "    replacements = lopt.transform(node)\n",
        "  File \"/home/jotham/venvs/2014-12-20_datascibowl/lib/python2.7/site-packages/theano/sandbox/cuda/opt_util.py\", line 56, in opt\n",
        "    lr = grab_cpu_scalar(node.inputs[0], nd=nd)\n",
        "  File \"/home/jotham/venvs/2014-12-20_datascibowl/lib/python2.7/site-packages/theano/sandbox/cuda/opt_util.py\", line 18, in grab_cpu_scalar\n",
        "    return host_from_gpu(n.inputs[0])\n",
        "NameError: global name 'host_from_gpu' is not defined\n",
        "\n"
       ]
      },
      {
       "output_type": "stream",
       "stream": "stderr",
       "text": [
        "ERROR:theano.gof.opt:Traceback (most recent call last):\n",
        "  File \"/home/jotham/venvs/2014-12-20_datascibowl/lib/python2.7/site-packages/theano/gof/opt.py\", line 1493, in process_node\n",
        "    replacements = lopt.transform(node)\n",
        "  File \"/home/jotham/venvs/2014-12-20_datascibowl/lib/python2.7/site-packages/theano/sandbox/cuda/opt_util.py\", line 56, in opt\n",
        "    lr = grab_cpu_scalar(node.inputs[0], nd=nd)\n",
        "  File \"/home/jotham/venvs/2014-12-20_datascibowl/lib/python2.7/site-packages/theano/sandbox/cuda/opt_util.py\", line 18, in grab_cpu_scalar\n",
        "    return host_from_gpu(n.inputs[0])\n",
        "NameError: global name 'host_from_gpu' is not defined\n",
        "\n"
       ]
      },
      {
       "output_type": "stream",
       "stream": "stderr",
       "text": [
        "ERROR (theano.gof.opt): Optimization failure due to: local_dnn_convi_alpha_merge\n"
       ]
      },
      {
       "output_type": "stream",
       "stream": "stderr",
       "text": [
        "ERROR:theano.gof.opt:Optimization failure due to: local_dnn_convi_alpha_merge\n"
       ]
      },
      {
       "output_type": "stream",
       "stream": "stderr",
       "text": [
        "ERROR (theano.gof.opt): TRACEBACK:\n"
       ]
      },
      {
       "output_type": "stream",
       "stream": "stderr",
       "text": [
        "ERROR:theano.gof.opt:TRACEBACK:\n"
       ]
      },
      {
       "output_type": "stream",
       "stream": "stderr",
       "text": [
        "ERROR (theano.gof.opt): Traceback (most recent call last):\n",
        "  File \"/home/jotham/venvs/2014-12-20_datascibowl/lib/python2.7/site-packages/theano/gof/opt.py\", line 1493, in process_node\n",
        "    replacements = lopt.transform(node)\n",
        "  File \"/home/jotham/venvs/2014-12-20_datascibowl/lib/python2.7/site-packages/theano/sandbox/cuda/opt_util.py\", line 56, in opt\n",
        "    lr = grab_cpu_scalar(node.inputs[0], nd=nd)\n",
        "  File \"/home/jotham/venvs/2014-12-20_datascibowl/lib/python2.7/site-packages/theano/sandbox/cuda/opt_util.py\", line 18, in grab_cpu_scalar\n",
        "    return host_from_gpu(n.inputs[0])\n",
        "NameError: global name 'host_from_gpu' is not defined\n",
        "\n"
       ]
      },
      {
       "output_type": "stream",
       "stream": "stderr",
       "text": [
        "ERROR:theano.gof.opt:Traceback (most recent call last):\n",
        "  File \"/home/jotham/venvs/2014-12-20_datascibowl/lib/python2.7/site-packages/theano/gof/opt.py\", line 1493, in process_node\n",
        "    replacements = lopt.transform(node)\n",
        "  File \"/home/jotham/venvs/2014-12-20_datascibowl/lib/python2.7/site-packages/theano/sandbox/cuda/opt_util.py\", line 56, in opt\n",
        "    lr = grab_cpu_scalar(node.inputs[0], nd=nd)\n",
        "  File \"/home/jotham/venvs/2014-12-20_datascibowl/lib/python2.7/site-packages/theano/sandbox/cuda/opt_util.py\", line 18, in grab_cpu_scalar\n",
        "    return host_from_gpu(n.inputs[0])\n",
        "NameError: global name 'host_from_gpu' is not defined\n",
        "\n"
       ]
      },
      {
       "output_type": "stream",
       "stream": "stderr",
       "text": [
        "ERROR (theano.gof.opt): Optimization failure due to: local_dnn_conv_alpha_merge\n"
       ]
      },
      {
       "output_type": "stream",
       "stream": "stderr",
       "text": [
        "ERROR:theano.gof.opt:Optimization failure due to: local_dnn_conv_alpha_merge\n"
       ]
      },
      {
       "output_type": "stream",
       "stream": "stderr",
       "text": [
        "ERROR (theano.gof.opt): TRACEBACK:\n"
       ]
      },
      {
       "output_type": "stream",
       "stream": "stderr",
       "text": [
        "ERROR:theano.gof.opt:TRACEBACK:\n"
       ]
      },
      {
       "output_type": "stream",
       "stream": "stderr",
       "text": [
        "ERROR (theano.gof.opt): Traceback (most recent call last):\n",
        "  File \"/home/jotham/venvs/2014-12-20_datascibowl/lib/python2.7/site-packages/theano/gof/opt.py\", line 1493, in process_node\n",
        "    replacements = lopt.transform(node)\n",
        "  File \"/home/jotham/venvs/2014-12-20_datascibowl/lib/python2.7/site-packages/theano/sandbox/cuda/opt_util.py\", line 56, in opt\n",
        "    lr = grab_cpu_scalar(node.inputs[0], nd=nd)\n",
        "  File \"/home/jotham/venvs/2014-12-20_datascibowl/lib/python2.7/site-packages/theano/sandbox/cuda/opt_util.py\", line 18, in grab_cpu_scalar\n",
        "    return host_from_gpu(n.inputs[0])\n",
        "NameError: global name 'host_from_gpu' is not defined\n",
        "\n"
       ]
      },
      {
       "output_type": "stream",
       "stream": "stderr",
       "text": [
        "ERROR:theano.gof.opt:Traceback (most recent call last):\n",
        "  File \"/home/jotham/venvs/2014-12-20_datascibowl/lib/python2.7/site-packages/theano/gof/opt.py\", line 1493, in process_node\n",
        "    replacements = lopt.transform(node)\n",
        "  File \"/home/jotham/venvs/2014-12-20_datascibowl/lib/python2.7/site-packages/theano/sandbox/cuda/opt_util.py\", line 56, in opt\n",
        "    lr = grab_cpu_scalar(node.inputs[0], nd=nd)\n",
        "  File \"/home/jotham/venvs/2014-12-20_datascibowl/lib/python2.7/site-packages/theano/sandbox/cuda/opt_util.py\", line 18, in grab_cpu_scalar\n",
        "    return host_from_gpu(n.inputs[0])\n",
        "NameError: global name 'host_from_gpu' is not defined\n",
        "\n"
       ]
      },
      {
       "output_type": "stream",
       "stream": "stderr",
       "text": [
        "ERROR (theano.gof.opt): Optimization failure due to: local_dnn_convw_alpha_merge\n"
       ]
      },
      {
       "output_type": "stream",
       "stream": "stderr",
       "text": [
        "ERROR:theano.gof.opt:Optimization failure due to: local_dnn_convw_alpha_merge\n"
       ]
      },
      {
       "output_type": "stream",
       "stream": "stderr",
       "text": [
        "ERROR (theano.gof.opt): TRACEBACK:\n"
       ]
      },
      {
       "output_type": "stream",
       "stream": "stderr",
       "text": [
        "ERROR:theano.gof.opt:TRACEBACK:\n"
       ]
      },
      {
       "output_type": "stream",
       "stream": "stderr",
       "text": [
        "ERROR (theano.gof.opt): Traceback (most recent call last):\n",
        "  File \"/home/jotham/venvs/2014-12-20_datascibowl/lib/python2.7/site-packages/theano/gof/opt.py\", line 1493, in process_node\n",
        "    replacements = lopt.transform(node)\n",
        "  File \"/home/jotham/venvs/2014-12-20_datascibowl/lib/python2.7/site-packages/theano/sandbox/cuda/opt_util.py\", line 56, in opt\n",
        "    lr = grab_cpu_scalar(node.inputs[0], nd=nd)\n",
        "  File \"/home/jotham/venvs/2014-12-20_datascibowl/lib/python2.7/site-packages/theano/sandbox/cuda/opt_util.py\", line 18, in grab_cpu_scalar\n",
        "    return host_from_gpu(n.inputs[0])\n",
        "NameError: global name 'host_from_gpu' is not defined\n",
        "\n"
       ]
      },
      {
       "output_type": "stream",
       "stream": "stderr",
       "text": [
        "ERROR:theano.gof.opt:Traceback (most recent call last):\n",
        "  File \"/home/jotham/venvs/2014-12-20_datascibowl/lib/python2.7/site-packages/theano/gof/opt.py\", line 1493, in process_node\n",
        "    replacements = lopt.transform(node)\n",
        "  File \"/home/jotham/venvs/2014-12-20_datascibowl/lib/python2.7/site-packages/theano/sandbox/cuda/opt_util.py\", line 56, in opt\n",
        "    lr = grab_cpu_scalar(node.inputs[0], nd=nd)\n",
        "  File \"/home/jotham/venvs/2014-12-20_datascibowl/lib/python2.7/site-packages/theano/sandbox/cuda/opt_util.py\", line 18, in grab_cpu_scalar\n",
        "    return host_from_gpu(n.inputs[0])\n",
        "NameError: global name 'host_from_gpu' is not defined\n",
        "\n"
       ]
      },
      {
       "output_type": "stream",
       "stream": "stderr",
       "text": [
        "ERROR (theano.gof.opt): Optimization failure due to: local_dnn_convi_alpha_merge\n"
       ]
      },
      {
       "output_type": "stream",
       "stream": "stderr",
       "text": [
        "ERROR:theano.gof.opt:Optimization failure due to: local_dnn_convi_alpha_merge\n"
       ]
      },
      {
       "output_type": "stream",
       "stream": "stderr",
       "text": [
        "ERROR (theano.gof.opt): TRACEBACK:\n"
       ]
      },
      {
       "output_type": "stream",
       "stream": "stderr",
       "text": [
        "ERROR:theano.gof.opt:TRACEBACK:\n"
       ]
      },
      {
       "output_type": "stream",
       "stream": "stderr",
       "text": [
        "ERROR (theano.gof.opt): Traceback (most recent call last):\n",
        "  File \"/home/jotham/venvs/2014-12-20_datascibowl/lib/python2.7/site-packages/theano/gof/opt.py\", line 1493, in process_node\n",
        "    replacements = lopt.transform(node)\n",
        "  File \"/home/jotham/venvs/2014-12-20_datascibowl/lib/python2.7/site-packages/theano/sandbox/cuda/opt_util.py\", line 56, in opt\n",
        "    lr = grab_cpu_scalar(node.inputs[0], nd=nd)\n",
        "  File \"/home/jotham/venvs/2014-12-20_datascibowl/lib/python2.7/site-packages/theano/sandbox/cuda/opt_util.py\", line 18, in grab_cpu_scalar\n",
        "    return host_from_gpu(n.inputs[0])\n",
        "NameError: global name 'host_from_gpu' is not defined\n",
        "\n"
       ]
      },
      {
       "output_type": "stream",
       "stream": "stderr",
       "text": [
        "ERROR:theano.gof.opt:Traceback (most recent call last):\n",
        "  File \"/home/jotham/venvs/2014-12-20_datascibowl/lib/python2.7/site-packages/theano/gof/opt.py\", line 1493, in process_node\n",
        "    replacements = lopt.transform(node)\n",
        "  File \"/home/jotham/venvs/2014-12-20_datascibowl/lib/python2.7/site-packages/theano/sandbox/cuda/opt_util.py\", line 56, in opt\n",
        "    lr = grab_cpu_scalar(node.inputs[0], nd=nd)\n",
        "  File \"/home/jotham/venvs/2014-12-20_datascibowl/lib/python2.7/site-packages/theano/sandbox/cuda/opt_util.py\", line 18, in grab_cpu_scalar\n",
        "    return host_from_gpu(n.inputs[0])\n",
        "NameError: global name 'host_from_gpu' is not defined\n",
        "\n"
       ]
      },
      {
       "output_type": "stream",
       "stream": "stderr",
       "text": [
        "ERROR (theano.gof.opt): Optimization failure due to: local_dnn_conv_alpha_merge\n"
       ]
      },
      {
       "output_type": "stream",
       "stream": "stderr",
       "text": [
        "ERROR:theano.gof.opt:Optimization failure due to: local_dnn_conv_alpha_merge\n"
       ]
      },
      {
       "output_type": "stream",
       "stream": "stderr",
       "text": [
        "ERROR (theano.gof.opt): TRACEBACK:\n"
       ]
      },
      {
       "output_type": "stream",
       "stream": "stderr",
       "text": [
        "ERROR:theano.gof.opt:TRACEBACK:\n"
       ]
      },
      {
       "output_type": "stream",
       "stream": "stderr",
       "text": [
        "ERROR (theano.gof.opt): Traceback (most recent call last):\n",
        "  File \"/home/jotham/venvs/2014-12-20_datascibowl/lib/python2.7/site-packages/theano/gof/opt.py\", line 1493, in process_node\n",
        "    replacements = lopt.transform(node)\n",
        "  File \"/home/jotham/venvs/2014-12-20_datascibowl/lib/python2.7/site-packages/theano/sandbox/cuda/opt_util.py\", line 56, in opt\n",
        "    lr = grab_cpu_scalar(node.inputs[0], nd=nd)\n",
        "  File \"/home/jotham/venvs/2014-12-20_datascibowl/lib/python2.7/site-packages/theano/sandbox/cuda/opt_util.py\", line 18, in grab_cpu_scalar\n",
        "    return host_from_gpu(n.inputs[0])\n",
        "NameError: global name 'host_from_gpu' is not defined\n",
        "\n"
       ]
      },
      {
       "output_type": "stream",
       "stream": "stderr",
       "text": [
        "ERROR:theano.gof.opt:Traceback (most recent call last):\n",
        "  File \"/home/jotham/venvs/2014-12-20_datascibowl/lib/python2.7/site-packages/theano/gof/opt.py\", line 1493, in process_node\n",
        "    replacements = lopt.transform(node)\n",
        "  File \"/home/jotham/venvs/2014-12-20_datascibowl/lib/python2.7/site-packages/theano/sandbox/cuda/opt_util.py\", line 56, in opt\n",
        "    lr = grab_cpu_scalar(node.inputs[0], nd=nd)\n",
        "  File \"/home/jotham/venvs/2014-12-20_datascibowl/lib/python2.7/site-packages/theano/sandbox/cuda/opt_util.py\", line 18, in grab_cpu_scalar\n",
        "    return host_from_gpu(n.inputs[0])\n",
        "NameError: global name 'host_from_gpu' is not defined\n",
        "\n"
       ]
      },
      {
       "output_type": "stream",
       "stream": "stderr",
       "text": [
        "ERROR (theano.gof.opt): Optimization failure due to: local_dnn_convw_alpha_merge\n"
       ]
      },
      {
       "output_type": "stream",
       "stream": "stderr",
       "text": [
        "ERROR:theano.gof.opt:Optimization failure due to: local_dnn_convw_alpha_merge\n"
       ]
      },
      {
       "output_type": "stream",
       "stream": "stderr",
       "text": [
        "ERROR (theano.gof.opt): TRACEBACK:\n"
       ]
      },
      {
       "output_type": "stream",
       "stream": "stderr",
       "text": [
        "ERROR:theano.gof.opt:TRACEBACK:\n"
       ]
      },
      {
       "output_type": "stream",
       "stream": "stderr",
       "text": [
        "ERROR (theano.gof.opt): Traceback (most recent call last):\n",
        "  File \"/home/jotham/venvs/2014-12-20_datascibowl/lib/python2.7/site-packages/theano/gof/opt.py\", line 1493, in process_node\n",
        "    replacements = lopt.transform(node)\n",
        "  File \"/home/jotham/venvs/2014-12-20_datascibowl/lib/python2.7/site-packages/theano/sandbox/cuda/opt_util.py\", line 56, in opt\n",
        "    lr = grab_cpu_scalar(node.inputs[0], nd=nd)\n",
        "  File \"/home/jotham/venvs/2014-12-20_datascibowl/lib/python2.7/site-packages/theano/sandbox/cuda/opt_util.py\", line 18, in grab_cpu_scalar\n",
        "    return host_from_gpu(n.inputs[0])\n",
        "NameError: global name 'host_from_gpu' is not defined\n",
        "\n"
       ]
      },
      {
       "output_type": "stream",
       "stream": "stderr",
       "text": [
        "ERROR:theano.gof.opt:Traceback (most recent call last):\n",
        "  File \"/home/jotham/venvs/2014-12-20_datascibowl/lib/python2.7/site-packages/theano/gof/opt.py\", line 1493, in process_node\n",
        "    replacements = lopt.transform(node)\n",
        "  File \"/home/jotham/venvs/2014-12-20_datascibowl/lib/python2.7/site-packages/theano/sandbox/cuda/opt_util.py\", line 56, in opt\n",
        "    lr = grab_cpu_scalar(node.inputs[0], nd=nd)\n",
        "  File \"/home/jotham/venvs/2014-12-20_datascibowl/lib/python2.7/site-packages/theano/sandbox/cuda/opt_util.py\", line 18, in grab_cpu_scalar\n",
        "    return host_from_gpu(n.inputs[0])\n",
        "NameError: global name 'host_from_gpu' is not defined\n",
        "\n"
       ]
      },
      {
       "output_type": "stream",
       "stream": "stderr",
       "text": [
        "ERROR (theano.gof.opt): Optimization failure due to: local_dnn_convi_alpha_merge\n"
       ]
      },
      {
       "output_type": "stream",
       "stream": "stderr",
       "text": [
        "ERROR:theano.gof.opt:Optimization failure due to: local_dnn_convi_alpha_merge\n"
       ]
      },
      {
       "output_type": "stream",
       "stream": "stderr",
       "text": [
        "ERROR (theano.gof.opt): TRACEBACK:\n"
       ]
      },
      {
       "output_type": "stream",
       "stream": "stderr",
       "text": [
        "ERROR:theano.gof.opt:TRACEBACK:\n"
       ]
      },
      {
       "output_type": "stream",
       "stream": "stderr",
       "text": [
        "ERROR (theano.gof.opt): Traceback (most recent call last):\n",
        "  File \"/home/jotham/venvs/2014-12-20_datascibowl/lib/python2.7/site-packages/theano/gof/opt.py\", line 1493, in process_node\n",
        "    replacements = lopt.transform(node)\n",
        "  File \"/home/jotham/venvs/2014-12-20_datascibowl/lib/python2.7/site-packages/theano/sandbox/cuda/opt_util.py\", line 56, in opt\n",
        "    lr = grab_cpu_scalar(node.inputs[0], nd=nd)\n",
        "  File \"/home/jotham/venvs/2014-12-20_datascibowl/lib/python2.7/site-packages/theano/sandbox/cuda/opt_util.py\", line 18, in grab_cpu_scalar\n",
        "    return host_from_gpu(n.inputs[0])\n",
        "NameError: global name 'host_from_gpu' is not defined\n",
        "\n"
       ]
      },
      {
       "output_type": "stream",
       "stream": "stderr",
       "text": [
        "ERROR:theano.gof.opt:Traceback (most recent call last):\n",
        "  File \"/home/jotham/venvs/2014-12-20_datascibowl/lib/python2.7/site-packages/theano/gof/opt.py\", line 1493, in process_node\n",
        "    replacements = lopt.transform(node)\n",
        "  File \"/home/jotham/venvs/2014-12-20_datascibowl/lib/python2.7/site-packages/theano/sandbox/cuda/opt_util.py\", line 56, in opt\n",
        "    lr = grab_cpu_scalar(node.inputs[0], nd=nd)\n",
        "  File \"/home/jotham/venvs/2014-12-20_datascibowl/lib/python2.7/site-packages/theano/sandbox/cuda/opt_util.py\", line 18, in grab_cpu_scalar\n",
        "    return host_from_gpu(n.inputs[0])\n",
        "NameError: global name 'host_from_gpu' is not defined\n",
        "\n"
       ]
      },
      {
       "output_type": "stream",
       "stream": "stderr",
       "text": [
        "ERROR (theano.gof.opt): Optimization failure due to: local_dnn_conv_alpha_merge\n"
       ]
      },
      {
       "output_type": "stream",
       "stream": "stderr",
       "text": [
        "ERROR:theano.gof.opt:Optimization failure due to: local_dnn_conv_alpha_merge\n"
       ]
      },
      {
       "output_type": "stream",
       "stream": "stderr",
       "text": [
        "ERROR (theano.gof.opt): TRACEBACK:\n"
       ]
      },
      {
       "output_type": "stream",
       "stream": "stderr",
       "text": [
        "ERROR:theano.gof.opt:TRACEBACK:\n"
       ]
      },
      {
       "output_type": "stream",
       "stream": "stderr",
       "text": [
        "ERROR (theano.gof.opt): Traceback (most recent call last):\n",
        "  File \"/home/jotham/venvs/2014-12-20_datascibowl/lib/python2.7/site-packages/theano/gof/opt.py\", line 1493, in process_node\n",
        "    replacements = lopt.transform(node)\n",
        "  File \"/home/jotham/venvs/2014-12-20_datascibowl/lib/python2.7/site-packages/theano/sandbox/cuda/opt_util.py\", line 56, in opt\n",
        "    lr = grab_cpu_scalar(node.inputs[0], nd=nd)\n",
        "  File \"/home/jotham/venvs/2014-12-20_datascibowl/lib/python2.7/site-packages/theano/sandbox/cuda/opt_util.py\", line 18, in grab_cpu_scalar\n",
        "    return host_from_gpu(n.inputs[0])\n",
        "NameError: global name 'host_from_gpu' is not defined\n",
        "\n"
       ]
      },
      {
       "output_type": "stream",
       "stream": "stderr",
       "text": [
        "ERROR:theano.gof.opt:Traceback (most recent call last):\n",
        "  File \"/home/jotham/venvs/2014-12-20_datascibowl/lib/python2.7/site-packages/theano/gof/opt.py\", line 1493, in process_node\n",
        "    replacements = lopt.transform(node)\n",
        "  File \"/home/jotham/venvs/2014-12-20_datascibowl/lib/python2.7/site-packages/theano/sandbox/cuda/opt_util.py\", line 56, in opt\n",
        "    lr = grab_cpu_scalar(node.inputs[0], nd=nd)\n",
        "  File \"/home/jotham/venvs/2014-12-20_datascibowl/lib/python2.7/site-packages/theano/sandbox/cuda/opt_util.py\", line 18, in grab_cpu_scalar\n",
        "    return host_from_gpu(n.inputs[0])\n",
        "NameError: global name 'host_from_gpu' is not defined\n",
        "\n"
       ]
      },
      {
       "output_type": "stream",
       "stream": "stderr",
       "text": [
        "ERROR (theano.gof.opt): Optimization failure due to: local_dnn_convw_alpha_merge\n"
       ]
      },
      {
       "output_type": "stream",
       "stream": "stderr",
       "text": [
        "ERROR:theano.gof.opt:Optimization failure due to: local_dnn_convw_alpha_merge\n"
       ]
      },
      {
       "output_type": "stream",
       "stream": "stderr",
       "text": [
        "ERROR (theano.gof.opt): TRACEBACK:\n"
       ]
      },
      {
       "output_type": "stream",
       "stream": "stderr",
       "text": [
        "ERROR:theano.gof.opt:TRACEBACK:\n"
       ]
      },
      {
       "output_type": "stream",
       "stream": "stderr",
       "text": [
        "ERROR (theano.gof.opt): Traceback (most recent call last):\n",
        "  File \"/home/jotham/venvs/2014-12-20_datascibowl/lib/python2.7/site-packages/theano/gof/opt.py\", line 1493, in process_node\n",
        "    replacements = lopt.transform(node)\n",
        "  File \"/home/jotham/venvs/2014-12-20_datascibowl/lib/python2.7/site-packages/theano/sandbox/cuda/opt_util.py\", line 56, in opt\n",
        "    lr = grab_cpu_scalar(node.inputs[0], nd=nd)\n",
        "  File \"/home/jotham/venvs/2014-12-20_datascibowl/lib/python2.7/site-packages/theano/sandbox/cuda/opt_util.py\", line 18, in grab_cpu_scalar\n",
        "    return host_from_gpu(n.inputs[0])\n",
        "NameError: global name 'host_from_gpu' is not defined\n",
        "\n"
       ]
      },
      {
       "output_type": "stream",
       "stream": "stderr",
       "text": [
        "ERROR:theano.gof.opt:Traceback (most recent call last):\n",
        "  File \"/home/jotham/venvs/2014-12-20_datascibowl/lib/python2.7/site-packages/theano/gof/opt.py\", line 1493, in process_node\n",
        "    replacements = lopt.transform(node)\n",
        "  File \"/home/jotham/venvs/2014-12-20_datascibowl/lib/python2.7/site-packages/theano/sandbox/cuda/opt_util.py\", line 56, in opt\n",
        "    lr = grab_cpu_scalar(node.inputs[0], nd=nd)\n",
        "  File \"/home/jotham/venvs/2014-12-20_datascibowl/lib/python2.7/site-packages/theano/sandbox/cuda/opt_util.py\", line 18, in grab_cpu_scalar\n",
        "    return host_from_gpu(n.inputs[0])\n",
        "NameError: global name 'host_from_gpu' is not defined\n",
        "\n"
       ]
      },
      {
       "output_type": "stream",
       "stream": "stderr",
       "text": [
        "ERROR (theano.gof.opt): Optimization failure due to: local_dnn_convi_alpha_merge\n"
       ]
      },
      {
       "output_type": "stream",
       "stream": "stderr",
       "text": [
        "ERROR:theano.gof.opt:Optimization failure due to: local_dnn_convi_alpha_merge\n"
       ]
      },
      {
       "output_type": "stream",
       "stream": "stderr",
       "text": [
        "ERROR (theano.gof.opt): TRACEBACK:\n"
       ]
      },
      {
       "output_type": "stream",
       "stream": "stderr",
       "text": [
        "ERROR:theano.gof.opt:TRACEBACK:\n"
       ]
      },
      {
       "output_type": "stream",
       "stream": "stderr",
       "text": [
        "ERROR (theano.gof.opt): Traceback (most recent call last):\n",
        "  File \"/home/jotham/venvs/2014-12-20_datascibowl/lib/python2.7/site-packages/theano/gof/opt.py\", line 1493, in process_node\n",
        "    replacements = lopt.transform(node)\n",
        "  File \"/home/jotham/venvs/2014-12-20_datascibowl/lib/python2.7/site-packages/theano/sandbox/cuda/opt_util.py\", line 56, in opt\n",
        "    lr = grab_cpu_scalar(node.inputs[0], nd=nd)\n",
        "  File \"/home/jotham/venvs/2014-12-20_datascibowl/lib/python2.7/site-packages/theano/sandbox/cuda/opt_util.py\", line 18, in grab_cpu_scalar\n",
        "    return host_from_gpu(n.inputs[0])\n",
        "NameError: global name 'host_from_gpu' is not defined\n",
        "\n"
       ]
      },
      {
       "output_type": "stream",
       "stream": "stderr",
       "text": [
        "ERROR:theano.gof.opt:Traceback (most recent call last):\n",
        "  File \"/home/jotham/venvs/2014-12-20_datascibowl/lib/python2.7/site-packages/theano/gof/opt.py\", line 1493, in process_node\n",
        "    replacements = lopt.transform(node)\n",
        "  File \"/home/jotham/venvs/2014-12-20_datascibowl/lib/python2.7/site-packages/theano/sandbox/cuda/opt_util.py\", line 56, in opt\n",
        "    lr = grab_cpu_scalar(node.inputs[0], nd=nd)\n",
        "  File \"/home/jotham/venvs/2014-12-20_datascibowl/lib/python2.7/site-packages/theano/sandbox/cuda/opt_util.py\", line 18, in grab_cpu_scalar\n",
        "    return host_from_gpu(n.inputs[0])\n",
        "NameError: global name 'host_from_gpu' is not defined\n",
        "\n"
       ]
      },
      {
       "output_type": "stream",
       "stream": "stderr",
       "text": [
        "ERROR (theano.gof.opt): Optimization failure due to: local_dnn_conv_alpha_merge\n"
       ]
      },
      {
       "output_type": "stream",
       "stream": "stderr",
       "text": [
        "ERROR:theano.gof.opt:Optimization failure due to: local_dnn_conv_alpha_merge\n"
       ]
      },
      {
       "output_type": "stream",
       "stream": "stderr",
       "text": [
        "ERROR (theano.gof.opt): TRACEBACK:\n"
       ]
      },
      {
       "output_type": "stream",
       "stream": "stderr",
       "text": [
        "ERROR:theano.gof.opt:TRACEBACK:\n"
       ]
      },
      {
       "output_type": "stream",
       "stream": "stderr",
       "text": [
        "ERROR (theano.gof.opt): Traceback (most recent call last):\n",
        "  File \"/home/jotham/venvs/2014-12-20_datascibowl/lib/python2.7/site-packages/theano/gof/opt.py\", line 1493, in process_node\n",
        "    replacements = lopt.transform(node)\n",
        "  File \"/home/jotham/venvs/2014-12-20_datascibowl/lib/python2.7/site-packages/theano/sandbox/cuda/opt_util.py\", line 56, in opt\n",
        "    lr = grab_cpu_scalar(node.inputs[0], nd=nd)\n",
        "  File \"/home/jotham/venvs/2014-12-20_datascibowl/lib/python2.7/site-packages/theano/sandbox/cuda/opt_util.py\", line 18, in grab_cpu_scalar\n",
        "    return host_from_gpu(n.inputs[0])\n",
        "NameError: global name 'host_from_gpu' is not defined\n",
        "\n"
       ]
      },
      {
       "output_type": "stream",
       "stream": "stderr",
       "text": [
        "ERROR:theano.gof.opt:Traceback (most recent call last):\n",
        "  File \"/home/jotham/venvs/2014-12-20_datascibowl/lib/python2.7/site-packages/theano/gof/opt.py\", line 1493, in process_node\n",
        "    replacements = lopt.transform(node)\n",
        "  File \"/home/jotham/venvs/2014-12-20_datascibowl/lib/python2.7/site-packages/theano/sandbox/cuda/opt_util.py\", line 56, in opt\n",
        "    lr = grab_cpu_scalar(node.inputs[0], nd=nd)\n",
        "  File \"/home/jotham/venvs/2014-12-20_datascibowl/lib/python2.7/site-packages/theano/sandbox/cuda/opt_util.py\", line 18, in grab_cpu_scalar\n",
        "    return host_from_gpu(n.inputs[0])\n",
        "NameError: global name 'host_from_gpu' is not defined\n",
        "\n"
       ]
      },
      {
       "output_type": "stream",
       "stream": "stderr",
       "text": [
        "ERROR (theano.gof.opt): Optimization failure due to: local_dnn_convw_alpha_merge\n"
       ]
      },
      {
       "output_type": "stream",
       "stream": "stderr",
       "text": [
        "ERROR:theano.gof.opt:Optimization failure due to: local_dnn_convw_alpha_merge\n"
       ]
      },
      {
       "output_type": "stream",
       "stream": "stderr",
       "text": [
        "ERROR (theano.gof.opt): TRACEBACK:\n"
       ]
      },
      {
       "output_type": "stream",
       "stream": "stderr",
       "text": [
        "ERROR:theano.gof.opt:TRACEBACK:\n"
       ]
      },
      {
       "output_type": "stream",
       "stream": "stderr",
       "text": [
        "ERROR (theano.gof.opt): Traceback (most recent call last):\n",
        "  File \"/home/jotham/venvs/2014-12-20_datascibowl/lib/python2.7/site-packages/theano/gof/opt.py\", line 1493, in process_node\n",
        "    replacements = lopt.transform(node)\n",
        "  File \"/home/jotham/venvs/2014-12-20_datascibowl/lib/python2.7/site-packages/theano/sandbox/cuda/opt_util.py\", line 56, in opt\n",
        "    lr = grab_cpu_scalar(node.inputs[0], nd=nd)\n",
        "  File \"/home/jotham/venvs/2014-12-20_datascibowl/lib/python2.7/site-packages/theano/sandbox/cuda/opt_util.py\", line 18, in grab_cpu_scalar\n",
        "    return host_from_gpu(n.inputs[0])\n",
        "NameError: global name 'host_from_gpu' is not defined\n",
        "\n"
       ]
      },
      {
       "output_type": "stream",
       "stream": "stderr",
       "text": [
        "ERROR:theano.gof.opt:Traceback (most recent call last):\n",
        "  File \"/home/jotham/venvs/2014-12-20_datascibowl/lib/python2.7/site-packages/theano/gof/opt.py\", line 1493, in process_node\n",
        "    replacements = lopt.transform(node)\n",
        "  File \"/home/jotham/venvs/2014-12-20_datascibowl/lib/python2.7/site-packages/theano/sandbox/cuda/opt_util.py\", line 56, in opt\n",
        "    lr = grab_cpu_scalar(node.inputs[0], nd=nd)\n",
        "  File \"/home/jotham/venvs/2014-12-20_datascibowl/lib/python2.7/site-packages/theano/sandbox/cuda/opt_util.py\", line 18, in grab_cpu_scalar\n",
        "    return host_from_gpu(n.inputs[0])\n",
        "NameError: global name 'host_from_gpu' is not defined\n",
        "\n"
       ]
      },
      {
       "output_type": "stream",
       "stream": "stderr",
       "text": [
        "ERROR (theano.gof.opt): Optimization failure due to: local_dnn_convi_alpha_merge\n"
       ]
      },
      {
       "output_type": "stream",
       "stream": "stderr",
       "text": [
        "ERROR:theano.gof.opt:Optimization failure due to: local_dnn_convi_alpha_merge\n"
       ]
      },
      {
       "output_type": "stream",
       "stream": "stderr",
       "text": [
        "ERROR (theano.gof.opt): TRACEBACK:\n"
       ]
      },
      {
       "output_type": "stream",
       "stream": "stderr",
       "text": [
        "ERROR:theano.gof.opt:TRACEBACK:\n"
       ]
      },
      {
       "output_type": "stream",
       "stream": "stderr",
       "text": [
        "ERROR (theano.gof.opt): Traceback (most recent call last):\n",
        "  File \"/home/jotham/venvs/2014-12-20_datascibowl/lib/python2.7/site-packages/theano/gof/opt.py\", line 1493, in process_node\n",
        "    replacements = lopt.transform(node)\n",
        "  File \"/home/jotham/venvs/2014-12-20_datascibowl/lib/python2.7/site-packages/theano/sandbox/cuda/opt_util.py\", line 56, in opt\n",
        "    lr = grab_cpu_scalar(node.inputs[0], nd=nd)\n",
        "  File \"/home/jotham/venvs/2014-12-20_datascibowl/lib/python2.7/site-packages/theano/sandbox/cuda/opt_util.py\", line 18, in grab_cpu_scalar\n",
        "    return host_from_gpu(n.inputs[0])\n",
        "NameError: global name 'host_from_gpu' is not defined\n",
        "\n"
       ]
      },
      {
       "output_type": "stream",
       "stream": "stderr",
       "text": [
        "ERROR:theano.gof.opt:Traceback (most recent call last):\n",
        "  File \"/home/jotham/venvs/2014-12-20_datascibowl/lib/python2.7/site-packages/theano/gof/opt.py\", line 1493, in process_node\n",
        "    replacements = lopt.transform(node)\n",
        "  File \"/home/jotham/venvs/2014-12-20_datascibowl/lib/python2.7/site-packages/theano/sandbox/cuda/opt_util.py\", line 56, in opt\n",
        "    lr = grab_cpu_scalar(node.inputs[0], nd=nd)\n",
        "  File \"/home/jotham/venvs/2014-12-20_datascibowl/lib/python2.7/site-packages/theano/sandbox/cuda/opt_util.py\", line 18, in grab_cpu_scalar\n",
        "    return host_from_gpu(n.inputs[0])\n",
        "NameError: global name 'host_from_gpu' is not defined\n",
        "\n"
       ]
      },
      {
       "output_type": "stream",
       "stream": "stderr",
       "text": [
        "ERROR (theano.gof.opt): Optimization failure due to: local_dnn_conv_alpha_merge\n"
       ]
      },
      {
       "output_type": "stream",
       "stream": "stderr",
       "text": [
        "ERROR:theano.gof.opt:Optimization failure due to: local_dnn_conv_alpha_merge\n"
       ]
      },
      {
       "output_type": "stream",
       "stream": "stderr",
       "text": [
        "ERROR (theano.gof.opt): TRACEBACK:\n"
       ]
      },
      {
       "output_type": "stream",
       "stream": "stderr",
       "text": [
        "ERROR:theano.gof.opt:TRACEBACK:\n"
       ]
      },
      {
       "output_type": "stream",
       "stream": "stderr",
       "text": [
        "ERROR (theano.gof.opt): Traceback (most recent call last):\n",
        "  File \"/home/jotham/venvs/2014-12-20_datascibowl/lib/python2.7/site-packages/theano/gof/opt.py\", line 1493, in process_node\n",
        "    replacements = lopt.transform(node)\n",
        "  File \"/home/jotham/venvs/2014-12-20_datascibowl/lib/python2.7/site-packages/theano/sandbox/cuda/opt_util.py\", line 56, in opt\n",
        "    lr = grab_cpu_scalar(node.inputs[0], nd=nd)\n",
        "  File \"/home/jotham/venvs/2014-12-20_datascibowl/lib/python2.7/site-packages/theano/sandbox/cuda/opt_util.py\", line 18, in grab_cpu_scalar\n",
        "    return host_from_gpu(n.inputs[0])\n",
        "NameError: global name 'host_from_gpu' is not defined\n",
        "\n"
       ]
      },
      {
       "output_type": "stream",
       "stream": "stderr",
       "text": [
        "ERROR:theano.gof.opt:Traceback (most recent call last):\n",
        "  File \"/home/jotham/venvs/2014-12-20_datascibowl/lib/python2.7/site-packages/theano/gof/opt.py\", line 1493, in process_node\n",
        "    replacements = lopt.transform(node)\n",
        "  File \"/home/jotham/venvs/2014-12-20_datascibowl/lib/python2.7/site-packages/theano/sandbox/cuda/opt_util.py\", line 56, in opt\n",
        "    lr = grab_cpu_scalar(node.inputs[0], nd=nd)\n",
        "  File \"/home/jotham/venvs/2014-12-20_datascibowl/lib/python2.7/site-packages/theano/sandbox/cuda/opt_util.py\", line 18, in grab_cpu_scalar\n",
        "    return host_from_gpu(n.inputs[0])\n",
        "NameError: global name 'host_from_gpu' is not defined\n",
        "\n"
       ]
      },
      {
       "output_type": "stream",
       "stream": "stderr",
       "text": [
        "ERROR (theano.gof.opt): Optimization failure due to: local_dnn_convw_alpha_merge\n"
       ]
      },
      {
       "output_type": "stream",
       "stream": "stderr",
       "text": [
        "ERROR:theano.gof.opt:Optimization failure due to: local_dnn_convw_alpha_merge\n"
       ]
      },
      {
       "output_type": "stream",
       "stream": "stderr",
       "text": [
        "ERROR (theano.gof.opt): TRACEBACK:\n"
       ]
      },
      {
       "output_type": "stream",
       "stream": "stderr",
       "text": [
        "ERROR:theano.gof.opt:TRACEBACK:\n"
       ]
      },
      {
       "output_type": "stream",
       "stream": "stderr",
       "text": [
        "ERROR (theano.gof.opt): Traceback (most recent call last):\n",
        "  File \"/home/jotham/venvs/2014-12-20_datascibowl/lib/python2.7/site-packages/theano/gof/opt.py\", line 1493, in process_node\n",
        "    replacements = lopt.transform(node)\n",
        "  File \"/home/jotham/venvs/2014-12-20_datascibowl/lib/python2.7/site-packages/theano/sandbox/cuda/opt_util.py\", line 56, in opt\n",
        "    lr = grab_cpu_scalar(node.inputs[0], nd=nd)\n",
        "  File \"/home/jotham/venvs/2014-12-20_datascibowl/lib/python2.7/site-packages/theano/sandbox/cuda/opt_util.py\", line 18, in grab_cpu_scalar\n",
        "    return host_from_gpu(n.inputs[0])\n",
        "NameError: global name 'host_from_gpu' is not defined\n",
        "\n"
       ]
      },
      {
       "output_type": "stream",
       "stream": "stderr",
       "text": [
        "ERROR:theano.gof.opt:Traceback (most recent call last):\n",
        "  File \"/home/jotham/venvs/2014-12-20_datascibowl/lib/python2.7/site-packages/theano/gof/opt.py\", line 1493, in process_node\n",
        "    replacements = lopt.transform(node)\n",
        "  File \"/home/jotham/venvs/2014-12-20_datascibowl/lib/python2.7/site-packages/theano/sandbox/cuda/opt_util.py\", line 56, in opt\n",
        "    lr = grab_cpu_scalar(node.inputs[0], nd=nd)\n",
        "  File \"/home/jotham/venvs/2014-12-20_datascibowl/lib/python2.7/site-packages/theano/sandbox/cuda/opt_util.py\", line 18, in grab_cpu_scalar\n",
        "    return host_from_gpu(n.inputs[0])\n",
        "NameError: global name 'host_from_gpu' is not defined\n",
        "\n"
       ]
      },
      {
       "output_type": "stream",
       "stream": "stderr",
       "text": [
        "ERROR (theano.gof.opt): Optimization failure due to: local_dnn_convi_alpha_merge\n"
       ]
      },
      {
       "output_type": "stream",
       "stream": "stderr",
       "text": [
        "ERROR:theano.gof.opt:Optimization failure due to: local_dnn_convi_alpha_merge\n"
       ]
      },
      {
       "output_type": "stream",
       "stream": "stderr",
       "text": [
        "ERROR (theano.gof.opt): TRACEBACK:\n"
       ]
      },
      {
       "output_type": "stream",
       "stream": "stderr",
       "text": [
        "ERROR:theano.gof.opt:TRACEBACK:\n"
       ]
      },
      {
       "output_type": "stream",
       "stream": "stderr",
       "text": [
        "ERROR (theano.gof.opt): Traceback (most recent call last):\n",
        "  File \"/home/jotham/venvs/2014-12-20_datascibowl/lib/python2.7/site-packages/theano/gof/opt.py\", line 1493, in process_node\n",
        "    replacements = lopt.transform(node)\n",
        "  File \"/home/jotham/venvs/2014-12-20_datascibowl/lib/python2.7/site-packages/theano/sandbox/cuda/opt_util.py\", line 56, in opt\n",
        "    lr = grab_cpu_scalar(node.inputs[0], nd=nd)\n",
        "  File \"/home/jotham/venvs/2014-12-20_datascibowl/lib/python2.7/site-packages/theano/sandbox/cuda/opt_util.py\", line 18, in grab_cpu_scalar\n",
        "    return host_from_gpu(n.inputs[0])\n",
        "NameError: global name 'host_from_gpu' is not defined\n",
        "\n"
       ]
      },
      {
       "output_type": "stream",
       "stream": "stderr",
       "text": [
        "ERROR:theano.gof.opt:Traceback (most recent call last):\n",
        "  File \"/home/jotham/venvs/2014-12-20_datascibowl/lib/python2.7/site-packages/theano/gof/opt.py\", line 1493, in process_node\n",
        "    replacements = lopt.transform(node)\n",
        "  File \"/home/jotham/venvs/2014-12-20_datascibowl/lib/python2.7/site-packages/theano/sandbox/cuda/opt_util.py\", line 56, in opt\n",
        "    lr = grab_cpu_scalar(node.inputs[0], nd=nd)\n",
        "  File \"/home/jotham/venvs/2014-12-20_datascibowl/lib/python2.7/site-packages/theano/sandbox/cuda/opt_util.py\", line 18, in grab_cpu_scalar\n",
        "    return host_from_gpu(n.inputs[0])\n",
        "NameError: global name 'host_from_gpu' is not defined\n",
        "\n"
       ]
      },
      {
       "output_type": "stream",
       "stream": "stderr",
       "text": [
        "ERROR (theano.gof.opt): Optimization failure due to: local_dnn_conv_alpha_merge\n"
       ]
      },
      {
       "output_type": "stream",
       "stream": "stderr",
       "text": [
        "ERROR:theano.gof.opt:Optimization failure due to: local_dnn_conv_alpha_merge\n"
       ]
      },
      {
       "output_type": "stream",
       "stream": "stderr",
       "text": [
        "ERROR (theano.gof.opt): TRACEBACK:\n"
       ]
      },
      {
       "output_type": "stream",
       "stream": "stderr",
       "text": [
        "ERROR:theano.gof.opt:TRACEBACK:\n"
       ]
      },
      {
       "output_type": "stream",
       "stream": "stderr",
       "text": [
        "ERROR (theano.gof.opt): Traceback (most recent call last):\n",
        "  File \"/home/jotham/venvs/2014-12-20_datascibowl/lib/python2.7/site-packages/theano/gof/opt.py\", line 1493, in process_node\n",
        "    replacements = lopt.transform(node)\n",
        "  File \"/home/jotham/venvs/2014-12-20_datascibowl/lib/python2.7/site-packages/theano/sandbox/cuda/opt_util.py\", line 56, in opt\n",
        "    lr = grab_cpu_scalar(node.inputs[0], nd=nd)\n",
        "  File \"/home/jotham/venvs/2014-12-20_datascibowl/lib/python2.7/site-packages/theano/sandbox/cuda/opt_util.py\", line 18, in grab_cpu_scalar\n",
        "    return host_from_gpu(n.inputs[0])\n",
        "NameError: global name 'host_from_gpu' is not defined\n",
        "\n"
       ]
      },
      {
       "output_type": "stream",
       "stream": "stderr",
       "text": [
        "ERROR:theano.gof.opt:Traceback (most recent call last):\n",
        "  File \"/home/jotham/venvs/2014-12-20_datascibowl/lib/python2.7/site-packages/theano/gof/opt.py\", line 1493, in process_node\n",
        "    replacements = lopt.transform(node)\n",
        "  File \"/home/jotham/venvs/2014-12-20_datascibowl/lib/python2.7/site-packages/theano/sandbox/cuda/opt_util.py\", line 56, in opt\n",
        "    lr = grab_cpu_scalar(node.inputs[0], nd=nd)\n",
        "  File \"/home/jotham/venvs/2014-12-20_datascibowl/lib/python2.7/site-packages/theano/sandbox/cuda/opt_util.py\", line 18, in grab_cpu_scalar\n",
        "    return host_from_gpu(n.inputs[0])\n",
        "NameError: global name 'host_from_gpu' is not defined\n",
        "\n"
       ]
      },
      {
       "output_type": "stream",
       "stream": "stderr",
       "text": [
        "ERROR (theano.gof.opt): Optimization failure due to: local_dnn_convw_alpha_merge\n"
       ]
      },
      {
       "output_type": "stream",
       "stream": "stderr",
       "text": [
        "ERROR:theano.gof.opt:Optimization failure due to: local_dnn_convw_alpha_merge\n"
       ]
      },
      {
       "output_type": "stream",
       "stream": "stderr",
       "text": [
        "ERROR (theano.gof.opt): TRACEBACK:\n"
       ]
      },
      {
       "output_type": "stream",
       "stream": "stderr",
       "text": [
        "ERROR:theano.gof.opt:TRACEBACK:\n"
       ]
      },
      {
       "output_type": "stream",
       "stream": "stderr",
       "text": [
        "ERROR (theano.gof.opt): Traceback (most recent call last):\n",
        "  File \"/home/jotham/venvs/2014-12-20_datascibowl/lib/python2.7/site-packages/theano/gof/opt.py\", line 1493, in process_node\n",
        "    replacements = lopt.transform(node)\n",
        "  File \"/home/jotham/venvs/2014-12-20_datascibowl/lib/python2.7/site-packages/theano/sandbox/cuda/opt_util.py\", line 56, in opt\n",
        "    lr = grab_cpu_scalar(node.inputs[0], nd=nd)\n",
        "  File \"/home/jotham/venvs/2014-12-20_datascibowl/lib/python2.7/site-packages/theano/sandbox/cuda/opt_util.py\", line 18, in grab_cpu_scalar\n",
        "    return host_from_gpu(n.inputs[0])\n",
        "NameError: global name 'host_from_gpu' is not defined\n",
        "\n"
       ]
      },
      {
       "output_type": "stream",
       "stream": "stderr",
       "text": [
        "ERROR:theano.gof.opt:Traceback (most recent call last):\n",
        "  File \"/home/jotham/venvs/2014-12-20_datascibowl/lib/python2.7/site-packages/theano/gof/opt.py\", line 1493, in process_node\n",
        "    replacements = lopt.transform(node)\n",
        "  File \"/home/jotham/venvs/2014-12-20_datascibowl/lib/python2.7/site-packages/theano/sandbox/cuda/opt_util.py\", line 56, in opt\n",
        "    lr = grab_cpu_scalar(node.inputs[0], nd=nd)\n",
        "  File \"/home/jotham/venvs/2014-12-20_datascibowl/lib/python2.7/site-packages/theano/sandbox/cuda/opt_util.py\", line 18, in grab_cpu_scalar\n",
        "    return host_from_gpu(n.inputs[0])\n",
        "NameError: global name 'host_from_gpu' is not defined\n",
        "\n"
       ]
      },
      {
       "output_type": "stream",
       "stream": "stderr",
       "text": [
        "ERROR (theano.gof.opt): Optimization failure due to: local_dnn_convi_alpha_merge\n"
       ]
      },
      {
       "output_type": "stream",
       "stream": "stderr",
       "text": [
        "ERROR:theano.gof.opt:Optimization failure due to: local_dnn_convi_alpha_merge\n"
       ]
      },
      {
       "output_type": "stream",
       "stream": "stderr",
       "text": [
        "ERROR (theano.gof.opt): TRACEBACK:\n"
       ]
      },
      {
       "output_type": "stream",
       "stream": "stderr",
       "text": [
        "ERROR:theano.gof.opt:TRACEBACK:\n"
       ]
      },
      {
       "output_type": "stream",
       "stream": "stderr",
       "text": [
        "ERROR (theano.gof.opt): Traceback (most recent call last):\n",
        "  File \"/home/jotham/venvs/2014-12-20_datascibowl/lib/python2.7/site-packages/theano/gof/opt.py\", line 1493, in process_node\n",
        "    replacements = lopt.transform(node)\n",
        "  File \"/home/jotham/venvs/2014-12-20_datascibowl/lib/python2.7/site-packages/theano/sandbox/cuda/opt_util.py\", line 56, in opt\n",
        "    lr = grab_cpu_scalar(node.inputs[0], nd=nd)\n",
        "  File \"/home/jotham/venvs/2014-12-20_datascibowl/lib/python2.7/site-packages/theano/sandbox/cuda/opt_util.py\", line 18, in grab_cpu_scalar\n",
        "    return host_from_gpu(n.inputs[0])\n",
        "NameError: global name 'host_from_gpu' is not defined\n",
        "\n"
       ]
      },
      {
       "output_type": "stream",
       "stream": "stderr",
       "text": [
        "ERROR:theano.gof.opt:Traceback (most recent call last):\n",
        "  File \"/home/jotham/venvs/2014-12-20_datascibowl/lib/python2.7/site-packages/theano/gof/opt.py\", line 1493, in process_node\n",
        "    replacements = lopt.transform(node)\n",
        "  File \"/home/jotham/venvs/2014-12-20_datascibowl/lib/python2.7/site-packages/theano/sandbox/cuda/opt_util.py\", line 56, in opt\n",
        "    lr = grab_cpu_scalar(node.inputs[0], nd=nd)\n",
        "  File \"/home/jotham/venvs/2014-12-20_datascibowl/lib/python2.7/site-packages/theano/sandbox/cuda/opt_util.py\", line 18, in grab_cpu_scalar\n",
        "    return host_from_gpu(n.inputs[0])\n",
        "NameError: global name 'host_from_gpu' is not defined\n",
        "\n"
       ]
      },
      {
       "output_type": "stream",
       "stream": "stderr",
       "text": [
        "ERROR (theano.gof.opt): Optimization failure due to: local_dnn_conv_alpha_merge\n"
       ]
      },
      {
       "output_type": "stream",
       "stream": "stderr",
       "text": [
        "ERROR:theano.gof.opt:Optimization failure due to: local_dnn_conv_alpha_merge\n"
       ]
      },
      {
       "output_type": "stream",
       "stream": "stderr",
       "text": [
        "ERROR (theano.gof.opt): TRACEBACK:\n"
       ]
      },
      {
       "output_type": "stream",
       "stream": "stderr",
       "text": [
        "ERROR:theano.gof.opt:TRACEBACK:\n"
       ]
      },
      {
       "output_type": "stream",
       "stream": "stderr",
       "text": [
        "ERROR (theano.gof.opt): Traceback (most recent call last):\n",
        "  File \"/home/jotham/venvs/2014-12-20_datascibowl/lib/python2.7/site-packages/theano/gof/opt.py\", line 1493, in process_node\n",
        "    replacements = lopt.transform(node)\n",
        "  File \"/home/jotham/venvs/2014-12-20_datascibowl/lib/python2.7/site-packages/theano/sandbox/cuda/opt_util.py\", line 56, in opt\n",
        "    lr = grab_cpu_scalar(node.inputs[0], nd=nd)\n",
        "  File \"/home/jotham/venvs/2014-12-20_datascibowl/lib/python2.7/site-packages/theano/sandbox/cuda/opt_util.py\", line 18, in grab_cpu_scalar\n",
        "    return host_from_gpu(n.inputs[0])\n",
        "NameError: global name 'host_from_gpu' is not defined\n",
        "\n"
       ]
      },
      {
       "output_type": "stream",
       "stream": "stderr",
       "text": [
        "ERROR:theano.gof.opt:Traceback (most recent call last):\n",
        "  File \"/home/jotham/venvs/2014-12-20_datascibowl/lib/python2.7/site-packages/theano/gof/opt.py\", line 1493, in process_node\n",
        "    replacements = lopt.transform(node)\n",
        "  File \"/home/jotham/venvs/2014-12-20_datascibowl/lib/python2.7/site-packages/theano/sandbox/cuda/opt_util.py\", line 56, in opt\n",
        "    lr = grab_cpu_scalar(node.inputs[0], nd=nd)\n",
        "  File \"/home/jotham/venvs/2014-12-20_datascibowl/lib/python2.7/site-packages/theano/sandbox/cuda/opt_util.py\", line 18, in grab_cpu_scalar\n",
        "    return host_from_gpu(n.inputs[0])\n",
        "NameError: global name 'host_from_gpu' is not defined\n",
        "\n"
       ]
      },
      {
       "output_type": "stream",
       "stream": "stderr",
       "text": [
        "ERROR (theano.gof.opt): Optimization failure due to: local_dnn_convw_alpha_merge\n"
       ]
      },
      {
       "output_type": "stream",
       "stream": "stderr",
       "text": [
        "ERROR:theano.gof.opt:Optimization failure due to: local_dnn_convw_alpha_merge\n"
       ]
      },
      {
       "output_type": "stream",
       "stream": "stderr",
       "text": [
        "ERROR (theano.gof.opt): TRACEBACK:\n"
       ]
      },
      {
       "output_type": "stream",
       "stream": "stderr",
       "text": [
        "ERROR:theano.gof.opt:TRACEBACK:\n"
       ]
      },
      {
       "output_type": "stream",
       "stream": "stderr",
       "text": [
        "ERROR (theano.gof.opt): Traceback (most recent call last):\n",
        "  File \"/home/jotham/venvs/2014-12-20_datascibowl/lib/python2.7/site-packages/theano/gof/opt.py\", line 1493, in process_node\n",
        "    replacements = lopt.transform(node)\n",
        "  File \"/home/jotham/venvs/2014-12-20_datascibowl/lib/python2.7/site-packages/theano/sandbox/cuda/opt_util.py\", line 56, in opt\n",
        "    lr = grab_cpu_scalar(node.inputs[0], nd=nd)\n",
        "  File \"/home/jotham/venvs/2014-12-20_datascibowl/lib/python2.7/site-packages/theano/sandbox/cuda/opt_util.py\", line 18, in grab_cpu_scalar\n",
        "    return host_from_gpu(n.inputs[0])\n",
        "NameError: global name 'host_from_gpu' is not defined\n",
        "\n"
       ]
      },
      {
       "output_type": "stream",
       "stream": "stderr",
       "text": [
        "ERROR:theano.gof.opt:Traceback (most recent call last):\n",
        "  File \"/home/jotham/venvs/2014-12-20_datascibowl/lib/python2.7/site-packages/theano/gof/opt.py\", line 1493, in process_node\n",
        "    replacements = lopt.transform(node)\n",
        "  File \"/home/jotham/venvs/2014-12-20_datascibowl/lib/python2.7/site-packages/theano/sandbox/cuda/opt_util.py\", line 56, in opt\n",
        "    lr = grab_cpu_scalar(node.inputs[0], nd=nd)\n",
        "  File \"/home/jotham/venvs/2014-12-20_datascibowl/lib/python2.7/site-packages/theano/sandbox/cuda/opt_util.py\", line 18, in grab_cpu_scalar\n",
        "    return host_from_gpu(n.inputs[0])\n",
        "NameError: global name 'host_from_gpu' is not defined\n",
        "\n"
       ]
      },
      {
       "output_type": "stream",
       "stream": "stderr",
       "text": [
        "ERROR (theano.gof.opt): Optimization failure due to: local_dnn_convi_alpha_merge\n"
       ]
      },
      {
       "output_type": "stream",
       "stream": "stderr",
       "text": [
        "ERROR:theano.gof.opt:Optimization failure due to: local_dnn_convi_alpha_merge\n"
       ]
      },
      {
       "output_type": "stream",
       "stream": "stderr",
       "text": [
        "ERROR (theano.gof.opt): TRACEBACK:\n"
       ]
      },
      {
       "output_type": "stream",
       "stream": "stderr",
       "text": [
        "ERROR:theano.gof.opt:TRACEBACK:\n"
       ]
      },
      {
       "output_type": "stream",
       "stream": "stderr",
       "text": [
        "ERROR (theano.gof.opt): Traceback (most recent call last):\n",
        "  File \"/home/jotham/venvs/2014-12-20_datascibowl/lib/python2.7/site-packages/theano/gof/opt.py\", line 1493, in process_node\n",
        "    replacements = lopt.transform(node)\n",
        "  File \"/home/jotham/venvs/2014-12-20_datascibowl/lib/python2.7/site-packages/theano/sandbox/cuda/opt_util.py\", line 56, in opt\n",
        "    lr = grab_cpu_scalar(node.inputs[0], nd=nd)\n",
        "  File \"/home/jotham/venvs/2014-12-20_datascibowl/lib/python2.7/site-packages/theano/sandbox/cuda/opt_util.py\", line 18, in grab_cpu_scalar\n",
        "    return host_from_gpu(n.inputs[0])\n",
        "NameError: global name 'host_from_gpu' is not defined\n",
        "\n"
       ]
      },
      {
       "output_type": "stream",
       "stream": "stderr",
       "text": [
        "ERROR:theano.gof.opt:Traceback (most recent call last):\n",
        "  File \"/home/jotham/venvs/2014-12-20_datascibowl/lib/python2.7/site-packages/theano/gof/opt.py\", line 1493, in process_node\n",
        "    replacements = lopt.transform(node)\n",
        "  File \"/home/jotham/venvs/2014-12-20_datascibowl/lib/python2.7/site-packages/theano/sandbox/cuda/opt_util.py\", line 56, in opt\n",
        "    lr = grab_cpu_scalar(node.inputs[0], nd=nd)\n",
        "  File \"/home/jotham/venvs/2014-12-20_datascibowl/lib/python2.7/site-packages/theano/sandbox/cuda/opt_util.py\", line 18, in grab_cpu_scalar\n",
        "    return host_from_gpu(n.inputs[0])\n",
        "NameError: global name 'host_from_gpu' is not defined\n",
        "\n"
       ]
      },
      {
       "output_type": "stream",
       "stream": "stderr",
       "text": [
        "ERROR (theano.gof.opt): Optimization failure due to: local_dnn_conv_alpha_merge\n"
       ]
      },
      {
       "output_type": "stream",
       "stream": "stderr",
       "text": [
        "ERROR:theano.gof.opt:Optimization failure due to: local_dnn_conv_alpha_merge\n"
       ]
      },
      {
       "output_type": "stream",
       "stream": "stderr",
       "text": [
        "ERROR (theano.gof.opt): TRACEBACK:\n"
       ]
      },
      {
       "output_type": "stream",
       "stream": "stderr",
       "text": [
        "ERROR:theano.gof.opt:TRACEBACK:\n"
       ]
      },
      {
       "output_type": "stream",
       "stream": "stderr",
       "text": [
        "ERROR (theano.gof.opt): Traceback (most recent call last):\n",
        "  File \"/home/jotham/venvs/2014-12-20_datascibowl/lib/python2.7/site-packages/theano/gof/opt.py\", line 1493, in process_node\n",
        "    replacements = lopt.transform(node)\n",
        "  File \"/home/jotham/venvs/2014-12-20_datascibowl/lib/python2.7/site-packages/theano/sandbox/cuda/opt_util.py\", line 56, in opt\n",
        "    lr = grab_cpu_scalar(node.inputs[0], nd=nd)\n",
        "  File \"/home/jotham/venvs/2014-12-20_datascibowl/lib/python2.7/site-packages/theano/sandbox/cuda/opt_util.py\", line 18, in grab_cpu_scalar\n",
        "    return host_from_gpu(n.inputs[0])\n",
        "NameError: global name 'host_from_gpu' is not defined\n",
        "\n"
       ]
      },
      {
       "output_type": "stream",
       "stream": "stderr",
       "text": [
        "ERROR:theano.gof.opt:Traceback (most recent call last):\n",
        "  File \"/home/jotham/venvs/2014-12-20_datascibowl/lib/python2.7/site-packages/theano/gof/opt.py\", line 1493, in process_node\n",
        "    replacements = lopt.transform(node)\n",
        "  File \"/home/jotham/venvs/2014-12-20_datascibowl/lib/python2.7/site-packages/theano/sandbox/cuda/opt_util.py\", line 56, in opt\n",
        "    lr = grab_cpu_scalar(node.inputs[0], nd=nd)\n",
        "  File \"/home/jotham/venvs/2014-12-20_datascibowl/lib/python2.7/site-packages/theano/sandbox/cuda/opt_util.py\", line 18, in grab_cpu_scalar\n",
        "    return host_from_gpu(n.inputs[0])\n",
        "NameError: global name 'host_from_gpu' is not defined\n",
        "\n"
       ]
      },
      {
       "output_type": "stream",
       "stream": "stderr",
       "text": [
        "ERROR (theano.gof.opt): Optimization failure due to: local_dnn_convw_alpha_merge\n"
       ]
      },
      {
       "output_type": "stream",
       "stream": "stderr",
       "text": [
        "ERROR:theano.gof.opt:Optimization failure due to: local_dnn_convw_alpha_merge\n"
       ]
      },
      {
       "output_type": "stream",
       "stream": "stderr",
       "text": [
        "ERROR (theano.gof.opt): TRACEBACK:\n"
       ]
      },
      {
       "output_type": "stream",
       "stream": "stderr",
       "text": [
        "ERROR:theano.gof.opt:TRACEBACK:\n"
       ]
      },
      {
       "output_type": "stream",
       "stream": "stderr",
       "text": [
        "ERROR (theano.gof.opt): Traceback (most recent call last):\n",
        "  File \"/home/jotham/venvs/2014-12-20_datascibowl/lib/python2.7/site-packages/theano/gof/opt.py\", line 1493, in process_node\n",
        "    replacements = lopt.transform(node)\n",
        "  File \"/home/jotham/venvs/2014-12-20_datascibowl/lib/python2.7/site-packages/theano/sandbox/cuda/opt_util.py\", line 56, in opt\n",
        "    lr = grab_cpu_scalar(node.inputs[0], nd=nd)\n",
        "  File \"/home/jotham/venvs/2014-12-20_datascibowl/lib/python2.7/site-packages/theano/sandbox/cuda/opt_util.py\", line 18, in grab_cpu_scalar\n",
        "    return host_from_gpu(n.inputs[0])\n",
        "NameError: global name 'host_from_gpu' is not defined\n",
        "\n"
       ]
      },
      {
       "output_type": "stream",
       "stream": "stderr",
       "text": [
        "ERROR:theano.gof.opt:Traceback (most recent call last):\n",
        "  File \"/home/jotham/venvs/2014-12-20_datascibowl/lib/python2.7/site-packages/theano/gof/opt.py\", line 1493, in process_node\n",
        "    replacements = lopt.transform(node)\n",
        "  File \"/home/jotham/venvs/2014-12-20_datascibowl/lib/python2.7/site-packages/theano/sandbox/cuda/opt_util.py\", line 56, in opt\n",
        "    lr = grab_cpu_scalar(node.inputs[0], nd=nd)\n",
        "  File \"/home/jotham/venvs/2014-12-20_datascibowl/lib/python2.7/site-packages/theano/sandbox/cuda/opt_util.py\", line 18, in grab_cpu_scalar\n",
        "    return host_from_gpu(n.inputs[0])\n",
        "NameError: global name 'host_from_gpu' is not defined\n",
        "\n"
       ]
      },
      {
       "output_type": "stream",
       "stream": "stderr",
       "text": [
        "ERROR (theano.gof.opt): Optimization failure due to: local_dnn_convi_alpha_merge\n"
       ]
      },
      {
       "output_type": "stream",
       "stream": "stderr",
       "text": [
        "ERROR:theano.gof.opt:Optimization failure due to: local_dnn_convi_alpha_merge\n"
       ]
      },
      {
       "output_type": "stream",
       "stream": "stderr",
       "text": [
        "ERROR (theano.gof.opt): TRACEBACK:\n"
       ]
      },
      {
       "output_type": "stream",
       "stream": "stderr",
       "text": [
        "ERROR:theano.gof.opt:TRACEBACK:\n"
       ]
      },
      {
       "output_type": "stream",
       "stream": "stderr",
       "text": [
        "ERROR (theano.gof.opt): Traceback (most recent call last):\n",
        "  File \"/home/jotham/venvs/2014-12-20_datascibowl/lib/python2.7/site-packages/theano/gof/opt.py\", line 1493, in process_node\n",
        "    replacements = lopt.transform(node)\n",
        "  File \"/home/jotham/venvs/2014-12-20_datascibowl/lib/python2.7/site-packages/theano/sandbox/cuda/opt_util.py\", line 56, in opt\n",
        "    lr = grab_cpu_scalar(node.inputs[0], nd=nd)\n",
        "  File \"/home/jotham/venvs/2014-12-20_datascibowl/lib/python2.7/site-packages/theano/sandbox/cuda/opt_util.py\", line 18, in grab_cpu_scalar\n",
        "    return host_from_gpu(n.inputs[0])\n",
        "NameError: global name 'host_from_gpu' is not defined\n",
        "\n"
       ]
      },
      {
       "output_type": "stream",
       "stream": "stderr",
       "text": [
        "ERROR:theano.gof.opt:Traceback (most recent call last):\n",
        "  File \"/home/jotham/venvs/2014-12-20_datascibowl/lib/python2.7/site-packages/theano/gof/opt.py\", line 1493, in process_node\n",
        "    replacements = lopt.transform(node)\n",
        "  File \"/home/jotham/venvs/2014-12-20_datascibowl/lib/python2.7/site-packages/theano/sandbox/cuda/opt_util.py\", line 56, in opt\n",
        "    lr = grab_cpu_scalar(node.inputs[0], nd=nd)\n",
        "  File \"/home/jotham/venvs/2014-12-20_datascibowl/lib/python2.7/site-packages/theano/sandbox/cuda/opt_util.py\", line 18, in grab_cpu_scalar\n",
        "    return host_from_gpu(n.inputs[0])\n",
        "NameError: global name 'host_from_gpu' is not defined\n",
        "\n"
       ]
      },
      {
       "output_type": "stream",
       "stream": "stderr",
       "text": [
        "ERROR (theano.gof.opt): Optimization failure due to: local_dnn_conv_alpha_merge\n"
       ]
      },
      {
       "output_type": "stream",
       "stream": "stderr",
       "text": [
        "ERROR:theano.gof.opt:Optimization failure due to: local_dnn_conv_alpha_merge\n"
       ]
      },
      {
       "output_type": "stream",
       "stream": "stderr",
       "text": [
        "ERROR (theano.gof.opt): TRACEBACK:\n"
       ]
      },
      {
       "output_type": "stream",
       "stream": "stderr",
       "text": [
        "ERROR:theano.gof.opt:TRACEBACK:\n"
       ]
      },
      {
       "output_type": "stream",
       "stream": "stderr",
       "text": [
        "ERROR (theano.gof.opt): Traceback (most recent call last):\n",
        "  File \"/home/jotham/venvs/2014-12-20_datascibowl/lib/python2.7/site-packages/theano/gof/opt.py\", line 1493, in process_node\n",
        "    replacements = lopt.transform(node)\n",
        "  File \"/home/jotham/venvs/2014-12-20_datascibowl/lib/python2.7/site-packages/theano/sandbox/cuda/opt_util.py\", line 56, in opt\n",
        "    lr = grab_cpu_scalar(node.inputs[0], nd=nd)\n",
        "  File \"/home/jotham/venvs/2014-12-20_datascibowl/lib/python2.7/site-packages/theano/sandbox/cuda/opt_util.py\", line 18, in grab_cpu_scalar\n",
        "    return host_from_gpu(n.inputs[0])\n",
        "NameError: global name 'host_from_gpu' is not defined\n",
        "\n"
       ]
      },
      {
       "output_type": "stream",
       "stream": "stderr",
       "text": [
        "ERROR:theano.gof.opt:Traceback (most recent call last):\n",
        "  File \"/home/jotham/venvs/2014-12-20_datascibowl/lib/python2.7/site-packages/theano/gof/opt.py\", line 1493, in process_node\n",
        "    replacements = lopt.transform(node)\n",
        "  File \"/home/jotham/venvs/2014-12-20_datascibowl/lib/python2.7/site-packages/theano/sandbox/cuda/opt_util.py\", line 56, in opt\n",
        "    lr = grab_cpu_scalar(node.inputs[0], nd=nd)\n",
        "  File \"/home/jotham/venvs/2014-12-20_datascibowl/lib/python2.7/site-packages/theano/sandbox/cuda/opt_util.py\", line 18, in grab_cpu_scalar\n",
        "    return host_from_gpu(n.inputs[0])\n",
        "NameError: global name 'host_from_gpu' is not defined\n",
        "\n"
       ]
      },
      {
       "output_type": "stream",
       "stream": "stderr",
       "text": [
        "ERROR (theano.gof.opt): Optimization failure due to: local_dnn_convw_alpha_merge\n"
       ]
      },
      {
       "output_type": "stream",
       "stream": "stderr",
       "text": [
        "ERROR:theano.gof.opt:Optimization failure due to: local_dnn_convw_alpha_merge\n"
       ]
      },
      {
       "output_type": "stream",
       "stream": "stderr",
       "text": [
        "ERROR (theano.gof.opt): TRACEBACK:\n"
       ]
      },
      {
       "output_type": "stream",
       "stream": "stderr",
       "text": [
        "ERROR:theano.gof.opt:TRACEBACK:\n"
       ]
      },
      {
       "output_type": "stream",
       "stream": "stderr",
       "text": [
        "ERROR (theano.gof.opt): Traceback (most recent call last):\n",
        "  File \"/home/jotham/venvs/2014-12-20_datascibowl/lib/python2.7/site-packages/theano/gof/opt.py\", line 1493, in process_node\n",
        "    replacements = lopt.transform(node)\n",
        "  File \"/home/jotham/venvs/2014-12-20_datascibowl/lib/python2.7/site-packages/theano/sandbox/cuda/opt_util.py\", line 56, in opt\n",
        "    lr = grab_cpu_scalar(node.inputs[0], nd=nd)\n",
        "  File \"/home/jotham/venvs/2014-12-20_datascibowl/lib/python2.7/site-packages/theano/sandbox/cuda/opt_util.py\", line 18, in grab_cpu_scalar\n",
        "    return host_from_gpu(n.inputs[0])\n",
        "NameError: global name 'host_from_gpu' is not defined\n",
        "\n"
       ]
      },
      {
       "output_type": "stream",
       "stream": "stderr",
       "text": [
        "ERROR:theano.gof.opt:Traceback (most recent call last):\n",
        "  File \"/home/jotham/venvs/2014-12-20_datascibowl/lib/python2.7/site-packages/theano/gof/opt.py\", line 1493, in process_node\n",
        "    replacements = lopt.transform(node)\n",
        "  File \"/home/jotham/venvs/2014-12-20_datascibowl/lib/python2.7/site-packages/theano/sandbox/cuda/opt_util.py\", line 56, in opt\n",
        "    lr = grab_cpu_scalar(node.inputs[0], nd=nd)\n",
        "  File \"/home/jotham/venvs/2014-12-20_datascibowl/lib/python2.7/site-packages/theano/sandbox/cuda/opt_util.py\", line 18, in grab_cpu_scalar\n",
        "    return host_from_gpu(n.inputs[0])\n",
        "NameError: global name 'host_from_gpu' is not defined\n",
        "\n"
       ]
      },
      {
       "output_type": "stream",
       "stream": "stderr",
       "text": [
        "ERROR (theano.gof.opt): Optimization failure due to: local_dnn_convi_alpha_merge\n"
       ]
      },
      {
       "output_type": "stream",
       "stream": "stderr",
       "text": [
        "ERROR:theano.gof.opt:Optimization failure due to: local_dnn_convi_alpha_merge\n"
       ]
      },
      {
       "output_type": "stream",
       "stream": "stderr",
       "text": [
        "ERROR (theano.gof.opt): TRACEBACK:\n"
       ]
      },
      {
       "output_type": "stream",
       "stream": "stderr",
       "text": [
        "ERROR:theano.gof.opt:TRACEBACK:\n"
       ]
      },
      {
       "output_type": "stream",
       "stream": "stderr",
       "text": [
        "ERROR (theano.gof.opt): Traceback (most recent call last):\n",
        "  File \"/home/jotham/venvs/2014-12-20_datascibowl/lib/python2.7/site-packages/theano/gof/opt.py\", line 1493, in process_node\n",
        "    replacements = lopt.transform(node)\n",
        "  File \"/home/jotham/venvs/2014-12-20_datascibowl/lib/python2.7/site-packages/theano/sandbox/cuda/opt_util.py\", line 56, in opt\n",
        "    lr = grab_cpu_scalar(node.inputs[0], nd=nd)\n",
        "  File \"/home/jotham/venvs/2014-12-20_datascibowl/lib/python2.7/site-packages/theano/sandbox/cuda/opt_util.py\", line 18, in grab_cpu_scalar\n",
        "    return host_from_gpu(n.inputs[0])\n",
        "NameError: global name 'host_from_gpu' is not defined\n",
        "\n"
       ]
      },
      {
       "output_type": "stream",
       "stream": "stderr",
       "text": [
        "ERROR:theano.gof.opt:Traceback (most recent call last):\n",
        "  File \"/home/jotham/venvs/2014-12-20_datascibowl/lib/python2.7/site-packages/theano/gof/opt.py\", line 1493, in process_node\n",
        "    replacements = lopt.transform(node)\n",
        "  File \"/home/jotham/venvs/2014-12-20_datascibowl/lib/python2.7/site-packages/theano/sandbox/cuda/opt_util.py\", line 56, in opt\n",
        "    lr = grab_cpu_scalar(node.inputs[0], nd=nd)\n",
        "  File \"/home/jotham/venvs/2014-12-20_datascibowl/lib/python2.7/site-packages/theano/sandbox/cuda/opt_util.py\", line 18, in grab_cpu_scalar\n",
        "    return host_from_gpu(n.inputs[0])\n",
        "NameError: global name 'host_from_gpu' is not defined\n",
        "\n"
       ]
      },
      {
       "output_type": "stream",
       "stream": "stderr",
       "text": [
        "ERROR (theano.gof.opt): Optimization failure due to: local_dnn_conv_alpha_merge\n"
       ]
      },
      {
       "output_type": "stream",
       "stream": "stderr",
       "text": [
        "ERROR:theano.gof.opt:Optimization failure due to: local_dnn_conv_alpha_merge\n"
       ]
      },
      {
       "output_type": "stream",
       "stream": "stderr",
       "text": [
        "ERROR (theano.gof.opt): TRACEBACK:\n"
       ]
      },
      {
       "output_type": "stream",
       "stream": "stderr",
       "text": [
        "ERROR:theano.gof.opt:TRACEBACK:\n"
       ]
      },
      {
       "output_type": "stream",
       "stream": "stderr",
       "text": [
        "ERROR (theano.gof.opt): Traceback (most recent call last):\n",
        "  File \"/home/jotham/venvs/2014-12-20_datascibowl/lib/python2.7/site-packages/theano/gof/opt.py\", line 1493, in process_node\n",
        "    replacements = lopt.transform(node)\n",
        "  File \"/home/jotham/venvs/2014-12-20_datascibowl/lib/python2.7/site-packages/theano/sandbox/cuda/opt_util.py\", line 56, in opt\n",
        "    lr = grab_cpu_scalar(node.inputs[0], nd=nd)\n",
        "  File \"/home/jotham/venvs/2014-12-20_datascibowl/lib/python2.7/site-packages/theano/sandbox/cuda/opt_util.py\", line 18, in grab_cpu_scalar\n",
        "    return host_from_gpu(n.inputs[0])\n",
        "NameError: global name 'host_from_gpu' is not defined\n",
        "\n"
       ]
      },
      {
       "output_type": "stream",
       "stream": "stderr",
       "text": [
        "ERROR:theano.gof.opt:Traceback (most recent call last):\n",
        "  File \"/home/jotham/venvs/2014-12-20_datascibowl/lib/python2.7/site-packages/theano/gof/opt.py\", line 1493, in process_node\n",
        "    replacements = lopt.transform(node)\n",
        "  File \"/home/jotham/venvs/2014-12-20_datascibowl/lib/python2.7/site-packages/theano/sandbox/cuda/opt_util.py\", line 56, in opt\n",
        "    lr = grab_cpu_scalar(node.inputs[0], nd=nd)\n",
        "  File \"/home/jotham/venvs/2014-12-20_datascibowl/lib/python2.7/site-packages/theano/sandbox/cuda/opt_util.py\", line 18, in grab_cpu_scalar\n",
        "    return host_from_gpu(n.inputs[0])\n",
        "NameError: global name 'host_from_gpu' is not defined\n",
        "\n"
       ]
      },
      {
       "output_type": "stream",
       "stream": "stderr",
       "text": [
        "ERROR (theano.gof.opt): Optimization failure due to: local_dnn_convw_alpha_merge\n"
       ]
      },
      {
       "output_type": "stream",
       "stream": "stderr",
       "text": [
        "ERROR:theano.gof.opt:Optimization failure due to: local_dnn_convw_alpha_merge\n"
       ]
      },
      {
       "output_type": "stream",
       "stream": "stderr",
       "text": [
        "ERROR (theano.gof.opt): TRACEBACK:\n"
       ]
      },
      {
       "output_type": "stream",
       "stream": "stderr",
       "text": [
        "ERROR:theano.gof.opt:TRACEBACK:\n"
       ]
      },
      {
       "output_type": "stream",
       "stream": "stderr",
       "text": [
        "ERROR (theano.gof.opt): Traceback (most recent call last):\n",
        "  File \"/home/jotham/venvs/2014-12-20_datascibowl/lib/python2.7/site-packages/theano/gof/opt.py\", line 1493, in process_node\n",
        "    replacements = lopt.transform(node)\n",
        "  File \"/home/jotham/venvs/2014-12-20_datascibowl/lib/python2.7/site-packages/theano/sandbox/cuda/opt_util.py\", line 56, in opt\n",
        "    lr = grab_cpu_scalar(node.inputs[0], nd=nd)\n",
        "  File \"/home/jotham/venvs/2014-12-20_datascibowl/lib/python2.7/site-packages/theano/sandbox/cuda/opt_util.py\", line 18, in grab_cpu_scalar\n",
        "    return host_from_gpu(n.inputs[0])\n",
        "NameError: global name 'host_from_gpu' is not defined\n",
        "\n"
       ]
      },
      {
       "output_type": "stream",
       "stream": "stderr",
       "text": [
        "ERROR:theano.gof.opt:Traceback (most recent call last):\n",
        "  File \"/home/jotham/venvs/2014-12-20_datascibowl/lib/python2.7/site-packages/theano/gof/opt.py\", line 1493, in process_node\n",
        "    replacements = lopt.transform(node)\n",
        "  File \"/home/jotham/venvs/2014-12-20_datascibowl/lib/python2.7/site-packages/theano/sandbox/cuda/opt_util.py\", line 56, in opt\n",
        "    lr = grab_cpu_scalar(node.inputs[0], nd=nd)\n",
        "  File \"/home/jotham/venvs/2014-12-20_datascibowl/lib/python2.7/site-packages/theano/sandbox/cuda/opt_util.py\", line 18, in grab_cpu_scalar\n",
        "    return host_from_gpu(n.inputs[0])\n",
        "NameError: global name 'host_from_gpu' is not defined\n",
        "\n"
       ]
      },
      {
       "output_type": "stream",
       "stream": "stderr",
       "text": [
        "ERROR (theano.gof.opt): Optimization failure due to: local_dnn_convi_alpha_merge\n"
       ]
      },
      {
       "output_type": "stream",
       "stream": "stderr",
       "text": [
        "ERROR:theano.gof.opt:Optimization failure due to: local_dnn_convi_alpha_merge\n"
       ]
      },
      {
       "output_type": "stream",
       "stream": "stderr",
       "text": [
        "ERROR (theano.gof.opt): TRACEBACK:\n"
       ]
      },
      {
       "output_type": "stream",
       "stream": "stderr",
       "text": [
        "ERROR:theano.gof.opt:TRACEBACK:\n"
       ]
      },
      {
       "output_type": "stream",
       "stream": "stderr",
       "text": [
        "ERROR (theano.gof.opt): Traceback (most recent call last):\n",
        "  File \"/home/jotham/venvs/2014-12-20_datascibowl/lib/python2.7/site-packages/theano/gof/opt.py\", line 1493, in process_node\n",
        "    replacements = lopt.transform(node)\n",
        "  File \"/home/jotham/venvs/2014-12-20_datascibowl/lib/python2.7/site-packages/theano/sandbox/cuda/opt_util.py\", line 56, in opt\n",
        "    lr = grab_cpu_scalar(node.inputs[0], nd=nd)\n",
        "  File \"/home/jotham/venvs/2014-12-20_datascibowl/lib/python2.7/site-packages/theano/sandbox/cuda/opt_util.py\", line 18, in grab_cpu_scalar\n",
        "    return host_from_gpu(n.inputs[0])\n",
        "NameError: global name 'host_from_gpu' is not defined\n",
        "\n"
       ]
      },
      {
       "output_type": "stream",
       "stream": "stderr",
       "text": [
        "ERROR:theano.gof.opt:Traceback (most recent call last):\n",
        "  File \"/home/jotham/venvs/2014-12-20_datascibowl/lib/python2.7/site-packages/theano/gof/opt.py\", line 1493, in process_node\n",
        "    replacements = lopt.transform(node)\n",
        "  File \"/home/jotham/venvs/2014-12-20_datascibowl/lib/python2.7/site-packages/theano/sandbox/cuda/opt_util.py\", line 56, in opt\n",
        "    lr = grab_cpu_scalar(node.inputs[0], nd=nd)\n",
        "  File \"/home/jotham/venvs/2014-12-20_datascibowl/lib/python2.7/site-packages/theano/sandbox/cuda/opt_util.py\", line 18, in grab_cpu_scalar\n",
        "    return host_from_gpu(n.inputs[0])\n",
        "NameError: global name 'host_from_gpu' is not defined\n",
        "\n"
       ]
      },
      {
       "output_type": "stream",
       "stream": "stderr",
       "text": [
        "ERROR (theano.gof.opt): Optimization failure due to: local_dnn_conv_alpha_merge\n"
       ]
      },
      {
       "output_type": "stream",
       "stream": "stderr",
       "text": [
        "ERROR:theano.gof.opt:Optimization failure due to: local_dnn_conv_alpha_merge\n"
       ]
      },
      {
       "output_type": "stream",
       "stream": "stderr",
       "text": [
        "ERROR (theano.gof.opt): TRACEBACK:\n"
       ]
      },
      {
       "output_type": "stream",
       "stream": "stderr",
       "text": [
        "ERROR:theano.gof.opt:TRACEBACK:\n"
       ]
      },
      {
       "output_type": "stream",
       "stream": "stderr",
       "text": [
        "ERROR (theano.gof.opt): Traceback (most recent call last):\n",
        "  File \"/home/jotham/venvs/2014-12-20_datascibowl/lib/python2.7/site-packages/theano/gof/opt.py\", line 1493, in process_node\n",
        "    replacements = lopt.transform(node)\n",
        "  File \"/home/jotham/venvs/2014-12-20_datascibowl/lib/python2.7/site-packages/theano/sandbox/cuda/opt_util.py\", line 56, in opt\n",
        "    lr = grab_cpu_scalar(node.inputs[0], nd=nd)\n",
        "  File \"/home/jotham/venvs/2014-12-20_datascibowl/lib/python2.7/site-packages/theano/sandbox/cuda/opt_util.py\", line 18, in grab_cpu_scalar\n",
        "    return host_from_gpu(n.inputs[0])\n",
        "NameError: global name 'host_from_gpu' is not defined\n",
        "\n"
       ]
      },
      {
       "output_type": "stream",
       "stream": "stderr",
       "text": [
        "ERROR:theano.gof.opt:Traceback (most recent call last):\n",
        "  File \"/home/jotham/venvs/2014-12-20_datascibowl/lib/python2.7/site-packages/theano/gof/opt.py\", line 1493, in process_node\n",
        "    replacements = lopt.transform(node)\n",
        "  File \"/home/jotham/venvs/2014-12-20_datascibowl/lib/python2.7/site-packages/theano/sandbox/cuda/opt_util.py\", line 56, in opt\n",
        "    lr = grab_cpu_scalar(node.inputs[0], nd=nd)\n",
        "  File \"/home/jotham/venvs/2014-12-20_datascibowl/lib/python2.7/site-packages/theano/sandbox/cuda/opt_util.py\", line 18, in grab_cpu_scalar\n",
        "    return host_from_gpu(n.inputs[0])\n",
        "NameError: global name 'host_from_gpu' is not defined\n",
        "\n"
       ]
      },
      {
       "output_type": "stream",
       "stream": "stderr",
       "text": [
        "ERROR (theano.gof.opt): Optimization failure due to: local_dnn_convw_alpha_merge\n"
       ]
      },
      {
       "output_type": "stream",
       "stream": "stderr",
       "text": [
        "ERROR:theano.gof.opt:Optimization failure due to: local_dnn_convw_alpha_merge\n"
       ]
      },
      {
       "output_type": "stream",
       "stream": "stderr",
       "text": [
        "ERROR (theano.gof.opt): TRACEBACK:\n"
       ]
      },
      {
       "output_type": "stream",
       "stream": "stderr",
       "text": [
        "ERROR:theano.gof.opt:TRACEBACK:\n"
       ]
      },
      {
       "output_type": "stream",
       "stream": "stderr",
       "text": [
        "ERROR (theano.gof.opt): Traceback (most recent call last):\n",
        "  File \"/home/jotham/venvs/2014-12-20_datascibowl/lib/python2.7/site-packages/theano/gof/opt.py\", line 1493, in process_node\n",
        "    replacements = lopt.transform(node)\n",
        "  File \"/home/jotham/venvs/2014-12-20_datascibowl/lib/python2.7/site-packages/theano/sandbox/cuda/opt_util.py\", line 56, in opt\n",
        "    lr = grab_cpu_scalar(node.inputs[0], nd=nd)\n",
        "  File \"/home/jotham/venvs/2014-12-20_datascibowl/lib/python2.7/site-packages/theano/sandbox/cuda/opt_util.py\", line 18, in grab_cpu_scalar\n",
        "    return host_from_gpu(n.inputs[0])\n",
        "NameError: global name 'host_from_gpu' is not defined\n",
        "\n"
       ]
      },
      {
       "output_type": "stream",
       "stream": "stderr",
       "text": [
        "ERROR:theano.gof.opt:Traceback (most recent call last):\n",
        "  File \"/home/jotham/venvs/2014-12-20_datascibowl/lib/python2.7/site-packages/theano/gof/opt.py\", line 1493, in process_node\n",
        "    replacements = lopt.transform(node)\n",
        "  File \"/home/jotham/venvs/2014-12-20_datascibowl/lib/python2.7/site-packages/theano/sandbox/cuda/opt_util.py\", line 56, in opt\n",
        "    lr = grab_cpu_scalar(node.inputs[0], nd=nd)\n",
        "  File \"/home/jotham/venvs/2014-12-20_datascibowl/lib/python2.7/site-packages/theano/sandbox/cuda/opt_util.py\", line 18, in grab_cpu_scalar\n",
        "    return host_from_gpu(n.inputs[0])\n",
        "NameError: global name 'host_from_gpu' is not defined\n",
        "\n"
       ]
      },
      {
       "output_type": "stream",
       "stream": "stderr",
       "text": [
        "ERROR (theano.gof.opt): Optimization failure due to: local_dnn_convi_alpha_merge\n"
       ]
      },
      {
       "output_type": "stream",
       "stream": "stderr",
       "text": [
        "ERROR:theano.gof.opt:Optimization failure due to: local_dnn_convi_alpha_merge\n"
       ]
      },
      {
       "output_type": "stream",
       "stream": "stderr",
       "text": [
        "ERROR (theano.gof.opt): TRACEBACK:\n"
       ]
      },
      {
       "output_type": "stream",
       "stream": "stderr",
       "text": [
        "ERROR:theano.gof.opt:TRACEBACK:\n"
       ]
      },
      {
       "output_type": "stream",
       "stream": "stderr",
       "text": [
        "ERROR (theano.gof.opt): Traceback (most recent call last):\n",
        "  File \"/home/jotham/venvs/2014-12-20_datascibowl/lib/python2.7/site-packages/theano/gof/opt.py\", line 1493, in process_node\n",
        "    replacements = lopt.transform(node)\n",
        "  File \"/home/jotham/venvs/2014-12-20_datascibowl/lib/python2.7/site-packages/theano/sandbox/cuda/opt_util.py\", line 56, in opt\n",
        "    lr = grab_cpu_scalar(node.inputs[0], nd=nd)\n",
        "  File \"/home/jotham/venvs/2014-12-20_datascibowl/lib/python2.7/site-packages/theano/sandbox/cuda/opt_util.py\", line 18, in grab_cpu_scalar\n",
        "    return host_from_gpu(n.inputs[0])\n",
        "NameError: global name 'host_from_gpu' is not defined\n",
        "\n"
       ]
      },
      {
       "output_type": "stream",
       "stream": "stderr",
       "text": [
        "ERROR:theano.gof.opt:Traceback (most recent call last):\n",
        "  File \"/home/jotham/venvs/2014-12-20_datascibowl/lib/python2.7/site-packages/theano/gof/opt.py\", line 1493, in process_node\n",
        "    replacements = lopt.transform(node)\n",
        "  File \"/home/jotham/venvs/2014-12-20_datascibowl/lib/python2.7/site-packages/theano/sandbox/cuda/opt_util.py\", line 56, in opt\n",
        "    lr = grab_cpu_scalar(node.inputs[0], nd=nd)\n",
        "  File \"/home/jotham/venvs/2014-12-20_datascibowl/lib/python2.7/site-packages/theano/sandbox/cuda/opt_util.py\", line 18, in grab_cpu_scalar\n",
        "    return host_from_gpu(n.inputs[0])\n",
        "NameError: global name 'host_from_gpu' is not defined\n",
        "\n"
       ]
      },
      {
       "output_type": "stream",
       "stream": "stderr",
       "text": [
        "ERROR (theano.gof.opt): Optimization failure due to: local_dnn_conv_alpha_merge\n"
       ]
      },
      {
       "output_type": "stream",
       "stream": "stderr",
       "text": [
        "ERROR:theano.gof.opt:Optimization failure due to: local_dnn_conv_alpha_merge\n"
       ]
      },
      {
       "output_type": "stream",
       "stream": "stderr",
       "text": [
        "ERROR (theano.gof.opt): TRACEBACK:\n"
       ]
      },
      {
       "output_type": "stream",
       "stream": "stderr",
       "text": [
        "ERROR:theano.gof.opt:TRACEBACK:\n"
       ]
      },
      {
       "output_type": "stream",
       "stream": "stderr",
       "text": [
        "ERROR (theano.gof.opt): Traceback (most recent call last):\n",
        "  File \"/home/jotham/venvs/2014-12-20_datascibowl/lib/python2.7/site-packages/theano/gof/opt.py\", line 1493, in process_node\n",
        "    replacements = lopt.transform(node)\n",
        "  File \"/home/jotham/venvs/2014-12-20_datascibowl/lib/python2.7/site-packages/theano/sandbox/cuda/opt_util.py\", line 56, in opt\n",
        "    lr = grab_cpu_scalar(node.inputs[0], nd=nd)\n",
        "  File \"/home/jotham/venvs/2014-12-20_datascibowl/lib/python2.7/site-packages/theano/sandbox/cuda/opt_util.py\", line 18, in grab_cpu_scalar\n",
        "    return host_from_gpu(n.inputs[0])\n",
        "NameError: global name 'host_from_gpu' is not defined\n",
        "\n"
       ]
      },
      {
       "output_type": "stream",
       "stream": "stderr",
       "text": [
        "ERROR:theano.gof.opt:Traceback (most recent call last):\n",
        "  File \"/home/jotham/venvs/2014-12-20_datascibowl/lib/python2.7/site-packages/theano/gof/opt.py\", line 1493, in process_node\n",
        "    replacements = lopt.transform(node)\n",
        "  File \"/home/jotham/venvs/2014-12-20_datascibowl/lib/python2.7/site-packages/theano/sandbox/cuda/opt_util.py\", line 56, in opt\n",
        "    lr = grab_cpu_scalar(node.inputs[0], nd=nd)\n",
        "  File \"/home/jotham/venvs/2014-12-20_datascibowl/lib/python2.7/site-packages/theano/sandbox/cuda/opt_util.py\", line 18, in grab_cpu_scalar\n",
        "    return host_from_gpu(n.inputs[0])\n",
        "NameError: global name 'host_from_gpu' is not defined\n",
        "\n"
       ]
      },
      {
       "output_type": "stream",
       "stream": "stderr",
       "text": [
        "ERROR (theano.gof.opt): Optimization failure due to: local_dnn_convw_alpha_merge\n"
       ]
      },
      {
       "output_type": "stream",
       "stream": "stderr",
       "text": [
        "ERROR:theano.gof.opt:Optimization failure due to: local_dnn_convw_alpha_merge\n"
       ]
      },
      {
       "output_type": "stream",
       "stream": "stderr",
       "text": [
        "ERROR (theano.gof.opt): TRACEBACK:\n"
       ]
      },
      {
       "output_type": "stream",
       "stream": "stderr",
       "text": [
        "ERROR:theano.gof.opt:TRACEBACK:\n"
       ]
      },
      {
       "output_type": "stream",
       "stream": "stderr",
       "text": [
        "ERROR (theano.gof.opt): Traceback (most recent call last):\n",
        "  File \"/home/jotham/venvs/2014-12-20_datascibowl/lib/python2.7/site-packages/theano/gof/opt.py\", line 1493, in process_node\n",
        "    replacements = lopt.transform(node)\n",
        "  File \"/home/jotham/venvs/2014-12-20_datascibowl/lib/python2.7/site-packages/theano/sandbox/cuda/opt_util.py\", line 56, in opt\n",
        "    lr = grab_cpu_scalar(node.inputs[0], nd=nd)\n",
        "  File \"/home/jotham/venvs/2014-12-20_datascibowl/lib/python2.7/site-packages/theano/sandbox/cuda/opt_util.py\", line 18, in grab_cpu_scalar\n",
        "    return host_from_gpu(n.inputs[0])\n",
        "NameError: global name 'host_from_gpu' is not defined\n",
        "\n"
       ]
      },
      {
       "output_type": "stream",
       "stream": "stderr",
       "text": [
        "ERROR:theano.gof.opt:Traceback (most recent call last):\n",
        "  File \"/home/jotham/venvs/2014-12-20_datascibowl/lib/python2.7/site-packages/theano/gof/opt.py\", line 1493, in process_node\n",
        "    replacements = lopt.transform(node)\n",
        "  File \"/home/jotham/venvs/2014-12-20_datascibowl/lib/python2.7/site-packages/theano/sandbox/cuda/opt_util.py\", line 56, in opt\n",
        "    lr = grab_cpu_scalar(node.inputs[0], nd=nd)\n",
        "  File \"/home/jotham/venvs/2014-12-20_datascibowl/lib/python2.7/site-packages/theano/sandbox/cuda/opt_util.py\", line 18, in grab_cpu_scalar\n",
        "    return host_from_gpu(n.inputs[0])\n",
        "NameError: global name 'host_from_gpu' is not defined\n",
        "\n"
       ]
      },
      {
       "output_type": "stream",
       "stream": "stderr",
       "text": [
        "ERROR (theano.gof.opt): Optimization failure due to: local_dnn_convi_alpha_merge\n"
       ]
      },
      {
       "output_type": "stream",
       "stream": "stderr",
       "text": [
        "ERROR:theano.gof.opt:Optimization failure due to: local_dnn_convi_alpha_merge\n"
       ]
      },
      {
       "output_type": "stream",
       "stream": "stderr",
       "text": [
        "ERROR (theano.gof.opt): TRACEBACK:\n"
       ]
      },
      {
       "output_type": "stream",
       "stream": "stderr",
       "text": [
        "ERROR:theano.gof.opt:TRACEBACK:\n"
       ]
      },
      {
       "output_type": "stream",
       "stream": "stderr",
       "text": [
        "ERROR (theano.gof.opt): Traceback (most recent call last):\n",
        "  File \"/home/jotham/venvs/2014-12-20_datascibowl/lib/python2.7/site-packages/theano/gof/opt.py\", line 1493, in process_node\n",
        "    replacements = lopt.transform(node)\n",
        "  File \"/home/jotham/venvs/2014-12-20_datascibowl/lib/python2.7/site-packages/theano/sandbox/cuda/opt_util.py\", line 56, in opt\n",
        "    lr = grab_cpu_scalar(node.inputs[0], nd=nd)\n",
        "  File \"/home/jotham/venvs/2014-12-20_datascibowl/lib/python2.7/site-packages/theano/sandbox/cuda/opt_util.py\", line 18, in grab_cpu_scalar\n",
        "    return host_from_gpu(n.inputs[0])\n",
        "NameError: global name 'host_from_gpu' is not defined\n",
        "\n"
       ]
      },
      {
       "output_type": "stream",
       "stream": "stderr",
       "text": [
        "ERROR:theano.gof.opt:Traceback (most recent call last):\n",
        "  File \"/home/jotham/venvs/2014-12-20_datascibowl/lib/python2.7/site-packages/theano/gof/opt.py\", line 1493, in process_node\n",
        "    replacements = lopt.transform(node)\n",
        "  File \"/home/jotham/venvs/2014-12-20_datascibowl/lib/python2.7/site-packages/theano/sandbox/cuda/opt_util.py\", line 56, in opt\n",
        "    lr = grab_cpu_scalar(node.inputs[0], nd=nd)\n",
        "  File \"/home/jotham/venvs/2014-12-20_datascibowl/lib/python2.7/site-packages/theano/sandbox/cuda/opt_util.py\", line 18, in grab_cpu_scalar\n",
        "    return host_from_gpu(n.inputs[0])\n",
        "NameError: global name 'host_from_gpu' is not defined\n",
        "\n"
       ]
      },
      {
       "output_type": "stream",
       "stream": "stderr",
       "text": [
        "ERROR (theano.gof.opt): Optimization failure due to: local_dnn_conv_alpha_merge\n"
       ]
      },
      {
       "output_type": "stream",
       "stream": "stderr",
       "text": [
        "ERROR:theano.gof.opt:Optimization failure due to: local_dnn_conv_alpha_merge\n"
       ]
      },
      {
       "output_type": "stream",
       "stream": "stderr",
       "text": [
        "ERROR (theano.gof.opt): TRACEBACK:\n"
       ]
      },
      {
       "output_type": "stream",
       "stream": "stderr",
       "text": [
        "ERROR:theano.gof.opt:TRACEBACK:\n"
       ]
      },
      {
       "output_type": "stream",
       "stream": "stderr",
       "text": [
        "ERROR (theano.gof.opt): Traceback (most recent call last):\n",
        "  File \"/home/jotham/venvs/2014-12-20_datascibowl/lib/python2.7/site-packages/theano/gof/opt.py\", line 1493, in process_node\n",
        "    replacements = lopt.transform(node)\n",
        "  File \"/home/jotham/venvs/2014-12-20_datascibowl/lib/python2.7/site-packages/theano/sandbox/cuda/opt_util.py\", line 56, in opt\n",
        "    lr = grab_cpu_scalar(node.inputs[0], nd=nd)\n",
        "  File \"/home/jotham/venvs/2014-12-20_datascibowl/lib/python2.7/site-packages/theano/sandbox/cuda/opt_util.py\", line 18, in grab_cpu_scalar\n",
        "    return host_from_gpu(n.inputs[0])\n",
        "NameError: global name 'host_from_gpu' is not defined\n",
        "\n"
       ]
      },
      {
       "output_type": "stream",
       "stream": "stderr",
       "text": [
        "ERROR:theano.gof.opt:Traceback (most recent call last):\n",
        "  File \"/home/jotham/venvs/2014-12-20_datascibowl/lib/python2.7/site-packages/theano/gof/opt.py\", line 1493, in process_node\n",
        "    replacements = lopt.transform(node)\n",
        "  File \"/home/jotham/venvs/2014-12-20_datascibowl/lib/python2.7/site-packages/theano/sandbox/cuda/opt_util.py\", line 56, in opt\n",
        "    lr = grab_cpu_scalar(node.inputs[0], nd=nd)\n",
        "  File \"/home/jotham/venvs/2014-12-20_datascibowl/lib/python2.7/site-packages/theano/sandbox/cuda/opt_util.py\", line 18, in grab_cpu_scalar\n",
        "    return host_from_gpu(n.inputs[0])\n",
        "NameError: global name 'host_from_gpu' is not defined\n",
        "\n"
       ]
      },
      {
       "output_type": "stream",
       "stream": "stderr",
       "text": [
        "ERROR (theano.gof.opt): Optimization failure due to: local_dnn_convw_alpha_merge\n"
       ]
      },
      {
       "output_type": "stream",
       "stream": "stderr",
       "text": [
        "ERROR:theano.gof.opt:Optimization failure due to: local_dnn_convw_alpha_merge\n"
       ]
      },
      {
       "output_type": "stream",
       "stream": "stderr",
       "text": [
        "ERROR (theano.gof.opt): TRACEBACK:\n"
       ]
      },
      {
       "output_type": "stream",
       "stream": "stderr",
       "text": [
        "ERROR:theano.gof.opt:TRACEBACK:\n"
       ]
      },
      {
       "output_type": "stream",
       "stream": "stderr",
       "text": [
        "ERROR (theano.gof.opt): Traceback (most recent call last):\n",
        "  File \"/home/jotham/venvs/2014-12-20_datascibowl/lib/python2.7/site-packages/theano/gof/opt.py\", line 1493, in process_node\n",
        "    replacements = lopt.transform(node)\n",
        "  File \"/home/jotham/venvs/2014-12-20_datascibowl/lib/python2.7/site-packages/theano/sandbox/cuda/opt_util.py\", line 56, in opt\n",
        "    lr = grab_cpu_scalar(node.inputs[0], nd=nd)\n",
        "  File \"/home/jotham/venvs/2014-12-20_datascibowl/lib/python2.7/site-packages/theano/sandbox/cuda/opt_util.py\", line 18, in grab_cpu_scalar\n",
        "    return host_from_gpu(n.inputs[0])\n",
        "NameError: global name 'host_from_gpu' is not defined\n",
        "\n"
       ]
      },
      {
       "output_type": "stream",
       "stream": "stderr",
       "text": [
        "ERROR:theano.gof.opt:Traceback (most recent call last):\n",
        "  File \"/home/jotham/venvs/2014-12-20_datascibowl/lib/python2.7/site-packages/theano/gof/opt.py\", line 1493, in process_node\n",
        "    replacements = lopt.transform(node)\n",
        "  File \"/home/jotham/venvs/2014-12-20_datascibowl/lib/python2.7/site-packages/theano/sandbox/cuda/opt_util.py\", line 56, in opt\n",
        "    lr = grab_cpu_scalar(node.inputs[0], nd=nd)\n",
        "  File \"/home/jotham/venvs/2014-12-20_datascibowl/lib/python2.7/site-packages/theano/sandbox/cuda/opt_util.py\", line 18, in grab_cpu_scalar\n",
        "    return host_from_gpu(n.inputs[0])\n",
        "NameError: global name 'host_from_gpu' is not defined\n",
        "\n"
       ]
      },
      {
       "output_type": "stream",
       "stream": "stderr",
       "text": [
        "ERROR (theano.gof.opt): Optimization failure due to: local_dnn_convi_alpha_merge\n"
       ]
      },
      {
       "output_type": "stream",
       "stream": "stderr",
       "text": [
        "ERROR:theano.gof.opt:Optimization failure due to: local_dnn_convi_alpha_merge\n"
       ]
      },
      {
       "output_type": "stream",
       "stream": "stderr",
       "text": [
        "ERROR (theano.gof.opt): TRACEBACK:\n"
       ]
      },
      {
       "output_type": "stream",
       "stream": "stderr",
       "text": [
        "ERROR:theano.gof.opt:TRACEBACK:\n"
       ]
      },
      {
       "output_type": "stream",
       "stream": "stderr",
       "text": [
        "ERROR (theano.gof.opt): Traceback (most recent call last):\n",
        "  File \"/home/jotham/venvs/2014-12-20_datascibowl/lib/python2.7/site-packages/theano/gof/opt.py\", line 1493, in process_node\n",
        "    replacements = lopt.transform(node)\n",
        "  File \"/home/jotham/venvs/2014-12-20_datascibowl/lib/python2.7/site-packages/theano/sandbox/cuda/opt_util.py\", line 56, in opt\n",
        "    lr = grab_cpu_scalar(node.inputs[0], nd=nd)\n",
        "  File \"/home/jotham/venvs/2014-12-20_datascibowl/lib/python2.7/site-packages/theano/sandbox/cuda/opt_util.py\", line 18, in grab_cpu_scalar\n",
        "    return host_from_gpu(n.inputs[0])\n",
        "NameError: global name 'host_from_gpu' is not defined\n",
        "\n"
       ]
      },
      {
       "output_type": "stream",
       "stream": "stderr",
       "text": [
        "ERROR:theano.gof.opt:Traceback (most recent call last):\n",
        "  File \"/home/jotham/venvs/2014-12-20_datascibowl/lib/python2.7/site-packages/theano/gof/opt.py\", line 1493, in process_node\n",
        "    replacements = lopt.transform(node)\n",
        "  File \"/home/jotham/venvs/2014-12-20_datascibowl/lib/python2.7/site-packages/theano/sandbox/cuda/opt_util.py\", line 56, in opt\n",
        "    lr = grab_cpu_scalar(node.inputs[0], nd=nd)\n",
        "  File \"/home/jotham/venvs/2014-12-20_datascibowl/lib/python2.7/site-packages/theano/sandbox/cuda/opt_util.py\", line 18, in grab_cpu_scalar\n",
        "    return host_from_gpu(n.inputs[0])\n",
        "NameError: global name 'host_from_gpu' is not defined\n",
        "\n"
       ]
      },
      {
       "output_type": "stream",
       "stream": "stderr",
       "text": [
        "ERROR (theano.gof.opt): Optimization failure due to: local_dnn_conv_alpha_merge\n"
       ]
      },
      {
       "output_type": "stream",
       "stream": "stderr",
       "text": [
        "ERROR:theano.gof.opt:Optimization failure due to: local_dnn_conv_alpha_merge\n"
       ]
      },
      {
       "output_type": "stream",
       "stream": "stderr",
       "text": [
        "ERROR (theano.gof.opt): TRACEBACK:\n"
       ]
      },
      {
       "output_type": "stream",
       "stream": "stderr",
       "text": [
        "ERROR:theano.gof.opt:TRACEBACK:\n"
       ]
      },
      {
       "output_type": "stream",
       "stream": "stderr",
       "text": [
        "ERROR (theano.gof.opt): Traceback (most recent call last):\n",
        "  File \"/home/jotham/venvs/2014-12-20_datascibowl/lib/python2.7/site-packages/theano/gof/opt.py\", line 1493, in process_node\n",
        "    replacements = lopt.transform(node)\n",
        "  File \"/home/jotham/venvs/2014-12-20_datascibowl/lib/python2.7/site-packages/theano/sandbox/cuda/opt_util.py\", line 56, in opt\n",
        "    lr = grab_cpu_scalar(node.inputs[0], nd=nd)\n",
        "  File \"/home/jotham/venvs/2014-12-20_datascibowl/lib/python2.7/site-packages/theano/sandbox/cuda/opt_util.py\", line 18, in grab_cpu_scalar\n",
        "    return host_from_gpu(n.inputs[0])\n",
        "NameError: global name 'host_from_gpu' is not defined\n",
        "\n"
       ]
      },
      {
       "output_type": "stream",
       "stream": "stderr",
       "text": [
        "ERROR:theano.gof.opt:Traceback (most recent call last):\n",
        "  File \"/home/jotham/venvs/2014-12-20_datascibowl/lib/python2.7/site-packages/theano/gof/opt.py\", line 1493, in process_node\n",
        "    replacements = lopt.transform(node)\n",
        "  File \"/home/jotham/venvs/2014-12-20_datascibowl/lib/python2.7/site-packages/theano/sandbox/cuda/opt_util.py\", line 56, in opt\n",
        "    lr = grab_cpu_scalar(node.inputs[0], nd=nd)\n",
        "  File \"/home/jotham/venvs/2014-12-20_datascibowl/lib/python2.7/site-packages/theano/sandbox/cuda/opt_util.py\", line 18, in grab_cpu_scalar\n",
        "    return host_from_gpu(n.inputs[0])\n",
        "NameError: global name 'host_from_gpu' is not defined\n",
        "\n"
       ]
      },
      {
       "output_type": "stream",
       "stream": "stderr",
       "text": [
        "ERROR (theano.gof.opt): Optimization failure due to: local_dnn_convw_alpha_merge\n"
       ]
      },
      {
       "output_type": "stream",
       "stream": "stderr",
       "text": [
        "ERROR:theano.gof.opt:Optimization failure due to: local_dnn_convw_alpha_merge\n"
       ]
      },
      {
       "output_type": "stream",
       "stream": "stderr",
       "text": [
        "ERROR (theano.gof.opt): TRACEBACK:\n"
       ]
      },
      {
       "output_type": "stream",
       "stream": "stderr",
       "text": [
        "ERROR:theano.gof.opt:TRACEBACK:\n"
       ]
      },
      {
       "output_type": "stream",
       "stream": "stderr",
       "text": [
        "ERROR (theano.gof.opt): Traceback (most recent call last):\n",
        "  File \"/home/jotham/venvs/2014-12-20_datascibowl/lib/python2.7/site-packages/theano/gof/opt.py\", line 1493, in process_node\n",
        "    replacements = lopt.transform(node)\n",
        "  File \"/home/jotham/venvs/2014-12-20_datascibowl/lib/python2.7/site-packages/theano/sandbox/cuda/opt_util.py\", line 56, in opt\n",
        "    lr = grab_cpu_scalar(node.inputs[0], nd=nd)\n",
        "  File \"/home/jotham/venvs/2014-12-20_datascibowl/lib/python2.7/site-packages/theano/sandbox/cuda/opt_util.py\", line 18, in grab_cpu_scalar\n",
        "    return host_from_gpu(n.inputs[0])\n",
        "NameError: global name 'host_from_gpu' is not defined\n",
        "\n"
       ]
      },
      {
       "output_type": "stream",
       "stream": "stderr",
       "text": [
        "ERROR:theano.gof.opt:Traceback (most recent call last):\n",
        "  File \"/home/jotham/venvs/2014-12-20_datascibowl/lib/python2.7/site-packages/theano/gof/opt.py\", line 1493, in process_node\n",
        "    replacements = lopt.transform(node)\n",
        "  File \"/home/jotham/venvs/2014-12-20_datascibowl/lib/python2.7/site-packages/theano/sandbox/cuda/opt_util.py\", line 56, in opt\n",
        "    lr = grab_cpu_scalar(node.inputs[0], nd=nd)\n",
        "  File \"/home/jotham/venvs/2014-12-20_datascibowl/lib/python2.7/site-packages/theano/sandbox/cuda/opt_util.py\", line 18, in grab_cpu_scalar\n",
        "    return host_from_gpu(n.inputs[0])\n",
        "NameError: global name 'host_from_gpu' is not defined\n",
        "\n"
       ]
      },
      {
       "output_type": "stream",
       "stream": "stderr",
       "text": [
        "ERROR (theano.gof.opt): Optimization failure due to: local_dnn_convi_alpha_merge\n"
       ]
      },
      {
       "output_type": "stream",
       "stream": "stderr",
       "text": [
        "ERROR:theano.gof.opt:Optimization failure due to: local_dnn_convi_alpha_merge\n"
       ]
      },
      {
       "output_type": "stream",
       "stream": "stderr",
       "text": [
        "ERROR (theano.gof.opt): TRACEBACK:\n"
       ]
      },
      {
       "output_type": "stream",
       "stream": "stderr",
       "text": [
        "ERROR:theano.gof.opt:TRACEBACK:\n"
       ]
      },
      {
       "output_type": "stream",
       "stream": "stderr",
       "text": [
        "ERROR (theano.gof.opt): Traceback (most recent call last):\n",
        "  File \"/home/jotham/venvs/2014-12-20_datascibowl/lib/python2.7/site-packages/theano/gof/opt.py\", line 1493, in process_node\n",
        "    replacements = lopt.transform(node)\n",
        "  File \"/home/jotham/venvs/2014-12-20_datascibowl/lib/python2.7/site-packages/theano/sandbox/cuda/opt_util.py\", line 56, in opt\n",
        "    lr = grab_cpu_scalar(node.inputs[0], nd=nd)\n",
        "  File \"/home/jotham/venvs/2014-12-20_datascibowl/lib/python2.7/site-packages/theano/sandbox/cuda/opt_util.py\", line 18, in grab_cpu_scalar\n",
        "    return host_from_gpu(n.inputs[0])\n",
        "NameError: global name 'host_from_gpu' is not defined\n",
        "\n"
       ]
      },
      {
       "output_type": "stream",
       "stream": "stderr",
       "text": [
        "ERROR:theano.gof.opt:Traceback (most recent call last):\n",
        "  File \"/home/jotham/venvs/2014-12-20_datascibowl/lib/python2.7/site-packages/theano/gof/opt.py\", line 1493, in process_node\n",
        "    replacements = lopt.transform(node)\n",
        "  File \"/home/jotham/venvs/2014-12-20_datascibowl/lib/python2.7/site-packages/theano/sandbox/cuda/opt_util.py\", line 56, in opt\n",
        "    lr = grab_cpu_scalar(node.inputs[0], nd=nd)\n",
        "  File \"/home/jotham/venvs/2014-12-20_datascibowl/lib/python2.7/site-packages/theano/sandbox/cuda/opt_util.py\", line 18, in grab_cpu_scalar\n",
        "    return host_from_gpu(n.inputs[0])\n",
        "NameError: global name 'host_from_gpu' is not defined\n",
        "\n"
       ]
      },
      {
       "output_type": "stream",
       "stream": "stderr",
       "text": [
        "ERROR (theano.gof.opt): Optimization failure due to: local_dnn_conv_alpha_merge\n"
       ]
      },
      {
       "output_type": "stream",
       "stream": "stderr",
       "text": [
        "ERROR:theano.gof.opt:Optimization failure due to: local_dnn_conv_alpha_merge\n"
       ]
      },
      {
       "output_type": "stream",
       "stream": "stderr",
       "text": [
        "ERROR (theano.gof.opt): TRACEBACK:\n"
       ]
      },
      {
       "output_type": "stream",
       "stream": "stderr",
       "text": [
        "ERROR:theano.gof.opt:TRACEBACK:\n"
       ]
      },
      {
       "output_type": "stream",
       "stream": "stderr",
       "text": [
        "ERROR (theano.gof.opt): Traceback (most recent call last):\n",
        "  File \"/home/jotham/venvs/2014-12-20_datascibowl/lib/python2.7/site-packages/theano/gof/opt.py\", line 1493, in process_node\n",
        "    replacements = lopt.transform(node)\n",
        "  File \"/home/jotham/venvs/2014-12-20_datascibowl/lib/python2.7/site-packages/theano/sandbox/cuda/opt_util.py\", line 56, in opt\n",
        "    lr = grab_cpu_scalar(node.inputs[0], nd=nd)\n",
        "  File \"/home/jotham/venvs/2014-12-20_datascibowl/lib/python2.7/site-packages/theano/sandbox/cuda/opt_util.py\", line 18, in grab_cpu_scalar\n",
        "    return host_from_gpu(n.inputs[0])\n",
        "NameError: global name 'host_from_gpu' is not defined\n",
        "\n"
       ]
      },
      {
       "output_type": "stream",
       "stream": "stderr",
       "text": [
        "ERROR:theano.gof.opt:Traceback (most recent call last):\n",
        "  File \"/home/jotham/venvs/2014-12-20_datascibowl/lib/python2.7/site-packages/theano/gof/opt.py\", line 1493, in process_node\n",
        "    replacements = lopt.transform(node)\n",
        "  File \"/home/jotham/venvs/2014-12-20_datascibowl/lib/python2.7/site-packages/theano/sandbox/cuda/opt_util.py\", line 56, in opt\n",
        "    lr = grab_cpu_scalar(node.inputs[0], nd=nd)\n",
        "  File \"/home/jotham/venvs/2014-12-20_datascibowl/lib/python2.7/site-packages/theano/sandbox/cuda/opt_util.py\", line 18, in grab_cpu_scalar\n",
        "    return host_from_gpu(n.inputs[0])\n",
        "NameError: global name 'host_from_gpu' is not defined\n",
        "\n"
       ]
      },
      {
       "output_type": "stream",
       "stream": "stderr",
       "text": [
        "ERROR (theano.gof.opt): Optimization failure due to: local_dnn_convw_alpha_merge\n"
       ]
      },
      {
       "output_type": "stream",
       "stream": "stderr",
       "text": [
        "ERROR:theano.gof.opt:Optimization failure due to: local_dnn_convw_alpha_merge\n"
       ]
      },
      {
       "output_type": "stream",
       "stream": "stderr",
       "text": [
        "ERROR (theano.gof.opt): TRACEBACK:\n"
       ]
      },
      {
       "output_type": "stream",
       "stream": "stderr",
       "text": [
        "ERROR:theano.gof.opt:TRACEBACK:\n"
       ]
      },
      {
       "output_type": "stream",
       "stream": "stderr",
       "text": [
        "ERROR (theano.gof.opt): Traceback (most recent call last):\n",
        "  File \"/home/jotham/venvs/2014-12-20_datascibowl/lib/python2.7/site-packages/theano/gof/opt.py\", line 1493, in process_node\n",
        "    replacements = lopt.transform(node)\n",
        "  File \"/home/jotham/venvs/2014-12-20_datascibowl/lib/python2.7/site-packages/theano/sandbox/cuda/opt_util.py\", line 56, in opt\n",
        "    lr = grab_cpu_scalar(node.inputs[0], nd=nd)\n",
        "  File \"/home/jotham/venvs/2014-12-20_datascibowl/lib/python2.7/site-packages/theano/sandbox/cuda/opt_util.py\", line 18, in grab_cpu_scalar\n",
        "    return host_from_gpu(n.inputs[0])\n",
        "NameError: global name 'host_from_gpu' is not defined\n",
        "\n"
       ]
      },
      {
       "output_type": "stream",
       "stream": "stderr",
       "text": [
        "ERROR:theano.gof.opt:Traceback (most recent call last):\n",
        "  File \"/home/jotham/venvs/2014-12-20_datascibowl/lib/python2.7/site-packages/theano/gof/opt.py\", line 1493, in process_node\n",
        "    replacements = lopt.transform(node)\n",
        "  File \"/home/jotham/venvs/2014-12-20_datascibowl/lib/python2.7/site-packages/theano/sandbox/cuda/opt_util.py\", line 56, in opt\n",
        "    lr = grab_cpu_scalar(node.inputs[0], nd=nd)\n",
        "  File \"/home/jotham/venvs/2014-12-20_datascibowl/lib/python2.7/site-packages/theano/sandbox/cuda/opt_util.py\", line 18, in grab_cpu_scalar\n",
        "    return host_from_gpu(n.inputs[0])\n",
        "NameError: global name 'host_from_gpu' is not defined\n",
        "\n"
       ]
      },
      {
       "output_type": "stream",
       "stream": "stderr",
       "text": [
        "ERROR (theano.gof.opt): Optimization failure due to: local_dnn_convi_alpha_merge\n"
       ]
      },
      {
       "output_type": "stream",
       "stream": "stderr",
       "text": [
        "ERROR:theano.gof.opt:Optimization failure due to: local_dnn_convi_alpha_merge\n"
       ]
      },
      {
       "output_type": "stream",
       "stream": "stderr",
       "text": [
        "ERROR (theano.gof.opt): TRACEBACK:\n"
       ]
      },
      {
       "output_type": "stream",
       "stream": "stderr",
       "text": [
        "ERROR:theano.gof.opt:TRACEBACK:\n"
       ]
      },
      {
       "output_type": "stream",
       "stream": "stderr",
       "text": [
        "ERROR (theano.gof.opt): Traceback (most recent call last):\n",
        "  File \"/home/jotham/venvs/2014-12-20_datascibowl/lib/python2.7/site-packages/theano/gof/opt.py\", line 1493, in process_node\n",
        "    replacements = lopt.transform(node)\n",
        "  File \"/home/jotham/venvs/2014-12-20_datascibowl/lib/python2.7/site-packages/theano/sandbox/cuda/opt_util.py\", line 56, in opt\n",
        "    lr = grab_cpu_scalar(node.inputs[0], nd=nd)\n",
        "  File \"/home/jotham/venvs/2014-12-20_datascibowl/lib/python2.7/site-packages/theano/sandbox/cuda/opt_util.py\", line 18, in grab_cpu_scalar\n",
        "    return host_from_gpu(n.inputs[0])\n",
        "NameError: global name 'host_from_gpu' is not defined\n",
        "\n"
       ]
      },
      {
       "output_type": "stream",
       "stream": "stderr",
       "text": [
        "ERROR:theano.gof.opt:Traceback (most recent call last):\n",
        "  File \"/home/jotham/venvs/2014-12-20_datascibowl/lib/python2.7/site-packages/theano/gof/opt.py\", line 1493, in process_node\n",
        "    replacements = lopt.transform(node)\n",
        "  File \"/home/jotham/venvs/2014-12-20_datascibowl/lib/python2.7/site-packages/theano/sandbox/cuda/opt_util.py\", line 56, in opt\n",
        "    lr = grab_cpu_scalar(node.inputs[0], nd=nd)\n",
        "  File \"/home/jotham/venvs/2014-12-20_datascibowl/lib/python2.7/site-packages/theano/sandbox/cuda/opt_util.py\", line 18, in grab_cpu_scalar\n",
        "    return host_from_gpu(n.inputs[0])\n",
        "NameError: global name 'host_from_gpu' is not defined\n",
        "\n"
       ]
      },
      {
       "output_type": "stream",
       "stream": "stderr",
       "text": [
        "ERROR (theano.gof.opt): Optimization failure due to: local_dnn_conv_alpha_merge\n"
       ]
      },
      {
       "output_type": "stream",
       "stream": "stderr",
       "text": [
        "ERROR:theano.gof.opt:Optimization failure due to: local_dnn_conv_alpha_merge\n"
       ]
      },
      {
       "output_type": "stream",
       "stream": "stderr",
       "text": [
        "ERROR (theano.gof.opt): TRACEBACK:\n"
       ]
      },
      {
       "output_type": "stream",
       "stream": "stderr",
       "text": [
        "ERROR:theano.gof.opt:TRACEBACK:\n"
       ]
      },
      {
       "output_type": "stream",
       "stream": "stderr",
       "text": [
        "ERROR (theano.gof.opt): Traceback (most recent call last):\n",
        "  File \"/home/jotham/venvs/2014-12-20_datascibowl/lib/python2.7/site-packages/theano/gof/opt.py\", line 1493, in process_node\n",
        "    replacements = lopt.transform(node)\n",
        "  File \"/home/jotham/venvs/2014-12-20_datascibowl/lib/python2.7/site-packages/theano/sandbox/cuda/opt_util.py\", line 56, in opt\n",
        "    lr = grab_cpu_scalar(node.inputs[0], nd=nd)\n",
        "  File \"/home/jotham/venvs/2014-12-20_datascibowl/lib/python2.7/site-packages/theano/sandbox/cuda/opt_util.py\", line 18, in grab_cpu_scalar\n",
        "    return host_from_gpu(n.inputs[0])\n",
        "NameError: global name 'host_from_gpu' is not defined\n",
        "\n"
       ]
      },
      {
       "output_type": "stream",
       "stream": "stderr",
       "text": [
        "ERROR:theano.gof.opt:Traceback (most recent call last):\n",
        "  File \"/home/jotham/venvs/2014-12-20_datascibowl/lib/python2.7/site-packages/theano/gof/opt.py\", line 1493, in process_node\n",
        "    replacements = lopt.transform(node)\n",
        "  File \"/home/jotham/venvs/2014-12-20_datascibowl/lib/python2.7/site-packages/theano/sandbox/cuda/opt_util.py\", line 56, in opt\n",
        "    lr = grab_cpu_scalar(node.inputs[0], nd=nd)\n",
        "  File \"/home/jotham/venvs/2014-12-20_datascibowl/lib/python2.7/site-packages/theano/sandbox/cuda/opt_util.py\", line 18, in grab_cpu_scalar\n",
        "    return host_from_gpu(n.inputs[0])\n",
        "NameError: global name 'host_from_gpu' is not defined\n",
        "\n"
       ]
      },
      {
       "output_type": "stream",
       "stream": "stderr",
       "text": [
        "ERROR (theano.gof.opt): Optimization failure due to: local_dnn_convw_alpha_merge\n"
       ]
      },
      {
       "output_type": "stream",
       "stream": "stderr",
       "text": [
        "ERROR:theano.gof.opt:Optimization failure due to: local_dnn_convw_alpha_merge\n"
       ]
      },
      {
       "output_type": "stream",
       "stream": "stderr",
       "text": [
        "ERROR (theano.gof.opt): TRACEBACK:\n"
       ]
      },
      {
       "output_type": "stream",
       "stream": "stderr",
       "text": [
        "ERROR:theano.gof.opt:TRACEBACK:\n"
       ]
      },
      {
       "output_type": "stream",
       "stream": "stderr",
       "text": [
        "ERROR (theano.gof.opt): Traceback (most recent call last):\n",
        "  File \"/home/jotham/venvs/2014-12-20_datascibowl/lib/python2.7/site-packages/theano/gof/opt.py\", line 1493, in process_node\n",
        "    replacements = lopt.transform(node)\n",
        "  File \"/home/jotham/venvs/2014-12-20_datascibowl/lib/python2.7/site-packages/theano/sandbox/cuda/opt_util.py\", line 56, in opt\n",
        "    lr = grab_cpu_scalar(node.inputs[0], nd=nd)\n",
        "  File \"/home/jotham/venvs/2014-12-20_datascibowl/lib/python2.7/site-packages/theano/sandbox/cuda/opt_util.py\", line 18, in grab_cpu_scalar\n",
        "    return host_from_gpu(n.inputs[0])\n",
        "NameError: global name 'host_from_gpu' is not defined\n",
        "\n"
       ]
      },
      {
       "output_type": "stream",
       "stream": "stderr",
       "text": [
        "ERROR:theano.gof.opt:Traceback (most recent call last):\n",
        "  File \"/home/jotham/venvs/2014-12-20_datascibowl/lib/python2.7/site-packages/theano/gof/opt.py\", line 1493, in process_node\n",
        "    replacements = lopt.transform(node)\n",
        "  File \"/home/jotham/venvs/2014-12-20_datascibowl/lib/python2.7/site-packages/theano/sandbox/cuda/opt_util.py\", line 56, in opt\n",
        "    lr = grab_cpu_scalar(node.inputs[0], nd=nd)\n",
        "  File \"/home/jotham/venvs/2014-12-20_datascibowl/lib/python2.7/site-packages/theano/sandbox/cuda/opt_util.py\", line 18, in grab_cpu_scalar\n",
        "    return host_from_gpu(n.inputs[0])\n",
        "NameError: global name 'host_from_gpu' is not defined\n",
        "\n"
       ]
      },
      {
       "output_type": "stream",
       "stream": "stderr",
       "text": [
        "ERROR (theano.gof.opt): Optimization failure due to: local_dnn_convi_alpha_merge\n"
       ]
      },
      {
       "output_type": "stream",
       "stream": "stderr",
       "text": [
        "ERROR:theano.gof.opt:Optimization failure due to: local_dnn_convi_alpha_merge\n"
       ]
      },
      {
       "output_type": "stream",
       "stream": "stderr",
       "text": [
        "ERROR (theano.gof.opt): TRACEBACK:\n"
       ]
      },
      {
       "output_type": "stream",
       "stream": "stderr",
       "text": [
        "ERROR:theano.gof.opt:TRACEBACK:\n"
       ]
      },
      {
       "output_type": "stream",
       "stream": "stderr",
       "text": [
        "ERROR (theano.gof.opt): Traceback (most recent call last):\n",
        "  File \"/home/jotham/venvs/2014-12-20_datascibowl/lib/python2.7/site-packages/theano/gof/opt.py\", line 1493, in process_node\n",
        "    replacements = lopt.transform(node)\n",
        "  File \"/home/jotham/venvs/2014-12-20_datascibowl/lib/python2.7/site-packages/theano/sandbox/cuda/opt_util.py\", line 56, in opt\n",
        "    lr = grab_cpu_scalar(node.inputs[0], nd=nd)\n",
        "  File \"/home/jotham/venvs/2014-12-20_datascibowl/lib/python2.7/site-packages/theano/sandbox/cuda/opt_util.py\", line 18, in grab_cpu_scalar\n",
        "    return host_from_gpu(n.inputs[0])\n",
        "NameError: global name 'host_from_gpu' is not defined\n",
        "\n"
       ]
      },
      {
       "output_type": "stream",
       "stream": "stderr",
       "text": [
        "ERROR:theano.gof.opt:Traceback (most recent call last):\n",
        "  File \"/home/jotham/venvs/2014-12-20_datascibowl/lib/python2.7/site-packages/theano/gof/opt.py\", line 1493, in process_node\n",
        "    replacements = lopt.transform(node)\n",
        "  File \"/home/jotham/venvs/2014-12-20_datascibowl/lib/python2.7/site-packages/theano/sandbox/cuda/opt_util.py\", line 56, in opt\n",
        "    lr = grab_cpu_scalar(node.inputs[0], nd=nd)\n",
        "  File \"/home/jotham/venvs/2014-12-20_datascibowl/lib/python2.7/site-packages/theano/sandbox/cuda/opt_util.py\", line 18, in grab_cpu_scalar\n",
        "    return host_from_gpu(n.inputs[0])\n",
        "NameError: global name 'host_from_gpu' is not defined\n",
        "\n"
       ]
      },
      {
       "output_type": "stream",
       "stream": "stderr",
       "text": [
        "ERROR (theano.gof.opt): Optimization failure due to: local_dnn_conv_alpha_merge\n"
       ]
      },
      {
       "output_type": "stream",
       "stream": "stderr",
       "text": [
        "ERROR:theano.gof.opt:Optimization failure due to: local_dnn_conv_alpha_merge\n"
       ]
      },
      {
       "output_type": "stream",
       "stream": "stderr",
       "text": [
        "ERROR (theano.gof.opt): TRACEBACK:\n"
       ]
      },
      {
       "output_type": "stream",
       "stream": "stderr",
       "text": [
        "ERROR:theano.gof.opt:TRACEBACK:\n"
       ]
      },
      {
       "output_type": "stream",
       "stream": "stderr",
       "text": [
        "ERROR (theano.gof.opt): Traceback (most recent call last):\n",
        "  File \"/home/jotham/venvs/2014-12-20_datascibowl/lib/python2.7/site-packages/theano/gof/opt.py\", line 1493, in process_node\n",
        "    replacements = lopt.transform(node)\n",
        "  File \"/home/jotham/venvs/2014-12-20_datascibowl/lib/python2.7/site-packages/theano/sandbox/cuda/opt_util.py\", line 56, in opt\n",
        "    lr = grab_cpu_scalar(node.inputs[0], nd=nd)\n",
        "  File \"/home/jotham/venvs/2014-12-20_datascibowl/lib/python2.7/site-packages/theano/sandbox/cuda/opt_util.py\", line 18, in grab_cpu_scalar\n",
        "    return host_from_gpu(n.inputs[0])\n",
        "NameError: global name 'host_from_gpu' is not defined\n",
        "\n"
       ]
      },
      {
       "output_type": "stream",
       "stream": "stderr",
       "text": [
        "ERROR:theano.gof.opt:Traceback (most recent call last):\n",
        "  File \"/home/jotham/venvs/2014-12-20_datascibowl/lib/python2.7/site-packages/theano/gof/opt.py\", line 1493, in process_node\n",
        "    replacements = lopt.transform(node)\n",
        "  File \"/home/jotham/venvs/2014-12-20_datascibowl/lib/python2.7/site-packages/theano/sandbox/cuda/opt_util.py\", line 56, in opt\n",
        "    lr = grab_cpu_scalar(node.inputs[0], nd=nd)\n",
        "  File \"/home/jotham/venvs/2014-12-20_datascibowl/lib/python2.7/site-packages/theano/sandbox/cuda/opt_util.py\", line 18, in grab_cpu_scalar\n",
        "    return host_from_gpu(n.inputs[0])\n",
        "NameError: global name 'host_from_gpu' is not defined\n",
        "\n"
       ]
      },
      {
       "output_type": "stream",
       "stream": "stderr",
       "text": [
        "ERROR (theano.gof.opt): Optimization failure due to: local_dnn_convw_alpha_merge\n"
       ]
      },
      {
       "output_type": "stream",
       "stream": "stderr",
       "text": [
        "ERROR:theano.gof.opt:Optimization failure due to: local_dnn_convw_alpha_merge\n"
       ]
      },
      {
       "output_type": "stream",
       "stream": "stderr",
       "text": [
        "ERROR (theano.gof.opt): TRACEBACK:\n"
       ]
      },
      {
       "output_type": "stream",
       "stream": "stderr",
       "text": [
        "ERROR:theano.gof.opt:TRACEBACK:\n"
       ]
      },
      {
       "output_type": "stream",
       "stream": "stderr",
       "text": [
        "ERROR (theano.gof.opt): Traceback (most recent call last):\n",
        "  File \"/home/jotham/venvs/2014-12-20_datascibowl/lib/python2.7/site-packages/theano/gof/opt.py\", line 1493, in process_node\n",
        "    replacements = lopt.transform(node)\n",
        "  File \"/home/jotham/venvs/2014-12-20_datascibowl/lib/python2.7/site-packages/theano/sandbox/cuda/opt_util.py\", line 56, in opt\n",
        "    lr = grab_cpu_scalar(node.inputs[0], nd=nd)\n",
        "  File \"/home/jotham/venvs/2014-12-20_datascibowl/lib/python2.7/site-packages/theano/sandbox/cuda/opt_util.py\", line 18, in grab_cpu_scalar\n",
        "    return host_from_gpu(n.inputs[0])\n",
        "NameError: global name 'host_from_gpu' is not defined\n",
        "\n"
       ]
      },
      {
       "output_type": "stream",
       "stream": "stderr",
       "text": [
        "ERROR:theano.gof.opt:Traceback (most recent call last):\n",
        "  File \"/home/jotham/venvs/2014-12-20_datascibowl/lib/python2.7/site-packages/theano/gof/opt.py\", line 1493, in process_node\n",
        "    replacements = lopt.transform(node)\n",
        "  File \"/home/jotham/venvs/2014-12-20_datascibowl/lib/python2.7/site-packages/theano/sandbox/cuda/opt_util.py\", line 56, in opt\n",
        "    lr = grab_cpu_scalar(node.inputs[0], nd=nd)\n",
        "  File \"/home/jotham/venvs/2014-12-20_datascibowl/lib/python2.7/site-packages/theano/sandbox/cuda/opt_util.py\", line 18, in grab_cpu_scalar\n",
        "    return host_from_gpu(n.inputs[0])\n",
        "NameError: global name 'host_from_gpu' is not defined\n",
        "\n"
       ]
      },
      {
       "output_type": "stream",
       "stream": "stderr",
       "text": [
        "ERROR (theano.gof.opt): Optimization failure due to: local_dnn_convi_alpha_merge\n"
       ]
      },
      {
       "output_type": "stream",
       "stream": "stderr",
       "text": [
        "ERROR:theano.gof.opt:Optimization failure due to: local_dnn_convi_alpha_merge\n"
       ]
      },
      {
       "output_type": "stream",
       "stream": "stderr",
       "text": [
        "ERROR (theano.gof.opt): TRACEBACK:\n"
       ]
      },
      {
       "output_type": "stream",
       "stream": "stderr",
       "text": [
        "ERROR:theano.gof.opt:TRACEBACK:\n"
       ]
      },
      {
       "output_type": "stream",
       "stream": "stderr",
       "text": [
        "ERROR (theano.gof.opt): Traceback (most recent call last):\n",
        "  File \"/home/jotham/venvs/2014-12-20_datascibowl/lib/python2.7/site-packages/theano/gof/opt.py\", line 1493, in process_node\n",
        "    replacements = lopt.transform(node)\n",
        "  File \"/home/jotham/venvs/2014-12-20_datascibowl/lib/python2.7/site-packages/theano/sandbox/cuda/opt_util.py\", line 56, in opt\n",
        "    lr = grab_cpu_scalar(node.inputs[0], nd=nd)\n",
        "  File \"/home/jotham/venvs/2014-12-20_datascibowl/lib/python2.7/site-packages/theano/sandbox/cuda/opt_util.py\", line 18, in grab_cpu_scalar\n",
        "    return host_from_gpu(n.inputs[0])\n",
        "NameError: global name 'host_from_gpu' is not defined\n",
        "\n"
       ]
      },
      {
       "output_type": "stream",
       "stream": "stderr",
       "text": [
        "ERROR:theano.gof.opt:Traceback (most recent call last):\n",
        "  File \"/home/jotham/venvs/2014-12-20_datascibowl/lib/python2.7/site-packages/theano/gof/opt.py\", line 1493, in process_node\n",
        "    replacements = lopt.transform(node)\n",
        "  File \"/home/jotham/venvs/2014-12-20_datascibowl/lib/python2.7/site-packages/theano/sandbox/cuda/opt_util.py\", line 56, in opt\n",
        "    lr = grab_cpu_scalar(node.inputs[0], nd=nd)\n",
        "  File \"/home/jotham/venvs/2014-12-20_datascibowl/lib/python2.7/site-packages/theano/sandbox/cuda/opt_util.py\", line 18, in grab_cpu_scalar\n",
        "    return host_from_gpu(n.inputs[0])\n",
        "NameError: global name 'host_from_gpu' is not defined\n",
        "\n"
       ]
      },
      {
       "output_type": "stream",
       "stream": "stderr",
       "text": [
        "ERROR (theano.gof.opt): Optimization failure due to: local_dnn_conv_alpha_merge\n"
       ]
      },
      {
       "output_type": "stream",
       "stream": "stderr",
       "text": [
        "ERROR:theano.gof.opt:Optimization failure due to: local_dnn_conv_alpha_merge\n"
       ]
      },
      {
       "output_type": "stream",
       "stream": "stderr",
       "text": [
        "ERROR (theano.gof.opt): TRACEBACK:\n"
       ]
      },
      {
       "output_type": "stream",
       "stream": "stderr",
       "text": [
        "ERROR:theano.gof.opt:TRACEBACK:\n"
       ]
      },
      {
       "output_type": "stream",
       "stream": "stderr",
       "text": [
        "ERROR (theano.gof.opt): Traceback (most recent call last):\n",
        "  File \"/home/jotham/venvs/2014-12-20_datascibowl/lib/python2.7/site-packages/theano/gof/opt.py\", line 1493, in process_node\n",
        "    replacements = lopt.transform(node)\n",
        "  File \"/home/jotham/venvs/2014-12-20_datascibowl/lib/python2.7/site-packages/theano/sandbox/cuda/opt_util.py\", line 56, in opt\n",
        "    lr = grab_cpu_scalar(node.inputs[0], nd=nd)\n",
        "  File \"/home/jotham/venvs/2014-12-20_datascibowl/lib/python2.7/site-packages/theano/sandbox/cuda/opt_util.py\", line 18, in grab_cpu_scalar\n",
        "    return host_from_gpu(n.inputs[0])\n",
        "NameError: global name 'host_from_gpu' is not defined\n",
        "\n"
       ]
      },
      {
       "output_type": "stream",
       "stream": "stderr",
       "text": [
        "ERROR:theano.gof.opt:Traceback (most recent call last):\n",
        "  File \"/home/jotham/venvs/2014-12-20_datascibowl/lib/python2.7/site-packages/theano/gof/opt.py\", line 1493, in process_node\n",
        "    replacements = lopt.transform(node)\n",
        "  File \"/home/jotham/venvs/2014-12-20_datascibowl/lib/python2.7/site-packages/theano/sandbox/cuda/opt_util.py\", line 56, in opt\n",
        "    lr = grab_cpu_scalar(node.inputs[0], nd=nd)\n",
        "  File \"/home/jotham/venvs/2014-12-20_datascibowl/lib/python2.7/site-packages/theano/sandbox/cuda/opt_util.py\", line 18, in grab_cpu_scalar\n",
        "    return host_from_gpu(n.inputs[0])\n",
        "NameError: global name 'host_from_gpu' is not defined\n",
        "\n"
       ]
      },
      {
       "output_type": "stream",
       "stream": "stderr",
       "text": [
        "ERROR (theano.gof.opt): Optimization failure due to: local_dnn_convw_alpha_merge\n"
       ]
      },
      {
       "output_type": "stream",
       "stream": "stderr",
       "text": [
        "ERROR:theano.gof.opt:Optimization failure due to: local_dnn_convw_alpha_merge\n"
       ]
      },
      {
       "output_type": "stream",
       "stream": "stderr",
       "text": [
        "ERROR (theano.gof.opt): TRACEBACK:\n"
       ]
      },
      {
       "output_type": "stream",
       "stream": "stderr",
       "text": [
        "ERROR:theano.gof.opt:TRACEBACK:\n"
       ]
      },
      {
       "output_type": "stream",
       "stream": "stderr",
       "text": [
        "ERROR (theano.gof.opt): Traceback (most recent call last):\n",
        "  File \"/home/jotham/venvs/2014-12-20_datascibowl/lib/python2.7/site-packages/theano/gof/opt.py\", line 1493, in process_node\n",
        "    replacements = lopt.transform(node)\n",
        "  File \"/home/jotham/venvs/2014-12-20_datascibowl/lib/python2.7/site-packages/theano/sandbox/cuda/opt_util.py\", line 56, in opt\n",
        "    lr = grab_cpu_scalar(node.inputs[0], nd=nd)\n",
        "  File \"/home/jotham/venvs/2014-12-20_datascibowl/lib/python2.7/site-packages/theano/sandbox/cuda/opt_util.py\", line 18, in grab_cpu_scalar\n",
        "    return host_from_gpu(n.inputs[0])\n",
        "NameError: global name 'host_from_gpu' is not defined\n",
        "\n"
       ]
      },
      {
       "output_type": "stream",
       "stream": "stderr",
       "text": [
        "ERROR:theano.gof.opt:Traceback (most recent call last):\n",
        "  File \"/home/jotham/venvs/2014-12-20_datascibowl/lib/python2.7/site-packages/theano/gof/opt.py\", line 1493, in process_node\n",
        "    replacements = lopt.transform(node)\n",
        "  File \"/home/jotham/venvs/2014-12-20_datascibowl/lib/python2.7/site-packages/theano/sandbox/cuda/opt_util.py\", line 56, in opt\n",
        "    lr = grab_cpu_scalar(node.inputs[0], nd=nd)\n",
        "  File \"/home/jotham/venvs/2014-12-20_datascibowl/lib/python2.7/site-packages/theano/sandbox/cuda/opt_util.py\", line 18, in grab_cpu_scalar\n",
        "    return host_from_gpu(n.inputs[0])\n",
        "NameError: global name 'host_from_gpu' is not defined\n",
        "\n"
       ]
      },
      {
       "output_type": "stream",
       "stream": "stderr",
       "text": [
        "ERROR (theano.gof.opt): Optimization failure due to: local_dnn_convi_alpha_merge\n"
       ]
      },
      {
       "output_type": "stream",
       "stream": "stderr",
       "text": [
        "ERROR:theano.gof.opt:Optimization failure due to: local_dnn_convi_alpha_merge\n"
       ]
      },
      {
       "output_type": "stream",
       "stream": "stderr",
       "text": [
        "ERROR (theano.gof.opt): TRACEBACK:\n"
       ]
      },
      {
       "output_type": "stream",
       "stream": "stderr",
       "text": [
        "ERROR:theano.gof.opt:TRACEBACK:\n"
       ]
      },
      {
       "output_type": "stream",
       "stream": "stderr",
       "text": [
        "ERROR (theano.gof.opt): Traceback (most recent call last):\n",
        "  File \"/home/jotham/venvs/2014-12-20_datascibowl/lib/python2.7/site-packages/theano/gof/opt.py\", line 1493, in process_node\n",
        "    replacements = lopt.transform(node)\n",
        "  File \"/home/jotham/venvs/2014-12-20_datascibowl/lib/python2.7/site-packages/theano/sandbox/cuda/opt_util.py\", line 56, in opt\n",
        "    lr = grab_cpu_scalar(node.inputs[0], nd=nd)\n",
        "  File \"/home/jotham/venvs/2014-12-20_datascibowl/lib/python2.7/site-packages/theano/sandbox/cuda/opt_util.py\", line 18, in grab_cpu_scalar\n",
        "    return host_from_gpu(n.inputs[0])\n",
        "NameError: global name 'host_from_gpu' is not defined\n",
        "\n"
       ]
      },
      {
       "output_type": "stream",
       "stream": "stderr",
       "text": [
        "ERROR:theano.gof.opt:Traceback (most recent call last):\n",
        "  File \"/home/jotham/venvs/2014-12-20_datascibowl/lib/python2.7/site-packages/theano/gof/opt.py\", line 1493, in process_node\n",
        "    replacements = lopt.transform(node)\n",
        "  File \"/home/jotham/venvs/2014-12-20_datascibowl/lib/python2.7/site-packages/theano/sandbox/cuda/opt_util.py\", line 56, in opt\n",
        "    lr = grab_cpu_scalar(node.inputs[0], nd=nd)\n",
        "  File \"/home/jotham/venvs/2014-12-20_datascibowl/lib/python2.7/site-packages/theano/sandbox/cuda/opt_util.py\", line 18, in grab_cpu_scalar\n",
        "    return host_from_gpu(n.inputs[0])\n",
        "NameError: global name 'host_from_gpu' is not defined\n",
        "\n"
       ]
      },
      {
       "output_type": "stream",
       "stream": "stderr",
       "text": [
        "ERROR (theano.gof.opt): Optimization failure due to: local_dnn_conv_alpha_merge\n"
       ]
      },
      {
       "output_type": "stream",
       "stream": "stderr",
       "text": [
        "ERROR:theano.gof.opt:Optimization failure due to: local_dnn_conv_alpha_merge\n"
       ]
      },
      {
       "output_type": "stream",
       "stream": "stderr",
       "text": [
        "ERROR (theano.gof.opt): TRACEBACK:\n"
       ]
      },
      {
       "output_type": "stream",
       "stream": "stderr",
       "text": [
        "ERROR:theano.gof.opt:TRACEBACK:\n"
       ]
      },
      {
       "output_type": "stream",
       "stream": "stderr",
       "text": [
        "ERROR (theano.gof.opt): Traceback (most recent call last):\n",
        "  File \"/home/jotham/venvs/2014-12-20_datascibowl/lib/python2.7/site-packages/theano/gof/opt.py\", line 1493, in process_node\n",
        "    replacements = lopt.transform(node)\n",
        "  File \"/home/jotham/venvs/2014-12-20_datascibowl/lib/python2.7/site-packages/theano/sandbox/cuda/opt_util.py\", line 56, in opt\n",
        "    lr = grab_cpu_scalar(node.inputs[0], nd=nd)\n",
        "  File \"/home/jotham/venvs/2014-12-20_datascibowl/lib/python2.7/site-packages/theano/sandbox/cuda/opt_util.py\", line 18, in grab_cpu_scalar\n",
        "    return host_from_gpu(n.inputs[0])\n",
        "NameError: global name 'host_from_gpu' is not defined\n",
        "\n"
       ]
      },
      {
       "output_type": "stream",
       "stream": "stderr",
       "text": [
        "ERROR:theano.gof.opt:Traceback (most recent call last):\n",
        "  File \"/home/jotham/venvs/2014-12-20_datascibowl/lib/python2.7/site-packages/theano/gof/opt.py\", line 1493, in process_node\n",
        "    replacements = lopt.transform(node)\n",
        "  File \"/home/jotham/venvs/2014-12-20_datascibowl/lib/python2.7/site-packages/theano/sandbox/cuda/opt_util.py\", line 56, in opt\n",
        "    lr = grab_cpu_scalar(node.inputs[0], nd=nd)\n",
        "  File \"/home/jotham/venvs/2014-12-20_datascibowl/lib/python2.7/site-packages/theano/sandbox/cuda/opt_util.py\", line 18, in grab_cpu_scalar\n",
        "    return host_from_gpu(n.inputs[0])\n",
        "NameError: global name 'host_from_gpu' is not defined\n",
        "\n"
       ]
      },
      {
       "output_type": "stream",
       "stream": "stderr",
       "text": [
        "ERROR (theano.gof.opt): Optimization failure due to: local_dnn_convw_alpha_merge\n"
       ]
      },
      {
       "output_type": "stream",
       "stream": "stderr",
       "text": [
        "ERROR:theano.gof.opt:Optimization failure due to: local_dnn_convw_alpha_merge\n"
       ]
      },
      {
       "output_type": "stream",
       "stream": "stderr",
       "text": [
        "ERROR (theano.gof.opt): TRACEBACK:\n"
       ]
      },
      {
       "output_type": "stream",
       "stream": "stderr",
       "text": [
        "ERROR:theano.gof.opt:TRACEBACK:\n"
       ]
      },
      {
       "output_type": "stream",
       "stream": "stderr",
       "text": [
        "ERROR (theano.gof.opt): Traceback (most recent call last):\n",
        "  File \"/home/jotham/venvs/2014-12-20_datascibowl/lib/python2.7/site-packages/theano/gof/opt.py\", line 1493, in process_node\n",
        "    replacements = lopt.transform(node)\n",
        "  File \"/home/jotham/venvs/2014-12-20_datascibowl/lib/python2.7/site-packages/theano/sandbox/cuda/opt_util.py\", line 56, in opt\n",
        "    lr = grab_cpu_scalar(node.inputs[0], nd=nd)\n",
        "  File \"/home/jotham/venvs/2014-12-20_datascibowl/lib/python2.7/site-packages/theano/sandbox/cuda/opt_util.py\", line 18, in grab_cpu_scalar\n",
        "    return host_from_gpu(n.inputs[0])\n",
        "NameError: global name 'host_from_gpu' is not defined\n",
        "\n"
       ]
      },
      {
       "output_type": "stream",
       "stream": "stderr",
       "text": [
        "ERROR:theano.gof.opt:Traceback (most recent call last):\n",
        "  File \"/home/jotham/venvs/2014-12-20_datascibowl/lib/python2.7/site-packages/theano/gof/opt.py\", line 1493, in process_node\n",
        "    replacements = lopt.transform(node)\n",
        "  File \"/home/jotham/venvs/2014-12-20_datascibowl/lib/python2.7/site-packages/theano/sandbox/cuda/opt_util.py\", line 56, in opt\n",
        "    lr = grab_cpu_scalar(node.inputs[0], nd=nd)\n",
        "  File \"/home/jotham/venvs/2014-12-20_datascibowl/lib/python2.7/site-packages/theano/sandbox/cuda/opt_util.py\", line 18, in grab_cpu_scalar\n",
        "    return host_from_gpu(n.inputs[0])\n",
        "NameError: global name 'host_from_gpu' is not defined\n",
        "\n"
       ]
      },
      {
       "output_type": "stream",
       "stream": "stderr",
       "text": [
        "ERROR (theano.gof.opt): Optimization failure due to: local_dnn_convi_alpha_merge\n"
       ]
      },
      {
       "output_type": "stream",
       "stream": "stderr",
       "text": [
        "ERROR:theano.gof.opt:Optimization failure due to: local_dnn_convi_alpha_merge\n"
       ]
      },
      {
       "output_type": "stream",
       "stream": "stderr",
       "text": [
        "ERROR (theano.gof.opt): TRACEBACK:\n"
       ]
      },
      {
       "output_type": "stream",
       "stream": "stderr",
       "text": [
        "ERROR:theano.gof.opt:TRACEBACK:\n"
       ]
      },
      {
       "output_type": "stream",
       "stream": "stderr",
       "text": [
        "ERROR (theano.gof.opt): Traceback (most recent call last):\n",
        "  File \"/home/jotham/venvs/2014-12-20_datascibowl/lib/python2.7/site-packages/theano/gof/opt.py\", line 1493, in process_node\n",
        "    replacements = lopt.transform(node)\n",
        "  File \"/home/jotham/venvs/2014-12-20_datascibowl/lib/python2.7/site-packages/theano/sandbox/cuda/opt_util.py\", line 56, in opt\n",
        "    lr = grab_cpu_scalar(node.inputs[0], nd=nd)\n",
        "  File \"/home/jotham/venvs/2014-12-20_datascibowl/lib/python2.7/site-packages/theano/sandbox/cuda/opt_util.py\", line 18, in grab_cpu_scalar\n",
        "    return host_from_gpu(n.inputs[0])\n",
        "NameError: global name 'host_from_gpu' is not defined\n",
        "\n"
       ]
      },
      {
       "output_type": "stream",
       "stream": "stderr",
       "text": [
        "ERROR:theano.gof.opt:Traceback (most recent call last):\n",
        "  File \"/home/jotham/venvs/2014-12-20_datascibowl/lib/python2.7/site-packages/theano/gof/opt.py\", line 1493, in process_node\n",
        "    replacements = lopt.transform(node)\n",
        "  File \"/home/jotham/venvs/2014-12-20_datascibowl/lib/python2.7/site-packages/theano/sandbox/cuda/opt_util.py\", line 56, in opt\n",
        "    lr = grab_cpu_scalar(node.inputs[0], nd=nd)\n",
        "  File \"/home/jotham/venvs/2014-12-20_datascibowl/lib/python2.7/site-packages/theano/sandbox/cuda/opt_util.py\", line 18, in grab_cpu_scalar\n",
        "    return host_from_gpu(n.inputs[0])\n",
        "NameError: global name 'host_from_gpu' is not defined\n",
        "\n"
       ]
      },
      {
       "output_type": "stream",
       "stream": "stderr",
       "text": [
        "ERROR (theano.gof.opt): Optimization failure due to: local_dnn_conv_alpha_merge\n"
       ]
      },
      {
       "output_type": "stream",
       "stream": "stderr",
       "text": [
        "ERROR:theano.gof.opt:Optimization failure due to: local_dnn_conv_alpha_merge\n"
       ]
      },
      {
       "output_type": "stream",
       "stream": "stderr",
       "text": [
        "ERROR (theano.gof.opt): TRACEBACK:\n"
       ]
      },
      {
       "output_type": "stream",
       "stream": "stderr",
       "text": [
        "ERROR:theano.gof.opt:TRACEBACK:\n"
       ]
      },
      {
       "output_type": "stream",
       "stream": "stderr",
       "text": [
        "ERROR (theano.gof.opt): Traceback (most recent call last):\n",
        "  File \"/home/jotham/venvs/2014-12-20_datascibowl/lib/python2.7/site-packages/theano/gof/opt.py\", line 1493, in process_node\n",
        "    replacements = lopt.transform(node)\n",
        "  File \"/home/jotham/venvs/2014-12-20_datascibowl/lib/python2.7/site-packages/theano/sandbox/cuda/opt_util.py\", line 56, in opt\n",
        "    lr = grab_cpu_scalar(node.inputs[0], nd=nd)\n",
        "  File \"/home/jotham/venvs/2014-12-20_datascibowl/lib/python2.7/site-packages/theano/sandbox/cuda/opt_util.py\", line 18, in grab_cpu_scalar\n",
        "    return host_from_gpu(n.inputs[0])\n",
        "NameError: global name 'host_from_gpu' is not defined\n",
        "\n"
       ]
      },
      {
       "output_type": "stream",
       "stream": "stderr",
       "text": [
        "ERROR:theano.gof.opt:Traceback (most recent call last):\n",
        "  File \"/home/jotham/venvs/2014-12-20_datascibowl/lib/python2.7/site-packages/theano/gof/opt.py\", line 1493, in process_node\n",
        "    replacements = lopt.transform(node)\n",
        "  File \"/home/jotham/venvs/2014-12-20_datascibowl/lib/python2.7/site-packages/theano/sandbox/cuda/opt_util.py\", line 56, in opt\n",
        "    lr = grab_cpu_scalar(node.inputs[0], nd=nd)\n",
        "  File \"/home/jotham/venvs/2014-12-20_datascibowl/lib/python2.7/site-packages/theano/sandbox/cuda/opt_util.py\", line 18, in grab_cpu_scalar\n",
        "    return host_from_gpu(n.inputs[0])\n",
        "NameError: global name 'host_from_gpu' is not defined\n",
        "\n"
       ]
      },
      {
       "output_type": "stream",
       "stream": "stderr",
       "text": [
        "ERROR (theano.gof.opt): Optimization failure due to: local_dnn_convw_alpha_merge\n"
       ]
      },
      {
       "output_type": "stream",
       "stream": "stderr",
       "text": [
        "ERROR:theano.gof.opt:Optimization failure due to: local_dnn_convw_alpha_merge\n"
       ]
      },
      {
       "output_type": "stream",
       "stream": "stderr",
       "text": [
        "ERROR (theano.gof.opt): TRACEBACK:\n"
       ]
      },
      {
       "output_type": "stream",
       "stream": "stderr",
       "text": [
        "ERROR:theano.gof.opt:TRACEBACK:\n"
       ]
      },
      {
       "output_type": "stream",
       "stream": "stderr",
       "text": [
        "ERROR (theano.gof.opt): Traceback (most recent call last):\n",
        "  File \"/home/jotham/venvs/2014-12-20_datascibowl/lib/python2.7/site-packages/theano/gof/opt.py\", line 1493, in process_node\n",
        "    replacements = lopt.transform(node)\n",
        "  File \"/home/jotham/venvs/2014-12-20_datascibowl/lib/python2.7/site-packages/theano/sandbox/cuda/opt_util.py\", line 56, in opt\n",
        "    lr = grab_cpu_scalar(node.inputs[0], nd=nd)\n",
        "  File \"/home/jotham/venvs/2014-12-20_datascibowl/lib/python2.7/site-packages/theano/sandbox/cuda/opt_util.py\", line 18, in grab_cpu_scalar\n",
        "    return host_from_gpu(n.inputs[0])\n",
        "NameError: global name 'host_from_gpu' is not defined\n",
        "\n"
       ]
      },
      {
       "output_type": "stream",
       "stream": "stderr",
       "text": [
        "ERROR:theano.gof.opt:Traceback (most recent call last):\n",
        "  File \"/home/jotham/venvs/2014-12-20_datascibowl/lib/python2.7/site-packages/theano/gof/opt.py\", line 1493, in process_node\n",
        "    replacements = lopt.transform(node)\n",
        "  File \"/home/jotham/venvs/2014-12-20_datascibowl/lib/python2.7/site-packages/theano/sandbox/cuda/opt_util.py\", line 56, in opt\n",
        "    lr = grab_cpu_scalar(node.inputs[0], nd=nd)\n",
        "  File \"/home/jotham/venvs/2014-12-20_datascibowl/lib/python2.7/site-packages/theano/sandbox/cuda/opt_util.py\", line 18, in grab_cpu_scalar\n",
        "    return host_from_gpu(n.inputs[0])\n",
        "NameError: global name 'host_from_gpu' is not defined\n",
        "\n"
       ]
      },
      {
       "output_type": "stream",
       "stream": "stderr",
       "text": [
        "ERROR (theano.gof.opt): Optimization failure due to: local_dnn_convi_alpha_merge\n"
       ]
      },
      {
       "output_type": "stream",
       "stream": "stderr",
       "text": [
        "ERROR:theano.gof.opt:Optimization failure due to: local_dnn_convi_alpha_merge\n"
       ]
      },
      {
       "output_type": "stream",
       "stream": "stderr",
       "text": [
        "ERROR (theano.gof.opt): TRACEBACK:\n"
       ]
      },
      {
       "output_type": "stream",
       "stream": "stderr",
       "text": [
        "ERROR:theano.gof.opt:TRACEBACK:\n"
       ]
      },
      {
       "output_type": "stream",
       "stream": "stderr",
       "text": [
        "ERROR (theano.gof.opt): Traceback (most recent call last):\n",
        "  File \"/home/jotham/venvs/2014-12-20_datascibowl/lib/python2.7/site-packages/theano/gof/opt.py\", line 1493, in process_node\n",
        "    replacements = lopt.transform(node)\n",
        "  File \"/home/jotham/venvs/2014-12-20_datascibowl/lib/python2.7/site-packages/theano/sandbox/cuda/opt_util.py\", line 56, in opt\n",
        "    lr = grab_cpu_scalar(node.inputs[0], nd=nd)\n",
        "  File \"/home/jotham/venvs/2014-12-20_datascibowl/lib/python2.7/site-packages/theano/sandbox/cuda/opt_util.py\", line 18, in grab_cpu_scalar\n",
        "    return host_from_gpu(n.inputs[0])\n",
        "NameError: global name 'host_from_gpu' is not defined\n",
        "\n"
       ]
      },
      {
       "output_type": "stream",
       "stream": "stderr",
       "text": [
        "ERROR:theano.gof.opt:Traceback (most recent call last):\n",
        "  File \"/home/jotham/venvs/2014-12-20_datascibowl/lib/python2.7/site-packages/theano/gof/opt.py\", line 1493, in process_node\n",
        "    replacements = lopt.transform(node)\n",
        "  File \"/home/jotham/venvs/2014-12-20_datascibowl/lib/python2.7/site-packages/theano/sandbox/cuda/opt_util.py\", line 56, in opt\n",
        "    lr = grab_cpu_scalar(node.inputs[0], nd=nd)\n",
        "  File \"/home/jotham/venvs/2014-12-20_datascibowl/lib/python2.7/site-packages/theano/sandbox/cuda/opt_util.py\", line 18, in grab_cpu_scalar\n",
        "    return host_from_gpu(n.inputs[0])\n",
        "NameError: global name 'host_from_gpu' is not defined\n",
        "\n"
       ]
      },
      {
       "output_type": "stream",
       "stream": "stderr",
       "text": [
        "ERROR (theano.gof.opt): Optimization failure due to: local_dnn_conv_alpha_merge\n"
       ]
      },
      {
       "output_type": "stream",
       "stream": "stderr",
       "text": [
        "ERROR:theano.gof.opt:Optimization failure due to: local_dnn_conv_alpha_merge\n"
       ]
      },
      {
       "output_type": "stream",
       "stream": "stderr",
       "text": [
        "ERROR (theano.gof.opt): TRACEBACK:\n"
       ]
      },
      {
       "output_type": "stream",
       "stream": "stderr",
       "text": [
        "ERROR:theano.gof.opt:TRACEBACK:\n"
       ]
      },
      {
       "output_type": "stream",
       "stream": "stderr",
       "text": [
        "ERROR (theano.gof.opt): Traceback (most recent call last):\n",
        "  File \"/home/jotham/venvs/2014-12-20_datascibowl/lib/python2.7/site-packages/theano/gof/opt.py\", line 1493, in process_node\n",
        "    replacements = lopt.transform(node)\n",
        "  File \"/home/jotham/venvs/2014-12-20_datascibowl/lib/python2.7/site-packages/theano/sandbox/cuda/opt_util.py\", line 56, in opt\n",
        "    lr = grab_cpu_scalar(node.inputs[0], nd=nd)\n",
        "  File \"/home/jotham/venvs/2014-12-20_datascibowl/lib/python2.7/site-packages/theano/sandbox/cuda/opt_util.py\", line 18, in grab_cpu_scalar\n",
        "    return host_from_gpu(n.inputs[0])\n",
        "NameError: global name 'host_from_gpu' is not defined\n",
        "\n"
       ]
      },
      {
       "output_type": "stream",
       "stream": "stderr",
       "text": [
        "ERROR:theano.gof.opt:Traceback (most recent call last):\n",
        "  File \"/home/jotham/venvs/2014-12-20_datascibowl/lib/python2.7/site-packages/theano/gof/opt.py\", line 1493, in process_node\n",
        "    replacements = lopt.transform(node)\n",
        "  File \"/home/jotham/venvs/2014-12-20_datascibowl/lib/python2.7/site-packages/theano/sandbox/cuda/opt_util.py\", line 56, in opt\n",
        "    lr = grab_cpu_scalar(node.inputs[0], nd=nd)\n",
        "  File \"/home/jotham/venvs/2014-12-20_datascibowl/lib/python2.7/site-packages/theano/sandbox/cuda/opt_util.py\", line 18, in grab_cpu_scalar\n",
        "    return host_from_gpu(n.inputs[0])\n",
        "NameError: global name 'host_from_gpu' is not defined\n",
        "\n"
       ]
      },
      {
       "output_type": "stream",
       "stream": "stderr",
       "text": [
        "ERROR (theano.gof.opt): Optimization failure due to: local_dnn_convw_alpha_merge\n"
       ]
      },
      {
       "output_type": "stream",
       "stream": "stderr",
       "text": [
        "ERROR:theano.gof.opt:Optimization failure due to: local_dnn_convw_alpha_merge\n"
       ]
      },
      {
       "output_type": "stream",
       "stream": "stderr",
       "text": [
        "ERROR (theano.gof.opt): TRACEBACK:\n"
       ]
      },
      {
       "output_type": "stream",
       "stream": "stderr",
       "text": [
        "ERROR:theano.gof.opt:TRACEBACK:\n"
       ]
      },
      {
       "output_type": "stream",
       "stream": "stderr",
       "text": [
        "ERROR (theano.gof.opt): Traceback (most recent call last):\n",
        "  File \"/home/jotham/venvs/2014-12-20_datascibowl/lib/python2.7/site-packages/theano/gof/opt.py\", line 1493, in process_node\n",
        "    replacements = lopt.transform(node)\n",
        "  File \"/home/jotham/venvs/2014-12-20_datascibowl/lib/python2.7/site-packages/theano/sandbox/cuda/opt_util.py\", line 56, in opt\n",
        "    lr = grab_cpu_scalar(node.inputs[0], nd=nd)\n",
        "  File \"/home/jotham/venvs/2014-12-20_datascibowl/lib/python2.7/site-packages/theano/sandbox/cuda/opt_util.py\", line 18, in grab_cpu_scalar\n",
        "    return host_from_gpu(n.inputs[0])\n",
        "NameError: global name 'host_from_gpu' is not defined\n",
        "\n"
       ]
      },
      {
       "output_type": "stream",
       "stream": "stderr",
       "text": [
        "ERROR:theano.gof.opt:Traceback (most recent call last):\n",
        "  File \"/home/jotham/venvs/2014-12-20_datascibowl/lib/python2.7/site-packages/theano/gof/opt.py\", line 1493, in process_node\n",
        "    replacements = lopt.transform(node)\n",
        "  File \"/home/jotham/venvs/2014-12-20_datascibowl/lib/python2.7/site-packages/theano/sandbox/cuda/opt_util.py\", line 56, in opt\n",
        "    lr = grab_cpu_scalar(node.inputs[0], nd=nd)\n",
        "  File \"/home/jotham/venvs/2014-12-20_datascibowl/lib/python2.7/site-packages/theano/sandbox/cuda/opt_util.py\", line 18, in grab_cpu_scalar\n",
        "    return host_from_gpu(n.inputs[0])\n",
        "NameError: global name 'host_from_gpu' is not defined\n",
        "\n"
       ]
      },
      {
       "output_type": "stream",
       "stream": "stderr",
       "text": [
        "ERROR (theano.gof.opt): Optimization failure due to: local_dnn_convi_alpha_merge\n"
       ]
      },
      {
       "output_type": "stream",
       "stream": "stderr",
       "text": [
        "ERROR:theano.gof.opt:Optimization failure due to: local_dnn_convi_alpha_merge\n"
       ]
      },
      {
       "output_type": "stream",
       "stream": "stderr",
       "text": [
        "ERROR (theano.gof.opt): TRACEBACK:\n"
       ]
      },
      {
       "output_type": "stream",
       "stream": "stderr",
       "text": [
        "ERROR:theano.gof.opt:TRACEBACK:\n"
       ]
      },
      {
       "output_type": "stream",
       "stream": "stderr",
       "text": [
        "ERROR (theano.gof.opt): Traceback (most recent call last):\n",
        "  File \"/home/jotham/venvs/2014-12-20_datascibowl/lib/python2.7/site-packages/theano/gof/opt.py\", line 1493, in process_node\n",
        "    replacements = lopt.transform(node)\n",
        "  File \"/home/jotham/venvs/2014-12-20_datascibowl/lib/python2.7/site-packages/theano/sandbox/cuda/opt_util.py\", line 56, in opt\n",
        "    lr = grab_cpu_scalar(node.inputs[0], nd=nd)\n",
        "  File \"/home/jotham/venvs/2014-12-20_datascibowl/lib/python2.7/site-packages/theano/sandbox/cuda/opt_util.py\", line 18, in grab_cpu_scalar\n",
        "    return host_from_gpu(n.inputs[0])\n",
        "NameError: global name 'host_from_gpu' is not defined\n",
        "\n"
       ]
      },
      {
       "output_type": "stream",
       "stream": "stderr",
       "text": [
        "ERROR:theano.gof.opt:Traceback (most recent call last):\n",
        "  File \"/home/jotham/venvs/2014-12-20_datascibowl/lib/python2.7/site-packages/theano/gof/opt.py\", line 1493, in process_node\n",
        "    replacements = lopt.transform(node)\n",
        "  File \"/home/jotham/venvs/2014-12-20_datascibowl/lib/python2.7/site-packages/theano/sandbox/cuda/opt_util.py\", line 56, in opt\n",
        "    lr = grab_cpu_scalar(node.inputs[0], nd=nd)\n",
        "  File \"/home/jotham/venvs/2014-12-20_datascibowl/lib/python2.7/site-packages/theano/sandbox/cuda/opt_util.py\", line 18, in grab_cpu_scalar\n",
        "    return host_from_gpu(n.inputs[0])\n",
        "NameError: global name 'host_from_gpu' is not defined\n",
        "\n"
       ]
      },
      {
       "output_type": "stream",
       "stream": "stderr",
       "text": [
        "ERROR (theano.gof.opt): Optimization failure due to: local_dnn_conv_alpha_merge\n"
       ]
      },
      {
       "output_type": "stream",
       "stream": "stderr",
       "text": [
        "ERROR:theano.gof.opt:Optimization failure due to: local_dnn_conv_alpha_merge\n"
       ]
      },
      {
       "output_type": "stream",
       "stream": "stderr",
       "text": [
        "ERROR (theano.gof.opt): TRACEBACK:\n"
       ]
      },
      {
       "output_type": "stream",
       "stream": "stderr",
       "text": [
        "ERROR:theano.gof.opt:TRACEBACK:\n"
       ]
      },
      {
       "output_type": "stream",
       "stream": "stderr",
       "text": [
        "ERROR (theano.gof.opt): Traceback (most recent call last):\n",
        "  File \"/home/jotham/venvs/2014-12-20_datascibowl/lib/python2.7/site-packages/theano/gof/opt.py\", line 1493, in process_node\n",
        "    replacements = lopt.transform(node)\n",
        "  File \"/home/jotham/venvs/2014-12-20_datascibowl/lib/python2.7/site-packages/theano/sandbox/cuda/opt_util.py\", line 56, in opt\n",
        "    lr = grab_cpu_scalar(node.inputs[0], nd=nd)\n",
        "  File \"/home/jotham/venvs/2014-12-20_datascibowl/lib/python2.7/site-packages/theano/sandbox/cuda/opt_util.py\", line 18, in grab_cpu_scalar\n",
        "    return host_from_gpu(n.inputs[0])\n",
        "NameError: global name 'host_from_gpu' is not defined\n",
        "\n"
       ]
      },
      {
       "output_type": "stream",
       "stream": "stderr",
       "text": [
        "ERROR:theano.gof.opt:Traceback (most recent call last):\n",
        "  File \"/home/jotham/venvs/2014-12-20_datascibowl/lib/python2.7/site-packages/theano/gof/opt.py\", line 1493, in process_node\n",
        "    replacements = lopt.transform(node)\n",
        "  File \"/home/jotham/venvs/2014-12-20_datascibowl/lib/python2.7/site-packages/theano/sandbox/cuda/opt_util.py\", line 56, in opt\n",
        "    lr = grab_cpu_scalar(node.inputs[0], nd=nd)\n",
        "  File \"/home/jotham/venvs/2014-12-20_datascibowl/lib/python2.7/site-packages/theano/sandbox/cuda/opt_util.py\", line 18, in grab_cpu_scalar\n",
        "    return host_from_gpu(n.inputs[0])\n",
        "NameError: global name 'host_from_gpu' is not defined\n",
        "\n"
       ]
      },
      {
       "output_type": "stream",
       "stream": "stderr",
       "text": [
        "ERROR (theano.gof.opt): Optimization failure due to: local_dnn_convw_alpha_merge\n"
       ]
      },
      {
       "output_type": "stream",
       "stream": "stderr",
       "text": [
        "ERROR:theano.gof.opt:Optimization failure due to: local_dnn_convw_alpha_merge\n"
       ]
      },
      {
       "output_type": "stream",
       "stream": "stderr",
       "text": [
        "ERROR (theano.gof.opt): TRACEBACK:\n"
       ]
      },
      {
       "output_type": "stream",
       "stream": "stderr",
       "text": [
        "ERROR:theano.gof.opt:TRACEBACK:\n"
       ]
      },
      {
       "output_type": "stream",
       "stream": "stderr",
       "text": [
        "ERROR (theano.gof.opt): Traceback (most recent call last):\n",
        "  File \"/home/jotham/venvs/2014-12-20_datascibowl/lib/python2.7/site-packages/theano/gof/opt.py\", line 1493, in process_node\n",
        "    replacements = lopt.transform(node)\n",
        "  File \"/home/jotham/venvs/2014-12-20_datascibowl/lib/python2.7/site-packages/theano/sandbox/cuda/opt_util.py\", line 56, in opt\n",
        "    lr = grab_cpu_scalar(node.inputs[0], nd=nd)\n",
        "  File \"/home/jotham/venvs/2014-12-20_datascibowl/lib/python2.7/site-packages/theano/sandbox/cuda/opt_util.py\", line 18, in grab_cpu_scalar\n",
        "    return host_from_gpu(n.inputs[0])\n",
        "NameError: global name 'host_from_gpu' is not defined\n",
        "\n"
       ]
      },
      {
       "output_type": "stream",
       "stream": "stderr",
       "text": [
        "ERROR:theano.gof.opt:Traceback (most recent call last):\n",
        "  File \"/home/jotham/venvs/2014-12-20_datascibowl/lib/python2.7/site-packages/theano/gof/opt.py\", line 1493, in process_node\n",
        "    replacements = lopt.transform(node)\n",
        "  File \"/home/jotham/venvs/2014-12-20_datascibowl/lib/python2.7/site-packages/theano/sandbox/cuda/opt_util.py\", line 56, in opt\n",
        "    lr = grab_cpu_scalar(node.inputs[0], nd=nd)\n",
        "  File \"/home/jotham/venvs/2014-12-20_datascibowl/lib/python2.7/site-packages/theano/sandbox/cuda/opt_util.py\", line 18, in grab_cpu_scalar\n",
        "    return host_from_gpu(n.inputs[0])\n",
        "NameError: global name 'host_from_gpu' is not defined\n",
        "\n"
       ]
      },
      {
       "output_type": "stream",
       "stream": "stderr",
       "text": [
        "ERROR (theano.gof.opt): Optimization failure due to: local_dnn_convi_alpha_merge\n"
       ]
      },
      {
       "output_type": "stream",
       "stream": "stderr",
       "text": [
        "ERROR:theano.gof.opt:Optimization failure due to: local_dnn_convi_alpha_merge\n"
       ]
      },
      {
       "output_type": "stream",
       "stream": "stderr",
       "text": [
        "ERROR (theano.gof.opt): TRACEBACK:\n"
       ]
      },
      {
       "output_type": "stream",
       "stream": "stderr",
       "text": [
        "ERROR:theano.gof.opt:TRACEBACK:\n"
       ]
      },
      {
       "output_type": "stream",
       "stream": "stderr",
       "text": [
        "ERROR (theano.gof.opt): Traceback (most recent call last):\n",
        "  File \"/home/jotham/venvs/2014-12-20_datascibowl/lib/python2.7/site-packages/theano/gof/opt.py\", line 1493, in process_node\n",
        "    replacements = lopt.transform(node)\n",
        "  File \"/home/jotham/venvs/2014-12-20_datascibowl/lib/python2.7/site-packages/theano/sandbox/cuda/opt_util.py\", line 56, in opt\n",
        "    lr = grab_cpu_scalar(node.inputs[0], nd=nd)\n",
        "  File \"/home/jotham/venvs/2014-12-20_datascibowl/lib/python2.7/site-packages/theano/sandbox/cuda/opt_util.py\", line 18, in grab_cpu_scalar\n",
        "    return host_from_gpu(n.inputs[0])\n",
        "NameError: global name 'host_from_gpu' is not defined\n",
        "\n"
       ]
      },
      {
       "output_type": "stream",
       "stream": "stderr",
       "text": [
        "ERROR:theano.gof.opt:Traceback (most recent call last):\n",
        "  File \"/home/jotham/venvs/2014-12-20_datascibowl/lib/python2.7/site-packages/theano/gof/opt.py\", line 1493, in process_node\n",
        "    replacements = lopt.transform(node)\n",
        "  File \"/home/jotham/venvs/2014-12-20_datascibowl/lib/python2.7/site-packages/theano/sandbox/cuda/opt_util.py\", line 56, in opt\n",
        "    lr = grab_cpu_scalar(node.inputs[0], nd=nd)\n",
        "  File \"/home/jotham/venvs/2014-12-20_datascibowl/lib/python2.7/site-packages/theano/sandbox/cuda/opt_util.py\", line 18, in grab_cpu_scalar\n",
        "    return host_from_gpu(n.inputs[0])\n",
        "NameError: global name 'host_from_gpu' is not defined\n",
        "\n"
       ]
      },
      {
       "output_type": "stream",
       "stream": "stderr",
       "text": [
        "ERROR (theano.gof.opt): Optimization failure due to: local_dnn_conv_alpha_merge\n"
       ]
      },
      {
       "output_type": "stream",
       "stream": "stderr",
       "text": [
        "ERROR:theano.gof.opt:Optimization failure due to: local_dnn_conv_alpha_merge\n"
       ]
      },
      {
       "output_type": "stream",
       "stream": "stderr",
       "text": [
        "ERROR (theano.gof.opt): TRACEBACK:\n"
       ]
      },
      {
       "output_type": "stream",
       "stream": "stderr",
       "text": [
        "ERROR:theano.gof.opt:TRACEBACK:\n"
       ]
      },
      {
       "output_type": "stream",
       "stream": "stderr",
       "text": [
        "ERROR (theano.gof.opt): Traceback (most recent call last):\n",
        "  File \"/home/jotham/venvs/2014-12-20_datascibowl/lib/python2.7/site-packages/theano/gof/opt.py\", line 1493, in process_node\n",
        "    replacements = lopt.transform(node)\n",
        "  File \"/home/jotham/venvs/2014-12-20_datascibowl/lib/python2.7/site-packages/theano/sandbox/cuda/opt_util.py\", line 56, in opt\n",
        "    lr = grab_cpu_scalar(node.inputs[0], nd=nd)\n",
        "  File \"/home/jotham/venvs/2014-12-20_datascibowl/lib/python2.7/site-packages/theano/sandbox/cuda/opt_util.py\", line 18, in grab_cpu_scalar\n",
        "    return host_from_gpu(n.inputs[0])\n",
        "NameError: global name 'host_from_gpu' is not defined\n",
        "\n"
       ]
      },
      {
       "output_type": "stream",
       "stream": "stderr",
       "text": [
        "ERROR:theano.gof.opt:Traceback (most recent call last):\n",
        "  File \"/home/jotham/venvs/2014-12-20_datascibowl/lib/python2.7/site-packages/theano/gof/opt.py\", line 1493, in process_node\n",
        "    replacements = lopt.transform(node)\n",
        "  File \"/home/jotham/venvs/2014-12-20_datascibowl/lib/python2.7/site-packages/theano/sandbox/cuda/opt_util.py\", line 56, in opt\n",
        "    lr = grab_cpu_scalar(node.inputs[0], nd=nd)\n",
        "  File \"/home/jotham/venvs/2014-12-20_datascibowl/lib/python2.7/site-packages/theano/sandbox/cuda/opt_util.py\", line 18, in grab_cpu_scalar\n",
        "    return host_from_gpu(n.inputs[0])\n",
        "NameError: global name 'host_from_gpu' is not defined\n",
        "\n"
       ]
      },
      {
       "output_type": "stream",
       "stream": "stderr",
       "text": [
        "ERROR (theano.gof.opt): Optimization failure due to: local_dnn_convw_alpha_merge\n"
       ]
      },
      {
       "output_type": "stream",
       "stream": "stderr",
       "text": [
        "ERROR:theano.gof.opt:Optimization failure due to: local_dnn_convw_alpha_merge\n"
       ]
      },
      {
       "output_type": "stream",
       "stream": "stderr",
       "text": [
        "ERROR (theano.gof.opt): TRACEBACK:\n"
       ]
      },
      {
       "output_type": "stream",
       "stream": "stderr",
       "text": [
        "ERROR:theano.gof.opt:TRACEBACK:\n"
       ]
      },
      {
       "output_type": "stream",
       "stream": "stderr",
       "text": [
        "ERROR (theano.gof.opt): Traceback (most recent call last):\n",
        "  File \"/home/jotham/venvs/2014-12-20_datascibowl/lib/python2.7/site-packages/theano/gof/opt.py\", line 1493, in process_node\n",
        "    replacements = lopt.transform(node)\n",
        "  File \"/home/jotham/venvs/2014-12-20_datascibowl/lib/python2.7/site-packages/theano/sandbox/cuda/opt_util.py\", line 56, in opt\n",
        "    lr = grab_cpu_scalar(node.inputs[0], nd=nd)\n",
        "  File \"/home/jotham/venvs/2014-12-20_datascibowl/lib/python2.7/site-packages/theano/sandbox/cuda/opt_util.py\", line 18, in grab_cpu_scalar\n",
        "    return host_from_gpu(n.inputs[0])\n",
        "NameError: global name 'host_from_gpu' is not defined\n",
        "\n"
       ]
      },
      {
       "output_type": "stream",
       "stream": "stderr",
       "text": [
        "ERROR:theano.gof.opt:Traceback (most recent call last):\n",
        "  File \"/home/jotham/venvs/2014-12-20_datascibowl/lib/python2.7/site-packages/theano/gof/opt.py\", line 1493, in process_node\n",
        "    replacements = lopt.transform(node)\n",
        "  File \"/home/jotham/venvs/2014-12-20_datascibowl/lib/python2.7/site-packages/theano/sandbox/cuda/opt_util.py\", line 56, in opt\n",
        "    lr = grab_cpu_scalar(node.inputs[0], nd=nd)\n",
        "  File \"/home/jotham/venvs/2014-12-20_datascibowl/lib/python2.7/site-packages/theano/sandbox/cuda/opt_util.py\", line 18, in grab_cpu_scalar\n",
        "    return host_from_gpu(n.inputs[0])\n",
        "NameError: global name 'host_from_gpu' is not defined\n",
        "\n"
       ]
      },
      {
       "output_type": "stream",
       "stream": "stderr",
       "text": [
        "ERROR (theano.gof.opt): Optimization failure due to: local_dnn_convi_alpha_merge\n"
       ]
      },
      {
       "output_type": "stream",
       "stream": "stderr",
       "text": [
        "ERROR:theano.gof.opt:Optimization failure due to: local_dnn_convi_alpha_merge\n"
       ]
      },
      {
       "output_type": "stream",
       "stream": "stderr",
       "text": [
        "ERROR (theano.gof.opt): TRACEBACK:\n"
       ]
      },
      {
       "output_type": "stream",
       "stream": "stderr",
       "text": [
        "ERROR:theano.gof.opt:TRACEBACK:\n"
       ]
      },
      {
       "output_type": "stream",
       "stream": "stderr",
       "text": [
        "ERROR (theano.gof.opt): Traceback (most recent call last):\n",
        "  File \"/home/jotham/venvs/2014-12-20_datascibowl/lib/python2.7/site-packages/theano/gof/opt.py\", line 1493, in process_node\n",
        "    replacements = lopt.transform(node)\n",
        "  File \"/home/jotham/venvs/2014-12-20_datascibowl/lib/python2.7/site-packages/theano/sandbox/cuda/opt_util.py\", line 56, in opt\n",
        "    lr = grab_cpu_scalar(node.inputs[0], nd=nd)\n",
        "  File \"/home/jotham/venvs/2014-12-20_datascibowl/lib/python2.7/site-packages/theano/sandbox/cuda/opt_util.py\", line 18, in grab_cpu_scalar\n",
        "    return host_from_gpu(n.inputs[0])\n",
        "NameError: global name 'host_from_gpu' is not defined\n",
        "\n"
       ]
      },
      {
       "output_type": "stream",
       "stream": "stderr",
       "text": [
        "ERROR:theano.gof.opt:Traceback (most recent call last):\n",
        "  File \"/home/jotham/venvs/2014-12-20_datascibowl/lib/python2.7/site-packages/theano/gof/opt.py\", line 1493, in process_node\n",
        "    replacements = lopt.transform(node)\n",
        "  File \"/home/jotham/venvs/2014-12-20_datascibowl/lib/python2.7/site-packages/theano/sandbox/cuda/opt_util.py\", line 56, in opt\n",
        "    lr = grab_cpu_scalar(node.inputs[0], nd=nd)\n",
        "  File \"/home/jotham/venvs/2014-12-20_datascibowl/lib/python2.7/site-packages/theano/sandbox/cuda/opt_util.py\", line 18, in grab_cpu_scalar\n",
        "    return host_from_gpu(n.inputs[0])\n",
        "NameError: global name 'host_from_gpu' is not defined\n",
        "\n"
       ]
      },
      {
       "output_type": "stream",
       "stream": "stderr",
       "text": [
        "ERROR (theano.gof.opt): Optimization failure due to: local_dnn_conv_alpha_merge\n"
       ]
      },
      {
       "output_type": "stream",
       "stream": "stderr",
       "text": [
        "ERROR:theano.gof.opt:Optimization failure due to: local_dnn_conv_alpha_merge\n"
       ]
      },
      {
       "output_type": "stream",
       "stream": "stderr",
       "text": [
        "ERROR (theano.gof.opt): TRACEBACK:\n"
       ]
      },
      {
       "output_type": "stream",
       "stream": "stderr",
       "text": [
        "ERROR:theano.gof.opt:TRACEBACK:\n"
       ]
      },
      {
       "output_type": "stream",
       "stream": "stderr",
       "text": [
        "ERROR (theano.gof.opt): Traceback (most recent call last):\n",
        "  File \"/home/jotham/venvs/2014-12-20_datascibowl/lib/python2.7/site-packages/theano/gof/opt.py\", line 1493, in process_node\n",
        "    replacements = lopt.transform(node)\n",
        "  File \"/home/jotham/venvs/2014-12-20_datascibowl/lib/python2.7/site-packages/theano/sandbox/cuda/opt_util.py\", line 56, in opt\n",
        "    lr = grab_cpu_scalar(node.inputs[0], nd=nd)\n",
        "  File \"/home/jotham/venvs/2014-12-20_datascibowl/lib/python2.7/site-packages/theano/sandbox/cuda/opt_util.py\", line 18, in grab_cpu_scalar\n",
        "    return host_from_gpu(n.inputs[0])\n",
        "NameError: global name 'host_from_gpu' is not defined\n",
        "\n"
       ]
      },
      {
       "output_type": "stream",
       "stream": "stderr",
       "text": [
        "ERROR:theano.gof.opt:Traceback (most recent call last):\n",
        "  File \"/home/jotham/venvs/2014-12-20_datascibowl/lib/python2.7/site-packages/theano/gof/opt.py\", line 1493, in process_node\n",
        "    replacements = lopt.transform(node)\n",
        "  File \"/home/jotham/venvs/2014-12-20_datascibowl/lib/python2.7/site-packages/theano/sandbox/cuda/opt_util.py\", line 56, in opt\n",
        "    lr = grab_cpu_scalar(node.inputs[0], nd=nd)\n",
        "  File \"/home/jotham/venvs/2014-12-20_datascibowl/lib/python2.7/site-packages/theano/sandbox/cuda/opt_util.py\", line 18, in grab_cpu_scalar\n",
        "    return host_from_gpu(n.inputs[0])\n",
        "NameError: global name 'host_from_gpu' is not defined\n",
        "\n"
       ]
      },
      {
       "output_type": "stream",
       "stream": "stderr",
       "text": [
        "ERROR (theano.gof.opt): Optimization failure due to: local_dnn_convw_alpha_merge\n"
       ]
      },
      {
       "output_type": "stream",
       "stream": "stderr",
       "text": [
        "ERROR:theano.gof.opt:Optimization failure due to: local_dnn_convw_alpha_merge\n"
       ]
      },
      {
       "output_type": "stream",
       "stream": "stderr",
       "text": [
        "ERROR (theano.gof.opt): TRACEBACK:\n"
       ]
      },
      {
       "output_type": "stream",
       "stream": "stderr",
       "text": [
        "ERROR:theano.gof.opt:TRACEBACK:\n"
       ]
      },
      {
       "output_type": "stream",
       "stream": "stderr",
       "text": [
        "ERROR (theano.gof.opt): Traceback (most recent call last):\n",
        "  File \"/home/jotham/venvs/2014-12-20_datascibowl/lib/python2.7/site-packages/theano/gof/opt.py\", line 1493, in process_node\n",
        "    replacements = lopt.transform(node)\n",
        "  File \"/home/jotham/venvs/2014-12-20_datascibowl/lib/python2.7/site-packages/theano/sandbox/cuda/opt_util.py\", line 56, in opt\n",
        "    lr = grab_cpu_scalar(node.inputs[0], nd=nd)\n",
        "  File \"/home/jotham/venvs/2014-12-20_datascibowl/lib/python2.7/site-packages/theano/sandbox/cuda/opt_util.py\", line 18, in grab_cpu_scalar\n",
        "    return host_from_gpu(n.inputs[0])\n",
        "NameError: global name 'host_from_gpu' is not defined\n",
        "\n"
       ]
      },
      {
       "output_type": "stream",
       "stream": "stderr",
       "text": [
        "ERROR:theano.gof.opt:Traceback (most recent call last):\n",
        "  File \"/home/jotham/venvs/2014-12-20_datascibowl/lib/python2.7/site-packages/theano/gof/opt.py\", line 1493, in process_node\n",
        "    replacements = lopt.transform(node)\n",
        "  File \"/home/jotham/venvs/2014-12-20_datascibowl/lib/python2.7/site-packages/theano/sandbox/cuda/opt_util.py\", line 56, in opt\n",
        "    lr = grab_cpu_scalar(node.inputs[0], nd=nd)\n",
        "  File \"/home/jotham/venvs/2014-12-20_datascibowl/lib/python2.7/site-packages/theano/sandbox/cuda/opt_util.py\", line 18, in grab_cpu_scalar\n",
        "    return host_from_gpu(n.inputs[0])\n",
        "NameError: global name 'host_from_gpu' is not defined\n",
        "\n"
       ]
      },
      {
       "output_type": "stream",
       "stream": "stderr",
       "text": [
        "ERROR (theano.gof.opt): Optimization failure due to: local_dnn_convi_alpha_merge\n"
       ]
      },
      {
       "output_type": "stream",
       "stream": "stderr",
       "text": [
        "ERROR:theano.gof.opt:Optimization failure due to: local_dnn_convi_alpha_merge\n"
       ]
      },
      {
       "output_type": "stream",
       "stream": "stderr",
       "text": [
        "ERROR (theano.gof.opt): TRACEBACK:\n"
       ]
      },
      {
       "output_type": "stream",
       "stream": "stderr",
       "text": [
        "ERROR:theano.gof.opt:TRACEBACK:\n"
       ]
      },
      {
       "output_type": "stream",
       "stream": "stderr",
       "text": [
        "ERROR (theano.gof.opt): Traceback (most recent call last):\n",
        "  File \"/home/jotham/venvs/2014-12-20_datascibowl/lib/python2.7/site-packages/theano/gof/opt.py\", line 1493, in process_node\n",
        "    replacements = lopt.transform(node)\n",
        "  File \"/home/jotham/venvs/2014-12-20_datascibowl/lib/python2.7/site-packages/theano/sandbox/cuda/opt_util.py\", line 56, in opt\n",
        "    lr = grab_cpu_scalar(node.inputs[0], nd=nd)\n",
        "  File \"/home/jotham/venvs/2014-12-20_datascibowl/lib/python2.7/site-packages/theano/sandbox/cuda/opt_util.py\", line 18, in grab_cpu_scalar\n",
        "    return host_from_gpu(n.inputs[0])\n",
        "NameError: global name 'host_from_gpu' is not defined\n",
        "\n"
       ]
      },
      {
       "output_type": "stream",
       "stream": "stderr",
       "text": [
        "ERROR:theano.gof.opt:Traceback (most recent call last):\n",
        "  File \"/home/jotham/venvs/2014-12-20_datascibowl/lib/python2.7/site-packages/theano/gof/opt.py\", line 1493, in process_node\n",
        "    replacements = lopt.transform(node)\n",
        "  File \"/home/jotham/venvs/2014-12-20_datascibowl/lib/python2.7/site-packages/theano/sandbox/cuda/opt_util.py\", line 56, in opt\n",
        "    lr = grab_cpu_scalar(node.inputs[0], nd=nd)\n",
        "  File \"/home/jotham/venvs/2014-12-20_datascibowl/lib/python2.7/site-packages/theano/sandbox/cuda/opt_util.py\", line 18, in grab_cpu_scalar\n",
        "    return host_from_gpu(n.inputs[0])\n",
        "NameError: global name 'host_from_gpu' is not defined\n",
        "\n"
       ]
      },
      {
       "output_type": "stream",
       "stream": "stderr",
       "text": [
        "ERROR (theano.gof.opt): Optimization failure due to: local_dnn_conv_alpha_merge\n"
       ]
      },
      {
       "output_type": "stream",
       "stream": "stderr",
       "text": [
        "ERROR:theano.gof.opt:Optimization failure due to: local_dnn_conv_alpha_merge\n"
       ]
      },
      {
       "output_type": "stream",
       "stream": "stderr",
       "text": [
        "ERROR (theano.gof.opt): TRACEBACK:\n"
       ]
      },
      {
       "output_type": "stream",
       "stream": "stderr",
       "text": [
        "ERROR:theano.gof.opt:TRACEBACK:\n"
       ]
      },
      {
       "output_type": "stream",
       "stream": "stderr",
       "text": [
        "ERROR (theano.gof.opt): Traceback (most recent call last):\n",
        "  File \"/home/jotham/venvs/2014-12-20_datascibowl/lib/python2.7/site-packages/theano/gof/opt.py\", line 1493, in process_node\n",
        "    replacements = lopt.transform(node)\n",
        "  File \"/home/jotham/venvs/2014-12-20_datascibowl/lib/python2.7/site-packages/theano/sandbox/cuda/opt_util.py\", line 56, in opt\n",
        "    lr = grab_cpu_scalar(node.inputs[0], nd=nd)\n",
        "  File \"/home/jotham/venvs/2014-12-20_datascibowl/lib/python2.7/site-packages/theano/sandbox/cuda/opt_util.py\", line 18, in grab_cpu_scalar\n",
        "    return host_from_gpu(n.inputs[0])\n",
        "NameError: global name 'host_from_gpu' is not defined\n",
        "\n"
       ]
      },
      {
       "output_type": "stream",
       "stream": "stderr",
       "text": [
        "ERROR:theano.gof.opt:Traceback (most recent call last):\n",
        "  File \"/home/jotham/venvs/2014-12-20_datascibowl/lib/python2.7/site-packages/theano/gof/opt.py\", line 1493, in process_node\n",
        "    replacements = lopt.transform(node)\n",
        "  File \"/home/jotham/venvs/2014-12-20_datascibowl/lib/python2.7/site-packages/theano/sandbox/cuda/opt_util.py\", line 56, in opt\n",
        "    lr = grab_cpu_scalar(node.inputs[0], nd=nd)\n",
        "  File \"/home/jotham/venvs/2014-12-20_datascibowl/lib/python2.7/site-packages/theano/sandbox/cuda/opt_util.py\", line 18, in grab_cpu_scalar\n",
        "    return host_from_gpu(n.inputs[0])\n",
        "NameError: global name 'host_from_gpu' is not defined\n",
        "\n"
       ]
      },
      {
       "output_type": "stream",
       "stream": "stderr",
       "text": [
        "ERROR (theano.gof.opt): Optimization failure due to: local_dnn_convw_alpha_merge\n"
       ]
      },
      {
       "output_type": "stream",
       "stream": "stderr",
       "text": [
        "ERROR:theano.gof.opt:Optimization failure due to: local_dnn_convw_alpha_merge\n"
       ]
      },
      {
       "output_type": "stream",
       "stream": "stderr",
       "text": [
        "ERROR (theano.gof.opt): TRACEBACK:\n"
       ]
      },
      {
       "output_type": "stream",
       "stream": "stderr",
       "text": [
        "ERROR:theano.gof.opt:TRACEBACK:\n"
       ]
      },
      {
       "output_type": "stream",
       "stream": "stderr",
       "text": [
        "ERROR (theano.gof.opt): Traceback (most recent call last):\n",
        "  File \"/home/jotham/venvs/2014-12-20_datascibowl/lib/python2.7/site-packages/theano/gof/opt.py\", line 1493, in process_node\n",
        "    replacements = lopt.transform(node)\n",
        "  File \"/home/jotham/venvs/2014-12-20_datascibowl/lib/python2.7/site-packages/theano/sandbox/cuda/opt_util.py\", line 56, in opt\n",
        "    lr = grab_cpu_scalar(node.inputs[0], nd=nd)\n",
        "  File \"/home/jotham/venvs/2014-12-20_datascibowl/lib/python2.7/site-packages/theano/sandbox/cuda/opt_util.py\", line 18, in grab_cpu_scalar\n",
        "    return host_from_gpu(n.inputs[0])\n",
        "NameError: global name 'host_from_gpu' is not defined\n",
        "\n"
       ]
      },
      {
       "output_type": "stream",
       "stream": "stderr",
       "text": [
        "ERROR:theano.gof.opt:Traceback (most recent call last):\n",
        "  File \"/home/jotham/venvs/2014-12-20_datascibowl/lib/python2.7/site-packages/theano/gof/opt.py\", line 1493, in process_node\n",
        "    replacements = lopt.transform(node)\n",
        "  File \"/home/jotham/venvs/2014-12-20_datascibowl/lib/python2.7/site-packages/theano/sandbox/cuda/opt_util.py\", line 56, in opt\n",
        "    lr = grab_cpu_scalar(node.inputs[0], nd=nd)\n",
        "  File \"/home/jotham/venvs/2014-12-20_datascibowl/lib/python2.7/site-packages/theano/sandbox/cuda/opt_util.py\", line 18, in grab_cpu_scalar\n",
        "    return host_from_gpu(n.inputs[0])\n",
        "NameError: global name 'host_from_gpu' is not defined\n",
        "\n"
       ]
      },
      {
       "output_type": "stream",
       "stream": "stderr",
       "text": [
        "ERROR (theano.gof.opt): Optimization failure due to: local_dnn_convi_alpha_merge\n"
       ]
      },
      {
       "output_type": "stream",
       "stream": "stderr",
       "text": [
        "ERROR:theano.gof.opt:Optimization failure due to: local_dnn_convi_alpha_merge\n"
       ]
      },
      {
       "output_type": "stream",
       "stream": "stderr",
       "text": [
        "ERROR (theano.gof.opt): TRACEBACK:\n"
       ]
      },
      {
       "output_type": "stream",
       "stream": "stderr",
       "text": [
        "ERROR:theano.gof.opt:TRACEBACK:\n"
       ]
      },
      {
       "output_type": "stream",
       "stream": "stderr",
       "text": [
        "ERROR (theano.gof.opt): Traceback (most recent call last):\n",
        "  File \"/home/jotham/venvs/2014-12-20_datascibowl/lib/python2.7/site-packages/theano/gof/opt.py\", line 1493, in process_node\n",
        "    replacements = lopt.transform(node)\n",
        "  File \"/home/jotham/venvs/2014-12-20_datascibowl/lib/python2.7/site-packages/theano/sandbox/cuda/opt_util.py\", line 56, in opt\n",
        "    lr = grab_cpu_scalar(node.inputs[0], nd=nd)\n",
        "  File \"/home/jotham/venvs/2014-12-20_datascibowl/lib/python2.7/site-packages/theano/sandbox/cuda/opt_util.py\", line 18, in grab_cpu_scalar\n",
        "    return host_from_gpu(n.inputs[0])\n",
        "NameError: global name 'host_from_gpu' is not defined\n",
        "\n"
       ]
      },
      {
       "output_type": "stream",
       "stream": "stderr",
       "text": [
        "ERROR:theano.gof.opt:Traceback (most recent call last):\n",
        "  File \"/home/jotham/venvs/2014-12-20_datascibowl/lib/python2.7/site-packages/theano/gof/opt.py\", line 1493, in process_node\n",
        "    replacements = lopt.transform(node)\n",
        "  File \"/home/jotham/venvs/2014-12-20_datascibowl/lib/python2.7/site-packages/theano/sandbox/cuda/opt_util.py\", line 56, in opt\n",
        "    lr = grab_cpu_scalar(node.inputs[0], nd=nd)\n",
        "  File \"/home/jotham/venvs/2014-12-20_datascibowl/lib/python2.7/site-packages/theano/sandbox/cuda/opt_util.py\", line 18, in grab_cpu_scalar\n",
        "    return host_from_gpu(n.inputs[0])\n",
        "NameError: global name 'host_from_gpu' is not defined\n",
        "\n"
       ]
      },
      {
       "output_type": "stream",
       "stream": "stderr",
       "text": [
        "ERROR (theano.gof.opt): Optimization failure due to: local_dnn_conv_alpha_merge\n"
       ]
      },
      {
       "output_type": "stream",
       "stream": "stderr",
       "text": [
        "ERROR:theano.gof.opt:Optimization failure due to: local_dnn_conv_alpha_merge\n"
       ]
      },
      {
       "output_type": "stream",
       "stream": "stderr",
       "text": [
        "ERROR (theano.gof.opt): TRACEBACK:\n"
       ]
      },
      {
       "output_type": "stream",
       "stream": "stderr",
       "text": [
        "ERROR:theano.gof.opt:TRACEBACK:\n"
       ]
      },
      {
       "output_type": "stream",
       "stream": "stderr",
       "text": [
        "ERROR (theano.gof.opt): Traceback (most recent call last):\n",
        "  File \"/home/jotham/venvs/2014-12-20_datascibowl/lib/python2.7/site-packages/theano/gof/opt.py\", line 1493, in process_node\n",
        "    replacements = lopt.transform(node)\n",
        "  File \"/home/jotham/venvs/2014-12-20_datascibowl/lib/python2.7/site-packages/theano/sandbox/cuda/opt_util.py\", line 56, in opt\n",
        "    lr = grab_cpu_scalar(node.inputs[0], nd=nd)\n",
        "  File \"/home/jotham/venvs/2014-12-20_datascibowl/lib/python2.7/site-packages/theano/sandbox/cuda/opt_util.py\", line 18, in grab_cpu_scalar\n",
        "    return host_from_gpu(n.inputs[0])\n",
        "NameError: global name 'host_from_gpu' is not defined\n",
        "\n"
       ]
      },
      {
       "output_type": "stream",
       "stream": "stderr",
       "text": [
        "ERROR:theano.gof.opt:Traceback (most recent call last):\n",
        "  File \"/home/jotham/venvs/2014-12-20_datascibowl/lib/python2.7/site-packages/theano/gof/opt.py\", line 1493, in process_node\n",
        "    replacements = lopt.transform(node)\n",
        "  File \"/home/jotham/venvs/2014-12-20_datascibowl/lib/python2.7/site-packages/theano/sandbox/cuda/opt_util.py\", line 56, in opt\n",
        "    lr = grab_cpu_scalar(node.inputs[0], nd=nd)\n",
        "  File \"/home/jotham/venvs/2014-12-20_datascibowl/lib/python2.7/site-packages/theano/sandbox/cuda/opt_util.py\", line 18, in grab_cpu_scalar\n",
        "    return host_from_gpu(n.inputs[0])\n",
        "NameError: global name 'host_from_gpu' is not defined\n",
        "\n"
       ]
      },
      {
       "output_type": "stream",
       "stream": "stderr",
       "text": [
        "ERROR (theano.gof.opt): Optimization failure due to: local_dnn_convw_alpha_merge\n"
       ]
      },
      {
       "output_type": "stream",
       "stream": "stderr",
       "text": [
        "ERROR:theano.gof.opt:Optimization failure due to: local_dnn_convw_alpha_merge\n"
       ]
      },
      {
       "output_type": "stream",
       "stream": "stderr",
       "text": [
        "ERROR (theano.gof.opt): TRACEBACK:\n"
       ]
      },
      {
       "output_type": "stream",
       "stream": "stderr",
       "text": [
        "ERROR:theano.gof.opt:TRACEBACK:\n"
       ]
      },
      {
       "output_type": "stream",
       "stream": "stderr",
       "text": [
        "ERROR (theano.gof.opt): Traceback (most recent call last):\n",
        "  File \"/home/jotham/venvs/2014-12-20_datascibowl/lib/python2.7/site-packages/theano/gof/opt.py\", line 1493, in process_node\n",
        "    replacements = lopt.transform(node)\n",
        "  File \"/home/jotham/venvs/2014-12-20_datascibowl/lib/python2.7/site-packages/theano/sandbox/cuda/opt_util.py\", line 56, in opt\n",
        "    lr = grab_cpu_scalar(node.inputs[0], nd=nd)\n",
        "  File \"/home/jotham/venvs/2014-12-20_datascibowl/lib/python2.7/site-packages/theano/sandbox/cuda/opt_util.py\", line 18, in grab_cpu_scalar\n",
        "    return host_from_gpu(n.inputs[0])\n",
        "NameError: global name 'host_from_gpu' is not defined\n",
        "\n"
       ]
      },
      {
       "output_type": "stream",
       "stream": "stderr",
       "text": [
        "ERROR:theano.gof.opt:Traceback (most recent call last):\n",
        "  File \"/home/jotham/venvs/2014-12-20_datascibowl/lib/python2.7/site-packages/theano/gof/opt.py\", line 1493, in process_node\n",
        "    replacements = lopt.transform(node)\n",
        "  File \"/home/jotham/venvs/2014-12-20_datascibowl/lib/python2.7/site-packages/theano/sandbox/cuda/opt_util.py\", line 56, in opt\n",
        "    lr = grab_cpu_scalar(node.inputs[0], nd=nd)\n",
        "  File \"/home/jotham/venvs/2014-12-20_datascibowl/lib/python2.7/site-packages/theano/sandbox/cuda/opt_util.py\", line 18, in grab_cpu_scalar\n",
        "    return host_from_gpu(n.inputs[0])\n",
        "NameError: global name 'host_from_gpu' is not defined\n",
        "\n"
       ]
      },
      {
       "output_type": "stream",
       "stream": "stderr",
       "text": [
        "ERROR (theano.gof.opt): Optimization failure due to: local_dnn_convi_alpha_merge\n"
       ]
      },
      {
       "output_type": "stream",
       "stream": "stderr",
       "text": [
        "ERROR:theano.gof.opt:Optimization failure due to: local_dnn_convi_alpha_merge\n"
       ]
      },
      {
       "output_type": "stream",
       "stream": "stderr",
       "text": [
        "ERROR (theano.gof.opt): TRACEBACK:\n"
       ]
      },
      {
       "output_type": "stream",
       "stream": "stderr",
       "text": [
        "ERROR:theano.gof.opt:TRACEBACK:\n"
       ]
      },
      {
       "output_type": "stream",
       "stream": "stderr",
       "text": [
        "ERROR (theano.gof.opt): Traceback (most recent call last):\n",
        "  File \"/home/jotham/venvs/2014-12-20_datascibowl/lib/python2.7/site-packages/theano/gof/opt.py\", line 1493, in process_node\n",
        "    replacements = lopt.transform(node)\n",
        "  File \"/home/jotham/venvs/2014-12-20_datascibowl/lib/python2.7/site-packages/theano/sandbox/cuda/opt_util.py\", line 56, in opt\n",
        "    lr = grab_cpu_scalar(node.inputs[0], nd=nd)\n",
        "  File \"/home/jotham/venvs/2014-12-20_datascibowl/lib/python2.7/site-packages/theano/sandbox/cuda/opt_util.py\", line 18, in grab_cpu_scalar\n",
        "    return host_from_gpu(n.inputs[0])\n",
        "NameError: global name 'host_from_gpu' is not defined\n",
        "\n"
       ]
      },
      {
       "output_type": "stream",
       "stream": "stderr",
       "text": [
        "ERROR:theano.gof.opt:Traceback (most recent call last):\n",
        "  File \"/home/jotham/venvs/2014-12-20_datascibowl/lib/python2.7/site-packages/theano/gof/opt.py\", line 1493, in process_node\n",
        "    replacements = lopt.transform(node)\n",
        "  File \"/home/jotham/venvs/2014-12-20_datascibowl/lib/python2.7/site-packages/theano/sandbox/cuda/opt_util.py\", line 56, in opt\n",
        "    lr = grab_cpu_scalar(node.inputs[0], nd=nd)\n",
        "  File \"/home/jotham/venvs/2014-12-20_datascibowl/lib/python2.7/site-packages/theano/sandbox/cuda/opt_util.py\", line 18, in grab_cpu_scalar\n",
        "    return host_from_gpu(n.inputs[0])\n",
        "NameError: global name 'host_from_gpu' is not defined\n",
        "\n"
       ]
      },
      {
       "output_type": "stream",
       "stream": "stderr",
       "text": [
        "ERROR (theano.gof.opt): Optimization failure due to: local_dnn_conv_alpha_merge\n"
       ]
      },
      {
       "output_type": "stream",
       "stream": "stderr",
       "text": [
        "ERROR:theano.gof.opt:Optimization failure due to: local_dnn_conv_alpha_merge\n"
       ]
      },
      {
       "output_type": "stream",
       "stream": "stderr",
       "text": [
        "ERROR (theano.gof.opt): TRACEBACK:\n"
       ]
      },
      {
       "output_type": "stream",
       "stream": "stderr",
       "text": [
        "ERROR:theano.gof.opt:TRACEBACK:\n"
       ]
      },
      {
       "output_type": "stream",
       "stream": "stderr",
       "text": [
        "ERROR (theano.gof.opt): Traceback (most recent call last):\n",
        "  File \"/home/jotham/venvs/2014-12-20_datascibowl/lib/python2.7/site-packages/theano/gof/opt.py\", line 1493, in process_node\n",
        "    replacements = lopt.transform(node)\n",
        "  File \"/home/jotham/venvs/2014-12-20_datascibowl/lib/python2.7/site-packages/theano/sandbox/cuda/opt_util.py\", line 56, in opt\n",
        "    lr = grab_cpu_scalar(node.inputs[0], nd=nd)\n",
        "  File \"/home/jotham/venvs/2014-12-20_datascibowl/lib/python2.7/site-packages/theano/sandbox/cuda/opt_util.py\", line 18, in grab_cpu_scalar\n",
        "    return host_from_gpu(n.inputs[0])\n",
        "NameError: global name 'host_from_gpu' is not defined\n",
        "\n"
       ]
      },
      {
       "output_type": "stream",
       "stream": "stderr",
       "text": [
        "ERROR:theano.gof.opt:Traceback (most recent call last):\n",
        "  File \"/home/jotham/venvs/2014-12-20_datascibowl/lib/python2.7/site-packages/theano/gof/opt.py\", line 1493, in process_node\n",
        "    replacements = lopt.transform(node)\n",
        "  File \"/home/jotham/venvs/2014-12-20_datascibowl/lib/python2.7/site-packages/theano/sandbox/cuda/opt_util.py\", line 56, in opt\n",
        "    lr = grab_cpu_scalar(node.inputs[0], nd=nd)\n",
        "  File \"/home/jotham/venvs/2014-12-20_datascibowl/lib/python2.7/site-packages/theano/sandbox/cuda/opt_util.py\", line 18, in grab_cpu_scalar\n",
        "    return host_from_gpu(n.inputs[0])\n",
        "NameError: global name 'host_from_gpu' is not defined\n",
        "\n"
       ]
      },
      {
       "output_type": "stream",
       "stream": "stderr",
       "text": [
        "ERROR (theano.gof.opt): Optimization failure due to: local_dnn_convw_alpha_merge\n"
       ]
      },
      {
       "output_type": "stream",
       "stream": "stderr",
       "text": [
        "ERROR:theano.gof.opt:Optimization failure due to: local_dnn_convw_alpha_merge\n"
       ]
      },
      {
       "output_type": "stream",
       "stream": "stderr",
       "text": [
        "ERROR (theano.gof.opt): TRACEBACK:\n"
       ]
      },
      {
       "output_type": "stream",
       "stream": "stderr",
       "text": [
        "ERROR:theano.gof.opt:TRACEBACK:\n"
       ]
      },
      {
       "output_type": "stream",
       "stream": "stderr",
       "text": [
        "ERROR (theano.gof.opt): Traceback (most recent call last):\n",
        "  File \"/home/jotham/venvs/2014-12-20_datascibowl/lib/python2.7/site-packages/theano/gof/opt.py\", line 1493, in process_node\n",
        "    replacements = lopt.transform(node)\n",
        "  File \"/home/jotham/venvs/2014-12-20_datascibowl/lib/python2.7/site-packages/theano/sandbox/cuda/opt_util.py\", line 56, in opt\n",
        "    lr = grab_cpu_scalar(node.inputs[0], nd=nd)\n",
        "  File \"/home/jotham/venvs/2014-12-20_datascibowl/lib/python2.7/site-packages/theano/sandbox/cuda/opt_util.py\", line 18, in grab_cpu_scalar\n",
        "    return host_from_gpu(n.inputs[0])\n",
        "NameError: global name 'host_from_gpu' is not defined\n",
        "\n"
       ]
      },
      {
       "output_type": "stream",
       "stream": "stderr",
       "text": [
        "ERROR:theano.gof.opt:Traceback (most recent call last):\n",
        "  File \"/home/jotham/venvs/2014-12-20_datascibowl/lib/python2.7/site-packages/theano/gof/opt.py\", line 1493, in process_node\n",
        "    replacements = lopt.transform(node)\n",
        "  File \"/home/jotham/venvs/2014-12-20_datascibowl/lib/python2.7/site-packages/theano/sandbox/cuda/opt_util.py\", line 56, in opt\n",
        "    lr = grab_cpu_scalar(node.inputs[0], nd=nd)\n",
        "  File \"/home/jotham/venvs/2014-12-20_datascibowl/lib/python2.7/site-packages/theano/sandbox/cuda/opt_util.py\", line 18, in grab_cpu_scalar\n",
        "    return host_from_gpu(n.inputs[0])\n",
        "NameError: global name 'host_from_gpu' is not defined\n",
        "\n"
       ]
      },
      {
       "output_type": "stream",
       "stream": "stderr",
       "text": [
        "ERROR (theano.gof.opt): Optimization failure due to: local_dnn_convi_alpha_merge\n"
       ]
      },
      {
       "output_type": "stream",
       "stream": "stderr",
       "text": [
        "ERROR:theano.gof.opt:Optimization failure due to: local_dnn_convi_alpha_merge\n"
       ]
      },
      {
       "output_type": "stream",
       "stream": "stderr",
       "text": [
        "ERROR (theano.gof.opt): TRACEBACK:\n"
       ]
      },
      {
       "output_type": "stream",
       "stream": "stderr",
       "text": [
        "ERROR:theano.gof.opt:TRACEBACK:\n"
       ]
      },
      {
       "output_type": "stream",
       "stream": "stderr",
       "text": [
        "ERROR (theano.gof.opt): Traceback (most recent call last):\n",
        "  File \"/home/jotham/venvs/2014-12-20_datascibowl/lib/python2.7/site-packages/theano/gof/opt.py\", line 1493, in process_node\n",
        "    replacements = lopt.transform(node)\n",
        "  File \"/home/jotham/venvs/2014-12-20_datascibowl/lib/python2.7/site-packages/theano/sandbox/cuda/opt_util.py\", line 56, in opt\n",
        "    lr = grab_cpu_scalar(node.inputs[0], nd=nd)\n",
        "  File \"/home/jotham/venvs/2014-12-20_datascibowl/lib/python2.7/site-packages/theano/sandbox/cuda/opt_util.py\", line 18, in grab_cpu_scalar\n",
        "    return host_from_gpu(n.inputs[0])\n",
        "NameError: global name 'host_from_gpu' is not defined\n",
        "\n"
       ]
      },
      {
       "output_type": "stream",
       "stream": "stderr",
       "text": [
        "ERROR:theano.gof.opt:Traceback (most recent call last):\n",
        "  File \"/home/jotham/venvs/2014-12-20_datascibowl/lib/python2.7/site-packages/theano/gof/opt.py\", line 1493, in process_node\n",
        "    replacements = lopt.transform(node)\n",
        "  File \"/home/jotham/venvs/2014-12-20_datascibowl/lib/python2.7/site-packages/theano/sandbox/cuda/opt_util.py\", line 56, in opt\n",
        "    lr = grab_cpu_scalar(node.inputs[0], nd=nd)\n",
        "  File \"/home/jotham/venvs/2014-12-20_datascibowl/lib/python2.7/site-packages/theano/sandbox/cuda/opt_util.py\", line 18, in grab_cpu_scalar\n",
        "    return host_from_gpu(n.inputs[0])\n",
        "NameError: global name 'host_from_gpu' is not defined\n",
        "\n"
       ]
      },
      {
       "output_type": "stream",
       "stream": "stderr",
       "text": [
        "ERROR (theano.gof.opt): Optimization failure due to: local_dnn_conv_alpha_merge\n"
       ]
      },
      {
       "output_type": "stream",
       "stream": "stderr",
       "text": [
        "ERROR:theano.gof.opt:Optimization failure due to: local_dnn_conv_alpha_merge\n"
       ]
      },
      {
       "output_type": "stream",
       "stream": "stderr",
       "text": [
        "ERROR (theano.gof.opt): TRACEBACK:\n"
       ]
      },
      {
       "output_type": "stream",
       "stream": "stderr",
       "text": [
        "ERROR:theano.gof.opt:TRACEBACK:\n"
       ]
      },
      {
       "output_type": "stream",
       "stream": "stderr",
       "text": [
        "ERROR (theano.gof.opt): Traceback (most recent call last):\n",
        "  File \"/home/jotham/venvs/2014-12-20_datascibowl/lib/python2.7/site-packages/theano/gof/opt.py\", line 1493, in process_node\n",
        "    replacements = lopt.transform(node)\n",
        "  File \"/home/jotham/venvs/2014-12-20_datascibowl/lib/python2.7/site-packages/theano/sandbox/cuda/opt_util.py\", line 56, in opt\n",
        "    lr = grab_cpu_scalar(node.inputs[0], nd=nd)\n",
        "  File \"/home/jotham/venvs/2014-12-20_datascibowl/lib/python2.7/site-packages/theano/sandbox/cuda/opt_util.py\", line 18, in grab_cpu_scalar\n",
        "    return host_from_gpu(n.inputs[0])\n",
        "NameError: global name 'host_from_gpu' is not defined\n",
        "\n"
       ]
      },
      {
       "output_type": "stream",
       "stream": "stderr",
       "text": [
        "ERROR:theano.gof.opt:Traceback (most recent call last):\n",
        "  File \"/home/jotham/venvs/2014-12-20_datascibowl/lib/python2.7/site-packages/theano/gof/opt.py\", line 1493, in process_node\n",
        "    replacements = lopt.transform(node)\n",
        "  File \"/home/jotham/venvs/2014-12-20_datascibowl/lib/python2.7/site-packages/theano/sandbox/cuda/opt_util.py\", line 56, in opt\n",
        "    lr = grab_cpu_scalar(node.inputs[0], nd=nd)\n",
        "  File \"/home/jotham/venvs/2014-12-20_datascibowl/lib/python2.7/site-packages/theano/sandbox/cuda/opt_util.py\", line 18, in grab_cpu_scalar\n",
        "    return host_from_gpu(n.inputs[0])\n",
        "NameError: global name 'host_from_gpu' is not defined\n",
        "\n"
       ]
      },
      {
       "output_type": "stream",
       "stream": "stderr",
       "text": [
        "ERROR (theano.gof.opt): Optimization failure due to: local_dnn_convw_alpha_merge\n"
       ]
      },
      {
       "output_type": "stream",
       "stream": "stderr",
       "text": [
        "ERROR:theano.gof.opt:Optimization failure due to: local_dnn_convw_alpha_merge\n"
       ]
      },
      {
       "output_type": "stream",
       "stream": "stderr",
       "text": [
        "ERROR (theano.gof.opt): TRACEBACK:\n"
       ]
      },
      {
       "output_type": "stream",
       "stream": "stderr",
       "text": [
        "ERROR:theano.gof.opt:TRACEBACK:\n"
       ]
      },
      {
       "output_type": "stream",
       "stream": "stderr",
       "text": [
        "ERROR (theano.gof.opt): Traceback (most recent call last):\n",
        "  File \"/home/jotham/venvs/2014-12-20_datascibowl/lib/python2.7/site-packages/theano/gof/opt.py\", line 1493, in process_node\n",
        "    replacements = lopt.transform(node)\n",
        "  File \"/home/jotham/venvs/2014-12-20_datascibowl/lib/python2.7/site-packages/theano/sandbox/cuda/opt_util.py\", line 56, in opt\n",
        "    lr = grab_cpu_scalar(node.inputs[0], nd=nd)\n",
        "  File \"/home/jotham/venvs/2014-12-20_datascibowl/lib/python2.7/site-packages/theano/sandbox/cuda/opt_util.py\", line 18, in grab_cpu_scalar\n",
        "    return host_from_gpu(n.inputs[0])\n",
        "NameError: global name 'host_from_gpu' is not defined\n",
        "\n"
       ]
      },
      {
       "output_type": "stream",
       "stream": "stderr",
       "text": [
        "ERROR:theano.gof.opt:Traceback (most recent call last):\n",
        "  File \"/home/jotham/venvs/2014-12-20_datascibowl/lib/python2.7/site-packages/theano/gof/opt.py\", line 1493, in process_node\n",
        "    replacements = lopt.transform(node)\n",
        "  File \"/home/jotham/venvs/2014-12-20_datascibowl/lib/python2.7/site-packages/theano/sandbox/cuda/opt_util.py\", line 56, in opt\n",
        "    lr = grab_cpu_scalar(node.inputs[0], nd=nd)\n",
        "  File \"/home/jotham/venvs/2014-12-20_datascibowl/lib/python2.7/site-packages/theano/sandbox/cuda/opt_util.py\", line 18, in grab_cpu_scalar\n",
        "    return host_from_gpu(n.inputs[0])\n",
        "NameError: global name 'host_from_gpu' is not defined\n",
        "\n"
       ]
      },
      {
       "output_type": "stream",
       "stream": "stderr",
       "text": [
        "ERROR (theano.gof.opt): Optimization failure due to: local_dnn_convi_alpha_merge\n"
       ]
      },
      {
       "output_type": "stream",
       "stream": "stderr",
       "text": [
        "ERROR:theano.gof.opt:Optimization failure due to: local_dnn_convi_alpha_merge\n"
       ]
      },
      {
       "output_type": "stream",
       "stream": "stderr",
       "text": [
        "ERROR (theano.gof.opt): TRACEBACK:\n"
       ]
      },
      {
       "output_type": "stream",
       "stream": "stderr",
       "text": [
        "ERROR:theano.gof.opt:TRACEBACK:\n"
       ]
      },
      {
       "output_type": "stream",
       "stream": "stderr",
       "text": [
        "ERROR (theano.gof.opt): Traceback (most recent call last):\n",
        "  File \"/home/jotham/venvs/2014-12-20_datascibowl/lib/python2.7/site-packages/theano/gof/opt.py\", line 1493, in process_node\n",
        "    replacements = lopt.transform(node)\n",
        "  File \"/home/jotham/venvs/2014-12-20_datascibowl/lib/python2.7/site-packages/theano/sandbox/cuda/opt_util.py\", line 56, in opt\n",
        "    lr = grab_cpu_scalar(node.inputs[0], nd=nd)\n",
        "  File \"/home/jotham/venvs/2014-12-20_datascibowl/lib/python2.7/site-packages/theano/sandbox/cuda/opt_util.py\", line 18, in grab_cpu_scalar\n",
        "    return host_from_gpu(n.inputs[0])\n",
        "NameError: global name 'host_from_gpu' is not defined\n",
        "\n"
       ]
      },
      {
       "output_type": "stream",
       "stream": "stderr",
       "text": [
        "ERROR:theano.gof.opt:Traceback (most recent call last):\n",
        "  File \"/home/jotham/venvs/2014-12-20_datascibowl/lib/python2.7/site-packages/theano/gof/opt.py\", line 1493, in process_node\n",
        "    replacements = lopt.transform(node)\n",
        "  File \"/home/jotham/venvs/2014-12-20_datascibowl/lib/python2.7/site-packages/theano/sandbox/cuda/opt_util.py\", line 56, in opt\n",
        "    lr = grab_cpu_scalar(node.inputs[0], nd=nd)\n",
        "  File \"/home/jotham/venvs/2014-12-20_datascibowl/lib/python2.7/site-packages/theano/sandbox/cuda/opt_util.py\", line 18, in grab_cpu_scalar\n",
        "    return host_from_gpu(n.inputs[0])\n",
        "NameError: global name 'host_from_gpu' is not defined\n",
        "\n"
       ]
      },
      {
       "output_type": "stream",
       "stream": "stderr",
       "text": [
        "ERROR (theano.gof.opt): Optimization failure due to: local_dnn_conv_alpha_merge\n"
       ]
      },
      {
       "output_type": "stream",
       "stream": "stderr",
       "text": [
        "ERROR:theano.gof.opt:Optimization failure due to: local_dnn_conv_alpha_merge\n"
       ]
      },
      {
       "output_type": "stream",
       "stream": "stderr",
       "text": [
        "ERROR (theano.gof.opt): TRACEBACK:\n"
       ]
      },
      {
       "output_type": "stream",
       "stream": "stderr",
       "text": [
        "ERROR:theano.gof.opt:TRACEBACK:\n"
       ]
      },
      {
       "output_type": "stream",
       "stream": "stderr",
       "text": [
        "ERROR (theano.gof.opt): Traceback (most recent call last):\n",
        "  File \"/home/jotham/venvs/2014-12-20_datascibowl/lib/python2.7/site-packages/theano/gof/opt.py\", line 1493, in process_node\n",
        "    replacements = lopt.transform(node)\n",
        "  File \"/home/jotham/venvs/2014-12-20_datascibowl/lib/python2.7/site-packages/theano/sandbox/cuda/opt_util.py\", line 56, in opt\n",
        "    lr = grab_cpu_scalar(node.inputs[0], nd=nd)\n",
        "  File \"/home/jotham/venvs/2014-12-20_datascibowl/lib/python2.7/site-packages/theano/sandbox/cuda/opt_util.py\", line 18, in grab_cpu_scalar\n",
        "    return host_from_gpu(n.inputs[0])\n",
        "NameError: global name 'host_from_gpu' is not defined\n",
        "\n"
       ]
      },
      {
       "output_type": "stream",
       "stream": "stderr",
       "text": [
        "ERROR:theano.gof.opt:Traceback (most recent call last):\n",
        "  File \"/home/jotham/venvs/2014-12-20_datascibowl/lib/python2.7/site-packages/theano/gof/opt.py\", line 1493, in process_node\n",
        "    replacements = lopt.transform(node)\n",
        "  File \"/home/jotham/venvs/2014-12-20_datascibowl/lib/python2.7/site-packages/theano/sandbox/cuda/opt_util.py\", line 56, in opt\n",
        "    lr = grab_cpu_scalar(node.inputs[0], nd=nd)\n",
        "  File \"/home/jotham/venvs/2014-12-20_datascibowl/lib/python2.7/site-packages/theano/sandbox/cuda/opt_util.py\", line 18, in grab_cpu_scalar\n",
        "    return host_from_gpu(n.inputs[0])\n",
        "NameError: global name 'host_from_gpu' is not defined\n",
        "\n"
       ]
      },
      {
       "output_type": "stream",
       "stream": "stderr",
       "text": [
        "ERROR (theano.gof.opt): Optimization failure due to: local_dnn_convw_alpha_merge\n"
       ]
      },
      {
       "output_type": "stream",
       "stream": "stderr",
       "text": [
        "ERROR:theano.gof.opt:Optimization failure due to: local_dnn_convw_alpha_merge\n"
       ]
      },
      {
       "output_type": "stream",
       "stream": "stderr",
       "text": [
        "ERROR (theano.gof.opt): TRACEBACK:\n"
       ]
      },
      {
       "output_type": "stream",
       "stream": "stderr",
       "text": [
        "ERROR:theano.gof.opt:TRACEBACK:\n"
       ]
      },
      {
       "output_type": "stream",
       "stream": "stderr",
       "text": [
        "ERROR (theano.gof.opt): Traceback (most recent call last):\n",
        "  File \"/home/jotham/venvs/2014-12-20_datascibowl/lib/python2.7/site-packages/theano/gof/opt.py\", line 1493, in process_node\n",
        "    replacements = lopt.transform(node)\n",
        "  File \"/home/jotham/venvs/2014-12-20_datascibowl/lib/python2.7/site-packages/theano/sandbox/cuda/opt_util.py\", line 56, in opt\n",
        "    lr = grab_cpu_scalar(node.inputs[0], nd=nd)\n",
        "  File \"/home/jotham/venvs/2014-12-20_datascibowl/lib/python2.7/site-packages/theano/sandbox/cuda/opt_util.py\", line 18, in grab_cpu_scalar\n",
        "    return host_from_gpu(n.inputs[0])\n",
        "NameError: global name 'host_from_gpu' is not defined\n",
        "\n"
       ]
      },
      {
       "output_type": "stream",
       "stream": "stderr",
       "text": [
        "ERROR:theano.gof.opt:Traceback (most recent call last):\n",
        "  File \"/home/jotham/venvs/2014-12-20_datascibowl/lib/python2.7/site-packages/theano/gof/opt.py\", line 1493, in process_node\n",
        "    replacements = lopt.transform(node)\n",
        "  File \"/home/jotham/venvs/2014-12-20_datascibowl/lib/python2.7/site-packages/theano/sandbox/cuda/opt_util.py\", line 56, in opt\n",
        "    lr = grab_cpu_scalar(node.inputs[0], nd=nd)\n",
        "  File \"/home/jotham/venvs/2014-12-20_datascibowl/lib/python2.7/site-packages/theano/sandbox/cuda/opt_util.py\", line 18, in grab_cpu_scalar\n",
        "    return host_from_gpu(n.inputs[0])\n",
        "NameError: global name 'host_from_gpu' is not defined\n",
        "\n"
       ]
      },
      {
       "output_type": "stream",
       "stream": "stderr",
       "text": [
        "ERROR (theano.gof.opt): Optimization failure due to: local_dnn_convi_alpha_merge\n"
       ]
      },
      {
       "output_type": "stream",
       "stream": "stderr",
       "text": [
        "ERROR:theano.gof.opt:Optimization failure due to: local_dnn_convi_alpha_merge\n"
       ]
      },
      {
       "output_type": "stream",
       "stream": "stderr",
       "text": [
        "ERROR (theano.gof.opt): TRACEBACK:\n"
       ]
      },
      {
       "output_type": "stream",
       "stream": "stderr",
       "text": [
        "ERROR:theano.gof.opt:TRACEBACK:\n"
       ]
      },
      {
       "output_type": "stream",
       "stream": "stderr",
       "text": [
        "ERROR (theano.gof.opt): Traceback (most recent call last):\n",
        "  File \"/home/jotham/venvs/2014-12-20_datascibowl/lib/python2.7/site-packages/theano/gof/opt.py\", line 1493, in process_node\n",
        "    replacements = lopt.transform(node)\n",
        "  File \"/home/jotham/venvs/2014-12-20_datascibowl/lib/python2.7/site-packages/theano/sandbox/cuda/opt_util.py\", line 56, in opt\n",
        "    lr = grab_cpu_scalar(node.inputs[0], nd=nd)\n",
        "  File \"/home/jotham/venvs/2014-12-20_datascibowl/lib/python2.7/site-packages/theano/sandbox/cuda/opt_util.py\", line 18, in grab_cpu_scalar\n",
        "    return host_from_gpu(n.inputs[0])\n",
        "NameError: global name 'host_from_gpu' is not defined\n",
        "\n"
       ]
      },
      {
       "output_type": "stream",
       "stream": "stderr",
       "text": [
        "ERROR:theano.gof.opt:Traceback (most recent call last):\n",
        "  File \"/home/jotham/venvs/2014-12-20_datascibowl/lib/python2.7/site-packages/theano/gof/opt.py\", line 1493, in process_node\n",
        "    replacements = lopt.transform(node)\n",
        "  File \"/home/jotham/venvs/2014-12-20_datascibowl/lib/python2.7/site-packages/theano/sandbox/cuda/opt_util.py\", line 56, in opt\n",
        "    lr = grab_cpu_scalar(node.inputs[0], nd=nd)\n",
        "  File \"/home/jotham/venvs/2014-12-20_datascibowl/lib/python2.7/site-packages/theano/sandbox/cuda/opt_util.py\", line 18, in grab_cpu_scalar\n",
        "    return host_from_gpu(n.inputs[0])\n",
        "NameError: global name 'host_from_gpu' is not defined\n",
        "\n"
       ]
      },
      {
       "output_type": "stream",
       "stream": "stderr",
       "text": [
        "ERROR (theano.gof.opt): Optimization failure due to: local_dnn_conv_alpha_merge\n"
       ]
      },
      {
       "output_type": "stream",
       "stream": "stderr",
       "text": [
        "ERROR:theano.gof.opt:Optimization failure due to: local_dnn_conv_alpha_merge\n"
       ]
      },
      {
       "output_type": "stream",
       "stream": "stderr",
       "text": [
        "ERROR (theano.gof.opt): TRACEBACK:\n"
       ]
      },
      {
       "output_type": "stream",
       "stream": "stderr",
       "text": [
        "ERROR:theano.gof.opt:TRACEBACK:\n"
       ]
      },
      {
       "output_type": "stream",
       "stream": "stderr",
       "text": [
        "ERROR (theano.gof.opt): Traceback (most recent call last):\n",
        "  File \"/home/jotham/venvs/2014-12-20_datascibowl/lib/python2.7/site-packages/theano/gof/opt.py\", line 1493, in process_node\n",
        "    replacements = lopt.transform(node)\n",
        "  File \"/home/jotham/venvs/2014-12-20_datascibowl/lib/python2.7/site-packages/theano/sandbox/cuda/opt_util.py\", line 56, in opt\n",
        "    lr = grab_cpu_scalar(node.inputs[0], nd=nd)\n",
        "  File \"/home/jotham/venvs/2014-12-20_datascibowl/lib/python2.7/site-packages/theano/sandbox/cuda/opt_util.py\", line 18, in grab_cpu_scalar\n",
        "    return host_from_gpu(n.inputs[0])\n",
        "NameError: global name 'host_from_gpu' is not defined\n",
        "\n"
       ]
      },
      {
       "output_type": "stream",
       "stream": "stderr",
       "text": [
        "ERROR:theano.gof.opt:Traceback (most recent call last):\n",
        "  File \"/home/jotham/venvs/2014-12-20_datascibowl/lib/python2.7/site-packages/theano/gof/opt.py\", line 1493, in process_node\n",
        "    replacements = lopt.transform(node)\n",
        "  File \"/home/jotham/venvs/2014-12-20_datascibowl/lib/python2.7/site-packages/theano/sandbox/cuda/opt_util.py\", line 56, in opt\n",
        "    lr = grab_cpu_scalar(node.inputs[0], nd=nd)\n",
        "  File \"/home/jotham/venvs/2014-12-20_datascibowl/lib/python2.7/site-packages/theano/sandbox/cuda/opt_util.py\", line 18, in grab_cpu_scalar\n",
        "    return host_from_gpu(n.inputs[0])\n",
        "NameError: global name 'host_from_gpu' is not defined\n",
        "\n"
       ]
      },
      {
       "output_type": "stream",
       "stream": "stderr",
       "text": [
        "ERROR (theano.gof.opt): Optimization failure due to: local_dnn_convw_alpha_merge\n"
       ]
      },
      {
       "output_type": "stream",
       "stream": "stderr",
       "text": [
        "ERROR:theano.gof.opt:Optimization failure due to: local_dnn_convw_alpha_merge\n"
       ]
      },
      {
       "output_type": "stream",
       "stream": "stderr",
       "text": [
        "ERROR (theano.gof.opt): TRACEBACK:\n"
       ]
      },
      {
       "output_type": "stream",
       "stream": "stderr",
       "text": [
        "ERROR:theano.gof.opt:TRACEBACK:\n"
       ]
      },
      {
       "output_type": "stream",
       "stream": "stderr",
       "text": [
        "ERROR (theano.gof.opt): Traceback (most recent call last):\n",
        "  File \"/home/jotham/venvs/2014-12-20_datascibowl/lib/python2.7/site-packages/theano/gof/opt.py\", line 1493, in process_node\n",
        "    replacements = lopt.transform(node)\n",
        "  File \"/home/jotham/venvs/2014-12-20_datascibowl/lib/python2.7/site-packages/theano/sandbox/cuda/opt_util.py\", line 56, in opt\n",
        "    lr = grab_cpu_scalar(node.inputs[0], nd=nd)\n",
        "  File \"/home/jotham/venvs/2014-12-20_datascibowl/lib/python2.7/site-packages/theano/sandbox/cuda/opt_util.py\", line 18, in grab_cpu_scalar\n",
        "    return host_from_gpu(n.inputs[0])\n",
        "NameError: global name 'host_from_gpu' is not defined\n",
        "\n"
       ]
      },
      {
       "output_type": "stream",
       "stream": "stderr",
       "text": [
        "ERROR:theano.gof.opt:Traceback (most recent call last):\n",
        "  File \"/home/jotham/venvs/2014-12-20_datascibowl/lib/python2.7/site-packages/theano/gof/opt.py\", line 1493, in process_node\n",
        "    replacements = lopt.transform(node)\n",
        "  File \"/home/jotham/venvs/2014-12-20_datascibowl/lib/python2.7/site-packages/theano/sandbox/cuda/opt_util.py\", line 56, in opt\n",
        "    lr = grab_cpu_scalar(node.inputs[0], nd=nd)\n",
        "  File \"/home/jotham/venvs/2014-12-20_datascibowl/lib/python2.7/site-packages/theano/sandbox/cuda/opt_util.py\", line 18, in grab_cpu_scalar\n",
        "    return host_from_gpu(n.inputs[0])\n",
        "NameError: global name 'host_from_gpu' is not defined\n",
        "\n"
       ]
      },
      {
       "output_type": "stream",
       "stream": "stderr",
       "text": [
        "ERROR (theano.gof.opt): Optimization failure due to: local_dnn_convi_alpha_merge\n"
       ]
      },
      {
       "output_type": "stream",
       "stream": "stderr",
       "text": [
        "ERROR:theano.gof.opt:Optimization failure due to: local_dnn_convi_alpha_merge\n"
       ]
      },
      {
       "output_type": "stream",
       "stream": "stderr",
       "text": [
        "ERROR (theano.gof.opt): TRACEBACK:\n"
       ]
      },
      {
       "output_type": "stream",
       "stream": "stderr",
       "text": [
        "ERROR:theano.gof.opt:TRACEBACK:\n"
       ]
      },
      {
       "output_type": "stream",
       "stream": "stderr",
       "text": [
        "ERROR (theano.gof.opt): Traceback (most recent call last):\n",
        "  File \"/home/jotham/venvs/2014-12-20_datascibowl/lib/python2.7/site-packages/theano/gof/opt.py\", line 1493, in process_node\n",
        "    replacements = lopt.transform(node)\n",
        "  File \"/home/jotham/venvs/2014-12-20_datascibowl/lib/python2.7/site-packages/theano/sandbox/cuda/opt_util.py\", line 56, in opt\n",
        "    lr = grab_cpu_scalar(node.inputs[0], nd=nd)\n",
        "  File \"/home/jotham/venvs/2014-12-20_datascibowl/lib/python2.7/site-packages/theano/sandbox/cuda/opt_util.py\", line 18, in grab_cpu_scalar\n",
        "    return host_from_gpu(n.inputs[0])\n",
        "NameError: global name 'host_from_gpu' is not defined\n",
        "\n"
       ]
      },
      {
       "output_type": "stream",
       "stream": "stderr",
       "text": [
        "ERROR:theano.gof.opt:Traceback (most recent call last):\n",
        "  File \"/home/jotham/venvs/2014-12-20_datascibowl/lib/python2.7/site-packages/theano/gof/opt.py\", line 1493, in process_node\n",
        "    replacements = lopt.transform(node)\n",
        "  File \"/home/jotham/venvs/2014-12-20_datascibowl/lib/python2.7/site-packages/theano/sandbox/cuda/opt_util.py\", line 56, in opt\n",
        "    lr = grab_cpu_scalar(node.inputs[0], nd=nd)\n",
        "  File \"/home/jotham/venvs/2014-12-20_datascibowl/lib/python2.7/site-packages/theano/sandbox/cuda/opt_util.py\", line 18, in grab_cpu_scalar\n",
        "    return host_from_gpu(n.inputs[0])\n",
        "NameError: global name 'host_from_gpu' is not defined\n",
        "\n"
       ]
      },
      {
       "output_type": "stream",
       "stream": "stderr",
       "text": [
        "ERROR (theano.gof.opt): Optimization failure due to: local_dnn_conv_alpha_merge\n"
       ]
      },
      {
       "output_type": "stream",
       "stream": "stderr",
       "text": [
        "ERROR:theano.gof.opt:Optimization failure due to: local_dnn_conv_alpha_merge\n"
       ]
      },
      {
       "output_type": "stream",
       "stream": "stderr",
       "text": [
        "ERROR (theano.gof.opt): TRACEBACK:\n"
       ]
      },
      {
       "output_type": "stream",
       "stream": "stderr",
       "text": [
        "ERROR:theano.gof.opt:TRACEBACK:\n"
       ]
      },
      {
       "output_type": "stream",
       "stream": "stderr",
       "text": [
        "ERROR (theano.gof.opt): Traceback (most recent call last):\n",
        "  File \"/home/jotham/venvs/2014-12-20_datascibowl/lib/python2.7/site-packages/theano/gof/opt.py\", line 1493, in process_node\n",
        "    replacements = lopt.transform(node)\n",
        "  File \"/home/jotham/venvs/2014-12-20_datascibowl/lib/python2.7/site-packages/theano/sandbox/cuda/opt_util.py\", line 56, in opt\n",
        "    lr = grab_cpu_scalar(node.inputs[0], nd=nd)\n",
        "  File \"/home/jotham/venvs/2014-12-20_datascibowl/lib/python2.7/site-packages/theano/sandbox/cuda/opt_util.py\", line 18, in grab_cpu_scalar\n",
        "    return host_from_gpu(n.inputs[0])\n",
        "NameError: global name 'host_from_gpu' is not defined\n",
        "\n"
       ]
      },
      {
       "output_type": "stream",
       "stream": "stderr",
       "text": [
        "ERROR:theano.gof.opt:Traceback (most recent call last):\n",
        "  File \"/home/jotham/venvs/2014-12-20_datascibowl/lib/python2.7/site-packages/theano/gof/opt.py\", line 1493, in process_node\n",
        "    replacements = lopt.transform(node)\n",
        "  File \"/home/jotham/venvs/2014-12-20_datascibowl/lib/python2.7/site-packages/theano/sandbox/cuda/opt_util.py\", line 56, in opt\n",
        "    lr = grab_cpu_scalar(node.inputs[0], nd=nd)\n",
        "  File \"/home/jotham/venvs/2014-12-20_datascibowl/lib/python2.7/site-packages/theano/sandbox/cuda/opt_util.py\", line 18, in grab_cpu_scalar\n",
        "    return host_from_gpu(n.inputs[0])\n",
        "NameError: global name 'host_from_gpu' is not defined\n",
        "\n"
       ]
      },
      {
       "output_type": "stream",
       "stream": "stderr",
       "text": [
        "ERROR (theano.gof.opt): Optimization failure due to: local_dnn_convw_alpha_merge\n"
       ]
      },
      {
       "output_type": "stream",
       "stream": "stderr",
       "text": [
        "ERROR:theano.gof.opt:Optimization failure due to: local_dnn_convw_alpha_merge\n"
       ]
      },
      {
       "output_type": "stream",
       "stream": "stderr",
       "text": [
        "ERROR (theano.gof.opt): TRACEBACK:\n"
       ]
      },
      {
       "output_type": "stream",
       "stream": "stderr",
       "text": [
        "ERROR:theano.gof.opt:TRACEBACK:\n"
       ]
      },
      {
       "output_type": "stream",
       "stream": "stderr",
       "text": [
        "ERROR (theano.gof.opt): Traceback (most recent call last):\n",
        "  File \"/home/jotham/venvs/2014-12-20_datascibowl/lib/python2.7/site-packages/theano/gof/opt.py\", line 1493, in process_node\n",
        "    replacements = lopt.transform(node)\n",
        "  File \"/home/jotham/venvs/2014-12-20_datascibowl/lib/python2.7/site-packages/theano/sandbox/cuda/opt_util.py\", line 56, in opt\n",
        "    lr = grab_cpu_scalar(node.inputs[0], nd=nd)\n",
        "  File \"/home/jotham/venvs/2014-12-20_datascibowl/lib/python2.7/site-packages/theano/sandbox/cuda/opt_util.py\", line 18, in grab_cpu_scalar\n",
        "    return host_from_gpu(n.inputs[0])\n",
        "NameError: global name 'host_from_gpu' is not defined\n",
        "\n"
       ]
      },
      {
       "output_type": "stream",
       "stream": "stderr",
       "text": [
        "ERROR:theano.gof.opt:Traceback (most recent call last):\n",
        "  File \"/home/jotham/venvs/2014-12-20_datascibowl/lib/python2.7/site-packages/theano/gof/opt.py\", line 1493, in process_node\n",
        "    replacements = lopt.transform(node)\n",
        "  File \"/home/jotham/venvs/2014-12-20_datascibowl/lib/python2.7/site-packages/theano/sandbox/cuda/opt_util.py\", line 56, in opt\n",
        "    lr = grab_cpu_scalar(node.inputs[0], nd=nd)\n",
        "  File \"/home/jotham/venvs/2014-12-20_datascibowl/lib/python2.7/site-packages/theano/sandbox/cuda/opt_util.py\", line 18, in grab_cpu_scalar\n",
        "    return host_from_gpu(n.inputs[0])\n",
        "NameError: global name 'host_from_gpu' is not defined\n",
        "\n"
       ]
      },
      {
       "output_type": "stream",
       "stream": "stderr",
       "text": [
        "ERROR (theano.gof.opt): Optimization failure due to: local_dnn_convi_alpha_merge\n"
       ]
      },
      {
       "output_type": "stream",
       "stream": "stderr",
       "text": [
        "ERROR:theano.gof.opt:Optimization failure due to: local_dnn_convi_alpha_merge\n"
       ]
      },
      {
       "output_type": "stream",
       "stream": "stderr",
       "text": [
        "ERROR (theano.gof.opt): TRACEBACK:\n"
       ]
      },
      {
       "output_type": "stream",
       "stream": "stderr",
       "text": [
        "ERROR:theano.gof.opt:TRACEBACK:\n"
       ]
      },
      {
       "output_type": "stream",
       "stream": "stderr",
       "text": [
        "ERROR (theano.gof.opt): Traceback (most recent call last):\n",
        "  File \"/home/jotham/venvs/2014-12-20_datascibowl/lib/python2.7/site-packages/theano/gof/opt.py\", line 1493, in process_node\n",
        "    replacements = lopt.transform(node)\n",
        "  File \"/home/jotham/venvs/2014-12-20_datascibowl/lib/python2.7/site-packages/theano/sandbox/cuda/opt_util.py\", line 56, in opt\n",
        "    lr = grab_cpu_scalar(node.inputs[0], nd=nd)\n",
        "  File \"/home/jotham/venvs/2014-12-20_datascibowl/lib/python2.7/site-packages/theano/sandbox/cuda/opt_util.py\", line 18, in grab_cpu_scalar\n",
        "    return host_from_gpu(n.inputs[0])\n",
        "NameError: global name 'host_from_gpu' is not defined\n",
        "\n"
       ]
      },
      {
       "output_type": "stream",
       "stream": "stderr",
       "text": [
        "ERROR:theano.gof.opt:Traceback (most recent call last):\n",
        "  File \"/home/jotham/venvs/2014-12-20_datascibowl/lib/python2.7/site-packages/theano/gof/opt.py\", line 1493, in process_node\n",
        "    replacements = lopt.transform(node)\n",
        "  File \"/home/jotham/venvs/2014-12-20_datascibowl/lib/python2.7/site-packages/theano/sandbox/cuda/opt_util.py\", line 56, in opt\n",
        "    lr = grab_cpu_scalar(node.inputs[0], nd=nd)\n",
        "  File \"/home/jotham/venvs/2014-12-20_datascibowl/lib/python2.7/site-packages/theano/sandbox/cuda/opt_util.py\", line 18, in grab_cpu_scalar\n",
        "    return host_from_gpu(n.inputs[0])\n",
        "NameError: global name 'host_from_gpu' is not defined\n",
        "\n"
       ]
      },
      {
       "output_type": "stream",
       "stream": "stderr",
       "text": [
        "ERROR (theano.gof.opt): Optimization failure due to: local_dnn_conv_alpha_merge\n"
       ]
      },
      {
       "output_type": "stream",
       "stream": "stderr",
       "text": [
        "ERROR:theano.gof.opt:Optimization failure due to: local_dnn_conv_alpha_merge\n"
       ]
      },
      {
       "output_type": "stream",
       "stream": "stderr",
       "text": [
        "ERROR (theano.gof.opt): TRACEBACK:\n"
       ]
      },
      {
       "output_type": "stream",
       "stream": "stderr",
       "text": [
        "ERROR:theano.gof.opt:TRACEBACK:\n"
       ]
      },
      {
       "output_type": "stream",
       "stream": "stderr",
       "text": [
        "ERROR (theano.gof.opt): Traceback (most recent call last):\n",
        "  File \"/home/jotham/venvs/2014-12-20_datascibowl/lib/python2.7/site-packages/theano/gof/opt.py\", line 1493, in process_node\n",
        "    replacements = lopt.transform(node)\n",
        "  File \"/home/jotham/venvs/2014-12-20_datascibowl/lib/python2.7/site-packages/theano/sandbox/cuda/opt_util.py\", line 56, in opt\n",
        "    lr = grab_cpu_scalar(node.inputs[0], nd=nd)\n",
        "  File \"/home/jotham/venvs/2014-12-20_datascibowl/lib/python2.7/site-packages/theano/sandbox/cuda/opt_util.py\", line 18, in grab_cpu_scalar\n",
        "    return host_from_gpu(n.inputs[0])\n",
        "NameError: global name 'host_from_gpu' is not defined\n",
        "\n"
       ]
      },
      {
       "output_type": "stream",
       "stream": "stderr",
       "text": [
        "ERROR:theano.gof.opt:Traceback (most recent call last):\n",
        "  File \"/home/jotham/venvs/2014-12-20_datascibowl/lib/python2.7/site-packages/theano/gof/opt.py\", line 1493, in process_node\n",
        "    replacements = lopt.transform(node)\n",
        "  File \"/home/jotham/venvs/2014-12-20_datascibowl/lib/python2.7/site-packages/theano/sandbox/cuda/opt_util.py\", line 56, in opt\n",
        "    lr = grab_cpu_scalar(node.inputs[0], nd=nd)\n",
        "  File \"/home/jotham/venvs/2014-12-20_datascibowl/lib/python2.7/site-packages/theano/sandbox/cuda/opt_util.py\", line 18, in grab_cpu_scalar\n",
        "    return host_from_gpu(n.inputs[0])\n",
        "NameError: global name 'host_from_gpu' is not defined\n",
        "\n"
       ]
      },
      {
       "output_type": "stream",
       "stream": "stderr",
       "text": [
        "ERROR (theano.gof.opt): Optimization failure due to: local_dnn_convw_alpha_merge\n"
       ]
      },
      {
       "output_type": "stream",
       "stream": "stderr",
       "text": [
        "ERROR:theano.gof.opt:Optimization failure due to: local_dnn_convw_alpha_merge\n"
       ]
      },
      {
       "output_type": "stream",
       "stream": "stderr",
       "text": [
        "ERROR (theano.gof.opt): TRACEBACK:\n"
       ]
      },
      {
       "output_type": "stream",
       "stream": "stderr",
       "text": [
        "ERROR:theano.gof.opt:TRACEBACK:\n"
       ]
      },
      {
       "output_type": "stream",
       "stream": "stderr",
       "text": [
        "ERROR (theano.gof.opt): Traceback (most recent call last):\n",
        "  File \"/home/jotham/venvs/2014-12-20_datascibowl/lib/python2.7/site-packages/theano/gof/opt.py\", line 1493, in process_node\n",
        "    replacements = lopt.transform(node)\n",
        "  File \"/home/jotham/venvs/2014-12-20_datascibowl/lib/python2.7/site-packages/theano/sandbox/cuda/opt_util.py\", line 56, in opt\n",
        "    lr = grab_cpu_scalar(node.inputs[0], nd=nd)\n",
        "  File \"/home/jotham/venvs/2014-12-20_datascibowl/lib/python2.7/site-packages/theano/sandbox/cuda/opt_util.py\", line 18, in grab_cpu_scalar\n",
        "    return host_from_gpu(n.inputs[0])\n",
        "NameError: global name 'host_from_gpu' is not defined\n",
        "\n"
       ]
      },
      {
       "output_type": "stream",
       "stream": "stderr",
       "text": [
        "ERROR:theano.gof.opt:Traceback (most recent call last):\n",
        "  File \"/home/jotham/venvs/2014-12-20_datascibowl/lib/python2.7/site-packages/theano/gof/opt.py\", line 1493, in process_node\n",
        "    replacements = lopt.transform(node)\n",
        "  File \"/home/jotham/venvs/2014-12-20_datascibowl/lib/python2.7/site-packages/theano/sandbox/cuda/opt_util.py\", line 56, in opt\n",
        "    lr = grab_cpu_scalar(node.inputs[0], nd=nd)\n",
        "  File \"/home/jotham/venvs/2014-12-20_datascibowl/lib/python2.7/site-packages/theano/sandbox/cuda/opt_util.py\", line 18, in grab_cpu_scalar\n",
        "    return host_from_gpu(n.inputs[0])\n",
        "NameError: global name 'host_from_gpu' is not defined\n",
        "\n"
       ]
      },
      {
       "output_type": "stream",
       "stream": "stderr",
       "text": [
        "ERROR (theano.gof.opt): Optimization failure due to: local_dnn_convi_alpha_merge\n"
       ]
      },
      {
       "output_type": "stream",
       "stream": "stderr",
       "text": [
        "ERROR:theano.gof.opt:Optimization failure due to: local_dnn_convi_alpha_merge\n"
       ]
      },
      {
       "output_type": "stream",
       "stream": "stderr",
       "text": [
        "ERROR (theano.gof.opt): TRACEBACK:\n"
       ]
      },
      {
       "output_type": "stream",
       "stream": "stderr",
       "text": [
        "ERROR:theano.gof.opt:TRACEBACK:\n"
       ]
      },
      {
       "output_type": "stream",
       "stream": "stderr",
       "text": [
        "ERROR (theano.gof.opt): Traceback (most recent call last):\n",
        "  File \"/home/jotham/venvs/2014-12-20_datascibowl/lib/python2.7/site-packages/theano/gof/opt.py\", line 1493, in process_node\n",
        "    replacements = lopt.transform(node)\n",
        "  File \"/home/jotham/venvs/2014-12-20_datascibowl/lib/python2.7/site-packages/theano/sandbox/cuda/opt_util.py\", line 56, in opt\n",
        "    lr = grab_cpu_scalar(node.inputs[0], nd=nd)\n",
        "  File \"/home/jotham/venvs/2014-12-20_datascibowl/lib/python2.7/site-packages/theano/sandbox/cuda/opt_util.py\", line 18, in grab_cpu_scalar\n",
        "    return host_from_gpu(n.inputs[0])\n",
        "NameError: global name 'host_from_gpu' is not defined\n",
        "\n"
       ]
      },
      {
       "output_type": "stream",
       "stream": "stderr",
       "text": [
        "ERROR:theano.gof.opt:Traceback (most recent call last):\n",
        "  File \"/home/jotham/venvs/2014-12-20_datascibowl/lib/python2.7/site-packages/theano/gof/opt.py\", line 1493, in process_node\n",
        "    replacements = lopt.transform(node)\n",
        "  File \"/home/jotham/venvs/2014-12-20_datascibowl/lib/python2.7/site-packages/theano/sandbox/cuda/opt_util.py\", line 56, in opt\n",
        "    lr = grab_cpu_scalar(node.inputs[0], nd=nd)\n",
        "  File \"/home/jotham/venvs/2014-12-20_datascibowl/lib/python2.7/site-packages/theano/sandbox/cuda/opt_util.py\", line 18, in grab_cpu_scalar\n",
        "    return host_from_gpu(n.inputs[0])\n",
        "NameError: global name 'host_from_gpu' is not defined\n",
        "\n"
       ]
      },
      {
       "output_type": "stream",
       "stream": "stderr",
       "text": [
        "ERROR (theano.gof.opt): Optimization failure due to: local_dnn_conv_alpha_merge\n"
       ]
      },
      {
       "output_type": "stream",
       "stream": "stderr",
       "text": [
        "ERROR:theano.gof.opt:Optimization failure due to: local_dnn_conv_alpha_merge\n"
       ]
      },
      {
       "output_type": "stream",
       "stream": "stderr",
       "text": [
        "ERROR (theano.gof.opt): TRACEBACK:\n"
       ]
      },
      {
       "output_type": "stream",
       "stream": "stderr",
       "text": [
        "ERROR:theano.gof.opt:TRACEBACK:\n"
       ]
      },
      {
       "output_type": "stream",
       "stream": "stderr",
       "text": [
        "ERROR (theano.gof.opt): Traceback (most recent call last):\n",
        "  File \"/home/jotham/venvs/2014-12-20_datascibowl/lib/python2.7/site-packages/theano/gof/opt.py\", line 1493, in process_node\n",
        "    replacements = lopt.transform(node)\n",
        "  File \"/home/jotham/venvs/2014-12-20_datascibowl/lib/python2.7/site-packages/theano/sandbox/cuda/opt_util.py\", line 56, in opt\n",
        "    lr = grab_cpu_scalar(node.inputs[0], nd=nd)\n",
        "  File \"/home/jotham/venvs/2014-12-20_datascibowl/lib/python2.7/site-packages/theano/sandbox/cuda/opt_util.py\", line 18, in grab_cpu_scalar\n",
        "    return host_from_gpu(n.inputs[0])\n",
        "NameError: global name 'host_from_gpu' is not defined\n",
        "\n"
       ]
      },
      {
       "output_type": "stream",
       "stream": "stderr",
       "text": [
        "ERROR:theano.gof.opt:Traceback (most recent call last):\n",
        "  File \"/home/jotham/venvs/2014-12-20_datascibowl/lib/python2.7/site-packages/theano/gof/opt.py\", line 1493, in process_node\n",
        "    replacements = lopt.transform(node)\n",
        "  File \"/home/jotham/venvs/2014-12-20_datascibowl/lib/python2.7/site-packages/theano/sandbox/cuda/opt_util.py\", line 56, in opt\n",
        "    lr = grab_cpu_scalar(node.inputs[0], nd=nd)\n",
        "  File \"/home/jotham/venvs/2014-12-20_datascibowl/lib/python2.7/site-packages/theano/sandbox/cuda/opt_util.py\", line 18, in grab_cpu_scalar\n",
        "    return host_from_gpu(n.inputs[0])\n",
        "NameError: global name 'host_from_gpu' is not defined\n",
        "\n"
       ]
      },
      {
       "output_type": "stream",
       "stream": "stderr",
       "text": [
        "ERROR (theano.gof.opt): Optimization failure due to: local_dnn_convw_alpha_merge\n"
       ]
      },
      {
       "output_type": "stream",
       "stream": "stderr",
       "text": [
        "ERROR:theano.gof.opt:Optimization failure due to: local_dnn_convw_alpha_merge\n"
       ]
      },
      {
       "output_type": "stream",
       "stream": "stderr",
       "text": [
        "ERROR (theano.gof.opt): TRACEBACK:\n"
       ]
      },
      {
       "output_type": "stream",
       "stream": "stderr",
       "text": [
        "ERROR:theano.gof.opt:TRACEBACK:\n"
       ]
      },
      {
       "output_type": "stream",
       "stream": "stderr",
       "text": [
        "ERROR (theano.gof.opt): Traceback (most recent call last):\n",
        "  File \"/home/jotham/venvs/2014-12-20_datascibowl/lib/python2.7/site-packages/theano/gof/opt.py\", line 1493, in process_node\n",
        "    replacements = lopt.transform(node)\n",
        "  File \"/home/jotham/venvs/2014-12-20_datascibowl/lib/python2.7/site-packages/theano/sandbox/cuda/opt_util.py\", line 56, in opt\n",
        "    lr = grab_cpu_scalar(node.inputs[0], nd=nd)\n",
        "  File \"/home/jotham/venvs/2014-12-20_datascibowl/lib/python2.7/site-packages/theano/sandbox/cuda/opt_util.py\", line 18, in grab_cpu_scalar\n",
        "    return host_from_gpu(n.inputs[0])\n",
        "NameError: global name 'host_from_gpu' is not defined\n",
        "\n"
       ]
      },
      {
       "output_type": "stream",
       "stream": "stderr",
       "text": [
        "ERROR:theano.gof.opt:Traceback (most recent call last):\n",
        "  File \"/home/jotham/venvs/2014-12-20_datascibowl/lib/python2.7/site-packages/theano/gof/opt.py\", line 1493, in process_node\n",
        "    replacements = lopt.transform(node)\n",
        "  File \"/home/jotham/venvs/2014-12-20_datascibowl/lib/python2.7/site-packages/theano/sandbox/cuda/opt_util.py\", line 56, in opt\n",
        "    lr = grab_cpu_scalar(node.inputs[0], nd=nd)\n",
        "  File \"/home/jotham/venvs/2014-12-20_datascibowl/lib/python2.7/site-packages/theano/sandbox/cuda/opt_util.py\", line 18, in grab_cpu_scalar\n",
        "    return host_from_gpu(n.inputs[0])\n",
        "NameError: global name 'host_from_gpu' is not defined\n",
        "\n"
       ]
      },
      {
       "output_type": "stream",
       "stream": "stderr",
       "text": [
        "ERROR (theano.gof.opt): Optimization failure due to: local_dnn_convi_alpha_merge\n"
       ]
      },
      {
       "output_type": "stream",
       "stream": "stderr",
       "text": [
        "ERROR:theano.gof.opt:Optimization failure due to: local_dnn_convi_alpha_merge\n"
       ]
      },
      {
       "output_type": "stream",
       "stream": "stderr",
       "text": [
        "ERROR (theano.gof.opt): TRACEBACK:\n"
       ]
      },
      {
       "output_type": "stream",
       "stream": "stderr",
       "text": [
        "ERROR:theano.gof.opt:TRACEBACK:\n"
       ]
      },
      {
       "output_type": "stream",
       "stream": "stderr",
       "text": [
        "ERROR (theano.gof.opt): Traceback (most recent call last):\n",
        "  File \"/home/jotham/venvs/2014-12-20_datascibowl/lib/python2.7/site-packages/theano/gof/opt.py\", line 1493, in process_node\n",
        "    replacements = lopt.transform(node)\n",
        "  File \"/home/jotham/venvs/2014-12-20_datascibowl/lib/python2.7/site-packages/theano/sandbox/cuda/opt_util.py\", line 56, in opt\n",
        "    lr = grab_cpu_scalar(node.inputs[0], nd=nd)\n",
        "  File \"/home/jotham/venvs/2014-12-20_datascibowl/lib/python2.7/site-packages/theano/sandbox/cuda/opt_util.py\", line 18, in grab_cpu_scalar\n",
        "    return host_from_gpu(n.inputs[0])\n",
        "NameError: global name 'host_from_gpu' is not defined\n",
        "\n"
       ]
      },
      {
       "output_type": "stream",
       "stream": "stderr",
       "text": [
        "ERROR:theano.gof.opt:Traceback (most recent call last):\n",
        "  File \"/home/jotham/venvs/2014-12-20_datascibowl/lib/python2.7/site-packages/theano/gof/opt.py\", line 1493, in process_node\n",
        "    replacements = lopt.transform(node)\n",
        "  File \"/home/jotham/venvs/2014-12-20_datascibowl/lib/python2.7/site-packages/theano/sandbox/cuda/opt_util.py\", line 56, in opt\n",
        "    lr = grab_cpu_scalar(node.inputs[0], nd=nd)\n",
        "  File \"/home/jotham/venvs/2014-12-20_datascibowl/lib/python2.7/site-packages/theano/sandbox/cuda/opt_util.py\", line 18, in grab_cpu_scalar\n",
        "    return host_from_gpu(n.inputs[0])\n",
        "NameError: global name 'host_from_gpu' is not defined\n",
        "\n"
       ]
      },
      {
       "output_type": "stream",
       "stream": "stderr",
       "text": [
        "ERROR (theano.gof.opt): Optimization failure due to: local_dnn_conv_alpha_merge\n"
       ]
      },
      {
       "output_type": "stream",
       "stream": "stderr",
       "text": [
        "ERROR:theano.gof.opt:Optimization failure due to: local_dnn_conv_alpha_merge\n"
       ]
      },
      {
       "output_type": "stream",
       "stream": "stderr",
       "text": [
        "ERROR (theano.gof.opt): TRACEBACK:\n"
       ]
      },
      {
       "output_type": "stream",
       "stream": "stderr",
       "text": [
        "ERROR:theano.gof.opt:TRACEBACK:\n"
       ]
      },
      {
       "output_type": "stream",
       "stream": "stderr",
       "text": [
        "ERROR (theano.gof.opt): Traceback (most recent call last):\n",
        "  File \"/home/jotham/venvs/2014-12-20_datascibowl/lib/python2.7/site-packages/theano/gof/opt.py\", line 1493, in process_node\n",
        "    replacements = lopt.transform(node)\n",
        "  File \"/home/jotham/venvs/2014-12-20_datascibowl/lib/python2.7/site-packages/theano/sandbox/cuda/opt_util.py\", line 56, in opt\n",
        "    lr = grab_cpu_scalar(node.inputs[0], nd=nd)\n",
        "  File \"/home/jotham/venvs/2014-12-20_datascibowl/lib/python2.7/site-packages/theano/sandbox/cuda/opt_util.py\", line 18, in grab_cpu_scalar\n",
        "    return host_from_gpu(n.inputs[0])\n",
        "NameError: global name 'host_from_gpu' is not defined\n",
        "\n"
       ]
      },
      {
       "output_type": "stream",
       "stream": "stderr",
       "text": [
        "ERROR:theano.gof.opt:Traceback (most recent call last):\n",
        "  File \"/home/jotham/venvs/2014-12-20_datascibowl/lib/python2.7/site-packages/theano/gof/opt.py\", line 1493, in process_node\n",
        "    replacements = lopt.transform(node)\n",
        "  File \"/home/jotham/venvs/2014-12-20_datascibowl/lib/python2.7/site-packages/theano/sandbox/cuda/opt_util.py\", line 56, in opt\n",
        "    lr = grab_cpu_scalar(node.inputs[0], nd=nd)\n",
        "  File \"/home/jotham/venvs/2014-12-20_datascibowl/lib/python2.7/site-packages/theano/sandbox/cuda/opt_util.py\", line 18, in grab_cpu_scalar\n",
        "    return host_from_gpu(n.inputs[0])\n",
        "NameError: global name 'host_from_gpu' is not defined\n",
        "\n"
       ]
      },
      {
       "output_type": "stream",
       "stream": "stderr",
       "text": [
        "ERROR (theano.gof.opt): Optimization failure due to: local_dnn_convw_alpha_merge\n"
       ]
      },
      {
       "output_type": "stream",
       "stream": "stderr",
       "text": [
        "ERROR:theano.gof.opt:Optimization failure due to: local_dnn_convw_alpha_merge\n"
       ]
      },
      {
       "output_type": "stream",
       "stream": "stderr",
       "text": [
        "ERROR (theano.gof.opt): TRACEBACK:\n"
       ]
      },
      {
       "output_type": "stream",
       "stream": "stderr",
       "text": [
        "ERROR:theano.gof.opt:TRACEBACK:\n"
       ]
      },
      {
       "output_type": "stream",
       "stream": "stderr",
       "text": [
        "ERROR (theano.gof.opt): Traceback (most recent call last):\n",
        "  File \"/home/jotham/venvs/2014-12-20_datascibowl/lib/python2.7/site-packages/theano/gof/opt.py\", line 1493, in process_node\n",
        "    replacements = lopt.transform(node)\n",
        "  File \"/home/jotham/venvs/2014-12-20_datascibowl/lib/python2.7/site-packages/theano/sandbox/cuda/opt_util.py\", line 56, in opt\n",
        "    lr = grab_cpu_scalar(node.inputs[0], nd=nd)\n",
        "  File \"/home/jotham/venvs/2014-12-20_datascibowl/lib/python2.7/site-packages/theano/sandbox/cuda/opt_util.py\", line 18, in grab_cpu_scalar\n",
        "    return host_from_gpu(n.inputs[0])\n",
        "NameError: global name 'host_from_gpu' is not defined\n",
        "\n"
       ]
      },
      {
       "output_type": "stream",
       "stream": "stderr",
       "text": [
        "ERROR:theano.gof.opt:Traceback (most recent call last):\n",
        "  File \"/home/jotham/venvs/2014-12-20_datascibowl/lib/python2.7/site-packages/theano/gof/opt.py\", line 1493, in process_node\n",
        "    replacements = lopt.transform(node)\n",
        "  File \"/home/jotham/venvs/2014-12-20_datascibowl/lib/python2.7/site-packages/theano/sandbox/cuda/opt_util.py\", line 56, in opt\n",
        "    lr = grab_cpu_scalar(node.inputs[0], nd=nd)\n",
        "  File \"/home/jotham/venvs/2014-12-20_datascibowl/lib/python2.7/site-packages/theano/sandbox/cuda/opt_util.py\", line 18, in grab_cpu_scalar\n",
        "    return host_from_gpu(n.inputs[0])\n",
        "NameError: global name 'host_from_gpu' is not defined\n",
        "\n"
       ]
      },
      {
       "output_type": "stream",
       "stream": "stderr",
       "text": [
        "ERROR (theano.gof.opt): Optimization failure due to: local_dnn_convi_alpha_merge\n"
       ]
      },
      {
       "output_type": "stream",
       "stream": "stderr",
       "text": [
        "ERROR:theano.gof.opt:Optimization failure due to: local_dnn_convi_alpha_merge\n"
       ]
      },
      {
       "output_type": "stream",
       "stream": "stderr",
       "text": [
        "ERROR (theano.gof.opt): TRACEBACK:\n"
       ]
      },
      {
       "output_type": "stream",
       "stream": "stderr",
       "text": [
        "ERROR:theano.gof.opt:TRACEBACK:\n"
       ]
      },
      {
       "output_type": "stream",
       "stream": "stderr",
       "text": [
        "ERROR (theano.gof.opt): Traceback (most recent call last):\n",
        "  File \"/home/jotham/venvs/2014-12-20_datascibowl/lib/python2.7/site-packages/theano/gof/opt.py\", line 1493, in process_node\n",
        "    replacements = lopt.transform(node)\n",
        "  File \"/home/jotham/venvs/2014-12-20_datascibowl/lib/python2.7/site-packages/theano/sandbox/cuda/opt_util.py\", line 56, in opt\n",
        "    lr = grab_cpu_scalar(node.inputs[0], nd=nd)\n",
        "  File \"/home/jotham/venvs/2014-12-20_datascibowl/lib/python2.7/site-packages/theano/sandbox/cuda/opt_util.py\", line 18, in grab_cpu_scalar\n",
        "    return host_from_gpu(n.inputs[0])\n",
        "NameError: global name 'host_from_gpu' is not defined\n",
        "\n"
       ]
      },
      {
       "output_type": "stream",
       "stream": "stderr",
       "text": [
        "ERROR:theano.gof.opt:Traceback (most recent call last):\n",
        "  File \"/home/jotham/venvs/2014-12-20_datascibowl/lib/python2.7/site-packages/theano/gof/opt.py\", line 1493, in process_node\n",
        "    replacements = lopt.transform(node)\n",
        "  File \"/home/jotham/venvs/2014-12-20_datascibowl/lib/python2.7/site-packages/theano/sandbox/cuda/opt_util.py\", line 56, in opt\n",
        "    lr = grab_cpu_scalar(node.inputs[0], nd=nd)\n",
        "  File \"/home/jotham/venvs/2014-12-20_datascibowl/lib/python2.7/site-packages/theano/sandbox/cuda/opt_util.py\", line 18, in grab_cpu_scalar\n",
        "    return host_from_gpu(n.inputs[0])\n",
        "NameError: global name 'host_from_gpu' is not defined\n",
        "\n"
       ]
      },
      {
       "output_type": "stream",
       "stream": "stderr",
       "text": [
        "ERROR (theano.gof.opt): Optimization failure due to: local_dnn_conv_alpha_merge\n"
       ]
      },
      {
       "output_type": "stream",
       "stream": "stderr",
       "text": [
        "ERROR:theano.gof.opt:Optimization failure due to: local_dnn_conv_alpha_merge\n"
       ]
      },
      {
       "output_type": "stream",
       "stream": "stderr",
       "text": [
        "ERROR (theano.gof.opt): TRACEBACK:\n"
       ]
      },
      {
       "output_type": "stream",
       "stream": "stderr",
       "text": [
        "ERROR:theano.gof.opt:TRACEBACK:\n"
       ]
      },
      {
       "output_type": "stream",
       "stream": "stderr",
       "text": [
        "ERROR (theano.gof.opt): Traceback (most recent call last):\n",
        "  File \"/home/jotham/venvs/2014-12-20_datascibowl/lib/python2.7/site-packages/theano/gof/opt.py\", line 1493, in process_node\n",
        "    replacements = lopt.transform(node)\n",
        "  File \"/home/jotham/venvs/2014-12-20_datascibowl/lib/python2.7/site-packages/theano/sandbox/cuda/opt_util.py\", line 56, in opt\n",
        "    lr = grab_cpu_scalar(node.inputs[0], nd=nd)\n",
        "  File \"/home/jotham/venvs/2014-12-20_datascibowl/lib/python2.7/site-packages/theano/sandbox/cuda/opt_util.py\", line 18, in grab_cpu_scalar\n",
        "    return host_from_gpu(n.inputs[0])\n",
        "NameError: global name 'host_from_gpu' is not defined\n",
        "\n"
       ]
      },
      {
       "output_type": "stream",
       "stream": "stderr",
       "text": [
        "ERROR:theano.gof.opt:Traceback (most recent call last):\n",
        "  File \"/home/jotham/venvs/2014-12-20_datascibowl/lib/python2.7/site-packages/theano/gof/opt.py\", line 1493, in process_node\n",
        "    replacements = lopt.transform(node)\n",
        "  File \"/home/jotham/venvs/2014-12-20_datascibowl/lib/python2.7/site-packages/theano/sandbox/cuda/opt_util.py\", line 56, in opt\n",
        "    lr = grab_cpu_scalar(node.inputs[0], nd=nd)\n",
        "  File \"/home/jotham/venvs/2014-12-20_datascibowl/lib/python2.7/site-packages/theano/sandbox/cuda/opt_util.py\", line 18, in grab_cpu_scalar\n",
        "    return host_from_gpu(n.inputs[0])\n",
        "NameError: global name 'host_from_gpu' is not defined\n",
        "\n"
       ]
      },
      {
       "output_type": "stream",
       "stream": "stderr",
       "text": [
        "ERROR (theano.gof.opt): Optimization failure due to: local_dnn_convw_alpha_merge\n"
       ]
      },
      {
       "output_type": "stream",
       "stream": "stderr",
       "text": [
        "ERROR:theano.gof.opt:Optimization failure due to: local_dnn_convw_alpha_merge\n"
       ]
      },
      {
       "output_type": "stream",
       "stream": "stderr",
       "text": [
        "ERROR (theano.gof.opt): TRACEBACK:\n"
       ]
      },
      {
       "output_type": "stream",
       "stream": "stderr",
       "text": [
        "ERROR:theano.gof.opt:TRACEBACK:\n"
       ]
      },
      {
       "output_type": "stream",
       "stream": "stderr",
       "text": [
        "ERROR (theano.gof.opt): Traceback (most recent call last):\n",
        "  File \"/home/jotham/venvs/2014-12-20_datascibowl/lib/python2.7/site-packages/theano/gof/opt.py\", line 1493, in process_node\n",
        "    replacements = lopt.transform(node)\n",
        "  File \"/home/jotham/venvs/2014-12-20_datascibowl/lib/python2.7/site-packages/theano/sandbox/cuda/opt_util.py\", line 56, in opt\n",
        "    lr = grab_cpu_scalar(node.inputs[0], nd=nd)\n",
        "  File \"/home/jotham/venvs/2014-12-20_datascibowl/lib/python2.7/site-packages/theano/sandbox/cuda/opt_util.py\", line 18, in grab_cpu_scalar\n",
        "    return host_from_gpu(n.inputs[0])\n",
        "NameError: global name 'host_from_gpu' is not defined\n",
        "\n"
       ]
      },
      {
       "output_type": "stream",
       "stream": "stderr",
       "text": [
        "ERROR:theano.gof.opt:Traceback (most recent call last):\n",
        "  File \"/home/jotham/venvs/2014-12-20_datascibowl/lib/python2.7/site-packages/theano/gof/opt.py\", line 1493, in process_node\n",
        "    replacements = lopt.transform(node)\n",
        "  File \"/home/jotham/venvs/2014-12-20_datascibowl/lib/python2.7/site-packages/theano/sandbox/cuda/opt_util.py\", line 56, in opt\n",
        "    lr = grab_cpu_scalar(node.inputs[0], nd=nd)\n",
        "  File \"/home/jotham/venvs/2014-12-20_datascibowl/lib/python2.7/site-packages/theano/sandbox/cuda/opt_util.py\", line 18, in grab_cpu_scalar\n",
        "    return host_from_gpu(n.inputs[0])\n",
        "NameError: global name 'host_from_gpu' is not defined\n",
        "\n"
       ]
      },
      {
       "output_type": "stream",
       "stream": "stderr",
       "text": [
        "ERROR (theano.gof.opt): Optimization failure due to: local_dnn_convi_alpha_merge\n"
       ]
      },
      {
       "output_type": "stream",
       "stream": "stderr",
       "text": [
        "ERROR:theano.gof.opt:Optimization failure due to: local_dnn_convi_alpha_merge\n"
       ]
      },
      {
       "output_type": "stream",
       "stream": "stderr",
       "text": [
        "ERROR (theano.gof.opt): TRACEBACK:\n"
       ]
      },
      {
       "output_type": "stream",
       "stream": "stderr",
       "text": [
        "ERROR:theano.gof.opt:TRACEBACK:\n"
       ]
      },
      {
       "output_type": "stream",
       "stream": "stderr",
       "text": [
        "ERROR (theano.gof.opt): Traceback (most recent call last):\n",
        "  File \"/home/jotham/venvs/2014-12-20_datascibowl/lib/python2.7/site-packages/theano/gof/opt.py\", line 1493, in process_node\n",
        "    replacements = lopt.transform(node)\n",
        "  File \"/home/jotham/venvs/2014-12-20_datascibowl/lib/python2.7/site-packages/theano/sandbox/cuda/opt_util.py\", line 56, in opt\n",
        "    lr = grab_cpu_scalar(node.inputs[0], nd=nd)\n",
        "  File \"/home/jotham/venvs/2014-12-20_datascibowl/lib/python2.7/site-packages/theano/sandbox/cuda/opt_util.py\", line 18, in grab_cpu_scalar\n",
        "    return host_from_gpu(n.inputs[0])\n",
        "NameError: global name 'host_from_gpu' is not defined\n",
        "\n"
       ]
      },
      {
       "output_type": "stream",
       "stream": "stderr",
       "text": [
        "ERROR:theano.gof.opt:Traceback (most recent call last):\n",
        "  File \"/home/jotham/venvs/2014-12-20_datascibowl/lib/python2.7/site-packages/theano/gof/opt.py\", line 1493, in process_node\n",
        "    replacements = lopt.transform(node)\n",
        "  File \"/home/jotham/venvs/2014-12-20_datascibowl/lib/python2.7/site-packages/theano/sandbox/cuda/opt_util.py\", line 56, in opt\n",
        "    lr = grab_cpu_scalar(node.inputs[0], nd=nd)\n",
        "  File \"/home/jotham/venvs/2014-12-20_datascibowl/lib/python2.7/site-packages/theano/sandbox/cuda/opt_util.py\", line 18, in grab_cpu_scalar\n",
        "    return host_from_gpu(n.inputs[0])\n",
        "NameError: global name 'host_from_gpu' is not defined\n",
        "\n"
       ]
      },
      {
       "output_type": "stream",
       "stream": "stderr",
       "text": [
        "ERROR (theano.gof.opt): Optimization failure due to: local_dnn_conv_alpha_merge\n"
       ]
      },
      {
       "output_type": "stream",
       "stream": "stderr",
       "text": [
        "ERROR:theano.gof.opt:Optimization failure due to: local_dnn_conv_alpha_merge\n"
       ]
      },
      {
       "output_type": "stream",
       "stream": "stderr",
       "text": [
        "ERROR (theano.gof.opt): TRACEBACK:\n"
       ]
      },
      {
       "output_type": "stream",
       "stream": "stderr",
       "text": [
        "ERROR:theano.gof.opt:TRACEBACK:\n"
       ]
      },
      {
       "output_type": "stream",
       "stream": "stderr",
       "text": [
        "ERROR (theano.gof.opt): Traceback (most recent call last):\n",
        "  File \"/home/jotham/venvs/2014-12-20_datascibowl/lib/python2.7/site-packages/theano/gof/opt.py\", line 1493, in process_node\n",
        "    replacements = lopt.transform(node)\n",
        "  File \"/home/jotham/venvs/2014-12-20_datascibowl/lib/python2.7/site-packages/theano/sandbox/cuda/opt_util.py\", line 56, in opt\n",
        "    lr = grab_cpu_scalar(node.inputs[0], nd=nd)\n",
        "  File \"/home/jotham/venvs/2014-12-20_datascibowl/lib/python2.7/site-packages/theano/sandbox/cuda/opt_util.py\", line 18, in grab_cpu_scalar\n",
        "    return host_from_gpu(n.inputs[0])\n",
        "NameError: global name 'host_from_gpu' is not defined\n",
        "\n"
       ]
      },
      {
       "output_type": "stream",
       "stream": "stderr",
       "text": [
        "ERROR:theano.gof.opt:Traceback (most recent call last):\n",
        "  File \"/home/jotham/venvs/2014-12-20_datascibowl/lib/python2.7/site-packages/theano/gof/opt.py\", line 1493, in process_node\n",
        "    replacements = lopt.transform(node)\n",
        "  File \"/home/jotham/venvs/2014-12-20_datascibowl/lib/python2.7/site-packages/theano/sandbox/cuda/opt_util.py\", line 56, in opt\n",
        "    lr = grab_cpu_scalar(node.inputs[0], nd=nd)\n",
        "  File \"/home/jotham/venvs/2014-12-20_datascibowl/lib/python2.7/site-packages/theano/sandbox/cuda/opt_util.py\", line 18, in grab_cpu_scalar\n",
        "    return host_from_gpu(n.inputs[0])\n",
        "NameError: global name 'host_from_gpu' is not defined\n",
        "\n"
       ]
      },
      {
       "output_type": "stream",
       "stream": "stderr",
       "text": [
        "ERROR (theano.gof.opt): Optimization failure due to: local_dnn_convw_alpha_merge\n"
       ]
      },
      {
       "output_type": "stream",
       "stream": "stderr",
       "text": [
        "ERROR:theano.gof.opt:Optimization failure due to: local_dnn_convw_alpha_merge\n"
       ]
      },
      {
       "output_type": "stream",
       "stream": "stderr",
       "text": [
        "ERROR (theano.gof.opt): TRACEBACK:\n"
       ]
      },
      {
       "output_type": "stream",
       "stream": "stderr",
       "text": [
        "ERROR:theano.gof.opt:TRACEBACK:\n"
       ]
      },
      {
       "output_type": "stream",
       "stream": "stderr",
       "text": [
        "ERROR (theano.gof.opt): Traceback (most recent call last):\n",
        "  File \"/home/jotham/venvs/2014-12-20_datascibowl/lib/python2.7/site-packages/theano/gof/opt.py\", line 1493, in process_node\n",
        "    replacements = lopt.transform(node)\n",
        "  File \"/home/jotham/venvs/2014-12-20_datascibowl/lib/python2.7/site-packages/theano/sandbox/cuda/opt_util.py\", line 56, in opt\n",
        "    lr = grab_cpu_scalar(node.inputs[0], nd=nd)\n",
        "  File \"/home/jotham/venvs/2014-12-20_datascibowl/lib/python2.7/site-packages/theano/sandbox/cuda/opt_util.py\", line 18, in grab_cpu_scalar\n",
        "    return host_from_gpu(n.inputs[0])\n",
        "NameError: global name 'host_from_gpu' is not defined\n",
        "\n"
       ]
      },
      {
       "output_type": "stream",
       "stream": "stderr",
       "text": [
        "ERROR:theano.gof.opt:Traceback (most recent call last):\n",
        "  File \"/home/jotham/venvs/2014-12-20_datascibowl/lib/python2.7/site-packages/theano/gof/opt.py\", line 1493, in process_node\n",
        "    replacements = lopt.transform(node)\n",
        "  File \"/home/jotham/venvs/2014-12-20_datascibowl/lib/python2.7/site-packages/theano/sandbox/cuda/opt_util.py\", line 56, in opt\n",
        "    lr = grab_cpu_scalar(node.inputs[0], nd=nd)\n",
        "  File \"/home/jotham/venvs/2014-12-20_datascibowl/lib/python2.7/site-packages/theano/sandbox/cuda/opt_util.py\", line 18, in grab_cpu_scalar\n",
        "    return host_from_gpu(n.inputs[0])\n",
        "NameError: global name 'host_from_gpu' is not defined\n",
        "\n"
       ]
      },
      {
       "output_type": "stream",
       "stream": "stderr",
       "text": [
        "ERROR (theano.gof.opt): Optimization failure due to: local_dnn_convi_alpha_merge\n"
       ]
      },
      {
       "output_type": "stream",
       "stream": "stderr",
       "text": [
        "ERROR:theano.gof.opt:Optimization failure due to: local_dnn_convi_alpha_merge\n"
       ]
      },
      {
       "output_type": "stream",
       "stream": "stderr",
       "text": [
        "ERROR (theano.gof.opt): TRACEBACK:\n"
       ]
      },
      {
       "output_type": "stream",
       "stream": "stderr",
       "text": [
        "ERROR:theano.gof.opt:TRACEBACK:\n"
       ]
      },
      {
       "output_type": "stream",
       "stream": "stderr",
       "text": [
        "ERROR (theano.gof.opt): Traceback (most recent call last):\n",
        "  File \"/home/jotham/venvs/2014-12-20_datascibowl/lib/python2.7/site-packages/theano/gof/opt.py\", line 1493, in process_node\n",
        "    replacements = lopt.transform(node)\n",
        "  File \"/home/jotham/venvs/2014-12-20_datascibowl/lib/python2.7/site-packages/theano/sandbox/cuda/opt_util.py\", line 56, in opt\n",
        "    lr = grab_cpu_scalar(node.inputs[0], nd=nd)\n",
        "  File \"/home/jotham/venvs/2014-12-20_datascibowl/lib/python2.7/site-packages/theano/sandbox/cuda/opt_util.py\", line 18, in grab_cpu_scalar\n",
        "    return host_from_gpu(n.inputs[0])\n",
        "NameError: global name 'host_from_gpu' is not defined\n",
        "\n"
       ]
      },
      {
       "output_type": "stream",
       "stream": "stderr",
       "text": [
        "ERROR:theano.gof.opt:Traceback (most recent call last):\n",
        "  File \"/home/jotham/venvs/2014-12-20_datascibowl/lib/python2.7/site-packages/theano/gof/opt.py\", line 1493, in process_node\n",
        "    replacements = lopt.transform(node)\n",
        "  File \"/home/jotham/venvs/2014-12-20_datascibowl/lib/python2.7/site-packages/theano/sandbox/cuda/opt_util.py\", line 56, in opt\n",
        "    lr = grab_cpu_scalar(node.inputs[0], nd=nd)\n",
        "  File \"/home/jotham/venvs/2014-12-20_datascibowl/lib/python2.7/site-packages/theano/sandbox/cuda/opt_util.py\", line 18, in grab_cpu_scalar\n",
        "    return host_from_gpu(n.inputs[0])\n",
        "NameError: global name 'host_from_gpu' is not defined\n",
        "\n"
       ]
      },
      {
       "output_type": "stream",
       "stream": "stderr",
       "text": [
        "ERROR (theano.gof.opt): Optimization failure due to: local_dnn_conv_alpha_merge\n"
       ]
      },
      {
       "output_type": "stream",
       "stream": "stderr",
       "text": [
        "ERROR:theano.gof.opt:Optimization failure due to: local_dnn_conv_alpha_merge\n"
       ]
      },
      {
       "output_type": "stream",
       "stream": "stderr",
       "text": [
        "ERROR (theano.gof.opt): TRACEBACK:\n"
       ]
      },
      {
       "output_type": "stream",
       "stream": "stderr",
       "text": [
        "ERROR:theano.gof.opt:TRACEBACK:\n"
       ]
      },
      {
       "output_type": "stream",
       "stream": "stderr",
       "text": [
        "ERROR (theano.gof.opt): Traceback (most recent call last):\n",
        "  File \"/home/jotham/venvs/2014-12-20_datascibowl/lib/python2.7/site-packages/theano/gof/opt.py\", line 1493, in process_node\n",
        "    replacements = lopt.transform(node)\n",
        "  File \"/home/jotham/venvs/2014-12-20_datascibowl/lib/python2.7/site-packages/theano/sandbox/cuda/opt_util.py\", line 56, in opt\n",
        "    lr = grab_cpu_scalar(node.inputs[0], nd=nd)\n",
        "  File \"/home/jotham/venvs/2014-12-20_datascibowl/lib/python2.7/site-packages/theano/sandbox/cuda/opt_util.py\", line 18, in grab_cpu_scalar\n",
        "    return host_from_gpu(n.inputs[0])\n",
        "NameError: global name 'host_from_gpu' is not defined\n",
        "\n"
       ]
      },
      {
       "output_type": "stream",
       "stream": "stderr",
       "text": [
        "ERROR:theano.gof.opt:Traceback (most recent call last):\n",
        "  File \"/home/jotham/venvs/2014-12-20_datascibowl/lib/python2.7/site-packages/theano/gof/opt.py\", line 1493, in process_node\n",
        "    replacements = lopt.transform(node)\n",
        "  File \"/home/jotham/venvs/2014-12-20_datascibowl/lib/python2.7/site-packages/theano/sandbox/cuda/opt_util.py\", line 56, in opt\n",
        "    lr = grab_cpu_scalar(node.inputs[0], nd=nd)\n",
        "  File \"/home/jotham/venvs/2014-12-20_datascibowl/lib/python2.7/site-packages/theano/sandbox/cuda/opt_util.py\", line 18, in grab_cpu_scalar\n",
        "    return host_from_gpu(n.inputs[0])\n",
        "NameError: global name 'host_from_gpu' is not defined\n",
        "\n"
       ]
      },
      {
       "output_type": "stream",
       "stream": "stderr",
       "text": [
        "ERROR (theano.gof.opt): Optimization failure due to: local_dnn_convw_alpha_merge\n"
       ]
      },
      {
       "output_type": "stream",
       "stream": "stderr",
       "text": [
        "ERROR:theano.gof.opt:Optimization failure due to: local_dnn_convw_alpha_merge\n"
       ]
      },
      {
       "output_type": "stream",
       "stream": "stderr",
       "text": [
        "ERROR (theano.gof.opt): TRACEBACK:\n"
       ]
      },
      {
       "output_type": "stream",
       "stream": "stderr",
       "text": [
        "ERROR:theano.gof.opt:TRACEBACK:\n"
       ]
      },
      {
       "output_type": "stream",
       "stream": "stderr",
       "text": [
        "ERROR (theano.gof.opt): Traceback (most recent call last):\n",
        "  File \"/home/jotham/venvs/2014-12-20_datascibowl/lib/python2.7/site-packages/theano/gof/opt.py\", line 1493, in process_node\n",
        "    replacements = lopt.transform(node)\n",
        "  File \"/home/jotham/venvs/2014-12-20_datascibowl/lib/python2.7/site-packages/theano/sandbox/cuda/opt_util.py\", line 56, in opt\n",
        "    lr = grab_cpu_scalar(node.inputs[0], nd=nd)\n",
        "  File \"/home/jotham/venvs/2014-12-20_datascibowl/lib/python2.7/site-packages/theano/sandbox/cuda/opt_util.py\", line 18, in grab_cpu_scalar\n",
        "    return host_from_gpu(n.inputs[0])\n",
        "NameError: global name 'host_from_gpu' is not defined\n",
        "\n"
       ]
      },
      {
       "output_type": "stream",
       "stream": "stderr",
       "text": [
        "ERROR:theano.gof.opt:Traceback (most recent call last):\n",
        "  File \"/home/jotham/venvs/2014-12-20_datascibowl/lib/python2.7/site-packages/theano/gof/opt.py\", line 1493, in process_node\n",
        "    replacements = lopt.transform(node)\n",
        "  File \"/home/jotham/venvs/2014-12-20_datascibowl/lib/python2.7/site-packages/theano/sandbox/cuda/opt_util.py\", line 56, in opt\n",
        "    lr = grab_cpu_scalar(node.inputs[0], nd=nd)\n",
        "  File \"/home/jotham/venvs/2014-12-20_datascibowl/lib/python2.7/site-packages/theano/sandbox/cuda/opt_util.py\", line 18, in grab_cpu_scalar\n",
        "    return host_from_gpu(n.inputs[0])\n",
        "NameError: global name 'host_from_gpu' is not defined\n",
        "\n"
       ]
      },
      {
       "output_type": "stream",
       "stream": "stderr",
       "text": [
        "ERROR (theano.gof.opt): Optimization failure due to: local_dnn_convi_alpha_merge\n"
       ]
      },
      {
       "output_type": "stream",
       "stream": "stderr",
       "text": [
        "ERROR:theano.gof.opt:Optimization failure due to: local_dnn_convi_alpha_merge\n"
       ]
      },
      {
       "output_type": "stream",
       "stream": "stderr",
       "text": [
        "ERROR (theano.gof.opt): TRACEBACK:\n"
       ]
      },
      {
       "output_type": "stream",
       "stream": "stderr",
       "text": [
        "ERROR:theano.gof.opt:TRACEBACK:\n"
       ]
      },
      {
       "output_type": "stream",
       "stream": "stderr",
       "text": [
        "ERROR (theano.gof.opt): Traceback (most recent call last):\n",
        "  File \"/home/jotham/venvs/2014-12-20_datascibowl/lib/python2.7/site-packages/theano/gof/opt.py\", line 1493, in process_node\n",
        "    replacements = lopt.transform(node)\n",
        "  File \"/home/jotham/venvs/2014-12-20_datascibowl/lib/python2.7/site-packages/theano/sandbox/cuda/opt_util.py\", line 56, in opt\n",
        "    lr = grab_cpu_scalar(node.inputs[0], nd=nd)\n",
        "  File \"/home/jotham/venvs/2014-12-20_datascibowl/lib/python2.7/site-packages/theano/sandbox/cuda/opt_util.py\", line 18, in grab_cpu_scalar\n",
        "    return host_from_gpu(n.inputs[0])\n",
        "NameError: global name 'host_from_gpu' is not defined\n",
        "\n"
       ]
      },
      {
       "output_type": "stream",
       "stream": "stderr",
       "text": [
        "ERROR:theano.gof.opt:Traceback (most recent call last):\n",
        "  File \"/home/jotham/venvs/2014-12-20_datascibowl/lib/python2.7/site-packages/theano/gof/opt.py\", line 1493, in process_node\n",
        "    replacements = lopt.transform(node)\n",
        "  File \"/home/jotham/venvs/2014-12-20_datascibowl/lib/python2.7/site-packages/theano/sandbox/cuda/opt_util.py\", line 56, in opt\n",
        "    lr = grab_cpu_scalar(node.inputs[0], nd=nd)\n",
        "  File \"/home/jotham/venvs/2014-12-20_datascibowl/lib/python2.7/site-packages/theano/sandbox/cuda/opt_util.py\", line 18, in grab_cpu_scalar\n",
        "    return host_from_gpu(n.inputs[0])\n",
        "NameError: global name 'host_from_gpu' is not defined\n",
        "\n"
       ]
      },
      {
       "output_type": "stream",
       "stream": "stderr",
       "text": [
        "ERROR (theano.gof.opt): Optimization failure due to: local_dnn_conv_alpha_merge\n"
       ]
      },
      {
       "output_type": "stream",
       "stream": "stderr",
       "text": [
        "ERROR:theano.gof.opt:Optimization failure due to: local_dnn_conv_alpha_merge\n"
       ]
      },
      {
       "output_type": "stream",
       "stream": "stderr",
       "text": [
        "ERROR (theano.gof.opt): TRACEBACK:\n"
       ]
      },
      {
       "output_type": "stream",
       "stream": "stderr",
       "text": [
        "ERROR:theano.gof.opt:TRACEBACK:\n"
       ]
      },
      {
       "output_type": "stream",
       "stream": "stderr",
       "text": [
        "ERROR (theano.gof.opt): Traceback (most recent call last):\n",
        "  File \"/home/jotham/venvs/2014-12-20_datascibowl/lib/python2.7/site-packages/theano/gof/opt.py\", line 1493, in process_node\n",
        "    replacements = lopt.transform(node)\n",
        "  File \"/home/jotham/venvs/2014-12-20_datascibowl/lib/python2.7/site-packages/theano/sandbox/cuda/opt_util.py\", line 56, in opt\n",
        "    lr = grab_cpu_scalar(node.inputs[0], nd=nd)\n",
        "  File \"/home/jotham/venvs/2014-12-20_datascibowl/lib/python2.7/site-packages/theano/sandbox/cuda/opt_util.py\", line 18, in grab_cpu_scalar\n",
        "    return host_from_gpu(n.inputs[0])\n",
        "NameError: global name 'host_from_gpu' is not defined\n",
        "\n"
       ]
      },
      {
       "output_type": "stream",
       "stream": "stderr",
       "text": [
        "ERROR:theano.gof.opt:Traceback (most recent call last):\n",
        "  File \"/home/jotham/venvs/2014-12-20_datascibowl/lib/python2.7/site-packages/theano/gof/opt.py\", line 1493, in process_node\n",
        "    replacements = lopt.transform(node)\n",
        "  File \"/home/jotham/venvs/2014-12-20_datascibowl/lib/python2.7/site-packages/theano/sandbox/cuda/opt_util.py\", line 56, in opt\n",
        "    lr = grab_cpu_scalar(node.inputs[0], nd=nd)\n",
        "  File \"/home/jotham/venvs/2014-12-20_datascibowl/lib/python2.7/site-packages/theano/sandbox/cuda/opt_util.py\", line 18, in grab_cpu_scalar\n",
        "    return host_from_gpu(n.inputs[0])\n",
        "NameError: global name 'host_from_gpu' is not defined\n",
        "\n"
       ]
      },
      {
       "output_type": "stream",
       "stream": "stderr",
       "text": [
        "ERROR (theano.gof.opt): Optimization failure due to: local_dnn_convw_alpha_merge\n"
       ]
      },
      {
       "output_type": "stream",
       "stream": "stderr",
       "text": [
        "ERROR:theano.gof.opt:Optimization failure due to: local_dnn_convw_alpha_merge\n"
       ]
      },
      {
       "output_type": "stream",
       "stream": "stderr",
       "text": [
        "ERROR (theano.gof.opt): TRACEBACK:\n"
       ]
      },
      {
       "output_type": "stream",
       "stream": "stderr",
       "text": [
        "ERROR:theano.gof.opt:TRACEBACK:\n"
       ]
      },
      {
       "output_type": "stream",
       "stream": "stderr",
       "text": [
        "ERROR (theano.gof.opt): Traceback (most recent call last):\n",
        "  File \"/home/jotham/venvs/2014-12-20_datascibowl/lib/python2.7/site-packages/theano/gof/opt.py\", line 1493, in process_node\n",
        "    replacements = lopt.transform(node)\n",
        "  File \"/home/jotham/venvs/2014-12-20_datascibowl/lib/python2.7/site-packages/theano/sandbox/cuda/opt_util.py\", line 56, in opt\n",
        "    lr = grab_cpu_scalar(node.inputs[0], nd=nd)\n",
        "  File \"/home/jotham/venvs/2014-12-20_datascibowl/lib/python2.7/site-packages/theano/sandbox/cuda/opt_util.py\", line 18, in grab_cpu_scalar\n",
        "    return host_from_gpu(n.inputs[0])\n",
        "NameError: global name 'host_from_gpu' is not defined\n",
        "\n"
       ]
      },
      {
       "output_type": "stream",
       "stream": "stderr",
       "text": [
        "ERROR:theano.gof.opt:Traceback (most recent call last):\n",
        "  File \"/home/jotham/venvs/2014-12-20_datascibowl/lib/python2.7/site-packages/theano/gof/opt.py\", line 1493, in process_node\n",
        "    replacements = lopt.transform(node)\n",
        "  File \"/home/jotham/venvs/2014-12-20_datascibowl/lib/python2.7/site-packages/theano/sandbox/cuda/opt_util.py\", line 56, in opt\n",
        "    lr = grab_cpu_scalar(node.inputs[0], nd=nd)\n",
        "  File \"/home/jotham/venvs/2014-12-20_datascibowl/lib/python2.7/site-packages/theano/sandbox/cuda/opt_util.py\", line 18, in grab_cpu_scalar\n",
        "    return host_from_gpu(n.inputs[0])\n",
        "NameError: global name 'host_from_gpu' is not defined\n",
        "\n"
       ]
      },
      {
       "output_type": "stream",
       "stream": "stderr",
       "text": [
        "ERROR (theano.gof.opt): Optimization failure due to: local_dnn_convi_alpha_merge\n"
       ]
      },
      {
       "output_type": "stream",
       "stream": "stderr",
       "text": [
        "ERROR:theano.gof.opt:Optimization failure due to: local_dnn_convi_alpha_merge\n"
       ]
      },
      {
       "output_type": "stream",
       "stream": "stderr",
       "text": [
        "ERROR (theano.gof.opt): TRACEBACK:\n"
       ]
      },
      {
       "output_type": "stream",
       "stream": "stderr",
       "text": [
        "ERROR:theano.gof.opt:TRACEBACK:\n"
       ]
      },
      {
       "output_type": "stream",
       "stream": "stderr",
       "text": [
        "ERROR (theano.gof.opt): Traceback (most recent call last):\n",
        "  File \"/home/jotham/venvs/2014-12-20_datascibowl/lib/python2.7/site-packages/theano/gof/opt.py\", line 1493, in process_node\n",
        "    replacements = lopt.transform(node)\n",
        "  File \"/home/jotham/venvs/2014-12-20_datascibowl/lib/python2.7/site-packages/theano/sandbox/cuda/opt_util.py\", line 56, in opt\n",
        "    lr = grab_cpu_scalar(node.inputs[0], nd=nd)\n",
        "  File \"/home/jotham/venvs/2014-12-20_datascibowl/lib/python2.7/site-packages/theano/sandbox/cuda/opt_util.py\", line 18, in grab_cpu_scalar\n",
        "    return host_from_gpu(n.inputs[0])\n",
        "NameError: global name 'host_from_gpu' is not defined\n",
        "\n"
       ]
      },
      {
       "output_type": "stream",
       "stream": "stderr",
       "text": [
        "ERROR:theano.gof.opt:Traceback (most recent call last):\n",
        "  File \"/home/jotham/venvs/2014-12-20_datascibowl/lib/python2.7/site-packages/theano/gof/opt.py\", line 1493, in process_node\n",
        "    replacements = lopt.transform(node)\n",
        "  File \"/home/jotham/venvs/2014-12-20_datascibowl/lib/python2.7/site-packages/theano/sandbox/cuda/opt_util.py\", line 56, in opt\n",
        "    lr = grab_cpu_scalar(node.inputs[0], nd=nd)\n",
        "  File \"/home/jotham/venvs/2014-12-20_datascibowl/lib/python2.7/site-packages/theano/sandbox/cuda/opt_util.py\", line 18, in grab_cpu_scalar\n",
        "    return host_from_gpu(n.inputs[0])\n",
        "NameError: global name 'host_from_gpu' is not defined\n",
        "\n"
       ]
      },
      {
       "output_type": "stream",
       "stream": "stderr",
       "text": [
        "ERROR (theano.gof.opt): Optimization failure due to: local_dnn_conv_alpha_merge\n"
       ]
      },
      {
       "output_type": "stream",
       "stream": "stderr",
       "text": [
        "ERROR:theano.gof.opt:Optimization failure due to: local_dnn_conv_alpha_merge\n"
       ]
      },
      {
       "output_type": "stream",
       "stream": "stderr",
       "text": [
        "ERROR (theano.gof.opt): TRACEBACK:\n"
       ]
      },
      {
       "output_type": "stream",
       "stream": "stderr",
       "text": [
        "ERROR:theano.gof.opt:TRACEBACK:\n"
       ]
      },
      {
       "output_type": "stream",
       "stream": "stderr",
       "text": [
        "ERROR (theano.gof.opt): Traceback (most recent call last):\n",
        "  File \"/home/jotham/venvs/2014-12-20_datascibowl/lib/python2.7/site-packages/theano/gof/opt.py\", line 1493, in process_node\n",
        "    replacements = lopt.transform(node)\n",
        "  File \"/home/jotham/venvs/2014-12-20_datascibowl/lib/python2.7/site-packages/theano/sandbox/cuda/opt_util.py\", line 56, in opt\n",
        "    lr = grab_cpu_scalar(node.inputs[0], nd=nd)\n",
        "  File \"/home/jotham/venvs/2014-12-20_datascibowl/lib/python2.7/site-packages/theano/sandbox/cuda/opt_util.py\", line 18, in grab_cpu_scalar\n",
        "    return host_from_gpu(n.inputs[0])\n",
        "NameError: global name 'host_from_gpu' is not defined\n",
        "\n"
       ]
      },
      {
       "output_type": "stream",
       "stream": "stderr",
       "text": [
        "ERROR:theano.gof.opt:Traceback (most recent call last):\n",
        "  File \"/home/jotham/venvs/2014-12-20_datascibowl/lib/python2.7/site-packages/theano/gof/opt.py\", line 1493, in process_node\n",
        "    replacements = lopt.transform(node)\n",
        "  File \"/home/jotham/venvs/2014-12-20_datascibowl/lib/python2.7/site-packages/theano/sandbox/cuda/opt_util.py\", line 56, in opt\n",
        "    lr = grab_cpu_scalar(node.inputs[0], nd=nd)\n",
        "  File \"/home/jotham/venvs/2014-12-20_datascibowl/lib/python2.7/site-packages/theano/sandbox/cuda/opt_util.py\", line 18, in grab_cpu_scalar\n",
        "    return host_from_gpu(n.inputs[0])\n",
        "NameError: global name 'host_from_gpu' is not defined\n",
        "\n"
       ]
      },
      {
       "output_type": "stream",
       "stream": "stderr",
       "text": [
        "ERROR (theano.gof.opt): Optimization failure due to: local_dnn_convw_alpha_merge\n"
       ]
      },
      {
       "output_type": "stream",
       "stream": "stderr",
       "text": [
        "ERROR:theano.gof.opt:Optimization failure due to: local_dnn_convw_alpha_merge\n"
       ]
      },
      {
       "output_type": "stream",
       "stream": "stderr",
       "text": [
        "ERROR (theano.gof.opt): TRACEBACK:\n"
       ]
      },
      {
       "output_type": "stream",
       "stream": "stderr",
       "text": [
        "ERROR:theano.gof.opt:TRACEBACK:\n"
       ]
      },
      {
       "output_type": "stream",
       "stream": "stderr",
       "text": [
        "ERROR (theano.gof.opt): Traceback (most recent call last):\n",
        "  File \"/home/jotham/venvs/2014-12-20_datascibowl/lib/python2.7/site-packages/theano/gof/opt.py\", line 1493, in process_node\n",
        "    replacements = lopt.transform(node)\n",
        "  File \"/home/jotham/venvs/2014-12-20_datascibowl/lib/python2.7/site-packages/theano/sandbox/cuda/opt_util.py\", line 56, in opt\n",
        "    lr = grab_cpu_scalar(node.inputs[0], nd=nd)\n",
        "  File \"/home/jotham/venvs/2014-12-20_datascibowl/lib/python2.7/site-packages/theano/sandbox/cuda/opt_util.py\", line 18, in grab_cpu_scalar\n",
        "    return host_from_gpu(n.inputs[0])\n",
        "NameError: global name 'host_from_gpu' is not defined\n",
        "\n"
       ]
      },
      {
       "output_type": "stream",
       "stream": "stderr",
       "text": [
        "ERROR:theano.gof.opt:Traceback (most recent call last):\n",
        "  File \"/home/jotham/venvs/2014-12-20_datascibowl/lib/python2.7/site-packages/theano/gof/opt.py\", line 1493, in process_node\n",
        "    replacements = lopt.transform(node)\n",
        "  File \"/home/jotham/venvs/2014-12-20_datascibowl/lib/python2.7/site-packages/theano/sandbox/cuda/opt_util.py\", line 56, in opt\n",
        "    lr = grab_cpu_scalar(node.inputs[0], nd=nd)\n",
        "  File \"/home/jotham/venvs/2014-12-20_datascibowl/lib/python2.7/site-packages/theano/sandbox/cuda/opt_util.py\", line 18, in grab_cpu_scalar\n",
        "    return host_from_gpu(n.inputs[0])\n",
        "NameError: global name 'host_from_gpu' is not defined\n",
        "\n"
       ]
      },
      {
       "output_type": "stream",
       "stream": "stderr",
       "text": [
        "ERROR (theano.gof.opt): Optimization failure due to: local_dnn_convi_alpha_merge\n"
       ]
      },
      {
       "output_type": "stream",
       "stream": "stderr",
       "text": [
        "ERROR:theano.gof.opt:Optimization failure due to: local_dnn_convi_alpha_merge\n"
       ]
      },
      {
       "output_type": "stream",
       "stream": "stderr",
       "text": [
        "ERROR (theano.gof.opt): TRACEBACK:\n"
       ]
      },
      {
       "output_type": "stream",
       "stream": "stderr",
       "text": [
        "ERROR:theano.gof.opt:TRACEBACK:\n"
       ]
      },
      {
       "output_type": "stream",
       "stream": "stderr",
       "text": [
        "ERROR (theano.gof.opt): Traceback (most recent call last):\n",
        "  File \"/home/jotham/venvs/2014-12-20_datascibowl/lib/python2.7/site-packages/theano/gof/opt.py\", line 1493, in process_node\n",
        "    replacements = lopt.transform(node)\n",
        "  File \"/home/jotham/venvs/2014-12-20_datascibowl/lib/python2.7/site-packages/theano/sandbox/cuda/opt_util.py\", line 56, in opt\n",
        "    lr = grab_cpu_scalar(node.inputs[0], nd=nd)\n",
        "  File \"/home/jotham/venvs/2014-12-20_datascibowl/lib/python2.7/site-packages/theano/sandbox/cuda/opt_util.py\", line 18, in grab_cpu_scalar\n",
        "    return host_from_gpu(n.inputs[0])\n",
        "NameError: global name 'host_from_gpu' is not defined\n",
        "\n"
       ]
      },
      {
       "output_type": "stream",
       "stream": "stderr",
       "text": [
        "ERROR:theano.gof.opt:Traceback (most recent call last):\n",
        "  File \"/home/jotham/venvs/2014-12-20_datascibowl/lib/python2.7/site-packages/theano/gof/opt.py\", line 1493, in process_node\n",
        "    replacements = lopt.transform(node)\n",
        "  File \"/home/jotham/venvs/2014-12-20_datascibowl/lib/python2.7/site-packages/theano/sandbox/cuda/opt_util.py\", line 56, in opt\n",
        "    lr = grab_cpu_scalar(node.inputs[0], nd=nd)\n",
        "  File \"/home/jotham/venvs/2014-12-20_datascibowl/lib/python2.7/site-packages/theano/sandbox/cuda/opt_util.py\", line 18, in grab_cpu_scalar\n",
        "    return host_from_gpu(n.inputs[0])\n",
        "NameError: global name 'host_from_gpu' is not defined\n",
        "\n"
       ]
      },
      {
       "output_type": "stream",
       "stream": "stderr",
       "text": [
        "ERROR (theano.gof.opt): Optimization failure due to: local_dnn_conv_alpha_merge\n"
       ]
      },
      {
       "output_type": "stream",
       "stream": "stderr",
       "text": [
        "ERROR:theano.gof.opt:Optimization failure due to: local_dnn_conv_alpha_merge\n"
       ]
      },
      {
       "output_type": "stream",
       "stream": "stderr",
       "text": [
        "ERROR (theano.gof.opt): TRACEBACK:\n"
       ]
      },
      {
       "output_type": "stream",
       "stream": "stderr",
       "text": [
        "ERROR:theano.gof.opt:TRACEBACK:\n"
       ]
      },
      {
       "output_type": "stream",
       "stream": "stderr",
       "text": [
        "ERROR (theano.gof.opt): Traceback (most recent call last):\n",
        "  File \"/home/jotham/venvs/2014-12-20_datascibowl/lib/python2.7/site-packages/theano/gof/opt.py\", line 1493, in process_node\n",
        "    replacements = lopt.transform(node)\n",
        "  File \"/home/jotham/venvs/2014-12-20_datascibowl/lib/python2.7/site-packages/theano/sandbox/cuda/opt_util.py\", line 56, in opt\n",
        "    lr = grab_cpu_scalar(node.inputs[0], nd=nd)\n",
        "  File \"/home/jotham/venvs/2014-12-20_datascibowl/lib/python2.7/site-packages/theano/sandbox/cuda/opt_util.py\", line 18, in grab_cpu_scalar\n",
        "    return host_from_gpu(n.inputs[0])\n",
        "NameError: global name 'host_from_gpu' is not defined\n",
        "\n"
       ]
      },
      {
       "output_type": "stream",
       "stream": "stderr",
       "text": [
        "ERROR:theano.gof.opt:Traceback (most recent call last):\n",
        "  File \"/home/jotham/venvs/2014-12-20_datascibowl/lib/python2.7/site-packages/theano/gof/opt.py\", line 1493, in process_node\n",
        "    replacements = lopt.transform(node)\n",
        "  File \"/home/jotham/venvs/2014-12-20_datascibowl/lib/python2.7/site-packages/theano/sandbox/cuda/opt_util.py\", line 56, in opt\n",
        "    lr = grab_cpu_scalar(node.inputs[0], nd=nd)\n",
        "  File \"/home/jotham/venvs/2014-12-20_datascibowl/lib/python2.7/site-packages/theano/sandbox/cuda/opt_util.py\", line 18, in grab_cpu_scalar\n",
        "    return host_from_gpu(n.inputs[0])\n",
        "NameError: global name 'host_from_gpu' is not defined\n",
        "\n"
       ]
      },
      {
       "output_type": "stream",
       "stream": "stderr",
       "text": [
        "ERROR (theano.gof.opt): Optimization failure due to: local_dnn_convw_alpha_merge\n"
       ]
      },
      {
       "output_type": "stream",
       "stream": "stderr",
       "text": [
        "ERROR:theano.gof.opt:Optimization failure due to: local_dnn_convw_alpha_merge\n"
       ]
      },
      {
       "output_type": "stream",
       "stream": "stderr",
       "text": [
        "ERROR (theano.gof.opt): TRACEBACK:\n"
       ]
      },
      {
       "output_type": "stream",
       "stream": "stderr",
       "text": [
        "ERROR:theano.gof.opt:TRACEBACK:\n"
       ]
      },
      {
       "output_type": "stream",
       "stream": "stderr",
       "text": [
        "ERROR (theano.gof.opt): Traceback (most recent call last):\n",
        "  File \"/home/jotham/venvs/2014-12-20_datascibowl/lib/python2.7/site-packages/theano/gof/opt.py\", line 1493, in process_node\n",
        "    replacements = lopt.transform(node)\n",
        "  File \"/home/jotham/venvs/2014-12-20_datascibowl/lib/python2.7/site-packages/theano/sandbox/cuda/opt_util.py\", line 56, in opt\n",
        "    lr = grab_cpu_scalar(node.inputs[0], nd=nd)\n",
        "  File \"/home/jotham/venvs/2014-12-20_datascibowl/lib/python2.7/site-packages/theano/sandbox/cuda/opt_util.py\", line 18, in grab_cpu_scalar\n",
        "    return host_from_gpu(n.inputs[0])\n",
        "NameError: global name 'host_from_gpu' is not defined\n",
        "\n"
       ]
      },
      {
       "output_type": "stream",
       "stream": "stderr",
       "text": [
        "ERROR:theano.gof.opt:Traceback (most recent call last):\n",
        "  File \"/home/jotham/venvs/2014-12-20_datascibowl/lib/python2.7/site-packages/theano/gof/opt.py\", line 1493, in process_node\n",
        "    replacements = lopt.transform(node)\n",
        "  File \"/home/jotham/venvs/2014-12-20_datascibowl/lib/python2.7/site-packages/theano/sandbox/cuda/opt_util.py\", line 56, in opt\n",
        "    lr = grab_cpu_scalar(node.inputs[0], nd=nd)\n",
        "  File \"/home/jotham/venvs/2014-12-20_datascibowl/lib/python2.7/site-packages/theano/sandbox/cuda/opt_util.py\", line 18, in grab_cpu_scalar\n",
        "    return host_from_gpu(n.inputs[0])\n",
        "NameError: global name 'host_from_gpu' is not defined\n",
        "\n"
       ]
      },
      {
       "output_type": "stream",
       "stream": "stderr",
       "text": [
        "ERROR (theano.gof.opt): Optimization failure due to: local_dnn_convi_alpha_merge\n"
       ]
      },
      {
       "output_type": "stream",
       "stream": "stderr",
       "text": [
        "ERROR:theano.gof.opt:Optimization failure due to: local_dnn_convi_alpha_merge\n"
       ]
      },
      {
       "output_type": "stream",
       "stream": "stderr",
       "text": [
        "ERROR (theano.gof.opt): TRACEBACK:\n"
       ]
      },
      {
       "output_type": "stream",
       "stream": "stderr",
       "text": [
        "ERROR:theano.gof.opt:TRACEBACK:\n"
       ]
      },
      {
       "output_type": "stream",
       "stream": "stderr",
       "text": [
        "ERROR (theano.gof.opt): Traceback (most recent call last):\n",
        "  File \"/home/jotham/venvs/2014-12-20_datascibowl/lib/python2.7/site-packages/theano/gof/opt.py\", line 1493, in process_node\n",
        "    replacements = lopt.transform(node)\n",
        "  File \"/home/jotham/venvs/2014-12-20_datascibowl/lib/python2.7/site-packages/theano/sandbox/cuda/opt_util.py\", line 56, in opt\n",
        "    lr = grab_cpu_scalar(node.inputs[0], nd=nd)\n",
        "  File \"/home/jotham/venvs/2014-12-20_datascibowl/lib/python2.7/site-packages/theano/sandbox/cuda/opt_util.py\", line 18, in grab_cpu_scalar\n",
        "    return host_from_gpu(n.inputs[0])\n",
        "NameError: global name 'host_from_gpu' is not defined\n",
        "\n"
       ]
      },
      {
       "output_type": "stream",
       "stream": "stderr",
       "text": [
        "ERROR:theano.gof.opt:Traceback (most recent call last):\n",
        "  File \"/home/jotham/venvs/2014-12-20_datascibowl/lib/python2.7/site-packages/theano/gof/opt.py\", line 1493, in process_node\n",
        "    replacements = lopt.transform(node)\n",
        "  File \"/home/jotham/venvs/2014-12-20_datascibowl/lib/python2.7/site-packages/theano/sandbox/cuda/opt_util.py\", line 56, in opt\n",
        "    lr = grab_cpu_scalar(node.inputs[0], nd=nd)\n",
        "  File \"/home/jotham/venvs/2014-12-20_datascibowl/lib/python2.7/site-packages/theano/sandbox/cuda/opt_util.py\", line 18, in grab_cpu_scalar\n",
        "    return host_from_gpu(n.inputs[0])\n",
        "NameError: global name 'host_from_gpu' is not defined\n",
        "\n"
       ]
      },
      {
       "output_type": "stream",
       "stream": "stderr",
       "text": [
        "ERROR (theano.gof.opt): Optimization failure due to: local_dnn_conv_alpha_merge\n"
       ]
      },
      {
       "output_type": "stream",
       "stream": "stderr",
       "text": [
        "ERROR:theano.gof.opt:Optimization failure due to: local_dnn_conv_alpha_merge\n"
       ]
      },
      {
       "output_type": "stream",
       "stream": "stderr",
       "text": [
        "ERROR (theano.gof.opt): TRACEBACK:\n"
       ]
      },
      {
       "output_type": "stream",
       "stream": "stderr",
       "text": [
        "ERROR:theano.gof.opt:TRACEBACK:\n"
       ]
      },
      {
       "output_type": "stream",
       "stream": "stderr",
       "text": [
        "ERROR (theano.gof.opt): Traceback (most recent call last):\n",
        "  File \"/home/jotham/venvs/2014-12-20_datascibowl/lib/python2.7/site-packages/theano/gof/opt.py\", line 1493, in process_node\n",
        "    replacements = lopt.transform(node)\n",
        "  File \"/home/jotham/venvs/2014-12-20_datascibowl/lib/python2.7/site-packages/theano/sandbox/cuda/opt_util.py\", line 56, in opt\n",
        "    lr = grab_cpu_scalar(node.inputs[0], nd=nd)\n",
        "  File \"/home/jotham/venvs/2014-12-20_datascibowl/lib/python2.7/site-packages/theano/sandbox/cuda/opt_util.py\", line 18, in grab_cpu_scalar\n",
        "    return host_from_gpu(n.inputs[0])\n",
        "NameError: global name 'host_from_gpu' is not defined\n",
        "\n"
       ]
      },
      {
       "output_type": "stream",
       "stream": "stderr",
       "text": [
        "ERROR:theano.gof.opt:Traceback (most recent call last):\n",
        "  File \"/home/jotham/venvs/2014-12-20_datascibowl/lib/python2.7/site-packages/theano/gof/opt.py\", line 1493, in process_node\n",
        "    replacements = lopt.transform(node)\n",
        "  File \"/home/jotham/venvs/2014-12-20_datascibowl/lib/python2.7/site-packages/theano/sandbox/cuda/opt_util.py\", line 56, in opt\n",
        "    lr = grab_cpu_scalar(node.inputs[0], nd=nd)\n",
        "  File \"/home/jotham/venvs/2014-12-20_datascibowl/lib/python2.7/site-packages/theano/sandbox/cuda/opt_util.py\", line 18, in grab_cpu_scalar\n",
        "    return host_from_gpu(n.inputs[0])\n",
        "NameError: global name 'host_from_gpu' is not defined\n",
        "\n"
       ]
      },
      {
       "output_type": "stream",
       "stream": "stderr",
       "text": [
        "ERROR (theano.gof.opt): Optimization failure due to: local_dnn_convw_alpha_merge\n"
       ]
      },
      {
       "output_type": "stream",
       "stream": "stderr",
       "text": [
        "ERROR:theano.gof.opt:Optimization failure due to: local_dnn_convw_alpha_merge\n"
       ]
      },
      {
       "output_type": "stream",
       "stream": "stderr",
       "text": [
        "ERROR (theano.gof.opt): TRACEBACK:\n"
       ]
      },
      {
       "output_type": "stream",
       "stream": "stderr",
       "text": [
        "ERROR:theano.gof.opt:TRACEBACK:\n"
       ]
      },
      {
       "output_type": "stream",
       "stream": "stderr",
       "text": [
        "ERROR (theano.gof.opt): Traceback (most recent call last):\n",
        "  File \"/home/jotham/venvs/2014-12-20_datascibowl/lib/python2.7/site-packages/theano/gof/opt.py\", line 1493, in process_node\n",
        "    replacements = lopt.transform(node)\n",
        "  File \"/home/jotham/venvs/2014-12-20_datascibowl/lib/python2.7/site-packages/theano/sandbox/cuda/opt_util.py\", line 56, in opt\n",
        "    lr = grab_cpu_scalar(node.inputs[0], nd=nd)\n",
        "  File \"/home/jotham/venvs/2014-12-20_datascibowl/lib/python2.7/site-packages/theano/sandbox/cuda/opt_util.py\", line 18, in grab_cpu_scalar\n",
        "    return host_from_gpu(n.inputs[0])\n",
        "NameError: global name 'host_from_gpu' is not defined\n",
        "\n"
       ]
      },
      {
       "output_type": "stream",
       "stream": "stderr",
       "text": [
        "ERROR:theano.gof.opt:Traceback (most recent call last):\n",
        "  File \"/home/jotham/venvs/2014-12-20_datascibowl/lib/python2.7/site-packages/theano/gof/opt.py\", line 1493, in process_node\n",
        "    replacements = lopt.transform(node)\n",
        "  File \"/home/jotham/venvs/2014-12-20_datascibowl/lib/python2.7/site-packages/theano/sandbox/cuda/opt_util.py\", line 56, in opt\n",
        "    lr = grab_cpu_scalar(node.inputs[0], nd=nd)\n",
        "  File \"/home/jotham/venvs/2014-12-20_datascibowl/lib/python2.7/site-packages/theano/sandbox/cuda/opt_util.py\", line 18, in grab_cpu_scalar\n",
        "    return host_from_gpu(n.inputs[0])\n",
        "NameError: global name 'host_from_gpu' is not defined\n",
        "\n"
       ]
      },
      {
       "output_type": "stream",
       "stream": "stderr",
       "text": [
        "ERROR (theano.gof.opt): Optimization failure due to: local_dnn_convi_alpha_merge\n"
       ]
      },
      {
       "output_type": "stream",
       "stream": "stderr",
       "text": [
        "ERROR:theano.gof.opt:Optimization failure due to: local_dnn_convi_alpha_merge\n"
       ]
      },
      {
       "output_type": "stream",
       "stream": "stderr",
       "text": [
        "ERROR (theano.gof.opt): TRACEBACK:\n"
       ]
      },
      {
       "output_type": "stream",
       "stream": "stderr",
       "text": [
        "ERROR:theano.gof.opt:TRACEBACK:\n"
       ]
      },
      {
       "output_type": "stream",
       "stream": "stderr",
       "text": [
        "ERROR (theano.gof.opt): Traceback (most recent call last):\n",
        "  File \"/home/jotham/venvs/2014-12-20_datascibowl/lib/python2.7/site-packages/theano/gof/opt.py\", line 1493, in process_node\n",
        "    replacements = lopt.transform(node)\n",
        "  File \"/home/jotham/venvs/2014-12-20_datascibowl/lib/python2.7/site-packages/theano/sandbox/cuda/opt_util.py\", line 56, in opt\n",
        "    lr = grab_cpu_scalar(node.inputs[0], nd=nd)\n",
        "  File \"/home/jotham/venvs/2014-12-20_datascibowl/lib/python2.7/site-packages/theano/sandbox/cuda/opt_util.py\", line 18, in grab_cpu_scalar\n",
        "    return host_from_gpu(n.inputs[0])\n",
        "NameError: global name 'host_from_gpu' is not defined\n",
        "\n"
       ]
      },
      {
       "output_type": "stream",
       "stream": "stderr",
       "text": [
        "ERROR:theano.gof.opt:Traceback (most recent call last):\n",
        "  File \"/home/jotham/venvs/2014-12-20_datascibowl/lib/python2.7/site-packages/theano/gof/opt.py\", line 1493, in process_node\n",
        "    replacements = lopt.transform(node)\n",
        "  File \"/home/jotham/venvs/2014-12-20_datascibowl/lib/python2.7/site-packages/theano/sandbox/cuda/opt_util.py\", line 56, in opt\n",
        "    lr = grab_cpu_scalar(node.inputs[0], nd=nd)\n",
        "  File \"/home/jotham/venvs/2014-12-20_datascibowl/lib/python2.7/site-packages/theano/sandbox/cuda/opt_util.py\", line 18, in grab_cpu_scalar\n",
        "    return host_from_gpu(n.inputs[0])\n",
        "NameError: global name 'host_from_gpu' is not defined\n",
        "\n"
       ]
      },
      {
       "output_type": "stream",
       "stream": "stderr",
       "text": [
        "ERROR (theano.gof.opt): Optimization failure due to: local_dnn_conv_alpha_merge\n"
       ]
      },
      {
       "output_type": "stream",
       "stream": "stderr",
       "text": [
        "ERROR:theano.gof.opt:Optimization failure due to: local_dnn_conv_alpha_merge\n"
       ]
      },
      {
       "output_type": "stream",
       "stream": "stderr",
       "text": [
        "ERROR (theano.gof.opt): TRACEBACK:\n"
       ]
      },
      {
       "output_type": "stream",
       "stream": "stderr",
       "text": [
        "ERROR:theano.gof.opt:TRACEBACK:\n"
       ]
      },
      {
       "output_type": "stream",
       "stream": "stderr",
       "text": [
        "ERROR (theano.gof.opt): Traceback (most recent call last):\n",
        "  File \"/home/jotham/venvs/2014-12-20_datascibowl/lib/python2.7/site-packages/theano/gof/opt.py\", line 1493, in process_node\n",
        "    replacements = lopt.transform(node)\n",
        "  File \"/home/jotham/venvs/2014-12-20_datascibowl/lib/python2.7/site-packages/theano/sandbox/cuda/opt_util.py\", line 56, in opt\n",
        "    lr = grab_cpu_scalar(node.inputs[0], nd=nd)\n",
        "  File \"/home/jotham/venvs/2014-12-20_datascibowl/lib/python2.7/site-packages/theano/sandbox/cuda/opt_util.py\", line 18, in grab_cpu_scalar\n",
        "    return host_from_gpu(n.inputs[0])\n",
        "NameError: global name 'host_from_gpu' is not defined\n",
        "\n"
       ]
      },
      {
       "output_type": "stream",
       "stream": "stderr",
       "text": [
        "ERROR:theano.gof.opt:Traceback (most recent call last):\n",
        "  File \"/home/jotham/venvs/2014-12-20_datascibowl/lib/python2.7/site-packages/theano/gof/opt.py\", line 1493, in process_node\n",
        "    replacements = lopt.transform(node)\n",
        "  File \"/home/jotham/venvs/2014-12-20_datascibowl/lib/python2.7/site-packages/theano/sandbox/cuda/opt_util.py\", line 56, in opt\n",
        "    lr = grab_cpu_scalar(node.inputs[0], nd=nd)\n",
        "  File \"/home/jotham/venvs/2014-12-20_datascibowl/lib/python2.7/site-packages/theano/sandbox/cuda/opt_util.py\", line 18, in grab_cpu_scalar\n",
        "    return host_from_gpu(n.inputs[0])\n",
        "NameError: global name 'host_from_gpu' is not defined\n",
        "\n"
       ]
      },
      {
       "output_type": "stream",
       "stream": "stderr",
       "text": [
        "ERROR (theano.gof.opt): Optimization failure due to: local_dnn_convw_alpha_merge\n"
       ]
      },
      {
       "output_type": "stream",
       "stream": "stderr",
       "text": [
        "ERROR:theano.gof.opt:Optimization failure due to: local_dnn_convw_alpha_merge\n"
       ]
      },
      {
       "output_type": "stream",
       "stream": "stderr",
       "text": [
        "ERROR (theano.gof.opt): TRACEBACK:\n"
       ]
      },
      {
       "output_type": "stream",
       "stream": "stderr",
       "text": [
        "ERROR:theano.gof.opt:TRACEBACK:\n"
       ]
      },
      {
       "output_type": "stream",
       "stream": "stderr",
       "text": [
        "ERROR (theano.gof.opt): Traceback (most recent call last):\n",
        "  File \"/home/jotham/venvs/2014-12-20_datascibowl/lib/python2.7/site-packages/theano/gof/opt.py\", line 1493, in process_node\n",
        "    replacements = lopt.transform(node)\n",
        "  File \"/home/jotham/venvs/2014-12-20_datascibowl/lib/python2.7/site-packages/theano/sandbox/cuda/opt_util.py\", line 56, in opt\n",
        "    lr = grab_cpu_scalar(node.inputs[0], nd=nd)\n",
        "  File \"/home/jotham/venvs/2014-12-20_datascibowl/lib/python2.7/site-packages/theano/sandbox/cuda/opt_util.py\", line 18, in grab_cpu_scalar\n",
        "    return host_from_gpu(n.inputs[0])\n",
        "NameError: global name 'host_from_gpu' is not defined\n",
        "\n"
       ]
      },
      {
       "output_type": "stream",
       "stream": "stderr",
       "text": [
        "ERROR:theano.gof.opt:Traceback (most recent call last):\n",
        "  File \"/home/jotham/venvs/2014-12-20_datascibowl/lib/python2.7/site-packages/theano/gof/opt.py\", line 1493, in process_node\n",
        "    replacements = lopt.transform(node)\n",
        "  File \"/home/jotham/venvs/2014-12-20_datascibowl/lib/python2.7/site-packages/theano/sandbox/cuda/opt_util.py\", line 56, in opt\n",
        "    lr = grab_cpu_scalar(node.inputs[0], nd=nd)\n",
        "  File \"/home/jotham/venvs/2014-12-20_datascibowl/lib/python2.7/site-packages/theano/sandbox/cuda/opt_util.py\", line 18, in grab_cpu_scalar\n",
        "    return host_from_gpu(n.inputs[0])\n",
        "NameError: global name 'host_from_gpu' is not defined\n",
        "\n"
       ]
      },
      {
       "output_type": "stream",
       "stream": "stderr",
       "text": [
        "ERROR (theano.gof.opt): Optimization failure due to: local_dnn_convi_alpha_merge\n"
       ]
      },
      {
       "output_type": "stream",
       "stream": "stderr",
       "text": [
        "ERROR:theano.gof.opt:Optimization failure due to: local_dnn_convi_alpha_merge\n"
       ]
      },
      {
       "output_type": "stream",
       "stream": "stderr",
       "text": [
        "ERROR (theano.gof.opt): TRACEBACK:\n"
       ]
      },
      {
       "output_type": "stream",
       "stream": "stderr",
       "text": [
        "ERROR:theano.gof.opt:TRACEBACK:\n"
       ]
      },
      {
       "output_type": "stream",
       "stream": "stderr",
       "text": [
        "ERROR (theano.gof.opt): Traceback (most recent call last):\n",
        "  File \"/home/jotham/venvs/2014-12-20_datascibowl/lib/python2.7/site-packages/theano/gof/opt.py\", line 1493, in process_node\n",
        "    replacements = lopt.transform(node)\n",
        "  File \"/home/jotham/venvs/2014-12-20_datascibowl/lib/python2.7/site-packages/theano/sandbox/cuda/opt_util.py\", line 56, in opt\n",
        "    lr = grab_cpu_scalar(node.inputs[0], nd=nd)\n",
        "  File \"/home/jotham/venvs/2014-12-20_datascibowl/lib/python2.7/site-packages/theano/sandbox/cuda/opt_util.py\", line 18, in grab_cpu_scalar\n",
        "    return host_from_gpu(n.inputs[0])\n",
        "NameError: global name 'host_from_gpu' is not defined\n",
        "\n"
       ]
      },
      {
       "output_type": "stream",
       "stream": "stderr",
       "text": [
        "ERROR:theano.gof.opt:Traceback (most recent call last):\n",
        "  File \"/home/jotham/venvs/2014-12-20_datascibowl/lib/python2.7/site-packages/theano/gof/opt.py\", line 1493, in process_node\n",
        "    replacements = lopt.transform(node)\n",
        "  File \"/home/jotham/venvs/2014-12-20_datascibowl/lib/python2.7/site-packages/theano/sandbox/cuda/opt_util.py\", line 56, in opt\n",
        "    lr = grab_cpu_scalar(node.inputs[0], nd=nd)\n",
        "  File \"/home/jotham/venvs/2014-12-20_datascibowl/lib/python2.7/site-packages/theano/sandbox/cuda/opt_util.py\", line 18, in grab_cpu_scalar\n",
        "    return host_from_gpu(n.inputs[0])\n",
        "NameError: global name 'host_from_gpu' is not defined\n",
        "\n"
       ]
      },
      {
       "output_type": "stream",
       "stream": "stderr",
       "text": [
        "ERROR (theano.gof.opt): Optimization failure due to: local_dnn_conv_alpha_merge\n"
       ]
      },
      {
       "output_type": "stream",
       "stream": "stderr",
       "text": [
        "ERROR:theano.gof.opt:Optimization failure due to: local_dnn_conv_alpha_merge\n"
       ]
      },
      {
       "output_type": "stream",
       "stream": "stderr",
       "text": [
        "ERROR (theano.gof.opt): TRACEBACK:\n"
       ]
      },
      {
       "output_type": "stream",
       "stream": "stderr",
       "text": [
        "ERROR:theano.gof.opt:TRACEBACK:\n"
       ]
      },
      {
       "output_type": "stream",
       "stream": "stderr",
       "text": [
        "ERROR (theano.gof.opt): Traceback (most recent call last):\n",
        "  File \"/home/jotham/venvs/2014-12-20_datascibowl/lib/python2.7/site-packages/theano/gof/opt.py\", line 1493, in process_node\n",
        "    replacements = lopt.transform(node)\n",
        "  File \"/home/jotham/venvs/2014-12-20_datascibowl/lib/python2.7/site-packages/theano/sandbox/cuda/opt_util.py\", line 56, in opt\n",
        "    lr = grab_cpu_scalar(node.inputs[0], nd=nd)\n",
        "  File \"/home/jotham/venvs/2014-12-20_datascibowl/lib/python2.7/site-packages/theano/sandbox/cuda/opt_util.py\", line 18, in grab_cpu_scalar\n",
        "    return host_from_gpu(n.inputs[0])\n",
        "NameError: global name 'host_from_gpu' is not defined\n",
        "\n"
       ]
      },
      {
       "output_type": "stream",
       "stream": "stderr",
       "text": [
        "ERROR:theano.gof.opt:Traceback (most recent call last):\n",
        "  File \"/home/jotham/venvs/2014-12-20_datascibowl/lib/python2.7/site-packages/theano/gof/opt.py\", line 1493, in process_node\n",
        "    replacements = lopt.transform(node)\n",
        "  File \"/home/jotham/venvs/2014-12-20_datascibowl/lib/python2.7/site-packages/theano/sandbox/cuda/opt_util.py\", line 56, in opt\n",
        "    lr = grab_cpu_scalar(node.inputs[0], nd=nd)\n",
        "  File \"/home/jotham/venvs/2014-12-20_datascibowl/lib/python2.7/site-packages/theano/sandbox/cuda/opt_util.py\", line 18, in grab_cpu_scalar\n",
        "    return host_from_gpu(n.inputs[0])\n",
        "NameError: global name 'host_from_gpu' is not defined\n",
        "\n"
       ]
      },
      {
       "output_type": "stream",
       "stream": "stderr",
       "text": [
        "ERROR (theano.gof.opt): Optimization failure due to: local_dnn_convw_alpha_merge\n"
       ]
      },
      {
       "output_type": "stream",
       "stream": "stderr",
       "text": [
        "ERROR:theano.gof.opt:Optimization failure due to: local_dnn_convw_alpha_merge\n"
       ]
      },
      {
       "output_type": "stream",
       "stream": "stderr",
       "text": [
        "ERROR (theano.gof.opt): TRACEBACK:\n"
       ]
      },
      {
       "output_type": "stream",
       "stream": "stderr",
       "text": [
        "ERROR:theano.gof.opt:TRACEBACK:\n"
       ]
      },
      {
       "output_type": "stream",
       "stream": "stderr",
       "text": [
        "ERROR (theano.gof.opt): Traceback (most recent call last):\n",
        "  File \"/home/jotham/venvs/2014-12-20_datascibowl/lib/python2.7/site-packages/theano/gof/opt.py\", line 1493, in process_node\n",
        "    replacements = lopt.transform(node)\n",
        "  File \"/home/jotham/venvs/2014-12-20_datascibowl/lib/python2.7/site-packages/theano/sandbox/cuda/opt_util.py\", line 56, in opt\n",
        "    lr = grab_cpu_scalar(node.inputs[0], nd=nd)\n",
        "  File \"/home/jotham/venvs/2014-12-20_datascibowl/lib/python2.7/site-packages/theano/sandbox/cuda/opt_util.py\", line 18, in grab_cpu_scalar\n",
        "    return host_from_gpu(n.inputs[0])\n",
        "NameError: global name 'host_from_gpu' is not defined\n",
        "\n"
       ]
      },
      {
       "output_type": "stream",
       "stream": "stderr",
       "text": [
        "ERROR:theano.gof.opt:Traceback (most recent call last):\n",
        "  File \"/home/jotham/venvs/2014-12-20_datascibowl/lib/python2.7/site-packages/theano/gof/opt.py\", line 1493, in process_node\n",
        "    replacements = lopt.transform(node)\n",
        "  File \"/home/jotham/venvs/2014-12-20_datascibowl/lib/python2.7/site-packages/theano/sandbox/cuda/opt_util.py\", line 56, in opt\n",
        "    lr = grab_cpu_scalar(node.inputs[0], nd=nd)\n",
        "  File \"/home/jotham/venvs/2014-12-20_datascibowl/lib/python2.7/site-packages/theano/sandbox/cuda/opt_util.py\", line 18, in grab_cpu_scalar\n",
        "    return host_from_gpu(n.inputs[0])\n",
        "NameError: global name 'host_from_gpu' is not defined\n",
        "\n"
       ]
      },
      {
       "output_type": "stream",
       "stream": "stderr",
       "text": [
        "ERROR (theano.gof.opt): Optimization failure due to: local_dnn_convi_alpha_merge\n"
       ]
      },
      {
       "output_type": "stream",
       "stream": "stderr",
       "text": [
        "ERROR:theano.gof.opt:Optimization failure due to: local_dnn_convi_alpha_merge\n"
       ]
      },
      {
       "output_type": "stream",
       "stream": "stderr",
       "text": [
        "ERROR (theano.gof.opt): TRACEBACK:\n"
       ]
      },
      {
       "output_type": "stream",
       "stream": "stderr",
       "text": [
        "ERROR:theano.gof.opt:TRACEBACK:\n"
       ]
      },
      {
       "output_type": "stream",
       "stream": "stderr",
       "text": [
        "ERROR (theano.gof.opt): Traceback (most recent call last):\n",
        "  File \"/home/jotham/venvs/2014-12-20_datascibowl/lib/python2.7/site-packages/theano/gof/opt.py\", line 1493, in process_node\n",
        "    replacements = lopt.transform(node)\n",
        "  File \"/home/jotham/venvs/2014-12-20_datascibowl/lib/python2.7/site-packages/theano/sandbox/cuda/opt_util.py\", line 56, in opt\n",
        "    lr = grab_cpu_scalar(node.inputs[0], nd=nd)\n",
        "  File \"/home/jotham/venvs/2014-12-20_datascibowl/lib/python2.7/site-packages/theano/sandbox/cuda/opt_util.py\", line 18, in grab_cpu_scalar\n",
        "    return host_from_gpu(n.inputs[0])\n",
        "NameError: global name 'host_from_gpu' is not defined\n",
        "\n"
       ]
      },
      {
       "output_type": "stream",
       "stream": "stderr",
       "text": [
        "ERROR:theano.gof.opt:Traceback (most recent call last):\n",
        "  File \"/home/jotham/venvs/2014-12-20_datascibowl/lib/python2.7/site-packages/theano/gof/opt.py\", line 1493, in process_node\n",
        "    replacements = lopt.transform(node)\n",
        "  File \"/home/jotham/venvs/2014-12-20_datascibowl/lib/python2.7/site-packages/theano/sandbox/cuda/opt_util.py\", line 56, in opt\n",
        "    lr = grab_cpu_scalar(node.inputs[0], nd=nd)\n",
        "  File \"/home/jotham/venvs/2014-12-20_datascibowl/lib/python2.7/site-packages/theano/sandbox/cuda/opt_util.py\", line 18, in grab_cpu_scalar\n",
        "    return host_from_gpu(n.inputs[0])\n",
        "NameError: global name 'host_from_gpu' is not defined\n",
        "\n"
       ]
      },
      {
       "output_type": "stream",
       "stream": "stderr",
       "text": [
        "ERROR (theano.gof.opt): Optimization failure due to: local_dnn_conv_alpha_merge\n"
       ]
      },
      {
       "output_type": "stream",
       "stream": "stderr",
       "text": [
        "ERROR:theano.gof.opt:Optimization failure due to: local_dnn_conv_alpha_merge\n"
       ]
      },
      {
       "output_type": "stream",
       "stream": "stderr",
       "text": [
        "ERROR (theano.gof.opt): TRACEBACK:\n"
       ]
      },
      {
       "output_type": "stream",
       "stream": "stderr",
       "text": [
        "ERROR:theano.gof.opt:TRACEBACK:\n"
       ]
      },
      {
       "output_type": "stream",
       "stream": "stderr",
       "text": [
        "ERROR (theano.gof.opt): Traceback (most recent call last):\n",
        "  File \"/home/jotham/venvs/2014-12-20_datascibowl/lib/python2.7/site-packages/theano/gof/opt.py\", line 1493, in process_node\n",
        "    replacements = lopt.transform(node)\n",
        "  File \"/home/jotham/venvs/2014-12-20_datascibowl/lib/python2.7/site-packages/theano/sandbox/cuda/opt_util.py\", line 56, in opt\n",
        "    lr = grab_cpu_scalar(node.inputs[0], nd=nd)\n",
        "  File \"/home/jotham/venvs/2014-12-20_datascibowl/lib/python2.7/site-packages/theano/sandbox/cuda/opt_util.py\", line 18, in grab_cpu_scalar\n",
        "    return host_from_gpu(n.inputs[0])\n",
        "NameError: global name 'host_from_gpu' is not defined\n",
        "\n"
       ]
      },
      {
       "output_type": "stream",
       "stream": "stderr",
       "text": [
        "ERROR:theano.gof.opt:Traceback (most recent call last):\n",
        "  File \"/home/jotham/venvs/2014-12-20_datascibowl/lib/python2.7/site-packages/theano/gof/opt.py\", line 1493, in process_node\n",
        "    replacements = lopt.transform(node)\n",
        "  File \"/home/jotham/venvs/2014-12-20_datascibowl/lib/python2.7/site-packages/theano/sandbox/cuda/opt_util.py\", line 56, in opt\n",
        "    lr = grab_cpu_scalar(node.inputs[0], nd=nd)\n",
        "  File \"/home/jotham/venvs/2014-12-20_datascibowl/lib/python2.7/site-packages/theano/sandbox/cuda/opt_util.py\", line 18, in grab_cpu_scalar\n",
        "    return host_from_gpu(n.inputs[0])\n",
        "NameError: global name 'host_from_gpu' is not defined\n",
        "\n"
       ]
      },
      {
       "output_type": "stream",
       "stream": "stderr",
       "text": [
        "ERROR (theano.gof.opt): Optimization failure due to: local_dnn_convw_alpha_merge\n"
       ]
      },
      {
       "output_type": "stream",
       "stream": "stderr",
       "text": [
        "ERROR:theano.gof.opt:Optimization failure due to: local_dnn_convw_alpha_merge\n"
       ]
      },
      {
       "output_type": "stream",
       "stream": "stderr",
       "text": [
        "ERROR (theano.gof.opt): TRACEBACK:\n"
       ]
      },
      {
       "output_type": "stream",
       "stream": "stderr",
       "text": [
        "ERROR:theano.gof.opt:TRACEBACK:\n"
       ]
      },
      {
       "output_type": "stream",
       "stream": "stderr",
       "text": [
        "ERROR (theano.gof.opt): Traceback (most recent call last):\n",
        "  File \"/home/jotham/venvs/2014-12-20_datascibowl/lib/python2.7/site-packages/theano/gof/opt.py\", line 1493, in process_node\n",
        "    replacements = lopt.transform(node)\n",
        "  File \"/home/jotham/venvs/2014-12-20_datascibowl/lib/python2.7/site-packages/theano/sandbox/cuda/opt_util.py\", line 56, in opt\n",
        "    lr = grab_cpu_scalar(node.inputs[0], nd=nd)\n",
        "  File \"/home/jotham/venvs/2014-12-20_datascibowl/lib/python2.7/site-packages/theano/sandbox/cuda/opt_util.py\", line 18, in grab_cpu_scalar\n",
        "    return host_from_gpu(n.inputs[0])\n",
        "NameError: global name 'host_from_gpu' is not defined\n",
        "\n"
       ]
      },
      {
       "output_type": "stream",
       "stream": "stderr",
       "text": [
        "ERROR:theano.gof.opt:Traceback (most recent call last):\n",
        "  File \"/home/jotham/venvs/2014-12-20_datascibowl/lib/python2.7/site-packages/theano/gof/opt.py\", line 1493, in process_node\n",
        "    replacements = lopt.transform(node)\n",
        "  File \"/home/jotham/venvs/2014-12-20_datascibowl/lib/python2.7/site-packages/theano/sandbox/cuda/opt_util.py\", line 56, in opt\n",
        "    lr = grab_cpu_scalar(node.inputs[0], nd=nd)\n",
        "  File \"/home/jotham/venvs/2014-12-20_datascibowl/lib/python2.7/site-packages/theano/sandbox/cuda/opt_util.py\", line 18, in grab_cpu_scalar\n",
        "    return host_from_gpu(n.inputs[0])\n",
        "NameError: global name 'host_from_gpu' is not defined\n",
        "\n"
       ]
      },
      {
       "output_type": "stream",
       "stream": "stderr",
       "text": [
        "ERROR (theano.gof.opt): Optimization failure due to: local_dnn_convi_alpha_merge\n"
       ]
      },
      {
       "output_type": "stream",
       "stream": "stderr",
       "text": [
        "ERROR:theano.gof.opt:Optimization failure due to: local_dnn_convi_alpha_merge\n"
       ]
      },
      {
       "output_type": "stream",
       "stream": "stderr",
       "text": [
        "ERROR (theano.gof.opt): TRACEBACK:\n"
       ]
      },
      {
       "output_type": "stream",
       "stream": "stderr",
       "text": [
        "ERROR:theano.gof.opt:TRACEBACK:\n"
       ]
      },
      {
       "output_type": "stream",
       "stream": "stderr",
       "text": [
        "ERROR (theano.gof.opt): Traceback (most recent call last):\n",
        "  File \"/home/jotham/venvs/2014-12-20_datascibowl/lib/python2.7/site-packages/theano/gof/opt.py\", line 1493, in process_node\n",
        "    replacements = lopt.transform(node)\n",
        "  File \"/home/jotham/venvs/2014-12-20_datascibowl/lib/python2.7/site-packages/theano/sandbox/cuda/opt_util.py\", line 56, in opt\n",
        "    lr = grab_cpu_scalar(node.inputs[0], nd=nd)\n",
        "  File \"/home/jotham/venvs/2014-12-20_datascibowl/lib/python2.7/site-packages/theano/sandbox/cuda/opt_util.py\", line 18, in grab_cpu_scalar\n",
        "    return host_from_gpu(n.inputs[0])\n",
        "NameError: global name 'host_from_gpu' is not defined\n",
        "\n"
       ]
      },
      {
       "output_type": "stream",
       "stream": "stderr",
       "text": [
        "ERROR:theano.gof.opt:Traceback (most recent call last):\n",
        "  File \"/home/jotham/venvs/2014-12-20_datascibowl/lib/python2.7/site-packages/theano/gof/opt.py\", line 1493, in process_node\n",
        "    replacements = lopt.transform(node)\n",
        "  File \"/home/jotham/venvs/2014-12-20_datascibowl/lib/python2.7/site-packages/theano/sandbox/cuda/opt_util.py\", line 56, in opt\n",
        "    lr = grab_cpu_scalar(node.inputs[0], nd=nd)\n",
        "  File \"/home/jotham/venvs/2014-12-20_datascibowl/lib/python2.7/site-packages/theano/sandbox/cuda/opt_util.py\", line 18, in grab_cpu_scalar\n",
        "    return host_from_gpu(n.inputs[0])\n",
        "NameError: global name 'host_from_gpu' is not defined\n",
        "\n"
       ]
      },
      {
       "output_type": "stream",
       "stream": "stderr",
       "text": [
        "ERROR (theano.gof.opt): Optimization failure due to: local_dnn_conv_alpha_merge\n"
       ]
      },
      {
       "output_type": "stream",
       "stream": "stderr",
       "text": [
        "ERROR:theano.gof.opt:Optimization failure due to: local_dnn_conv_alpha_merge\n"
       ]
      },
      {
       "output_type": "stream",
       "stream": "stderr",
       "text": [
        "ERROR (theano.gof.opt): TRACEBACK:\n"
       ]
      },
      {
       "output_type": "stream",
       "stream": "stderr",
       "text": [
        "ERROR:theano.gof.opt:TRACEBACK:\n"
       ]
      },
      {
       "output_type": "stream",
       "stream": "stderr",
       "text": [
        "ERROR (theano.gof.opt): Traceback (most recent call last):\n",
        "  File \"/home/jotham/venvs/2014-12-20_datascibowl/lib/python2.7/site-packages/theano/gof/opt.py\", line 1493, in process_node\n",
        "    replacements = lopt.transform(node)\n",
        "  File \"/home/jotham/venvs/2014-12-20_datascibowl/lib/python2.7/site-packages/theano/sandbox/cuda/opt_util.py\", line 56, in opt\n",
        "    lr = grab_cpu_scalar(node.inputs[0], nd=nd)\n",
        "  File \"/home/jotham/venvs/2014-12-20_datascibowl/lib/python2.7/site-packages/theano/sandbox/cuda/opt_util.py\", line 18, in grab_cpu_scalar\n",
        "    return host_from_gpu(n.inputs[0])\n",
        "NameError: global name 'host_from_gpu' is not defined\n",
        "\n"
       ]
      },
      {
       "output_type": "stream",
       "stream": "stderr",
       "text": [
        "ERROR:theano.gof.opt:Traceback (most recent call last):\n",
        "  File \"/home/jotham/venvs/2014-12-20_datascibowl/lib/python2.7/site-packages/theano/gof/opt.py\", line 1493, in process_node\n",
        "    replacements = lopt.transform(node)\n",
        "  File \"/home/jotham/venvs/2014-12-20_datascibowl/lib/python2.7/site-packages/theano/sandbox/cuda/opt_util.py\", line 56, in opt\n",
        "    lr = grab_cpu_scalar(node.inputs[0], nd=nd)\n",
        "  File \"/home/jotham/venvs/2014-12-20_datascibowl/lib/python2.7/site-packages/theano/sandbox/cuda/opt_util.py\", line 18, in grab_cpu_scalar\n",
        "    return host_from_gpu(n.inputs[0])\n",
        "NameError: global name 'host_from_gpu' is not defined\n",
        "\n"
       ]
      },
      {
       "output_type": "stream",
       "stream": "stderr",
       "text": [
        "ERROR (theano.gof.opt): Optimization failure due to: local_dnn_convw_alpha_merge\n"
       ]
      },
      {
       "output_type": "stream",
       "stream": "stderr",
       "text": [
        "ERROR:theano.gof.opt:Optimization failure due to: local_dnn_convw_alpha_merge\n"
       ]
      },
      {
       "output_type": "stream",
       "stream": "stderr",
       "text": [
        "ERROR (theano.gof.opt): TRACEBACK:\n"
       ]
      },
      {
       "output_type": "stream",
       "stream": "stderr",
       "text": [
        "ERROR:theano.gof.opt:TRACEBACK:\n"
       ]
      },
      {
       "output_type": "stream",
       "stream": "stderr",
       "text": [
        "ERROR (theano.gof.opt): Traceback (most recent call last):\n",
        "  File \"/home/jotham/venvs/2014-12-20_datascibowl/lib/python2.7/site-packages/theano/gof/opt.py\", line 1493, in process_node\n",
        "    replacements = lopt.transform(node)\n",
        "  File \"/home/jotham/venvs/2014-12-20_datascibowl/lib/python2.7/site-packages/theano/sandbox/cuda/opt_util.py\", line 56, in opt\n",
        "    lr = grab_cpu_scalar(node.inputs[0], nd=nd)\n",
        "  File \"/home/jotham/venvs/2014-12-20_datascibowl/lib/python2.7/site-packages/theano/sandbox/cuda/opt_util.py\", line 18, in grab_cpu_scalar\n",
        "    return host_from_gpu(n.inputs[0])\n",
        "NameError: global name 'host_from_gpu' is not defined\n",
        "\n"
       ]
      },
      {
       "output_type": "stream",
       "stream": "stderr",
       "text": [
        "ERROR:theano.gof.opt:Traceback (most recent call last):\n",
        "  File \"/home/jotham/venvs/2014-12-20_datascibowl/lib/python2.7/site-packages/theano/gof/opt.py\", line 1493, in process_node\n",
        "    replacements = lopt.transform(node)\n",
        "  File \"/home/jotham/venvs/2014-12-20_datascibowl/lib/python2.7/site-packages/theano/sandbox/cuda/opt_util.py\", line 56, in opt\n",
        "    lr = grab_cpu_scalar(node.inputs[0], nd=nd)\n",
        "  File \"/home/jotham/venvs/2014-12-20_datascibowl/lib/python2.7/site-packages/theano/sandbox/cuda/opt_util.py\", line 18, in grab_cpu_scalar\n",
        "    return host_from_gpu(n.inputs[0])\n",
        "NameError: global name 'host_from_gpu' is not defined\n",
        "\n"
       ]
      },
      {
       "output_type": "stream",
       "stream": "stderr",
       "text": [
        "ERROR (theano.gof.opt): Optimization failure due to: local_dnn_convi_alpha_merge\n"
       ]
      },
      {
       "output_type": "stream",
       "stream": "stderr",
       "text": [
        "ERROR:theano.gof.opt:Optimization failure due to: local_dnn_convi_alpha_merge\n"
       ]
      },
      {
       "output_type": "stream",
       "stream": "stderr",
       "text": [
        "ERROR (theano.gof.opt): TRACEBACK:\n"
       ]
      },
      {
       "output_type": "stream",
       "stream": "stderr",
       "text": [
        "ERROR:theano.gof.opt:TRACEBACK:\n"
       ]
      },
      {
       "output_type": "stream",
       "stream": "stderr",
       "text": [
        "ERROR (theano.gof.opt): Traceback (most recent call last):\n",
        "  File \"/home/jotham/venvs/2014-12-20_datascibowl/lib/python2.7/site-packages/theano/gof/opt.py\", line 1493, in process_node\n",
        "    replacements = lopt.transform(node)\n",
        "  File \"/home/jotham/venvs/2014-12-20_datascibowl/lib/python2.7/site-packages/theano/sandbox/cuda/opt_util.py\", line 56, in opt\n",
        "    lr = grab_cpu_scalar(node.inputs[0], nd=nd)\n",
        "  File \"/home/jotham/venvs/2014-12-20_datascibowl/lib/python2.7/site-packages/theano/sandbox/cuda/opt_util.py\", line 18, in grab_cpu_scalar\n",
        "    return host_from_gpu(n.inputs[0])\n",
        "NameError: global name 'host_from_gpu' is not defined\n",
        "\n"
       ]
      },
      {
       "output_type": "stream",
       "stream": "stderr",
       "text": [
        "ERROR:theano.gof.opt:Traceback (most recent call last):\n",
        "  File \"/home/jotham/venvs/2014-12-20_datascibowl/lib/python2.7/site-packages/theano/gof/opt.py\", line 1493, in process_node\n",
        "    replacements = lopt.transform(node)\n",
        "  File \"/home/jotham/venvs/2014-12-20_datascibowl/lib/python2.7/site-packages/theano/sandbox/cuda/opt_util.py\", line 56, in opt\n",
        "    lr = grab_cpu_scalar(node.inputs[0], nd=nd)\n",
        "  File \"/home/jotham/venvs/2014-12-20_datascibowl/lib/python2.7/site-packages/theano/sandbox/cuda/opt_util.py\", line 18, in grab_cpu_scalar\n",
        "    return host_from_gpu(n.inputs[0])\n",
        "NameError: global name 'host_from_gpu' is not defined\n",
        "\n"
       ]
      },
      {
       "output_type": "stream",
       "stream": "stderr",
       "text": [
        "ERROR (theano.gof.opt): Optimization failure due to: local_dnn_conv_alpha_merge\n"
       ]
      },
      {
       "output_type": "stream",
       "stream": "stderr",
       "text": [
        "ERROR:theano.gof.opt:Optimization failure due to: local_dnn_conv_alpha_merge\n"
       ]
      },
      {
       "output_type": "stream",
       "stream": "stderr",
       "text": [
        "ERROR (theano.gof.opt): TRACEBACK:\n"
       ]
      },
      {
       "output_type": "stream",
       "stream": "stderr",
       "text": [
        "ERROR:theano.gof.opt:TRACEBACK:\n"
       ]
      },
      {
       "output_type": "stream",
       "stream": "stderr",
       "text": [
        "ERROR (theano.gof.opt): Traceback (most recent call last):\n",
        "  File \"/home/jotham/venvs/2014-12-20_datascibowl/lib/python2.7/site-packages/theano/gof/opt.py\", line 1493, in process_node\n",
        "    replacements = lopt.transform(node)\n",
        "  File \"/home/jotham/venvs/2014-12-20_datascibowl/lib/python2.7/site-packages/theano/sandbox/cuda/opt_util.py\", line 56, in opt\n",
        "    lr = grab_cpu_scalar(node.inputs[0], nd=nd)\n",
        "  File \"/home/jotham/venvs/2014-12-20_datascibowl/lib/python2.7/site-packages/theano/sandbox/cuda/opt_util.py\", line 18, in grab_cpu_scalar\n",
        "    return host_from_gpu(n.inputs[0])\n",
        "NameError: global name 'host_from_gpu' is not defined\n",
        "\n"
       ]
      },
      {
       "output_type": "stream",
       "stream": "stderr",
       "text": [
        "ERROR:theano.gof.opt:Traceback (most recent call last):\n",
        "  File \"/home/jotham/venvs/2014-12-20_datascibowl/lib/python2.7/site-packages/theano/gof/opt.py\", line 1493, in process_node\n",
        "    replacements = lopt.transform(node)\n",
        "  File \"/home/jotham/venvs/2014-12-20_datascibowl/lib/python2.7/site-packages/theano/sandbox/cuda/opt_util.py\", line 56, in opt\n",
        "    lr = grab_cpu_scalar(node.inputs[0], nd=nd)\n",
        "  File \"/home/jotham/venvs/2014-12-20_datascibowl/lib/python2.7/site-packages/theano/sandbox/cuda/opt_util.py\", line 18, in grab_cpu_scalar\n",
        "    return host_from_gpu(n.inputs[0])\n",
        "NameError: global name 'host_from_gpu' is not defined\n",
        "\n"
       ]
      },
      {
       "output_type": "stream",
       "stream": "stderr",
       "text": [
        "ERROR (theano.gof.opt): Optimization failure due to: local_dnn_convw_alpha_merge\n"
       ]
      },
      {
       "output_type": "stream",
       "stream": "stderr",
       "text": [
        "ERROR:theano.gof.opt:Optimization failure due to: local_dnn_convw_alpha_merge\n"
       ]
      },
      {
       "output_type": "stream",
       "stream": "stderr",
       "text": [
        "ERROR (theano.gof.opt): TRACEBACK:\n"
       ]
      },
      {
       "output_type": "stream",
       "stream": "stderr",
       "text": [
        "ERROR:theano.gof.opt:TRACEBACK:\n"
       ]
      },
      {
       "output_type": "stream",
       "stream": "stderr",
       "text": [
        "ERROR (theano.gof.opt): Traceback (most recent call last):\n",
        "  File \"/home/jotham/venvs/2014-12-20_datascibowl/lib/python2.7/site-packages/theano/gof/opt.py\", line 1493, in process_node\n",
        "    replacements = lopt.transform(node)\n",
        "  File \"/home/jotham/venvs/2014-12-20_datascibowl/lib/python2.7/site-packages/theano/sandbox/cuda/opt_util.py\", line 56, in opt\n",
        "    lr = grab_cpu_scalar(node.inputs[0], nd=nd)\n",
        "  File \"/home/jotham/venvs/2014-12-20_datascibowl/lib/python2.7/site-packages/theano/sandbox/cuda/opt_util.py\", line 18, in grab_cpu_scalar\n",
        "    return host_from_gpu(n.inputs[0])\n",
        "NameError: global name 'host_from_gpu' is not defined\n",
        "\n"
       ]
      },
      {
       "output_type": "stream",
       "stream": "stderr",
       "text": [
        "ERROR:theano.gof.opt:Traceback (most recent call last):\n",
        "  File \"/home/jotham/venvs/2014-12-20_datascibowl/lib/python2.7/site-packages/theano/gof/opt.py\", line 1493, in process_node\n",
        "    replacements = lopt.transform(node)\n",
        "  File \"/home/jotham/venvs/2014-12-20_datascibowl/lib/python2.7/site-packages/theano/sandbox/cuda/opt_util.py\", line 56, in opt\n",
        "    lr = grab_cpu_scalar(node.inputs[0], nd=nd)\n",
        "  File \"/home/jotham/venvs/2014-12-20_datascibowl/lib/python2.7/site-packages/theano/sandbox/cuda/opt_util.py\", line 18, in grab_cpu_scalar\n",
        "    return host_from_gpu(n.inputs[0])\n",
        "NameError: global name 'host_from_gpu' is not defined\n",
        "\n"
       ]
      },
      {
       "output_type": "stream",
       "stream": "stderr",
       "text": [
        "ERROR (theano.gof.opt): Optimization failure due to: local_dnn_convi_alpha_merge\n"
       ]
      },
      {
       "output_type": "stream",
       "stream": "stderr",
       "text": [
        "ERROR:theano.gof.opt:Optimization failure due to: local_dnn_convi_alpha_merge\n"
       ]
      },
      {
       "output_type": "stream",
       "stream": "stderr",
       "text": [
        "ERROR (theano.gof.opt): TRACEBACK:\n"
       ]
      },
      {
       "output_type": "stream",
       "stream": "stderr",
       "text": [
        "ERROR:theano.gof.opt:TRACEBACK:\n"
       ]
      },
      {
       "output_type": "stream",
       "stream": "stderr",
       "text": [
        "ERROR (theano.gof.opt): Traceback (most recent call last):\n",
        "  File \"/home/jotham/venvs/2014-12-20_datascibowl/lib/python2.7/site-packages/theano/gof/opt.py\", line 1493, in process_node\n",
        "    replacements = lopt.transform(node)\n",
        "  File \"/home/jotham/venvs/2014-12-20_datascibowl/lib/python2.7/site-packages/theano/sandbox/cuda/opt_util.py\", line 56, in opt\n",
        "    lr = grab_cpu_scalar(node.inputs[0], nd=nd)\n",
        "  File \"/home/jotham/venvs/2014-12-20_datascibowl/lib/python2.7/site-packages/theano/sandbox/cuda/opt_util.py\", line 18, in grab_cpu_scalar\n",
        "    return host_from_gpu(n.inputs[0])\n",
        "NameError: global name 'host_from_gpu' is not defined\n",
        "\n"
       ]
      },
      {
       "output_type": "stream",
       "stream": "stderr",
       "text": [
        "ERROR:theano.gof.opt:Traceback (most recent call last):\n",
        "  File \"/home/jotham/venvs/2014-12-20_datascibowl/lib/python2.7/site-packages/theano/gof/opt.py\", line 1493, in process_node\n",
        "    replacements = lopt.transform(node)\n",
        "  File \"/home/jotham/venvs/2014-12-20_datascibowl/lib/python2.7/site-packages/theano/sandbox/cuda/opt_util.py\", line 56, in opt\n",
        "    lr = grab_cpu_scalar(node.inputs[0], nd=nd)\n",
        "  File \"/home/jotham/venvs/2014-12-20_datascibowl/lib/python2.7/site-packages/theano/sandbox/cuda/opt_util.py\", line 18, in grab_cpu_scalar\n",
        "    return host_from_gpu(n.inputs[0])\n",
        "NameError: global name 'host_from_gpu' is not defined\n",
        "\n"
       ]
      },
      {
       "output_type": "stream",
       "stream": "stderr",
       "text": [
        "ERROR (theano.gof.opt): Optimization failure due to: local_dnn_conv_alpha_merge\n"
       ]
      },
      {
       "output_type": "stream",
       "stream": "stderr",
       "text": [
        "ERROR:theano.gof.opt:Optimization failure due to: local_dnn_conv_alpha_merge\n"
       ]
      },
      {
       "output_type": "stream",
       "stream": "stderr",
       "text": [
        "ERROR (theano.gof.opt): TRACEBACK:\n"
       ]
      },
      {
       "output_type": "stream",
       "stream": "stderr",
       "text": [
        "ERROR:theano.gof.opt:TRACEBACK:\n"
       ]
      },
      {
       "output_type": "stream",
       "stream": "stderr",
       "text": [
        "ERROR (theano.gof.opt): Traceback (most recent call last):\n",
        "  File \"/home/jotham/venvs/2014-12-20_datascibowl/lib/python2.7/site-packages/theano/gof/opt.py\", line 1493, in process_node\n",
        "    replacements = lopt.transform(node)\n",
        "  File \"/home/jotham/venvs/2014-12-20_datascibowl/lib/python2.7/site-packages/theano/sandbox/cuda/opt_util.py\", line 56, in opt\n",
        "    lr = grab_cpu_scalar(node.inputs[0], nd=nd)\n",
        "  File \"/home/jotham/venvs/2014-12-20_datascibowl/lib/python2.7/site-packages/theano/sandbox/cuda/opt_util.py\", line 18, in grab_cpu_scalar\n",
        "    return host_from_gpu(n.inputs[0])\n",
        "NameError: global name 'host_from_gpu' is not defined\n",
        "\n"
       ]
      },
      {
       "output_type": "stream",
       "stream": "stderr",
       "text": [
        "ERROR:theano.gof.opt:Traceback (most recent call last):\n",
        "  File \"/home/jotham/venvs/2014-12-20_datascibowl/lib/python2.7/site-packages/theano/gof/opt.py\", line 1493, in process_node\n",
        "    replacements = lopt.transform(node)\n",
        "  File \"/home/jotham/venvs/2014-12-20_datascibowl/lib/python2.7/site-packages/theano/sandbox/cuda/opt_util.py\", line 56, in opt\n",
        "    lr = grab_cpu_scalar(node.inputs[0], nd=nd)\n",
        "  File \"/home/jotham/venvs/2014-12-20_datascibowl/lib/python2.7/site-packages/theano/sandbox/cuda/opt_util.py\", line 18, in grab_cpu_scalar\n",
        "    return host_from_gpu(n.inputs[0])\n",
        "NameError: global name 'host_from_gpu' is not defined\n",
        "\n"
       ]
      },
      {
       "output_type": "stream",
       "stream": "stderr",
       "text": [
        "ERROR (theano.gof.opt): Optimization failure due to: local_dnn_convw_alpha_merge\n"
       ]
      },
      {
       "output_type": "stream",
       "stream": "stderr",
       "text": [
        "ERROR:theano.gof.opt:Optimization failure due to: local_dnn_convw_alpha_merge\n"
       ]
      },
      {
       "output_type": "stream",
       "stream": "stderr",
       "text": [
        "ERROR (theano.gof.opt): TRACEBACK:\n"
       ]
      },
      {
       "output_type": "stream",
       "stream": "stderr",
       "text": [
        "ERROR:theano.gof.opt:TRACEBACK:\n"
       ]
      },
      {
       "output_type": "stream",
       "stream": "stderr",
       "text": [
        "ERROR (theano.gof.opt): Traceback (most recent call last):\n",
        "  File \"/home/jotham/venvs/2014-12-20_datascibowl/lib/python2.7/site-packages/theano/gof/opt.py\", line 1493, in process_node\n",
        "    replacements = lopt.transform(node)\n",
        "  File \"/home/jotham/venvs/2014-12-20_datascibowl/lib/python2.7/site-packages/theano/sandbox/cuda/opt_util.py\", line 56, in opt\n",
        "    lr = grab_cpu_scalar(node.inputs[0], nd=nd)\n",
        "  File \"/home/jotham/venvs/2014-12-20_datascibowl/lib/python2.7/site-packages/theano/sandbox/cuda/opt_util.py\", line 18, in grab_cpu_scalar\n",
        "    return host_from_gpu(n.inputs[0])\n",
        "NameError: global name 'host_from_gpu' is not defined\n",
        "\n"
       ]
      },
      {
       "output_type": "stream",
       "stream": "stderr",
       "text": [
        "ERROR:theano.gof.opt:Traceback (most recent call last):\n",
        "  File \"/home/jotham/venvs/2014-12-20_datascibowl/lib/python2.7/site-packages/theano/gof/opt.py\", line 1493, in process_node\n",
        "    replacements = lopt.transform(node)\n",
        "  File \"/home/jotham/venvs/2014-12-20_datascibowl/lib/python2.7/site-packages/theano/sandbox/cuda/opt_util.py\", line 56, in opt\n",
        "    lr = grab_cpu_scalar(node.inputs[0], nd=nd)\n",
        "  File \"/home/jotham/venvs/2014-12-20_datascibowl/lib/python2.7/site-packages/theano/sandbox/cuda/opt_util.py\", line 18, in grab_cpu_scalar\n",
        "    return host_from_gpu(n.inputs[0])\n",
        "NameError: global name 'host_from_gpu' is not defined\n",
        "\n"
       ]
      },
      {
       "output_type": "stream",
       "stream": "stderr",
       "text": [
        "ERROR (theano.gof.opt): Optimization failure due to: local_dnn_convi_alpha_merge\n"
       ]
      },
      {
       "output_type": "stream",
       "stream": "stderr",
       "text": [
        "ERROR:theano.gof.opt:Optimization failure due to: local_dnn_convi_alpha_merge\n"
       ]
      },
      {
       "output_type": "stream",
       "stream": "stderr",
       "text": [
        "ERROR (theano.gof.opt): TRACEBACK:\n"
       ]
      },
      {
       "output_type": "stream",
       "stream": "stderr",
       "text": [
        "ERROR:theano.gof.opt:TRACEBACK:\n"
       ]
      },
      {
       "output_type": "stream",
       "stream": "stderr",
       "text": [
        "ERROR (theano.gof.opt): Traceback (most recent call last):\n",
        "  File \"/home/jotham/venvs/2014-12-20_datascibowl/lib/python2.7/site-packages/theano/gof/opt.py\", line 1493, in process_node\n",
        "    replacements = lopt.transform(node)\n",
        "  File \"/home/jotham/venvs/2014-12-20_datascibowl/lib/python2.7/site-packages/theano/sandbox/cuda/opt_util.py\", line 56, in opt\n",
        "    lr = grab_cpu_scalar(node.inputs[0], nd=nd)\n",
        "  File \"/home/jotham/venvs/2014-12-20_datascibowl/lib/python2.7/site-packages/theano/sandbox/cuda/opt_util.py\", line 18, in grab_cpu_scalar\n",
        "    return host_from_gpu(n.inputs[0])\n",
        "NameError: global name 'host_from_gpu' is not defined\n",
        "\n"
       ]
      },
      {
       "output_type": "stream",
       "stream": "stderr",
       "text": [
        "ERROR:theano.gof.opt:Traceback (most recent call last):\n",
        "  File \"/home/jotham/venvs/2014-12-20_datascibowl/lib/python2.7/site-packages/theano/gof/opt.py\", line 1493, in process_node\n",
        "    replacements = lopt.transform(node)\n",
        "  File \"/home/jotham/venvs/2014-12-20_datascibowl/lib/python2.7/site-packages/theano/sandbox/cuda/opt_util.py\", line 56, in opt\n",
        "    lr = grab_cpu_scalar(node.inputs[0], nd=nd)\n",
        "  File \"/home/jotham/venvs/2014-12-20_datascibowl/lib/python2.7/site-packages/theano/sandbox/cuda/opt_util.py\", line 18, in grab_cpu_scalar\n",
        "    return host_from_gpu(n.inputs[0])\n",
        "NameError: global name 'host_from_gpu' is not defined\n",
        "\n"
       ]
      },
      {
       "output_type": "stream",
       "stream": "stdout",
       "text": [
        "Compiling sgd_update done. Time elapsed: 1.767754 seconds\n"
       ]
      },
      {
       "output_type": "stream",
       "stream": "stdout",
       "text": [
        "compiling begin_record_entry...\n"
       ]
      },
      {
       "output_type": "stream",
       "stream": "stdout",
       "text": [
        "compiling begin_record_entry done. Time elapsed: 0.578053 seconds\n"
       ]
      },
      {
       "output_type": "stream",
       "stream": "stdout",
       "text": [
        "Monitored channels: \n"
       ]
      },
      {
       "output_type": "stream",
       "stream": "stdout",
       "text": [
        "\tlearning_rate\n"
       ]
      },
      {
       "output_type": "stream",
       "stream": "stdout",
       "text": [
        "\tmomentum\n"
       ]
      },
      {
       "output_type": "stream",
       "stream": "stdout",
       "text": [
        "\ttotal_seconds_last_epoch\n"
       ]
      },
      {
       "output_type": "stream",
       "stream": "stdout",
       "text": [
        "\ttrain_h0_kernel_norms_max\n"
       ]
      },
      {
       "output_type": "stream",
       "stream": "stdout",
       "text": [
        "\ttrain_h0_kernel_norms_mean\n"
       ]
      },
      {
       "output_type": "stream",
       "stream": "stdout",
       "text": [
        "\ttrain_h0_kernel_norms_min\n"
       ]
      },
      {
       "output_type": "stream",
       "stream": "stdout",
       "text": [
        "\ttrain_h0_max_x.max_u\n"
       ]
      },
      {
       "output_type": "stream",
       "stream": "stdout",
       "text": [
        "\ttrain_h0_max_x.mean_u\n"
       ]
      },
      {
       "output_type": "stream",
       "stream": "stdout",
       "text": [
        "\ttrain_h0_max_x.min_u\n"
       ]
      },
      {
       "output_type": "stream",
       "stream": "stdout",
       "text": [
        "\ttrain_h0_mean_x.max_u\n"
       ]
      },
      {
       "output_type": "stream",
       "stream": "stdout",
       "text": [
        "\ttrain_h0_mean_x.mean_u\n"
       ]
      },
      {
       "output_type": "stream",
       "stream": "stdout",
       "text": [
        "\ttrain_h0_mean_x.min_u\n"
       ]
      },
      {
       "output_type": "stream",
       "stream": "stdout",
       "text": [
        "\ttrain_h0_min_x.max_u\n"
       ]
      },
      {
       "output_type": "stream",
       "stream": "stdout",
       "text": [
        "\ttrain_h0_min_x.mean_u\n"
       ]
      },
      {
       "output_type": "stream",
       "stream": "stdout",
       "text": [
        "\ttrain_h0_min_x.min_u\n"
       ]
      },
      {
       "output_type": "stream",
       "stream": "stdout",
       "text": [
        "\ttrain_h0_range_x.max_u\n"
       ]
      },
      {
       "output_type": "stream",
       "stream": "stdout",
       "text": [
        "\ttrain_h0_range_x.mean_u\n"
       ]
      },
      {
       "output_type": "stream",
       "stream": "stdout",
       "text": [
        "\ttrain_h0_range_x.min_u\n"
       ]
      },
      {
       "output_type": "stream",
       "stream": "stdout",
       "text": [
        "\ttrain_h1_kernel_norms_max\n"
       ]
      },
      {
       "output_type": "stream",
       "stream": "stdout",
       "text": [
        "\ttrain_h1_kernel_norms_mean\n"
       ]
      },
      {
       "output_type": "stream",
       "stream": "stdout",
       "text": [
        "\ttrain_h1_kernel_norms_min\n"
       ]
      },
      {
       "output_type": "stream",
       "stream": "stdout",
       "text": [
        "\ttrain_h1_max_x.max_u\n"
       ]
      },
      {
       "output_type": "stream",
       "stream": "stdout",
       "text": [
        "\ttrain_h1_max_x.mean_u\n"
       ]
      },
      {
       "output_type": "stream",
       "stream": "stdout",
       "text": [
        "\ttrain_h1_max_x.min_u\n"
       ]
      },
      {
       "output_type": "stream",
       "stream": "stdout",
       "text": [
        "\ttrain_h1_mean_x.max_u\n"
       ]
      },
      {
       "output_type": "stream",
       "stream": "stdout",
       "text": [
        "\ttrain_h1_mean_x.mean_u\n"
       ]
      },
      {
       "output_type": "stream",
       "stream": "stdout",
       "text": [
        "\ttrain_h1_mean_x.min_u\n"
       ]
      },
      {
       "output_type": "stream",
       "stream": "stdout",
       "text": [
        "\ttrain_h1_min_x.max_u\n"
       ]
      },
      {
       "output_type": "stream",
       "stream": "stdout",
       "text": [
        "\ttrain_h1_min_x.mean_u\n"
       ]
      },
      {
       "output_type": "stream",
       "stream": "stdout",
       "text": [
        "\ttrain_h1_min_x.min_u\n"
       ]
      },
      {
       "output_type": "stream",
       "stream": "stdout",
       "text": [
        "\ttrain_h1_range_x.max_u\n"
       ]
      },
      {
       "output_type": "stream",
       "stream": "stdout",
       "text": [
        "\ttrain_h1_range_x.mean_u\n"
       ]
      },
      {
       "output_type": "stream",
       "stream": "stdout",
       "text": [
        "\ttrain_h1_range_x.min_u\n"
       ]
      },
      {
       "output_type": "stream",
       "stream": "stdout",
       "text": [
        "\ttrain_h2_kernel_norms_max\n"
       ]
      },
      {
       "output_type": "stream",
       "stream": "stdout",
       "text": [
        "\ttrain_h2_kernel_norms_mean\n"
       ]
      },
      {
       "output_type": "stream",
       "stream": "stdout",
       "text": [
        "\ttrain_h2_kernel_norms_min\n"
       ]
      },
      {
       "output_type": "stream",
       "stream": "stdout",
       "text": [
        "\ttrain_h2_max_x.max_u\n"
       ]
      },
      {
       "output_type": "stream",
       "stream": "stdout",
       "text": [
        "\ttrain_h2_max_x.mean_u\n"
       ]
      },
      {
       "output_type": "stream",
       "stream": "stdout",
       "text": [
        "\ttrain_h2_max_x.min_u\n"
       ]
      },
      {
       "output_type": "stream",
       "stream": "stdout",
       "text": [
        "\ttrain_h2_mean_x.max_u\n"
       ]
      },
      {
       "output_type": "stream",
       "stream": "stdout",
       "text": [
        "\ttrain_h2_mean_x.mean_u\n"
       ]
      },
      {
       "output_type": "stream",
       "stream": "stdout",
       "text": [
        "\ttrain_h2_mean_x.min_u\n"
       ]
      },
      {
       "output_type": "stream",
       "stream": "stdout",
       "text": [
        "\ttrain_h2_min_x.max_u\n"
       ]
      },
      {
       "output_type": "stream",
       "stream": "stdout",
       "text": [
        "\ttrain_h2_min_x.mean_u\n"
       ]
      },
      {
       "output_type": "stream",
       "stream": "stdout",
       "text": [
        "\ttrain_h2_min_x.min_u\n"
       ]
      },
      {
       "output_type": "stream",
       "stream": "stdout",
       "text": [
        "\ttrain_h2_range_x.max_u\n"
       ]
      },
      {
       "output_type": "stream",
       "stream": "stdout",
       "text": [
        "\ttrain_h2_range_x.mean_u\n"
       ]
      },
      {
       "output_type": "stream",
       "stream": "stdout",
       "text": [
        "\ttrain_h2_range_x.min_u\n"
       ]
      },
      {
       "output_type": "stream",
       "stream": "stdout",
       "text": [
        "\ttrain_objective\n"
       ]
      },
      {
       "output_type": "stream",
       "stream": "stdout",
       "text": [
        "\ttrain_y_col_norms_max\n"
       ]
      },
      {
       "output_type": "stream",
       "stream": "stdout",
       "text": [
        "\ttrain_y_col_norms_mean\n"
       ]
      },
      {
       "output_type": "stream",
       "stream": "stdout",
       "text": [
        "\ttrain_y_col_norms_min\n"
       ]
      },
      {
       "output_type": "stream",
       "stream": "stdout",
       "text": [
        "\ttrain_y_max_max_class\n"
       ]
      },
      {
       "output_type": "stream",
       "stream": "stdout",
       "text": [
        "\ttrain_y_mean_max_class\n"
       ]
      },
      {
       "output_type": "stream",
       "stream": "stdout",
       "text": [
        "\ttrain_y_min_max_class\n"
       ]
      },
      {
       "output_type": "stream",
       "stream": "stdout",
       "text": [
        "\ttrain_y_misclass\n"
       ]
      },
      {
       "output_type": "stream",
       "stream": "stdout",
       "text": [
        "\ttrain_y_nll\n"
       ]
      },
      {
       "output_type": "stream",
       "stream": "stdout",
       "text": [
        "\ttrain_y_row_norms_max\n"
       ]
      },
      {
       "output_type": "stream",
       "stream": "stdout",
       "text": [
        "\ttrain_y_row_norms_mean\n"
       ]
      },
      {
       "output_type": "stream",
       "stream": "stdout",
       "text": [
        "\ttrain_y_row_norms_min\n"
       ]
      },
      {
       "output_type": "stream",
       "stream": "stdout",
       "text": [
        "\ttraining_seconds_this_epoch\n"
       ]
      },
      {
       "output_type": "stream",
       "stream": "stdout",
       "text": [
        "\tvalid_h0_kernel_norms_max\n"
       ]
      },
      {
       "output_type": "stream",
       "stream": "stdout",
       "text": [
        "\tvalid_h0_kernel_norms_mean\n"
       ]
      },
      {
       "output_type": "stream",
       "stream": "stdout",
       "text": [
        "\tvalid_h0_kernel_norms_min\n"
       ]
      },
      {
       "output_type": "stream",
       "stream": "stdout",
       "text": [
        "\tvalid_h0_max_x.max_u\n"
       ]
      },
      {
       "output_type": "stream",
       "stream": "stdout",
       "text": [
        "\tvalid_h0_max_x.mean_u\n"
       ]
      },
      {
       "output_type": "stream",
       "stream": "stdout",
       "text": [
        "\tvalid_h0_max_x.min_u\n"
       ]
      },
      {
       "output_type": "stream",
       "stream": "stdout",
       "text": [
        "\tvalid_h0_mean_x.max_u\n"
       ]
      },
      {
       "output_type": "stream",
       "stream": "stdout",
       "text": [
        "\tvalid_h0_mean_x.mean_u\n"
       ]
      },
      {
       "output_type": "stream",
       "stream": "stdout",
       "text": [
        "\tvalid_h0_mean_x.min_u\n"
       ]
      },
      {
       "output_type": "stream",
       "stream": "stdout",
       "text": [
        "\tvalid_h0_min_x.max_u\n"
       ]
      },
      {
       "output_type": "stream",
       "stream": "stdout",
       "text": [
        "\tvalid_h0_min_x.mean_u\n"
       ]
      },
      {
       "output_type": "stream",
       "stream": "stdout",
       "text": [
        "\tvalid_h0_min_x.min_u\n"
       ]
      },
      {
       "output_type": "stream",
       "stream": "stdout",
       "text": [
        "\tvalid_h0_range_x.max_u\n"
       ]
      },
      {
       "output_type": "stream",
       "stream": "stdout",
       "text": [
        "\tvalid_h0_range_x.mean_u\n"
       ]
      },
      {
       "output_type": "stream",
       "stream": "stdout",
       "text": [
        "\tvalid_h0_range_x.min_u\n"
       ]
      },
      {
       "output_type": "stream",
       "stream": "stdout",
       "text": [
        "\tvalid_h1_kernel_norms_max\n"
       ]
      },
      {
       "output_type": "stream",
       "stream": "stdout",
       "text": [
        "\tvalid_h1_kernel_norms_mean\n"
       ]
      },
      {
       "output_type": "stream",
       "stream": "stdout",
       "text": [
        "\tvalid_h1_kernel_norms_min\n"
       ]
      },
      {
       "output_type": "stream",
       "stream": "stdout",
       "text": [
        "\tvalid_h1_max_x.max_u\n"
       ]
      },
      {
       "output_type": "stream",
       "stream": "stdout",
       "text": [
        "\tvalid_h1_max_x.mean_u\n"
       ]
      },
      {
       "output_type": "stream",
       "stream": "stdout",
       "text": [
        "\tvalid_h1_max_x.min_u\n"
       ]
      },
      {
       "output_type": "stream",
       "stream": "stdout",
       "text": [
        "\tvalid_h1_mean_x.max_u\n"
       ]
      },
      {
       "output_type": "stream",
       "stream": "stdout",
       "text": [
        "\tvalid_h1_mean_x.mean_u\n"
       ]
      },
      {
       "output_type": "stream",
       "stream": "stdout",
       "text": [
        "\tvalid_h1_mean_x.min_u\n"
       ]
      },
      {
       "output_type": "stream",
       "stream": "stdout",
       "text": [
        "\tvalid_h1_min_x.max_u\n"
       ]
      },
      {
       "output_type": "stream",
       "stream": "stdout",
       "text": [
        "\tvalid_h1_min_x.mean_u\n"
       ]
      },
      {
       "output_type": "stream",
       "stream": "stdout",
       "text": [
        "\tvalid_h1_min_x.min_u\n"
       ]
      },
      {
       "output_type": "stream",
       "stream": "stdout",
       "text": [
        "\tvalid_h1_range_x.max_u\n"
       ]
      },
      {
       "output_type": "stream",
       "stream": "stdout",
       "text": [
        "\tvalid_h1_range_x.mean_u\n"
       ]
      },
      {
       "output_type": "stream",
       "stream": "stdout",
       "text": [
        "\tvalid_h1_range_x.min_u\n"
       ]
      },
      {
       "output_type": "stream",
       "stream": "stdout",
       "text": [
        "\tvalid_h2_kernel_norms_max\n"
       ]
      },
      {
       "output_type": "stream",
       "stream": "stdout",
       "text": [
        "\tvalid_h2_kernel_norms_mean\n"
       ]
      },
      {
       "output_type": "stream",
       "stream": "stdout",
       "text": [
        "\tvalid_h2_kernel_norms_min\n"
       ]
      },
      {
       "output_type": "stream",
       "stream": "stdout",
       "text": [
        "\tvalid_h2_max_x.max_u\n"
       ]
      },
      {
       "output_type": "stream",
       "stream": "stdout",
       "text": [
        "\tvalid_h2_max_x.mean_u\n"
       ]
      },
      {
       "output_type": "stream",
       "stream": "stdout",
       "text": [
        "\tvalid_h2_max_x.min_u\n"
       ]
      },
      {
       "output_type": "stream",
       "stream": "stdout",
       "text": [
        "\tvalid_h2_mean_x.max_u\n"
       ]
      },
      {
       "output_type": "stream",
       "stream": "stdout",
       "text": [
        "\tvalid_h2_mean_x.mean_u\n"
       ]
      },
      {
       "output_type": "stream",
       "stream": "stdout",
       "text": [
        "\tvalid_h2_mean_x.min_u\n"
       ]
      },
      {
       "output_type": "stream",
       "stream": "stdout",
       "text": [
        "\tvalid_h2_min_x.max_u\n"
       ]
      },
      {
       "output_type": "stream",
       "stream": "stdout",
       "text": [
        "\tvalid_h2_min_x.mean_u\n"
       ]
      },
      {
       "output_type": "stream",
       "stream": "stdout",
       "text": [
        "\tvalid_h2_min_x.min_u\n"
       ]
      },
      {
       "output_type": "stream",
       "stream": "stdout",
       "text": [
        "\tvalid_h2_range_x.max_u\n"
       ]
      },
      {
       "output_type": "stream",
       "stream": "stdout",
       "text": [
        "\tvalid_h2_range_x.mean_u\n"
       ]
      },
      {
       "output_type": "stream",
       "stream": "stdout",
       "text": [
        "\tvalid_h2_range_x.min_u\n"
       ]
      },
      {
       "output_type": "stream",
       "stream": "stdout",
       "text": [
        "\tvalid_objective\n"
       ]
      },
      {
       "output_type": "stream",
       "stream": "stdout",
       "text": [
        "\tvalid_y_col_norms_max\n"
       ]
      },
      {
       "output_type": "stream",
       "stream": "stdout",
       "text": [
        "\tvalid_y_col_norms_mean\n"
       ]
      },
      {
       "output_type": "stream",
       "stream": "stdout",
       "text": [
        "\tvalid_y_col_norms_min\n"
       ]
      },
      {
       "output_type": "stream",
       "stream": "stdout",
       "text": [
        "\tvalid_y_max_max_class\n"
       ]
      },
      {
       "output_type": "stream",
       "stream": "stdout",
       "text": [
        "\tvalid_y_mean_max_class\n"
       ]
      },
      {
       "output_type": "stream",
       "stream": "stdout",
       "text": [
        "\tvalid_y_min_max_class\n"
       ]
      },
      {
       "output_type": "stream",
       "stream": "stdout",
       "text": [
        "\tvalid_y_misclass\n"
       ]
      },
      {
       "output_type": "stream",
       "stream": "stdout",
       "text": [
        "\tvalid_y_nll\n"
       ]
      },
      {
       "output_type": "stream",
       "stream": "stdout",
       "text": [
        "\tvalid_y_row_norms_max\n"
       ]
      },
      {
       "output_type": "stream",
       "stream": "stdout",
       "text": [
        "\tvalid_y_row_norms_mean\n"
       ]
      },
      {
       "output_type": "stream",
       "stream": "stdout",
       "text": [
        "\tvalid_y_row_norms_min\n"
       ]
      },
      {
       "output_type": "stream",
       "stream": "stdout",
       "text": [
        "Compiling accum...\n"
       ]
      },
      {
       "output_type": "stream",
       "stream": "stdout",
       "text": [
        "graph size: 718\n"
       ]
      },
      {
       "output_type": "stream",
       "stream": "stdout",
       "text": [
        "graph size: 706\n"
       ]
      },
      {
       "output_type": "stream",
       "stream": "stdout",
       "text": [
        "Compiling accum done. Time elapsed: 5.470933 seconds\n"
       ]
      },
      {
       "output_type": "stream",
       "stream": "stdout",
       "text": [
        "Monitoring step:\n"
       ]
      },
      {
       "output_type": "stream",
       "stream": "stdout",
       "text": [
        "\tEpochs seen: 0\n"
       ]
      },
      {
       "output_type": "stream",
       "stream": "stdout",
       "text": [
        "\tBatches seen: 0\n"
       ]
      },
      {
       "output_type": "stream",
       "stream": "stdout",
       "text": [
        "\tExamples seen: 0\n"
       ]
      },
      {
       "output_type": "stream",
       "stream": "stdout",
       "text": [
        "\tlearning_rate: 0.0499999299645\n"
       ]
      },
      {
       "output_type": "stream",
       "stream": "stdout",
       "text": [
        "\tmomentum: 0.500000655651\n"
       ]
      },
      {
       "output_type": "stream",
       "stream": "stdout",
       "text": [
        "\ttotal_seconds_last_epoch: 0.0\n"
       ]
      },
      {
       "output_type": "stream",
       "stream": "stdout",
       "text": [
        "\ttrain_h0_kernel_norms_max: 0.0256203263998\n"
       ]
      },
      {
       "output_type": "stream",
       "stream": "stdout",
       "text": [
        "\ttrain_h0_kernel_norms_mean: 0.0229786783457\n"
       ]
      },
      {
       "output_type": "stream",
       "stream": "stdout",
       "text": [
        "\ttrain_h0_kernel_norms_min: 0.0195152554661\n"
       ]
      },
      {
       "output_type": "stream",
       "stream": "stdout",
       "text": [
        "\ttrain_h0_max_x.max_u: 0.0511786341667\n"
       ]
      },
      {
       "output_type": "stream",
       "stream": "stdout",
       "text": [
        "\ttrain_h0_max_x.mean_u: 0.0267098173499\n"
       ]
      },
      {
       "output_type": "stream",
       "stream": "stdout",
       "text": [
        "\ttrain_h0_max_x.min_u: 0.0156553015113\n"
       ]
      },
      {
       "output_type": "stream",
       "stream": "stdout",
       "text": [
        "\ttrain_h0_mean_x.max_u: 0.0083525031805\n"
       ]
      },
      {
       "output_type": "stream",
       "stream": "stdout",
       "text": [
        "\ttrain_h0_mean_x.mean_u: 0.0051887948066\n"
       ]
      },
      {
       "output_type": "stream",
       "stream": "stdout",
       "text": [
        "\ttrain_h0_mean_x.min_u: 0.00394368218258\n"
       ]
      },
      {
       "output_type": "stream",
       "stream": "stdout",
       "text": [
        "\ttrain_h0_min_x.max_u: -1.49490924741e-05\n"
       ]
      },
      {
       "output_type": "stream",
       "stream": "stdout",
       "text": [
        "\ttrain_h0_min_x.mean_u: -0.00392942503095\n"
       ]
      },
      {
       "output_type": "stream",
       "stream": "stdout",
       "text": [
        "\ttrain_h0_min_x.min_u: -0.0175530314445\n"
       ]
      },
      {
       "output_type": "stream",
       "stream": "stdout",
       "text": [
        "\ttrain_h0_range_x.max_u: 0.0586198940873\n"
       ]
      },
      {
       "output_type": "stream",
       "stream": "stdout",
       "text": [
        "\ttrain_h0_range_x.mean_u: 0.0306392367929\n"
       ]
      },
      {
       "output_type": "stream",
       "stream": "stdout",
       "text": [
        "\ttrain_h0_range_x.min_u: 0.019024765119\n"
       ]
      },
      {
       "output_type": "stream",
       "stream": "stdout",
       "text": [
        "\ttrain_h1_kernel_norms_max: 0.163002640009\n"
       ]
      },
      {
       "output_type": "stream",
       "stream": "stdout",
       "text": [
        "\ttrain_h1_kernel_norms_mean: 0.160209923983\n"
       ]
      },
      {
       "output_type": "stream",
       "stream": "stdout",
       "text": [
        "\ttrain_h1_kernel_norms_min: 0.157817900181\n"
       ]
      },
      {
       "output_type": "stream",
       "stream": "stdout",
       "text": [
        "\ttrain_h1_max_x.max_u: 0.00746999587864\n"
       ]
      },
      {
       "output_type": "stream",
       "stream": "stdout",
       "text": [
        "\ttrain_h1_max_x.mean_u: 0.00429249648005\n"
       ]
      },
      {
       "output_type": "stream",
       "stream": "stdout",
       "text": [
        "\ttrain_h1_max_x.min_u: 0.00119413144421\n"
       ]
      },
      {
       "output_type": "stream",
       "stream": "stdout",
       "text": [
        "\ttrain_h1_mean_x.max_u: 0.00315595697612\n"
       ]
      },
      {
       "output_type": "stream",
       "stream": "stdout",
       "text": [
        "\ttrain_h1_mean_x.mean_u: 0.0013507695403\n"
       ]
      },
      {
       "output_type": "stream",
       "stream": "stdout",
       "text": [
        "\ttrain_h1_mean_x.min_u: -0.000552692334168\n"
       ]
      },
      {
       "output_type": "stream",
       "stream": "stdout",
       "text": [
        "\ttrain_h1_min_x.max_u: 0.000842472712975\n"
       ]
      },
      {
       "output_type": "stream",
       "stream": "stdout",
       "text": [
        "\ttrain_h1_min_x.mean_u: -0.000387179490644\n"
       ]
      },
      {
       "output_type": "stream",
       "stream": "stdout",
       "text": [
        "\ttrain_h1_min_x.min_u: -0.00415014382452\n"
       ]
      },
      {
       "output_type": "stream",
       "stream": "stdout",
       "text": [
        "\ttrain_h1_range_x.max_u: 0.00723070278764\n"
       ]
      },
      {
       "output_type": "stream",
       "stream": "stdout",
       "text": [
        "\ttrain_h1_range_x.mean_u: 0.00467967661098\n"
       ]
      },
      {
       "output_type": "stream",
       "stream": "stdout",
       "text": [
        "\ttrain_h1_range_x.min_u: 0.00254928693175\n"
       ]
      },
      {
       "output_type": "stream",
       "stream": "stdout",
       "text": [
        "\ttrain_h2_kernel_norms_max: 0.102913126349\n"
       ]
      },
      {
       "output_type": "stream",
       "stream": "stdout",
       "text": [
        "\ttrain_h2_kernel_norms_mean: 0.0999664515257\n"
       ]
      },
      {
       "output_type": "stream",
       "stream": "stdout",
       "text": [
        "\ttrain_h2_kernel_norms_min: 0.097099840641\n"
       ]
      },
      {
       "output_type": "stream",
       "stream": "stdout",
       "text": [
        "\ttrain_h2_max_x.max_u: 0.000931132002734\n"
       ]
      },
      {
       "output_type": "stream",
       "stream": "stdout",
       "text": [
        "\ttrain_h2_max_x.mean_u: 0.00054940400878\n"
       ]
      },
      {
       "output_type": "stream",
       "stream": "stdout",
       "text": [
        "\ttrain_h2_max_x.min_u: 0.000242823865847\n"
       ]
      },
      {
       "output_type": "stream",
       "stream": "stdout",
       "text": [
        "\ttrain_h2_mean_x.max_u: 0.000242894457188\n"
       ]
      },
      {
       "output_type": "stream",
       "stream": "stdout",
       "text": [
        "\ttrain_h2_mean_x.mean_u: 0.000148014776642\n"
       ]
      },
      {
       "output_type": "stream",
       "stream": "stdout",
       "text": [
        "\ttrain_h2_mean_x.min_u: 5.32899903192e-05\n"
       ]
      },
      {
       "output_type": "stream",
       "stream": "stdout",
       "text": [
        "\ttrain_h2_min_x.max_u: 5.47338931938e-05\n"
       ]
      },
      {
       "output_type": "stream",
       "stream": "stdout",
       "text": [
        "\ttrain_h2_min_x.mean_u: -3.60477383765e-06\n"
       ]
      },
      {
       "output_type": "stream",
       "stream": "stdout",
       "text": [
        "\ttrain_h2_min_x.min_u: -9.33076589718e-05\n"
       ]
      },
      {
       "output_type": "stream",
       "stream": "stdout",
       "text": [
        "\ttrain_h2_range_x.max_u: 0.000900481187273\n"
       ]
      },
      {
       "output_type": "stream",
       "stream": "stdout",
       "text": [
        "\ttrain_h2_range_x.mean_u: 0.000553009100258\n"
       ]
      },
      {
       "output_type": "stream",
       "stream": "stdout",
       "text": [
        "\ttrain_h2_range_x.min_u: 0.000304811284877\n"
       ]
      },
      {
       "output_type": "stream",
       "stream": "stdout",
       "text": [
        "\ttrain_objective: 4.79579019547\n"
       ]
      },
      {
       "output_type": "stream",
       "stream": "stdout",
       "text": [
        "\ttrain_y_col_norms_max: 0.0605306103826\n"
       ]
      },
      {
       "output_type": "stream",
       "stream": "stdout",
       "text": [
        "\ttrain_y_col_norms_mean: 0.056682150811\n"
       ]
      },
      {
       "output_type": "stream",
       "stream": "stdout",
       "text": [
        "\ttrain_y_col_norms_min: 0.053410474211\n"
       ]
      },
      {
       "output_type": "stream",
       "stream": "stdout",
       "text": [
        "\ttrain_y_max_max_class: 0.00826486200094\n"
       ]
      },
      {
       "output_type": "stream",
       "stream": "stdout",
       "text": [
        "\ttrain_y_mean_max_class: 0.00826467387378\n"
       ]
      },
      {
       "output_type": "stream",
       "stream": "stdout",
       "text": [
        "\ttrain_y_min_max_class: 0.00826455652714\n"
       ]
      },
      {
       "output_type": "stream",
       "stream": "stdout",
       "text": [
        "\ttrain_y_misclass: 0.997521460056\n"
       ]
      },
      {
       "output_type": "stream",
       "stream": "stdout",
       "text": [
        "\ttrain_y_nll: 4.79579019547\n"
       ]
      },
      {
       "output_type": "stream",
       "stream": "stdout",
       "text": [
        "\ttrain_y_row_norms_max: 0.0357040129602\n"
       ]
      },
      {
       "output_type": "stream",
       "stream": "stdout",
       "text": [
        "\ttrain_y_row_norms_mean: 0.0318023525178\n"
       ]
      },
      {
       "output_type": "stream",
       "stream": "stdout",
       "text": [
        "\ttrain_y_row_norms_min: 0.0282722879201\n"
       ]
      },
      {
       "output_type": "stream",
       "stream": "stdout",
       "text": [
        "\ttraining_seconds_this_epoch: 0.0\n"
       ]
      },
      {
       "output_type": "stream",
       "stream": "stdout",
       "text": [
        "\tvalid_h0_kernel_norms_max: 0.0256203766912\n"
       ]
      },
      {
       "output_type": "stream",
       "stream": "stdout",
       "text": [
        "\tvalid_h0_kernel_norms_mean: 0.0229787379503\n"
       ]
      },
      {
       "output_type": "stream",
       "stream": "stdout",
       "text": [
        "\tvalid_h0_kernel_norms_min: 0.0195152498782\n"
       ]
      },
      {
       "output_type": "stream",
       "stream": "stdout",
       "text": [
        "\tvalid_h0_max_x.max_u: 0.050674341619\n"
       ]
      },
      {
       "output_type": "stream",
       "stream": "stdout",
       "text": [
        "\tvalid_h0_max_x.mean_u: 0.0266516245902\n"
       ]
      },
      {
       "output_type": "stream",
       "stream": "stdout",
       "text": [
        "\tvalid_h0_max_x.min_u: 0.015435625799\n"
       ]
      },
      {
       "output_type": "stream",
       "stream": "stdout",
       "text": [
        "\tvalid_h0_mean_x.max_u: 0.00831036642194\n"
       ]
      },
      {
       "output_type": "stream",
       "stream": "stdout",
       "text": [
        "\tvalid_h0_mean_x.mean_u: 0.00516572082415\n"
       ]
      },
      {
       "output_type": "stream",
       "stream": "stdout",
       "text": [
        "\tvalid_h0_mean_x.min_u: 0.00390027672984\n"
       ]
      },
      {
       "output_type": "stream",
       "stream": "stdout",
       "text": [
        "\tvalid_h0_min_x.max_u: -1.63094500749e-05\n"
       ]
      },
      {
       "output_type": "stream",
       "stream": "stdout",
       "text": [
        "\tvalid_h0_min_x.mean_u: -0.00389387062751\n"
       ]
      },
      {
       "output_type": "stream",
       "stream": "stdout",
       "text": [
        "\tvalid_h0_min_x.min_u: -0.017576534301\n"
       ]
      },
      {
       "output_type": "stream",
       "stream": "stdout",
       "text": [
        "\tvalid_h0_range_x.max_u: 0.0579822510481\n"
       ]
      },
      {
       "output_type": "stream",
       "stream": "stdout",
       "text": [
        "\tvalid_h0_range_x.mean_u: 0.0305454954505\n"
       ]
      },
      {
       "output_type": "stream",
       "stream": "stdout",
       "text": [
        "\tvalid_h0_range_x.min_u: 0.0189269036055\n"
       ]
      },
      {
       "output_type": "stream",
       "stream": "stdout",
       "text": [
        "\tvalid_h1_kernel_norms_max: 0.163002386689\n"
       ]
      },
      {
       "output_type": "stream",
       "stream": "stdout",
       "text": [
        "\tvalid_h1_kernel_norms_mean: 0.160210296512\n"
       ]
      },
      {
       "output_type": "stream",
       "stream": "stdout",
       "text": [
        "\tvalid_h1_kernel_norms_min: 0.157817512751\n"
       ]
      },
      {
       "output_type": "stream",
       "stream": "stdout",
       "text": [
        "\tvalid_h1_max_x.max_u: 0.00748396478593\n"
       ]
      },
      {
       "output_type": "stream",
       "stream": "stdout",
       "text": [
        "\tvalid_h1_max_x.mean_u: 0.00428561028093\n"
       ]
      },
      {
       "output_type": "stream",
       "stream": "stdout",
       "text": [
        "\tvalid_h1_max_x.min_u: 0.00116996956058\n"
       ]
      },
      {
       "output_type": "stream",
       "stream": "stdout",
       "text": [
        "\tvalid_h1_mean_x.max_u: 0.00314901582897\n"
       ]
      },
      {
       "output_type": "stream",
       "stream": "stdout",
       "text": [
        "\tvalid_h1_mean_x.mean_u: 0.00135025463533\n"
       ]
      },
      {
       "output_type": "stream",
       "stream": "stdout",
       "text": [
        "\tvalid_h1_mean_x.min_u: -0.000551388598979\n"
       ]
      },
      {
       "output_type": "stream",
       "stream": "stdout",
       "text": [
        "\tvalid_h1_min_x.max_u: 0.000825814087875\n"
       ]
      },
      {
       "output_type": "stream",
       "stream": "stdout",
       "text": [
        "\tvalid_h1_min_x.mean_u: -0.00038722215686\n"
       ]
      },
      {
       "output_type": "stream",
       "stream": "stdout",
       "text": [
        "\tvalid_h1_min_x.min_u: -0.00419878493994\n"
       ]
      },
      {
       "output_type": "stream",
       "stream": "stdout",
       "text": [
        "\tvalid_h1_range_x.max_u: 0.00729622505605\n"
       ]
      },
      {
       "output_type": "stream",
       "stream": "stdout",
       "text": [
        "\tvalid_h1_range_x.mean_u: 0.00467283278704\n"
       ]
      },
      {
       "output_type": "stream",
       "stream": "stdout",
       "text": [
        "\tvalid_h1_range_x.min_u: 0.00254442635924\n"
       ]
      },
      {
       "output_type": "stream",
       "stream": "stdout",
       "text": [
        "\tvalid_h2_kernel_norms_max: 0.102913372219\n"
       ]
      },
      {
       "output_type": "stream",
       "stream": "stdout",
       "text": [
        "\tvalid_h2_kernel_norms_mean: 0.0999667048454\n"
       ]
      },
      {
       "output_type": "stream",
       "stream": "stdout",
       "text": [
        "\tvalid_h2_kernel_norms_min: 0.0971000865102\n"
       ]
      },
      {
       "output_type": "stream",
       "stream": "stdout",
       "text": [
        "\tvalid_h2_max_x.max_u: 0.000918623059988\n"
       ]
      },
      {
       "output_type": "stream",
       "stream": "stdout",
       "text": [
        "\tvalid_h2_max_x.mean_u: 0.000544562004507\n"
       ]
      },
      {
       "output_type": "stream",
       "stream": "stdout",
       "text": [
        "\tvalid_h2_max_x.min_u: 0.000242723108386\n"
       ]
      },
      {
       "output_type": "stream",
       "stream": "stdout",
       "text": [
        "\tvalid_h2_mean_x.max_u: 0.000243006361416\n"
       ]
      },
      {
       "output_type": "stream",
       "stream": "stdout",
       "text": [
        "\tvalid_h2_mean_x.mean_u: 0.000147944971104\n"
       ]
      },
      {
       "output_type": "stream",
       "stream": "stdout",
       "text": [
        "\tvalid_h2_mean_x.min_u: 5.32242447662e-05\n"
       ]
      },
      {
       "output_type": "stream",
       "stream": "stdout",
       "text": [
        "\tvalid_h2_min_x.max_u: 5.53061181563e-05\n"
       ]
      },
      {
       "output_type": "stream",
       "stream": "stdout",
       "text": [
        "\tvalid_h2_min_x.mean_u: -3.32687204718e-06\n"
       ]
      },
      {
       "output_type": "stream",
       "stream": "stdout",
       "text": [
        "\tvalid_h2_min_x.min_u: -9.3593094789e-05\n"
       ]
      },
      {
       "output_type": "stream",
       "stream": "stdout",
       "text": [
        "\tvalid_h2_range_x.max_u: 0.000888744194526\n"
       ]
      },
      {
       "output_type": "stream",
       "stream": "stdout",
       "text": [
        "\tvalid_h2_range_x.mean_u: 0.000547888863366\n"
       ]
      },
      {
       "output_type": "stream",
       "stream": "stdout",
       "text": [
        "\tvalid_h2_range_x.min_u: 0.000302350206766\n"
       ]
      },
      {
       "output_type": "stream",
       "stream": "stdout",
       "text": [
        "\tvalid_objective: 4.79579114914\n"
       ]
      },
      {
       "output_type": "stream",
       "stream": "stdout",
       "text": [
        "\tvalid_y_col_norms_max: 0.0605307631195\n"
       ]
      },
      {
       "output_type": "stream",
       "stream": "stdout",
       "text": [
        "\tvalid_y_col_norms_mean: 0.0566821433604\n"
       ]
      },
      {
       "output_type": "stream",
       "stream": "stdout",
       "text": [
        "\tvalid_y_col_norms_min: 0.0534105934203\n"
       ]
      },
      {
       "output_type": "stream",
       "stream": "stdout",
       "text": [
        "\tvalid_y_max_max_class: 0.00826486106962\n"
       ]
      },
      {
       "output_type": "stream",
       "stream": "stdout",
       "text": [
        "\tvalid_y_mean_max_class: 0.00826467294246\n"
       ]
      },
      {
       "output_type": "stream",
       "stream": "stdout",
       "text": [
        "\tvalid_y_min_max_class: 0.00826455559582\n"
       ]
      },
      {
       "output_type": "stream",
       "stream": "stdout",
       "text": [
        "\tvalid_y_misclass: 0.997799813747\n"
       ]
      },
      {
       "output_type": "stream",
       "stream": "stdout",
       "text": [
        "\tvalid_y_nll: 4.79579019547\n"
       ]
      },
      {
       "output_type": "stream",
       "stream": "stdout",
       "text": [
        "\tvalid_y_row_norms_max: 0.0357039086521\n"
       ]
      },
      {
       "output_type": "stream",
       "stream": "stdout",
       "text": [
        "\tvalid_y_row_norms_mean: 0.0318023599684\n"
       ]
      },
      {
       "output_type": "stream",
       "stream": "stdout",
       "text": [
        "\tvalid_y_row_norms_min: 0.0282723698765\n"
       ]
      },
      {
       "output_type": "stream",
       "stream": "stdout",
       "text": [
        "Saving to cnn_00_best.pkl...\n"
       ]
      },
      {
       "output_type": "stream",
       "stream": "stdout",
       "text": [
        "Saving to cnn_00_best.pkl done. Time elapsed: 0.207982 seconds\n"
       ]
      },
      {
       "output_type": "stream",
       "stream": "stdout",
       "text": [
        "Time this epoch: 0:01:18.402823\n"
       ]
      },
      {
       "output_type": "stream",
       "stream": "stdout",
       "text": [
        "Monitoring step:\n"
       ]
      },
      {
       "output_type": "stream",
       "stream": "stdout",
       "text": [
        "\tEpochs seen: 1\n"
       ]
      },
      {
       "output_type": "stream",
       "stream": "stdout",
       "text": [
        "\tBatches seen: 250\n"
       ]
      },
      {
       "output_type": "stream",
       "stream": "stdout",
       "text": [
        "\tExamples seen: 25000\n"
       ]
      },
      {
       "output_type": "stream",
       "stream": "stdout",
       "text": [
        "\tlearning_rate: 0.0495025701821\n"
       ]
      },
      {
       "output_type": "stream",
       "stream": "stdout",
       "text": [
        "\tmomentum: 0.500000655651\n"
       ]
      },
      {
       "output_type": "stream",
       "stream": "stdout",
       "text": [
        "\ttotal_seconds_last_epoch: 0.0\n"
       ]
      },
      {
       "output_type": "stream",
       "stream": "stdout",
       "text": [
        "\ttrain_h0_kernel_norms_max: 0.0266920663416\n"
       ]
      },
      {
       "output_type": "stream",
       "stream": "stdout",
       "text": [
        "\ttrain_h0_kernel_norms_mean: 0.0233465414494\n"
       ]
      },
      {
       "output_type": "stream",
       "stream": "stdout",
       "text": [
        "\ttrain_h0_kernel_norms_min: 0.0202129147947\n"
       ]
      },
      {
       "output_type": "stream",
       "stream": "stdout",
       "text": [
        "\ttrain_h0_max_x.max_u: 0.0666539892554\n"
       ]
      },
      {
       "output_type": "stream",
       "stream": "stdout",
       "text": [
        "\ttrain_h0_max_x.mean_u: 0.0310399401933\n"
       ]
      },
      {
       "output_type": "stream",
       "stream": "stdout",
       "text": [
        "\ttrain_h0_max_x.min_u: 0.0160180460662\n"
       ]
      },
      {
       "output_type": "stream",
       "stream": "stdout",
       "text": [
        "\ttrain_h0_mean_x.max_u: 0.00995458848774\n"
       ]
      },
      {
       "output_type": "stream",
       "stream": "stdout",
       "text": [
        "\ttrain_h0_mean_x.mean_u: 0.00574000505731\n"
       ]
      },
      {
       "output_type": "stream",
       "stream": "stdout",
       "text": [
        "\ttrain_h0_mean_x.min_u: 0.00400200067088\n"
       ]
      },
      {
       "output_type": "stream",
       "stream": "stdout",
       "text": [
        "\ttrain_h0_min_x.max_u: 7.79310357757e-05\n"
       ]
      },
      {
       "output_type": "stream",
       "stream": "stdout",
       "text": [
        "\ttrain_h0_min_x.mean_u: -0.00374196120538\n"
       ]
      },
      {
       "output_type": "stream",
       "stream": "stdout",
       "text": [
        "\ttrain_h0_min_x.min_u: -0.0175907853991\n"
       ]
      },
      {
       "output_type": "stream",
       "stream": "stdout",
       "text": [
        "\ttrain_h0_range_x.max_u: 0.0717569515109\n"
       ]
      },
      {
       "output_type": "stream",
       "stream": "stdout",
       "text": [
        "\ttrain_h0_range_x.mean_u: 0.0347818993032\n"
       ]
      },
      {
       "output_type": "stream",
       "stream": "stdout",
       "text": [
        "\ttrain_h0_range_x.min_u: 0.0192053727806\n"
       ]
      },
      {
       "output_type": "stream",
       "stream": "stdout",
       "text": [
        "\ttrain_h1_kernel_norms_max: 0.16334618628\n"
       ]
      },
      {
       "output_type": "stream",
       "stream": "stdout",
       "text": [
        "\ttrain_h1_kernel_norms_mean: 0.160241931677\n"
       ]
      },
      {
       "output_type": "stream",
       "stream": "stdout",
       "text": [
        "\ttrain_h1_kernel_norms_min: 0.157809630036\n"
       ]
      },
      {
       "output_type": "stream",
       "stream": "stdout",
       "text": [
        "\ttrain_h1_max_x.max_u: 0.0127222463489\n"
       ]
      },
      {
       "output_type": "stream",
       "stream": "stdout",
       "text": [
        "\ttrain_h1_max_x.mean_u: 0.00656191213056\n"
       ]
      },
      {
       "output_type": "stream",
       "stream": "stdout",
       "text": [
        "\ttrain_h1_max_x.min_u: 0.00127096101642\n"
       ]
      },
      {
       "output_type": "stream",
       "stream": "stdout",
       "text": [
        "\ttrain_h1_mean_x.max_u: 0.00445321807638\n"
       ]
      },
      {
       "output_type": "stream",
       "stream": "stdout",
       "text": [
        "\ttrain_h1_mean_x.mean_u: 0.00212413957343\n"
       ]
      },
      {
       "output_type": "stream",
       "stream": "stdout",
       "text": [
        "\ttrain_h1_mean_x.min_u: -0.000671081244946\n"
       ]
      },
      {
       "output_type": "stream",
       "stream": "stdout",
       "text": [
        "\ttrain_h1_min_x.max_u: 0.00115642184392\n"
       ]
      },
      {
       "output_type": "stream",
       "stream": "stdout",
       "text": [
        "\ttrain_h1_min_x.mean_u: -0.000235227736994\n"
       ]
      },
      {
       "output_type": "stream",
       "stream": "stdout",
       "text": [
        "\ttrain_h1_min_x.min_u: -0.00567947607487\n"
       ]
      },
      {
       "output_type": "stream",
       "stream": "stdout",
       "text": [
        "\ttrain_h1_range_x.max_u: 0.0119354324415\n"
       ]
      },
      {
       "output_type": "stream",
       "stream": "stdout",
       "text": [
        "\ttrain_h1_range_x.mean_u: 0.00679713860154\n"
       ]
      },
      {
       "output_type": "stream",
       "stream": "stdout",
       "text": [
        "\ttrain_h1_range_x.min_u: 0.00280392100103\n"
       ]
      },
      {
       "output_type": "stream",
       "stream": "stdout",
       "text": [
        "\ttrain_h2_kernel_norms_max: 0.102911114693\n"
       ]
      },
      {
       "output_type": "stream",
       "stream": "stdout",
       "text": [
        "\ttrain_h2_kernel_norms_mean: 0.100037530065\n"
       ]
      },
      {
       "output_type": "stream",
       "stream": "stdout",
       "text": [
        "\ttrain_h2_kernel_norms_min: 0.096895262599\n"
       ]
      },
      {
       "output_type": "stream",
       "stream": "stdout",
       "text": [
        "\ttrain_h2_max_x.max_u: 0.0549664460123\n"
       ]
      },
      {
       "output_type": "stream",
       "stream": "stdout",
       "text": [
        "\ttrain_h2_max_x.mean_u: 0.037258528173\n"
       ]
      },
      {
       "output_type": "stream",
       "stream": "stdout",
       "text": [
        "\ttrain_h2_max_x.min_u: 0.0184575486928\n"
       ]
      },
      {
       "output_type": "stream",
       "stream": "stdout",
       "text": [
        "\ttrain_h2_mean_x.max_u: 0.0152584491298\n"
       ]
      },
      {
       "output_type": "stream",
       "stream": "stdout",
       "text": [
        "\ttrain_h2_mean_x.mean_u: 0.00800165440887\n"
       ]
      },
      {
       "output_type": "stream",
       "stream": "stdout",
       "text": [
        "\ttrain_h2_mean_x.min_u: 0.00249223783612\n"
       ]
      },
      {
       "output_type": "stream",
       "stream": "stdout",
       "text": [
        "\ttrain_h2_min_x.max_u: -9.60306933848e-05\n"
       ]
      },
      {
       "output_type": "stream",
       "stream": "stdout",
       "text": [
        "\ttrain_h2_min_x.mean_u: -0.00156449002679\n"
       ]
      },
      {
       "output_type": "stream",
       "stream": "stdout",
       "text": [
        "\ttrain_h2_min_x.min_u: -0.00551402103156\n"
       ]
      },
      {
       "output_type": "stream",
       "stream": "stdout",
       "text": [
        "\ttrain_h2_range_x.max_u: 0.0563124939799\n"
       ]
      },
      {
       "output_type": "stream",
       "stream": "stdout",
       "text": [
        "\ttrain_h2_range_x.mean_u: 0.0388230122626\n"
       ]
      },
      {
       "output_type": "stream",
       "stream": "stdout",
       "text": [
        "\ttrain_h2_range_x.min_u: 0.0192489232868\n"
       ]
      },
      {
       "output_type": "stream",
       "stream": "stdout",
       "text": [
        "\ttrain_objective: 4.50293111801\n"
       ]
      },
      {
       "output_type": "stream",
       "stream": "stdout",
       "text": [
        "\ttrain_y_col_norms_max: 0.139141172171\n"
       ]
      },
      {
       "output_type": "stream",
       "stream": "stdout",
       "text": [
        "\ttrain_y_col_norms_mean: 0.0610844567418\n"
       ]
      },
      {
       "output_type": "stream",
       "stream": "stdout",
       "text": [
        "\ttrain_y_col_norms_min: 0.0547329597175\n"
       ]
      },
      {
       "output_type": "stream",
       "stream": "stdout",
       "text": [
        "\ttrain_y_max_max_class: 0.0271463729441\n"
       ]
      },
      {
       "output_type": "stream",
       "stream": "stdout",
       "text": [
        "\ttrain_y_mean_max_class: 0.0271299090236\n"
       ]
      },
      {
       "output_type": "stream",
       "stream": "stdout",
       "text": [
        "\ttrain_y_min_max_class: 0.0271214675158\n"
       ]
      },
      {
       "output_type": "stream",
       "stream": "stdout",
       "text": [
        "\ttrain_y_misclass: 0.935679674149\n"
       ]
      },
      {
       "output_type": "stream",
       "stream": "stdout",
       "text": [
        "\ttrain_y_nll: 4.50299358368\n"
       ]
      },
      {
       "output_type": "stream",
       "stream": "stdout",
       "text": [
        "\ttrain_y_row_norms_max: 0.0638181790709\n"
       ]
      },
      {
       "output_type": "stream",
       "stream": "stdout",
       "text": [
        "\ttrain_y_row_norms_mean: 0.0344263613224\n"
       ]
      },
      {
       "output_type": "stream",
       "stream": "stdout",
       "text": [
        "\ttrain_y_row_norms_min: 0.028653409332\n"
       ]
      },
      {
       "output_type": "stream",
       "stream": "stdout",
       "text": [
        "\ttraining_seconds_this_epoch: 78.4028396606\n"
       ]
      },
      {
       "output_type": "stream",
       "stream": "stdout",
       "text": [
        "\tvalid_h0_kernel_norms_max: 0.0266920104623\n"
       ]
      },
      {
       "output_type": "stream",
       "stream": "stdout",
       "text": [
        "\tvalid_h0_kernel_norms_mean: 0.0233465787023\n"
       ]
      },
      {
       "output_type": "stream",
       "stream": "stdout",
       "text": [
        "\tvalid_h0_kernel_norms_min: 0.0202128570527\n"
       ]
      },
      {
       "output_type": "stream",
       "stream": "stdout",
       "text": [
        "\tvalid_h0_max_x.max_u: 0.0662896931171\n"
       ]
      },
      {
       "output_type": "stream",
       "stream": "stdout",
       "text": [
        "\tvalid_h0_max_x.mean_u: 0.0309887826443\n"
       ]
      },
      {
       "output_type": "stream",
       "stream": "stdout",
       "text": [
        "\tvalid_h0_max_x.min_u: 0.0157767422497\n"
       ]
      },
      {
       "output_type": "stream",
       "stream": "stdout",
       "text": [
        "\tvalid_h0_mean_x.max_u: 0.00993070565164\n"
       ]
      },
      {
       "output_type": "stream",
       "stream": "stdout",
       "text": [
        "\tvalid_h0_mean_x.mean_u: 0.00571874668822\n"
       ]
      },
      {
       "output_type": "stream",
       "stream": "stdout",
       "text": [
        "\tvalid_h0_mean_x.min_u: 0.00396249815822\n"
       ]
      },
      {
       "output_type": "stream",
       "stream": "stdout",
       "text": [
        "\tvalid_h0_min_x.max_u: 7.08385196049e-05\n"
       ]
      },
      {
       "output_type": "stream",
       "stream": "stdout",
       "text": [
        "\tvalid_h0_min_x.mean_u: -0.00370299792849\n"
       ]
      },
      {
       "output_type": "stream",
       "stream": "stdout",
       "text": [
        "\tvalid_h0_min_x.min_u: -0.0175943244249\n"
       ]
      },
      {
       "output_type": "stream",
       "stream": "stdout",
       "text": [
        "\tvalid_h0_range_x.max_u: 0.0709008127451\n"
       ]
      },
      {
       "output_type": "stream",
       "stream": "stdout",
       "text": [
        "\tvalid_h0_range_x.mean_u: 0.0346917845309\n"
       ]
      },
      {
       "output_type": "stream",
       "stream": "stdout",
       "text": [
        "\tvalid_h0_range_x.min_u: 0.0191605370492\n"
       ]
      },
      {
       "output_type": "stream",
       "stream": "stdout",
       "text": [
        "\tvalid_h1_kernel_norms_max: 0.163345769048\n"
       ]
      },
      {
       "output_type": "stream",
       "stream": "stdout",
       "text": [
        "\tvalid_h1_kernel_norms_mean: 0.160241797566\n"
       ]
      },
      {
       "output_type": "stream",
       "stream": "stdout",
       "text": [
        "\tvalid_h1_kernel_norms_min: 0.157809764147\n"
       ]
      },
      {
       "output_type": "stream",
       "stream": "stdout",
       "text": [
        "\tvalid_h1_max_x.max_u: 0.0127146057785\n"
       ]
      },
      {
       "output_type": "stream",
       "stream": "stdout",
       "text": [
        "\tvalid_h1_max_x.mean_u: 0.00654664635658\n"
       ]
      },
      {
       "output_type": "stream",
       "stream": "stdout",
       "text": [
        "\tvalid_h1_max_x.min_u: 0.00124770519324\n"
       ]
      },
      {
       "output_type": "stream",
       "stream": "stdout",
       "text": [
        "\tvalid_h1_mean_x.max_u: 0.00445643486455\n"
       ]
      },
      {
       "output_type": "stream",
       "stream": "stdout",
       "text": [
        "\tvalid_h1_mean_x.mean_u: 0.00212547578849\n"
       ]
      },
      {
       "output_type": "stream",
       "stream": "stdout",
       "text": [
        "\tvalid_h1_mean_x.min_u: -0.000670724140946\n"
       ]
      },
      {
       "output_type": "stream",
       "stream": "stdout",
       "text": [
        "\tvalid_h1_min_x.max_u: 0.00116388360038\n"
       ]
      },
      {
       "output_type": "stream",
       "stream": "stdout",
       "text": [
        "\tvalid_h1_min_x.mean_u: -0.000230959762121\n"
       ]
      },
      {
       "output_type": "stream",
       "stream": "stdout",
       "text": [
        "\tvalid_h1_min_x.min_u: -0.00569582078606\n"
       ]
      },
      {
       "output_type": "stream",
       "stream": "stdout",
       "text": [
        "\tvalid_h1_range_x.max_u: 0.0119042079896\n"
       ]
      },
      {
       "output_type": "stream",
       "stream": "stdout",
       "text": [
        "\tvalid_h1_range_x.mean_u: 0.00677760597318\n"
       ]
      },
      {
       "output_type": "stream",
       "stream": "stdout",
       "text": [
        "\tvalid_h1_range_x.min_u: 0.00280347489752\n"
       ]
      },
      {
       "output_type": "stream",
       "stream": "stdout",
       "text": [
        "\tvalid_h2_kernel_norms_max: 0.102911040187\n"
       ]
      },
      {
       "output_type": "stream",
       "stream": "stdout",
       "text": [
        "\tvalid_h2_kernel_norms_mean: 0.100037716329\n"
       ]
      },
      {
       "output_type": "stream",
       "stream": "stdout",
       "text": [
        "\tvalid_h2_kernel_norms_min: 0.0968952924013\n"
       ]
      },
      {
       "output_type": "stream",
       "stream": "stdout",
       "text": [
        "\tvalid_h2_max_x.max_u: 0.0549522079527\n"
       ]
      },
      {
       "output_type": "stream",
       "stream": "stdout",
       "text": [
        "\tvalid_h2_max_x.mean_u: 0.0372521057725\n"
       ]
      },
      {
       "output_type": "stream",
       "stream": "stdout",
       "text": [
        "\tvalid_h2_max_x.min_u: 0.0184543225914\n"
       ]
      },
      {
       "output_type": "stream",
       "stream": "stdout",
       "text": [
        "\tvalid_h2_mean_x.max_u: 0.0152588868514\n"
       ]
      },
      {
       "output_type": "stream",
       "stream": "stdout",
       "text": [
        "\tvalid_h2_mean_x.mean_u: 0.00800183322281\n"
       ]
      },
      {
       "output_type": "stream",
       "stream": "stdout",
       "text": [
        "\tvalid_h2_mean_x.min_u: 0.00249192607589\n"
       ]
      },
      {
       "output_type": "stream",
       "stream": "stdout",
       "text": [
        "\tvalid_h2_min_x.max_u: -9.65371073107e-05\n"
       ]
      },
      {
       "output_type": "stream",
       "stream": "stdout",
       "text": [
        "\tvalid_h2_min_x.mean_u: -0.00156452530064\n"
       ]
      },
      {
       "output_type": "stream",
       "stream": "stdout",
       "text": [
        "\tvalid_h2_min_x.min_u: -0.00551162147895\n"
       ]
      },
      {
       "output_type": "stream",
       "stream": "stdout",
       "text": [
        "\tvalid_h2_range_x.max_u: 0.0562951900065\n"
       ]
      },
      {
       "output_type": "stream",
       "stream": "stdout",
       "text": [
        "\tvalid_h2_range_x.mean_u: 0.0388166308403\n"
       ]
      },
      {
       "output_type": "stream",
       "stream": "stdout",
       "text": [
        "\tvalid_h2_range_x.min_u: 0.0192465018481\n"
       ]
      },
      {
       "output_type": "stream",
       "stream": "stdout",
       "text": [
        "\tvalid_objective: 4.4939827919\n"
       ]
      },
      {
       "output_type": "stream",
       "stream": "stdout",
       "text": [
        "\tvalid_y_col_norms_max: 0.139141112566\n"
       ]
      },
      {
       "output_type": "stream",
       "stream": "stdout",
       "text": [
        "\tvalid_y_col_norms_mean: 0.0610843189061\n"
       ]
      },
      {
       "output_type": "stream",
       "stream": "stdout",
       "text": [
        "\tvalid_y_col_norms_min: 0.0547330863774\n"
       ]
      },
      {
       "output_type": "stream",
       "stream": "stdout",
       "text": [
        "\tvalid_y_max_max_class: 0.0271459612995\n"
       ]
      },
      {
       "output_type": "stream",
       "stream": "stdout",
       "text": [
        "\tvalid_y_mean_max_class: 0.0271299313754\n"
       ]
      },
      {
       "output_type": "stream",
       "stream": "stdout",
       "text": [
        "\tvalid_y_min_max_class: 0.0271215271205\n"
       ]
      },
      {
       "output_type": "stream",
       "stream": "stdout",
       "text": [
        "\tvalid_y_misclass: 0.930999934673\n"
       ]
      },
      {
       "output_type": "stream",
       "stream": "stdout",
       "text": [
        "\tvalid_y_nll: 4.4940123558\n"
       ]
      },
      {
       "output_type": "stream",
       "stream": "stdout",
       "text": [
        "\tvalid_y_row_norms_max: 0.0638183653355\n"
       ]
      },
      {
       "output_type": "stream",
       "stream": "stdout",
       "text": [
        "\tvalid_y_row_norms_mean: 0.0344264060259\n"
       ]
      },
      {
       "output_type": "stream",
       "stream": "stdout",
       "text": [
        "\tvalid_y_row_norms_min: 0.028653325513\n"
       ]
      },
      {
       "output_type": "stream",
       "stream": "stdout",
       "text": [
        "Saving to cnn_00_best.pkl...\n"
       ]
      },
      {
       "output_type": "stream",
       "stream": "stdout",
       "text": [
        "Saving to cnn_00_best.pkl done. Time elapsed: 0.190775 seconds\n"
       ]
      },
      {
       "output_type": "stream",
       "stream": "stdout",
       "text": [
        "Time this epoch: 0:01:18.414559\n"
       ]
      },
      {
       "output_type": "stream",
       "stream": "stdout",
       "text": [
        "Monitoring step:\n"
       ]
      },
      {
       "output_type": "stream",
       "stream": "stdout",
       "text": [
        "\tEpochs seen: 2\n"
       ]
      },
      {
       "output_type": "stream",
       "stream": "stdout",
       "text": [
        "\tBatches seen: 500\n"
       ]
      },
      {
       "output_type": "stream",
       "stream": "stdout",
       "text": [
        "\tExamples seen: 50000\n"
       ]
      },
      {
       "output_type": "stream",
       "stream": "stdout",
       "text": [
        "\tlearning_rate: 0.0490099228919\n"
       ]
      },
      {
       "output_type": "stream",
       "stream": "stdout",
       "text": [
        "\tmomentum: 0.500804185867\n"
       ]
      },
      {
       "output_type": "stream",
       "stream": "stdout",
       "text": [
        "\ttotal_seconds_last_epoch: 142.619659424\n"
       ]
      },
      {
       "output_type": "stream",
       "stream": "stdout",
       "text": [
        "\ttrain_h0_kernel_norms_max: 0.151284024119\n"
       ]
      },
      {
       "output_type": "stream",
       "stream": "stdout",
       "text": [
        "\ttrain_h0_kernel_norms_mean: 0.0476809032261\n"
       ]
      },
      {
       "output_type": "stream",
       "stream": "stdout",
       "text": [
        "\ttrain_h0_kernel_norms_min: 0.0191307999194\n"
       ]
      },
      {
       "output_type": "stream",
       "stream": "stdout",
       "text": [
        "\ttrain_h0_max_x.max_u: 0.803167998791\n"
       ]
      },
      {
       "output_type": "stream",
       "stream": "stdout",
       "text": [
        "\ttrain_h0_max_x.mean_u: 0.32106345892\n"
       ]
      },
      {
       "output_type": "stream",
       "stream": "stdout",
       "text": [
        "\ttrain_h0_max_x.min_u: 0.0406811647117\n"
       ]
      },
      {
       "output_type": "stream",
       "stream": "stdout",
       "text": [
        "\ttrain_h0_mean_x.max_u: 0.0725568383932\n"
       ]
      },
      {
       "output_type": "stream",
       "stream": "stdout",
       "text": [
        "\ttrain_h0_mean_x.mean_u: 0.0300323534757\n"
       ]
      },
      {
       "output_type": "stream",
       "stream": "stdout",
       "text": [
        "\ttrain_h0_mean_x.min_u: 0.00666325027123\n"
       ]
      },
      {
       "output_type": "stream",
       "stream": "stdout",
       "text": [
        "\ttrain_h0_min_x.max_u: -0.00159567198716\n"
       ]
      },
      {
       "output_type": "stream",
       "stream": "stdout",
       "text": [
        "\ttrain_h0_min_x.mean_u: -0.0283300410956\n"
       ]
      },
      {
       "output_type": "stream",
       "stream": "stdout",
       "text": [
        "\ttrain_h0_min_x.min_u: -0.065448127687\n"
       ]
      },
      {
       "output_type": "stream",
       "stream": "stdout",
       "text": [
        "\ttrain_h0_range_x.max_u: 0.868615925312\n"
       ]
      },
      {
       "output_type": "stream",
       "stream": "stdout",
       "text": [
        "\ttrain_h0_range_x.mean_u: 0.34939339757\n"
       ]
      },
      {
       "output_type": "stream",
       "stream": "stdout",
       "text": [
        "\ttrain_h0_range_x.min_u: 0.0423064157367\n"
       ]
      },
      {
       "output_type": "stream",
       "stream": "stdout",
       "text": [
        "\ttrain_h1_kernel_norms_max: 0.222086638212\n"
       ]
      },
      {
       "output_type": "stream",
       "stream": "stdout",
       "text": [
        "\ttrain_h1_kernel_norms_mean: 0.168077737093\n"
       ]
      },
      {
       "output_type": "stream",
       "stream": "stdout",
       "text": [
        "\ttrain_h1_kernel_norms_min: 0.157754838467\n"
       ]
      },
      {
       "output_type": "stream",
       "stream": "stdout",
       "text": [
        "\ttrain_h1_max_x.max_u: 1.91081750393\n"
       ]
      },
      {
       "output_type": "stream",
       "stream": "stdout",
       "text": [
        "\ttrain_h1_max_x.mean_u: 0.852658987045\n"
       ]
      },
      {
       "output_type": "stream",
       "stream": "stdout",
       "text": [
        "\ttrain_h1_max_x.min_u: 0.0167627837509\n"
       ]
      },
      {
       "output_type": "stream",
       "stream": "stdout",
       "text": [
        "\ttrain_h1_mean_x.max_u: 0.365632176399\n"
       ]
      },
      {
       "output_type": "stream",
       "stream": "stdout",
       "text": [
        "\ttrain_h1_mean_x.mean_u: 0.162270843983\n"
       ]
      },
      {
       "output_type": "stream",
       "stream": "stdout",
       "text": [
        "\ttrain_h1_mean_x.min_u: 9.47743101278e-05\n"
       ]
      },
      {
       "output_type": "stream",
       "stream": "stdout",
       "text": [
        "\ttrain_h1_min_x.max_u: 0.00043986417586\n"
       ]
      },
      {
       "output_type": "stream",
       "stream": "stdout",
       "text": [
        "\ttrain_h1_min_x.mean_u: -0.00530675891787\n"
       ]
      },
      {
       "output_type": "stream",
       "stream": "stdout",
       "text": [
        "\ttrain_h1_min_x.min_u: -0.0675075873733\n"
       ]
      },
      {
       "output_type": "stream",
       "stream": "stdout",
       "text": [
        "\ttrain_h1_range_x.max_u: 1.91521310806\n"
       ]
      },
      {
       "output_type": "stream",
       "stream": "stdout",
       "text": [
        "\ttrain_h1_range_x.mean_u: 0.857965826988\n"
       ]
      },
      {
       "output_type": "stream",
       "stream": "stdout",
       "text": [
        "\ttrain_h1_range_x.min_u: 0.0580617152154\n"
       ]
      },
      {
       "output_type": "stream",
       "stream": "stdout",
       "text": [
        "\ttrain_h2_kernel_norms_max: 0.202392444015\n"
       ]
      },
      {
       "output_type": "stream",
       "stream": "stdout",
       "text": [
        "\ttrain_h2_kernel_norms_mean: 0.112226136029\n"
       ]
      },
      {
       "output_type": "stream",
       "stream": "stdout",
       "text": [
        "\ttrain_h2_kernel_norms_min: 0.0979290157557\n"
       ]
      },
      {
       "output_type": "stream",
       "stream": "stdout",
       "text": [
        "\ttrain_h2_max_x.max_u: 4.3486456871\n"
       ]
      },
      {
       "output_type": "stream",
       "stream": "stdout",
       "text": [
        "\ttrain_h2_max_x.mean_u: 2.27141284943\n"
       ]
      },
      {
       "output_type": "stream",
       "stream": "stdout",
       "text": [
        "\ttrain_h2_max_x.min_u: 0.5270870924\n"
       ]
      },
      {
       "output_type": "stream",
       "stream": "stdout",
       "text": [
        "\ttrain_h2_mean_x.max_u: 0.54946064949\n"
       ]
      },
      {
       "output_type": "stream",
       "stream": "stdout",
       "text": [
        "\ttrain_h2_mean_x.mean_u: 0.29340210557\n"
       ]
      },
      {
       "output_type": "stream",
       "stream": "stdout",
       "text": [
        "\ttrain_h2_mean_x.min_u: 0.0830853134394\n"
       ]
      },
      {
       "output_type": "stream",
       "stream": "stdout",
       "text": [
        "\ttrain_h2_min_x.max_u: -0.000356685341103\n"
       ]
      },
      {
       "output_type": "stream",
       "stream": "stdout",
       "text": [
        "\ttrain_h2_min_x.mean_u: -0.00259612780064\n"
       ]
      },
      {
       "output_type": "stream",
       "stream": "stdout",
       "text": [
        "\ttrain_h2_min_x.min_u: -0.0105106737465\n"
       ]
      },
      {
       "output_type": "stream",
       "stream": "stdout",
       "text": [
        "\ttrain_h2_range_x.max_u: 4.34923791885\n"
       ]
      },
      {
       "output_type": "stream",
       "stream": "stdout",
       "text": [
        "\ttrain_h2_range_x.mean_u: 2.27400898933\n"
       ]
      },
      {
       "output_type": "stream",
       "stream": "stdout",
       "text": [
        "\ttrain_h2_range_x.min_u: 0.535718142986\n"
       ]
      },
      {
       "output_type": "stream",
       "stream": "stdout",
       "text": [
        "\ttrain_objective: 4.09969711304\n"
       ]
      },
      {
       "output_type": "stream",
       "stream": "stdout",
       "text": [
        "\ttrain_y_col_norms_max: 0.399579912424\n"
       ]
      },
      {
       "output_type": "stream",
       "stream": "stdout",
       "text": [
        "\ttrain_y_col_norms_mean: 0.142449766397\n"
       ]
      },
      {
       "output_type": "stream",
       "stream": "stdout",
       "text": [
        "\ttrain_y_col_norms_min: 0.0675737261772\n"
       ]
      },
      {
       "output_type": "stream",
       "stream": "stdout",
       "text": [
        "\ttrain_y_max_max_class: 0.794007599354\n"
       ]
      },
      {
       "output_type": "stream",
       "stream": "stdout",
       "text": [
        "\ttrain_y_mean_max_class: 0.156705573201\n"
       ]
      },
      {
       "output_type": "stream",
       "stream": "stdout",
       "text": [
        "\ttrain_y_min_max_class: 0.0507889762521\n"
       ]
      },
      {
       "output_type": "stream",
       "stream": "stdout",
       "text": [
        "\ttrain_y_misclass: 0.909959673882\n"
       ]
      },
      {
       "output_type": "stream",
       "stream": "stdout",
       "text": [
        "\ttrain_y_nll: 4.10411739349\n"
       ]
      },
      {
       "output_type": "stream",
       "stream": "stdout",
       "text": [
        "\ttrain_y_row_norms_max: 0.237140566111\n"
       ]
      },
      {
       "output_type": "stream",
       "stream": "stdout",
       "text": [
        "\ttrain_y_row_norms_mean: 0.0762690156698\n"
       ]
      },
      {
       "output_type": "stream",
       "stream": "stdout",
       "text": [
        "\ttrain_y_row_norms_min: 0.0304603036493\n"
       ]
      },
      {
       "output_type": "stream",
       "stream": "stdout",
       "text": [
        "\ttraining_seconds_this_epoch: 78.4147338867\n"
       ]
      },
      {
       "output_type": "stream",
       "stream": "stdout",
       "text": [
        "\tvalid_h0_kernel_norms_max: 0.151284024119\n"
       ]
      },
      {
       "output_type": "stream",
       "stream": "stdout",
       "text": [
        "\tvalid_h0_kernel_norms_mean: 0.0476807951927\n"
       ]
      },
      {
       "output_type": "stream",
       "stream": "stdout",
       "text": [
        "\tvalid_h0_kernel_norms_min: 0.019130827859\n"
       ]
      },
      {
       "output_type": "stream",
       "stream": "stdout",
       "text": [
        "\tvalid_h0_max_x.max_u: 0.796768546104\n"
       ]
      },
      {
       "output_type": "stream",
       "stream": "stdout",
       "text": [
        "\tvalid_h0_max_x.mean_u: 0.318890959024\n"
       ]
      },
      {
       "output_type": "stream",
       "stream": "stdout",
       "text": [
        "\tvalid_h0_max_x.min_u: 0.0407034903765\n"
       ]
      },
      {
       "output_type": "stream",
       "stream": "stdout",
       "text": [
        "\tvalid_h0_mean_x.max_u: 0.0731049180031\n"
       ]
      },
      {
       "output_type": "stream",
       "stream": "stdout",
       "text": [
        "\tvalid_h0_mean_x.mean_u: 0.0302508044988\n"
       ]
      },
      {
       "output_type": "stream",
       "stream": "stdout",
       "text": [
        "\tvalid_h0_mean_x.min_u: 0.00665251957253\n"
       ]
      },
      {
       "output_type": "stream",
       "stream": "stdout",
       "text": [
        "\tvalid_h0_min_x.max_u: -0.00148342421744\n"
       ]
      },
      {
       "output_type": "stream",
       "stream": "stdout",
       "text": [
        "\tvalid_h0_min_x.mean_u: -0.0282722935081\n"
       ]
      },
      {
       "output_type": "stream",
       "stream": "stdout",
       "text": [
        "\tvalid_h0_min_x.min_u: -0.0655101835728\n"
       ]
      },
      {
       "output_type": "stream",
       "stream": "stdout",
       "text": [
        "\tvalid_h0_range_x.max_u: 0.86227875948\n"
       ]
      },
      {
       "output_type": "stream",
       "stream": "stdout",
       "text": [
        "\tvalid_h0_range_x.mean_u: 0.347163289785\n"
       ]
      },
      {
       "output_type": "stream",
       "stream": "stdout",
       "text": [
        "\tvalid_h0_range_x.min_u: 0.0421869084239\n"
       ]
      },
      {
       "output_type": "stream",
       "stream": "stdout",
       "text": [
        "\tvalid_h1_kernel_norms_max: 0.222086146474\n"
       ]
      },
      {
       "output_type": "stream",
       "stream": "stdout",
       "text": [
        "\tvalid_h1_kernel_norms_mean: 0.168078124523\n"
       ]
      },
      {
       "output_type": "stream",
       "stream": "stdout",
       "text": [
        "\tvalid_h1_kernel_norms_min: 0.157754808664\n"
       ]
      },
      {
       "output_type": "stream",
       "stream": "stdout",
       "text": [
        "\tvalid_h1_max_x.max_u: 1.90580892563\n"
       ]
      },
      {
       "output_type": "stream",
       "stream": "stdout",
       "text": [
        "\tvalid_h1_max_x.mean_u: 0.851787388325\n"
       ]
      },
      {
       "output_type": "stream",
       "stream": "stdout",
       "text": [
        "\tvalid_h1_max_x.min_u: 0.0166096538305\n"
       ]
      },
      {
       "output_type": "stream",
       "stream": "stdout",
       "text": [
        "\tvalid_h1_mean_x.max_u: 0.370412915945\n"
       ]
      },
      {
       "output_type": "stream",
       "stream": "stdout",
       "text": [
        "\tvalid_h1_mean_x.mean_u: 0.164318099618\n"
       ]
      },
      {
       "output_type": "stream",
       "stream": "stdout",
       "text": [
        "\tvalid_h1_mean_x.min_u: -2.43827107624e-05\n"
       ]
      },
      {
       "output_type": "stream",
       "stream": "stdout",
       "text": [
        "\tvalid_h1_min_x.max_u: 0.000477085297462\n"
       ]
      },
      {
       "output_type": "stream",
       "stream": "stdout",
       "text": [
        "\tvalid_h1_min_x.mean_u: -0.00531510869041\n"
       ]
      },
      {
       "output_type": "stream",
       "stream": "stdout",
       "text": [
        "\tvalid_h1_min_x.min_u: -0.068417981267\n"
       ]
      },
      {
       "output_type": "stream",
       "stream": "stdout",
       "text": [
        "\tvalid_h1_range_x.max_u: 1.91021263599\n"
       ]
      },
      {
       "output_type": "stream",
       "stream": "stdout",
       "text": [
        "\tvalid_h1_range_x.mean_u: 0.857102572918\n"
       ]
      },
      {
       "output_type": "stream",
       "stream": "stdout",
       "text": [
        "\tvalid_h1_range_x.min_u: 0.0582804344594\n"
       ]
      },
      {
       "output_type": "stream",
       "stream": "stdout",
       "text": [
        "\tvalid_h2_kernel_norms_max: 0.202392995358\n"
       ]
      },
      {
       "output_type": "stream",
       "stream": "stdout",
       "text": [
        "\tvalid_h2_kernel_norms_mean: 0.112225942314\n"
       ]
      },
      {
       "output_type": "stream",
       "stream": "stdout",
       "text": [
        "\tvalid_h2_kernel_norms_min: 0.0979290306568\n"
       ]
      },
      {
       "output_type": "stream",
       "stream": "stdout",
       "text": [
        "\tvalid_h2_max_x.max_u: 4.3608174324\n"
       ]
      },
      {
       "output_type": "stream",
       "stream": "stdout",
       "text": [
        "\tvalid_h2_max_x.mean_u: 2.27128171921\n"
       ]
      },
      {
       "output_type": "stream",
       "stream": "stdout",
       "text": [
        "\tvalid_h2_max_x.min_u: 0.526583611965\n"
       ]
      },
      {
       "output_type": "stream",
       "stream": "stdout",
       "text": [
        "\tvalid_h2_mean_x.max_u: 0.555841445923\n"
       ]
      },
      {
       "output_type": "stream",
       "stream": "stdout",
       "text": [
        "\tvalid_h2_mean_x.mean_u: 0.296763628721\n"
       ]
      },
      {
       "output_type": "stream",
       "stream": "stdout",
       "text": [
        "\tvalid_h2_mean_x.min_u: 0.0839419215918\n"
       ]
      },
      {
       "output_type": "stream",
       "stream": "stdout",
       "text": [
        "\tvalid_h2_min_x.max_u: -0.000355051161023\n"
       ]
      },
      {
       "output_type": "stream",
       "stream": "stdout",
       "text": [
        "\tvalid_h2_min_x.mean_u: -0.00259394245222\n"
       ]
      },
      {
       "output_type": "stream",
       "stream": "stdout",
       "text": [
        "\tvalid_h2_min_x.min_u: -0.0105159878731\n"
       ]
      },
      {
       "output_type": "stream",
       "stream": "stdout",
       "text": [
        "\tvalid_h2_range_x.max_u: 4.36146354675\n"
       ]
      },
      {
       "output_type": "stream",
       "stream": "stdout",
       "text": [
        "\tvalid_h2_range_x.mean_u: 2.27387523651\n"
       ]
      },
      {
       "output_type": "stream",
       "stream": "stdout",
       "text": [
        "\tvalid_h2_range_x.min_u: 0.535219609737\n"
       ]
      },
      {
       "output_type": "stream",
       "stream": "stdout",
       "text": [
        "\tvalid_objective: 4.07647371292\n"
       ]
      },
      {
       "output_type": "stream",
       "stream": "stdout",
       "text": [
        "\tvalid_y_col_norms_max: 0.399579107761\n"
       ]
      },
      {
       "output_type": "stream",
       "stream": "stdout",
       "text": [
        "\tvalid_y_col_norms_mean: 0.142449811101\n"
       ]
      },
      {
       "output_type": "stream",
       "stream": "stdout",
       "text": [
        "\tvalid_y_col_norms_min: 0.0675736218691\n"
       ]
      },
      {
       "output_type": "stream",
       "stream": "stdout",
       "text": [
        "\tvalid_y_max_max_class: 0.794220805168\n"
       ]
      },
      {
       "output_type": "stream",
       "stream": "stdout",
       "text": [
        "\tvalid_y_mean_max_class: 0.159622117877\n"
       ]
      },
      {
       "output_type": "stream",
       "stream": "stdout",
       "text": [
        "\tvalid_y_min_max_class: 0.0507875829935\n"
       ]
      },
      {
       "output_type": "stream",
       "stream": "stdout",
       "text": [
        "\tvalid_y_misclass: 0.904200077057\n"
       ]
      },
      {
       "output_type": "stream",
       "stream": "stdout",
       "text": [
        "\tvalid_y_nll: 4.08168649673\n"
       ]
      },
      {
       "output_type": "stream",
       "stream": "stdout",
       "text": [
        "\tvalid_y_row_norms_max: 0.237140074372\n"
       ]
      },
      {
       "output_type": "stream",
       "stream": "stdout",
       "text": [
        "\tvalid_y_row_norms_mean: 0.0762689933181\n"
       ]
      },
      {
       "output_type": "stream",
       "stream": "stdout",
       "text": [
        "\tvalid_y_row_norms_min: 0.0304603073746\n"
       ]
      },
      {
       "output_type": "stream",
       "stream": "stdout",
       "text": [
        "Saving to cnn_00_best.pkl...\n"
       ]
      },
      {
       "output_type": "stream",
       "stream": "stdout",
       "text": [
        "Saving to cnn_00_best.pkl done. Time elapsed: 0.191894 seconds\n"
       ]
      },
      {
       "output_type": "stream",
       "stream": "stdout",
       "text": [
        "Time this epoch: 0:01:18.548669\n"
       ]
      },
      {
       "output_type": "stream",
       "stream": "stdout",
       "text": [
        "Monitoring step:\n"
       ]
      },
      {
       "output_type": "stream",
       "stream": "stdout",
       "text": [
        "\tEpochs seen: 3\n"
       ]
      },
      {
       "output_type": "stream",
       "stream": "stdout",
       "text": [
        "\tBatches seen: 750\n"
       ]
      },
      {
       "output_type": "stream",
       "stream": "stdout",
       "text": [
        "\tExamples seen: 75000\n"
       ]
      },
      {
       "output_type": "stream",
       "stream": "stdout",
       "text": [
        "\tlearning_rate: 0.0485221929848\n"
       ]
      },
      {
       "output_type": "stream",
       "stream": "stdout",
       "text": [
        "\tmomentum: 0.501604735851\n"
       ]
      },
      {
       "output_type": "stream",
       "stream": "stdout",
       "text": [
        "\ttotal_seconds_last_epoch: 142.886703491\n"
       ]
      },
      {
       "output_type": "stream",
       "stream": "stdout",
       "text": [
        "\ttrain_h0_kernel_norms_max: 0.22577765584\n"
       ]
      },
      {
       "output_type": "stream",
       "stream": "stdout",
       "text": [
        "\ttrain_h0_kernel_norms_mean: 0.0681833028793\n"
       ]
      },
      {
       "output_type": "stream",
       "stream": "stdout",
       "text": [
        "\ttrain_h0_kernel_norms_min: 0.0133622158319\n"
       ]
      },
      {
       "output_type": "stream",
       "stream": "stdout",
       "text": [
        "\ttrain_h0_max_x.max_u: 1.10820889473\n"
       ]
      },
      {
       "output_type": "stream",
       "stream": "stdout",
       "text": [
        "\ttrain_h0_max_x.mean_u: 0.483636081219\n"
       ]
      },
      {
       "output_type": "stream",
       "stream": "stdout",
       "text": [
        "\ttrain_h0_max_x.min_u: 0.0614928677678\n"
       ]
      },
      {
       "output_type": "stream",
       "stream": "stdout",
       "text": [
        "\ttrain_h0_mean_x.max_u: 0.0963173434138\n"
       ]
      },
      {
       "output_type": "stream",
       "stream": "stdout",
       "text": [
        "\ttrain_h0_mean_x.mean_u: 0.0443508215249\n"
       ]
      },
      {
       "output_type": "stream",
       "stream": "stdout",
       "text": [
        "\ttrain_h0_mean_x.min_u: 0.0124586084858\n"
       ]
      },
      {
       "output_type": "stream",
       "stream": "stdout",
       "text": [
        "\ttrain_h0_min_x.max_u: 0.00107372330967\n"
       ]
      },
      {
       "output_type": "stream",
       "stream": "stdout",
       "text": [
        "\ttrain_h0_min_x.mean_u: -0.04913277179\n"
       ]
      },
      {
       "output_type": "stream",
       "stream": "stdout",
       "text": [
        "\ttrain_h0_min_x.min_u: -0.121416784823\n"
       ]
      },
      {
       "output_type": "stream",
       "stream": "stdout",
       "text": [
        "\ttrain_h0_range_x.max_u: 1.21812474728\n"
       ]
      },
      {
       "output_type": "stream",
       "stream": "stdout",
       "text": [
        "\ttrain_h0_range_x.mean_u: 0.532768905163\n"
       ]
      },
      {
       "output_type": "stream",
       "stream": "stdout",
       "text": [
        "\ttrain_h0_range_x.min_u: 0.086573831737\n"
       ]
      },
      {
       "output_type": "stream",
       "stream": "stdout",
       "text": [
        "\ttrain_h1_kernel_norms_max: 0.263420075178\n"
       ]
      },
      {
       "output_type": "stream",
       "stream": "stdout",
       "text": [
        "\ttrain_h1_kernel_norms_mean: 0.181413859129\n"
       ]
      },
      {
       "output_type": "stream",
       "stream": "stdout",
       "text": [
        "\ttrain_h1_kernel_norms_min: 0.156796276569\n"
       ]
      },
      {
       "output_type": "stream",
       "stream": "stdout",
       "text": [
        "\ttrain_h1_max_x.max_u: 2.25174641609\n"
       ]
      },
      {
       "output_type": "stream",
       "stream": "stdout",
       "text": [
        "\ttrain_h1_max_x.mean_u: 1.17643547058\n"
       ]
      },
      {
       "output_type": "stream",
       "stream": "stdout",
       "text": [
        "\ttrain_h1_max_x.min_u: 0.0475448966026\n"
       ]
      },
      {
       "output_type": "stream",
       "stream": "stdout",
       "text": [
        "\ttrain_h1_mean_x.max_u: 0.323165655136\n"
       ]
      },
      {
       "output_type": "stream",
       "stream": "stdout",
       "text": [
        "\ttrain_h1_mean_x.mean_u: 0.187725141644\n"
       ]
      },
      {
       "output_type": "stream",
       "stream": "stdout",
       "text": [
        "\ttrain_h1_mean_x.min_u: 0.00697340117767\n"
       ]
      },
      {
       "output_type": "stream",
       "stream": "stdout",
       "text": [
        "\ttrain_h1_min_x.max_u: -0.0116396779194\n"
       ]
      },
      {
       "output_type": "stream",
       "stream": "stdout",
       "text": [
        "\ttrain_h1_min_x.mean_u: -0.0797398686409\n"
       ]
      },
      {
       "output_type": "stream",
       "stream": "stdout",
       "text": [
        "\ttrain_h1_min_x.min_u: -0.281377524137\n"
       ]
      },
      {
       "output_type": "stream",
       "stream": "stdout",
       "text": [
        "\ttrain_h1_range_x.max_u: 2.51638317108\n"
       ]
      },
      {
       "output_type": "stream",
       "stream": "stdout",
       "text": [
        "\ttrain_h1_range_x.mean_u: 1.25617575645\n"
       ]
      },
      {
       "output_type": "stream",
       "stream": "stdout",
       "text": [
        "\ttrain_h1_range_x.min_u: 0.170288816094\n"
       ]
      },
      {
       "output_type": "stream",
       "stream": "stdout",
       "text": [
        "\ttrain_h2_kernel_norms_max: 0.326693743467\n"
       ]
      },
      {
       "output_type": "stream",
       "stream": "stdout",
       "text": [
        "\ttrain_h2_kernel_norms_mean: 0.132720947266\n"
       ]
      },
      {
       "output_type": "stream",
       "stream": "stdout",
       "text": [
        "\ttrain_h2_kernel_norms_min: 0.0975349918008\n"
       ]
      },
      {
       "output_type": "stream",
       "stream": "stdout",
       "text": [
        "\ttrain_h2_max_x.max_u: 5.27797174454\n"
       ]
      },
      {
       "output_type": "stream",
       "stream": "stdout",
       "text": [
        "\ttrain_h2_max_x.mean_u: 3.24752855301\n"
       ]
      },
      {
       "output_type": "stream",
       "stream": "stdout",
       "text": [
        "\ttrain_h2_max_x.min_u: 0.979669332504\n"
       ]
      },
      {
       "output_type": "stream",
       "stream": "stdout",
       "text": [
        "\ttrain_h2_mean_x.max_u: 0.57109183073\n"
       ]
      },
      {
       "output_type": "stream",
       "stream": "stdout",
       "text": [
        "\ttrain_h2_mean_x.mean_u: 0.385344326496\n"
       ]
      },
      {
       "output_type": "stream",
       "stream": "stdout",
       "text": [
        "\ttrain_h2_mean_x.min_u: 0.144469410181\n"
       ]
      },
      {
       "output_type": "stream",
       "stream": "stdout",
       "text": [
        "\ttrain_h2_min_x.max_u: -0.00792551413178\n"
       ]
      },
      {
       "output_type": "stream",
       "stream": "stdout",
       "text": [
        "\ttrain_h2_min_x.mean_u: -0.098337970674\n"
       ]
      },
      {
       "output_type": "stream",
       "stream": "stdout",
       "text": [
        "\ttrain_h2_min_x.min_u: -0.356929898262\n"
       ]
      },
      {
       "output_type": "stream",
       "stream": "stdout",
       "text": [
        "\ttrain_h2_range_x.max_u: 5.42653226852\n"
       ]
      },
      {
       "output_type": "stream",
       "stream": "stdout",
       "text": [
        "\ttrain_h2_range_x.mean_u: 3.34586715698\n"
       ]
      },
      {
       "output_type": "stream",
       "stream": "stdout",
       "text": [
        "\ttrain_h2_range_x.min_u: 1.06652379036\n"
       ]
      },
      {
       "output_type": "stream",
       "stream": "stdout",
       "text": [
        "\ttrain_objective: 3.76987338066\n"
       ]
      },
      {
       "output_type": "stream",
       "stream": "stdout",
       "text": [
        "\ttrain_y_col_norms_max: 0.817473471165\n"
       ]
      },
      {
       "output_type": "stream",
       "stream": "stdout",
       "text": [
        "\ttrain_y_col_norms_mean: 0.254165679216\n"
       ]
      },
      {
       "output_type": "stream",
       "stream": "stdout",
       "text": [
        "\ttrain_y_col_norms_min: 0.0841487124562\n"
       ]
      },
      {
       "output_type": "stream",
       "stream": "stdout",
       "text": [
        "\ttrain_y_max_max_class: 0.930894315243\n"
       ]
      },
      {
       "output_type": "stream",
       "stream": "stdout",
       "text": [
        "\ttrain_y_mean_max_class: 0.188113287091\n"
       ]
      },
      {
       "output_type": "stream",
       "stream": "stdout",
       "text": [
        "\ttrain_y_min_max_class: 0.0453794375062\n"
       ]
      },
      {
       "output_type": "stream",
       "stream": "stdout",
       "text": [
        "\ttrain_y_misclass: 0.843799829483\n"
       ]
      },
      {
       "output_type": "stream",
       "stream": "stdout",
       "text": [
        "\ttrain_y_nll: 3.77156162262\n"
       ]
      },
      {
       "output_type": "stream",
       "stream": "stdout",
       "text": [
        "\ttrain_y_row_norms_max: 0.470094501972\n"
       ]
      },
      {
       "output_type": "stream",
       "stream": "stdout",
       "text": [
        "\ttrain_y_row_norms_mean: 0.14089204371\n"
       ]
      },
      {
       "output_type": "stream",
       "stream": "stdout",
       "text": [
        "\ttrain_y_row_norms_min: 0.0346666201949\n"
       ]
      },
      {
       "output_type": "stream",
       "stream": "stdout",
       "text": [
        "\ttraining_seconds_this_epoch: 78.5484848022\n"
       ]
      },
      {
       "output_type": "stream",
       "stream": "stdout",
       "text": [
        "\tvalid_h0_kernel_norms_max: 0.225777134299\n"
       ]
      },
      {
       "output_type": "stream",
       "stream": "stdout",
       "text": [
        "\tvalid_h0_kernel_norms_mean: 0.0681833773851\n"
       ]
      },
      {
       "output_type": "stream",
       "stream": "stdout",
       "text": [
        "\tvalid_h0_kernel_norms_min: 0.0133622465655\n"
       ]
      },
      {
       "output_type": "stream",
       "stream": "stdout",
       "text": [
        "\tvalid_h0_max_x.max_u: 1.10398173332\n"
       ]
      },
      {
       "output_type": "stream",
       "stream": "stdout",
       "text": [
        "\tvalid_h0_max_x.mean_u: 0.481286376715\n"
       ]
      },
      {
       "output_type": "stream",
       "stream": "stdout",
       "text": [
        "\tvalid_h0_max_x.min_u: 0.0609405040741\n"
       ]
      },
      {
       "output_type": "stream",
       "stream": "stdout",
       "text": [
        "\tvalid_h0_mean_x.max_u: 0.0970102027059\n"
       ]
      },
      {
       "output_type": "stream",
       "stream": "stdout",
       "text": [
        "\tvalid_h0_mean_x.mean_u: 0.0446175709367\n"
       ]
      },
      {
       "output_type": "stream",
       "stream": "stdout",
       "text": [
        "\tvalid_h0_mean_x.min_u: 0.0123814605176\n"
       ]
      },
      {
       "output_type": "stream",
       "stream": "stdout",
       "text": [
        "\tvalid_h0_min_x.max_u: 0.0010264540324\n"
       ]
      },
      {
       "output_type": "stream",
       "stream": "stdout",
       "text": [
        "\tvalid_h0_min_x.mean_u: -0.04919077456\n"
       ]
      },
      {
       "output_type": "stream",
       "stream": "stdout",
       "text": [
        "\tvalid_h0_min_x.min_u: -0.121475324035\n"
       ]
      },
      {
       "output_type": "stream",
       "stream": "stdout",
       "text": [
        "\tvalid_h0_range_x.max_u: 1.21395099163\n"
       ]
      },
      {
       "output_type": "stream",
       "stream": "stdout",
       "text": [
        "\tvalid_h0_range_x.mean_u: 0.53047722578\n"
       ]
      },
      {
       "output_type": "stream",
       "stream": "stdout",
       "text": [
        "\tvalid_h0_range_x.min_u: 0.0860535278916\n"
       ]
      },
      {
       "output_type": "stream",
       "stream": "stdout",
       "text": [
        "\tvalid_h1_kernel_norms_max: 0.263420701027\n"
       ]
      },
      {
       "output_type": "stream",
       "stream": "stdout",
       "text": [
        "\tvalid_h1_kernel_norms_mean: 0.181413382292\n"
       ]
      },
      {
       "output_type": "stream",
       "stream": "stdout",
       "text": [
        "\tvalid_h1_kernel_norms_min: 0.156796261668\n"
       ]
      },
      {
       "output_type": "stream",
       "stream": "stdout",
       "text": [
        "\tvalid_h1_max_x.max_u: 2.23894405365\n"
       ]
      },
      {
       "output_type": "stream",
       "stream": "stdout",
       "text": [
        "\tvalid_h1_max_x.mean_u: 1.16181397438\n"
       ]
      },
      {
       "output_type": "stream",
       "stream": "stdout",
       "text": [
        "\tvalid_h1_max_x.min_u: 0.0475602373481\n"
       ]
      },
      {
       "output_type": "stream",
       "stream": "stdout",
       "text": [
        "\tvalid_h1_mean_x.max_u: 0.321809053421\n"
       ]
      },
      {
       "output_type": "stream",
       "stream": "stdout",
       "text": [
        "\tvalid_h1_mean_x.mean_u: 0.188000828028\n"
       ]
      },
      {
       "output_type": "stream",
       "stream": "stdout",
       "text": [
        "\tvalid_h1_mean_x.min_u: 0.00678356690332\n"
       ]
      },
      {
       "output_type": "stream",
       "stream": "stdout",
       "text": [
        "\tvalid_h1_min_x.max_u: -0.0112116020173\n"
       ]
      },
      {
       "output_type": "stream",
       "stream": "stdout",
       "text": [
        "\tvalid_h1_min_x.mean_u: -0.078497543931\n"
       ]
      },
      {
       "output_type": "stream",
       "stream": "stdout",
       "text": [
        "\tvalid_h1_min_x.min_u: -0.278923034668\n"
       ]
      },
      {
       "output_type": "stream",
       "stream": "stdout",
       "text": [
        "\tvalid_h1_range_x.max_u: 2.50302028656\n"
       ]
      },
      {
       "output_type": "stream",
       "stream": "stdout",
       "text": [
        "\tvalid_h1_range_x.mean_u: 1.24031150341\n"
       ]
      },
      {
       "output_type": "stream",
       "stream": "stdout",
       "text": [
        "\tvalid_h1_range_x.min_u: 0.170416176319\n"
       ]
      },
      {
       "output_type": "stream",
       "stream": "stdout",
       "text": [
        "\tvalid_h2_kernel_norms_max: 0.326694577932\n"
       ]
      },
      {
       "output_type": "stream",
       "stream": "stdout",
       "text": [
        "\tvalid_h2_kernel_norms_mean: 0.132721200585\n"
       ]
      },
      {
       "output_type": "stream",
       "stream": "stdout",
       "text": [
        "\tvalid_h2_kernel_norms_min: 0.0975348129869\n"
       ]
      },
      {
       "output_type": "stream",
       "stream": "stdout",
       "text": [
        "\tvalid_h2_max_x.max_u: 5.16822004318\n"
       ]
      },
      {
       "output_type": "stream",
       "stream": "stdout",
       "text": [
        "\tvalid_h2_max_x.mean_u: 3.19380450249\n"
       ]
      },
      {
       "output_type": "stream",
       "stream": "stdout",
       "text": [
        "\tvalid_h2_max_x.min_u: 0.969621419907\n"
       ]
      },
      {
       "output_type": "stream",
       "stream": "stdout",
       "text": [
        "\tvalid_h2_mean_x.max_u: 0.57282692194\n"
       ]
      },
      {
       "output_type": "stream",
       "stream": "stdout",
       "text": [
        "\tvalid_h2_mean_x.mean_u: 0.386127531528\n"
       ]
      },
      {
       "output_type": "stream",
       "stream": "stdout",
       "text": [
        "\tvalid_h2_mean_x.min_u: 0.144640550017\n"
       ]
      },
      {
       "output_type": "stream",
       "stream": "stdout",
       "text": [
        "\tvalid_h2_min_x.max_u: -0.00847444403917\n"
       ]
      },
      {
       "output_type": "stream",
       "stream": "stdout",
       "text": [
        "\tvalid_h2_min_x.mean_u: -0.0958157777786\n"
       ]
      },
      {
       "output_type": "stream",
       "stream": "stdout",
       "text": [
        "\tvalid_h2_min_x.min_u: -0.347742885351\n"
       ]
      },
      {
       "output_type": "stream",
       "stream": "stdout",
       "text": [
        "\tvalid_h2_range_x.max_u: 5.29985284805\n"
       ]
      },
      {
       "output_type": "stream",
       "stream": "stdout",
       "text": [
        "\tvalid_h2_range_x.mean_u: 3.2896194458\n"
       ]
      },
      {
       "output_type": "stream",
       "stream": "stdout",
       "text": [
        "\tvalid_h2_range_x.min_u: 1.05439400673\n"
       ]
      },
      {
       "output_type": "stream",
       "stream": "stdout",
       "text": [
        "\tvalid_objective: 3.75739359856\n"
       ]
      },
      {
       "output_type": "stream",
       "stream": "stdout",
       "text": [
        "\tvalid_y_col_norms_max: 0.817471802235\n"
       ]
      },
      {
       "output_type": "stream",
       "stream": "stdout",
       "text": [
        "\tvalid_y_col_norms_mean: 0.254166185856\n"
       ]
      },
      {
       "output_type": "stream",
       "stream": "stdout",
       "text": [
        "\tvalid_y_col_norms_min: 0.0841487124562\n"
       ]
      },
      {
       "output_type": "stream",
       "stream": "stdout",
       "text": [
        "\tvalid_y_max_max_class: 0.930573821068\n"
       ]
      },
      {
       "output_type": "stream",
       "stream": "stdout",
       "text": [
        "\tvalid_y_mean_max_class: 0.192618057132\n"
       ]
      },
      {
       "output_type": "stream",
       "stream": "stdout",
       "text": [
        "\tvalid_y_min_max_class: 0.0451908372343\n"
       ]
      },
      {
       "output_type": "stream",
       "stream": "stdout",
       "text": [
        "\tvalid_y_misclass: 0.840199947357\n"
       ]
      },
      {
       "output_type": "stream",
       "stream": "stdout",
       "text": [
        "\tvalid_y_nll: 3.75543379784\n"
       ]
      },
      {
       "output_type": "stream",
       "stream": "stdout",
       "text": [
        "\tvalid_y_row_norms_max: 0.470095515251\n"
       ]
      },
      {
       "output_type": "stream",
       "stream": "stdout",
       "text": [
        "\tvalid_y_row_norms_mean: 0.14089204371\n"
       ]
      },
      {
       "output_type": "stream",
       "stream": "stdout",
       "text": [
        "\tvalid_y_row_norms_min: 0.0346666201949\n"
       ]
      },
      {
       "output_type": "stream",
       "stream": "stdout",
       "text": [
        "Saving to cnn_00_best.pkl...\n"
       ]
      },
      {
       "output_type": "stream",
       "stream": "stdout",
       "text": [
        "Saving to cnn_00_best.pkl done. Time elapsed: 0.195230 seconds\n"
       ]
      },
      {
       "output_type": "stream",
       "stream": "stdout",
       "text": [
        "Time this epoch: 0:01:18.475886\n"
       ]
      },
      {
       "output_type": "stream",
       "stream": "stdout",
       "text": [
        "Monitoring step:\n"
       ]
      },
      {
       "output_type": "stream",
       "stream": "stdout",
       "text": [
        "\tEpochs seen: 4\n"
       ]
      },
      {
       "output_type": "stream",
       "stream": "stdout",
       "text": [
        "\tBatches seen: 1000\n"
       ]
      },
      {
       "output_type": "stream",
       "stream": "stdout",
       "text": [
        "\tExamples seen: 100000\n"
       ]
      },
      {
       "output_type": "stream",
       "stream": "stdout",
       "text": [
        "\tlearning_rate: 0.0480394847691\n"
       ]
      },
      {
       "output_type": "stream",
       "stream": "stdout",
       "text": [
        "\tmomentum: 0.502408981323\n"
       ]
      },
      {
       "output_type": "stream",
       "stream": "stdout",
       "text": [
        "\ttotal_seconds_last_epoch: 143.136428833\n"
       ]
      },
      {
       "output_type": "stream",
       "stream": "stdout",
       "text": [
        "\ttrain_h0_kernel_norms_max: 0.515341758728\n"
       ]
      },
      {
       "output_type": "stream",
       "stream": "stdout",
       "text": [
        "\ttrain_h0_kernel_norms_mean: 0.14385458827\n"
       ]
      },
      {
       "output_type": "stream",
       "stream": "stdout",
       "text": [
        "\ttrain_h0_kernel_norms_min: 0.0217551980168\n"
       ]
      },
      {
       "output_type": "stream",
       "stream": "stdout",
       "text": [
        "\ttrain_h0_max_x.max_u: 1.4976837635\n"
       ]
      },
      {
       "output_type": "stream",
       "stream": "stdout",
       "text": [
        "\ttrain_h0_max_x.mean_u: 0.816154360771\n"
       ]
      },
      {
       "output_type": "stream",
       "stream": "stdout",
       "text": [
        "\ttrain_h0_max_x.min_u: 0.231114849448\n"
       ]
      },
      {
       "output_type": "stream",
       "stream": "stdout",
       "text": [
        "\ttrain_h0_mean_x.max_u: 0.317617803812\n"
       ]
      },
      {
       "output_type": "stream",
       "stream": "stdout",
       "text": [
        "\ttrain_h0_mean_x.mean_u: 0.0862769261003\n"
       ]
      },
      {
       "output_type": "stream",
       "stream": "stdout",
       "text": [
        "\ttrain_h0_mean_x.min_u: 0.022945959121\n"
       ]
      },
      {
       "output_type": "stream",
       "stream": "stdout",
       "text": [
        "\ttrain_h0_min_x.max_u: 0.00488286791369\n"
       ]
      },
      {
       "output_type": "stream",
       "stream": "stdout",
       "text": [
        "\ttrain_h0_min_x.mean_u: -0.125210255384\n"
       ]
      },
      {
       "output_type": "stream",
       "stream": "stdout",
       "text": [
        "\ttrain_h0_min_x.min_u: -0.279771327972\n"
       ]
      },
      {
       "output_type": "stream",
       "stream": "stdout",
       "text": [
        "\ttrain_h0_range_x.max_u: 1.6515532732\n"
       ]
      },
      {
       "output_type": "stream",
       "stream": "stdout",
       "text": [
        "\ttrain_h0_range_x.mean_u: 0.941364824772\n"
       ]
      },
      {
       "output_type": "stream",
       "stream": "stdout",
       "text": [
        "\ttrain_h0_range_x.min_u: 0.317906677723\n"
       ]
      },
      {
       "output_type": "stream",
       "stream": "stdout",
       "text": [
        "\ttrain_h1_kernel_norms_max: 0.463957071304\n"
       ]
      },
      {
       "output_type": "stream",
       "stream": "stdout",
       "text": [
        "\ttrain_h1_kernel_norms_mean: 0.246003210545\n"
       ]
      },
      {
       "output_type": "stream",
       "stream": "stdout",
       "text": [
        "\ttrain_h1_kernel_norms_min: 0.159170463681\n"
       ]
      },
      {
       "output_type": "stream",
       "stream": "stdout",
       "text": [
        "\ttrain_h1_max_x.max_u: 4.82643079758\n"
       ]
      },
      {
       "output_type": "stream",
       "stream": "stdout",
       "text": [
        "\ttrain_h1_max_x.mean_u: 2.25015735626\n"
       ]
      },
      {
       "output_type": "stream",
       "stream": "stdout",
       "text": [
        "\ttrain_h1_max_x.min_u: 1.00277411938\n"
       ]
      },
      {
       "output_type": "stream",
       "stream": "stdout",
       "text": [
        "\ttrain_h1_mean_x.max_u: 1.23861968517\n"
       ]
      },
      {
       "output_type": "stream",
       "stream": "stdout",
       "text": [
        "\ttrain_h1_mean_x.mean_u: 0.351871520281\n"
       ]
      },
      {
       "output_type": "stream",
       "stream": "stdout",
       "text": [
        "\ttrain_h1_mean_x.min_u: -0.0618251375854\n"
       ]
      },
      {
       "output_type": "stream",
       "stream": "stdout",
       "text": [
        "\ttrain_h1_min_x.max_u: 0.144215926528\n"
       ]
      },
      {
       "output_type": "stream",
       "stream": "stdout",
       "text": [
        "\ttrain_h1_min_x.mean_u: -0.966786801815\n"
       ]
      },
      {
       "output_type": "stream",
       "stream": "stdout",
       "text": [
        "\ttrain_h1_min_x.min_u: -2.81463694572\n"
       ]
      },
      {
       "output_type": "stream",
       "stream": "stdout",
       "text": [
        "\ttrain_h1_range_x.max_u: 5.09244441986\n"
       ]
      },
      {
       "output_type": "stream",
       "stream": "stdout",
       "text": [
        "\ttrain_h1_range_x.mean_u: 3.21694350243\n"
       ]
      },
      {
       "output_type": "stream",
       "stream": "stdout",
       "text": [
        "\ttrain_h1_range_x.min_u: 1.57458162308\n"
       ]
      },
      {
       "output_type": "stream",
       "stream": "stdout",
       "text": [
        "\ttrain_h2_kernel_norms_max: 0.61622107029\n"
       ]
      },
      {
       "output_type": "stream",
       "stream": "stdout",
       "text": [
        "\ttrain_h2_kernel_norms_mean: 0.220120742917\n"
       ]
      },
      {
       "output_type": "stream",
       "stream": "stdout",
       "text": [
        "\ttrain_h2_kernel_norms_min: 0.10760448128\n"
       ]
      },
      {
       "output_type": "stream",
       "stream": "stdout",
       "text": [
        "\ttrain_h2_max_x.max_u: 8.5133190155\n"
       ]
      },
      {
       "output_type": "stream",
       "stream": "stdout",
       "text": [
        "\ttrain_h2_max_x.mean_u: 4.86246919632\n"
       ]
      },
      {
       "output_type": "stream",
       "stream": "stdout",
       "text": [
        "\ttrain_h2_max_x.min_u: 2.56900501251\n"
       ]
      },
      {
       "output_type": "stream",
       "stream": "stdout",
       "text": [
        "\ttrain_h2_mean_x.max_u: 0.65124052763\n"
       ]
      },
      {
       "output_type": "stream",
       "stream": "stdout",
       "text": [
        "\ttrain_h2_mean_x.mean_u: 0.348572939634\n"
       ]
      },
      {
       "output_type": "stream",
       "stream": "stdout",
       "text": [
        "\ttrain_h2_mean_x.min_u: 0.0939600989223\n"
       ]
      },
      {
       "output_type": "stream",
       "stream": "stdout",
       "text": [
        "\ttrain_h2_min_x.max_u: -0.711535453796\n"
       ]
      },
      {
       "output_type": "stream",
       "stream": "stdout",
       "text": [
        "\ttrain_h2_min_x.mean_u: -1.72130131721\n"
       ]
      },
      {
       "output_type": "stream",
       "stream": "stdout",
       "text": [
        "\ttrain_h2_min_x.min_u: -3.13912796974\n"
       ]
      },
      {
       "output_type": "stream",
       "stream": "stdout",
       "text": [
        "\ttrain_h2_range_x.max_u: 11.1098432541\n"
       ]
      },
      {
       "output_type": "stream",
       "stream": "stdout",
       "text": [
        "\ttrain_h2_range_x.mean_u: 6.58377313614\n"
       ]
      },
      {
       "output_type": "stream",
       "stream": "stdout",
       "text": [
        "\ttrain_h2_range_x.min_u: 3.51576495171\n"
       ]
      },
      {
       "output_type": "stream",
       "stream": "stdout",
       "text": [
        "\ttrain_objective: 3.15610170364\n"
       ]
      },
      {
       "output_type": "stream",
       "stream": "stdout",
       "text": [
        "\ttrain_y_col_norms_max: 1.09046721458\n"
       ]
      },
      {
       "output_type": "stream",
       "stream": "stdout",
       "text": [
        "\ttrain_y_col_norms_mean: 0.381817936897\n"
       ]
      },
      {
       "output_type": "stream",
       "stream": "stdout",
       "text": [
        "\ttrain_y_col_norms_min: 0.14151507616\n"
       ]
      },
      {
       "output_type": "stream",
       "stream": "stdout",
       "text": [
        "\ttrain_y_max_max_class: 0.982178151608\n"
       ]
      },
      {
       "output_type": "stream",
       "stream": "stdout",
       "text": [
        "\ttrain_y_mean_max_class: 0.28873115778\n"
       ]
      },
      {
       "output_type": "stream",
       "stream": "stdout",
       "text": [
        "\ttrain_y_min_max_class: 0.0492360219359\n"
       ]
      },
      {
       "output_type": "stream",
       "stream": "stdout",
       "text": [
        "\ttrain_y_misclass: 0.752560019493\n"
       ]
      },
      {
       "output_type": "stream",
       "stream": "stdout",
       "text": [
        "\ttrain_y_nll: 3.06293773651\n"
       ]
      },
      {
       "output_type": "stream",
       "stream": "stdout",
       "text": [
        "\ttrain_y_row_norms_max: 0.608538508415\n"
       ]
      },
      {
       "output_type": "stream",
       "stream": "stdout",
       "text": [
        "\ttrain_y_row_norms_mean: 0.212636724114\n"
       ]
      },
      {
       "output_type": "stream",
       "stream": "stdout",
       "text": [
        "\ttrain_y_row_norms_min: 0.0389342904091\n"
       ]
      },
      {
       "output_type": "stream",
       "stream": "stdout",
       "text": [
        "\ttraining_seconds_this_epoch: 78.4759368896\n"
       ]
      },
      {
       "output_type": "stream",
       "stream": "stdout",
       "text": [
        "\tvalid_h0_kernel_norms_max: 0.515341818333\n"
       ]
      },
      {
       "output_type": "stream",
       "stream": "stdout",
       "text": [
        "\tvalid_h0_kernel_norms_mean: 0.143854811788\n"
       ]
      },
      {
       "output_type": "stream",
       "stream": "stdout",
       "text": [
        "\tvalid_h0_kernel_norms_min: 0.0217551626265\n"
       ]
      },
      {
       "output_type": "stream",
       "stream": "stdout",
       "text": [
        "\tvalid_h0_max_x.max_u: 1.4890973568\n"
       ]
      },
      {
       "output_type": "stream",
       "stream": "stdout",
       "text": [
        "\tvalid_h0_max_x.mean_u: 0.812529444695\n"
       ]
      },
      {
       "output_type": "stream",
       "stream": "stdout",
       "text": [
        "\tvalid_h0_max_x.min_u: 0.235195666552\n"
       ]
      },
      {
       "output_type": "stream",
       "stream": "stdout",
       "text": [
        "\tvalid_h0_mean_x.max_u: 0.315020799637\n"
       ]
      },
      {
       "output_type": "stream",
       "stream": "stdout",
       "text": [
        "\tvalid_h0_mean_x.mean_u: 0.0866447985172\n"
       ]
      },
      {
       "output_type": "stream",
       "stream": "stdout",
       "text": [
        "\tvalid_h0_mean_x.min_u: 0.0231628678739\n"
       ]
      },
      {
       "output_type": "stream",
       "stream": "stdout",
       "text": [
        "\tvalid_h0_min_x.max_u: 0.00520192831755\n"
       ]
      },
      {
       "output_type": "stream",
       "stream": "stdout",
       "text": [
        "\tvalid_h0_min_x.mean_u: -0.124471142888\n"
       ]
      },
      {
       "output_type": "stream",
       "stream": "stdout",
       "text": [
        "\tvalid_h0_min_x.min_u: -0.278446257114\n"
       ]
      },
      {
       "output_type": "stream",
       "stream": "stdout",
       "text": [
        "\tvalid_h0_range_x.max_u: 1.64286506176\n"
       ]
      },
      {
       "output_type": "stream",
       "stream": "stdout",
       "text": [
        "\tvalid_h0_range_x.mean_u: 0.937000632286\n"
       ]
      },
      {
       "output_type": "stream",
       "stream": "stdout",
       "text": [
        "\tvalid_h0_range_x.min_u: 0.315805286169\n"
       ]
      },
      {
       "output_type": "stream",
       "stream": "stdout",
       "text": [
        "\tvalid_h1_kernel_norms_max: 0.463958382607\n"
       ]
      },
      {
       "output_type": "stream",
       "stream": "stdout",
       "text": [
        "\tvalid_h1_kernel_norms_mean: 0.246003091335\n"
       ]
      },
      {
       "output_type": "stream",
       "stream": "stdout",
       "text": [
        "\tvalid_h1_kernel_norms_min: 0.159170418978\n"
       ]
      },
      {
       "output_type": "stream",
       "stream": "stdout",
       "text": [
        "\tvalid_h1_max_x.max_u: 4.83279943466\n"
       ]
      },
      {
       "output_type": "stream",
       "stream": "stdout",
       "text": [
        "\tvalid_h1_max_x.mean_u: 2.2393989563\n"
       ]
      },
      {
       "output_type": "stream",
       "stream": "stdout",
       "text": [
        "\tvalid_h1_max_x.min_u: 1.00499927998\n"
       ]
      },
      {
       "output_type": "stream",
       "stream": "stdout",
       "text": [
        "\tvalid_h1_mean_x.max_u: 1.23139488697\n"
       ]
      },
      {
       "output_type": "stream",
       "stream": "stdout",
       "text": [
        "\tvalid_h1_mean_x.mean_u: 0.348808825016\n"
       ]
      },
      {
       "output_type": "stream",
       "stream": "stdout",
       "text": [
        "\tvalid_h1_mean_x.min_u: -0.0706277638674\n"
       ]
      },
      {
       "output_type": "stream",
       "stream": "stdout",
       "text": [
        "\tvalid_h1_min_x.max_u: 0.1410779953\n"
       ]
      },
      {
       "output_type": "stream",
       "stream": "stdout",
       "text": [
        "\tvalid_h1_min_x.mean_u: -0.95081281662\n"
       ]
      },
      {
       "output_type": "stream",
       "stream": "stdout",
       "text": [
        "\tvalid_h1_min_x.min_u: -2.75247335434\n"
       ]
      },
      {
       "output_type": "stream",
       "stream": "stdout",
       "text": [
        "\tvalid_h1_range_x.max_u: 5.10729503632\n"
       ]
      },
      {
       "output_type": "stream",
       "stream": "stdout",
       "text": [
        "\tvalid_h1_range_x.mean_u: 3.19021129608\n"
       ]
      },
      {
       "output_type": "stream",
       "stream": "stdout",
       "text": [
        "\tvalid_h1_range_x.min_u: 1.57592606544\n"
       ]
      },
      {
       "output_type": "stream",
       "stream": "stdout",
       "text": [
        "\tvalid_h2_kernel_norms_max: 0.616219341755\n"
       ]
      },
      {
       "output_type": "stream",
       "stream": "stdout",
       "text": [
        "\tvalid_h2_kernel_norms_mean: 0.22012090683\n"
       ]
      },
      {
       "output_type": "stream",
       "stream": "stdout",
       "text": [
        "\tvalid_h2_kernel_norms_min: 0.107604235411\n"
       ]
      },
      {
       "output_type": "stream",
       "stream": "stdout",
       "text": [
        "\tvalid_h2_max_x.max_u: 8.41885375977\n"
       ]
      },
      {
       "output_type": "stream",
       "stream": "stdout",
       "text": [
        "\tvalid_h2_max_x.mean_u: 4.78787660599\n"
       ]
      },
      {
       "output_type": "stream",
       "stream": "stdout",
       "text": [
        "\tvalid_h2_max_x.min_u: 2.52184534073\n"
       ]
      },
      {
       "output_type": "stream",
       "stream": "stdout",
       "text": [
        "\tvalid_h2_mean_x.max_u: 0.647393643856\n"
       ]
      },
      {
       "output_type": "stream",
       "stream": "stdout",
       "text": [
        "\tvalid_h2_mean_x.mean_u: 0.344388544559\n"
       ]
      },
      {
       "output_type": "stream",
       "stream": "stdout",
       "text": [
        "\tvalid_h2_mean_x.min_u: 0.0866644084454\n"
       ]
      },
      {
       "output_type": "stream",
       "stream": "stdout",
       "text": [
        "\tvalid_h2_min_x.max_u: -0.706064581871\n"
       ]
      },
      {
       "output_type": "stream",
       "stream": "stdout",
       "text": [
        "\tvalid_h2_min_x.mean_u: -1.6950494051\n"
       ]
      },
      {
       "output_type": "stream",
       "stream": "stdout",
       "text": [
        "\tvalid_h2_min_x.min_u: -3.06024289131\n"
       ]
      },
      {
       "output_type": "stream",
       "stream": "stdout",
       "text": [
        "\tvalid_h2_range_x.max_u: 10.9200944901\n"
       ]
      },
      {
       "output_type": "stream",
       "stream": "stdout",
       "text": [
        "\tvalid_h2_range_x.mean_u: 6.48292684555\n"
       ]
      },
      {
       "output_type": "stream",
       "stream": "stdout",
       "text": [
        "\tvalid_h2_range_x.min_u: 3.48912858963\n"
       ]
      },
      {
       "output_type": "stream",
       "stream": "stdout",
       "text": [
        "\tvalid_objective: 3.13016581535\n"
       ]
      },
      {
       "output_type": "stream",
       "stream": "stdout",
       "text": [
        "\tvalid_y_col_norms_max: 1.09046912193\n"
       ]
      },
      {
       "output_type": "stream",
       "stream": "stdout",
       "text": [
        "\tvalid_y_col_norms_mean: 0.381817042828\n"
       ]
      },
      {
       "output_type": "stream",
       "stream": "stdout",
       "text": [
        "\tvalid_y_col_norms_min: 0.141515254974\n"
       ]
      },
      {
       "output_type": "stream",
       "stream": "stdout",
       "text": [
        "\tvalid_y_max_max_class: 0.982707560062\n"
       ]
      },
      {
       "output_type": "stream",
       "stream": "stdout",
       "text": [
        "\tvalid_y_mean_max_class: 0.288758784533\n"
       ]
      },
      {
       "output_type": "stream",
       "stream": "stdout",
       "text": [
        "\tvalid_y_min_max_class: 0.0513597838581\n"
       ]
      },
      {
       "output_type": "stream",
       "stream": "stdout",
       "text": [
        "\tvalid_y_misclass: 0.743600010872\n"
       ]
      },
      {
       "output_type": "stream",
       "stream": "stdout",
       "text": [
        "\tvalid_y_nll: 3.05431318283\n"
       ]
      },
      {
       "output_type": "stream",
       "stream": "stdout",
       "text": [
        "\tvalid_y_row_norms_max: 0.608538627625\n"
       ]
      },
      {
       "output_type": "stream",
       "stream": "stdout",
       "text": [
        "\tvalid_y_row_norms_mean: 0.212637275457\n"
       ]
      },
      {
       "output_type": "stream",
       "stream": "stdout",
       "text": [
        "\tvalid_y_row_norms_min: 0.0389343127608\n"
       ]
      },
      {
       "output_type": "stream",
       "stream": "stdout",
       "text": [
        "Saving to cnn_00_best.pkl...\n"
       ]
      },
      {
       "output_type": "stream",
       "stream": "stdout",
       "text": [
        "Saving to cnn_00_best.pkl done. Time elapsed: 0.201701 seconds\n"
       ]
      },
      {
       "output_type": "stream",
       "stream": "stdout",
       "text": [
        "Time this epoch: 0:01:18.629386\n"
       ]
      },
      {
       "output_type": "stream",
       "stream": "stdout",
       "text": [
        "Monitoring step:\n"
       ]
      },
      {
       "output_type": "stream",
       "stream": "stdout",
       "text": [
        "\tEpochs seen: 5\n"
       ]
      },
      {
       "output_type": "stream",
       "stream": "stdout",
       "text": [
        "\tBatches seen: 1250\n"
       ]
      },
      {
       "output_type": "stream",
       "stream": "stdout",
       "text": [
        "\tExamples seen: 125000\n"
       ]
      },
      {
       "output_type": "stream",
       "stream": "stdout",
       "text": [
        "\tlearning_rate: 0.0475616380572\n"
       ]
      },
      {
       "output_type": "stream",
       "stream": "stdout",
       "text": [
        "\tmomentum: 0.503212332726\n"
       ]
      },
      {
       "output_type": "stream",
       "stream": "stdout",
       "text": [
        "\ttotal_seconds_last_epoch: 142.900695801\n"
       ]
      },
      {
       "output_type": "stream",
       "stream": "stdout",
       "text": [
        "\ttrain_h0_kernel_norms_max: 0.493117064238\n"
       ]
      },
      {
       "output_type": "stream",
       "stream": "stdout",
       "text": [
        "\ttrain_h0_kernel_norms_mean: 0.175610214472\n"
       ]
      },
      {
       "output_type": "stream",
       "stream": "stdout",
       "text": [
        "\ttrain_h0_kernel_norms_min: 0.0412426032126\n"
       ]
      },
      {
       "output_type": "stream",
       "stream": "stdout",
       "text": [
        "\ttrain_h0_max_x.max_u: 1.31922054291\n"
       ]
      },
      {
       "output_type": "stream",
       "stream": "stdout",
       "text": [
        "\ttrain_h0_max_x.mean_u: 0.746491074562\n"
       ]
      },
      {
       "output_type": "stream",
       "stream": "stdout",
       "text": [
        "\ttrain_h0_max_x.min_u: 0.303323566914\n"
       ]
      },
      {
       "output_type": "stream",
       "stream": "stdout",
       "text": [
        "\ttrain_h0_mean_x.max_u: 0.293227463961\n"
       ]
      },
      {
       "output_type": "stream",
       "stream": "stdout",
       "text": [
        "\ttrain_h0_mean_x.mean_u: 0.0894929543138\n"
       ]
      },
      {
       "output_type": "stream",
       "stream": "stdout",
       "text": [
        "\ttrain_h0_mean_x.min_u: 0.0347621515393\n"
       ]
      },
      {
       "output_type": "stream",
       "stream": "stdout",
       "text": [
        "\ttrain_h0_min_x.max_u: 0.00594649137929\n"
       ]
      },
      {
       "output_type": "stream",
       "stream": "stdout",
       "text": [
        "\ttrain_h0_min_x.mean_u: -0.129405230284\n"
       ]
      },
      {
       "output_type": "stream",
       "stream": "stdout",
       "text": [
        "\ttrain_h0_min_x.min_u: -0.253706693649\n"
       ]
      },
      {
       "output_type": "stream",
       "stream": "stdout",
       "text": [
        "\ttrain_h0_range_x.max_u: 1.41653835773\n"
       ]
      },
      {
       "output_type": "stream",
       "stream": "stdout",
       "text": [
        "\ttrain_h0_range_x.mean_u: 0.875896513462\n"
       ]
      },
      {
       "output_type": "stream",
       "stream": "stdout",
       "text": [
        "\ttrain_h0_range_x.min_u: 0.37658777833\n"
       ]
      },
      {
       "output_type": "stream",
       "stream": "stdout",
       "text": [
        "\ttrain_h1_kernel_norms_max: 0.563576877117\n"
       ]
      },
      {
       "output_type": "stream",
       "stream": "stdout",
       "text": [
        "\ttrain_h1_kernel_norms_mean: 0.291787862778\n"
       ]
      },
      {
       "output_type": "stream",
       "stream": "stdout",
       "text": [
        "\ttrain_h1_kernel_norms_min: 0.162067607045\n"
       ]
      },
      {
       "output_type": "stream",
       "stream": "stdout",
       "text": [
        "\ttrain_h1_max_x.max_u: 3.72935056686\n"
       ]
      },
      {
       "output_type": "stream",
       "stream": "stdout",
       "text": [
        "\ttrain_h1_max_x.mean_u: 2.01916408539\n"
       ]
      },
      {
       "output_type": "stream",
       "stream": "stdout",
       "text": [
        "\ttrain_h1_max_x.min_u: 0.938439130783\n"
       ]
      },
      {
       "output_type": "stream",
       "stream": "stdout",
       "text": [
        "\ttrain_h1_mean_x.max_u: 0.994702219963\n"
       ]
      },
      {
       "output_type": "stream",
       "stream": "stdout",
       "text": [
        "\ttrain_h1_mean_x.mean_u: 0.285104632378\n"
       ]
      },
      {
       "output_type": "stream",
       "stream": "stdout",
       "text": [
        "\ttrain_h1_mean_x.min_u: -0.150189742446\n"
       ]
      },
      {
       "output_type": "stream",
       "stream": "stdout",
       "text": [
        "\ttrain_h1_min_x.max_u: 0.0897719785571\n"
       ]
      },
      {
       "output_type": "stream",
       "stream": "stdout",
       "text": [
        "\ttrain_h1_min_x.mean_u: -1.17937064171\n"
       ]
      },
      {
       "output_type": "stream",
       "stream": "stdout",
       "text": [
        "\ttrain_h1_min_x.min_u: -3.11952471733\n"
       ]
      },
      {
       "output_type": "stream",
       "stream": "stdout",
       "text": [
        "\ttrain_h1_range_x.max_u: 5.37442111969\n"
       ]
      },
      {
       "output_type": "stream",
       "stream": "stdout",
       "text": [
        "\ttrain_h1_range_x.mean_u: 3.1985347271\n"
       ]
      },
      {
       "output_type": "stream",
       "stream": "stdout",
       "text": [
        "\ttrain_h1_range_x.min_u: 1.85515415668\n"
       ]
      },
      {
       "output_type": "stream",
       "stream": "stdout",
       "text": [
        "\ttrain_h2_kernel_norms_max: 0.747967600822\n"
       ]
      },
      {
       "output_type": "stream",
       "stream": "stdout",
       "text": [
        "\ttrain_h2_kernel_norms_mean: 0.301831245422\n"
       ]
      },
      {
       "output_type": "stream",
       "stream": "stdout",
       "text": [
        "\ttrain_h2_kernel_norms_min: 0.13280120492\n"
       ]
      },
      {
       "output_type": "stream",
       "stream": "stdout",
       "text": [
        "\ttrain_h2_max_x.max_u: 7.4823923111\n"
       ]
      },
      {
       "output_type": "stream",
       "stream": "stdout",
       "text": [
        "\ttrain_h2_max_x.mean_u: 4.48011302948\n"
       ]
      },
      {
       "output_type": "stream",
       "stream": "stdout",
       "text": [
        "\ttrain_h2_max_x.min_u: 2.61666083336\n"
       ]
      },
      {
       "output_type": "stream",
       "stream": "stdout",
       "text": [
        "\ttrain_h2_mean_x.max_u: 0.550432980061\n"
       ]
      },
      {
       "output_type": "stream",
       "stream": "stdout",
       "text": [
        "\ttrain_h2_mean_x.mean_u: 0.264693111181\n"
       ]
      },
      {
       "output_type": "stream",
       "stream": "stdout",
       "text": [
        "\ttrain_h2_mean_x.min_u: -0.129558160901\n"
       ]
      },
      {
       "output_type": "stream",
       "stream": "stdout",
       "text": [
        "\ttrain_h2_min_x.max_u: -0.759656906128\n"
       ]
      },
      {
       "output_type": "stream",
       "stream": "stdout",
       "text": [
        "\ttrain_h2_min_x.mean_u: -2.11614346504\n"
       ]
      },
      {
       "output_type": "stream",
       "stream": "stdout",
       "text": [
        "\ttrain_h2_min_x.min_u: -3.80455231667\n"
       ]
      },
      {
       "output_type": "stream",
       "stream": "stdout",
       "text": [
        "\ttrain_h2_range_x.max_u: 9.90495872498\n"
       ]
      },
      {
       "output_type": "stream",
       "stream": "stdout",
       "text": [
        "\ttrain_h2_range_x.mean_u: 6.59625387192\n"
       ]
      },
      {
       "output_type": "stream",
       "stream": "stdout",
       "text": [
        "\ttrain_h2_range_x.min_u: 4.11790180206\n"
       ]
      },
      {
       "output_type": "stream",
       "stream": "stdout",
       "text": [
        "\ttrain_objective: 2.8205678463\n"
       ]
      },
      {
       "output_type": "stream",
       "stream": "stdout",
       "text": [
        "\ttrain_y_col_norms_max: 1.16612529755\n"
       ]
      },
      {
       "output_type": "stream",
       "stream": "stdout",
       "text": [
        "\ttrain_y_col_norms_mean: 0.482120007277\n"
       ]
      },
      {
       "output_type": "stream",
       "stream": "stdout",
       "text": [
        "\ttrain_y_col_norms_min: 0.185594275594\n"
       ]
      },
      {
       "output_type": "stream",
       "stream": "stdout",
       "text": [
        "\ttrain_y_max_max_class: 0.988413333893\n"
       ]
      },
      {
       "output_type": "stream",
       "stream": "stdout",
       "text": [
        "\ttrain_y_mean_max_class: 0.355360478163\n"
       ]
      },
      {
       "output_type": "stream",
       "stream": "stdout",
       "text": [
        "\ttrain_y_min_max_class: 0.0596205480397\n"
       ]
      },
      {
       "output_type": "stream",
       "stream": "stdout",
       "text": [
        "\ttrain_y_misclass: 0.690919995308\n"
       ]
      },
      {
       "output_type": "stream",
       "stream": "stdout",
       "text": [
        "\ttrain_y_nll: 2.69892239571\n"
       ]
      },
      {
       "output_type": "stream",
       "stream": "stdout",
       "text": [
        "\ttrain_y_row_norms_max: 0.65750837326\n"
       ]
      },
      {
       "output_type": "stream",
       "stream": "stdout",
       "text": [
        "\ttrain_y_row_norms_mean: 0.269938737154\n"
       ]
      },
      {
       "output_type": "stream",
       "stream": "stdout",
       "text": [
        "\ttrain_y_row_norms_min: 0.0516325943172\n"
       ]
      },
      {
       "output_type": "stream",
       "stream": "stdout",
       "text": [
        "\ttraining_seconds_this_epoch: 78.6293029785\n"
       ]
      },
      {
       "output_type": "stream",
       "stream": "stdout",
       "text": [
        "\tvalid_h0_kernel_norms_max: 0.493118137121\n"
       ]
      },
      {
       "output_type": "stream",
       "stream": "stdout",
       "text": [
        "\tvalid_h0_kernel_norms_mean: 0.175610244274\n"
       ]
      },
      {
       "output_type": "stream",
       "stream": "stdout",
       "text": [
        "\tvalid_h0_kernel_norms_min: 0.0412424989045\n"
       ]
      },
      {
       "output_type": "stream",
       "stream": "stdout",
       "text": [
        "\tvalid_h0_max_x.max_u: 1.31538081169\n"
       ]
      },
      {
       "output_type": "stream",
       "stream": "stdout",
       "text": [
        "\tvalid_h0_max_x.mean_u: 0.74727499485\n"
       ]
      },
      {
       "output_type": "stream",
       "stream": "stdout",
       "text": [
        "\tvalid_h0_max_x.min_u: 0.302615195513\n"
       ]
      },
      {
       "output_type": "stream",
       "stream": "stdout",
       "text": [
        "\tvalid_h0_mean_x.max_u: 0.290773510933\n"
       ]
      },
      {
       "output_type": "stream",
       "stream": "stdout",
       "text": [
        "\tvalid_h0_mean_x.mean_u: 0.0897227823734\n"
       ]
      },
      {
       "output_type": "stream",
       "stream": "stdout",
       "text": [
        "\tvalid_h0_mean_x.min_u: 0.0350088775158\n"
       ]
      },
      {
       "output_type": "stream",
       "stream": "stdout",
       "text": [
        "\tvalid_h0_min_x.max_u: 0.0059553515166\n"
       ]
      },
      {
       "output_type": "stream",
       "stream": "stdout",
       "text": [
        "\tvalid_h0_min_x.mean_u: -0.128740713\n"
       ]
      },
      {
       "output_type": "stream",
       "stream": "stdout",
       "text": [
        "\tvalid_h0_min_x.min_u: -0.25232052803\n"
       ]
      },
      {
       "output_type": "stream",
       "stream": "stdout",
       "text": [
        "\tvalid_h0_range_x.max_u: 1.41398358345\n"
       ]
      },
      {
       "output_type": "stream",
       "stream": "stdout",
       "text": [
        "\tvalid_h0_range_x.mean_u: 0.876015484333\n"
       ]
      },
      {
       "output_type": "stream",
       "stream": "stdout",
       "text": [
        "\tvalid_h0_range_x.min_u: 0.376549094915\n"
       ]
      },
      {
       "output_type": "stream",
       "stream": "stdout",
       "text": [
        "\tvalid_h1_kernel_norms_max: 0.563577115536\n"
       ]
      },
      {
       "output_type": "stream",
       "stream": "stdout",
       "text": [
        "\tvalid_h1_kernel_norms_mean: 0.291788637638\n"
       ]
      },
      {
       "output_type": "stream",
       "stream": "stdout",
       "text": [
        "\tvalid_h1_kernel_norms_min: 0.162067487836\n"
       ]
      },
      {
       "output_type": "stream",
       "stream": "stdout",
       "text": [
        "\tvalid_h1_max_x.max_u: 3.70941948891\n"
       ]
      },
      {
       "output_type": "stream",
       "stream": "stdout",
       "text": [
        "\tvalid_h1_max_x.mean_u: 2.01564645767\n"
       ]
      },
      {
       "output_type": "stream",
       "stream": "stdout",
       "text": [
        "\tvalid_h1_max_x.min_u: 0.92973023653\n"
       ]
      },
      {
       "output_type": "stream",
       "stream": "stdout",
       "text": [
        "\tvalid_h1_mean_x.max_u: 0.987817049026\n"
       ]
      },
      {
       "output_type": "stream",
       "stream": "stdout",
       "text": [
        "\tvalid_h1_mean_x.mean_u: 0.2816182971\n"
       ]
      },
      {
       "output_type": "stream",
       "stream": "stdout",
       "text": [
        "\tvalid_h1_mean_x.min_u: -0.155814066529\n"
       ]
      },
      {
       "output_type": "stream",
       "stream": "stdout",
       "text": [
        "\tvalid_h1_min_x.max_u: 0.0864622667432\n"
       ]
      },
      {
       "output_type": "stream",
       "stream": "stdout",
       "text": [
        "\tvalid_h1_min_x.mean_u: -1.16095900536\n"
       ]
      },
      {
       "output_type": "stream",
       "stream": "stdout",
       "text": [
        "\tvalid_h1_min_x.min_u: -3.07098245621\n"
       ]
      },
      {
       "output_type": "stream",
       "stream": "stdout",
       "text": [
        "\tvalid_h1_range_x.max_u: 5.33081960678\n"
       ]
      },
      {
       "output_type": "stream",
       "stream": "stdout",
       "text": [
        "\tvalid_h1_range_x.mean_u: 3.17660498619\n"
       ]
      },
      {
       "output_type": "stream",
       "stream": "stdout",
       "text": [
        "\tvalid_h1_range_x.min_u: 1.84704899788\n"
       ]
      },
      {
       "output_type": "stream",
       "stream": "stdout",
       "text": [
        "\tvalid_h2_kernel_norms_max: 0.747968792915\n"
       ]
      },
      {
       "output_type": "stream",
       "stream": "stdout",
       "text": [
        "\tvalid_h2_kernel_norms_mean: 0.30183210969\n"
       ]
      },
      {
       "output_type": "stream",
       "stream": "stdout",
       "text": [
        "\tvalid_h2_kernel_norms_min: 0.132801353931\n"
       ]
      },
      {
       "output_type": "stream",
       "stream": "stdout",
       "text": [
        "\tvalid_h2_max_x.max_u: 7.39066696167\n"
       ]
      },
      {
       "output_type": "stream",
       "stream": "stdout",
       "text": [
        "\tvalid_h2_max_x.mean_u: 4.46049118042\n"
       ]
      },
      {
       "output_type": "stream",
       "stream": "stdout",
       "text": [
        "\tvalid_h2_max_x.min_u: 2.62016606331\n"
       ]
      },
      {
       "output_type": "stream",
       "stream": "stdout",
       "text": [
        "\tvalid_h2_mean_x.max_u: 0.547894239426\n"
       ]
      },
      {
       "output_type": "stream",
       "stream": "stdout",
       "text": [
        "\tvalid_h2_mean_x.mean_u: 0.262436002493\n"
       ]
      },
      {
       "output_type": "stream",
       "stream": "stdout",
       "text": [
        "\tvalid_h2_mean_x.min_u: -0.130078583956\n"
       ]
      },
      {
       "output_type": "stream",
       "stream": "stdout",
       "text": [
        "\tvalid_h2_min_x.max_u: -0.732329964638\n"
       ]
      },
      {
       "output_type": "stream",
       "stream": "stdout",
       "text": [
        "\tvalid_h2_min_x.mean_u: -2.0880241394\n"
       ]
      },
      {
       "output_type": "stream",
       "stream": "stdout",
       "text": [
        "\tvalid_h2_min_x.min_u: -3.75034832954\n"
       ]
      },
      {
       "output_type": "stream",
       "stream": "stdout",
       "text": [
        "\tvalid_h2_range_x.max_u: 9.88104724884\n"
       ]
      },
      {
       "output_type": "stream",
       "stream": "stdout",
       "text": [
        "\tvalid_h2_range_x.mean_u: 6.54851531982\n"
       ]
      },
      {
       "output_type": "stream",
       "stream": "stdout",
       "text": [
        "\tvalid_h2_range_x.min_u: 4.1071600914\n"
       ]
      },
      {
       "output_type": "stream",
       "stream": "stdout",
       "text": [
        "\tvalid_objective: 2.80116271973\n"
       ]
      },
      {
       "output_type": "stream",
       "stream": "stdout",
       "text": [
        "\tvalid_y_col_norms_max: 1.16612660885\n"
       ]
      },
      {
       "output_type": "stream",
       "stream": "stdout",
       "text": [
        "\tvalid_y_col_norms_mean: 0.482121020555\n"
       ]
      },
      {
       "output_type": "stream",
       "stream": "stdout",
       "text": [
        "\tvalid_y_col_norms_min: 0.185594722629\n"
       ]
      },
      {
       "output_type": "stream",
       "stream": "stdout",
       "text": [
        "\tvalid_y_max_max_class: 0.987694561481\n"
       ]
      },
      {
       "output_type": "stream",
       "stream": "stdout",
       "text": [
        "\tvalid_y_mean_max_class: 0.356212317944\n"
       ]
      },
      {
       "output_type": "stream",
       "stream": "stdout",
       "text": [
        "\tvalid_y_min_max_class: 0.0623428039253\n"
       ]
      },
      {
       "output_type": "stream",
       "stream": "stdout",
       "text": [
        "\tvalid_y_misclass: 0.676799893379\n"
       ]
      },
      {
       "output_type": "stream",
       "stream": "stdout",
       "text": [
        "\tvalid_y_nll: 2.68903970718\n"
       ]
      },
      {
       "output_type": "stream",
       "stream": "stdout",
       "text": [
        "\tvalid_y_row_norms_max: 0.657507836819\n"
       ]
      },
      {
       "output_type": "stream",
       "stream": "stdout",
       "text": [
        "\tvalid_y_row_norms_mean: 0.269939035177\n"
       ]
      },
      {
       "output_type": "stream",
       "stream": "stdout",
       "text": [
        "\tvalid_y_row_norms_min: 0.0516327209771\n"
       ]
      },
      {
       "output_type": "stream",
       "stream": "stdout",
       "text": [
        "Saving to cnn_00_best.pkl...\n"
       ]
      },
      {
       "output_type": "stream",
       "stream": "stdout",
       "text": [
        "Saving to cnn_00_best.pkl done. Time elapsed: 0.207932 seconds\n"
       ]
      },
      {
       "output_type": "stream",
       "stream": "stdout",
       "text": [
        "Time this epoch: 0:01:19.009261\n"
       ]
      }
     ]
    },
    {
     "cell_type": "code",
     "collapsed": false,
     "input": [
      "!../pylearn2_fork/pylearn2/scripts/print_monitor.py cnn_maxout_01_best.pkl"
     ],
     "language": "python",
     "metadata": {},
     "outputs": []
    },
    {
     "cell_type": "code",
     "collapsed": false,
     "input": [
      "# !chmod u+x pylearn2_fork/pylearn2/scripts/mlp/predict_csv.py"
     ],
     "language": "python",
     "metadata": {},
     "outputs": []
    },
    {
     "cell_type": "code",
     "collapsed": false,
     "input": [
      "!../pylearn2_fork/pylearn2/scripts/mlp/predict_cnn_csv.py \\\n",
      "    cnn_maxout_01_best.pkl\\\n",
      "    test_data_centered_cnn_32px.npy\\\n",
      "    submission_cnn_maxout_01_best.csv\\\n",
      "    pred_rownames_cnn.pkl\\\n",
      "    pred_colnames_reader.pkl"
     ],
     "language": "python",
     "metadata": {},
     "outputs": [
      {
       "output_type": "stream",
       "stream": "stdout",
       "text": [
        "Using gpu device 0: GeForce GTX 550 Ti\r\n"
       ]
      },
      {
       "output_type": "stream",
       "stream": "stdout",
       "text": [
        "loading model...\r\n"
       ]
      },
      {
       "output_type": "stream",
       "stream": "stdout",
       "text": [
        "loading data and predicting...\r\n",
        "setting up symbolic expressions...\r\n"
       ]
      },
      {
       "output_type": "stream",
       "stream": "stdout",
       "text": [
        "/home/jotham/venvs/2014-12-20_datascibowl/lib/python2.7/site-packages/theano/tensor/subtensor.py:190: FutureWarning: comparison to `None` will result in an elementwise object comparison in the future.\r\n",
        "  if stop in [None, maxsize]:\r\n"
       ]
      },
      {
       "output_type": "stream",
       "stream": "stdout",
       "text": [
        "writing predictions...\r\n"
       ]
      }
     ],
     "prompt_number": 5
    },
    {
     "cell_type": "code",
     "collapsed": false,
     "input": [
      "# OLD ONE WITH BUGGERED COL LABELS\n",
      "y = pd.read_csv('submission_cnn_maxout_01_best.csv')\n",
      "y"
     ],
     "language": "python",
     "metadata": {},
     "outputs": [
      {
       "html": [
        "<div style=\"max-height:1000px;max-width:1500px;overflow:auto;\">\n",
        "<table border=\"1\" class=\"dataframe\">\n",
        "  <thead>\n",
        "    <tr style=\"text-align: right;\">\n",
        "      <th></th>\n",
        "      <th>image</th>\n",
        "      <th>euphausiids_young</th>\n",
        "      <th>hydromedusae_narcomedusae</th>\n",
        "      <th>copepod_calanoid_small_longantennae</th>\n",
        "      <th>appendicularian_s_shape</th>\n",
        "      <th>decapods</th>\n",
        "      <th>hydromedusae_typeD_bell_and_tentacles</th>\n",
        "      <th>crustacean_other</th>\n",
        "      <th>hydromedusae_bell_and_tentacles</th>\n",
        "      <th>echinoderm_larva_pluteus_brittlestar</th>\n",
        "      <th>...</th>\n",
        "      <th>copepod_calanoid_octomoms</th>\n",
        "      <th>acantharia_protist_big_center</th>\n",
        "      <th>diatom_chain_tube</th>\n",
        "      <th>fish_larvae_medium_body</th>\n",
        "      <th>shrimp_sergestidae</th>\n",
        "      <th>pteropod_theco_dev_seq</th>\n",
        "      <th>siphonophore_partial</th>\n",
        "      <th>protist_fuzzy_olive</th>\n",
        "      <th>appendicularian_fritillaridae</th>\n",
        "      <th>radiolarian_colony</th>\n",
        "    </tr>\n",
        "  </thead>\n",
        "  <tbody>\n",
        "    <tr>\n",
        "      <th>0     </th>\n",
        "      <td>  79469.jpg</td>\n",
        "      <td> 0.000999</td>\n",
        "      <td> 5.126506e-04</td>\n",
        "      <td> 1.018462e-05</td>\n",
        "      <td> 0.000889</td>\n",
        "      <td> 0.000092</td>\n",
        "      <td> 3.017974e-05</td>\n",
        "      <td> 4.801131e-05</td>\n",
        "      <td> 3.830052e-05</td>\n",
        "      <td> 1.121036e-04</td>\n",
        "      <td>...</td>\n",
        "      <td> 8.009753e-05</td>\n",
        "      <td> 0.000141</td>\n",
        "      <td> 7.553571e-04</td>\n",
        "      <td> 2.574329e-05</td>\n",
        "      <td> 1.648166e-03</td>\n",
        "      <td> 0.000134</td>\n",
        "      <td> 9.096187e-05</td>\n",
        "      <td> 2.044277e-05</td>\n",
        "      <td> 0.000130</td>\n",
        "      <td> 1.987029e-04</td>\n",
        "    </tr>\n",
        "    <tr>\n",
        "      <th>1     </th>\n",
        "      <td> 158984.jpg</td>\n",
        "      <td> 0.000020</td>\n",
        "      <td> 1.519219e-04</td>\n",
        "      <td> 4.288653e-05</td>\n",
        "      <td> 0.015080</td>\n",
        "      <td> 0.000080</td>\n",
        "      <td> 1.913380e-07</td>\n",
        "      <td> 3.401868e-06</td>\n",
        "      <td> 1.211119e-06</td>\n",
        "      <td> 2.347123e-05</td>\n",
        "      <td>...</td>\n",
        "      <td> 9.658837e-06</td>\n",
        "      <td> 0.000031</td>\n",
        "      <td> 4.773716e-06</td>\n",
        "      <td> 1.790800e-07</td>\n",
        "      <td> 4.962825e-04</td>\n",
        "      <td> 0.000010</td>\n",
        "      <td> 2.424652e-05</td>\n",
        "      <td> 1.066839e-02</td>\n",
        "      <td> 0.005034</td>\n",
        "      <td> 4.422695e-04</td>\n",
        "    </tr>\n",
        "    <tr>\n",
        "      <th>2     </th>\n",
        "      <td> 114171.jpg</td>\n",
        "      <td> 0.000047</td>\n",
        "      <td> 1.451103e-02</td>\n",
        "      <td> 7.176830e-06</td>\n",
        "      <td> 0.000388</td>\n",
        "      <td> 0.000807</td>\n",
        "      <td> 1.857109e-03</td>\n",
        "      <td> 7.839362e-06</td>\n",
        "      <td> 2.871784e-03</td>\n",
        "      <td> 1.447452e-04</td>\n",
        "      <td>...</td>\n",
        "      <td> 1.234644e-04</td>\n",
        "      <td> 0.000206</td>\n",
        "      <td> 6.880909e-05</td>\n",
        "      <td> 1.788396e-04</td>\n",
        "      <td> 2.153248e-02</td>\n",
        "      <td> 0.001212</td>\n",
        "      <td> 1.212041e-02</td>\n",
        "      <td> 1.470681e-04</td>\n",
        "      <td> 0.000571</td>\n",
        "      <td> 3.082770e-02</td>\n",
        "    </tr>\n",
        "    <tr>\n",
        "      <th>3     </th>\n",
        "      <td>  56148.jpg</td>\n",
        "      <td> 0.000015</td>\n",
        "      <td> 1.062309e-03</td>\n",
        "      <td> 1.581430e-05</td>\n",
        "      <td> 0.000033</td>\n",
        "      <td> 0.000030</td>\n",
        "      <td> 5.796808e-01</td>\n",
        "      <td> 8.393954e-06</td>\n",
        "      <td> 2.070906e-01</td>\n",
        "      <td> 3.005158e-03</td>\n",
        "      <td>...</td>\n",
        "      <td> 1.910843e-06</td>\n",
        "      <td> 0.000047</td>\n",
        "      <td> 7.878471e-05</td>\n",
        "      <td> 9.196852e-06</td>\n",
        "      <td> 5.683988e-05</td>\n",
        "      <td> 0.000324</td>\n",
        "      <td> 1.890857e-03</td>\n",
        "      <td> 3.718558e-06</td>\n",
        "      <td> 0.000008</td>\n",
        "      <td> 4.623566e-04</td>\n",
        "    </tr>\n",
        "    <tr>\n",
        "      <th>4     </th>\n",
        "      <td>  28082.jpg</td>\n",
        "      <td> 0.000046</td>\n",
        "      <td> 6.095946e-06</td>\n",
        "      <td> 1.551438e-04</td>\n",
        "      <td> 0.000161</td>\n",
        "      <td> 0.000005</td>\n",
        "      <td> 1.478683e-09</td>\n",
        "      <td> 8.664228e-04</td>\n",
        "      <td> 1.511152e-07</td>\n",
        "      <td> 1.670150e-05</td>\n",
        "      <td>...</td>\n",
        "      <td> 2.518088e-03</td>\n",
        "      <td> 0.000573</td>\n",
        "      <td> 2.419562e-05</td>\n",
        "      <td> 2.610493e-07</td>\n",
        "      <td> 7.194679e-05</td>\n",
        "      <td> 0.000003</td>\n",
        "      <td> 7.232652e-09</td>\n",
        "      <td> 3.307026e-05</td>\n",
        "      <td> 0.000124</td>\n",
        "      <td> 3.626074e-07</td>\n",
        "    </tr>\n",
        "    <tr>\n",
        "      <th>5     </th>\n",
        "      <td>  69488.jpg</td>\n",
        "      <td> 0.022871</td>\n",
        "      <td> 1.123973e-07</td>\n",
        "      <td> 3.507647e-07</td>\n",
        "      <td> 0.000017</td>\n",
        "      <td> 0.000037</td>\n",
        "      <td> 1.688424e-09</td>\n",
        "      <td> 4.207015e-03</td>\n",
        "      <td> 8.579118e-08</td>\n",
        "      <td> 3.838054e-07</td>\n",
        "      <td>...</td>\n",
        "      <td> 6.863903e-06</td>\n",
        "      <td> 0.000010</td>\n",
        "      <td> 5.034389e-04</td>\n",
        "      <td> 1.215086e-06</td>\n",
        "      <td> 7.017920e-03</td>\n",
        "      <td> 0.000004</td>\n",
        "      <td> 1.673246e-07</td>\n",
        "      <td> 7.275006e-10</td>\n",
        "      <td> 0.000009</td>\n",
        "      <td> 1.443130e-07</td>\n",
        "    </tr>\n",
        "    <tr>\n",
        "      <th>6     </th>\n",
        "      <td> 116104.jpg</td>\n",
        "      <td> 0.000680</td>\n",
        "      <td> 3.054321e-03</td>\n",
        "      <td> 7.847542e-06</td>\n",
        "      <td> 0.056200</td>\n",
        "      <td> 0.000923</td>\n",
        "      <td> 3.914984e-05</td>\n",
        "      <td> 2.146507e-04</td>\n",
        "      <td> 1.384115e-04</td>\n",
        "      <td> 1.707249e-04</td>\n",
        "      <td>...</td>\n",
        "      <td> 1.056153e-04</td>\n",
        "      <td> 0.000203</td>\n",
        "      <td> 3.848304e-03</td>\n",
        "      <td> 4.626535e-04</td>\n",
        "      <td> 1.428145e-03</td>\n",
        "      <td> 0.002341</td>\n",
        "      <td> 2.496904e-03</td>\n",
        "      <td> 7.001583e-04</td>\n",
        "      <td> 0.005605</td>\n",
        "      <td> 8.500820e-03</td>\n",
        "    </tr>\n",
        "    <tr>\n",
        "      <th>7     </th>\n",
        "      <td>  35015.jpg</td>\n",
        "      <td> 0.000970</td>\n",
        "      <td> 1.278684e-06</td>\n",
        "      <td> 1.961599e-06</td>\n",
        "      <td> 0.423750</td>\n",
        "      <td> 0.000017</td>\n",
        "      <td> 7.131472e-07</td>\n",
        "      <td> 8.335883e-05</td>\n",
        "      <td> 4.155511e-06</td>\n",
        "      <td> 2.249962e-05</td>\n",
        "      <td>...</td>\n",
        "      <td> 1.779826e-05</td>\n",
        "      <td> 0.000055</td>\n",
        "      <td> 4.730393e-04</td>\n",
        "      <td> 1.211731e-06</td>\n",
        "      <td> 8.971590e-06</td>\n",
        "      <td> 0.000054</td>\n",
        "      <td> 1.300229e-05</td>\n",
        "      <td> 1.791680e-06</td>\n",
        "      <td> 0.000188</td>\n",
        "      <td> 6.076314e-06</td>\n",
        "    </tr>\n",
        "    <tr>\n",
        "      <th>8     </th>\n",
        "      <td> 137664.jpg</td>\n",
        "      <td> 0.000119</td>\n",
        "      <td> 1.391841e-04</td>\n",
        "      <td> 3.050134e-04</td>\n",
        "      <td> 0.000443</td>\n",
        "      <td> 0.000493</td>\n",
        "      <td> 5.930452e-05</td>\n",
        "      <td> 6.409914e-04</td>\n",
        "      <td> 1.120810e-04</td>\n",
        "      <td> 8.499032e-05</td>\n",
        "      <td>...</td>\n",
        "      <td> 1.045501e-04</td>\n",
        "      <td> 0.000336</td>\n",
        "      <td> 6.455828e-02</td>\n",
        "      <td> 1.966139e-04</td>\n",
        "      <td> 9.053159e-03</td>\n",
        "      <td> 0.000040</td>\n",
        "      <td> 5.674300e-05</td>\n",
        "      <td> 6.621518e-06</td>\n",
        "      <td> 0.000495</td>\n",
        "      <td> 3.368836e-04</td>\n",
        "    </tr>\n",
        "    <tr>\n",
        "      <th>9     </th>\n",
        "      <td> 119939.jpg</td>\n",
        "      <td> 0.000550</td>\n",
        "      <td> 9.452846e-05</td>\n",
        "      <td> 7.419787e-05</td>\n",
        "      <td> 0.000508</td>\n",
        "      <td> 0.000579</td>\n",
        "      <td> 1.805225e-04</td>\n",
        "      <td> 2.661458e-03</td>\n",
        "      <td> 1.000375e-03</td>\n",
        "      <td> 9.444020e-04</td>\n",
        "      <td>...</td>\n",
        "      <td> 1.375301e-06</td>\n",
        "      <td> 0.000127</td>\n",
        "      <td> 5.655879e-03</td>\n",
        "      <td> 3.889129e-04</td>\n",
        "      <td> 4.615208e-03</td>\n",
        "      <td> 0.000605</td>\n",
        "      <td> 4.412823e-03</td>\n",
        "      <td> 3.853222e-06</td>\n",
        "      <td> 0.000218</td>\n",
        "      <td> 1.575645e-03</td>\n",
        "    </tr>\n",
        "    <tr>\n",
        "      <th>10    </th>\n",
        "      <td>  94206.jpg</td>\n",
        "      <td> 0.002616</td>\n",
        "      <td> 2.242026e-05</td>\n",
        "      <td> 1.590589e-06</td>\n",
        "      <td> 0.003010</td>\n",
        "      <td> 0.002772</td>\n",
        "      <td> 1.510278e-05</td>\n",
        "      <td> 6.102488e-02</td>\n",
        "      <td> 5.822351e-06</td>\n",
        "      <td> 3.526338e-05</td>\n",
        "      <td>...</td>\n",
        "      <td> 1.857480e-05</td>\n",
        "      <td> 0.000202</td>\n",
        "      <td> 5.840598e-03</td>\n",
        "      <td> 9.580268e-03</td>\n",
        "      <td> 1.014878e-03</td>\n",
        "      <td> 0.000199</td>\n",
        "      <td> 4.572322e-04</td>\n",
        "      <td> 1.469347e-04</td>\n",
        "      <td> 0.004118</td>\n",
        "      <td> 2.474847e-03</td>\n",
        "    </tr>\n",
        "    <tr>\n",
        "      <th>11    </th>\n",
        "      <td> 160285.jpg</td>\n",
        "      <td> 0.000129</td>\n",
        "      <td> 5.514275e-03</td>\n",
        "      <td> 7.318699e-03</td>\n",
        "      <td> 0.000447</td>\n",
        "      <td> 0.000047</td>\n",
        "      <td> 9.037509e-04</td>\n",
        "      <td> 6.677080e-04</td>\n",
        "      <td> 6.424260e-03</td>\n",
        "      <td> 5.251947e-03</td>\n",
        "      <td>...</td>\n",
        "      <td> 2.166573e-04</td>\n",
        "      <td> 0.001247</td>\n",
        "      <td> 1.298781e-02</td>\n",
        "      <td> 9.492628e-05</td>\n",
        "      <td> 4.847135e-04</td>\n",
        "      <td> 0.000741</td>\n",
        "      <td> 1.620994e-04</td>\n",
        "      <td> 1.407944e-04</td>\n",
        "      <td> 0.000238</td>\n",
        "      <td> 9.446264e-04</td>\n",
        "    </tr>\n",
        "    <tr>\n",
        "      <th>12    </th>\n",
        "      <td>  91834.jpg</td>\n",
        "      <td> 0.001420</td>\n",
        "      <td> 1.019875e-04</td>\n",
        "      <td> 3.816401e-04</td>\n",
        "      <td> 0.004767</td>\n",
        "      <td> 0.000035</td>\n",
        "      <td> 5.089372e-06</td>\n",
        "      <td> 6.696055e-03</td>\n",
        "      <td> 8.797735e-05</td>\n",
        "      <td> 5.177489e-03</td>\n",
        "      <td>...</td>\n",
        "      <td> 2.760683e-04</td>\n",
        "      <td> 0.000156</td>\n",
        "      <td> 3.283549e-03</td>\n",
        "      <td> 4.941487e-05</td>\n",
        "      <td> 1.108340e-03</td>\n",
        "      <td> 0.000103</td>\n",
        "      <td> 3.821414e-05</td>\n",
        "      <td> 6.086312e-04</td>\n",
        "      <td> 0.000795</td>\n",
        "      <td> 1.014760e-04</td>\n",
        "    </tr>\n",
        "    <tr>\n",
        "      <th>13    </th>\n",
        "      <td> 143392.jpg</td>\n",
        "      <td> 0.000385</td>\n",
        "      <td> 8.288134e-04</td>\n",
        "      <td> 4.974315e-04</td>\n",
        "      <td> 0.002336</td>\n",
        "      <td> 0.000200</td>\n",
        "      <td> 4.369800e-04</td>\n",
        "      <td> 5.823078e-04</td>\n",
        "      <td> 1.097529e-03</td>\n",
        "      <td> 1.190600e-03</td>\n",
        "      <td>...</td>\n",
        "      <td> 1.950869e-05</td>\n",
        "      <td> 0.000278</td>\n",
        "      <td> 7.301356e-03</td>\n",
        "      <td> 7.653003e-04</td>\n",
        "      <td> 1.323279e-02</td>\n",
        "      <td> 0.001981</td>\n",
        "      <td> 1.305992e-03</td>\n",
        "      <td> 2.247412e-04</td>\n",
        "      <td> 0.001074</td>\n",
        "      <td> 2.283828e-03</td>\n",
        "    </tr>\n",
        "    <tr>\n",
        "      <th>14    </th>\n",
        "      <td>  81677.jpg</td>\n",
        "      <td> 0.000749</td>\n",
        "      <td> 4.167136e-07</td>\n",
        "      <td> 4.828373e-09</td>\n",
        "      <td> 0.000039</td>\n",
        "      <td> 0.000100</td>\n",
        "      <td> 2.983499e-09</td>\n",
        "      <td> 3.919711e-03</td>\n",
        "      <td> 2.280520e-08</td>\n",
        "      <td> 1.419986e-07</td>\n",
        "      <td>...</td>\n",
        "      <td> 6.972745e-07</td>\n",
        "      <td> 0.000007</td>\n",
        "      <td> 2.925047e-04</td>\n",
        "      <td> 1.045649e-04</td>\n",
        "      <td> 2.304798e-04</td>\n",
        "      <td> 0.000003</td>\n",
        "      <td> 2.246882e-07</td>\n",
        "      <td> 1.664463e-07</td>\n",
        "      <td> 0.000006</td>\n",
        "      <td> 1.148170e-05</td>\n",
        "    </tr>\n",
        "    <tr>\n",
        "      <th>15    </th>\n",
        "      <td> 147924.jpg</td>\n",
        "      <td> 0.000002</td>\n",
        "      <td> 8.972303e-04</td>\n",
        "      <td> 5.277665e-04</td>\n",
        "      <td> 0.000632</td>\n",
        "      <td> 0.000004</td>\n",
        "      <td> 4.816081e-07</td>\n",
        "      <td> 1.340978e-06</td>\n",
        "      <td> 6.206224e-06</td>\n",
        "      <td> 2.172058e-05</td>\n",
        "      <td>...</td>\n",
        "      <td> 1.067823e-04</td>\n",
        "      <td> 0.000033</td>\n",
        "      <td> 6.045113e-06</td>\n",
        "      <td> 7.547288e-08</td>\n",
        "      <td> 3.274209e-05</td>\n",
        "      <td> 0.000012</td>\n",
        "      <td> 3.152500e-06</td>\n",
        "      <td> 1.463381e-03</td>\n",
        "      <td> 0.000303</td>\n",
        "      <td> 1.652731e-05</td>\n",
        "    </tr>\n",
        "    <tr>\n",
        "      <th>16    </th>\n",
        "      <td> 143911.jpg</td>\n",
        "      <td> 0.001087</td>\n",
        "      <td> 2.818010e-04</td>\n",
        "      <td> 2.460242e-05</td>\n",
        "      <td> 0.000080</td>\n",
        "      <td> 0.000048</td>\n",
        "      <td> 2.895782e-05</td>\n",
        "      <td> 1.894139e-04</td>\n",
        "      <td> 7.127765e-05</td>\n",
        "      <td> 3.082244e-05</td>\n",
        "      <td>...</td>\n",
        "      <td> 5.221488e-05</td>\n",
        "      <td> 0.000104</td>\n",
        "      <td> 7.829570e-04</td>\n",
        "      <td> 3.844811e-05</td>\n",
        "      <td> 9.685019e-03</td>\n",
        "      <td> 0.000371</td>\n",
        "      <td> 4.485469e-05</td>\n",
        "      <td> 5.000522e-06</td>\n",
        "      <td> 0.000105</td>\n",
        "      <td> 2.021373e-04</td>\n",
        "    </tr>\n",
        "    <tr>\n",
        "      <th>17    </th>\n",
        "      <td>  40405.jpg</td>\n",
        "      <td> 0.000077</td>\n",
        "      <td> 2.367586e-04</td>\n",
        "      <td> 6.736666e-07</td>\n",
        "      <td> 0.000465</td>\n",
        "      <td> 0.000654</td>\n",
        "      <td> 7.836463e-04</td>\n",
        "      <td> 9.244884e-06</td>\n",
        "      <td> 3.231273e-04</td>\n",
        "      <td> 5.439233e-05</td>\n",
        "      <td>...</td>\n",
        "      <td> 2.738172e-06</td>\n",
        "      <td> 0.000060</td>\n",
        "      <td> 2.633562e-05</td>\n",
        "      <td> 6.036977e-04</td>\n",
        "      <td> 5.572043e-04</td>\n",
        "      <td> 0.000629</td>\n",
        "      <td> 5.520146e-02</td>\n",
        "      <td> 9.656329e-05</td>\n",
        "      <td> 0.000199</td>\n",
        "      <td> 9.109232e-03</td>\n",
        "    </tr>\n",
        "    <tr>\n",
        "      <th>18    </th>\n",
        "      <td>  50081.jpg</td>\n",
        "      <td> 0.000411</td>\n",
        "      <td> 6.294932e-03</td>\n",
        "      <td> 2.567829e-03</td>\n",
        "      <td> 0.045230</td>\n",
        "      <td> 0.000170</td>\n",
        "      <td> 7.028774e-05</td>\n",
        "      <td> 7.539095e-04</td>\n",
        "      <td> 3.058978e-03</td>\n",
        "      <td> 4.454009e-03</td>\n",
        "      <td>...</td>\n",
        "      <td> 5.675491e-04</td>\n",
        "      <td> 0.000629</td>\n",
        "      <td> 1.305163e-02</td>\n",
        "      <td> 1.011209e-04</td>\n",
        "      <td> 1.394067e-03</td>\n",
        "      <td> 0.001259</td>\n",
        "      <td> 2.714327e-04</td>\n",
        "      <td> 1.028551e-03</td>\n",
        "      <td> 0.001414</td>\n",
        "      <td> 1.029996e-03</td>\n",
        "    </tr>\n",
        "    <tr>\n",
        "      <th>19    </th>\n",
        "      <td>   1507.jpg</td>\n",
        "      <td> 0.000316</td>\n",
        "      <td> 6.711986e-04</td>\n",
        "      <td> 6.307339e-04</td>\n",
        "      <td> 0.000357</td>\n",
        "      <td> 0.000027</td>\n",
        "      <td> 2.338456e-02</td>\n",
        "      <td> 3.100927e-04</td>\n",
        "      <td> 3.418324e-01</td>\n",
        "      <td> 7.412316e-02</td>\n",
        "      <td>...</td>\n",
        "      <td> 9.851788e-06</td>\n",
        "      <td> 0.000477</td>\n",
        "      <td> 2.229880e-02</td>\n",
        "      <td> 3.048077e-05</td>\n",
        "      <td> 1.946418e-04</td>\n",
        "      <td> 0.002401</td>\n",
        "      <td> 6.860101e-04</td>\n",
        "      <td> 2.675943e-05</td>\n",
        "      <td> 0.000056</td>\n",
        "      <td> 4.007295e-04</td>\n",
        "    </tr>\n",
        "    <tr>\n",
        "      <th>20    </th>\n",
        "      <td>   9188.jpg</td>\n",
        "      <td> 0.000199</td>\n",
        "      <td> 5.001167e-05</td>\n",
        "      <td> 4.635692e-03</td>\n",
        "      <td> 0.001054</td>\n",
        "      <td> 0.000021</td>\n",
        "      <td> 7.679667e-08</td>\n",
        "      <td> 4.106690e-03</td>\n",
        "      <td> 7.878451e-07</td>\n",
        "      <td> 7.873426e-05</td>\n",
        "      <td>...</td>\n",
        "      <td> 3.742907e-04</td>\n",
        "      <td> 0.000051</td>\n",
        "      <td> 1.535143e-03</td>\n",
        "      <td> 3.472908e-06</td>\n",
        "      <td> 6.829164e-03</td>\n",
        "      <td> 0.000041</td>\n",
        "      <td> 8.500587e-07</td>\n",
        "      <td> 7.430544e-06</td>\n",
        "      <td> 0.000147</td>\n",
        "      <td> 2.343529e-06</td>\n",
        "    </tr>\n",
        "    <tr>\n",
        "      <th>21    </th>\n",
        "      <td>  63590.jpg</td>\n",
        "      <td> 0.000371</td>\n",
        "      <td> 9.774262e-04</td>\n",
        "      <td> 1.239333e-04</td>\n",
        "      <td> 0.002260</td>\n",
        "      <td> 0.000174</td>\n",
        "      <td> 3.702291e-02</td>\n",
        "      <td> 4.104247e-04</td>\n",
        "      <td> 1.742970e-01</td>\n",
        "      <td> 2.854282e-02</td>\n",
        "      <td>...</td>\n",
        "      <td> 6.040242e-06</td>\n",
        "      <td> 0.001396</td>\n",
        "      <td> 9.673483e-04</td>\n",
        "      <td> 8.045837e-06</td>\n",
        "      <td> 1.661992e-04</td>\n",
        "      <td> 0.000597</td>\n",
        "      <td> 5.228246e-04</td>\n",
        "      <td> 3.057161e-05</td>\n",
        "      <td> 0.000113</td>\n",
        "      <td> 6.229638e-04</td>\n",
        "    </tr>\n",
        "    <tr>\n",
        "      <th>22    </th>\n",
        "      <td>  48464.jpg</td>\n",
        "      <td> 0.000898</td>\n",
        "      <td> 2.978553e-09</td>\n",
        "      <td> 2.809462e-08</td>\n",
        "      <td> 0.000477</td>\n",
        "      <td> 0.000057</td>\n",
        "      <td> 2.031230e-10</td>\n",
        "      <td> 2.835146e-04</td>\n",
        "      <td> 3.469500e-08</td>\n",
        "      <td> 7.799456e-08</td>\n",
        "      <td>...</td>\n",
        "      <td> 2.112352e-09</td>\n",
        "      <td> 0.000001</td>\n",
        "      <td> 5.274189e-05</td>\n",
        "      <td> 5.231123e-07</td>\n",
        "      <td> 2.954194e-04</td>\n",
        "      <td> 0.000001</td>\n",
        "      <td> 8.474995e-06</td>\n",
        "      <td> 8.256377e-09</td>\n",
        "      <td> 0.000050</td>\n",
        "      <td> 1.295219e-06</td>\n",
        "    </tr>\n",
        "    <tr>\n",
        "      <th>23    </th>\n",
        "      <td>  42284.jpg</td>\n",
        "      <td> 0.003097</td>\n",
        "      <td> 4.006012e-04</td>\n",
        "      <td> 7.896144e-05</td>\n",
        "      <td> 0.002400</td>\n",
        "      <td> 0.001058</td>\n",
        "      <td> 8.568781e-05</td>\n",
        "      <td> 7.910884e-04</td>\n",
        "      <td> 2.451961e-04</td>\n",
        "      <td> 2.223898e-04</td>\n",
        "      <td>...</td>\n",
        "      <td> 5.731609e-05</td>\n",
        "      <td> 0.000530</td>\n",
        "      <td> 5.980205e-03</td>\n",
        "      <td> 2.030730e-04</td>\n",
        "      <td> 4.902991e-03</td>\n",
        "      <td> 0.003744</td>\n",
        "      <td> 1.174006e-03</td>\n",
        "      <td> 4.326293e-05</td>\n",
        "      <td> 0.000908</td>\n",
        "      <td> 1.609563e-03</td>\n",
        "    </tr>\n",
        "    <tr>\n",
        "      <th>24    </th>\n",
        "      <td>   9848.jpg</td>\n",
        "      <td> 0.000005</td>\n",
        "      <td> 4.102498e-03</td>\n",
        "      <td> 1.374800e-05</td>\n",
        "      <td> 0.001462</td>\n",
        "      <td> 0.000278</td>\n",
        "      <td> 2.723893e-05</td>\n",
        "      <td> 3.564468e-06</td>\n",
        "      <td> 2.632159e-04</td>\n",
        "      <td> 4.403191e-05</td>\n",
        "      <td>...</td>\n",
        "      <td> 1.273400e-05</td>\n",
        "      <td> 0.000092</td>\n",
        "      <td> 3.709486e-05</td>\n",
        "      <td> 4.145081e-06</td>\n",
        "      <td> 4.846972e-04</td>\n",
        "      <td> 0.000031</td>\n",
        "      <td> 1.774444e-04</td>\n",
        "      <td> 1.686083e-03</td>\n",
        "      <td> 0.001927</td>\n",
        "      <td> 1.052716e-02</td>\n",
        "    </tr>\n",
        "    <tr>\n",
        "      <th>25    </th>\n",
        "      <td> 151571.jpg</td>\n",
        "      <td> 0.001718</td>\n",
        "      <td> 4.940825e-03</td>\n",
        "      <td> 2.190310e-03</td>\n",
        "      <td> 0.017772</td>\n",
        "      <td> 0.000974</td>\n",
        "      <td> 8.275877e-05</td>\n",
        "      <td> 1.075445e-02</td>\n",
        "      <td> 4.417783e-04</td>\n",
        "      <td> 6.987875e-04</td>\n",
        "      <td>...</td>\n",
        "      <td> 1.637473e-03</td>\n",
        "      <td> 0.001680</td>\n",
        "      <td> 1.551763e-01</td>\n",
        "      <td> 8.227759e-04</td>\n",
        "      <td> 3.917436e-03</td>\n",
        "      <td> 0.002322</td>\n",
        "      <td> 2.750102e-04</td>\n",
        "      <td> 3.792951e-04</td>\n",
        "      <td> 0.001939</td>\n",
        "      <td> 7.301364e-04</td>\n",
        "    </tr>\n",
        "    <tr>\n",
        "      <th>26    </th>\n",
        "      <td>  91257.jpg</td>\n",
        "      <td> 0.000086</td>\n",
        "      <td> 5.606927e-03</td>\n",
        "      <td> 1.263404e-06</td>\n",
        "      <td> 0.000704</td>\n",
        "      <td> 0.000170</td>\n",
        "      <td> 5.697790e-05</td>\n",
        "      <td> 6.560893e-07</td>\n",
        "      <td> 1.182289e-04</td>\n",
        "      <td> 2.687824e-05</td>\n",
        "      <td>...</td>\n",
        "      <td> 2.565104e-05</td>\n",
        "      <td> 0.000065</td>\n",
        "      <td> 1.032723e-04</td>\n",
        "      <td> 9.782945e-04</td>\n",
        "      <td> 8.921594e-04</td>\n",
        "      <td> 0.005148</td>\n",
        "      <td> 1.063854e-02</td>\n",
        "      <td> 9.256442e-06</td>\n",
        "      <td> 0.001113</td>\n",
        "      <td> 1.881056e-02</td>\n",
        "    </tr>\n",
        "    <tr>\n",
        "      <th>27    </th>\n",
        "      <td>  58024.jpg</td>\n",
        "      <td> 0.000654</td>\n",
        "      <td> 2.106458e-02</td>\n",
        "      <td> 2.524522e-02</td>\n",
        "      <td> 0.028900</td>\n",
        "      <td> 0.000224</td>\n",
        "      <td> 8.503104e-04</td>\n",
        "      <td> 8.726364e-04</td>\n",
        "      <td> 8.547142e-03</td>\n",
        "      <td> 5.064995e-03</td>\n",
        "      <td>...</td>\n",
        "      <td> 1.612995e-03</td>\n",
        "      <td> 0.001826</td>\n",
        "      <td> 4.192722e-02</td>\n",
        "      <td> 8.872009e-05</td>\n",
        "      <td> 4.290367e-03</td>\n",
        "      <td> 0.001634</td>\n",
        "      <td> 4.308471e-04</td>\n",
        "      <td> 1.065485e-03</td>\n",
        "      <td> 0.001573</td>\n",
        "      <td> 1.351802e-03</td>\n",
        "    </tr>\n",
        "    <tr>\n",
        "      <th>28    </th>\n",
        "      <td>  31902.jpg</td>\n",
        "      <td> 0.000079</td>\n",
        "      <td> 6.903827e-03</td>\n",
        "      <td> 7.207031e-05</td>\n",
        "      <td> 0.000013</td>\n",
        "      <td> 0.000026</td>\n",
        "      <td> 9.408540e-02</td>\n",
        "      <td> 2.671283e-05</td>\n",
        "      <td> 1.607830e-01</td>\n",
        "      <td> 4.223257e-03</td>\n",
        "      <td>...</td>\n",
        "      <td> 1.929131e-05</td>\n",
        "      <td> 0.000101</td>\n",
        "      <td> 5.265879e-04</td>\n",
        "      <td> 4.489352e-05</td>\n",
        "      <td> 3.477944e-04</td>\n",
        "      <td> 0.001010</td>\n",
        "      <td> 1.605594e-03</td>\n",
        "      <td> 1.437417e-05</td>\n",
        "      <td> 0.000017</td>\n",
        "      <td> 2.618525e-03</td>\n",
        "    </tr>\n",
        "    <tr>\n",
        "      <th>29    </th>\n",
        "      <td> 155780.jpg</td>\n",
        "      <td> 0.000883</td>\n",
        "      <td> 5.633764e-03</td>\n",
        "      <td> 2.180743e-04</td>\n",
        "      <td> 0.000074</td>\n",
        "      <td> 0.000085</td>\n",
        "      <td> 3.645420e-04</td>\n",
        "      <td> 1.459935e-04</td>\n",
        "      <td> 1.261641e-03</td>\n",
        "      <td> 1.425233e-04</td>\n",
        "      <td>...</td>\n",
        "      <td> 9.229666e-05</td>\n",
        "      <td> 0.000119</td>\n",
        "      <td> 4.668995e-02</td>\n",
        "      <td> 1.174686e-04</td>\n",
        "      <td> 2.902733e-02</td>\n",
        "      <td> 0.003378</td>\n",
        "      <td> 4.109700e-04</td>\n",
        "      <td> 2.428172e-06</td>\n",
        "      <td> 0.000093</td>\n",
        "      <td> 3.788476e-04</td>\n",
        "    </tr>\n",
        "    <tr>\n",
        "      <th>...</th>\n",
        "      <td>...</td>\n",
        "      <td>...</td>\n",
        "      <td>...</td>\n",
        "      <td>...</td>\n",
        "      <td>...</td>\n",
        "      <td>...</td>\n",
        "      <td>...</td>\n",
        "      <td>...</td>\n",
        "      <td>...</td>\n",
        "      <td>...</td>\n",
        "      <td>...</td>\n",
        "      <td>...</td>\n",
        "      <td>...</td>\n",
        "      <td>...</td>\n",
        "      <td>...</td>\n",
        "      <td>...</td>\n",
        "      <td>...</td>\n",
        "      <td>...</td>\n",
        "      <td>...</td>\n",
        "      <td>...</td>\n",
        "      <td>...</td>\n",
        "    </tr>\n",
        "    <tr>\n",
        "      <th>130370</th>\n",
        "      <td>  24086.jpg</td>\n",
        "      <td> 0.000000</td>\n",
        "      <td> 1.165990e-04</td>\n",
        "      <td> 6.813993e-09</td>\n",
        "      <td> 0.000002</td>\n",
        "      <td> 0.000004</td>\n",
        "      <td> 7.496709e-05</td>\n",
        "      <td> 2.293618e-09</td>\n",
        "      <td> 4.079814e-05</td>\n",
        "      <td> 4.521118e-07</td>\n",
        "      <td>...</td>\n",
        "      <td> 2.016335e-08</td>\n",
        "      <td> 0.000000</td>\n",
        "      <td> 1.404657e-08</td>\n",
        "      <td> 1.784132e-06</td>\n",
        "      <td> 2.364742e-05</td>\n",
        "      <td> 0.000011</td>\n",
        "      <td> 1.408320e-03</td>\n",
        "      <td> 1.223217e-06</td>\n",
        "      <td> 0.000003</td>\n",
        "      <td> 2.584394e-03</td>\n",
        "    </tr>\n",
        "    <tr>\n",
        "      <th>130371</th>\n",
        "      <td> 130515.jpg</td>\n",
        "      <td> 0.000012</td>\n",
        "      <td> 1.568085e-02</td>\n",
        "      <td> 1.982954e-04</td>\n",
        "      <td> 0.000024</td>\n",
        "      <td> 0.000023</td>\n",
        "      <td> 6.422920e-04</td>\n",
        "      <td> 8.509871e-06</td>\n",
        "      <td> 5.810796e-03</td>\n",
        "      <td> 3.971952e-04</td>\n",
        "      <td>...</td>\n",
        "      <td> 2.290419e-05</td>\n",
        "      <td> 0.000084</td>\n",
        "      <td> 1.153897e-03</td>\n",
        "      <td> 1.673627e-05</td>\n",
        "      <td> 3.606041e-04</td>\n",
        "      <td> 0.000406</td>\n",
        "      <td> 2.244732e-04</td>\n",
        "      <td> 3.578204e-05</td>\n",
        "      <td> 0.000063</td>\n",
        "      <td> 1.369468e-03</td>\n",
        "    </tr>\n",
        "    <tr>\n",
        "      <th>130372</th>\n",
        "      <td>  19459.jpg</td>\n",
        "      <td> 0.000185</td>\n",
        "      <td> 2.822348e-05</td>\n",
        "      <td> 3.126657e-08</td>\n",
        "      <td> 0.000003</td>\n",
        "      <td> 0.000145</td>\n",
        "      <td> 2.462963e-07</td>\n",
        "      <td> 4.724700e-03</td>\n",
        "      <td> 3.494609e-07</td>\n",
        "      <td> 4.496356e-07</td>\n",
        "      <td>...</td>\n",
        "      <td> 4.915078e-06</td>\n",
        "      <td> 0.000059</td>\n",
        "      <td> 9.457090e-06</td>\n",
        "      <td> 3.816827e-04</td>\n",
        "      <td> 2.741887e-06</td>\n",
        "      <td> 0.000007</td>\n",
        "      <td> 1.553218e-06</td>\n",
        "      <td> 2.125021e-04</td>\n",
        "      <td> 0.000029</td>\n",
        "      <td> 1.234957e-04</td>\n",
        "    </tr>\n",
        "    <tr>\n",
        "      <th>130373</th>\n",
        "      <td>  26852.jpg</td>\n",
        "      <td> 0.005946</td>\n",
        "      <td> 2.414292e-06</td>\n",
        "      <td> 7.451615e-06</td>\n",
        "      <td> 0.630433</td>\n",
        "      <td> 0.000133</td>\n",
        "      <td> 6.166951e-08</td>\n",
        "      <td> 2.553345e-03</td>\n",
        "      <td> 4.819280e-06</td>\n",
        "      <td> 2.794477e-05</td>\n",
        "      <td>...</td>\n",
        "      <td> 2.735706e-05</td>\n",
        "      <td> 0.000165</td>\n",
        "      <td> 1.641903e-03</td>\n",
        "      <td> 4.959024e-06</td>\n",
        "      <td> 6.768286e-06</td>\n",
        "      <td> 0.000007</td>\n",
        "      <td> 7.137880e-07</td>\n",
        "      <td> 3.181784e-05</td>\n",
        "      <td> 0.001263</td>\n",
        "      <td> 7.662865e-06</td>\n",
        "    </tr>\n",
        "    <tr>\n",
        "      <th>130374</th>\n",
        "      <td> 128596.jpg</td>\n",
        "      <td> 0.000019</td>\n",
        "      <td> 2.485275e-04</td>\n",
        "      <td> 1.190333e-08</td>\n",
        "      <td> 0.000519</td>\n",
        "      <td> 0.000024</td>\n",
        "      <td> 4.256476e-06</td>\n",
        "      <td> 2.338214e-06</td>\n",
        "      <td> 3.974416e-05</td>\n",
        "      <td> 3.009132e-07</td>\n",
        "      <td>...</td>\n",
        "      <td> 2.225482e-06</td>\n",
        "      <td> 0.000002</td>\n",
        "      <td> 1.546964e-07</td>\n",
        "      <td> 8.567754e-06</td>\n",
        "      <td> 1.848326e-05</td>\n",
        "      <td> 0.000018</td>\n",
        "      <td> 7.553597e-05</td>\n",
        "      <td> 2.616031e-03</td>\n",
        "      <td> 0.000129</td>\n",
        "      <td> 5.647101e-03</td>\n",
        "    </tr>\n",
        "    <tr>\n",
        "      <th>130375</th>\n",
        "      <td>  90877.jpg</td>\n",
        "      <td> 0.000400</td>\n",
        "      <td> 1.331894e-04</td>\n",
        "      <td> 8.636715e-04</td>\n",
        "      <td> 0.004374</td>\n",
        "      <td> 0.000013</td>\n",
        "      <td> 8.272045e-06</td>\n",
        "      <td> 5.709067e-03</td>\n",
        "      <td> 2.465188e-04</td>\n",
        "      <td> 1.322983e-02</td>\n",
        "      <td>...</td>\n",
        "      <td> 4.664958e-05</td>\n",
        "      <td> 0.000113</td>\n",
        "      <td> 1.256210e-03</td>\n",
        "      <td> 1.420840e-05</td>\n",
        "      <td> 3.725400e-04</td>\n",
        "      <td> 0.000210</td>\n",
        "      <td> 8.477317e-06</td>\n",
        "      <td> 3.367948e-03</td>\n",
        "      <td> 0.000412</td>\n",
        "      <td> 1.021097e-04</td>\n",
        "    </tr>\n",
        "    <tr>\n",
        "      <th>130376</th>\n",
        "      <td> 133027.jpg</td>\n",
        "      <td> 0.000007</td>\n",
        "      <td> 3.809151e-06</td>\n",
        "      <td> 1.413810e-04</td>\n",
        "      <td> 0.000081</td>\n",
        "      <td> 0.000001</td>\n",
        "      <td> 7.558842e-09</td>\n",
        "      <td> 5.854718e-05</td>\n",
        "      <td> 1.055302e-06</td>\n",
        "      <td> 1.108484e-04</td>\n",
        "      <td>...</td>\n",
        "      <td> 1.245081e-04</td>\n",
        "      <td> 0.000035</td>\n",
        "      <td> 3.463867e-05</td>\n",
        "      <td> 6.298318e-08</td>\n",
        "      <td> 8.241085e-06</td>\n",
        "      <td> 0.000001</td>\n",
        "      <td> 8.390527e-09</td>\n",
        "      <td> 3.691253e-05</td>\n",
        "      <td> 0.000014</td>\n",
        "      <td> 2.343135e-07</td>\n",
        "    </tr>\n",
        "    <tr>\n",
        "      <th>130377</th>\n",
        "      <td>  44512.jpg</td>\n",
        "      <td> 0.000179</td>\n",
        "      <td> 5.021890e-07</td>\n",
        "      <td> 2.923931e-09</td>\n",
        "      <td> 0.000002</td>\n",
        "      <td> 0.000020</td>\n",
        "      <td> 9.012063e-09</td>\n",
        "      <td> 5.632719e-03</td>\n",
        "      <td> 6.543480e-09</td>\n",
        "      <td> 7.013988e-08</td>\n",
        "      <td>...</td>\n",
        "      <td> 4.933275e-07</td>\n",
        "      <td> 0.000009</td>\n",
        "      <td> 3.393151e-06</td>\n",
        "      <td> 1.844951e-04</td>\n",
        "      <td> 4.128639e-08</td>\n",
        "      <td> 0.000001</td>\n",
        "      <td> 9.692985e-08</td>\n",
        "      <td> 4.012420e-05</td>\n",
        "      <td> 0.000009</td>\n",
        "      <td> 1.125066e-05</td>\n",
        "    </tr>\n",
        "    <tr>\n",
        "      <th>130378</th>\n",
        "      <td>  12942.jpg</td>\n",
        "      <td> 0.004578</td>\n",
        "      <td> 2.823021e-03</td>\n",
        "      <td> 8.488832e-07</td>\n",
        "      <td> 0.009079</td>\n",
        "      <td> 0.000146</td>\n",
        "      <td> 6.869656e-05</td>\n",
        "      <td> 2.045212e-04</td>\n",
        "      <td> 2.044310e-04</td>\n",
        "      <td> 3.394291e-05</td>\n",
        "      <td>...</td>\n",
        "      <td> 6.743026e-04</td>\n",
        "      <td> 0.000340</td>\n",
        "      <td> 5.447784e-05</td>\n",
        "      <td> 6.300518e-05</td>\n",
        "      <td> 1.190440e-04</td>\n",
        "      <td> 0.000148</td>\n",
        "      <td> 8.201258e-05</td>\n",
        "      <td> 3.663970e-04</td>\n",
        "      <td> 0.000344</td>\n",
        "      <td> 6.155659e-03</td>\n",
        "    </tr>\n",
        "    <tr>\n",
        "      <th>130379</th>\n",
        "      <td> 113734.jpg</td>\n",
        "      <td> 0.004595</td>\n",
        "      <td> 7.046689e-05</td>\n",
        "      <td> 2.717374e-04</td>\n",
        "      <td> 0.006182</td>\n",
        "      <td> 0.000357</td>\n",
        "      <td> 1.133551e-05</td>\n",
        "      <td> 8.709021e-03</td>\n",
        "      <td> 1.122939e-04</td>\n",
        "      <td> 3.086867e-04</td>\n",
        "      <td>...</td>\n",
        "      <td> 1.165864e-04</td>\n",
        "      <td> 0.000539</td>\n",
        "      <td> 3.258466e-02</td>\n",
        "      <td> 1.164425e-04</td>\n",
        "      <td> 4.692719e-03</td>\n",
        "      <td> 0.000804</td>\n",
        "      <td> 4.174014e-05</td>\n",
        "      <td> 7.775734e-06</td>\n",
        "      <td> 0.000336</td>\n",
        "      <td> 1.898063e-05</td>\n",
        "    </tr>\n",
        "    <tr>\n",
        "      <th>130380</th>\n",
        "      <td> 143936.jpg</td>\n",
        "      <td> 0.000006</td>\n",
        "      <td> 7.114875e-07</td>\n",
        "      <td> 1.015548e-06</td>\n",
        "      <td> 0.948019</td>\n",
        "      <td> 0.000001</td>\n",
        "      <td> 4.396513e-09</td>\n",
        "      <td> 1.760610e-05</td>\n",
        "      <td> 3.377832e-08</td>\n",
        "      <td> 5.509454e-07</td>\n",
        "      <td>...</td>\n",
        "      <td> 1.278766e-06</td>\n",
        "      <td> 0.000015</td>\n",
        "      <td> 3.148412e-05</td>\n",
        "      <td> 9.347720e-08</td>\n",
        "      <td> 1.979133e-05</td>\n",
        "      <td> 0.000000</td>\n",
        "      <td> 3.605217e-07</td>\n",
        "      <td> 2.339322e-07</td>\n",
        "      <td> 0.001127</td>\n",
        "      <td> 1.350759e-07</td>\n",
        "    </tr>\n",
        "    <tr>\n",
        "      <th>130381</th>\n",
        "      <td>  74502.jpg</td>\n",
        "      <td> 0.000151</td>\n",
        "      <td> 5.907018e-02</td>\n",
        "      <td> 4.624712e-04</td>\n",
        "      <td> 0.002299</td>\n",
        "      <td> 0.000984</td>\n",
        "      <td> 8.010739e-04</td>\n",
        "      <td> 9.863817e-05</td>\n",
        "      <td> 5.666770e-03</td>\n",
        "      <td> 2.713204e-04</td>\n",
        "      <td>...</td>\n",
        "      <td> 1.759703e-03</td>\n",
        "      <td> 0.001887</td>\n",
        "      <td> 3.029712e-03</td>\n",
        "      <td> 1.835296e-04</td>\n",
        "      <td> 2.035834e-02</td>\n",
        "      <td> 0.000664</td>\n",
        "      <td> 9.195571e-04</td>\n",
        "      <td> 2.738819e-04</td>\n",
        "      <td> 0.001959</td>\n",
        "      <td> 2.421313e-02</td>\n",
        "    </tr>\n",
        "    <tr>\n",
        "      <th>130382</th>\n",
        "      <td> 153803.jpg</td>\n",
        "      <td> 0.000159</td>\n",
        "      <td> 1.400394e-04</td>\n",
        "      <td> 3.303481e-08</td>\n",
        "      <td> 0.000001</td>\n",
        "      <td> 0.000009</td>\n",
        "      <td> 5.303390e-08</td>\n",
        "      <td> 1.018849e-05</td>\n",
        "      <td> 7.252889e-07</td>\n",
        "      <td> 1.157781e-07</td>\n",
        "      <td>...</td>\n",
        "      <td> 2.281975e-05</td>\n",
        "      <td> 0.000005</td>\n",
        "      <td> 1.779104e-06</td>\n",
        "      <td> 4.690485e-06</td>\n",
        "      <td> 1.541052e-03</td>\n",
        "      <td> 0.000004</td>\n",
        "      <td> 6.844863e-07</td>\n",
        "      <td> 1.360419e-06</td>\n",
        "      <td> 0.000003</td>\n",
        "      <td> 1.472041e-04</td>\n",
        "    </tr>\n",
        "    <tr>\n",
        "      <th>130383</th>\n",
        "      <td>   8403.jpg</td>\n",
        "      <td> 0.000009</td>\n",
        "      <td> 3.530939e-07</td>\n",
        "      <td> 4.728980e-09</td>\n",
        "      <td> 0.000007</td>\n",
        "      <td> 0.000028</td>\n",
        "      <td> 1.144751e-04</td>\n",
        "      <td> 2.583403e-07</td>\n",
        "      <td> 1.807561e-05</td>\n",
        "      <td> 4.862425e-06</td>\n",
        "      <td>...</td>\n",
        "      <td> 6.569722e-09</td>\n",
        "      <td> 0.000001</td>\n",
        "      <td> 6.002562e-07</td>\n",
        "      <td> 4.815376e-05</td>\n",
        "      <td> 5.225008e-07</td>\n",
        "      <td> 0.000263</td>\n",
        "      <td> 2.077323e-03</td>\n",
        "      <td> 1.727643e-07</td>\n",
        "      <td> 0.000003</td>\n",
        "      <td> 2.937186e-04</td>\n",
        "    </tr>\n",
        "    <tr>\n",
        "      <th>130384</th>\n",
        "      <td>  81894.jpg</td>\n",
        "      <td> 0.000305</td>\n",
        "      <td> 6.902327e-03</td>\n",
        "      <td> 3.687456e-04</td>\n",
        "      <td> 0.004833</td>\n",
        "      <td> 0.000748</td>\n",
        "      <td> 1.139980e-03</td>\n",
        "      <td> 8.523658e-06</td>\n",
        "      <td> 2.727774e-03</td>\n",
        "      <td> 1.981529e-04</td>\n",
        "      <td>...</td>\n",
        "      <td> 2.983977e-05</td>\n",
        "      <td> 0.000275</td>\n",
        "      <td> 1.573711e-04</td>\n",
        "      <td> 8.850114e-05</td>\n",
        "      <td> 1.363308e-02</td>\n",
        "      <td> 0.003781</td>\n",
        "      <td> 4.090330e-02</td>\n",
        "      <td> 5.767578e-04</td>\n",
        "      <td> 0.004445</td>\n",
        "      <td> 6.087781e-03</td>\n",
        "    </tr>\n",
        "    <tr>\n",
        "      <th>130385</th>\n",
        "      <td>  61829.jpg</td>\n",
        "      <td> 0.003436</td>\n",
        "      <td> 1.556388e-02</td>\n",
        "      <td> 4.048791e-03</td>\n",
        "      <td> 0.012386</td>\n",
        "      <td> 0.001869</td>\n",
        "      <td> 1.001326e-03</td>\n",
        "      <td> 3.572549e-03</td>\n",
        "      <td> 7.256353e-03</td>\n",
        "      <td> 3.352681e-03</td>\n",
        "      <td>...</td>\n",
        "      <td> 1.413465e-03</td>\n",
        "      <td> 0.002720</td>\n",
        "      <td> 4.986243e-02</td>\n",
        "      <td> 9.366245e-04</td>\n",
        "      <td> 1.305994e-02</td>\n",
        "      <td> 0.006910</td>\n",
        "      <td> 2.255234e-03</td>\n",
        "      <td> 1.732215e-03</td>\n",
        "      <td> 0.005405</td>\n",
        "      <td> 5.800865e-03</td>\n",
        "    </tr>\n",
        "    <tr>\n",
        "      <th>130386</th>\n",
        "      <td>  63429.jpg</td>\n",
        "      <td> 0.007609</td>\n",
        "      <td> 7.480601e-07</td>\n",
        "      <td> 1.111595e-06</td>\n",
        "      <td> 0.000038</td>\n",
        "      <td> 0.001107</td>\n",
        "      <td> 1.860774e-06</td>\n",
        "      <td> 8.388398e-03</td>\n",
        "      <td> 6.630543e-07</td>\n",
        "      <td> 2.612079e-05</td>\n",
        "      <td>...</td>\n",
        "      <td> 3.957413e-05</td>\n",
        "      <td> 0.000058</td>\n",
        "      <td> 3.258585e-03</td>\n",
        "      <td> 1.246139e-04</td>\n",
        "      <td> 1.757527e-04</td>\n",
        "      <td> 0.000017</td>\n",
        "      <td> 1.206563e-05</td>\n",
        "      <td> 2.544240e-06</td>\n",
        "      <td> 0.000148</td>\n",
        "      <td> 4.776717e-05</td>\n",
        "    </tr>\n",
        "    <tr>\n",
        "      <th>130387</th>\n",
        "      <td>  19009.jpg</td>\n",
        "      <td> 0.003884</td>\n",
        "      <td> 1.475201e-03</td>\n",
        "      <td> 2.629675e-07</td>\n",
        "      <td> 0.000055</td>\n",
        "      <td> 0.005910</td>\n",
        "      <td> 2.057660e-07</td>\n",
        "      <td> 4.929659e-02</td>\n",
        "      <td> 1.481846e-06</td>\n",
        "      <td> 1.981311e-06</td>\n",
        "      <td>...</td>\n",
        "      <td> 1.446079e-04</td>\n",
        "      <td> 0.000406</td>\n",
        "      <td> 9.915662e-04</td>\n",
        "      <td> 1.405723e-02</td>\n",
        "      <td> 1.054293e-04</td>\n",
        "      <td> 0.000277</td>\n",
        "      <td> 8.673022e-06</td>\n",
        "      <td> 5.299839e-05</td>\n",
        "      <td> 0.001276</td>\n",
        "      <td> 1.292889e-03</td>\n",
        "    </tr>\n",
        "    <tr>\n",
        "      <th>130388</th>\n",
        "      <td>  42136.jpg</td>\n",
        "      <td> 0.000204</td>\n",
        "      <td> 3.409524e-02</td>\n",
        "      <td> 6.849532e-08</td>\n",
        "      <td> 0.000008</td>\n",
        "      <td> 0.000692</td>\n",
        "      <td> 8.294059e-07</td>\n",
        "      <td> 1.086178e-04</td>\n",
        "      <td> 6.299058e-06</td>\n",
        "      <td> 1.708348e-06</td>\n",
        "      <td>...</td>\n",
        "      <td> 4.120414e-05</td>\n",
        "      <td> 0.000118</td>\n",
        "      <td> 1.303221e-05</td>\n",
        "      <td> 3.479517e-02</td>\n",
        "      <td> 8.644524e-04</td>\n",
        "      <td> 0.001256</td>\n",
        "      <td> 5.876402e-04</td>\n",
        "      <td> 7.221184e-04</td>\n",
        "      <td> 0.000998</td>\n",
        "      <td> 2.046846e-01</td>\n",
        "    </tr>\n",
        "    <tr>\n",
        "      <th>130389</th>\n",
        "      <td> 120010.jpg</td>\n",
        "      <td> 0.000423</td>\n",
        "      <td> 1.328877e-02</td>\n",
        "      <td> 2.490427e-06</td>\n",
        "      <td> 0.000054</td>\n",
        "      <td> 0.003565</td>\n",
        "      <td> 1.022739e-04</td>\n",
        "      <td> 9.829490e-04</td>\n",
        "      <td> 1.059880e-04</td>\n",
        "      <td> 6.509154e-06</td>\n",
        "      <td>...</td>\n",
        "      <td> 8.345323e-05</td>\n",
        "      <td> 0.000464</td>\n",
        "      <td> 4.645875e-04</td>\n",
        "      <td> 4.853637e-02</td>\n",
        "      <td> 4.349863e-03</td>\n",
        "      <td> 0.000236</td>\n",
        "      <td> 4.943350e-03</td>\n",
        "      <td> 1.194667e-04</td>\n",
        "      <td> 0.001907</td>\n",
        "      <td> 5.542649e-02</td>\n",
        "    </tr>\n",
        "    <tr>\n",
        "      <th>130390</th>\n",
        "      <td>  13576.jpg</td>\n",
        "      <td> 0.000347</td>\n",
        "      <td> 2.314379e-04</td>\n",
        "      <td> 2.825275e-06</td>\n",
        "      <td> 0.000354</td>\n",
        "      <td> 0.000189</td>\n",
        "      <td> 4.620806e-06</td>\n",
        "      <td> 1.933284e-03</td>\n",
        "      <td> 1.612966e-05</td>\n",
        "      <td> 5.970753e-06</td>\n",
        "      <td>...</td>\n",
        "      <td> 5.371674e-05</td>\n",
        "      <td> 0.000115</td>\n",
        "      <td> 6.148006e-06</td>\n",
        "      <td> 4.373002e-04</td>\n",
        "      <td> 1.276439e-05</td>\n",
        "      <td> 0.000056</td>\n",
        "      <td> 2.989753e-05</td>\n",
        "      <td> 5.190452e-01</td>\n",
        "      <td> 0.000723</td>\n",
        "      <td> 3.670851e-03</td>\n",
        "    </tr>\n",
        "    <tr>\n",
        "      <th>130391</th>\n",
        "      <td>  69459.jpg</td>\n",
        "      <td> 0.000021</td>\n",
        "      <td> 1.626957e-03</td>\n",
        "      <td> 6.909182e-05</td>\n",
        "      <td> 0.011011</td>\n",
        "      <td> 0.000061</td>\n",
        "      <td> 4.700383e-07</td>\n",
        "      <td> 1.783952e-05</td>\n",
        "      <td> 1.176495e-05</td>\n",
        "      <td> 2.579203e-05</td>\n",
        "      <td>...</td>\n",
        "      <td> 1.284795e-04</td>\n",
        "      <td> 0.000144</td>\n",
        "      <td> 5.991226e-05</td>\n",
        "      <td> 8.398869e-07</td>\n",
        "      <td> 1.686857e-04</td>\n",
        "      <td> 0.000023</td>\n",
        "      <td> 7.001003e-06</td>\n",
        "      <td> 5.912246e-03</td>\n",
        "      <td> 0.006680</td>\n",
        "      <td> 5.365332e-04</td>\n",
        "    </tr>\n",
        "    <tr>\n",
        "      <th>130392</th>\n",
        "      <td> 158402.jpg</td>\n",
        "      <td> 0.000326</td>\n",
        "      <td> 4.604239e-04</td>\n",
        "      <td> 2.608556e-06</td>\n",
        "      <td> 0.000280</td>\n",
        "      <td> 0.000899</td>\n",
        "      <td> 4.674828e-04</td>\n",
        "      <td> 2.196757e-02</td>\n",
        "      <td> 5.208805e-05</td>\n",
        "      <td> 1.059472e-04</td>\n",
        "      <td>...</td>\n",
        "      <td> 4.061911e-06</td>\n",
        "      <td> 0.000568</td>\n",
        "      <td> 2.762245e-04</td>\n",
        "      <td> 6.391317e-03</td>\n",
        "      <td> 1.281895e-03</td>\n",
        "      <td> 0.000382</td>\n",
        "      <td> 7.288348e-04</td>\n",
        "      <td> 2.786743e-03</td>\n",
        "      <td> 0.000247</td>\n",
        "      <td> 5.315614e-03</td>\n",
        "    </tr>\n",
        "    <tr>\n",
        "      <th>130393</th>\n",
        "      <td>  97579.jpg</td>\n",
        "      <td> 0.000058</td>\n",
        "      <td> 7.032353e-03</td>\n",
        "      <td> 5.231691e-03</td>\n",
        "      <td> 0.014458</td>\n",
        "      <td> 0.000156</td>\n",
        "      <td> 5.290774e-04</td>\n",
        "      <td> 4.725501e-04</td>\n",
        "      <td> 1.429941e-03</td>\n",
        "      <td> 5.667660e-03</td>\n",
        "      <td>...</td>\n",
        "      <td> 2.798276e-04</td>\n",
        "      <td> 0.001239</td>\n",
        "      <td> 2.397096e-02</td>\n",
        "      <td> 1.685101e-04</td>\n",
        "      <td> 1.964505e-02</td>\n",
        "      <td> 0.000691</td>\n",
        "      <td> 5.622862e-04</td>\n",
        "      <td> 3.022719e-04</td>\n",
        "      <td> 0.003549</td>\n",
        "      <td> 2.785647e-03</td>\n",
        "    </tr>\n",
        "    <tr>\n",
        "      <th>130394</th>\n",
        "      <td>  10878.jpg</td>\n",
        "      <td> 0.000291</td>\n",
        "      <td> 5.296155e-04</td>\n",
        "      <td> 8.451970e-03</td>\n",
        "      <td> 0.007615</td>\n",
        "      <td> 0.000029</td>\n",
        "      <td> 2.878975e-06</td>\n",
        "      <td> 9.500369e-04</td>\n",
        "      <td> 1.278781e-03</td>\n",
        "      <td> 8.569819e-03</td>\n",
        "      <td>...</td>\n",
        "      <td> 1.461621e-03</td>\n",
        "      <td> 0.006041</td>\n",
        "      <td> 9.313533e-03</td>\n",
        "      <td> 3.323041e-06</td>\n",
        "      <td> 1.776520e-04</td>\n",
        "      <td> 0.000622</td>\n",
        "      <td> 6.970260e-06</td>\n",
        "      <td> 6.367600e-03</td>\n",
        "      <td> 0.001137</td>\n",
        "      <td> 1.121121e-04</td>\n",
        "    </tr>\n",
        "    <tr>\n",
        "      <th>130395</th>\n",
        "      <td> 105884.jpg</td>\n",
        "      <td> 0.000439</td>\n",
        "      <td> 5.232533e-03</td>\n",
        "      <td> 6.278231e-03</td>\n",
        "      <td> 0.001183</td>\n",
        "      <td> 0.000261</td>\n",
        "      <td> 1.289612e-03</td>\n",
        "      <td> 1.680329e-03</td>\n",
        "      <td> 8.669334e-03</td>\n",
        "      <td> 5.292034e-03</td>\n",
        "      <td>...</td>\n",
        "      <td> 1.773497e-04</td>\n",
        "      <td> 0.001198</td>\n",
        "      <td> 2.687302e-02</td>\n",
        "      <td> 4.989423e-04</td>\n",
        "      <td> 1.049848e-02</td>\n",
        "      <td> 0.001929</td>\n",
        "      <td> 1.765884e-03</td>\n",
        "      <td> 7.084742e-05</td>\n",
        "      <td> 0.000604</td>\n",
        "      <td> 2.632792e-03</td>\n",
        "    </tr>\n",
        "    <tr>\n",
        "      <th>130396</th>\n",
        "      <td>  62470.jpg</td>\n",
        "      <td> 0.000015</td>\n",
        "      <td> 1.120297e-03</td>\n",
        "      <td> 2.187608e-07</td>\n",
        "      <td> 0.001132</td>\n",
        "      <td> 0.000022</td>\n",
        "      <td> 1.540238e-06</td>\n",
        "      <td> 4.773161e-07</td>\n",
        "      <td> 2.768655e-05</td>\n",
        "      <td> 4.560850e-07</td>\n",
        "      <td>...</td>\n",
        "      <td> 7.027674e-06</td>\n",
        "      <td> 0.000003</td>\n",
        "      <td> 2.248637e-07</td>\n",
        "      <td> 4.481659e-06</td>\n",
        "      <td> 1.962329e-04</td>\n",
        "      <td> 0.000046</td>\n",
        "      <td> 2.377867e-04</td>\n",
        "      <td> 6.871668e-03</td>\n",
        "      <td> 0.000440</td>\n",
        "      <td> 5.123886e-03</td>\n",
        "    </tr>\n",
        "    <tr>\n",
        "      <th>130397</th>\n",
        "      <td>  50677.jpg</td>\n",
        "      <td> 0.000002</td>\n",
        "      <td> 2.008294e-06</td>\n",
        "      <td> 2.294755e-05</td>\n",
        "      <td> 0.000116</td>\n",
        "      <td> 0.000001</td>\n",
        "      <td> 1.731315e-10</td>\n",
        "      <td> 6.544372e-05</td>\n",
        "      <td> 7.033635e-08</td>\n",
        "      <td> 2.515926e-06</td>\n",
        "      <td>...</td>\n",
        "      <td> 6.996276e-05</td>\n",
        "      <td> 0.000021</td>\n",
        "      <td> 1.405585e-05</td>\n",
        "      <td> 1.467081e-08</td>\n",
        "      <td> 4.880525e-06</td>\n",
        "      <td> 0.000000</td>\n",
        "      <td> 1.400253e-09</td>\n",
        "      <td> 2.043109e-06</td>\n",
        "      <td> 0.000013</td>\n",
        "      <td> 2.619839e-08</td>\n",
        "    </tr>\n",
        "    <tr>\n",
        "      <th>130398</th>\n",
        "      <td>  24257.jpg</td>\n",
        "      <td> 0.000105</td>\n",
        "      <td> 3.608689e-06</td>\n",
        "      <td> 6.898022e-06</td>\n",
        "      <td> 0.000857</td>\n",
        "      <td> 0.000001</td>\n",
        "      <td> 1.028443e-08</td>\n",
        "      <td> 4.838320e-04</td>\n",
        "      <td> 1.334377e-07</td>\n",
        "      <td> 6.747795e-05</td>\n",
        "      <td>...</td>\n",
        "      <td> 1.313828e-05</td>\n",
        "      <td> 0.000003</td>\n",
        "      <td> 2.290349e-04</td>\n",
        "      <td> 9.201573e-07</td>\n",
        "      <td> 2.692792e-04</td>\n",
        "      <td> 0.000008</td>\n",
        "      <td> 3.408855e-07</td>\n",
        "      <td> 7.038469e-06</td>\n",
        "      <td> 0.000034</td>\n",
        "      <td> 1.230931e-06</td>\n",
        "    </tr>\n",
        "    <tr>\n",
        "      <th>130399</th>\n",
        "      <td> 136199.jpg</td>\n",
        "      <td> 0.001011</td>\n",
        "      <td> 3.574382e-03</td>\n",
        "      <td> 9.436215e-06</td>\n",
        "      <td> 0.000077</td>\n",
        "      <td> 0.000137</td>\n",
        "      <td> 2.528987e-04</td>\n",
        "      <td> 6.580843e-05</td>\n",
        "      <td> 3.365748e-04</td>\n",
        "      <td> 7.259294e-05</td>\n",
        "      <td>...</td>\n",
        "      <td> 2.538820e-04</td>\n",
        "      <td> 0.000126</td>\n",
        "      <td> 1.274167e-04</td>\n",
        "      <td> 5.447974e-05</td>\n",
        "      <td> 6.417924e-03</td>\n",
        "      <td> 0.000639</td>\n",
        "      <td> 4.238515e-04</td>\n",
        "      <td> 5.472406e-05</td>\n",
        "      <td> 0.000175</td>\n",
        "      <td> 1.510069e-03</td>\n",
        "    </tr>\n",
        "  </tbody>\n",
        "</table>\n",
        "<p>130400 rows \u00d7 122 columns</p>\n",
        "</div>"
       ],
       "metadata": {},
       "output_type": "pyout",
       "prompt_number": 6,
       "text": [
        "             image  euphausiids_young  hydromedusae_narcomedusae  \\\n",
        "0        79469.jpg           0.000999               5.126506e-04   \n",
        "1       158984.jpg           0.000020               1.519219e-04   \n",
        "2       114171.jpg           0.000047               1.451103e-02   \n",
        "3        56148.jpg           0.000015               1.062309e-03   \n",
        "4        28082.jpg           0.000046               6.095946e-06   \n",
        "5        69488.jpg           0.022871               1.123973e-07   \n",
        "6       116104.jpg           0.000680               3.054321e-03   \n",
        "7        35015.jpg           0.000970               1.278684e-06   \n",
        "8       137664.jpg           0.000119               1.391841e-04   \n",
        "9       119939.jpg           0.000550               9.452846e-05   \n",
        "10       94206.jpg           0.002616               2.242026e-05   \n",
        "11      160285.jpg           0.000129               5.514275e-03   \n",
        "12       91834.jpg           0.001420               1.019875e-04   \n",
        "13      143392.jpg           0.000385               8.288134e-04   \n",
        "14       81677.jpg           0.000749               4.167136e-07   \n",
        "15      147924.jpg           0.000002               8.972303e-04   \n",
        "16      143911.jpg           0.001087               2.818010e-04   \n",
        "17       40405.jpg           0.000077               2.367586e-04   \n",
        "18       50081.jpg           0.000411               6.294932e-03   \n",
        "19        1507.jpg           0.000316               6.711986e-04   \n",
        "20        9188.jpg           0.000199               5.001167e-05   \n",
        "21       63590.jpg           0.000371               9.774262e-04   \n",
        "22       48464.jpg           0.000898               2.978553e-09   \n",
        "23       42284.jpg           0.003097               4.006012e-04   \n",
        "24        9848.jpg           0.000005               4.102498e-03   \n",
        "25      151571.jpg           0.001718               4.940825e-03   \n",
        "26       91257.jpg           0.000086               5.606927e-03   \n",
        "27       58024.jpg           0.000654               2.106458e-02   \n",
        "28       31902.jpg           0.000079               6.903827e-03   \n",
        "29      155780.jpg           0.000883               5.633764e-03   \n",
        "...            ...                ...                        ...   \n",
        "130370   24086.jpg           0.000000               1.165990e-04   \n",
        "130371  130515.jpg           0.000012               1.568085e-02   \n",
        "130372   19459.jpg           0.000185               2.822348e-05   \n",
        "130373   26852.jpg           0.005946               2.414292e-06   \n",
        "130374  128596.jpg           0.000019               2.485275e-04   \n",
        "130375   90877.jpg           0.000400               1.331894e-04   \n",
        "130376  133027.jpg           0.000007               3.809151e-06   \n",
        "130377   44512.jpg           0.000179               5.021890e-07   \n",
        "130378   12942.jpg           0.004578               2.823021e-03   \n",
        "130379  113734.jpg           0.004595               7.046689e-05   \n",
        "130380  143936.jpg           0.000006               7.114875e-07   \n",
        "130381   74502.jpg           0.000151               5.907018e-02   \n",
        "130382  153803.jpg           0.000159               1.400394e-04   \n",
        "130383    8403.jpg           0.000009               3.530939e-07   \n",
        "130384   81894.jpg           0.000305               6.902327e-03   \n",
        "130385   61829.jpg           0.003436               1.556388e-02   \n",
        "130386   63429.jpg           0.007609               7.480601e-07   \n",
        "130387   19009.jpg           0.003884               1.475201e-03   \n",
        "130388   42136.jpg           0.000204               3.409524e-02   \n",
        "130389  120010.jpg           0.000423               1.328877e-02   \n",
        "130390   13576.jpg           0.000347               2.314379e-04   \n",
        "130391   69459.jpg           0.000021               1.626957e-03   \n",
        "130392  158402.jpg           0.000326               4.604239e-04   \n",
        "130393   97579.jpg           0.000058               7.032353e-03   \n",
        "130394   10878.jpg           0.000291               5.296155e-04   \n",
        "130395  105884.jpg           0.000439               5.232533e-03   \n",
        "130396   62470.jpg           0.000015               1.120297e-03   \n",
        "130397   50677.jpg           0.000002               2.008294e-06   \n",
        "130398   24257.jpg           0.000105               3.608689e-06   \n",
        "130399  136199.jpg           0.001011               3.574382e-03   \n",
        "\n",
        "        copepod_calanoid_small_longantennae  appendicularian_s_shape  \\\n",
        "0                              1.018462e-05                 0.000889   \n",
        "1                              4.288653e-05                 0.015080   \n",
        "2                              7.176830e-06                 0.000388   \n",
        "3                              1.581430e-05                 0.000033   \n",
        "4                              1.551438e-04                 0.000161   \n",
        "5                              3.507647e-07                 0.000017   \n",
        "6                              7.847542e-06                 0.056200   \n",
        "7                              1.961599e-06                 0.423750   \n",
        "8                              3.050134e-04                 0.000443   \n",
        "9                              7.419787e-05                 0.000508   \n",
        "10                             1.590589e-06                 0.003010   \n",
        "11                             7.318699e-03                 0.000447   \n",
        "12                             3.816401e-04                 0.004767   \n",
        "13                             4.974315e-04                 0.002336   \n",
        "14                             4.828373e-09                 0.000039   \n",
        "15                             5.277665e-04                 0.000632   \n",
        "16                             2.460242e-05                 0.000080   \n",
        "17                             6.736666e-07                 0.000465   \n",
        "18                             2.567829e-03                 0.045230   \n",
        "19                             6.307339e-04                 0.000357   \n",
        "20                             4.635692e-03                 0.001054   \n",
        "21                             1.239333e-04                 0.002260   \n",
        "22                             2.809462e-08                 0.000477   \n",
        "23                             7.896144e-05                 0.002400   \n",
        "24                             1.374800e-05                 0.001462   \n",
        "25                             2.190310e-03                 0.017772   \n",
        "26                             1.263404e-06                 0.000704   \n",
        "27                             2.524522e-02                 0.028900   \n",
        "28                             7.207031e-05                 0.000013   \n",
        "29                             2.180743e-04                 0.000074   \n",
        "...                                     ...                      ...   \n",
        "130370                         6.813993e-09                 0.000002   \n",
        "130371                         1.982954e-04                 0.000024   \n",
        "130372                         3.126657e-08                 0.000003   \n",
        "130373                         7.451615e-06                 0.630433   \n",
        "130374                         1.190333e-08                 0.000519   \n",
        "130375                         8.636715e-04                 0.004374   \n",
        "130376                         1.413810e-04                 0.000081   \n",
        "130377                         2.923931e-09                 0.000002   \n",
        "130378                         8.488832e-07                 0.009079   \n",
        "130379                         2.717374e-04                 0.006182   \n",
        "130380                         1.015548e-06                 0.948019   \n",
        "130381                         4.624712e-04                 0.002299   \n",
        "130382                         3.303481e-08                 0.000001   \n",
        "130383                         4.728980e-09                 0.000007   \n",
        "130384                         3.687456e-04                 0.004833   \n",
        "130385                         4.048791e-03                 0.012386   \n",
        "130386                         1.111595e-06                 0.000038   \n",
        "130387                         2.629675e-07                 0.000055   \n",
        "130388                         6.849532e-08                 0.000008   \n",
        "130389                         2.490427e-06                 0.000054   \n",
        "130390                         2.825275e-06                 0.000354   \n",
        "130391                         6.909182e-05                 0.011011   \n",
        "130392                         2.608556e-06                 0.000280   \n",
        "130393                         5.231691e-03                 0.014458   \n",
        "130394                         8.451970e-03                 0.007615   \n",
        "130395                         6.278231e-03                 0.001183   \n",
        "130396                         2.187608e-07                 0.001132   \n",
        "130397                         2.294755e-05                 0.000116   \n",
        "130398                         6.898022e-06                 0.000857   \n",
        "130399                         9.436215e-06                 0.000077   \n",
        "\n",
        "        decapods  hydromedusae_typeD_bell_and_tentacles  crustacean_other  \\\n",
        "0       0.000092                           3.017974e-05      4.801131e-05   \n",
        "1       0.000080                           1.913380e-07      3.401868e-06   \n",
        "2       0.000807                           1.857109e-03      7.839362e-06   \n",
        "3       0.000030                           5.796808e-01      8.393954e-06   \n",
        "4       0.000005                           1.478683e-09      8.664228e-04   \n",
        "5       0.000037                           1.688424e-09      4.207015e-03   \n",
        "6       0.000923                           3.914984e-05      2.146507e-04   \n",
        "7       0.000017                           7.131472e-07      8.335883e-05   \n",
        "8       0.000493                           5.930452e-05      6.409914e-04   \n",
        "9       0.000579                           1.805225e-04      2.661458e-03   \n",
        "10      0.002772                           1.510278e-05      6.102488e-02   \n",
        "11      0.000047                           9.037509e-04      6.677080e-04   \n",
        "12      0.000035                           5.089372e-06      6.696055e-03   \n",
        "13      0.000200                           4.369800e-04      5.823078e-04   \n",
        "14      0.000100                           2.983499e-09      3.919711e-03   \n",
        "15      0.000004                           4.816081e-07      1.340978e-06   \n",
        "16      0.000048                           2.895782e-05      1.894139e-04   \n",
        "17      0.000654                           7.836463e-04      9.244884e-06   \n",
        "18      0.000170                           7.028774e-05      7.539095e-04   \n",
        "19      0.000027                           2.338456e-02      3.100927e-04   \n",
        "20      0.000021                           7.679667e-08      4.106690e-03   \n",
        "21      0.000174                           3.702291e-02      4.104247e-04   \n",
        "22      0.000057                           2.031230e-10      2.835146e-04   \n",
        "23      0.001058                           8.568781e-05      7.910884e-04   \n",
        "24      0.000278                           2.723893e-05      3.564468e-06   \n",
        "25      0.000974                           8.275877e-05      1.075445e-02   \n",
        "26      0.000170                           5.697790e-05      6.560893e-07   \n",
        "27      0.000224                           8.503104e-04      8.726364e-04   \n",
        "28      0.000026                           9.408540e-02      2.671283e-05   \n",
        "29      0.000085                           3.645420e-04      1.459935e-04   \n",
        "...          ...                                    ...               ...   \n",
        "130370  0.000004                           7.496709e-05      2.293618e-09   \n",
        "130371  0.000023                           6.422920e-04      8.509871e-06   \n",
        "130372  0.000145                           2.462963e-07      4.724700e-03   \n",
        "130373  0.000133                           6.166951e-08      2.553345e-03   \n",
        "130374  0.000024                           4.256476e-06      2.338214e-06   \n",
        "130375  0.000013                           8.272045e-06      5.709067e-03   \n",
        "130376  0.000001                           7.558842e-09      5.854718e-05   \n",
        "130377  0.000020                           9.012063e-09      5.632719e-03   \n",
        "130378  0.000146                           6.869656e-05      2.045212e-04   \n",
        "130379  0.000357                           1.133551e-05      8.709021e-03   \n",
        "130380  0.000001                           4.396513e-09      1.760610e-05   \n",
        "130381  0.000984                           8.010739e-04      9.863817e-05   \n",
        "130382  0.000009                           5.303390e-08      1.018849e-05   \n",
        "130383  0.000028                           1.144751e-04      2.583403e-07   \n",
        "130384  0.000748                           1.139980e-03      8.523658e-06   \n",
        "130385  0.001869                           1.001326e-03      3.572549e-03   \n",
        "130386  0.001107                           1.860774e-06      8.388398e-03   \n",
        "130387  0.005910                           2.057660e-07      4.929659e-02   \n",
        "130388  0.000692                           8.294059e-07      1.086178e-04   \n",
        "130389  0.003565                           1.022739e-04      9.829490e-04   \n",
        "130390  0.000189                           4.620806e-06      1.933284e-03   \n",
        "130391  0.000061                           4.700383e-07      1.783952e-05   \n",
        "130392  0.000899                           4.674828e-04      2.196757e-02   \n",
        "130393  0.000156                           5.290774e-04      4.725501e-04   \n",
        "130394  0.000029                           2.878975e-06      9.500369e-04   \n",
        "130395  0.000261                           1.289612e-03      1.680329e-03   \n",
        "130396  0.000022                           1.540238e-06      4.773161e-07   \n",
        "130397  0.000001                           1.731315e-10      6.544372e-05   \n",
        "130398  0.000001                           1.028443e-08      4.838320e-04   \n",
        "130399  0.000137                           2.528987e-04      6.580843e-05   \n",
        "\n",
        "        hydromedusae_bell_and_tentacles  echinoderm_larva_pluteus_brittlestar  \\\n",
        "0                          3.830052e-05                          1.121036e-04   \n",
        "1                          1.211119e-06                          2.347123e-05   \n",
        "2                          2.871784e-03                          1.447452e-04   \n",
        "3                          2.070906e-01                          3.005158e-03   \n",
        "4                          1.511152e-07                          1.670150e-05   \n",
        "5                          8.579118e-08                          3.838054e-07   \n",
        "6                          1.384115e-04                          1.707249e-04   \n",
        "7                          4.155511e-06                          2.249962e-05   \n",
        "8                          1.120810e-04                          8.499032e-05   \n",
        "9                          1.000375e-03                          9.444020e-04   \n",
        "10                         5.822351e-06                          3.526338e-05   \n",
        "11                         6.424260e-03                          5.251947e-03   \n",
        "12                         8.797735e-05                          5.177489e-03   \n",
        "13                         1.097529e-03                          1.190600e-03   \n",
        "14                         2.280520e-08                          1.419986e-07   \n",
        "15                         6.206224e-06                          2.172058e-05   \n",
        "16                         7.127765e-05                          3.082244e-05   \n",
        "17                         3.231273e-04                          5.439233e-05   \n",
        "18                         3.058978e-03                          4.454009e-03   \n",
        "19                         3.418324e-01                          7.412316e-02   \n",
        "20                         7.878451e-07                          7.873426e-05   \n",
        "21                         1.742970e-01                          2.854282e-02   \n",
        "22                         3.469500e-08                          7.799456e-08   \n",
        "23                         2.451961e-04                          2.223898e-04   \n",
        "24                         2.632159e-04                          4.403191e-05   \n",
        "25                         4.417783e-04                          6.987875e-04   \n",
        "26                         1.182289e-04                          2.687824e-05   \n",
        "27                         8.547142e-03                          5.064995e-03   \n",
        "28                         1.607830e-01                          4.223257e-03   \n",
        "29                         1.261641e-03                          1.425233e-04   \n",
        "...                                 ...                                   ...   \n",
        "130370                     4.079814e-05                          4.521118e-07   \n",
        "130371                     5.810796e-03                          3.971952e-04   \n",
        "130372                     3.494609e-07                          4.496356e-07   \n",
        "130373                     4.819280e-06                          2.794477e-05   \n",
        "130374                     3.974416e-05                          3.009132e-07   \n",
        "130375                     2.465188e-04                          1.322983e-02   \n",
        "130376                     1.055302e-06                          1.108484e-04   \n",
        "130377                     6.543480e-09                          7.013988e-08   \n",
        "130378                     2.044310e-04                          3.394291e-05   \n",
        "130379                     1.122939e-04                          3.086867e-04   \n",
        "130380                     3.377832e-08                          5.509454e-07   \n",
        "130381                     5.666770e-03                          2.713204e-04   \n",
        "130382                     7.252889e-07                          1.157781e-07   \n",
        "130383                     1.807561e-05                          4.862425e-06   \n",
        "130384                     2.727774e-03                          1.981529e-04   \n",
        "130385                     7.256353e-03                          3.352681e-03   \n",
        "130386                     6.630543e-07                          2.612079e-05   \n",
        "130387                     1.481846e-06                          1.981311e-06   \n",
        "130388                     6.299058e-06                          1.708348e-06   \n",
        "130389                     1.059880e-04                          6.509154e-06   \n",
        "130390                     1.612966e-05                          5.970753e-06   \n",
        "130391                     1.176495e-05                          2.579203e-05   \n",
        "130392                     5.208805e-05                          1.059472e-04   \n",
        "130393                     1.429941e-03                          5.667660e-03   \n",
        "130394                     1.278781e-03                          8.569819e-03   \n",
        "130395                     8.669334e-03                          5.292034e-03   \n",
        "130396                     2.768655e-05                          4.560850e-07   \n",
        "130397                     7.033635e-08                          2.515926e-06   \n",
        "130398                     1.334377e-07                          6.747795e-05   \n",
        "130399                     3.365748e-04                          7.259294e-05   \n",
        "\n",
        "               ...          copepod_calanoid_octomoms  \\\n",
        "0              ...                       8.009753e-05   \n",
        "1              ...                       9.658837e-06   \n",
        "2              ...                       1.234644e-04   \n",
        "3              ...                       1.910843e-06   \n",
        "4              ...                       2.518088e-03   \n",
        "5              ...                       6.863903e-06   \n",
        "6              ...                       1.056153e-04   \n",
        "7              ...                       1.779826e-05   \n",
        "8              ...                       1.045501e-04   \n",
        "9              ...                       1.375301e-06   \n",
        "10             ...                       1.857480e-05   \n",
        "11             ...                       2.166573e-04   \n",
        "12             ...                       2.760683e-04   \n",
        "13             ...                       1.950869e-05   \n",
        "14             ...                       6.972745e-07   \n",
        "15             ...                       1.067823e-04   \n",
        "16             ...                       5.221488e-05   \n",
        "17             ...                       2.738172e-06   \n",
        "18             ...                       5.675491e-04   \n",
        "19             ...                       9.851788e-06   \n",
        "20             ...                       3.742907e-04   \n",
        "21             ...                       6.040242e-06   \n",
        "22             ...                       2.112352e-09   \n",
        "23             ...                       5.731609e-05   \n",
        "24             ...                       1.273400e-05   \n",
        "25             ...                       1.637473e-03   \n",
        "26             ...                       2.565104e-05   \n",
        "27             ...                       1.612995e-03   \n",
        "28             ...                       1.929131e-05   \n",
        "29             ...                       9.229666e-05   \n",
        "...            ...                                ...   \n",
        "130370         ...                       2.016335e-08   \n",
        "130371         ...                       2.290419e-05   \n",
        "130372         ...                       4.915078e-06   \n",
        "130373         ...                       2.735706e-05   \n",
        "130374         ...                       2.225482e-06   \n",
        "130375         ...                       4.664958e-05   \n",
        "130376         ...                       1.245081e-04   \n",
        "130377         ...                       4.933275e-07   \n",
        "130378         ...                       6.743026e-04   \n",
        "130379         ...                       1.165864e-04   \n",
        "130380         ...                       1.278766e-06   \n",
        "130381         ...                       1.759703e-03   \n",
        "130382         ...                       2.281975e-05   \n",
        "130383         ...                       6.569722e-09   \n",
        "130384         ...                       2.983977e-05   \n",
        "130385         ...                       1.413465e-03   \n",
        "130386         ...                       3.957413e-05   \n",
        "130387         ...                       1.446079e-04   \n",
        "130388         ...                       4.120414e-05   \n",
        "130389         ...                       8.345323e-05   \n",
        "130390         ...                       5.371674e-05   \n",
        "130391         ...                       1.284795e-04   \n",
        "130392         ...                       4.061911e-06   \n",
        "130393         ...                       2.798276e-04   \n",
        "130394         ...                       1.461621e-03   \n",
        "130395         ...                       1.773497e-04   \n",
        "130396         ...                       7.027674e-06   \n",
        "130397         ...                       6.996276e-05   \n",
        "130398         ...                       1.313828e-05   \n",
        "130399         ...                       2.538820e-04   \n",
        "\n",
        "        acantharia_protist_big_center  diatom_chain_tube  \\\n",
        "0                            0.000141       7.553571e-04   \n",
        "1                            0.000031       4.773716e-06   \n",
        "2                            0.000206       6.880909e-05   \n",
        "3                            0.000047       7.878471e-05   \n",
        "4                            0.000573       2.419562e-05   \n",
        "5                            0.000010       5.034389e-04   \n",
        "6                            0.000203       3.848304e-03   \n",
        "7                            0.000055       4.730393e-04   \n",
        "8                            0.000336       6.455828e-02   \n",
        "9                            0.000127       5.655879e-03   \n",
        "10                           0.000202       5.840598e-03   \n",
        "11                           0.001247       1.298781e-02   \n",
        "12                           0.000156       3.283549e-03   \n",
        "13                           0.000278       7.301356e-03   \n",
        "14                           0.000007       2.925047e-04   \n",
        "15                           0.000033       6.045113e-06   \n",
        "16                           0.000104       7.829570e-04   \n",
        "17                           0.000060       2.633562e-05   \n",
        "18                           0.000629       1.305163e-02   \n",
        "19                           0.000477       2.229880e-02   \n",
        "20                           0.000051       1.535143e-03   \n",
        "21                           0.001396       9.673483e-04   \n",
        "22                           0.000001       5.274189e-05   \n",
        "23                           0.000530       5.980205e-03   \n",
        "24                           0.000092       3.709486e-05   \n",
        "25                           0.001680       1.551763e-01   \n",
        "26                           0.000065       1.032723e-04   \n",
        "27                           0.001826       4.192722e-02   \n",
        "28                           0.000101       5.265879e-04   \n",
        "29                           0.000119       4.668995e-02   \n",
        "...                               ...                ...   \n",
        "130370                       0.000000       1.404657e-08   \n",
        "130371                       0.000084       1.153897e-03   \n",
        "130372                       0.000059       9.457090e-06   \n",
        "130373                       0.000165       1.641903e-03   \n",
        "130374                       0.000002       1.546964e-07   \n",
        "130375                       0.000113       1.256210e-03   \n",
        "130376                       0.000035       3.463867e-05   \n",
        "130377                       0.000009       3.393151e-06   \n",
        "130378                       0.000340       5.447784e-05   \n",
        "130379                       0.000539       3.258466e-02   \n",
        "130380                       0.000015       3.148412e-05   \n",
        "130381                       0.001887       3.029712e-03   \n",
        "130382                       0.000005       1.779104e-06   \n",
        "130383                       0.000001       6.002562e-07   \n",
        "130384                       0.000275       1.573711e-04   \n",
        "130385                       0.002720       4.986243e-02   \n",
        "130386                       0.000058       3.258585e-03   \n",
        "130387                       0.000406       9.915662e-04   \n",
        "130388                       0.000118       1.303221e-05   \n",
        "130389                       0.000464       4.645875e-04   \n",
        "130390                       0.000115       6.148006e-06   \n",
        "130391                       0.000144       5.991226e-05   \n",
        "130392                       0.000568       2.762245e-04   \n",
        "130393                       0.001239       2.397096e-02   \n",
        "130394                       0.006041       9.313533e-03   \n",
        "130395                       0.001198       2.687302e-02   \n",
        "130396                       0.000003       2.248637e-07   \n",
        "130397                       0.000021       1.405585e-05   \n",
        "130398                       0.000003       2.290349e-04   \n",
        "130399                       0.000126       1.274167e-04   \n",
        "\n",
        "        fish_larvae_medium_body  shrimp_sergestidae  pteropod_theco_dev_seq  \\\n",
        "0                  2.574329e-05        1.648166e-03                0.000134   \n",
        "1                  1.790800e-07        4.962825e-04                0.000010   \n",
        "2                  1.788396e-04        2.153248e-02                0.001212   \n",
        "3                  9.196852e-06        5.683988e-05                0.000324   \n",
        "4                  2.610493e-07        7.194679e-05                0.000003   \n",
        "5                  1.215086e-06        7.017920e-03                0.000004   \n",
        "6                  4.626535e-04        1.428145e-03                0.002341   \n",
        "7                  1.211731e-06        8.971590e-06                0.000054   \n",
        "8                  1.966139e-04        9.053159e-03                0.000040   \n",
        "9                  3.889129e-04        4.615208e-03                0.000605   \n",
        "10                 9.580268e-03        1.014878e-03                0.000199   \n",
        "11                 9.492628e-05        4.847135e-04                0.000741   \n",
        "12                 4.941487e-05        1.108340e-03                0.000103   \n",
        "13                 7.653003e-04        1.323279e-02                0.001981   \n",
        "14                 1.045649e-04        2.304798e-04                0.000003   \n",
        "15                 7.547288e-08        3.274209e-05                0.000012   \n",
        "16                 3.844811e-05        9.685019e-03                0.000371   \n",
        "17                 6.036977e-04        5.572043e-04                0.000629   \n",
        "18                 1.011209e-04        1.394067e-03                0.001259   \n",
        "19                 3.048077e-05        1.946418e-04                0.002401   \n",
        "20                 3.472908e-06        6.829164e-03                0.000041   \n",
        "21                 8.045837e-06        1.661992e-04                0.000597   \n",
        "22                 5.231123e-07        2.954194e-04                0.000001   \n",
        "23                 2.030730e-04        4.902991e-03                0.003744   \n",
        "24                 4.145081e-06        4.846972e-04                0.000031   \n",
        "25                 8.227759e-04        3.917436e-03                0.002322   \n",
        "26                 9.782945e-04        8.921594e-04                0.005148   \n",
        "27                 8.872009e-05        4.290367e-03                0.001634   \n",
        "28                 4.489352e-05        3.477944e-04                0.001010   \n",
        "29                 1.174686e-04        2.902733e-02                0.003378   \n",
        "...                         ...                 ...                     ...   \n",
        "130370             1.784132e-06        2.364742e-05                0.000011   \n",
        "130371             1.673627e-05        3.606041e-04                0.000406   \n",
        "130372             3.816827e-04        2.741887e-06                0.000007   \n",
        "130373             4.959024e-06        6.768286e-06                0.000007   \n",
        "130374             8.567754e-06        1.848326e-05                0.000018   \n",
        "130375             1.420840e-05        3.725400e-04                0.000210   \n",
        "130376             6.298318e-08        8.241085e-06                0.000001   \n",
        "130377             1.844951e-04        4.128639e-08                0.000001   \n",
        "130378             6.300518e-05        1.190440e-04                0.000148   \n",
        "130379             1.164425e-04        4.692719e-03                0.000804   \n",
        "130380             9.347720e-08        1.979133e-05                0.000000   \n",
        "130381             1.835296e-04        2.035834e-02                0.000664   \n",
        "130382             4.690485e-06        1.541052e-03                0.000004   \n",
        "130383             4.815376e-05        5.225008e-07                0.000263   \n",
        "130384             8.850114e-05        1.363308e-02                0.003781   \n",
        "130385             9.366245e-04        1.305994e-02                0.006910   \n",
        "130386             1.246139e-04        1.757527e-04                0.000017   \n",
        "130387             1.405723e-02        1.054293e-04                0.000277   \n",
        "130388             3.479517e-02        8.644524e-04                0.001256   \n",
        "130389             4.853637e-02        4.349863e-03                0.000236   \n",
        "130390             4.373002e-04        1.276439e-05                0.000056   \n",
        "130391             8.398869e-07        1.686857e-04                0.000023   \n",
        "130392             6.391317e-03        1.281895e-03                0.000382   \n",
        "130393             1.685101e-04        1.964505e-02                0.000691   \n",
        "130394             3.323041e-06        1.776520e-04                0.000622   \n",
        "130395             4.989423e-04        1.049848e-02                0.001929   \n",
        "130396             4.481659e-06        1.962329e-04                0.000046   \n",
        "130397             1.467081e-08        4.880525e-06                0.000000   \n",
        "130398             9.201573e-07        2.692792e-04                0.000008   \n",
        "130399             5.447974e-05        6.417924e-03                0.000639   \n",
        "\n",
        "        siphonophore_partial  protist_fuzzy_olive  \\\n",
        "0               9.096187e-05         2.044277e-05   \n",
        "1               2.424652e-05         1.066839e-02   \n",
        "2               1.212041e-02         1.470681e-04   \n",
        "3               1.890857e-03         3.718558e-06   \n",
        "4               7.232652e-09         3.307026e-05   \n",
        "5               1.673246e-07         7.275006e-10   \n",
        "6               2.496904e-03         7.001583e-04   \n",
        "7               1.300229e-05         1.791680e-06   \n",
        "8               5.674300e-05         6.621518e-06   \n",
        "9               4.412823e-03         3.853222e-06   \n",
        "10              4.572322e-04         1.469347e-04   \n",
        "11              1.620994e-04         1.407944e-04   \n",
        "12              3.821414e-05         6.086312e-04   \n",
        "13              1.305992e-03         2.247412e-04   \n",
        "14              2.246882e-07         1.664463e-07   \n",
        "15              3.152500e-06         1.463381e-03   \n",
        "16              4.485469e-05         5.000522e-06   \n",
        "17              5.520146e-02         9.656329e-05   \n",
        "18              2.714327e-04         1.028551e-03   \n",
        "19              6.860101e-04         2.675943e-05   \n",
        "20              8.500587e-07         7.430544e-06   \n",
        "21              5.228246e-04         3.057161e-05   \n",
        "22              8.474995e-06         8.256377e-09   \n",
        "23              1.174006e-03         4.326293e-05   \n",
        "24              1.774444e-04         1.686083e-03   \n",
        "25              2.750102e-04         3.792951e-04   \n",
        "26              1.063854e-02         9.256442e-06   \n",
        "27              4.308471e-04         1.065485e-03   \n",
        "28              1.605594e-03         1.437417e-05   \n",
        "29              4.109700e-04         2.428172e-06   \n",
        "...                      ...                  ...   \n",
        "130370          1.408320e-03         1.223217e-06   \n",
        "130371          2.244732e-04         3.578204e-05   \n",
        "130372          1.553218e-06         2.125021e-04   \n",
        "130373          7.137880e-07         3.181784e-05   \n",
        "130374          7.553597e-05         2.616031e-03   \n",
        "130375          8.477317e-06         3.367948e-03   \n",
        "130376          8.390527e-09         3.691253e-05   \n",
        "130377          9.692985e-08         4.012420e-05   \n",
        "130378          8.201258e-05         3.663970e-04   \n",
        "130379          4.174014e-05         7.775734e-06   \n",
        "130380          3.605217e-07         2.339322e-07   \n",
        "130381          9.195571e-04         2.738819e-04   \n",
        "130382          6.844863e-07         1.360419e-06   \n",
        "130383          2.077323e-03         1.727643e-07   \n",
        "130384          4.090330e-02         5.767578e-04   \n",
        "130385          2.255234e-03         1.732215e-03   \n",
        "130386          1.206563e-05         2.544240e-06   \n",
        "130387          8.673022e-06         5.299839e-05   \n",
        "130388          5.876402e-04         7.221184e-04   \n",
        "130389          4.943350e-03         1.194667e-04   \n",
        "130390          2.989753e-05         5.190452e-01   \n",
        "130391          7.001003e-06         5.912246e-03   \n",
        "130392          7.288348e-04         2.786743e-03   \n",
        "130393          5.622862e-04         3.022719e-04   \n",
        "130394          6.970260e-06         6.367600e-03   \n",
        "130395          1.765884e-03         7.084742e-05   \n",
        "130396          2.377867e-04         6.871668e-03   \n",
        "130397          1.400253e-09         2.043109e-06   \n",
        "130398          3.408855e-07         7.038469e-06   \n",
        "130399          4.238515e-04         5.472406e-05   \n",
        "\n",
        "        appendicularian_fritillaridae  radiolarian_colony  \n",
        "0                            0.000130        1.987029e-04  \n",
        "1                            0.005034        4.422695e-04  \n",
        "2                            0.000571        3.082770e-02  \n",
        "3                            0.000008        4.623566e-04  \n",
        "4                            0.000124        3.626074e-07  \n",
        "5                            0.000009        1.443130e-07  \n",
        "6                            0.005605        8.500820e-03  \n",
        "7                            0.000188        6.076314e-06  \n",
        "8                            0.000495        3.368836e-04  \n",
        "9                            0.000218        1.575645e-03  \n",
        "10                           0.004118        2.474847e-03  \n",
        "11                           0.000238        9.446264e-04  \n",
        "12                           0.000795        1.014760e-04  \n",
        "13                           0.001074        2.283828e-03  \n",
        "14                           0.000006        1.148170e-05  \n",
        "15                           0.000303        1.652731e-05  \n",
        "16                           0.000105        2.021373e-04  \n",
        "17                           0.000199        9.109232e-03  \n",
        "18                           0.001414        1.029996e-03  \n",
        "19                           0.000056        4.007295e-04  \n",
        "20                           0.000147        2.343529e-06  \n",
        "21                           0.000113        6.229638e-04  \n",
        "22                           0.000050        1.295219e-06  \n",
        "23                           0.000908        1.609563e-03  \n",
        "24                           0.001927        1.052716e-02  \n",
        "25                           0.001939        7.301364e-04  \n",
        "26                           0.001113        1.881056e-02  \n",
        "27                           0.001573        1.351802e-03  \n",
        "28                           0.000017        2.618525e-03  \n",
        "29                           0.000093        3.788476e-04  \n",
        "...                               ...                 ...  \n",
        "130370                       0.000003        2.584394e-03  \n",
        "130371                       0.000063        1.369468e-03  \n",
        "130372                       0.000029        1.234957e-04  \n",
        "130373                       0.001263        7.662865e-06  \n",
        "130374                       0.000129        5.647101e-03  \n",
        "130375                       0.000412        1.021097e-04  \n",
        "130376                       0.000014        2.343135e-07  \n",
        "130377                       0.000009        1.125066e-05  \n",
        "130378                       0.000344        6.155659e-03  \n",
        "130379                       0.000336        1.898063e-05  \n",
        "130380                       0.001127        1.350759e-07  \n",
        "130381                       0.001959        2.421313e-02  \n",
        "130382                       0.000003        1.472041e-04  \n",
        "130383                       0.000003        2.937186e-04  \n",
        "130384                       0.004445        6.087781e-03  \n",
        "130385                       0.005405        5.800865e-03  \n",
        "130386                       0.000148        4.776717e-05  \n",
        "130387                       0.001276        1.292889e-03  \n",
        "130388                       0.000998        2.046846e-01  \n",
        "130389                       0.001907        5.542649e-02  \n",
        "130390                       0.000723        3.670851e-03  \n",
        "130391                       0.006680        5.365332e-04  \n",
        "130392                       0.000247        5.315614e-03  \n",
        "130393                       0.003549        2.785647e-03  \n",
        "130394                       0.001137        1.121121e-04  \n",
        "130395                       0.000604        2.632792e-03  \n",
        "130396                       0.000440        5.123886e-03  \n",
        "130397                       0.000013        2.619839e-08  \n",
        "130398                       0.000034        1.230931e-06  \n",
        "130399                       0.000175        1.510069e-03  \n",
        "\n",
        "[130400 rows x 122 columns]"
       ]
      }
     ],
     "prompt_number": 6
    },
    {
     "cell_type": "code",
     "collapsed": false,
     "input": [
      "!gzip submission_cnn_maxout_01_best.csv"
     ],
     "language": "python",
     "metadata": {},
     "outputs": [],
     "prompt_number": 10
    },
    {
     "cell_type": "code",
     "collapsed": false,
     "input": [],
     "language": "python",
     "metadata": {},
     "outputs": []
    }
   ],
   "metadata": {}
  }
 ]
}