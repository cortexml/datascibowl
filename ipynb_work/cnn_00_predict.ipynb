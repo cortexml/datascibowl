{
 "metadata": {
  "name": "",
  "signature": "sha256:91b6d5f085331b7f10e976cec87c1c540655f8e50d569d5b647ddc7342f4698e"
 },
 "nbformat": 3,
 "nbformat_minor": 0,
 "worksheets": [
  {
   "cells": [
    {
     "cell_type": "code",
     "collapsed": false,
     "input": [
      "import pylearn2\n",
      "import glob\n",
      "import numpy as np\n",
      "import pickle as pkl\n",
      "import pandas as pd"
     ],
     "language": "python",
     "metadata": {},
     "outputs": [
      {
       "output_type": "stream",
       "stream": "stderr",
       "text": [
        "Using gpu device 0: GeForce GTX 550 Ti\n"
       ]
      }
     ],
     "prompt_number": 1
    },
    {
     "cell_type": "code",
     "collapsed": false,
     "input": [
      "import os\n",
      "import theano\n",
      "from pylearn2.datasets.datascibowl import DataSciBowl\n",
      "from pylearn2.datasets.dense_design_matrix import DenseDesignMatrix\n",
      "from pylearn2.utils import serial"
     ],
     "language": "python",
     "metadata": {},
     "outputs": [
      {
       "output_type": "stream",
       "stream": "stderr",
       "text": [
        "Using gpu device 0: GeForce GTX 550 Ti\n"
       ]
      }
     ],
     "prompt_number": 1
    },
    {
     "cell_type": "code",
     "collapsed": false,
     "input": [
      "os.environ[\"PYLEARN2_DATA_PATH\"] = \"/home/jotham/projects/2014-12-20_datascibowl/data\"\n",
      "print os.path.expandvars(\"$PYLEARN2_DATA_PATH\")"
     ],
     "language": "python",
     "metadata": {},
     "outputs": [
      {
       "output_type": "stream",
       "stream": "stdout",
       "text": [
        "/home/jotham/projects/2014-12-20_datascibowl/data\n"
       ]
      }
     ],
     "prompt_number": 2
    },
    {
     "cell_type": "code",
     "collapsed": false,
     "input": [
      "model_path = 'cnn_00_best.pkl'\n",
      "model = serial.load( model_path )"
     ],
     "language": "python",
     "metadata": {},
     "outputs": [],
     "prompt_number": 3
    },
    {
     "cell_type": "code",
     "collapsed": false,
     "input": [
      "model.layers"
     ],
     "language": "python",
     "metadata": {},
     "outputs": [
      {
       "metadata": {},
       "output_type": "pyout",
       "prompt_number": 4,
       "text": [
        "[<pylearn2.models.mlp.ConvRectifiedLinear at 0x7f4186154490>,\n",
        " <pylearn2.models.mlp.ConvRectifiedLinear at 0x7f41cfbdc490>,\n",
        " <pylearn2.models.mlp.Softmax at 0x7f4185babf50>]"
       ]
      }
     ],
     "prompt_number": 4
    },
    {
     "cell_type": "code",
     "collapsed": false,
     "input": [
      "X = model.get_input_space().make_theano_batch()\n",
      "Y = model.fprop( X )"
     ],
     "language": "python",
     "metadata": {},
     "outputs": [],
     "prompt_number": 5
    },
    {
     "cell_type": "code",
     "collapsed": false,
     "input": [
      "data = DataSciBowl(center=True, shuffle=False, )"
     ],
     "language": "python",
     "metadata": {},
     "outputs": [
      {
       "output_type": "stream",
       "stream": "stdout",
       "text": [
        "Looking for data in /home/jotham/projects/2014-12-20_datascibowl/data/datascibowl/train\n",
        "Found 30336 images"
       ]
      },
      {
       "output_type": "stream",
       "stream": "stdout",
       "text": [
        "\n",
        "Reading files from /home/jotham/projects/2014-12-20_datascibowl/data/datascibowl/train/euphausiids_young\n",
        "Reading files from /home/jotham/projects/2014-12-20_datascibowl/data/datascibowl/train/hydromedusae_narcomedusae\n",
        "Reading files from /home/jotham/projects/2014-12-20_datascibowl/data/datascibowl/train/copepod_calanoid_small_longantennae"
       ]
      },
      {
       "output_type": "stream",
       "stream": "stdout",
       "text": [
        "\n",
        "Reading files from /home/jotham/projects/2014-12-20_datascibowl/data/datascibowl/train/appendicularian_s_shape"
       ]
      },
      {
       "output_type": "stream",
       "stream": "stdout",
       "text": [
        "\n",
        "Reading files from /home/jotham/projects/2014-12-20_datascibowl/data/datascibowl/train/decapods"
       ]
      },
      {
       "output_type": "stream",
       "stream": "stdout",
       "text": [
        "\n",
        "Reading files from /home/jotham/projects/2014-12-20_datascibowl/data/datascibowl/train/hydromedusae_typeD_bell_and_tentacles\n",
        "Reading files from /home/jotham/projects/2014-12-20_datascibowl/data/datascibowl/train/crustacean_other"
       ]
      },
      {
       "output_type": "stream",
       "stream": "stdout",
       "text": [
        "\n",
        "Reading files from /home/jotham/projects/2014-12-20_datascibowl/data/datascibowl/train/hydromedusae_bell_and_tentacles"
       ]
      },
      {
       "output_type": "stream",
       "stream": "stdout",
       "text": [
        "\n",
        "Reading files from /home/jotham/projects/2014-12-20_datascibowl/data/datascibowl/train/echinoderm_larva_pluteus_brittlestar"
       ]
      },
      {
       "output_type": "stream",
       "stream": "stdout",
       "text": [
        "\n",
        "Reading files from /home/jotham/projects/2014-12-20_datascibowl/data/datascibowl/train/invertebrate_larvae_other_B\n",
        "Reading files from /home/jotham/projects/2014-12-20_datascibowl/data/datascibowl/train/hydromedusae_solmaris"
       ]
      },
      {
       "output_type": "stream",
       "stream": "stdout",
       "text": [
        "\n",
        "Reading files from /home/jotham/projects/2014-12-20_datascibowl/data/datascibowl/train/chaetognath_sagitta"
       ]
      },
      {
       "output_type": "stream",
       "stream": "stdout",
       "text": [
        "\n",
        "Reading files from /home/jotham/projects/2014-12-20_datascibowl/data/datascibowl/train/hydromedusae_shapeA"
       ]
      },
      {
       "output_type": "stream",
       "stream": "stdout",
       "text": [
        "\n",
        "Reading files from /home/jotham/projects/2014-12-20_datascibowl/data/datascibowl/train/hydromedusae_shapeB"
       ]
      },
      {
       "output_type": "stream",
       "stream": "stdout",
       "text": [
        "\n",
        "Reading files from /home/jotham/projects/2014-12-20_datascibowl/data/datascibowl/train/hydromedusae_haliscera"
       ]
      },
      {
       "output_type": "stream",
       "stream": "stdout",
       "text": [
        "\n",
        "Reading files from /home/jotham/projects/2014-12-20_datascibowl/data/datascibowl/train/hydromedusae_typeE"
       ]
      },
      {
       "output_type": "stream",
       "stream": "stdout",
       "text": [
        "\n",
        "Reading files from /home/jotham/projects/2014-12-20_datascibowl/data/datascibowl/train/hydromedusae_h15\n",
        "Reading files from /home/jotham/projects/2014-12-20_datascibowl/data/datascibowl/train/artifacts_edge\n",
        "Reading files from /home/jotham/projects/2014-12-20_datascibowl/data/datascibowl/train/copepod_calanoid_frillyAntennae"
       ]
      },
      {
       "output_type": "stream",
       "stream": "stdout",
       "text": [
        "\n",
        "Reading files from /home/jotham/projects/2014-12-20_datascibowl/data/datascibowl/train/copepod_calanoid_large"
       ]
      },
      {
       "output_type": "stream",
       "stream": "stdout",
       "text": [
        "\n",
        "Reading files from /home/jotham/projects/2014-12-20_datascibowl/data/datascibowl/train/siphonophore_calycophoran_abylidae"
       ]
      },
      {
       "output_type": "stream",
       "stream": "stdout",
       "text": [
        "\n",
        "Reading files from /home/jotham/projects/2014-12-20_datascibowl/data/datascibowl/train/invertebrate_larvae_other_A"
       ]
      },
      {
       "output_type": "stream",
       "stream": "stdout",
       "text": [
        "\n",
        "Reading files from /home/jotham/projects/2014-12-20_datascibowl/data/datascibowl/train/protist_dark_center\n",
        "Reading files from /home/jotham/projects/2014-12-20_datascibowl/data/datascibowl/train/ctenophore_cestid"
       ]
      },
      {
       "output_type": "stream",
       "stream": "stdout",
       "text": [
        "\n",
        "Reading files from /home/jotham/projects/2014-12-20_datascibowl/data/datascibowl/train/trichodesmium_tuft"
       ]
      },
      {
       "output_type": "stream",
       "stream": "stdout",
       "text": [
        "\n",
        "Reading files from /home/jotham/projects/2014-12-20_datascibowl/data/datascibowl/train/detritus_other"
       ]
      },
      {
       "output_type": "stream",
       "stream": "stdout",
       "text": [
        "\n",
        "Reading files from /home/jotham/projects/2014-12-20_datascibowl/data/datascibowl/train/tornaria_acorn_worm_larvae"
       ]
      },
      {
       "output_type": "stream",
       "stream": "stdout",
       "text": [
        "\n",
        "Reading files from /home/jotham/projects/2014-12-20_datascibowl/data/datascibowl/train/hydromedusae_other\n",
        "Reading files from /home/jotham/projects/2014-12-20_datascibowl/data/datascibowl/train/tunicate_salp\n",
        "Reading files from /home/jotham/projects/2014-12-20_datascibowl/data/datascibowl/train/shrimp_caridean"
       ]
      },
      {
       "output_type": "stream",
       "stream": "stdout",
       "text": [
        "\n",
        "Reading files from /home/jotham/projects/2014-12-20_datascibowl/data/datascibowl/train/copepod_cyclopoid_oithona\n",
        "Reading files from /home/jotham/projects/2014-12-20_datascibowl/data/datascibowl/train/hydromedusae_sideview_big"
       ]
      },
      {
       "output_type": "stream",
       "stream": "stdout",
       "text": [
        "\n",
        "Reading files from /home/jotham/projects/2014-12-20_datascibowl/data/datascibowl/train/trochophore_larvae"
       ]
      },
      {
       "output_type": "stream",
       "stream": "stdout",
       "text": [
        "\n",
        "Reading files from /home/jotham/projects/2014-12-20_datascibowl/data/datascibowl/train/artifacts\n",
        "Reading files from /home/jotham/projects/2014-12-20_datascibowl/data/datascibowl/train/acantharia_protist"
       ]
      },
      {
       "output_type": "stream",
       "stream": "stdout",
       "text": [
        "\n",
        "Reading files from /home/jotham/projects/2014-12-20_datascibowl/data/datascibowl/train/ctenophore_lobate"
       ]
      },
      {
       "output_type": "stream",
       "stream": "stdout",
       "text": [
        "\n",
        "Reading files from /home/jotham/projects/2014-12-20_datascibowl/data/datascibowl/train/copepod_calanoid_eucalanus"
       ]
      },
      {
       "output_type": "stream",
       "stream": "stdout",
       "text": [
        "\n",
        "Reading files from /home/jotham/projects/2014-12-20_datascibowl/data/datascibowl/train/siphonophore_calycophoran_sphaeronectes_young"
       ]
      },
      {
       "output_type": "stream",
       "stream": "stdout",
       "text": [
        "\n",
        "Reading files from /home/jotham/projects/2014-12-20_datascibowl/data/datascibowl/train/fish_larvae_myctophids"
       ]
      },
      {
       "output_type": "stream",
       "stream": "stdout",
       "text": [
        "\n",
        "Reading files from /home/jotham/projects/2014-12-20_datascibowl/data/datascibowl/train/echinoderm_larva_pluteus_early"
       ]
      },
      {
       "output_type": "stream",
       "stream": "stdout",
       "text": [
        "\n",
        "Reading files from /home/jotham/projects/2014-12-20_datascibowl/data/datascibowl/train/hydromedusae_aglaura"
       ]
      },
      {
       "output_type": "stream",
       "stream": "stdout",
       "text": [
        "\n",
        "Reading files from /home/jotham/projects/2014-12-20_datascibowl/data/datascibowl/train/echinoderm_larva_pluteus_urchin"
       ]
      },
      {
       "output_type": "stream",
       "stream": "stdout",
       "text": [
        "\n",
        "Reading files from /home/jotham/projects/2014-12-20_datascibowl/data/datascibowl/train/tunicate_partial"
       ]
      },
      {
       "output_type": "stream",
       "stream": "stdout",
       "text": [
        "\n",
        "Reading files from /home/jotham/projects/2014-12-20_datascibowl/data/datascibowl/train/pteropod_triangle"
       ]
      },
      {
       "output_type": "stream",
       "stream": "stdout",
       "text": [
        "\n",
        "Reading files from /home/jotham/projects/2014-12-20_datascibowl/data/datascibowl/train/echinoderm_seacucumber_auricularia_larva"
       ]
      },
      {
       "output_type": "stream",
       "stream": "stdout",
       "text": [
        "\n",
        "Reading files from /home/jotham/projects/2014-12-20_datascibowl/data/datascibowl/train/hydromedusae_typeD"
       ]
      },
      {
       "output_type": "stream",
       "stream": "stdout",
       "text": [
        "\n",
        "Reading files from /home/jotham/projects/2014-12-20_datascibowl/data/datascibowl/train/siphonophore_calycophoran_sphaeronectes\n",
        "Reading files from /home/jotham/projects/2014-12-20_datascibowl/data/datascibowl/train/chordate_type1"
       ]
      },
      {
       "output_type": "stream",
       "stream": "stdout",
       "text": [
        "\n",
        "Reading files from /home/jotham/projects/2014-12-20_datascibowl/data/datascibowl/train/trichodesmium_multiple"
       ]
      },
      {
       "output_type": "stream",
       "stream": "stdout",
       "text": [
        "\n",
        "Reading files from /home/jotham/projects/2014-12-20_datascibowl/data/datascibowl/train/appendicularian_straight\n",
        "Reading files from /home/jotham/projects/2014-12-20_datascibowl/data/datascibowl/train/appendicularian_slight_curve"
       ]
      },
      {
       "output_type": "stream",
       "stream": "stdout",
       "text": [
        "\n",
        "Reading files from /home/jotham/projects/2014-12-20_datascibowl/data/datascibowl/train/hydromedusae_typeF"
       ]
      },
      {
       "output_type": "stream",
       "stream": "stdout",
       "text": [
        "\n",
        "Reading files from /home/jotham/projects/2014-12-20_datascibowl/data/datascibowl/train/fecal_pellet"
       ]
      },
      {
       "output_type": "stream",
       "stream": "stdout",
       "text": [
        "\n",
        "Reading files from /home/jotham/projects/2014-12-20_datascibowl/data/datascibowl/train/hydromedusae_narco_dark"
       ]
      },
      {
       "output_type": "stream",
       "stream": "stdout",
       "text": [
        "\n",
        "Reading files from /home/jotham/projects/2014-12-20_datascibowl/data/datascibowl/train/shrimp-like_other\n",
        "Reading files from /home/jotham/projects/2014-12-20_datascibowl/data/datascibowl/train/diatom_chain_string"
       ]
      },
      {
       "output_type": "stream",
       "stream": "stdout",
       "text": [
        "\n",
        "Reading files from /home/jotham/projects/2014-12-20_datascibowl/data/datascibowl/train/fish_larvae_very_thin_body"
       ]
      },
      {
       "output_type": "stream",
       "stream": "stdout",
       "text": [
        "\n",
        "Reading files from /home/jotham/projects/2014-12-20_datascibowl/data/datascibowl/train/detritus_filamentous\n",
        "Reading files from /home/jotham/projects/2014-12-20_datascibowl/data/datascibowl/train/amphipods"
       ]
      },
      {
       "output_type": "stream",
       "stream": "stdout",
       "text": [
        "\n",
        "Reading files from /home/jotham/projects/2014-12-20_datascibowl/data/datascibowl/train/siphonophore_other_parts\n",
        "Reading files from /home/jotham/projects/2014-12-20_datascibowl/data/datascibowl/train/trichodesmium_bowtie"
       ]
      },
      {
       "output_type": "stream",
       "stream": "stdout",
       "text": [
        "\n",
        "Reading files from /home/jotham/projects/2014-12-20_datascibowl/data/datascibowl/train/siphonophore_physonect"
       ]
      },
      {
       "output_type": "stream",
       "stream": "stdout",
       "text": [
        "\n",
        "Reading files from /home/jotham/projects/2014-12-20_datascibowl/data/datascibowl/train/chaetognath_other"
       ]
      },
      {
       "output_type": "stream",
       "stream": "stdout",
       "text": [
        "\n",
        "Reading files from /home/jotham/projects/2014-12-20_datascibowl/data/datascibowl/train/pteropod_butterfly"
       ]
      },
      {
       "output_type": "stream",
       "stream": "stdout",
       "text": [
        "\n",
        "Reading files from /home/jotham/projects/2014-12-20_datascibowl/data/datascibowl/train/tunicate_salp_chains"
       ]
      },
      {
       "output_type": "stream",
       "stream": "stdout",
       "text": [
        "\n",
        "Reading files from /home/jotham/projects/2014-12-20_datascibowl/data/datascibowl/train/copepod_calanoid_eggs"
       ]
      },
      {
       "output_type": "stream",
       "stream": "stdout",
       "text": [
        "\n",
        "Reading files from /home/jotham/projects/2014-12-20_datascibowl/data/datascibowl/train/euphausiids"
       ]
      },
      {
       "output_type": "stream",
       "stream": "stdout",
       "text": [
        "\n",
        "Reading files from /home/jotham/projects/2014-12-20_datascibowl/data/datascibowl/train/copepod_other"
       ]
      },
      {
       "output_type": "stream",
       "stream": "stdout",
       "text": [
        "\n",
        "Reading files from /home/jotham/projects/2014-12-20_datascibowl/data/datascibowl/train/shrimp_zoea\n",
        "Reading files from /home/jotham/projects/2014-12-20_datascibowl/data/datascibowl/train/tunicate_doliolid_nurse"
       ]
      },
      {
       "output_type": "stream",
       "stream": "stdout",
       "text": [
        "\n",
        "Reading files from /home/jotham/projects/2014-12-20_datascibowl/data/datascibowl/train/copepod_calanoid_flatheads"
       ]
      },
      {
       "output_type": "stream",
       "stream": "stdout",
       "text": [
        "\n",
        "Reading files from /home/jotham/projects/2014-12-20_datascibowl/data/datascibowl/train/siphonophore_calycophoran_rocketship_adult"
       ]
      },
      {
       "output_type": "stream",
       "stream": "stdout",
       "text": [
        "\n",
        "Reading files from /home/jotham/projects/2014-12-20_datascibowl/data/datascibowl/train/ephyra"
       ]
      },
      {
       "output_type": "stream",
       "stream": "stdout",
       "text": [
        "\n",
        "Reading files from /home/jotham/projects/2014-12-20_datascibowl/data/datascibowl/train/copepod_calanoid\n",
        "Reading files from /home/jotham/projects/2014-12-20_datascibowl/data/datascibowl/train/fish_larvae_thin_body"
       ]
      },
      {
       "output_type": "stream",
       "stream": "stdout",
       "text": [
        "\n",
        "Reading files from /home/jotham/projects/2014-12-20_datascibowl/data/datascibowl/train/radiolarian_chain"
       ]
      },
      {
       "output_type": "stream",
       "stream": "stdout",
       "text": [
        "\n",
        "Reading files from /home/jotham/projects/2014-12-20_datascibowl/data/datascibowl/train/hydromedusae_shapeA_sideview_small"
       ]
      },
      {
       "output_type": "stream",
       "stream": "stdout",
       "text": [
        "\n",
        "Reading files from /home/jotham/projects/2014-12-20_datascibowl/data/datascibowl/train/fish_larvae_leptocephali"
       ]
      },
      {
       "output_type": "stream",
       "stream": "stdout",
       "text": [
        "\n",
        "Reading files from /home/jotham/projects/2014-12-20_datascibowl/data/datascibowl/train/hydromedusae_haliscera_small_sideview\n",
        "Reading files from /home/jotham/projects/2014-12-20_datascibowl/data/datascibowl/train/acantharia_protist_halo\n",
        "Reading files from /home/jotham/projects/2014-12-20_datascibowl/data/datascibowl/train/stomatopod"
       ]
      },
      {
       "output_type": "stream",
       "stream": "stdout",
       "text": [
        "\n",
        "Reading files from /home/jotham/projects/2014-12-20_datascibowl/data/datascibowl/train/protist_star\n",
        "Reading files from /home/jotham/projects/2014-12-20_datascibowl/data/datascibowl/train/protist_noctiluca"
       ]
      },
      {
       "output_type": "stream",
       "stream": "stdout",
       "text": [
        "\n",
        "Reading files from /home/jotham/projects/2014-12-20_datascibowl/data/datascibowl/train/copepod_cyclopoid_oithona_eggs"
       ]
      },
      {
       "output_type": "stream",
       "stream": "stdout",
       "text": [
        "\n",
        "Reading files from /home/jotham/projects/2014-12-20_datascibowl/data/datascibowl/train/echinoderm_larva_pluteus_typeC"
       ]
      },
      {
       "output_type": "stream",
       "stream": "stdout",
       "text": [
        "\n",
        "Reading files from /home/jotham/projects/2014-12-20_datascibowl/data/datascibowl/train/jellies_tentacles"
       ]
      },
      {
       "output_type": "stream",
       "stream": "stdout",
       "text": [
        "\n",
        "Reading files from /home/jotham/projects/2014-12-20_datascibowl/data/datascibowl/train/siphonophore_physonect_young"
       ]
      },
      {
       "output_type": "stream",
       "stream": "stdout",
       "text": [
        "\n",
        "Reading files from /home/jotham/projects/2014-12-20_datascibowl/data/datascibowl/train/detritus_blob\n",
        "Reading files from /home/jotham/projects/2014-12-20_datascibowl/data/datascibowl/train/unknown_unclassified"
       ]
      },
      {
       "output_type": "stream",
       "stream": "stdout",
       "text": [
        "\n",
        "Reading files from /home/jotham/projects/2014-12-20_datascibowl/data/datascibowl/train/unknown_sticks"
       ]
      },
      {
       "output_type": "stream",
       "stream": "stdout",
       "text": [
        "\n",
        "Reading files from /home/jotham/projects/2014-12-20_datascibowl/data/datascibowl/train/siphonophore_calycophoran_sphaeronectes_stem"
       ]
      },
      {
       "output_type": "stream",
       "stream": "stdout",
       "text": [
        "\n",
        "Reading files from /home/jotham/projects/2014-12-20_datascibowl/data/datascibowl/train/echinopluteus"
       ]
      },
      {
       "output_type": "stream",
       "stream": "stdout",
       "text": [
        "\n",
        "Reading files from /home/jotham/projects/2014-12-20_datascibowl/data/datascibowl/train/heteropod\n",
        "Reading files from /home/jotham/projects/2014-12-20_datascibowl/data/datascibowl/train/unknown_blobs_and_smudges\n",
        "Reading files from /home/jotham/projects/2014-12-20_datascibowl/data/datascibowl/train/echinoderm_larva_seastar_bipinnaria"
       ]
      },
      {
       "output_type": "stream",
       "stream": "stdout",
       "text": [
        "\n",
        "Reading files from /home/jotham/projects/2014-12-20_datascibowl/data/datascibowl/train/echinoderm_larva_seastar_brachiolaria"
       ]
      },
      {
       "output_type": "stream",
       "stream": "stdout",
       "text": [
        "\n",
        "Reading files from /home/jotham/projects/2014-12-20_datascibowl/data/datascibowl/train/copepod_cyclopoid_copilia"
       ]
      },
      {
       "output_type": "stream",
       "stream": "stdout",
       "text": [
        "\n",
        "Reading files from /home/jotham/projects/2014-12-20_datascibowl/data/datascibowl/train/chaetognath_non_sagitta\n",
        "Reading files from /home/jotham/projects/2014-12-20_datascibowl/data/datascibowl/train/tunicate_doliolid"
       ]
      },
      {
       "output_type": "stream",
       "stream": "stdout",
       "text": [
        "\n",
        "Reading files from /home/jotham/projects/2014-12-20_datascibowl/data/datascibowl/train/hydromedusae_liriope"
       ]
      },
      {
       "output_type": "stream",
       "stream": "stdout",
       "text": [
        "\n",
        "Reading files from /home/jotham/projects/2014-12-20_datascibowl/data/datascibowl/train/ctenophore_cydippid_tentacles\n",
        "Reading files from /home/jotham/projects/2014-12-20_datascibowl/data/datascibowl/train/siphonophore_calycophoran_rocketship_young"
       ]
      },
      {
       "output_type": "stream",
       "stream": "stdout",
       "text": [
        "\n",
        "Reading files from /home/jotham/projects/2014-12-20_datascibowl/data/datascibowl/train/copepod_calanoid_large_side_antennatucked"
       ]
      },
      {
       "output_type": "stream",
       "stream": "stdout",
       "text": [
        "\n",
        "Reading files from /home/jotham/projects/2014-12-20_datascibowl/data/datascibowl/train/fish_larvae_deep_body"
       ]
      },
      {
       "output_type": "stream",
       "stream": "stdout",
       "text": [
        "\n",
        "Reading files from /home/jotham/projects/2014-12-20_datascibowl/data/datascibowl/train/ctenophore_cydippid_no_tentacles\n",
        "Reading files from /home/jotham/projects/2014-12-20_datascibowl/data/datascibowl/train/hydromedusae_solmundella\n",
        "Reading files from /home/jotham/projects/2014-12-20_datascibowl/data/datascibowl/train/trichodesmium_puff"
       ]
      },
      {
       "output_type": "stream",
       "stream": "stdout",
       "text": [
        "\n",
        "Reading files from /home/jotham/projects/2014-12-20_datascibowl/data/datascibowl/train/hydromedusae_partial_dark"
       ]
      },
      {
       "output_type": "stream",
       "stream": "stdout",
       "text": [
        "\n",
        "Reading files from /home/jotham/projects/2014-12-20_datascibowl/data/datascibowl/train/hydromedusae_narco_young"
       ]
      },
      {
       "output_type": "stream",
       "stream": "stdout",
       "text": [
        "\n",
        "Reading files from /home/jotham/projects/2014-12-20_datascibowl/data/datascibowl/train/polychaete"
       ]
      },
      {
       "output_type": "stream",
       "stream": "stdout",
       "text": [
        "\n",
        "Reading files from /home/jotham/projects/2014-12-20_datascibowl/data/datascibowl/train/protist_other"
       ]
      },
      {
       "output_type": "stream",
       "stream": "stdout",
       "text": [
        "\n",
        "Reading files from /home/jotham/projects/2014-12-20_datascibowl/data/datascibowl/train/copepod_calanoid_octomoms"
       ]
      },
      {
       "output_type": "stream",
       "stream": "stdout",
       "text": [
        "\n",
        "Reading files from /home/jotham/projects/2014-12-20_datascibowl/data/datascibowl/train/acantharia_protist_big_center"
       ]
      },
      {
       "output_type": "stream",
       "stream": "stdout",
       "text": [
        "\n",
        "Reading files from /home/jotham/projects/2014-12-20_datascibowl/data/datascibowl/train/diatom_chain_tube\n",
        "Reading files from /home/jotham/projects/2014-12-20_datascibowl/data/datascibowl/train/fish_larvae_medium_body"
       ]
      },
      {
       "output_type": "stream",
       "stream": "stdout",
       "text": [
        "\n",
        "Reading files from /home/jotham/projects/2014-12-20_datascibowl/data/datascibowl/train/shrimp_sergestidae"
       ]
      },
      {
       "output_type": "stream",
       "stream": "stdout",
       "text": [
        "\n",
        "Reading files from /home/jotham/projects/2014-12-20_datascibowl/data/datascibowl/train/pteropod_theco_dev_seq"
       ]
      },
      {
       "output_type": "stream",
       "stream": "stdout",
       "text": [
        "\n",
        "Reading files from /home/jotham/projects/2014-12-20_datascibowl/data/datascibowl/train/siphonophore_partial\n",
        "Reading files from /home/jotham/projects/2014-12-20_datascibowl/data/datascibowl/train/protist_fuzzy_olive\n",
        "Reading files from /home/jotham/projects/2014-12-20_datascibowl/data/datascibowl/train/appendicularian_fritillaridae"
       ]
      },
      {
       "output_type": "stream",
       "stream": "stdout",
       "text": [
        "\n",
        "Reading files from /home/jotham/projects/2014-12-20_datascibowl/data/datascibowl/train/radiolarian_colony\n",
        "topo_view.shape: (30336, 32, 32, 1)"
       ]
      },
      {
       "output_type": "stream",
       "stream": "stdout",
       "text": [
        "\n",
        "NAs: 0\n"
       ]
      }
     ],
     "prompt_number": 6
    },
    {
     "cell_type": "code",
     "collapsed": false,
     "input": [
      "f = theano.function( [X], Y , allow_input_downcast=True)"
     ],
     "language": "python",
     "metadata": {},
     "outputs": [
      {
       "output_type": "stream",
       "stream": "stderr",
       "text": [
        "/home/jotham/venvs/2014-12-20_datascibowl/lib/python2.7/site-packages/theano/tensor/subtensor.py:190: FutureWarning: comparison to `None` will result in an elementwise object comparison in the future.\n",
        "  if stop in [None, maxsize]:\n"
       ]
      }
     ],
     "prompt_number": 7
    },
    {
     "cell_type": "code",
     "collapsed": false,
     "input": [
      "x_test = data.X.copy()\n",
      "# print x_test.shape\n",
      "x_test = x_test.reshape(x_test.shape[0], 32, 32, 1)\n",
      "print x_test.shape\n",
      "# print x_test[1:100,:]\n",
      "print x_test[[0],:,:,:].shape\n",
      "print x_test[0:1,:,:,:].shape\n",
      "y = f( x_test[[0],:,:,:] )"
     ],
     "language": "python",
     "metadata": {},
     "outputs": [
      {
       "output_type": "stream",
       "stream": "stdout",
       "text": [
        "(30336, 32, 32, 1)\n",
        "(1, 32, 32, 1)\n",
        "(1, 32, 32, 1)\n"
       ]
      }
     ],
     "prompt_number": 14
    },
    {
     "cell_type": "code",
     "collapsed": false,
     "input": [
      "print y.shape\n",
      "y"
     ],
     "language": "python",
     "metadata": {},
     "outputs": [
      {
       "output_type": "stream",
       "stream": "stdout",
       "text": [
        "(1, 121)\n"
       ]
      },
      {
       "metadata": {},
       "output_type": "pyout",
       "prompt_number": 15,
       "text": [
        "array([[  1.98552310e-01,   7.15853687e-08,   2.88025426e-08,\n",
        "          8.62307730e-04,   6.89343025e-04,   2.31982504e-08,\n",
        "          6.11667261e-02,   9.73427277e-08,   1.71611168e-06,\n",
        "          5.30255477e-07,   2.86216301e-10,   1.85418949e-02,\n",
        "          5.40517804e-11,   1.58978510e-05,   2.26894597e-11,\n",
        "          2.29582347e-05,   8.53378151e-06,   1.69641818e-11,\n",
        "          2.41471207e-05,   3.85245564e-03,   2.34466917e-08,\n",
        "          1.07074557e-05,   6.79119921e-06,   4.08796303e-08,\n",
        "          1.40727550e-01,   3.17633203e-05,   1.63477689e-05,\n",
        "          5.94668109e-06,   7.72042654e-07,   6.14037178e-03,\n",
        "          1.26177599e-06,   5.47130867e-07,   1.63189980e-05,\n",
        "          1.57568472e-10,   2.69343197e-08,   4.06195646e-08,\n",
        "          2.89786869e-04,   1.64023461e-07,   3.95317678e-04,\n",
        "          3.05300290e-07,   5.71285952e-08,   1.46808657e-06,\n",
        "          2.73058713e-08,   1.50977103e-02,   1.93918770e-09,\n",
        "          2.12489886e-06,   4.06641748e-10,   8.46421462e-04,\n",
        "          1.54591689e-03,   2.63499264e-02,   3.32006160e-03,\n",
        "          2.09404643e-05,   4.88819275e-03,   4.44512324e-07,\n",
        "          9.27945599e-04,   3.45753824e-06,   7.43972341e-05,\n",
        "          2.16584951e-02,   6.06395211e-03,   5.35734125e-06,\n",
        "          2.53871968e-03,   3.27373868e-07,   2.64334649e-01,\n",
        "          5.94328194e-05,   4.49537225e-07,   1.29914843e-02,\n",
        "          5.39262965e-02,   1.16149720e-03,   7.90030509e-03,\n",
        "          3.07337334e-03,   1.48390606e-03,   1.81468886e-06,\n",
        "          8.83160453e-07,   1.50749052e-04,   1.93018321e-04,\n",
        "          3.48401642e-07,   2.04398148e-07,   5.17489039e-04,\n",
        "          4.13523594e-06,   3.65456202e-07,   4.14544280e-04,\n",
        "          1.63796408e-08,   6.00717982e-08,   6.01914564e-07,\n",
        "          6.56100428e-06,   2.60253472e-08,   3.80598794e-06,\n",
        "          3.52228562e-05,   1.26758227e-02,   9.07699764e-03,\n",
        "          2.28431281e-06,   9.30787064e-05,   1.94792901e-05,\n",
        "          8.38065669e-02,   1.53449867e-06,   1.50184306e-07,\n",
        "          1.98570651e-05,   4.64747136e-04,   1.47766900e-06,\n",
        "          7.54253222e-07,   4.43072668e-06,   7.88363803e-04,\n",
        "          2.02932418e-03,   1.37555444e-05,   2.82911856e-07,\n",
        "          5.10767168e-05,   4.14049391e-05,   3.63109139e-05,\n",
        "          1.75949594e-06,   1.53619144e-02,   2.58887758e-06,\n",
        "          2.09503992e-06,   2.75879775e-05,   1.37321763e-02,\n",
        "          3.58975522e-04,   3.02828266e-04,   6.31681833e-05,\n",
        "          2.77131926e-06,   1.21543122e-08,   2.35671341e-05,\n",
        "          2.55661621e-06]], dtype=float32)"
       ]
      }
     ],
     "prompt_number": 15
    },
    {
     "cell_type": "code",
     "collapsed": false,
     "input": [],
     "language": "python",
     "metadata": {},
     "outputs": []
    }
   ],
   "metadata": {}
  }
 ]
}