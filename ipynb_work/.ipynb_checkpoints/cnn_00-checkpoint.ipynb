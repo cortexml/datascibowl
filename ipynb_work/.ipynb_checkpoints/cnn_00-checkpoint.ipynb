{
 "metadata": {
  "name": "",
  "signature": "sha256:6b67642799aa20bdf38db1a68d9cf9859b5df6e258620d72a4659cc77f09e389"
 },
 "nbformat": 3,
 "nbformat_minor": 0,
 "worksheets": [
  {
   "cells": [
    {
     "cell_type": "markdown",
     "metadata": {},
     "source": [
      "1. Setup the yaml file\n",
      "    - data\n",
      "    - model \n",
      "    - algorithm\n",
      "    - termination criteria\n",
      "    - monitoring extensions (filename)\n",
      "    - save path (filename)\n",
      "2. Update paths/filenames in ipython notebook\n",
      "    - print monitor of best fit\n",
      "    - prediction model and save file path\n",
      "    - gzip"
     ]
    },
    {
     "cell_type": "markdown",
     "metadata": {},
     "source": [
      "In this case, the GPU computing seems to be working. Perhaps so expiriment parameters force slow work on the GPU. This are not clear yet. But I will look around pylearn docs for GPU use."
     ]
    },
    {
     "cell_type": "markdown",
     "metadata": {},
     "source": [
      "In this case, I am training and saving the best model based on NLL instead of misclass rate."
     ]
    },
    {
     "cell_type": "code",
     "collapsed": false,
     "input": [
      "import os\n",
      "import pylearn2\n",
      "from pylearn2.config import yaml_parse\n",
      "import glob\n",
      "import numpy as np\n",
      "import pickle as pkl\n",
      "import pandas as pd"
     ],
     "language": "python",
     "metadata": {},
     "outputs": [
      {
       "output_type": "stream",
       "stream": "stderr",
       "text": [
        "Using gpu device 0: GeForce GTX 550 Ti\n"
       ]
      }
     ],
     "prompt_number": 1
    },
    {
     "cell_type": "code",
     "collapsed": false,
     "input": [
      "os.environ[\"PYLEARN2_DATA_PATH\"] = \"/home/jotham/projects/2014-12-20_datascibowl/data\"\n",
      "print os.path.expandvars(\"$PYLEARN2_DATA_PATH\")"
     ],
     "language": "python",
     "metadata": {},
     "outputs": [
      {
       "output_type": "stream",
       "stream": "stdout",
       "text": [
        "/home/jotham/projects/2014-12-20_datascibowl/data\n"
       ]
      }
     ],
     "prompt_number": 2
    },
    {
     "cell_type": "code",
     "collapsed": false,
     "input": [
      "with open('mlp_01.yaml', 'r') as f:\n",
      "    train = f.read()\n",
      "save_path = '.'\n",
      "train = train %locals()"
     ],
     "language": "python",
     "metadata": {},
     "outputs": [],
     "prompt_number": 11
    },
    {
     "cell_type": "code",
     "collapsed": false,
     "input": [
      "print train"
     ],
     "language": "python",
     "metadata": {},
     "outputs": [
      {
       "output_type": "stream",
       "stream": "stdout",
       "text": [
        "!obj:pylearn2.train.Train {\n",
        "    dataset: &train !obj:pylearn2.datasets.datascibowl.DataSciBowl {\n",
        "        which_set: 'train',\n",
        "        start: 0,\n",
        "        stop: 25000,\n",
        "        shuffle: True,\n",
        "        center: True,\n",
        "    },\n",
        "    model: !obj:pylearn2.models.mlp.MLP {\n",
        "        layers: [\n",
        "                 !obj:pylearn2.models.mlp.Sigmoid {\n",
        "                     layer_name: 'h0',\n",
        "                     dim: 500,\n",
        "                     sparse_init: 15,\n",
        "                 }, !obj:pylearn2.models.mlp.Softmax {\n",
        "                     layer_name: 'y',\n",
        "                     n_classes: 121,\n",
        "                     irange: 0.\n",
        "                 }\n",
        "                ],\n",
        "        nvis: 1024,\n",
        "    },\n",
        "    algorithm: !obj:pylearn2.training_algorithms.bgd.BGD {\n",
        "        batch_size: 5000,\n",
        "        line_search_mode: 'exhaustive',\n",
        "        conjugate: 1,\n",
        "        updates_per_batch: 10,\n",
        "        monitoring_dataset:\n",
        "            {\n",
        "                'train' : *train,\n",
        "                'valid' : !obj:pylearn2.datasets.datascibowl.DataSciBowl {\n",
        "                              which_set: 'train',\n",
        "                              start: 25000,\n",
        "                              stop:  30000,\n",
        "                              shuffle: True,\n",
        "                              center: True\n",
        "                          }\n",
        "            },\n",
        "        termination_criterion: !obj:pylearn2.termination_criteria.And {\n",
        "            criteria: [\n",
        "                !obj:pylearn2.termination_criteria.MonitorBased {\n",
        "                    channel_name: \"valid_y_nll\"\n",
        "                },\n",
        "                !obj:pylearn2.termination_criteria.EpochCounter {\n",
        "                    max_epochs: 10000\n",
        "                }\n",
        "            ]\n",
        "        }\n",
        "    },\n",
        "    extensions: [\n",
        "        !obj:pylearn2.train_extensions.best_params.MonitorBasedSaveBest {\n",
        "             channel_name: 'valid_y_nll',\n",
        "             save_path: \"mlp_01_best.pkl\"\n",
        "        }\n",
        "    ],\n",
        "}\n",
        "\n"
       ]
      }
     ],
     "prompt_number": 12
    },
    {
     "cell_type": "code",
     "collapsed": false,
     "input": [
      "train = yaml_parse.load(train)\n",
      "train.main_loop()"
     ],
     "language": "python",
     "metadata": {},
     "outputs": [
      {
       "output_type": "stream",
       "stream": "stdout",
       "text": [
        "Looking for data in /home/jotham/projects/2014-12-20_datascibowl/data/datascibowl/train\n",
        "Found 30336 images"
       ]
      },
      {
       "output_type": "stream",
       "stream": "stdout",
       "text": [
        "\n",
        "Reading files from /home/jotham/projects/2014-12-20_datascibowl/data/datascibowl/train/euphausiids_young\n",
        "Reading files from /home/jotham/projects/2014-12-20_datascibowl/data/datascibowl/train/hydromedusae_narcomedusae\n",
        "Reading files from /home/jotham/projects/2014-12-20_datascibowl/data/datascibowl/train/copepod_calanoid_small_longantennae"
       ]
      },
      {
       "output_type": "stream",
       "stream": "stdout",
       "text": [
        "\n",
        "Reading files from /home/jotham/projects/2014-12-20_datascibowl/data/datascibowl/train/appendicularian_s_shape"
       ]
      },
      {
       "output_type": "stream",
       "stream": "stdout",
       "text": [
        "\n",
        "Reading files from /home/jotham/projects/2014-12-20_datascibowl/data/datascibowl/train/decapods"
       ]
      },
      {
       "output_type": "stream",
       "stream": "stdout",
       "text": [
        "\n",
        "Reading files from /home/jotham/projects/2014-12-20_datascibowl/data/datascibowl/train/hydromedusae_typeD_bell_and_tentacles\n",
        "Reading files from /home/jotham/projects/2014-12-20_datascibowl/data/datascibowl/train/crustacean_other"
       ]
      },
      {
       "output_type": "stream",
       "stream": "stdout",
       "text": [
        "\n",
        "Reading files from /home/jotham/projects/2014-12-20_datascibowl/data/datascibowl/train/hydromedusae_bell_and_tentacles"
       ]
      },
      {
       "output_type": "stream",
       "stream": "stdout",
       "text": [
        "\n",
        "Reading files from /home/jotham/projects/2014-12-20_datascibowl/data/datascibowl/train/echinoderm_larva_pluteus_brittlestar"
       ]
      },
      {
       "output_type": "stream",
       "stream": "stdout",
       "text": [
        "\n",
        "Reading files from /home/jotham/projects/2014-12-20_datascibowl/data/datascibowl/train/invertebrate_larvae_other_B\n",
        "Reading files from /home/jotham/projects/2014-12-20_datascibowl/data/datascibowl/train/hydromedusae_solmaris\n",
        "Reading files from /home/jotham/projects/2014-12-20_datascibowl/data/datascibowl/train/chaetognath_sagitta"
       ]
      },
      {
       "output_type": "stream",
       "stream": "stdout",
       "text": [
        "\n",
        "Reading files from /home/jotham/projects/2014-12-20_datascibowl/data/datascibowl/train/hydromedusae_shapeA"
       ]
      },
      {
       "output_type": "stream",
       "stream": "stdout",
       "text": [
        "\n",
        "Reading files from /home/jotham/projects/2014-12-20_datascibowl/data/datascibowl/train/hydromedusae_shapeB"
       ]
      },
      {
       "output_type": "stream",
       "stream": "stdout",
       "text": [
        "\n",
        "Reading files from /home/jotham/projects/2014-12-20_datascibowl/data/datascibowl/train/hydromedusae_haliscera"
       ]
      },
      {
       "output_type": "stream",
       "stream": "stdout",
       "text": [
        "\n",
        "Reading files from /home/jotham/projects/2014-12-20_datascibowl/data/datascibowl/train/hydromedusae_typeE"
       ]
      },
      {
       "output_type": "stream",
       "stream": "stdout",
       "text": [
        "\n",
        "Reading files from /home/jotham/projects/2014-12-20_datascibowl/data/datascibowl/train/hydromedusae_h15\n",
        "Reading files from /home/jotham/projects/2014-12-20_datascibowl/data/datascibowl/train/artifacts_edge\n",
        "Reading files from /home/jotham/projects/2014-12-20_datascibowl/data/datascibowl/train/copepod_calanoid_frillyAntennae"
       ]
      },
      {
       "output_type": "stream",
       "stream": "stdout",
       "text": [
        "\n",
        "Reading files from /home/jotham/projects/2014-12-20_datascibowl/data/datascibowl/train/copepod_calanoid_large\n",
        "Reading files from /home/jotham/projects/2014-12-20_datascibowl/data/datascibowl/train/siphonophore_calycophoran_abylidae"
       ]
      },
      {
       "output_type": "stream",
       "stream": "stdout",
       "text": [
        "\n",
        "Reading files from /home/jotham/projects/2014-12-20_datascibowl/data/datascibowl/train/invertebrate_larvae_other_A"
       ]
      },
      {
       "output_type": "stream",
       "stream": "stdout",
       "text": [
        "\n",
        "Reading files from /home/jotham/projects/2014-12-20_datascibowl/data/datascibowl/train/protist_dark_center\n",
        "Reading files from /home/jotham/projects/2014-12-20_datascibowl/data/datascibowl/train/ctenophore_cestid"
       ]
      },
      {
       "output_type": "stream",
       "stream": "stdout",
       "text": [
        "\n",
        "Reading files from /home/jotham/projects/2014-12-20_datascibowl/data/datascibowl/train/trichodesmium_tuft"
       ]
      },
      {
       "output_type": "stream",
       "stream": "stdout",
       "text": [
        "\n",
        "Reading files from /home/jotham/projects/2014-12-20_datascibowl/data/datascibowl/train/detritus_other"
       ]
      },
      {
       "output_type": "stream",
       "stream": "stdout",
       "text": [
        "\n",
        "Reading files from /home/jotham/projects/2014-12-20_datascibowl/data/datascibowl/train/tornaria_acorn_worm_larvae"
       ]
      },
      {
       "output_type": "stream",
       "stream": "stdout",
       "text": [
        "\n",
        "Reading files from /home/jotham/projects/2014-12-20_datascibowl/data/datascibowl/train/hydromedusae_other\n",
        "Reading files from /home/jotham/projects/2014-12-20_datascibowl/data/datascibowl/train/tunicate_salp\n",
        "Reading files from /home/jotham/projects/2014-12-20_datascibowl/data/datascibowl/train/shrimp_caridean"
       ]
      },
      {
       "output_type": "stream",
       "stream": "stdout",
       "text": [
        "\n",
        "Reading files from /home/jotham/projects/2014-12-20_datascibowl/data/datascibowl/train/copepod_cyclopoid_oithona\n",
        "Reading files from /home/jotham/projects/2014-12-20_datascibowl/data/datascibowl/train/hydromedusae_sideview_big"
       ]
      },
      {
       "output_type": "stream",
       "stream": "stdout",
       "text": [
        "\n",
        "Reading files from /home/jotham/projects/2014-12-20_datascibowl/data/datascibowl/train/trochophore_larvae"
       ]
      },
      {
       "output_type": "stream",
       "stream": "stdout",
       "text": [
        "\n",
        "Reading files from /home/jotham/projects/2014-12-20_datascibowl/data/datascibowl/train/artifacts\n",
        "Reading files from /home/jotham/projects/2014-12-20_datascibowl/data/datascibowl/train/acantharia_protist"
       ]
      },
      {
       "output_type": "stream",
       "stream": "stdout",
       "text": [
        "\n",
        "Reading files from /home/jotham/projects/2014-12-20_datascibowl/data/datascibowl/train/ctenophore_lobate"
       ]
      },
      {
       "output_type": "stream",
       "stream": "stdout",
       "text": [
        "\n",
        "Reading files from /home/jotham/projects/2014-12-20_datascibowl/data/datascibowl/train/copepod_calanoid_eucalanus\n",
        "Reading files from /home/jotham/projects/2014-12-20_datascibowl/data/datascibowl/train/siphonophore_calycophoran_sphaeronectes_young"
       ]
      },
      {
       "output_type": "stream",
       "stream": "stdout",
       "text": [
        "\n",
        "Reading files from /home/jotham/projects/2014-12-20_datascibowl/data/datascibowl/train/fish_larvae_myctophids"
       ]
      },
      {
       "output_type": "stream",
       "stream": "stdout",
       "text": [
        "\n",
        "Reading files from /home/jotham/projects/2014-12-20_datascibowl/data/datascibowl/train/echinoderm_larva_pluteus_early"
       ]
      },
      {
       "output_type": "stream",
       "stream": "stdout",
       "text": [
        "\n",
        "Reading files from /home/jotham/projects/2014-12-20_datascibowl/data/datascibowl/train/hydromedusae_aglaura"
       ]
      },
      {
       "output_type": "stream",
       "stream": "stdout",
       "text": [
        "\n",
        "Reading files from /home/jotham/projects/2014-12-20_datascibowl/data/datascibowl/train/echinoderm_larva_pluteus_urchin"
       ]
      },
      {
       "output_type": "stream",
       "stream": "stdout",
       "text": [
        "\n",
        "Reading files from /home/jotham/projects/2014-12-20_datascibowl/data/datascibowl/train/tunicate_partial"
       ]
      },
      {
       "output_type": "stream",
       "stream": "stdout",
       "text": [
        "\n",
        "Reading files from /home/jotham/projects/2014-12-20_datascibowl/data/datascibowl/train/pteropod_triangle"
       ]
      },
      {
       "output_type": "stream",
       "stream": "stdout",
       "text": [
        "\n",
        "Reading files from /home/jotham/projects/2014-12-20_datascibowl/data/datascibowl/train/echinoderm_seacucumber_auricularia_larva\n",
        "Reading files from /home/jotham/projects/2014-12-20_datascibowl/data/datascibowl/train/hydromedusae_typeD"
       ]
      },
      {
       "output_type": "stream",
       "stream": "stdout",
       "text": [
        "\n",
        "Reading files from /home/jotham/projects/2014-12-20_datascibowl/data/datascibowl/train/siphonophore_calycophoran_sphaeronectes\n",
        "Reading files from /home/jotham/projects/2014-12-20_datascibowl/data/datascibowl/train/chordate_type1"
       ]
      },
      {
       "output_type": "stream",
       "stream": "stdout",
       "text": [
        "\n",
        "Reading files from /home/jotham/projects/2014-12-20_datascibowl/data/datascibowl/train/trichodesmium_multiple\n",
        "Reading files from /home/jotham/projects/2014-12-20_datascibowl/data/datascibowl/train/appendicularian_straight"
       ]
      },
      {
       "output_type": "stream",
       "stream": "stdout",
       "text": [
        "\n",
        "Reading files from /home/jotham/projects/2014-12-20_datascibowl/data/datascibowl/train/appendicularian_slight_curve"
       ]
      },
      {
       "output_type": "stream",
       "stream": "stdout",
       "text": [
        "\n",
        "Reading files from /home/jotham/projects/2014-12-20_datascibowl/data/datascibowl/train/hydromedusae_typeF"
       ]
      },
      {
       "output_type": "stream",
       "stream": "stdout",
       "text": [
        "\n",
        "Reading files from /home/jotham/projects/2014-12-20_datascibowl/data/datascibowl/train/fecal_pellet\n",
        "Reading files from /home/jotham/projects/2014-12-20_datascibowl/data/datascibowl/train/hydromedusae_narco_dark"
       ]
      },
      {
       "output_type": "stream",
       "stream": "stdout",
       "text": [
        "\n",
        "Reading files from /home/jotham/projects/2014-12-20_datascibowl/data/datascibowl/train/shrimp-like_other\n",
        "Reading files from /home/jotham/projects/2014-12-20_datascibowl/data/datascibowl/train/diatom_chain_string"
       ]
      },
      {
       "output_type": "stream",
       "stream": "stdout",
       "text": [
        "\n",
        "Reading files from /home/jotham/projects/2014-12-20_datascibowl/data/datascibowl/train/fish_larvae_very_thin_body"
       ]
      },
      {
       "output_type": "stream",
       "stream": "stdout",
       "text": [
        "\n",
        "Reading files from /home/jotham/projects/2014-12-20_datascibowl/data/datascibowl/train/detritus_filamentous\n",
        "Reading files from /home/jotham/projects/2014-12-20_datascibowl/data/datascibowl/train/amphipods"
       ]
      },
      {
       "output_type": "stream",
       "stream": "stdout",
       "text": [
        "\n",
        "Reading files from /home/jotham/projects/2014-12-20_datascibowl/data/datascibowl/train/siphonophore_other_parts\n",
        "Reading files from /home/jotham/projects/2014-12-20_datascibowl/data/datascibowl/train/trichodesmium_bowtie"
       ]
      },
      {
       "output_type": "stream",
       "stream": "stdout",
       "text": [
        "\n",
        "Reading files from /home/jotham/projects/2014-12-20_datascibowl/data/datascibowl/train/siphonophore_physonect"
       ]
      },
      {
       "output_type": "stream",
       "stream": "stdout",
       "text": [
        "\n",
        "Reading files from /home/jotham/projects/2014-12-20_datascibowl/data/datascibowl/train/chaetognath_other"
       ]
      },
      {
       "output_type": "stream",
       "stream": "stdout",
       "text": [
        "\n",
        "Reading files from /home/jotham/projects/2014-12-20_datascibowl/data/datascibowl/train/pteropod_butterfly"
       ]
      },
      {
       "output_type": "stream",
       "stream": "stdout",
       "text": [
        "\n",
        "Reading files from /home/jotham/projects/2014-12-20_datascibowl/data/datascibowl/train/tunicate_salp_chains"
       ]
      },
      {
       "output_type": "stream",
       "stream": "stdout",
       "text": [
        "\n",
        "Reading files from /home/jotham/projects/2014-12-20_datascibowl/data/datascibowl/train/copepod_calanoid_eggs"
       ]
      },
      {
       "output_type": "stream",
       "stream": "stdout",
       "text": [
        "\n",
        "Reading files from /home/jotham/projects/2014-12-20_datascibowl/data/datascibowl/train/euphausiids"
       ]
      },
      {
       "output_type": "stream",
       "stream": "stdout",
       "text": [
        "\n",
        "Reading files from /home/jotham/projects/2014-12-20_datascibowl/data/datascibowl/train/copepod_other"
       ]
      },
      {
       "output_type": "stream",
       "stream": "stdout",
       "text": [
        "\n",
        "Reading files from /home/jotham/projects/2014-12-20_datascibowl/data/datascibowl/train/shrimp_zoea\n",
        "Reading files from /home/jotham/projects/2014-12-20_datascibowl/data/datascibowl/train/tunicate_doliolid_nurse"
       ]
      },
      {
       "output_type": "stream",
       "stream": "stdout",
       "text": [
        "\n",
        "Reading files from /home/jotham/projects/2014-12-20_datascibowl/data/datascibowl/train/copepod_calanoid_flatheads"
       ]
      },
      {
       "output_type": "stream",
       "stream": "stdout",
       "text": [
        "\n",
        "Reading files from /home/jotham/projects/2014-12-20_datascibowl/data/datascibowl/train/siphonophore_calycophoran_rocketship_adult"
       ]
      },
      {
       "output_type": "stream",
       "stream": "stdout",
       "text": [
        "\n",
        "Reading files from /home/jotham/projects/2014-12-20_datascibowl/data/datascibowl/train/ephyra"
       ]
      },
      {
       "output_type": "stream",
       "stream": "stdout",
       "text": [
        "\n",
        "Reading files from /home/jotham/projects/2014-12-20_datascibowl/data/datascibowl/train/copepod_calanoid\n",
        "Reading files from /home/jotham/projects/2014-12-20_datascibowl/data/datascibowl/train/fish_larvae_thin_body"
       ]
      },
      {
       "output_type": "stream",
       "stream": "stdout",
       "text": [
        "\n",
        "Reading files from /home/jotham/projects/2014-12-20_datascibowl/data/datascibowl/train/radiolarian_chain\n",
        "Reading files from /home/jotham/projects/2014-12-20_datascibowl/data/datascibowl/train/hydromedusae_shapeA_sideview_small"
       ]
      },
      {
       "output_type": "stream",
       "stream": "stdout",
       "text": [
        "\n",
        "Reading files from /home/jotham/projects/2014-12-20_datascibowl/data/datascibowl/train/fish_larvae_leptocephali"
       ]
      },
      {
       "output_type": "stream",
       "stream": "stdout",
       "text": [
        "\n",
        "Reading files from /home/jotham/projects/2014-12-20_datascibowl/data/datascibowl/train/hydromedusae_haliscera_small_sideview\n",
        "Reading files from /home/jotham/projects/2014-12-20_datascibowl/data/datascibowl/train/acantharia_protist_halo\n",
        "Reading files from /home/jotham/projects/2014-12-20_datascibowl/data/datascibowl/train/stomatopod"
       ]
      },
      {
       "output_type": "stream",
       "stream": "stdout",
       "text": [
        "\n",
        "Reading files from /home/jotham/projects/2014-12-20_datascibowl/data/datascibowl/train/protist_star\n",
        "Reading files from /home/jotham/projects/2014-12-20_datascibowl/data/datascibowl/train/protist_noctiluca"
       ]
      },
      {
       "output_type": "stream",
       "stream": "stdout",
       "text": [
        "\n",
        "Reading files from /home/jotham/projects/2014-12-20_datascibowl/data/datascibowl/train/copepod_cyclopoid_oithona_eggs"
       ]
      },
      {
       "output_type": "stream",
       "stream": "stdout",
       "text": [
        "\n",
        "Reading files from /home/jotham/projects/2014-12-20_datascibowl/data/datascibowl/train/echinoderm_larva_pluteus_typeC"
       ]
      },
      {
       "output_type": "stream",
       "stream": "stdout",
       "text": [
        "\n",
        "Reading files from /home/jotham/projects/2014-12-20_datascibowl/data/datascibowl/train/jellies_tentacles"
       ]
      },
      {
       "output_type": "stream",
       "stream": "stdout",
       "text": [
        "\n",
        "Reading files from /home/jotham/projects/2014-12-20_datascibowl/data/datascibowl/train/siphonophore_physonect_young"
       ]
      },
      {
       "output_type": "stream",
       "stream": "stdout",
       "text": [
        "\n",
        "Reading files from /home/jotham/projects/2014-12-20_datascibowl/data/datascibowl/train/detritus_blob\n",
        "Reading files from /home/jotham/projects/2014-12-20_datascibowl/data/datascibowl/train/unknown_unclassified"
       ]
      },
      {
       "output_type": "stream",
       "stream": "stdout",
       "text": [
        "\n",
        "Reading files from /home/jotham/projects/2014-12-20_datascibowl/data/datascibowl/train/unknown_sticks"
       ]
      },
      {
       "output_type": "stream",
       "stream": "stdout",
       "text": [
        "\n",
        "Reading files from /home/jotham/projects/2014-12-20_datascibowl/data/datascibowl/train/siphonophore_calycophoran_sphaeronectes_stem"
       ]
      },
      {
       "output_type": "stream",
       "stream": "stdout",
       "text": [
        "\n",
        "Reading files from /home/jotham/projects/2014-12-20_datascibowl/data/datascibowl/train/echinopluteus\n",
        "Reading files from /home/jotham/projects/2014-12-20_datascibowl/data/datascibowl/train/heteropod"
       ]
      },
      {
       "output_type": "stream",
       "stream": "stdout",
       "text": [
        "\n",
        "Reading files from /home/jotham/projects/2014-12-20_datascibowl/data/datascibowl/train/unknown_blobs_and_smudges\n",
        "Reading files from /home/jotham/projects/2014-12-20_datascibowl/data/datascibowl/train/echinoderm_larva_seastar_bipinnaria"
       ]
      },
      {
       "output_type": "stream",
       "stream": "stdout",
       "text": [
        "\n",
        "Reading files from /home/jotham/projects/2014-12-20_datascibowl/data/datascibowl/train/echinoderm_larva_seastar_brachiolaria"
       ]
      },
      {
       "output_type": "stream",
       "stream": "stdout",
       "text": [
        "\n",
        "Reading files from /home/jotham/projects/2014-12-20_datascibowl/data/datascibowl/train/copepod_cyclopoid_copilia"
       ]
      },
      {
       "output_type": "stream",
       "stream": "stdout",
       "text": [
        "\n",
        "Reading files from /home/jotham/projects/2014-12-20_datascibowl/data/datascibowl/train/chaetognath_non_sagitta\n",
        "Reading files from /home/jotham/projects/2014-12-20_datascibowl/data/datascibowl/train/tunicate_doliolid"
       ]
      },
      {
       "output_type": "stream",
       "stream": "stdout",
       "text": [
        "\n",
        "Reading files from /home/jotham/projects/2014-12-20_datascibowl/data/datascibowl/train/hydromedusae_liriope"
       ]
      },
      {
       "output_type": "stream",
       "stream": "stdout",
       "text": [
        "\n",
        "Reading files from /home/jotham/projects/2014-12-20_datascibowl/data/datascibowl/train/ctenophore_cydippid_tentacles\n",
        "Reading files from /home/jotham/projects/2014-12-20_datascibowl/data/datascibowl/train/siphonophore_calycophoran_rocketship_young"
       ]
      },
      {
       "output_type": "stream",
       "stream": "stdout",
       "text": [
        "\n",
        "Reading files from /home/jotham/projects/2014-12-20_datascibowl/data/datascibowl/train/copepod_calanoid_large_side_antennatucked"
       ]
      },
      {
       "output_type": "stream",
       "stream": "stdout",
       "text": [
        "\n",
        "Reading files from /home/jotham/projects/2014-12-20_datascibowl/data/datascibowl/train/fish_larvae_deep_body"
       ]
      },
      {
       "output_type": "stream",
       "stream": "stdout",
       "text": [
        "\n",
        "Reading files from /home/jotham/projects/2014-12-20_datascibowl/data/datascibowl/train/ctenophore_cydippid_no_tentacles\n",
        "Reading files from /home/jotham/projects/2014-12-20_datascibowl/data/datascibowl/train/hydromedusae_solmundella\n",
        "Reading files from /home/jotham/projects/2014-12-20_datascibowl/data/datascibowl/train/trichodesmium_puff"
       ]
      },
      {
       "output_type": "stream",
       "stream": "stdout",
       "text": [
        "\n",
        "Reading files from /home/jotham/projects/2014-12-20_datascibowl/data/datascibowl/train/hydromedusae_partial_dark"
       ]
      },
      {
       "output_type": "stream",
       "stream": "stdout",
       "text": [
        "\n",
        "Reading files from /home/jotham/projects/2014-12-20_datascibowl/data/datascibowl/train/hydromedusae_narco_young"
       ]
      },
      {
       "output_type": "stream",
       "stream": "stdout",
       "text": [
        "\n",
        "Reading files from /home/jotham/projects/2014-12-20_datascibowl/data/datascibowl/train/polychaete"
       ]
      },
      {
       "output_type": "stream",
       "stream": "stdout",
       "text": [
        "\n",
        "Reading files from /home/jotham/projects/2014-12-20_datascibowl/data/datascibowl/train/protist_other"
       ]
      },
      {
       "output_type": "stream",
       "stream": "stdout",
       "text": [
        "\n",
        "Reading files from /home/jotham/projects/2014-12-20_datascibowl/data/datascibowl/train/copepod_calanoid_octomoms"
       ]
      },
      {
       "output_type": "stream",
       "stream": "stdout",
       "text": [
        "\n",
        "Reading files from /home/jotham/projects/2014-12-20_datascibowl/data/datascibowl/train/acantharia_protist_big_center\n",
        "Reading files from /home/jotham/projects/2014-12-20_datascibowl/data/datascibowl/train/diatom_chain_tube\n",
        "Reading files from /home/jotham/projects/2014-12-20_datascibowl/data/datascibowl/train/fish_larvae_medium_body"
       ]
      },
      {
       "output_type": "stream",
       "stream": "stdout",
       "text": [
        "\n",
        "Reading files from /home/jotham/projects/2014-12-20_datascibowl/data/datascibowl/train/shrimp_sergestidae"
       ]
      },
      {
       "output_type": "stream",
       "stream": "stdout",
       "text": [
        "\n",
        "Reading files from /home/jotham/projects/2014-12-20_datascibowl/data/datascibowl/train/pteropod_theco_dev_seq"
       ]
      },
      {
       "output_type": "stream",
       "stream": "stdout",
       "text": [
        "\n",
        "Reading files from /home/jotham/projects/2014-12-20_datascibowl/data/datascibowl/train/siphonophore_partial\n",
        "Reading files from /home/jotham/projects/2014-12-20_datascibowl/data/datascibowl/train/protist_fuzzy_olive\n",
        "Reading files from /home/jotham/projects/2014-12-20_datascibowl/data/datascibowl/train/appendicularian_fritillaridae"
       ]
      },
      {
       "output_type": "stream",
       "stream": "stdout",
       "text": [
        "\n",
        "Reading files from /home/jotham/projects/2014-12-20_datascibowl/data/datascibowl/train/radiolarian_colony\n",
        "topo_view.shape: (30336, 32, 32, 1)"
       ]
      },
      {
       "output_type": "stream",
       "stream": "stdout",
       "text": [
        "\n",
        "NAs: 0\n",
        "Swapping 0 and 24158\n",
        "Swapping 1000 and 507\n",
        "Swapping 2000 and 10329\n",
        "Swapping 3000 and 12566"
       ]
      },
      {
       "output_type": "stream",
       "stream": "stdout",
       "text": [
        "\n",
        "Swapping 4000 and 5782\n",
        "Swapping 5000 and 14421\n",
        "Swapping 6000 and 25855\n",
        "Swapping 7000 and 19226\n",
        "Swapping 8000 and 5480\n",
        "Swapping 9000 and 14824"
       ]
      },
      {
       "output_type": "stream",
       "stream": "stdout",
       "text": [
        "\n",
        "Swapping 10000 and 7481\n",
        "Swapping 11000 and 4899\n",
        "Swapping 12000 and 547\n",
        "Swapping 13000 and 17117\n",
        "Swapping 14000 and 15848\n",
        "Swapping 15000 and 26705\n",
        "Swapping 16000 and 11752"
       ]
      },
      {
       "output_type": "stream",
       "stream": "stdout",
       "text": [
        "\n",
        "Swapping 17000 and 13157\n",
        "Swapping 18000 and 19743\n",
        "Swapping 19000 and 29262\n",
        "Swapping 20000 and 10984\n",
        "Swapping 21000 and 9312\n",
        "Swapping 22000 and 14681"
       ]
      },
      {
       "output_type": "stream",
       "stream": "stdout",
       "text": [
        "\n",
        "Swapping 23000 and 22392\n",
        "Swapping 24000 and 8749\n",
        "Swapping 25000 and 14310\n",
        "Swapping 26000 and 223\n",
        "Swapping 27000 and 9727\n",
        "Swapping 28000 and 13098\n",
        "Swapping 29000 and 4946"
       ]
      },
      {
       "output_type": "stream",
       "stream": "stdout",
       "text": [
        "\n",
        "Swapping 30000 and 19434\n",
        "Looking for data in /home/jotham/projects/2014-12-20_datascibowl/data/datascibowl/train\n",
        "Found 30336 images"
       ]
      },
      {
       "output_type": "stream",
       "stream": "stdout",
       "text": [
        "\n",
        "Reading files from /home/jotham/projects/2014-12-20_datascibowl/data/datascibowl/train/euphausiids_young\n",
        "Reading files from /home/jotham/projects/2014-12-20_datascibowl/data/datascibowl/train/hydromedusae_narcomedusae\n",
        "Reading files from /home/jotham/projects/2014-12-20_datascibowl/data/datascibowl/train/copepod_calanoid_small_longantennae"
       ]
      },
      {
       "output_type": "stream",
       "stream": "stdout",
       "text": [
        "\n",
        "Reading files from /home/jotham/projects/2014-12-20_datascibowl/data/datascibowl/train/appendicularian_s_shape"
       ]
      },
      {
       "output_type": "stream",
       "stream": "stdout",
       "text": [
        "\n",
        "Reading files from /home/jotham/projects/2014-12-20_datascibowl/data/datascibowl/train/decapods"
       ]
      },
      {
       "output_type": "stream",
       "stream": "stdout",
       "text": [
        "\n",
        "Reading files from /home/jotham/projects/2014-12-20_datascibowl/data/datascibowl/train/hydromedusae_typeD_bell_and_tentacles\n",
        "Reading files from /home/jotham/projects/2014-12-20_datascibowl/data/datascibowl/train/crustacean_other"
       ]
      },
      {
       "output_type": "stream",
       "stream": "stdout",
       "text": [
        "\n",
        "Reading files from /home/jotham/projects/2014-12-20_datascibowl/data/datascibowl/train/hydromedusae_bell_and_tentacles"
       ]
      },
      {
       "output_type": "stream",
       "stream": "stdout",
       "text": [
        "\n",
        "Reading files from /home/jotham/projects/2014-12-20_datascibowl/data/datascibowl/train/echinoderm_larva_pluteus_brittlestar"
       ]
      },
      {
       "output_type": "stream",
       "stream": "stdout",
       "text": [
        "\n",
        "Reading files from /home/jotham/projects/2014-12-20_datascibowl/data/datascibowl/train/invertebrate_larvae_other_B\n",
        "Reading files from /home/jotham/projects/2014-12-20_datascibowl/data/datascibowl/train/hydromedusae_solmaris\n",
        "Reading files from /home/jotham/projects/2014-12-20_datascibowl/data/datascibowl/train/chaetognath_sagitta"
       ]
      },
      {
       "output_type": "stream",
       "stream": "stdout",
       "text": [
        "\n",
        "Reading files from /home/jotham/projects/2014-12-20_datascibowl/data/datascibowl/train/hydromedusae_shapeA"
       ]
      },
      {
       "output_type": "stream",
       "stream": "stdout",
       "text": [
        "\n",
        "Reading files from /home/jotham/projects/2014-12-20_datascibowl/data/datascibowl/train/hydromedusae_shapeB"
       ]
      },
      {
       "output_type": "stream",
       "stream": "stdout",
       "text": [
        "\n",
        "Reading files from /home/jotham/projects/2014-12-20_datascibowl/data/datascibowl/train/hydromedusae_haliscera"
       ]
      },
      {
       "output_type": "stream",
       "stream": "stdout",
       "text": [
        "\n",
        "Reading files from /home/jotham/projects/2014-12-20_datascibowl/data/datascibowl/train/hydromedusae_typeE"
       ]
      },
      {
       "output_type": "stream",
       "stream": "stdout",
       "text": [
        "\n",
        "Reading files from /home/jotham/projects/2014-12-20_datascibowl/data/datascibowl/train/hydromedusae_h15\n",
        "Reading files from /home/jotham/projects/2014-12-20_datascibowl/data/datascibowl/train/artifacts_edge\n",
        "Reading files from /home/jotham/projects/2014-12-20_datascibowl/data/datascibowl/train/copepod_calanoid_frillyAntennae"
       ]
      },
      {
       "output_type": "stream",
       "stream": "stdout",
       "text": [
        "\n",
        "Reading files from /home/jotham/projects/2014-12-20_datascibowl/data/datascibowl/train/copepod_calanoid_large\n",
        "Reading files from /home/jotham/projects/2014-12-20_datascibowl/data/datascibowl/train/siphonophore_calycophoran_abylidae"
       ]
      },
      {
       "output_type": "stream",
       "stream": "stdout",
       "text": [
        "\n",
        "Reading files from /home/jotham/projects/2014-12-20_datascibowl/data/datascibowl/train/invertebrate_larvae_other_A"
       ]
      },
      {
       "output_type": "stream",
       "stream": "stdout",
       "text": [
        "\n",
        "Reading files from /home/jotham/projects/2014-12-20_datascibowl/data/datascibowl/train/protist_dark_center\n",
        "Reading files from /home/jotham/projects/2014-12-20_datascibowl/data/datascibowl/train/ctenophore_cestid"
       ]
      },
      {
       "output_type": "stream",
       "stream": "stdout",
       "text": [
        "\n",
        "Reading files from /home/jotham/projects/2014-12-20_datascibowl/data/datascibowl/train/trichodesmium_tuft"
       ]
      },
      {
       "output_type": "stream",
       "stream": "stdout",
       "text": [
        "\n",
        "Reading files from /home/jotham/projects/2014-12-20_datascibowl/data/datascibowl/train/detritus_other"
       ]
      },
      {
       "output_type": "stream",
       "stream": "stdout",
       "text": [
        "\n",
        "Reading files from /home/jotham/projects/2014-12-20_datascibowl/data/datascibowl/train/tornaria_acorn_worm_larvae"
       ]
      },
      {
       "output_type": "stream",
       "stream": "stdout",
       "text": [
        "\n",
        "Reading files from /home/jotham/projects/2014-12-20_datascibowl/data/datascibowl/train/hydromedusae_other\n",
        "Reading files from /home/jotham/projects/2014-12-20_datascibowl/data/datascibowl/train/tunicate_salp\n",
        "Reading files from /home/jotham/projects/2014-12-20_datascibowl/data/datascibowl/train/shrimp_caridean"
       ]
      },
      {
       "output_type": "stream",
       "stream": "stdout",
       "text": [
        "\n",
        "Reading files from /home/jotham/projects/2014-12-20_datascibowl/data/datascibowl/train/copepod_cyclopoid_oithona\n",
        "Reading files from /home/jotham/projects/2014-12-20_datascibowl/data/datascibowl/train/hydromedusae_sideview_big"
       ]
      },
      {
       "output_type": "stream",
       "stream": "stdout",
       "text": [
        "\n",
        "Reading files from /home/jotham/projects/2014-12-20_datascibowl/data/datascibowl/train/trochophore_larvae"
       ]
      },
      {
       "output_type": "stream",
       "stream": "stdout",
       "text": [
        "\n",
        "Reading files from /home/jotham/projects/2014-12-20_datascibowl/data/datascibowl/train/artifacts\n",
        "Reading files from /home/jotham/projects/2014-12-20_datascibowl/data/datascibowl/train/acantharia_protist"
       ]
      },
      {
       "output_type": "stream",
       "stream": "stdout",
       "text": [
        "\n",
        "Reading files from /home/jotham/projects/2014-12-20_datascibowl/data/datascibowl/train/ctenophore_lobate"
       ]
      },
      {
       "output_type": "stream",
       "stream": "stdout",
       "text": [
        "\n",
        "Reading files from /home/jotham/projects/2014-12-20_datascibowl/data/datascibowl/train/copepod_calanoid_eucalanus\n",
        "Reading files from /home/jotham/projects/2014-12-20_datascibowl/data/datascibowl/train/siphonophore_calycophoran_sphaeronectes_young"
       ]
      },
      {
       "output_type": "stream",
       "stream": "stdout",
       "text": [
        "\n",
        "Reading files from /home/jotham/projects/2014-12-20_datascibowl/data/datascibowl/train/fish_larvae_myctophids"
       ]
      },
      {
       "output_type": "stream",
       "stream": "stdout",
       "text": [
        "\n",
        "Reading files from /home/jotham/projects/2014-12-20_datascibowl/data/datascibowl/train/echinoderm_larva_pluteus_early"
       ]
      },
      {
       "output_type": "stream",
       "stream": "stdout",
       "text": [
        "\n",
        "Reading files from /home/jotham/projects/2014-12-20_datascibowl/data/datascibowl/train/hydromedusae_aglaura"
       ]
      },
      {
       "output_type": "stream",
       "stream": "stdout",
       "text": [
        "\n",
        "Reading files from /home/jotham/projects/2014-12-20_datascibowl/data/datascibowl/train/echinoderm_larva_pluteus_urchin"
       ]
      },
      {
       "output_type": "stream",
       "stream": "stdout",
       "text": [
        "\n",
        "Reading files from /home/jotham/projects/2014-12-20_datascibowl/data/datascibowl/train/tunicate_partial"
       ]
      },
      {
       "output_type": "stream",
       "stream": "stdout",
       "text": [
        "\n",
        "Reading files from /home/jotham/projects/2014-12-20_datascibowl/data/datascibowl/train/pteropod_triangle"
       ]
      },
      {
       "output_type": "stream",
       "stream": "stdout",
       "text": [
        "\n",
        "Reading files from /home/jotham/projects/2014-12-20_datascibowl/data/datascibowl/train/echinoderm_seacucumber_auricularia_larva\n",
        "Reading files from /home/jotham/projects/2014-12-20_datascibowl/data/datascibowl/train/hydromedusae_typeD"
       ]
      },
      {
       "output_type": "stream",
       "stream": "stdout",
       "text": [
        "\n",
        "Reading files from /home/jotham/projects/2014-12-20_datascibowl/data/datascibowl/train/siphonophore_calycophoran_sphaeronectes\n",
        "Reading files from /home/jotham/projects/2014-12-20_datascibowl/data/datascibowl/train/chordate_type1"
       ]
      },
      {
       "output_type": "stream",
       "stream": "stdout",
       "text": [
        "\n",
        "Reading files from /home/jotham/projects/2014-12-20_datascibowl/data/datascibowl/train/trichodesmium_multiple\n",
        "Reading files from /home/jotham/projects/2014-12-20_datascibowl/data/datascibowl/train/appendicularian_straight"
       ]
      },
      {
       "output_type": "stream",
       "stream": "stdout",
       "text": [
        "\n",
        "Reading files from /home/jotham/projects/2014-12-20_datascibowl/data/datascibowl/train/appendicularian_slight_curve"
       ]
      },
      {
       "output_type": "stream",
       "stream": "stdout",
       "text": [
        "\n",
        "Reading files from /home/jotham/projects/2014-12-20_datascibowl/data/datascibowl/train/hydromedusae_typeF"
       ]
      },
      {
       "output_type": "stream",
       "stream": "stdout",
       "text": [
        "\n",
        "Reading files from /home/jotham/projects/2014-12-20_datascibowl/data/datascibowl/train/fecal_pellet\n",
        "Reading files from /home/jotham/projects/2014-12-20_datascibowl/data/datascibowl/train/hydromedusae_narco_dark"
       ]
      },
      {
       "output_type": "stream",
       "stream": "stdout",
       "text": [
        "\n",
        "Reading files from /home/jotham/projects/2014-12-20_datascibowl/data/datascibowl/train/shrimp-like_other\n",
        "Reading files from /home/jotham/projects/2014-12-20_datascibowl/data/datascibowl/train/diatom_chain_string"
       ]
      },
      {
       "output_type": "stream",
       "stream": "stdout",
       "text": [
        "\n",
        "Reading files from /home/jotham/projects/2014-12-20_datascibowl/data/datascibowl/train/fish_larvae_very_thin_body"
       ]
      },
      {
       "output_type": "stream",
       "stream": "stdout",
       "text": [
        "\n",
        "Reading files from /home/jotham/projects/2014-12-20_datascibowl/data/datascibowl/train/detritus_filamentous\n",
        "Reading files from /home/jotham/projects/2014-12-20_datascibowl/data/datascibowl/train/amphipods"
       ]
      },
      {
       "output_type": "stream",
       "stream": "stdout",
       "text": [
        "\n",
        "Reading files from /home/jotham/projects/2014-12-20_datascibowl/data/datascibowl/train/siphonophore_other_parts\n",
        "Reading files from /home/jotham/projects/2014-12-20_datascibowl/data/datascibowl/train/trichodesmium_bowtie"
       ]
      },
      {
       "output_type": "stream",
       "stream": "stdout",
       "text": [
        "\n",
        "Reading files from /home/jotham/projects/2014-12-20_datascibowl/data/datascibowl/train/siphonophore_physonect"
       ]
      },
      {
       "output_type": "stream",
       "stream": "stdout",
       "text": [
        "\n",
        "Reading files from /home/jotham/projects/2014-12-20_datascibowl/data/datascibowl/train/chaetognath_other"
       ]
      },
      {
       "output_type": "stream",
       "stream": "stdout",
       "text": [
        "\n",
        "Reading files from /home/jotham/projects/2014-12-20_datascibowl/data/datascibowl/train/pteropod_butterfly"
       ]
      },
      {
       "output_type": "stream",
       "stream": "stdout",
       "text": [
        "\n",
        "Reading files from /home/jotham/projects/2014-12-20_datascibowl/data/datascibowl/train/tunicate_salp_chains"
       ]
      },
      {
       "output_type": "stream",
       "stream": "stdout",
       "text": [
        "\n",
        "Reading files from /home/jotham/projects/2014-12-20_datascibowl/data/datascibowl/train/copepod_calanoid_eggs"
       ]
      },
      {
       "output_type": "stream",
       "stream": "stdout",
       "text": [
        "\n",
        "Reading files from /home/jotham/projects/2014-12-20_datascibowl/data/datascibowl/train/euphausiids"
       ]
      },
      {
       "output_type": "stream",
       "stream": "stdout",
       "text": [
        "\n",
        "Reading files from /home/jotham/projects/2014-12-20_datascibowl/data/datascibowl/train/copepod_other"
       ]
      },
      {
       "output_type": "stream",
       "stream": "stdout",
       "text": [
        "\n",
        "Reading files from /home/jotham/projects/2014-12-20_datascibowl/data/datascibowl/train/shrimp_zoea\n",
        "Reading files from /home/jotham/projects/2014-12-20_datascibowl/data/datascibowl/train/tunicate_doliolid_nurse"
       ]
      },
      {
       "output_type": "stream",
       "stream": "stdout",
       "text": [
        "\n",
        "Reading files from /home/jotham/projects/2014-12-20_datascibowl/data/datascibowl/train/copepod_calanoid_flatheads"
       ]
      },
      {
       "output_type": "stream",
       "stream": "stdout",
       "text": [
        "\n",
        "Reading files from /home/jotham/projects/2014-12-20_datascibowl/data/datascibowl/train/siphonophore_calycophoran_rocketship_adult"
       ]
      },
      {
       "output_type": "stream",
       "stream": "stdout",
       "text": [
        "\n",
        "Reading files from /home/jotham/projects/2014-12-20_datascibowl/data/datascibowl/train/ephyra"
       ]
      },
      {
       "output_type": "stream",
       "stream": "stdout",
       "text": [
        "\n",
        "Reading files from /home/jotham/projects/2014-12-20_datascibowl/data/datascibowl/train/copepod_calanoid\n",
        "Reading files from /home/jotham/projects/2014-12-20_datascibowl/data/datascibowl/train/fish_larvae_thin_body"
       ]
      },
      {
       "output_type": "stream",
       "stream": "stdout",
       "text": [
        "\n",
        "Reading files from /home/jotham/projects/2014-12-20_datascibowl/data/datascibowl/train/radiolarian_chain\n",
        "Reading files from /home/jotham/projects/2014-12-20_datascibowl/data/datascibowl/train/hydromedusae_shapeA_sideview_small"
       ]
      },
      {
       "output_type": "stream",
       "stream": "stdout",
       "text": [
        "\n",
        "Reading files from /home/jotham/projects/2014-12-20_datascibowl/data/datascibowl/train/fish_larvae_leptocephali"
       ]
      },
      {
       "output_type": "stream",
       "stream": "stdout",
       "text": [
        "\n",
        "Reading files from /home/jotham/projects/2014-12-20_datascibowl/data/datascibowl/train/hydromedusae_haliscera_small_sideview\n",
        "Reading files from /home/jotham/projects/2014-12-20_datascibowl/data/datascibowl/train/acantharia_protist_halo\n",
        "Reading files from /home/jotham/projects/2014-12-20_datascibowl/data/datascibowl/train/stomatopod"
       ]
      },
      {
       "output_type": "stream",
       "stream": "stdout",
       "text": [
        "\n",
        "Reading files from /home/jotham/projects/2014-12-20_datascibowl/data/datascibowl/train/protist_star\n",
        "Reading files from /home/jotham/projects/2014-12-20_datascibowl/data/datascibowl/train/protist_noctiluca"
       ]
      },
      {
       "output_type": "stream",
       "stream": "stdout",
       "text": [
        "\n",
        "Reading files from /home/jotham/projects/2014-12-20_datascibowl/data/datascibowl/train/copepod_cyclopoid_oithona_eggs"
       ]
      },
      {
       "output_type": "stream",
       "stream": "stdout",
       "text": [
        "\n",
        "Reading files from /home/jotham/projects/2014-12-20_datascibowl/data/datascibowl/train/echinoderm_larva_pluteus_typeC"
       ]
      },
      {
       "output_type": "stream",
       "stream": "stdout",
       "text": [
        "\n",
        "Reading files from /home/jotham/projects/2014-12-20_datascibowl/data/datascibowl/train/jellies_tentacles"
       ]
      },
      {
       "output_type": "stream",
       "stream": "stdout",
       "text": [
        "\n",
        "Reading files from /home/jotham/projects/2014-12-20_datascibowl/data/datascibowl/train/siphonophore_physonect_young"
       ]
      },
      {
       "output_type": "stream",
       "stream": "stdout",
       "text": [
        "\n",
        "Reading files from /home/jotham/projects/2014-12-20_datascibowl/data/datascibowl/train/detritus_blob\n",
        "Reading files from /home/jotham/projects/2014-12-20_datascibowl/data/datascibowl/train/unknown_unclassified"
       ]
      },
      {
       "output_type": "stream",
       "stream": "stdout",
       "text": [
        "\n",
        "Reading files from /home/jotham/projects/2014-12-20_datascibowl/data/datascibowl/train/unknown_sticks"
       ]
      },
      {
       "output_type": "stream",
       "stream": "stdout",
       "text": [
        "\n",
        "Reading files from /home/jotham/projects/2014-12-20_datascibowl/data/datascibowl/train/siphonophore_calycophoran_sphaeronectes_stem"
       ]
      },
      {
       "output_type": "stream",
       "stream": "stdout",
       "text": [
        "\n",
        "Reading files from /home/jotham/projects/2014-12-20_datascibowl/data/datascibowl/train/echinopluteus\n",
        "Reading files from /home/jotham/projects/2014-12-20_datascibowl/data/datascibowl/train/heteropod"
       ]
      },
      {
       "output_type": "stream",
       "stream": "stdout",
       "text": [
        "\n",
        "Reading files from /home/jotham/projects/2014-12-20_datascibowl/data/datascibowl/train/unknown_blobs_and_smudges\n",
        "Reading files from /home/jotham/projects/2014-12-20_datascibowl/data/datascibowl/train/echinoderm_larva_seastar_bipinnaria"
       ]
      },
      {
       "output_type": "stream",
       "stream": "stdout",
       "text": [
        "\n",
        "Reading files from /home/jotham/projects/2014-12-20_datascibowl/data/datascibowl/train/echinoderm_larva_seastar_brachiolaria"
       ]
      },
      {
       "output_type": "stream",
       "stream": "stdout",
       "text": [
        "\n",
        "Reading files from /home/jotham/projects/2014-12-20_datascibowl/data/datascibowl/train/copepod_cyclopoid_copilia"
       ]
      },
      {
       "output_type": "stream",
       "stream": "stdout",
       "text": [
        "\n",
        "Reading files from /home/jotham/projects/2014-12-20_datascibowl/data/datascibowl/train/chaetognath_non_sagitta\n",
        "Reading files from /home/jotham/projects/2014-12-20_datascibowl/data/datascibowl/train/tunicate_doliolid"
       ]
      },
      {
       "output_type": "stream",
       "stream": "stdout",
       "text": [
        "\n",
        "Reading files from /home/jotham/projects/2014-12-20_datascibowl/data/datascibowl/train/hydromedusae_liriope"
       ]
      },
      {
       "output_type": "stream",
       "stream": "stdout",
       "text": [
        "\n",
        "Reading files from /home/jotham/projects/2014-12-20_datascibowl/data/datascibowl/train/ctenophore_cydippid_tentacles\n",
        "Reading files from /home/jotham/projects/2014-12-20_datascibowl/data/datascibowl/train/siphonophore_calycophoran_rocketship_young"
       ]
      },
      {
       "output_type": "stream",
       "stream": "stdout",
       "text": [
        "\n",
        "Reading files from /home/jotham/projects/2014-12-20_datascibowl/data/datascibowl/train/copepod_calanoid_large_side_antennatucked"
       ]
      },
      {
       "output_type": "stream",
       "stream": "stdout",
       "text": [
        "\n",
        "Reading files from /home/jotham/projects/2014-12-20_datascibowl/data/datascibowl/train/fish_larvae_deep_body"
       ]
      },
      {
       "output_type": "stream",
       "stream": "stdout",
       "text": [
        "\n",
        "Reading files from /home/jotham/projects/2014-12-20_datascibowl/data/datascibowl/train/ctenophore_cydippid_no_tentacles\n",
        "Reading files from /home/jotham/projects/2014-12-20_datascibowl/data/datascibowl/train/hydromedusae_solmundella\n",
        "Reading files from /home/jotham/projects/2014-12-20_datascibowl/data/datascibowl/train/trichodesmium_puff"
       ]
      },
      {
       "output_type": "stream",
       "stream": "stdout",
       "text": [
        "\n",
        "Reading files from /home/jotham/projects/2014-12-20_datascibowl/data/datascibowl/train/hydromedusae_partial_dark"
       ]
      },
      {
       "output_type": "stream",
       "stream": "stdout",
       "text": [
        "\n",
        "Reading files from /home/jotham/projects/2014-12-20_datascibowl/data/datascibowl/train/hydromedusae_narco_young"
       ]
      },
      {
       "output_type": "stream",
       "stream": "stdout",
       "text": [
        "\n",
        "Reading files from /home/jotham/projects/2014-12-20_datascibowl/data/datascibowl/train/polychaete"
       ]
      },
      {
       "output_type": "stream",
       "stream": "stdout",
       "text": [
        "\n",
        "Reading files from /home/jotham/projects/2014-12-20_datascibowl/data/datascibowl/train/protist_other"
       ]
      },
      {
       "output_type": "stream",
       "stream": "stdout",
       "text": [
        "\n",
        "Reading files from /home/jotham/projects/2014-12-20_datascibowl/data/datascibowl/train/copepod_calanoid_octomoms"
       ]
      },
      {
       "output_type": "stream",
       "stream": "stdout",
       "text": [
        "\n",
        "Reading files from /home/jotham/projects/2014-12-20_datascibowl/data/datascibowl/train/acantharia_protist_big_center\n",
        "Reading files from /home/jotham/projects/2014-12-20_datascibowl/data/datascibowl/train/diatom_chain_tube\n",
        "Reading files from /home/jotham/projects/2014-12-20_datascibowl/data/datascibowl/train/fish_larvae_medium_body"
       ]
      },
      {
       "output_type": "stream",
       "stream": "stdout",
       "text": [
        "\n",
        "Reading files from /home/jotham/projects/2014-12-20_datascibowl/data/datascibowl/train/shrimp_sergestidae"
       ]
      },
      {
       "output_type": "stream",
       "stream": "stdout",
       "text": [
        "\n",
        "Reading files from /home/jotham/projects/2014-12-20_datascibowl/data/datascibowl/train/pteropod_theco_dev_seq"
       ]
      },
      {
       "output_type": "stream",
       "stream": "stdout",
       "text": [
        "\n",
        "Reading files from /home/jotham/projects/2014-12-20_datascibowl/data/datascibowl/train/siphonophore_partial\n",
        "Reading files from /home/jotham/projects/2014-12-20_datascibowl/data/datascibowl/train/protist_fuzzy_olive\n",
        "Reading files from /home/jotham/projects/2014-12-20_datascibowl/data/datascibowl/train/appendicularian_fritillaridae"
       ]
      },
      {
       "output_type": "stream",
       "stream": "stdout",
       "text": [
        "\n",
        "Reading files from /home/jotham/projects/2014-12-20_datascibowl/data/datascibowl/train/radiolarian_colony\n",
        "topo_view.shape: (30336, 32, 32, 1)"
       ]
      },
      {
       "output_type": "stream",
       "stream": "stdout",
       "text": [
        "\n",
        "NAs: 0\n",
        "Swapping 0 and 24158\n",
        "Swapping 1000 and 507\n",
        "Swapping 2000 and 10329\n",
        "Swapping 3000 and 12566\n",
        "Swapping 4000 and 5782"
       ]
      },
      {
       "output_type": "stream",
       "stream": "stdout",
       "text": [
        "\n",
        "Swapping 5000 and 14421\n",
        "Swapping 6000 and 25855\n",
        "Swapping 7000 and 19226\n",
        "Swapping 8000 and 5480\n",
        "Swapping 9000 and 14824\n",
        "Swapping 10000 and 7481\n",
        "Swapping 11000 and 4899"
       ]
      },
      {
       "output_type": "stream",
       "stream": "stdout",
       "text": [
        "\n",
        "Swapping 12000 and 547\n",
        "Swapping 13000 and 17117\n",
        "Swapping 14000 and 15848\n",
        "Swapping 15000 and 26705\n",
        "Swapping 16000 and 11752\n",
        "Swapping 17000 and 13157\n",
        "Swapping 18000 and 19743"
       ]
      },
      {
       "output_type": "stream",
       "stream": "stdout",
       "text": [
        "\n",
        "Swapping 19000 and 29262\n",
        "Swapping 20000 and 10984\n",
        "Swapping 21000 and 9312\n",
        "Swapping 22000 and 14681\n",
        "Swapping 23000 and 22392\n",
        "Swapping 24000 and 8749\n",
        "Swapping 25000 and 14310"
       ]
      },
      {
       "output_type": "stream",
       "stream": "stdout",
       "text": [
        "\n",
        "Swapping 26000 and 223\n",
        "Swapping 27000 and 9727\n",
        "Swapping 28000 and 13098\n",
        "Swapping 29000 and 4946\n",
        "Swapping 30000 and 19434\n",
        "compiling begin_record_entry...\n"
       ]
      },
      {
       "output_type": "stream",
       "stream": "stdout",
       "text": [
        "compiling begin_record_entry done. Time elapsed: 0.140899 seconds\n"
       ]
      },
      {
       "output_type": "stream",
       "stream": "stdout",
       "text": [
        "Monitored channels: \n"
       ]
      },
      {
       "output_type": "stream",
       "stream": "stdout",
       "text": [
        "\tave_grad_mult\n"
       ]
      },
      {
       "output_type": "stream",
       "stream": "stdout",
       "text": [
        "\tave_grad_size\n"
       ]
      },
      {
       "output_type": "stream",
       "stream": "stdout",
       "text": [
        "\tave_step_size\n"
       ]
      },
      {
       "output_type": "stream",
       "stream": "stdout",
       "text": [
        "\ttotal_seconds_last_epoch\n"
       ]
      },
      {
       "output_type": "stream",
       "stream": "stdout",
       "text": [
        "\ttrain_h0_col_norms_max\n"
       ]
      },
      {
       "output_type": "stream",
       "stream": "stdout",
       "text": [
        "\ttrain_h0_col_norms_mean\n"
       ]
      },
      {
       "output_type": "stream",
       "stream": "stdout",
       "text": [
        "\ttrain_h0_col_norms_min\n"
       ]
      },
      {
       "output_type": "stream",
       "stream": "stdout",
       "text": [
        "\ttrain_h0_max_x_max_u\n"
       ]
      },
      {
       "output_type": "stream",
       "stream": "stdout",
       "text": [
        "\ttrain_h0_max_x_mean_u\n"
       ]
      },
      {
       "output_type": "stream",
       "stream": "stdout",
       "text": [
        "\ttrain_h0_max_x_min_u\n"
       ]
      },
      {
       "output_type": "stream",
       "stream": "stdout",
       "text": [
        "\ttrain_h0_mean_x_max_u\n"
       ]
      },
      {
       "output_type": "stream",
       "stream": "stdout",
       "text": [
        "\ttrain_h0_mean_x_mean_u\n"
       ]
      },
      {
       "output_type": "stream",
       "stream": "stdout",
       "text": [
        "\ttrain_h0_mean_x_min_u\n"
       ]
      },
      {
       "output_type": "stream",
       "stream": "stdout",
       "text": [
        "\ttrain_h0_min_x_max_u\n"
       ]
      },
      {
       "output_type": "stream",
       "stream": "stdout",
       "text": [
        "\ttrain_h0_min_x_mean_u\n"
       ]
      },
      {
       "output_type": "stream",
       "stream": "stdout",
       "text": [
        "\ttrain_h0_min_x_min_u\n"
       ]
      },
      {
       "output_type": "stream",
       "stream": "stdout",
       "text": [
        "\ttrain_h0_range_x_max_u\n"
       ]
      },
      {
       "output_type": "stream",
       "stream": "stdout",
       "text": [
        "\ttrain_h0_range_x_mean_u\n"
       ]
      },
      {
       "output_type": "stream",
       "stream": "stdout",
       "text": [
        "\ttrain_h0_range_x_min_u\n"
       ]
      },
      {
       "output_type": "stream",
       "stream": "stdout",
       "text": [
        "\ttrain_h0_row_norms_max\n"
       ]
      },
      {
       "output_type": "stream",
       "stream": "stdout",
       "text": [
        "\ttrain_h0_row_norms_mean\n"
       ]
      },
      {
       "output_type": "stream",
       "stream": "stdout",
       "text": [
        "\ttrain_h0_row_norms_min\n"
       ]
      },
      {
       "output_type": "stream",
       "stream": "stdout",
       "text": [
        "\ttrain_objective\n"
       ]
      },
      {
       "output_type": "stream",
       "stream": "stdout",
       "text": [
        "\ttrain_y_col_norms_max\n"
       ]
      },
      {
       "output_type": "stream",
       "stream": "stdout",
       "text": [
        "\ttrain_y_col_norms_mean\n"
       ]
      },
      {
       "output_type": "stream",
       "stream": "stdout",
       "text": [
        "\ttrain_y_col_norms_min\n"
       ]
      },
      {
       "output_type": "stream",
       "stream": "stdout",
       "text": [
        "\ttrain_y_max_max_class\n"
       ]
      },
      {
       "output_type": "stream",
       "stream": "stdout",
       "text": [
        "\ttrain_y_mean_max_class\n"
       ]
      },
      {
       "output_type": "stream",
       "stream": "stdout",
       "text": [
        "\ttrain_y_min_max_class\n"
       ]
      },
      {
       "output_type": "stream",
       "stream": "stdout",
       "text": [
        "\ttrain_y_misclass\n"
       ]
      },
      {
       "output_type": "stream",
       "stream": "stdout",
       "text": [
        "\ttrain_y_nll\n"
       ]
      },
      {
       "output_type": "stream",
       "stream": "stdout",
       "text": [
        "\ttrain_y_row_norms_max\n"
       ]
      },
      {
       "output_type": "stream",
       "stream": "stdout",
       "text": [
        "\ttrain_y_row_norms_mean\n"
       ]
      },
      {
       "output_type": "stream",
       "stream": "stdout",
       "text": [
        "\ttrain_y_row_norms_min\n"
       ]
      },
      {
       "output_type": "stream",
       "stream": "stdout",
       "text": [
        "\ttraining_seconds_this_epoch\n"
       ]
      },
      {
       "output_type": "stream",
       "stream": "stdout",
       "text": [
        "\tvalid_h0_col_norms_max\n"
       ]
      },
      {
       "output_type": "stream",
       "stream": "stdout",
       "text": [
        "\tvalid_h0_col_norms_mean\n"
       ]
      },
      {
       "output_type": "stream",
       "stream": "stdout",
       "text": [
        "\tvalid_h0_col_norms_min\n"
       ]
      },
      {
       "output_type": "stream",
       "stream": "stdout",
       "text": [
        "\tvalid_h0_max_x_max_u\n"
       ]
      },
      {
       "output_type": "stream",
       "stream": "stdout",
       "text": [
        "\tvalid_h0_max_x_mean_u\n"
       ]
      },
      {
       "output_type": "stream",
       "stream": "stdout",
       "text": [
        "\tvalid_h0_max_x_min_u\n"
       ]
      },
      {
       "output_type": "stream",
       "stream": "stdout",
       "text": [
        "\tvalid_h0_mean_x_max_u\n"
       ]
      },
      {
       "output_type": "stream",
       "stream": "stdout",
       "text": [
        "\tvalid_h0_mean_x_mean_u\n"
       ]
      },
      {
       "output_type": "stream",
       "stream": "stdout",
       "text": [
        "\tvalid_h0_mean_x_min_u\n"
       ]
      },
      {
       "output_type": "stream",
       "stream": "stdout",
       "text": [
        "\tvalid_h0_min_x_max_u\n"
       ]
      },
      {
       "output_type": "stream",
       "stream": "stdout",
       "text": [
        "\tvalid_h0_min_x_mean_u\n"
       ]
      },
      {
       "output_type": "stream",
       "stream": "stdout",
       "text": [
        "\tvalid_h0_min_x_min_u\n"
       ]
      },
      {
       "output_type": "stream",
       "stream": "stdout",
       "text": [
        "\tvalid_h0_range_x_max_u\n"
       ]
      },
      {
       "output_type": "stream",
       "stream": "stdout",
       "text": [
        "\tvalid_h0_range_x_mean_u\n"
       ]
      },
      {
       "output_type": "stream",
       "stream": "stdout",
       "text": [
        "\tvalid_h0_range_x_min_u\n"
       ]
      },
      {
       "output_type": "stream",
       "stream": "stdout",
       "text": [
        "\tvalid_h0_row_norms_max\n"
       ]
      },
      {
       "output_type": "stream",
       "stream": "stdout",
       "text": [
        "\tvalid_h0_row_norms_mean\n"
       ]
      },
      {
       "output_type": "stream",
       "stream": "stdout",
       "text": [
        "\tvalid_h0_row_norms_min\n"
       ]
      },
      {
       "output_type": "stream",
       "stream": "stdout",
       "text": [
        "\tvalid_objective\n"
       ]
      },
      {
       "output_type": "stream",
       "stream": "stdout",
       "text": [
        "\tvalid_y_col_norms_max\n"
       ]
      },
      {
       "output_type": "stream",
       "stream": "stdout",
       "text": [
        "\tvalid_y_col_norms_mean\n"
       ]
      },
      {
       "output_type": "stream",
       "stream": "stdout",
       "text": [
        "\tvalid_y_col_norms_min\n"
       ]
      },
      {
       "output_type": "stream",
       "stream": "stdout",
       "text": [
        "\tvalid_y_max_max_class\n"
       ]
      },
      {
       "output_type": "stream",
       "stream": "stdout",
       "text": [
        "\tvalid_y_mean_max_class\n"
       ]
      },
      {
       "output_type": "stream",
       "stream": "stdout",
       "text": [
        "\tvalid_y_min_max_class\n"
       ]
      },
      {
       "output_type": "stream",
       "stream": "stdout",
       "text": [
        "\tvalid_y_misclass\n"
       ]
      },
      {
       "output_type": "stream",
       "stream": "stdout",
       "text": [
        "\tvalid_y_nll\n"
       ]
      },
      {
       "output_type": "stream",
       "stream": "stdout",
       "text": [
        "\tvalid_y_row_norms_max\n"
       ]
      },
      {
       "output_type": "stream",
       "stream": "stdout",
       "text": [
        "\tvalid_y_row_norms_mean\n"
       ]
      },
      {
       "output_type": "stream",
       "stream": "stdout",
       "text": [
        "\tvalid_y_row_norms_min\n"
       ]
      },
      {
       "output_type": "stream",
       "stream": "stdout",
       "text": [
        "Compiling accum...\n"
       ]
      },
      {
       "output_type": "stream",
       "stream": "stdout",
       "text": [
        "graph size: 320\n"
       ]
      },
      {
       "output_type": "stream",
       "stream": "stdout",
       "text": [
        "graph size: 290\n"
       ]
      },
      {
       "output_type": "stream",
       "stream": "stdout",
       "text": [
        "Compiling accum done. Time elapsed: 0.580438 seconds\n"
       ]
      },
      {
       "output_type": "stream",
       "stream": "stdout",
       "text": [
        "Monitoring step:\n"
       ]
      },
      {
       "output_type": "stream",
       "stream": "stdout",
       "text": [
        "\tEpochs seen: 0\n"
       ]
      },
      {
       "output_type": "stream",
       "stream": "stdout",
       "text": [
        "\tBatches seen: 0\n"
       ]
      },
      {
       "output_type": "stream",
       "stream": "stdout",
       "text": [
        "\tExamples seen: 0\n"
       ]
      },
      {
       "output_type": "stream",
       "stream": "stdout",
       "text": [
        "\tave_grad_mult: 0.0\n"
       ]
      },
      {
       "output_type": "stream",
       "stream": "stdout",
       "text": [
        "\tave_grad_size: 0.0\n"
       ]
      },
      {
       "output_type": "stream",
       "stream": "stdout",
       "text": [
        "\tave_step_size: 0.0\n"
       ]
      },
      {
       "output_type": "stream",
       "stream": "stdout",
       "text": [
        "\ttotal_seconds_last_epoch: 0.0\n"
       ]
      },
      {
       "output_type": "stream",
       "stream": "stdout",
       "text": [
        "\ttrain_h0_col_norms_max: 5.85073423386\n"
       ]
      },
      {
       "output_type": "stream",
       "stream": "stdout",
       "text": [
        "\ttrain_h0_col_norms_mean: 3.78987455368\n"
       ]
      },
      {
       "output_type": "stream",
       "stream": "stdout",
       "text": [
        "\ttrain_h0_col_norms_min: 1.24994111061\n"
       ]
      },
      {
       "output_type": "stream",
       "stream": "stdout",
       "text": [
        "\ttrain_h0_max_x_max_u: 0.99849909544\n"
       ]
      },
      {
       "output_type": "stream",
       "stream": "stdout",
       "text": [
        "\ttrain_h0_max_x_mean_u: 0.905465185642\n"
       ]
      },
      {
       "output_type": "stream",
       "stream": "stdout",
       "text": [
        "\ttrain_h0_max_x_min_u: 0.625227212906\n"
       ]
      },
      {
       "output_type": "stream",
       "stream": "stdout",
       "text": [
        "\ttrain_h0_mean_x_max_u: 0.531416535378\n"
       ]
      },
      {
       "output_type": "stream",
       "stream": "stdout",
       "text": [
        "\ttrain_h0_mean_x_mean_u: 0.499898970127\n"
       ]
      },
      {
       "output_type": "stream",
       "stream": "stdout",
       "text": [
        "\ttrain_h0_mean_x_min_u: 0.482471942902\n"
       ]
      },
      {
       "output_type": "stream",
       "stream": "stdout",
       "text": [
        "\ttrain_h0_min_x_max_u: 0.352750778198\n"
       ]
      },
      {
       "output_type": "stream",
       "stream": "stdout",
       "text": [
        "\ttrain_h0_min_x_mean_u: 0.0926469042897\n"
       ]
      },
      {
       "output_type": "stream",
       "stream": "stdout",
       "text": [
        "\ttrain_h0_min_x_min_u: 0.00110748806037\n"
       ]
      },
      {
       "output_type": "stream",
       "stream": "stdout",
       "text": [
        "\ttrain_h0_range_x_max_u: 0.982719123363\n"
       ]
      },
      {
       "output_type": "stream",
       "stream": "stdout",
       "text": [
        "\ttrain_h0_range_x_mean_u: 0.812818288803\n"
       ]
      },
      {
       "output_type": "stream",
       "stream": "stdout",
       "text": [
        "\ttrain_h0_range_x_min_u: 0.466188073158\n"
       ]
      },
      {
       "output_type": "stream",
       "stream": "stdout",
       "text": [
        "\ttrain_h0_row_norms_max: 5.1246805191\n"
       ]
      },
      {
       "output_type": "stream",
       "stream": "stdout",
       "text": [
        "\ttrain_h0_row_norms_mean: 2.55235624313\n"
       ]
      },
      {
       "output_type": "stream",
       "stream": "stdout",
       "text": [
        "\ttrain_h0_row_norms_min: 0.056024659425\n"
       ]
      },
      {
       "output_type": "stream",
       "stream": "stdout",
       "text": [
        "\ttrain_objective: 4.7957906723\n"
       ]
      },
      {
       "output_type": "stream",
       "stream": "stdout",
       "text": [
        "\ttrain_y_col_norms_max: 0.0\n"
       ]
      },
      {
       "output_type": "stream",
       "stream": "stdout",
       "text": [
        "\ttrain_y_col_norms_mean: 0.0\n"
       ]
      },
      {
       "output_type": "stream",
       "stream": "stdout",
       "text": [
        "\ttrain_y_col_norms_min: 0.0\n"
       ]
      },
      {
       "output_type": "stream",
       "stream": "stdout",
       "text": [
        "\ttrain_y_max_max_class: 0.00826446246356\n"
       ]
      },
      {
       "output_type": "stream",
       "stream": "stdout",
       "text": [
        "\ttrain_y_mean_max_class: 0.00826446246356\n"
       ]
      },
      {
       "output_type": "stream",
       "stream": "stdout",
       "text": [
        "\ttrain_y_min_max_class: 0.00826446246356\n"
       ]
      },
      {
       "output_type": "stream",
       "stream": "stdout",
       "text": [
        "\ttrain_y_misclass: 0.998679995537\n"
       ]
      },
      {
       "output_type": "stream",
       "stream": "stdout",
       "text": [
        "\ttrain_y_nll: 4.7957906723\n"
       ]
      },
      {
       "output_type": "stream",
       "stream": "stdout",
       "text": [
        "\ttrain_y_row_norms_max: 0.0\n"
       ]
      },
      {
       "output_type": "stream",
       "stream": "stdout",
       "text": [
        "\ttrain_y_row_norms_mean: 0.0\n"
       ]
      },
      {
       "output_type": "stream",
       "stream": "stdout",
       "text": [
        "\ttrain_y_row_norms_min: 0.0\n"
       ]
      },
      {
       "output_type": "stream",
       "stream": "stdout",
       "text": [
        "\ttraining_seconds_this_epoch: 0.0\n"
       ]
      },
      {
       "output_type": "stream",
       "stream": "stdout",
       "text": [
        "\tvalid_h0_col_norms_max: 5.85073423386\n"
       ]
      },
      {
       "output_type": "stream",
       "stream": "stdout",
       "text": [
        "\tvalid_h0_col_norms_mean: 3.78987455368\n"
       ]
      },
      {
       "output_type": "stream",
       "stream": "stdout",
       "text": [
        "\tvalid_h0_col_norms_min: 1.24994111061\n"
       ]
      },
      {
       "output_type": "stream",
       "stream": "stdout",
       "text": [
        "\tvalid_h0_max_x_max_u: 0.999715745449\n"
       ]
      },
      {
       "output_type": "stream",
       "stream": "stdout",
       "text": [
        "\tvalid_h0_max_x_mean_u: 0.905558109283\n"
       ]
      },
      {
       "output_type": "stream",
       "stream": "stdout",
       "text": [
        "\tvalid_h0_max_x_min_u: 0.628929913044\n"
       ]
      },
      {
       "output_type": "stream",
       "stream": "stdout",
       "text": [
        "\tvalid_h0_mean_x_max_u: 0.525065243244\n"
       ]
      },
      {
       "output_type": "stream",
       "stream": "stdout",
       "text": [
        "\tvalid_h0_mean_x_mean_u: 0.500211536884\n"
       ]
      },
      {
       "output_type": "stream",
       "stream": "stdout",
       "text": [
        "\tvalid_h0_mean_x_min_u: 0.488572746515\n"
       ]
      },
      {
       "output_type": "stream",
       "stream": "stdout",
       "text": [
        "\tvalid_h0_min_x_max_u: 0.359210371971\n"
       ]
      },
      {
       "output_type": "stream",
       "stream": "stdout",
       "text": [
        "\tvalid_h0_min_x_mean_u: 0.0948031097651\n"
       ]
      },
      {
       "output_type": "stream",
       "stream": "stdout",
       "text": [
        "\tvalid_h0_min_x_min_u: 0.00126887974329\n"
       ]
      },
      {
       "output_type": "stream",
       "stream": "stdout",
       "text": [
        "\tvalid_h0_range_x_max_u: 0.981568932533\n"
       ]
      },
      {
       "output_type": "stream",
       "stream": "stdout",
       "text": [
        "\tvalid_h0_range_x_mean_u: 0.81075501442\n"
       ]
      },
      {
       "output_type": "stream",
       "stream": "stdout",
       "text": [
        "\tvalid_h0_range_x_min_u: 0.470659226179\n"
       ]
      },
      {
       "output_type": "stream",
       "stream": "stdout",
       "text": [
        "\tvalid_h0_row_norms_max: 5.1246805191\n"
       ]
      },
      {
       "output_type": "stream",
       "stream": "stdout",
       "text": [
        "\tvalid_h0_row_norms_mean: 2.55235600471\n"
       ]
      },
      {
       "output_type": "stream",
       "stream": "stdout",
       "text": [
        "\tvalid_h0_row_norms_min: 0.056024659425\n"
       ]
      },
      {
       "output_type": "stream",
       "stream": "stdout",
       "text": [
        "\tvalid_objective: 4.7957906723\n"
       ]
      },
      {
       "output_type": "stream",
       "stream": "stdout",
       "text": [
        "\tvalid_y_col_norms_max: 0.0\n"
       ]
      },
      {
       "output_type": "stream",
       "stream": "stdout",
       "text": [
        "\tvalid_y_col_norms_mean: 0.0\n"
       ]
      },
      {
       "output_type": "stream",
       "stream": "stdout",
       "text": [
        "\tvalid_y_col_norms_min: 0.0\n"
       ]
      },
      {
       "output_type": "stream",
       "stream": "stdout",
       "text": [
        "\tvalid_y_max_max_class: 0.00826446246356\n"
       ]
      },
      {
       "output_type": "stream",
       "stream": "stdout",
       "text": [
        "\tvalid_y_mean_max_class: 0.00826446246356\n"
       ]
      },
      {
       "output_type": "stream",
       "stream": "stdout",
       "text": [
        "\tvalid_y_min_max_class: 0.00826446246356\n"
       ]
      },
      {
       "output_type": "stream",
       "stream": "stdout",
       "text": [
        "\tvalid_y_misclass: 0.999199986458\n"
       ]
      },
      {
       "output_type": "stream",
       "stream": "stdout",
       "text": [
        "\tvalid_y_nll: 4.7957906723\n"
       ]
      },
      {
       "output_type": "stream",
       "stream": "stdout",
       "text": [
        "\tvalid_y_row_norms_max: 0.0\n"
       ]
      },
      {
       "output_type": "stream",
       "stream": "stdout",
       "text": [
        "\tvalid_y_row_norms_mean: 0.0\n"
       ]
      },
      {
       "output_type": "stream",
       "stream": "stdout",
       "text": [
        "\tvalid_y_row_norms_min: 0.0\n"
       ]
      },
      {
       "output_type": "stream",
       "stream": "stdout",
       "text": [
        "Saving to mlp_01_best.pkl...\n"
       ]
      },
      {
       "output_type": "stream",
       "stream": "stdout",
       "text": [
        "Saving to mlp_01_best.pkl done. Time elapsed: 0.328409 seconds\n"
       ]
      },
      {
       "output_type": "stream",
       "stream": "stdout",
       "text": [
        "Time this epoch: 0:57:43.313952\n"
       ]
      },
      {
       "output_type": "stream",
       "stream": "stdout",
       "text": [
        "Monitoring step:\n"
       ]
      },
      {
       "output_type": "stream",
       "stream": "stdout",
       "text": [
        "\tEpochs seen: 1\n"
       ]
      },
      {
       "output_type": "stream",
       "stream": "stdout",
       "text": [
        "\tBatches seen: 5\n"
       ]
      },
      {
       "output_type": "stream",
       "stream": "stdout",
       "text": [
        "\tExamples seen: 25000\n"
       ]
      },
      {
       "output_type": "stream",
       "stream": "stdout",
       "text": [
        "\tave_grad_mult: 0.393349289894\n"
       ]
      },
      {
       "output_type": "stream",
       "stream": "stdout",
       "text": [
        "\tave_grad_size: 0.996892154217\n"
       ]
      },
      {
       "output_type": "stream",
       "stream": "stdout",
       "text": [
        "\tave_step_size: 0.366202026606\n"
       ]
      },
      {
       "output_type": "stream",
       "stream": "stdout",
       "text": [
        "\ttotal_seconds_last_epoch: 0.0\n"
       ]
      },
      {
       "output_type": "stream",
       "stream": "stdout",
       "text": [
        "\ttrain_h0_col_norms_max: 5.8536233902\n"
       ]
      },
      {
       "output_type": "stream",
       "stream": "stdout",
       "text": [
        "\ttrain_h0_col_norms_mean: 3.795378685\n"
       ]
      },
      {
       "output_type": "stream",
       "stream": "stdout",
       "text": [
        "\ttrain_h0_col_norms_min: 1.25829553604\n"
       ]
      },
      {
       "output_type": "stream",
       "stream": "stdout",
       "text": [
        "\ttrain_h0_max_x_max_u: 0.99903935194\n"
       ]
      },
      {
       "output_type": "stream",
       "stream": "stdout",
       "text": [
        "\ttrain_h0_max_x_mean_u: 0.912674665451\n"
       ]
      },
      {
       "output_type": "stream",
       "stream": "stdout",
       "text": [
        "\ttrain_h0_max_x_min_u: 0.627051591873\n"
       ]
      },
      {
       "output_type": "stream",
       "stream": "stdout",
       "text": [
        "\ttrain_h0_mean_x_max_u: 0.538083672523\n"
       ]
      },
      {
       "output_type": "stream",
       "stream": "stdout",
       "text": [
        "\ttrain_h0_mean_x_mean_u: 0.500006556511\n"
       ]
      },
      {
       "output_type": "stream",
       "stream": "stdout",
       "text": [
        "\ttrain_h0_mean_x_min_u: 0.47457164526\n"
       ]
      },
      {
       "output_type": "stream",
       "stream": "stdout",
       "text": [
        "\ttrain_h0_min_x_max_u: 0.358086377382\n"
       ]
      },
      {
       "output_type": "stream",
       "stream": "stdout",
       "text": [
        "\ttrain_h0_min_x_mean_u: 0.0821351632476\n"
       ]
      },
      {
       "output_type": "stream",
       "stream": "stdout",
       "text": [
        "\ttrain_h0_min_x_min_u: 0.000340100581525\n"
       ]
      },
      {
       "output_type": "stream",
       "stream": "stdout",
       "text": [
        "\ttrain_h0_range_x_max_u: 0.983358681202\n"
       ]
      },
      {
       "output_type": "stream",
       "stream": "stdout",
       "text": [
        "\ttrain_h0_range_x_mean_u: 0.830539464951\n"
       ]
      },
      {
       "output_type": "stream",
       "stream": "stdout",
       "text": [
        "\ttrain_h0_range_x_min_u: 0.531408727169\n"
       ]
      },
      {
       "output_type": "stream",
       "stream": "stdout",
       "text": [
        "\ttrain_h0_row_norms_max: 5.12535953522\n"
       ]
      },
      {
       "output_type": "stream",
       "stream": "stdout",
       "text": [
        "\ttrain_h0_row_norms_mean: 2.55613088608\n"
       ]
      },
      {
       "output_type": "stream",
       "stream": "stdout",
       "text": [
        "\ttrain_h0_row_norms_min: 0.0692097395658\n"
       ]
      },
      {
       "output_type": "stream",
       "stream": "stdout",
       "text": [
        "\ttrain_objective: 3.43679237366\n"
       ]
      },
      {
       "output_type": "stream",
       "stream": "stdout",
       "text": [
        "\ttrain_y_col_norms_max: 1.79723072052\n"
       ]
      },
      {
       "output_type": "stream",
       "stream": "stdout",
       "text": [
        "\ttrain_y_col_norms_mean: 0.370782762766\n"
       ]
      },
      {
       "output_type": "stream",
       "stream": "stdout",
       "text": [
        "\ttrain_y_col_norms_min: 0.0723075047135\n"
       ]
      },
      {
       "output_type": "stream",
       "stream": "stdout",
       "text": [
        "\ttrain_y_max_max_class: 0.875872612\n"
       ]
      },
      {
       "output_type": "stream",
       "stream": "stdout",
       "text": [
        "\ttrain_y_mean_max_class: 0.147156059742\n"
       ]
      },
      {
       "output_type": "stream",
       "stream": "stdout",
       "text": [
        "\ttrain_y_min_max_class: 0.0349956601858\n"
       ]
      },
      {
       "output_type": "stream",
       "stream": "stdout",
       "text": [
        "\ttrain_y_misclass: 0.784759998322\n"
       ]
      },
      {
       "output_type": "stream",
       "stream": "stdout",
       "text": [
        "\ttrain_y_nll: 3.43679237366\n"
       ]
      },
      {
       "output_type": "stream",
       "stream": "stdout",
       "text": [
        "\ttrain_y_row_norms_max: 0.624044895172\n"
       ]
      },
      {
       "output_type": "stream",
       "stream": "stdout",
       "text": [
        "\ttrain_y_row_norms_mean: 0.222992971539\n"
       ]
      },
      {
       "output_type": "stream",
       "stream": "stdout",
       "text": [
        "\ttrain_y_row_norms_min: 0.0737787410617\n"
       ]
      },
      {
       "output_type": "stream",
       "stream": "stdout",
       "text": [
        "\ttraining_seconds_this_epoch: 3463.31396484\n"
       ]
      },
      {
       "output_type": "stream",
       "stream": "stdout",
       "text": [
        "\tvalid_h0_col_norms_max: 5.8536233902\n"
       ]
      },
      {
       "output_type": "stream",
       "stream": "stdout",
       "text": [
        "\tvalid_h0_col_norms_mean: 3.79537892342\n"
       ]
      },
      {
       "output_type": "stream",
       "stream": "stdout",
       "text": [
        "\tvalid_h0_col_norms_min: 1.25829553604\n"
       ]
      },
      {
       "output_type": "stream",
       "stream": "stdout",
       "text": [
        "\tvalid_h0_max_x_max_u: 0.999811112881\n"
       ]
      },
      {
       "output_type": "stream",
       "stream": "stdout",
       "text": [
        "\tvalid_h0_max_x_mean_u: 0.912290811539\n"
       ]
      },
      {
       "output_type": "stream",
       "stream": "stdout",
       "text": [
        "\tvalid_h0_max_x_min_u: 0.639252960682\n"
       ]
      },
      {
       "output_type": "stream",
       "stream": "stdout",
       "text": [
        "\tvalid_h0_mean_x_max_u: 0.531201481819\n"
       ]
      },
      {
       "output_type": "stream",
       "stream": "stdout",
       "text": [
        "\tvalid_h0_mean_x_mean_u: 0.500291764736\n"
       ]
      },
      {
       "output_type": "stream",
       "stream": "stdout",
       "text": [
        "\tvalid_h0_mean_x_min_u: 0.48247051239\n"
       ]
      },
      {
       "output_type": "stream",
       "stream": "stdout",
       "text": [
        "\tvalid_h0_min_x_max_u: 0.35992744565\n"
       ]
      },
      {
       "output_type": "stream",
       "stream": "stdout",
       "text": [
        "\tvalid_h0_min_x_mean_u: 0.0842592418194\n"
       ]
      },
      {
       "output_type": "stream",
       "stream": "stdout",
       "text": [
        "\tvalid_h0_min_x_min_u: 0.000845091126394\n"
       ]
      },
      {
       "output_type": "stream",
       "stream": "stdout",
       "text": [
        "\tvalid_h0_range_x_max_u: 0.981158077717\n"
       ]
      },
      {
       "output_type": "stream",
       "stream": "stdout",
       "text": [
        "\tvalid_h0_range_x_mean_u: 0.828031539917\n"
       ]
      },
      {
       "output_type": "stream",
       "stream": "stdout",
       "text": [
        "\tvalid_h0_range_x_min_u: 0.539993405342\n"
       ]
      },
      {
       "output_type": "stream",
       "stream": "stdout",
       "text": [
        "\tvalid_h0_row_norms_max: 5.12535953522\n"
       ]
      },
      {
       "output_type": "stream",
       "stream": "stdout",
       "text": [
        "\tvalid_h0_row_norms_mean: 2.55613088608\n"
       ]
      },
      {
       "output_type": "stream",
       "stream": "stdout",
       "text": [
        "\tvalid_h0_row_norms_min: 0.0692097395658\n"
       ]
      },
      {
       "output_type": "stream",
       "stream": "stdout",
       "text": [
        "\tvalid_objective: 3.4140894413\n"
       ]
      },
      {
       "output_type": "stream",
       "stream": "stdout",
       "text": [
        "\tvalid_y_col_norms_max: 1.79723072052\n"
       ]
      },
      {
       "output_type": "stream",
       "stream": "stdout",
       "text": [
        "\tvalid_y_col_norms_mean: 0.370782762766\n"
       ]
      },
      {
       "output_type": "stream",
       "stream": "stdout",
       "text": [
        "\tvalid_y_col_norms_min: 0.0723075047135\n"
       ]
      },
      {
       "output_type": "stream",
       "stream": "stdout",
       "text": [
        "\tvalid_y_max_max_class: 0.892546951771\n"
       ]
      },
      {
       "output_type": "stream",
       "stream": "stdout",
       "text": [
        "\tvalid_y_mean_max_class: 0.149432837963\n"
       ]
      },
      {
       "output_type": "stream",
       "stream": "stdout",
       "text": [
        "\tvalid_y_min_max_class: 0.0383791215718\n"
       ]
      },
      {
       "output_type": "stream",
       "stream": "stdout",
       "text": [
        "\tvalid_y_misclass: 0.776000022888\n"
       ]
      },
      {
       "output_type": "stream",
       "stream": "stdout",
       "text": [
        "\tvalid_y_nll: 3.4140894413\n"
       ]
      },
      {
       "output_type": "stream",
       "stream": "stdout",
       "text": [
        "\tvalid_y_row_norms_max: 0.624044895172\n"
       ]
      },
      {
       "output_type": "stream",
       "stream": "stdout",
       "text": [
        "\tvalid_y_row_norms_mean: 0.222992971539\n"
       ]
      },
      {
       "output_type": "stream",
       "stream": "stdout",
       "text": [
        "\tvalid_y_row_norms_min: 0.0737787410617\n"
       ]
      },
      {
       "output_type": "stream",
       "stream": "stdout",
       "text": [
        "Saving to mlp_01_best.pkl...\n"
       ]
      },
      {
       "output_type": "stream",
       "stream": "stdout",
       "text": [
        "Saving to mlp_01_best.pkl done. Time elapsed: 0.193758 seconds\n"
       ]
      },
      {
       "output_type": "stream",
       "stream": "stdout",
       "text": [
        "Time this epoch: 0:55:25.168346\n"
       ]
      },
      {
       "output_type": "stream",
       "stream": "stdout",
       "text": [
        "Monitoring step:\n"
       ]
      },
      {
       "output_type": "stream",
       "stream": "stdout",
       "text": [
        "\tEpochs seen: 2\n"
       ]
      },
      {
       "output_type": "stream",
       "stream": "stdout",
       "text": [
        "\tBatches seen: 10\n"
       ]
      },
      {
       "output_type": "stream",
       "stream": "stdout",
       "text": [
        "\tExamples seen: 50000\n"
       ]
      },
      {
       "output_type": "stream",
       "stream": "stdout",
       "text": [
        "\tave_grad_mult: 0.428809553385\n"
       ]
      },
      {
       "output_type": "stream",
       "stream": "stdout",
       "text": [
        "\tave_grad_size: 0.701468348503\n"
       ]
      },
      {
       "output_type": "stream",
       "stream": "stdout",
       "text": [
        "\tave_step_size: 0.26785993576\n"
       ]
      },
      {
       "output_type": "stream",
       "stream": "stdout",
       "text": [
        "\ttotal_seconds_last_epoch: 3481.21240234\n"
       ]
      },
      {
       "output_type": "stream",
       "stream": "stdout",
       "text": [
        "\ttrain_h0_col_norms_max: 5.85829925537\n"
       ]
      },
      {
       "output_type": "stream",
       "stream": "stdout",
       "text": [
        "\ttrain_h0_col_norms_mean: 3.80465984344\n"
       ]
      },
      {
       "output_type": "stream",
       "stream": "stdout",
       "text": [
        "\ttrain_h0_col_norms_min: 1.26969647408\n"
       ]
      },
      {
       "output_type": "stream",
       "stream": "stdout",
       "text": [
        "\ttrain_h0_max_x_max_u: 0.999525249004\n"
       ]
      },
      {
       "output_type": "stream",
       "stream": "stdout",
       "text": [
        "\ttrain_h0_max_x_mean_u: 0.921955227852\n"
       ]
      },
      {
       "output_type": "stream",
       "stream": "stdout",
       "text": [
        "\ttrain_h0_max_x_min_u: 0.636285960674\n"
       ]
      },
      {
       "output_type": "stream",
       "stream": "stdout",
       "text": [
        "\ttrain_h0_mean_x_max_u: 0.539631426334\n"
       ]
      },
      {
       "output_type": "stream",
       "stream": "stdout",
       "text": [
        "\ttrain_h0_mean_x_mean_u: 0.499984711409\n"
       ]
      },
      {
       "output_type": "stream",
       "stream": "stdout",
       "text": [
        "\ttrain_h0_mean_x_min_u: 0.468884676695\n"
       ]
      },
      {
       "output_type": "stream",
       "stream": "stdout",
       "text": [
        "\ttrain_h0_min_x_max_u: 0.36466383934\n"
       ]
      },
      {
       "output_type": "stream",
       "stream": "stdout",
       "text": [
        "\ttrain_h0_min_x_mean_u: 0.0726904124022\n"
       ]
      },
      {
       "output_type": "stream",
       "stream": "stdout",
       "text": [
        "\ttrain_h0_min_x_min_u: 9.83212084975e-05\n"
       ]
      },
      {
       "output_type": "stream",
       "stream": "stdout",
       "text": [
        "\ttrain_h0_range_x_max_u: 0.989620804787\n"
       ]
      },
      {
       "output_type": "stream",
       "stream": "stdout",
       "text": [
        "\ttrain_h0_range_x_mean_u: 0.849264919758\n"
       ]
      },
      {
       "output_type": "stream",
       "stream": "stdout",
       "text": [
        "\ttrain_h0_range_x_min_u: 0.584230005741\n"
       ]
      },
      {
       "output_type": "stream",
       "stream": "stdout",
       "text": [
        "\ttrain_h0_row_norms_max: 5.12664699554\n"
       ]
      },
      {
       "output_type": "stream",
       "stream": "stdout",
       "text": [
        "\ttrain_h0_row_norms_mean: 2.56275415421\n"
       ]
      },
      {
       "output_type": "stream",
       "stream": "stdout",
       "text": [
        "\ttrain_h0_row_norms_min: 0.115407973528\n"
       ]
      },
      {
       "output_type": "stream",
       "stream": "stdout",
       "text": [
        "\ttrain_objective: 3.12351751328\n"
       ]
      },
      {
       "output_type": "stream",
       "stream": "stdout",
       "text": [
        "\ttrain_y_col_norms_max: 2.15037488937\n"
       ]
      },
      {
       "output_type": "stream",
       "stream": "stdout",
       "text": [
        "\ttrain_y_col_norms_mean: 0.609664738178\n"
       ]
      },
      {
       "output_type": "stream",
       "stream": "stdout",
       "text": [
        "\ttrain_y_col_norms_min: 0.0793207064271\n"
       ]
      },
      {
       "output_type": "stream",
       "stream": "stdout",
       "text": [
        "\ttrain_y_max_max_class: 0.898787081242\n"
       ]
      },
      {
       "output_type": "stream",
       "stream": "stdout",
       "text": [
        "\ttrain_y_mean_max_class: 0.186985328794\n"
       ]
      },
      {
       "output_type": "stream",
       "stream": "stdout",
       "text": [
        "\ttrain_y_min_max_class: 0.0366179682314\n"
       ]
      },
      {
       "output_type": "stream",
       "stream": "stdout",
       "text": [
        "\ttrain_y_misclass: 0.7244399786\n"
       ]
      },
      {
       "output_type": "stream",
       "stream": "stdout",
       "text": [
        "\ttrain_y_nll: 3.12351751328\n"
       ]
      },
      {
       "output_type": "stream",
       "stream": "stdout",
       "text": [
        "\ttrain_y_row_norms_max: 0.916813313961\n"
       ]
      },
      {
       "output_type": "stream",
       "stream": "stdout",
       "text": [
        "\ttrain_y_row_norms_mean: 0.356507152319\n"
       ]
      },
      {
       "output_type": "stream",
       "stream": "stdout",
       "text": [
        "\ttrain_y_row_norms_min: 0.109714120626\n"
       ]
      },
      {
       "output_type": "stream",
       "stream": "stdout",
       "text": [
        "\ttraining_seconds_this_epoch: 3325.16845703\n"
       ]
      },
      {
       "output_type": "stream",
       "stream": "stdout",
       "text": [
        "\tvalid_h0_col_norms_max: 5.85829925537\n"
       ]
      },
      {
       "output_type": "stream",
       "stream": "stdout",
       "text": [
        "\tvalid_h0_col_norms_mean: 3.80465984344\n"
       ]
      },
      {
       "output_type": "stream",
       "stream": "stdout",
       "text": [
        "\tvalid_h0_col_norms_min: 1.26969647408\n"
       ]
      },
      {
       "output_type": "stream",
       "stream": "stdout",
       "text": [
        "\tvalid_h0_max_x_max_u: 0.999898552895\n"
       ]
      },
      {
       "output_type": "stream",
       "stream": "stdout",
       "text": [
        "\tvalid_h0_max_x_mean_u: 0.9211165905\n"
       ]
      },
      {
       "output_type": "stream",
       "stream": "stdout",
       "text": [
        "\tvalid_h0_max_x_min_u: 0.647931039333\n"
       ]
      },
      {
       "output_type": "stream",
       "stream": "stdout",
       "text": [
        "\tvalid_h0_mean_x_max_u: 0.532748639584\n"
       ]
      },
      {
       "output_type": "stream",
       "stream": "stdout",
       "text": [
        "\tvalid_h0_mean_x_mean_u: 0.500263750553\n"
       ]
      },
      {
       "output_type": "stream",
       "stream": "stdout",
       "text": [
        "\tvalid_h0_mean_x_min_u: 0.476421773434\n"
       ]
      },
      {
       "output_type": "stream",
       "stream": "stdout",
       "text": [
        "\tvalid_h0_min_x_max_u: 0.358074873686\n"
       ]
      },
      {
       "output_type": "stream",
       "stream": "stdout",
       "text": [
        "\tvalid_h0_min_x_mean_u: 0.0740794464946\n"
       ]
      },
      {
       "output_type": "stream",
       "stream": "stdout",
       "text": [
        "\tvalid_h0_min_x_min_u: 0.000265597220277\n"
       ]
      },
      {
       "output_type": "stream",
       "stream": "stdout",
       "text": [
        "\tvalid_h0_range_x_max_u: 0.991835832596\n"
       ]
      },
      {
       "output_type": "stream",
       "stream": "stdout",
       "text": [
        "\tvalid_h0_range_x_mean_u: 0.847037196159\n"
       ]
      },
      {
       "output_type": "stream",
       "stream": "stdout",
       "text": [
        "\tvalid_h0_range_x_min_u: 0.628726303577\n"
       ]
      },
      {
       "output_type": "stream",
       "stream": "stdout",
       "text": [
        "\tvalid_h0_row_norms_max: 5.12664699554\n"
       ]
      },
      {
       "output_type": "stream",
       "stream": "stdout",
       "text": [
        "\tvalid_h0_row_norms_mean: 2.56275415421\n"
       ]
      },
      {
       "output_type": "stream",
       "stream": "stdout",
       "text": [
        "\tvalid_h0_row_norms_min: 0.115407973528\n"
       ]
      },
      {
       "output_type": "stream",
       "stream": "stdout",
       "text": [
        "\tvalid_objective: 3.10333871841\n"
       ]
      },
      {
       "output_type": "stream",
       "stream": "stdout",
       "text": [
        "\tvalid_y_col_norms_max: 2.15037488937\n"
       ]
      },
      {
       "output_type": "stream",
       "stream": "stdout",
       "text": [
        "\tvalid_y_col_norms_mean: 0.609664738178\n"
       ]
      },
      {
       "output_type": "stream",
       "stream": "stdout",
       "text": [
        "\tvalid_y_col_norms_min: 0.0793207064271\n"
       ]
      },
      {
       "output_type": "stream",
       "stream": "stdout",
       "text": [
        "\tvalid_y_max_max_class: 0.910687327385\n"
       ]
      },
      {
       "output_type": "stream",
       "stream": "stdout",
       "text": [
        "\tvalid_y_mean_max_class: 0.189184457064\n"
       ]
      },
      {
       "output_type": "stream",
       "stream": "stdout",
       "text": [
        "\tvalid_y_min_max_class: 0.0355087146163\n"
       ]
      },
      {
       "output_type": "stream",
       "stream": "stdout",
       "text": [
        "\tvalid_y_misclass: 0.718400001526\n"
       ]
      },
      {
       "output_type": "stream",
       "stream": "stdout",
       "text": [
        "\tvalid_y_nll: 3.10333871841\n"
       ]
      },
      {
       "output_type": "stream",
       "stream": "stdout",
       "text": [
        "\tvalid_y_row_norms_max: 0.916813254356\n"
       ]
      },
      {
       "output_type": "stream",
       "stream": "stdout",
       "text": [
        "\tvalid_y_row_norms_mean: 0.356507152319\n"
       ]
      },
      {
       "output_type": "stream",
       "stream": "stdout",
       "text": [
        "\tvalid_y_row_norms_min: 0.109714120626\n"
       ]
      },
      {
       "output_type": "stream",
       "stream": "stdout",
       "text": [
        "Saving to mlp_01_best.pkl...\n"
       ]
      },
      {
       "output_type": "stream",
       "stream": "stdout",
       "text": [
        "Saving to mlp_01_best.pkl done. Time elapsed: 0.199978 seconds\n"
       ]
      },
      {
       "output_type": "stream",
       "stream": "stdout",
       "text": [
        "Time this epoch: 0:49:56.677960\n"
       ]
      },
      {
       "output_type": "stream",
       "stream": "stdout",
       "text": [
        "Monitoring step:\n"
       ]
      },
      {
       "output_type": "stream",
       "stream": "stdout",
       "text": [
        "\tEpochs seen: 3\n"
       ]
      },
      {
       "output_type": "stream",
       "stream": "stdout",
       "text": [
        "\tBatches seen: 15\n"
       ]
      },
      {
       "output_type": "stream",
       "stream": "stdout",
       "text": [
        "\tExamples seen: 75000\n"
       ]
      },
      {
       "output_type": "stream",
       "stream": "stdout",
       "text": [
        "\tave_grad_mult: 0.456567764282\n"
       ]
      },
      {
       "output_type": "stream",
       "stream": "stdout",
       "text": [
        "\tave_grad_size: 0.507026612759\n"
       ]
      },
      {
       "output_type": "stream",
       "stream": "stdout",
       "text": [
        "\tave_step_size: 0.202557653189\n"
       ]
      },
      {
       "output_type": "stream",
       "stream": "stdout",
       "text": [
        "\ttotal_seconds_last_epoch: 3345.13476562\n"
       ]
      },
      {
       "output_type": "stream",
       "stream": "stdout",
       "text": [
        "\ttrain_h0_col_norms_max: 5.86338233948\n"
       ]
      },
      {
       "output_type": "stream",
       "stream": "stdout",
       "text": [
        "\ttrain_h0_col_norms_mean: 3.81420087814\n"
       ]
      },
      {
       "output_type": "stream",
       "stream": "stdout",
       "text": [
        "\ttrain_h0_col_norms_min: 1.28029894829\n"
       ]
      },
      {
       "output_type": "stream",
       "stream": "stdout",
       "text": [
        "\ttrain_h0_max_x_max_u: 0.999777257442\n"
       ]
      },
      {
       "output_type": "stream",
       "stream": "stdout",
       "text": [
        "\ttrain_h0_max_x_mean_u: 0.928949594498\n"
       ]
      },
      {
       "output_type": "stream",
       "stream": "stdout",
       "text": [
        "\ttrain_h0_max_x_min_u: 0.647346794605\n"
       ]
      },
      {
       "output_type": "stream",
       "stream": "stdout",
       "text": [
        "\ttrain_h0_mean_x_max_u: 0.538025438786\n"
       ]
      },
      {
       "output_type": "stream",
       "stream": "stdout",
       "text": [
        "\ttrain_h0_mean_x_mean_u: 0.499914139509\n"
       ]
      },
      {
       "output_type": "stream",
       "stream": "stdout",
       "text": [
        "\ttrain_h0_mean_x_min_u: 0.465584367514\n"
       ]
      },
      {
       "output_type": "stream",
       "stream": "stdout",
       "text": [
        "\ttrain_h0_min_x_max_u: 0.363666474819\n"
       ]
      },
      {
       "output_type": "stream",
       "stream": "stdout",
       "text": [
        "\ttrain_h0_min_x_mean_u: 0.0662754848599\n"
       ]
      },
      {
       "output_type": "stream",
       "stream": "stdout",
       "text": [
        "\ttrain_h0_min_x_min_u: 4.29458705185e-05\n"
       ]
      },
      {
       "output_type": "stream",
       "stream": "stdout",
       "text": [
        "\ttrain_h0_range_x_max_u: 0.992967188358\n"
       ]
      },
      {
       "output_type": "stream",
       "stream": "stdout",
       "text": [
        "\ttrain_h0_range_x_mean_u: 0.862674117088\n"
       ]
      },
      {
       "output_type": "stream",
       "stream": "stdout",
       "text": [
        "\ttrain_h0_range_x_min_u: 0.598975002766\n"
       ]
      },
      {
       "output_type": "stream",
       "stream": "stdout",
       "text": [
        "\ttrain_h0_row_norms_max: 5.12840986252\n"
       ]
      },
      {
       "output_type": "stream",
       "stream": "stdout",
       "text": [
        "\ttrain_h0_row_norms_mean: 2.56970310211\n"
       ]
      },
      {
       "output_type": "stream",
       "stream": "stdout",
       "text": [
        "\ttrain_h0_row_norms_min: 0.134243786335\n"
       ]
      },
      {
       "output_type": "stream",
       "stream": "stdout",
       "text": [
        "\ttrain_objective: 2.9400935173\n"
       ]
      },
      {
       "output_type": "stream",
       "stream": "stdout",
       "text": [
        "\ttrain_y_col_norms_max: 2.35518264771\n"
       ]
      },
      {
       "output_type": "stream",
       "stream": "stdout",
       "text": [
        "\ttrain_y_col_norms_mean: 0.801470756531\n"
       ]
      },
      {
       "output_type": "stream",
       "stream": "stdout",
       "text": [
        "\ttrain_y_col_norms_min: 0.0814076215029\n"
       ]
      },
      {
       "output_type": "stream",
       "stream": "stdout",
       "text": [
        "\ttrain_y_max_max_class: 0.920826673508\n"
       ]
      },
      {
       "output_type": "stream",
       "stream": "stdout",
       "text": [
        "\ttrain_y_mean_max_class: 0.215382322669\n"
       ]
      },
      {
       "output_type": "stream",
       "stream": "stdout",
       "text": [
        "\ttrain_y_min_max_class: 0.0396067202091\n"
       ]
      },
      {
       "output_type": "stream",
       "stream": "stdout",
       "text": [
        "\ttrain_y_misclass: 0.702960014343\n"
       ]
      },
      {
       "output_type": "stream",
       "stream": "stdout",
       "text": [
        "\ttrain_y_nll: 2.9400935173\n"
       ]
      },
      {
       "output_type": "stream",
       "stream": "stdout",
       "text": [
        "\ttrain_y_row_norms_max: 1.10304200649\n"
       ]
      },
      {
       "output_type": "stream",
       "stream": "stdout",
       "text": [
        "\ttrain_y_row_norms_mean: 0.458256155252\n"
       ]
      },
      {
       "output_type": "stream",
       "stream": "stdout",
       "text": [
        "\ttrain_y_row_norms_min: 0.139411777258\n"
       ]
      },
      {
       "output_type": "stream",
       "stream": "stdout",
       "text": [
        "\ttraining_seconds_this_epoch: 2996.67773438\n"
       ]
      },
      {
       "output_type": "stream",
       "stream": "stdout",
       "text": [
        "\tvalid_h0_col_norms_max: 5.86338233948\n"
       ]
      },
      {
       "output_type": "stream",
       "stream": "stdout",
       "text": [
        "\tvalid_h0_col_norms_mean: 3.81420087814\n"
       ]
      },
      {
       "output_type": "stream",
       "stream": "stdout",
       "text": [
        "\tvalid_h0_col_norms_min: 1.28029894829\n"
       ]
      },
      {
       "output_type": "stream",
       "stream": "stdout",
       "text": [
        "\tvalid_h0_max_x_max_u: 0.999941289425\n"
       ]
      },
      {
       "output_type": "stream",
       "stream": "stdout",
       "text": [
        "\tvalid_h0_max_x_mean_u: 0.928155004978\n"
       ]
      },
      {
       "output_type": "stream",
       "stream": "stdout",
       "text": [
        "\tvalid_h0_max_x_min_u: 0.653263449669\n"
       ]
      },
      {
       "output_type": "stream",
       "stream": "stdout",
       "text": [
        "\tvalid_h0_mean_x_max_u: 0.531253397465\n"
       ]
      },
      {
       "output_type": "stream",
       "stream": "stdout",
       "text": [
        "\tvalid_h0_mean_x_mean_u: 0.500215947628\n"
       ]
      },
      {
       "output_type": "stream",
       "stream": "stdout",
       "text": [
        "\tvalid_h0_mean_x_min_u: 0.472105562687\n"
       ]
      },
      {
       "output_type": "stream",
       "stream": "stdout",
       "text": [
        "\tvalid_h0_min_x_max_u: 0.356094926596\n"
       ]
      },
      {
       "output_type": "stream",
       "stream": "stdout",
       "text": [
        "\tvalid_h0_min_x_mean_u: 0.0671600624919\n"
       ]
      },
      {
       "output_type": "stream",
       "stream": "stdout",
       "text": [
        "\tvalid_h0_min_x_min_u: 0.000124790254631\n"
       ]
      },
      {
       "output_type": "stream",
       "stream": "stdout",
       "text": [
        "\tvalid_h0_range_x_max_u: 0.995213449001\n"
       ]
      },
      {
       "output_type": "stream",
       "stream": "stdout",
       "text": [
        "\tvalid_h0_range_x_mean_u: 0.86099499464\n"
       ]
      },
      {
       "output_type": "stream",
       "stream": "stdout",
       "text": [
        "\tvalid_h0_range_x_min_u: 0.636772632599\n"
       ]
      },
      {
       "output_type": "stream",
       "stream": "stdout",
       "text": [
        "\tvalid_h0_row_norms_max: 5.12840986252\n"
       ]
      },
      {
       "output_type": "stream",
       "stream": "stdout",
       "text": [
        "\tvalid_h0_row_norms_mean: 2.56970310211\n"
       ]
      },
      {
       "output_type": "stream",
       "stream": "stdout",
       "text": [
        "\tvalid_h0_row_norms_min: 0.134243786335\n"
       ]
      },
      {
       "output_type": "stream",
       "stream": "stdout",
       "text": [
        "\tvalid_objective: 2.92192006111\n"
       ]
      },
      {
       "output_type": "stream",
       "stream": "stdout",
       "text": [
        "\tvalid_y_col_norms_max: 2.35518288612\n"
       ]
      },
      {
       "output_type": "stream",
       "stream": "stdout",
       "text": [
        "\tvalid_y_col_norms_mean: 0.801470756531\n"
       ]
      },
      {
       "output_type": "stream",
       "stream": "stdout",
       "text": [
        "\tvalid_y_col_norms_min: 0.0814076215029\n"
       ]
      },
      {
       "output_type": "stream",
       "stream": "stdout",
       "text": [
        "\tvalid_y_max_max_class: 0.928469896317\n"
       ]
      },
      {
       "output_type": "stream",
       "stream": "stdout",
       "text": [
        "\tvalid_y_mean_max_class: 0.218572482467\n"
       ]
      },
      {
       "output_type": "stream",
       "stream": "stdout",
       "text": [
        "\tvalid_y_min_max_class: 0.0401835404336\n"
       ]
      },
      {
       "output_type": "stream",
       "stream": "stdout",
       "text": [
        "\tvalid_y_misclass: 0.69779998064\n"
       ]
      },
      {
       "output_type": "stream",
       "stream": "stdout",
       "text": [
        "\tvalid_y_nll: 2.92192006111\n"
       ]
      },
      {
       "output_type": "stream",
       "stream": "stdout",
       "text": [
        "\tvalid_y_row_norms_max: 1.10304200649\n"
       ]
      },
      {
       "output_type": "stream",
       "stream": "stdout",
       "text": [
        "\tvalid_y_row_norms_mean: 0.458256155252\n"
       ]
      },
      {
       "output_type": "stream",
       "stream": "stdout",
       "text": [
        "\tvalid_y_row_norms_min: 0.139411762357\n"
       ]
      },
      {
       "output_type": "stream",
       "stream": "stdout",
       "text": [
        "Saving to mlp_01_best.pkl...\n"
       ]
      },
      {
       "output_type": "stream",
       "stream": "stdout",
       "text": [
        "Saving to mlp_01_best.pkl done. Time elapsed: 0.196090 seconds\n"
       ]
      },
      {
       "output_type": "stream",
       "stream": "stdout",
       "text": [
        "Time this epoch: 0:50:36.301855\n"
       ]
      },
      {
       "output_type": "stream",
       "stream": "stdout",
       "text": [
        "Monitoring step:\n"
       ]
      },
      {
       "output_type": "stream",
       "stream": "stdout",
       "text": [
        "\tEpochs seen: 4\n"
       ]
      },
      {
       "output_type": "stream",
       "stream": "stdout",
       "text": [
        "\tBatches seen: 20\n"
       ]
      },
      {
       "output_type": "stream",
       "stream": "stdout",
       "text": [
        "\tExamples seen: 100000\n"
       ]
      },
      {
       "output_type": "stream",
       "stream": "stdout",
       "text": [
        "\tave_grad_mult: 0.474288403988\n"
       ]
      },
      {
       "output_type": "stream",
       "stream": "stdout",
       "text": [
        "\tave_grad_size: 0.376711547375\n"
       ]
      },
      {
       "output_type": "stream",
       "stream": "stdout",
       "text": [
        "\tave_step_size: 0.15663459897\n"
       ]
      },
      {
       "output_type": "stream",
       "stream": "stdout",
       "text": [
        "\ttotal_seconds_last_epoch: 3013.12524414\n"
       ]
      },
      {
       "output_type": "stream",
       "stream": "stdout",
       "text": [
        "\ttrain_h0_col_norms_max: 5.8679151535\n"
       ]
      },
      {
       "output_type": "stream",
       "stream": "stdout",
       "text": [
        "\ttrain_h0_col_norms_mean: 3.82238101959\n"
       ]
      },
      {
       "output_type": "stream",
       "stream": "stdout",
       "text": [
        "\ttrain_h0_col_norms_min: 1.28894305229\n"
       ]
      },
      {
       "output_type": "stream",
       "stream": "stdout",
       "text": [
        "\ttrain_h0_max_x_max_u: 0.999886631966\n"
       ]
      },
      {
       "output_type": "stream",
       "stream": "stdout",
       "text": [
        "\ttrain_h0_max_x_mean_u: 0.933732628822\n"
       ]
      },
      {
       "output_type": "stream",
       "stream": "stdout",
       "text": [
        "\ttrain_h0_max_x_min_u: 0.653503239155\n"
       ]
      },
      {
       "output_type": "stream",
       "stream": "stdout",
       "text": [
        "\ttrain_h0_mean_x_max_u: 0.535980522633\n"
       ]
      },
      {
       "output_type": "stream",
       "stream": "stdout",
       "text": [
        "\ttrain_h0_mean_x_mean_u: 0.499848932028\n"
       ]
      },
      {
       "output_type": "stream",
       "stream": "stdout",
       "text": [
        "\ttrain_h0_mean_x_min_u: 0.46397420764\n"
       ]
      },
      {
       "output_type": "stream",
       "stream": "stdout",
       "text": [
        "\ttrain_h0_min_x_max_u: 0.357544690371\n"
       ]
      },
      {
       "output_type": "stream",
       "stream": "stdout",
       "text": [
        "\ttrain_h0_min_x_mean_u: 0.0621299594641\n"
       ]
      },
      {
       "output_type": "stream",
       "stream": "stdout",
       "text": [
        "\ttrain_h0_min_x_min_u: 2.64072350546e-05\n"
       ]
      },
      {
       "output_type": "stream",
       "stream": "stdout",
       "text": [
        "\ttrain_h0_range_x_max_u: 0.994634747505\n"
       ]
      },
      {
       "output_type": "stream",
       "stream": "stdout",
       "text": [
        "\ttrain_h0_range_x_mean_u: 0.871602654457\n"
       ]
      },
      {
       "output_type": "stream",
       "stream": "stdout",
       "text": [
        "\ttrain_h0_range_x_min_u: 0.612932980061\n"
       ]
      },
      {
       "output_type": "stream",
       "stream": "stdout",
       "text": [
        "\ttrain_h0_row_norms_max: 5.13038635254\n"
       ]
      },
      {
       "output_type": "stream",
       "stream": "stdout",
       "text": [
        "\ttrain_h0_row_norms_mean: 2.57573008537\n"
       ]
      },
      {
       "output_type": "stream",
       "stream": "stdout",
       "text": [
        "\ttrain_h0_row_norms_min: 0.138968124986\n"
       ]
      },
      {
       "output_type": "stream",
       "stream": "stdout",
       "text": [
        "\ttrain_objective: 2.83220863342\n"
       ]
      },
      {
       "output_type": "stream",
       "stream": "stdout",
       "text": [
        "\ttrain_y_col_norms_max: 2.67476820946\n"
       ]
      },
      {
       "output_type": "stream",
       "stream": "stdout",
       "text": [
        "\ttrain_y_col_norms_mean: 0.943074822426\n"
       ]
      },
      {
       "output_type": "stream",
       "stream": "stdout",
       "text": [
        "\ttrain_y_col_norms_min: 0.0991683378816\n"
       ]
      },
      {
       "output_type": "stream",
       "stream": "stdout",
       "text": [
        "\ttrain_y_max_max_class: 0.930972218513\n"
       ]
      },
      {
       "output_type": "stream",
       "stream": "stdout",
       "text": [
        "\ttrain_y_mean_max_class: 0.241198867559\n"
       ]
      },
      {
       "output_type": "stream",
       "stream": "stdout",
       "text": [
        "\ttrain_y_min_max_class: 0.0432914271951\n"
       ]
      },
      {
       "output_type": "stream",
       "stream": "stdout",
       "text": [
        "\ttrain_y_misclass: 0.680639982224\n"
       ]
      },
      {
       "output_type": "stream",
       "stream": "stdout",
       "text": [
        "\ttrain_y_nll: 2.83220863342\n"
       ]
      },
      {
       "output_type": "stream",
       "stream": "stdout",
       "text": [
        "\ttrain_y_row_norms_max: 1.20909500122\n"
       ]
      },
      {
       "output_type": "stream",
       "stream": "stdout",
       "text": [
        "\ttrain_y_row_norms_mean: 0.53174251318\n"
       ]
      },
      {
       "output_type": "stream",
       "stream": "stdout",
       "text": [
        "\ttrain_y_row_norms_min: 0.163384243846\n"
       ]
      },
      {
       "output_type": "stream",
       "stream": "stdout",
       "text": [
        "\ttraining_seconds_this_epoch: 3036.30175781\n"
       ]
      },
      {
       "output_type": "stream",
       "stream": "stdout",
       "text": [
        "\tvalid_h0_col_norms_max: 5.8679151535\n"
       ]
      },
      {
       "output_type": "stream",
       "stream": "stdout",
       "text": [
        "\tvalid_h0_col_norms_mean: 3.82238078117\n"
       ]
      },
      {
       "output_type": "stream",
       "stream": "stdout",
       "text": [
        "\tvalid_h0_col_norms_min: 1.28894305229\n"
       ]
      },
      {
       "output_type": "stream",
       "stream": "stdout",
       "text": [
        "\tvalid_h0_max_x_max_u: 0.999962806702\n"
       ]
      },
      {
       "output_type": "stream",
       "stream": "stdout",
       "text": [
        "\tvalid_h0_max_x_mean_u: 0.932936906815\n"
       ]
      },
      {
       "output_type": "stream",
       "stream": "stdout",
       "text": [
        "\tvalid_h0_max_x_min_u: 0.657488286495\n"
       ]
      },
      {
       "output_type": "stream",
       "stream": "stdout",
       "text": [
        "\tvalid_h0_mean_x_max_u: 0.532046854496\n"
       ]
      },
      {
       "output_type": "stream",
       "stream": "stdout",
       "text": [
        "\tvalid_h0_mean_x_mean_u: 0.5001745224\n"
       ]
      },
      {
       "output_type": "stream",
       "stream": "stdout",
       "text": [
        "\tvalid_h0_mean_x_min_u: 0.469367176294\n"
       ]
      },
      {
       "output_type": "stream",
       "stream": "stdout",
       "text": [
        "\tvalid_h0_min_x_max_u: 0.354014396667\n"
       ]
      },
      {
       "output_type": "stream",
       "stream": "stdout",
       "text": [
        "\tvalid_h0_min_x_mean_u: 0.0627511441708\n"
       ]
      },
      {
       "output_type": "stream",
       "stream": "stdout",
       "text": [
        "\tvalid_h0_min_x_min_u: 8.44338719617e-05\n"
       ]
      },
      {
       "output_type": "stream",
       "stream": "stdout",
       "text": [
        "\tvalid_h0_range_x_max_u: 0.996534109116\n"
       ]
      },
      {
       "output_type": "stream",
       "stream": "stdout",
       "text": [
        "\tvalid_h0_range_x_mean_u: 0.870185732841\n"
       ]
      },
      {
       "output_type": "stream",
       "stream": "stdout",
       "text": [
        "\tvalid_h0_range_x_min_u: 0.640812814236\n"
       ]
      },
      {
       "output_type": "stream",
       "stream": "stdout",
       "text": [
        "\tvalid_h0_row_norms_max: 5.13038635254\n"
       ]
      },
      {
       "output_type": "stream",
       "stream": "stdout",
       "text": [
        "\tvalid_h0_row_norms_mean: 2.57573008537\n"
       ]
      },
      {
       "output_type": "stream",
       "stream": "stdout",
       "text": [
        "\tvalid_h0_row_norms_min: 0.138968124986\n"
       ]
      },
      {
       "output_type": "stream",
       "stream": "stdout",
       "text": [
        "\tvalid_objective: 2.81674051285\n"
       ]
      },
      {
       "output_type": "stream",
       "stream": "stdout",
       "text": [
        "\tvalid_y_col_norms_max: 2.67476844788\n"
       ]
      },
      {
       "output_type": "stream",
       "stream": "stdout",
       "text": [
        "\tvalid_y_col_norms_mean: 0.943074822426\n"
       ]
      },
      {
       "output_type": "stream",
       "stream": "stdout",
       "text": [
        "\tvalid_y_col_norms_min: 0.0991683378816\n"
       ]
      },
      {
       "output_type": "stream",
       "stream": "stdout",
       "text": [
        "\tvalid_y_max_max_class: 0.938153445721\n"
       ]
      },
      {
       "output_type": "stream",
       "stream": "stdout",
       "text": [
        "\tvalid_y_mean_max_class: 0.244484037161\n"
       ]
      },
      {
       "output_type": "stream",
       "stream": "stdout",
       "text": [
        "\tvalid_y_min_max_class: 0.043520450592\n"
       ]
      },
      {
       "output_type": "stream",
       "stream": "stdout",
       "text": [
        "\tvalid_y_misclass: 0.679600000381\n"
       ]
      },
      {
       "output_type": "stream",
       "stream": "stdout",
       "text": [
        "\tvalid_y_nll: 2.81674051285\n"
       ]
      },
      {
       "output_type": "stream",
       "stream": "stdout",
       "text": [
        "\tvalid_y_row_norms_max: 1.20909500122\n"
       ]
      },
      {
       "output_type": "stream",
       "stream": "stdout",
       "text": [
        "\tvalid_y_row_norms_mean: 0.53174251318\n"
       ]
      },
      {
       "output_type": "stream",
       "stream": "stdout",
       "text": [
        "\tvalid_y_row_norms_min: 0.163384258747\n"
       ]
      },
      {
       "output_type": "stream",
       "stream": "stdout",
       "text": [
        "Saving to mlp_01_best.pkl...\n"
       ]
      },
      {
       "output_type": "stream",
       "stream": "stdout",
       "text": [
        "Saving to mlp_01_best.pkl done. Time elapsed: 0.197296 seconds\n"
       ]
      },
      {
       "output_type": "stream",
       "stream": "stdout",
       "text": [
        "Time this epoch: 0:50:59.250926\n"
       ]
      },
      {
       "output_type": "stream",
       "stream": "stdout",
       "text": [
        "Monitoring step:\n"
       ]
      },
      {
       "output_type": "stream",
       "stream": "stdout",
       "text": [
        "\tEpochs seen: 5\n"
       ]
      },
      {
       "output_type": "stream",
       "stream": "stdout",
       "text": [
        "\tBatches seen: 25\n"
       ]
      },
      {
       "output_type": "stream",
       "stream": "stdout",
       "text": [
        "\tExamples seen: 125000\n"
       ]
      },
      {
       "output_type": "stream",
       "stream": "stdout",
       "text": [
        "\tave_grad_mult: 0.478734225035\n"
       ]
      },
      {
       "output_type": "stream",
       "stream": "stdout",
       "text": [
        "\tave_grad_size: 0.293544501066\n"
       ]
      },
      {
       "output_type": "stream",
       "stream": "stdout",
       "text": [
        "\tave_step_size: 0.126200020313\n"
       ]
      },
      {
       "output_type": "stream",
       "stream": "stdout",
       "text": [
        "\ttotal_seconds_last_epoch: 3052.73657227\n"
       ]
      },
      {
       "output_type": "stream",
       "stream": "stdout",
       "text": [
        "\ttrain_h0_col_norms_max: 5.87194728851\n"
       ]
      },
      {
       "output_type": "stream",
       "stream": "stdout",
       "text": [
        "\ttrain_h0_col_norms_mean: 3.82963848114\n"
       ]
      },
      {
       "output_type": "stream",
       "stream": "stdout",
       "text": [
        "\ttrain_h0_col_norms_min: 1.29610896111\n"
       ]
      },
      {
       "output_type": "stream",
       "stream": "stdout",
       "text": [
        "\ttrain_h0_max_x_max_u: 0.999935984612\n"
       ]
      },
      {
       "output_type": "stream",
       "stream": "stdout",
       "text": [
        "\ttrain_h0_max_x_mean_u: 0.937140643597\n"
       ]
      },
      {
       "output_type": "stream",
       "stream": "stdout",
       "text": [
        "\ttrain_h0_max_x_min_u: 0.659849405289\n"
       ]
      },
      {
       "output_type": "stream",
       "stream": "stdout",
       "text": [
        "\ttrain_h0_mean_x_max_u: 0.534689962864\n"
       ]
      },
      {
       "output_type": "stream",
       "stream": "stdout",
       "text": [
        "\ttrain_h0_mean_x_mean_u: 0.499781757593\n"
       ]
      },
      {
       "output_type": "stream",
       "stream": "stdout",
       "text": [
        "\ttrain_h0_mean_x_min_u: 0.462582588196\n"
       ]
      },
      {
       "output_type": "stream",
       "stream": "stdout",
       "text": [
        "\ttrain_h0_min_x_max_u: 0.353555679321\n"
       ]
      },
      {
       "output_type": "stream",
       "stream": "stdout",
       "text": [
        "\ttrain_h0_min_x_mean_u: 0.0593180507421\n"
       ]
      },
      {
       "output_type": "stream",
       "stream": "stdout",
       "text": [
        "\ttrain_h0_min_x_min_u: 1.74160613824e-05\n"
       ]
      },
      {
       "output_type": "stream",
       "stream": "stdout",
       "text": [
        "\ttrain_h0_range_x_max_u: 0.995659470558\n"
       ]
      },
      {
       "output_type": "stream",
       "stream": "stdout",
       "text": [
        "\ttrain_h0_range_x_mean_u: 0.877822637558\n"
       ]
      },
      {
       "output_type": "stream",
       "stream": "stdout",
       "text": [
        "\ttrain_h0_range_x_min_u: 0.621606707573\n"
       ]
      },
      {
       "output_type": "stream",
       "stream": "stdout",
       "text": [
        "\ttrain_h0_row_norms_max: 5.13240385056\n"
       ]
      },
      {
       "output_type": "stream",
       "stream": "stdout",
       "text": [
        "\ttrain_h0_row_norms_mean: 2.58111023903\n"
       ]
      },
      {
       "output_type": "stream",
       "stream": "stdout",
       "text": [
        "\ttrain_h0_row_norms_min: 0.144247323275\n"
       ]
      },
      {
       "output_type": "stream",
       "stream": "stdout",
       "text": [
        "\ttrain_objective: 2.75519895554\n"
       ]
      },
      {
       "output_type": "stream",
       "stream": "stdout",
       "text": [
        "\ttrain_y_col_norms_max: 3.0067884922\n"
       ]
      },
      {
       "output_type": "stream",
       "stream": "stdout",
       "text": [
        "\ttrain_y_col_norms_mean: 1.05772614479\n"
       ]
      },
      {
       "output_type": "stream",
       "stream": "stdout",
       "text": [
        "\ttrain_y_col_norms_min: 0.157426074147\n"
       ]
      },
      {
       "output_type": "stream",
       "stream": "stdout",
       "text": [
        "\ttrain_y_max_max_class: 0.932651758194\n"
       ]
      },
      {
       "output_type": "stream",
       "stream": "stdout",
       "text": [
        "\ttrain_y_mean_max_class: 0.253677368164\n"
       ]
      },
      {
       "output_type": "stream",
       "stream": "stdout",
       "text": [
        "\ttrain_y_min_max_class: 0.0443854704499\n"
       ]
      },
      {
       "output_type": "stream",
       "stream": "stdout",
       "text": [
        "\ttrain_y_misclass: 0.665879964828\n"
       ]
      },
      {
       "output_type": "stream",
       "stream": "stdout",
       "text": [
        "\ttrain_y_nll: 2.75519895554\n"
       ]
      },
      {
       "output_type": "stream",
       "stream": "stdout",
       "text": [
        "\ttrain_y_row_norms_max: 1.2919896841\n"
       ]
      },
      {
       "output_type": "stream",
       "stream": "stdout",
       "text": [
        "\ttrain_y_row_norms_mean: 0.589946866035\n"
       ]
      },
      {
       "output_type": "stream",
       "stream": "stdout",
       "text": [
        "\ttrain_y_row_norms_min: 0.187508478761\n"
       ]
      },
      {
       "output_type": "stream",
       "stream": "stdout",
       "text": [
        "\ttraining_seconds_this_epoch: 3059.25097656\n"
       ]
      },
      {
       "output_type": "stream",
       "stream": "stdout",
       "text": [
        "\tvalid_h0_col_norms_max: 5.87194776535\n"
       ]
      },
      {
       "output_type": "stream",
       "stream": "stdout",
       "text": [
        "\tvalid_h0_col_norms_mean: 3.82963824272\n"
       ]
      },
      {
       "output_type": "stream",
       "stream": "stdout",
       "text": [
        "\tvalid_h0_col_norms_min: 1.2961088419\n"
       ]
      },
      {
       "output_type": "stream",
       "stream": "stdout",
       "text": [
        "\tvalid_h0_max_x_max_u: 0.999974489212\n"
       ]
      },
      {
       "output_type": "stream",
       "stream": "stdout",
       "text": [
        "\tvalid_h0_max_x_mean_u: 0.936296463013\n"
       ]
      },
      {
       "output_type": "stream",
       "stream": "stdout",
       "text": [
        "\tvalid_h0_max_x_min_u: 0.66446274519\n"
       ]
      },
      {
       "output_type": "stream",
       "stream": "stdout",
       "text": [
        "\tvalid_h0_mean_x_max_u: 0.53517127037\n"
       ]
      },
      {
       "output_type": "stream",
       "stream": "stdout",
       "text": [
        "\tvalid_h0_mean_x_mean_u: 0.500126719475\n"
       ]
      },
      {
       "output_type": "stream",
       "stream": "stdout",
       "text": [
        "\tvalid_h0_mean_x_min_u: 0.467142909765\n"
       ]
      },
      {
       "output_type": "stream",
       "stream": "stdout",
       "text": [
        "\tvalid_h0_min_x_max_u: 0.351805001497\n"
       ]
      },
      {
       "output_type": "stream",
       "stream": "stdout",
       "text": [
        "\tvalid_h0_min_x_mean_u: 0.05986751616\n"
       ]
      },
      {
       "output_type": "stream",
       "stream": "stdout",
       "text": [
        "\tvalid_h0_min_x_min_u: 5.193785546e-05\n"
       ]
      },
      {
       "output_type": "stream",
       "stream": "stdout",
       "text": [
        "\tvalid_h0_range_x_max_u: 0.997270405293\n"
       ]
      },
      {
       "output_type": "stream",
       "stream": "stdout",
       "text": [
        "\tvalid_h0_range_x_mean_u: 0.876429021358\n"
       ]
      },
      {
       "output_type": "stream",
       "stream": "stdout",
       "text": [
        "\tvalid_h0_range_x_min_u: 0.644259095192\n"
       ]
      },
      {
       "output_type": "stream",
       "stream": "stdout",
       "text": [
        "\tvalid_h0_row_norms_max: 5.13240385056\n"
       ]
      },
      {
       "output_type": "stream",
       "stream": "stdout",
       "text": [
        "\tvalid_h0_row_norms_mean: 2.58111023903\n"
       ]
      },
      {
       "output_type": "stream",
       "stream": "stdout",
       "text": [
        "\tvalid_h0_row_norms_min: 0.144247323275\n"
       ]
      },
      {
       "output_type": "stream",
       "stream": "stdout",
       "text": [
        "\tvalid_objective: 2.74818444252\n"
       ]
      },
      {
       "output_type": "stream",
       "stream": "stdout",
       "text": [
        "\tvalid_y_col_norms_max: 3.0067884922\n"
       ]
      },
      {
       "output_type": "stream",
       "stream": "stdout",
       "text": [
        "\tvalid_y_col_norms_mean: 1.05772614479\n"
       ]
      },
      {
       "output_type": "stream",
       "stream": "stdout",
       "text": [
        "\tvalid_y_col_norms_min: 0.157426074147\n"
       ]
      },
      {
       "output_type": "stream",
       "stream": "stdout",
       "text": [
        "\tvalid_y_max_max_class: 0.93653768301\n"
       ]
      },
      {
       "output_type": "stream",
       "stream": "stdout",
       "text": [
        "\tvalid_y_mean_max_class: 0.257316738367\n"
       ]
      },
      {
       "output_type": "stream",
       "stream": "stdout",
       "text": [
        "\tvalid_y_min_max_class: 0.0467200949788\n"
       ]
      },
      {
       "output_type": "stream",
       "stream": "stdout",
       "text": [
        "\tvalid_y_misclass: 0.665000021458\n"
       ]
      },
      {
       "output_type": "stream",
       "stream": "stdout",
       "text": [
        "\tvalid_y_nll: 2.74818444252\n"
       ]
      },
      {
       "output_type": "stream",
       "stream": "stdout",
       "text": [
        "\tvalid_y_row_norms_max: 1.2919896841\n"
       ]
      },
      {
       "output_type": "stream",
       "stream": "stdout",
       "text": [
        "\tvalid_y_row_norms_mean: 0.589946806431\n"
       ]
      },
      {
       "output_type": "stream",
       "stream": "stdout",
       "text": [
        "\tvalid_y_row_norms_min: 0.187508478761\n"
       ]
      },
      {
       "output_type": "stream",
       "stream": "stdout",
       "text": [
        "Saving to mlp_01_best.pkl...\n"
       ]
      },
      {
       "output_type": "stream",
       "stream": "stdout",
       "text": [
        "Saving to mlp_01_best.pkl done. Time elapsed: 0.201942 seconds\n"
       ]
      },
      {
       "output_type": "stream",
       "stream": "stdout",
       "text": [
        "Time this epoch: 0:49:55.572838\n"
       ]
      },
      {
       "output_type": "stream",
       "stream": "stdout",
       "text": [
        "Monitoring step:\n"
       ]
      },
      {
       "output_type": "stream",
       "stream": "stdout",
       "text": [
        "\tEpochs seen: 6\n"
       ]
      },
      {
       "output_type": "stream",
       "stream": "stdout",
       "text": [
        "\tBatches seen: 30\n"
       ]
      },
      {
       "output_type": "stream",
       "stream": "stdout",
       "text": [
        "\tExamples seen: 150000\n"
       ]
      },
      {
       "output_type": "stream",
       "stream": "stdout",
       "text": [
        "\tave_grad_mult: 0.493085533381\n"
       ]
      },
      {
       "output_type": "stream",
       "stream": "stdout",
       "text": [
        "\tave_grad_size: 0.240351915359\n"
       ]
      },
      {
       "output_type": "stream",
       "stream": "stdout",
       "text": [
        "\tave_step_size: 0.107382535934\n"
       ]
      },
      {
       "output_type": "stream",
       "stream": "stdout",
       "text": [
        "\ttotal_seconds_last_epoch: 3075.71557617\n"
       ]
      },
      {
       "output_type": "stream",
       "stream": "stdout",
       "text": [
        "\ttrain_h0_col_norms_max: 5.87605571747\n"
       ]
      },
      {
       "output_type": "stream",
       "stream": "stdout",
       "text": [
        "\ttrain_h0_col_norms_mean: 3.83680343628\n"
       ]
      },
      {
       "output_type": "stream",
       "stream": "stdout",
       "text": [
        "\ttrain_h0_col_norms_min: 1.30269217491\n"
       ]
      },
      {
       "output_type": "stream",
       "stream": "stdout",
       "text": [
        "\ttrain_h0_max_x_max_u: 0.99996393919\n"
       ]
      },
      {
       "output_type": "stream",
       "stream": "stdout",
       "text": [
        "\ttrain_h0_max_x_mean_u: 0.94014275074\n"
       ]
      },
      {
       "output_type": "stream",
       "stream": "stdout",
       "text": [
        "\ttrain_h0_max_x_min_u: 0.665067970753\n"
       ]
      },
      {
       "output_type": "stream",
       "stream": "stdout",
       "text": [
        "\ttrain_h0_mean_x_max_u: 0.535272836685\n"
       ]
      },
      {
       "output_type": "stream",
       "stream": "stdout",
       "text": [
        "\ttrain_h0_mean_x_mean_u: 0.499701946974\n"
       ]
      },
      {
       "output_type": "stream",
       "stream": "stdout",
       "text": [
        "\ttrain_h0_mean_x_min_u: 0.460990339518\n"
       ]
      },
      {
       "output_type": "stream",
       "stream": "stdout",
       "text": [
        "\ttrain_h0_min_x_max_u: 0.350227683783\n"
       ]
      },
      {
       "output_type": "stream",
       "stream": "stdout",
       "text": [
        "\ttrain_h0_min_x_mean_u: 0.0569358468056\n"
       ]
      },
      {
       "output_type": "stream",
       "stream": "stdout",
       "text": [
        "\ttrain_h0_min_x_min_u: 1.22931924125e-05\n"
       ]
      },
      {
       "output_type": "stream",
       "stream": "stdout",
       "text": [
        "\ttrain_h0_range_x_max_u: 0.996441066265\n"
       ]
      },
      {
       "output_type": "stream",
       "stream": "stdout",
       "text": [
        "\ttrain_h0_range_x_mean_u: 0.88320684433\n"
       ]
      },
      {
       "output_type": "stream",
       "stream": "stdout",
       "text": [
        "\ttrain_h0_range_x_min_u: 0.627358138561\n"
       ]
      },
      {
       "output_type": "stream",
       "stream": "stdout",
       "text": [
        "\ttrain_h0_row_norms_max: 5.13472366333\n"
       ]
      },
      {
       "output_type": "stream",
       "stream": "stdout",
       "text": [
        "\ttrain_h0_row_norms_mean: 2.58644938469\n"
       ]
      },
      {
       "output_type": "stream",
       "stream": "stdout",
       "text": [
        "\ttrain_h0_row_norms_min: 0.150739774108\n"
       ]
      },
      {
       "output_type": "stream",
       "stream": "stdout",
       "text": [
        "\ttrain_objective: 2.69756269455\n"
       ]
      },
      {
       "output_type": "stream",
       "stream": "stdout",
       "text": [
        "\ttrain_y_col_norms_max: 3.31510901451\n"
       ]
      },
      {
       "output_type": "stream",
       "stream": "stdout",
       "text": [
        "\ttrain_y_col_norms_mean: 1.16173577309\n"
       ]
      },
      {
       "output_type": "stream",
       "stream": "stdout",
       "text": [
        "\ttrain_y_col_norms_min: 0.143507003784\n"
       ]
      },
      {
       "output_type": "stream",
       "stream": "stdout",
       "text": [
        "\ttrain_y_max_max_class: 0.930527865887\n"
       ]
      },
      {
       "output_type": "stream",
       "stream": "stdout",
       "text": [
        "\ttrain_y_mean_max_class: 0.26792126894\n"
       ]
      },
      {
       "output_type": "stream",
       "stream": "stdout",
       "text": [
        "\ttrain_y_min_max_class: 0.0460468456149\n"
       ]
      },
      {
       "output_type": "stream",
       "stream": "stdout",
       "text": [
        "\ttrain_y_misclass: 0.657239973545\n"
       ]
      },
      {
       "output_type": "stream",
       "stream": "stdout",
       "text": [
        "\ttrain_y_nll: 2.69756269455\n"
       ]
      },
      {
       "output_type": "stream",
       "stream": "stdout",
       "text": [
        "\ttrain_y_row_norms_max: 1.35438799858\n"
       ]
      },
      {
       "output_type": "stream",
       "stream": "stdout",
       "text": [
        "\ttrain_y_row_norms_mean: 0.642559289932\n"
       ]
      },
      {
       "output_type": "stream",
       "stream": "stdout",
       "text": [
        "\ttrain_y_row_norms_min: 0.208870336413\n"
       ]
      },
      {
       "output_type": "stream",
       "stream": "stdout",
       "text": [
        "\ttraining_seconds_this_epoch: 2995.57275391\n"
       ]
      },
      {
       "output_type": "stream",
       "stream": "stdout",
       "text": [
        "\tvalid_h0_col_norms_max: 5.87605619431\n"
       ]
      },
      {
       "output_type": "stream",
       "stream": "stdout",
       "text": [
        "\tvalid_h0_col_norms_mean: 3.83680343628\n"
       ]
      },
      {
       "output_type": "stream",
       "stream": "stdout",
       "text": [
        "\tvalid_h0_col_norms_min: 1.3026920557\n"
       ]
      },
      {
       "output_type": "stream",
       "stream": "stdout",
       "text": [
        "\tvalid_h0_max_x_max_u: 0.999982535839\n"
       ]
      },
      {
       "output_type": "stream",
       "stream": "stdout",
       "text": [
        "\tvalid_h0_max_x_mean_u: 0.93923407793\n"
       ]
      },
      {
       "output_type": "stream",
       "stream": "stdout",
       "text": [
        "\tvalid_h0_max_x_min_u: 0.670117080212\n"
       ]
      },
      {
       "output_type": "stream",
       "stream": "stdout",
       "text": [
        "\tvalid_h0_mean_x_max_u: 0.5374584198\n"
       ]
      },
      {
       "output_type": "stream",
       "stream": "stdout",
       "text": [
        "\tvalid_h0_mean_x_mean_u: 0.500070631504\n"
       ]
      },
      {
       "output_type": "stream",
       "stream": "stdout",
       "text": [
        "\tvalid_h0_mean_x_min_u: 0.465195119381\n"
       ]
      },
      {
       "output_type": "stream",
       "stream": "stdout",
       "text": [
        "\tvalid_h0_min_x_max_u: 0.348931849003\n"
       ]
      },
      {
       "output_type": "stream",
       "stream": "stdout",
       "text": [
        "\tvalid_h0_min_x_mean_u: 0.0574252642691\n"
       ]
      },
      {
       "output_type": "stream",
       "stream": "stdout",
       "text": [
        "\tvalid_h0_min_x_min_u: 3.44107138517e-05\n"
       ]
      },
      {
       "output_type": "stream",
       "stream": "stdout",
       "text": [
        "\tvalid_h0_range_x_max_u: 0.997838258743\n"
       ]
      },
      {
       "output_type": "stream",
       "stream": "stdout",
       "text": [
        "\tvalid_h0_range_x_mean_u: 0.881808817387\n"
       ]
      },
      {
       "output_type": "stream",
       "stream": "stdout",
       "text": [
        "\tvalid_h0_range_x_min_u: 0.648042917252\n"
       ]
      },
      {
       "output_type": "stream",
       "stream": "stdout",
       "text": [
        "\tvalid_h0_row_norms_max: 5.13472366333\n"
       ]
      },
      {
       "output_type": "stream",
       "stream": "stdout",
       "text": [
        "\tvalid_h0_row_norms_mean: 2.58644938469\n"
       ]
      },
      {
       "output_type": "stream",
       "stream": "stdout",
       "text": [
        "\tvalid_h0_row_norms_min: 0.150739774108\n"
       ]
      },
      {
       "output_type": "stream",
       "stream": "stdout",
       "text": [
        "\tvalid_objective: 2.69612669945\n"
       ]
      },
      {
       "output_type": "stream",
       "stream": "stdout",
       "text": [
        "\tvalid_y_col_norms_max: 3.31510901451\n"
       ]
      },
      {
       "output_type": "stream",
       "stream": "stdout",
       "text": [
        "\tvalid_y_col_norms_mean: 1.16173577309\n"
       ]
      },
      {
       "output_type": "stream",
       "stream": "stdout",
       "text": [
        "\tvalid_y_col_norms_min: 0.143507003784\n"
       ]
      },
      {
       "output_type": "stream",
       "stream": "stdout",
       "text": [
        "\tvalid_y_max_max_class: 0.93465846777\n"
       ]
      },
      {
       "output_type": "stream",
       "stream": "stdout",
       "text": [
        "\tvalid_y_mean_max_class: 0.272099286318\n"
       ]
      },
      {
       "output_type": "stream",
       "stream": "stdout",
       "text": [
        "\tvalid_y_min_max_class: 0.0462024398148\n"
       ]
      },
      {
       "output_type": "stream",
       "stream": "stdout",
       "text": [
        "\tvalid_y_misclass: 0.659399986267\n"
       ]
      },
      {
       "output_type": "stream",
       "stream": "stdout",
       "text": [
        "\tvalid_y_nll: 2.69612669945\n"
       ]
      },
      {
       "output_type": "stream",
       "stream": "stdout",
       "text": [
        "\tvalid_y_row_norms_max: 1.35438799858\n"
       ]
      },
      {
       "output_type": "stream",
       "stream": "stdout",
       "text": [
        "\tvalid_y_row_norms_mean: 0.642559289932\n"
       ]
      },
      {
       "output_type": "stream",
       "stream": "stdout",
       "text": [
        "\tvalid_y_row_norms_min: 0.208870336413\n"
       ]
      },
      {
       "output_type": "stream",
       "stream": "stdout",
       "text": [
        "Saving to mlp_01_best.pkl...\n"
       ]
      },
      {
       "output_type": "stream",
       "stream": "stdout",
       "text": [
        "Saving to mlp_01_best.pkl done. Time elapsed: 0.204094 seconds\n"
       ]
      },
      {
       "output_type": "stream",
       "stream": "stdout",
       "text": [
        "Time this epoch: 0:50:10.982643\n"
       ]
      },
      {
       "output_type": "stream",
       "stream": "stdout",
       "text": [
        "Monitoring step:\n"
       ]
      },
      {
       "output_type": "stream",
       "stream": "stdout",
       "text": [
        "\tEpochs seen: 7\n"
       ]
      },
      {
       "output_type": "stream",
       "stream": "stdout",
       "text": [
        "\tBatches seen: 35\n"
       ]
      },
      {
       "output_type": "stream",
       "stream": "stdout",
       "text": [
        "\tExamples seen: 175000\n"
       ]
      },
      {
       "output_type": "stream",
       "stream": "stdout",
       "text": [
        "\tave_grad_mult: 0.510396778584\n"
       ]
      },
      {
       "output_type": "stream",
       "stream": "stdout",
       "text": [
        "\tave_grad_size: 0.206545874476\n"
       ]
      },
      {
       "output_type": "stream",
       "stream": "stdout",
       "text": [
        "\tave_step_size: 0.0968506038189\n"
       ]
      },
      {
       "output_type": "stream",
       "stream": "stdout",
       "text": [
        "\ttotal_seconds_last_epoch: 3012.33618164\n"
       ]
      },
      {
       "output_type": "stream",
       "stream": "stdout",
       "text": [
        "\ttrain_h0_col_norms_max: 5.88016605377\n"
       ]
      },
      {
       "output_type": "stream",
       "stream": "stdout",
       "text": [
        "\ttrain_h0_col_norms_mean: 3.84393262863\n"
       ]
      },
      {
       "output_type": "stream",
       "stream": "stdout",
       "text": [
        "\ttrain_h0_col_norms_min: 1.3092404604\n"
       ]
      },
      {
       "output_type": "stream",
       "stream": "stdout",
       "text": [
        "\ttrain_h0_max_x_max_u: 0.999978780746\n"
       ]
      },
      {
       "output_type": "stream",
       "stream": "stdout",
       "text": [
        "\ttrain_h0_max_x_mean_u: 0.942669689655\n"
       ]
      },
      {
       "output_type": "stream",
       "stream": "stdout",
       "text": [
        "\ttrain_h0_max_x_min_u: 0.671699523926\n"
       ]
      },
      {
       "output_type": "stream",
       "stream": "stdout",
       "text": [
        "\ttrain_h0_mean_x_max_u: 0.536420762539\n"
       ]
      },
      {
       "output_type": "stream",
       "stream": "stdout",
       "text": [
        "\ttrain_h0_mean_x_mean_u: 0.499633669853\n"
       ]
      },
      {
       "output_type": "stream",
       "stream": "stdout",
       "text": [
        "\ttrain_h0_mean_x_min_u: 0.459190219641\n"
       ]
      },
      {
       "output_type": "stream",
       "stream": "stdout",
       "text": [
        "\ttrain_h0_min_x_max_u: 0.347168713808\n"
       ]
      },
      {
       "output_type": "stream",
       "stream": "stdout",
       "text": [
        "\ttrain_h0_min_x_mean_u: 0.0549152269959\n"
       ]
      },
      {
       "output_type": "stream",
       "stream": "stdout",
       "text": [
        "\ttrain_h0_min_x_min_u: 8.88167960511e-06\n"
       ]
      },
      {
       "output_type": "stream",
       "stream": "stdout",
       "text": [
        "\ttrain_h0_range_x_max_u: 0.997010171413\n"
       ]
      },
      {
       "output_type": "stream",
       "stream": "stdout",
       "text": [
        "\ttrain_h0_range_x_mean_u: 0.887754559517\n"
       ]
      },
      {
       "output_type": "stream",
       "stream": "stdout",
       "text": [
        "\ttrain_h0_range_x_min_u: 0.634261727333\n"
       ]
      },
      {
       "output_type": "stream",
       "stream": "stdout",
       "text": [
        "\ttrain_h0_row_norms_max: 5.13726329803\n"
       ]
      },
      {
       "output_type": "stream",
       "stream": "stdout",
       "text": [
        "\ttrain_h0_row_norms_mean: 2.59178256989\n"
       ]
      },
      {
       "output_type": "stream",
       "stream": "stdout",
       "text": [
        "\ttrain_h0_row_norms_min: 0.158807709813\n"
       ]
      },
      {
       "output_type": "stream",
       "stream": "stdout",
       "text": [
        "\ttrain_objective: 2.64797830582\n"
       ]
      },
      {
       "output_type": "stream",
       "stream": "stdout",
       "text": [
        "\ttrain_y_col_norms_max: 3.6028213501\n"
       ]
      },
      {
       "output_type": "stream",
       "stream": "stdout",
       "text": [
        "\ttrain_y_col_norms_mean: 1.25899863243\n"
       ]
      },
      {
       "output_type": "stream",
       "stream": "stdout",
       "text": [
        "\ttrain_y_col_norms_min: 0.178273081779\n"
       ]
      },
      {
       "output_type": "stream",
       "stream": "stdout",
       "text": [
        "\ttrain_y_max_max_class: 0.937895536423\n"
       ]
      },
      {
       "output_type": "stream",
       "stream": "stdout",
       "text": [
        "\ttrain_y_mean_max_class: 0.274808436632\n"
       ]
      },
      {
       "output_type": "stream",
       "stream": "stdout",
       "text": [
        "\ttrain_y_min_max_class: 0.0482211895287\n"
       ]
      },
      {
       "output_type": "stream",
       "stream": "stdout",
       "text": [
        "\ttrain_y_misclass: 0.646520018578\n"
       ]
      },
      {
       "output_type": "stream",
       "stream": "stdout",
       "text": [
        "\ttrain_y_nll: 2.64797830582\n"
       ]
      },
      {
       "output_type": "stream",
       "stream": "stdout",
       "text": [
        "\ttrain_y_row_norms_max: 1.40774834156\n"
       ]
      },
      {
       "output_type": "stream",
       "stream": "stdout",
       "text": [
        "\ttrain_y_row_norms_mean: 0.691065490246\n"
       ]
      },
      {
       "output_type": "stream",
       "stream": "stdout",
       "text": [
        "\ttrain_y_row_norms_min: 0.230938017368\n"
       ]
      },
      {
       "output_type": "stream",
       "stream": "stdout",
       "text": [
        "\ttraining_seconds_this_epoch: 3010.98266602\n"
       ]
      },
      {
       "output_type": "stream",
       "stream": "stdout",
       "text": [
        "\tvalid_h0_col_norms_max: 5.88016605377\n"
       ]
      },
      {
       "output_type": "stream",
       "stream": "stdout",
       "text": [
        "\tvalid_h0_col_norms_mean: 3.84393286705\n"
       ]
      },
      {
       "output_type": "stream",
       "stream": "stdout",
       "text": [
        "\tvalid_h0_col_norms_min: 1.3092404604\n"
       ]
      },
      {
       "output_type": "stream",
       "stream": "stdout",
       "text": [
        "\tvalid_h0_max_x_max_u: 0.999987781048\n"
       ]
      },
      {
       "output_type": "stream",
       "stream": "stdout",
       "text": [
        "\tvalid_h0_max_x_mean_u: 0.941639184952\n"
       ]
      },
      {
       "output_type": "stream",
       "stream": "stdout",
       "text": [
        "\tvalid_h0_max_x_min_u: 0.676149368286\n"
       ]
      },
      {
       "output_type": "stream",
       "stream": "stdout",
       "text": [
        "\tvalid_h0_mean_x_max_u: 0.539461553097\n"
       ]
      },
      {
       "output_type": "stream",
       "stream": "stdout",
       "text": [
        "\tvalid_h0_mean_x_mean_u: 0.500020980835\n"
       ]
      },
      {
       "output_type": "stream",
       "stream": "stdout",
       "text": [
        "\tvalid_h0_mean_x_min_u: 0.463360249996\n"
       ]
      },
      {
       "output_type": "stream",
       "stream": "stdout",
       "text": [
        "\tvalid_h0_min_x_max_u: 0.346401929855\n"
       ]
      },
      {
       "output_type": "stream",
       "stream": "stdout",
       "text": [
        "\tvalid_h0_min_x_mean_u: 0.0553856641054\n"
       ]
      },
      {
       "output_type": "stream",
       "stream": "stdout",
       "text": [
        "\tvalid_h0_min_x_min_u: 2.37242584262e-05\n"
       ]
      },
      {
       "output_type": "stream",
       "stream": "stdout",
       "text": [
        "\tvalid_h0_range_x_max_u: 0.998263895512\n"
       ]
      },
      {
       "output_type": "stream",
       "stream": "stdout",
       "text": [
        "\tvalid_h0_range_x_mean_u: 0.886253535748\n"
       ]
      },
      {
       "output_type": "stream",
       "stream": "stdout",
       "text": [
        "\tvalid_h0_range_x_min_u: 0.651251733303\n"
       ]
      },
      {
       "output_type": "stream",
       "stream": "stdout",
       "text": [
        "\tvalid_h0_row_norms_max: 5.13726329803\n"
       ]
      },
      {
       "output_type": "stream",
       "stream": "stdout",
       "text": [
        "\tvalid_h0_row_norms_mean: 2.59178233147\n"
       ]
      },
      {
       "output_type": "stream",
       "stream": "stdout",
       "text": [
        "\tvalid_h0_row_norms_min: 0.158807709813\n"
       ]
      },
      {
       "output_type": "stream",
       "stream": "stdout",
       "text": [
        "\tvalid_objective: 2.65533089638\n"
       ]
      },
      {
       "output_type": "stream",
       "stream": "stdout",
       "text": [
        "\tvalid_y_col_norms_max: 3.60282111168\n"
       ]
      },
      {
       "output_type": "stream",
       "stream": "stdout",
       "text": [
        "\tvalid_y_col_norms_mean: 1.25899875164\n"
       ]
      },
      {
       "output_type": "stream",
       "stream": "stdout",
       "text": [
        "\tvalid_y_col_norms_min: 0.178273081779\n"
       ]
      },
      {
       "output_type": "stream",
       "stream": "stdout",
       "text": [
        "\tvalid_y_max_max_class: 0.937256753445\n"
       ]
      },
      {
       "output_type": "stream",
       "stream": "stdout",
       "text": [
        "\tvalid_y_mean_max_class: 0.278562784195\n"
       ]
      },
      {
       "output_type": "stream",
       "stream": "stdout",
       "text": [
        "\tvalid_y_min_max_class: 0.0479335486889\n"
       ]
      },
      {
       "output_type": "stream",
       "stream": "stdout",
       "text": [
        "\tvalid_y_misclass: 0.64880001545\n"
       ]
      },
      {
       "output_type": "stream",
       "stream": "stdout",
       "text": [
        "\tvalid_y_nll: 2.65533089638\n"
       ]
      },
      {
       "output_type": "stream",
       "stream": "stdout",
       "text": [
        "\tvalid_y_row_norms_max: 1.40774834156\n"
       ]
      },
      {
       "output_type": "stream",
       "stream": "stdout",
       "text": [
        "\tvalid_y_row_norms_mean: 0.691065490246\n"
       ]
      },
      {
       "output_type": "stream",
       "stream": "stdout",
       "text": [
        "\tvalid_y_row_norms_min: 0.230938017368\n"
       ]
      },
      {
       "output_type": "stream",
       "stream": "stdout",
       "text": [
        "Saving to mlp_01_best.pkl...\n"
       ]
      },
      {
       "output_type": "stream",
       "stream": "stdout",
       "text": [
        "Saving to mlp_01_best.pkl done. Time elapsed: 0.201048 seconds\n"
       ]
      },
      {
       "output_type": "stream",
       "stream": "stdout",
       "text": [
        "Time this epoch: 0:49:39.300833\n"
       ]
      },
      {
       "output_type": "stream",
       "stream": "stdout",
       "text": [
        "Monitoring step:\n"
       ]
      },
      {
       "output_type": "stream",
       "stream": "stdout",
       "text": [
        "\tEpochs seen: 8\n"
       ]
      },
      {
       "output_type": "stream",
       "stream": "stdout",
       "text": [
        "\tBatches seen: 40\n"
       ]
      },
      {
       "output_type": "stream",
       "stream": "stdout",
       "text": [
        "\tExamples seen: 200000\n"
       ]
      },
      {
       "output_type": "stream",
       "stream": "stdout",
       "text": [
        "\tave_grad_mult: 0.507705330849\n"
       ]
      },
      {
       "output_type": "stream",
       "stream": "stdout",
       "text": [
        "\tave_grad_size: 0.185987785459\n"
       ]
      },
      {
       "output_type": "stream",
       "stream": "stdout",
       "text": [
        "\tave_step_size: 0.0886419117451\n"
       ]
      },
      {
       "output_type": "stream",
       "stream": "stdout",
       "text": [
        "\ttotal_seconds_last_epoch: 3027.42822266\n"
       ]
      },
      {
       "output_type": "stream",
       "stream": "stdout",
       "text": [
        "\ttrain_h0_col_norms_max: 5.88395118713\n"
       ]
      },
      {
       "output_type": "stream",
       "stream": "stdout",
       "text": [
        "\ttrain_h0_col_norms_mean: 3.85039329529\n"
       ]
      },
      {
       "output_type": "stream",
       "stream": "stdout",
       "text": [
        "\ttrain_h0_col_norms_min: 1.31436955929\n"
       ]
      },
      {
       "output_type": "stream",
       "stream": "stdout",
       "text": [
        "\ttrain_h0_max_x_max_u: 0.999986469746\n"
       ]
      },
      {
       "output_type": "stream",
       "stream": "stdout",
       "text": [
        "\ttrain_h0_max_x_mean_u: 0.944748163223\n"
       ]
      },
      {
       "output_type": "stream",
       "stream": "stdout",
       "text": [
        "\ttrain_h0_max_x_min_u: 0.674798309803\n"
       ]
      },
      {
       "output_type": "stream",
       "stream": "stdout",
       "text": [
        "\ttrain_h0_mean_x_max_u: 0.537388086319\n"
       ]
      },
      {
       "output_type": "stream",
       "stream": "stdout",
       "text": [
        "\ttrain_h0_mean_x_mean_u: 0.499570935965\n"
       ]
      },
      {
       "output_type": "stream",
       "stream": "stdout",
       "text": [
        "\ttrain_h0_mean_x_min_u: 0.457420378923\n"
       ]
      },
      {
       "output_type": "stream",
       "stream": "stdout",
       "text": [
        "\ttrain_h0_min_x_max_u: 0.344018042088\n"
       ]
      },
      {
       "output_type": "stream",
       "stream": "stdout",
       "text": [
        "\ttrain_h0_min_x_mean_u: 0.0533233731985\n"
       ]
      },
      {
       "output_type": "stream",
       "stream": "stdout",
       "text": [
        "\ttrain_h0_min_x_min_u: 6.93975607646e-06\n"
       ]
      },
      {
       "output_type": "stream",
       "stream": "stdout",
       "text": [
        "\ttrain_h0_range_x_max_u: 0.997566461563\n"
       ]
      },
      {
       "output_type": "stream",
       "stream": "stdout",
       "text": [
        "\ttrain_h0_range_x_mean_u: 0.891424775124\n"
       ]
      },
      {
       "output_type": "stream",
       "stream": "stdout",
       "text": [
        "\ttrain_h0_range_x_min_u: 0.641375660896\n"
       ]
      },
      {
       "output_type": "stream",
       "stream": "stdout",
       "text": [
        "\ttrain_h0_row_norms_max: 5.13974285126\n"
       ]
      },
      {
       "output_type": "stream",
       "stream": "stdout",
       "text": [
        "\ttrain_h0_row_norms_mean: 2.59662866592\n"
       ]
      },
      {
       "output_type": "stream",
       "stream": "stdout",
       "text": [
        "\ttrain_h0_row_norms_min: 0.166988164186\n"
       ]
      },
      {
       "output_type": "stream",
       "stream": "stdout",
       "text": [
        "\ttrain_objective: 2.61066651344\n"
       ]
      },
      {
       "output_type": "stream",
       "stream": "stdout",
       "text": [
        "\ttrain_y_col_norms_max: 3.84885811806\n"
       ]
      },
      {
       "output_type": "stream",
       "stream": "stdout",
       "text": [
        "\ttrain_y_col_norms_mean: 1.34094250202\n"
       ]
      },
      {
       "output_type": "stream",
       "stream": "stdout",
       "text": [
        "\ttrain_y_col_norms_min: 0.198744565248\n"
       ]
      },
      {
       "output_type": "stream",
       "stream": "stdout",
       "text": [
        "\ttrain_y_max_max_class: 0.947135090828\n"
       ]
      },
      {
       "output_type": "stream",
       "stream": "stdout",
       "text": [
        "\ttrain_y_mean_max_class: 0.28368896246\n"
       ]
      },
      {
       "output_type": "stream",
       "stream": "stdout",
       "text": [
        "\ttrain_y_min_max_class: 0.0521556511521\n"
       ]
      },
      {
       "output_type": "stream",
       "stream": "stdout",
       "text": [
        "\ttrain_y_misclass: 0.639719963074\n"
       ]
      },
      {
       "output_type": "stream",
       "stream": "stdout",
       "text": [
        "\ttrain_y_nll: 2.61066651344\n"
       ]
      },
      {
       "output_type": "stream",
       "stream": "stdout",
       "text": [
        "\ttrain_y_row_norms_max: 1.44979381561\n"
       ]
      },
      {
       "output_type": "stream",
       "stream": "stdout",
       "text": [
        "\ttrain_y_row_norms_mean: 0.732074856758\n"
       ]
      },
      {
       "output_type": "stream",
       "stream": "stdout",
       "text": [
        "\ttrain_y_row_norms_min: 0.250705748796\n"
       ]
      },
      {
       "output_type": "stream",
       "stream": "stdout",
       "text": [
        "\ttraining_seconds_this_epoch: 2979.30078125\n"
       ]
      },
      {
       "output_type": "stream",
       "stream": "stdout",
       "text": [
        "\tvalid_h0_col_norms_max: 5.88395118713\n"
       ]
      },
      {
       "output_type": "stream",
       "stream": "stdout",
       "text": [
        "\tvalid_h0_col_norms_mean: 3.85039329529\n"
       ]
      },
      {
       "output_type": "stream",
       "stream": "stdout",
       "text": [
        "\tvalid_h0_col_norms_min: 1.31436955929\n"
       ]
      },
      {
       "output_type": "stream",
       "stream": "stdout",
       "text": [
        "\tvalid_h0_max_x_max_u: 0.999991118908\n"
       ]
      },
      {
       "output_type": "stream",
       "stream": "stdout",
       "text": [
        "\tvalid_h0_max_x_mean_u: 0.943677723408\n"
       ]
      },
      {
       "output_type": "stream",
       "stream": "stdout",
       "text": [
        "\tvalid_h0_max_x_min_u: 0.678993701935\n"
       ]
      },
      {
       "output_type": "stream",
       "stream": "stdout",
       "text": [
        "\tvalid_h0_mean_x_max_u: 0.540350735188\n"
       ]
      },
      {
       "output_type": "stream",
       "stream": "stdout",
       "text": [
        "\tvalid_h0_mean_x_mean_u: 0.499972403049\n"
       ]
      },
      {
       "output_type": "stream",
       "stream": "stdout",
       "text": [
        "\tvalid_h0_mean_x_min_u: 0.461566656828\n"
       ]
      },
      {
       "output_type": "stream",
       "stream": "stdout",
       "text": [
        "\tvalid_h0_min_x_max_u: 0.344592779875\n"
       ]
      },
      {
       "output_type": "stream",
       "stream": "stdout",
       "text": [
        "\tvalid_h0_min_x_mean_u: 0.0537398569286\n"
       ]
      },
      {
       "output_type": "stream",
       "stream": "stdout",
       "text": [
        "\tvalid_h0_min_x_min_u: 1.79192193173e-05\n"
       ]
      },
      {
       "output_type": "stream",
       "stream": "stdout",
       "text": [
        "\tvalid_h0_range_x_max_u: 0.998580098152\n"
       ]
      },
      {
       "output_type": "stream",
       "stream": "stdout",
       "text": [
        "\tvalid_h0_range_x_mean_u: 0.889937877655\n"
       ]
      },
      {
       "output_type": "stream",
       "stream": "stdout",
       "text": [
        "\tvalid_h0_range_x_min_u: 0.653512358665\n"
       ]
      },
      {
       "output_type": "stream",
       "stream": "stdout",
       "text": [
        "\tvalid_h0_row_norms_max: 5.13974285126\n"
       ]
      },
      {
       "output_type": "stream",
       "stream": "stdout",
       "text": [
        "\tvalid_h0_row_norms_mean: 2.59662866592\n"
       ]
      },
      {
       "output_type": "stream",
       "stream": "stdout",
       "text": [
        "\tvalid_h0_row_norms_min: 0.166988164186\n"
       ]
      },
      {
       "output_type": "stream",
       "stream": "stdout",
       "text": [
        "\tvalid_objective: 2.6263999939\n"
       ]
      },
      {
       "output_type": "stream",
       "stream": "stdout",
       "text": [
        "\tvalid_y_col_norms_max: 3.84885811806\n"
       ]
      },
      {
       "output_type": "stream",
       "stream": "stdout",
       "text": [
        "\tvalid_y_col_norms_mean: 1.34094250202\n"
       ]
      },
      {
       "output_type": "stream",
       "stream": "stdout",
       "text": [
        "\tvalid_y_col_norms_min: 0.198744565248\n"
       ]
      },
      {
       "output_type": "stream",
       "stream": "stdout",
       "text": [
        "\tvalid_y_max_max_class: 0.947392165661\n"
       ]
      },
      {
       "output_type": "stream",
       "stream": "stdout",
       "text": [
        "\tvalid_y_mean_max_class: 0.287446647882\n"
       ]
      },
      {
       "output_type": "stream",
       "stream": "stdout",
       "text": [
        "\tvalid_y_min_max_class: 0.0460251346231\n"
       ]
      },
      {
       "output_type": "stream",
       "stream": "stdout",
       "text": [
        "\tvalid_y_misclass: 0.642199993134\n"
       ]
      },
      {
       "output_type": "stream",
       "stream": "stdout",
       "text": [
        "\tvalid_y_nll: 2.6263999939\n"
       ]
      },
      {
       "output_type": "stream",
       "stream": "stdout",
       "text": [
        "\tvalid_y_row_norms_max: 1.44979381561\n"
       ]
      },
      {
       "output_type": "stream",
       "stream": "stdout",
       "text": [
        "\tvalid_y_row_norms_mean: 0.732074856758\n"
       ]
      },
      {
       "output_type": "stream",
       "stream": "stdout",
       "text": [
        "\tvalid_y_row_norms_min: 0.250705748796\n"
       ]
      },
      {
       "output_type": "stream",
       "stream": "stdout",
       "text": [
        "Saving to mlp_01_best.pkl...\n"
       ]
      },
      {
       "output_type": "stream",
       "stream": "stdout",
       "text": [
        "Saving to mlp_01_best.pkl done. Time elapsed: 0.207297 seconds\n"
       ]
      },
      {
       "output_type": "stream",
       "stream": "stdout",
       "text": [
        "Time this epoch: 0:49:43.801358\n"
       ]
      },
      {
       "output_type": "stream",
       "stream": "stdout",
       "text": [
        "Monitoring step:\n"
       ]
      },
      {
       "output_type": "stream",
       "stream": "stdout",
       "text": [
        "\tEpochs seen: 9\n"
       ]
      },
      {
       "output_type": "stream",
       "stream": "stdout",
       "text": [
        "\tBatches seen: 45\n"
       ]
      },
      {
       "output_type": "stream",
       "stream": "stdout",
       "text": [
        "\tExamples seen: 225000\n"
       ]
      },
      {
       "output_type": "stream",
       "stream": "stdout",
       "text": [
        "\tave_grad_mult: 0.512242555618\n"
       ]
      },
      {
       "output_type": "stream",
       "stream": "stdout",
       "text": [
        "\tave_grad_size: 0.172561168671\n"
       ]
      },
      {
       "output_type": "stream",
       "stream": "stdout",
       "text": [
        "\tave_step_size: 0.0838191509247\n"
       ]
      },
      {
       "output_type": "stream",
       "stream": "stdout",
       "text": [
        "\ttotal_seconds_last_epoch: 2995.71484375\n"
       ]
      },
      {
       "output_type": "stream",
       "stream": "stdout",
       "text": [
        "\ttrain_h0_col_norms_max: 5.88776016235\n"
       ]
      },
      {
       "output_type": "stream",
       "stream": "stdout",
       "text": [
        "\ttrain_h0_col_norms_mean: 3.8567533493\n"
       ]
      },
      {
       "output_type": "stream",
       "stream": "stdout",
       "text": [
        "\ttrain_h0_col_norms_min: 1.31922733784\n"
       ]
      },
      {
       "output_type": "stream",
       "stream": "stdout",
       "text": [
        "\ttrain_h0_max_x_max_u: 0.999991059303\n"
       ]
      },
      {
       "output_type": "stream",
       "stream": "stdout",
       "text": [
        "\ttrain_h0_max_x_mean_u: 0.946554660797\n"
       ]
      },
      {
       "output_type": "stream",
       "stream": "stdout",
       "text": [
        "\ttrain_h0_max_x_min_u: 0.678335785866\n"
       ]
      },
      {
       "output_type": "stream",
       "stream": "stdout",
       "text": [
        "\ttrain_h0_mean_x_max_u: 0.538354694843\n"
       ]
      },
      {
       "output_type": "stream",
       "stream": "stdout",
       "text": [
        "\ttrain_h0_mean_x_mean_u: 0.499501407146\n"
       ]
      },
      {
       "output_type": "stream",
       "stream": "stdout",
       "text": [
        "\ttrain_h0_mean_x_min_u: 0.455896437168\n"
       ]
      },
      {
       "output_type": "stream",
       "stream": "stdout",
       "text": [
        "\ttrain_h0_min_x_max_u: 0.341920375824\n"
       ]
      },
      {
       "output_type": "stream",
       "stream": "stdout",
       "text": [
        "\ttrain_h0_min_x_mean_u: 0.0519451983273\n"
       ]
      },
      {
       "output_type": "stream",
       "stream": "stdout",
       "text": [
        "\ttrain_h0_min_x_min_u: 5.15842248205e-06\n"
       ]
      },
      {
       "output_type": "stream",
       "stream": "stdout",
       "text": [
        "\ttrain_h0_range_x_max_u: 0.998022198677\n"
       ]
      },
      {
       "output_type": "stream",
       "stream": "stdout",
       "text": [
        "\ttrain_h0_range_x_mean_u: 0.894609570503\n"
       ]
      },
      {
       "output_type": "stream",
       "stream": "stdout",
       "text": [
        "\ttrain_h0_range_x_min_u: 0.6476303339\n"
       ]
      },
      {
       "output_type": "stream",
       "stream": "stdout",
       "text": [
        "\ttrain_h0_row_norms_max: 5.14239788055\n"
       ]
      },
      {
       "output_type": "stream",
       "stream": "stdout",
       "text": [
        "\ttrain_h0_row_norms_mean: 2.60141730309\n"
       ]
      },
      {
       "output_type": "stream",
       "stream": "stdout",
       "text": [
        "\ttrain_h0_row_norms_min: 0.176612257957\n"
       ]
      },
      {
       "output_type": "stream",
       "stream": "stdout",
       "text": [
        "\ttrain_objective: 2.57944440842\n"
       ]
      },
      {
       "output_type": "stream",
       "stream": "stdout",
       "text": [
        "\ttrain_y_col_norms_max: 4.07505750656\n"
       ]
      },
      {
       "output_type": "stream",
       "stream": "stdout",
       "text": [
        "\ttrain_y_col_norms_mean: 1.41699135303\n"
       ]
      },
      {
       "output_type": "stream",
       "stream": "stdout",
       "text": [
        "\ttrain_y_col_norms_min: 0.225013032556\n"
       ]
      },
      {
       "output_type": "stream",
       "stream": "stdout",
       "text": [
        "\ttrain_y_max_max_class: 0.963571965694\n"
       ]
      },
      {
       "output_type": "stream",
       "stream": "stdout",
       "text": [
        "\ttrain_y_mean_max_class: 0.296828687191\n"
       ]
      },
      {
       "output_type": "stream",
       "stream": "stdout",
       "text": [
        "\ttrain_y_min_max_class: 0.0519020110369\n"
       ]
      },
      {
       "output_type": "stream",
       "stream": "stdout",
       "text": [
        "\ttrain_y_misclass: 0.635079979897\n"
       ]
      },
      {
       "output_type": "stream",
       "stream": "stdout",
       "text": [
        "\ttrain_y_nll: 2.57944440842\n"
       ]
      },
      {
       "output_type": "stream",
       "stream": "stdout",
       "text": [
        "\ttrain_y_row_norms_max: 1.50115299225\n"
       ]
      },
      {
       "output_type": "stream",
       "stream": "stdout",
       "text": [
        "\ttrain_y_row_norms_mean: 0.770011544228\n"
       ]
      },
      {
       "output_type": "stream",
       "stream": "stdout",
       "text": [
        "\ttrain_y_row_norms_min: 0.272420048714\n"
       ]
      },
      {
       "output_type": "stream",
       "stream": "stdout",
       "text": [
        "\ttraining_seconds_this_epoch: 2983.80126953\n"
       ]
      },
      {
       "output_type": "stream",
       "stream": "stdout",
       "text": [
        "\tvalid_h0_col_norms_max: 5.88775968552\n"
       ]
      },
      {
       "output_type": "stream",
       "stream": "stdout",
       "text": [
        "\tvalid_h0_col_norms_mean: 3.85675358772\n"
       ]
      },
      {
       "output_type": "stream",
       "stream": "stdout",
       "text": [
        "\tvalid_h0_col_norms_min: 1.31922733784\n"
       ]
      },
      {
       "output_type": "stream",
       "stream": "stdout",
       "text": [
        "\tvalid_h0_max_x_max_u: 0.999993681908\n"
       ]
      },
      {
       "output_type": "stream",
       "stream": "stdout",
       "text": [
        "\tvalid_h0_max_x_mean_u: 0.945478975773\n"
       ]
      },
      {
       "output_type": "stream",
       "stream": "stdout",
       "text": [
        "\tvalid_h0_max_x_min_u: 0.681665062904\n"
       ]
      },
      {
       "output_type": "stream",
       "stream": "stdout",
       "text": [
        "\tvalid_h0_mean_x_max_u: 0.541202425957\n"
       ]
      },
      {
       "output_type": "stream",
       "stream": "stdout",
       "text": [
        "\tvalid_h0_mean_x_mean_u: 0.499916017056\n"
       ]
      },
      {
       "output_type": "stream",
       "stream": "stdout",
       "text": [
        "\tvalid_h0_mean_x_min_u: 0.460008531809\n"
       ]
      },
      {
       "output_type": "stream",
       "stream": "stdout",
       "text": [
        "\tvalid_h0_min_x_max_u: 0.342616289854\n"
       ]
      },
      {
       "output_type": "stream",
       "stream": "stdout",
       "text": [
        "\tvalid_h0_min_x_mean_u: 0.0523255802691\n"
       ]
      },
      {
       "output_type": "stream",
       "stream": "stdout",
       "text": [
        "\tvalid_h0_min_x_min_u: 1.36199760163e-05\n"
       ]
      },
      {
       "output_type": "stream",
       "stream": "stdout",
       "text": [
        "\tvalid_h0_range_x_max_u: 0.998846888542\n"
       ]
      },
      {
       "output_type": "stream",
       "stream": "stdout",
       "text": [
        "\tvalid_h0_range_x_mean_u: 0.893153488636\n"
       ]
      },
      {
       "output_type": "stream",
       "stream": "stdout",
       "text": [
        "\tvalid_h0_range_x_min_u: 0.655858159065\n"
       ]
      },
      {
       "output_type": "stream",
       "stream": "stdout",
       "text": [
        "\tvalid_h0_row_norms_max: 5.14239788055\n"
       ]
      },
      {
       "output_type": "stream",
       "stream": "stdout",
       "text": [
        "\tvalid_h0_row_norms_mean: 2.60141730309\n"
       ]
      },
      {
       "output_type": "stream",
       "stream": "stdout",
       "text": [
        "\tvalid_h0_row_norms_min: 0.176612243056\n"
       ]
      },
      {
       "output_type": "stream",
       "stream": "stdout",
       "text": [
        "\tvalid_objective: 2.59917116165\n"
       ]
      },
      {
       "output_type": "stream",
       "stream": "stdout",
       "text": [
        "\tvalid_y_col_norms_max: 4.07505750656\n"
       ]
      },
      {
       "output_type": "stream",
       "stream": "stdout",
       "text": [
        "\tvalid_y_col_norms_mean: 1.41699135303\n"
       ]
      },
      {
       "output_type": "stream",
       "stream": "stdout",
       "text": [
        "\tvalid_y_col_norms_min: 0.225013032556\n"
       ]
      },
      {
       "output_type": "stream",
       "stream": "stdout",
       "text": [
        "\tvalid_y_max_max_class: 0.965503036976\n"
       ]
      },
      {
       "output_type": "stream",
       "stream": "stdout",
       "text": [
        "\tvalid_y_mean_max_class: 0.301045179367\n"
       ]
      },
      {
       "output_type": "stream",
       "stream": "stdout",
       "text": [
        "\tvalid_y_min_max_class: 0.0529035329819\n"
       ]
      },
      {
       "output_type": "stream",
       "stream": "stdout",
       "text": [
        "\tvalid_y_misclass: 0.638400018215\n"
       ]
      },
      {
       "output_type": "stream",
       "stream": "stdout",
       "text": [
        "\tvalid_y_nll: 2.59917116165\n"
       ]
      },
      {
       "output_type": "stream",
       "stream": "stdout",
       "text": [
        "\tvalid_y_row_norms_max: 1.50115299225\n"
       ]
      },
      {
       "output_type": "stream",
       "stream": "stdout",
       "text": [
        "\tvalid_y_row_norms_mean: 0.770011544228\n"
       ]
      },
      {
       "output_type": "stream",
       "stream": "stdout",
       "text": [
        "\tvalid_y_row_norms_min: 0.272420048714\n"
       ]
      },
      {
       "output_type": "stream",
       "stream": "stdout",
       "text": [
        "Saving to mlp_01_best.pkl...\n"
       ]
      },
      {
       "output_type": "stream",
       "stream": "stdout",
       "text": [
        "Saving to mlp_01_best.pkl done. Time elapsed: 0.202562 seconds\n"
       ]
      },
      {
       "output_type": "stream",
       "stream": "stdout",
       "text": [
        "Time this epoch: 0:49:19.719680\n"
       ]
      },
      {
       "output_type": "stream",
       "stream": "stdout",
       "text": [
        "Monitoring step:\n"
       ]
      },
      {
       "output_type": "stream",
       "stream": "stdout",
       "text": [
        "\tEpochs seen: 10\n"
       ]
      },
      {
       "output_type": "stream",
       "stream": "stdout",
       "text": [
        "\tBatches seen: 50\n"
       ]
      },
      {
       "output_type": "stream",
       "stream": "stdout",
       "text": [
        "\tExamples seen: 250000\n"
       ]
      },
      {
       "output_type": "stream",
       "stream": "stdout",
       "text": [
        "\tave_grad_mult: 0.515571951866\n"
       ]
      },
      {
       "output_type": "stream",
       "stream": "stdout",
       "text": [
        "\tave_grad_size: 0.163772732019\n"
       ]
      },
      {
       "output_type": "stream",
       "stream": "stdout",
       "text": [
        "\tave_step_size: 0.081086859107\n"
       ]
      },
      {
       "output_type": "stream",
       "stream": "stdout",
       "text": [
        "\ttotal_seconds_last_epoch: 3000.24755859\n"
       ]
      },
      {
       "output_type": "stream",
       "stream": "stdout",
       "text": [
        "\ttrain_h0_col_norms_max: 5.89123630524\n"
       ]
      },
      {
       "output_type": "stream",
       "stream": "stdout",
       "text": [
        "\ttrain_h0_col_norms_mean: 3.86283302307\n"
       ]
      },
      {
       "output_type": "stream",
       "stream": "stdout",
       "text": [
        "\ttrain_h0_col_norms_min: 1.32374179363\n"
       ]
      },
      {
       "output_type": "stream",
       "stream": "stdout",
       "text": [
        "\ttrain_h0_max_x_max_u: 0.999993860722\n"
       ]
      },
      {
       "output_type": "stream",
       "stream": "stdout",
       "text": [
        "\ttrain_h0_max_x_mean_u: 0.947971820831\n"
       ]
      },
      {
       "output_type": "stream",
       "stream": "stdout",
       "text": [
        "\ttrain_h0_max_x_min_u: 0.682513773441\n"
       ]
      },
      {
       "output_type": "stream",
       "stream": "stdout",
       "text": [
        "\ttrain_h0_mean_x_max_u: 0.53957349062\n"
       ]
      },
      {
       "output_type": "stream",
       "stream": "stdout",
       "text": [
        "\ttrain_h0_mean_x_mean_u: 0.499445527792\n"
       ]
      },
      {
       "output_type": "stream",
       "stream": "stdout",
       "text": [
        "\ttrain_h0_mean_x_min_u: 0.454266786575\n"
       ]
      },
      {
       "output_type": "stream",
       "stream": "stdout",
       "text": [
        "\ttrain_h0_min_x_max_u: 0.339193046093\n"
       ]
      },
      {
       "output_type": "stream",
       "stream": "stdout",
       "text": [
        "\ttrain_h0_min_x_mean_u: 0.0508199818432\n"
       ]
      },
      {
       "output_type": "stream",
       "stream": "stdout",
       "text": [
        "\ttrain_h0_min_x_min_u: 3.79221842195e-06\n"
       ]
      },
      {
       "output_type": "stream",
       "stream": "stdout",
       "text": [
        "\ttrain_h0_range_x_max_u: 0.998379290104\n"
       ]
      },
      {
       "output_type": "stream",
       "stream": "stdout",
       "text": [
        "\ttrain_h0_range_x_mean_u: 0.897151768208\n"
       ]
      },
      {
       "output_type": "stream",
       "stream": "stdout",
       "text": [
        "\ttrain_h0_range_x_min_u: 0.653655767441\n"
       ]
      },
      {
       "output_type": "stream",
       "stream": "stdout",
       "text": [
        "\ttrain_h0_row_norms_max: 5.14489603043\n"
       ]
      },
      {
       "output_type": "stream",
       "stream": "stdout",
       "text": [
        "\ttrain_h0_row_norms_mean: 2.60600137711\n"
       ]
      },
      {
       "output_type": "stream",
       "stream": "stdout",
       "text": [
        "\ttrain_h0_row_norms_min: 0.186730459332\n"
       ]
      },
      {
       "output_type": "stream",
       "stream": "stdout",
       "text": [
        "\ttrain_objective: 2.54765129089\n"
       ]
      },
      {
       "output_type": "stream",
       "stream": "stdout",
       "text": [
        "\ttrain_y_col_norms_max: 4.27872514725\n"
       ]
      },
      {
       "output_type": "stream",
       "stream": "stdout",
       "text": [
        "\ttrain_y_col_norms_mean: 1.48619961739\n"
       ]
      },
      {
       "output_type": "stream",
       "stream": "stdout",
       "text": [
        "\ttrain_y_col_norms_min: 0.23299202323\n"
       ]
      },
      {
       "output_type": "stream",
       "stream": "stdout",
       "text": [
        "\ttrain_y_max_max_class: 0.956538379192\n"
       ]
      },
      {
       "output_type": "stream",
       "stream": "stdout",
       "text": [
        "\ttrain_y_mean_max_class: 0.298309028149\n"
       ]
      },
      {
       "output_type": "stream",
       "stream": "stdout",
       "text": [
        "\ttrain_y_min_max_class: 0.0551566891372\n"
       ]
      },
      {
       "output_type": "stream",
       "stream": "stdout",
       "text": [
        "\ttrain_y_misclass: 0.628280043602\n"
       ]
      },
      {
       "output_type": "stream",
       "stream": "stdout",
       "text": [
        "\ttrain_y_nll: 2.54765129089\n"
       ]
      },
      {
       "output_type": "stream",
       "stream": "stdout",
       "text": [
        "\ttrain_y_row_norms_max: 1.55371797085\n"
       ]
      },
      {
       "output_type": "stream",
       "stream": "stdout",
       "text": [
        "\ttrain_y_row_norms_mean: 0.804346144199\n"
       ]
      },
      {
       "output_type": "stream",
       "stream": "stdout",
       "text": [
        "\ttrain_y_row_norms_min: 0.291658073664\n"
       ]
      },
      {
       "output_type": "stream",
       "stream": "stdout",
       "text": [
        "\ttraining_seconds_this_epoch: 2959.71972656\n"
       ]
      },
      {
       "output_type": "stream",
       "stream": "stdout",
       "text": [
        "\tvalid_h0_col_norms_max: 5.89123630524\n"
       ]
      },
      {
       "output_type": "stream",
       "stream": "stdout",
       "text": [
        "\tvalid_h0_col_norms_mean: 3.86283326149\n"
       ]
      },
      {
       "output_type": "stream",
       "stream": "stdout",
       "text": [
        "\tvalid_h0_col_norms_min: 1.32374179363\n"
       ]
      },
      {
       "output_type": "stream",
       "stream": "stdout",
       "text": [
        "\tvalid_h0_max_x_max_u: 0.999995589256\n"
       ]
      },
      {
       "output_type": "stream",
       "stream": "stdout",
       "text": [
        "\tvalid_h0_max_x_mean_u: 0.946926057339\n"
       ]
      },
      {
       "output_type": "stream",
       "stream": "stdout",
       "text": [
        "\tvalid_h0_max_x_min_u: 0.68495041132\n"
       ]
      },
      {
       "output_type": "stream",
       "stream": "stdout",
       "text": [
        "\tvalid_h0_mean_x_max_u: 0.541872024536\n"
       ]
      },
      {
       "output_type": "stream",
       "stream": "stdout",
       "text": [
        "\tvalid_h0_mean_x_mean_u: 0.499870508909\n"
       ]
      },
      {
       "output_type": "stream",
       "stream": "stdout",
       "text": [
        "\tvalid_h0_mean_x_min_u: 0.458372324705\n"
       ]
      },
      {
       "output_type": "stream",
       "stream": "stdout",
       "text": [
        "\tvalid_h0_min_x_max_u: 0.339118778706\n"
       ]
      },
      {
       "output_type": "stream",
       "stream": "stdout",
       "text": [
        "\tvalid_h0_min_x_mean_u: 0.0511769577861\n"
       ]
      },
      {
       "output_type": "stream",
       "stream": "stdout",
       "text": [
        "\tvalid_h0_min_x_min_u: 1.04335131255e-05\n"
       ]
      },
      {
       "output_type": "stream",
       "stream": "stdout",
       "text": [
        "\tvalid_h0_range_x_max_u: 0.999050796032\n"
       ]
      },
      {
       "output_type": "stream",
       "stream": "stdout",
       "text": [
        "\tvalid_h0_range_x_mean_u: 0.895749092102\n"
       ]
      },
      {
       "output_type": "stream",
       "stream": "stdout",
       "text": [
        "\tvalid_h0_range_x_min_u: 0.659628152847\n"
       ]
      },
      {
       "output_type": "stream",
       "stream": "stdout",
       "text": [
        "\tvalid_h0_row_norms_max: 5.14489555359\n"
       ]
      },
      {
       "output_type": "stream",
       "stream": "stdout",
       "text": [
        "\tvalid_h0_row_norms_mean: 2.60600137711\n"
       ]
      },
      {
       "output_type": "stream",
       "stream": "stdout",
       "text": [
        "\tvalid_h0_row_norms_min: 0.186730459332\n"
       ]
      },
      {
       "output_type": "stream",
       "stream": "stdout",
       "text": [
        "\tvalid_objective: 2.57688498497\n"
       ]
      },
      {
       "output_type": "stream",
       "stream": "stdout",
       "text": [
        "\tvalid_y_col_norms_max: 4.27872514725\n"
       ]
      },
      {
       "output_type": "stream",
       "stream": "stdout",
       "text": [
        "\tvalid_y_col_norms_mean: 1.48619961739\n"
       ]
      },
      {
       "output_type": "stream",
       "stream": "stdout",
       "text": [
        "\tvalid_y_col_norms_min: 0.23299202323\n"
       ]
      },
      {
       "output_type": "stream",
       "stream": "stdout",
       "text": [
        "\tvalid_y_max_max_class: 0.956541121006\n"
       ]
      },
      {
       "output_type": "stream",
       "stream": "stdout",
       "text": [
        "\tvalid_y_mean_max_class: 0.301685601473\n"
       ]
      },
      {
       "output_type": "stream",
       "stream": "stdout",
       "text": [
        "\tvalid_y_min_max_class: 0.0497659407556\n"
       ]
      },
      {
       "output_type": "stream",
       "stream": "stdout",
       "text": [
        "\tvalid_y_misclass: 0.632399976254\n"
       ]
      },
      {
       "output_type": "stream",
       "stream": "stdout",
       "text": [
        "\tvalid_y_nll: 2.57688498497\n"
       ]
      },
      {
       "output_type": "stream",
       "stream": "stdout",
       "text": [
        "\tvalid_y_row_norms_max: 1.55371797085\n"
       ]
      },
      {
       "output_type": "stream",
       "stream": "stdout",
       "text": [
        "\tvalid_y_row_norms_mean: 0.804346084595\n"
       ]
      },
      {
       "output_type": "stream",
       "stream": "stdout",
       "text": [
        "\tvalid_y_row_norms_min: 0.291658073664\n"
       ]
      },
      {
       "output_type": "stream",
       "stream": "stdout",
       "text": [
        "Saving to mlp_01_best.pkl...\n"
       ]
      },
      {
       "output_type": "stream",
       "stream": "stdout",
       "text": [
        "Saving to mlp_01_best.pkl done. Time elapsed: 0.203363 seconds\n"
       ]
      },
      {
       "output_type": "stream",
       "stream": "stdout",
       "text": [
        "Time this epoch: 0:53:52.753176\n"
       ]
      },
      {
       "output_type": "stream",
       "stream": "stdout",
       "text": [
        "Monitoring step:\n"
       ]
      },
      {
       "output_type": "stream",
       "stream": "stdout",
       "text": [
        "\tEpochs seen: 11\n"
       ]
      },
      {
       "output_type": "stream",
       "stream": "stdout",
       "text": [
        "\tBatches seen: 55\n"
       ]
      },
      {
       "output_type": "stream",
       "stream": "stdout",
       "text": [
        "\tExamples seen: 275000\n"
       ]
      },
      {
       "output_type": "stream",
       "stream": "stdout",
       "text": [
        "\tave_grad_mult: 0.518503069878\n"
       ]
      },
      {
       "output_type": "stream",
       "stream": "stdout",
       "text": [
        "\tave_grad_size: 0.159854367375\n"
       ]
      },
      {
       "output_type": "stream",
       "stream": "stdout",
       "text": [
        "\tave_step_size: 0.0799990445375\n"
       ]
      },
      {
       "output_type": "stream",
       "stream": "stdout",
       "text": [
        "\ttotal_seconds_last_epoch: 2976.21240234\n"
       ]
      },
      {
       "output_type": "stream",
       "stream": "stdout",
       "text": [
        "\ttrain_h0_col_norms_max: 5.89484405518\n"
       ]
      },
      {
       "output_type": "stream",
       "stream": "stdout",
       "text": [
        "\ttrain_h0_col_norms_mean: 3.86896371841\n"
       ]
      },
      {
       "output_type": "stream",
       "stream": "stdout",
       "text": [
        "\ttrain_h0_col_norms_min: 1.327927351\n"
       ]
      },
      {
       "output_type": "stream",
       "stream": "stdout",
       "text": [
        "\ttrain_h0_max_x_max_u: 0.999995827675\n"
       ]
      },
      {
       "output_type": "stream",
       "stream": "stdout",
       "text": [
        "\ttrain_h0_max_x_mean_u: 0.949394702911\n"
       ]
      },
      {
       "output_type": "stream",
       "stream": "stdout",
       "text": [
        "\ttrain_h0_max_x_min_u: 0.685767710209\n"
       ]
      },
      {
       "output_type": "stream",
       "stream": "stdout",
       "text": [
        "\ttrain_h0_mean_x_max_u: 0.540750980377\n"
       ]
      },
      {
       "output_type": "stream",
       "stream": "stdout",
       "text": [
        "\ttrain_h0_mean_x_mean_u: 0.499385148287\n"
       ]
      },
      {
       "output_type": "stream",
       "stream": "stdout",
       "text": [
        "\ttrain_h0_mean_x_min_u: 0.452854901552\n"
       ]
      },
      {
       "output_type": "stream",
       "stream": "stdout",
       "text": [
        "\ttrain_h0_min_x_max_u: 0.337274044752\n"
       ]
      },
      {
       "output_type": "stream",
       "stream": "stdout",
       "text": [
        "\ttrain_h0_min_x_mean_u: 0.0497658737004\n"
       ]
      },
      {
       "output_type": "stream",
       "stream": "stdout",
       "text": [
        "\ttrain_h0_min_x_min_u: 2.85353053187e-06\n"
       ]
      },
      {
       "output_type": "stream",
       "stream": "stdout",
       "text": [
        "\ttrain_h0_range_x_max_u: 0.998667001724\n"
       ]
      },
      {
       "output_type": "stream",
       "stream": "stdout",
       "text": [
        "\ttrain_h0_range_x_mean_u: 0.89962887764\n"
       ]
      },
      {
       "output_type": "stream",
       "stream": "stdout",
       "text": [
        "\ttrain_h0_range_x_min_u: 0.658041477203\n"
       ]
      },
      {
       "output_type": "stream",
       "stream": "stdout",
       "text": [
        "\ttrain_h0_row_norms_max: 5.14759778976\n"
       ]
      },
      {
       "output_type": "stream",
       "stream": "stdout",
       "text": [
        "\ttrain_h0_row_norms_mean: 2.61063838005\n"
       ]
      },
      {
       "output_type": "stream",
       "stream": "stdout",
       "text": [
        "\ttrain_h0_row_norms_min: 0.197662860155\n"
       ]
      },
      {
       "output_type": "stream",
       "stream": "stdout",
       "text": [
        "\ttrain_objective: 2.52070856094\n"
       ]
      },
      {
       "output_type": "stream",
       "stream": "stdout",
       "text": [
        "\ttrain_y_col_norms_max: 4.47424268723\n"
       ]
      },
      {
       "output_type": "stream",
       "stream": "stdout",
       "text": [
        "\ttrain_y_col_norms_mean: 1.55240058899\n"
       ]
      },
      {
       "output_type": "stream",
       "stream": "stdout",
       "text": [
        "\ttrain_y_col_norms_min: 0.26743504405\n"
       ]
      },
      {
       "output_type": "stream",
       "stream": "stdout",
       "text": [
        "\ttrain_y_max_max_class: 0.966399490833\n"
       ]
      },
      {
       "output_type": "stream",
       "stream": "stdout",
       "text": [
        "\ttrain_y_mean_max_class: 0.303714066744\n"
       ]
      },
      {
       "output_type": "stream",
       "stream": "stdout",
       "text": [
        "\ttrain_y_min_max_class: 0.0548886470497\n"
       ]
      },
      {
       "output_type": "stream",
       "stream": "stdout",
       "text": [
        "\ttrain_y_misclass: 0.625279963017\n"
       ]
      },
      {
       "output_type": "stream",
       "stream": "stdout",
       "text": [
        "\ttrain_y_nll: 2.52070856094\n"
       ]
      },
      {
       "output_type": "stream",
       "stream": "stdout",
       "text": [
        "\ttrain_y_row_norms_max: 1.60518622398\n"
       ]
      },
      {
       "output_type": "stream",
       "stream": "stdout",
       "text": [
        "\ttrain_y_row_norms_mean: 0.837274134159\n"
       ]
      },
      {
       "output_type": "stream",
       "stream": "stdout",
       "text": [
        "\ttrain_y_row_norms_min: 0.312694460154\n"
       ]
      },
      {
       "output_type": "stream",
       "stream": "stdout",
       "text": [
        "\ttraining_seconds_this_epoch: 3232.75341797\n"
       ]
      },
      {
       "output_type": "stream",
       "stream": "stdout",
       "text": [
        "\tvalid_h0_col_norms_max: 5.89484357834\n"
       ]
      },
      {
       "output_type": "stream",
       "stream": "stdout",
       "text": [
        "\tvalid_h0_col_norms_mean: 3.86896371841\n"
       ]
      },
      {
       "output_type": "stream",
       "stream": "stdout",
       "text": [
        "\tvalid_h0_col_norms_min: 1.327927351\n"
       ]
      },
      {
       "output_type": "stream",
       "stream": "stdout",
       "text": [
        "\tvalid_h0_max_x_max_u: 0.999996900558\n"
       ]
      },
      {
       "output_type": "stream",
       "stream": "stdout",
       "text": [
        "\tvalid_h0_max_x_mean_u: 0.948339343071\n"
       ]
      },
      {
       "output_type": "stream",
       "stream": "stdout",
       "text": [
        "\tvalid_h0_max_x_min_u: 0.687604427338\n"
       ]
      },
      {
       "output_type": "stream",
       "stream": "stdout",
       "text": [
        "\tvalid_h0_mean_x_max_u: 0.541968047619\n"
       ]
      },
      {
       "output_type": "stream",
       "stream": "stdout",
       "text": [
        "\tvalid_h0_mean_x_mean_u: 0.499819666147\n"
       ]
      },
      {
       "output_type": "stream",
       "stream": "stdout",
       "text": [
        "\tvalid_h0_mean_x_min_u: 0.456915676594\n"
       ]
      },
      {
       "output_type": "stream",
       "stream": "stdout",
       "text": [
        "\tvalid_h0_min_x_max_u: 0.337586581707\n"
       ]
      },
      {
       "output_type": "stream",
       "stream": "stdout",
       "text": [
        "\tvalid_h0_min_x_mean_u: 0.0500336848199\n"
       ]
      },
      {
       "output_type": "stream",
       "stream": "stdout",
       "text": [
        "\tvalid_h0_min_x_min_u: 8.16612828203e-06\n"
       ]
      },
      {
       "output_type": "stream",
       "stream": "stdout",
       "text": [
        "\tvalid_h0_range_x_max_u: 0.999204516411\n"
       ]
      },
      {
       "output_type": "stream",
       "stream": "stdout",
       "text": [
        "\tvalid_h0_range_x_mean_u: 0.898305654526\n"
       ]
      },
      {
       "output_type": "stream",
       "stream": "stdout",
       "text": [
        "\tvalid_h0_range_x_min_u: 0.661370933056\n"
       ]
      },
      {
       "output_type": "stream",
       "stream": "stdout",
       "text": [
        "\tvalid_h0_row_norms_max: 5.14759778976\n"
       ]
      },
      {
       "output_type": "stream",
       "stream": "stdout",
       "text": [
        "\tvalid_h0_row_norms_mean: 2.61063838005\n"
       ]
      },
      {
       "output_type": "stream",
       "stream": "stdout",
       "text": [
        "\tvalid_h0_row_norms_min: 0.197662860155\n"
       ]
      },
      {
       "output_type": "stream",
       "stream": "stdout",
       "text": [
        "\tvalid_objective: 2.55181527138\n"
       ]
      },
      {
       "output_type": "stream",
       "stream": "stdout",
       "text": [
        "\tvalid_y_col_norms_max: 4.47424268723\n"
       ]
      },
      {
       "output_type": "stream",
       "stream": "stdout",
       "text": [
        "\tvalid_y_col_norms_mean: 1.55240058899\n"
       ]
      },
      {
       "output_type": "stream",
       "stream": "stdout",
       "text": [
        "\tvalid_y_col_norms_min: 0.26743504405\n"
       ]
      },
      {
       "output_type": "stream",
       "stream": "stdout",
       "text": [
        "\tvalid_y_max_max_class: 0.966639339924\n"
       ]
      },
      {
       "output_type": "stream",
       "stream": "stdout",
       "text": [
        "\tvalid_y_mean_max_class: 0.3072488904\n"
       ]
      },
      {
       "output_type": "stream",
       "stream": "stdout",
       "text": [
        "\tvalid_y_min_max_class: 0.0505253076553\n"
       ]
      },
      {
       "output_type": "stream",
       "stream": "stdout",
       "text": [
        "\tvalid_y_misclass: 0.630800008774\n"
       ]
      },
      {
       "output_type": "stream",
       "stream": "stdout",
       "text": [
        "\tvalid_y_nll: 2.55181527138\n"
       ]
      },
      {
       "output_type": "stream",
       "stream": "stdout",
       "text": [
        "\tvalid_y_row_norms_max: 1.60518610477\n"
       ]
      },
      {
       "output_type": "stream",
       "stream": "stdout",
       "text": [
        "\tvalid_y_row_norms_mean: 0.837274134159\n"
       ]
      },
      {
       "output_type": "stream",
       "stream": "stdout",
       "text": [
        "\tvalid_y_row_norms_min: 0.312694460154\n"
       ]
      },
      {
       "output_type": "stream",
       "stream": "stdout",
       "text": [
        "Saving to mlp_01_best.pkl...\n"
       ]
      },
      {
       "output_type": "stream",
       "stream": "stdout",
       "text": [
        "Saving to mlp_01_best.pkl done. Time elapsed: 0.208012 seconds\n"
       ]
      },
      {
       "output_type": "stream",
       "stream": "stdout",
       "text": [
        "Time this epoch: 0:54:48.300611\n"
       ]
      },
      {
       "output_type": "stream",
       "stream": "stdout",
       "text": [
        "Monitoring step:\n"
       ]
      },
      {
       "output_type": "stream",
       "stream": "stdout",
       "text": [
        "\tEpochs seen: 12\n"
       ]
      },
      {
       "output_type": "stream",
       "stream": "stdout",
       "text": [
        "\tBatches seen: 60\n"
       ]
      },
      {
       "output_type": "stream",
       "stream": "stdout",
       "text": [
        "\tExamples seen: 300000\n"
       ]
      },
      {
       "output_type": "stream",
       "stream": "stdout",
       "text": [
        "\tave_grad_mult: 0.51891463995\n"
       ]
      },
      {
       "output_type": "stream",
       "stream": "stdout",
       "text": [
        "\tave_grad_size: 0.159143730998\n"
       ]
      },
      {
       "output_type": "stream",
       "stream": "stdout",
       "text": [
        "\tave_step_size: 0.0801761448383\n"
       ]
      },
      {
       "output_type": "stream",
       "stream": "stdout",
       "text": [
        "\ttotal_seconds_last_epoch: 3249.24926758\n"
       ]
      },
      {
       "output_type": "stream",
       "stream": "stdout",
       "text": [
        "\ttrain_h0_col_norms_max: 5.89833688736\n"
       ]
      },
      {
       "output_type": "stream",
       "stream": "stdout",
       "text": [
        "\ttrain_h0_col_norms_mean: 3.87493014336\n"
       ]
      },
      {
       "output_type": "stream",
       "stream": "stdout",
       "text": [
        "\ttrain_h0_col_norms_min: 1.33194565773\n"
       ]
      },
      {
       "output_type": "stream",
       "stream": "stdout",
       "text": [
        "\ttrain_h0_max_x_max_u: 0.999997138977\n"
       ]
      },
      {
       "output_type": "stream",
       "stream": "stdout",
       "text": [
        "\ttrain_h0_max_x_mean_u: 0.950678110123\n"
       ]
      },
      {
       "output_type": "stream",
       "stream": "stdout",
       "text": [
        "\ttrain_h0_max_x_min_u: 0.68920224905\n"
       ]
      },
      {
       "output_type": "stream",
       "stream": "stdout",
       "text": [
        "\ttrain_h0_mean_x_max_u: 0.541705191135\n"
       ]
      },
      {
       "output_type": "stream",
       "stream": "stdout",
       "text": [
        "\ttrain_h0_mean_x_mean_u: 0.499317020178\n"
       ]
      },
      {
       "output_type": "stream",
       "stream": "stdout",
       "text": [
        "\ttrain_h0_mean_x_min_u: 0.451539158821\n"
       ]
      },
      {
       "output_type": "stream",
       "stream": "stdout",
       "text": [
        "\ttrain_h0_min_x_max_u: 0.335116028786\n"
       ]
      },
      {
       "output_type": "stream",
       "stream": "stdout",
       "text": [
        "\ttrain_h0_min_x_mean_u: 0.0487823709846\n"
       ]
      },
      {
       "output_type": "stream",
       "stream": "stdout",
       "text": [
        "\ttrain_h0_min_x_min_u: 2.08642222788e-06\n"
       ]
      },
      {
       "output_type": "stream",
       "stream": "stdout",
       "text": [
        "\ttrain_h0_range_x_max_u: 0.998892188072\n"
       ]
      },
      {
       "output_type": "stream",
       "stream": "stdout",
       "text": [
        "\ttrain_h0_range_x_mean_u: 0.901895642281\n"
       ]
      },
      {
       "output_type": "stream",
       "stream": "stdout",
       "text": [
        "\ttrain_h0_range_x_min_u: 0.661744534969\n"
       ]
      },
      {
       "output_type": "stream",
       "stream": "stdout",
       "text": [
        "\ttrain_h0_row_norms_max: 5.15024375916\n"
       ]
      },
      {
       "output_type": "stream",
       "stream": "stdout",
       "text": [
        "\ttrain_h0_row_norms_mean: 2.61515593529\n"
       ]
      },
      {
       "output_type": "stream",
       "stream": "stdout",
       "text": [
        "\ttrain_h0_row_norms_min: 0.209533333778\n"
       ]
      },
      {
       "output_type": "stream",
       "stream": "stdout",
       "text": [
        "\ttrain_objective: 2.497215271\n"
       ]
      },
      {
       "output_type": "stream",
       "stream": "stdout",
       "text": [
        "\ttrain_y_col_norms_max: 4.65354394913\n"
       ]
      },
      {
       "output_type": "stream",
       "stream": "stdout",
       "text": [
        "\ttrain_y_col_norms_mean: 1.61364769936\n"
       ]
      },
      {
       "output_type": "stream",
       "stream": "stdout",
       "text": [
        "\ttrain_y_col_norms_min: 0.279686331749\n"
       ]
      },
      {
       "output_type": "stream",
       "stream": "stdout",
       "text": [
        "\ttrain_y_max_max_class: 0.969606161118\n"
       ]
      },
      {
       "output_type": "stream",
       "stream": "stdout",
       "text": [
        "\ttrain_y_mean_max_class: 0.30960342288\n"
       ]
      },
      {
       "output_type": "stream",
       "stream": "stdout",
       "text": [
        "\ttrain_y_min_max_class: 0.0563635751605\n"
       ]
      },
      {
       "output_type": "stream",
       "stream": "stdout",
       "text": [
        "\ttrain_y_misclass: 0.619279980659\n"
       ]
      },
      {
       "output_type": "stream",
       "stream": "stdout",
       "text": [
        "\ttrain_y_nll: 2.497215271\n"
       ]
      },
      {
       "output_type": "stream",
       "stream": "stdout",
       "text": [
        "\ttrain_y_row_norms_max: 1.64703583717\n"
       ]
      },
      {
       "output_type": "stream",
       "stream": "stdout",
       "text": [
        "\ttrain_y_row_norms_mean: 0.867652773857\n"
       ]
      },
      {
       "output_type": "stream",
       "stream": "stdout",
       "text": [
        "\ttrain_y_row_norms_min: 0.33356064558\n"
       ]
      },
      {
       "output_type": "stream",
       "stream": "stdout",
       "text": [
        "\ttraining_seconds_this_epoch: 3288.30053711\n"
       ]
      },
      {
       "output_type": "stream",
       "stream": "stdout",
       "text": [
        "\tvalid_h0_col_norms_max: 5.89833688736\n"
       ]
      },
      {
       "output_type": "stream",
       "stream": "stdout",
       "text": [
        "\tvalid_h0_col_norms_mean: 3.87493014336\n"
       ]
      },
      {
       "output_type": "stream",
       "stream": "stdout",
       "text": [
        "\tvalid_h0_col_norms_min: 1.33194565773\n"
       ]
      },
      {
       "output_type": "stream",
       "stream": "stdout",
       "text": [
        "\tvalid_h0_max_x_max_u: 0.999997675419\n"
       ]
      },
      {
       "output_type": "stream",
       "stream": "stdout",
       "text": [
        "\tvalid_h0_max_x_mean_u: 0.949611842632\n"
       ]
      },
      {
       "output_type": "stream",
       "stream": "stdout",
       "text": [
        "\tvalid_h0_max_x_min_u: 0.689893901348\n"
       ]
      },
      {
       "output_type": "stream",
       "stream": "stdout",
       "text": [
        "\tvalid_h0_mean_x_max_u: 0.541678369045\n"
       ]
      },
      {
       "output_type": "stream",
       "stream": "stdout",
       "text": [
        "\tvalid_h0_mean_x_mean_u: 0.499760746956\n"
       ]
      },
      {
       "output_type": "stream",
       "stream": "stdout",
       "text": [
        "\tvalid_h0_mean_x_min_u: 0.455550044775\n"
       ]
      },
      {
       "output_type": "stream",
       "stream": "stdout",
       "text": [
        "\tvalid_h0_min_x_max_u: 0.334801107645\n"
       ]
      },
      {
       "output_type": "stream",
       "stream": "stdout",
       "text": [
        "\tvalid_h0_min_x_mean_u: 0.048985697329\n"
       ]
      },
      {
       "output_type": "stream",
       "stream": "stdout",
       "text": [
        "\tvalid_h0_min_x_min_u: 6.31246120975e-06\n"
       ]
      },
      {
       "output_type": "stream",
       "stream": "stdout",
       "text": [
        "\tvalid_h0_range_x_max_u: 0.999339818954\n"
       ]
      },
      {
       "output_type": "stream",
       "stream": "stdout",
       "text": [
        "\tvalid_h0_range_x_mean_u: 0.900626063347\n"
       ]
      },
      {
       "output_type": "stream",
       "stream": "stdout",
       "text": [
        "\tvalid_h0_range_x_min_u: 0.664328098297\n"
       ]
      },
      {
       "output_type": "stream",
       "stream": "stdout",
       "text": [
        "\tvalid_h0_row_norms_max: 5.15024328232\n"
       ]
      },
      {
       "output_type": "stream",
       "stream": "stdout",
       "text": [
        "\tvalid_h0_row_norms_mean: 2.61515593529\n"
       ]
      },
      {
       "output_type": "stream",
       "stream": "stdout",
       "text": [
        "\tvalid_h0_row_norms_min: 0.209533318877\n"
       ]
      },
      {
       "output_type": "stream",
       "stream": "stdout",
       "text": [
        "\tvalid_objective: 2.54037499428\n"
       ]
      },
      {
       "output_type": "stream",
       "stream": "stdout",
       "text": [
        "\tvalid_y_col_norms_max: 4.65354394913\n"
       ]
      },
      {
       "output_type": "stream",
       "stream": "stdout",
       "text": [
        "\tvalid_y_col_norms_mean: 1.61364769936\n"
       ]
      },
      {
       "output_type": "stream",
       "stream": "stdout",
       "text": [
        "\tvalid_y_col_norms_min: 0.279686331749\n"
       ]
      },
      {
       "output_type": "stream",
       "stream": "stdout",
       "text": [
        "\tvalid_y_max_max_class: 0.968562483788\n"
       ]
      },
      {
       "output_type": "stream",
       "stream": "stdout",
       "text": [
        "\tvalid_y_mean_max_class: 0.313053041697\n"
       ]
      },
      {
       "output_type": "stream",
       "stream": "stdout",
       "text": [
        "\tvalid_y_min_max_class: 0.0552428029478\n"
       ]
      },
      {
       "output_type": "stream",
       "stream": "stdout",
       "text": [
        "\tvalid_y_misclass: 0.628799974918\n"
       ]
      },
      {
       "output_type": "stream",
       "stream": "stdout",
       "text": [
        "\tvalid_y_nll: 2.54037499428\n"
       ]
      },
      {
       "output_type": "stream",
       "stream": "stdout",
       "text": [
        "\tvalid_y_row_norms_max: 1.64703571796\n"
       ]
      },
      {
       "output_type": "stream",
       "stream": "stdout",
       "text": [
        "\tvalid_y_row_norms_mean: 0.867652714252\n"
       ]
      },
      {
       "output_type": "stream",
       "stream": "stdout",
       "text": [
        "\tvalid_y_row_norms_min: 0.333560615778\n"
       ]
      },
      {
       "output_type": "stream",
       "stream": "stdout",
       "text": [
        "Saving to mlp_01_best.pkl...\n"
       ]
      },
      {
       "output_type": "stream",
       "stream": "stdout",
       "text": [
        "Saving to mlp_01_best.pkl done. Time elapsed: 0.214650 seconds\n"
       ]
      },
      {
       "output_type": "stream",
       "stream": "stdout",
       "text": [
        "Time this epoch: 0:53:42.425939\n"
       ]
      },
      {
       "output_type": "stream",
       "stream": "stdout",
       "text": [
        "Monitoring step:\n"
       ]
      },
      {
       "output_type": "stream",
       "stream": "stdout",
       "text": [
        "\tEpochs seen: 13\n"
       ]
      },
      {
       "output_type": "stream",
       "stream": "stdout",
       "text": [
        "\tBatches seen: 65\n"
       ]
      },
      {
       "output_type": "stream",
       "stream": "stdout",
       "text": [
        "\tExamples seen: 325000\n"
       ]
      },
      {
       "output_type": "stream",
       "stream": "stdout",
       "text": [
        "\tave_grad_mult: 0.52344161272\n"
       ]
      },
      {
       "output_type": "stream",
       "stream": "stdout",
       "text": [
        "\tave_grad_size: 0.154363751411\n"
       ]
      },
      {
       "output_type": "stream",
       "stream": "stdout",
       "text": [
        "\tave_step_size: 0.0781040564179\n"
       ]
      },
      {
       "output_type": "stream",
       "stream": "stdout",
       "text": [
        "\ttotal_seconds_last_epoch: 3305.81665039\n"
       ]
      },
      {
       "output_type": "stream",
       "stream": "stdout",
       "text": [
        "\ttrain_h0_col_norms_max: 5.90177822113\n"
       ]
      },
      {
       "output_type": "stream",
       "stream": "stdout",
       "text": [
        "\ttrain_h0_col_norms_mean: 3.88087558746\n"
       ]
      },
      {
       "output_type": "stream",
       "stream": "stdout",
       "text": [
        "\ttrain_h0_col_norms_min: 1.33557295799\n"
       ]
      },
      {
       "output_type": "stream",
       "stream": "stdout",
       "text": [
        "\ttrain_h0_max_x_max_u: 0.999997973442\n"
       ]
      },
      {
       "output_type": "stream",
       "stream": "stdout",
       "text": [
        "\ttrain_h0_max_x_mean_u: 0.951861739159\n"
       ]
      },
      {
       "output_type": "stream",
       "stream": "stdout",
       "text": [
        "\ttrain_h0_max_x_min_u: 0.692329466343\n"
       ]
      },
      {
       "output_type": "stream",
       "stream": "stdout",
       "text": [
        "\ttrain_h0_mean_x_max_u: 0.543209195137\n"
       ]
      },
      {
       "output_type": "stream",
       "stream": "stdout",
       "text": [
        "\ttrain_h0_mean_x_mean_u: 0.499269604683\n"
       ]
      },
      {
       "output_type": "stream",
       "stream": "stdout",
       "text": [
        "\ttrain_h0_mean_x_min_u: 0.44979467988\n"
       ]
      },
      {
       "output_type": "stream",
       "stream": "stdout",
       "text": [
        "\ttrain_h0_min_x_max_u: 0.333883911371\n"
       ]
      },
      {
       "output_type": "stream",
       "stream": "stdout",
       "text": [
        "\ttrain_h0_min_x_mean_u: 0.0479015335441\n"
       ]
      },
      {
       "output_type": "stream",
       "stream": "stdout",
       "text": [
        "\ttrain_h0_min_x_min_u: 1.52168991008e-06\n"
       ]
      },
      {
       "output_type": "stream",
       "stream": "stdout",
       "text": [
        "\ttrain_h0_range_x_max_u: 0.999075651169\n"
       ]
      },
      {
       "output_type": "stream",
       "stream": "stdout",
       "text": [
        "\ttrain_h0_range_x_mean_u: 0.903960227966\n"
       ]
      },
      {
       "output_type": "stream",
       "stream": "stdout",
       "text": [
        "\ttrain_h0_range_x_min_u: 0.664834022522\n"
       ]
      },
      {
       "output_type": "stream",
       "stream": "stdout",
       "text": [
        "\ttrain_h0_row_norms_max: 5.15289115906\n"
       ]
      },
      {
       "output_type": "stream",
       "stream": "stdout",
       "text": [
        "\ttrain_h0_row_norms_mean: 2.61966514587\n"
       ]
      },
      {
       "output_type": "stream",
       "stream": "stdout",
       "text": [
        "\ttrain_h0_row_norms_min: 0.221785455942\n"
       ]
      },
      {
       "output_type": "stream",
       "stream": "stdout",
       "text": [
        "\ttrain_objective: 2.47206997871\n"
       ]
      },
      {
       "output_type": "stream",
       "stream": "stdout",
       "text": [
        "\ttrain_y_col_norms_max: 4.82171916962\n"
       ]
      },
      {
       "output_type": "stream",
       "stream": "stdout",
       "text": [
        "\ttrain_y_col_norms_mean: 1.6717209816\n"
       ]
      },
      {
       "output_type": "stream",
       "stream": "stdout",
       "text": [
        "\ttrain_y_col_norms_min: 0.302024364471\n"
       ]
      },
      {
       "output_type": "stream",
       "stream": "stdout",
       "text": [
        "\ttrain_y_max_max_class: 0.973869860172\n"
       ]
      },
      {
       "output_type": "stream",
       "stream": "stdout",
       "text": [
        "\ttrain_y_mean_max_class: 0.316046774387\n"
       ]
      },
      {
       "output_type": "stream",
       "stream": "stdout",
       "text": [
        "\ttrain_y_min_max_class: 0.0552655011415\n"
       ]
      },
      {
       "output_type": "stream",
       "stream": "stdout",
       "text": [
        "\ttrain_y_misclass: 0.615960001945\n"
       ]
      },
      {
       "output_type": "stream",
       "stream": "stdout",
       "text": [
        "\ttrain_y_nll: 2.47206997871\n"
       ]
      },
      {
       "output_type": "stream",
       "stream": "stdout",
       "text": [
        "\ttrain_y_row_norms_max: 1.69329881668\n"
       ]
      },
      {
       "output_type": "stream",
       "stream": "stdout",
       "text": [
        "\ttrain_y_row_norms_mean: 0.896614730358\n"
       ]
      },
      {
       "output_type": "stream",
       "stream": "stdout",
       "text": [
        "\ttrain_y_row_norms_min: 0.349414914846\n"
       ]
      },
      {
       "output_type": "stream",
       "stream": "stdout",
       "text": [
        "\ttraining_seconds_this_epoch: 3222.42626953\n"
       ]
      },
      {
       "output_type": "stream",
       "stream": "stdout",
       "text": [
        "\tvalid_h0_col_norms_max: 5.90177869797\n"
       ]
      },
      {
       "output_type": "stream",
       "stream": "stdout",
       "text": [
        "\tvalid_h0_col_norms_mean: 3.88087582588\n"
       ]
      },
      {
       "output_type": "stream",
       "stream": "stdout",
       "text": [
        "\tvalid_h0_col_norms_min: 1.33557283878\n"
       ]
      },
      {
       "output_type": "stream",
       "stream": "stdout",
       "text": [
        "\tvalid_h0_max_x_max_u: 0.999998271465\n"
       ]
      },
      {
       "output_type": "stream",
       "stream": "stdout",
       "text": [
        "\tvalid_h0_max_x_mean_u: 0.950751245022\n"
       ]
      },
      {
       "output_type": "stream",
       "stream": "stdout",
       "text": [
        "\tvalid_h0_max_x_min_u: 0.689858436584\n"
       ]
      },
      {
       "output_type": "stream",
       "stream": "stdout",
       "text": [
        "\tvalid_h0_mean_x_max_u: 0.541237652302\n"
       ]
      },
      {
       "output_type": "stream",
       "stream": "stdout",
       "text": [
        "\tvalid_h0_mean_x_mean_u: 0.499717563391\n"
       ]
      },
      {
       "output_type": "stream",
       "stream": "stdout",
       "text": [
        "\tvalid_h0_mean_x_min_u: 0.454183399677\n"
       ]
      },
      {
       "output_type": "stream",
       "stream": "stdout",
       "text": [
        "\tvalid_h0_min_x_max_u: 0.332664132118\n"
       ]
      },
      {
       "output_type": "stream",
       "stream": "stdout",
       "text": [
        "\tvalid_h0_min_x_mean_u: 0.048038687557\n"
       ]
      },
      {
       "output_type": "stream",
       "stream": "stdout",
       "text": [
        "\tvalid_h0_min_x_min_u: 4.84924385091e-06\n"
       ]
      },
      {
       "output_type": "stream",
       "stream": "stdout",
       "text": [
        "\tvalid_h0_range_x_max_u: 0.999439477921\n"
       ]
      },
      {
       "output_type": "stream",
       "stream": "stdout",
       "text": [
        "\tvalid_h0_range_x_mean_u: 0.902712523937\n"
       ]
      },
      {
       "output_type": "stream",
       "stream": "stdout",
       "text": [
        "\tvalid_h0_range_x_min_u: 0.666590094566\n"
       ]
      },
      {
       "output_type": "stream",
       "stream": "stdout",
       "text": [
        "\tvalid_h0_row_norms_max: 5.15289115906\n"
       ]
      },
      {
       "output_type": "stream",
       "stream": "stdout",
       "text": [
        "\tvalid_h0_row_norms_mean: 2.61966514587\n"
       ]
      },
      {
       "output_type": "stream",
       "stream": "stdout",
       "text": [
        "\tvalid_h0_row_norms_min: 0.221785455942\n"
       ]
      },
      {
       "output_type": "stream",
       "stream": "stdout",
       "text": [
        "\tvalid_objective: 2.51939034462\n"
       ]
      },
      {
       "output_type": "stream",
       "stream": "stdout",
       "text": [
        "\tvalid_y_col_norms_max: 4.82171916962\n"
       ]
      },
      {
       "output_type": "stream",
       "stream": "stdout",
       "text": [
        "\tvalid_y_col_norms_mean: 1.67172110081\n"
       ]
      },
      {
       "output_type": "stream",
       "stream": "stdout",
       "text": [
        "\tvalid_y_col_norms_min: 0.302024364471\n"
       ]
      },
      {
       "output_type": "stream",
       "stream": "stdout",
       "text": [
        "\tvalid_y_max_max_class: 0.974106669426\n"
       ]
      },
      {
       "output_type": "stream",
       "stream": "stdout",
       "text": [
        "\tvalid_y_mean_max_class: 0.31923815608\n"
       ]
      },
      {
       "output_type": "stream",
       "stream": "stdout",
       "text": [
        "\tvalid_y_min_max_class: 0.0511336810887\n"
       ]
      },
      {
       "output_type": "stream",
       "stream": "stdout",
       "text": [
        "\tvalid_y_misclass: 0.623600006104\n"
       ]
      },
      {
       "output_type": "stream",
       "stream": "stdout",
       "text": [
        "\tvalid_y_nll: 2.51939034462\n"
       ]
      },
      {
       "output_type": "stream",
       "stream": "stdout",
       "text": [
        "\tvalid_y_row_norms_max: 1.69329881668\n"
       ]
      },
      {
       "output_type": "stream",
       "stream": "stdout",
       "text": [
        "\tvalid_y_row_norms_mean: 0.896614730358\n"
       ]
      },
      {
       "output_type": "stream",
       "stream": "stdout",
       "text": [
        "\tvalid_y_row_norms_min: 0.349414885044\n"
       ]
      },
      {
       "output_type": "stream",
       "stream": "stdout",
       "text": [
        "Saving to mlp_01_best.pkl...\n"
       ]
      },
      {
       "output_type": "stream",
       "stream": "stdout",
       "text": [
        "Saving to mlp_01_best.pkl done. Time elapsed: 0.204610 seconds\n"
       ]
      },
      {
       "output_type": "stream",
       "stream": "stdout",
       "text": [
        "Time this epoch: 0:56:06.673810\n"
       ]
      },
      {
       "output_type": "stream",
       "stream": "stdout",
       "text": [
        "Monitoring step:\n"
       ]
      },
      {
       "output_type": "stream",
       "stream": "stdout",
       "text": [
        "\tEpochs seen: 14\n"
       ]
      },
      {
       "output_type": "stream",
       "stream": "stdout",
       "text": [
        "\tBatches seen: 70\n"
       ]
      },
      {
       "output_type": "stream",
       "stream": "stdout",
       "text": [
        "\tExamples seen: 350000\n"
       ]
      },
      {
       "output_type": "stream",
       "stream": "stdout",
       "text": [
        "\tave_grad_mult: 0.527657926083\n"
       ]
      },
      {
       "output_type": "stream",
       "stream": "stdout",
       "text": [
        "\tave_grad_size: 0.151139304042\n"
       ]
      },
      {
       "output_type": "stream",
       "stream": "stdout",
       "text": [
        "\tave_step_size: 0.0772397369146\n"
       ]
      },
      {
       "output_type": "stream",
       "stream": "stdout",
       "text": [
        "\ttotal_seconds_last_epoch: 3238.9074707\n"
       ]
      },
      {
       "output_type": "stream",
       "stream": "stdout",
       "text": [
        "\ttrain_h0_col_norms_max: 5.90512657166\n"
       ]
      },
      {
       "output_type": "stream",
       "stream": "stdout",
       "text": [
        "\ttrain_h0_col_norms_mean: 3.88688802719\n"
       ]
      },
      {
       "output_type": "stream",
       "stream": "stdout",
       "text": [
        "\ttrain_h0_col_norms_min: 1.33958876133\n"
       ]
      },
      {
       "output_type": "stream",
       "stream": "stdout",
       "text": [
        "\ttrain_h0_max_x_max_u: 0.999998629093\n"
       ]
      },
      {
       "output_type": "stream",
       "stream": "stdout",
       "text": [
        "\ttrain_h0_max_x_mean_u: 0.953002929688\n"
       ]
      },
      {
       "output_type": "stream",
       "stream": "stdout",
       "text": [
        "\ttrain_h0_max_x_min_u: 0.695951282978\n"
       ]
      },
      {
       "output_type": "stream",
       "stream": "stdout",
       "text": [
        "\ttrain_h0_mean_x_max_u: 0.545263409615\n"
       ]
      },
      {
       "output_type": "stream",
       "stream": "stdout",
       "text": [
        "\ttrain_h0_mean_x_mean_u: 0.499211698771\n"
       ]
      },
      {
       "output_type": "stream",
       "stream": "stdout",
       "text": [
        "\ttrain_h0_mean_x_min_u: 0.447644114494\n"
       ]
      },
      {
       "output_type": "stream",
       "stream": "stdout",
       "text": [
        "\ttrain_h0_min_x_max_u: 0.332247614861\n"
       ]
      },
      {
       "output_type": "stream",
       "stream": "stdout",
       "text": [
        "\ttrain_h0_min_x_mean_u: 0.0470406077802\n"
       ]
      },
      {
       "output_type": "stream",
       "stream": "stdout",
       "text": [
        "\ttrain_h0_min_x_min_u: 1.1329022982e-06\n"
       ]
      },
      {
       "output_type": "stream",
       "stream": "stdout",
       "text": [
        "\ttrain_h0_range_x_max_u: 0.999220311642\n"
       ]
      },
      {
       "output_type": "stream",
       "stream": "stdout",
       "text": [
        "\ttrain_h0_range_x_mean_u: 0.905962228775\n"
       ]
      },
      {
       "output_type": "stream",
       "stream": "stdout",
       "text": [
        "\ttrain_h0_range_x_min_u: 0.66696023941\n"
       ]
      },
      {
       "output_type": "stream",
       "stream": "stdout",
       "text": [
        "\ttrain_h0_row_norms_max: 5.15552520752\n"
       ]
      },
      {
       "output_type": "stream",
       "stream": "stdout",
       "text": [
        "\ttrain_h0_row_norms_mean: 2.62422919273\n"
       ]
      },
      {
       "output_type": "stream",
       "stream": "stdout",
       "text": [
        "\ttrain_h0_row_norms_min: 0.234662741423\n"
       ]
      },
      {
       "output_type": "stream",
       "stream": "stdout",
       "text": [
        "\ttrain_objective: 2.45067977905\n"
       ]
      },
      {
       "output_type": "stream",
       "stream": "stdout",
       "text": [
        "\ttrain_y_col_norms_max: 4.9830121994\n"
       ]
      },
      {
       "output_type": "stream",
       "stream": "stdout",
       "text": [
        "\ttrain_y_col_norms_mean: 1.72809302807\n"
       ]
      },
      {
       "output_type": "stream",
       "stream": "stdout",
       "text": [
        "\ttrain_y_col_norms_min: 0.319745659828\n"
       ]
      },
      {
       "output_type": "stream",
       "stream": "stdout",
       "text": [
        "\ttrain_y_max_max_class: 0.976847589016\n"
       ]
      },
      {
       "output_type": "stream",
       "stream": "stdout",
       "text": [
        "\ttrain_y_mean_max_class: 0.322718799114\n"
       ]
      },
      {
       "output_type": "stream",
       "stream": "stdout",
       "text": [
        "\ttrain_y_min_max_class: 0.0567213259637\n"
       ]
      },
      {
       "output_type": "stream",
       "stream": "stdout",
       "text": [
        "\ttrain_y_misclass: 0.615400016308\n"
       ]
      },
      {
       "output_type": "stream",
       "stream": "stdout",
       "text": [
        "\ttrain_y_nll: 2.45067977905\n"
       ]
      },
      {
       "output_type": "stream",
       "stream": "stdout",
       "text": [
        "\ttrain_y_row_norms_max: 1.73450767994\n"
       ]
      },
      {
       "output_type": "stream",
       "stream": "stdout",
       "text": [
        "\ttrain_y_row_norms_mean: 0.924641489983\n"
       ]
      },
      {
       "output_type": "stream",
       "stream": "stdout",
       "text": [
        "\ttrain_y_row_norms_min: 0.363816082478\n"
       ]
      },
      {
       "output_type": "stream",
       "stream": "stdout",
       "text": [
        "\ttraining_seconds_this_epoch: 3366.67382812\n"
       ]
      },
      {
       "output_type": "stream",
       "stream": "stdout",
       "text": [
        "\tvalid_h0_col_norms_max: 5.90512657166\n"
       ]
      },
      {
       "output_type": "stream",
       "stream": "stdout",
       "text": [
        "\tvalid_h0_col_norms_mean: 3.88688778877\n"
       ]
      },
      {
       "output_type": "stream",
       "stream": "stdout",
       "text": [
        "\tvalid_h0_col_norms_min: 1.33958876133\n"
       ]
      },
      {
       "output_type": "stream",
       "stream": "stdout",
       "text": [
        "\tvalid_h0_max_x_max_u: 0.999998748302\n"
       ]
      },
      {
       "output_type": "stream",
       "stream": "stdout",
       "text": [
        "\tvalid_h0_max_x_mean_u: 0.951823115349\n"
       ]
      },
      {
       "output_type": "stream",
       "stream": "stdout",
       "text": [
        "\tvalid_h0_max_x_min_u: 0.689418375492\n"
       ]
      },
      {
       "output_type": "stream",
       "stream": "stdout",
       "text": [
        "\tvalid_h0_mean_x_max_u: 0.540898561478\n"
       ]
      },
      {
       "output_type": "stream",
       "stream": "stdout",
       "text": [
        "\tvalid_h0_mean_x_mean_u: 0.499663442373\n"
       ]
      },
      {
       "output_type": "stream",
       "stream": "stdout",
       "text": [
        "\tvalid_h0_mean_x_min_u: 0.452854007483\n"
       ]
      },
      {
       "output_type": "stream",
       "stream": "stdout",
       "text": [
        "\tvalid_h0_min_x_max_u: 0.329722315073\n"
       ]
      },
      {
       "output_type": "stream",
       "stream": "stdout",
       "text": [
        "\tvalid_h0_min_x_mean_u: 0.0471283532679\n"
       ]
      },
      {
       "output_type": "stream",
       "stream": "stdout",
       "text": [
        "\tvalid_h0_min_x_min_u: 3.71933947463e-06\n"
       ]
      },
      {
       "output_type": "stream",
       "stream": "stdout",
       "text": [
        "\tvalid_h0_range_x_max_u: 0.999517261982\n"
       ]
      },
      {
       "output_type": "stream",
       "stream": "stdout",
       "text": [
        "\tvalid_h0_range_x_mean_u: 0.904694736004\n"
       ]
      },
      {
       "output_type": "stream",
       "stream": "stdout",
       "text": [
        "\tvalid_h0_range_x_min_u: 0.669634580612\n"
       ]
      },
      {
       "output_type": "stream",
       "stream": "stdout",
       "text": [
        "\tvalid_h0_row_norms_max: 5.15552520752\n"
       ]
      },
      {
       "output_type": "stream",
       "stream": "stdout",
       "text": [
        "\tvalid_h0_row_norms_mean: 2.62422919273\n"
       ]
      },
      {
       "output_type": "stream",
       "stream": "stdout",
       "text": [
        "\tvalid_h0_row_norms_min: 0.234662741423\n"
       ]
      },
      {
       "output_type": "stream",
       "stream": "stdout",
       "text": [
        "\tvalid_objective: 2.50582289696\n"
       ]
      },
      {
       "output_type": "stream",
       "stream": "stdout",
       "text": [
        "\tvalid_y_col_norms_max: 4.9830121994\n"
       ]
      },
      {
       "output_type": "stream",
       "stream": "stdout",
       "text": [
        "\tvalid_y_col_norms_mean: 1.72809302807\n"
       ]
      },
      {
       "output_type": "stream",
       "stream": "stdout",
       "text": [
        "\tvalid_y_col_norms_min: 0.319745659828\n"
       ]
      },
      {
       "output_type": "stream",
       "stream": "stdout",
       "text": [
        "\tvalid_y_max_max_class: 0.977039635181\n"
       ]
      },
      {
       "output_type": "stream",
       "stream": "stdout",
       "text": [
        "\tvalid_y_mean_max_class: 0.32553127408\n"
       ]
      },
      {
       "output_type": "stream",
       "stream": "stdout",
       "text": [
        "\tvalid_y_min_max_class: 0.0508792586625\n"
       ]
      },
      {
       "output_type": "stream",
       "stream": "stdout",
       "text": [
        "\tvalid_y_misclass: 0.624000012875\n"
       ]
      },
      {
       "output_type": "stream",
       "stream": "stdout",
       "text": [
        "\tvalid_y_nll: 2.50582289696\n"
       ]
      },
      {
       "output_type": "stream",
       "stream": "stdout",
       "text": [
        "\tvalid_y_row_norms_max: 1.73450756073\n"
       ]
      },
      {
       "output_type": "stream",
       "stream": "stdout",
       "text": [
        "\tvalid_y_row_norms_mean: 0.924641489983\n"
       ]
      },
      {
       "output_type": "stream",
       "stream": "stdout",
       "text": [
        "\tvalid_y_row_norms_min: 0.363816082478\n"
       ]
      },
      {
       "output_type": "stream",
       "stream": "stdout",
       "text": [
        "Saving to mlp_01_best.pkl...\n"
       ]
      },
      {
       "output_type": "stream",
       "stream": "stdout",
       "text": [
        "Saving to mlp_01_best.pkl done. Time elapsed: 0.213391 seconds\n"
       ]
      }
     ],
     "prompt_number": 13
    },
    {
     "cell_type": "code",
     "collapsed": false,
     "input": [
      "!../pylearn2_fork/pylearn2/scripts/print_monitor.py mlp_01_best.pkl"
     ],
     "language": "python",
     "metadata": {},
     "outputs": [
      {
       "output_type": "stream",
       "stream": "stdout",
       "text": [
        "Using gpu device 0: GeForce GTX 550 Ti\r\n"
       ]
      },
      {
       "output_type": "stream",
       "stream": "stdout",
       "text": [
        "epochs seen:  14\r\n",
        "time trained:  44180.331157\r\n",
        "ave_grad_mult : 0.527657926083\r\n",
        "ave_grad_size : 0.151139304042\r\n",
        "ave_step_size : 0.0772397369146\r\n",
        "total_seconds_last_epoch : 3238.9074707\r\n",
        "train_h0_col_norms_max : 5.90512657166\r\n",
        "train_h0_col_norms_mean : 3.88688802719\r\n",
        "train_h0_col_norms_min : 1.33958876133\r\n",
        "train_h0_max_x_max_u : 0.999998629093\r\n",
        "train_h0_max_x_mean_u : 0.953002929688\r\n",
        "train_h0_max_x_min_u : 0.695951282978\r\n",
        "train_h0_mean_x_max_u : 0.545263409615\r\n",
        "train_h0_mean_x_mean_u : 0.499211698771\r\n",
        "train_h0_mean_x_min_u : 0.447644114494\r\n",
        "train_h0_min_x_max_u : 0.332247614861\r\n",
        "train_h0_min_x_mean_u : 0.0470406077802\r\n",
        "train_h0_min_x_min_u : 1.1329022982e-06\r\n",
        "train_h0_range_x_max_u : 0.999220311642\r\n",
        "train_h0_range_x_mean_u : 0.905962228775\r\n",
        "train_h0_range_x_min_u : 0.66696023941\r\n",
        "train_h0_row_norms_max : 5.15552520752\r\n",
        "train_h0_row_norms_mean : 2.62422919273\r\n",
        "train_h0_row_norms_min : 0.234662741423\r\n",
        "train_objective : 2.45067977905\r\n",
        "train_y_col_norms_max : 4.9830121994\r\n",
        "train_y_col_norms_mean : 1.72809302807\r\n",
        "train_y_col_norms_min : 0.319745659828\r\n",
        "train_y_max_max_class : 0.976847589016\r\n",
        "train_y_mean_max_class : 0.322718799114\r\n",
        "train_y_min_max_class : 0.0567213259637\r\n",
        "train_y_misclass : 0.615400016308\r\n",
        "train_y_nll : 2.45067977905\r\n",
        "train_y_row_norms_max : 1.73450767994\r\n",
        "train_y_row_norms_mean : 0.924641489983\r\n",
        "train_y_row_norms_min : 0.363816082478\r\n",
        "training_seconds_this_epoch : 3366.67382812\r\n",
        "valid_h0_col_norms_max : 5.90512657166\r\n",
        "valid_h0_col_norms_mean : 3.88688778877\r\n",
        "valid_h0_col_norms_min : 1.33958876133\r\n",
        "valid_h0_max_x_max_u : 0.999998748302\r\n",
        "valid_h0_max_x_mean_u : 0.951823115349\r\n",
        "valid_h0_max_x_min_u : 0.689418375492\r\n",
        "valid_h0_mean_x_max_u : 0.540898561478\r\n",
        "valid_h0_mean_x_mean_u : 0.499663442373\r\n",
        "valid_h0_mean_x_min_u : 0.452854007483\r\n",
        "valid_h0_min_x_max_u : 0.329722315073\r\n",
        "valid_h0_min_x_mean_u : 0.0471283532679\r\n",
        "valid_h0_min_x_min_u : 3.71933947463e-06\r\n",
        "valid_h0_range_x_max_u : 0.999517261982\r\n",
        "valid_h0_range_x_mean_u : 0.904694736004\r\n",
        "valid_h0_range_x_min_u : 0.669634580612\r\n",
        "valid_h0_row_norms_max : 5.15552520752\r\n",
        "valid_h0_row_norms_mean : 2.62422919273\r\n",
        "valid_h0_row_norms_min : 0.234662741423\r\n",
        "valid_objective : 2.50582289696\r\n",
        "valid_y_col_norms_max : 4.9830121994\r\n",
        "valid_y_col_norms_mean : 1.72809302807\r\n",
        "valid_y_col_norms_min : 0.319745659828\r\n",
        "valid_y_max_max_class : 0.977039635181\r\n",
        "valid_y_mean_max_class : 0.32553127408\r\n",
        "valid_y_min_max_class : 0.0508792586625\r\n",
        "valid_y_misclass : 0.624000012875\r\n",
        "valid_y_nll : 2.50582289696\r\n",
        "valid_y_row_norms_max : 1.73450756073\r\n",
        "valid_y_row_norms_mean : 0.924641489983\r\n",
        "valid_y_row_norms_min : 0.363816082478\r\n"
       ]
      }
     ],
     "prompt_number": 14
    },
    {
     "cell_type": "code",
     "collapsed": false,
     "input": [
      "# !chmod u+x pylearn2_fork/pylearn2/scripts/mlp/predict_csv.py"
     ],
     "language": "python",
     "metadata": {},
     "outputs": []
    },
    {
     "cell_type": "code",
     "collapsed": false,
     "input": [
      "!../pylearn2_fork/pylearn2/scripts/mlp/predict_csv.py \\\n",
      "    mlp_01_best.pkl\\\n",
      "    test_data_centered.npy\\\n",
      "    submission_mlp_01_best.csv\\\n",
      "    pred_rownames.pkl\\\n",
      "    pred_colnames.pkl"
     ],
     "language": "python",
     "metadata": {},
     "outputs": [
      {
       "output_type": "stream",
       "stream": "stdout",
       "text": [
        "Using gpu device 0: GeForce GTX 550 Ti\r\n"
       ]
      },
      {
       "output_type": "stream",
       "stream": "stdout",
       "text": [
        "loading model...\r\n"
       ]
      },
      {
       "output_type": "stream",
       "stream": "stdout",
       "text": [
        "setting up symbolic expressions...\r\n"
       ]
      },
      {
       "output_type": "stream",
       "stream": "stdout",
       "text": [
        "loading data and predicting...\r\n"
       ]
      },
      {
       "output_type": "stream",
       "stream": "stdout",
       "text": [
        "writing predictions...\r\n"
       ]
      }
     ],
     "prompt_number": 15
    },
    {
     "cell_type": "code",
     "collapsed": false,
     "input": [
      "y = pd.read_csv('submission_mlp_01_best.csv')\n",
      "y"
     ],
     "language": "python",
     "metadata": {},
     "outputs": [
      {
       "html": [
        "<div style=\"max-height:1000px;max-width:1500px;overflow:auto;\">\n",
        "<table border=\"1\" class=\"dataframe\">\n",
        "  <thead>\n",
        "    <tr style=\"text-align: right;\">\n",
        "      <th></th>\n",
        "      <th>image</th>\n",
        "      <th>appendicularian_slight_curve</th>\n",
        "      <th>hydromedusae_shapeB</th>\n",
        "      <th>hydromedusae_shapeA</th>\n",
        "      <th>siphonophore_other_parts</th>\n",
        "      <th>tunicate_doliolid_nurse</th>\n",
        "      <th>acantharia_protist</th>\n",
        "      <th>hydromedusae_narco_young</th>\n",
        "      <th>fish_larvae_deep_body</th>\n",
        "      <th>hydromedusae_haliscera_small_sideview</th>\n",
        "      <th>...</th>\n",
        "      <th>unknown_sticks</th>\n",
        "      <th>unknown_unclassified</th>\n",
        "      <th>pteropod_theco_dev_seq</th>\n",
        "      <th>acantharia_protist_halo</th>\n",
        "      <th>hydromedusae_typeD_bell_and_tentacles</th>\n",
        "      <th>echinoderm_larva_pluteus_typeC</th>\n",
        "      <th>decapods</th>\n",
        "      <th>copepod_calanoid_small_longantennae</th>\n",
        "      <th>euphausiids</th>\n",
        "      <th>echinopluteus</th>\n",
        "    </tr>\n",
        "  </thead>\n",
        "  <tbody>\n",
        "    <tr>\n",
        "      <th>0     </th>\n",
        "      <td>      1.jpg</td>\n",
        "      <td> 0.000170</td>\n",
        "      <td> 0.005965</td>\n",
        "      <td> 1.435657e-02</td>\n",
        "      <td> 1.576803e-02</td>\n",
        "      <td> 0.000067</td>\n",
        "      <td> 7.035527e-05</td>\n",
        "      <td> 0.000645</td>\n",
        "      <td> 4.116746e-04</td>\n",
        "      <td> 1.554654e-03</td>\n",
        "      <td>...</td>\n",
        "      <td> 3.486488e-03</td>\n",
        "      <td> 0.000815</td>\n",
        "      <td> 5.755364e-02</td>\n",
        "      <td> 3.582185e-06</td>\n",
        "      <td> 0.003029</td>\n",
        "      <td> 3.110135e-04</td>\n",
        "      <td> 1.713624e-05</td>\n",
        "      <td> 1.689581e-04</td>\n",
        "      <td> 0.000377</td>\n",
        "      <td> 0.000390</td>\n",
        "    </tr>\n",
        "    <tr>\n",
        "      <th>1     </th>\n",
        "      <td>     10.jpg</td>\n",
        "      <td> 0.000101</td>\n",
        "      <td> 0.009875</td>\n",
        "      <td> 5.209445e-03</td>\n",
        "      <td> 5.269865e-02</td>\n",
        "      <td> 0.000098</td>\n",
        "      <td> 9.530718e-05</td>\n",
        "      <td> 0.000734</td>\n",
        "      <td> 5.135551e-04</td>\n",
        "      <td> 1.389509e-03</td>\n",
        "      <td>...</td>\n",
        "      <td> 1.231832e-03</td>\n",
        "      <td> 0.000911</td>\n",
        "      <td> 1.964424e-02</td>\n",
        "      <td> 5.000034e-06</td>\n",
        "      <td> 0.003150</td>\n",
        "      <td> 3.765901e-04</td>\n",
        "      <td> 1.991120e-05</td>\n",
        "      <td> 4.798204e-04</td>\n",
        "      <td> 0.000797</td>\n",
        "      <td> 0.001021</td>\n",
        "    </tr>\n",
        "    <tr>\n",
        "      <th>2     </th>\n",
        "      <td>    100.jpg</td>\n",
        "      <td> 0.000007</td>\n",
        "      <td> 0.000224</td>\n",
        "      <td> 5.065822e-06</td>\n",
        "      <td> 3.033987e-06</td>\n",
        "      <td> 0.000013</td>\n",
        "      <td> 4.600316e-03</td>\n",
        "      <td> 0.000004</td>\n",
        "      <td> 1.096016e-03</td>\n",
        "      <td> 6.435424e-05</td>\n",
        "      <td>...</td>\n",
        "      <td> 2.984386e-06</td>\n",
        "      <td> 0.000009</td>\n",
        "      <td> 2.355871e-04</td>\n",
        "      <td> 6.993235e-06</td>\n",
        "      <td> 0.001904</td>\n",
        "      <td> 1.081207e-04</td>\n",
        "      <td> 8.217166e-04</td>\n",
        "      <td> 9.105071e-10</td>\n",
        "      <td> 0.000008</td>\n",
        "      <td> 0.000393</td>\n",
        "    </tr>\n",
        "    <tr>\n",
        "      <th>3     </th>\n",
        "      <td>   1000.jpg</td>\n",
        "      <td> 0.001223</td>\n",
        "      <td> 0.005799</td>\n",
        "      <td> 2.736297e-03</td>\n",
        "      <td> 6.984615e-02</td>\n",
        "      <td> 0.000468</td>\n",
        "      <td> 1.769618e-05</td>\n",
        "      <td> 0.001497</td>\n",
        "      <td> 5.120623e-05</td>\n",
        "      <td> 3.729025e-04</td>\n",
        "      <td>...</td>\n",
        "      <td> 4.607394e-03</td>\n",
        "      <td> 0.000999</td>\n",
        "      <td> 9.629478e-03</td>\n",
        "      <td> 2.866173e-05</td>\n",
        "      <td> 0.005214</td>\n",
        "      <td> 3.453998e-04</td>\n",
        "      <td> 1.887336e-05</td>\n",
        "      <td> 1.102684e-04</td>\n",
        "      <td> 0.001001</td>\n",
        "      <td> 0.000876</td>\n",
        "    </tr>\n",
        "    <tr>\n",
        "      <th>4     </th>\n",
        "      <td>  10000.jpg</td>\n",
        "      <td> 0.000039</td>\n",
        "      <td> 0.000018</td>\n",
        "      <td> 2.705767e-10</td>\n",
        "      <td> 5.910282e-04</td>\n",
        "      <td> 0.000987</td>\n",
        "      <td> 1.999396e-11</td>\n",
        "      <td> 0.005425</td>\n",
        "      <td> 6.485197e-12</td>\n",
        "      <td> 1.472807e-10</td>\n",
        "      <td>...</td>\n",
        "      <td> 1.450259e-05</td>\n",
        "      <td> 0.000002</td>\n",
        "      <td> 1.196385e-08</td>\n",
        "      <td> 2.090581e-03</td>\n",
        "      <td> 0.000012</td>\n",
        "      <td> 1.969596e-07</td>\n",
        "      <td> 6.715301e-08</td>\n",
        "      <td> 6.314413e-04</td>\n",
        "      <td> 0.000027</td>\n",
        "      <td> 0.000951</td>\n",
        "    </tr>\n",
        "    <tr>\n",
        "      <th>5     </th>\n",
        "      <td> 100000.jpg</td>\n",
        "      <td> 0.000262</td>\n",
        "      <td> 0.011758</td>\n",
        "      <td> 5.021412e-04</td>\n",
        "      <td> 1.527741e-01</td>\n",
        "      <td> 0.000621</td>\n",
        "      <td> 6.307474e-05</td>\n",
        "      <td> 0.001137</td>\n",
        "      <td> 1.523953e-04</td>\n",
        "      <td> 3.952444e-04</td>\n",
        "      <td>...</td>\n",
        "      <td> 1.127160e-03</td>\n",
        "      <td> 0.000776</td>\n",
        "      <td> 4.965053e-03</td>\n",
        "      <td> 4.581263e-05</td>\n",
        "      <td> 0.008774</td>\n",
        "      <td> 5.960027e-04</td>\n",
        "      <td> 1.083960e-04</td>\n",
        "      <td> 5.800466e-04</td>\n",
        "      <td> 0.001473</td>\n",
        "      <td> 0.005209</td>\n",
        "    </tr>\n",
        "    <tr>\n",
        "      <th>6     </th>\n",
        "      <td> 100001.jpg</td>\n",
        "      <td> 0.000059</td>\n",
        "      <td> 0.018988</td>\n",
        "      <td> 9.469505e-04</td>\n",
        "      <td> 2.286911e-02</td>\n",
        "      <td> 0.000099</td>\n",
        "      <td> 1.131031e-03</td>\n",
        "      <td> 0.000115</td>\n",
        "      <td> 4.459281e-03</td>\n",
        "      <td> 4.232301e-03</td>\n",
        "      <td>...</td>\n",
        "      <td> 4.400309e-04</td>\n",
        "      <td> 0.000678</td>\n",
        "      <td> 3.910185e-03</td>\n",
        "      <td> 7.632060e-06</td>\n",
        "      <td> 0.004731</td>\n",
        "      <td> 1.573029e-03</td>\n",
        "      <td> 4.275263e-04</td>\n",
        "      <td> 4.499563e-03</td>\n",
        "      <td> 0.000919</td>\n",
        "      <td> 0.004414</td>\n",
        "    </tr>\n",
        "    <tr>\n",
        "      <th>7     </th>\n",
        "      <td> 100002.jpg</td>\n",
        "      <td> 0.000002</td>\n",
        "      <td> 0.000770</td>\n",
        "      <td> 1.420799e-05</td>\n",
        "      <td> 3.785218e-02</td>\n",
        "      <td> 0.000005</td>\n",
        "      <td> 4.994217e-06</td>\n",
        "      <td> 0.000010</td>\n",
        "      <td> 2.177950e-05</td>\n",
        "      <td> 5.599622e-05</td>\n",
        "      <td>...</td>\n",
        "      <td> 1.670952e-05</td>\n",
        "      <td> 0.000021</td>\n",
        "      <td> 1.232101e-04</td>\n",
        "      <td> 4.604582e-07</td>\n",
        "      <td> 0.000054</td>\n",
        "      <td> 3.079113e-05</td>\n",
        "      <td> 3.807634e-06</td>\n",
        "      <td> 3.974978e-03</td>\n",
        "      <td> 0.000054</td>\n",
        "      <td> 0.000283</td>\n",
        "    </tr>\n",
        "    <tr>\n",
        "      <th>8     </th>\n",
        "      <td> 100003.jpg</td>\n",
        "      <td> 0.000034</td>\n",
        "      <td> 0.000005</td>\n",
        "      <td> 7.193136e-10</td>\n",
        "      <td> 1.637716e-04</td>\n",
        "      <td> 0.000278</td>\n",
        "      <td> 7.166466e-12</td>\n",
        "      <td> 0.002510</td>\n",
        "      <td> 3.555848e-12</td>\n",
        "      <td> 9.782370e-11</td>\n",
        "      <td>...</td>\n",
        "      <td> 1.542081e-05</td>\n",
        "      <td> 0.000001</td>\n",
        "      <td> 2.116776e-08</td>\n",
        "      <td> 1.810138e-04</td>\n",
        "      <td> 0.000009</td>\n",
        "      <td> 6.796472e-08</td>\n",
        "      <td> 1.294539e-08</td>\n",
        "      <td> 3.236949e-04</td>\n",
        "      <td> 0.000009</td>\n",
        "      <td> 0.000107</td>\n",
        "    </tr>\n",
        "    <tr>\n",
        "      <th>9     </th>\n",
        "      <td> 100004.jpg</td>\n",
        "      <td> 0.000003</td>\n",
        "      <td> 0.000899</td>\n",
        "      <td> 4.689941e-03</td>\n",
        "      <td> 1.777466e-03</td>\n",
        "      <td> 0.000001</td>\n",
        "      <td> 1.942180e-04</td>\n",
        "      <td> 0.000004</td>\n",
        "      <td> 1.534295e-03</td>\n",
        "      <td> 2.239923e-03</td>\n",
        "      <td>...</td>\n",
        "      <td> 8.927281e-05</td>\n",
        "      <td> 0.000067</td>\n",
        "      <td> 8.726808e-03</td>\n",
        "      <td> 3.057519e-08</td>\n",
        "      <td> 0.000300</td>\n",
        "      <td> 7.259995e-05</td>\n",
        "      <td> 5.452463e-06</td>\n",
        "      <td> 9.578044e-06</td>\n",
        "      <td> 0.000029</td>\n",
        "      <td> 0.000025</td>\n",
        "    </tr>\n",
        "    <tr>\n",
        "      <th>10    </th>\n",
        "      <td> 100005.jpg</td>\n",
        "      <td> 0.000799</td>\n",
        "      <td> 0.005330</td>\n",
        "      <td> 6.628385e-03</td>\n",
        "      <td> 2.719000e-02</td>\n",
        "      <td> 0.000159</td>\n",
        "      <td> 1.567277e-04</td>\n",
        "      <td> 0.001568</td>\n",
        "      <td> 5.835539e-04</td>\n",
        "      <td> 1.403674e-03</td>\n",
        "      <td>...</td>\n",
        "      <td> 2.833890e-03</td>\n",
        "      <td> 0.000974</td>\n",
        "      <td> 2.415500e-01</td>\n",
        "      <td> 1.097192e-05</td>\n",
        "      <td> 0.003793</td>\n",
        "      <td> 6.218973e-04</td>\n",
        "      <td> 3.593424e-05</td>\n",
        "      <td> 2.336084e-04</td>\n",
        "      <td> 0.000574</td>\n",
        "      <td> 0.000718</td>\n",
        "    </tr>\n",
        "    <tr>\n",
        "      <th>11    </th>\n",
        "      <td> 100006.jpg</td>\n",
        "      <td> 0.000467</td>\n",
        "      <td> 0.005631</td>\n",
        "      <td> 1.608489e-03</td>\n",
        "      <td> 6.231242e-02</td>\n",
        "      <td> 0.000152</td>\n",
        "      <td> 6.699522e-06</td>\n",
        "      <td> 0.001079</td>\n",
        "      <td> 4.050711e-05</td>\n",
        "      <td> 2.618504e-04</td>\n",
        "      <td>...</td>\n",
        "      <td> 4.482673e-03</td>\n",
        "      <td> 0.000793</td>\n",
        "      <td> 5.782348e-03</td>\n",
        "      <td> 4.616236e-06</td>\n",
        "      <td> 0.001243</td>\n",
        "      <td> 1.497985e-04</td>\n",
        "      <td> 4.752839e-06</td>\n",
        "      <td> 1.790973e-02</td>\n",
        "      <td> 0.000561</td>\n",
        "      <td> 0.000494</td>\n",
        "    </tr>\n",
        "    <tr>\n",
        "      <th>12    </th>\n",
        "      <td> 100007.jpg</td>\n",
        "      <td> 0.000097</td>\n",
        "      <td> 0.000032</td>\n",
        "      <td> 2.252942e-08</td>\n",
        "      <td> 9.317077e-04</td>\n",
        "      <td> 0.000641</td>\n",
        "      <td> 4.467771e-11</td>\n",
        "      <td> 0.005494</td>\n",
        "      <td> 3.393913e-11</td>\n",
        "      <td> 1.593284e-09</td>\n",
        "      <td>...</td>\n",
        "      <td> 1.430251e-04</td>\n",
        "      <td> 0.000006</td>\n",
        "      <td> 2.228705e-07</td>\n",
        "      <td> 5.241021e-04</td>\n",
        "      <td> 0.000041</td>\n",
        "      <td> 4.216697e-07</td>\n",
        "      <td> 4.432891e-08</td>\n",
        "      <td> 7.390619e-04</td>\n",
        "      <td> 0.000042</td>\n",
        "      <td> 0.000287</td>\n",
        "    </tr>\n",
        "    <tr>\n",
        "      <th>13    </th>\n",
        "      <td> 100008.jpg</td>\n",
        "      <td> 0.001017</td>\n",
        "      <td> 0.016410</td>\n",
        "      <td> 1.938829e-03</td>\n",
        "      <td> 2.587328e-02</td>\n",
        "      <td> 0.000516</td>\n",
        "      <td> 5.453207e-04</td>\n",
        "      <td> 0.003355</td>\n",
        "      <td> 1.527740e-03</td>\n",
        "      <td> 1.329470e-03</td>\n",
        "      <td>...</td>\n",
        "      <td> 4.216126e-03</td>\n",
        "      <td> 0.001699</td>\n",
        "      <td> 7.109488e-03</td>\n",
        "      <td> 1.281736e-05</td>\n",
        "      <td> 0.007330</td>\n",
        "      <td> 6.106326e-04</td>\n",
        "      <td> 7.145176e-05</td>\n",
        "      <td> 2.761377e-03</td>\n",
        "      <td> 0.000908</td>\n",
        "      <td> 0.002755</td>\n",
        "    </tr>\n",
        "    <tr>\n",
        "      <th>14    </th>\n",
        "      <td>  10001.jpg</td>\n",
        "      <td> 0.000128</td>\n",
        "      <td> 0.000825</td>\n",
        "      <td> 1.223631e-06</td>\n",
        "      <td> 3.073813e-02</td>\n",
        "      <td> 0.000676</td>\n",
        "      <td> 7.108930e-09</td>\n",
        "      <td> 0.003284</td>\n",
        "      <td> 1.575877e-08</td>\n",
        "      <td> 3.590362e-07</td>\n",
        "      <td>...</td>\n",
        "      <td> 3.676920e-04</td>\n",
        "      <td> 0.000065</td>\n",
        "      <td> 1.427719e-05</td>\n",
        "      <td> 1.706818e-04</td>\n",
        "      <td> 0.000168</td>\n",
        "      <td> 9.904062e-06</td>\n",
        "      <td> 5.564076e-07</td>\n",
        "      <td> 6.118182e-02</td>\n",
        "      <td> 0.000401</td>\n",
        "      <td> 0.001855</td>\n",
        "    </tr>\n",
        "    <tr>\n",
        "      <th>15    </th>\n",
        "      <td> 100011.jpg</td>\n",
        "      <td> 0.000013</td>\n",
        "      <td> 0.003989</td>\n",
        "      <td> 1.000403e-02</td>\n",
        "      <td> 3.531109e-03</td>\n",
        "      <td> 0.000006</td>\n",
        "      <td> 1.194907e-03</td>\n",
        "      <td> 0.000019</td>\n",
        "      <td> 6.728632e-03</td>\n",
        "      <td> 7.067935e-03</td>\n",
        "      <td>...</td>\n",
        "      <td> 3.029484e-04</td>\n",
        "      <td> 0.000266</td>\n",
        "      <td> 1.933495e-02</td>\n",
        "      <td> 2.778995e-07</td>\n",
        "      <td> 0.001773</td>\n",
        "      <td> 3.633778e-04</td>\n",
        "      <td> 5.601244e-05</td>\n",
        "      <td> 2.944568e-05</td>\n",
        "      <td> 0.000132</td>\n",
        "      <td> 0.000185</td>\n",
        "    </tr>\n",
        "    <tr>\n",
        "      <th>16    </th>\n",
        "      <td> 100012.jpg</td>\n",
        "      <td> 0.000480</td>\n",
        "      <td> 0.002775</td>\n",
        "      <td> 6.265365e-07</td>\n",
        "      <td> 5.360863e-02</td>\n",
        "      <td> 0.005064</td>\n",
        "      <td> 3.565814e-07</td>\n",
        "      <td> 0.006031</td>\n",
        "      <td> 2.339845e-07</td>\n",
        "      <td> 1.643017e-06</td>\n",
        "      <td>...</td>\n",
        "      <td> 2.760807e-04</td>\n",
        "      <td> 0.000153</td>\n",
        "      <td> 2.290256e-05</td>\n",
        "      <td> 3.734938e-03</td>\n",
        "      <td> 0.000993</td>\n",
        "      <td> 9.844482e-05</td>\n",
        "      <td> 3.379434e-05</td>\n",
        "      <td> 6.239844e-03</td>\n",
        "      <td> 0.001482</td>\n",
        "      <td> 0.022740</td>\n",
        "    </tr>\n",
        "    <tr>\n",
        "      <th>17    </th>\n",
        "      <td> 100013.jpg</td>\n",
        "      <td> 0.000140</td>\n",
        "      <td> 0.011808</td>\n",
        "      <td> 3.337860e-03</td>\n",
        "      <td> 1.673356e-01</td>\n",
        "      <td> 0.000312</td>\n",
        "      <td> 8.288514e-04</td>\n",
        "      <td> 0.000488</td>\n",
        "      <td> 1.607636e-03</td>\n",
        "      <td> 2.627132e-03</td>\n",
        "      <td>...</td>\n",
        "      <td> 9.793701e-04</td>\n",
        "      <td> 0.000911</td>\n",
        "      <td> 1.828417e-02</td>\n",
        "      <td> 4.690904e-05</td>\n",
        "      <td> 0.036913</td>\n",
        "      <td> 1.376496e-03</td>\n",
        "      <td> 3.933055e-04</td>\n",
        "      <td> 2.174814e-05</td>\n",
        "      <td> 0.001216</td>\n",
        "      <td> 0.004481</td>\n",
        "    </tr>\n",
        "    <tr>\n",
        "      <th>18    </th>\n",
        "      <td> 100014.jpg</td>\n",
        "      <td> 0.000071</td>\n",
        "      <td> 0.002038</td>\n",
        "      <td> 5.900336e-03</td>\n",
        "      <td> 3.402779e-03</td>\n",
        "      <td> 0.000018</td>\n",
        "      <td> 2.689059e-05</td>\n",
        "      <td> 0.000328</td>\n",
        "      <td> 2.188890e-04</td>\n",
        "      <td> 7.449596e-04</td>\n",
        "      <td>...</td>\n",
        "      <td> 2.194771e-03</td>\n",
        "      <td> 0.000333</td>\n",
        "      <td> 1.196212e-02</td>\n",
        "      <td> 8.925970e-07</td>\n",
        "      <td> 0.000771</td>\n",
        "      <td> 1.156619e-04</td>\n",
        "      <td> 4.758695e-06</td>\n",
        "      <td> 1.772841e-03</td>\n",
        "      <td> 0.000138</td>\n",
        "      <td> 0.000112</td>\n",
        "    </tr>\n",
        "    <tr>\n",
        "      <th>19    </th>\n",
        "      <td> 100015.jpg</td>\n",
        "      <td> 0.000126</td>\n",
        "      <td> 0.001331</td>\n",
        "      <td> 1.493255e-02</td>\n",
        "      <td> 3.523694e-03</td>\n",
        "      <td> 0.000029</td>\n",
        "      <td> 3.664337e-05</td>\n",
        "      <td> 0.000301</td>\n",
        "      <td> 1.833363e-04</td>\n",
        "      <td> 7.293847e-04</td>\n",
        "      <td>...</td>\n",
        "      <td> 1.897513e-03</td>\n",
        "      <td> 0.000334</td>\n",
        "      <td> 3.896159e-02</td>\n",
        "      <td> 1.363744e-06</td>\n",
        "      <td> 0.001774</td>\n",
        "      <td> 1.222778e-04</td>\n",
        "      <td> 6.390002e-06</td>\n",
        "      <td> 7.525285e-06</td>\n",
        "      <td> 0.000128</td>\n",
        "      <td> 0.000078</td>\n",
        "    </tr>\n",
        "    <tr>\n",
        "      <th>20    </th>\n",
        "      <td> 100016.jpg</td>\n",
        "      <td> 0.000001</td>\n",
        "      <td> 0.000023</td>\n",
        "      <td> 1.156952e-09</td>\n",
        "      <td> 6.760065e-08</td>\n",
        "      <td> 0.000011</td>\n",
        "      <td> 2.470740e-03</td>\n",
        "      <td> 0.000000</td>\n",
        "      <td> 6.318456e-05</td>\n",
        "      <td> 5.641078e-07</td>\n",
        "      <td>...</td>\n",
        "      <td> 2.012370e-08</td>\n",
        "      <td> 0.000000</td>\n",
        "      <td> 1.307009e-07</td>\n",
        "      <td> 1.538237e-05</td>\n",
        "      <td> 0.000963</td>\n",
        "      <td> 2.455420e-05</td>\n",
        "      <td> 2.830526e-02</td>\n",
        "      <td> 2.448434e-10</td>\n",
        "      <td> 0.000002</td>\n",
        "      <td> 0.000960</td>\n",
        "    </tr>\n",
        "    <tr>\n",
        "      <th>21    </th>\n",
        "      <td> 100017.jpg</td>\n",
        "      <td> 0.000278</td>\n",
        "      <td> 0.006710</td>\n",
        "      <td> 1.428336e-03</td>\n",
        "      <td> 4.701165e-02</td>\n",
        "      <td> 0.001070</td>\n",
        "      <td> 1.498741e-04</td>\n",
        "      <td> 0.007238</td>\n",
        "      <td> 1.913998e-04</td>\n",
        "      <td> 4.893830e-04</td>\n",
        "      <td>...</td>\n",
        "      <td> 2.616728e-03</td>\n",
        "      <td> 0.001042</td>\n",
        "      <td> 1.230651e-02</td>\n",
        "      <td> 4.614837e-04</td>\n",
        "      <td> 0.018785</td>\n",
        "      <td> 8.282178e-04</td>\n",
        "      <td> 2.115849e-04</td>\n",
        "      <td> 1.268379e-04</td>\n",
        "      <td> 0.001951</td>\n",
        "      <td> 0.007099</td>\n",
        "    </tr>\n",
        "    <tr>\n",
        "      <th>22    </th>\n",
        "      <td> 100018.jpg</td>\n",
        "      <td> 0.001953</td>\n",
        "      <td> 0.000299</td>\n",
        "      <td> 3.182642e-06</td>\n",
        "      <td> 1.266129e-04</td>\n",
        "      <td> 0.000516</td>\n",
        "      <td> 3.949333e-05</td>\n",
        "      <td> 0.000640</td>\n",
        "      <td> 1.424337e-05</td>\n",
        "      <td> 4.896271e-06</td>\n",
        "      <td>...</td>\n",
        "      <td> 1.241312e-04</td>\n",
        "      <td> 0.000061</td>\n",
        "      <td> 5.894768e-04</td>\n",
        "      <td> 4.934303e-05</td>\n",
        "      <td> 0.002482</td>\n",
        "      <td> 1.147605e-04</td>\n",
        "      <td> 1.145716e-04</td>\n",
        "      <td> 3.546294e-06</td>\n",
        "      <td> 0.000081</td>\n",
        "      <td> 0.000884</td>\n",
        "    </tr>\n",
        "    <tr>\n",
        "      <th>23    </th>\n",
        "      <td> 100019.jpg</td>\n",
        "      <td> 0.000253</td>\n",
        "      <td> 0.011601</td>\n",
        "      <td> 1.436781e-03</td>\n",
        "      <td> 5.545555e-02</td>\n",
        "      <td> 0.001117</td>\n",
        "      <td> 2.033034e-04</td>\n",
        "      <td> 0.003033</td>\n",
        "      <td> 2.500069e-04</td>\n",
        "      <td> 6.514807e-04</td>\n",
        "      <td>...</td>\n",
        "      <td> 2.447429e-03</td>\n",
        "      <td> 0.001095</td>\n",
        "      <td> 6.525468e-03</td>\n",
        "      <td> 6.031889e-04</td>\n",
        "      <td> 0.045802</td>\n",
        "      <td> 1.219879e-03</td>\n",
        "      <td> 5.588351e-04</td>\n",
        "      <td> 5.723393e-05</td>\n",
        "      <td> 0.002272</td>\n",
        "      <td> 0.012563</td>\n",
        "    </tr>\n",
        "    <tr>\n",
        "      <th>24    </th>\n",
        "      <td>  10002.jpg</td>\n",
        "      <td> 0.000059</td>\n",
        "      <td> 0.002723</td>\n",
        "      <td> 2.283313e-05</td>\n",
        "      <td> 1.772939e-01</td>\n",
        "      <td> 0.000099</td>\n",
        "      <td> 1.058797e-05</td>\n",
        "      <td> 0.000132</td>\n",
        "      <td> 2.531664e-05</td>\n",
        "      <td> 7.053794e-05</td>\n",
        "      <td>...</td>\n",
        "      <td> 9.308095e-05</td>\n",
        "      <td> 0.000112</td>\n",
        "      <td> 1.195234e-03</td>\n",
        "      <td> 8.498318e-06</td>\n",
        "      <td> 0.000585</td>\n",
        "      <td> 1.823165e-04</td>\n",
        "      <td> 2.104790e-05</td>\n",
        "      <td> 6.213322e-03</td>\n",
        "      <td> 0.000411</td>\n",
        "      <td> 0.002490</td>\n",
        "    </tr>\n",
        "    <tr>\n",
        "      <th>25    </th>\n",
        "      <td> 100020.jpg</td>\n",
        "      <td> 0.000080</td>\n",
        "      <td> 0.004376</td>\n",
        "      <td> 1.338755e-04</td>\n",
        "      <td> 3.752748e-02</td>\n",
        "      <td> 0.000166</td>\n",
        "      <td> 4.692713e-06</td>\n",
        "      <td> 0.000854</td>\n",
        "      <td> 1.542719e-05</td>\n",
        "      <td> 8.386093e-05</td>\n",
        "      <td>...</td>\n",
        "      <td> 5.793735e-04</td>\n",
        "      <td> 0.000249</td>\n",
        "      <td> 2.426376e-03</td>\n",
        "      <td> 3.521280e-05</td>\n",
        "      <td> 0.001086</td>\n",
        "      <td> 1.828526e-04</td>\n",
        "      <td> 1.873110e-05</td>\n",
        "      <td> 2.202691e-03</td>\n",
        "      <td> 0.000542</td>\n",
        "      <td> 0.002421</td>\n",
        "    </tr>\n",
        "    <tr>\n",
        "      <th>26    </th>\n",
        "      <td> 100021.jpg</td>\n",
        "      <td> 0.000250</td>\n",
        "      <td> 0.000384</td>\n",
        "      <td> 3.204037e-05</td>\n",
        "      <td> 3.821858e-03</td>\n",
        "      <td> 0.000339</td>\n",
        "      <td> 2.226821e-08</td>\n",
        "      <td> 0.014602</td>\n",
        "      <td> 9.143600e-08</td>\n",
        "      <td> 1.422635e-06</td>\n",
        "      <td>...</td>\n",
        "      <td> 2.381129e-03</td>\n",
        "      <td> 0.000139</td>\n",
        "      <td> 1.108939e-04</td>\n",
        "      <td> 1.947382e-05</td>\n",
        "      <td> 0.000195</td>\n",
        "      <td> 6.339104e-06</td>\n",
        "      <td> 1.469116e-07</td>\n",
        "      <td> 2.614047e-02</td>\n",
        "      <td> 0.000144</td>\n",
        "      <td> 0.000187</td>\n",
        "    </tr>\n",
        "    <tr>\n",
        "      <th>27    </th>\n",
        "      <td> 100022.jpg</td>\n",
        "      <td> 0.000948</td>\n",
        "      <td> 0.004051</td>\n",
        "      <td> 6.384270e-04</td>\n",
        "      <td> 2.468956e-02</td>\n",
        "      <td> 0.001833</td>\n",
        "      <td> 7.421576e-05</td>\n",
        "      <td> 0.007339</td>\n",
        "      <td> 8.708356e-05</td>\n",
        "      <td> 1.837397e-04</td>\n",
        "      <td>...</td>\n",
        "      <td> 3.783332e-03</td>\n",
        "      <td> 0.000953</td>\n",
        "      <td> 1.122040e-02</td>\n",
        "      <td> 1.094250e-04</td>\n",
        "      <td> 0.037824</td>\n",
        "      <td> 4.511687e-04</td>\n",
        "      <td> 8.681651e-05</td>\n",
        "      <td> 2.682261e-04</td>\n",
        "      <td> 0.001143</td>\n",
        "      <td> 0.004841</td>\n",
        "    </tr>\n",
        "    <tr>\n",
        "      <th>28    </th>\n",
        "      <td> 100023.jpg</td>\n",
        "      <td> 0.010402</td>\n",
        "      <td> 0.000282</td>\n",
        "      <td> 1.380947e-07</td>\n",
        "      <td> 4.535679e-04</td>\n",
        "      <td> 0.008342</td>\n",
        "      <td> 2.298630e-06</td>\n",
        "      <td> 0.012707</td>\n",
        "      <td> 4.195305e-07</td>\n",
        "      <td> 3.232578e-07</td>\n",
        "      <td>...</td>\n",
        "      <td> 7.128492e-05</td>\n",
        "      <td> 0.000055</td>\n",
        "      <td> 5.356942e-04</td>\n",
        "      <td> 8.920530e-03</td>\n",
        "      <td> 0.002733</td>\n",
        "      <td> 1.393067e-04</td>\n",
        "      <td> 1.138462e-04</td>\n",
        "      <td> 2.670160e-06</td>\n",
        "      <td> 0.000235</td>\n",
        "      <td> 0.005168</td>\n",
        "    </tr>\n",
        "    <tr>\n",
        "      <th>29    </th>\n",
        "      <td> 100024.jpg</td>\n",
        "      <td> 0.000940</td>\n",
        "      <td> 0.001240</td>\n",
        "      <td> 8.964390e-05</td>\n",
        "      <td> 3.598079e-03</td>\n",
        "      <td> 0.000899</td>\n",
        "      <td> 5.889470e-08</td>\n",
        "      <td> 0.045047</td>\n",
        "      <td> 1.492756e-07</td>\n",
        "      <td> 2.440146e-06</td>\n",
        "      <td>...</td>\n",
        "      <td> 7.498912e-03</td>\n",
        "      <td> 0.000281</td>\n",
        "      <td> 1.608080e-03</td>\n",
        "      <td> 3.628972e-04</td>\n",
        "      <td> 0.000869</td>\n",
        "      <td> 2.437191e-05</td>\n",
        "      <td> 1.034188e-06</td>\n",
        "      <td> 7.320232e-04</td>\n",
        "      <td> 0.000275</td>\n",
        "      <td> 0.000801</td>\n",
        "    </tr>\n",
        "    <tr>\n",
        "      <th>...</th>\n",
        "      <td>...</td>\n",
        "      <td>...</td>\n",
        "      <td>...</td>\n",
        "      <td>...</td>\n",
        "      <td>...</td>\n",
        "      <td>...</td>\n",
        "      <td>...</td>\n",
        "      <td>...</td>\n",
        "      <td>...</td>\n",
        "      <td>...</td>\n",
        "      <td>...</td>\n",
        "      <td>...</td>\n",
        "      <td>...</td>\n",
        "      <td>...</td>\n",
        "      <td>...</td>\n",
        "      <td>...</td>\n",
        "      <td>...</td>\n",
        "      <td>...</td>\n",
        "      <td>...</td>\n",
        "      <td>...</td>\n",
        "      <td>...</td>\n",
        "    </tr>\n",
        "    <tr>\n",
        "      <th>130370</th>\n",
        "      <td>  99963.jpg</td>\n",
        "      <td> 0.000066</td>\n",
        "      <td> 0.014515</td>\n",
        "      <td> 1.020664e-03</td>\n",
        "      <td> 2.631334e-02</td>\n",
        "      <td> 0.000111</td>\n",
        "      <td> 5.513773e-03</td>\n",
        "      <td> 0.000070</td>\n",
        "      <td> 7.499038e-03</td>\n",
        "      <td> 4.393768e-03</td>\n",
        "      <td>...</td>\n",
        "      <td> 2.378672e-04</td>\n",
        "      <td> 0.000518</td>\n",
        "      <td> 6.025839e-03</td>\n",
        "      <td> 2.141760e-05</td>\n",
        "      <td> 0.015353</td>\n",
        "      <td> 1.842255e-03</td>\n",
        "      <td> 1.270594e-03</td>\n",
        "      <td> 3.678217e-05</td>\n",
        "      <td> 0.000744</td>\n",
        "      <td> 0.006707</td>\n",
        "    </tr>\n",
        "    <tr>\n",
        "      <th>130371</th>\n",
        "      <td>  99964.jpg</td>\n",
        "      <td> 0.000134</td>\n",
        "      <td> 0.000954</td>\n",
        "      <td> 7.535587e-03</td>\n",
        "      <td> 2.035338e-03</td>\n",
        "      <td> 0.000031</td>\n",
        "      <td> 5.528542e-06</td>\n",
        "      <td> 0.000829</td>\n",
        "      <td> 3.038498e-05</td>\n",
        "      <td> 2.110696e-04</td>\n",
        "      <td>...</td>\n",
        "      <td> 4.124518e-03</td>\n",
        "      <td> 0.000280</td>\n",
        "      <td> 1.686781e-02</td>\n",
        "      <td> 2.281220e-06</td>\n",
        "      <td> 0.001220</td>\n",
        "      <td> 6.235343e-05</td>\n",
        "      <td> 2.306783e-06</td>\n",
        "      <td> 6.752527e-05</td>\n",
        "      <td> 0.000117</td>\n",
        "      <td> 0.000069</td>\n",
        "    </tr>\n",
        "    <tr>\n",
        "      <th>130372</th>\n",
        "      <td>  99966.jpg</td>\n",
        "      <td> 0.000047</td>\n",
        "      <td> 0.017114</td>\n",
        "      <td> 3.979165e-03</td>\n",
        "      <td> 1.846053e-02</td>\n",
        "      <td> 0.000036</td>\n",
        "      <td> 5.484472e-03</td>\n",
        "      <td> 0.000125</td>\n",
        "      <td> 1.749010e-02</td>\n",
        "      <td> 1.005871e-02</td>\n",
        "      <td>...</td>\n",
        "      <td> 5.394879e-04</td>\n",
        "      <td> 0.000642</td>\n",
        "      <td> 7.897550e-03</td>\n",
        "      <td> 1.717368e-06</td>\n",
        "      <td> 0.003706</td>\n",
        "      <td> 9.156056e-04</td>\n",
        "      <td> 1.835896e-04</td>\n",
        "      <td> 4.104430e-04</td>\n",
        "      <td> 0.000452</td>\n",
        "      <td> 0.001775</td>\n",
        "    </tr>\n",
        "    <tr>\n",
        "      <th>130373</th>\n",
        "      <td>  99967.jpg</td>\n",
        "      <td> 0.000224</td>\n",
        "      <td> 0.001546</td>\n",
        "      <td> 1.037423e-02</td>\n",
        "      <td> 4.836523e-03</td>\n",
        "      <td> 0.000065</td>\n",
        "      <td> 1.165854e-05</td>\n",
        "      <td> 0.001188</td>\n",
        "      <td> 5.963987e-05</td>\n",
        "      <td> 3.563228e-04</td>\n",
        "      <td>...</td>\n",
        "      <td> 5.837488e-03</td>\n",
        "      <td> 0.000485</td>\n",
        "      <td> 2.957115e-02</td>\n",
        "      <td> 3.142879e-06</td>\n",
        "      <td> 0.001772</td>\n",
        "      <td> 1.020747e-04</td>\n",
        "      <td> 4.104408e-06</td>\n",
        "      <td> 9.903356e-05</td>\n",
        "      <td> 0.000184</td>\n",
        "      <td> 0.000124</td>\n",
        "    </tr>\n",
        "    <tr>\n",
        "      <th>130374</th>\n",
        "      <td>  99968.jpg</td>\n",
        "      <td> 0.000029</td>\n",
        "      <td> 0.000191</td>\n",
        "      <td> 3.136485e-08</td>\n",
        "      <td> 2.324262e-02</td>\n",
        "      <td> 0.000339</td>\n",
        "      <td> 1.113062e-09</td>\n",
        "      <td> 0.001211</td>\n",
        "      <td> 1.452061e-09</td>\n",
        "      <td> 3.350432e-08</td>\n",
        "      <td>...</td>\n",
        "      <td> 4.312403e-05</td>\n",
        "      <td> 0.000012</td>\n",
        "      <td> 5.583431e-07</td>\n",
        "      <td> 1.611119e-04</td>\n",
        "      <td> 0.000025</td>\n",
        "      <td> 2.648957e-06</td>\n",
        "      <td> 2.515126e-07</td>\n",
        "      <td> 1.538921e-01</td>\n",
        "      <td> 0.000157</td>\n",
        "      <td> 0.001371</td>\n",
        "    </tr>\n",
        "    <tr>\n",
        "      <th>130375</th>\n",
        "      <td>  99969.jpg</td>\n",
        "      <td> 0.000375</td>\n",
        "      <td> 0.008659</td>\n",
        "      <td> 1.098037e-04</td>\n",
        "      <td> 1.842576e-01</td>\n",
        "      <td> 0.001229</td>\n",
        "      <td> 1.000734e-05</td>\n",
        "      <td> 0.001238</td>\n",
        "      <td> 1.544429e-05</td>\n",
        "      <td> 9.336245e-05</td>\n",
        "      <td>...</td>\n",
        "      <td> 8.741894e-04</td>\n",
        "      <td> 0.000506</td>\n",
        "      <td> 2.310012e-03</td>\n",
        "      <td> 2.906478e-04</td>\n",
        "      <td> 0.008943</td>\n",
        "      <td> 4.325041e-04</td>\n",
        "      <td> 9.264699e-05</td>\n",
        "      <td> 1.898944e-04</td>\n",
        "      <td> 0.002031</td>\n",
        "      <td> 0.007838</td>\n",
        "    </tr>\n",
        "    <tr>\n",
        "      <th>130376</th>\n",
        "      <td>   9997.jpg</td>\n",
        "      <td> 0.000086</td>\n",
        "      <td> 0.001339</td>\n",
        "      <td> 1.518577e-06</td>\n",
        "      <td> 4.144332e-02</td>\n",
        "      <td> 0.000497</td>\n",
        "      <td> 1.002665e-07</td>\n",
        "      <td> 0.001294</td>\n",
        "      <td> 1.960105e-07</td>\n",
        "      <td> 1.941008e-06</td>\n",
        "      <td>...</td>\n",
        "      <td> 1.917179e-04</td>\n",
        "      <td> 0.000080</td>\n",
        "      <td> 1.838492e-05</td>\n",
        "      <td> 1.421762e-04</td>\n",
        "      <td> 0.000310</td>\n",
        "      <td> 2.932816e-05</td>\n",
        "      <td> 3.984259e-06</td>\n",
        "      <td> 3.511393e-02</td>\n",
        "      <td> 0.000463</td>\n",
        "      <td> 0.002934</td>\n",
        "    </tr>\n",
        "    <tr>\n",
        "      <th>130377</th>\n",
        "      <td>  99970.jpg</td>\n",
        "      <td> 0.000016</td>\n",
        "      <td> 0.002899</td>\n",
        "      <td> 8.770438e-03</td>\n",
        "      <td> 2.292887e-03</td>\n",
        "      <td> 0.000006</td>\n",
        "      <td> 1.724909e-03</td>\n",
        "      <td> 0.000020</td>\n",
        "      <td> 7.826554e-03</td>\n",
        "      <td> 6.640533e-03</td>\n",
        "      <td>...</td>\n",
        "      <td> 2.391745e-04</td>\n",
        "      <td> 0.000247</td>\n",
        "      <td> 2.540657e-02</td>\n",
        "      <td> 2.718381e-07</td>\n",
        "      <td> 0.002656</td>\n",
        "      <td> 4.002081e-04</td>\n",
        "      <td> 8.028018e-05</td>\n",
        "      <td> 1.635625e-05</td>\n",
        "      <td> 0.000120</td>\n",
        "      <td> 0.000147</td>\n",
        "    </tr>\n",
        "    <tr>\n",
        "      <th>130378</th>\n",
        "      <td>  99974.jpg</td>\n",
        "      <td> 0.000099</td>\n",
        "      <td> 0.000022</td>\n",
        "      <td> 5.901454e-11</td>\n",
        "      <td> 8.501828e-04</td>\n",
        "      <td> 0.001353</td>\n",
        "      <td> 4.741897e-11</td>\n",
        "      <td> 0.002676</td>\n",
        "      <td> 9.251336e-12</td>\n",
        "      <td> 1.138114e-10</td>\n",
        "      <td>...</td>\n",
        "      <td> 6.235423e-06</td>\n",
        "      <td> 0.000001</td>\n",
        "      <td> 1.556053e-08</td>\n",
        "      <td> 3.718656e-03</td>\n",
        "      <td> 0.000020</td>\n",
        "      <td> 4.049579e-07</td>\n",
        "      <td> 2.767787e-07</td>\n",
        "      <td> 3.208331e-04</td>\n",
        "      <td> 0.000031</td>\n",
        "      <td> 0.002266</td>\n",
        "    </tr>\n",
        "    <tr>\n",
        "      <th>130379</th>\n",
        "      <td>  99975.jpg</td>\n",
        "      <td> 0.000555</td>\n",
        "      <td> 0.000329</td>\n",
        "      <td> 9.911662e-05</td>\n",
        "      <td> 6.084274e-03</td>\n",
        "      <td> 0.000738</td>\n",
        "      <td> 2.984186e-08</td>\n",
        "      <td> 0.022816</td>\n",
        "      <td> 5.078304e-08</td>\n",
        "      <td> 1.422265e-06</td>\n",
        "      <td>...</td>\n",
        "      <td> 4.309115e-03</td>\n",
        "      <td> 0.000161</td>\n",
        "      <td> 4.723091e-04</td>\n",
        "      <td> 1.586435e-04</td>\n",
        "      <td> 0.001174</td>\n",
        "      <td> 1.298138e-05</td>\n",
        "      <td> 4.848338e-07</td>\n",
        "      <td> 2.245177e-04</td>\n",
        "      <td> 0.000317</td>\n",
        "      <td> 0.000328</td>\n",
        "    </tr>\n",
        "    <tr>\n",
        "      <th>130380</th>\n",
        "      <td>  99976.jpg</td>\n",
        "      <td> 0.000353</td>\n",
        "      <td> 0.009907</td>\n",
        "      <td> 1.101999e-02</td>\n",
        "      <td> 3.898977e-02</td>\n",
        "      <td> 0.000091</td>\n",
        "      <td> 1.026718e-03</td>\n",
        "      <td> 0.000179</td>\n",
        "      <td> 3.480036e-03</td>\n",
        "      <td> 5.799568e-03</td>\n",
        "      <td>...</td>\n",
        "      <td> 1.338706e-03</td>\n",
        "      <td> 0.000984</td>\n",
        "      <td> 8.584429e-02</td>\n",
        "      <td> 5.044067e-06</td>\n",
        "      <td> 0.009941</td>\n",
        "      <td> 1.422270e-03</td>\n",
        "      <td> 1.488693e-04</td>\n",
        "      <td> 4.435442e-05</td>\n",
        "      <td> 0.000783</td>\n",
        "      <td> 0.000884</td>\n",
        "    </tr>\n",
        "    <tr>\n",
        "      <th>130381</th>\n",
        "      <td>  99977.jpg</td>\n",
        "      <td> 0.000053</td>\n",
        "      <td> 0.010164</td>\n",
        "      <td> 1.065888e-02</td>\n",
        "      <td> 1.203076e-02</td>\n",
        "      <td> 0.000036</td>\n",
        "      <td> 3.737762e-03</td>\n",
        "      <td> 0.000067</td>\n",
        "      <td> 1.244414e-02</td>\n",
        "      <td> 1.124667e-02</td>\n",
        "      <td>...</td>\n",
        "      <td> 7.121727e-04</td>\n",
        "      <td> 0.000706</td>\n",
        "      <td> 2.294197e-02</td>\n",
        "      <td> 2.446797e-06</td>\n",
        "      <td> 0.013559</td>\n",
        "      <td> 1.208680e-03</td>\n",
        "      <td> 3.002644e-04</td>\n",
        "      <td> 3.988707e-05</td>\n",
        "      <td> 0.000492</td>\n",
        "      <td> 0.001132</td>\n",
        "    </tr>\n",
        "    <tr>\n",
        "      <th>130382</th>\n",
        "      <td>  99979.jpg</td>\n",
        "      <td> 0.000757</td>\n",
        "      <td> 0.004427</td>\n",
        "      <td> 2.797630e-03</td>\n",
        "      <td> 2.046126e-02</td>\n",
        "      <td> 0.000301</td>\n",
        "      <td> 1.029211e-05</td>\n",
        "      <td> 0.004242</td>\n",
        "      <td> 4.061769e-05</td>\n",
        "      <td> 2.445017e-04</td>\n",
        "      <td>...</td>\n",
        "      <td> 5.344244e-03</td>\n",
        "      <td> 0.000924</td>\n",
        "      <td> 1.445643e-02</td>\n",
        "      <td> 2.967539e-05</td>\n",
        "      <td> 0.004662</td>\n",
        "      <td> 2.352300e-04</td>\n",
        "      <td> 9.574443e-06</td>\n",
        "      <td> 3.455080e-04</td>\n",
        "      <td> 0.000757</td>\n",
        "      <td> 0.000681</td>\n",
        "    </tr>\n",
        "    <tr>\n",
        "      <th>130383</th>\n",
        "      <td>   9998.jpg</td>\n",
        "      <td> 0.001471</td>\n",
        "      <td> 0.000178</td>\n",
        "      <td> 2.844321e-09</td>\n",
        "      <td> 4.147666e-05</td>\n",
        "      <td> 0.001862</td>\n",
        "      <td> 2.143371e-05</td>\n",
        "      <td> 0.000567</td>\n",
        "      <td> 8.009785e-07</td>\n",
        "      <td> 6.157028e-08</td>\n",
        "      <td>...</td>\n",
        "      <td> 6.907484e-06</td>\n",
        "      <td> 0.000007</td>\n",
        "      <td> 9.989989e-07</td>\n",
        "      <td> 5.492638e-04</td>\n",
        "      <td> 0.000978</td>\n",
        "      <td> 2.539468e-05</td>\n",
        "      <td> 1.766803e-04</td>\n",
        "      <td> 3.407727e-06</td>\n",
        "      <td> 0.000045</td>\n",
        "      <td> 0.011804</td>\n",
        "    </tr>\n",
        "    <tr>\n",
        "      <th>130384</th>\n",
        "      <td>  99980.jpg</td>\n",
        "      <td> 0.000155</td>\n",
        "      <td> 0.006079</td>\n",
        "      <td> 1.764574e-02</td>\n",
        "      <td> 2.099090e-02</td>\n",
        "      <td> 0.000126</td>\n",
        "      <td> 6.286794e-04</td>\n",
        "      <td> 0.000771</td>\n",
        "      <td> 2.141903e-03</td>\n",
        "      <td> 4.153301e-03</td>\n",
        "      <td>...</td>\n",
        "      <td> 2.426280e-03</td>\n",
        "      <td> 0.001116</td>\n",
        "      <td> 1.363378e-01</td>\n",
        "      <td> 6.038834e-06</td>\n",
        "      <td> 0.011073</td>\n",
        "      <td> 7.937342e-04</td>\n",
        "      <td> 8.105006e-05</td>\n",
        "      <td> 1.658555e-04</td>\n",
        "      <td> 0.000720</td>\n",
        "      <td> 0.000903</td>\n",
        "    </tr>\n",
        "    <tr>\n",
        "      <th>130385</th>\n",
        "      <td>  99981.jpg</td>\n",
        "      <td> 0.000031</td>\n",
        "      <td> 0.000004</td>\n",
        "      <td> 3.449955e-10</td>\n",
        "      <td> 3.297721e-04</td>\n",
        "      <td> 0.000203</td>\n",
        "      <td> 1.858846e-12</td>\n",
        "      <td> 0.001326</td>\n",
        "      <td> 1.001239e-12</td>\n",
        "      <td> 4.785905e-11</td>\n",
        "      <td>...</td>\n",
        "      <td> 1.046648e-05</td>\n",
        "      <td> 0.000001</td>\n",
        "      <td> 1.535879e-08</td>\n",
        "      <td> 1.612365e-04</td>\n",
        "      <td> 0.000004</td>\n",
        "      <td> 4.802180e-08</td>\n",
        "      <td> 5.741778e-09</td>\n",
        "      <td> 3.632001e-04</td>\n",
        "      <td> 0.000008</td>\n",
        "      <td> 0.000084</td>\n",
        "    </tr>\n",
        "    <tr>\n",
        "      <th>130386</th>\n",
        "      <td>  99983.jpg</td>\n",
        "      <td> 0.000000</td>\n",
        "      <td> 0.000011</td>\n",
        "      <td> 5.618931e-09</td>\n",
        "      <td> 7.627817e-09</td>\n",
        "      <td> 0.000002</td>\n",
        "      <td> 1.274668e-03</td>\n",
        "      <td> 0.000000</td>\n",
        "      <td> 6.415938e-05</td>\n",
        "      <td> 8.681699e-07</td>\n",
        "      <td>...</td>\n",
        "      <td> 2.269142e-08</td>\n",
        "      <td> 0.000000</td>\n",
        "      <td> 2.828069e-07</td>\n",
        "      <td> 6.859061e-06</td>\n",
        "      <td> 0.000762</td>\n",
        "      <td> 1.504283e-05</td>\n",
        "      <td> 9.839024e-03</td>\n",
        "      <td> 4.383374e-11</td>\n",
        "      <td> 0.000001</td>\n",
        "      <td> 0.000266</td>\n",
        "    </tr>\n",
        "    <tr>\n",
        "      <th>130387</th>\n",
        "      <td>  99984.jpg</td>\n",
        "      <td> 0.000777</td>\n",
        "      <td> 0.000457</td>\n",
        "      <td> 4.072374e-06</td>\n",
        "      <td> 5.862921e-03</td>\n",
        "      <td> 0.001830</td>\n",
        "      <td> 1.912092e-08</td>\n",
        "      <td> 0.053456</td>\n",
        "      <td> 3.483163e-08</td>\n",
        "      <td> 3.870056e-07</td>\n",
        "      <td>...</td>\n",
        "      <td> 1.781560e-03</td>\n",
        "      <td> 0.000130</td>\n",
        "      <td> 6.082266e-05</td>\n",
        "      <td> 2.192940e-04</td>\n",
        "      <td> 0.000246</td>\n",
        "      <td> 8.062617e-06</td>\n",
        "      <td> 4.020270e-07</td>\n",
        "      <td> 2.337310e-02</td>\n",
        "      <td> 0.000256</td>\n",
        "      <td> 0.000931</td>\n",
        "    </tr>\n",
        "    <tr>\n",
        "      <th>130388</th>\n",
        "      <td>  99986.jpg</td>\n",
        "      <td> 0.000311</td>\n",
        "      <td> 0.001872</td>\n",
        "      <td> 1.538933e-07</td>\n",
        "      <td> 4.534042e-04</td>\n",
        "      <td> 0.002460</td>\n",
        "      <td> 3.134115e-04</td>\n",
        "      <td> 0.000534</td>\n",
        "      <td> 3.961592e-05</td>\n",
        "      <td> 6.734497e-06</td>\n",
        "      <td>...</td>\n",
        "      <td> 1.624712e-05</td>\n",
        "      <td> 0.000050</td>\n",
        "      <td> 4.635896e-05</td>\n",
        "      <td> 4.349829e-03</td>\n",
        "      <td> 0.005571</td>\n",
        "      <td> 5.685244e-04</td>\n",
        "      <td> 6.223147e-03</td>\n",
        "      <td> 2.675030e-06</td>\n",
        "      <td> 0.000329</td>\n",
        "      <td> 0.048019</td>\n",
        "    </tr>\n",
        "    <tr>\n",
        "      <th>130389</th>\n",
        "      <td>  99987.jpg</td>\n",
        "      <td> 0.000272</td>\n",
        "      <td> 0.000198</td>\n",
        "      <td> 1.520834e-07</td>\n",
        "      <td> 2.528993e-03</td>\n",
        "      <td> 0.005043</td>\n",
        "      <td> 1.631534e-09</td>\n",
        "      <td> 0.069215</td>\n",
        "      <td> 7.745580e-10</td>\n",
        "      <td> 1.593267e-08</td>\n",
        "      <td>...</td>\n",
        "      <td> 5.028832e-04</td>\n",
        "      <td> 0.000037</td>\n",
        "      <td> 3.454893e-06</td>\n",
        "      <td> 6.058177e-03</td>\n",
        "      <td> 0.000323</td>\n",
        "      <td> 3.797969e-06</td>\n",
        "      <td> 7.224706e-07</td>\n",
        "      <td> 5.029530e-04</td>\n",
        "      <td> 0.000253</td>\n",
        "      <td> 0.003215</td>\n",
        "    </tr>\n",
        "    <tr>\n",
        "      <th>130390</th>\n",
        "      <td>  99988.jpg</td>\n",
        "      <td> 0.000003</td>\n",
        "      <td> 0.000959</td>\n",
        "      <td> 4.989794e-03</td>\n",
        "      <td> 1.942727e-03</td>\n",
        "      <td> 0.000001</td>\n",
        "      <td> 1.993100e-04</td>\n",
        "      <td> 0.000005</td>\n",
        "      <td> 1.560162e-03</td>\n",
        "      <td> 2.307123e-03</td>\n",
        "      <td>...</td>\n",
        "      <td> 9.776901e-05</td>\n",
        "      <td> 0.000071</td>\n",
        "      <td> 8.379052e-03</td>\n",
        "      <td> 3.519219e-08</td>\n",
        "      <td> 0.000320</td>\n",
        "      <td> 7.568915e-05</td>\n",
        "      <td> 5.657661e-06</td>\n",
        "      <td> 1.049814e-05</td>\n",
        "      <td> 0.000031</td>\n",
        "      <td> 0.000027</td>\n",
        "    </tr>\n",
        "    <tr>\n",
        "      <th>130391</th>\n",
        "      <td>  99989.jpg</td>\n",
        "      <td> 0.002325</td>\n",
        "      <td> 0.004032</td>\n",
        "      <td> 2.861388e-05</td>\n",
        "      <td> 1.266183e-02</td>\n",
        "      <td> 0.005535</td>\n",
        "      <td> 2.731025e-05</td>\n",
        "      <td> 0.009137</td>\n",
        "      <td> 1.302084e-05</td>\n",
        "      <td> 2.421373e-05</td>\n",
        "      <td>...</td>\n",
        "      <td> 1.880190e-03</td>\n",
        "      <td> 0.000519</td>\n",
        "      <td> 5.059779e-04</td>\n",
        "      <td> 4.585726e-04</td>\n",
        "      <td> 0.012816</td>\n",
        "      <td> 2.693313e-04</td>\n",
        "      <td> 1.005547e-04</td>\n",
        "      <td> 3.583046e-04</td>\n",
        "      <td> 0.001283</td>\n",
        "      <td> 0.014371</td>\n",
        "    </tr>\n",
        "    <tr>\n",
        "      <th>130392</th>\n",
        "      <td>   9999.jpg</td>\n",
        "      <td> 0.001111</td>\n",
        "      <td> 0.010098</td>\n",
        "      <td> 1.805690e-04</td>\n",
        "      <td> 4.474598e-02</td>\n",
        "      <td> 0.000258</td>\n",
        "      <td> 2.569710e-03</td>\n",
        "      <td> 0.000360</td>\n",
        "      <td> 3.064685e-03</td>\n",
        "      <td> 1.109698e-03</td>\n",
        "      <td>...</td>\n",
        "      <td> 2.946241e-04</td>\n",
        "      <td> 0.000455</td>\n",
        "      <td> 1.375394e-02</td>\n",
        "      <td> 2.196113e-05</td>\n",
        "      <td> 0.004956</td>\n",
        "      <td> 1.486378e-03</td>\n",
        "      <td> 4.661223e-04</td>\n",
        "      <td> 1.556553e-04</td>\n",
        "      <td> 0.000630</td>\n",
        "      <td> 0.004775</td>\n",
        "    </tr>\n",
        "    <tr>\n",
        "      <th>130393</th>\n",
        "      <td>  99990.jpg</td>\n",
        "      <td> 0.000009</td>\n",
        "      <td> 0.000308</td>\n",
        "      <td> 4.724574e-07</td>\n",
        "      <td> 4.599845e-06</td>\n",
        "      <td> 0.000044</td>\n",
        "      <td> 6.171114e-03</td>\n",
        "      <td> 0.000005</td>\n",
        "      <td> 7.593285e-04</td>\n",
        "      <td> 2.757061e-05</td>\n",
        "      <td>...</td>\n",
        "      <td> 1.201130e-06</td>\n",
        "      <td> 0.000007</td>\n",
        "      <td> 3.853600e-05</td>\n",
        "      <td> 3.943263e-05</td>\n",
        "      <td> 0.003027</td>\n",
        "      <td> 2.032393e-04</td>\n",
        "      <td> 7.796382e-03</td>\n",
        "      <td> 2.321713e-09</td>\n",
        "      <td> 0.000016</td>\n",
        "      <td> 0.001722</td>\n",
        "    </tr>\n",
        "    <tr>\n",
        "      <th>130394</th>\n",
        "      <td>  99992.jpg</td>\n",
        "      <td> 0.000056</td>\n",
        "      <td> 0.000009</td>\n",
        "      <td> 3.737332e-10</td>\n",
        "      <td> 1.716364e-04</td>\n",
        "      <td> 0.000647</td>\n",
        "      <td> 1.120315e-11</td>\n",
        "      <td> 0.002833</td>\n",
        "      <td> 3.777936e-12</td>\n",
        "      <td> 8.719603e-11</td>\n",
        "      <td>...</td>\n",
        "      <td> 1.390266e-05</td>\n",
        "      <td> 0.000001</td>\n",
        "      <td> 2.457338e-08</td>\n",
        "      <td> 8.456757e-04</td>\n",
        "      <td> 0.000017</td>\n",
        "      <td> 1.357433e-07</td>\n",
        "      <td> 4.647633e-08</td>\n",
        "      <td> 1.087601e-04</td>\n",
        "      <td> 0.000014</td>\n",
        "      <td> 0.000344</td>\n",
        "    </tr>\n",
        "    <tr>\n",
        "      <th>130395</th>\n",
        "      <td>  99994.jpg</td>\n",
        "      <td> 0.000729</td>\n",
        "      <td> 0.000094</td>\n",
        "      <td> 2.892610e-06</td>\n",
        "      <td> 1.372136e-04</td>\n",
        "      <td> 0.000179</td>\n",
        "      <td> 5.288989e-06</td>\n",
        "      <td> 0.000270</td>\n",
        "      <td> 1.971135e-06</td>\n",
        "      <td> 1.171245e-06</td>\n",
        "      <td>...</td>\n",
        "      <td> 9.255386e-05</td>\n",
        "      <td> 0.000026</td>\n",
        "      <td> 2.054831e-04</td>\n",
        "      <td> 7.208420e-06</td>\n",
        "      <td> 0.000758</td>\n",
        "      <td> 1.890252e-05</td>\n",
        "      <td> 7.460705e-06</td>\n",
        "      <td> 1.258566e-06</td>\n",
        "      <td> 0.000029</td>\n",
        "      <td> 0.000191</td>\n",
        "    </tr>\n",
        "    <tr>\n",
        "      <th>130396</th>\n",
        "      <td>  99995.jpg</td>\n",
        "      <td> 0.001023</td>\n",
        "      <td> 0.015628</td>\n",
        "      <td> 8.373355e-05</td>\n",
        "      <td> 1.578182e-02</td>\n",
        "      <td> 0.002827</td>\n",
        "      <td> 3.651434e-06</td>\n",
        "      <td> 0.016226</td>\n",
        "      <td> 6.014000e-06</td>\n",
        "      <td> 3.363533e-05</td>\n",
        "      <td>...</td>\n",
        "      <td> 4.036310e-03</td>\n",
        "      <td> 0.000751</td>\n",
        "      <td> 3.886878e-03</td>\n",
        "      <td> 2.400073e-03</td>\n",
        "      <td> 0.004940</td>\n",
        "      <td> 4.245610e-04</td>\n",
        "      <td> 1.096949e-04</td>\n",
        "      <td> 6.356452e-04</td>\n",
        "      <td> 0.001184</td>\n",
        "      <td> 0.019100</td>\n",
        "    </tr>\n",
        "    <tr>\n",
        "      <th>130397</th>\n",
        "      <td>  99996.jpg</td>\n",
        "      <td> 0.003086</td>\n",
        "      <td> 0.003662</td>\n",
        "      <td> 2.419293e-05</td>\n",
        "      <td> 1.699591e-03</td>\n",
        "      <td> 0.006149</td>\n",
        "      <td> 1.905858e-06</td>\n",
        "      <td> 0.047457</td>\n",
        "      <td> 1.575726e-06</td>\n",
        "      <td> 6.528918e-06</td>\n",
        "      <td>...</td>\n",
        "      <td> 3.116900e-03</td>\n",
        "      <td> 0.000474</td>\n",
        "      <td> 6.615903e-03</td>\n",
        "      <td> 8.554763e-03</td>\n",
        "      <td> 0.006058</td>\n",
        "      <td> 2.547458e-04</td>\n",
        "      <td> 1.456140e-04</td>\n",
        "      <td> 9.967918e-05</td>\n",
        "      <td> 0.000668</td>\n",
        "      <td> 0.011837</td>\n",
        "    </tr>\n",
        "    <tr>\n",
        "      <th>130398</th>\n",
        "      <td>  99997.jpg</td>\n",
        "      <td> 0.000613</td>\n",
        "      <td> 0.012071</td>\n",
        "      <td> 5.430670e-03</td>\n",
        "      <td> 8.303028e-02</td>\n",
        "      <td> 0.000245</td>\n",
        "      <td> 7.842319e-05</td>\n",
        "      <td> 0.000790</td>\n",
        "      <td> 3.197153e-04</td>\n",
        "      <td> 1.338392e-03</td>\n",
        "      <td>...</td>\n",
        "      <td> 5.200310e-03</td>\n",
        "      <td> 0.001345</td>\n",
        "      <td> 1.279317e-02</td>\n",
        "      <td> 1.339694e-05</td>\n",
        "      <td> 0.008463</td>\n",
        "      <td> 7.210469e-04</td>\n",
        "      <td> 5.251219e-05</td>\n",
        "      <td> 2.724657e-03</td>\n",
        "      <td> 0.001261</td>\n",
        "      <td> 0.001610</td>\n",
        "    </tr>\n",
        "    <tr>\n",
        "      <th>130399</th>\n",
        "      <td>  99999.jpg</td>\n",
        "      <td> 0.000169</td>\n",
        "      <td> 0.009454</td>\n",
        "      <td> 5.319122e-03</td>\n",
        "      <td> 5.450171e-02</td>\n",
        "      <td> 0.000048</td>\n",
        "      <td> 1.444631e-03</td>\n",
        "      <td> 0.000042</td>\n",
        "      <td> 4.943618e-03</td>\n",
        "      <td> 6.355118e-03</td>\n",
        "      <td>...</td>\n",
        "      <td> 5.927710e-04</td>\n",
        "      <td> 0.000594</td>\n",
        "      <td> 5.808882e-02</td>\n",
        "      <td> 1.429907e-06</td>\n",
        "      <td> 0.005674</td>\n",
        "      <td> 1.277935e-03</td>\n",
        "      <td> 1.630646e-04</td>\n",
        "      <td> 9.938901e-05</td>\n",
        "      <td> 0.000501</td>\n",
        "      <td> 0.000899</td>\n",
        "    </tr>\n",
        "  </tbody>\n",
        "</table>\n",
        "<p>130400 rows \u00d7 122 columns</p>\n",
        "</div>"
       ],
       "metadata": {},
       "output_type": "pyout",
       "prompt_number": 16,
       "text": [
        "             image  appendicularian_slight_curve  hydromedusae_shapeB  \\\n",
        "0            1.jpg                      0.000170             0.005965   \n",
        "1           10.jpg                      0.000101             0.009875   \n",
        "2          100.jpg                      0.000007             0.000224   \n",
        "3         1000.jpg                      0.001223             0.005799   \n",
        "4        10000.jpg                      0.000039             0.000018   \n",
        "5       100000.jpg                      0.000262             0.011758   \n",
        "6       100001.jpg                      0.000059             0.018988   \n",
        "7       100002.jpg                      0.000002             0.000770   \n",
        "8       100003.jpg                      0.000034             0.000005   \n",
        "9       100004.jpg                      0.000003             0.000899   \n",
        "10      100005.jpg                      0.000799             0.005330   \n",
        "11      100006.jpg                      0.000467             0.005631   \n",
        "12      100007.jpg                      0.000097             0.000032   \n",
        "13      100008.jpg                      0.001017             0.016410   \n",
        "14       10001.jpg                      0.000128             0.000825   \n",
        "15      100011.jpg                      0.000013             0.003989   \n",
        "16      100012.jpg                      0.000480             0.002775   \n",
        "17      100013.jpg                      0.000140             0.011808   \n",
        "18      100014.jpg                      0.000071             0.002038   \n",
        "19      100015.jpg                      0.000126             0.001331   \n",
        "20      100016.jpg                      0.000001             0.000023   \n",
        "21      100017.jpg                      0.000278             0.006710   \n",
        "22      100018.jpg                      0.001953             0.000299   \n",
        "23      100019.jpg                      0.000253             0.011601   \n",
        "24       10002.jpg                      0.000059             0.002723   \n",
        "25      100020.jpg                      0.000080             0.004376   \n",
        "26      100021.jpg                      0.000250             0.000384   \n",
        "27      100022.jpg                      0.000948             0.004051   \n",
        "28      100023.jpg                      0.010402             0.000282   \n",
        "29      100024.jpg                      0.000940             0.001240   \n",
        "...            ...                           ...                  ...   \n",
        "130370   99963.jpg                      0.000066             0.014515   \n",
        "130371   99964.jpg                      0.000134             0.000954   \n",
        "130372   99966.jpg                      0.000047             0.017114   \n",
        "130373   99967.jpg                      0.000224             0.001546   \n",
        "130374   99968.jpg                      0.000029             0.000191   \n",
        "130375   99969.jpg                      0.000375             0.008659   \n",
        "130376    9997.jpg                      0.000086             0.001339   \n",
        "130377   99970.jpg                      0.000016             0.002899   \n",
        "130378   99974.jpg                      0.000099             0.000022   \n",
        "130379   99975.jpg                      0.000555             0.000329   \n",
        "130380   99976.jpg                      0.000353             0.009907   \n",
        "130381   99977.jpg                      0.000053             0.010164   \n",
        "130382   99979.jpg                      0.000757             0.004427   \n",
        "130383    9998.jpg                      0.001471             0.000178   \n",
        "130384   99980.jpg                      0.000155             0.006079   \n",
        "130385   99981.jpg                      0.000031             0.000004   \n",
        "130386   99983.jpg                      0.000000             0.000011   \n",
        "130387   99984.jpg                      0.000777             0.000457   \n",
        "130388   99986.jpg                      0.000311             0.001872   \n",
        "130389   99987.jpg                      0.000272             0.000198   \n",
        "130390   99988.jpg                      0.000003             0.000959   \n",
        "130391   99989.jpg                      0.002325             0.004032   \n",
        "130392    9999.jpg                      0.001111             0.010098   \n",
        "130393   99990.jpg                      0.000009             0.000308   \n",
        "130394   99992.jpg                      0.000056             0.000009   \n",
        "130395   99994.jpg                      0.000729             0.000094   \n",
        "130396   99995.jpg                      0.001023             0.015628   \n",
        "130397   99996.jpg                      0.003086             0.003662   \n",
        "130398   99997.jpg                      0.000613             0.012071   \n",
        "130399   99999.jpg                      0.000169             0.009454   \n",
        "\n",
        "        hydromedusae_shapeA  siphonophore_other_parts  \\\n",
        "0              1.435657e-02              1.576803e-02   \n",
        "1              5.209445e-03              5.269865e-02   \n",
        "2              5.065822e-06              3.033987e-06   \n",
        "3              2.736297e-03              6.984615e-02   \n",
        "4              2.705767e-10              5.910282e-04   \n",
        "5              5.021412e-04              1.527741e-01   \n",
        "6              9.469505e-04              2.286911e-02   \n",
        "7              1.420799e-05              3.785218e-02   \n",
        "8              7.193136e-10              1.637716e-04   \n",
        "9              4.689941e-03              1.777466e-03   \n",
        "10             6.628385e-03              2.719000e-02   \n",
        "11             1.608489e-03              6.231242e-02   \n",
        "12             2.252942e-08              9.317077e-04   \n",
        "13             1.938829e-03              2.587328e-02   \n",
        "14             1.223631e-06              3.073813e-02   \n",
        "15             1.000403e-02              3.531109e-03   \n",
        "16             6.265365e-07              5.360863e-02   \n",
        "17             3.337860e-03              1.673356e-01   \n",
        "18             5.900336e-03              3.402779e-03   \n",
        "19             1.493255e-02              3.523694e-03   \n",
        "20             1.156952e-09              6.760065e-08   \n",
        "21             1.428336e-03              4.701165e-02   \n",
        "22             3.182642e-06              1.266129e-04   \n",
        "23             1.436781e-03              5.545555e-02   \n",
        "24             2.283313e-05              1.772939e-01   \n",
        "25             1.338755e-04              3.752748e-02   \n",
        "26             3.204037e-05              3.821858e-03   \n",
        "27             6.384270e-04              2.468956e-02   \n",
        "28             1.380947e-07              4.535679e-04   \n",
        "29             8.964390e-05              3.598079e-03   \n",
        "...                     ...                       ...   \n",
        "130370         1.020664e-03              2.631334e-02   \n",
        "130371         7.535587e-03              2.035338e-03   \n",
        "130372         3.979165e-03              1.846053e-02   \n",
        "130373         1.037423e-02              4.836523e-03   \n",
        "130374         3.136485e-08              2.324262e-02   \n",
        "130375         1.098037e-04              1.842576e-01   \n",
        "130376         1.518577e-06              4.144332e-02   \n",
        "130377         8.770438e-03              2.292887e-03   \n",
        "130378         5.901454e-11              8.501828e-04   \n",
        "130379         9.911662e-05              6.084274e-03   \n",
        "130380         1.101999e-02              3.898977e-02   \n",
        "130381         1.065888e-02              1.203076e-02   \n",
        "130382         2.797630e-03              2.046126e-02   \n",
        "130383         2.844321e-09              4.147666e-05   \n",
        "130384         1.764574e-02              2.099090e-02   \n",
        "130385         3.449955e-10              3.297721e-04   \n",
        "130386         5.618931e-09              7.627817e-09   \n",
        "130387         4.072374e-06              5.862921e-03   \n",
        "130388         1.538933e-07              4.534042e-04   \n",
        "130389         1.520834e-07              2.528993e-03   \n",
        "130390         4.989794e-03              1.942727e-03   \n",
        "130391         2.861388e-05              1.266183e-02   \n",
        "130392         1.805690e-04              4.474598e-02   \n",
        "130393         4.724574e-07              4.599845e-06   \n",
        "130394         3.737332e-10              1.716364e-04   \n",
        "130395         2.892610e-06              1.372136e-04   \n",
        "130396         8.373355e-05              1.578182e-02   \n",
        "130397         2.419293e-05              1.699591e-03   \n",
        "130398         5.430670e-03              8.303028e-02   \n",
        "130399         5.319122e-03              5.450171e-02   \n",
        "\n",
        "        tunicate_doliolid_nurse  acantharia_protist  hydromedusae_narco_young  \\\n",
        "0                      0.000067        7.035527e-05                  0.000645   \n",
        "1                      0.000098        9.530718e-05                  0.000734   \n",
        "2                      0.000013        4.600316e-03                  0.000004   \n",
        "3                      0.000468        1.769618e-05                  0.001497   \n",
        "4                      0.000987        1.999396e-11                  0.005425   \n",
        "5                      0.000621        6.307474e-05                  0.001137   \n",
        "6                      0.000099        1.131031e-03                  0.000115   \n",
        "7                      0.000005        4.994217e-06                  0.000010   \n",
        "8                      0.000278        7.166466e-12                  0.002510   \n",
        "9                      0.000001        1.942180e-04                  0.000004   \n",
        "10                     0.000159        1.567277e-04                  0.001568   \n",
        "11                     0.000152        6.699522e-06                  0.001079   \n",
        "12                     0.000641        4.467771e-11                  0.005494   \n",
        "13                     0.000516        5.453207e-04                  0.003355   \n",
        "14                     0.000676        7.108930e-09                  0.003284   \n",
        "15                     0.000006        1.194907e-03                  0.000019   \n",
        "16                     0.005064        3.565814e-07                  0.006031   \n",
        "17                     0.000312        8.288514e-04                  0.000488   \n",
        "18                     0.000018        2.689059e-05                  0.000328   \n",
        "19                     0.000029        3.664337e-05                  0.000301   \n",
        "20                     0.000011        2.470740e-03                  0.000000   \n",
        "21                     0.001070        1.498741e-04                  0.007238   \n",
        "22                     0.000516        3.949333e-05                  0.000640   \n",
        "23                     0.001117        2.033034e-04                  0.003033   \n",
        "24                     0.000099        1.058797e-05                  0.000132   \n",
        "25                     0.000166        4.692713e-06                  0.000854   \n",
        "26                     0.000339        2.226821e-08                  0.014602   \n",
        "27                     0.001833        7.421576e-05                  0.007339   \n",
        "28                     0.008342        2.298630e-06                  0.012707   \n",
        "29                     0.000899        5.889470e-08                  0.045047   \n",
        "...                         ...                 ...                       ...   \n",
        "130370                 0.000111        5.513773e-03                  0.000070   \n",
        "130371                 0.000031        5.528542e-06                  0.000829   \n",
        "130372                 0.000036        5.484472e-03                  0.000125   \n",
        "130373                 0.000065        1.165854e-05                  0.001188   \n",
        "130374                 0.000339        1.113062e-09                  0.001211   \n",
        "130375                 0.001229        1.000734e-05                  0.001238   \n",
        "130376                 0.000497        1.002665e-07                  0.001294   \n",
        "130377                 0.000006        1.724909e-03                  0.000020   \n",
        "130378                 0.001353        4.741897e-11                  0.002676   \n",
        "130379                 0.000738        2.984186e-08                  0.022816   \n",
        "130380                 0.000091        1.026718e-03                  0.000179   \n",
        "130381                 0.000036        3.737762e-03                  0.000067   \n",
        "130382                 0.000301        1.029211e-05                  0.004242   \n",
        "130383                 0.001862        2.143371e-05                  0.000567   \n",
        "130384                 0.000126        6.286794e-04                  0.000771   \n",
        "130385                 0.000203        1.858846e-12                  0.001326   \n",
        "130386                 0.000002        1.274668e-03                  0.000000   \n",
        "130387                 0.001830        1.912092e-08                  0.053456   \n",
        "130388                 0.002460        3.134115e-04                  0.000534   \n",
        "130389                 0.005043        1.631534e-09                  0.069215   \n",
        "130390                 0.000001        1.993100e-04                  0.000005   \n",
        "130391                 0.005535        2.731025e-05                  0.009137   \n",
        "130392                 0.000258        2.569710e-03                  0.000360   \n",
        "130393                 0.000044        6.171114e-03                  0.000005   \n",
        "130394                 0.000647        1.120315e-11                  0.002833   \n",
        "130395                 0.000179        5.288989e-06                  0.000270   \n",
        "130396                 0.002827        3.651434e-06                  0.016226   \n",
        "130397                 0.006149        1.905858e-06                  0.047457   \n",
        "130398                 0.000245        7.842319e-05                  0.000790   \n",
        "130399                 0.000048        1.444631e-03                  0.000042   \n",
        "\n",
        "        fish_larvae_deep_body  hydromedusae_haliscera_small_sideview  \\\n",
        "0                4.116746e-04                           1.554654e-03   \n",
        "1                5.135551e-04                           1.389509e-03   \n",
        "2                1.096016e-03                           6.435424e-05   \n",
        "3                5.120623e-05                           3.729025e-04   \n",
        "4                6.485197e-12                           1.472807e-10   \n",
        "5                1.523953e-04                           3.952444e-04   \n",
        "6                4.459281e-03                           4.232301e-03   \n",
        "7                2.177950e-05                           5.599622e-05   \n",
        "8                3.555848e-12                           9.782370e-11   \n",
        "9                1.534295e-03                           2.239923e-03   \n",
        "10               5.835539e-04                           1.403674e-03   \n",
        "11               4.050711e-05                           2.618504e-04   \n",
        "12               3.393913e-11                           1.593284e-09   \n",
        "13               1.527740e-03                           1.329470e-03   \n",
        "14               1.575877e-08                           3.590362e-07   \n",
        "15               6.728632e-03                           7.067935e-03   \n",
        "16               2.339845e-07                           1.643017e-06   \n",
        "17               1.607636e-03                           2.627132e-03   \n",
        "18               2.188890e-04                           7.449596e-04   \n",
        "19               1.833363e-04                           7.293847e-04   \n",
        "20               6.318456e-05                           5.641078e-07   \n",
        "21               1.913998e-04                           4.893830e-04   \n",
        "22               1.424337e-05                           4.896271e-06   \n",
        "23               2.500069e-04                           6.514807e-04   \n",
        "24               2.531664e-05                           7.053794e-05   \n",
        "25               1.542719e-05                           8.386093e-05   \n",
        "26               9.143600e-08                           1.422635e-06   \n",
        "27               8.708356e-05                           1.837397e-04   \n",
        "28               4.195305e-07                           3.232578e-07   \n",
        "29               1.492756e-07                           2.440146e-06   \n",
        "...                       ...                                    ...   \n",
        "130370           7.499038e-03                           4.393768e-03   \n",
        "130371           3.038498e-05                           2.110696e-04   \n",
        "130372           1.749010e-02                           1.005871e-02   \n",
        "130373           5.963987e-05                           3.563228e-04   \n",
        "130374           1.452061e-09                           3.350432e-08   \n",
        "130375           1.544429e-05                           9.336245e-05   \n",
        "130376           1.960105e-07                           1.941008e-06   \n",
        "130377           7.826554e-03                           6.640533e-03   \n",
        "130378           9.251336e-12                           1.138114e-10   \n",
        "130379           5.078304e-08                           1.422265e-06   \n",
        "130380           3.480036e-03                           5.799568e-03   \n",
        "130381           1.244414e-02                           1.124667e-02   \n",
        "130382           4.061769e-05                           2.445017e-04   \n",
        "130383           8.009785e-07                           6.157028e-08   \n",
        "130384           2.141903e-03                           4.153301e-03   \n",
        "130385           1.001239e-12                           4.785905e-11   \n",
        "130386           6.415938e-05                           8.681699e-07   \n",
        "130387           3.483163e-08                           3.870056e-07   \n",
        "130388           3.961592e-05                           6.734497e-06   \n",
        "130389           7.745580e-10                           1.593267e-08   \n",
        "130390           1.560162e-03                           2.307123e-03   \n",
        "130391           1.302084e-05                           2.421373e-05   \n",
        "130392           3.064685e-03                           1.109698e-03   \n",
        "130393           7.593285e-04                           2.757061e-05   \n",
        "130394           3.777936e-12                           8.719603e-11   \n",
        "130395           1.971135e-06                           1.171245e-06   \n",
        "130396           6.014000e-06                           3.363533e-05   \n",
        "130397           1.575726e-06                           6.528918e-06   \n",
        "130398           3.197153e-04                           1.338392e-03   \n",
        "130399           4.943618e-03                           6.355118e-03   \n",
        "\n",
        "            ...        unknown_sticks  unknown_unclassified  \\\n",
        "0           ...          3.486488e-03              0.000815   \n",
        "1           ...          1.231832e-03              0.000911   \n",
        "2           ...          2.984386e-06              0.000009   \n",
        "3           ...          4.607394e-03              0.000999   \n",
        "4           ...          1.450259e-05              0.000002   \n",
        "5           ...          1.127160e-03              0.000776   \n",
        "6           ...          4.400309e-04              0.000678   \n",
        "7           ...          1.670952e-05              0.000021   \n",
        "8           ...          1.542081e-05              0.000001   \n",
        "9           ...          8.927281e-05              0.000067   \n",
        "10          ...          2.833890e-03              0.000974   \n",
        "11          ...          4.482673e-03              0.000793   \n",
        "12          ...          1.430251e-04              0.000006   \n",
        "13          ...          4.216126e-03              0.001699   \n",
        "14          ...          3.676920e-04              0.000065   \n",
        "15          ...          3.029484e-04              0.000266   \n",
        "16          ...          2.760807e-04              0.000153   \n",
        "17          ...          9.793701e-04              0.000911   \n",
        "18          ...          2.194771e-03              0.000333   \n",
        "19          ...          1.897513e-03              0.000334   \n",
        "20          ...          2.012370e-08              0.000000   \n",
        "21          ...          2.616728e-03              0.001042   \n",
        "22          ...          1.241312e-04              0.000061   \n",
        "23          ...          2.447429e-03              0.001095   \n",
        "24          ...          9.308095e-05              0.000112   \n",
        "25          ...          5.793735e-04              0.000249   \n",
        "26          ...          2.381129e-03              0.000139   \n",
        "27          ...          3.783332e-03              0.000953   \n",
        "28          ...          7.128492e-05              0.000055   \n",
        "29          ...          7.498912e-03              0.000281   \n",
        "...         ...                   ...                   ...   \n",
        "130370      ...          2.378672e-04              0.000518   \n",
        "130371      ...          4.124518e-03              0.000280   \n",
        "130372      ...          5.394879e-04              0.000642   \n",
        "130373      ...          5.837488e-03              0.000485   \n",
        "130374      ...          4.312403e-05              0.000012   \n",
        "130375      ...          8.741894e-04              0.000506   \n",
        "130376      ...          1.917179e-04              0.000080   \n",
        "130377      ...          2.391745e-04              0.000247   \n",
        "130378      ...          6.235423e-06              0.000001   \n",
        "130379      ...          4.309115e-03              0.000161   \n",
        "130380      ...          1.338706e-03              0.000984   \n",
        "130381      ...          7.121727e-04              0.000706   \n",
        "130382      ...          5.344244e-03              0.000924   \n",
        "130383      ...          6.907484e-06              0.000007   \n",
        "130384      ...          2.426280e-03              0.001116   \n",
        "130385      ...          1.046648e-05              0.000001   \n",
        "130386      ...          2.269142e-08              0.000000   \n",
        "130387      ...          1.781560e-03              0.000130   \n",
        "130388      ...          1.624712e-05              0.000050   \n",
        "130389      ...          5.028832e-04              0.000037   \n",
        "130390      ...          9.776901e-05              0.000071   \n",
        "130391      ...          1.880190e-03              0.000519   \n",
        "130392      ...          2.946241e-04              0.000455   \n",
        "130393      ...          1.201130e-06              0.000007   \n",
        "130394      ...          1.390266e-05              0.000001   \n",
        "130395      ...          9.255386e-05              0.000026   \n",
        "130396      ...          4.036310e-03              0.000751   \n",
        "130397      ...          3.116900e-03              0.000474   \n",
        "130398      ...          5.200310e-03              0.001345   \n",
        "130399      ...          5.927710e-04              0.000594   \n",
        "\n",
        "        pteropod_theco_dev_seq  acantharia_protist_halo  \\\n",
        "0                 5.755364e-02             3.582185e-06   \n",
        "1                 1.964424e-02             5.000034e-06   \n",
        "2                 2.355871e-04             6.993235e-06   \n",
        "3                 9.629478e-03             2.866173e-05   \n",
        "4                 1.196385e-08             2.090581e-03   \n",
        "5                 4.965053e-03             4.581263e-05   \n",
        "6                 3.910185e-03             7.632060e-06   \n",
        "7                 1.232101e-04             4.604582e-07   \n",
        "8                 2.116776e-08             1.810138e-04   \n",
        "9                 8.726808e-03             3.057519e-08   \n",
        "10                2.415500e-01             1.097192e-05   \n",
        "11                5.782348e-03             4.616236e-06   \n",
        "12                2.228705e-07             5.241021e-04   \n",
        "13                7.109488e-03             1.281736e-05   \n",
        "14                1.427719e-05             1.706818e-04   \n",
        "15                1.933495e-02             2.778995e-07   \n",
        "16                2.290256e-05             3.734938e-03   \n",
        "17                1.828417e-02             4.690904e-05   \n",
        "18                1.196212e-02             8.925970e-07   \n",
        "19                3.896159e-02             1.363744e-06   \n",
        "20                1.307009e-07             1.538237e-05   \n",
        "21                1.230651e-02             4.614837e-04   \n",
        "22                5.894768e-04             4.934303e-05   \n",
        "23                6.525468e-03             6.031889e-04   \n",
        "24                1.195234e-03             8.498318e-06   \n",
        "25                2.426376e-03             3.521280e-05   \n",
        "26                1.108939e-04             1.947382e-05   \n",
        "27                1.122040e-02             1.094250e-04   \n",
        "28                5.356942e-04             8.920530e-03   \n",
        "29                1.608080e-03             3.628972e-04   \n",
        "...                        ...                      ...   \n",
        "130370            6.025839e-03             2.141760e-05   \n",
        "130371            1.686781e-02             2.281220e-06   \n",
        "130372            7.897550e-03             1.717368e-06   \n",
        "130373            2.957115e-02             3.142879e-06   \n",
        "130374            5.583431e-07             1.611119e-04   \n",
        "130375            2.310012e-03             2.906478e-04   \n",
        "130376            1.838492e-05             1.421762e-04   \n",
        "130377            2.540657e-02             2.718381e-07   \n",
        "130378            1.556053e-08             3.718656e-03   \n",
        "130379            4.723091e-04             1.586435e-04   \n",
        "130380            8.584429e-02             5.044067e-06   \n",
        "130381            2.294197e-02             2.446797e-06   \n",
        "130382            1.445643e-02             2.967539e-05   \n",
        "130383            9.989989e-07             5.492638e-04   \n",
        "130384            1.363378e-01             6.038834e-06   \n",
        "130385            1.535879e-08             1.612365e-04   \n",
        "130386            2.828069e-07             6.859061e-06   \n",
        "130387            6.082266e-05             2.192940e-04   \n",
        "130388            4.635896e-05             4.349829e-03   \n",
        "130389            3.454893e-06             6.058177e-03   \n",
        "130390            8.379052e-03             3.519219e-08   \n",
        "130391            5.059779e-04             4.585726e-04   \n",
        "130392            1.375394e-02             2.196113e-05   \n",
        "130393            3.853600e-05             3.943263e-05   \n",
        "130394            2.457338e-08             8.456757e-04   \n",
        "130395            2.054831e-04             7.208420e-06   \n",
        "130396            3.886878e-03             2.400073e-03   \n",
        "130397            6.615903e-03             8.554763e-03   \n",
        "130398            1.279317e-02             1.339694e-05   \n",
        "130399            5.808882e-02             1.429907e-06   \n",
        "\n",
        "        hydromedusae_typeD_bell_and_tentacles  echinoderm_larva_pluteus_typeC  \\\n",
        "0                                    0.003029                    3.110135e-04   \n",
        "1                                    0.003150                    3.765901e-04   \n",
        "2                                    0.001904                    1.081207e-04   \n",
        "3                                    0.005214                    3.453998e-04   \n",
        "4                                    0.000012                    1.969596e-07   \n",
        "5                                    0.008774                    5.960027e-04   \n",
        "6                                    0.004731                    1.573029e-03   \n",
        "7                                    0.000054                    3.079113e-05   \n",
        "8                                    0.000009                    6.796472e-08   \n",
        "9                                    0.000300                    7.259995e-05   \n",
        "10                                   0.003793                    6.218973e-04   \n",
        "11                                   0.001243                    1.497985e-04   \n",
        "12                                   0.000041                    4.216697e-07   \n",
        "13                                   0.007330                    6.106326e-04   \n",
        "14                                   0.000168                    9.904062e-06   \n",
        "15                                   0.001773                    3.633778e-04   \n",
        "16                                   0.000993                    9.844482e-05   \n",
        "17                                   0.036913                    1.376496e-03   \n",
        "18                                   0.000771                    1.156619e-04   \n",
        "19                                   0.001774                    1.222778e-04   \n",
        "20                                   0.000963                    2.455420e-05   \n",
        "21                                   0.018785                    8.282178e-04   \n",
        "22                                   0.002482                    1.147605e-04   \n",
        "23                                   0.045802                    1.219879e-03   \n",
        "24                                   0.000585                    1.823165e-04   \n",
        "25                                   0.001086                    1.828526e-04   \n",
        "26                                   0.000195                    6.339104e-06   \n",
        "27                                   0.037824                    4.511687e-04   \n",
        "28                                   0.002733                    1.393067e-04   \n",
        "29                                   0.000869                    2.437191e-05   \n",
        "...                                       ...                             ...   \n",
        "130370                               0.015353                    1.842255e-03   \n",
        "130371                               0.001220                    6.235343e-05   \n",
        "130372                               0.003706                    9.156056e-04   \n",
        "130373                               0.001772                    1.020747e-04   \n",
        "130374                               0.000025                    2.648957e-06   \n",
        "130375                               0.008943                    4.325041e-04   \n",
        "130376                               0.000310                    2.932816e-05   \n",
        "130377                               0.002656                    4.002081e-04   \n",
        "130378                               0.000020                    4.049579e-07   \n",
        "130379                               0.001174                    1.298138e-05   \n",
        "130380                               0.009941                    1.422270e-03   \n",
        "130381                               0.013559                    1.208680e-03   \n",
        "130382                               0.004662                    2.352300e-04   \n",
        "130383                               0.000978                    2.539468e-05   \n",
        "130384                               0.011073                    7.937342e-04   \n",
        "130385                               0.000004                    4.802180e-08   \n",
        "130386                               0.000762                    1.504283e-05   \n",
        "130387                               0.000246                    8.062617e-06   \n",
        "130388                               0.005571                    5.685244e-04   \n",
        "130389                               0.000323                    3.797969e-06   \n",
        "130390                               0.000320                    7.568915e-05   \n",
        "130391                               0.012816                    2.693313e-04   \n",
        "130392                               0.004956                    1.486378e-03   \n",
        "130393                               0.003027                    2.032393e-04   \n",
        "130394                               0.000017                    1.357433e-07   \n",
        "130395                               0.000758                    1.890252e-05   \n",
        "130396                               0.004940                    4.245610e-04   \n",
        "130397                               0.006058                    2.547458e-04   \n",
        "130398                               0.008463                    7.210469e-04   \n",
        "130399                               0.005674                    1.277935e-03   \n",
        "\n",
        "            decapods  copepod_calanoid_small_longantennae  euphausiids  \\\n",
        "0       1.713624e-05                         1.689581e-04     0.000377   \n",
        "1       1.991120e-05                         4.798204e-04     0.000797   \n",
        "2       8.217166e-04                         9.105071e-10     0.000008   \n",
        "3       1.887336e-05                         1.102684e-04     0.001001   \n",
        "4       6.715301e-08                         6.314413e-04     0.000027   \n",
        "5       1.083960e-04                         5.800466e-04     0.001473   \n",
        "6       4.275263e-04                         4.499563e-03     0.000919   \n",
        "7       3.807634e-06                         3.974978e-03     0.000054   \n",
        "8       1.294539e-08                         3.236949e-04     0.000009   \n",
        "9       5.452463e-06                         9.578044e-06     0.000029   \n",
        "10      3.593424e-05                         2.336084e-04     0.000574   \n",
        "11      4.752839e-06                         1.790973e-02     0.000561   \n",
        "12      4.432891e-08                         7.390619e-04     0.000042   \n",
        "13      7.145176e-05                         2.761377e-03     0.000908   \n",
        "14      5.564076e-07                         6.118182e-02     0.000401   \n",
        "15      5.601244e-05                         2.944568e-05     0.000132   \n",
        "16      3.379434e-05                         6.239844e-03     0.001482   \n",
        "17      3.933055e-04                         2.174814e-05     0.001216   \n",
        "18      4.758695e-06                         1.772841e-03     0.000138   \n",
        "19      6.390002e-06                         7.525285e-06     0.000128   \n",
        "20      2.830526e-02                         2.448434e-10     0.000002   \n",
        "21      2.115849e-04                         1.268379e-04     0.001951   \n",
        "22      1.145716e-04                         3.546294e-06     0.000081   \n",
        "23      5.588351e-04                         5.723393e-05     0.002272   \n",
        "24      2.104790e-05                         6.213322e-03     0.000411   \n",
        "25      1.873110e-05                         2.202691e-03     0.000542   \n",
        "26      1.469116e-07                         2.614047e-02     0.000144   \n",
        "27      8.681651e-05                         2.682261e-04     0.001143   \n",
        "28      1.138462e-04                         2.670160e-06     0.000235   \n",
        "29      1.034188e-06                         7.320232e-04     0.000275   \n",
        "...              ...                                  ...          ...   \n",
        "130370  1.270594e-03                         3.678217e-05     0.000744   \n",
        "130371  2.306783e-06                         6.752527e-05     0.000117   \n",
        "130372  1.835896e-04                         4.104430e-04     0.000452   \n",
        "130373  4.104408e-06                         9.903356e-05     0.000184   \n",
        "130374  2.515126e-07                         1.538921e-01     0.000157   \n",
        "130375  9.264699e-05                         1.898944e-04     0.002031   \n",
        "130376  3.984259e-06                         3.511393e-02     0.000463   \n",
        "130377  8.028018e-05                         1.635625e-05     0.000120   \n",
        "130378  2.767787e-07                         3.208331e-04     0.000031   \n",
        "130379  4.848338e-07                         2.245177e-04     0.000317   \n",
        "130380  1.488693e-04                         4.435442e-05     0.000783   \n",
        "130381  3.002644e-04                         3.988707e-05     0.000492   \n",
        "130382  9.574443e-06                         3.455080e-04     0.000757   \n",
        "130383  1.766803e-04                         3.407727e-06     0.000045   \n",
        "130384  8.105006e-05                         1.658555e-04     0.000720   \n",
        "130385  5.741778e-09                         3.632001e-04     0.000008   \n",
        "130386  9.839024e-03                         4.383374e-11     0.000001   \n",
        "130387  4.020270e-07                         2.337310e-02     0.000256   \n",
        "130388  6.223147e-03                         2.675030e-06     0.000329   \n",
        "130389  7.224706e-07                         5.029530e-04     0.000253   \n",
        "130390  5.657661e-06                         1.049814e-05     0.000031   \n",
        "130391  1.005547e-04                         3.583046e-04     0.001283   \n",
        "130392  4.661223e-04                         1.556553e-04     0.000630   \n",
        "130393  7.796382e-03                         2.321713e-09     0.000016   \n",
        "130394  4.647633e-08                         1.087601e-04     0.000014   \n",
        "130395  7.460705e-06                         1.258566e-06     0.000029   \n",
        "130396  1.096949e-04                         6.356452e-04     0.001184   \n",
        "130397  1.456140e-04                         9.967918e-05     0.000668   \n",
        "130398  5.251219e-05                         2.724657e-03     0.001261   \n",
        "130399  1.630646e-04                         9.938901e-05     0.000501   \n",
        "\n",
        "        echinopluteus  \n",
        "0            0.000390  \n",
        "1            0.001021  \n",
        "2            0.000393  \n",
        "3            0.000876  \n",
        "4            0.000951  \n",
        "5            0.005209  \n",
        "6            0.004414  \n",
        "7            0.000283  \n",
        "8            0.000107  \n",
        "9            0.000025  \n",
        "10           0.000718  \n",
        "11           0.000494  \n",
        "12           0.000287  \n",
        "13           0.002755  \n",
        "14           0.001855  \n",
        "15           0.000185  \n",
        "16           0.022740  \n",
        "17           0.004481  \n",
        "18           0.000112  \n",
        "19           0.000078  \n",
        "20           0.000960  \n",
        "21           0.007099  \n",
        "22           0.000884  \n",
        "23           0.012563  \n",
        "24           0.002490  \n",
        "25           0.002421  \n",
        "26           0.000187  \n",
        "27           0.004841  \n",
        "28           0.005168  \n",
        "29           0.000801  \n",
        "...               ...  \n",
        "130370       0.006707  \n",
        "130371       0.000069  \n",
        "130372       0.001775  \n",
        "130373       0.000124  \n",
        "130374       0.001371  \n",
        "130375       0.007838  \n",
        "130376       0.002934  \n",
        "130377       0.000147  \n",
        "130378       0.002266  \n",
        "130379       0.000328  \n",
        "130380       0.000884  \n",
        "130381       0.001132  \n",
        "130382       0.000681  \n",
        "130383       0.011804  \n",
        "130384       0.000903  \n",
        "130385       0.000084  \n",
        "130386       0.000266  \n",
        "130387       0.000931  \n",
        "130388       0.048019  \n",
        "130389       0.003215  \n",
        "130390       0.000027  \n",
        "130391       0.014371  \n",
        "130392       0.004775  \n",
        "130393       0.001722  \n",
        "130394       0.000344  \n",
        "130395       0.000191  \n",
        "130396       0.019100  \n",
        "130397       0.011837  \n",
        "130398       0.001610  \n",
        "130399       0.000899  \n",
        "\n",
        "[130400 rows x 122 columns]"
       ]
      }
     ],
     "prompt_number": 16
    },
    {
     "cell_type": "code",
     "collapsed": false,
     "input": [
      "!gzip submission_mlp_01_best.csv"
     ],
     "language": "python",
     "metadata": {},
     "outputs": [],
     "prompt_number": 17
    },
    {
     "cell_type": "code",
     "collapsed": false,
     "input": [],
     "language": "python",
     "metadata": {},
     "outputs": []
    }
   ],
   "metadata": {}
  }
 ]
}