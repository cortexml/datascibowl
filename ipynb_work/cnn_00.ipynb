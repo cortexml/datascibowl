{
 "metadata": {
  "name": "",
  "signature": "sha256:a1a1b685b4c8c95fd129469eaf07952d1b636f080be0e0a8c94311fe56110af1"
 },
 "nbformat": 3,
 "nbformat_minor": 0,
 "worksheets": [
  {
   "cells": [
    {
     "cell_type": "markdown",
     "metadata": {},
     "source": [
      "1. Setup the yaml file\n",
      "    - data\n",
      "    - model \n",
      "    - algorithm\n",
      "    - termination criteria\n",
      "    - monitoring extensions (filename)\n",
      "    - save path (filename)\n",
      "2. Update paths/filenames in ipython notebook\n",
      "    - print monitor of best fit\n",
      "    - prediction model and save file path\n",
      "    - gzip"
     ]
    },
    {
     "cell_type": "markdown",
     "metadata": {},
     "source": [
      "In this case, the GPU computing seems to be working. Perhaps so expiriment parameters force slow work on the GPU. This are not clear yet. But I will look around pylearn docs for GPU use."
     ]
    },
    {
     "cell_type": "markdown",
     "metadata": {},
     "source": [
      "In this case, I am training and saving the best model based on NLL instead of misclass rate."
     ]
    },
    {
     "cell_type": "code",
     "collapsed": false,
     "input": [
      "import os\n",
      "import pylearn2\n",
      "from pylearn2.config import yaml_parse\n",
      "import glob\n",
      "import numpy as np\n",
      "import pickle as pkl\n",
      "import pandas as pd"
     ],
     "language": "python",
     "metadata": {},
     "outputs": [
      {
       "output_type": "stream",
       "stream": "stderr",
       "text": [
        "Using gpu device 0: GeForce GTX 550 Ti\n"
       ]
      }
     ],
     "prompt_number": 1
    },
    {
     "cell_type": "code",
     "collapsed": false,
     "input": [
      "os.environ[\"PYLEARN2_DATA_PATH\"] = \"/home/jotham/projects/2014-12-20_datascibowl/data\"\n",
      "print os.path.expandvars(\"$PYLEARN2_DATA_PATH\")"
     ],
     "language": "python",
     "metadata": {},
     "outputs": [
      {
       "output_type": "stream",
       "stream": "stdout",
       "text": [
        "/home/jotham/projects/2014-12-20_datascibowl/data\n"
       ]
      }
     ],
     "prompt_number": 2
    },
    {
     "cell_type": "code",
     "collapsed": false,
     "input": [
      "with open('cnn_00.yaml', 'r') as f:\n",
      "    train = f.read()\n",
      "save_path = '.'\n",
      "train = train %locals()"
     ],
     "language": "python",
     "metadata": {},
     "outputs": [],
     "prompt_number": 5
    },
    {
     "cell_type": "code",
     "collapsed": false,
     "input": [
      "print train"
     ],
     "language": "python",
     "metadata": {},
     "outputs": [
      {
       "output_type": "stream",
       "stream": "stdout",
       "text": [
        "!obj:pylearn2.train.Train {\n",
        "    dataset: &train !obj:pylearn2.datasets.datascibowl.DataSciBowl {\n",
        "        which_set: 'train',\n",
        "        start: 0,\n",
        "        stop: 25000,\n",
        "        shuffle: True,\n",
        "        center: True,\n",
        "    },\n",
        "    model: !obj:pylearn2.models.mlp.MLP {\n",
        "        batch_size: 100,\n",
        "        input_space: !obj:pylearn2.space.Conv2DSpace {\n",
        "            shape: [32, 32],\n",
        "            num_channels: 1\n",
        "        },\n",
        "        layers: [ !obj:pylearn2.models.mlp.ConvRectifiedLinear {\n",
        "                     layer_name: 'h2',\n",
        "                     output_channels: 64,\n",
        "                     irange: .05,\n",
        "                     kernel_shape: [5, 5],\n",
        "                     pool_shape: [4, 4],\n",
        "                     pool_stride: [2, 2],\n",
        "                     max_kernel_norm: 1.9365\n",
        "                 }, !obj:pylearn2.models.mlp.ConvRectifiedLinear {\n",
        "                     layer_name: 'h3',\n",
        "                     output_channels: 64,\n",
        "                     irange: .05,\n",
        "                     kernel_shape: [5, 5],\n",
        "                     pool_shape: [4, 4],\n",
        "                     pool_stride: [2, 2],\n",
        "                     max_kernel_norm: 1.9365\n",
        "                 }, !obj:pylearn2.models.mlp.Softmax {\n",
        "                     max_col_norm: 1.9365,\n",
        "                     layer_name: 'y',\n",
        "                     n_classes: 121,\n",
        "                     istdev: .05\n",
        "                 }\n",
        "                ],\n",
        "    },\n",
        "    algorithm: !obj:pylearn2.training_algorithms.sgd.SGD {\n",
        "        batch_size: 100,\n",
        "        learning_rate: .01,\n",
        "        learning_rule: !obj:pylearn2.training_algorithms.learning_rule.Momentum {\n",
        "            init_momentum: 0.5,\n",
        "        },\n",
        "        monitoring_dataset:\n",
        "            {\n",
        "                'train' : *train,\n",
        "                'valid' : !obj:pylearn2.datasets.datascibowl.DataSciBowl {\n",
        "                              which_set: 'train',\n",
        "                              start: 25000,\n",
        "                              stop:  30000,\n",
        "                              shuffle: True,\n",
        "                              center: True\n",
        "                          }\n",
        "            },\n",
        "        cost: !obj:pylearn2.costs.cost.SumOfCosts { costs: [\n",
        "            !obj:pylearn2.costs.cost.MethodCost {\n",
        "                method: 'cost_from_X'\n",
        "            }, !obj:pylearn2.costs.mlp.WeightDecay {\n",
        "                coeffs: [ .00005, .00005, .00005 ]\n",
        "            }\n",
        "            ]\n",
        "        },\n",
        "        termination_criterion: !obj:pylearn2.termination_criteria.And {\n",
        "            criteria: [\n",
        "                !obj:pylearn2.termination_criteria.MonitorBased {\n",
        "                    channel_name: \"valid_y_nll\",\n",
        "                    prop_decrease: 0.25,\n",
        "                    N: 10\n",
        "                },\n",
        "                !obj:pylearn2.termination_criteria.EpochCounter {\n",
        "                    max_epochs: 500\n",
        "                },\n",
        "            ]\n",
        "        },\n",
        "    },\n",
        "    extensions:\n",
        "        [ !obj:pylearn2.train_extensions.best_params.MonitorBasedSaveBest {\n",
        "             channel_name: 'valid_y_nll',\n",
        "             save_path: \"cnn_00_best.pkl\"\n",
        "        }, !obj:pylearn2.training_algorithms.learning_rule.MomentumAdjustor {\n",
        "            start: 1,\n",
        "            saturate: 10,\n",
        "            final_momentum: .99\n",
        "        }\n",
        "    ]\n",
        "}\n"
       ]
      }
     ],
     "prompt_number": 6
    },
    {
     "cell_type": "code",
     "collapsed": false,
     "input": [
      "train = yaml_parse.load(train)\n",
      "train.main_loop()"
     ],
     "language": "python",
     "metadata": {},
     "outputs": [
      {
       "output_type": "stream",
       "stream": "stdout",
       "text": [
        "Input shape: (32, 32)\n"
       ]
      },
      {
       "output_type": "stream",
       "stream": "stdout",
       "text": [
        "Detector space: (28, 28)\n"
       ]
      },
      {
       "output_type": "stream",
       "stream": "stdout",
       "text": [
        "Output space: (13, 13)\n"
       ]
      },
      {
       "output_type": "stream",
       "stream": "stderr",
       "text": [
        "/home/jotham/venvs/2014-12-20_datascibowl/lib/python2.7/site-packages/theano/tensor/subtensor.py:190: FutureWarning: comparison to `None` will result in an elementwise object comparison in the future.\n",
        "  if stop in [None, maxsize]:\n"
       ]
      },
      {
       "output_type": "stream",
       "stream": "stdout",
       "text": [
        "Input shape: (13, 13)\n"
       ]
      },
      {
       "output_type": "stream",
       "stream": "stdout",
       "text": [
        "Detector space: (9, 9)\n"
       ]
      },
      {
       "output_type": "stream",
       "stream": "stdout",
       "text": [
        "Output space: (4, 4)\n"
       ]
      },
      {
       "output_type": "stream",
       "stream": "stdout",
       "text": [
        "Looking for data in /home/jotham/projects/2014-12-20_datascibowl/data/datascibowl/train\n",
        "Found 30336 images"
       ]
      },
      {
       "output_type": "stream",
       "stream": "stdout",
       "text": [
        "\n",
        "Reading files from /home/jotham/projects/2014-12-20_datascibowl/data/datascibowl/train/euphausiids_young\n",
        "Reading files from /home/jotham/projects/2014-12-20_datascibowl/data/datascibowl/train/hydromedusae_narcomedusae\n",
        "Reading files from /home/jotham/projects/2014-12-20_datascibowl/data/datascibowl/train/copepod_calanoid_small_longantennae"
       ]
      },
      {
       "output_type": "stream",
       "stream": "stdout",
       "text": [
        "\n",
        "Reading files from /home/jotham/projects/2014-12-20_datascibowl/data/datascibowl/train/appendicularian_s_shape"
       ]
      },
      {
       "output_type": "stream",
       "stream": "stdout",
       "text": [
        "\n",
        "Reading files from /home/jotham/projects/2014-12-20_datascibowl/data/datascibowl/train/decapods"
       ]
      },
      {
       "output_type": "stream",
       "stream": "stdout",
       "text": [
        "\n",
        "Reading files from /home/jotham/projects/2014-12-20_datascibowl/data/datascibowl/train/hydromedusae_typeD_bell_and_tentacles"
       ]
      },
      {
       "output_type": "stream",
       "stream": "stdout",
       "text": [
        "\n",
        "Reading files from /home/jotham/projects/2014-12-20_datascibowl/data/datascibowl/train/crustacean_other"
       ]
      },
      {
       "output_type": "stream",
       "stream": "stdout",
       "text": [
        "\n",
        "Reading files from /home/jotham/projects/2014-12-20_datascibowl/data/datascibowl/train/hydromedusae_bell_and_tentacles"
       ]
      },
      {
       "output_type": "stream",
       "stream": "stdout",
       "text": [
        "\n",
        "Reading files from /home/jotham/projects/2014-12-20_datascibowl/data/datascibowl/train/echinoderm_larva_pluteus_brittlestar"
       ]
      },
      {
       "output_type": "stream",
       "stream": "stdout",
       "text": [
        "\n",
        "Reading files from /home/jotham/projects/2014-12-20_datascibowl/data/datascibowl/train/invertebrate_larvae_other_B\n",
        "Reading files from /home/jotham/projects/2014-12-20_datascibowl/data/datascibowl/train/hydromedusae_solmaris"
       ]
      },
      {
       "output_type": "stream",
       "stream": "stdout",
       "text": [
        "\n",
        "Reading files from /home/jotham/projects/2014-12-20_datascibowl/data/datascibowl/train/chaetognath_sagitta"
       ]
      },
      {
       "output_type": "stream",
       "stream": "stdout",
       "text": [
        "\n",
        "Reading files from /home/jotham/projects/2014-12-20_datascibowl/data/datascibowl/train/hydromedusae_shapeA"
       ]
      },
      {
       "output_type": "stream",
       "stream": "stdout",
       "text": [
        "\n",
        "Reading files from /home/jotham/projects/2014-12-20_datascibowl/data/datascibowl/train/hydromedusae_shapeB"
       ]
      },
      {
       "output_type": "stream",
       "stream": "stdout",
       "text": [
        "\n",
        "Reading files from /home/jotham/projects/2014-12-20_datascibowl/data/datascibowl/train/hydromedusae_haliscera"
       ]
      },
      {
       "output_type": "stream",
       "stream": "stdout",
       "text": [
        "\n",
        "Reading files from /home/jotham/projects/2014-12-20_datascibowl/data/datascibowl/train/hydromedusae_typeE"
       ]
      },
      {
       "output_type": "stream",
       "stream": "stdout",
       "text": [
        "\n",
        "Reading files from /home/jotham/projects/2014-12-20_datascibowl/data/datascibowl/train/hydromedusae_h15\n",
        "Reading files from /home/jotham/projects/2014-12-20_datascibowl/data/datascibowl/train/artifacts_edge\n",
        "Reading files from /home/jotham/projects/2014-12-20_datascibowl/data/datascibowl/train/copepod_calanoid_frillyAntennae"
       ]
      },
      {
       "output_type": "stream",
       "stream": "stdout",
       "text": [
        "\n",
        "Reading files from /home/jotham/projects/2014-12-20_datascibowl/data/datascibowl/train/copepod_calanoid_large"
       ]
      },
      {
       "output_type": "stream",
       "stream": "stdout",
       "text": [
        "\n",
        "Reading files from /home/jotham/projects/2014-12-20_datascibowl/data/datascibowl/train/siphonophore_calycophoran_abylidae"
       ]
      },
      {
       "output_type": "stream",
       "stream": "stdout",
       "text": [
        "\n",
        "Reading files from /home/jotham/projects/2014-12-20_datascibowl/data/datascibowl/train/invertebrate_larvae_other_A"
       ]
      },
      {
       "output_type": "stream",
       "stream": "stdout",
       "text": [
        "\n",
        "Reading files from /home/jotham/projects/2014-12-20_datascibowl/data/datascibowl/train/protist_dark_center\n",
        "Reading files from /home/jotham/projects/2014-12-20_datascibowl/data/datascibowl/train/ctenophore_cestid"
       ]
      },
      {
       "output_type": "stream",
       "stream": "stdout",
       "text": [
        "\n",
        "Reading files from /home/jotham/projects/2014-12-20_datascibowl/data/datascibowl/train/trichodesmium_tuft"
       ]
      },
      {
       "output_type": "stream",
       "stream": "stdout",
       "text": [
        "\n",
        "Reading files from /home/jotham/projects/2014-12-20_datascibowl/data/datascibowl/train/detritus_other"
       ]
      },
      {
       "output_type": "stream",
       "stream": "stdout",
       "text": [
        "\n",
        "Reading files from /home/jotham/projects/2014-12-20_datascibowl/data/datascibowl/train/tornaria_acorn_worm_larvae"
       ]
      },
      {
       "output_type": "stream",
       "stream": "stdout",
       "text": [
        "\n",
        "Reading files from /home/jotham/projects/2014-12-20_datascibowl/data/datascibowl/train/hydromedusae_other\n",
        "Reading files from /home/jotham/projects/2014-12-20_datascibowl/data/datascibowl/train/tunicate_salp"
       ]
      },
      {
       "output_type": "stream",
       "stream": "stdout",
       "text": [
        "\n",
        "Reading files from /home/jotham/projects/2014-12-20_datascibowl/data/datascibowl/train/shrimp_caridean"
       ]
      },
      {
       "output_type": "stream",
       "stream": "stdout",
       "text": [
        "\n",
        "Reading files from /home/jotham/projects/2014-12-20_datascibowl/data/datascibowl/train/copepod_cyclopoid_oithona\n",
        "Reading files from /home/jotham/projects/2014-12-20_datascibowl/data/datascibowl/train/hydromedusae_sideview_big"
       ]
      },
      {
       "output_type": "stream",
       "stream": "stdout",
       "text": [
        "\n",
        "Reading files from /home/jotham/projects/2014-12-20_datascibowl/data/datascibowl/train/trochophore_larvae"
       ]
      },
      {
       "output_type": "stream",
       "stream": "stdout",
       "text": [
        "\n",
        "Reading files from /home/jotham/projects/2014-12-20_datascibowl/data/datascibowl/train/artifacts\n",
        "Reading files from /home/jotham/projects/2014-12-20_datascibowl/data/datascibowl/train/acantharia_protist"
       ]
      },
      {
       "output_type": "stream",
       "stream": "stdout",
       "text": [
        "\n",
        "Reading files from /home/jotham/projects/2014-12-20_datascibowl/data/datascibowl/train/ctenophore_lobate"
       ]
      },
      {
       "output_type": "stream",
       "stream": "stdout",
       "text": [
        "\n",
        "Reading files from /home/jotham/projects/2014-12-20_datascibowl/data/datascibowl/train/copepod_calanoid_eucalanus"
       ]
      },
      {
       "output_type": "stream",
       "stream": "stdout",
       "text": [
        "\n",
        "Reading files from /home/jotham/projects/2014-12-20_datascibowl/data/datascibowl/train/siphonophore_calycophoran_sphaeronectes_young"
       ]
      },
      {
       "output_type": "stream",
       "stream": "stdout",
       "text": [
        "\n",
        "Reading files from /home/jotham/projects/2014-12-20_datascibowl/data/datascibowl/train/fish_larvae_myctophids"
       ]
      },
      {
       "output_type": "stream",
       "stream": "stdout",
       "text": [
        "\n",
        "Reading files from /home/jotham/projects/2014-12-20_datascibowl/data/datascibowl/train/echinoderm_larva_pluteus_early"
       ]
      },
      {
       "output_type": "stream",
       "stream": "stdout",
       "text": [
        "\n",
        "Reading files from /home/jotham/projects/2014-12-20_datascibowl/data/datascibowl/train/hydromedusae_aglaura"
       ]
      },
      {
       "output_type": "stream",
       "stream": "stdout",
       "text": [
        "\n",
        "Reading files from /home/jotham/projects/2014-12-20_datascibowl/data/datascibowl/train/echinoderm_larva_pluteus_urchin"
       ]
      },
      {
       "output_type": "stream",
       "stream": "stdout",
       "text": [
        "\n",
        "Reading files from /home/jotham/projects/2014-12-20_datascibowl/data/datascibowl/train/tunicate_partial"
       ]
      },
      {
       "output_type": "stream",
       "stream": "stdout",
       "text": [
        "\n",
        "Reading files from /home/jotham/projects/2014-12-20_datascibowl/data/datascibowl/train/pteropod_triangle"
       ]
      },
      {
       "output_type": "stream",
       "stream": "stdout",
       "text": [
        "\n",
        "Reading files from /home/jotham/projects/2014-12-20_datascibowl/data/datascibowl/train/echinoderm_seacucumber_auricularia_larva"
       ]
      },
      {
       "output_type": "stream",
       "stream": "stdout",
       "text": [
        "\n",
        "Reading files from /home/jotham/projects/2014-12-20_datascibowl/data/datascibowl/train/hydromedusae_typeD"
       ]
      },
      {
       "output_type": "stream",
       "stream": "stdout",
       "text": [
        "\n",
        "Reading files from /home/jotham/projects/2014-12-20_datascibowl/data/datascibowl/train/siphonophore_calycophoran_sphaeronectes\n",
        "Reading files from /home/jotham/projects/2014-12-20_datascibowl/data/datascibowl/train/chordate_type1"
       ]
      },
      {
       "output_type": "stream",
       "stream": "stdout",
       "text": [
        "\n",
        "Reading files from /home/jotham/projects/2014-12-20_datascibowl/data/datascibowl/train/trichodesmium_multiple"
       ]
      },
      {
       "output_type": "stream",
       "stream": "stdout",
       "text": [
        "\n",
        "Reading files from /home/jotham/projects/2014-12-20_datascibowl/data/datascibowl/train/appendicularian_straight\n",
        "Reading files from /home/jotham/projects/2014-12-20_datascibowl/data/datascibowl/train/appendicularian_slight_curve"
       ]
      },
      {
       "output_type": "stream",
       "stream": "stdout",
       "text": [
        "\n",
        "Reading files from /home/jotham/projects/2014-12-20_datascibowl/data/datascibowl/train/hydromedusae_typeF"
       ]
      },
      {
       "output_type": "stream",
       "stream": "stdout",
       "text": [
        "\n",
        "Reading files from /home/jotham/projects/2014-12-20_datascibowl/data/datascibowl/train/fecal_pellet"
       ]
      },
      {
       "output_type": "stream",
       "stream": "stdout",
       "text": [
        "\n",
        "Reading files from /home/jotham/projects/2014-12-20_datascibowl/data/datascibowl/train/hydromedusae_narco_dark"
       ]
      },
      {
       "output_type": "stream",
       "stream": "stdout",
       "text": [
        "\n",
        "Reading files from /home/jotham/projects/2014-12-20_datascibowl/data/datascibowl/train/shrimp-like_other\n",
        "Reading files from /home/jotham/projects/2014-12-20_datascibowl/data/datascibowl/train/diatom_chain_string"
       ]
      },
      {
       "output_type": "stream",
       "stream": "stdout",
       "text": [
        "\n",
        "Reading files from /home/jotham/projects/2014-12-20_datascibowl/data/datascibowl/train/fish_larvae_very_thin_body"
       ]
      },
      {
       "output_type": "stream",
       "stream": "stdout",
       "text": [
        "\n",
        "Reading files from /home/jotham/projects/2014-12-20_datascibowl/data/datascibowl/train/detritus_filamentous\n",
        "Reading files from /home/jotham/projects/2014-12-20_datascibowl/data/datascibowl/train/amphipods"
       ]
      },
      {
       "output_type": "stream",
       "stream": "stdout",
       "text": [
        "\n",
        "Reading files from /home/jotham/projects/2014-12-20_datascibowl/data/datascibowl/train/siphonophore_other_parts\n",
        "Reading files from /home/jotham/projects/2014-12-20_datascibowl/data/datascibowl/train/trichodesmium_bowtie"
       ]
      },
      {
       "output_type": "stream",
       "stream": "stdout",
       "text": [
        "\n",
        "Reading files from /home/jotham/projects/2014-12-20_datascibowl/data/datascibowl/train/siphonophore_physonect"
       ]
      },
      {
       "output_type": "stream",
       "stream": "stdout",
       "text": [
        "\n",
        "Reading files from /home/jotham/projects/2014-12-20_datascibowl/data/datascibowl/train/chaetognath_other"
       ]
      },
      {
       "output_type": "stream",
       "stream": "stdout",
       "text": [
        "\n",
        "Reading files from /home/jotham/projects/2014-12-20_datascibowl/data/datascibowl/train/pteropod_butterfly"
       ]
      },
      {
       "output_type": "stream",
       "stream": "stdout",
       "text": [
        "\n",
        "Reading files from /home/jotham/projects/2014-12-20_datascibowl/data/datascibowl/train/tunicate_salp_chains"
       ]
      },
      {
       "output_type": "stream",
       "stream": "stdout",
       "text": [
        "\n",
        "Reading files from /home/jotham/projects/2014-12-20_datascibowl/data/datascibowl/train/copepod_calanoid_eggs"
       ]
      },
      {
       "output_type": "stream",
       "stream": "stdout",
       "text": [
        "\n",
        "Reading files from /home/jotham/projects/2014-12-20_datascibowl/data/datascibowl/train/euphausiids"
       ]
      },
      {
       "output_type": "stream",
       "stream": "stdout",
       "text": [
        "\n",
        "Reading files from /home/jotham/projects/2014-12-20_datascibowl/data/datascibowl/train/copepod_other"
       ]
      },
      {
       "output_type": "stream",
       "stream": "stdout",
       "text": [
        "\n",
        "Reading files from /home/jotham/projects/2014-12-20_datascibowl/data/datascibowl/train/shrimp_zoea\n",
        "Reading files from /home/jotham/projects/2014-12-20_datascibowl/data/datascibowl/train/tunicate_doliolid_nurse"
       ]
      },
      {
       "output_type": "stream",
       "stream": "stdout",
       "text": [
        "\n",
        "Reading files from /home/jotham/projects/2014-12-20_datascibowl/data/datascibowl/train/copepod_calanoid_flatheads"
       ]
      },
      {
       "output_type": "stream",
       "stream": "stdout",
       "text": [
        "\n",
        "Reading files from /home/jotham/projects/2014-12-20_datascibowl/data/datascibowl/train/siphonophore_calycophoran_rocketship_adult"
       ]
      },
      {
       "output_type": "stream",
       "stream": "stdout",
       "text": [
        "\n",
        "Reading files from /home/jotham/projects/2014-12-20_datascibowl/data/datascibowl/train/ephyra"
       ]
      },
      {
       "output_type": "stream",
       "stream": "stdout",
       "text": [
        "\n",
        "Reading files from /home/jotham/projects/2014-12-20_datascibowl/data/datascibowl/train/copepod_calanoid\n",
        "Reading files from /home/jotham/projects/2014-12-20_datascibowl/data/datascibowl/train/fish_larvae_thin_body"
       ]
      },
      {
       "output_type": "stream",
       "stream": "stdout",
       "text": [
        "\n",
        "Reading files from /home/jotham/projects/2014-12-20_datascibowl/data/datascibowl/train/radiolarian_chain"
       ]
      },
      {
       "output_type": "stream",
       "stream": "stdout",
       "text": [
        "\n",
        "Reading files from /home/jotham/projects/2014-12-20_datascibowl/data/datascibowl/train/hydromedusae_shapeA_sideview_small"
       ]
      },
      {
       "output_type": "stream",
       "stream": "stdout",
       "text": [
        "\n",
        "Reading files from /home/jotham/projects/2014-12-20_datascibowl/data/datascibowl/train/fish_larvae_leptocephali"
       ]
      },
      {
       "output_type": "stream",
       "stream": "stdout",
       "text": [
        "\n",
        "Reading files from /home/jotham/projects/2014-12-20_datascibowl/data/datascibowl/train/hydromedusae_haliscera_small_sideview\n",
        "Reading files from /home/jotham/projects/2014-12-20_datascibowl/data/datascibowl/train/acantharia_protist_halo"
       ]
      },
      {
       "output_type": "stream",
       "stream": "stdout",
       "text": [
        "\n",
        "Reading files from /home/jotham/projects/2014-12-20_datascibowl/data/datascibowl/train/stomatopod"
       ]
      },
      {
       "output_type": "stream",
       "stream": "stdout",
       "text": [
        "\n",
        "Reading files from /home/jotham/projects/2014-12-20_datascibowl/data/datascibowl/train/protist_star\n",
        "Reading files from /home/jotham/projects/2014-12-20_datascibowl/data/datascibowl/train/protist_noctiluca"
       ]
      },
      {
       "output_type": "stream",
       "stream": "stdout",
       "text": [
        "\n",
        "Reading files from /home/jotham/projects/2014-12-20_datascibowl/data/datascibowl/train/copepod_cyclopoid_oithona_eggs"
       ]
      },
      {
       "output_type": "stream",
       "stream": "stdout",
       "text": [
        "\n",
        "Reading files from /home/jotham/projects/2014-12-20_datascibowl/data/datascibowl/train/echinoderm_larva_pluteus_typeC"
       ]
      },
      {
       "output_type": "stream",
       "stream": "stdout",
       "text": [
        "\n",
        "Reading files from /home/jotham/projects/2014-12-20_datascibowl/data/datascibowl/train/jellies_tentacles"
       ]
      },
      {
       "output_type": "stream",
       "stream": "stdout",
       "text": [
        "\n",
        "Reading files from /home/jotham/projects/2014-12-20_datascibowl/data/datascibowl/train/siphonophore_physonect_young"
       ]
      },
      {
       "output_type": "stream",
       "stream": "stdout",
       "text": [
        "\n",
        "Reading files from /home/jotham/projects/2014-12-20_datascibowl/data/datascibowl/train/detritus_blob\n",
        "Reading files from /home/jotham/projects/2014-12-20_datascibowl/data/datascibowl/train/unknown_unclassified"
       ]
      },
      {
       "output_type": "stream",
       "stream": "stdout",
       "text": [
        "\n",
        "Reading files from /home/jotham/projects/2014-12-20_datascibowl/data/datascibowl/train/unknown_sticks"
       ]
      },
      {
       "output_type": "stream",
       "stream": "stdout",
       "text": [
        "\n",
        "Reading files from /home/jotham/projects/2014-12-20_datascibowl/data/datascibowl/train/siphonophore_calycophoran_sphaeronectes_stem"
       ]
      },
      {
       "output_type": "stream",
       "stream": "stdout",
       "text": [
        "\n",
        "Reading files from /home/jotham/projects/2014-12-20_datascibowl/data/datascibowl/train/echinopluteus"
       ]
      },
      {
       "output_type": "stream",
       "stream": "stdout",
       "text": [
        "\n",
        "Reading files from /home/jotham/projects/2014-12-20_datascibowl/data/datascibowl/train/heteropod\n",
        "Reading files from /home/jotham/projects/2014-12-20_datascibowl/data/datascibowl/train/unknown_blobs_and_smudges\n",
        "Reading files from /home/jotham/projects/2014-12-20_datascibowl/data/datascibowl/train/echinoderm_larva_seastar_bipinnaria"
       ]
      },
      {
       "output_type": "stream",
       "stream": "stdout",
       "text": [
        "\n",
        "Reading files from /home/jotham/projects/2014-12-20_datascibowl/data/datascibowl/train/echinoderm_larva_seastar_brachiolaria"
       ]
      },
      {
       "output_type": "stream",
       "stream": "stdout",
       "text": [
        "\n",
        "Reading files from /home/jotham/projects/2014-12-20_datascibowl/data/datascibowl/train/copepod_cyclopoid_copilia"
       ]
      },
      {
       "output_type": "stream",
       "stream": "stdout",
       "text": [
        "\n",
        "Reading files from /home/jotham/projects/2014-12-20_datascibowl/data/datascibowl/train/chaetognath_non_sagitta\n",
        "Reading files from /home/jotham/projects/2014-12-20_datascibowl/data/datascibowl/train/tunicate_doliolid"
       ]
      },
      {
       "output_type": "stream",
       "stream": "stdout",
       "text": [
        "\n",
        "Reading files from /home/jotham/projects/2014-12-20_datascibowl/data/datascibowl/train/hydromedusae_liriope"
       ]
      },
      {
       "output_type": "stream",
       "stream": "stdout",
       "text": [
        "\n",
        "Reading files from /home/jotham/projects/2014-12-20_datascibowl/data/datascibowl/train/ctenophore_cydippid_tentacles\n",
        "Reading files from /home/jotham/projects/2014-12-20_datascibowl/data/datascibowl/train/siphonophore_calycophoran_rocketship_young"
       ]
      },
      {
       "output_type": "stream",
       "stream": "stdout",
       "text": [
        "\n",
        "Reading files from /home/jotham/projects/2014-12-20_datascibowl/data/datascibowl/train/copepod_calanoid_large_side_antennatucked"
       ]
      },
      {
       "output_type": "stream",
       "stream": "stdout",
       "text": [
        "\n",
        "Reading files from /home/jotham/projects/2014-12-20_datascibowl/data/datascibowl/train/fish_larvae_deep_body"
       ]
      },
      {
       "output_type": "stream",
       "stream": "stdout",
       "text": [
        "\n",
        "Reading files from /home/jotham/projects/2014-12-20_datascibowl/data/datascibowl/train/ctenophore_cydippid_no_tentacles\n",
        "Reading files from /home/jotham/projects/2014-12-20_datascibowl/data/datascibowl/train/hydromedusae_solmundella\n",
        "Reading files from /home/jotham/projects/2014-12-20_datascibowl/data/datascibowl/train/trichodesmium_puff"
       ]
      },
      {
       "output_type": "stream",
       "stream": "stdout",
       "text": [
        "\n",
        "Reading files from /home/jotham/projects/2014-12-20_datascibowl/data/datascibowl/train/hydromedusae_partial_dark"
       ]
      },
      {
       "output_type": "stream",
       "stream": "stdout",
       "text": [
        "\n",
        "Reading files from /home/jotham/projects/2014-12-20_datascibowl/data/datascibowl/train/hydromedusae_narco_young"
       ]
      },
      {
       "output_type": "stream",
       "stream": "stdout",
       "text": [
        "\n",
        "Reading files from /home/jotham/projects/2014-12-20_datascibowl/data/datascibowl/train/polychaete"
       ]
      },
      {
       "output_type": "stream",
       "stream": "stdout",
       "text": [
        "\n",
        "Reading files from /home/jotham/projects/2014-12-20_datascibowl/data/datascibowl/train/protist_other"
       ]
      },
      {
       "output_type": "stream",
       "stream": "stdout",
       "text": [
        "\n",
        "Reading files from /home/jotham/projects/2014-12-20_datascibowl/data/datascibowl/train/copepod_calanoid_octomoms"
       ]
      },
      {
       "output_type": "stream",
       "stream": "stdout",
       "text": [
        "\n",
        "Reading files from /home/jotham/projects/2014-12-20_datascibowl/data/datascibowl/train/acantharia_protist_big_center\n",
        "Reading files from /home/jotham/projects/2014-12-20_datascibowl/data/datascibowl/train/diatom_chain_tube"
       ]
      },
      {
       "output_type": "stream",
       "stream": "stdout",
       "text": [
        "\n",
        "Reading files from /home/jotham/projects/2014-12-20_datascibowl/data/datascibowl/train/fish_larvae_medium_body"
       ]
      },
      {
       "output_type": "stream",
       "stream": "stdout",
       "text": [
        "\n",
        "Reading files from /home/jotham/projects/2014-12-20_datascibowl/data/datascibowl/train/shrimp_sergestidae"
       ]
      },
      {
       "output_type": "stream",
       "stream": "stdout",
       "text": [
        "\n",
        "Reading files from /home/jotham/projects/2014-12-20_datascibowl/data/datascibowl/train/pteropod_theco_dev_seq"
       ]
      },
      {
       "output_type": "stream",
       "stream": "stdout",
       "text": [
        "\n",
        "Reading files from /home/jotham/projects/2014-12-20_datascibowl/data/datascibowl/train/siphonophore_partial\n",
        "Reading files from /home/jotham/projects/2014-12-20_datascibowl/data/datascibowl/train/protist_fuzzy_olive\n",
        "Reading files from /home/jotham/projects/2014-12-20_datascibowl/data/datascibowl/train/appendicularian_fritillaridae"
       ]
      },
      {
       "output_type": "stream",
       "stream": "stdout",
       "text": [
        "\n",
        "Reading files from /home/jotham/projects/2014-12-20_datascibowl/data/datascibowl/train/radiolarian_colony\n",
        "topo_view.shape: (30336, 32, 32, 1)"
       ]
      },
      {
       "output_type": "stream",
       "stream": "stdout",
       "text": [
        "\n",
        "NAs: 0\n",
        "Swapping 0 and 24158\n",
        "Swapping 1000 and 507\n",
        "Swapping 2000 and 10329\n",
        "Swapping 3000 and 12566\n",
        "Swapping 4000 and 5782"
       ]
      },
      {
       "output_type": "stream",
       "stream": "stdout",
       "text": [
        "\n",
        "Swapping 5000 and 14421\n",
        "Swapping 6000 and 25855\n",
        "Swapping 7000 and 19226\n",
        "Swapping 8000 and 5480\n",
        "Swapping 9000 and 14824\n",
        "Swapping 10000 and 7481\n",
        "Swapping 11000 and 4899"
       ]
      },
      {
       "output_type": "stream",
       "stream": "stdout",
       "text": [
        "\n",
        "Swapping 12000 and 547\n",
        "Swapping 13000 and 17117\n",
        "Swapping 14000 and 15848\n",
        "Swapping 15000 and 26705\n",
        "Swapping 16000 and 11752\n",
        "Swapping 17000 and 13157\n",
        "Swapping 18000 and 19743"
       ]
      },
      {
       "output_type": "stream",
       "stream": "stdout",
       "text": [
        "\n",
        "Swapping 19000 and 29262\n",
        "Swapping 20000 and 10984\n",
        "Swapping 21000 and 9312\n",
        "Swapping 22000 and 14681\n",
        "Swapping 23000 and 22392\n",
        "Swapping 24000 and 8749\n",
        "Swapping 25000 and 14310"
       ]
      },
      {
       "output_type": "stream",
       "stream": "stdout",
       "text": [
        "\n",
        "Swapping 26000 and 223\n",
        "Swapping 27000 and 9727\n",
        "Swapping 28000 and 13098\n",
        "Swapping 29000 and 4946\n",
        "Swapping 30000 and 19434\n",
        "Looking for data in /home/jotham/projects/2014-12-20_datascibowl/data/datascibowl/train"
       ]
      },
      {
       "output_type": "stream",
       "stream": "stdout",
       "text": [
        "\n",
        "Found 30336 images"
       ]
      },
      {
       "output_type": "stream",
       "stream": "stdout",
       "text": [
        "\n",
        "Reading files from /home/jotham/projects/2014-12-20_datascibowl/data/datascibowl/train/euphausiids_young\n",
        "Reading files from /home/jotham/projects/2014-12-20_datascibowl/data/datascibowl/train/hydromedusae_narcomedusae\n",
        "Reading files from /home/jotham/projects/2014-12-20_datascibowl/data/datascibowl/train/copepod_calanoid_small_longantennae"
       ]
      },
      {
       "output_type": "stream",
       "stream": "stdout",
       "text": [
        "\n",
        "Reading files from /home/jotham/projects/2014-12-20_datascibowl/data/datascibowl/train/appendicularian_s_shape"
       ]
      },
      {
       "output_type": "stream",
       "stream": "stdout",
       "text": [
        "\n",
        "Reading files from /home/jotham/projects/2014-12-20_datascibowl/data/datascibowl/train/decapods"
       ]
      },
      {
       "output_type": "stream",
       "stream": "stdout",
       "text": [
        "\n",
        "Reading files from /home/jotham/projects/2014-12-20_datascibowl/data/datascibowl/train/hydromedusae_typeD_bell_and_tentacles\n",
        "Reading files from /home/jotham/projects/2014-12-20_datascibowl/data/datascibowl/train/crustacean_other"
       ]
      },
      {
       "output_type": "stream",
       "stream": "stdout",
       "text": [
        "\n",
        "Reading files from /home/jotham/projects/2014-12-20_datascibowl/data/datascibowl/train/hydromedusae_bell_and_tentacles"
       ]
      },
      {
       "output_type": "stream",
       "stream": "stdout",
       "text": [
        "\n",
        "Reading files from /home/jotham/projects/2014-12-20_datascibowl/data/datascibowl/train/echinoderm_larva_pluteus_brittlestar"
       ]
      },
      {
       "output_type": "stream",
       "stream": "stdout",
       "text": [
        "\n",
        "Reading files from /home/jotham/projects/2014-12-20_datascibowl/data/datascibowl/train/invertebrate_larvae_other_B\n",
        "Reading files from /home/jotham/projects/2014-12-20_datascibowl/data/datascibowl/train/hydromedusae_solmaris\n",
        "Reading files from /home/jotham/projects/2014-12-20_datascibowl/data/datascibowl/train/chaetognath_sagitta"
       ]
      },
      {
       "output_type": "stream",
       "stream": "stdout",
       "text": [
        "\n",
        "Reading files from /home/jotham/projects/2014-12-20_datascibowl/data/datascibowl/train/hydromedusae_shapeA"
       ]
      },
      {
       "output_type": "stream",
       "stream": "stdout",
       "text": [
        "\n",
        "Reading files from /home/jotham/projects/2014-12-20_datascibowl/data/datascibowl/train/hydromedusae_shapeB"
       ]
      },
      {
       "output_type": "stream",
       "stream": "stdout",
       "text": [
        "\n",
        "Reading files from /home/jotham/projects/2014-12-20_datascibowl/data/datascibowl/train/hydromedusae_haliscera"
       ]
      },
      {
       "output_type": "stream",
       "stream": "stdout",
       "text": [
        "\n",
        "Reading files from /home/jotham/projects/2014-12-20_datascibowl/data/datascibowl/train/hydromedusae_typeE"
       ]
      },
      {
       "output_type": "stream",
       "stream": "stdout",
       "text": [
        "\n",
        "Reading files from /home/jotham/projects/2014-12-20_datascibowl/data/datascibowl/train/hydromedusae_h15\n",
        "Reading files from /home/jotham/projects/2014-12-20_datascibowl/data/datascibowl/train/artifacts_edge\n",
        "Reading files from /home/jotham/projects/2014-12-20_datascibowl/data/datascibowl/train/copepod_calanoid_frillyAntennae"
       ]
      },
      {
       "output_type": "stream",
       "stream": "stdout",
       "text": [
        "\n",
        "Reading files from /home/jotham/projects/2014-12-20_datascibowl/data/datascibowl/train/copepod_calanoid_large\n",
        "Reading files from /home/jotham/projects/2014-12-20_datascibowl/data/datascibowl/train/siphonophore_calycophoran_abylidae"
       ]
      },
      {
       "output_type": "stream",
       "stream": "stdout",
       "text": [
        "\n",
        "Reading files from /home/jotham/projects/2014-12-20_datascibowl/data/datascibowl/train/invertebrate_larvae_other_A"
       ]
      },
      {
       "output_type": "stream",
       "stream": "stdout",
       "text": [
        "\n",
        "Reading files from /home/jotham/projects/2014-12-20_datascibowl/data/datascibowl/train/protist_dark_center\n",
        "Reading files from /home/jotham/projects/2014-12-20_datascibowl/data/datascibowl/train/ctenophore_cestid"
       ]
      },
      {
       "output_type": "stream",
       "stream": "stdout",
       "text": [
        "\n",
        "Reading files from /home/jotham/projects/2014-12-20_datascibowl/data/datascibowl/train/trichodesmium_tuft"
       ]
      },
      {
       "output_type": "stream",
       "stream": "stdout",
       "text": [
        "\n",
        "Reading files from /home/jotham/projects/2014-12-20_datascibowl/data/datascibowl/train/detritus_other"
       ]
      },
      {
       "output_type": "stream",
       "stream": "stdout",
       "text": [
        "\n",
        "Reading files from /home/jotham/projects/2014-12-20_datascibowl/data/datascibowl/train/tornaria_acorn_worm_larvae"
       ]
      },
      {
       "output_type": "stream",
       "stream": "stdout",
       "text": [
        "\n",
        "Reading files from /home/jotham/projects/2014-12-20_datascibowl/data/datascibowl/train/hydromedusae_other\n",
        "Reading files from /home/jotham/projects/2014-12-20_datascibowl/data/datascibowl/train/tunicate_salp\n",
        "Reading files from /home/jotham/projects/2014-12-20_datascibowl/data/datascibowl/train/shrimp_caridean"
       ]
      },
      {
       "output_type": "stream",
       "stream": "stdout",
       "text": [
        "\n",
        "Reading files from /home/jotham/projects/2014-12-20_datascibowl/data/datascibowl/train/copepod_cyclopoid_oithona\n",
        "Reading files from /home/jotham/projects/2014-12-20_datascibowl/data/datascibowl/train/hydromedusae_sideview_big"
       ]
      },
      {
       "output_type": "stream",
       "stream": "stdout",
       "text": [
        "\n",
        "Reading files from /home/jotham/projects/2014-12-20_datascibowl/data/datascibowl/train/trochophore_larvae\n",
        "Reading files from /home/jotham/projects/2014-12-20_datascibowl/data/datascibowl/train/artifacts"
       ]
      },
      {
       "output_type": "stream",
       "stream": "stdout",
       "text": [
        "\n",
        "Reading files from /home/jotham/projects/2014-12-20_datascibowl/data/datascibowl/train/acantharia_protist"
       ]
      },
      {
       "output_type": "stream",
       "stream": "stdout",
       "text": [
        "\n",
        "Reading files from /home/jotham/projects/2014-12-20_datascibowl/data/datascibowl/train/ctenophore_lobate"
       ]
      },
      {
       "output_type": "stream",
       "stream": "stdout",
       "text": [
        "\n",
        "Reading files from /home/jotham/projects/2014-12-20_datascibowl/data/datascibowl/train/copepod_calanoid_eucalanus\n",
        "Reading files from /home/jotham/projects/2014-12-20_datascibowl/data/datascibowl/train/siphonophore_calycophoran_sphaeronectes_young"
       ]
      },
      {
       "output_type": "stream",
       "stream": "stdout",
       "text": [
        "\n",
        "Reading files from /home/jotham/projects/2014-12-20_datascibowl/data/datascibowl/train/fish_larvae_myctophids"
       ]
      },
      {
       "output_type": "stream",
       "stream": "stdout",
       "text": [
        "\n",
        "Reading files from /home/jotham/projects/2014-12-20_datascibowl/data/datascibowl/train/echinoderm_larva_pluteus_early"
       ]
      },
      {
       "output_type": "stream",
       "stream": "stdout",
       "text": [
        "\n",
        "Reading files from /home/jotham/projects/2014-12-20_datascibowl/data/datascibowl/train/hydromedusae_aglaura"
       ]
      },
      {
       "output_type": "stream",
       "stream": "stdout",
       "text": [
        "\n",
        "Reading files from /home/jotham/projects/2014-12-20_datascibowl/data/datascibowl/train/echinoderm_larva_pluteus_urchin"
       ]
      },
      {
       "output_type": "stream",
       "stream": "stdout",
       "text": [
        "\n",
        "Reading files from /home/jotham/projects/2014-12-20_datascibowl/data/datascibowl/train/tunicate_partial"
       ]
      },
      {
       "output_type": "stream",
       "stream": "stdout",
       "text": [
        "\n",
        "Reading files from /home/jotham/projects/2014-12-20_datascibowl/data/datascibowl/train/pteropod_triangle"
       ]
      },
      {
       "output_type": "stream",
       "stream": "stdout",
       "text": [
        "\n",
        "Reading files from /home/jotham/projects/2014-12-20_datascibowl/data/datascibowl/train/echinoderm_seacucumber_auricularia_larva\n",
        "Reading files from /home/jotham/projects/2014-12-20_datascibowl/data/datascibowl/train/hydromedusae_typeD"
       ]
      },
      {
       "output_type": "stream",
       "stream": "stdout",
       "text": [
        "\n",
        "Reading files from /home/jotham/projects/2014-12-20_datascibowl/data/datascibowl/train/siphonophore_calycophoran_sphaeronectes\n",
        "Reading files from /home/jotham/projects/2014-12-20_datascibowl/data/datascibowl/train/chordate_type1"
       ]
      },
      {
       "output_type": "stream",
       "stream": "stdout",
       "text": [
        "\n",
        "Reading files from /home/jotham/projects/2014-12-20_datascibowl/data/datascibowl/train/trichodesmium_multiple\n",
        "Reading files from /home/jotham/projects/2014-12-20_datascibowl/data/datascibowl/train/appendicularian_straight"
       ]
      },
      {
       "output_type": "stream",
       "stream": "stdout",
       "text": [
        "\n",
        "Reading files from /home/jotham/projects/2014-12-20_datascibowl/data/datascibowl/train/appendicularian_slight_curve"
       ]
      },
      {
       "output_type": "stream",
       "stream": "stdout",
       "text": [
        "\n",
        "Reading files from /home/jotham/projects/2014-12-20_datascibowl/data/datascibowl/train/hydromedusae_typeF"
       ]
      },
      {
       "output_type": "stream",
       "stream": "stdout",
       "text": [
        "\n",
        "Reading files from /home/jotham/projects/2014-12-20_datascibowl/data/datascibowl/train/fecal_pellet\n",
        "Reading files from /home/jotham/projects/2014-12-20_datascibowl/data/datascibowl/train/hydromedusae_narco_dark"
       ]
      },
      {
       "output_type": "stream",
       "stream": "stdout",
       "text": [
        "\n",
        "Reading files from /home/jotham/projects/2014-12-20_datascibowl/data/datascibowl/train/shrimp-like_other\n",
        "Reading files from /home/jotham/projects/2014-12-20_datascibowl/data/datascibowl/train/diatom_chain_string"
       ]
      },
      {
       "output_type": "stream",
       "stream": "stdout",
       "text": [
        "\n",
        "Reading files from /home/jotham/projects/2014-12-20_datascibowl/data/datascibowl/train/fish_larvae_very_thin_body"
       ]
      },
      {
       "output_type": "stream",
       "stream": "stdout",
       "text": [
        "\n",
        "Reading files from /home/jotham/projects/2014-12-20_datascibowl/data/datascibowl/train/detritus_filamentous\n",
        "Reading files from /home/jotham/projects/2014-12-20_datascibowl/data/datascibowl/train/amphipods"
       ]
      },
      {
       "output_type": "stream",
       "stream": "stdout",
       "text": [
        "\n",
        "Reading files from /home/jotham/projects/2014-12-20_datascibowl/data/datascibowl/train/siphonophore_other_parts\n",
        "Reading files from /home/jotham/projects/2014-12-20_datascibowl/data/datascibowl/train/trichodesmium_bowtie\n",
        "Reading files from /home/jotham/projects/2014-12-20_datascibowl/data/datascibowl/train/siphonophore_physonect"
       ]
      },
      {
       "output_type": "stream",
       "stream": "stdout",
       "text": [
        "\n",
        "Reading files from /home/jotham/projects/2014-12-20_datascibowl/data/datascibowl/train/chaetognath_other"
       ]
      },
      {
       "output_type": "stream",
       "stream": "stdout",
       "text": [
        "\n",
        "Reading files from /home/jotham/projects/2014-12-20_datascibowl/data/datascibowl/train/pteropod_butterfly"
       ]
      },
      {
       "output_type": "stream",
       "stream": "stdout",
       "text": [
        "\n",
        "Reading files from /home/jotham/projects/2014-12-20_datascibowl/data/datascibowl/train/tunicate_salp_chains"
       ]
      },
      {
       "output_type": "stream",
       "stream": "stdout",
       "text": [
        "\n",
        "Reading files from /home/jotham/projects/2014-12-20_datascibowl/data/datascibowl/train/copepod_calanoid_eggs"
       ]
      },
      {
       "output_type": "stream",
       "stream": "stdout",
       "text": [
        "\n",
        "Reading files from /home/jotham/projects/2014-12-20_datascibowl/data/datascibowl/train/euphausiids"
       ]
      },
      {
       "output_type": "stream",
       "stream": "stdout",
       "text": [
        "\n",
        "Reading files from /home/jotham/projects/2014-12-20_datascibowl/data/datascibowl/train/copepod_other"
       ]
      },
      {
       "output_type": "stream",
       "stream": "stdout",
       "text": [
        "\n",
        "Reading files from /home/jotham/projects/2014-12-20_datascibowl/data/datascibowl/train/shrimp_zoea\n",
        "Reading files from /home/jotham/projects/2014-12-20_datascibowl/data/datascibowl/train/tunicate_doliolid_nurse"
       ]
      },
      {
       "output_type": "stream",
       "stream": "stdout",
       "text": [
        "\n",
        "Reading files from /home/jotham/projects/2014-12-20_datascibowl/data/datascibowl/train/copepod_calanoid_flatheads"
       ]
      },
      {
       "output_type": "stream",
       "stream": "stdout",
       "text": [
        "\n",
        "Reading files from /home/jotham/projects/2014-12-20_datascibowl/data/datascibowl/train/siphonophore_calycophoran_rocketship_adult"
       ]
      },
      {
       "output_type": "stream",
       "stream": "stdout",
       "text": [
        "\n",
        "Reading files from /home/jotham/projects/2014-12-20_datascibowl/data/datascibowl/train/ephyra"
       ]
      },
      {
       "output_type": "stream",
       "stream": "stdout",
       "text": [
        "\n",
        "Reading files from /home/jotham/projects/2014-12-20_datascibowl/data/datascibowl/train/copepod_calanoid\n",
        "Reading files from /home/jotham/projects/2014-12-20_datascibowl/data/datascibowl/train/fish_larvae_thin_body"
       ]
      },
      {
       "output_type": "stream",
       "stream": "stdout",
       "text": [
        "\n",
        "Reading files from /home/jotham/projects/2014-12-20_datascibowl/data/datascibowl/train/radiolarian_chain\n",
        "Reading files from /home/jotham/projects/2014-12-20_datascibowl/data/datascibowl/train/hydromedusae_shapeA_sideview_small"
       ]
      },
      {
       "output_type": "stream",
       "stream": "stdout",
       "text": [
        "\n",
        "Reading files from /home/jotham/projects/2014-12-20_datascibowl/data/datascibowl/train/fish_larvae_leptocephali"
       ]
      },
      {
       "output_type": "stream",
       "stream": "stdout",
       "text": [
        "\n",
        "Reading files from /home/jotham/projects/2014-12-20_datascibowl/data/datascibowl/train/hydromedusae_haliscera_small_sideview\n",
        "Reading files from /home/jotham/projects/2014-12-20_datascibowl/data/datascibowl/train/acantharia_protist_halo\n",
        "Reading files from /home/jotham/projects/2014-12-20_datascibowl/data/datascibowl/train/stomatopod"
       ]
      },
      {
       "output_type": "stream",
       "stream": "stdout",
       "text": [
        "\n",
        "Reading files from /home/jotham/projects/2014-12-20_datascibowl/data/datascibowl/train/protist_star\n",
        "Reading files from /home/jotham/projects/2014-12-20_datascibowl/data/datascibowl/train/protist_noctiluca"
       ]
      },
      {
       "output_type": "stream",
       "stream": "stdout",
       "text": [
        "\n",
        "Reading files from /home/jotham/projects/2014-12-20_datascibowl/data/datascibowl/train/copepod_cyclopoid_oithona_eggs"
       ]
      },
      {
       "output_type": "stream",
       "stream": "stdout",
       "text": [
        "\n",
        "Reading files from /home/jotham/projects/2014-12-20_datascibowl/data/datascibowl/train/echinoderm_larva_pluteus_typeC"
       ]
      },
      {
       "output_type": "stream",
       "stream": "stdout",
       "text": [
        "\n",
        "Reading files from /home/jotham/projects/2014-12-20_datascibowl/data/datascibowl/train/jellies_tentacles"
       ]
      },
      {
       "output_type": "stream",
       "stream": "stdout",
       "text": [
        "\n",
        "Reading files from /home/jotham/projects/2014-12-20_datascibowl/data/datascibowl/train/siphonophore_physonect_young"
       ]
      },
      {
       "output_type": "stream",
       "stream": "stdout",
       "text": [
        "\n",
        "Reading files from /home/jotham/projects/2014-12-20_datascibowl/data/datascibowl/train/detritus_blob\n",
        "Reading files from /home/jotham/projects/2014-12-20_datascibowl/data/datascibowl/train/unknown_unclassified"
       ]
      },
      {
       "output_type": "stream",
       "stream": "stdout",
       "text": [
        "\n",
        "Reading files from /home/jotham/projects/2014-12-20_datascibowl/data/datascibowl/train/unknown_sticks"
       ]
      },
      {
       "output_type": "stream",
       "stream": "stdout",
       "text": [
        "\n",
        "Reading files from /home/jotham/projects/2014-12-20_datascibowl/data/datascibowl/train/siphonophore_calycophoran_sphaeronectes_stem"
       ]
      },
      {
       "output_type": "stream",
       "stream": "stdout",
       "text": [
        "\n",
        "Reading files from /home/jotham/projects/2014-12-20_datascibowl/data/datascibowl/train/echinopluteus\n",
        "Reading files from /home/jotham/projects/2014-12-20_datascibowl/data/datascibowl/train/heteropod"
       ]
      },
      {
       "output_type": "stream",
       "stream": "stdout",
       "text": [
        "\n",
        "Reading files from /home/jotham/projects/2014-12-20_datascibowl/data/datascibowl/train/unknown_blobs_and_smudges\n",
        "Reading files from /home/jotham/projects/2014-12-20_datascibowl/data/datascibowl/train/echinoderm_larva_seastar_bipinnaria"
       ]
      },
      {
       "output_type": "stream",
       "stream": "stdout",
       "text": [
        "\n",
        "Reading files from /home/jotham/projects/2014-12-20_datascibowl/data/datascibowl/train/echinoderm_larva_seastar_brachiolaria"
       ]
      },
      {
       "output_type": "stream",
       "stream": "stdout",
       "text": [
        "\n",
        "Reading files from /home/jotham/projects/2014-12-20_datascibowl/data/datascibowl/train/copepod_cyclopoid_copilia"
       ]
      },
      {
       "output_type": "stream",
       "stream": "stdout",
       "text": [
        "\n",
        "Reading files from /home/jotham/projects/2014-12-20_datascibowl/data/datascibowl/train/chaetognath_non_sagitta\n",
        "Reading files from /home/jotham/projects/2014-12-20_datascibowl/data/datascibowl/train/tunicate_doliolid"
       ]
      },
      {
       "output_type": "stream",
       "stream": "stdout",
       "text": [
        "\n",
        "Reading files from /home/jotham/projects/2014-12-20_datascibowl/data/datascibowl/train/hydromedusae_liriope"
       ]
      },
      {
       "output_type": "stream",
       "stream": "stdout",
       "text": [
        "\n",
        "Reading files from /home/jotham/projects/2014-12-20_datascibowl/data/datascibowl/train/ctenophore_cydippid_tentacles\n",
        "Reading files from /home/jotham/projects/2014-12-20_datascibowl/data/datascibowl/train/siphonophore_calycophoran_rocketship_young"
       ]
      },
      {
       "output_type": "stream",
       "stream": "stdout",
       "text": [
        "\n",
        "Reading files from /home/jotham/projects/2014-12-20_datascibowl/data/datascibowl/train/copepod_calanoid_large_side_antennatucked"
       ]
      },
      {
       "output_type": "stream",
       "stream": "stdout",
       "text": [
        "\n",
        "Reading files from /home/jotham/projects/2014-12-20_datascibowl/data/datascibowl/train/fish_larvae_deep_body"
       ]
      },
      {
       "output_type": "stream",
       "stream": "stdout",
       "text": [
        "\n",
        "Reading files from /home/jotham/projects/2014-12-20_datascibowl/data/datascibowl/train/ctenophore_cydippid_no_tentacles\n",
        "Reading files from /home/jotham/projects/2014-12-20_datascibowl/data/datascibowl/train/hydromedusae_solmundella\n",
        "Reading files from /home/jotham/projects/2014-12-20_datascibowl/data/datascibowl/train/trichodesmium_puff"
       ]
      },
      {
       "output_type": "stream",
       "stream": "stdout",
       "text": [
        "\n",
        "Reading files from /home/jotham/projects/2014-12-20_datascibowl/data/datascibowl/train/hydromedusae_partial_dark"
       ]
      },
      {
       "output_type": "stream",
       "stream": "stdout",
       "text": [
        "\n",
        "Reading files from /home/jotham/projects/2014-12-20_datascibowl/data/datascibowl/train/hydromedusae_narco_young"
       ]
      },
      {
       "output_type": "stream",
       "stream": "stdout",
       "text": [
        "\n",
        "Reading files from /home/jotham/projects/2014-12-20_datascibowl/data/datascibowl/train/polychaete"
       ]
      },
      {
       "output_type": "stream",
       "stream": "stdout",
       "text": [
        "\n",
        "Reading files from /home/jotham/projects/2014-12-20_datascibowl/data/datascibowl/train/protist_other"
       ]
      },
      {
       "output_type": "stream",
       "stream": "stdout",
       "text": [
        "\n",
        "Reading files from /home/jotham/projects/2014-12-20_datascibowl/data/datascibowl/train/copepod_calanoid_octomoms"
       ]
      },
      {
       "output_type": "stream",
       "stream": "stdout",
       "text": [
        "\n",
        "Reading files from /home/jotham/projects/2014-12-20_datascibowl/data/datascibowl/train/acantharia_protist_big_center\n",
        "Reading files from /home/jotham/projects/2014-12-20_datascibowl/data/datascibowl/train/diatom_chain_tube\n",
        "Reading files from /home/jotham/projects/2014-12-20_datascibowl/data/datascibowl/train/fish_larvae_medium_body"
       ]
      },
      {
       "output_type": "stream",
       "stream": "stdout",
       "text": [
        "\n",
        "Reading files from /home/jotham/projects/2014-12-20_datascibowl/data/datascibowl/train/shrimp_sergestidae"
       ]
      },
      {
       "output_type": "stream",
       "stream": "stdout",
       "text": [
        "\n",
        "Reading files from /home/jotham/projects/2014-12-20_datascibowl/data/datascibowl/train/pteropod_theco_dev_seq"
       ]
      },
      {
       "output_type": "stream",
       "stream": "stdout",
       "text": [
        "\n",
        "Reading files from /home/jotham/projects/2014-12-20_datascibowl/data/datascibowl/train/siphonophore_partial\n",
        "Reading files from /home/jotham/projects/2014-12-20_datascibowl/data/datascibowl/train/protist_fuzzy_olive\n",
        "Reading files from /home/jotham/projects/2014-12-20_datascibowl/data/datascibowl/train/appendicularian_fritillaridae"
       ]
      },
      {
       "output_type": "stream",
       "stream": "stdout",
       "text": [
        "\n",
        "Reading files from /home/jotham/projects/2014-12-20_datascibowl/data/datascibowl/train/radiolarian_colony\n",
        "topo_view.shape: (30336, 32, 32, 1)"
       ]
      },
      {
       "output_type": "stream",
       "stream": "stdout",
       "text": [
        "\n",
        "NAs: 0\n",
        "Swapping 0 and 24158\n",
        "Swapping 1000 and 507\n",
        "Swapping 2000 and 10329\n",
        "Swapping 3000 and 12566\n",
        "Swapping 4000 and 5782"
       ]
      },
      {
       "output_type": "stream",
       "stream": "stdout",
       "text": [
        "\n",
        "Swapping 5000 and 14421\n",
        "Swapping 6000 and 25855\n",
        "Swapping 7000 and 19226\n",
        "Swapping 8000 and 5480\n",
        "Swapping 9000 and 14824\n",
        "Swapping 10000 and 7481\n",
        "Swapping 11000 and 4899"
       ]
      },
      {
       "output_type": "stream",
       "stream": "stdout",
       "text": [
        "\n",
        "Swapping 12000 and 547\n",
        "Swapping 13000 and 17117\n",
        "Swapping 14000 and 15848\n",
        "Swapping 15000 and 26705\n",
        "Swapping 16000 and 11752\n",
        "Swapping 17000 and 13157\n",
        "Swapping 18000 and 19743"
       ]
      },
      {
       "output_type": "stream",
       "stream": "stdout",
       "text": [
        "\n",
        "Swapping 19000 and 29262\n",
        "Swapping 20000 and 10984\n",
        "Swapping 21000 and 9312\n",
        "Swapping 22000 and 14681\n",
        "Swapping 23000 and 22392\n",
        "Swapping 24000 and 8749\n",
        "Swapping 25000 and 14310"
       ]
      },
      {
       "output_type": "stream",
       "stream": "stdout",
       "text": [
        "\n",
        "Swapping 26000 and 223\n",
        "Swapping 27000 and 9727\n",
        "Swapping 28000 and 13098\n",
        "Swapping 29000 and 4946\n",
        "Swapping 30000 and 19434\n",
        "Parameter and initial learning rate summary:\n"
       ]
      },
      {
       "output_type": "stream",
       "stream": "stderr",
       "text": [
        "/home/jotham/projects/2014-12-20_datascibowl/pylearn2_fork/pylearn2/costs/mlp/__init__.py:104: UserWarning: Coefficients should be given as a dictionary with layer names as key. The support of coefficients as list would be deprecated from 03/06/2015\n",
        "  warnings.warn(\"Coefficients should be given as a dictionary \"\n"
       ]
      },
      {
       "output_type": "stream",
       "stream": "stdout",
       "text": [
        "\th2_W: 0.00999999977648\n"
       ]
      },
      {
       "output_type": "stream",
       "stream": "stdout",
       "text": [
        "\th2_b: 0.00999999977648\n"
       ]
      },
      {
       "output_type": "stream",
       "stream": "stdout",
       "text": [
        "\th3_W: 0.00999999977648\n"
       ]
      },
      {
       "output_type": "stream",
       "stream": "stdout",
       "text": [
        "\th3_b: 0.00999999977648\n"
       ]
      },
      {
       "output_type": "stream",
       "stream": "stdout",
       "text": [
        "\tsoftmax_b: 0.00999999977648\n"
       ]
      },
      {
       "output_type": "stream",
       "stream": "stdout",
       "text": [
        "\tsoftmax_W: 0.00999999977648\n"
       ]
      },
      {
       "output_type": "stream",
       "stream": "stdout",
       "text": [
        "Compiling sgd_update...\n"
       ]
      },
      {
       "output_type": "stream",
       "stream": "stderr",
       "text": [
        "/home/jotham/projects/2014-12-20_datascibowl/pylearn2_fork/pylearn2/utils/iteration.py:783: UserWarning: dataset is using the old iterator interface which is deprecated and will become officially unsupported as of July 28, 2015. The dataset should implement a `get` method respecting the new interface.\n",
        "  warnings.warn(\"dataset is using the old iterator interface which \"\n"
       ]
      },
      {
       "output_type": "stream",
       "stream": "stdout",
       "text": [
        "Compiling sgd_update done. Time elapsed: 15.245195 seconds\n"
       ]
      },
      {
       "output_type": "stream",
       "stream": "stderr",
       "text": [
        "/home/jotham/venvs/2014-12-20_datascibowl/lib/python2.7/site-packages/theano/tensor/subtensor.py:110: FutureWarning: comparison to `None` will result in an elementwise object comparison in the future.\n",
        "  start in [None, 0] or\n",
        "/home/jotham/venvs/2014-12-20_datascibowl/lib/python2.7/site-packages/theano/tensor/subtensor.py:114: FutureWarning: comparison to `None` will result in an elementwise object comparison in the future.\n",
        "  stop in [None, length, maxsize] or\n"
       ]
      },
      {
       "output_type": "stream",
       "stream": "stdout",
       "text": [
        "compiling begin_record_entry...\n"
       ]
      },
      {
       "output_type": "stream",
       "stream": "stdout",
       "text": [
        "compiling begin_record_entry done. Time elapsed: 0.312843 seconds\n"
       ]
      },
      {
       "output_type": "stream",
       "stream": "stdout",
       "text": [
        "Monitored channels: \n"
       ]
      },
      {
       "output_type": "stream",
       "stream": "stdout",
       "text": [
        "\tlearning_rate\n"
       ]
      },
      {
       "output_type": "stream",
       "stream": "stdout",
       "text": [
        "\tmomentum\n"
       ]
      },
      {
       "output_type": "stream",
       "stream": "stdout",
       "text": [
        "\ttotal_seconds_last_epoch\n"
       ]
      },
      {
       "output_type": "stream",
       "stream": "stdout",
       "text": [
        "\ttrain_h2_kernel_norms_max\n"
       ]
      },
      {
       "output_type": "stream",
       "stream": "stdout",
       "text": [
        "\ttrain_h2_kernel_norms_mean\n"
       ]
      },
      {
       "output_type": "stream",
       "stream": "stdout",
       "text": [
        "\ttrain_h2_kernel_norms_min\n"
       ]
      },
      {
       "output_type": "stream",
       "stream": "stdout",
       "text": [
        "\ttrain_h2_max_x_max_u\n"
       ]
      },
      {
       "output_type": "stream",
       "stream": "stdout",
       "text": [
        "\ttrain_h2_max_x_mean_u\n"
       ]
      },
      {
       "output_type": "stream",
       "stream": "stdout",
       "text": [
        "\ttrain_h2_max_x_min_u\n"
       ]
      },
      {
       "output_type": "stream",
       "stream": "stdout",
       "text": [
        "\ttrain_h2_mean_x_max_u\n"
       ]
      },
      {
       "output_type": "stream",
       "stream": "stdout",
       "text": [
        "\ttrain_h2_mean_x_mean_u\n"
       ]
      },
      {
       "output_type": "stream",
       "stream": "stdout",
       "text": [
        "\ttrain_h2_mean_x_min_u\n"
       ]
      },
      {
       "output_type": "stream",
       "stream": "stdout",
       "text": [
        "\ttrain_h2_min_x_max_u\n"
       ]
      },
      {
       "output_type": "stream",
       "stream": "stdout",
       "text": [
        "\ttrain_h2_min_x_mean_u\n"
       ]
      },
      {
       "output_type": "stream",
       "stream": "stdout",
       "text": [
        "\ttrain_h2_min_x_min_u\n"
       ]
      },
      {
       "output_type": "stream",
       "stream": "stdout",
       "text": [
        "\ttrain_h2_range_x_max_u\n"
       ]
      },
      {
       "output_type": "stream",
       "stream": "stdout",
       "text": [
        "\ttrain_h2_range_x_mean_u\n"
       ]
      },
      {
       "output_type": "stream",
       "stream": "stdout",
       "text": [
        "\ttrain_h2_range_x_min_u\n"
       ]
      },
      {
       "output_type": "stream",
       "stream": "stdout",
       "text": [
        "\ttrain_h3_kernel_norms_max\n"
       ]
      },
      {
       "output_type": "stream",
       "stream": "stdout",
       "text": [
        "\ttrain_h3_kernel_norms_mean\n"
       ]
      },
      {
       "output_type": "stream",
       "stream": "stdout",
       "text": [
        "\ttrain_h3_kernel_norms_min\n"
       ]
      },
      {
       "output_type": "stream",
       "stream": "stdout",
       "text": [
        "\ttrain_h3_max_x_max_u\n"
       ]
      },
      {
       "output_type": "stream",
       "stream": "stdout",
       "text": [
        "\ttrain_h3_max_x_mean_u\n"
       ]
      },
      {
       "output_type": "stream",
       "stream": "stdout",
       "text": [
        "\ttrain_h3_max_x_min_u\n"
       ]
      },
      {
       "output_type": "stream",
       "stream": "stdout",
       "text": [
        "\ttrain_h3_mean_x_max_u\n"
       ]
      },
      {
       "output_type": "stream",
       "stream": "stdout",
       "text": [
        "\ttrain_h3_mean_x_mean_u\n"
       ]
      },
      {
       "output_type": "stream",
       "stream": "stdout",
       "text": [
        "\ttrain_h3_mean_x_min_u\n"
       ]
      },
      {
       "output_type": "stream",
       "stream": "stdout",
       "text": [
        "\ttrain_h3_min_x_max_u\n"
       ]
      },
      {
       "output_type": "stream",
       "stream": "stdout",
       "text": [
        "\ttrain_h3_min_x_mean_u\n"
       ]
      },
      {
       "output_type": "stream",
       "stream": "stdout",
       "text": [
        "\ttrain_h3_min_x_min_u\n"
       ]
      },
      {
       "output_type": "stream",
       "stream": "stdout",
       "text": [
        "\ttrain_h3_range_x_max_u\n"
       ]
      },
      {
       "output_type": "stream",
       "stream": "stdout",
       "text": [
        "\ttrain_h3_range_x_mean_u\n"
       ]
      },
      {
       "output_type": "stream",
       "stream": "stdout",
       "text": [
        "\ttrain_h3_range_x_min_u\n"
       ]
      },
      {
       "output_type": "stream",
       "stream": "stdout",
       "text": [
        "\ttrain_objective\n"
       ]
      },
      {
       "output_type": "stream",
       "stream": "stdout",
       "text": [
        "\ttrain_term_0\n"
       ]
      },
      {
       "output_type": "stream",
       "stream": "stdout",
       "text": [
        "\ttrain_term_1_weight_decay\n"
       ]
      },
      {
       "output_type": "stream",
       "stream": "stdout",
       "text": [
        "\ttrain_y_col_norms_max\n"
       ]
      },
      {
       "output_type": "stream",
       "stream": "stdout",
       "text": [
        "\ttrain_y_col_norms_mean\n"
       ]
      },
      {
       "output_type": "stream",
       "stream": "stdout",
       "text": [
        "\ttrain_y_col_norms_min\n"
       ]
      },
      {
       "output_type": "stream",
       "stream": "stdout",
       "text": [
        "\ttrain_y_max_max_class\n"
       ]
      },
      {
       "output_type": "stream",
       "stream": "stdout",
       "text": [
        "\ttrain_y_mean_max_class\n"
       ]
      },
      {
       "output_type": "stream",
       "stream": "stdout",
       "text": [
        "\ttrain_y_min_max_class\n"
       ]
      },
      {
       "output_type": "stream",
       "stream": "stdout",
       "text": [
        "\ttrain_y_misclass\n"
       ]
      },
      {
       "output_type": "stream",
       "stream": "stdout",
       "text": [
        "\ttrain_y_nll\n"
       ]
      },
      {
       "output_type": "stream",
       "stream": "stdout",
       "text": [
        "\ttrain_y_row_norms_max\n"
       ]
      },
      {
       "output_type": "stream",
       "stream": "stdout",
       "text": [
        "\ttrain_y_row_norms_mean\n"
       ]
      },
      {
       "output_type": "stream",
       "stream": "stdout",
       "text": [
        "\ttrain_y_row_norms_min\n"
       ]
      },
      {
       "output_type": "stream",
       "stream": "stdout",
       "text": [
        "\ttraining_seconds_this_epoch\n"
       ]
      },
      {
       "output_type": "stream",
       "stream": "stdout",
       "text": [
        "\tvalid_h2_kernel_norms_max\n"
       ]
      },
      {
       "output_type": "stream",
       "stream": "stdout",
       "text": [
        "\tvalid_h2_kernel_norms_mean\n"
       ]
      },
      {
       "output_type": "stream",
       "stream": "stdout",
       "text": [
        "\tvalid_h2_kernel_norms_min\n"
       ]
      },
      {
       "output_type": "stream",
       "stream": "stdout",
       "text": [
        "\tvalid_h2_max_x_max_u\n"
       ]
      },
      {
       "output_type": "stream",
       "stream": "stdout",
       "text": [
        "\tvalid_h2_max_x_mean_u\n"
       ]
      },
      {
       "output_type": "stream",
       "stream": "stdout",
       "text": [
        "\tvalid_h2_max_x_min_u\n"
       ]
      },
      {
       "output_type": "stream",
       "stream": "stdout",
       "text": [
        "\tvalid_h2_mean_x_max_u\n"
       ]
      },
      {
       "output_type": "stream",
       "stream": "stdout",
       "text": [
        "\tvalid_h2_mean_x_mean_u\n"
       ]
      },
      {
       "output_type": "stream",
       "stream": "stdout",
       "text": [
        "\tvalid_h2_mean_x_min_u\n"
       ]
      },
      {
       "output_type": "stream",
       "stream": "stdout",
       "text": [
        "\tvalid_h2_min_x_max_u\n"
       ]
      },
      {
       "output_type": "stream",
       "stream": "stdout",
       "text": [
        "\tvalid_h2_min_x_mean_u\n"
       ]
      },
      {
       "output_type": "stream",
       "stream": "stdout",
       "text": [
        "\tvalid_h2_min_x_min_u\n"
       ]
      },
      {
       "output_type": "stream",
       "stream": "stdout",
       "text": [
        "\tvalid_h2_range_x_max_u\n"
       ]
      },
      {
       "output_type": "stream",
       "stream": "stdout",
       "text": [
        "\tvalid_h2_range_x_mean_u\n"
       ]
      },
      {
       "output_type": "stream",
       "stream": "stdout",
       "text": [
        "\tvalid_h2_range_x_min_u\n"
       ]
      },
      {
       "output_type": "stream",
       "stream": "stdout",
       "text": [
        "\tvalid_h3_kernel_norms_max\n"
       ]
      },
      {
       "output_type": "stream",
       "stream": "stdout",
       "text": [
        "\tvalid_h3_kernel_norms_mean\n"
       ]
      },
      {
       "output_type": "stream",
       "stream": "stdout",
       "text": [
        "\tvalid_h3_kernel_norms_min\n"
       ]
      },
      {
       "output_type": "stream",
       "stream": "stdout",
       "text": [
        "\tvalid_h3_max_x_max_u\n"
       ]
      },
      {
       "output_type": "stream",
       "stream": "stdout",
       "text": [
        "\tvalid_h3_max_x_mean_u\n"
       ]
      },
      {
       "output_type": "stream",
       "stream": "stdout",
       "text": [
        "\tvalid_h3_max_x_min_u\n"
       ]
      },
      {
       "output_type": "stream",
       "stream": "stdout",
       "text": [
        "\tvalid_h3_mean_x_max_u\n"
       ]
      },
      {
       "output_type": "stream",
       "stream": "stdout",
       "text": [
        "\tvalid_h3_mean_x_mean_u\n"
       ]
      },
      {
       "output_type": "stream",
       "stream": "stdout",
       "text": [
        "\tvalid_h3_mean_x_min_u\n"
       ]
      },
      {
       "output_type": "stream",
       "stream": "stdout",
       "text": [
        "\tvalid_h3_min_x_max_u\n"
       ]
      },
      {
       "output_type": "stream",
       "stream": "stdout",
       "text": [
        "\tvalid_h3_min_x_mean_u\n"
       ]
      },
      {
       "output_type": "stream",
       "stream": "stdout",
       "text": [
        "\tvalid_h3_min_x_min_u\n"
       ]
      },
      {
       "output_type": "stream",
       "stream": "stdout",
       "text": [
        "\tvalid_h3_range_x_max_u\n"
       ]
      },
      {
       "output_type": "stream",
       "stream": "stdout",
       "text": [
        "\tvalid_h3_range_x_mean_u\n"
       ]
      },
      {
       "output_type": "stream",
       "stream": "stdout",
       "text": [
        "\tvalid_h3_range_x_min_u\n"
       ]
      },
      {
       "output_type": "stream",
       "stream": "stdout",
       "text": [
        "\tvalid_objective\n"
       ]
      },
      {
       "output_type": "stream",
       "stream": "stdout",
       "text": [
        "\tvalid_term_0\n"
       ]
      },
      {
       "output_type": "stream",
       "stream": "stdout",
       "text": [
        "\tvalid_term_1_weight_decay\n"
       ]
      },
      {
       "output_type": "stream",
       "stream": "stdout",
       "text": [
        "\tvalid_y_col_norms_max\n"
       ]
      },
      {
       "output_type": "stream",
       "stream": "stdout",
       "text": [
        "\tvalid_y_col_norms_mean\n"
       ]
      },
      {
       "output_type": "stream",
       "stream": "stdout",
       "text": [
        "\tvalid_y_col_norms_min\n"
       ]
      },
      {
       "output_type": "stream",
       "stream": "stdout",
       "text": [
        "\tvalid_y_max_max_class\n"
       ]
      },
      {
       "output_type": "stream",
       "stream": "stdout",
       "text": [
        "\tvalid_y_mean_max_class\n"
       ]
      },
      {
       "output_type": "stream",
       "stream": "stdout",
       "text": [
        "\tvalid_y_min_max_class\n"
       ]
      },
      {
       "output_type": "stream",
       "stream": "stdout",
       "text": [
        "\tvalid_y_misclass\n"
       ]
      },
      {
       "output_type": "stream",
       "stream": "stdout",
       "text": [
        "\tvalid_y_nll\n"
       ]
      },
      {
       "output_type": "stream",
       "stream": "stdout",
       "text": [
        "\tvalid_y_row_norms_max\n"
       ]
      },
      {
       "output_type": "stream",
       "stream": "stdout",
       "text": [
        "\tvalid_y_row_norms_mean\n"
       ]
      },
      {
       "output_type": "stream",
       "stream": "stdout",
       "text": [
        "\tvalid_y_row_norms_min\n"
       ]
      },
      {
       "output_type": "stream",
       "stream": "stdout",
       "text": [
        "Compiling accum...\n"
       ]
      },
      {
       "output_type": "stream",
       "stream": "stdout",
       "text": [
        "graph size: 569\n"
       ]
      },
      {
       "output_type": "stream",
       "stream": "stdout",
       "text": [
        "graph size: 545\n"
       ]
      },
      {
       "output_type": "stream",
       "stream": "stdout",
       "text": [
        "Compiling accum done. Time elapsed: 5.403056 seconds\n"
       ]
      },
      {
       "output_type": "stream",
       "stream": "stdout",
       "text": [
        "Monitoring step:\n"
       ]
      },
      {
       "output_type": "stream",
       "stream": "stdout",
       "text": [
        "\tEpochs seen: 0\n"
       ]
      },
      {
       "output_type": "stream",
       "stream": "stdout",
       "text": [
        "\tBatches seen: 0\n"
       ]
      },
      {
       "output_type": "stream",
       "stream": "stdout",
       "text": [
        "\tExamples seen: 0\n"
       ]
      },
      {
       "output_type": "stream",
       "stream": "stdout",
       "text": [
        "\tlearning_rate: 0.0100000035018\n"
       ]
      },
      {
       "output_type": "stream",
       "stream": "stdout",
       "text": [
        "\tmomentum: 0.500000655651\n"
       ]
      },
      {
       "output_type": "stream",
       "stream": "stdout",
       "text": [
        "\ttotal_seconds_last_epoch: 0.0\n"
       ]
      },
      {
       "output_type": "stream",
       "stream": "stdout",
       "text": [
        "\ttrain_h2_kernel_norms_max: 0.166490346193\n"
       ]
      },
      {
       "output_type": "stream",
       "stream": "stdout",
       "text": [
        "\ttrain_h2_kernel_norms_mean: 0.141213014722\n"
       ]
      },
      {
       "output_type": "stream",
       "stream": "stdout",
       "text": [
        "\ttrain_h2_kernel_norms_min: 0.121112890542\n"
       ]
      },
      {
       "output_type": "stream",
       "stream": "stdout",
       "text": [
        "\ttrain_h2_max_x_max_u: 0.231716245413\n"
       ]
      },
      {
       "output_type": "stream",
       "stream": "stdout",
       "text": [
        "\ttrain_h2_max_x_mean_u: 0.0846398025751\n"
       ]
      },
      {
       "output_type": "stream",
       "stream": "stdout",
       "text": [
        "\ttrain_h2_max_x_min_u: 0.00966640096158\n"
       ]
      },
      {
       "output_type": "stream",
       "stream": "stdout",
       "text": [
        "\ttrain_h2_mean_x_max_u: 0.0654322430491\n"
       ]
      },
      {
       "output_type": "stream",
       "stream": "stdout",
       "text": [
        "\ttrain_h2_mean_x_mean_u: 0.0186151824892\n"
       ]
      },
      {
       "output_type": "stream",
       "stream": "stdout",
       "text": [
        "\ttrain_h2_mean_x_min_u: 0.00200389907695\n"
       ]
      },
      {
       "output_type": "stream",
       "stream": "stdout",
       "text": [
        "\ttrain_h2_min_x_max_u: 0.00846118386835\n"
       ]
      },
      {
       "output_type": "stream",
       "stream": "stdout",
       "text": [
        "\ttrain_h2_min_x_mean_u: 0.000226775358897\n"
       ]
      },
      {
       "output_type": "stream",
       "stream": "stdout",
       "text": [
        "\ttrain_h2_min_x_min_u: 0.0\n"
       ]
      },
      {
       "output_type": "stream",
       "stream": "stdout",
       "text": [
        "\ttrain_h2_range_x_max_u: 0.231716111302\n"
       ]
      },
      {
       "output_type": "stream",
       "stream": "stdout",
       "text": [
        "\ttrain_h2_range_x_mean_u: 0.0844130069017\n"
       ]
      },
      {
       "output_type": "stream",
       "stream": "stdout",
       "text": [
        "\ttrain_h2_range_x_min_u: 0.00935652945191\n"
       ]
      },
      {
       "output_type": "stream",
       "stream": "stdout",
       "text": [
        "\ttrain_h3_kernel_norms_max: 1.18473422527\n"
       ]
      },
      {
       "output_type": "stream",
       "stream": "stdout",
       "text": [
        "\ttrain_h3_kernel_norms_mean: 1.15763175488\n"
       ]
      },
      {
       "output_type": "stream",
       "stream": "stdout",
       "text": [
        "\ttrain_h3_kernel_norms_min: 1.12533545494\n"
       ]
      },
      {
       "output_type": "stream",
       "stream": "stdout",
       "text": [
        "\ttrain_h3_max_x_max_u: 0.231052964926\n"
       ]
      },
      {
       "output_type": "stream",
       "stream": "stdout",
       "text": [
        "\ttrain_h3_max_x_mean_u: 0.0933150425553\n"
       ]
      },
      {
       "output_type": "stream",
       "stream": "stdout",
       "text": [
        "\ttrain_h3_max_x_min_u: 0.0\n"
       ]
      },
      {
       "output_type": "stream",
       "stream": "stdout",
       "text": [
        "\ttrain_h3_mean_x_max_u: 0.136964783072\n"
       ]
      },
      {
       "output_type": "stream",
       "stream": "stdout",
       "text": [
        "\ttrain_h3_mean_x_mean_u: 0.0360997207463\n"
       ]
      },
      {
       "output_type": "stream",
       "stream": "stdout",
       "text": [
        "\ttrain_h3_mean_x_min_u: 0.0\n"
       ]
      },
      {
       "output_type": "stream",
       "stream": "stdout",
       "text": [
        "\ttrain_h3_min_x_max_u: 0.0691854953766\n"
       ]
      },
      {
       "output_type": "stream",
       "stream": "stdout",
       "text": [
        "\ttrain_h3_min_x_mean_u: 0.0062083681114\n"
       ]
      },
      {
       "output_type": "stream",
       "stream": "stdout",
       "text": [
        "\ttrain_h3_min_x_min_u: 0.0\n"
       ]
      },
      {
       "output_type": "stream",
       "stream": "stdout",
       "text": [
        "\ttrain_h3_range_x_max_u: 0.209218487144\n"
       ]
      },
      {
       "output_type": "stream",
       "stream": "stdout",
       "text": [
        "\ttrain_h3_range_x_mean_u: 0.0871066451073\n"
       ]
      },
      {
       "output_type": "stream",
       "stream": "stdout",
       "text": [
        "\ttrain_h3_range_x_min_u: 0.0\n"
       ]
      },
      {
       "output_type": "stream",
       "stream": "stdout",
       "text": [
        "\ttrain_objective: 4.82959461212\n"
       ]
      },
      {
       "output_type": "stream",
       "stream": "stdout",
       "text": [
        "\ttrain_term_0: 4.80980443954\n"
       ]
      },
      {
       "output_type": "stream",
       "stream": "stdout",
       "text": [
        "\ttrain_term_1_weight_decay: 0.0197893548757\n"
       ]
      },
      {
       "output_type": "stream",
       "stream": "stdout",
       "text": [
        "\ttrain_y_col_norms_max: 1.68210041523\n"
       ]
      },
      {
       "output_type": "stream",
       "stream": "stdout",
       "text": [
        "\ttrain_y_col_norms_mean: 1.59696447849\n"
       ]
      },
      {
       "output_type": "stream",
       "stream": "stdout",
       "text": [
        "\ttrain_y_col_norms_min: 1.49965035915\n"
       ]
      },
      {
       "output_type": "stream",
       "stream": "stdout",
       "text": [
        "\ttrain_y_max_max_class: 0.0124720381573\n"
       ]
      },
      {
       "output_type": "stream",
       "stream": "stdout",
       "text": [
        "\ttrain_y_mean_max_class: 0.0106941908598\n"
       ]
      },
      {
       "output_type": "stream",
       "stream": "stdout",
       "text": [
        "\ttrain_y_min_max_class: 0.00921816378832\n"
       ]
      },
      {
       "output_type": "stream",
       "stream": "stdout",
       "text": [
        "\ttrain_y_misclass: 0.99516171217\n"
       ]
      },
      {
       "output_type": "stream",
       "stream": "stdout",
       "text": [
        "\ttrain_y_nll: 4.80980443954\n"
       ]
      },
      {
       "output_type": "stream",
       "stream": "stdout",
       "text": [
        "\ttrain_y_row_norms_max: 0.65601927042\n"
       ]
      },
      {
       "output_type": "stream",
       "stream": "stdout",
       "text": [
        "\ttrain_y_row_norms_mean: 0.548010587692\n"
       ]
      },
      {
       "output_type": "stream",
       "stream": "stdout",
       "text": [
        "\ttrain_y_row_norms_min: 0.452601999044\n"
       ]
      },
      {
       "output_type": "stream",
       "stream": "stdout",
       "text": [
        "\ttraining_seconds_this_epoch: 0.0\n"
       ]
      },
      {
       "output_type": "stream",
       "stream": "stdout",
       "text": [
        "\tvalid_h2_kernel_norms_max: 0.166489943862\n"
       ]
      },
      {
       "output_type": "stream",
       "stream": "stdout",
       "text": [
        "\tvalid_h2_kernel_norms_mean: 0.141213014722\n"
       ]
      },
      {
       "output_type": "stream",
       "stream": "stdout",
       "text": [
        "\tvalid_h2_kernel_norms_min: 0.121112823486\n"
       ]
      },
      {
       "output_type": "stream",
       "stream": "stdout",
       "text": [
        "\tvalid_h2_max_x_max_u: 0.231461822987\n"
       ]
      },
      {
       "output_type": "stream",
       "stream": "stdout",
       "text": [
        "\tvalid_h2_max_x_mean_u: 0.0838078409433\n"
       ]
      },
      {
       "output_type": "stream",
       "stream": "stdout",
       "text": [
        "\tvalid_h2_max_x_min_u: 0.00924499984831\n"
       ]
      },
      {
       "output_type": "stream",
       "stream": "stdout",
       "text": [
        "\tvalid_h2_mean_x_max_u: 0.0646394565701\n"
       ]
      },
      {
       "output_type": "stream",
       "stream": "stdout",
       "text": [
        "\tvalid_h2_mean_x_mean_u: 0.0184621345252\n"
       ]
      },
      {
       "output_type": "stream",
       "stream": "stdout",
       "text": [
        "\tvalid_h2_mean_x_min_u: 0.00179289048538\n"
       ]
      },
      {
       "output_type": "stream",
       "stream": "stdout",
       "text": [
        "\tvalid_h2_min_x_max_u: 0.00868680141866\n"
       ]
      },
      {
       "output_type": "stream",
       "stream": "stdout",
       "text": [
        "\tvalid_h2_min_x_mean_u: 0.000242207825067\n"
       ]
      },
      {
       "output_type": "stream",
       "stream": "stdout",
       "text": [
        "\tvalid_h2_min_x_min_u: 0.0\n"
       ]
      },
      {
       "output_type": "stream",
       "stream": "stdout",
       "text": [
        "\tvalid_h2_range_x_max_u: 0.231453925371\n"
       ]
      },
      {
       "output_type": "stream",
       "stream": "stdout",
       "text": [
        "\tvalid_h2_range_x_mean_u: 0.0835656300187\n"
       ]
      },
      {
       "output_type": "stream",
       "stream": "stdout",
       "text": [
        "\tvalid_h2_range_x_min_u: 0.0089343637228\n"
       ]
      },
      {
       "output_type": "stream",
       "stream": "stdout",
       "text": [
        "\tvalid_h3_kernel_norms_max: 1.1847370863\n"
       ]
      },
      {
       "output_type": "stream",
       "stream": "stdout",
       "text": [
        "\tvalid_h3_kernel_norms_mean: 1.1576333046\n"
       ]
      },
      {
       "output_type": "stream",
       "stream": "stdout",
       "text": [
        "\tvalid_h3_kernel_norms_min: 1.1253336668\n"
       ]
      },
      {
       "output_type": "stream",
       "stream": "stdout",
       "text": [
        "\tvalid_h3_max_x_max_u: 0.232176333666\n"
       ]
      },
      {
       "output_type": "stream",
       "stream": "stdout",
       "text": [
        "\tvalid_h3_max_x_mean_u: 0.0933707207441\n"
       ]
      },
      {
       "output_type": "stream",
       "stream": "stdout",
       "text": [
        "\tvalid_h3_max_x_min_u: 0.0\n"
       ]
      },
      {
       "output_type": "stream",
       "stream": "stdout",
       "text": [
        "\tvalid_h3_mean_x_max_u: 0.136620804667\n"
       ]
      },
      {
       "output_type": "stream",
       "stream": "stdout",
       "text": [
        "\tvalid_h3_mean_x_mean_u: 0.036112818867\n"
       ]
      },
      {
       "output_type": "stream",
       "stream": "stdout",
       "text": [
        "\tvalid_h3_mean_x_min_u: 0.0\n"
       ]
      },
      {
       "output_type": "stream",
       "stream": "stdout",
       "text": [
        "\tvalid_h3_min_x_max_u: 0.0698350667953\n"
       ]
      },
      {
       "output_type": "stream",
       "stream": "stdout",
       "text": [
        "\tvalid_h3_min_x_mean_u: 0.00620719976723\n"
       ]
      },
      {
       "output_type": "stream",
       "stream": "stdout",
       "text": [
        "\tvalid_h3_min_x_min_u: 0.0\n"
       ]
      },
      {
       "output_type": "stream",
       "stream": "stdout",
       "text": [
        "\tvalid_h3_range_x_max_u: 0.209386184812\n"
       ]
      },
      {
       "output_type": "stream",
       "stream": "stdout",
       "text": [
        "\tvalid_h3_range_x_mean_u: 0.087163515389\n"
       ]
      },
      {
       "output_type": "stream",
       "stream": "stdout",
       "text": [
        "\tvalid_h3_range_x_min_u: 0.0\n"
       ]
      },
      {
       "output_type": "stream",
       "stream": "stdout",
       "text": [
        "\tvalid_objective: 4.832716465\n"
       ]
      },
      {
       "output_type": "stream",
       "stream": "stdout",
       "text": [
        "\tvalid_term_0: 4.81292724609\n"
       ]
      },
      {
       "output_type": "stream",
       "stream": "stdout",
       "text": [
        "\tvalid_term_1_weight_decay: 0.0197893641889\n"
       ]
      },
      {
       "output_type": "stream",
       "stream": "stdout",
       "text": [
        "\tvalid_y_col_norms_max: 1.68209660053\n"
       ]
      },
      {
       "output_type": "stream",
       "stream": "stdout",
       "text": [
        "\tvalid_y_col_norms_mean: 1.59696483612\n"
       ]
      },
      {
       "output_type": "stream",
       "stream": "stdout",
       "text": [
        "\tvalid_y_col_norms_min: 1.49964654446\n"
       ]
      },
      {
       "output_type": "stream",
       "stream": "stdout",
       "text": [
        "\tvalid_y_max_max_class: 0.0125613780692\n"
       ]
      },
      {
       "output_type": "stream",
       "stream": "stdout",
       "text": [
        "\tvalid_y_mean_max_class: 0.0106917042285\n"
       ]
      },
      {
       "output_type": "stream",
       "stream": "stdout",
       "text": [
        "\tvalid_y_min_max_class: 0.00922353565693\n"
       ]
      },
      {
       "output_type": "stream",
       "stream": "stdout",
       "text": [
        "\tvalid_y_misclass: 0.996399819851\n"
       ]
      },
      {
       "output_type": "stream",
       "stream": "stdout",
       "text": [
        "\tvalid_y_nll: 4.81292724609\n"
       ]
      },
      {
       "output_type": "stream",
       "stream": "stdout",
       "text": [
        "\tvalid_y_row_norms_max: 0.656018793583\n"
       ]
      },
      {
       "output_type": "stream",
       "stream": "stdout",
       "text": [
        "\tvalid_y_row_norms_mean: 0.54801005125\n"
       ]
      },
      {
       "output_type": "stream",
       "stream": "stdout",
       "text": [
        "\tvalid_y_row_norms_min: 0.452603012323\n"
       ]
      },
      {
       "output_type": "stream",
       "stream": "stdout",
       "text": [
        "Saving to cnn_00_best.pkl...\n"
       ]
      },
      {
       "output_type": "stream",
       "stream": "stdout",
       "text": [
        "Saving to cnn_00_best.pkl done. Time elapsed: 0.115510 seconds\n"
       ]
      },
      {
       "output_type": "stream",
       "stream": "stdout",
       "text": [
        "Time this epoch: 0:15:08.411646\n"
       ]
      },
      {
       "output_type": "stream",
       "stream": "stdout",
       "text": [
        "Monitoring step:\n"
       ]
      },
      {
       "output_type": "stream",
       "stream": "stdout",
       "text": [
        "\tEpochs seen: 1\n"
       ]
      },
      {
       "output_type": "stream",
       "stream": "stdout",
       "text": [
        "\tBatches seen: 250\n"
       ]
      },
      {
       "output_type": "stream",
       "stream": "stdout",
       "text": [
        "\tExamples seen: 25000\n"
       ]
      },
      {
       "output_type": "stream",
       "stream": "stdout",
       "text": [
        "\tlearning_rate: 0.0100000035018\n"
       ]
      },
      {
       "output_type": "stream",
       "stream": "stdout",
       "text": [
        "\tmomentum: 0.500000655651\n"
       ]
      },
      {
       "output_type": "stream",
       "stream": "stdout",
       "text": [
        "\ttotal_seconds_last_epoch: 0.0\n"
       ]
      },
      {
       "output_type": "stream",
       "stream": "stdout",
       "text": [
        "\ttrain_h2_kernel_norms_max: 0.382892668247\n"
       ]
      },
      {
       "output_type": "stream",
       "stream": "stdout",
       "text": [
        "\ttrain_h2_kernel_norms_mean: 0.197622999549\n"
       ]
      },
      {
       "output_type": "stream",
       "stream": "stdout",
       "text": [
        "\ttrain_h2_kernel_norms_min: 0.115984670818\n"
       ]
      },
      {
       "output_type": "stream",
       "stream": "stdout",
       "text": [
        "\ttrain_h2_max_x_max_u: 1.32173359394\n"
       ]
      },
      {
       "output_type": "stream",
       "stream": "stdout",
       "text": [
        "\ttrain_h2_max_x_mean_u: 0.204541236162\n"
       ]
      },
      {
       "output_type": "stream",
       "stream": "stdout",
       "text": [
        "\ttrain_h2_max_x_min_u: 0.00930999498814\n"
       ]
      },
      {
       "output_type": "stream",
       "stream": "stdout",
       "text": [
        "\ttrain_h2_mean_x_max_u: 0.300178200006\n"
       ]
      },
      {
       "output_type": "stream",
       "stream": "stdout",
       "text": [
        "\ttrain_h2_mean_x_mean_u: 0.0441363379359\n"
       ]
      },
      {
       "output_type": "stream",
       "stream": "stdout",
       "text": [
        "\ttrain_h2_mean_x_min_u: 0.00220247358084\n"
       ]
      },
      {
       "output_type": "stream",
       "stream": "stdout",
       "text": [
        "\ttrain_h2_min_x_max_u: 0.0100132636726\n"
       ]
      },
      {
       "output_type": "stream",
       "stream": "stdout",
       "text": [
        "\ttrain_h2_min_x_mean_u: 0.000102642923594\n"
       ]
      },
      {
       "output_type": "stream",
       "stream": "stdout",
       "text": [
        "\ttrain_h2_min_x_min_u: 0.0\n"
       ]
      },
      {
       "output_type": "stream",
       "stream": "stdout",
       "text": [
        "\ttrain_h2_range_x_max_u: 1.32173359394\n"
       ]
      },
      {
       "output_type": "stream",
       "stream": "stdout",
       "text": [
        "\ttrain_h2_range_x_mean_u: 0.204438477755\n"
       ]
      },
      {
       "output_type": "stream",
       "stream": "stdout",
       "text": [
        "\ttrain_h2_range_x_min_u: 0.00913043506444\n"
       ]
      },
      {
       "output_type": "stream",
       "stream": "stdout",
       "text": [
        "\ttrain_h3_kernel_norms_max: 1.21632158756\n"
       ]
      },
      {
       "output_type": "stream",
       "stream": "stdout",
       "text": [
        "\ttrain_h3_kernel_norms_mean: 1.16652309895\n"
       ]
      },
      {
       "output_type": "stream",
       "stream": "stdout",
       "text": [
        "\ttrain_h3_kernel_norms_min: 1.133690238\n"
       ]
      },
      {
       "output_type": "stream",
       "stream": "stdout",
       "text": [
        "\ttrain_h3_max_x_max_u: 3.67561101913\n"
       ]
      },
      {
       "output_type": "stream",
       "stream": "stdout",
       "text": [
        "\ttrain_h3_max_x_mean_u: 0.762549877167\n"
       ]
      },
      {
       "output_type": "stream",
       "stream": "stdout",
       "text": [
        "\ttrain_h3_max_x_min_u: 0.0\n"
       ]
      },
      {
       "output_type": "stream",
       "stream": "stdout",
       "text": [
        "\ttrain_h3_mean_x_max_u: 1.26298868656\n"
       ]
      },
      {
       "output_type": "stream",
       "stream": "stdout",
       "text": [
        "\ttrain_h3_mean_x_mean_u: 0.298922181129\n"
       ]
      },
      {
       "output_type": "stream",
       "stream": "stdout",
       "text": [
        "\ttrain_h3_mean_x_min_u: 0.0\n"
       ]
      },
      {
       "output_type": "stream",
       "stream": "stdout",
       "text": [
        "\ttrain_h3_min_x_max_u: 0.600623071194\n"
       ]
      },
      {
       "output_type": "stream",
       "stream": "stdout",
       "text": [
        "\ttrain_h3_min_x_mean_u: 0.0482426658273\n"
       ]
      },
      {
       "output_type": "stream",
       "stream": "stdout",
       "text": [
        "\ttrain_h3_min_x_min_u: 0.0\n"
       ]
      },
      {
       "output_type": "stream",
       "stream": "stdout",
       "text": [
        "\ttrain_h3_range_x_max_u: 3.67516541481\n"
       ]
      },
      {
       "output_type": "stream",
       "stream": "stdout",
       "text": [
        "\ttrain_h3_range_x_mean_u: 0.714307129383\n"
       ]
      },
      {
       "output_type": "stream",
       "stream": "stdout",
       "text": [
        "\ttrain_h3_range_x_min_u: 0.0\n"
       ]
      },
      {
       "output_type": "stream",
       "stream": "stdout",
       "text": [
        "\ttrain_objective: 3.74505877495\n"
       ]
      },
      {
       "output_type": "stream",
       "stream": "stdout",
       "text": [
        "\ttrain_term_0: 3.72507071495\n"
       ]
      },
      {
       "output_type": "stream",
       "stream": "stdout",
       "text": [
        "\ttrain_term_1_weight_decay: 0.0199866853654\n"
       ]
      },
      {
       "output_type": "stream",
       "stream": "stdout",
       "text": [
        "\ttrain_y_col_norms_max: 1.69957506657\n"
       ]
      },
      {
       "output_type": "stream",
       "stream": "stdout",
       "text": [
        "\ttrain_y_col_norms_mean: 1.60017836094\n"
       ]
      },
      {
       "output_type": "stream",
       "stream": "stdout",
       "text": [
        "\ttrain_y_col_norms_min: 1.49943435192\n"
       ]
      },
      {
       "output_type": "stream",
       "stream": "stdout",
       "text": [
        "\ttrain_y_max_max_class: 0.707747280598\n"
       ]
      },
      {
       "output_type": "stream",
       "stream": "stdout",
       "text": [
        "\ttrain_y_mean_max_class: 0.132356107235\n"
       ]
      },
      {
       "output_type": "stream",
       "stream": "stdout",
       "text": [
        "\ttrain_y_min_max_class: 0.0363243669271\n"
       ]
      },
      {
       "output_type": "stream",
       "stream": "stdout",
       "text": [
        "\ttrain_y_misclass: 0.83339959383\n"
       ]
      },
      {
       "output_type": "stream",
       "stream": "stdout",
       "text": [
        "\ttrain_y_nll: 3.72507071495\n"
       ]
      },
      {
       "output_type": "stream",
       "stream": "stdout",
       "text": [
        "\ttrain_y_row_norms_max: 0.656317293644\n"
       ]
      },
      {
       "output_type": "stream",
       "stream": "stdout",
       "text": [
        "\ttrain_y_row_norms_mean: 0.54911416769\n"
       ]
      },
      {
       "output_type": "stream",
       "stream": "stdout",
       "text": [
        "\ttrain_y_row_norms_min: 0.453753590584\n"
       ]
      },
      {
       "output_type": "stream",
       "stream": "stdout",
       "text": [
        "\ttraining_seconds_this_epoch: 908.413330078\n"
       ]
      },
      {
       "output_type": "stream",
       "stream": "stdout",
       "text": [
        "\tvalid_h2_kernel_norms_max: 0.382892340422\n"
       ]
      },
      {
       "output_type": "stream",
       "stream": "stdout",
       "text": [
        "\tvalid_h2_kernel_norms_mean: 0.197623446584\n"
       ]
      },
      {
       "output_type": "stream",
       "stream": "stdout",
       "text": [
        "\tvalid_h2_kernel_norms_min: 0.115984402597\n"
       ]
      },
      {
       "output_type": "stream",
       "stream": "stdout",
       "text": [
        "\tvalid_h2_max_x_max_u: 1.32153213024\n"
       ]
      },
      {
       "output_type": "stream",
       "stream": "stdout",
       "text": [
        "\tvalid_h2_max_x_mean_u: 0.202661260962\n"
       ]
      },
      {
       "output_type": "stream",
       "stream": "stdout",
       "text": [
        "\tvalid_h2_max_x_min_u: 0.00942620728165\n"
       ]
      },
      {
       "output_type": "stream",
       "stream": "stdout",
       "text": [
        "\tvalid_h2_mean_x_max_u: 0.307085394859\n"
       ]
      },
      {
       "output_type": "stream",
       "stream": "stdout",
       "text": [
        "\tvalid_h2_mean_x_mean_u: 0.0439315773547\n"
       ]
      },
      {
       "output_type": "stream",
       "stream": "stdout",
       "text": [
        "\tvalid_h2_mean_x_min_u: 0.00205877493136\n"
       ]
      },
      {
       "output_type": "stream",
       "stream": "stdout",
       "text": [
        "\tvalid_h2_min_x_max_u: 0.0101157613099\n"
       ]
      },
      {
       "output_type": "stream",
       "stream": "stdout",
       "text": [
        "\tvalid_h2_min_x_mean_u: 0.000116876464745\n"
       ]
      },
      {
       "output_type": "stream",
       "stream": "stdout",
       "text": [
        "\tvalid_h2_min_x_min_u: 0.0\n"
       ]
      },
      {
       "output_type": "stream",
       "stream": "stdout",
       "text": [
        "\tvalid_h2_range_x_max_u: 1.32153213024\n"
       ]
      },
      {
       "output_type": "stream",
       "stream": "stdout",
       "text": [
        "\tvalid_h2_range_x_mean_u: 0.202544331551\n"
       ]
      },
      {
       "output_type": "stream",
       "stream": "stdout",
       "text": [
        "\tvalid_h2_range_x_min_u: 0.0089719677344\n"
       ]
      },
      {
       "output_type": "stream",
       "stream": "stdout",
       "text": [
        "\tvalid_h3_kernel_norms_max: 1.21631991863\n"
       ]
      },
      {
       "output_type": "stream",
       "stream": "stdout",
       "text": [
        "\tvalid_h3_kernel_norms_mean: 1.16652452946\n"
       ]
      },
      {
       "output_type": "stream",
       "stream": "stdout",
       "text": [
        "\tvalid_h3_kernel_norms_min: 1.13368844986\n"
       ]
      },
      {
       "output_type": "stream",
       "stream": "stdout",
       "text": [
        "\tvalid_h3_max_x_max_u: 3.64511156082\n"
       ]
      },
      {
       "output_type": "stream",
       "stream": "stdout",
       "text": [
        "\tvalid_h3_max_x_mean_u: 0.761608600616\n"
       ]
      },
      {
       "output_type": "stream",
       "stream": "stdout",
       "text": [
        "\tvalid_h3_max_x_min_u: 0.0\n"
       ]
      },
      {
       "output_type": "stream",
       "stream": "stdout",
       "text": [
        "\tvalid_h3_mean_x_max_u: 1.27614569664\n"
       ]
      },
      {
       "output_type": "stream",
       "stream": "stdout",
       "text": [
        "\tvalid_h3_mean_x_mean_u: 0.299201011658\n"
       ]
      },
      {
       "output_type": "stream",
       "stream": "stdout",
       "text": [
        "\tvalid_h3_mean_x_min_u: 0.0\n"
       ]
      },
      {
       "output_type": "stream",
       "stream": "stdout",
       "text": [
        "\tvalid_h3_min_x_max_u: 0.598585128784\n"
       ]
      },
      {
       "output_type": "stream",
       "stream": "stdout",
       "text": [
        "\tvalid_h3_min_x_mean_u: 0.0478820875287\n"
       ]
      },
      {
       "output_type": "stream",
       "stream": "stdout",
       "text": [
        "\tvalid_h3_min_x_min_u: 0.0\n"
       ]
      },
      {
       "output_type": "stream",
       "stream": "stdout",
       "text": [
        "\tvalid_h3_range_x_max_u: 3.64509081841\n"
       ]
      },
      {
       "output_type": "stream",
       "stream": "stdout",
       "text": [
        "\tvalid_h3_range_x_mean_u: 0.713726758957\n"
       ]
      },
      {
       "output_type": "stream",
       "stream": "stdout",
       "text": [
        "\tvalid_h3_range_x_min_u: 0.0\n"
       ]
      },
      {
       "output_type": "stream",
       "stream": "stdout",
       "text": [
        "\tvalid_objective: 3.72951316833\n"
       ]
      },
      {
       "output_type": "stream",
       "stream": "stdout",
       "text": [
        "\tvalid_term_0: 3.70952749252\n"
       ]
      },
      {
       "output_type": "stream",
       "stream": "stdout",
       "text": [
        "\tvalid_term_1_weight_decay: 0.0199867393821\n"
       ]
      },
      {
       "output_type": "stream",
       "stream": "stdout",
       "text": [
        "\tvalid_y_col_norms_max: 1.69957876205\n"
       ]
      },
      {
       "output_type": "stream",
       "stream": "stdout",
       "text": [
        "\tvalid_y_col_norms_mean: 1.60018217564\n"
       ]
      },
      {
       "output_type": "stream",
       "stream": "stdout",
       "text": [
        "\tvalid_y_col_norms_min: 1.49943065643\n"
       ]
      },
      {
       "output_type": "stream",
       "stream": "stdout",
       "text": [
        "\tvalid_y_max_max_class: 0.717231035233\n"
       ]
      },
      {
       "output_type": "stream",
       "stream": "stdout",
       "text": [
        "\tvalid_y_mean_max_class: 0.134148165584\n"
       ]
      },
      {
       "output_type": "stream",
       "stream": "stdout",
       "text": [
        "\tvalid_y_min_max_class: 0.0353845059872\n"
       ]
      },
      {
       "output_type": "stream",
       "stream": "stdout",
       "text": [
        "\tvalid_y_misclass: 0.830399870872\n"
       ]
      },
      {
       "output_type": "stream",
       "stream": "stdout",
       "text": [
        "\tvalid_y_nll: 3.70952749252\n"
       ]
      },
      {
       "output_type": "stream",
       "stream": "stdout",
       "text": [
        "\tvalid_y_row_norms_max: 0.656316816807\n"
       ]
      },
      {
       "output_type": "stream",
       "stream": "stdout",
       "text": [
        "\tvalid_y_row_norms_mean: 0.549113631248\n"
       ]
      },
      {
       "output_type": "stream",
       "stream": "stdout",
       "text": [
        "\tvalid_y_row_norms_min: 0.453752398491\n"
       ]
      },
      {
       "output_type": "stream",
       "stream": "stdout",
       "text": [
        "Saving to cnn_00_best.pkl...\n"
       ]
      },
      {
       "output_type": "stream",
       "stream": "stdout",
       "text": [
        "Saving to cnn_00_best.pkl done. Time elapsed: 0.104482 seconds\n"
       ]
      },
      {
       "output_type": "stream",
       "stream": "stdout",
       "text": [
        "Time this epoch: 0:15:05.437317\n"
       ]
      },
      {
       "output_type": "stream",
       "stream": "stdout",
       "text": [
        "Monitoring step:\n"
       ]
      },
      {
       "output_type": "stream",
       "stream": "stdout",
       "text": [
        "\tEpochs seen: 2\n"
       ]
      },
      {
       "output_type": "stream",
       "stream": "stdout",
       "text": [
        "\tBatches seen: 500\n"
       ]
      },
      {
       "output_type": "stream",
       "stream": "stdout",
       "text": [
        "\tExamples seen: 50000\n"
       ]
      },
      {
       "output_type": "stream",
       "stream": "stdout",
       "text": [
        "\tlearning_rate: 0.0100000035018\n"
       ]
      },
      {
       "output_type": "stream",
       "stream": "stdout",
       "text": [
        "\tmomentum: 0.554443657398\n"
       ]
      },
      {
       "output_type": "stream",
       "stream": "stdout",
       "text": [
        "\ttotal_seconds_last_epoch: 1124.90576172\n"
       ]
      },
      {
       "output_type": "stream",
       "stream": "stdout",
       "text": [
        "\ttrain_h2_kernel_norms_max: 0.630850791931\n"
       ]
      },
      {
       "output_type": "stream",
       "stream": "stdout",
       "text": [
        "\ttrain_h2_kernel_norms_mean: 0.258593887091\n"
       ]
      },
      {
       "output_type": "stream",
       "stream": "stdout",
       "text": [
        "\ttrain_h2_kernel_norms_min: 0.138575792313\n"
       ]
      },
      {
       "output_type": "stream",
       "stream": "stdout",
       "text": [
        "\ttrain_h2_max_x_max_u: 2.27710556984\n"
       ]
      },
      {
       "output_type": "stream",
       "stream": "stdout",
       "text": [
        "\ttrain_h2_max_x_mean_u: 0.333863675594\n"
       ]
      },
      {
       "output_type": "stream",
       "stream": "stdout",
       "text": [
        "\ttrain_h2_max_x_min_u: 0.00975674204528\n"
       ]
      },
      {
       "output_type": "stream",
       "stream": "stdout",
       "text": [
        "\ttrain_h2_mean_x_max_u: 0.516988992691\n"
       ]
      },
      {
       "output_type": "stream",
       "stream": "stdout",
       "text": [
        "\ttrain_h2_mean_x_mean_u: 0.0653207227588\n"
       ]
      },
      {
       "output_type": "stream",
       "stream": "stdout",
       "text": [
        "\ttrain_h2_mean_x_min_u: 0.00278992531821\n"
       ]
      },
      {
       "output_type": "stream",
       "stream": "stdout",
       "text": [
        "\ttrain_h2_min_x_max_u: 0.0120381349698\n"
       ]
      },
      {
       "output_type": "stream",
       "stream": "stdout",
       "text": [
        "\ttrain_h2_min_x_mean_u: 9.32006078074e-05\n"
       ]
      },
      {
       "output_type": "stream",
       "stream": "stdout",
       "text": [
        "\ttrain_h2_min_x_min_u: 0.0\n"
       ]
      },
      {
       "output_type": "stream",
       "stream": "stdout",
       "text": [
        "\ttrain_h2_range_x_max_u: 2.27710556984\n"
       ]
      },
      {
       "output_type": "stream",
       "stream": "stdout",
       "text": [
        "\ttrain_h2_range_x_mean_u: 0.333770602942\n"
       ]
      },
      {
       "output_type": "stream",
       "stream": "stdout",
       "text": [
        "\ttrain_h2_range_x_min_u: 0.00956645142287\n"
       ]
      },
      {
       "output_type": "stream",
       "stream": "stdout",
       "text": [
        "\ttrain_h3_kernel_norms_max: 1.26122248173\n"
       ]
      },
      {
       "output_type": "stream",
       "stream": "stdout",
       "text": [
        "\ttrain_h3_kernel_norms_mean: 1.18100941181\n"
       ]
      },
      {
       "output_type": "stream",
       "stream": "stdout",
       "text": [
        "\ttrain_h3_kernel_norms_min: 1.14109802246\n"
       ]
      },
      {
       "output_type": "stream",
       "stream": "stdout",
       "text": [
        "\ttrain_h3_max_x_max_u: 7.71744632721\n"
       ]
      },
      {
       "output_type": "stream",
       "stream": "stdout",
       "text": [
        "\ttrain_h3_max_x_mean_u: 1.75477528572\n"
       ]
      },
      {
       "output_type": "stream",
       "stream": "stdout",
       "text": [
        "\ttrain_h3_max_x_min_u: 0.0\n"
       ]
      },
      {
       "output_type": "stream",
       "stream": "stdout",
       "text": [
        "\ttrain_h3_mean_x_max_u: 2.73775053024\n"
       ]
      },
      {
       "output_type": "stream",
       "stream": "stdout",
       "text": [
        "\ttrain_h3_mean_x_mean_u: 0.611721038818\n"
       ]
      },
      {
       "output_type": "stream",
       "stream": "stdout",
       "text": [
        "\ttrain_h3_mean_x_min_u: 0.0\n"
       ]
      },
      {
       "output_type": "stream",
       "stream": "stdout",
       "text": [
        "\ttrain_h3_min_x_max_u: 0.664613306522\n"
       ]
      },
      {
       "output_type": "stream",
       "stream": "stdout",
       "text": [
        "\ttrain_h3_min_x_mean_u: 0.0510991439223\n"
       ]
      },
      {
       "output_type": "stream",
       "stream": "stdout",
       "text": [
        "\ttrain_h3_min_x_min_u: 0.0\n"
       ]
      },
      {
       "output_type": "stream",
       "stream": "stdout",
       "text": [
        "\ttrain_h3_range_x_max_u: 7.71721887589\n"
       ]
      },
      {
       "output_type": "stream",
       "stream": "stdout",
       "text": [
        "\ttrain_h3_range_x_mean_u: 1.70367574692\n"
       ]
      },
      {
       "output_type": "stream",
       "stream": "stdout",
       "text": [
        "\ttrain_h3_range_x_min_u: 0.0\n"
       ]
      },
      {
       "output_type": "stream",
       "stream": "stdout",
       "text": [
        "\ttrain_objective: 3.15317416191\n"
       ]
      },
      {
       "output_type": "stream",
       "stream": "stdout",
       "text": [
        "\ttrain_term_0: 3.1328394413\n"
       ]
      },
      {
       "output_type": "stream",
       "stream": "stdout",
       "text": [
        "\ttrain_term_1_weight_decay: 0.0203343201429\n"
       ]
      },
      {
       "output_type": "stream",
       "stream": "stdout",
       "text": [
        "\ttrain_y_col_norms_max: 1.76051461697\n"
       ]
      },
      {
       "output_type": "stream",
       "stream": "stdout",
       "text": [
        "\ttrain_y_col_norms_mean: 1.60676050186\n"
       ]
      },
      {
       "output_type": "stream",
       "stream": "stdout",
       "text": [
        "\ttrain_y_col_norms_min: 1.50374341011\n"
       ]
      },
      {
       "output_type": "stream",
       "stream": "stdout",
       "text": [
        "\ttrain_y_max_max_class: 0.919582605362\n"
       ]
      },
      {
       "output_type": "stream",
       "stream": "stdout",
       "text": [
        "\ttrain_y_mean_max_class: 0.222954794765\n"
       ]
      },
      {
       "output_type": "stream",
       "stream": "stdout",
       "text": [
        "\ttrain_y_min_max_class: 0.047393374145\n"
       ]
      },
      {
       "output_type": "stream",
       "stream": "stdout",
       "text": [
        "\ttrain_y_misclass: 0.7459602952\n"
       ]
      },
      {
       "output_type": "stream",
       "stream": "stdout",
       "text": [
        "\ttrain_y_nll: 3.1328394413\n"
       ]
      },
      {
       "output_type": "stream",
       "stream": "stdout",
       "text": [
        "\ttrain_y_row_norms_max: 0.657557070255\n"
       ]
      },
      {
       "output_type": "stream",
       "stream": "stdout",
       "text": [
        "\ttrain_y_row_norms_mean: 0.551392793655\n"
       ]
      },
      {
       "output_type": "stream",
       "stream": "stdout",
       "text": [
        "\ttrain_y_row_norms_min: 0.453598767519\n"
       ]
      },
      {
       "output_type": "stream",
       "stream": "stdout",
       "text": [
        "\ttraining_seconds_this_epoch: 905.438049316\n"
       ]
      },
      {
       "output_type": "stream",
       "stream": "stdout",
       "text": [
        "\tvalid_h2_kernel_norms_max: 0.630849838257\n"
       ]
      },
      {
       "output_type": "stream",
       "stream": "stdout",
       "text": [
        "\tvalid_h2_kernel_norms_mean: 0.258593201637\n"
       ]
      },
      {
       "output_type": "stream",
       "stream": "stdout",
       "text": [
        "\tvalid_h2_kernel_norms_min: 0.138575911522\n"
       ]
      },
      {
       "output_type": "stream",
       "stream": "stdout",
       "text": [
        "\tvalid_h2_max_x_max_u: 2.27451014519\n"
       ]
      },
      {
       "output_type": "stream",
       "stream": "stdout",
       "text": [
        "\tvalid_h2_max_x_mean_u: 0.330896943808\n"
       ]
      },
      {
       "output_type": "stream",
       "stream": "stdout",
       "text": [
        "\tvalid_h2_max_x_min_u: 0.00961862504482\n"
       ]
      },
      {
       "output_type": "stream",
       "stream": "stdout",
       "text": [
        "\tvalid_h2_mean_x_max_u: 0.528566002846\n"
       ]
      },
      {
       "output_type": "stream",
       "stream": "stdout",
       "text": [
        "\tvalid_h2_mean_x_mean_u: 0.0650903210044\n"
       ]
      },
      {
       "output_type": "stream",
       "stream": "stdout",
       "text": [
        "\tvalid_h2_mean_x_min_u: 0.00251196906902\n"
       ]
      },
      {
       "output_type": "stream",
       "stream": "stdout",
       "text": [
        "\tvalid_h2_min_x_max_u: 0.0120249856263\n"
       ]
      },
      {
       "output_type": "stream",
       "stream": "stdout",
       "text": [
        "\tvalid_h2_min_x_mean_u: 0.000104033490061\n"
       ]
      },
      {
       "output_type": "stream",
       "stream": "stdout",
       "text": [
        "\tvalid_h2_min_x_min_u: 0.0\n"
       ]
      },
      {
       "output_type": "stream",
       "stream": "stdout",
       "text": [
        "\tvalid_h2_range_x_max_u: 2.27451014519\n"
       ]
      },
      {
       "output_type": "stream",
       "stream": "stdout",
       "text": [
        "\tvalid_h2_range_x_mean_u: 0.330792933702\n"
       ]
      },
      {
       "output_type": "stream",
       "stream": "stdout",
       "text": [
        "\tvalid_h2_range_x_min_u: 0.00931570492685\n"
       ]
      },
      {
       "output_type": "stream",
       "stream": "stdout",
       "text": [
        "\tvalid_h3_kernel_norms_max: 1.26122021675\n"
       ]
      },
      {
       "output_type": "stream",
       "stream": "stdout",
       "text": [
        "\tvalid_h3_kernel_norms_mean: 1.18101251125\n"
       ]
      },
      {
       "output_type": "stream",
       "stream": "stdout",
       "text": [
        "\tvalid_h3_kernel_norms_min: 1.14109528065\n"
       ]
      },
      {
       "output_type": "stream",
       "stream": "stdout",
       "text": [
        "\tvalid_h3_max_x_max_u: 7.64018678665\n"
       ]
      },
      {
       "output_type": "stream",
       "stream": "stdout",
       "text": [
        "\tvalid_h3_max_x_mean_u: 1.7511305809\n"
       ]
      },
      {
       "output_type": "stream",
       "stream": "stdout",
       "text": [
        "\tvalid_h3_max_x_min_u: 0.0\n"
       ]
      },
      {
       "output_type": "stream",
       "stream": "stdout",
       "text": [
        "\tvalid_h3_mean_x_max_u: 2.77253627777\n"
       ]
      },
      {
       "output_type": "stream",
       "stream": "stdout",
       "text": [
        "\tvalid_h3_mean_x_mean_u: 0.613690376282\n"
       ]
      },
      {
       "output_type": "stream",
       "stream": "stdout",
       "text": [
        "\tvalid_h3_mean_x_min_u: 0.0\n"
       ]
      },
      {
       "output_type": "stream",
       "stream": "stdout",
       "text": [
        "\tvalid_h3_min_x_max_u: 0.678521871567\n"
       ]
      },
      {
       "output_type": "stream",
       "stream": "stdout",
       "text": [
        "\tvalid_h3_min_x_mean_u: 0.0512519031763\n"
       ]
      },
      {
       "output_type": "stream",
       "stream": "stdout",
       "text": [
        "\tvalid_h3_min_x_min_u: 0.0\n"
       ]
      },
      {
       "output_type": "stream",
       "stream": "stdout",
       "text": [
        "\tvalid_h3_range_x_max_u: 7.64018678665\n"
       ]
      },
      {
       "output_type": "stream",
       "stream": "stdout",
       "text": [
        "\tvalid_h3_range_x_mean_u: 1.69987869263\n"
       ]
      },
      {
       "output_type": "stream",
       "stream": "stdout",
       "text": [
        "\tvalid_h3_range_x_min_u: 0.0\n"
       ]
      },
      {
       "output_type": "stream",
       "stream": "stdout",
       "text": [
        "\tvalid_objective: 3.14824914932\n"
       ]
      },
      {
       "output_type": "stream",
       "stream": "stdout",
       "text": [
        "\tvalid_term_0: 3.12791442871\n"
       ]
      },
      {
       "output_type": "stream",
       "stream": "stdout",
       "text": [
        "\tvalid_term_1_weight_decay: 0.0203343015164\n"
       ]
      },
      {
       "output_type": "stream",
       "stream": "stdout",
       "text": [
        "\tvalid_y_col_norms_max: 1.76051855087\n"
       ]
      },
      {
       "output_type": "stream",
       "stream": "stdout",
       "text": [
        "\tvalid_y_col_norms_mean: 1.60675692558\n"
       ]
      },
      {
       "output_type": "stream",
       "stream": "stdout",
       "text": [
        "\tvalid_y_col_norms_min: 1.50374364853\n"
       ]
      },
      {
       "output_type": "stream",
       "stream": "stdout",
       "text": [
        "\tvalid_y_max_max_class: 0.921542882919\n"
       ]
      },
      {
       "output_type": "stream",
       "stream": "stdout",
       "text": [
        "\tvalid_y_mean_max_class: 0.224926203489\n"
       ]
      },
      {
       "output_type": "stream",
       "stream": "stdout",
       "text": [
        "\tvalid_y_min_max_class: 0.0477188155055\n"
       ]
      },
      {
       "output_type": "stream",
       "stream": "stdout",
       "text": [
        "\tvalid_y_misclass: 0.735000014305\n"
       ]
      },
      {
       "output_type": "stream",
       "stream": "stdout",
       "text": [
        "\tvalid_y_nll: 3.12791442871\n"
       ]
      },
      {
       "output_type": "stream",
       "stream": "stdout",
       "text": [
        "\tvalid_y_row_norms_max: 0.657555401325\n"
       ]
      },
      {
       "output_type": "stream",
       "stream": "stdout",
       "text": [
        "\tvalid_y_row_norms_mean: 0.55139195919\n"
       ]
      },
      {
       "output_type": "stream",
       "stream": "stdout",
       "text": [
        "\tvalid_y_row_norms_min: 0.453598767519\n"
       ]
      },
      {
       "output_type": "stream",
       "stream": "stdout",
       "text": [
        "Saving to cnn_00_best.pkl...\n"
       ]
      },
      {
       "output_type": "stream",
       "stream": "stdout",
       "text": [
        "Saving to cnn_00_best.pkl done. Time elapsed: 0.104202 seconds\n"
       ]
      },
      {
       "output_type": "stream",
       "stream": "stdout",
       "text": [
        "Time this epoch: 0:15:04.941725\n"
       ]
      },
      {
       "output_type": "stream",
       "stream": "stdout",
       "text": [
        "Monitoring step:\n"
       ]
      },
      {
       "output_type": "stream",
       "stream": "stdout",
       "text": [
        "\tEpochs seen: 3\n"
       ]
      },
      {
       "output_type": "stream",
       "stream": "stdout",
       "text": [
        "\tBatches seen: 750\n"
       ]
      },
      {
       "output_type": "stream",
       "stream": "stdout",
       "text": [
        "\tExamples seen: 75000\n"
       ]
      },
      {
       "output_type": "stream",
       "stream": "stdout",
       "text": [
        "\tlearning_rate: 0.0100000035018\n"
       ]
      },
      {
       "output_type": "stream",
       "stream": "stdout",
       "text": [
        "\tmomentum: 0.608889997005\n"
       ]
      },
      {
       "output_type": "stream",
       "stream": "stdout",
       "text": [
        "\ttotal_seconds_last_epoch: 1121.82263184\n"
       ]
      },
      {
       "output_type": "stream",
       "stream": "stdout",
       "text": [
        "\ttrain_h2_kernel_norms_max: 0.766966462135\n"
       ]
      },
      {
       "output_type": "stream",
       "stream": "stdout",
       "text": [
        "\ttrain_h2_kernel_norms_mean: 0.3035171628\n"
       ]
      },
      {
       "output_type": "stream",
       "stream": "stdout",
       "text": [
        "\ttrain_h2_kernel_norms_min: 0.168583959341\n"
       ]
      },
      {
       "output_type": "stream",
       "stream": "stdout",
       "text": [
        "\ttrain_h2_max_x_max_u: 2.73505377769\n"
       ]
      },
      {
       "output_type": "stream",
       "stream": "stdout",
       "text": [
        "\ttrain_h2_max_x_mean_u: 0.407002478838\n"
       ]
      },
      {
       "output_type": "stream",
       "stream": "stdout",
       "text": [
        "\ttrain_h2_max_x_min_u: 0.00968629773706\n"
       ]
      },
      {
       "output_type": "stream",
       "stream": "stdout",
       "text": [
        "\ttrain_h2_mean_x_max_u: 0.627164363861\n"
       ]
      },
      {
       "output_type": "stream",
       "stream": "stdout",
       "text": [
        "\ttrain_h2_mean_x_mean_u: 0.0776365175843\n"
       ]
      },
      {
       "output_type": "stream",
       "stream": "stdout",
       "text": [
        "\ttrain_h2_mean_x_min_u: 0.00322667579167\n"
       ]
      },
      {
       "output_type": "stream",
       "stream": "stdout",
       "text": [
        "\ttrain_h2_min_x_max_u: 0.0145158106461\n"
       ]
      },
      {
       "output_type": "stream",
       "stream": "stdout",
       "text": [
        "\ttrain_h2_min_x_mean_u: 9.65491999523e-05\n"
       ]
      },
      {
       "output_type": "stream",
       "stream": "stdout",
       "text": [
        "\ttrain_h2_min_x_min_u: 0.0\n"
       ]
      },
      {
       "output_type": "stream",
       "stream": "stdout",
       "text": [
        "\ttrain_h2_range_x_max_u: 2.73505377769\n"
       ]
      },
      {
       "output_type": "stream",
       "stream": "stdout",
       "text": [
        "\ttrain_h2_range_x_mean_u: 0.406905889511\n"
       ]
      },
      {
       "output_type": "stream",
       "stream": "stdout",
       "text": [
        "\ttrain_h2_range_x_min_u: 0.00951332040131\n"
       ]
      },
      {
       "output_type": "stream",
       "stream": "stdout",
       "text": [
        "\ttrain_h3_kernel_norms_max: 1.29822766781\n"
       ]
      },
      {
       "output_type": "stream",
       "stream": "stdout",
       "text": [
        "\ttrain_h3_kernel_norms_mean: 1.19478523731\n"
       ]
      },
      {
       "output_type": "stream",
       "stream": "stdout",
       "text": [
        "\ttrain_h3_kernel_norms_min: 1.14667165279\n"
       ]
      },
      {
       "output_type": "stream",
       "stream": "stdout",
       "text": [
        "\ttrain_h3_max_x_max_u: 8.85075473785\n"
       ]
      },
      {
       "output_type": "stream",
       "stream": "stdout",
       "text": [
        "\ttrain_h3_max_x_mean_u: 2.24537539482\n"
       ]
      },
      {
       "output_type": "stream",
       "stream": "stdout",
       "text": [
        "\ttrain_h3_max_x_min_u: 0.0\n"
       ]
      },
      {
       "output_type": "stream",
       "stream": "stdout",
       "text": [
        "\ttrain_h3_mean_x_max_u: 3.32590007782\n"
       ]
      },
      {
       "output_type": "stream",
       "stream": "stdout",
       "text": [
        "\ttrain_h3_mean_x_mean_u: 0.744891166687\n"
       ]
      },
      {
       "output_type": "stream",
       "stream": "stdout",
       "text": [
        "\ttrain_h3_mean_x_min_u: 0.0\n"
       ]
      },
      {
       "output_type": "stream",
       "stream": "stdout",
       "text": [
        "\ttrain_h3_min_x_max_u: 0.665154218674\n"
       ]
      },
      {
       "output_type": "stream",
       "stream": "stdout",
       "text": [
        "\ttrain_h3_min_x_mean_u: 0.037604726851\n"
       ]
      },
      {
       "output_type": "stream",
       "stream": "stdout",
       "text": [
        "\ttrain_h3_min_x_min_u: 0.0\n"
       ]
      },
      {
       "output_type": "stream",
       "stream": "stdout",
       "text": [
        "\ttrain_h3_range_x_max_u: 8.85070419312\n"
       ]
      },
      {
       "output_type": "stream",
       "stream": "stdout",
       "text": [
        "\ttrain_h3_range_x_mean_u: 2.20777058601\n"
       ]
      },
      {
       "output_type": "stream",
       "stream": "stdout",
       "text": [
        "\ttrain_h3_range_x_min_u: 0.0\n"
       ]
      },
      {
       "output_type": "stream",
       "stream": "stdout",
       "text": [
        "\ttrain_objective: 2.81943821907\n"
       ]
      },
      {
       "output_type": "stream",
       "stream": "stdout",
       "text": [
        "\ttrain_term_0: 2.7987306118\n"
       ]
      },
      {
       "output_type": "stream",
       "stream": "stdout",
       "text": [
        "\ttrain_term_1_weight_decay: 0.0207087155432\n"
       ]
      },
      {
       "output_type": "stream",
       "stream": "stdout",
       "text": [
        "\ttrain_y_col_norms_max: 1.80155086517\n"
       ]
      },
      {
       "output_type": "stream",
       "stream": "stdout",
       "text": [
        "\ttrain_y_col_norms_mean: 1.61529493332\n"
       ]
      },
      {
       "output_type": "stream",
       "stream": "stdout",
       "text": [
        "\ttrain_y_col_norms_min: 1.50763237476\n"
       ]
      },
      {
       "output_type": "stream",
       "stream": "stdout",
       "text": [
        "\ttrain_y_max_max_class: 0.885163903236\n"
       ]
      },
      {
       "output_type": "stream",
       "stream": "stdout",
       "text": [
        "\ttrain_y_mean_max_class: 0.267598986626\n"
       ]
      },
      {
       "output_type": "stream",
       "stream": "stdout",
       "text": [
        "\ttrain_y_min_max_class: 0.0542840212584\n"
       ]
      },
      {
       "output_type": "stream",
       "stream": "stdout",
       "text": [
        "\ttrain_y_misclass: 0.672680079937\n"
       ]
      },
      {
       "output_type": "stream",
       "stream": "stdout",
       "text": [
        "\ttrain_y_nll: 2.7987306118\n"
       ]
      },
      {
       "output_type": "stream",
       "stream": "stdout",
       "text": [
        "\ttrain_y_row_norms_max: 0.660359919071\n"
       ]
      },
      {
       "output_type": "stream",
       "stream": "stdout",
       "text": [
        "\ttrain_y_row_norms_mean: 0.554339706898\n"
       ]
      },
      {
       "output_type": "stream",
       "stream": "stdout",
       "text": [
        "\ttrain_y_row_norms_min: 0.454112946987\n"
       ]
      },
      {
       "output_type": "stream",
       "stream": "stdout",
       "text": [
        "\ttraining_seconds_this_epoch: 904.940979004\n"
       ]
      },
      {
       "output_type": "stream",
       "stream": "stdout",
       "text": [
        "\tvalid_h2_kernel_norms_max: 0.766966700554\n"
       ]
      },
      {
       "output_type": "stream",
       "stream": "stdout",
       "text": [
        "\tvalid_h2_kernel_norms_mean: 0.303517252207\n"
       ]
      },
      {
       "output_type": "stream",
       "stream": "stdout",
       "text": [
        "\tvalid_h2_kernel_norms_min: 0.168583527207\n"
       ]
      },
      {
       "output_type": "stream",
       "stream": "stdout",
       "text": [
        "\tvalid_h2_max_x_max_u: 2.73102664948\n"
       ]
      },
      {
       "output_type": "stream",
       "stream": "stdout",
       "text": [
        "\tvalid_h2_max_x_mean_u: 0.403562098742\n"
       ]
      },
      {
       "output_type": "stream",
       "stream": "stdout",
       "text": [
        "\tvalid_h2_max_x_min_u: 0.00933499354869\n"
       ]
      },
      {
       "output_type": "stream",
       "stream": "stdout",
       "text": [
        "\tvalid_h2_mean_x_max_u: 0.641381978989\n"
       ]
      },
      {
       "output_type": "stream",
       "stream": "stdout",
       "text": [
        "\tvalid_h2_mean_x_mean_u: 0.0773726701736\n"
       ]
      },
      {
       "output_type": "stream",
       "stream": "stdout",
       "text": [
        "\tvalid_h2_mean_x_min_u: 0.00293728453107\n"
       ]
      },
      {
       "output_type": "stream",
       "stream": "stdout",
       "text": [
        "\tvalid_h2_min_x_max_u: 0.0139926644042\n"
       ]
      },
      {
       "output_type": "stream",
       "stream": "stdout",
       "text": [
        "\tvalid_h2_min_x_mean_u: 0.000106412131572\n"
       ]
      },
      {
       "output_type": "stream",
       "stream": "stdout",
       "text": [
        "\tvalid_h2_min_x_min_u: 0.0\n"
       ]
      },
      {
       "output_type": "stream",
       "stream": "stdout",
       "text": [
        "\tvalid_h2_range_x_max_u: 2.73102664948\n"
       ]
      },
      {
       "output_type": "stream",
       "stream": "stdout",
       "text": [
        "\tvalid_h2_range_x_mean_u: 0.403455644846\n"
       ]
      },
      {
       "output_type": "stream",
       "stream": "stdout",
       "text": [
        "\tvalid_h2_range_x_min_u: 0.00908455252647\n"
       ]
      },
      {
       "output_type": "stream",
       "stream": "stdout",
       "text": [
        "\tvalid_h3_kernel_norms_max: 1.29822707176\n"
       ]
      },
      {
       "output_type": "stream",
       "stream": "stdout",
       "text": [
        "\tvalid_h3_kernel_norms_mean: 1.19478642941\n"
       ]
      },
      {
       "output_type": "stream",
       "stream": "stdout",
       "text": [
        "\tvalid_h3_kernel_norms_min: 1.14666879177\n"
       ]
      },
      {
       "output_type": "stream",
       "stream": "stdout",
       "text": [
        "\tvalid_h3_max_x_max_u: 8.76539516449\n"
       ]
      },
      {
       "output_type": "stream",
       "stream": "stdout",
       "text": [
        "\tvalid_h3_max_x_mean_u: 2.24305820465\n"
       ]
      },
      {
       "output_type": "stream",
       "stream": "stdout",
       "text": [
        "\tvalid_h3_max_x_min_u: 0.0\n"
       ]
      },
      {
       "output_type": "stream",
       "stream": "stdout",
       "text": [
        "\tvalid_h3_mean_x_max_u: 3.36326622963\n"
       ]
      },
      {
       "output_type": "stream",
       "stream": "stdout",
       "text": [
        "\tvalid_h3_mean_x_mean_u: 0.747619748116\n"
       ]
      },
      {
       "output_type": "stream",
       "stream": "stdout",
       "text": [
        "\tvalid_h3_mean_x_min_u: 0.0\n"
       ]
      },
      {
       "output_type": "stream",
       "stream": "stdout",
       "text": [
        "\tvalid_h3_min_x_max_u: 0.671523272991\n"
       ]
      },
      {
       "output_type": "stream",
       "stream": "stdout",
       "text": [
        "\tvalid_h3_min_x_mean_u: 0.0379304029047\n"
       ]
      },
      {
       "output_type": "stream",
       "stream": "stdout",
       "text": [
        "\tvalid_h3_min_x_min_u: 0.0\n"
       ]
      },
      {
       "output_type": "stream",
       "stream": "stdout",
       "text": [
        "\tvalid_h3_range_x_max_u: 8.76539516449\n"
       ]
      },
      {
       "output_type": "stream",
       "stream": "stdout",
       "text": [
        "\tvalid_h3_range_x_mean_u: 2.20512723923\n"
       ]
      },
      {
       "output_type": "stream",
       "stream": "stdout",
       "text": [
        "\tvalid_h3_range_x_min_u: 0.0\n"
       ]
      },
      {
       "output_type": "stream",
       "stream": "stdout",
       "text": [
        "\tvalid_objective: 2.82663297653\n"
       ]
      },
      {
       "output_type": "stream",
       "stream": "stdout",
       "text": [
        "\tvalid_term_0: 2.80592393875\n"
       ]
      },
      {
       "output_type": "stream",
       "stream": "stdout",
       "text": [
        "\tvalid_term_1_weight_decay: 0.0207086931914\n"
       ]
      },
      {
       "output_type": "stream",
       "stream": "stdout",
       "text": [
        "\tvalid_y_col_norms_max: 1.80155193806\n"
       ]
      },
      {
       "output_type": "stream",
       "stream": "stdout",
       "text": [
        "\tvalid_y_col_norms_mean: 1.61529922485\n"
       ]
      },
      {
       "output_type": "stream",
       "stream": "stdout",
       "text": [
        "\tvalid_y_col_norms_min: 1.50763201714\n"
       ]
      },
      {
       "output_type": "stream",
       "stream": "stdout",
       "text": [
        "\tvalid_y_max_max_class: 0.880768537521\n"
       ]
      },
      {
       "output_type": "stream",
       "stream": "stdout",
       "text": [
        "\tvalid_y_mean_max_class: 0.268153786659\n"
       ]
      },
      {
       "output_type": "stream",
       "stream": "stdout",
       "text": [
        "\tvalid_y_min_max_class: 0.0556237325072\n"
       ]
      },
      {
       "output_type": "stream",
       "stream": "stdout",
       "text": [
        "\tvalid_y_misclass: 0.667799949646\n"
       ]
      },
      {
       "output_type": "stream",
       "stream": "stdout",
       "text": [
        "\tvalid_y_nll: 2.80592393875\n"
       ]
      },
      {
       "output_type": "stream",
       "stream": "stdout",
       "text": [
        "\tvalid_y_row_norms_max: 0.660360097885\n"
       ]
      },
      {
       "output_type": "stream",
       "stream": "stdout",
       "text": [
        "\tvalid_y_row_norms_mean: 0.5543410182\n"
       ]
      },
      {
       "output_type": "stream",
       "stream": "stdout",
       "text": [
        "\tvalid_y_row_norms_min: 0.454113215208\n"
       ]
      },
      {
       "output_type": "stream",
       "stream": "stdout",
       "text": [
        "Saving to cnn_00_best.pkl...\n"
       ]
      },
      {
       "output_type": "stream",
       "stream": "stdout",
       "text": [
        "Saving to cnn_00_best.pkl done. Time elapsed: 0.106707 seconds\n"
       ]
      },
      {
       "output_type": "stream",
       "stream": "stdout",
       "text": [
        "Time this epoch: 0:15:04.929678\n"
       ]
      },
      {
       "output_type": "stream",
       "stream": "stdout",
       "text": [
        "Monitoring step:\n"
       ]
      },
      {
       "output_type": "stream",
       "stream": "stdout",
       "text": [
        "\tEpochs seen: 4\n"
       ]
      },
      {
       "output_type": "stream",
       "stream": "stdout",
       "text": [
        "\tBatches seen: 1000\n"
       ]
      },
      {
       "output_type": "stream",
       "stream": "stdout",
       "text": [
        "\tExamples seen: 100000\n"
       ]
      },
      {
       "output_type": "stream",
       "stream": "stdout",
       "text": [
        "\tlearning_rate: 0.0100000035018\n"
       ]
      },
      {
       "output_type": "stream",
       "stream": "stdout",
       "text": [
        "\tmomentum: 0.663334548473\n"
       ]
      },
      {
       "output_type": "stream",
       "stream": "stdout",
       "text": [
        "\ttotal_seconds_last_epoch: 1121.17480469\n"
       ]
      },
      {
       "output_type": "stream",
       "stream": "stdout",
       "text": [
        "\ttrain_h2_kernel_norms_max: 0.845308721066\n"
       ]
      },
      {
       "output_type": "stream",
       "stream": "stdout",
       "text": [
        "\ttrain_h2_kernel_norms_mean: 0.344090312719\n"
       ]
      },
      {
       "output_type": "stream",
       "stream": "stdout",
       "text": [
        "\ttrain_h2_kernel_norms_min: 0.197143316269\n"
       ]
      },
      {
       "output_type": "stream",
       "stream": "stdout",
       "text": [
        "\ttrain_h2_max_x_max_u: 2.9590985775\n"
       ]
      },
      {
       "output_type": "stream",
       "stream": "stdout",
       "text": [
        "\ttrain_h2_max_x_mean_u: 0.453640788794\n"
       ]
      },
      {
       "output_type": "stream",
       "stream": "stdout",
       "text": [
        "\ttrain_h2_max_x_min_u: 0.00975861866027\n"
       ]
      },
      {
       "output_type": "stream",
       "stream": "stdout",
       "text": [
        "\ttrain_h2_mean_x_max_u: 0.685176312923\n"
       ]
      },
      {
       "output_type": "stream",
       "stream": "stdout",
       "text": [
        "\ttrain_h2_mean_x_mean_u: 0.0865260884166\n"
       ]
      },
      {
       "output_type": "stream",
       "stream": "stdout",
       "text": [
        "\ttrain_h2_mean_x_min_u: 0.00383811094798\n"
       ]
      },
      {
       "output_type": "stream",
       "stream": "stdout",
       "text": [
        "\ttrain_h2_min_x_max_u: 0.0168532710522\n"
       ]
      },
      {
       "output_type": "stream",
       "stream": "stdout",
       "text": [
        "\ttrain_h2_min_x_mean_u: 0.000135376874823\n"
       ]
      },
      {
       "output_type": "stream",
       "stream": "stdout",
       "text": [
        "\ttrain_h2_min_x_min_u: 0.0\n"
       ]
      },
      {
       "output_type": "stream",
       "stream": "stdout",
       "text": [
        "\ttrain_h2_range_x_max_u: 2.9590985775\n"
       ]
      },
      {
       "output_type": "stream",
       "stream": "stdout",
       "text": [
        "\ttrain_h2_range_x_mean_u: 0.453505367041\n"
       ]
      },
      {
       "output_type": "stream",
       "stream": "stdout",
       "text": [
        "\ttrain_h2_range_x_min_u: 0.00964428018779\n"
       ]
      },
      {
       "output_type": "stream",
       "stream": "stdout",
       "text": [
        "\ttrain_h3_kernel_norms_max: 1.36747896671\n"
       ]
      },
      {
       "output_type": "stream",
       "stream": "stdout",
       "text": [
        "\ttrain_h3_kernel_norms_mean: 1.2092294693\n"
       ]
      },
      {
       "output_type": "stream",
       "stream": "stdout",
       "text": [
        "\ttrain_h3_kernel_norms_min: 1.1463060379\n"
       ]
      },
      {
       "output_type": "stream",
       "stream": "stdout",
       "text": [
        "\ttrain_h3_max_x_max_u: 7.99984693527\n"
       ]
      },
      {
       "output_type": "stream",
       "stream": "stdout",
       "text": [
        "\ttrain_h3_max_x_mean_u: 2.41187405586\n"
       ]
      },
      {
       "output_type": "stream",
       "stream": "stdout",
       "text": [
        "\ttrain_h3_max_x_min_u: 0.0\n"
       ]
      },
      {
       "output_type": "stream",
       "stream": "stdout",
       "text": [
        "\ttrain_h3_mean_x_max_u: 3.03763198853\n"
       ]
      },
      {
       "output_type": "stream",
       "stream": "stdout",
       "text": [
        "\ttrain_h3_mean_x_mean_u: 0.764802098274\n"
       ]
      },
      {
       "output_type": "stream",
       "stream": "stdout",
       "text": [
        "\ttrain_h3_mean_x_min_u: 0.0\n"
       ]
      },
      {
       "output_type": "stream",
       "stream": "stdout",
       "text": [
        "\ttrain_h3_min_x_max_u: 0.612800955772\n"
       ]
      },
      {
       "output_type": "stream",
       "stream": "stdout",
       "text": [
        "\ttrain_h3_min_x_mean_u: 0.0142219085246\n"
       ]
      },
      {
       "output_type": "stream",
       "stream": "stdout",
       "text": [
        "\ttrain_h3_min_x_min_u: 0.0\n"
       ]
      },
      {
       "output_type": "stream",
       "stream": "stdout",
       "text": [
        "\ttrain_h3_range_x_max_u: 7.99984693527\n"
       ]
      },
      {
       "output_type": "stream",
       "stream": "stdout",
       "text": [
        "\ttrain_h3_range_x_mean_u: 2.3976521492\n"
       ]
      },
      {
       "output_type": "stream",
       "stream": "stdout",
       "text": [
        "\ttrain_h3_range_x_min_u: 0.0\n"
       ]
      },
      {
       "output_type": "stream",
       "stream": "stdout",
       "text": [
        "\ttrain_objective: 2.621966362\n"
       ]
      },
      {
       "output_type": "stream",
       "stream": "stdout",
       "text": [
        "\ttrain_term_0: 2.60083913803\n"
       ]
      },
      {
       "output_type": "stream",
       "stream": "stdout",
       "text": [
        "\ttrain_term_1_weight_decay: 0.0211269240826\n"
       ]
      },
      {
       "output_type": "stream",
       "stream": "stdout",
       "text": [
        "\ttrain_y_col_norms_max: 1.84110605717\n"
       ]
      },
      {
       "output_type": "stream",
       "stream": "stdout",
       "text": [
        "\ttrain_y_col_norms_mean: 1.625618577\n"
       ]
      },
      {
       "output_type": "stream",
       "stream": "stdout",
       "text": [
        "\ttrain_y_col_norms_min: 1.50788021088\n"
       ]
      },
      {
       "output_type": "stream",
       "stream": "stdout",
       "text": [
        "\ttrain_y_max_max_class: 0.983977854252\n"
       ]
      },
      {
       "output_type": "stream",
       "stream": "stdout",
       "text": [
        "\ttrain_y_mean_max_class: 0.332272678614\n"
       ]
      },
      {
       "output_type": "stream",
       "stream": "stdout",
       "text": [
        "\ttrain_y_min_max_class: 0.0643847882748\n"
       ]
      },
      {
       "output_type": "stream",
       "stream": "stdout",
       "text": [
        "\ttrain_y_misclass: 0.646319806576\n"
       ]
      },
      {
       "output_type": "stream",
       "stream": "stdout",
       "text": [
        "\ttrain_y_nll: 2.60083913803\n"
       ]
      },
      {
       "output_type": "stream",
       "stream": "stdout",
       "text": [
        "\ttrain_y_row_norms_max: 0.685198783875\n"
       ]
      },
      {
       "output_type": "stream",
       "stream": "stdout",
       "text": [
        "\ttrain_y_row_norms_mean: 0.557897806168\n"
       ]
      },
      {
       "output_type": "stream",
       "stream": "stdout",
       "text": [
        "\ttrain_y_row_norms_min: 0.45317414403\n"
       ]
      },
      {
       "output_type": "stream",
       "stream": "stdout",
       "text": [
        "\ttraining_seconds_this_epoch: 904.926757812\n"
       ]
      },
      {
       "output_type": "stream",
       "stream": "stdout",
       "text": [
        "\tvalid_h2_kernel_norms_max: 0.845306456089\n"
       ]
      },
      {
       "output_type": "stream",
       "stream": "stdout",
       "text": [
        "\tvalid_h2_kernel_norms_mean: 0.344090610743\n"
       ]
      },
      {
       "output_type": "stream",
       "stream": "stdout",
       "text": [
        "\tvalid_h2_kernel_norms_min: 0.197143793106\n"
       ]
      },
      {
       "output_type": "stream",
       "stream": "stdout",
       "text": [
        "\tvalid_h2_max_x_max_u: 2.95412659645\n"
       ]
      },
      {
       "output_type": "stream",
       "stream": "stdout",
       "text": [
        "\tvalid_h2_max_x_mean_u: 0.449978411198\n"
       ]
      },
      {
       "output_type": "stream",
       "stream": "stdout",
       "text": [
        "\tvalid_h2_max_x_min_u: 0.0095243724063\n"
       ]
      },
      {
       "output_type": "stream",
       "stream": "stdout",
       "text": [
        "\tvalid_h2_mean_x_max_u: 0.700807511806\n"
       ]
      },
      {
       "output_type": "stream",
       "stream": "stdout",
       "text": [
        "\tvalid_h2_mean_x_mean_u: 0.0862181857228\n"
       ]
      },
      {
       "output_type": "stream",
       "stream": "stdout",
       "text": [
        "\tvalid_h2_mean_x_min_u: 0.00344443600625\n"
       ]
      },
      {
       "output_type": "stream",
       "stream": "stdout",
       "text": [
        "\tvalid_h2_min_x_max_u: 0.0162120014429\n"
       ]
      },
      {
       "output_type": "stream",
       "stream": "stdout",
       "text": [
        "\tvalid_h2_min_x_mean_u: 0.000143090946949\n"
       ]
      },
      {
       "output_type": "stream",
       "stream": "stdout",
       "text": [
        "\tvalid_h2_min_x_min_u: 0.0\n"
       ]
      },
      {
       "output_type": "stream",
       "stream": "stdout",
       "text": [
        "\tvalid_h2_range_x_max_u: 2.95412659645\n"
       ]
      },
      {
       "output_type": "stream",
       "stream": "stdout",
       "text": [
        "\tvalid_h2_range_x_mean_u: 0.44983536005\n"
       ]
      },
      {
       "output_type": "stream",
       "stream": "stdout",
       "text": [
        "\tvalid_h2_range_x_min_u: 0.00924084335566\n"
       ]
      },
      {
       "output_type": "stream",
       "stream": "stdout",
       "text": [
        "\tvalid_h3_kernel_norms_max: 1.3674775362\n"
       ]
      },
      {
       "output_type": "stream",
       "stream": "stdout",
       "text": [
        "\tvalid_h3_kernel_norms_mean: 1.20923113823\n"
       ]
      },
      {
       "output_type": "stream",
       "stream": "stdout",
       "text": [
        "\tvalid_h3_kernel_norms_min: 1.14630663395\n"
       ]
      },
      {
       "output_type": "stream",
       "stream": "stdout",
       "text": [
        "\tvalid_h3_max_x_max_u: 7.95169353485\n"
       ]
      },
      {
       "output_type": "stream",
       "stream": "stdout",
       "text": [
        "\tvalid_h3_max_x_mean_u: 2.41159820557\n"
       ]
      },
      {
       "output_type": "stream",
       "stream": "stdout",
       "text": [
        "\tvalid_h3_max_x_min_u: 0.0\n"
       ]
      },
      {
       "output_type": "stream",
       "stream": "stdout",
       "text": [
        "\tvalid_h3_mean_x_max_u: 3.06747484207\n"
       ]
      },
      {
       "output_type": "stream",
       "stream": "stdout",
       "text": [
        "\tvalid_h3_mean_x_mean_u: 0.767368495464\n"
       ]
      },
      {
       "output_type": "stream",
       "stream": "stdout",
       "text": [
        "\tvalid_h3_mean_x_min_u: 0.0\n"
       ]
      },
      {
       "output_type": "stream",
       "stream": "stdout",
       "text": [
        "\tvalid_h3_min_x_max_u: 0.600911915302\n"
       ]
      },
      {
       "output_type": "stream",
       "stream": "stdout",
       "text": [
        "\tvalid_h3_min_x_mean_u: 0.0144848162308\n"
       ]
      },
      {
       "output_type": "stream",
       "stream": "stdout",
       "text": [
        "\tvalid_h3_min_x_min_u: 0.0\n"
       ]
      },
      {
       "output_type": "stream",
       "stream": "stdout",
       "text": [
        "\tvalid_h3_range_x_max_u: 7.95169353485\n"
       ]
      },
      {
       "output_type": "stream",
       "stream": "stdout",
       "text": [
        "\tvalid_h3_range_x_mean_u: 2.39711308479\n"
       ]
      },
      {
       "output_type": "stream",
       "stream": "stdout",
       "text": [
        "\tvalid_h3_range_x_min_u: 0.0\n"
       ]
      },
      {
       "output_type": "stream",
       "stream": "stdout",
       "text": [
        "\tvalid_objective: 2.63939881325\n"
       ]
      },
      {
       "output_type": "stream",
       "stream": "stdout",
       "text": [
        "\tvalid_term_0: 2.61827206612\n"
       ]
      },
      {
       "output_type": "stream",
       "stream": "stdout",
       "text": [
        "\tvalid_term_1_weight_decay: 0.0211269315332\n"
       ]
      },
      {
       "output_type": "stream",
       "stream": "stdout",
       "text": [
        "\tvalid_y_col_norms_max: 1.84111154079\n"
       ]
      },
      {
       "output_type": "stream",
       "stream": "stdout",
       "text": [
        "\tvalid_y_col_norms_mean: 1.62561523914\n"
       ]
      },
      {
       "output_type": "stream",
       "stream": "stdout",
       "text": [
        "\tvalid_y_col_norms_min: 1.50788271427\n"
       ]
      },
      {
       "output_type": "stream",
       "stream": "stdout",
       "text": [
        "\tvalid_y_max_max_class: 0.98291862011\n"
       ]
      },
      {
       "output_type": "stream",
       "stream": "stdout",
       "text": [
        "\tvalid_y_mean_max_class: 0.33044141531\n"
       ]
      },
      {
       "output_type": "stream",
       "stream": "stdout",
       "text": [
        "\tvalid_y_min_max_class: 0.066559150815\n"
       ]
      },
      {
       "output_type": "stream",
       "stream": "stdout",
       "text": [
        "\tvalid_y_misclass: 0.644600093365\n"
       ]
      },
      {
       "output_type": "stream",
       "stream": "stdout",
       "text": [
        "\tvalid_y_nll: 2.61827206612\n"
       ]
      },
      {
       "output_type": "stream",
       "stream": "stdout",
       "text": [
        "\tvalid_y_row_norms_max: 0.685197174549\n"
       ]
      },
      {
       "output_type": "stream",
       "stream": "stdout",
       "text": [
        "\tvalid_y_row_norms_mean: 0.557896137238\n"
       ]
      },
      {
       "output_type": "stream",
       "stream": "stdout",
       "text": [
        "\tvalid_y_row_norms_min: 0.45317414403\n"
       ]
      },
      {
       "output_type": "stream",
       "stream": "stdout",
       "text": [
        "Saving to cnn_00_best.pkl...\n"
       ]
      },
      {
       "output_type": "stream",
       "stream": "stdout",
       "text": [
        "Saving to cnn_00_best.pkl done. Time elapsed: 0.108638 seconds\n"
       ]
      },
      {
       "output_type": "stream",
       "stream": "stdout",
       "text": [
        "Time this epoch: 0:15:05.210792\n"
       ]
      },
      {
       "output_type": "stream",
       "stream": "stdout",
       "text": [
        "Monitoring step:\n"
       ]
      },
      {
       "output_type": "stream",
       "stream": "stdout",
       "text": [
        "\tEpochs seen: 5\n"
       ]
      },
      {
       "output_type": "stream",
       "stream": "stdout",
       "text": [
        "\tBatches seen: 1250\n"
       ]
      },
      {
       "output_type": "stream",
       "stream": "stdout",
       "text": [
        "\tExamples seen: 125000\n"
       ]
      },
      {
       "output_type": "stream",
       "stream": "stdout",
       "text": [
        "\tlearning_rate: 0.0100000035018\n"
       ]
      },
      {
       "output_type": "stream",
       "stream": "stdout",
       "text": [
        "\tmomentum: 0.717775344849\n"
       ]
      },
      {
       "output_type": "stream",
       "stream": "stdout",
       "text": [
        "\ttotal_seconds_last_epoch: 1121.35095215\n"
       ]
      },
      {
       "output_type": "stream",
       "stream": "stdout",
       "text": [
        "\ttrain_h2_kernel_norms_max: 0.890835285187\n"
       ]
      },
      {
       "output_type": "stream",
       "stream": "stdout",
       "text": [
        "\ttrain_h2_kernel_norms_mean: 0.384780049324\n"
       ]
      },
      {
       "output_type": "stream",
       "stream": "stdout",
       "text": [
        "\ttrain_h2_kernel_norms_min: 0.207225874066\n"
       ]
      },
      {
       "output_type": "stream",
       "stream": "stdout",
       "text": [
        "\ttrain_h2_max_x_max_u: 3.06963348389\n"
       ]
      },
      {
       "output_type": "stream",
       "stream": "stdout",
       "text": [
        "\ttrain_h2_max_x_mean_u: 0.490072727203\n"
       ]
      },
      {
       "output_type": "stream",
       "stream": "stdout",
       "text": [
        "\ttrain_h2_max_x_min_u: 0.0100549012423\n"
       ]
      },
      {
       "output_type": "stream",
       "stream": "stdout",
       "text": [
        "\ttrain_h2_mean_x_max_u: 0.716277956963\n"
       ]
      },
      {
       "output_type": "stream",
       "stream": "stdout",
       "text": [
        "\ttrain_h2_mean_x_mean_u: 0.0935930684209\n"
       ]
      },
      {
       "output_type": "stream",
       "stream": "stdout",
       "text": [
        "\ttrain_h2_mean_x_min_u: 0.00460891285911\n"
       ]
      },
      {
       "output_type": "stream",
       "stream": "stdout",
       "text": [
        "\ttrain_h2_min_x_max_u: 0.0210145059973\n"
       ]
      },
      {
       "output_type": "stream",
       "stream": "stdout",
       "text": [
        "\ttrain_h2_min_x_mean_u: 0.000205054035177\n"
       ]
      },
      {
       "output_type": "stream",
       "stream": "stdout",
       "text": [
        "\ttrain_h2_min_x_min_u: 0.0\n"
       ]
      },
      {
       "output_type": "stream",
       "stream": "stdout",
       "text": [
        "\ttrain_h2_range_x_max_u: 3.06963348389\n"
       ]
      },
      {
       "output_type": "stream",
       "stream": "stdout",
       "text": [
        "\ttrain_h2_range_x_mean_u: 0.489867895842\n"
       ]
      },
      {
       "output_type": "stream",
       "stream": "stdout",
       "text": [
        "\ttrain_h2_range_x_min_u: 0.00995335448533\n"
       ]
      },
      {
       "output_type": "stream",
       "stream": "stdout",
       "text": [
        "\ttrain_h3_kernel_norms_max: 1.43268632889\n"
       ]
      },
      {
       "output_type": "stream",
       "stream": "stdout",
       "text": [
        "\ttrain_h3_kernel_norms_mean: 1.22578155994\n"
       ]
      },
      {
       "output_type": "stream",
       "stream": "stdout",
       "text": [
        "\ttrain_h3_kernel_norms_min: 1.14673125744\n"
       ]
      },
      {
       "output_type": "stream",
       "stream": "stdout",
       "text": [
        "\ttrain_h3_max_x_max_u: 7.49060201645\n"
       ]
      },
      {
       "output_type": "stream",
       "stream": "stdout",
       "text": [
        "\ttrain_h3_max_x_mean_u: 2.53190565109\n"
       ]
      },
      {
       "output_type": "stream",
       "stream": "stdout",
       "text": [
        "\ttrain_h3_max_x_min_u: 0.0\n"
       ]
      },
      {
       "output_type": "stream",
       "stream": "stdout",
       "text": [
        "\ttrain_h3_mean_x_max_u: 2.85771942139\n"
       ]
      },
      {
       "output_type": "stream",
       "stream": "stdout",
       "text": [
        "\ttrain_h3_mean_x_mean_u: 0.770476102829\n"
       ]
      },
      {
       "output_type": "stream",
       "stream": "stdout",
       "text": [
        "\ttrain_h3_mean_x_min_u: 0.0\n"
       ]
      },
      {
       "output_type": "stream",
       "stream": "stdout",
       "text": [
        "\ttrain_h3_min_x_max_u: 0.482971608639\n"
       ]
      },
      {
       "output_type": "stream",
       "stream": "stdout",
       "text": [
        "\ttrain_h3_min_x_mean_u: 0.0139262508601\n"
       ]
      },
      {
       "output_type": "stream",
       "stream": "stdout",
       "text": [
        "\ttrain_h3_min_x_min_u: 0.0\n"
       ]
      },
      {
       "output_type": "stream",
       "stream": "stdout",
       "text": [
        "\ttrain_h3_range_x_max_u: 7.49060201645\n"
       ]
      },
      {
       "output_type": "stream",
       "stream": "stdout",
       "text": [
        "\ttrain_h3_range_x_mean_u: 2.51797914505\n"
       ]
      },
      {
       "output_type": "stream",
       "stream": "stdout",
       "text": [
        "\ttrain_h3_range_x_min_u: 0.0\n"
       ]
      },
      {
       "output_type": "stream",
       "stream": "stdout",
       "text": [
        "\ttrain_objective: 2.41484951973\n"
       ]
      },
      {
       "output_type": "stream",
       "stream": "stdout",
       "text": [
        "\ttrain_term_0: 2.39323115349\n"
       ]
      },
      {
       "output_type": "stream",
       "stream": "stdout",
       "text": [
        "\ttrain_term_1_weight_decay: 0.02161924541\n"
       ]
      },
      {
       "output_type": "stream",
       "stream": "stdout",
       "text": [
        "\ttrain_y_col_norms_max: 1.88308167458\n"
       ]
      },
      {
       "output_type": "stream",
       "stream": "stdout",
       "text": [
        "\ttrain_y_col_norms_mean: 1.63811659813\n"
       ]
      },
      {
       "output_type": "stream",
       "stream": "stdout",
       "text": [
        "\ttrain_y_col_norms_min: 1.50968706608\n"
       ]
      },
      {
       "output_type": "stream",
       "stream": "stdout",
       "text": [
        "\ttrain_y_max_max_class: 0.943689644337\n"
       ]
      },
      {
       "output_type": "stream",
       "stream": "stdout",
       "text": [
        "\ttrain_y_mean_max_class: 0.378811269999\n"
       ]
      },
      {
       "output_type": "stream",
       "stream": "stdout",
       "text": [
        "\ttrain_y_min_max_class: 0.0740913152695\n"
       ]
      },
      {
       "output_type": "stream",
       "stream": "stdout",
       "text": [
        "\ttrain_y_misclass: 0.60375982523\n"
       ]
      },
      {
       "output_type": "stream",
       "stream": "stdout",
       "text": [
        "\ttrain_y_nll: 2.39323115349\n"
       ]
      },
      {
       "output_type": "stream",
       "stream": "stdout",
       "text": [
        "\ttrain_y_row_norms_max: 0.716180920601\n"
       ]
      },
      {
       "output_type": "stream",
       "stream": "stdout",
       "text": [
        "\ttrain_y_row_norms_mean: 0.562207579613\n"
       ]
      },
      {
       "output_type": "stream",
       "stream": "stdout",
       "text": [
        "\ttrain_y_row_norms_min: 0.452332317829\n"
       ]
      },
      {
       "output_type": "stream",
       "stream": "stdout",
       "text": [
        "\ttraining_seconds_this_epoch: 905.212097168\n"
       ]
      },
      {
       "output_type": "stream",
       "stream": "stdout",
       "text": [
        "\tvalid_h2_kernel_norms_max: 0.890833795071\n"
       ]
      },
      {
       "output_type": "stream",
       "stream": "stdout",
       "text": [
        "\tvalid_h2_kernel_norms_mean: 0.38478076458\n"
       ]
      },
      {
       "output_type": "stream",
       "stream": "stdout",
       "text": [
        "\tvalid_h2_kernel_norms_min: 0.207225769758\n"
       ]
      },
      {
       "output_type": "stream",
       "stream": "stdout",
       "text": [
        "\tvalid_h2_max_x_max_u: 3.06410169601\n"
       ]
      },
      {
       "output_type": "stream",
       "stream": "stdout",
       "text": [
        "\tvalid_h2_max_x_mean_u: 0.486256122589\n"
       ]
      },
      {
       "output_type": "stream",
       "stream": "stdout",
       "text": [
        "\tvalid_h2_max_x_min_u: 0.00995274167508\n"
       ]
      },
      {
       "output_type": "stream",
       "stream": "stdout",
       "text": [
        "\tvalid_h2_mean_x_max_u: 0.732757806778\n"
       ]
      },
      {
       "output_type": "stream",
       "stream": "stdout",
       "text": [
        "\tvalid_h2_mean_x_mean_u: 0.0932400524616\n"
       ]
      },
      {
       "output_type": "stream",
       "stream": "stdout",
       "text": [
        "\tvalid_h2_mean_x_min_u: 0.00403077108786\n"
       ]
      },
      {
       "output_type": "stream",
       "stream": "stdout",
       "text": [
        "\tvalid_h2_min_x_max_u: 0.0208869893104\n"
       ]
      },
      {
       "output_type": "stream",
       "stream": "stdout",
       "text": [
        "\tvalid_h2_min_x_mean_u: 0.000209499659832\n"
       ]
      },
      {
       "output_type": "stream",
       "stream": "stdout",
       "text": [
        "\tvalid_h2_min_x_min_u: 0.0\n"
       ]
      },
      {
       "output_type": "stream",
       "stream": "stdout",
       "text": [
        "\tvalid_h2_range_x_max_u: 3.06410169601\n"
       ]
      },
      {
       "output_type": "stream",
       "stream": "stdout",
       "text": [
        "\tvalid_h2_range_x_mean_u: 0.486046552658\n"
       ]
      },
      {
       "output_type": "stream",
       "stream": "stdout",
       "text": [
        "\tvalid_h2_range_x_min_u: 0.00965220481157\n"
       ]
      },
      {
       "output_type": "stream",
       "stream": "stdout",
       "text": [
        "\tvalid_h3_kernel_norms_max: 1.43268299103\n"
       ]
      },
      {
       "output_type": "stream",
       "stream": "stdout",
       "text": [
        "\tvalid_h3_kernel_norms_mean: 1.22578370571\n"
       ]
      },
      {
       "output_type": "stream",
       "stream": "stdout",
       "text": [
        "\tvalid_h3_kernel_norms_min: 1.14672839642\n"
       ]
      },
      {
       "output_type": "stream",
       "stream": "stdout",
       "text": [
        "\tvalid_h3_max_x_max_u: 7.46926450729\n"
       ]
      },
      {
       "output_type": "stream",
       "stream": "stdout",
       "text": [
        "\tvalid_h3_max_x_mean_u: 2.53229093552\n"
       ]
      },
      {
       "output_type": "stream",
       "stream": "stdout",
       "text": [
        "\tvalid_h3_max_x_min_u: 0.0\n"
       ]
      },
      {
       "output_type": "stream",
       "stream": "stdout",
       "text": [
        "\tvalid_h3_mean_x_max_u: 2.8860912323\n"
       ]
      },
      {
       "output_type": "stream",
       "stream": "stdout",
       "text": [
        "\tvalid_h3_mean_x_mean_u: 0.773286998272\n"
       ]
      },
      {
       "output_type": "stream",
       "stream": "stdout",
       "text": [
        "\tvalid_h3_mean_x_min_u: 0.0\n"
       ]
      },
      {
       "output_type": "stream",
       "stream": "stdout",
       "text": [
        "\tvalid_h3_min_x_max_u: 0.474471181631\n"
       ]
      },
      {
       "output_type": "stream",
       "stream": "stdout",
       "text": [
        "\tvalid_h3_min_x_mean_u: 0.0141146797687\n"
       ]
      },
      {
       "output_type": "stream",
       "stream": "stdout",
       "text": [
        "\tvalid_h3_min_x_min_u: 0.0\n"
       ]
      },
      {
       "output_type": "stream",
       "stream": "stdout",
       "text": [
        "\tvalid_h3_range_x_max_u: 7.46926450729\n"
       ]
      },
      {
       "output_type": "stream",
       "stream": "stdout",
       "text": [
        "\tvalid_h3_range_x_mean_u: 2.51817679405\n"
       ]
      },
      {
       "output_type": "stream",
       "stream": "stdout",
       "text": [
        "\tvalid_h3_range_x_min_u: 0.0\n"
       ]
      },
      {
       "output_type": "stream",
       "stream": "stdout",
       "text": [
        "\tvalid_objective: 2.44269037247\n"
       ]
      },
      {
       "output_type": "stream",
       "stream": "stdout",
       "text": [
        "\tvalid_term_0: 2.42107152939\n"
       ]
      },
      {
       "output_type": "stream",
       "stream": "stdout",
       "text": [
        "\tvalid_term_1_weight_decay: 0.0216191969812\n"
       ]
      },
      {
       "output_type": "stream",
       "stream": "stdout",
       "text": [
        "\tvalid_y_col_norms_max: 1.88307607174\n"
       ]
      },
      {
       "output_type": "stream",
       "stream": "stdout",
       "text": [
        "\tvalid_y_col_norms_mean: 1.63812053204\n"
       ]
      },
      {
       "output_type": "stream",
       "stream": "stdout",
       "text": [
        "\tvalid_y_col_norms_min: 1.50968444347\n"
       ]
      },
      {
       "output_type": "stream",
       "stream": "stdout",
       "text": [
        "\tvalid_y_max_max_class: 0.941681146622\n"
       ]
      },
      {
       "output_type": "stream",
       "stream": "stdout",
       "text": [
        "\tvalid_y_mean_max_class: 0.382486552\n"
       ]
      },
      {
       "output_type": "stream",
       "stream": "stdout",
       "text": [
        "\tvalid_y_min_max_class: 0.0734234526753\n"
       ]
      },
      {
       "output_type": "stream",
       "stream": "stdout",
       "text": [
        "\tvalid_y_misclass: 0.605400025845\n"
       ]
      },
      {
       "output_type": "stream",
       "stream": "stdout",
       "text": [
        "\tvalid_y_nll: 2.42107152939\n"
       ]
      },
      {
       "output_type": "stream",
       "stream": "stdout",
       "text": [
        "\tvalid_y_row_norms_max: 0.71618282795\n"
       ]
      },
      {
       "output_type": "stream",
       "stream": "stdout",
       "text": [
        "\tvalid_y_row_norms_mean: 0.562209188938\n"
       ]
      },
      {
       "output_type": "stream",
       "stream": "stdout",
       "text": [
        "\tvalid_y_row_norms_min: 0.452333271503\n"
       ]
      },
      {
       "output_type": "stream",
       "stream": "stdout",
       "text": [
        "Saving to cnn_00_best.pkl...\n"
       ]
      },
      {
       "output_type": "stream",
       "stream": "stdout",
       "text": [
        "Saving to cnn_00_best.pkl done. Time elapsed: 0.108752 seconds\n"
       ]
      },
      {
       "output_type": "stream",
       "stream": "stdout",
       "text": [
        "Time this epoch: 0:15:05.440035\n"
       ]
      },
      {
       "output_type": "stream",
       "stream": "stdout",
       "text": [
        "Monitoring step:\n"
       ]
      },
      {
       "output_type": "stream",
       "stream": "stdout",
       "text": [
        "\tEpochs seen: 6\n"
       ]
      },
      {
       "output_type": "stream",
       "stream": "stdout",
       "text": [
        "\tBatches seen: 1500\n"
       ]
      },
      {
       "output_type": "stream",
       "stream": "stdout",
       "text": [
        "\tExamples seen: 150000\n"
       ]
      },
      {
       "output_type": "stream",
       "stream": "stdout",
       "text": [
        "\tlearning_rate: 0.0100000035018\n"
       ]
      },
      {
       "output_type": "stream",
       "stream": "stdout",
       "text": [
        "\tmomentum: 0.772222816944\n"
       ]
      },
      {
       "output_type": "stream",
       "stream": "stdout",
       "text": [
        "\ttotal_seconds_last_epoch: 1121.73730469\n"
       ]
      },
      {
       "output_type": "stream",
       "stream": "stdout",
       "text": [
        "\ttrain_h2_kernel_norms_max: 0.90352088213\n"
       ]
      },
      {
       "output_type": "stream",
       "stream": "stdout",
       "text": [
        "\ttrain_h2_kernel_norms_mean: 0.427352160215\n"
       ]
      },
      {
       "output_type": "stream",
       "stream": "stdout",
       "text": [
        "\ttrain_h2_kernel_norms_min: 0.219150513411\n"
       ]
      },
      {
       "output_type": "stream",
       "stream": "stdout",
       "text": [
        "\ttrain_h2_max_x_max_u: 3.04907512665\n"
       ]
      },
      {
       "output_type": "stream",
       "stream": "stdout",
       "text": [
        "\ttrain_h2_max_x_mean_u: 0.513497292995\n"
       ]
      },
      {
       "output_type": "stream",
       "stream": "stdout",
       "text": [
        "\ttrain_h2_max_x_min_u: 0.0103365518153\n"
       ]
      },
      {
       "output_type": "stream",
       "stream": "stdout",
       "text": [
        "\ttrain_h2_mean_x_max_u: 0.718125462532\n"
       ]
      },
      {
       "output_type": "stream",
       "stream": "stdout",
       "text": [
        "\ttrain_h2_mean_x_mean_u: 0.0993298813701\n"
       ]
      },
      {
       "output_type": "stream",
       "stream": "stdout",
       "text": [
        "\ttrain_h2_mean_x_min_u: 0.00528230611235\n"
       ]
      },
      {
       "output_type": "stream",
       "stream": "stdout",
       "text": [
        "\ttrain_h2_min_x_max_u: 0.0263027753681\n"
       ]
      },
      {
       "output_type": "stream",
       "stream": "stdout",
       "text": [
        "\ttrain_h2_min_x_mean_u: 0.000343222171068\n"
       ]
      },
      {
       "output_type": "stream",
       "stream": "stdout",
       "text": [
        "\ttrain_h2_min_x_min_u: 0.0\n"
       ]
      },
      {
       "output_type": "stream",
       "stream": "stdout",
       "text": [
        "\ttrain_h2_range_x_max_u: 3.04907512665\n"
       ]
      },
      {
       "output_type": "stream",
       "stream": "stdout",
       "text": [
        "\ttrain_h2_range_x_mean_u: 0.513154149055\n"
       ]
      },
      {
       "output_type": "stream",
       "stream": "stdout",
       "text": [
        "\ttrain_h2_range_x_min_u: 0.0102388216183\n"
       ]
      },
      {
       "output_type": "stream",
       "stream": "stdout",
       "text": [
        "\ttrain_h3_kernel_norms_max: 1.49728870392\n"
       ]
      },
      {
       "output_type": "stream",
       "stream": "stdout",
       "text": [
        "\ttrain_h3_kernel_norms_mean: 1.24632358551\n"
       ]
      },
      {
       "output_type": "stream",
       "stream": "stdout",
       "text": [
        "\ttrain_h3_kernel_norms_min: 1.14586949348\n"
       ]
      },
      {
       "output_type": "stream",
       "stream": "stdout",
       "text": [
        "\ttrain_h3_max_x_max_u: 7.00137233734\n"
       ]
      },
      {
       "output_type": "stream",
       "stream": "stdout",
       "text": [
        "\ttrain_h3_max_x_mean_u: 2.52494430542\n"
       ]
      },
      {
       "output_type": "stream",
       "stream": "stdout",
       "text": [
        "\ttrain_h3_max_x_min_u: 0.0\n"
       ]
      },
      {
       "output_type": "stream",
       "stream": "stdout",
       "text": [
        "\ttrain_h3_mean_x_max_u: 2.36602926254\n"
       ]
      },
      {
       "output_type": "stream",
       "stream": "stdout",
       "text": [
        "\ttrain_h3_mean_x_mean_u: 0.724201619625\n"
       ]
      },
      {
       "output_type": "stream",
       "stream": "stdout",
       "text": [
        "\ttrain_h3_mean_x_min_u: 0.0\n"
       ]
      },
      {
       "output_type": "stream",
       "stream": "stdout",
       "text": [
        "\ttrain_h3_min_x_max_u: 0.40660110116\n"
       ]
      },
      {
       "output_type": "stream",
       "stream": "stdout",
       "text": [
        "\ttrain_h3_min_x_mean_u: 0.00610020570457\n"
       ]
      },
      {
       "output_type": "stream",
       "stream": "stdout",
       "text": [
        "\ttrain_h3_min_x_min_u: 0.0\n"
       ]
      },
      {
       "output_type": "stream",
       "stream": "stdout",
       "text": [
        "\ttrain_h3_range_x_max_u: 7.00137233734\n"
       ]
      },
      {
       "output_type": "stream",
       "stream": "stdout",
       "text": [
        "\ttrain_h3_range_x_mean_u: 2.51884460449\n"
       ]
      },
      {
       "output_type": "stream",
       "stream": "stdout",
       "text": [
        "\ttrain_h3_range_x_min_u: 0.0\n"
       ]
      },
      {
       "output_type": "stream",
       "stream": "stdout",
       "text": [
        "\ttrain_objective: 2.19756865501\n"
       ]
      },
      {
       "output_type": "stream",
       "stream": "stdout",
       "text": [
        "\ttrain_term_0: 2.17534065247\n"
       ]
      },
      {
       "output_type": "stream",
       "stream": "stdout",
       "text": [
        "\ttrain_term_1_weight_decay: 0.022228308022\n"
       ]
      },
      {
       "output_type": "stream",
       "stream": "stdout",
       "text": [
        "\ttrain_y_col_norms_max: 1.93571460247\n"
       ]
      },
      {
       "output_type": "stream",
       "stream": "stdout",
       "text": [
        "\ttrain_y_col_norms_mean: 1.65371000767\n"
       ]
      },
      {
       "output_type": "stream",
       "stream": "stdout",
       "text": [
        "\ttrain_y_col_norms_min: 1.51359283924\n"
       ]
      },
      {
       "output_type": "stream",
       "stream": "stdout",
       "text": [
        "\ttrain_y_max_max_class: 0.961292803288\n"
       ]
      },
      {
       "output_type": "stream",
       "stream": "stdout",
       "text": [
        "\ttrain_y_mean_max_class: 0.393301635981\n"
       ]
      },
      {
       "output_type": "stream",
       "stream": "stdout",
       "text": [
        "\ttrain_y_min_max_class: 0.0825570449233\n"
       ]
      },
      {
       "output_type": "stream",
       "stream": "stdout",
       "text": [
        "\ttrain_y_misclass: 0.556400060654\n"
       ]
      },
      {
       "output_type": "stream",
       "stream": "stdout",
       "text": [
        "\ttrain_y_nll: 2.17534065247\n"
       ]
      },
      {
       "output_type": "stream",
       "stream": "stdout",
       "text": [
        "\ttrain_y_row_norms_max: 0.747059524059\n"
       ]
      },
      {
       "output_type": "stream",
       "stream": "stdout",
       "text": [
        "\ttrain_y_row_norms_mean: 0.567591786385\n"
       ]
      },
      {
       "output_type": "stream",
       "stream": "stdout",
       "text": [
        "\ttrain_y_row_norms_min: 0.451529204845\n"
       ]
      },
      {
       "output_type": "stream",
       "stream": "stdout",
       "text": [
        "\ttraining_seconds_this_epoch: 905.441040039\n"
       ]
      },
      {
       "output_type": "stream",
       "stream": "stdout",
       "text": [
        "\tvalid_h2_kernel_norms_max: 0.903522908688\n"
       ]
      },
      {
       "output_type": "stream",
       "stream": "stdout",
       "text": [
        "\tvalid_h2_kernel_norms_mean: 0.427353262901\n"
       ]
      },
      {
       "output_type": "stream",
       "stream": "stdout",
       "text": [
        "\tvalid_h2_kernel_norms_min: 0.219149947166\n"
       ]
      },
      {
       "output_type": "stream",
       "stream": "stdout",
       "text": [
        "\tvalid_h2_max_x_max_u: 3.04336690903\n"
       ]
      },
      {
       "output_type": "stream",
       "stream": "stdout",
       "text": [
        "\tvalid_h2_max_x_mean_u: 0.50962293148\n"
       ]
      },
      {
       "output_type": "stream",
       "stream": "stdout",
       "text": [
        "\tvalid_h2_max_x_min_u: 0.0102921919897\n"
       ]
      },
      {
       "output_type": "stream",
       "stream": "stdout",
       "text": [
        "\tvalid_h2_mean_x_max_u: 0.734911739826\n"
       ]
      },
      {
       "output_type": "stream",
       "stream": "stdout",
       "text": [
        "\tvalid_h2_mean_x_mean_u: 0.0989196747541\n"
       ]
      },
      {
       "output_type": "stream",
       "stream": "stdout",
       "text": [
        "\tvalid_h2_mean_x_min_u: 0.00464409729466\n"
       ]
      },
      {
       "output_type": "stream",
       "stream": "stdout",
       "text": [
        "\tvalid_h2_min_x_max_u: 0.0268618091941\n"
       ]
      },
      {
       "output_type": "stream",
       "stream": "stdout",
       "text": [
        "\tvalid_h2_min_x_mean_u: 0.000347662775312\n"
       ]
      },
      {
       "output_type": "stream",
       "stream": "stdout",
       "text": [
        "\tvalid_h2_min_x_min_u: 0.0\n"
       ]
      },
      {
       "output_type": "stream",
       "stream": "stdout",
       "text": [
        "\tvalid_h2_range_x_max_u: 3.04336690903\n"
       ]
      },
      {
       "output_type": "stream",
       "stream": "stdout",
       "text": [
        "\tvalid_h2_range_x_mean_u: 0.509275257587\n"
       ]
      },
      {
       "output_type": "stream",
       "stream": "stdout",
       "text": [
        "\tvalid_h2_range_x_min_u: 0.00997750274837\n"
       ]
      },
      {
       "output_type": "stream",
       "stream": "stdout",
       "text": [
        "\tvalid_h3_kernel_norms_max: 1.49728500843\n"
       ]
      },
      {
       "output_type": "stream",
       "stream": "stdout",
       "text": [
        "\tvalid_h3_kernel_norms_mean: 1.2463234663\n"
       ]
      },
      {
       "output_type": "stream",
       "stream": "stdout",
       "text": [
        "\tvalid_h3_kernel_norms_min: 1.14586949348\n"
       ]
      },
      {
       "output_type": "stream",
       "stream": "stdout",
       "text": [
        "\tvalid_h3_max_x_max_u: 6.9785695076\n"
       ]
      },
      {
       "output_type": "stream",
       "stream": "stdout",
       "text": [
        "\tvalid_h3_max_x_mean_u: 2.52408003807\n"
       ]
      },
      {
       "output_type": "stream",
       "stream": "stdout",
       "text": [
        "\tvalid_h3_max_x_min_u: 0.0\n"
       ]
      },
      {
       "output_type": "stream",
       "stream": "stdout",
       "text": [
        "\tvalid_h3_mean_x_max_u: 2.39241170883\n"
       ]
      },
      {
       "output_type": "stream",
       "stream": "stdout",
       "text": [
        "\tvalid_h3_mean_x_mean_u: 0.726699888706\n"
       ]
      },
      {
       "output_type": "stream",
       "stream": "stdout",
       "text": [
        "\tvalid_h3_mean_x_min_u: 0.0\n"
       ]
      },
      {
       "output_type": "stream",
       "stream": "stdout",
       "text": [
        "\tvalid_h3_min_x_max_u: 0.415055990219\n"
       ]
      },
      {
       "output_type": "stream",
       "stream": "stdout",
       "text": [
        "\tvalid_h3_min_x_mean_u: 0.00628676451743\n"
       ]
      },
      {
       "output_type": "stream",
       "stream": "stdout",
       "text": [
        "\tvalid_h3_min_x_min_u: 0.0\n"
       ]
      },
      {
       "output_type": "stream",
       "stream": "stdout",
       "text": [
        "\tvalid_h3_range_x_max_u: 6.9785695076\n"
       ]
      },
      {
       "output_type": "stream",
       "stream": "stdout",
       "text": [
        "\tvalid_h3_range_x_mean_u: 2.51779341698\n"
       ]
      },
      {
       "output_type": "stream",
       "stream": "stdout",
       "text": [
        "\tvalid_h3_range_x_min_u: 0.0\n"
       ]
      },
      {
       "output_type": "stream",
       "stream": "stdout",
       "text": [
        "\tvalid_objective: 2.25193929672\n"
       ]
      },
      {
       "output_type": "stream",
       "stream": "stdout",
       "text": [
        "\tvalid_term_0: 2.22971057892\n"
       ]
      },
      {
       "output_type": "stream",
       "stream": "stdout",
       "text": [
        "\tvalid_term_1_weight_decay: 0.022228255868\n"
       ]
      },
      {
       "output_type": "stream",
       "stream": "stdout",
       "text": [
        "\tvalid_y_col_norms_max: 1.93571329117\n"
       ]
      },
      {
       "output_type": "stream",
       "stream": "stdout",
       "text": [
        "\tvalid_y_col_norms_mean: 1.65371465683\n"
       ]
      },
      {
       "output_type": "stream",
       "stream": "stdout",
       "text": [
        "\tvalid_y_col_norms_min: 1.51359248161\n"
       ]
      },
      {
       "output_type": "stream",
       "stream": "stdout",
       "text": [
        "\tvalid_y_max_max_class: 0.958306133747\n"
       ]
      },
      {
       "output_type": "stream",
       "stream": "stdout",
       "text": [
        "\tvalid_y_mean_max_class: 0.39504507184\n"
       ]
      },
      {
       "output_type": "stream",
       "stream": "stdout",
       "text": [
        "\tvalid_y_min_max_class: 0.0822056084871\n"
       ]
      },
      {
       "output_type": "stream",
       "stream": "stdout",
       "text": [
        "\tvalid_y_misclass: 0.564999938011\n"
       ]
      },
      {
       "output_type": "stream",
       "stream": "stdout",
       "text": [
        "\tvalid_y_nll: 2.22971057892\n"
       ]
      },
      {
       "output_type": "stream",
       "stream": "stdout",
       "text": [
        "\tvalid_y_row_norms_max: 0.747060716152\n"
       ]
      },
      {
       "output_type": "stream",
       "stream": "stdout",
       "text": [
        "\tvalid_y_row_norms_mean: 0.567592442036\n"
       ]
      },
      {
       "output_type": "stream",
       "stream": "stdout",
       "text": [
        "\tvalid_y_row_norms_min: 0.451530188322\n"
       ]
      },
      {
       "output_type": "stream",
       "stream": "stdout",
       "text": [
        "Saving to cnn_00_best.pkl...\n"
       ]
      },
      {
       "output_type": "stream",
       "stream": "stdout",
       "text": [
        "Saving to cnn_00_best.pkl done. Time elapsed: 0.109757 seconds\n"
       ]
      },
      {
       "output_type": "stream",
       "stream": "stdout",
       "text": [
        "Time this epoch: 0:15:05.326430\n"
       ]
      },
      {
       "output_type": "stream",
       "stream": "stdout",
       "text": [
        "Monitoring step:\n"
       ]
      },
      {
       "output_type": "stream",
       "stream": "stdout",
       "text": [
        "\tEpochs seen: 7\n"
       ]
      },
      {
       "output_type": "stream",
       "stream": "stdout",
       "text": [
        "\tBatches seen: 1750\n"
       ]
      },
      {
       "output_type": "stream",
       "stream": "stdout",
       "text": [
        "\tExamples seen: 175000\n"
       ]
      },
      {
       "output_type": "stream",
       "stream": "stdout",
       "text": [
        "\tlearning_rate: 0.0100000035018\n"
       ]
      },
      {
       "output_type": "stream",
       "stream": "stdout",
       "text": [
        "\tmomentum: 0.826668083668\n"
       ]
      },
      {
       "output_type": "stream",
       "stream": "stdout",
       "text": [
        "\ttotal_seconds_last_epoch: 1122.16162109\n"
       ]
      },
      {
       "output_type": "stream",
       "stream": "stdout",
       "text": [
        "\ttrain_h2_kernel_norms_max: 0.974208891392\n"
       ]
      },
      {
       "output_type": "stream",
       "stream": "stdout",
       "text": [
        "\ttrain_h2_kernel_norms_mean: 0.47052654624\n"
       ]
      },
      {
       "output_type": "stream",
       "stream": "stdout",
       "text": [
        "\ttrain_h2_kernel_norms_min: 0.225599601865\n"
       ]
      },
      {
       "output_type": "stream",
       "stream": "stdout",
       "text": [
        "\ttrain_h2_max_x_max_u: 2.90810871124\n"
       ]
      },
      {
       "output_type": "stream",
       "stream": "stdout",
       "text": [
        "\ttrain_h2_max_x_mean_u: 0.530316114426\n"
       ]
      },
      {
       "output_type": "stream",
       "stream": "stdout",
       "text": [
        "\ttrain_h2_max_x_min_u: 0.0104054333642\n"
       ]
      },
      {
       "output_type": "stream",
       "stream": "stdout",
       "text": [
        "\ttrain_h2_mean_x_max_u: 0.693323075771\n"
       ]
      },
      {
       "output_type": "stream",
       "stream": "stdout",
       "text": [
        "\ttrain_h2_mean_x_mean_u: 0.103690378368\n"
       ]
      },
      {
       "output_type": "stream",
       "stream": "stdout",
       "text": [
        "\ttrain_h2_mean_x_min_u: 0.00578724872321\n"
       ]
      },
      {
       "output_type": "stream",
       "stream": "stdout",
       "text": [
        "\ttrain_h2_min_x_max_u: 0.0299129467458\n"
       ]
      },
      {
       "output_type": "stream",
       "stream": "stdout",
       "text": [
        "\ttrain_h2_min_x_mean_u: 0.000458391674329\n"
       ]
      },
      {
       "output_type": "stream",
       "stream": "stdout",
       "text": [
        "\ttrain_h2_min_x_min_u: 0.0\n"
       ]
      },
      {
       "output_type": "stream",
       "stream": "stdout",
       "text": [
        "\ttrain_h2_range_x_max_u: 2.90810871124\n"
       ]
      },
      {
       "output_type": "stream",
       "stream": "stdout",
       "text": [
        "\ttrain_h2_range_x_mean_u: 0.529857575893\n"
       ]
      },
      {
       "output_type": "stream",
       "stream": "stdout",
       "text": [
        "\ttrain_h2_range_x_min_u: 0.0103183425963\n"
       ]
      },
      {
       "output_type": "stream",
       "stream": "stdout",
       "text": [
        "\ttrain_h3_kernel_norms_max: 1.55097985268\n"
       ]
      },
      {
       "output_type": "stream",
       "stream": "stdout",
       "text": [
        "\ttrain_h3_kernel_norms_mean: 1.27260065079\n"
       ]
      },
      {
       "output_type": "stream",
       "stream": "stdout",
       "text": [
        "\ttrain_h3_kernel_norms_min: 1.14497220516\n"
       ]
      },
      {
       "output_type": "stream",
       "stream": "stdout",
       "text": [
        "\ttrain_h3_max_x_max_u: 6.65878772736\n"
       ]
      },
      {
       "output_type": "stream",
       "stream": "stdout",
       "text": [
        "\ttrain_h3_max_x_mean_u: 2.50475525856\n"
       ]
      },
      {
       "output_type": "stream",
       "stream": "stdout",
       "text": [
        "\ttrain_h3_max_x_min_u: 0.0\n"
       ]
      },
      {
       "output_type": "stream",
       "stream": "stdout",
       "text": [
        "\ttrain_h3_mean_x_max_u: 2.14061498642\n"
       ]
      },
      {
       "output_type": "stream",
       "stream": "stdout",
       "text": [
        "\ttrain_h3_mean_x_mean_u: 0.661438345909\n"
       ]
      },
      {
       "output_type": "stream",
       "stream": "stdout",
       "text": [
        "\ttrain_h3_mean_x_min_u: 0.0\n"
       ]
      },
      {
       "output_type": "stream",
       "stream": "stdout",
       "text": [
        "\ttrain_h3_min_x_max_u: 0.17762593925\n"
       ]
      },
      {
       "output_type": "stream",
       "stream": "stdout",
       "text": [
        "\ttrain_h3_min_x_mean_u: 0.000685086881276\n"
       ]
      },
      {
       "output_type": "stream",
       "stream": "stdout",
       "text": [
        "\ttrain_h3_min_x_min_u: 0.0\n"
       ]
      },
      {
       "output_type": "stream",
       "stream": "stdout",
       "text": [
        "\ttrain_h3_range_x_max_u: 6.65878772736\n"
       ]
      },
      {
       "output_type": "stream",
       "stream": "stdout",
       "text": [
        "\ttrain_h3_range_x_mean_u: 2.50406908989\n"
       ]
      },
      {
       "output_type": "stream",
       "stream": "stdout",
       "text": [
        "\ttrain_h3_range_x_min_u: 0.0\n"
       ]
      },
      {
       "output_type": "stream",
       "stream": "stdout",
       "text": [
        "\ttrain_objective: 2.02239608765\n"
       ]
      },
      {
       "output_type": "stream",
       "stream": "stdout",
       "text": [
        "\ttrain_term_0: 1.99941217899\n"
       ]
      },
      {
       "output_type": "stream",
       "stream": "stdout",
       "text": [
        "\ttrain_term_1_weight_decay: 0.0229836516082\n"
       ]
      },
      {
       "output_type": "stream",
       "stream": "stdout",
       "text": [
        "\ttrain_y_col_norms_max: 1.93679344654\n"
       ]
      },
      {
       "output_type": "stream",
       "stream": "stdout",
       "text": [
        "\ttrain_y_col_norms_mean: 1.67282581329\n"
       ]
      },
      {
       "output_type": "stream",
       "stream": "stdout",
       "text": [
        "\ttrain_y_col_norms_min: 1.52692008018\n"
       ]
      },
      {
       "output_type": "stream",
       "stream": "stdout",
       "text": [
        "\ttrain_y_max_max_class: 0.980976700783\n"
       ]
      },
      {
       "output_type": "stream",
       "stream": "stdout",
       "text": [
        "\ttrain_y_mean_max_class: 0.435070157051\n"
       ]
      },
      {
       "output_type": "stream",
       "stream": "stdout",
       "text": [
        "\ttrain_y_min_max_class: 0.0824708417058\n"
       ]
      },
      {
       "output_type": "stream",
       "stream": "stdout",
       "text": [
        "\ttrain_y_misclass: 0.531040072441\n"
       ]
      },
      {
       "output_type": "stream",
       "stream": "stdout",
       "text": [
        "\ttrain_y_nll: 1.99941217899\n"
       ]
      },
      {
       "output_type": "stream",
       "stream": "stdout",
       "text": [
        "\ttrain_y_row_norms_max: 0.778873503208\n"
       ]
      },
      {
       "output_type": "stream",
       "stream": "stdout",
       "text": [
        "\ttrain_y_row_norms_mean: 0.574147880077\n"
       ]
      },
      {
       "output_type": "stream",
       "stream": "stdout",
       "text": [
        "\ttrain_y_row_norms_min: 0.449582904577\n"
       ]
      },
      {
       "output_type": "stream",
       "stream": "stdout",
       "text": [
        "\ttraining_seconds_this_epoch: 905.323486328\n"
       ]
      },
      {
       "output_type": "stream",
       "stream": "stdout",
       "text": [
        "\tvalid_h2_kernel_norms_max: 0.97421091795\n"
       ]
      },
      {
       "output_type": "stream",
       "stream": "stdout",
       "text": [
        "\tvalid_h2_kernel_norms_mean: 0.470526635647\n"
       ]
      },
      {
       "output_type": "stream",
       "stream": "stdout",
       "text": [
        "\tvalid_h2_kernel_norms_min: 0.225599110126\n"
       ]
      },
      {
       "output_type": "stream",
       "stream": "stdout",
       "text": [
        "\tvalid_h2_max_x_max_u: 2.90255618095\n"
       ]
      },
      {
       "output_type": "stream",
       "stream": "stdout",
       "text": [
        "\tvalid_h2_max_x_mean_u: 0.526374220848\n"
       ]
      },
      {
       "output_type": "stream",
       "stream": "stdout",
       "text": [
        "\tvalid_h2_max_x_min_u: 0.0103683136404\n"
       ]
      },
      {
       "output_type": "stream",
       "stream": "stdout",
       "text": [
        "\tvalid_h2_mean_x_max_u: 0.709868431091\n"
       ]
      },
      {
       "output_type": "stream",
       "stream": "stdout",
       "text": [
        "\tvalid_h2_mean_x_mean_u: 0.103222467005\n"
       ]
      },
      {
       "output_type": "stream",
       "stream": "stdout",
       "text": [
        "\tvalid_h2_mean_x_min_u: 0.00521453469992\n"
       ]
      },
      {
       "output_type": "stream",
       "stream": "stdout",
       "text": [
        "\tvalid_h2_min_x_max_u: 0.0312403924763\n"
       ]
      },
      {
       "output_type": "stream",
       "stream": "stdout",
       "text": [
        "\tvalid_h2_min_x_mean_u: 0.000465672870632\n"
       ]
      },
      {
       "output_type": "stream",
       "stream": "stdout",
       "text": [
        "\tvalid_h2_min_x_min_u: 0.0\n"
       ]
      },
      {
       "output_type": "stream",
       "stream": "stdout",
       "text": [
        "\tvalid_h2_range_x_max_u: 2.90255618095\n"
       ]
      },
      {
       "output_type": "stream",
       "stream": "stdout",
       "text": [
        "\tvalid_h2_range_x_mean_u: 0.525908589363\n"
       ]
      },
      {
       "output_type": "stream",
       "stream": "stdout",
       "text": [
        "\tvalid_h2_range_x_min_u: 0.0100769279525\n"
       ]
      },
      {
       "output_type": "stream",
       "stream": "stdout",
       "text": [
        "\tvalid_h3_kernel_norms_max: 1.55098032951\n"
       ]
      },
      {
       "output_type": "stream",
       "stream": "stdout",
       "text": [
        "\tvalid_h3_kernel_norms_mean: 1.27260315418\n"
       ]
      },
      {
       "output_type": "stream",
       "stream": "stdout",
       "text": [
        "\tvalid_h3_kernel_norms_min: 1.14496922493\n"
       ]
      },
      {
       "output_type": "stream",
       "stream": "stdout",
       "text": [
        "\tvalid_h3_max_x_max_u: 6.63183116913\n"
       ]
      },
      {
       "output_type": "stream",
       "stream": "stdout",
       "text": [
        "\tvalid_h3_max_x_mean_u: 2.50318813324\n"
       ]
      },
      {
       "output_type": "stream",
       "stream": "stdout",
       "text": [
        "\tvalid_h3_max_x_min_u: 0.0\n"
       ]
      },
      {
       "output_type": "stream",
       "stream": "stdout",
       "text": [
        "\tvalid_h3_mean_x_max_u: 2.16648006439\n"
       ]
      },
      {
       "output_type": "stream",
       "stream": "stdout",
       "text": [
        "\tvalid_h3_mean_x_mean_u: 0.663544416428\n"
       ]
      },
      {
       "output_type": "stream",
       "stream": "stdout",
       "text": [
        "\tvalid_h3_mean_x_min_u: 0.0\n"
       ]
      },
      {
       "output_type": "stream",
       "stream": "stdout",
       "text": [
        "\tvalid_h3_min_x_max_u: 0.191344156861\n"
       ]
      },
      {
       "output_type": "stream",
       "stream": "stdout",
       "text": [
        "\tvalid_h3_min_x_mean_u: 0.000732987653464\n"
       ]
      },
      {
       "output_type": "stream",
       "stream": "stdout",
       "text": [
        "\tvalid_h3_min_x_min_u: 0.0\n"
       ]
      },
      {
       "output_type": "stream",
       "stream": "stdout",
       "text": [
        "\tvalid_h3_range_x_max_u: 6.63183116913\n"
       ]
      },
      {
       "output_type": "stream",
       "stream": "stdout",
       "text": [
        "\tvalid_h3_range_x_mean_u: 2.50245547295\n"
       ]
      },
      {
       "output_type": "stream",
       "stream": "stdout",
       "text": [
        "\tvalid_h3_range_x_min_u: 0.0\n"
       ]
      },
      {
       "output_type": "stream",
       "stream": "stdout",
       "text": [
        "\tvalid_objective: 2.10042572021\n"
       ]
      },
      {
       "output_type": "stream",
       "stream": "stdout",
       "text": [
        "\tvalid_term_0: 2.07744193077\n"
       ]
      },
      {
       "output_type": "stream",
       "stream": "stdout",
       "text": [
        "\tvalid_term_1_weight_decay: 0.022983668372\n"
       ]
      },
      {
       "output_type": "stream",
       "stream": "stdout",
       "text": [
        "\tvalid_y_col_norms_max: 1.93679451942\n"
       ]
      },
      {
       "output_type": "stream",
       "stream": "stdout",
       "text": [
        "\tvalid_y_col_norms_mean: 1.67282235622\n"
       ]
      },
      {
       "output_type": "stream",
       "stream": "stdout",
       "text": [
        "\tvalid_y_col_norms_min: 1.52691745758\n"
       ]
      },
      {
       "output_type": "stream",
       "stream": "stdout",
       "text": [
        "\tvalid_y_max_max_class: 0.979879498482\n"
       ]
      },
      {
       "output_type": "stream",
       "stream": "stdout",
       "text": [
        "\tvalid_y_mean_max_class: 0.435889363289\n"
       ]
      },
      {
       "output_type": "stream",
       "stream": "stdout",
       "text": [
        "\tvalid_y_min_max_class: 0.0809186175466\n"
       ]
      },
      {
       "output_type": "stream",
       "stream": "stdout",
       "text": [
        "\tvalid_y_misclass: 0.542199969292\n"
       ]
      },
      {
       "output_type": "stream",
       "stream": "stdout",
       "text": [
        "\tvalid_y_nll: 2.07744193077\n"
       ]
      },
      {
       "output_type": "stream",
       "stream": "stdout",
       "text": [
        "\tvalid_y_row_norms_max: 0.778875470161\n"
       ]
      },
      {
       "output_type": "stream",
       "stream": "stdout",
       "text": [
        "\tvalid_y_row_norms_mean: 0.574147820473\n"
       ]
      },
      {
       "output_type": "stream",
       "stream": "stdout",
       "text": [
        "\tvalid_y_row_norms_min: 0.449582904577\n"
       ]
      },
      {
       "output_type": "stream",
       "stream": "stdout",
       "text": [
        "Saving to cnn_00_best.pkl...\n"
       ]
      },
      {
       "output_type": "stream",
       "stream": "stdout",
       "text": [
        "Saving to cnn_00_best.pkl done. Time elapsed: 0.109988 seconds\n"
       ]
      },
      {
       "output_type": "stream",
       "stream": "stdout",
       "text": [
        "Time this epoch: 0:15:05.388334\n"
       ]
      },
      {
       "output_type": "stream",
       "stream": "stdout",
       "text": [
        "Monitoring step:\n"
       ]
      },
      {
       "output_type": "stream",
       "stream": "stdout",
       "text": [
        "\tEpochs seen: 8\n"
       ]
      },
      {
       "output_type": "stream",
       "stream": "stdout",
       "text": [
        "\tBatches seen: 2000\n"
       ]
      },
      {
       "output_type": "stream",
       "stream": "stdout",
       "text": [
        "\tExamples seen: 200000\n"
       ]
      },
      {
       "output_type": "stream",
       "stream": "stdout",
       "text": [
        "\tlearning_rate: 0.0100000035018\n"
       ]
      },
      {
       "output_type": "stream",
       "stream": "stdout",
       "text": [
        "\tmomentum: 0.881109058857\n"
       ]
      },
      {
       "output_type": "stream",
       "stream": "stdout",
       "text": [
        "\ttotal_seconds_last_epoch: 1122.01196289\n"
       ]
      },
      {
       "output_type": "stream",
       "stream": "stdout",
       "text": [
        "\ttrain_h2_kernel_norms_max: 1.06104874611\n"
       ]
      },
      {
       "output_type": "stream",
       "stream": "stdout",
       "text": [
        "\ttrain_h2_kernel_norms_mean: 0.515818119049\n"
       ]
      },
      {
       "output_type": "stream",
       "stream": "stdout",
       "text": [
        "\ttrain_h2_kernel_norms_min: 0.226612314582\n"
       ]
      },
      {
       "output_type": "stream",
       "stream": "stdout",
       "text": [
        "\ttrain_h2_max_x_max_u: 2.65699696541\n"
       ]
      },
      {
       "output_type": "stream",
       "stream": "stdout",
       "text": [
        "\ttrain_h2_max_x_mean_u: 0.539927899837\n"
       ]
      },
      {
       "output_type": "stream",
       "stream": "stdout",
       "text": [
        "\ttrain_h2_max_x_min_u: 0.0103400889784\n"
       ]
      },
      {
       "output_type": "stream",
       "stream": "stdout",
       "text": [
        "\ttrain_h2_mean_x_max_u: 0.638455271721\n"
       ]
      },
      {
       "output_type": "stream",
       "stream": "stdout",
       "text": [
        "\ttrain_h2_mean_x_mean_u: 0.106305122375\n"
       ]
      },
      {
       "output_type": "stream",
       "stream": "stdout",
       "text": [
        "\ttrain_h2_mean_x_min_u: 0.00617851642892\n"
       ]
      },
      {
       "output_type": "stream",
       "stream": "stdout",
       "text": [
        "\ttrain_h2_min_x_max_u: 0.0352112129331\n"
       ]
      },
      {
       "output_type": "stream",
       "stream": "stdout",
       "text": [
        "\ttrain_h2_min_x_mean_u: 0.000658363103867\n"
       ]
      },
      {
       "output_type": "stream",
       "stream": "stdout",
       "text": [
        "\ttrain_h2_min_x_min_u: 0.0\n"
       ]
      },
      {
       "output_type": "stream",
       "stream": "stdout",
       "text": [
        "\ttrain_h2_range_x_max_u: 2.65699696541\n"
       ]
      },
      {
       "output_type": "stream",
       "stream": "stdout",
       "text": [
        "\ttrain_h2_range_x_mean_u: 0.539269626141\n"
       ]
      },
      {
       "output_type": "stream",
       "stream": "stdout",
       "text": [
        "\ttrain_h2_range_x_min_u: 0.0102456351742\n"
       ]
      },
      {
       "output_type": "stream",
       "stream": "stdout",
       "text": [
        "\ttrain_h3_kernel_norms_max: 1.64010381699\n"
       ]
      },
      {
       "output_type": "stream",
       "stream": "stdout",
       "text": [
        "\ttrain_h3_kernel_norms_mean: 1.31118071079\n"
       ]
      },
      {
       "output_type": "stream",
       "stream": "stdout",
       "text": [
        "\ttrain_h3_kernel_norms_min: 1.14348781109\n"
       ]
      },
      {
       "output_type": "stream",
       "stream": "stdout",
       "text": [
        "\ttrain_h3_max_x_max_u: 5.79538011551\n"
       ]
      },
      {
       "output_type": "stream",
       "stream": "stdout",
       "text": [
        "\ttrain_h3_max_x_mean_u: 2.42993783951\n"
       ]
      },
      {
       "output_type": "stream",
       "stream": "stdout",
       "text": [
        "\ttrain_h3_max_x_min_u: 0.0\n"
       ]
      },
      {
       "output_type": "stream",
       "stream": "stdout",
       "text": [
        "\ttrain_h3_mean_x_max_u: 1.76080310345\n"
       ]
      },
      {
       "output_type": "stream",
       "stream": "stdout",
       "text": [
        "\ttrain_h3_mean_x_mean_u: 0.58254468441\n"
       ]
      },
      {
       "output_type": "stream",
       "stream": "stdout",
       "text": [
        "\ttrain_h3_mean_x_min_u: 0.0\n"
       ]
      },
      {
       "output_type": "stream",
       "stream": "stdout",
       "text": [
        "\ttrain_h3_min_x_max_u: 0.228319913149\n"
       ]
      },
      {
       "output_type": "stream",
       "stream": "stdout",
       "text": [
        "\ttrain_h3_min_x_mean_u: 0.000930340494961\n"
       ]
      },
      {
       "output_type": "stream",
       "stream": "stdout",
       "text": [
        "\ttrain_h3_min_x_min_u: 0.0\n"
       ]
      },
      {
       "output_type": "stream",
       "stream": "stdout",
       "text": [
        "\ttrain_h3_range_x_max_u: 5.79538011551\n"
       ]
      },
      {
       "output_type": "stream",
       "stream": "stdout",
       "text": [
        "\ttrain_h3_range_x_mean_u: 2.42900753021\n"
       ]
      },
      {
       "output_type": "stream",
       "stream": "stdout",
       "text": [
        "\ttrain_h3_range_x_min_u: 0.0\n"
       ]
      },
      {
       "output_type": "stream",
       "stream": "stdout",
       "text": [
        "\ttrain_objective: 1.89331305027\n"
       ]
      },
      {
       "output_type": "stream",
       "stream": "stdout",
       "text": [
        "\ttrain_term_0: 1.86932384968\n"
       ]
      },
      {
       "output_type": "stream",
       "stream": "stdout",
       "text": [
        "\ttrain_term_1_weight_decay: 0.0239894427359\n"
       ]
      },
      {
       "output_type": "stream",
       "stream": "stdout",
       "text": [
        "\ttrain_y_col_norms_max: 1.93938803673\n"
       ]
      },
      {
       "output_type": "stream",
       "stream": "stdout",
       "text": [
        "\ttrain_y_col_norms_mean: 1.6969742775\n"
       ]
      },
      {
       "output_type": "stream",
       "stream": "stdout",
       "text": [
        "\ttrain_y_col_norms_min: 1.55070447922\n"
       ]
      },
      {
       "output_type": "stream",
       "stream": "stdout",
       "text": [
        "\ttrain_y_max_max_class: 0.974164128304\n"
       ]
      },
      {
       "output_type": "stream",
       "stream": "stdout",
       "text": [
        "\ttrain_y_mean_max_class: 0.476628124714\n"
       ]
      },
      {
       "output_type": "stream",
       "stream": "stdout",
       "text": [
        "\ttrain_y_min_max_class: 0.0928438529372\n"
       ]
      },
      {
       "output_type": "stream",
       "stream": "stdout",
       "text": [
        "\ttrain_y_misclass: 0.504000067711\n"
       ]
      },
      {
       "output_type": "stream",
       "stream": "stdout",
       "text": [
        "\ttrain_y_nll: 1.86932384968\n"
       ]
      },
      {
       "output_type": "stream",
       "stream": "stdout",
       "text": [
        "\ttrain_y_row_norms_max: 0.810985326767\n"
       ]
      },
      {
       "output_type": "stream",
       "stream": "stdout",
       "text": [
        "\ttrain_y_row_norms_mean: 0.582232713699\n"
       ]
      },
      {
       "output_type": "stream",
       "stream": "stdout",
       "text": [
        "\ttrain_y_row_norms_min: 0.451527118683\n"
       ]
      },
      {
       "output_type": "stream",
       "stream": "stdout",
       "text": [
        "\ttraining_seconds_this_epoch: 905.391235352\n"
       ]
      },
      {
       "output_type": "stream",
       "stream": "stdout",
       "text": [
        "\tvalid_h2_kernel_norms_max: 1.0610460043\n"
       ]
      },
      {
       "output_type": "stream",
       "stream": "stdout",
       "text": [
        "\tvalid_h2_kernel_norms_mean: 0.515816986561\n"
       ]
      },
      {
       "output_type": "stream",
       "stream": "stdout",
       "text": [
        "\tvalid_h2_kernel_norms_min: 0.226611837745\n"
       ]
      },
      {
       "output_type": "stream",
       "stream": "stdout",
       "text": [
        "\tvalid_h2_max_x_max_u: 2.65151309967\n"
       ]
      },
      {
       "output_type": "stream",
       "stream": "stdout",
       "text": [
        "\tvalid_h2_max_x_mean_u: 0.535879611969\n"
       ]
      },
      {
       "output_type": "stream",
       "stream": "stdout",
       "text": [
        "\tvalid_h2_max_x_min_u: 0.0101466625929\n"
       ]
      },
      {
       "output_type": "stream",
       "stream": "stdout",
       "text": [
        "\tvalid_h2_mean_x_max_u: 0.654220104218\n"
       ]
      },
      {
       "output_type": "stream",
       "stream": "stdout",
       "text": [
        "\tvalid_h2_mean_x_mean_u: 0.105776138604\n"
       ]
      },
      {
       "output_type": "stream",
       "stream": "stdout",
       "text": [
        "\tvalid_h2_mean_x_min_u: 0.00573462992907\n"
       ]
      },
      {
       "output_type": "stream",
       "stream": "stdout",
       "text": [
        "\tvalid_h2_min_x_max_u: 0.036307733506\n"
       ]
      },
      {
       "output_type": "stream",
       "stream": "stdout",
       "text": [
        "\tvalid_h2_min_x_mean_u: 0.000662594800815\n"
       ]
      },
      {
       "output_type": "stream",
       "stream": "stdout",
       "text": [
        "\tvalid_h2_min_x_min_u: 0.0\n"
       ]
      },
      {
       "output_type": "stream",
       "stream": "stdout",
       "text": [
        "\tvalid_h2_range_x_max_u: 2.65151309967\n"
       ]
      },
      {
       "output_type": "stream",
       "stream": "stdout",
       "text": [
        "\tvalid_h2_range_x_mean_u: 0.535217046738\n"
       ]
      },
      {
       "output_type": "stream",
       "stream": "stdout",
       "text": [
        "\tvalid_h2_range_x_min_u: 0.00986524857581\n"
       ]
      },
      {
       "output_type": "stream",
       "stream": "stdout",
       "text": [
        "\tvalid_h3_kernel_norms_max: 1.64009976387\n"
       ]
      },
      {
       "output_type": "stream",
       "stream": "stdout",
       "text": [
        "\tvalid_h3_kernel_norms_mean: 1.31117761135\n"
       ]
      },
      {
       "output_type": "stream",
       "stream": "stdout",
       "text": [
        "\tvalid_h3_kernel_norms_min: 1.14348912239\n"
       ]
      },
      {
       "output_type": "stream",
       "stream": "stdout",
       "text": [
        "\tvalid_h3_max_x_max_u: 5.69769001007\n"
       ]
      },
      {
       "output_type": "stream",
       "stream": "stdout",
       "text": [
        "\tvalid_h3_max_x_mean_u: 2.42500329018\n"
       ]
      },
      {
       "output_type": "stream",
       "stream": "stdout",
       "text": [
        "\tvalid_h3_max_x_min_u: 0.0\n"
       ]
      },
      {
       "output_type": "stream",
       "stream": "stdout",
       "text": [
        "\tvalid_h3_mean_x_max_u: 1.77140951157\n"
       ]
      },
      {
       "output_type": "stream",
       "stream": "stdout",
       "text": [
        "\tvalid_h3_mean_x_mean_u: 0.583590209484\n"
       ]
      },
      {
       "output_type": "stream",
       "stream": "stdout",
       "text": [
        "\tvalid_h3_mean_x_min_u: 0.0\n"
       ]
      },
      {
       "output_type": "stream",
       "stream": "stdout",
       "text": [
        "\tvalid_h3_min_x_max_u: 0.236387342215\n"
       ]
      },
      {
       "output_type": "stream",
       "stream": "stdout",
       "text": [
        "\tvalid_h3_min_x_mean_u: 0.000990302651189\n"
       ]
      },
      {
       "output_type": "stream",
       "stream": "stdout",
       "text": [
        "\tvalid_h3_min_x_min_u: 0.0\n"
       ]
      },
      {
       "output_type": "stream",
       "stream": "stdout",
       "text": [
        "\tvalid_h3_range_x_max_u: 5.69769001007\n"
       ]
      },
      {
       "output_type": "stream",
       "stream": "stdout",
       "text": [
        "\tvalid_h3_range_x_mean_u: 2.42401361465\n"
       ]
      },
      {
       "output_type": "stream",
       "stream": "stdout",
       "text": [
        "\tvalid_h3_range_x_min_u: 0.0\n"
       ]
      },
      {
       "output_type": "stream",
       "stream": "stdout",
       "text": [
        "\tvalid_objective: 1.99490880966\n"
       ]
      },
      {
       "output_type": "stream",
       "stream": "stdout",
       "text": [
        "\tvalid_term_0: 1.97091925144\n"
       ]
      },
      {
       "output_type": "stream",
       "stream": "stdout",
       "text": [
        "\tvalid_term_1_weight_decay: 0.0239893868566\n"
       ]
      },
      {
       "output_type": "stream",
       "stream": "stdout",
       "text": [
        "\tvalid_y_col_norms_max: 1.93939220905\n"
       ]
      },
      {
       "output_type": "stream",
       "stream": "stdout",
       "text": [
        "\tvalid_y_col_norms_mean: 1.69697535038\n"
       ]
      },
      {
       "output_type": "stream",
       "stream": "stdout",
       "text": [
        "\tvalid_y_col_norms_min: 1.55070471764\n"
       ]
      },
      {
       "output_type": "stream",
       "stream": "stdout",
       "text": [
        "\tvalid_y_max_max_class: 0.974137187004\n"
       ]
      },
      {
       "output_type": "stream",
       "stream": "stdout",
       "text": [
        "\tvalid_y_mean_max_class: 0.477521032095\n"
       ]
      },
      {
       "output_type": "stream",
       "stream": "stdout",
       "text": [
        "\tvalid_y_min_max_class: 0.093402504921\n"
       ]
      },
      {
       "output_type": "stream",
       "stream": "stdout",
       "text": [
        "\tvalid_y_misclass: 0.526000022888\n"
       ]
      },
      {
       "output_type": "stream",
       "stream": "stdout",
       "text": [
        "\tvalid_y_nll: 1.97091925144\n"
       ]
      },
      {
       "output_type": "stream",
       "stream": "stdout",
       "text": [
        "\tvalid_y_row_norms_max: 0.810986995697\n"
       ]
      },
      {
       "output_type": "stream",
       "stream": "stdout",
       "text": [
        "\tvalid_y_row_norms_mean: 0.582231879234\n"
       ]
      },
      {
       "output_type": "stream",
       "stream": "stdout",
       "text": [
        "\tvalid_y_row_norms_min: 0.451526135206\n"
       ]
      },
      {
       "output_type": "stream",
       "stream": "stdout",
       "text": [
        "Saving to cnn_00_best.pkl...\n"
       ]
      },
      {
       "output_type": "stream",
       "stream": "stdout",
       "text": [
        "Saving to cnn_00_best.pkl done. Time elapsed: 0.111709 seconds\n"
       ]
      },
      {
       "output_type": "stream",
       "stream": "stdout",
       "text": [
        "Time this epoch: 0:15:05.974661\n"
       ]
      },
      {
       "output_type": "stream",
       "stream": "stdout",
       "text": [
        "Monitoring step:\n"
       ]
      },
      {
       "output_type": "stream",
       "stream": "stdout",
       "text": [
        "\tEpochs seen: 9\n"
       ]
      },
      {
       "output_type": "stream",
       "stream": "stdout",
       "text": [
        "\tBatches seen: 2250\n"
       ]
      },
      {
       "output_type": "stream",
       "stream": "stdout",
       "text": [
        "\tExamples seen: 225000\n"
       ]
      },
      {
       "output_type": "stream",
       "stream": "stdout",
       "text": [
        "\tlearning_rate: 0.0100000035018\n"
       ]
      },
      {
       "output_type": "stream",
       "stream": "stdout",
       "text": [
        "\tmomentum: 0.935554742813\n"
       ]
      },
      {
       "output_type": "stream",
       "stream": "stdout",
       "text": [
        "\ttotal_seconds_last_epoch: 1122.20288086\n"
       ]
      },
      {
       "output_type": "stream",
       "stream": "stdout",
       "text": [
        "\ttrain_h2_kernel_norms_max: 1.19486761093\n"
       ]
      },
      {
       "output_type": "stream",
       "stream": "stdout",
       "text": [
        "\ttrain_h2_kernel_norms_mean: 0.558943808079\n"
       ]
      },
      {
       "output_type": "stream",
       "stream": "stdout",
       "text": [
        "\ttrain_h2_kernel_norms_min: 0.196714252234\n"
       ]
      },
      {
       "output_type": "stream",
       "stream": "stdout",
       "text": [
        "\ttrain_h2_max_x_max_u: 2.12016916275\n"
       ]
      },
      {
       "output_type": "stream",
       "stream": "stdout",
       "text": [
        "\ttrain_h2_max_x_mean_u: 0.528344273567\n"
       ]
      },
      {
       "output_type": "stream",
       "stream": "stdout",
       "text": [
        "\ttrain_h2_max_x_min_u: 0.0123296938837\n"
       ]
      },
      {
       "output_type": "stream",
       "stream": "stdout",
       "text": [
        "\ttrain_h2_mean_x_max_u: 0.539423823357\n"
       ]
      },
      {
       "output_type": "stream",
       "stream": "stdout",
       "text": [
        "\ttrain_h2_mean_x_mean_u: 0.103652887046\n"
       ]
      },
      {
       "output_type": "stream",
       "stream": "stdout",
       "text": [
        "\ttrain_h2_mean_x_min_u: 0.00581195903942\n"
       ]
      },
      {
       "output_type": "stream",
       "stream": "stdout",
       "text": [
        "\ttrain_h2_min_x_max_u: 0.0419199317694\n"
       ]
      },
      {
       "output_type": "stream",
       "stream": "stdout",
       "text": [
        "\ttrain_h2_min_x_mean_u: 0.000941347738262\n"
       ]
      },
      {
       "output_type": "stream",
       "stream": "stdout",
       "text": [
        "\ttrain_h2_min_x_min_u: 0.0\n"
       ]
      },
      {
       "output_type": "stream",
       "stream": "stdout",
       "text": [
        "\ttrain_h2_range_x_max_u: 2.12014770508\n"
       ]
      },
      {
       "output_type": "stream",
       "stream": "stdout",
       "text": [
        "\ttrain_h2_range_x_mean_u: 0.527402818203\n"
       ]
      },
      {
       "output_type": "stream",
       "stream": "stdout",
       "text": [
        "\ttrain_h2_range_x_min_u: 0.0121294409037\n"
       ]
      },
      {
       "output_type": "stream",
       "stream": "stdout",
       "text": [
        "\ttrain_h3_kernel_norms_max: 1.78592765331\n"
       ]
      },
      {
       "output_type": "stream",
       "stream": "stdout",
       "text": [
        "\ttrain_h3_kernel_norms_mean: 1.3871871233\n"
       ]
      },
      {
       "output_type": "stream",
       "stream": "stdout",
       "text": [
        "\ttrain_h3_kernel_norms_min: 1.14266061783\n"
       ]
      },
      {
       "output_type": "stream",
       "stream": "stdout",
       "text": [
        "\ttrain_h3_max_x_max_u: 5.46724843979\n"
       ]
      },
      {
       "output_type": "stream",
       "stream": "stdout",
       "text": [
        "\ttrain_h3_max_x_mean_u: 2.34507632256\n"
       ]
      },
      {
       "output_type": "stream",
       "stream": "stdout",
       "text": [
        "\ttrain_h3_max_x_min_u: 0.0\n"
       ]
      },
      {
       "output_type": "stream",
       "stream": "stdout",
       "text": [
        "\ttrain_h3_mean_x_max_u: 1.52170932293\n"
       ]
      },
      {
       "output_type": "stream",
       "stream": "stdout",
       "text": [
        "\ttrain_h3_mean_x_mean_u: 0.478270590305\n"
       ]
      },
      {
       "output_type": "stream",
       "stream": "stdout",
       "text": [
        "\ttrain_h3_mean_x_min_u: 0.0\n"
       ]
      },
      {
       "output_type": "stream",
       "stream": "stdout",
       "text": [
        "\ttrain_h3_min_x_max_u: 0.101659417152\n"
       ]
      },
      {
       "output_type": "stream",
       "stream": "stdout",
       "text": [
        "\ttrain_h3_min_x_mean_u: 0.000153067710926\n"
       ]
      },
      {
       "output_type": "stream",
       "stream": "stdout",
       "text": [
        "\ttrain_h3_min_x_min_u: 0.0\n"
       ]
      },
      {
       "output_type": "stream",
       "stream": "stdout",
       "text": [
        "\ttrain_h3_range_x_max_u: 5.46724843979\n"
       ]
      },
      {
       "output_type": "stream",
       "stream": "stdout",
       "text": [
        "\ttrain_h3_range_x_mean_u: 2.34492373466\n"
       ]
      },
      {
       "output_type": "stream",
       "stream": "stdout",
       "text": [
        "\ttrain_h3_range_x_min_u: 0.0\n"
       ]
      },
      {
       "output_type": "stream",
       "stream": "stdout",
       "text": [
        "\ttrain_objective: 1.70666444302\n"
       ]
      },
      {
       "output_type": "stream",
       "stream": "stdout",
       "text": [
        "\ttrain_term_0: 1.6809387207\n"
       ]
      },
      {
       "output_type": "stream",
       "stream": "stdout",
       "text": [
        "\ttrain_term_1_weight_decay: 0.025725485757\n"
       ]
      },
      {
       "output_type": "stream",
       "stream": "stdout",
       "text": [
        "\ttrain_y_col_norms_max: 1.93917572498\n"
       ]
      },
      {
       "output_type": "stream",
       "stream": "stdout",
       "text": [
        "\ttrain_y_col_norms_mean: 1.73735630512\n"
       ]
      },
      {
       "output_type": "stream",
       "stream": "stdout",
       "text": [
        "\ttrain_y_col_norms_min: 1.56077980995\n"
       ]
      },
      {
       "output_type": "stream",
       "stream": "stdout",
       "text": [
        "\ttrain_y_max_max_class: 0.992641627789\n"
       ]
      },
      {
       "output_type": "stream",
       "stream": "stdout",
       "text": [
        "\ttrain_y_mean_max_class: 0.502431750298\n"
       ]
      },
      {
       "output_type": "stream",
       "stream": "stdout",
       "text": [
        "\ttrain_y_min_max_class: 0.0962820127606\n"
       ]
      },
      {
       "output_type": "stream",
       "stream": "stdout",
       "text": [
        "\ttrain_y_misclass: 0.454760015011\n"
       ]
      },
      {
       "output_type": "stream",
       "stream": "stdout",
       "text": [
        "\ttrain_y_nll: 1.6809387207\n"
       ]
      },
      {
       "output_type": "stream",
       "stream": "stdout",
       "text": [
        "\ttrain_y_row_norms_max: 0.867303907871\n"
       ]
      },
      {
       "output_type": "stream",
       "stream": "stdout",
       "text": [
        "\ttrain_y_row_norms_mean: 0.59543555975\n"
       ]
      },
      {
       "output_type": "stream",
       "stream": "stdout",
       "text": [
        "\ttrain_y_row_norms_min: 0.4585981071\n"
       ]
      },
      {
       "output_type": "stream",
       "stream": "stdout",
       "text": [
        "\ttraining_seconds_this_epoch: 905.975280762\n"
       ]
      },
      {
       "output_type": "stream",
       "stream": "stdout",
       "text": [
        "\tvalid_h2_kernel_norms_max: 1.19487094879\n"
       ]
      },
      {
       "output_type": "stream",
       "stream": "stdout",
       "text": [
        "\tvalid_h2_kernel_norms_mean: 0.558944523335\n"
       ]
      },
      {
       "output_type": "stream",
       "stream": "stdout",
       "text": [
        "\tvalid_h2_kernel_norms_min: 0.19671471417\n"
       ]
      },
      {
       "output_type": "stream",
       "stream": "stdout",
       "text": [
        "\tvalid_h2_max_x_max_u: 2.11353564262\n"
       ]
      },
      {
       "output_type": "stream",
       "stream": "stdout",
       "text": [
        "\tvalid_h2_max_x_mean_u: 0.524251818657\n"
       ]
      },
      {
       "output_type": "stream",
       "stream": "stdout",
       "text": [
        "\tvalid_h2_max_x_min_u: 0.012002796866\n"
       ]
      },
      {
       "output_type": "stream",
       "stream": "stdout",
       "text": [
        "\tvalid_h2_mean_x_max_u: 0.547510147095\n"
       ]
      },
      {
       "output_type": "stream",
       "stream": "stdout",
       "text": [
        "\tvalid_h2_mean_x_mean_u: 0.103067219257\n"
       ]
      },
      {
       "output_type": "stream",
       "stream": "stdout",
       "text": [
        "\tvalid_h2_mean_x_min_u: 0.0053622443229\n"
       ]
      },
      {
       "output_type": "stream",
       "stream": "stdout",
       "text": [
        "\tvalid_h2_min_x_max_u: 0.0430402867496\n"
       ]
      },
      {
       "output_type": "stream",
       "stream": "stdout",
       "text": [
        "\tvalid_h2_min_x_mean_u: 0.000946152373217\n"
       ]
      },
      {
       "output_type": "stream",
       "stream": "stdout",
       "text": [
        "\tvalid_h2_min_x_min_u: 0.0\n"
       ]
      },
      {
       "output_type": "stream",
       "stream": "stdout",
       "text": [
        "\tvalid_h2_range_x_max_u: 2.11353564262\n"
       ]
      },
      {
       "output_type": "stream",
       "stream": "stdout",
       "text": [
        "\tvalid_h2_range_x_mean_u: 0.52330571413\n"
       ]
      },
      {
       "output_type": "stream",
       "stream": "stdout",
       "text": [
        "\tvalid_h2_range_x_min_u: 0.0116401622072\n"
       ]
      },
      {
       "output_type": "stream",
       "stream": "stdout",
       "text": [
        "\tvalid_h3_kernel_norms_max: 1.78592646122\n"
       ]
      },
      {
       "output_type": "stream",
       "stream": "stdout",
       "text": [
        "\tvalid_h3_kernel_norms_mean: 1.38718879223\n"
       ]
      },
      {
       "output_type": "stream",
       "stream": "stdout",
       "text": [
        "\tvalid_h3_kernel_norms_min: 1.1426589489\n"
       ]
      },
      {
       "output_type": "stream",
       "stream": "stdout",
       "text": [
        "\tvalid_h3_max_x_max_u: 5.33448600769\n"
       ]
      },
      {
       "output_type": "stream",
       "stream": "stdout",
       "text": [
        "\tvalid_h3_max_x_mean_u: 2.33549237251\n"
       ]
      },
      {
       "output_type": "stream",
       "stream": "stdout",
       "text": [
        "\tvalid_h3_max_x_min_u: 0.0\n"
       ]
      },
      {
       "output_type": "stream",
       "stream": "stdout",
       "text": [
        "\tvalid_h3_mean_x_max_u: 1.53260111809\n"
       ]
      },
      {
       "output_type": "stream",
       "stream": "stdout",
       "text": [
        "\tvalid_h3_mean_x_mean_u: 0.479085028172\n"
       ]
      },
      {
       "output_type": "stream",
       "stream": "stdout",
       "text": [
        "\tvalid_h3_mean_x_min_u: 0.0\n"
       ]
      },
      {
       "output_type": "stream",
       "stream": "stdout",
       "text": [
        "\tvalid_h3_min_x_max_u: 0.101860329509\n"
       ]
      },
      {
       "output_type": "stream",
       "stream": "stdout",
       "text": [
        "\tvalid_h3_min_x_mean_u: 0.000149252373376\n"
       ]
      },
      {
       "output_type": "stream",
       "stream": "stdout",
       "text": [
        "\tvalid_h3_min_x_min_u: 0.0\n"
       ]
      },
      {
       "output_type": "stream",
       "stream": "stdout",
       "text": [
        "\tvalid_h3_range_x_max_u: 5.33448600769\n"
       ]
      },
      {
       "output_type": "stream",
       "stream": "stdout",
       "text": [
        "\tvalid_h3_range_x_mean_u: 2.33534312248\n"
       ]
      },
      {
       "output_type": "stream",
       "stream": "stdout",
       "text": [
        "\tvalid_h3_range_x_min_u: 0.0\n"
       ]
      },
      {
       "output_type": "stream",
       "stream": "stdout",
       "text": [
        "\tvalid_objective: 1.84200954437\n"
       ]
      },
      {
       "output_type": "stream",
       "stream": "stdout",
       "text": [
        "\tvalid_term_0: 1.81628394127\n"
       ]
      },
      {
       "output_type": "stream",
       "stream": "stdout",
       "text": [
        "\tvalid_term_1_weight_decay: 0.025725543499\n"
       ]
      },
      {
       "output_type": "stream",
       "stream": "stdout",
       "text": [
        "\tvalid_y_col_norms_max: 1.93917155266\n"
       ]
      },
      {
       "output_type": "stream",
       "stream": "stdout",
       "text": [
        "\tvalid_y_col_norms_mean: 1.73735618591\n"
       ]
      },
      {
       "output_type": "stream",
       "stream": "stdout",
       "text": [
        "\tvalid_y_col_norms_min: 1.56078386307\n"
       ]
      },
      {
       "output_type": "stream",
       "stream": "stdout",
       "text": [
        "\tvalid_y_max_max_class: 0.99213719368\n"
       ]
      },
      {
       "output_type": "stream",
       "stream": "stdout",
       "text": [
        "\tvalid_y_mean_max_class: 0.502806782722\n"
       ]
      },
      {
       "output_type": "stream",
       "stream": "stdout",
       "text": [
        "\tvalid_y_min_max_class: 0.0952942967415\n"
       ]
      },
      {
       "output_type": "stream",
       "stream": "stdout",
       "text": [
        "\tvalid_y_misclass: 0.476600021124\n"
       ]
      },
      {
       "output_type": "stream",
       "stream": "stdout",
       "text": [
        "\tvalid_y_nll: 1.81628394127\n"
       ]
      },
      {
       "output_type": "stream",
       "stream": "stdout",
       "text": [
        "\tvalid_y_row_norms_max: 0.867303431034\n"
       ]
      },
      {
       "output_type": "stream",
       "stream": "stdout",
       "text": [
        "\tvalid_y_row_norms_mean: 0.595435619354\n"
       ]
      },
      {
       "output_type": "stream",
       "stream": "stdout",
       "text": [
        "\tvalid_y_row_norms_min: 0.4585981071\n"
       ]
      },
      {
       "output_type": "stream",
       "stream": "stdout",
       "text": [
        "Saving to cnn_00_best.pkl...\n"
       ]
      },
      {
       "output_type": "stream",
       "stream": "stdout",
       "text": [
        "Saving to cnn_00_best.pkl done. Time elapsed: 0.110643 seconds\n"
       ]
      },
      {
       "output_type": "stream",
       "stream": "stdout",
       "text": [
        "Time this epoch: 0:15:06.107166\n"
       ]
      },
      {
       "output_type": "stream",
       "stream": "stdout",
       "text": [
        "Monitoring step:\n"
       ]
      },
      {
       "output_type": "stream",
       "stream": "stdout",
       "text": [
        "\tEpochs seen: 10\n"
       ]
      },
      {
       "output_type": "stream",
       "stream": "stdout",
       "text": [
        "\tBatches seen: 2500\n"
       ]
      },
      {
       "output_type": "stream",
       "stream": "stdout",
       "text": [
        "\tExamples seen: 250000\n"
       ]
      },
      {
       "output_type": "stream",
       "stream": "stdout",
       "text": [
        "\tlearning_rate: 0.0100000035018\n"
       ]
      },
      {
       "output_type": "stream",
       "stream": "stdout",
       "text": [
        "\tmomentum: 0.990002393723\n"
       ]
      },
      {
       "output_type": "stream",
       "stream": "stdout",
       "text": [
        "\ttotal_seconds_last_epoch: 1122.98303223\n"
       ]
      },
      {
       "output_type": "stream",
       "stream": "stdout",
       "text": [
        "\ttrain_h2_kernel_norms_max: 1.88797724247\n"
       ]
      },
      {
       "output_type": "stream",
       "stream": "stdout",
       "text": [
        "\ttrain_h2_kernel_norms_mean: 0.585822701454\n"
       ]
      },
      {
       "output_type": "stream",
       "stream": "stdout",
       "text": [
        "\ttrain_h2_kernel_norms_min: 0.152426540852\n"
       ]
      },
      {
       "output_type": "stream",
       "stream": "stdout",
       "text": [
        "\ttrain_h2_max_x_max_u: 1.86167418957\n"
       ]
      },
      {
       "output_type": "stream",
       "stream": "stdout",
       "text": [
        "\ttrain_h2_max_x_mean_u: 0.444381445646\n"
       ]
      },
      {
       "output_type": "stream",
       "stream": "stdout",
       "text": [
        "\ttrain_h2_max_x_min_u: 0.0163547229022\n"
       ]
      },
      {
       "output_type": "stream",
       "stream": "stdout",
       "text": [
        "\ttrain_h2_mean_x_max_u: 0.458555281162\n"
       ]
      },
      {
       "output_type": "stream",
       "stream": "stdout",
       "text": [
        "\ttrain_h2_mean_x_mean_u: 0.0859070792794\n"
       ]
      },
      {
       "output_type": "stream",
       "stream": "stdout",
       "text": [
        "\ttrain_h2_mean_x_min_u: 0.00414357287809\n"
       ]
      },
      {
       "output_type": "stream",
       "stream": "stdout",
       "text": [
        "\ttrain_h2_min_x_max_u: 0.0761631131172\n"
       ]
      },
      {
       "output_type": "stream",
       "stream": "stdout",
       "text": [
        "\ttrain_h2_min_x_mean_u: 0.00230767321773\n"
       ]
      },
      {
       "output_type": "stream",
       "stream": "stdout",
       "text": [
        "\ttrain_h2_min_x_min_u: 0.0\n"
       ]
      },
      {
       "output_type": "stream",
       "stream": "stdout",
       "text": [
        "\ttrain_h2_range_x_max_u: 1.86127305031\n"
       ]
      },
      {
       "output_type": "stream",
       "stream": "stdout",
       "text": [
        "\ttrain_h2_range_x_mean_u: 0.442073911428\n"
       ]
      },
      {
       "output_type": "stream",
       "stream": "stdout",
       "text": [
        "\ttrain_h2_range_x_min_u: 0.0159731917083\n"
       ]
      },
      {
       "output_type": "stream",
       "stream": "stdout",
       "text": [
        "\ttrain_h3_kernel_norms_max: 1.93649685383\n"
       ]
      },
      {
       "output_type": "stream",
       "stream": "stdout",
       "text": [
        "\ttrain_h3_kernel_norms_mean: 1.82849156857\n"
       ]
      },
      {
       "output_type": "stream",
       "stream": "stdout",
       "text": [
        "\ttrain_h3_kernel_norms_min: 1.19371974468\n"
       ]
      },
      {
       "output_type": "stream",
       "stream": "stdout",
       "text": [
        "\ttrain_h3_max_x_max_u: 5.02148199081\n"
       ]
      },
      {
       "output_type": "stream",
       "stream": "stdout",
       "text": [
        "\ttrain_h3_max_x_mean_u: 1.36519944668\n"
       ]
      },
      {
       "output_type": "stream",
       "stream": "stdout",
       "text": [
        "\ttrain_h3_max_x_min_u: 0.0\n"
       ]
      },
      {
       "output_type": "stream",
       "stream": "stdout",
       "text": [
        "\ttrain_h3_mean_x_max_u: 1.40725386143\n"
       ]
      },
      {
       "output_type": "stream",
       "stream": "stdout",
       "text": [
        "\ttrain_h3_mean_x_mean_u: 0.180785566568\n"
       ]
      },
      {
       "output_type": "stream",
       "stream": "stdout",
       "text": [
        "\ttrain_h3_mean_x_min_u: 0.0\n"
       ]
      },
      {
       "output_type": "stream",
       "stream": "stdout",
       "text": [
        "\ttrain_h3_min_x_max_u: 0.0\n"
       ]
      },
      {
       "output_type": "stream",
       "stream": "stdout",
       "text": [
        "\ttrain_h3_min_x_mean_u: 0.0\n"
       ]
      },
      {
       "output_type": "stream",
       "stream": "stdout",
       "text": [
        "\ttrain_h3_min_x_min_u: 0.0\n"
       ]
      },
      {
       "output_type": "stream",
       "stream": "stdout",
       "text": [
        "\ttrain_h3_range_x_max_u: 5.02148199081\n"
       ]
      },
      {
       "output_type": "stream",
       "stream": "stdout",
       "text": [
        "\ttrain_h3_range_x_mean_u: 1.36519944668\n"
       ]
      },
      {
       "output_type": "stream",
       "stream": "stdout",
       "text": [
        "\ttrain_h3_range_x_min_u: 0.0\n"
       ]
      },
      {
       "output_type": "stream",
       "stream": "stdout",
       "text": [
        "\ttrain_objective: 1.88953363895\n"
       ]
      },
      {
       "output_type": "stream",
       "stream": "stdout",
       "text": [
        "\ttrain_term_0: 1.85568189621\n"
       ]
      },
      {
       "output_type": "stream",
       "stream": "stdout",
       "text": [
        "\ttrain_term_1_weight_decay: 0.0338520556688\n"
       ]
      },
      {
       "output_type": "stream",
       "stream": "stdout",
       "text": [
        "\ttrain_y_col_norms_max: 1.95032978058\n"
       ]
      },
      {
       "output_type": "stream",
       "stream": "stdout",
       "text": [
        "\ttrain_y_col_norms_mean: 1.88496541977\n"
       ]
      },
      {
       "output_type": "stream",
       "stream": "stdout",
       "text": [
        "\ttrain_y_col_norms_min: 1.61251235008\n"
       ]
      },
      {
       "output_type": "stream",
       "stream": "stdout",
       "text": [
        "\ttrain_y_max_max_class: 0.988730847836\n"
       ]
      },
      {
       "output_type": "stream",
       "stream": "stdout",
       "text": [
        "\ttrain_y_mean_max_class: 0.483265519142\n"
       ]
      },
      {
       "output_type": "stream",
       "stream": "stdout",
       "text": [
        "\ttrain_y_min_max_class: 0.0832575634122\n"
       ]
      },
      {
       "output_type": "stream",
       "stream": "stdout",
       "text": [
        "\ttrain_y_misclass: 0.498120158911\n"
       ]
      },
      {
       "output_type": "stream",
       "stream": "stdout",
       "text": [
        "\ttrain_y_nll: 1.85568189621\n"
       ]
      },
      {
       "output_type": "stream",
       "stream": "stdout",
       "text": [
        "\ttrain_y_row_norms_max: 1.15433323383\n"
       ]
      },
      {
       "output_type": "stream",
       "stream": "stdout",
       "text": [
        "\ttrain_y_row_norms_mean: 0.63562977314\n"
       ]
      },
      {
       "output_type": "stream",
       "stream": "stdout",
       "text": [
        "\ttrain_y_row_norms_min: 0.382974594831\n"
       ]
      },
      {
       "output_type": "stream",
       "stream": "stdout",
       "text": [
        "\ttraining_seconds_this_epoch: 906.109191895\n"
       ]
      },
      {
       "output_type": "stream",
       "stream": "stdout",
       "text": [
        "\tvalid_h2_kernel_norms_max: 1.88797831535\n"
       ]
      },
      {
       "output_type": "stream",
       "stream": "stdout",
       "text": [
        "\tvalid_h2_kernel_norms_mean: 0.585821032524\n"
       ]
      },
      {
       "output_type": "stream",
       "stream": "stdout",
       "text": [
        "\tvalid_h2_kernel_norms_min: 0.152426674962\n"
       ]
      },
      {
       "output_type": "stream",
       "stream": "stdout",
       "text": [
        "\tvalid_h2_max_x_max_u: 1.86177575588\n"
       ]
      },
      {
       "output_type": "stream",
       "stream": "stdout",
       "text": [
        "\tvalid_h2_max_x_mean_u: 0.440327554941\n"
       ]
      },
      {
       "output_type": "stream",
       "stream": "stdout",
       "text": [
        "\tvalid_h2_max_x_min_u: 0.0159454811364\n"
       ]
      },
      {
       "output_type": "stream",
       "stream": "stdout",
       "text": [
        "\tvalid_h2_mean_x_max_u: 0.46857714653\n"
       ]
      },
      {
       "output_type": "stream",
       "stream": "stdout",
       "text": [
        "\tvalid_h2_mean_x_mean_u: 0.0852958709002\n"
       ]
      },
      {
       "output_type": "stream",
       "stream": "stdout",
       "text": [
        "\tvalid_h2_mean_x_min_u: 0.00395170319825\n"
       ]
      },
      {
       "output_type": "stream",
       "stream": "stdout",
       "text": [
        "\tvalid_h2_min_x_max_u: 0.0751246362925\n"
       ]
      },
      {
       "output_type": "stream",
       "stream": "stdout",
       "text": [
        "\tvalid_h2_min_x_mean_u: 0.00234428443946\n"
       ]
      },
      {
       "output_type": "stream",
       "stream": "stdout",
       "text": [
        "\tvalid_h2_min_x_min_u: 0.0\n"
       ]
      },
      {
       "output_type": "stream",
       "stream": "stdout",
       "text": [
        "\tvalid_h2_range_x_max_u: 1.86154401302\n"
       ]
      },
      {
       "output_type": "stream",
       "stream": "stdout",
       "text": [
        "\tvalid_h2_range_x_mean_u: 0.437983244658\n"
       ]
      },
      {
       "output_type": "stream",
       "stream": "stdout",
       "text": [
        "\tvalid_h2_range_x_min_u: 0.0154072549194\n"
       ]
      },
      {
       "output_type": "stream",
       "stream": "stdout",
       "text": [
        "\tvalid_h3_kernel_norms_max: 1.93650090694\n"
       ]
      },
      {
       "output_type": "stream",
       "stream": "stdout",
       "text": [
        "\tvalid_h3_kernel_norms_mean: 1.82849121094\n"
       ]
      },
      {
       "output_type": "stream",
       "stream": "stdout",
       "text": [
        "\tvalid_h3_kernel_norms_min: 1.19371950626\n"
       ]
      },
      {
       "output_type": "stream",
       "stream": "stdout",
       "text": [
        "\tvalid_h3_max_x_max_u: 4.83954143524\n"
       ]
      },
      {
       "output_type": "stream",
       "stream": "stdout",
       "text": [
        "\tvalid_h3_max_x_mean_u: 1.35180711746\n"
       ]
      },
      {
       "output_type": "stream",
       "stream": "stdout",
       "text": [
        "\tvalid_h3_max_x_min_u: 0.0\n"
       ]
      },
      {
       "output_type": "stream",
       "stream": "stdout",
       "text": [
        "\tvalid_h3_mean_x_max_u: 1.42284834385\n"
       ]
      },
      {
       "output_type": "stream",
       "stream": "stdout",
       "text": [
        "\tvalid_h3_mean_x_mean_u: 0.180428102612\n"
       ]
      },
      {
       "output_type": "stream",
       "stream": "stdout",
       "text": [
        "\tvalid_h3_mean_x_min_u: 0.0\n"
       ]
      },
      {
       "output_type": "stream",
       "stream": "stdout",
       "text": [
        "\tvalid_h3_min_x_max_u: 0.0\n"
       ]
      },
      {
       "output_type": "stream",
       "stream": "stdout",
       "text": [
        "\tvalid_h3_min_x_mean_u: 0.0\n"
       ]
      },
      {
       "output_type": "stream",
       "stream": "stdout",
       "text": [
        "\tvalid_h3_min_x_min_u: 0.0\n"
       ]
      },
      {
       "output_type": "stream",
       "stream": "stdout",
       "text": [
        "\tvalid_h3_range_x_max_u: 4.83954143524\n"
       ]
      },
      {
       "output_type": "stream",
       "stream": "stdout",
       "text": [
        "\tvalid_h3_range_x_mean_u: 1.35180711746\n"
       ]
      },
      {
       "output_type": "stream",
       "stream": "stdout",
       "text": [
        "\tvalid_h3_range_x_min_u: 0.0\n"
       ]
      },
      {
       "output_type": "stream",
       "stream": "stdout",
       "text": [
        "\tvalid_objective: 2.03600311279\n"
       ]
      },
      {
       "output_type": "stream",
       "stream": "stdout",
       "text": [
        "\tvalid_term_0: 2.00215125084\n"
       ]
      },
      {
       "output_type": "stream",
       "stream": "stdout",
       "text": [
        "\tvalid_term_1_weight_decay: 0.0338520146906\n"
       ]
      },
      {
       "output_type": "stream",
       "stream": "stdout",
       "text": [
        "\tvalid_y_col_norms_max: 1.95033431053\n"
       ]
      },
      {
       "output_type": "stream",
       "stream": "stdout",
       "text": [
        "\tvalid_y_col_norms_mean: 1.88496148586\n"
       ]
      },
      {
       "output_type": "stream",
       "stream": "stdout",
       "text": [
        "\tvalid_y_col_norms_min: 1.61250841618\n"
       ]
      },
      {
       "output_type": "stream",
       "stream": "stdout",
       "text": [
        "\tvalid_y_max_max_class: 0.989305615425\n"
       ]
      },
      {
       "output_type": "stream",
       "stream": "stdout",
       "text": [
        "\tvalid_y_mean_max_class: 0.479139953852\n"
       ]
      },
      {
       "output_type": "stream",
       "stream": "stdout",
       "text": [
        "\tvalid_y_min_max_class: 0.0813782289624\n"
       ]
      },
      {
       "output_type": "stream",
       "stream": "stdout",
       "text": [
        "\tvalid_y_misclass: 0.534400045872\n"
       ]
      },
      {
       "output_type": "stream",
       "stream": "stdout",
       "text": [
        "\tvalid_y_nll: 2.00215125084\n"
       ]
      },
      {
       "output_type": "stream",
       "stream": "stdout",
       "text": [
        "\tvalid_y_row_norms_max: 1.15433323383\n"
       ]
      },
      {
       "output_type": "stream",
       "stream": "stdout",
       "text": [
        "\tvalid_y_row_norms_mean: 0.635630846024\n"
       ]
      },
      {
       "output_type": "stream",
       "stream": "stdout",
       "text": [
        "\tvalid_y_row_norms_min: 0.382973730564\n"
       ]
      },
      {
       "output_type": "stream",
       "stream": "stdout",
       "text": [
        "Time this epoch: 0:15:05.602837\n"
       ]
      },
      {
       "output_type": "stream",
       "stream": "stdout",
       "text": [
        "Monitoring step:\n"
       ]
      },
      {
       "output_type": "stream",
       "stream": "stdout",
       "text": [
        "\tEpochs seen: 11\n"
       ]
      },
      {
       "output_type": "stream",
       "stream": "stdout",
       "text": [
        "\tBatches seen: 2750\n"
       ]
      },
      {
       "output_type": "stream",
       "stream": "stdout",
       "text": [
        "\tExamples seen: 275000\n"
       ]
      },
      {
       "output_type": "stream",
       "stream": "stdout",
       "text": [
        "\tlearning_rate: 0.0100000035018\n"
       ]
      },
      {
       "output_type": "stream",
       "stream": "stdout",
       "text": [
        "\tmomentum: 0.990002393723\n"
       ]
      },
      {
       "output_type": "stream",
       "stream": "stdout",
       "text": [
        "\ttotal_seconds_last_epoch: 1122.65087891\n"
       ]
      },
      {
       "output_type": "stream",
       "stream": "stdout",
       "text": [
        "\ttrain_h2_kernel_norms_max: 1.93649685383\n"
       ]
      },
      {
       "output_type": "stream",
       "stream": "stdout",
       "text": [
        "\ttrain_h2_kernel_norms_mean: 0.701640307903\n"
       ]
      },
      {
       "output_type": "stream",
       "stream": "stdout",
       "text": [
        "\ttrain_h2_kernel_norms_min: 0.17048047483\n"
       ]
      },
      {
       "output_type": "stream",
       "stream": "stdout",
       "text": [
        "\ttrain_h2_max_x_max_u: 1.96906816959\n"
       ]
      },
      {
       "output_type": "stream",
       "stream": "stdout",
       "text": [
        "\ttrain_h2_max_x_mean_u: 0.491121530533\n"
       ]
      },
      {
       "output_type": "stream",
       "stream": "stdout",
       "text": [
        "\ttrain_h2_max_x_min_u: 0.0172932837158\n"
       ]
      },
      {
       "output_type": "stream",
       "stream": "stdout",
       "text": [
        "\ttrain_h2_mean_x_max_u: 0.46201172471\n"
       ]
      },
      {
       "output_type": "stream",
       "stream": "stdout",
       "text": [
        "\ttrain_h2_mean_x_mean_u: 0.0989097580314\n"
       ]
      },
      {
       "output_type": "stream",
       "stream": "stdout",
       "text": [
        "\ttrain_h2_mean_x_min_u: 0.00419703312218\n"
       ]
      },
      {
       "output_type": "stream",
       "stream": "stdout",
       "text": [
        "\ttrain_h2_min_x_max_u: 0.135555803776\n"
       ]
      },
      {
       "output_type": "stream",
       "stream": "stdout",
       "text": [
        "\ttrain_h2_min_x_mean_u: 0.00341110187583\n"
       ]
      },
      {
       "output_type": "stream",
       "stream": "stdout",
       "text": [
        "\ttrain_h2_min_x_min_u: 0.0\n"
       ]
      },
      {
       "output_type": "stream",
       "stream": "stdout",
       "text": [
        "\ttrain_h2_range_x_max_u: 1.96684288979\n"
       ]
      },
      {
       "output_type": "stream",
       "stream": "stdout",
       "text": [
        "\ttrain_h2_range_x_mean_u: 0.487710267305\n"
       ]
      },
      {
       "output_type": "stream",
       "stream": "stdout",
       "text": [
        "\ttrain_h2_range_x_min_u: 0.0170705355704\n"
       ]
      },
      {
       "output_type": "stream",
       "stream": "stdout",
       "text": [
        "\ttrain_h3_kernel_norms_max: 1.93649685383\n"
       ]
      },
      {
       "output_type": "stream",
       "stream": "stdout",
       "text": [
        "\ttrain_h3_kernel_norms_mean: 1.87471497059\n"
       ]
      },
      {
       "output_type": "stream",
       "stream": "stdout",
       "text": [
        "\ttrain_h3_kernel_norms_min: 1.17446732521\n"
       ]
      },
      {
       "output_type": "stream",
       "stream": "stdout",
       "text": [
        "\ttrain_h3_max_x_max_u: 5.50041818619\n"
       ]
      },
      {
       "output_type": "stream",
       "stream": "stdout",
       "text": [
        "\ttrain_h3_max_x_mean_u: 1.2446243763\n"
       ]
      },
      {
       "output_type": "stream",
       "stream": "stdout",
       "text": [
        "\ttrain_h3_max_x_min_u: 0.0\n"
       ]
      },
      {
       "output_type": "stream",
       "stream": "stdout",
       "text": [
        "\ttrain_h3_mean_x_max_u: 1.03423702717\n"
       ]
      },
      {
       "output_type": "stream",
       "stream": "stdout",
       "text": [
        "\ttrain_h3_mean_x_mean_u: 0.136983826756\n"
       ]
      },
      {
       "output_type": "stream",
       "stream": "stdout",
       "text": [
        "\ttrain_h3_mean_x_min_u: 0.0\n"
       ]
      },
      {
       "output_type": "stream",
       "stream": "stdout",
       "text": [
        "\ttrain_h3_min_x_max_u: 0.0\n"
       ]
      },
      {
       "output_type": "stream",
       "stream": "stdout",
       "text": [
        "\ttrain_h3_min_x_mean_u: 0.0\n"
       ]
      },
      {
       "output_type": "stream",
       "stream": "stdout",
       "text": [
        "\ttrain_h3_min_x_min_u: 0.0\n"
       ]
      },
      {
       "output_type": "stream",
       "stream": "stdout",
       "text": [
        "\ttrain_h3_range_x_max_u: 5.50041818619\n"
       ]
      },
      {
       "output_type": "stream",
       "stream": "stdout",
       "text": [
        "\ttrain_h3_range_x_mean_u: 1.2446243763\n"
       ]
      },
      {
       "output_type": "stream",
       "stream": "stdout",
       "text": [
        "\ttrain_h3_range_x_min_u: 0.0\n"
       ]
      },
      {
       "output_type": "stream",
       "stream": "stdout",
       "text": [
        "\ttrain_objective: 1.82321584225\n"
       ]
      },
      {
       "output_type": "stream",
       "stream": "stdout",
       "text": [
        "\ttrain_term_0: 1.78754973412\n"
       ]
      },
      {
       "output_type": "stream",
       "stream": "stdout",
       "text": [
        "\ttrain_term_1_weight_decay: 0.0356663353741\n"
       ]
      },
      {
       "output_type": "stream",
       "stream": "stdout",
       "text": [
        "\ttrain_y_col_norms_max: 1.95280480385\n"
       ]
      },
      {
       "output_type": "stream",
       "stream": "stdout",
       "text": [
        "\ttrain_y_col_norms_mean: 1.91411340237\n"
       ]
      },
      {
       "output_type": "stream",
       "stream": "stdout",
       "text": [
        "\ttrain_y_col_norms_min: 1.66934716702\n"
       ]
      },
      {
       "output_type": "stream",
       "stream": "stdout",
       "text": [
        "\ttrain_y_max_max_class: 0.99031496048\n"
       ]
      },
      {
       "output_type": "stream",
       "stream": "stdout",
       "text": [
        "\ttrain_y_mean_max_class: 0.512010991573\n"
       ]
      },
      {
       "output_type": "stream",
       "stream": "stdout",
       "text": [
        "\ttrain_y_min_max_class: 0.0880940109491\n"
       ]
      },
      {
       "output_type": "stream",
       "stream": "stdout",
       "text": [
        "\ttrain_y_misclass: 0.489520043135\n"
       ]
      },
      {
       "output_type": "stream",
       "stream": "stdout",
       "text": [
        "\ttrain_y_nll: 1.78754973412\n"
       ]
      },
      {
       "output_type": "stream",
       "stream": "stdout",
       "text": [
        "\ttrain_y_row_norms_max: 1.40482163429\n"
       ]
      },
      {
       "output_type": "stream",
       "stream": "stdout",
       "text": [
        "\ttrain_y_row_norms_mean: 0.630223810673\n"
       ]
      },
      {
       "output_type": "stream",
       "stream": "stdout",
       "text": [
        "\ttrain_y_row_norms_min: 0.310589522123\n"
       ]
      },
      {
       "output_type": "stream",
       "stream": "stdout",
       "text": [
        "\ttraining_seconds_this_epoch: 905.605041504\n"
       ]
      },
      {
       "output_type": "stream",
       "stream": "stdout",
       "text": [
        "\tvalid_h2_kernel_norms_max: 1.93650090694\n"
       ]
      },
      {
       "output_type": "stream",
       "stream": "stdout",
       "text": [
        "\tvalid_h2_kernel_norms_mean: 0.701641023159\n"
       ]
      },
      {
       "output_type": "stream",
       "stream": "stdout",
       "text": [
        "\tvalid_h2_kernel_norms_min: 0.170480489731\n"
       ]
      },
      {
       "output_type": "stream",
       "stream": "stdout",
       "text": [
        "\tvalid_h2_max_x_max_u: 1.97570455074\n"
       ]
      },
      {
       "output_type": "stream",
       "stream": "stdout",
       "text": [
        "\tvalid_h2_max_x_mean_u: 0.486086428165\n"
       ]
      },
      {
       "output_type": "stream",
       "stream": "stdout",
       "text": [
        "\tvalid_h2_max_x_min_u: 0.0166738778353\n"
       ]
      },
      {
       "output_type": "stream",
       "stream": "stdout",
       "text": [
        "\tvalid_h2_mean_x_max_u: 0.46523809433\n"
       ]
      },
      {
       "output_type": "stream",
       "stream": "stdout",
       "text": [
        "\tvalid_h2_mean_x_mean_u: 0.0981648340821\n"
       ]
      },
      {
       "output_type": "stream",
       "stream": "stdout",
       "text": [
        "\tvalid_h2_mean_x_min_u: 0.00398075720295\n"
       ]
      },
      {
       "output_type": "stream",
       "stream": "stdout",
       "text": [
        "\tvalid_h2_min_x_max_u: 0.139115989208\n"
       ]
      },
      {
       "output_type": "stream",
       "stream": "stdout",
       "text": [
        "\tvalid_h2_min_x_mean_u: 0.00349000981078\n"
       ]
      },
      {
       "output_type": "stream",
       "stream": "stdout",
       "text": [
        "\tvalid_h2_min_x_min_u: 0.0\n"
       ]
      },
      {
       "output_type": "stream",
       "stream": "stdout",
       "text": [
        "\tvalid_h2_range_x_max_u: 1.97316110134\n"
       ]
      },
      {
       "output_type": "stream",
       "stream": "stdout",
       "text": [
        "\tvalid_h2_range_x_mean_u: 0.482596486807\n"
       ]
      },
      {
       "output_type": "stream",
       "stream": "stdout",
       "text": [
        "\tvalid_h2_range_x_min_u: 0.0163938216865\n"
       ]
      },
      {
       "output_type": "stream",
       "stream": "stdout",
       "text": [
        "\tvalid_h3_kernel_norms_max: 1.93650090694\n"
       ]
      },
      {
       "output_type": "stream",
       "stream": "stdout",
       "text": [
        "\tvalid_h3_kernel_norms_mean: 1.87471497059\n"
       ]
      },
      {
       "output_type": "stream",
       "stream": "stdout",
       "text": [
        "\tvalid_h3_kernel_norms_min: 1.174467206\n"
       ]
      },
      {
       "output_type": "stream",
       "stream": "stdout",
       "text": [
        "\tvalid_h3_max_x_max_u: 5.48387241364\n"
       ]
      },
      {
       "output_type": "stream",
       "stream": "stdout",
       "text": [
        "\tvalid_h3_max_x_mean_u: 1.23684418201\n"
       ]
      },
      {
       "output_type": "stream",
       "stream": "stdout",
       "text": [
        "\tvalid_h3_max_x_min_u: 0.0\n"
       ]
      },
      {
       "output_type": "stream",
       "stream": "stdout",
       "text": [
        "\tvalid_h3_mean_x_max_u: 1.05667376518\n"
       ]
      },
      {
       "output_type": "stream",
       "stream": "stdout",
       "text": [
        "\tvalid_h3_mean_x_mean_u: 0.136426880956\n"
       ]
      },
      {
       "output_type": "stream",
       "stream": "stdout",
       "text": [
        "\tvalid_h3_mean_x_min_u: 0.0\n"
       ]
      },
      {
       "output_type": "stream",
       "stream": "stdout",
       "text": [
        "\tvalid_h3_min_x_max_u: 0.0\n"
       ]
      },
      {
       "output_type": "stream",
       "stream": "stdout",
       "text": [
        "\tvalid_h3_min_x_mean_u: 0.0\n"
       ]
      },
      {
       "output_type": "stream",
       "stream": "stdout",
       "text": [
        "\tvalid_h3_min_x_min_u: 0.0\n"
       ]
      },
      {
       "output_type": "stream",
       "stream": "stdout",
       "text": [
        "\tvalid_h3_range_x_max_u: 5.48387241364\n"
       ]
      },
      {
       "output_type": "stream",
       "stream": "stdout",
       "text": [
        "\tvalid_h3_range_x_mean_u: 1.23684418201\n"
       ]
      },
      {
       "output_type": "stream",
       "stream": "stdout",
       "text": [
        "\tvalid_h3_range_x_min_u: 0.0\n"
       ]
      },
      {
       "output_type": "stream",
       "stream": "stdout",
       "text": [
        "\tvalid_objective: 1.98790323734\n"
       ]
      },
      {
       "output_type": "stream",
       "stream": "stdout",
       "text": [
        "\tvalid_term_0: 1.95223677158\n"
       ]
      },
      {
       "output_type": "stream",
       "stream": "stdout",
       "text": [
        "\tvalid_term_1_weight_decay: 0.0356663689017\n"
       ]
      },
      {
       "output_type": "stream",
       "stream": "stdout",
       "text": [
        "\tvalid_y_col_norms_max: 1.95281052589\n"
       ]
      },
      {
       "output_type": "stream",
       "stream": "stdout",
       "text": [
        "\tvalid_y_col_norms_mean: 1.91411244869\n"
       ]
      },
      {
       "output_type": "stream",
       "stream": "stdout",
       "text": [
        "\tvalid_y_col_norms_min: 1.6693469286\n"
       ]
      },
      {
       "output_type": "stream",
       "stream": "stdout",
       "text": [
        "\tvalid_y_max_max_class: 0.989671587944\n"
       ]
      },
      {
       "output_type": "stream",
       "stream": "stdout",
       "text": [
        "\tvalid_y_mean_max_class: 0.510569572449\n"
       ]
      },
      {
       "output_type": "stream",
       "stream": "stdout",
       "text": [
        "\tvalid_y_min_max_class: 0.0856275185943\n"
       ]
      },
      {
       "output_type": "stream",
       "stream": "stdout",
       "text": [
        "\tvalid_y_misclass: 0.513800024986\n"
       ]
      },
      {
       "output_type": "stream",
       "stream": "stdout",
       "text": [
        "\tvalid_y_nll: 1.95223677158\n"
       ]
      },
      {
       "output_type": "stream",
       "stream": "stdout",
       "text": [
        "\tvalid_y_row_norms_max: 1.40482020378\n"
       ]
      },
      {
       "output_type": "stream",
       "stream": "stdout",
       "text": [
        "\tvalid_y_row_norms_mean: 0.63022261858\n"
       ]
      },
      {
       "output_type": "stream",
       "stream": "stdout",
       "text": [
        "\tvalid_y_row_norms_min: 0.310589402914\n"
       ]
      }
     ],
     "prompt_number": 7
    },
    {
     "cell_type": "code",
     "collapsed": false,
     "input": [
      "!../pylearn2_fork/pylearn2/scripts/print_monitor.py cnn_00_best.pkl"
     ],
     "language": "python",
     "metadata": {},
     "outputs": [
      {
       "output_type": "stream",
       "stream": "stdout",
       "text": [
        "Using gpu device 0: GeForce GTX 550 Ti\r\n"
       ]
      },
      {
       "output_type": "stream",
       "stream": "stdout",
       "text": [
        "epochs seen:  9\r\n",
        "time trained:  10341.848325\r\n",
        "learning_rate : 0.0100000035018\r\n",
        "momentum : 0.935554742813\r\n",
        "total_seconds_last_epoch : 1122.20288086\r\n",
        "train_h2_kernel_norms_max : 1.19486761093\r\n",
        "train_h2_kernel_norms_mean : 0.558943808079\r\n",
        "train_h2_kernel_norms_min : 0.196714252234\r\n",
        "train_h2_max_x_max_u : 2.12016916275\r\n",
        "train_h2_max_x_mean_u : 0.528344273567\r\n",
        "train_h2_max_x_min_u : 0.0123296938837\r\n",
        "train_h2_mean_x_max_u : 0.539423823357\r\n",
        "train_h2_mean_x_mean_u : 0.103652887046\r\n",
        "train_h2_mean_x_min_u : 0.00581195903942\r\n",
        "train_h2_min_x_max_u : 0.0419199317694\r\n",
        "train_h2_min_x_mean_u : 0.000941347738262\r\n",
        "train_h2_min_x_min_u : 0.0\r\n",
        "train_h2_range_x_max_u : 2.12014770508\r\n",
        "train_h2_range_x_mean_u : 0.527402818203\r\n",
        "train_h2_range_x_min_u : 0.0121294409037\r\n",
        "train_h3_kernel_norms_max : 1.78592765331\r\n",
        "train_h3_kernel_norms_mean : 1.3871871233\r\n",
        "train_h3_kernel_norms_min : 1.14266061783\r\n",
        "train_h3_max_x_max_u : 5.46724843979\r\n",
        "train_h3_max_x_mean_u : 2.34507632256\r\n",
        "train_h3_max_x_min_u : 0.0\r\n",
        "train_h3_mean_x_max_u : 1.52170932293\r\n",
        "train_h3_mean_x_mean_u : 0.478270590305\r\n",
        "train_h3_mean_x_min_u : 0.0\r\n",
        "train_h3_min_x_max_u : 0.101659417152\r\n",
        "train_h3_min_x_mean_u : 0.000153067710926\r\n",
        "train_h3_min_x_min_u : 0.0\r\n",
        "train_h3_range_x_max_u : 5.46724843979\r\n",
        "train_h3_range_x_mean_u : 2.34492373466\r\n",
        "train_h3_range_x_min_u : 0.0\r\n",
        "train_objective : 1.70666444302\r\n",
        "train_term_0 : 1.6809387207\r\n",
        "train_term_1_weight_decay : 0.025725485757\r\n",
        "train_y_col_norms_max : 1.93917572498\r\n",
        "train_y_col_norms_mean : 1.73735630512\r\n",
        "train_y_col_norms_min : 1.56077980995\r\n",
        "train_y_max_max_class : 0.992641627789\r\n",
        "train_y_mean_max_class : 0.502431750298\r\n",
        "train_y_min_max_class : 0.0962820127606\r\n",
        "train_y_misclass : 0.454760015011\r\n",
        "train_y_nll : 1.6809387207\r\n",
        "train_y_row_norms_max : 0.867303907871\r\n",
        "train_y_row_norms_mean : 0.59543555975\r\n",
        "train_y_row_norms_min : 0.4585981071\r\n",
        "training_seconds_this_epoch : 905.975280762\r\n",
        "valid_h2_kernel_norms_max : 1.19487094879\r\n",
        "valid_h2_kernel_norms_mean : 0.558944523335\r\n",
        "valid_h2_kernel_norms_min : 0.19671471417\r\n",
        "valid_h2_max_x_max_u : 2.11353564262\r\n",
        "valid_h2_max_x_mean_u : 0.524251818657\r\n",
        "valid_h2_max_x_min_u : 0.012002796866\r\n",
        "valid_h2_mean_x_max_u : 0.547510147095\r\n",
        "valid_h2_mean_x_mean_u : 0.103067219257\r\n",
        "valid_h2_mean_x_min_u : 0.0053622443229\r\n",
        "valid_h2_min_x_max_u : 0.0430402867496\r\n",
        "valid_h2_min_x_mean_u : 0.000946152373217\r\n",
        "valid_h2_min_x_min_u : 0.0\r\n",
        "valid_h2_range_x_max_u : 2.11353564262\r\n",
        "valid_h2_range_x_mean_u : 0.52330571413\r\n",
        "valid_h2_range_x_min_u : 0.0116401622072\r\n",
        "valid_h3_kernel_norms_max : 1.78592646122\r\n",
        "valid_h3_kernel_norms_mean : 1.38718879223\r\n",
        "valid_h3_kernel_norms_min : 1.1426589489\r\n",
        "valid_h3_max_x_max_u : 5.33448600769\r\n",
        "valid_h3_max_x_mean_u : 2.33549237251\r\n",
        "valid_h3_max_x_min_u : 0.0\r\n",
        "valid_h3_mean_x_max_u : 1.53260111809\r\n",
        "valid_h3_mean_x_mean_u : 0.479085028172\r\n",
        "valid_h3_mean_x_min_u : 0.0\r\n",
        "valid_h3_min_x_max_u : 0.101860329509\r\n",
        "valid_h3_min_x_mean_u : 0.000149252373376\r\n",
        "valid_h3_min_x_min_u : 0.0\r\n",
        "valid_h3_range_x_max_u : 5.33448600769\r\n",
        "valid_h3_range_x_mean_u : 2.33534312248\r\n",
        "valid_h3_range_x_min_u : 0.0\r\n",
        "valid_objective : 1.84200954437\r\n",
        "valid_term_0 : 1.81628394127\r\n",
        "valid_term_1_weight_decay : 0.025725543499\r\n",
        "valid_y_col_norms_max : 1.93917155266\r\n",
        "valid_y_col_norms_mean : 1.73735618591\r\n",
        "valid_y_col_norms_min : 1.56078386307\r\n",
        "valid_y_max_max_class : 0.99213719368\r\n",
        "valid_y_mean_max_class : 0.502806782722\r\n",
        "valid_y_min_max_class : 0.0952942967415\r\n",
        "valid_y_misclass : 0.476600021124\r\n",
        "valid_y_nll : 1.81628394127\r\n",
        "valid_y_row_norms_max : 0.867303431034\r\n",
        "valid_y_row_norms_mean : 0.595435619354\r\n",
        "valid_y_row_norms_min : 0.4585981071\r\n"
       ]
      }
     ],
     "prompt_number": 9
    },
    {
     "cell_type": "code",
     "collapsed": false,
     "input": [
      "# !chmod u+x pylearn2_fork/pylearn2/scripts/mlp/predict_csv.py"
     ],
     "language": "python",
     "metadata": {},
     "outputs": []
    },
    {
     "cell_type": "code",
     "collapsed": false,
     "input": [
      "!../pylearn2_fork/pylearn2/scripts/mlp/predict_csv.py \\\n",
      "    cnn_00_best.pkl\\\n",
      "    test_data_centered.npy\\\n",
      "    submission_cnn_00_best.csv\\\n",
      "    pred_rownames.pkl\\\n",
      "    pred_colnames.pkl"
     ],
     "language": "python",
     "metadata": {},
     "outputs": [
      {
       "output_type": "stream",
       "stream": "stdout",
       "text": [
        "Using gpu device 0: GeForce GTX 550 Ti\r\n"
       ]
      },
      {
       "output_type": "stream",
       "stream": "stdout",
       "text": [
        "loading model...\r\n"
       ]
      },
      {
       "output_type": "stream",
       "stream": "stdout",
       "text": [
        "setting up symbolic expressions...\r\n"
       ]
      },
      {
       "output_type": "stream",
       "stream": "stdout",
       "text": [
        "/home/jotham/venvs/2014-12-20_datascibowl/lib/python2.7/site-packages/theano/tensor/subtensor.py:190: FutureWarning: comparison to `None` will result in an elementwise object comparison in the future.\r\n",
        "  if stop in [None, maxsize]:\r\n"
       ]
      },
      {
       "output_type": "stream",
       "stream": "stdout",
       "text": [
        "loading data and predicting...\r\n"
       ]
      },
      {
       "output_type": "stream",
       "stream": "stdout",
       "text": [
        "Traceback (most recent call last):\r\n",
        "  File \"../pylearn2_fork/pylearn2/scripts/mlp/predict_csv.py\", line 157, in <module>\r\n",
        "    args.has_headers, args.has_row_label, args.delimiter)\r\n",
        "  File \"../pylearn2_fork/pylearn2/scripts/mlp/predict_csv.py\", line 130, in predict\r\n",
        "    y = f(x)\r\n",
        "  File \"/home/jotham/venvs/2014-12-20_datascibowl/lib/python2.7/site-packages/theano/compile/function_module.py\", line 497, in __call__\r\n",
        "    allow_downcast=s.allow_downcast)\r\n",
        "  File \"/home/jotham/venvs/2014-12-20_datascibowl/lib/python2.7/site-packages/theano/tensor/type.py\", line 157, in filter\r\n",
        "    data.shape))\r\n",
        "TypeError: ('Bad input argument to theano function at index 0(0-based)', 'Wrong number of dimensions: expected 4, got 2 with shape (130400, 1024).')\r\n"
       ]
      }
     ],
     "prompt_number": 10
    },
    {
     "cell_type": "code",
     "collapsed": false,
     "input": [
      "y = pd.read_csv('submission_cnn_00_best.csv')\n",
      "y"
     ],
     "language": "python",
     "metadata": {},
     "outputs": [
      {
       "html": [
        "<div style=\"max-height:1000px;max-width:1500px;overflow:auto;\">\n",
        "<table border=\"1\" class=\"dataframe\">\n",
        "  <thead>\n",
        "    <tr style=\"text-align: right;\">\n",
        "      <th></th>\n",
        "      <th>image</th>\n",
        "      <th>appendicularian_slight_curve</th>\n",
        "      <th>hydromedusae_shapeB</th>\n",
        "      <th>hydromedusae_shapeA</th>\n",
        "      <th>siphonophore_other_parts</th>\n",
        "      <th>tunicate_doliolid_nurse</th>\n",
        "      <th>acantharia_protist</th>\n",
        "      <th>hydromedusae_narco_young</th>\n",
        "      <th>fish_larvae_deep_body</th>\n",
        "      <th>hydromedusae_haliscera_small_sideview</th>\n",
        "      <th>...</th>\n",
        "      <th>unknown_sticks</th>\n",
        "      <th>unknown_unclassified</th>\n",
        "      <th>pteropod_theco_dev_seq</th>\n",
        "      <th>acantharia_protist_halo</th>\n",
        "      <th>hydromedusae_typeD_bell_and_tentacles</th>\n",
        "      <th>echinoderm_larva_pluteus_typeC</th>\n",
        "      <th>decapods</th>\n",
        "      <th>copepod_calanoid_small_longantennae</th>\n",
        "      <th>euphausiids</th>\n",
        "      <th>echinopluteus</th>\n",
        "    </tr>\n",
        "  </thead>\n",
        "  <tbody>\n",
        "    <tr>\n",
        "      <th>0     </th>\n",
        "      <td>      1.jpg</td>\n",
        "      <td> 0.000170</td>\n",
        "      <td> 0.005965</td>\n",
        "      <td> 1.435657e-02</td>\n",
        "      <td> 1.576803e-02</td>\n",
        "      <td> 0.000067</td>\n",
        "      <td> 7.035527e-05</td>\n",
        "      <td> 0.000645</td>\n",
        "      <td> 4.116746e-04</td>\n",
        "      <td> 1.554654e-03</td>\n",
        "      <td>...</td>\n",
        "      <td> 3.486488e-03</td>\n",
        "      <td> 0.000815</td>\n",
        "      <td> 5.755364e-02</td>\n",
        "      <td> 3.582185e-06</td>\n",
        "      <td> 0.003029</td>\n",
        "      <td> 3.110135e-04</td>\n",
        "      <td> 1.713624e-05</td>\n",
        "      <td> 1.689581e-04</td>\n",
        "      <td> 0.000377</td>\n",
        "      <td> 0.000390</td>\n",
        "    </tr>\n",
        "    <tr>\n",
        "      <th>1     </th>\n",
        "      <td>     10.jpg</td>\n",
        "      <td> 0.000101</td>\n",
        "      <td> 0.009875</td>\n",
        "      <td> 5.209445e-03</td>\n",
        "      <td> 5.269865e-02</td>\n",
        "      <td> 0.000098</td>\n",
        "      <td> 9.530718e-05</td>\n",
        "      <td> 0.000734</td>\n",
        "      <td> 5.135551e-04</td>\n",
        "      <td> 1.389509e-03</td>\n",
        "      <td>...</td>\n",
        "      <td> 1.231832e-03</td>\n",
        "      <td> 0.000911</td>\n",
        "      <td> 1.964424e-02</td>\n",
        "      <td> 5.000034e-06</td>\n",
        "      <td> 0.003150</td>\n",
        "      <td> 3.765901e-04</td>\n",
        "      <td> 1.991120e-05</td>\n",
        "      <td> 4.798204e-04</td>\n",
        "      <td> 0.000797</td>\n",
        "      <td> 0.001021</td>\n",
        "    </tr>\n",
        "    <tr>\n",
        "      <th>2     </th>\n",
        "      <td>    100.jpg</td>\n",
        "      <td> 0.000007</td>\n",
        "      <td> 0.000224</td>\n",
        "      <td> 5.065822e-06</td>\n",
        "      <td> 3.033987e-06</td>\n",
        "      <td> 0.000013</td>\n",
        "      <td> 4.600316e-03</td>\n",
        "      <td> 0.000004</td>\n",
        "      <td> 1.096016e-03</td>\n",
        "      <td> 6.435424e-05</td>\n",
        "      <td>...</td>\n",
        "      <td> 2.984386e-06</td>\n",
        "      <td> 0.000009</td>\n",
        "      <td> 2.355871e-04</td>\n",
        "      <td> 6.993235e-06</td>\n",
        "      <td> 0.001904</td>\n",
        "      <td> 1.081207e-04</td>\n",
        "      <td> 8.217166e-04</td>\n",
        "      <td> 9.105071e-10</td>\n",
        "      <td> 0.000008</td>\n",
        "      <td> 0.000393</td>\n",
        "    </tr>\n",
        "    <tr>\n",
        "      <th>3     </th>\n",
        "      <td>   1000.jpg</td>\n",
        "      <td> 0.001223</td>\n",
        "      <td> 0.005799</td>\n",
        "      <td> 2.736297e-03</td>\n",
        "      <td> 6.984615e-02</td>\n",
        "      <td> 0.000468</td>\n",
        "      <td> 1.769618e-05</td>\n",
        "      <td> 0.001497</td>\n",
        "      <td> 5.120623e-05</td>\n",
        "      <td> 3.729025e-04</td>\n",
        "      <td>...</td>\n",
        "      <td> 4.607394e-03</td>\n",
        "      <td> 0.000999</td>\n",
        "      <td> 9.629478e-03</td>\n",
        "      <td> 2.866173e-05</td>\n",
        "      <td> 0.005214</td>\n",
        "      <td> 3.453998e-04</td>\n",
        "      <td> 1.887336e-05</td>\n",
        "      <td> 1.102684e-04</td>\n",
        "      <td> 0.001001</td>\n",
        "      <td> 0.000876</td>\n",
        "    </tr>\n",
        "    <tr>\n",
        "      <th>4     </th>\n",
        "      <td>  10000.jpg</td>\n",
        "      <td> 0.000039</td>\n",
        "      <td> 0.000018</td>\n",
        "      <td> 2.705767e-10</td>\n",
        "      <td> 5.910282e-04</td>\n",
        "      <td> 0.000987</td>\n",
        "      <td> 1.999396e-11</td>\n",
        "      <td> 0.005425</td>\n",
        "      <td> 6.485197e-12</td>\n",
        "      <td> 1.472807e-10</td>\n",
        "      <td>...</td>\n",
        "      <td> 1.450259e-05</td>\n",
        "      <td> 0.000002</td>\n",
        "      <td> 1.196385e-08</td>\n",
        "      <td> 2.090581e-03</td>\n",
        "      <td> 0.000012</td>\n",
        "      <td> 1.969596e-07</td>\n",
        "      <td> 6.715301e-08</td>\n",
        "      <td> 6.314413e-04</td>\n",
        "      <td> 0.000027</td>\n",
        "      <td> 0.000951</td>\n",
        "    </tr>\n",
        "    <tr>\n",
        "      <th>5     </th>\n",
        "      <td> 100000.jpg</td>\n",
        "      <td> 0.000262</td>\n",
        "      <td> 0.011758</td>\n",
        "      <td> 5.021412e-04</td>\n",
        "      <td> 1.527741e-01</td>\n",
        "      <td> 0.000621</td>\n",
        "      <td> 6.307474e-05</td>\n",
        "      <td> 0.001137</td>\n",
        "      <td> 1.523953e-04</td>\n",
        "      <td> 3.952444e-04</td>\n",
        "      <td>...</td>\n",
        "      <td> 1.127160e-03</td>\n",
        "      <td> 0.000776</td>\n",
        "      <td> 4.965053e-03</td>\n",
        "      <td> 4.581263e-05</td>\n",
        "      <td> 0.008774</td>\n",
        "      <td> 5.960027e-04</td>\n",
        "      <td> 1.083960e-04</td>\n",
        "      <td> 5.800466e-04</td>\n",
        "      <td> 0.001473</td>\n",
        "      <td> 0.005209</td>\n",
        "    </tr>\n",
        "    <tr>\n",
        "      <th>6     </th>\n",
        "      <td> 100001.jpg</td>\n",
        "      <td> 0.000059</td>\n",
        "      <td> 0.018988</td>\n",
        "      <td> 9.469505e-04</td>\n",
        "      <td> 2.286911e-02</td>\n",
        "      <td> 0.000099</td>\n",
        "      <td> 1.131031e-03</td>\n",
        "      <td> 0.000115</td>\n",
        "      <td> 4.459281e-03</td>\n",
        "      <td> 4.232301e-03</td>\n",
        "      <td>...</td>\n",
        "      <td> 4.400309e-04</td>\n",
        "      <td> 0.000678</td>\n",
        "      <td> 3.910185e-03</td>\n",
        "      <td> 7.632060e-06</td>\n",
        "      <td> 0.004731</td>\n",
        "      <td> 1.573029e-03</td>\n",
        "      <td> 4.275263e-04</td>\n",
        "      <td> 4.499563e-03</td>\n",
        "      <td> 0.000919</td>\n",
        "      <td> 0.004414</td>\n",
        "    </tr>\n",
        "    <tr>\n",
        "      <th>7     </th>\n",
        "      <td> 100002.jpg</td>\n",
        "      <td> 0.000002</td>\n",
        "      <td> 0.000770</td>\n",
        "      <td> 1.420799e-05</td>\n",
        "      <td> 3.785218e-02</td>\n",
        "      <td> 0.000005</td>\n",
        "      <td> 4.994217e-06</td>\n",
        "      <td> 0.000010</td>\n",
        "      <td> 2.177950e-05</td>\n",
        "      <td> 5.599622e-05</td>\n",
        "      <td>...</td>\n",
        "      <td> 1.670952e-05</td>\n",
        "      <td> 0.000021</td>\n",
        "      <td> 1.232101e-04</td>\n",
        "      <td> 4.604582e-07</td>\n",
        "      <td> 0.000054</td>\n",
        "      <td> 3.079113e-05</td>\n",
        "      <td> 3.807634e-06</td>\n",
        "      <td> 3.974978e-03</td>\n",
        "      <td> 0.000054</td>\n",
        "      <td> 0.000283</td>\n",
        "    </tr>\n",
        "    <tr>\n",
        "      <th>8     </th>\n",
        "      <td> 100003.jpg</td>\n",
        "      <td> 0.000034</td>\n",
        "      <td> 0.000005</td>\n",
        "      <td> 7.193136e-10</td>\n",
        "      <td> 1.637716e-04</td>\n",
        "      <td> 0.000278</td>\n",
        "      <td> 7.166466e-12</td>\n",
        "      <td> 0.002510</td>\n",
        "      <td> 3.555848e-12</td>\n",
        "      <td> 9.782370e-11</td>\n",
        "      <td>...</td>\n",
        "      <td> 1.542081e-05</td>\n",
        "      <td> 0.000001</td>\n",
        "      <td> 2.116776e-08</td>\n",
        "      <td> 1.810138e-04</td>\n",
        "      <td> 0.000009</td>\n",
        "      <td> 6.796472e-08</td>\n",
        "      <td> 1.294539e-08</td>\n",
        "      <td> 3.236949e-04</td>\n",
        "      <td> 0.000009</td>\n",
        "      <td> 0.000107</td>\n",
        "    </tr>\n",
        "    <tr>\n",
        "      <th>9     </th>\n",
        "      <td> 100004.jpg</td>\n",
        "      <td> 0.000003</td>\n",
        "      <td> 0.000899</td>\n",
        "      <td> 4.689941e-03</td>\n",
        "      <td> 1.777466e-03</td>\n",
        "      <td> 0.000001</td>\n",
        "      <td> 1.942180e-04</td>\n",
        "      <td> 0.000004</td>\n",
        "      <td> 1.534295e-03</td>\n",
        "      <td> 2.239923e-03</td>\n",
        "      <td>...</td>\n",
        "      <td> 8.927281e-05</td>\n",
        "      <td> 0.000067</td>\n",
        "      <td> 8.726808e-03</td>\n",
        "      <td> 3.057519e-08</td>\n",
        "      <td> 0.000300</td>\n",
        "      <td> 7.259995e-05</td>\n",
        "      <td> 5.452463e-06</td>\n",
        "      <td> 9.578044e-06</td>\n",
        "      <td> 0.000029</td>\n",
        "      <td> 0.000025</td>\n",
        "    </tr>\n",
        "    <tr>\n",
        "      <th>10    </th>\n",
        "      <td> 100005.jpg</td>\n",
        "      <td> 0.000799</td>\n",
        "      <td> 0.005330</td>\n",
        "      <td> 6.628385e-03</td>\n",
        "      <td> 2.719000e-02</td>\n",
        "      <td> 0.000159</td>\n",
        "      <td> 1.567277e-04</td>\n",
        "      <td> 0.001568</td>\n",
        "      <td> 5.835539e-04</td>\n",
        "      <td> 1.403674e-03</td>\n",
        "      <td>...</td>\n",
        "      <td> 2.833890e-03</td>\n",
        "      <td> 0.000974</td>\n",
        "      <td> 2.415500e-01</td>\n",
        "      <td> 1.097192e-05</td>\n",
        "      <td> 0.003793</td>\n",
        "      <td> 6.218973e-04</td>\n",
        "      <td> 3.593424e-05</td>\n",
        "      <td> 2.336084e-04</td>\n",
        "      <td> 0.000574</td>\n",
        "      <td> 0.000718</td>\n",
        "    </tr>\n",
        "    <tr>\n",
        "      <th>11    </th>\n",
        "      <td> 100006.jpg</td>\n",
        "      <td> 0.000467</td>\n",
        "      <td> 0.005631</td>\n",
        "      <td> 1.608489e-03</td>\n",
        "      <td> 6.231242e-02</td>\n",
        "      <td> 0.000152</td>\n",
        "      <td> 6.699522e-06</td>\n",
        "      <td> 0.001079</td>\n",
        "      <td> 4.050711e-05</td>\n",
        "      <td> 2.618504e-04</td>\n",
        "      <td>...</td>\n",
        "      <td> 4.482673e-03</td>\n",
        "      <td> 0.000793</td>\n",
        "      <td> 5.782348e-03</td>\n",
        "      <td> 4.616236e-06</td>\n",
        "      <td> 0.001243</td>\n",
        "      <td> 1.497985e-04</td>\n",
        "      <td> 4.752839e-06</td>\n",
        "      <td> 1.790973e-02</td>\n",
        "      <td> 0.000561</td>\n",
        "      <td> 0.000494</td>\n",
        "    </tr>\n",
        "    <tr>\n",
        "      <th>12    </th>\n",
        "      <td> 100007.jpg</td>\n",
        "      <td> 0.000097</td>\n",
        "      <td> 0.000032</td>\n",
        "      <td> 2.252942e-08</td>\n",
        "      <td> 9.317077e-04</td>\n",
        "      <td> 0.000641</td>\n",
        "      <td> 4.467771e-11</td>\n",
        "      <td> 0.005494</td>\n",
        "      <td> 3.393913e-11</td>\n",
        "      <td> 1.593284e-09</td>\n",
        "      <td>...</td>\n",
        "      <td> 1.430251e-04</td>\n",
        "      <td> 0.000006</td>\n",
        "      <td> 2.228705e-07</td>\n",
        "      <td> 5.241021e-04</td>\n",
        "      <td> 0.000041</td>\n",
        "      <td> 4.216697e-07</td>\n",
        "      <td> 4.432891e-08</td>\n",
        "      <td> 7.390619e-04</td>\n",
        "      <td> 0.000042</td>\n",
        "      <td> 0.000287</td>\n",
        "    </tr>\n",
        "    <tr>\n",
        "      <th>13    </th>\n",
        "      <td> 100008.jpg</td>\n",
        "      <td> 0.001017</td>\n",
        "      <td> 0.016410</td>\n",
        "      <td> 1.938829e-03</td>\n",
        "      <td> 2.587328e-02</td>\n",
        "      <td> 0.000516</td>\n",
        "      <td> 5.453207e-04</td>\n",
        "      <td> 0.003355</td>\n",
        "      <td> 1.527740e-03</td>\n",
        "      <td> 1.329470e-03</td>\n",
        "      <td>...</td>\n",
        "      <td> 4.216126e-03</td>\n",
        "      <td> 0.001699</td>\n",
        "      <td> 7.109488e-03</td>\n",
        "      <td> 1.281736e-05</td>\n",
        "      <td> 0.007330</td>\n",
        "      <td> 6.106326e-04</td>\n",
        "      <td> 7.145176e-05</td>\n",
        "      <td> 2.761377e-03</td>\n",
        "      <td> 0.000908</td>\n",
        "      <td> 0.002755</td>\n",
        "    </tr>\n",
        "    <tr>\n",
        "      <th>14    </th>\n",
        "      <td>  10001.jpg</td>\n",
        "      <td> 0.000128</td>\n",
        "      <td> 0.000825</td>\n",
        "      <td> 1.223631e-06</td>\n",
        "      <td> 3.073813e-02</td>\n",
        "      <td> 0.000676</td>\n",
        "      <td> 7.108930e-09</td>\n",
        "      <td> 0.003284</td>\n",
        "      <td> 1.575877e-08</td>\n",
        "      <td> 3.590362e-07</td>\n",
        "      <td>...</td>\n",
        "      <td> 3.676920e-04</td>\n",
        "      <td> 0.000065</td>\n",
        "      <td> 1.427719e-05</td>\n",
        "      <td> 1.706818e-04</td>\n",
        "      <td> 0.000168</td>\n",
        "      <td> 9.904062e-06</td>\n",
        "      <td> 5.564076e-07</td>\n",
        "      <td> 6.118182e-02</td>\n",
        "      <td> 0.000401</td>\n",
        "      <td> 0.001855</td>\n",
        "    </tr>\n",
        "    <tr>\n",
        "      <th>15    </th>\n",
        "      <td> 100011.jpg</td>\n",
        "      <td> 0.000013</td>\n",
        "      <td> 0.003989</td>\n",
        "      <td> 1.000403e-02</td>\n",
        "      <td> 3.531109e-03</td>\n",
        "      <td> 0.000006</td>\n",
        "      <td> 1.194907e-03</td>\n",
        "      <td> 0.000019</td>\n",
        "      <td> 6.728632e-03</td>\n",
        "      <td> 7.067935e-03</td>\n",
        "      <td>...</td>\n",
        "      <td> 3.029484e-04</td>\n",
        "      <td> 0.000266</td>\n",
        "      <td> 1.933495e-02</td>\n",
        "      <td> 2.778995e-07</td>\n",
        "      <td> 0.001773</td>\n",
        "      <td> 3.633778e-04</td>\n",
        "      <td> 5.601244e-05</td>\n",
        "      <td> 2.944568e-05</td>\n",
        "      <td> 0.000132</td>\n",
        "      <td> 0.000185</td>\n",
        "    </tr>\n",
        "    <tr>\n",
        "      <th>16    </th>\n",
        "      <td> 100012.jpg</td>\n",
        "      <td> 0.000480</td>\n",
        "      <td> 0.002775</td>\n",
        "      <td> 6.265365e-07</td>\n",
        "      <td> 5.360863e-02</td>\n",
        "      <td> 0.005064</td>\n",
        "      <td> 3.565814e-07</td>\n",
        "      <td> 0.006031</td>\n",
        "      <td> 2.339845e-07</td>\n",
        "      <td> 1.643017e-06</td>\n",
        "      <td>...</td>\n",
        "      <td> 2.760807e-04</td>\n",
        "      <td> 0.000153</td>\n",
        "      <td> 2.290256e-05</td>\n",
        "      <td> 3.734938e-03</td>\n",
        "      <td> 0.000993</td>\n",
        "      <td> 9.844482e-05</td>\n",
        "      <td> 3.379434e-05</td>\n",
        "      <td> 6.239844e-03</td>\n",
        "      <td> 0.001482</td>\n",
        "      <td> 0.022740</td>\n",
        "    </tr>\n",
        "    <tr>\n",
        "      <th>17    </th>\n",
        "      <td> 100013.jpg</td>\n",
        "      <td> 0.000140</td>\n",
        "      <td> 0.011808</td>\n",
        "      <td> 3.337860e-03</td>\n",
        "      <td> 1.673356e-01</td>\n",
        "      <td> 0.000312</td>\n",
        "      <td> 8.288514e-04</td>\n",
        "      <td> 0.000488</td>\n",
        "      <td> 1.607636e-03</td>\n",
        "      <td> 2.627132e-03</td>\n",
        "      <td>...</td>\n",
        "      <td> 9.793701e-04</td>\n",
        "      <td> 0.000911</td>\n",
        "      <td> 1.828417e-02</td>\n",
        "      <td> 4.690904e-05</td>\n",
        "      <td> 0.036913</td>\n",
        "      <td> 1.376496e-03</td>\n",
        "      <td> 3.933055e-04</td>\n",
        "      <td> 2.174814e-05</td>\n",
        "      <td> 0.001216</td>\n",
        "      <td> 0.004481</td>\n",
        "    </tr>\n",
        "    <tr>\n",
        "      <th>18    </th>\n",
        "      <td> 100014.jpg</td>\n",
        "      <td> 0.000071</td>\n",
        "      <td> 0.002038</td>\n",
        "      <td> 5.900336e-03</td>\n",
        "      <td> 3.402779e-03</td>\n",
        "      <td> 0.000018</td>\n",
        "      <td> 2.689059e-05</td>\n",
        "      <td> 0.000328</td>\n",
        "      <td> 2.188890e-04</td>\n",
        "      <td> 7.449596e-04</td>\n",
        "      <td>...</td>\n",
        "      <td> 2.194771e-03</td>\n",
        "      <td> 0.000333</td>\n",
        "      <td> 1.196212e-02</td>\n",
        "      <td> 8.925970e-07</td>\n",
        "      <td> 0.000771</td>\n",
        "      <td> 1.156619e-04</td>\n",
        "      <td> 4.758695e-06</td>\n",
        "      <td> 1.772841e-03</td>\n",
        "      <td> 0.000138</td>\n",
        "      <td> 0.000112</td>\n",
        "    </tr>\n",
        "    <tr>\n",
        "      <th>19    </th>\n",
        "      <td> 100015.jpg</td>\n",
        "      <td> 0.000126</td>\n",
        "      <td> 0.001331</td>\n",
        "      <td> 1.493255e-02</td>\n",
        "      <td> 3.523694e-03</td>\n",
        "      <td> 0.000029</td>\n",
        "      <td> 3.664337e-05</td>\n",
        "      <td> 0.000301</td>\n",
        "      <td> 1.833363e-04</td>\n",
        "      <td> 7.293847e-04</td>\n",
        "      <td>...</td>\n",
        "      <td> 1.897513e-03</td>\n",
        "      <td> 0.000334</td>\n",
        "      <td> 3.896159e-02</td>\n",
        "      <td> 1.363744e-06</td>\n",
        "      <td> 0.001774</td>\n",
        "      <td> 1.222778e-04</td>\n",
        "      <td> 6.390002e-06</td>\n",
        "      <td> 7.525285e-06</td>\n",
        "      <td> 0.000128</td>\n",
        "      <td> 0.000078</td>\n",
        "    </tr>\n",
        "    <tr>\n",
        "      <th>20    </th>\n",
        "      <td> 100016.jpg</td>\n",
        "      <td> 0.000001</td>\n",
        "      <td> 0.000023</td>\n",
        "      <td> 1.156952e-09</td>\n",
        "      <td> 6.760065e-08</td>\n",
        "      <td> 0.000011</td>\n",
        "      <td> 2.470740e-03</td>\n",
        "      <td> 0.000000</td>\n",
        "      <td> 6.318456e-05</td>\n",
        "      <td> 5.641078e-07</td>\n",
        "      <td>...</td>\n",
        "      <td> 2.012370e-08</td>\n",
        "      <td> 0.000000</td>\n",
        "      <td> 1.307009e-07</td>\n",
        "      <td> 1.538237e-05</td>\n",
        "      <td> 0.000963</td>\n",
        "      <td> 2.455420e-05</td>\n",
        "      <td> 2.830526e-02</td>\n",
        "      <td> 2.448434e-10</td>\n",
        "      <td> 0.000002</td>\n",
        "      <td> 0.000960</td>\n",
        "    </tr>\n",
        "    <tr>\n",
        "      <th>21    </th>\n",
        "      <td> 100017.jpg</td>\n",
        "      <td> 0.000278</td>\n",
        "      <td> 0.006710</td>\n",
        "      <td> 1.428336e-03</td>\n",
        "      <td> 4.701165e-02</td>\n",
        "      <td> 0.001070</td>\n",
        "      <td> 1.498741e-04</td>\n",
        "      <td> 0.007238</td>\n",
        "      <td> 1.913998e-04</td>\n",
        "      <td> 4.893830e-04</td>\n",
        "      <td>...</td>\n",
        "      <td> 2.616728e-03</td>\n",
        "      <td> 0.001042</td>\n",
        "      <td> 1.230651e-02</td>\n",
        "      <td> 4.614837e-04</td>\n",
        "      <td> 0.018785</td>\n",
        "      <td> 8.282178e-04</td>\n",
        "      <td> 2.115849e-04</td>\n",
        "      <td> 1.268379e-04</td>\n",
        "      <td> 0.001951</td>\n",
        "      <td> 0.007099</td>\n",
        "    </tr>\n",
        "    <tr>\n",
        "      <th>22    </th>\n",
        "      <td> 100018.jpg</td>\n",
        "      <td> 0.001953</td>\n",
        "      <td> 0.000299</td>\n",
        "      <td> 3.182642e-06</td>\n",
        "      <td> 1.266129e-04</td>\n",
        "      <td> 0.000516</td>\n",
        "      <td> 3.949333e-05</td>\n",
        "      <td> 0.000640</td>\n",
        "      <td> 1.424337e-05</td>\n",
        "      <td> 4.896271e-06</td>\n",
        "      <td>...</td>\n",
        "      <td> 1.241312e-04</td>\n",
        "      <td> 0.000061</td>\n",
        "      <td> 5.894768e-04</td>\n",
        "      <td> 4.934303e-05</td>\n",
        "      <td> 0.002482</td>\n",
        "      <td> 1.147605e-04</td>\n",
        "      <td> 1.145716e-04</td>\n",
        "      <td> 3.546294e-06</td>\n",
        "      <td> 0.000081</td>\n",
        "      <td> 0.000884</td>\n",
        "    </tr>\n",
        "    <tr>\n",
        "      <th>23    </th>\n",
        "      <td> 100019.jpg</td>\n",
        "      <td> 0.000253</td>\n",
        "      <td> 0.011601</td>\n",
        "      <td> 1.436781e-03</td>\n",
        "      <td> 5.545555e-02</td>\n",
        "      <td> 0.001117</td>\n",
        "      <td> 2.033034e-04</td>\n",
        "      <td> 0.003033</td>\n",
        "      <td> 2.500069e-04</td>\n",
        "      <td> 6.514807e-04</td>\n",
        "      <td>...</td>\n",
        "      <td> 2.447429e-03</td>\n",
        "      <td> 0.001095</td>\n",
        "      <td> 6.525468e-03</td>\n",
        "      <td> 6.031889e-04</td>\n",
        "      <td> 0.045802</td>\n",
        "      <td> 1.219879e-03</td>\n",
        "      <td> 5.588351e-04</td>\n",
        "      <td> 5.723393e-05</td>\n",
        "      <td> 0.002272</td>\n",
        "      <td> 0.012563</td>\n",
        "    </tr>\n",
        "    <tr>\n",
        "      <th>24    </th>\n",
        "      <td>  10002.jpg</td>\n",
        "      <td> 0.000059</td>\n",
        "      <td> 0.002723</td>\n",
        "      <td> 2.283313e-05</td>\n",
        "      <td> 1.772939e-01</td>\n",
        "      <td> 0.000099</td>\n",
        "      <td> 1.058797e-05</td>\n",
        "      <td> 0.000132</td>\n",
        "      <td> 2.531664e-05</td>\n",
        "      <td> 7.053794e-05</td>\n",
        "      <td>...</td>\n",
        "      <td> 9.308095e-05</td>\n",
        "      <td> 0.000112</td>\n",
        "      <td> 1.195234e-03</td>\n",
        "      <td> 8.498318e-06</td>\n",
        "      <td> 0.000585</td>\n",
        "      <td> 1.823165e-04</td>\n",
        "      <td> 2.104790e-05</td>\n",
        "      <td> 6.213322e-03</td>\n",
        "      <td> 0.000411</td>\n",
        "      <td> 0.002490</td>\n",
        "    </tr>\n",
        "    <tr>\n",
        "      <th>25    </th>\n",
        "      <td> 100020.jpg</td>\n",
        "      <td> 0.000080</td>\n",
        "      <td> 0.004376</td>\n",
        "      <td> 1.338755e-04</td>\n",
        "      <td> 3.752748e-02</td>\n",
        "      <td> 0.000166</td>\n",
        "      <td> 4.692713e-06</td>\n",
        "      <td> 0.000854</td>\n",
        "      <td> 1.542719e-05</td>\n",
        "      <td> 8.386093e-05</td>\n",
        "      <td>...</td>\n",
        "      <td> 5.793735e-04</td>\n",
        "      <td> 0.000249</td>\n",
        "      <td> 2.426376e-03</td>\n",
        "      <td> 3.521280e-05</td>\n",
        "      <td> 0.001086</td>\n",
        "      <td> 1.828526e-04</td>\n",
        "      <td> 1.873110e-05</td>\n",
        "      <td> 2.202691e-03</td>\n",
        "      <td> 0.000542</td>\n",
        "      <td> 0.002421</td>\n",
        "    </tr>\n",
        "    <tr>\n",
        "      <th>26    </th>\n",
        "      <td> 100021.jpg</td>\n",
        "      <td> 0.000250</td>\n",
        "      <td> 0.000384</td>\n",
        "      <td> 3.204037e-05</td>\n",
        "      <td> 3.821858e-03</td>\n",
        "      <td> 0.000339</td>\n",
        "      <td> 2.226821e-08</td>\n",
        "      <td> 0.014602</td>\n",
        "      <td> 9.143600e-08</td>\n",
        "      <td> 1.422635e-06</td>\n",
        "      <td>...</td>\n",
        "      <td> 2.381129e-03</td>\n",
        "      <td> 0.000139</td>\n",
        "      <td> 1.108939e-04</td>\n",
        "      <td> 1.947382e-05</td>\n",
        "      <td> 0.000195</td>\n",
        "      <td> 6.339104e-06</td>\n",
        "      <td> 1.469116e-07</td>\n",
        "      <td> 2.614047e-02</td>\n",
        "      <td> 0.000144</td>\n",
        "      <td> 0.000187</td>\n",
        "    </tr>\n",
        "    <tr>\n",
        "      <th>27    </th>\n",
        "      <td> 100022.jpg</td>\n",
        "      <td> 0.000948</td>\n",
        "      <td> 0.004051</td>\n",
        "      <td> 6.384270e-04</td>\n",
        "      <td> 2.468956e-02</td>\n",
        "      <td> 0.001833</td>\n",
        "      <td> 7.421576e-05</td>\n",
        "      <td> 0.007339</td>\n",
        "      <td> 8.708356e-05</td>\n",
        "      <td> 1.837397e-04</td>\n",
        "      <td>...</td>\n",
        "      <td> 3.783332e-03</td>\n",
        "      <td> 0.000953</td>\n",
        "      <td> 1.122040e-02</td>\n",
        "      <td> 1.094250e-04</td>\n",
        "      <td> 0.037824</td>\n",
        "      <td> 4.511687e-04</td>\n",
        "      <td> 8.681651e-05</td>\n",
        "      <td> 2.682261e-04</td>\n",
        "      <td> 0.001143</td>\n",
        "      <td> 0.004841</td>\n",
        "    </tr>\n",
        "    <tr>\n",
        "      <th>28    </th>\n",
        "      <td> 100023.jpg</td>\n",
        "      <td> 0.010402</td>\n",
        "      <td> 0.000282</td>\n",
        "      <td> 1.380947e-07</td>\n",
        "      <td> 4.535679e-04</td>\n",
        "      <td> 0.008342</td>\n",
        "      <td> 2.298630e-06</td>\n",
        "      <td> 0.012707</td>\n",
        "      <td> 4.195305e-07</td>\n",
        "      <td> 3.232578e-07</td>\n",
        "      <td>...</td>\n",
        "      <td> 7.128492e-05</td>\n",
        "      <td> 0.000055</td>\n",
        "      <td> 5.356942e-04</td>\n",
        "      <td> 8.920530e-03</td>\n",
        "      <td> 0.002733</td>\n",
        "      <td> 1.393067e-04</td>\n",
        "      <td> 1.138462e-04</td>\n",
        "      <td> 2.670160e-06</td>\n",
        "      <td> 0.000235</td>\n",
        "      <td> 0.005168</td>\n",
        "    </tr>\n",
        "    <tr>\n",
        "      <th>29    </th>\n",
        "      <td> 100024.jpg</td>\n",
        "      <td> 0.000940</td>\n",
        "      <td> 0.001240</td>\n",
        "      <td> 8.964390e-05</td>\n",
        "      <td> 3.598079e-03</td>\n",
        "      <td> 0.000899</td>\n",
        "      <td> 5.889470e-08</td>\n",
        "      <td> 0.045047</td>\n",
        "      <td> 1.492756e-07</td>\n",
        "      <td> 2.440146e-06</td>\n",
        "      <td>...</td>\n",
        "      <td> 7.498912e-03</td>\n",
        "      <td> 0.000281</td>\n",
        "      <td> 1.608080e-03</td>\n",
        "      <td> 3.628972e-04</td>\n",
        "      <td> 0.000869</td>\n",
        "      <td> 2.437191e-05</td>\n",
        "      <td> 1.034188e-06</td>\n",
        "      <td> 7.320232e-04</td>\n",
        "      <td> 0.000275</td>\n",
        "      <td> 0.000801</td>\n",
        "    </tr>\n",
        "    <tr>\n",
        "      <th>...</th>\n",
        "      <td>...</td>\n",
        "      <td>...</td>\n",
        "      <td>...</td>\n",
        "      <td>...</td>\n",
        "      <td>...</td>\n",
        "      <td>...</td>\n",
        "      <td>...</td>\n",
        "      <td>...</td>\n",
        "      <td>...</td>\n",
        "      <td>...</td>\n",
        "      <td>...</td>\n",
        "      <td>...</td>\n",
        "      <td>...</td>\n",
        "      <td>...</td>\n",
        "      <td>...</td>\n",
        "      <td>...</td>\n",
        "      <td>...</td>\n",
        "      <td>...</td>\n",
        "      <td>...</td>\n",
        "      <td>...</td>\n",
        "      <td>...</td>\n",
        "    </tr>\n",
        "    <tr>\n",
        "      <th>130370</th>\n",
        "      <td>  99963.jpg</td>\n",
        "      <td> 0.000066</td>\n",
        "      <td> 0.014515</td>\n",
        "      <td> 1.020664e-03</td>\n",
        "      <td> 2.631334e-02</td>\n",
        "      <td> 0.000111</td>\n",
        "      <td> 5.513773e-03</td>\n",
        "      <td> 0.000070</td>\n",
        "      <td> 7.499038e-03</td>\n",
        "      <td> 4.393768e-03</td>\n",
        "      <td>...</td>\n",
        "      <td> 2.378672e-04</td>\n",
        "      <td> 0.000518</td>\n",
        "      <td> 6.025839e-03</td>\n",
        "      <td> 2.141760e-05</td>\n",
        "      <td> 0.015353</td>\n",
        "      <td> 1.842255e-03</td>\n",
        "      <td> 1.270594e-03</td>\n",
        "      <td> 3.678217e-05</td>\n",
        "      <td> 0.000744</td>\n",
        "      <td> 0.006707</td>\n",
        "    </tr>\n",
        "    <tr>\n",
        "      <th>130371</th>\n",
        "      <td>  99964.jpg</td>\n",
        "      <td> 0.000134</td>\n",
        "      <td> 0.000954</td>\n",
        "      <td> 7.535587e-03</td>\n",
        "      <td> 2.035338e-03</td>\n",
        "      <td> 0.000031</td>\n",
        "      <td> 5.528542e-06</td>\n",
        "      <td> 0.000829</td>\n",
        "      <td> 3.038498e-05</td>\n",
        "      <td> 2.110696e-04</td>\n",
        "      <td>...</td>\n",
        "      <td> 4.124518e-03</td>\n",
        "      <td> 0.000280</td>\n",
        "      <td> 1.686781e-02</td>\n",
        "      <td> 2.281220e-06</td>\n",
        "      <td> 0.001220</td>\n",
        "      <td> 6.235343e-05</td>\n",
        "      <td> 2.306783e-06</td>\n",
        "      <td> 6.752527e-05</td>\n",
        "      <td> 0.000117</td>\n",
        "      <td> 0.000069</td>\n",
        "    </tr>\n",
        "    <tr>\n",
        "      <th>130372</th>\n",
        "      <td>  99966.jpg</td>\n",
        "      <td> 0.000047</td>\n",
        "      <td> 0.017114</td>\n",
        "      <td> 3.979165e-03</td>\n",
        "      <td> 1.846053e-02</td>\n",
        "      <td> 0.000036</td>\n",
        "      <td> 5.484472e-03</td>\n",
        "      <td> 0.000125</td>\n",
        "      <td> 1.749010e-02</td>\n",
        "      <td> 1.005871e-02</td>\n",
        "      <td>...</td>\n",
        "      <td> 5.394879e-04</td>\n",
        "      <td> 0.000642</td>\n",
        "      <td> 7.897550e-03</td>\n",
        "      <td> 1.717368e-06</td>\n",
        "      <td> 0.003706</td>\n",
        "      <td> 9.156056e-04</td>\n",
        "      <td> 1.835896e-04</td>\n",
        "      <td> 4.104430e-04</td>\n",
        "      <td> 0.000452</td>\n",
        "      <td> 0.001775</td>\n",
        "    </tr>\n",
        "    <tr>\n",
        "      <th>130373</th>\n",
        "      <td>  99967.jpg</td>\n",
        "      <td> 0.000224</td>\n",
        "      <td> 0.001546</td>\n",
        "      <td> 1.037423e-02</td>\n",
        "      <td> 4.836523e-03</td>\n",
        "      <td> 0.000065</td>\n",
        "      <td> 1.165854e-05</td>\n",
        "      <td> 0.001188</td>\n",
        "      <td> 5.963987e-05</td>\n",
        "      <td> 3.563228e-04</td>\n",
        "      <td>...</td>\n",
        "      <td> 5.837488e-03</td>\n",
        "      <td> 0.000485</td>\n",
        "      <td> 2.957115e-02</td>\n",
        "      <td> 3.142879e-06</td>\n",
        "      <td> 0.001772</td>\n",
        "      <td> 1.020747e-04</td>\n",
        "      <td> 4.104408e-06</td>\n",
        "      <td> 9.903356e-05</td>\n",
        "      <td> 0.000184</td>\n",
        "      <td> 0.000124</td>\n",
        "    </tr>\n",
        "    <tr>\n",
        "      <th>130374</th>\n",
        "      <td>  99968.jpg</td>\n",
        "      <td> 0.000029</td>\n",
        "      <td> 0.000191</td>\n",
        "      <td> 3.136485e-08</td>\n",
        "      <td> 2.324262e-02</td>\n",
        "      <td> 0.000339</td>\n",
        "      <td> 1.113062e-09</td>\n",
        "      <td> 0.001211</td>\n",
        "      <td> 1.452061e-09</td>\n",
        "      <td> 3.350432e-08</td>\n",
        "      <td>...</td>\n",
        "      <td> 4.312403e-05</td>\n",
        "      <td> 0.000012</td>\n",
        "      <td> 5.583431e-07</td>\n",
        "      <td> 1.611119e-04</td>\n",
        "      <td> 0.000025</td>\n",
        "      <td> 2.648957e-06</td>\n",
        "      <td> 2.515126e-07</td>\n",
        "      <td> 1.538921e-01</td>\n",
        "      <td> 0.000157</td>\n",
        "      <td> 0.001371</td>\n",
        "    </tr>\n",
        "    <tr>\n",
        "      <th>130375</th>\n",
        "      <td>  99969.jpg</td>\n",
        "      <td> 0.000375</td>\n",
        "      <td> 0.008659</td>\n",
        "      <td> 1.098037e-04</td>\n",
        "      <td> 1.842576e-01</td>\n",
        "      <td> 0.001229</td>\n",
        "      <td> 1.000734e-05</td>\n",
        "      <td> 0.001238</td>\n",
        "      <td> 1.544429e-05</td>\n",
        "      <td> 9.336245e-05</td>\n",
        "      <td>...</td>\n",
        "      <td> 8.741894e-04</td>\n",
        "      <td> 0.000506</td>\n",
        "      <td> 2.310012e-03</td>\n",
        "      <td> 2.906478e-04</td>\n",
        "      <td> 0.008943</td>\n",
        "      <td> 4.325041e-04</td>\n",
        "      <td> 9.264699e-05</td>\n",
        "      <td> 1.898944e-04</td>\n",
        "      <td> 0.002031</td>\n",
        "      <td> 0.007838</td>\n",
        "    </tr>\n",
        "    <tr>\n",
        "      <th>130376</th>\n",
        "      <td>   9997.jpg</td>\n",
        "      <td> 0.000086</td>\n",
        "      <td> 0.001339</td>\n",
        "      <td> 1.518577e-06</td>\n",
        "      <td> 4.144332e-02</td>\n",
        "      <td> 0.000497</td>\n",
        "      <td> 1.002665e-07</td>\n",
        "      <td> 0.001294</td>\n",
        "      <td> 1.960105e-07</td>\n",
        "      <td> 1.941008e-06</td>\n",
        "      <td>...</td>\n",
        "      <td> 1.917179e-04</td>\n",
        "      <td> 0.000080</td>\n",
        "      <td> 1.838492e-05</td>\n",
        "      <td> 1.421762e-04</td>\n",
        "      <td> 0.000310</td>\n",
        "      <td> 2.932816e-05</td>\n",
        "      <td> 3.984259e-06</td>\n",
        "      <td> 3.511393e-02</td>\n",
        "      <td> 0.000463</td>\n",
        "      <td> 0.002934</td>\n",
        "    </tr>\n",
        "    <tr>\n",
        "      <th>130377</th>\n",
        "      <td>  99970.jpg</td>\n",
        "      <td> 0.000016</td>\n",
        "      <td> 0.002899</td>\n",
        "      <td> 8.770438e-03</td>\n",
        "      <td> 2.292887e-03</td>\n",
        "      <td> 0.000006</td>\n",
        "      <td> 1.724909e-03</td>\n",
        "      <td> 0.000020</td>\n",
        "      <td> 7.826554e-03</td>\n",
        "      <td> 6.640533e-03</td>\n",
        "      <td>...</td>\n",
        "      <td> 2.391745e-04</td>\n",
        "      <td> 0.000247</td>\n",
        "      <td> 2.540657e-02</td>\n",
        "      <td> 2.718381e-07</td>\n",
        "      <td> 0.002656</td>\n",
        "      <td> 4.002081e-04</td>\n",
        "      <td> 8.028018e-05</td>\n",
        "      <td> 1.635625e-05</td>\n",
        "      <td> 0.000120</td>\n",
        "      <td> 0.000147</td>\n",
        "    </tr>\n",
        "    <tr>\n",
        "      <th>130378</th>\n",
        "      <td>  99974.jpg</td>\n",
        "      <td> 0.000099</td>\n",
        "      <td> 0.000022</td>\n",
        "      <td> 5.901454e-11</td>\n",
        "      <td> 8.501828e-04</td>\n",
        "      <td> 0.001353</td>\n",
        "      <td> 4.741897e-11</td>\n",
        "      <td> 0.002676</td>\n",
        "      <td> 9.251336e-12</td>\n",
        "      <td> 1.138114e-10</td>\n",
        "      <td>...</td>\n",
        "      <td> 6.235423e-06</td>\n",
        "      <td> 0.000001</td>\n",
        "      <td> 1.556053e-08</td>\n",
        "      <td> 3.718656e-03</td>\n",
        "      <td> 0.000020</td>\n",
        "      <td> 4.049579e-07</td>\n",
        "      <td> 2.767787e-07</td>\n",
        "      <td> 3.208331e-04</td>\n",
        "      <td> 0.000031</td>\n",
        "      <td> 0.002266</td>\n",
        "    </tr>\n",
        "    <tr>\n",
        "      <th>130379</th>\n",
        "      <td>  99975.jpg</td>\n",
        "      <td> 0.000555</td>\n",
        "      <td> 0.000329</td>\n",
        "      <td> 9.911662e-05</td>\n",
        "      <td> 6.084274e-03</td>\n",
        "      <td> 0.000738</td>\n",
        "      <td> 2.984186e-08</td>\n",
        "      <td> 0.022816</td>\n",
        "      <td> 5.078304e-08</td>\n",
        "      <td> 1.422265e-06</td>\n",
        "      <td>...</td>\n",
        "      <td> 4.309115e-03</td>\n",
        "      <td> 0.000161</td>\n",
        "      <td> 4.723091e-04</td>\n",
        "      <td> 1.586435e-04</td>\n",
        "      <td> 0.001174</td>\n",
        "      <td> 1.298138e-05</td>\n",
        "      <td> 4.848338e-07</td>\n",
        "      <td> 2.245177e-04</td>\n",
        "      <td> 0.000317</td>\n",
        "      <td> 0.000328</td>\n",
        "    </tr>\n",
        "    <tr>\n",
        "      <th>130380</th>\n",
        "      <td>  99976.jpg</td>\n",
        "      <td> 0.000353</td>\n",
        "      <td> 0.009907</td>\n",
        "      <td> 1.101999e-02</td>\n",
        "      <td> 3.898977e-02</td>\n",
        "      <td> 0.000091</td>\n",
        "      <td> 1.026718e-03</td>\n",
        "      <td> 0.000179</td>\n",
        "      <td> 3.480036e-03</td>\n",
        "      <td> 5.799568e-03</td>\n",
        "      <td>...</td>\n",
        "      <td> 1.338706e-03</td>\n",
        "      <td> 0.000984</td>\n",
        "      <td> 8.584429e-02</td>\n",
        "      <td> 5.044067e-06</td>\n",
        "      <td> 0.009941</td>\n",
        "      <td> 1.422270e-03</td>\n",
        "      <td> 1.488693e-04</td>\n",
        "      <td> 4.435442e-05</td>\n",
        "      <td> 0.000783</td>\n",
        "      <td> 0.000884</td>\n",
        "    </tr>\n",
        "    <tr>\n",
        "      <th>130381</th>\n",
        "      <td>  99977.jpg</td>\n",
        "      <td> 0.000053</td>\n",
        "      <td> 0.010164</td>\n",
        "      <td> 1.065888e-02</td>\n",
        "      <td> 1.203076e-02</td>\n",
        "      <td> 0.000036</td>\n",
        "      <td> 3.737762e-03</td>\n",
        "      <td> 0.000067</td>\n",
        "      <td> 1.244414e-02</td>\n",
        "      <td> 1.124667e-02</td>\n",
        "      <td>...</td>\n",
        "      <td> 7.121727e-04</td>\n",
        "      <td> 0.000706</td>\n",
        "      <td> 2.294197e-02</td>\n",
        "      <td> 2.446797e-06</td>\n",
        "      <td> 0.013559</td>\n",
        "      <td> 1.208680e-03</td>\n",
        "      <td> 3.002644e-04</td>\n",
        "      <td> 3.988707e-05</td>\n",
        "      <td> 0.000492</td>\n",
        "      <td> 0.001132</td>\n",
        "    </tr>\n",
        "    <tr>\n",
        "      <th>130382</th>\n",
        "      <td>  99979.jpg</td>\n",
        "      <td> 0.000757</td>\n",
        "      <td> 0.004427</td>\n",
        "      <td> 2.797630e-03</td>\n",
        "      <td> 2.046126e-02</td>\n",
        "      <td> 0.000301</td>\n",
        "      <td> 1.029211e-05</td>\n",
        "      <td> 0.004242</td>\n",
        "      <td> 4.061769e-05</td>\n",
        "      <td> 2.445017e-04</td>\n",
        "      <td>...</td>\n",
        "      <td> 5.344244e-03</td>\n",
        "      <td> 0.000924</td>\n",
        "      <td> 1.445643e-02</td>\n",
        "      <td> 2.967539e-05</td>\n",
        "      <td> 0.004662</td>\n",
        "      <td> 2.352300e-04</td>\n",
        "      <td> 9.574443e-06</td>\n",
        "      <td> 3.455080e-04</td>\n",
        "      <td> 0.000757</td>\n",
        "      <td> 0.000681</td>\n",
        "    </tr>\n",
        "    <tr>\n",
        "      <th>130383</th>\n",
        "      <td>   9998.jpg</td>\n",
        "      <td> 0.001471</td>\n",
        "      <td> 0.000178</td>\n",
        "      <td> 2.844321e-09</td>\n",
        "      <td> 4.147666e-05</td>\n",
        "      <td> 0.001862</td>\n",
        "      <td> 2.143371e-05</td>\n",
        "      <td> 0.000567</td>\n",
        "      <td> 8.009785e-07</td>\n",
        "      <td> 6.157028e-08</td>\n",
        "      <td>...</td>\n",
        "      <td> 6.907484e-06</td>\n",
        "      <td> 0.000007</td>\n",
        "      <td> 9.989989e-07</td>\n",
        "      <td> 5.492638e-04</td>\n",
        "      <td> 0.000978</td>\n",
        "      <td> 2.539468e-05</td>\n",
        "      <td> 1.766803e-04</td>\n",
        "      <td> 3.407727e-06</td>\n",
        "      <td> 0.000045</td>\n",
        "      <td> 0.011804</td>\n",
        "    </tr>\n",
        "    <tr>\n",
        "      <th>130384</th>\n",
        "      <td>  99980.jpg</td>\n",
        "      <td> 0.000155</td>\n",
        "      <td> 0.006079</td>\n",
        "      <td> 1.764574e-02</td>\n",
        "      <td> 2.099090e-02</td>\n",
        "      <td> 0.000126</td>\n",
        "      <td> 6.286794e-04</td>\n",
        "      <td> 0.000771</td>\n",
        "      <td> 2.141903e-03</td>\n",
        "      <td> 4.153301e-03</td>\n",
        "      <td>...</td>\n",
        "      <td> 2.426280e-03</td>\n",
        "      <td> 0.001116</td>\n",
        "      <td> 1.363378e-01</td>\n",
        "      <td> 6.038834e-06</td>\n",
        "      <td> 0.011073</td>\n",
        "      <td> 7.937342e-04</td>\n",
        "      <td> 8.105006e-05</td>\n",
        "      <td> 1.658555e-04</td>\n",
        "      <td> 0.000720</td>\n",
        "      <td> 0.000903</td>\n",
        "    </tr>\n",
        "    <tr>\n",
        "      <th>130385</th>\n",
        "      <td>  99981.jpg</td>\n",
        "      <td> 0.000031</td>\n",
        "      <td> 0.000004</td>\n",
        "      <td> 3.449955e-10</td>\n",
        "      <td> 3.297721e-04</td>\n",
        "      <td> 0.000203</td>\n",
        "      <td> 1.858846e-12</td>\n",
        "      <td> 0.001326</td>\n",
        "      <td> 1.001239e-12</td>\n",
        "      <td> 4.785905e-11</td>\n",
        "      <td>...</td>\n",
        "      <td> 1.046648e-05</td>\n",
        "      <td> 0.000001</td>\n",
        "      <td> 1.535879e-08</td>\n",
        "      <td> 1.612365e-04</td>\n",
        "      <td> 0.000004</td>\n",
        "      <td> 4.802180e-08</td>\n",
        "      <td> 5.741778e-09</td>\n",
        "      <td> 3.632001e-04</td>\n",
        "      <td> 0.000008</td>\n",
        "      <td> 0.000084</td>\n",
        "    </tr>\n",
        "    <tr>\n",
        "      <th>130386</th>\n",
        "      <td>  99983.jpg</td>\n",
        "      <td> 0.000000</td>\n",
        "      <td> 0.000011</td>\n",
        "      <td> 5.618931e-09</td>\n",
        "      <td> 7.627817e-09</td>\n",
        "      <td> 0.000002</td>\n",
        "      <td> 1.274668e-03</td>\n",
        "      <td> 0.000000</td>\n",
        "      <td> 6.415938e-05</td>\n",
        "      <td> 8.681699e-07</td>\n",
        "      <td>...</td>\n",
        "      <td> 2.269142e-08</td>\n",
        "      <td> 0.000000</td>\n",
        "      <td> 2.828069e-07</td>\n",
        "      <td> 6.859061e-06</td>\n",
        "      <td> 0.000762</td>\n",
        "      <td> 1.504283e-05</td>\n",
        "      <td> 9.839024e-03</td>\n",
        "      <td> 4.383374e-11</td>\n",
        "      <td> 0.000001</td>\n",
        "      <td> 0.000266</td>\n",
        "    </tr>\n",
        "    <tr>\n",
        "      <th>130387</th>\n",
        "      <td>  99984.jpg</td>\n",
        "      <td> 0.000777</td>\n",
        "      <td> 0.000457</td>\n",
        "      <td> 4.072374e-06</td>\n",
        "      <td> 5.862921e-03</td>\n",
        "      <td> 0.001830</td>\n",
        "      <td> 1.912092e-08</td>\n",
        "      <td> 0.053456</td>\n",
        "      <td> 3.483163e-08</td>\n",
        "      <td> 3.870056e-07</td>\n",
        "      <td>...</td>\n",
        "      <td> 1.781560e-03</td>\n",
        "      <td> 0.000130</td>\n",
        "      <td> 6.082266e-05</td>\n",
        "      <td> 2.192940e-04</td>\n",
        "      <td> 0.000246</td>\n",
        "      <td> 8.062617e-06</td>\n",
        "      <td> 4.020270e-07</td>\n",
        "      <td> 2.337310e-02</td>\n",
        "      <td> 0.000256</td>\n",
        "      <td> 0.000931</td>\n",
        "    </tr>\n",
        "    <tr>\n",
        "      <th>130388</th>\n",
        "      <td>  99986.jpg</td>\n",
        "      <td> 0.000311</td>\n",
        "      <td> 0.001872</td>\n",
        "      <td> 1.538933e-07</td>\n",
        "      <td> 4.534042e-04</td>\n",
        "      <td> 0.002460</td>\n",
        "      <td> 3.134115e-04</td>\n",
        "      <td> 0.000534</td>\n",
        "      <td> 3.961592e-05</td>\n",
        "      <td> 6.734497e-06</td>\n",
        "      <td>...</td>\n",
        "      <td> 1.624712e-05</td>\n",
        "      <td> 0.000050</td>\n",
        "      <td> 4.635896e-05</td>\n",
        "      <td> 4.349829e-03</td>\n",
        "      <td> 0.005571</td>\n",
        "      <td> 5.685244e-04</td>\n",
        "      <td> 6.223147e-03</td>\n",
        "      <td> 2.675030e-06</td>\n",
        "      <td> 0.000329</td>\n",
        "      <td> 0.048019</td>\n",
        "    </tr>\n",
        "    <tr>\n",
        "      <th>130389</th>\n",
        "      <td>  99987.jpg</td>\n",
        "      <td> 0.000272</td>\n",
        "      <td> 0.000198</td>\n",
        "      <td> 1.520834e-07</td>\n",
        "      <td> 2.528993e-03</td>\n",
        "      <td> 0.005043</td>\n",
        "      <td> 1.631534e-09</td>\n",
        "      <td> 0.069215</td>\n",
        "      <td> 7.745580e-10</td>\n",
        "      <td> 1.593267e-08</td>\n",
        "      <td>...</td>\n",
        "      <td> 5.028832e-04</td>\n",
        "      <td> 0.000037</td>\n",
        "      <td> 3.454893e-06</td>\n",
        "      <td> 6.058177e-03</td>\n",
        "      <td> 0.000323</td>\n",
        "      <td> 3.797969e-06</td>\n",
        "      <td> 7.224706e-07</td>\n",
        "      <td> 5.029530e-04</td>\n",
        "      <td> 0.000253</td>\n",
        "      <td> 0.003215</td>\n",
        "    </tr>\n",
        "    <tr>\n",
        "      <th>130390</th>\n",
        "      <td>  99988.jpg</td>\n",
        "      <td> 0.000003</td>\n",
        "      <td> 0.000959</td>\n",
        "      <td> 4.989794e-03</td>\n",
        "      <td> 1.942727e-03</td>\n",
        "      <td> 0.000001</td>\n",
        "      <td> 1.993100e-04</td>\n",
        "      <td> 0.000005</td>\n",
        "      <td> 1.560162e-03</td>\n",
        "      <td> 2.307123e-03</td>\n",
        "      <td>...</td>\n",
        "      <td> 9.776901e-05</td>\n",
        "      <td> 0.000071</td>\n",
        "      <td> 8.379052e-03</td>\n",
        "      <td> 3.519219e-08</td>\n",
        "      <td> 0.000320</td>\n",
        "      <td> 7.568915e-05</td>\n",
        "      <td> 5.657661e-06</td>\n",
        "      <td> 1.049814e-05</td>\n",
        "      <td> 0.000031</td>\n",
        "      <td> 0.000027</td>\n",
        "    </tr>\n",
        "    <tr>\n",
        "      <th>130391</th>\n",
        "      <td>  99989.jpg</td>\n",
        "      <td> 0.002325</td>\n",
        "      <td> 0.004032</td>\n",
        "      <td> 2.861388e-05</td>\n",
        "      <td> 1.266183e-02</td>\n",
        "      <td> 0.005535</td>\n",
        "      <td> 2.731025e-05</td>\n",
        "      <td> 0.009137</td>\n",
        "      <td> 1.302084e-05</td>\n",
        "      <td> 2.421373e-05</td>\n",
        "      <td>...</td>\n",
        "      <td> 1.880190e-03</td>\n",
        "      <td> 0.000519</td>\n",
        "      <td> 5.059779e-04</td>\n",
        "      <td> 4.585726e-04</td>\n",
        "      <td> 0.012816</td>\n",
        "      <td> 2.693313e-04</td>\n",
        "      <td> 1.005547e-04</td>\n",
        "      <td> 3.583046e-04</td>\n",
        "      <td> 0.001283</td>\n",
        "      <td> 0.014371</td>\n",
        "    </tr>\n",
        "    <tr>\n",
        "      <th>130392</th>\n",
        "      <td>   9999.jpg</td>\n",
        "      <td> 0.001111</td>\n",
        "      <td> 0.010098</td>\n",
        "      <td> 1.805690e-04</td>\n",
        "      <td> 4.474598e-02</td>\n",
        "      <td> 0.000258</td>\n",
        "      <td> 2.569710e-03</td>\n",
        "      <td> 0.000360</td>\n",
        "      <td> 3.064685e-03</td>\n",
        "      <td> 1.109698e-03</td>\n",
        "      <td>...</td>\n",
        "      <td> 2.946241e-04</td>\n",
        "      <td> 0.000455</td>\n",
        "      <td> 1.375394e-02</td>\n",
        "      <td> 2.196113e-05</td>\n",
        "      <td> 0.004956</td>\n",
        "      <td> 1.486378e-03</td>\n",
        "      <td> 4.661223e-04</td>\n",
        "      <td> 1.556553e-04</td>\n",
        "      <td> 0.000630</td>\n",
        "      <td> 0.004775</td>\n",
        "    </tr>\n",
        "    <tr>\n",
        "      <th>130393</th>\n",
        "      <td>  99990.jpg</td>\n",
        "      <td> 0.000009</td>\n",
        "      <td> 0.000308</td>\n",
        "      <td> 4.724574e-07</td>\n",
        "      <td> 4.599845e-06</td>\n",
        "      <td> 0.000044</td>\n",
        "      <td> 6.171114e-03</td>\n",
        "      <td> 0.000005</td>\n",
        "      <td> 7.593285e-04</td>\n",
        "      <td> 2.757061e-05</td>\n",
        "      <td>...</td>\n",
        "      <td> 1.201130e-06</td>\n",
        "      <td> 0.000007</td>\n",
        "      <td> 3.853600e-05</td>\n",
        "      <td> 3.943263e-05</td>\n",
        "      <td> 0.003027</td>\n",
        "      <td> 2.032393e-04</td>\n",
        "      <td> 7.796382e-03</td>\n",
        "      <td> 2.321713e-09</td>\n",
        "      <td> 0.000016</td>\n",
        "      <td> 0.001722</td>\n",
        "    </tr>\n",
        "    <tr>\n",
        "      <th>130394</th>\n",
        "      <td>  99992.jpg</td>\n",
        "      <td> 0.000056</td>\n",
        "      <td> 0.000009</td>\n",
        "      <td> 3.737332e-10</td>\n",
        "      <td> 1.716364e-04</td>\n",
        "      <td> 0.000647</td>\n",
        "      <td> 1.120315e-11</td>\n",
        "      <td> 0.002833</td>\n",
        "      <td> 3.777936e-12</td>\n",
        "      <td> 8.719603e-11</td>\n",
        "      <td>...</td>\n",
        "      <td> 1.390266e-05</td>\n",
        "      <td> 0.000001</td>\n",
        "      <td> 2.457338e-08</td>\n",
        "      <td> 8.456757e-04</td>\n",
        "      <td> 0.000017</td>\n",
        "      <td> 1.357433e-07</td>\n",
        "      <td> 4.647633e-08</td>\n",
        "      <td> 1.087601e-04</td>\n",
        "      <td> 0.000014</td>\n",
        "      <td> 0.000344</td>\n",
        "    </tr>\n",
        "    <tr>\n",
        "      <th>130395</th>\n",
        "      <td>  99994.jpg</td>\n",
        "      <td> 0.000729</td>\n",
        "      <td> 0.000094</td>\n",
        "      <td> 2.892610e-06</td>\n",
        "      <td> 1.372136e-04</td>\n",
        "      <td> 0.000179</td>\n",
        "      <td> 5.288989e-06</td>\n",
        "      <td> 0.000270</td>\n",
        "      <td> 1.971135e-06</td>\n",
        "      <td> 1.171245e-06</td>\n",
        "      <td>...</td>\n",
        "      <td> 9.255386e-05</td>\n",
        "      <td> 0.000026</td>\n",
        "      <td> 2.054831e-04</td>\n",
        "      <td> 7.208420e-06</td>\n",
        "      <td> 0.000758</td>\n",
        "      <td> 1.890252e-05</td>\n",
        "      <td> 7.460705e-06</td>\n",
        "      <td> 1.258566e-06</td>\n",
        "      <td> 0.000029</td>\n",
        "      <td> 0.000191</td>\n",
        "    </tr>\n",
        "    <tr>\n",
        "      <th>130396</th>\n",
        "      <td>  99995.jpg</td>\n",
        "      <td> 0.001023</td>\n",
        "      <td> 0.015628</td>\n",
        "      <td> 8.373355e-05</td>\n",
        "      <td> 1.578182e-02</td>\n",
        "      <td> 0.002827</td>\n",
        "      <td> 3.651434e-06</td>\n",
        "      <td> 0.016226</td>\n",
        "      <td> 6.014000e-06</td>\n",
        "      <td> 3.363533e-05</td>\n",
        "      <td>...</td>\n",
        "      <td> 4.036310e-03</td>\n",
        "      <td> 0.000751</td>\n",
        "      <td> 3.886878e-03</td>\n",
        "      <td> 2.400073e-03</td>\n",
        "      <td> 0.004940</td>\n",
        "      <td> 4.245610e-04</td>\n",
        "      <td> 1.096949e-04</td>\n",
        "      <td> 6.356452e-04</td>\n",
        "      <td> 0.001184</td>\n",
        "      <td> 0.019100</td>\n",
        "    </tr>\n",
        "    <tr>\n",
        "      <th>130397</th>\n",
        "      <td>  99996.jpg</td>\n",
        "      <td> 0.003086</td>\n",
        "      <td> 0.003662</td>\n",
        "      <td> 2.419293e-05</td>\n",
        "      <td> 1.699591e-03</td>\n",
        "      <td> 0.006149</td>\n",
        "      <td> 1.905858e-06</td>\n",
        "      <td> 0.047457</td>\n",
        "      <td> 1.575726e-06</td>\n",
        "      <td> 6.528918e-06</td>\n",
        "      <td>...</td>\n",
        "      <td> 3.116900e-03</td>\n",
        "      <td> 0.000474</td>\n",
        "      <td> 6.615903e-03</td>\n",
        "      <td> 8.554763e-03</td>\n",
        "      <td> 0.006058</td>\n",
        "      <td> 2.547458e-04</td>\n",
        "      <td> 1.456140e-04</td>\n",
        "      <td> 9.967918e-05</td>\n",
        "      <td> 0.000668</td>\n",
        "      <td> 0.011837</td>\n",
        "    </tr>\n",
        "    <tr>\n",
        "      <th>130398</th>\n",
        "      <td>  99997.jpg</td>\n",
        "      <td> 0.000613</td>\n",
        "      <td> 0.012071</td>\n",
        "      <td> 5.430670e-03</td>\n",
        "      <td> 8.303028e-02</td>\n",
        "      <td> 0.000245</td>\n",
        "      <td> 7.842319e-05</td>\n",
        "      <td> 0.000790</td>\n",
        "      <td> 3.197153e-04</td>\n",
        "      <td> 1.338392e-03</td>\n",
        "      <td>...</td>\n",
        "      <td> 5.200310e-03</td>\n",
        "      <td> 0.001345</td>\n",
        "      <td> 1.279317e-02</td>\n",
        "      <td> 1.339694e-05</td>\n",
        "      <td> 0.008463</td>\n",
        "      <td> 7.210469e-04</td>\n",
        "      <td> 5.251219e-05</td>\n",
        "      <td> 2.724657e-03</td>\n",
        "      <td> 0.001261</td>\n",
        "      <td> 0.001610</td>\n",
        "    </tr>\n",
        "    <tr>\n",
        "      <th>130399</th>\n",
        "      <td>  99999.jpg</td>\n",
        "      <td> 0.000169</td>\n",
        "      <td> 0.009454</td>\n",
        "      <td> 5.319122e-03</td>\n",
        "      <td> 5.450171e-02</td>\n",
        "      <td> 0.000048</td>\n",
        "      <td> 1.444631e-03</td>\n",
        "      <td> 0.000042</td>\n",
        "      <td> 4.943618e-03</td>\n",
        "      <td> 6.355118e-03</td>\n",
        "      <td>...</td>\n",
        "      <td> 5.927710e-04</td>\n",
        "      <td> 0.000594</td>\n",
        "      <td> 5.808882e-02</td>\n",
        "      <td> 1.429907e-06</td>\n",
        "      <td> 0.005674</td>\n",
        "      <td> 1.277935e-03</td>\n",
        "      <td> 1.630646e-04</td>\n",
        "      <td> 9.938901e-05</td>\n",
        "      <td> 0.000501</td>\n",
        "      <td> 0.000899</td>\n",
        "    </tr>\n",
        "  </tbody>\n",
        "</table>\n",
        "<p>130400 rows \u00d7 122 columns</p>\n",
        "</div>"
       ],
       "metadata": {},
       "output_type": "pyout",
       "prompt_number": 16,
       "text": [
        "             image  appendicularian_slight_curve  hydromedusae_shapeB  \\\n",
        "0            1.jpg                      0.000170             0.005965   \n",
        "1           10.jpg                      0.000101             0.009875   \n",
        "2          100.jpg                      0.000007             0.000224   \n",
        "3         1000.jpg                      0.001223             0.005799   \n",
        "4        10000.jpg                      0.000039             0.000018   \n",
        "5       100000.jpg                      0.000262             0.011758   \n",
        "6       100001.jpg                      0.000059             0.018988   \n",
        "7       100002.jpg                      0.000002             0.000770   \n",
        "8       100003.jpg                      0.000034             0.000005   \n",
        "9       100004.jpg                      0.000003             0.000899   \n",
        "10      100005.jpg                      0.000799             0.005330   \n",
        "11      100006.jpg                      0.000467             0.005631   \n",
        "12      100007.jpg                      0.000097             0.000032   \n",
        "13      100008.jpg                      0.001017             0.016410   \n",
        "14       10001.jpg                      0.000128             0.000825   \n",
        "15      100011.jpg                      0.000013             0.003989   \n",
        "16      100012.jpg                      0.000480             0.002775   \n",
        "17      100013.jpg                      0.000140             0.011808   \n",
        "18      100014.jpg                      0.000071             0.002038   \n",
        "19      100015.jpg                      0.000126             0.001331   \n",
        "20      100016.jpg                      0.000001             0.000023   \n",
        "21      100017.jpg                      0.000278             0.006710   \n",
        "22      100018.jpg                      0.001953             0.000299   \n",
        "23      100019.jpg                      0.000253             0.011601   \n",
        "24       10002.jpg                      0.000059             0.002723   \n",
        "25      100020.jpg                      0.000080             0.004376   \n",
        "26      100021.jpg                      0.000250             0.000384   \n",
        "27      100022.jpg                      0.000948             0.004051   \n",
        "28      100023.jpg                      0.010402             0.000282   \n",
        "29      100024.jpg                      0.000940             0.001240   \n",
        "...            ...                           ...                  ...   \n",
        "130370   99963.jpg                      0.000066             0.014515   \n",
        "130371   99964.jpg                      0.000134             0.000954   \n",
        "130372   99966.jpg                      0.000047             0.017114   \n",
        "130373   99967.jpg                      0.000224             0.001546   \n",
        "130374   99968.jpg                      0.000029             0.000191   \n",
        "130375   99969.jpg                      0.000375             0.008659   \n",
        "130376    9997.jpg                      0.000086             0.001339   \n",
        "130377   99970.jpg                      0.000016             0.002899   \n",
        "130378   99974.jpg                      0.000099             0.000022   \n",
        "130379   99975.jpg                      0.000555             0.000329   \n",
        "130380   99976.jpg                      0.000353             0.009907   \n",
        "130381   99977.jpg                      0.000053             0.010164   \n",
        "130382   99979.jpg                      0.000757             0.004427   \n",
        "130383    9998.jpg                      0.001471             0.000178   \n",
        "130384   99980.jpg                      0.000155             0.006079   \n",
        "130385   99981.jpg                      0.000031             0.000004   \n",
        "130386   99983.jpg                      0.000000             0.000011   \n",
        "130387   99984.jpg                      0.000777             0.000457   \n",
        "130388   99986.jpg                      0.000311             0.001872   \n",
        "130389   99987.jpg                      0.000272             0.000198   \n",
        "130390   99988.jpg                      0.000003             0.000959   \n",
        "130391   99989.jpg                      0.002325             0.004032   \n",
        "130392    9999.jpg                      0.001111             0.010098   \n",
        "130393   99990.jpg                      0.000009             0.000308   \n",
        "130394   99992.jpg                      0.000056             0.000009   \n",
        "130395   99994.jpg                      0.000729             0.000094   \n",
        "130396   99995.jpg                      0.001023             0.015628   \n",
        "130397   99996.jpg                      0.003086             0.003662   \n",
        "130398   99997.jpg                      0.000613             0.012071   \n",
        "130399   99999.jpg                      0.000169             0.009454   \n",
        "\n",
        "        hydromedusae_shapeA  siphonophore_other_parts  \\\n",
        "0              1.435657e-02              1.576803e-02   \n",
        "1              5.209445e-03              5.269865e-02   \n",
        "2              5.065822e-06              3.033987e-06   \n",
        "3              2.736297e-03              6.984615e-02   \n",
        "4              2.705767e-10              5.910282e-04   \n",
        "5              5.021412e-04              1.527741e-01   \n",
        "6              9.469505e-04              2.286911e-02   \n",
        "7              1.420799e-05              3.785218e-02   \n",
        "8              7.193136e-10              1.637716e-04   \n",
        "9              4.689941e-03              1.777466e-03   \n",
        "10             6.628385e-03              2.719000e-02   \n",
        "11             1.608489e-03              6.231242e-02   \n",
        "12             2.252942e-08              9.317077e-04   \n",
        "13             1.938829e-03              2.587328e-02   \n",
        "14             1.223631e-06              3.073813e-02   \n",
        "15             1.000403e-02              3.531109e-03   \n",
        "16             6.265365e-07              5.360863e-02   \n",
        "17             3.337860e-03              1.673356e-01   \n",
        "18             5.900336e-03              3.402779e-03   \n",
        "19             1.493255e-02              3.523694e-03   \n",
        "20             1.156952e-09              6.760065e-08   \n",
        "21             1.428336e-03              4.701165e-02   \n",
        "22             3.182642e-06              1.266129e-04   \n",
        "23             1.436781e-03              5.545555e-02   \n",
        "24             2.283313e-05              1.772939e-01   \n",
        "25             1.338755e-04              3.752748e-02   \n",
        "26             3.204037e-05              3.821858e-03   \n",
        "27             6.384270e-04              2.468956e-02   \n",
        "28             1.380947e-07              4.535679e-04   \n",
        "29             8.964390e-05              3.598079e-03   \n",
        "...                     ...                       ...   \n",
        "130370         1.020664e-03              2.631334e-02   \n",
        "130371         7.535587e-03              2.035338e-03   \n",
        "130372         3.979165e-03              1.846053e-02   \n",
        "130373         1.037423e-02              4.836523e-03   \n",
        "130374         3.136485e-08              2.324262e-02   \n",
        "130375         1.098037e-04              1.842576e-01   \n",
        "130376         1.518577e-06              4.144332e-02   \n",
        "130377         8.770438e-03              2.292887e-03   \n",
        "130378         5.901454e-11              8.501828e-04   \n",
        "130379         9.911662e-05              6.084274e-03   \n",
        "130380         1.101999e-02              3.898977e-02   \n",
        "130381         1.065888e-02              1.203076e-02   \n",
        "130382         2.797630e-03              2.046126e-02   \n",
        "130383         2.844321e-09              4.147666e-05   \n",
        "130384         1.764574e-02              2.099090e-02   \n",
        "130385         3.449955e-10              3.297721e-04   \n",
        "130386         5.618931e-09              7.627817e-09   \n",
        "130387         4.072374e-06              5.862921e-03   \n",
        "130388         1.538933e-07              4.534042e-04   \n",
        "130389         1.520834e-07              2.528993e-03   \n",
        "130390         4.989794e-03              1.942727e-03   \n",
        "130391         2.861388e-05              1.266183e-02   \n",
        "130392         1.805690e-04              4.474598e-02   \n",
        "130393         4.724574e-07              4.599845e-06   \n",
        "130394         3.737332e-10              1.716364e-04   \n",
        "130395         2.892610e-06              1.372136e-04   \n",
        "130396         8.373355e-05              1.578182e-02   \n",
        "130397         2.419293e-05              1.699591e-03   \n",
        "130398         5.430670e-03              8.303028e-02   \n",
        "130399         5.319122e-03              5.450171e-02   \n",
        "\n",
        "        tunicate_doliolid_nurse  acantharia_protist  hydromedusae_narco_young  \\\n",
        "0                      0.000067        7.035527e-05                  0.000645   \n",
        "1                      0.000098        9.530718e-05                  0.000734   \n",
        "2                      0.000013        4.600316e-03                  0.000004   \n",
        "3                      0.000468        1.769618e-05                  0.001497   \n",
        "4                      0.000987        1.999396e-11                  0.005425   \n",
        "5                      0.000621        6.307474e-05                  0.001137   \n",
        "6                      0.000099        1.131031e-03                  0.000115   \n",
        "7                      0.000005        4.994217e-06                  0.000010   \n",
        "8                      0.000278        7.166466e-12                  0.002510   \n",
        "9                      0.000001        1.942180e-04                  0.000004   \n",
        "10                     0.000159        1.567277e-04                  0.001568   \n",
        "11                     0.000152        6.699522e-06                  0.001079   \n",
        "12                     0.000641        4.467771e-11                  0.005494   \n",
        "13                     0.000516        5.453207e-04                  0.003355   \n",
        "14                     0.000676        7.108930e-09                  0.003284   \n",
        "15                     0.000006        1.194907e-03                  0.000019   \n",
        "16                     0.005064        3.565814e-07                  0.006031   \n",
        "17                     0.000312        8.288514e-04                  0.000488   \n",
        "18                     0.000018        2.689059e-05                  0.000328   \n",
        "19                     0.000029        3.664337e-05                  0.000301   \n",
        "20                     0.000011        2.470740e-03                  0.000000   \n",
        "21                     0.001070        1.498741e-04                  0.007238   \n",
        "22                     0.000516        3.949333e-05                  0.000640   \n",
        "23                     0.001117        2.033034e-04                  0.003033   \n",
        "24                     0.000099        1.058797e-05                  0.000132   \n",
        "25                     0.000166        4.692713e-06                  0.000854   \n",
        "26                     0.000339        2.226821e-08                  0.014602   \n",
        "27                     0.001833        7.421576e-05                  0.007339   \n",
        "28                     0.008342        2.298630e-06                  0.012707   \n",
        "29                     0.000899        5.889470e-08                  0.045047   \n",
        "...                         ...                 ...                       ...   \n",
        "130370                 0.000111        5.513773e-03                  0.000070   \n",
        "130371                 0.000031        5.528542e-06                  0.000829   \n",
        "130372                 0.000036        5.484472e-03                  0.000125   \n",
        "130373                 0.000065        1.165854e-05                  0.001188   \n",
        "130374                 0.000339        1.113062e-09                  0.001211   \n",
        "130375                 0.001229        1.000734e-05                  0.001238   \n",
        "130376                 0.000497        1.002665e-07                  0.001294   \n",
        "130377                 0.000006        1.724909e-03                  0.000020   \n",
        "130378                 0.001353        4.741897e-11                  0.002676   \n",
        "130379                 0.000738        2.984186e-08                  0.022816   \n",
        "130380                 0.000091        1.026718e-03                  0.000179   \n",
        "130381                 0.000036        3.737762e-03                  0.000067   \n",
        "130382                 0.000301        1.029211e-05                  0.004242   \n",
        "130383                 0.001862        2.143371e-05                  0.000567   \n",
        "130384                 0.000126        6.286794e-04                  0.000771   \n",
        "130385                 0.000203        1.858846e-12                  0.001326   \n",
        "130386                 0.000002        1.274668e-03                  0.000000   \n",
        "130387                 0.001830        1.912092e-08                  0.053456   \n",
        "130388                 0.002460        3.134115e-04                  0.000534   \n",
        "130389                 0.005043        1.631534e-09                  0.069215   \n",
        "130390                 0.000001        1.993100e-04                  0.000005   \n",
        "130391                 0.005535        2.731025e-05                  0.009137   \n",
        "130392                 0.000258        2.569710e-03                  0.000360   \n",
        "130393                 0.000044        6.171114e-03                  0.000005   \n",
        "130394                 0.000647        1.120315e-11                  0.002833   \n",
        "130395                 0.000179        5.288989e-06                  0.000270   \n",
        "130396                 0.002827        3.651434e-06                  0.016226   \n",
        "130397                 0.006149        1.905858e-06                  0.047457   \n",
        "130398                 0.000245        7.842319e-05                  0.000790   \n",
        "130399                 0.000048        1.444631e-03                  0.000042   \n",
        "\n",
        "        fish_larvae_deep_body  hydromedusae_haliscera_small_sideview  \\\n",
        "0                4.116746e-04                           1.554654e-03   \n",
        "1                5.135551e-04                           1.389509e-03   \n",
        "2                1.096016e-03                           6.435424e-05   \n",
        "3                5.120623e-05                           3.729025e-04   \n",
        "4                6.485197e-12                           1.472807e-10   \n",
        "5                1.523953e-04                           3.952444e-04   \n",
        "6                4.459281e-03                           4.232301e-03   \n",
        "7                2.177950e-05                           5.599622e-05   \n",
        "8                3.555848e-12                           9.782370e-11   \n",
        "9                1.534295e-03                           2.239923e-03   \n",
        "10               5.835539e-04                           1.403674e-03   \n",
        "11               4.050711e-05                           2.618504e-04   \n",
        "12               3.393913e-11                           1.593284e-09   \n",
        "13               1.527740e-03                           1.329470e-03   \n",
        "14               1.575877e-08                           3.590362e-07   \n",
        "15               6.728632e-03                           7.067935e-03   \n",
        "16               2.339845e-07                           1.643017e-06   \n",
        "17               1.607636e-03                           2.627132e-03   \n",
        "18               2.188890e-04                           7.449596e-04   \n",
        "19               1.833363e-04                           7.293847e-04   \n",
        "20               6.318456e-05                           5.641078e-07   \n",
        "21               1.913998e-04                           4.893830e-04   \n",
        "22               1.424337e-05                           4.896271e-06   \n",
        "23               2.500069e-04                           6.514807e-04   \n",
        "24               2.531664e-05                           7.053794e-05   \n",
        "25               1.542719e-05                           8.386093e-05   \n",
        "26               9.143600e-08                           1.422635e-06   \n",
        "27               8.708356e-05                           1.837397e-04   \n",
        "28               4.195305e-07                           3.232578e-07   \n",
        "29               1.492756e-07                           2.440146e-06   \n",
        "...                       ...                                    ...   \n",
        "130370           7.499038e-03                           4.393768e-03   \n",
        "130371           3.038498e-05                           2.110696e-04   \n",
        "130372           1.749010e-02                           1.005871e-02   \n",
        "130373           5.963987e-05                           3.563228e-04   \n",
        "130374           1.452061e-09                           3.350432e-08   \n",
        "130375           1.544429e-05                           9.336245e-05   \n",
        "130376           1.960105e-07                           1.941008e-06   \n",
        "130377           7.826554e-03                           6.640533e-03   \n",
        "130378           9.251336e-12                           1.138114e-10   \n",
        "130379           5.078304e-08                           1.422265e-06   \n",
        "130380           3.480036e-03                           5.799568e-03   \n",
        "130381           1.244414e-02                           1.124667e-02   \n",
        "130382           4.061769e-05                           2.445017e-04   \n",
        "130383           8.009785e-07                           6.157028e-08   \n",
        "130384           2.141903e-03                           4.153301e-03   \n",
        "130385           1.001239e-12                           4.785905e-11   \n",
        "130386           6.415938e-05                           8.681699e-07   \n",
        "130387           3.483163e-08                           3.870056e-07   \n",
        "130388           3.961592e-05                           6.734497e-06   \n",
        "130389           7.745580e-10                           1.593267e-08   \n",
        "130390           1.560162e-03                           2.307123e-03   \n",
        "130391           1.302084e-05                           2.421373e-05   \n",
        "130392           3.064685e-03                           1.109698e-03   \n",
        "130393           7.593285e-04                           2.757061e-05   \n",
        "130394           3.777936e-12                           8.719603e-11   \n",
        "130395           1.971135e-06                           1.171245e-06   \n",
        "130396           6.014000e-06                           3.363533e-05   \n",
        "130397           1.575726e-06                           6.528918e-06   \n",
        "130398           3.197153e-04                           1.338392e-03   \n",
        "130399           4.943618e-03                           6.355118e-03   \n",
        "\n",
        "            ...        unknown_sticks  unknown_unclassified  \\\n",
        "0           ...          3.486488e-03              0.000815   \n",
        "1           ...          1.231832e-03              0.000911   \n",
        "2           ...          2.984386e-06              0.000009   \n",
        "3           ...          4.607394e-03              0.000999   \n",
        "4           ...          1.450259e-05              0.000002   \n",
        "5           ...          1.127160e-03              0.000776   \n",
        "6           ...          4.400309e-04              0.000678   \n",
        "7           ...          1.670952e-05              0.000021   \n",
        "8           ...          1.542081e-05              0.000001   \n",
        "9           ...          8.927281e-05              0.000067   \n",
        "10          ...          2.833890e-03              0.000974   \n",
        "11          ...          4.482673e-03              0.000793   \n",
        "12          ...          1.430251e-04              0.000006   \n",
        "13          ...          4.216126e-03              0.001699   \n",
        "14          ...          3.676920e-04              0.000065   \n",
        "15          ...          3.029484e-04              0.000266   \n",
        "16          ...          2.760807e-04              0.000153   \n",
        "17          ...          9.793701e-04              0.000911   \n",
        "18          ...          2.194771e-03              0.000333   \n",
        "19          ...          1.897513e-03              0.000334   \n",
        "20          ...          2.012370e-08              0.000000   \n",
        "21          ...          2.616728e-03              0.001042   \n",
        "22          ...          1.241312e-04              0.000061   \n",
        "23          ...          2.447429e-03              0.001095   \n",
        "24          ...          9.308095e-05              0.000112   \n",
        "25          ...          5.793735e-04              0.000249   \n",
        "26          ...          2.381129e-03              0.000139   \n",
        "27          ...          3.783332e-03              0.000953   \n",
        "28          ...          7.128492e-05              0.000055   \n",
        "29          ...          7.498912e-03              0.000281   \n",
        "...         ...                   ...                   ...   \n",
        "130370      ...          2.378672e-04              0.000518   \n",
        "130371      ...          4.124518e-03              0.000280   \n",
        "130372      ...          5.394879e-04              0.000642   \n",
        "130373      ...          5.837488e-03              0.000485   \n",
        "130374      ...          4.312403e-05              0.000012   \n",
        "130375      ...          8.741894e-04              0.000506   \n",
        "130376      ...          1.917179e-04              0.000080   \n",
        "130377      ...          2.391745e-04              0.000247   \n",
        "130378      ...          6.235423e-06              0.000001   \n",
        "130379      ...          4.309115e-03              0.000161   \n",
        "130380      ...          1.338706e-03              0.000984   \n",
        "130381      ...          7.121727e-04              0.000706   \n",
        "130382      ...          5.344244e-03              0.000924   \n",
        "130383      ...          6.907484e-06              0.000007   \n",
        "130384      ...          2.426280e-03              0.001116   \n",
        "130385      ...          1.046648e-05              0.000001   \n",
        "130386      ...          2.269142e-08              0.000000   \n",
        "130387      ...          1.781560e-03              0.000130   \n",
        "130388      ...          1.624712e-05              0.000050   \n",
        "130389      ...          5.028832e-04              0.000037   \n",
        "130390      ...          9.776901e-05              0.000071   \n",
        "130391      ...          1.880190e-03              0.000519   \n",
        "130392      ...          2.946241e-04              0.000455   \n",
        "130393      ...          1.201130e-06              0.000007   \n",
        "130394      ...          1.390266e-05              0.000001   \n",
        "130395      ...          9.255386e-05              0.000026   \n",
        "130396      ...          4.036310e-03              0.000751   \n",
        "130397      ...          3.116900e-03              0.000474   \n",
        "130398      ...          5.200310e-03              0.001345   \n",
        "130399      ...          5.927710e-04              0.000594   \n",
        "\n",
        "        pteropod_theco_dev_seq  acantharia_protist_halo  \\\n",
        "0                 5.755364e-02             3.582185e-06   \n",
        "1                 1.964424e-02             5.000034e-06   \n",
        "2                 2.355871e-04             6.993235e-06   \n",
        "3                 9.629478e-03             2.866173e-05   \n",
        "4                 1.196385e-08             2.090581e-03   \n",
        "5                 4.965053e-03             4.581263e-05   \n",
        "6                 3.910185e-03             7.632060e-06   \n",
        "7                 1.232101e-04             4.604582e-07   \n",
        "8                 2.116776e-08             1.810138e-04   \n",
        "9                 8.726808e-03             3.057519e-08   \n",
        "10                2.415500e-01             1.097192e-05   \n",
        "11                5.782348e-03             4.616236e-06   \n",
        "12                2.228705e-07             5.241021e-04   \n",
        "13                7.109488e-03             1.281736e-05   \n",
        "14                1.427719e-05             1.706818e-04   \n",
        "15                1.933495e-02             2.778995e-07   \n",
        "16                2.290256e-05             3.734938e-03   \n",
        "17                1.828417e-02             4.690904e-05   \n",
        "18                1.196212e-02             8.925970e-07   \n",
        "19                3.896159e-02             1.363744e-06   \n",
        "20                1.307009e-07             1.538237e-05   \n",
        "21                1.230651e-02             4.614837e-04   \n",
        "22                5.894768e-04             4.934303e-05   \n",
        "23                6.525468e-03             6.031889e-04   \n",
        "24                1.195234e-03             8.498318e-06   \n",
        "25                2.426376e-03             3.521280e-05   \n",
        "26                1.108939e-04             1.947382e-05   \n",
        "27                1.122040e-02             1.094250e-04   \n",
        "28                5.356942e-04             8.920530e-03   \n",
        "29                1.608080e-03             3.628972e-04   \n",
        "...                        ...                      ...   \n",
        "130370            6.025839e-03             2.141760e-05   \n",
        "130371            1.686781e-02             2.281220e-06   \n",
        "130372            7.897550e-03             1.717368e-06   \n",
        "130373            2.957115e-02             3.142879e-06   \n",
        "130374            5.583431e-07             1.611119e-04   \n",
        "130375            2.310012e-03             2.906478e-04   \n",
        "130376            1.838492e-05             1.421762e-04   \n",
        "130377            2.540657e-02             2.718381e-07   \n",
        "130378            1.556053e-08             3.718656e-03   \n",
        "130379            4.723091e-04             1.586435e-04   \n",
        "130380            8.584429e-02             5.044067e-06   \n",
        "130381            2.294197e-02             2.446797e-06   \n",
        "130382            1.445643e-02             2.967539e-05   \n",
        "130383            9.989989e-07             5.492638e-04   \n",
        "130384            1.363378e-01             6.038834e-06   \n",
        "130385            1.535879e-08             1.612365e-04   \n",
        "130386            2.828069e-07             6.859061e-06   \n",
        "130387            6.082266e-05             2.192940e-04   \n",
        "130388            4.635896e-05             4.349829e-03   \n",
        "130389            3.454893e-06             6.058177e-03   \n",
        "130390            8.379052e-03             3.519219e-08   \n",
        "130391            5.059779e-04             4.585726e-04   \n",
        "130392            1.375394e-02             2.196113e-05   \n",
        "130393            3.853600e-05             3.943263e-05   \n",
        "130394            2.457338e-08             8.456757e-04   \n",
        "130395            2.054831e-04             7.208420e-06   \n",
        "130396            3.886878e-03             2.400073e-03   \n",
        "130397            6.615903e-03             8.554763e-03   \n",
        "130398            1.279317e-02             1.339694e-05   \n",
        "130399            5.808882e-02             1.429907e-06   \n",
        "\n",
        "        hydromedusae_typeD_bell_and_tentacles  echinoderm_larva_pluteus_typeC  \\\n",
        "0                                    0.003029                    3.110135e-04   \n",
        "1                                    0.003150                    3.765901e-04   \n",
        "2                                    0.001904                    1.081207e-04   \n",
        "3                                    0.005214                    3.453998e-04   \n",
        "4                                    0.000012                    1.969596e-07   \n",
        "5                                    0.008774                    5.960027e-04   \n",
        "6                                    0.004731                    1.573029e-03   \n",
        "7                                    0.000054                    3.079113e-05   \n",
        "8                                    0.000009                    6.796472e-08   \n",
        "9                                    0.000300                    7.259995e-05   \n",
        "10                                   0.003793                    6.218973e-04   \n",
        "11                                   0.001243                    1.497985e-04   \n",
        "12                                   0.000041                    4.216697e-07   \n",
        "13                                   0.007330                    6.106326e-04   \n",
        "14                                   0.000168                    9.904062e-06   \n",
        "15                                   0.001773                    3.633778e-04   \n",
        "16                                   0.000993                    9.844482e-05   \n",
        "17                                   0.036913                    1.376496e-03   \n",
        "18                                   0.000771                    1.156619e-04   \n",
        "19                                   0.001774                    1.222778e-04   \n",
        "20                                   0.000963                    2.455420e-05   \n",
        "21                                   0.018785                    8.282178e-04   \n",
        "22                                   0.002482                    1.147605e-04   \n",
        "23                                   0.045802                    1.219879e-03   \n",
        "24                                   0.000585                    1.823165e-04   \n",
        "25                                   0.001086                    1.828526e-04   \n",
        "26                                   0.000195                    6.339104e-06   \n",
        "27                                   0.037824                    4.511687e-04   \n",
        "28                                   0.002733                    1.393067e-04   \n",
        "29                                   0.000869                    2.437191e-05   \n",
        "...                                       ...                             ...   \n",
        "130370                               0.015353                    1.842255e-03   \n",
        "130371                               0.001220                    6.235343e-05   \n",
        "130372                               0.003706                    9.156056e-04   \n",
        "130373                               0.001772                    1.020747e-04   \n",
        "130374                               0.000025                    2.648957e-06   \n",
        "130375                               0.008943                    4.325041e-04   \n",
        "130376                               0.000310                    2.932816e-05   \n",
        "130377                               0.002656                    4.002081e-04   \n",
        "130378                               0.000020                    4.049579e-07   \n",
        "130379                               0.001174                    1.298138e-05   \n",
        "130380                               0.009941                    1.422270e-03   \n",
        "130381                               0.013559                    1.208680e-03   \n",
        "130382                               0.004662                    2.352300e-04   \n",
        "130383                               0.000978                    2.539468e-05   \n",
        "130384                               0.011073                    7.937342e-04   \n",
        "130385                               0.000004                    4.802180e-08   \n",
        "130386                               0.000762                    1.504283e-05   \n",
        "130387                               0.000246                    8.062617e-06   \n",
        "130388                               0.005571                    5.685244e-04   \n",
        "130389                               0.000323                    3.797969e-06   \n",
        "130390                               0.000320                    7.568915e-05   \n",
        "130391                               0.012816                    2.693313e-04   \n",
        "130392                               0.004956                    1.486378e-03   \n",
        "130393                               0.003027                    2.032393e-04   \n",
        "130394                               0.000017                    1.357433e-07   \n",
        "130395                               0.000758                    1.890252e-05   \n",
        "130396                               0.004940                    4.245610e-04   \n",
        "130397                               0.006058                    2.547458e-04   \n",
        "130398                               0.008463                    7.210469e-04   \n",
        "130399                               0.005674                    1.277935e-03   \n",
        "\n",
        "            decapods  copepod_calanoid_small_longantennae  euphausiids  \\\n",
        "0       1.713624e-05                         1.689581e-04     0.000377   \n",
        "1       1.991120e-05                         4.798204e-04     0.000797   \n",
        "2       8.217166e-04                         9.105071e-10     0.000008   \n",
        "3       1.887336e-05                         1.102684e-04     0.001001   \n",
        "4       6.715301e-08                         6.314413e-04     0.000027   \n",
        "5       1.083960e-04                         5.800466e-04     0.001473   \n",
        "6       4.275263e-04                         4.499563e-03     0.000919   \n",
        "7       3.807634e-06                         3.974978e-03     0.000054   \n",
        "8       1.294539e-08                         3.236949e-04     0.000009   \n",
        "9       5.452463e-06                         9.578044e-06     0.000029   \n",
        "10      3.593424e-05                         2.336084e-04     0.000574   \n",
        "11      4.752839e-06                         1.790973e-02     0.000561   \n",
        "12      4.432891e-08                         7.390619e-04     0.000042   \n",
        "13      7.145176e-05                         2.761377e-03     0.000908   \n",
        "14      5.564076e-07                         6.118182e-02     0.000401   \n",
        "15      5.601244e-05                         2.944568e-05     0.000132   \n",
        "16      3.379434e-05                         6.239844e-03     0.001482   \n",
        "17      3.933055e-04                         2.174814e-05     0.001216   \n",
        "18      4.758695e-06                         1.772841e-03     0.000138   \n",
        "19      6.390002e-06                         7.525285e-06     0.000128   \n",
        "20      2.830526e-02                         2.448434e-10     0.000002   \n",
        "21      2.115849e-04                         1.268379e-04     0.001951   \n",
        "22      1.145716e-04                         3.546294e-06     0.000081   \n",
        "23      5.588351e-04                         5.723393e-05     0.002272   \n",
        "24      2.104790e-05                         6.213322e-03     0.000411   \n",
        "25      1.873110e-05                         2.202691e-03     0.000542   \n",
        "26      1.469116e-07                         2.614047e-02     0.000144   \n",
        "27      8.681651e-05                         2.682261e-04     0.001143   \n",
        "28      1.138462e-04                         2.670160e-06     0.000235   \n",
        "29      1.034188e-06                         7.320232e-04     0.000275   \n",
        "...              ...                                  ...          ...   \n",
        "130370  1.270594e-03                         3.678217e-05     0.000744   \n",
        "130371  2.306783e-06                         6.752527e-05     0.000117   \n",
        "130372  1.835896e-04                         4.104430e-04     0.000452   \n",
        "130373  4.104408e-06                         9.903356e-05     0.000184   \n",
        "130374  2.515126e-07                         1.538921e-01     0.000157   \n",
        "130375  9.264699e-05                         1.898944e-04     0.002031   \n",
        "130376  3.984259e-06                         3.511393e-02     0.000463   \n",
        "130377  8.028018e-05                         1.635625e-05     0.000120   \n",
        "130378  2.767787e-07                         3.208331e-04     0.000031   \n",
        "130379  4.848338e-07                         2.245177e-04     0.000317   \n",
        "130380  1.488693e-04                         4.435442e-05     0.000783   \n",
        "130381  3.002644e-04                         3.988707e-05     0.000492   \n",
        "130382  9.574443e-06                         3.455080e-04     0.000757   \n",
        "130383  1.766803e-04                         3.407727e-06     0.000045   \n",
        "130384  8.105006e-05                         1.658555e-04     0.000720   \n",
        "130385  5.741778e-09                         3.632001e-04     0.000008   \n",
        "130386  9.839024e-03                         4.383374e-11     0.000001   \n",
        "130387  4.020270e-07                         2.337310e-02     0.000256   \n",
        "130388  6.223147e-03                         2.675030e-06     0.000329   \n",
        "130389  7.224706e-07                         5.029530e-04     0.000253   \n",
        "130390  5.657661e-06                         1.049814e-05     0.000031   \n",
        "130391  1.005547e-04                         3.583046e-04     0.001283   \n",
        "130392  4.661223e-04                         1.556553e-04     0.000630   \n",
        "130393  7.796382e-03                         2.321713e-09     0.000016   \n",
        "130394  4.647633e-08                         1.087601e-04     0.000014   \n",
        "130395  7.460705e-06                         1.258566e-06     0.000029   \n",
        "130396  1.096949e-04                         6.356452e-04     0.001184   \n",
        "130397  1.456140e-04                         9.967918e-05     0.000668   \n",
        "130398  5.251219e-05                         2.724657e-03     0.001261   \n",
        "130399  1.630646e-04                         9.938901e-05     0.000501   \n",
        "\n",
        "        echinopluteus  \n",
        "0            0.000390  \n",
        "1            0.001021  \n",
        "2            0.000393  \n",
        "3            0.000876  \n",
        "4            0.000951  \n",
        "5            0.005209  \n",
        "6            0.004414  \n",
        "7            0.000283  \n",
        "8            0.000107  \n",
        "9            0.000025  \n",
        "10           0.000718  \n",
        "11           0.000494  \n",
        "12           0.000287  \n",
        "13           0.002755  \n",
        "14           0.001855  \n",
        "15           0.000185  \n",
        "16           0.022740  \n",
        "17           0.004481  \n",
        "18           0.000112  \n",
        "19           0.000078  \n",
        "20           0.000960  \n",
        "21           0.007099  \n",
        "22           0.000884  \n",
        "23           0.012563  \n",
        "24           0.002490  \n",
        "25           0.002421  \n",
        "26           0.000187  \n",
        "27           0.004841  \n",
        "28           0.005168  \n",
        "29           0.000801  \n",
        "...               ...  \n",
        "130370       0.006707  \n",
        "130371       0.000069  \n",
        "130372       0.001775  \n",
        "130373       0.000124  \n",
        "130374       0.001371  \n",
        "130375       0.007838  \n",
        "130376       0.002934  \n",
        "130377       0.000147  \n",
        "130378       0.002266  \n",
        "130379       0.000328  \n",
        "130380       0.000884  \n",
        "130381       0.001132  \n",
        "130382       0.000681  \n",
        "130383       0.011804  \n",
        "130384       0.000903  \n",
        "130385       0.000084  \n",
        "130386       0.000266  \n",
        "130387       0.000931  \n",
        "130388       0.048019  \n",
        "130389       0.003215  \n",
        "130390       0.000027  \n",
        "130391       0.014371  \n",
        "130392       0.004775  \n",
        "130393       0.001722  \n",
        "130394       0.000344  \n",
        "130395       0.000191  \n",
        "130396       0.019100  \n",
        "130397       0.011837  \n",
        "130398       0.001610  \n",
        "130399       0.000899  \n",
        "\n",
        "[130400 rows x 122 columns]"
       ]
      }
     ],
     "prompt_number": 16
    },
    {
     "cell_type": "code",
     "collapsed": false,
     "input": [
      "!gzip submission_cnn_00_best.csv"
     ],
     "language": "python",
     "metadata": {},
     "outputs": [],
     "prompt_number": 17
    },
    {
     "cell_type": "code",
     "collapsed": false,
     "input": [],
     "language": "python",
     "metadata": {},
     "outputs": []
    }
   ],
   "metadata": {}
  }
 ]
}