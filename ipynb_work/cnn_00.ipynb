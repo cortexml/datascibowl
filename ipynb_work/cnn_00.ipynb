{
 "metadata": {
  "name": "",
  "signature": "sha256:58b33e467b0a0c22923a1126ebbc4c9d07448e2a40d63819aa962d719683d8fe"
 },
 "nbformat": 3,
 "nbformat_minor": 0,
 "worksheets": [
  {
   "cells": [
    {
     "cell_type": "markdown",
     "metadata": {},
     "source": [
      "1. Setup the yaml file\n",
      "    - data\n",
      "    - model \n",
      "    - algorithm\n",
      "    - termination criteria\n",
      "    - monitoring extensions (filename)\n",
      "    - save path (filename)\n",
      "2. Update paths/filenames in ipython notebook\n",
      "    - print monitor of best fit\n",
      "    - prediction model and save file path\n",
      "    - gzip"
     ]
    },
    {
     "cell_type": "markdown",
     "metadata": {},
     "source": [
      "In this case, the GPU computing seems to be working. Perhaps so expiriment parameters force slow work on the GPU. This are not clear yet. But I will look around pylearn docs for GPU use."
     ]
    },
    {
     "cell_type": "markdown",
     "metadata": {},
     "source": [
      "In this case, I am training and saving the best model based on NLL instead of misclass rate."
     ]
    },
    {
     "cell_type": "code",
     "collapsed": false,
     "input": [
      "import os\n",
      "import pylearn2\n",
      "from pylearn2.config import yaml_parse\n",
      "import glob\n",
      "import numpy as np\n",
      "import pickle as pkl\n",
      "import pandas as pd"
     ],
     "language": "python",
     "metadata": {},
     "outputs": [
      {
       "output_type": "stream",
       "stream": "stderr",
       "text": [
        "Using gpu device 0: GeForce GTX 550 Ti\n"
       ]
      }
     ],
     "prompt_number": 1
    },
    {
     "cell_type": "code",
     "collapsed": false,
     "input": [
      "os.environ[\"PYLEARN2_DATA_PATH\"] = \"/home/jotham/projects/2014-12-20_datascibowl/data\"\n",
      "print os.path.expandvars(\"$PYLEARN2_DATA_PATH\")"
     ],
     "language": "python",
     "metadata": {},
     "outputs": [
      {
       "output_type": "stream",
       "stream": "stdout",
       "text": [
        "/home/jotham/projects/2014-12-20_datascibowl/data\n"
       ]
      }
     ],
     "prompt_number": 2
    },
    {
     "cell_type": "code",
     "collapsed": false,
     "input": [
      "with open('cnn_00.yaml', 'r') as f:\n",
      "    train = f.read()\n",
      "save_path = '.'\n",
      "train = train %locals()"
     ],
     "language": "python",
     "metadata": {},
     "outputs": [],
     "prompt_number": 3
    },
    {
     "cell_type": "code",
     "collapsed": false,
     "input": [
      "print train"
     ],
     "language": "python",
     "metadata": {},
     "outputs": [
      {
       "output_type": "stream",
       "stream": "stdout",
       "text": [
        "!obj:pylearn2.train.Train {\n",
        "    dataset: &train !obj:pylearn2.datasets.datascibowl.DataSciBowl {\n",
        "        which_set: 'train',\n",
        "        start: 0,\n",
        "        stop: 25000,\n",
        "        shuffle: True,\n",
        "        center: True,\n",
        "    },\n",
        "    model: !obj:pylearn2.models.mlp.MLP {\n",
        "        batch_size: 100,\n",
        "        input_space: !obj:pylearn2.space.Conv2DSpace {\n",
        "            shape: [32, 32],\n",
        "            num_channels: 1\n",
        "        },\n",
        "        layers: [ !obj:pylearn2.models.mlp.ConvRectifiedLinear {\n",
        "                     layer_name: 'h2',\n",
        "                     output_channels: 64,\n",
        "                     irange: .05,\n",
        "                     kernel_shape: [5, 5],\n",
        "                     pool_shape: [4, 4],\n",
        "                     pool_stride: [2, 2],\n",
        "                     max_kernel_norm: 1.9365\n",
        "                 }, !obj:pylearn2.models.mlp.ConvRectifiedLinear {\n",
        "                     layer_name: 'h3',\n",
        "                     output_channels: 64,\n",
        "                     irange: .05,\n",
        "                     kernel_shape: [5, 5],\n",
        "                     pool_shape: [4, 4],\n",
        "                     pool_stride: [2, 2],\n",
        "                     max_kernel_norm: 1.9365\n",
        "                 }, !obj:pylearn2.models.mlp.Softmax {\n",
        "                     max_col_norm: 1.9365,\n",
        "                     layer_name: 'y',\n",
        "                     n_classes: 121,\n",
        "                     istdev: .05\n",
        "                 }\n",
        "                ],\n",
        "    },\n",
        "    algorithm: !obj:pylearn2.training_algorithms.sgd.SGD {\n",
        "        batch_size: 100,\n",
        "        learning_rate: .01,\n",
        "        learning_rule: !obj:pylearn2.training_algorithms.learning_rule.Momentum {\n",
        "            init_momentum: 0.5,\n",
        "        },\n",
        "        monitoring_dataset:\n",
        "            {\n",
        "                'train' : *train,\n",
        "                'valid' : !obj:pylearn2.datasets.datascibowl.DataSciBowl {\n",
        "                              which_set: 'train',\n",
        "                              start: 25000,\n",
        "                              stop:  30000,\n",
        "                              shuffle: True,\n",
        "                              center: True\n",
        "                          }\n",
        "            },\n",
        "        cost: !obj:pylearn2.costs.cost.SumOfCosts { costs: [\n",
        "            !obj:pylearn2.costs.cost.MethodCost {\n",
        "                method: 'cost_from_X'\n",
        "            }, !obj:pylearn2.costs.mlp.WeightDecay {\n",
        "                coeffs: [ .00005, .00005, .00005 ]\n",
        "            }\n",
        "            ]\n",
        "        },\n",
        "        termination_criterion: !obj:pylearn2.termination_criteria.And {\n",
        "            criteria: [\n",
        "                !obj:pylearn2.termination_criteria.MonitorBased {\n",
        "                    channel_name: \"valid_y_nll\",\n",
        "                    prop_decrease: 0.25,\n",
        "                    N: 10\n",
        "                },\n",
        "                !obj:pylearn2.termination_criteria.EpochCounter {\n",
        "                    max_epochs: 500\n",
        "                },\n",
        "            ]\n",
        "        },\n",
        "    },\n",
        "    extensions:\n",
        "        [ !obj:pylearn2.train_extensions.best_params.MonitorBasedSaveBest {\n",
        "             channel_name: 'valid_y_nll',\n",
        "             save_path: \"cnn_00_best.pkl\"\n",
        "        }, !obj:pylearn2.training_algorithms.learning_rule.MomentumAdjustor {\n",
        "            start: 1,\n",
        "            saturate: 10,\n",
        "            final_momentum: .99\n",
        "        }\n",
        "    ]\n",
        "}\n"
       ]
      }
     ],
     "prompt_number": 4
    },
    {
     "cell_type": "code",
     "collapsed": false,
     "input": [
      "train = yaml_parse.load(train)\n",
      "train.main_loop()"
     ],
     "language": "python",
     "metadata": {},
     "outputs": [
      {
       "output_type": "stream",
       "stream": "stdout",
       "text": [
        "Input shape: (32, 32)\n"
       ]
      },
      {
       "output_type": "stream",
       "stream": "stdout",
       "text": [
        "Detector space: (28, 28)\n"
       ]
      },
      {
       "output_type": "stream",
       "stream": "stdout",
       "text": [
        "Output space: (13, 13)\n"
       ]
      },
      {
       "output_type": "stream",
       "stream": "stderr",
       "text": [
        "/home/jotham/venvs/2014-12-20_datascibowl/lib/python2.7/site-packages/theano/tensor/subtensor.py:190: FutureWarning: comparison to `None` will result in an elementwise object comparison in the future.\n",
        "  if stop in [None, maxsize]:\n"
       ]
      },
      {
       "output_type": "stream",
       "stream": "stdout",
       "text": [
        "Input shape: (13, 13)\n"
       ]
      },
      {
       "output_type": "stream",
       "stream": "stdout",
       "text": [
        "Detector space: (9, 9)\n"
       ]
      },
      {
       "output_type": "stream",
       "stream": "stdout",
       "text": [
        "Output space: (4, 4)\n"
       ]
      },
      {
       "output_type": "stream",
       "stream": "stdout",
       "text": [
        "Looking for data in /home/jotham/projects/2014-12-20_datascibowl/data/datascibowl/train\n",
        "Found 30336 images"
       ]
      },
      {
       "output_type": "stream",
       "stream": "stdout",
       "text": [
        "\n",
        "Reading files from /home/jotham/projects/2014-12-20_datascibowl/data/datascibowl/train/euphausiids_young\n",
        "Reading files from /home/jotham/projects/2014-12-20_datascibowl/data/datascibowl/train/hydromedusae_narcomedusae\n",
        "Reading files from /home/jotham/projects/2014-12-20_datascibowl/data/datascibowl/train/copepod_calanoid_small_longantennae"
       ]
      },
      {
       "output_type": "stream",
       "stream": "stdout",
       "text": [
        "\n",
        "Reading files from /home/jotham/projects/2014-12-20_datascibowl/data/datascibowl/train/appendicularian_s_shape"
       ]
      },
      {
       "output_type": "stream",
       "stream": "stdout",
       "text": [
        "\n",
        "Reading files from /home/jotham/projects/2014-12-20_datascibowl/data/datascibowl/train/decapods"
       ]
      },
      {
       "output_type": "stream",
       "stream": "stdout",
       "text": [
        "\n",
        "Reading files from /home/jotham/projects/2014-12-20_datascibowl/data/datascibowl/train/hydromedusae_typeD_bell_and_tentacles"
       ]
      },
      {
       "output_type": "stream",
       "stream": "stdout",
       "text": [
        "\n",
        "Reading files from /home/jotham/projects/2014-12-20_datascibowl/data/datascibowl/train/crustacean_other"
       ]
      },
      {
       "output_type": "stream",
       "stream": "stdout",
       "text": [
        "\n",
        "Reading files from /home/jotham/projects/2014-12-20_datascibowl/data/datascibowl/train/hydromedusae_bell_and_tentacles"
       ]
      },
      {
       "output_type": "stream",
       "stream": "stdout",
       "text": [
        "\n",
        "Reading files from /home/jotham/projects/2014-12-20_datascibowl/data/datascibowl/train/echinoderm_larva_pluteus_brittlestar"
       ]
      },
      {
       "output_type": "stream",
       "stream": "stdout",
       "text": [
        "\n",
        "Reading files from /home/jotham/projects/2014-12-20_datascibowl/data/datascibowl/train/invertebrate_larvae_other_B\n",
        "Reading files from /home/jotham/projects/2014-12-20_datascibowl/data/datascibowl/train/hydromedusae_solmaris"
       ]
      },
      {
       "output_type": "stream",
       "stream": "stdout",
       "text": [
        "\n",
        "Reading files from /home/jotham/projects/2014-12-20_datascibowl/data/datascibowl/train/chaetognath_sagitta"
       ]
      },
      {
       "output_type": "stream",
       "stream": "stdout",
       "text": [
        "\n",
        "Reading files from /home/jotham/projects/2014-12-20_datascibowl/data/datascibowl/train/hydromedusae_shapeA"
       ]
      },
      {
       "output_type": "stream",
       "stream": "stdout",
       "text": [
        "\n",
        "Reading files from /home/jotham/projects/2014-12-20_datascibowl/data/datascibowl/train/hydromedusae_shapeB"
       ]
      },
      {
       "output_type": "stream",
       "stream": "stdout",
       "text": [
        "\n",
        "Reading files from /home/jotham/projects/2014-12-20_datascibowl/data/datascibowl/train/hydromedusae_haliscera"
       ]
      },
      {
       "output_type": "stream",
       "stream": "stdout",
       "text": [
        "\n",
        "Reading files from /home/jotham/projects/2014-12-20_datascibowl/data/datascibowl/train/hydromedusae_typeE"
       ]
      },
      {
       "output_type": "stream",
       "stream": "stdout",
       "text": [
        "\n",
        "Reading files from /home/jotham/projects/2014-12-20_datascibowl/data/datascibowl/train/hydromedusae_h15\n",
        "Reading files from /home/jotham/projects/2014-12-20_datascibowl/data/datascibowl/train/artifacts_edge\n",
        "Reading files from /home/jotham/projects/2014-12-20_datascibowl/data/datascibowl/train/copepod_calanoid_frillyAntennae"
       ]
      },
      {
       "output_type": "stream",
       "stream": "stdout",
       "text": [
        "\n",
        "Reading files from /home/jotham/projects/2014-12-20_datascibowl/data/datascibowl/train/copepod_calanoid_large"
       ]
      },
      {
       "output_type": "stream",
       "stream": "stdout",
       "text": [
        "\n",
        "Reading files from /home/jotham/projects/2014-12-20_datascibowl/data/datascibowl/train/siphonophore_calycophoran_abylidae"
       ]
      },
      {
       "output_type": "stream",
       "stream": "stdout",
       "text": [
        "\n",
        "Reading files from /home/jotham/projects/2014-12-20_datascibowl/data/datascibowl/train/invertebrate_larvae_other_A"
       ]
      },
      {
       "output_type": "stream",
       "stream": "stdout",
       "text": [
        "\n",
        "Reading files from /home/jotham/projects/2014-12-20_datascibowl/data/datascibowl/train/protist_dark_center\n",
        "Reading files from /home/jotham/projects/2014-12-20_datascibowl/data/datascibowl/train/ctenophore_cestid"
       ]
      },
      {
       "output_type": "stream",
       "stream": "stdout",
       "text": [
        "\n",
        "Reading files from /home/jotham/projects/2014-12-20_datascibowl/data/datascibowl/train/trichodesmium_tuft"
       ]
      },
      {
       "output_type": "stream",
       "stream": "stdout",
       "text": [
        "\n",
        "Reading files from /home/jotham/projects/2014-12-20_datascibowl/data/datascibowl/train/detritus_other"
       ]
      },
      {
       "output_type": "stream",
       "stream": "stdout",
       "text": [
        "\n",
        "Reading files from /home/jotham/projects/2014-12-20_datascibowl/data/datascibowl/train/tornaria_acorn_worm_larvae"
       ]
      },
      {
       "output_type": "stream",
       "stream": "stdout",
       "text": [
        "\n",
        "Reading files from /home/jotham/projects/2014-12-20_datascibowl/data/datascibowl/train/hydromedusae_other\n",
        "Reading files from /home/jotham/projects/2014-12-20_datascibowl/data/datascibowl/train/tunicate_salp"
       ]
      },
      {
       "output_type": "stream",
       "stream": "stdout",
       "text": [
        "\n",
        "Reading files from /home/jotham/projects/2014-12-20_datascibowl/data/datascibowl/train/shrimp_caridean"
       ]
      },
      {
       "output_type": "stream",
       "stream": "stdout",
       "text": [
        "\n",
        "Reading files from /home/jotham/projects/2014-12-20_datascibowl/data/datascibowl/train/copepod_cyclopoid_oithona\n",
        "Reading files from /home/jotham/projects/2014-12-20_datascibowl/data/datascibowl/train/hydromedusae_sideview_big"
       ]
      },
      {
       "output_type": "stream",
       "stream": "stdout",
       "text": [
        "\n",
        "Reading files from /home/jotham/projects/2014-12-20_datascibowl/data/datascibowl/train/trochophore_larvae"
       ]
      },
      {
       "output_type": "stream",
       "stream": "stdout",
       "text": [
        "\n",
        "Reading files from /home/jotham/projects/2014-12-20_datascibowl/data/datascibowl/train/artifacts\n",
        "Reading files from /home/jotham/projects/2014-12-20_datascibowl/data/datascibowl/train/acantharia_protist"
       ]
      },
      {
       "output_type": "stream",
       "stream": "stdout",
       "text": [
        "\n",
        "Reading files from /home/jotham/projects/2014-12-20_datascibowl/data/datascibowl/train/ctenophore_lobate"
       ]
      },
      {
       "output_type": "stream",
       "stream": "stdout",
       "text": [
        "\n",
        "Reading files from /home/jotham/projects/2014-12-20_datascibowl/data/datascibowl/train/copepod_calanoid_eucalanus"
       ]
      },
      {
       "output_type": "stream",
       "stream": "stdout",
       "text": [
        "\n",
        "Reading files from /home/jotham/projects/2014-12-20_datascibowl/data/datascibowl/train/siphonophore_calycophoran_sphaeronectes_young"
       ]
      },
      {
       "output_type": "stream",
       "stream": "stdout",
       "text": [
        "\n",
        "Reading files from /home/jotham/projects/2014-12-20_datascibowl/data/datascibowl/train/fish_larvae_myctophids"
       ]
      },
      {
       "output_type": "stream",
       "stream": "stdout",
       "text": [
        "\n",
        "Reading files from /home/jotham/projects/2014-12-20_datascibowl/data/datascibowl/train/echinoderm_larva_pluteus_early"
       ]
      },
      {
       "output_type": "stream",
       "stream": "stdout",
       "text": [
        "\n",
        "Reading files from /home/jotham/projects/2014-12-20_datascibowl/data/datascibowl/train/hydromedusae_aglaura"
       ]
      },
      {
       "output_type": "stream",
       "stream": "stdout",
       "text": [
        "\n",
        "Reading files from /home/jotham/projects/2014-12-20_datascibowl/data/datascibowl/train/echinoderm_larva_pluteus_urchin"
       ]
      },
      {
       "output_type": "stream",
       "stream": "stdout",
       "text": [
        "\n",
        "Reading files from /home/jotham/projects/2014-12-20_datascibowl/data/datascibowl/train/tunicate_partial"
       ]
      },
      {
       "output_type": "stream",
       "stream": "stdout",
       "text": [
        "\n",
        "Reading files from /home/jotham/projects/2014-12-20_datascibowl/data/datascibowl/train/pteropod_triangle"
       ]
      },
      {
       "output_type": "stream",
       "stream": "stdout",
       "text": [
        "\n",
        "Reading files from /home/jotham/projects/2014-12-20_datascibowl/data/datascibowl/train/echinoderm_seacucumber_auricularia_larva"
       ]
      },
      {
       "output_type": "stream",
       "stream": "stdout",
       "text": [
        "\n",
        "Reading files from /home/jotham/projects/2014-12-20_datascibowl/data/datascibowl/train/hydromedusae_typeD"
       ]
      },
      {
       "output_type": "stream",
       "stream": "stdout",
       "text": [
        "\n",
        "Reading files from /home/jotham/projects/2014-12-20_datascibowl/data/datascibowl/train/siphonophore_calycophoran_sphaeronectes\n",
        "Reading files from /home/jotham/projects/2014-12-20_datascibowl/data/datascibowl/train/chordate_type1"
       ]
      },
      {
       "output_type": "stream",
       "stream": "stdout",
       "text": [
        "\n",
        "Reading files from /home/jotham/projects/2014-12-20_datascibowl/data/datascibowl/train/trichodesmium_multiple"
       ]
      },
      {
       "output_type": "stream",
       "stream": "stdout",
       "text": [
        "\n",
        "Reading files from /home/jotham/projects/2014-12-20_datascibowl/data/datascibowl/train/appendicularian_straight\n",
        "Reading files from /home/jotham/projects/2014-12-20_datascibowl/data/datascibowl/train/appendicularian_slight_curve"
       ]
      },
      {
       "output_type": "stream",
       "stream": "stdout",
       "text": [
        "\n",
        "Reading files from /home/jotham/projects/2014-12-20_datascibowl/data/datascibowl/train/hydromedusae_typeF"
       ]
      },
      {
       "output_type": "stream",
       "stream": "stdout",
       "text": [
        "\n",
        "Reading files from /home/jotham/projects/2014-12-20_datascibowl/data/datascibowl/train/fecal_pellet"
       ]
      },
      {
       "output_type": "stream",
       "stream": "stdout",
       "text": [
        "\n",
        "Reading files from /home/jotham/projects/2014-12-20_datascibowl/data/datascibowl/train/hydromedusae_narco_dark"
       ]
      },
      {
       "output_type": "stream",
       "stream": "stdout",
       "text": [
        "\n",
        "Reading files from /home/jotham/projects/2014-12-20_datascibowl/data/datascibowl/train/shrimp-like_other\n",
        "Reading files from /home/jotham/projects/2014-12-20_datascibowl/data/datascibowl/train/diatom_chain_string"
       ]
      },
      {
       "output_type": "stream",
       "stream": "stdout",
       "text": [
        "\n",
        "Reading files from /home/jotham/projects/2014-12-20_datascibowl/data/datascibowl/train/fish_larvae_very_thin_body"
       ]
      },
      {
       "output_type": "stream",
       "stream": "stdout",
       "text": [
        "\n",
        "Reading files from /home/jotham/projects/2014-12-20_datascibowl/data/datascibowl/train/detritus_filamentous\n",
        "Reading files from /home/jotham/projects/2014-12-20_datascibowl/data/datascibowl/train/amphipods"
       ]
      },
      {
       "output_type": "stream",
       "stream": "stdout",
       "text": [
        "\n",
        "Reading files from /home/jotham/projects/2014-12-20_datascibowl/data/datascibowl/train/siphonophore_other_parts\n",
        "Reading files from /home/jotham/projects/2014-12-20_datascibowl/data/datascibowl/train/trichodesmium_bowtie"
       ]
      },
      {
       "output_type": "stream",
       "stream": "stdout",
       "text": [
        "\n",
        "Reading files from /home/jotham/projects/2014-12-20_datascibowl/data/datascibowl/train/siphonophore_physonect"
       ]
      },
      {
       "output_type": "stream",
       "stream": "stdout",
       "text": [
        "\n",
        "Reading files from /home/jotham/projects/2014-12-20_datascibowl/data/datascibowl/train/chaetognath_other"
       ]
      },
      {
       "output_type": "stream",
       "stream": "stdout",
       "text": [
        "\n",
        "Reading files from /home/jotham/projects/2014-12-20_datascibowl/data/datascibowl/train/pteropod_butterfly"
       ]
      },
      {
       "output_type": "stream",
       "stream": "stdout",
       "text": [
        "\n",
        "Reading files from /home/jotham/projects/2014-12-20_datascibowl/data/datascibowl/train/tunicate_salp_chains"
       ]
      },
      {
       "output_type": "stream",
       "stream": "stdout",
       "text": [
        "\n",
        "Reading files from /home/jotham/projects/2014-12-20_datascibowl/data/datascibowl/train/copepod_calanoid_eggs"
       ]
      },
      {
       "output_type": "stream",
       "stream": "stdout",
       "text": [
        "\n",
        "Reading files from /home/jotham/projects/2014-12-20_datascibowl/data/datascibowl/train/euphausiids"
       ]
      },
      {
       "output_type": "stream",
       "stream": "stdout",
       "text": [
        "\n",
        "Reading files from /home/jotham/projects/2014-12-20_datascibowl/data/datascibowl/train/copepod_other"
       ]
      },
      {
       "output_type": "stream",
       "stream": "stdout",
       "text": [
        "\n",
        "Reading files from /home/jotham/projects/2014-12-20_datascibowl/data/datascibowl/train/shrimp_zoea\n",
        "Reading files from /home/jotham/projects/2014-12-20_datascibowl/data/datascibowl/train/tunicate_doliolid_nurse"
       ]
      },
      {
       "output_type": "stream",
       "stream": "stdout",
       "text": [
        "\n",
        "Reading files from /home/jotham/projects/2014-12-20_datascibowl/data/datascibowl/train/copepod_calanoid_flatheads"
       ]
      },
      {
       "output_type": "stream",
       "stream": "stdout",
       "text": [
        "\n",
        "Reading files from /home/jotham/projects/2014-12-20_datascibowl/data/datascibowl/train/siphonophore_calycophoran_rocketship_adult"
       ]
      },
      {
       "output_type": "stream",
       "stream": "stdout",
       "text": [
        "\n",
        "Reading files from /home/jotham/projects/2014-12-20_datascibowl/data/datascibowl/train/ephyra"
       ]
      },
      {
       "output_type": "stream",
       "stream": "stdout",
       "text": [
        "\n",
        "Reading files from /home/jotham/projects/2014-12-20_datascibowl/data/datascibowl/train/copepod_calanoid\n",
        "Reading files from /home/jotham/projects/2014-12-20_datascibowl/data/datascibowl/train/fish_larvae_thin_body"
       ]
      },
      {
       "output_type": "stream",
       "stream": "stdout",
       "text": [
        "\n",
        "Reading files from /home/jotham/projects/2014-12-20_datascibowl/data/datascibowl/train/radiolarian_chain"
       ]
      },
      {
       "output_type": "stream",
       "stream": "stdout",
       "text": [
        "\n",
        "Reading files from /home/jotham/projects/2014-12-20_datascibowl/data/datascibowl/train/hydromedusae_shapeA_sideview_small"
       ]
      },
      {
       "output_type": "stream",
       "stream": "stdout",
       "text": [
        "\n",
        "Reading files from /home/jotham/projects/2014-12-20_datascibowl/data/datascibowl/train/fish_larvae_leptocephali"
       ]
      },
      {
       "output_type": "stream",
       "stream": "stdout",
       "text": [
        "\n",
        "Reading files from /home/jotham/projects/2014-12-20_datascibowl/data/datascibowl/train/hydromedusae_haliscera_small_sideview\n",
        "Reading files from /home/jotham/projects/2014-12-20_datascibowl/data/datascibowl/train/acantharia_protist_halo"
       ]
      },
      {
       "output_type": "stream",
       "stream": "stdout",
       "text": [
        "\n",
        "Reading files from /home/jotham/projects/2014-12-20_datascibowl/data/datascibowl/train/stomatopod"
       ]
      },
      {
       "output_type": "stream",
       "stream": "stdout",
       "text": [
        "\n",
        "Reading files from /home/jotham/projects/2014-12-20_datascibowl/data/datascibowl/train/protist_star\n",
        "Reading files from /home/jotham/projects/2014-12-20_datascibowl/data/datascibowl/train/protist_noctiluca"
       ]
      },
      {
       "output_type": "stream",
       "stream": "stdout",
       "text": [
        "\n",
        "Reading files from /home/jotham/projects/2014-12-20_datascibowl/data/datascibowl/train/copepod_cyclopoid_oithona_eggs"
       ]
      },
      {
       "output_type": "stream",
       "stream": "stdout",
       "text": [
        "\n",
        "Reading files from /home/jotham/projects/2014-12-20_datascibowl/data/datascibowl/train/echinoderm_larva_pluteus_typeC"
       ]
      },
      {
       "output_type": "stream",
       "stream": "stdout",
       "text": [
        "\n",
        "Reading files from /home/jotham/projects/2014-12-20_datascibowl/data/datascibowl/train/jellies_tentacles"
       ]
      },
      {
       "output_type": "stream",
       "stream": "stdout",
       "text": [
        "\n",
        "Reading files from /home/jotham/projects/2014-12-20_datascibowl/data/datascibowl/train/siphonophore_physonect_young"
       ]
      },
      {
       "output_type": "stream",
       "stream": "stdout",
       "text": [
        "\n",
        "Reading files from /home/jotham/projects/2014-12-20_datascibowl/data/datascibowl/train/detritus_blob\n",
        "Reading files from /home/jotham/projects/2014-12-20_datascibowl/data/datascibowl/train/unknown_unclassified"
       ]
      },
      {
       "output_type": "stream",
       "stream": "stdout",
       "text": [
        "\n",
        "Reading files from /home/jotham/projects/2014-12-20_datascibowl/data/datascibowl/train/unknown_sticks"
       ]
      },
      {
       "output_type": "stream",
       "stream": "stdout",
       "text": [
        "\n",
        "Reading files from /home/jotham/projects/2014-12-20_datascibowl/data/datascibowl/train/siphonophore_calycophoran_sphaeronectes_stem"
       ]
      },
      {
       "output_type": "stream",
       "stream": "stdout",
       "text": [
        "\n",
        "Reading files from /home/jotham/projects/2014-12-20_datascibowl/data/datascibowl/train/echinopluteus"
       ]
      },
      {
       "output_type": "stream",
       "stream": "stdout",
       "text": [
        "\n",
        "Reading files from /home/jotham/projects/2014-12-20_datascibowl/data/datascibowl/train/heteropod\n",
        "Reading files from /home/jotham/projects/2014-12-20_datascibowl/data/datascibowl/train/unknown_blobs_and_smudges\n",
        "Reading files from /home/jotham/projects/2014-12-20_datascibowl/data/datascibowl/train/echinoderm_larva_seastar_bipinnaria"
       ]
      },
      {
       "output_type": "stream",
       "stream": "stdout",
       "text": [
        "\n",
        "Reading files from /home/jotham/projects/2014-12-20_datascibowl/data/datascibowl/train/echinoderm_larva_seastar_brachiolaria"
       ]
      },
      {
       "output_type": "stream",
       "stream": "stdout",
       "text": [
        "\n",
        "Reading files from /home/jotham/projects/2014-12-20_datascibowl/data/datascibowl/train/copepod_cyclopoid_copilia"
       ]
      },
      {
       "output_type": "stream",
       "stream": "stdout",
       "text": [
        "\n",
        "Reading files from /home/jotham/projects/2014-12-20_datascibowl/data/datascibowl/train/chaetognath_non_sagitta\n",
        "Reading files from /home/jotham/projects/2014-12-20_datascibowl/data/datascibowl/train/tunicate_doliolid"
       ]
      },
      {
       "output_type": "stream",
       "stream": "stdout",
       "text": [
        "\n",
        "Reading files from /home/jotham/projects/2014-12-20_datascibowl/data/datascibowl/train/hydromedusae_liriope"
       ]
      },
      {
       "output_type": "stream",
       "stream": "stdout",
       "text": [
        "\n",
        "Reading files from /home/jotham/projects/2014-12-20_datascibowl/data/datascibowl/train/ctenophore_cydippid_tentacles\n",
        "Reading files from /home/jotham/projects/2014-12-20_datascibowl/data/datascibowl/train/siphonophore_calycophoran_rocketship_young"
       ]
      },
      {
       "output_type": "stream",
       "stream": "stdout",
       "text": [
        "\n",
        "Reading files from /home/jotham/projects/2014-12-20_datascibowl/data/datascibowl/train/copepod_calanoid_large_side_antennatucked"
       ]
      },
      {
       "output_type": "stream",
       "stream": "stdout",
       "text": [
        "\n",
        "Reading files from /home/jotham/projects/2014-12-20_datascibowl/data/datascibowl/train/fish_larvae_deep_body"
       ]
      },
      {
       "output_type": "stream",
       "stream": "stdout",
       "text": [
        "\n",
        "Reading files from /home/jotham/projects/2014-12-20_datascibowl/data/datascibowl/train/ctenophore_cydippid_no_tentacles\n",
        "Reading files from /home/jotham/projects/2014-12-20_datascibowl/data/datascibowl/train/hydromedusae_solmundella\n",
        "Reading files from /home/jotham/projects/2014-12-20_datascibowl/data/datascibowl/train/trichodesmium_puff"
       ]
      },
      {
       "output_type": "stream",
       "stream": "stdout",
       "text": [
        "\n",
        "Reading files from /home/jotham/projects/2014-12-20_datascibowl/data/datascibowl/train/hydromedusae_partial_dark"
       ]
      },
      {
       "output_type": "stream",
       "stream": "stdout",
       "text": [
        "\n",
        "Reading files from /home/jotham/projects/2014-12-20_datascibowl/data/datascibowl/train/hydromedusae_narco_young"
       ]
      },
      {
       "output_type": "stream",
       "stream": "stdout",
       "text": [
        "\n",
        "Reading files from /home/jotham/projects/2014-12-20_datascibowl/data/datascibowl/train/polychaete"
       ]
      },
      {
       "output_type": "stream",
       "stream": "stdout",
       "text": [
        "\n",
        "Reading files from /home/jotham/projects/2014-12-20_datascibowl/data/datascibowl/train/protist_other"
       ]
      },
      {
       "output_type": "stream",
       "stream": "stdout",
       "text": [
        "\n",
        "Reading files from /home/jotham/projects/2014-12-20_datascibowl/data/datascibowl/train/copepod_calanoid_octomoms"
       ]
      },
      {
       "output_type": "stream",
       "stream": "stdout",
       "text": [
        "\n",
        "Reading files from /home/jotham/projects/2014-12-20_datascibowl/data/datascibowl/train/acantharia_protist_big_center\n",
        "Reading files from /home/jotham/projects/2014-12-20_datascibowl/data/datascibowl/train/diatom_chain_tube"
       ]
      },
      {
       "output_type": "stream",
       "stream": "stdout",
       "text": [
        "\n",
        "Reading files from /home/jotham/projects/2014-12-20_datascibowl/data/datascibowl/train/fish_larvae_medium_body"
       ]
      },
      {
       "output_type": "stream",
       "stream": "stdout",
       "text": [
        "\n",
        "Reading files from /home/jotham/projects/2014-12-20_datascibowl/data/datascibowl/train/shrimp_sergestidae"
       ]
      },
      {
       "output_type": "stream",
       "stream": "stdout",
       "text": [
        "\n",
        "Reading files from /home/jotham/projects/2014-12-20_datascibowl/data/datascibowl/train/pteropod_theco_dev_seq"
       ]
      },
      {
       "output_type": "stream",
       "stream": "stdout",
       "text": [
        "\n",
        "Reading files from /home/jotham/projects/2014-12-20_datascibowl/data/datascibowl/train/siphonophore_partial\n",
        "Reading files from /home/jotham/projects/2014-12-20_datascibowl/data/datascibowl/train/protist_fuzzy_olive\n",
        "Reading files from /home/jotham/projects/2014-12-20_datascibowl/data/datascibowl/train/appendicularian_fritillaridae"
       ]
      },
      {
       "output_type": "stream",
       "stream": "stdout",
       "text": [
        "\n",
        "Reading files from /home/jotham/projects/2014-12-20_datascibowl/data/datascibowl/train/radiolarian_colony\n",
        "topo_view.shape: (30336, 32, 32, 1)"
       ]
      },
      {
       "output_type": "stream",
       "stream": "stdout",
       "text": [
        "\n",
        "NAs: 0\n",
        "Swapping 0 and 24158\n",
        "Swapping 1000 and 507\n",
        "Swapping 2000 and 10329\n",
        "Swapping 3000 and 12566\n",
        "Swapping 4000 and 5782"
       ]
      },
      {
       "output_type": "stream",
       "stream": "stdout",
       "text": [
        "\n",
        "Swapping 5000 and 14421\n",
        "Swapping 6000 and 25855\n",
        "Swapping 7000 and 19226\n",
        "Swapping 8000 and 5480\n",
        "Swapping 9000 and 14824\n",
        "Swapping 10000 and 7481\n",
        "Swapping 11000 and 4899"
       ]
      },
      {
       "output_type": "stream",
       "stream": "stdout",
       "text": [
        "\n",
        "Swapping 12000 and 547\n",
        "Swapping 13000 and 17117\n",
        "Swapping 14000 and 15848\n",
        "Swapping 15000 and 26705\n",
        "Swapping 16000 and 11752\n",
        "Swapping 17000 and 13157\n",
        "Swapping 18000 and 19743"
       ]
      },
      {
       "output_type": "stream",
       "stream": "stdout",
       "text": [
        "\n",
        "Swapping 19000 and 29262\n",
        "Swapping 20000 and 10984\n",
        "Swapping 21000 and 9312\n",
        "Swapping 22000 and 14681\n",
        "Swapping 23000 and 22392\n",
        "Swapping 24000 and 8749\n",
        "Swapping 25000 and 14310"
       ]
      },
      {
       "output_type": "stream",
       "stream": "stdout",
       "text": [
        "\n",
        "Swapping 26000 and 223\n",
        "Swapping 27000 and 9727\n",
        "Swapping 28000 and 13098\n",
        "Swapping 29000 and 4946\n",
        "Swapping 30000 and 19434\n",
        "Looking for data in /home/jotham/projects/2014-12-20_datascibowl/data/datascibowl/train"
       ]
      },
      {
       "output_type": "stream",
       "stream": "stdout",
       "text": [
        "\n",
        "Found 30336 images"
       ]
      },
      {
       "output_type": "stream",
       "stream": "stdout",
       "text": [
        "\n",
        "Reading files from /home/jotham/projects/2014-12-20_datascibowl/data/datascibowl/train/euphausiids_young\n",
        "Reading files from /home/jotham/projects/2014-12-20_datascibowl/data/datascibowl/train/hydromedusae_narcomedusae\n",
        "Reading files from /home/jotham/projects/2014-12-20_datascibowl/data/datascibowl/train/copepod_calanoid_small_longantennae"
       ]
      },
      {
       "output_type": "stream",
       "stream": "stdout",
       "text": [
        "\n",
        "Reading files from /home/jotham/projects/2014-12-20_datascibowl/data/datascibowl/train/appendicularian_s_shape"
       ]
      },
      {
       "output_type": "stream",
       "stream": "stdout",
       "text": [
        "\n",
        "Reading files from /home/jotham/projects/2014-12-20_datascibowl/data/datascibowl/train/decapods"
       ]
      },
      {
       "output_type": "stream",
       "stream": "stdout",
       "text": [
        "\n",
        "Reading files from /home/jotham/projects/2014-12-20_datascibowl/data/datascibowl/train/hydromedusae_typeD_bell_and_tentacles\n",
        "Reading files from /home/jotham/projects/2014-12-20_datascibowl/data/datascibowl/train/crustacean_other"
       ]
      },
      {
       "output_type": "stream",
       "stream": "stdout",
       "text": [
        "\n",
        "Reading files from /home/jotham/projects/2014-12-20_datascibowl/data/datascibowl/train/hydromedusae_bell_and_tentacles"
       ]
      },
      {
       "output_type": "stream",
       "stream": "stdout",
       "text": [
        "\n",
        "Reading files from /home/jotham/projects/2014-12-20_datascibowl/data/datascibowl/train/echinoderm_larva_pluteus_brittlestar"
       ]
      },
      {
       "output_type": "stream",
       "stream": "stdout",
       "text": [
        "\n",
        "Reading files from /home/jotham/projects/2014-12-20_datascibowl/data/datascibowl/train/invertebrate_larvae_other_B\n",
        "Reading files from /home/jotham/projects/2014-12-20_datascibowl/data/datascibowl/train/hydromedusae_solmaris\n",
        "Reading files from /home/jotham/projects/2014-12-20_datascibowl/data/datascibowl/train/chaetognath_sagitta"
       ]
      },
      {
       "output_type": "stream",
       "stream": "stdout",
       "text": [
        "\n",
        "Reading files from /home/jotham/projects/2014-12-20_datascibowl/data/datascibowl/train/hydromedusae_shapeA"
       ]
      },
      {
       "output_type": "stream",
       "stream": "stdout",
       "text": [
        "\n",
        "Reading files from /home/jotham/projects/2014-12-20_datascibowl/data/datascibowl/train/hydromedusae_shapeB"
       ]
      },
      {
       "output_type": "stream",
       "stream": "stdout",
       "text": [
        "\n",
        "Reading files from /home/jotham/projects/2014-12-20_datascibowl/data/datascibowl/train/hydromedusae_haliscera"
       ]
      },
      {
       "output_type": "stream",
       "stream": "stdout",
       "text": [
        "\n",
        "Reading files from /home/jotham/projects/2014-12-20_datascibowl/data/datascibowl/train/hydromedusae_typeE"
       ]
      },
      {
       "output_type": "stream",
       "stream": "stdout",
       "text": [
        "\n",
        "Reading files from /home/jotham/projects/2014-12-20_datascibowl/data/datascibowl/train/hydromedusae_h15\n",
        "Reading files from /home/jotham/projects/2014-12-20_datascibowl/data/datascibowl/train/artifacts_edge\n",
        "Reading files from /home/jotham/projects/2014-12-20_datascibowl/data/datascibowl/train/copepod_calanoid_frillyAntennae"
       ]
      },
      {
       "output_type": "stream",
       "stream": "stdout",
       "text": [
        "\n",
        "Reading files from /home/jotham/projects/2014-12-20_datascibowl/data/datascibowl/train/copepod_calanoid_large\n",
        "Reading files from /home/jotham/projects/2014-12-20_datascibowl/data/datascibowl/train/siphonophore_calycophoran_abylidae"
       ]
      },
      {
       "output_type": "stream",
       "stream": "stdout",
       "text": [
        "\n",
        "Reading files from /home/jotham/projects/2014-12-20_datascibowl/data/datascibowl/train/invertebrate_larvae_other_A"
       ]
      },
      {
       "output_type": "stream",
       "stream": "stdout",
       "text": [
        "\n",
        "Reading files from /home/jotham/projects/2014-12-20_datascibowl/data/datascibowl/train/protist_dark_center\n",
        "Reading files from /home/jotham/projects/2014-12-20_datascibowl/data/datascibowl/train/ctenophore_cestid"
       ]
      },
      {
       "output_type": "stream",
       "stream": "stdout",
       "text": [
        "\n",
        "Reading files from /home/jotham/projects/2014-12-20_datascibowl/data/datascibowl/train/trichodesmium_tuft"
       ]
      },
      {
       "output_type": "stream",
       "stream": "stdout",
       "text": [
        "\n",
        "Reading files from /home/jotham/projects/2014-12-20_datascibowl/data/datascibowl/train/detritus_other"
       ]
      },
      {
       "output_type": "stream",
       "stream": "stdout",
       "text": [
        "\n",
        "Reading files from /home/jotham/projects/2014-12-20_datascibowl/data/datascibowl/train/tornaria_acorn_worm_larvae"
       ]
      },
      {
       "output_type": "stream",
       "stream": "stdout",
       "text": [
        "\n",
        "Reading files from /home/jotham/projects/2014-12-20_datascibowl/data/datascibowl/train/hydromedusae_other\n",
        "Reading files from /home/jotham/projects/2014-12-20_datascibowl/data/datascibowl/train/tunicate_salp\n",
        "Reading files from /home/jotham/projects/2014-12-20_datascibowl/data/datascibowl/train/shrimp_caridean"
       ]
      },
      {
       "output_type": "stream",
       "stream": "stdout",
       "text": [
        "\n",
        "Reading files from /home/jotham/projects/2014-12-20_datascibowl/data/datascibowl/train/copepod_cyclopoid_oithona\n",
        "Reading files from /home/jotham/projects/2014-12-20_datascibowl/data/datascibowl/train/hydromedusae_sideview_big"
       ]
      },
      {
       "output_type": "stream",
       "stream": "stdout",
       "text": [
        "\n",
        "Reading files from /home/jotham/projects/2014-12-20_datascibowl/data/datascibowl/train/trochophore_larvae\n",
        "Reading files from /home/jotham/projects/2014-12-20_datascibowl/data/datascibowl/train/artifacts"
       ]
      },
      {
       "output_type": "stream",
       "stream": "stdout",
       "text": [
        "\n",
        "Reading files from /home/jotham/projects/2014-12-20_datascibowl/data/datascibowl/train/acantharia_protist"
       ]
      },
      {
       "output_type": "stream",
       "stream": "stdout",
       "text": [
        "\n",
        "Reading files from /home/jotham/projects/2014-12-20_datascibowl/data/datascibowl/train/ctenophore_lobate"
       ]
      },
      {
       "output_type": "stream",
       "stream": "stdout",
       "text": [
        "\n",
        "Reading files from /home/jotham/projects/2014-12-20_datascibowl/data/datascibowl/train/copepod_calanoid_eucalanus\n",
        "Reading files from /home/jotham/projects/2014-12-20_datascibowl/data/datascibowl/train/siphonophore_calycophoran_sphaeronectes_young"
       ]
      },
      {
       "output_type": "stream",
       "stream": "stdout",
       "text": [
        "\n",
        "Reading files from /home/jotham/projects/2014-12-20_datascibowl/data/datascibowl/train/fish_larvae_myctophids"
       ]
      },
      {
       "output_type": "stream",
       "stream": "stdout",
       "text": [
        "\n",
        "Reading files from /home/jotham/projects/2014-12-20_datascibowl/data/datascibowl/train/echinoderm_larva_pluteus_early"
       ]
      },
      {
       "output_type": "stream",
       "stream": "stdout",
       "text": [
        "\n",
        "Reading files from /home/jotham/projects/2014-12-20_datascibowl/data/datascibowl/train/hydromedusae_aglaura"
       ]
      },
      {
       "output_type": "stream",
       "stream": "stdout",
       "text": [
        "\n",
        "Reading files from /home/jotham/projects/2014-12-20_datascibowl/data/datascibowl/train/echinoderm_larva_pluteus_urchin"
       ]
      },
      {
       "output_type": "stream",
       "stream": "stdout",
       "text": [
        "\n",
        "Reading files from /home/jotham/projects/2014-12-20_datascibowl/data/datascibowl/train/tunicate_partial"
       ]
      },
      {
       "output_type": "stream",
       "stream": "stdout",
       "text": [
        "\n",
        "Reading files from /home/jotham/projects/2014-12-20_datascibowl/data/datascibowl/train/pteropod_triangle"
       ]
      },
      {
       "output_type": "stream",
       "stream": "stdout",
       "text": [
        "\n",
        "Reading files from /home/jotham/projects/2014-12-20_datascibowl/data/datascibowl/train/echinoderm_seacucumber_auricularia_larva\n",
        "Reading files from /home/jotham/projects/2014-12-20_datascibowl/data/datascibowl/train/hydromedusae_typeD"
       ]
      },
      {
       "output_type": "stream",
       "stream": "stdout",
       "text": [
        "\n",
        "Reading files from /home/jotham/projects/2014-12-20_datascibowl/data/datascibowl/train/siphonophore_calycophoran_sphaeronectes\n",
        "Reading files from /home/jotham/projects/2014-12-20_datascibowl/data/datascibowl/train/chordate_type1"
       ]
      },
      {
       "output_type": "stream",
       "stream": "stdout",
       "text": [
        "\n",
        "Reading files from /home/jotham/projects/2014-12-20_datascibowl/data/datascibowl/train/trichodesmium_multiple\n",
        "Reading files from /home/jotham/projects/2014-12-20_datascibowl/data/datascibowl/train/appendicularian_straight"
       ]
      },
      {
       "output_type": "stream",
       "stream": "stdout",
       "text": [
        "\n",
        "Reading files from /home/jotham/projects/2014-12-20_datascibowl/data/datascibowl/train/appendicularian_slight_curve"
       ]
      },
      {
       "output_type": "stream",
       "stream": "stdout",
       "text": [
        "\n",
        "Reading files from /home/jotham/projects/2014-12-20_datascibowl/data/datascibowl/train/hydromedusae_typeF"
       ]
      },
      {
       "output_type": "stream",
       "stream": "stdout",
       "text": [
        "\n",
        "Reading files from /home/jotham/projects/2014-12-20_datascibowl/data/datascibowl/train/fecal_pellet\n",
        "Reading files from /home/jotham/projects/2014-12-20_datascibowl/data/datascibowl/train/hydromedusae_narco_dark"
       ]
      },
      {
       "output_type": "stream",
       "stream": "stdout",
       "text": [
        "\n",
        "Reading files from /home/jotham/projects/2014-12-20_datascibowl/data/datascibowl/train/shrimp-like_other\n",
        "Reading files from /home/jotham/projects/2014-12-20_datascibowl/data/datascibowl/train/diatom_chain_string"
       ]
      },
      {
       "output_type": "stream",
       "stream": "stdout",
       "text": [
        "\n",
        "Reading files from /home/jotham/projects/2014-12-20_datascibowl/data/datascibowl/train/fish_larvae_very_thin_body"
       ]
      },
      {
       "output_type": "stream",
       "stream": "stdout",
       "text": [
        "\n",
        "Reading files from /home/jotham/projects/2014-12-20_datascibowl/data/datascibowl/train/detritus_filamentous\n",
        "Reading files from /home/jotham/projects/2014-12-20_datascibowl/data/datascibowl/train/amphipods"
       ]
      },
      {
       "output_type": "stream",
       "stream": "stdout",
       "text": [
        "\n",
        "Reading files from /home/jotham/projects/2014-12-20_datascibowl/data/datascibowl/train/siphonophore_other_parts\n",
        "Reading files from /home/jotham/projects/2014-12-20_datascibowl/data/datascibowl/train/trichodesmium_bowtie\n",
        "Reading files from /home/jotham/projects/2014-12-20_datascibowl/data/datascibowl/train/siphonophore_physonect"
       ]
      },
      {
       "output_type": "stream",
       "stream": "stdout",
       "text": [
        "\n",
        "Reading files from /home/jotham/projects/2014-12-20_datascibowl/data/datascibowl/train/chaetognath_other"
       ]
      },
      {
       "output_type": "stream",
       "stream": "stdout",
       "text": [
        "\n",
        "Reading files from /home/jotham/projects/2014-12-20_datascibowl/data/datascibowl/train/pteropod_butterfly"
       ]
      },
      {
       "output_type": "stream",
       "stream": "stdout",
       "text": [
        "\n",
        "Reading files from /home/jotham/projects/2014-12-20_datascibowl/data/datascibowl/train/tunicate_salp_chains"
       ]
      },
      {
       "output_type": "stream",
       "stream": "stdout",
       "text": [
        "\n",
        "Reading files from /home/jotham/projects/2014-12-20_datascibowl/data/datascibowl/train/copepod_calanoid_eggs"
       ]
      },
      {
       "output_type": "stream",
       "stream": "stdout",
       "text": [
        "\n",
        "Reading files from /home/jotham/projects/2014-12-20_datascibowl/data/datascibowl/train/euphausiids"
       ]
      },
      {
       "output_type": "stream",
       "stream": "stdout",
       "text": [
        "\n",
        "Reading files from /home/jotham/projects/2014-12-20_datascibowl/data/datascibowl/train/copepod_other"
       ]
      },
      {
       "output_type": "stream",
       "stream": "stdout",
       "text": [
        "\n",
        "Reading files from /home/jotham/projects/2014-12-20_datascibowl/data/datascibowl/train/shrimp_zoea\n",
        "Reading files from /home/jotham/projects/2014-12-20_datascibowl/data/datascibowl/train/tunicate_doliolid_nurse"
       ]
      },
      {
       "output_type": "stream",
       "stream": "stdout",
       "text": [
        "\n",
        "Reading files from /home/jotham/projects/2014-12-20_datascibowl/data/datascibowl/train/copepod_calanoid_flatheads"
       ]
      },
      {
       "output_type": "stream",
       "stream": "stdout",
       "text": [
        "\n",
        "Reading files from /home/jotham/projects/2014-12-20_datascibowl/data/datascibowl/train/siphonophore_calycophoran_rocketship_adult"
       ]
      },
      {
       "output_type": "stream",
       "stream": "stdout",
       "text": [
        "\n",
        "Reading files from /home/jotham/projects/2014-12-20_datascibowl/data/datascibowl/train/ephyra"
       ]
      },
      {
       "output_type": "stream",
       "stream": "stdout",
       "text": [
        "\n",
        "Reading files from /home/jotham/projects/2014-12-20_datascibowl/data/datascibowl/train/copepod_calanoid\n",
        "Reading files from /home/jotham/projects/2014-12-20_datascibowl/data/datascibowl/train/fish_larvae_thin_body"
       ]
      },
      {
       "output_type": "stream",
       "stream": "stdout",
       "text": [
        "\n",
        "Reading files from /home/jotham/projects/2014-12-20_datascibowl/data/datascibowl/train/radiolarian_chain\n",
        "Reading files from /home/jotham/projects/2014-12-20_datascibowl/data/datascibowl/train/hydromedusae_shapeA_sideview_small"
       ]
      },
      {
       "output_type": "stream",
       "stream": "stdout",
       "text": [
        "\n",
        "Reading files from /home/jotham/projects/2014-12-20_datascibowl/data/datascibowl/train/fish_larvae_leptocephali"
       ]
      },
      {
       "output_type": "stream",
       "stream": "stdout",
       "text": [
        "\n",
        "Reading files from /home/jotham/projects/2014-12-20_datascibowl/data/datascibowl/train/hydromedusae_haliscera_small_sideview\n",
        "Reading files from /home/jotham/projects/2014-12-20_datascibowl/data/datascibowl/train/acantharia_protist_halo\n",
        "Reading files from /home/jotham/projects/2014-12-20_datascibowl/data/datascibowl/train/stomatopod"
       ]
      },
      {
       "output_type": "stream",
       "stream": "stdout",
       "text": [
        "\n",
        "Reading files from /home/jotham/projects/2014-12-20_datascibowl/data/datascibowl/train/protist_star\n",
        "Reading files from /home/jotham/projects/2014-12-20_datascibowl/data/datascibowl/train/protist_noctiluca"
       ]
      },
      {
       "output_type": "stream",
       "stream": "stdout",
       "text": [
        "\n",
        "Reading files from /home/jotham/projects/2014-12-20_datascibowl/data/datascibowl/train/copepod_cyclopoid_oithona_eggs"
       ]
      },
      {
       "output_type": "stream",
       "stream": "stdout",
       "text": [
        "\n",
        "Reading files from /home/jotham/projects/2014-12-20_datascibowl/data/datascibowl/train/echinoderm_larva_pluteus_typeC"
       ]
      },
      {
       "output_type": "stream",
       "stream": "stdout",
       "text": [
        "\n",
        "Reading files from /home/jotham/projects/2014-12-20_datascibowl/data/datascibowl/train/jellies_tentacles"
       ]
      },
      {
       "output_type": "stream",
       "stream": "stdout",
       "text": [
        "\n",
        "Reading files from /home/jotham/projects/2014-12-20_datascibowl/data/datascibowl/train/siphonophore_physonect_young"
       ]
      },
      {
       "output_type": "stream",
       "stream": "stdout",
       "text": [
        "\n",
        "Reading files from /home/jotham/projects/2014-12-20_datascibowl/data/datascibowl/train/detritus_blob\n",
        "Reading files from /home/jotham/projects/2014-12-20_datascibowl/data/datascibowl/train/unknown_unclassified"
       ]
      },
      {
       "output_type": "stream",
       "stream": "stdout",
       "text": [
        "\n",
        "Reading files from /home/jotham/projects/2014-12-20_datascibowl/data/datascibowl/train/unknown_sticks"
       ]
      },
      {
       "output_type": "stream",
       "stream": "stdout",
       "text": [
        "\n",
        "Reading files from /home/jotham/projects/2014-12-20_datascibowl/data/datascibowl/train/siphonophore_calycophoran_sphaeronectes_stem"
       ]
      },
      {
       "output_type": "stream",
       "stream": "stdout",
       "text": [
        "\n",
        "Reading files from /home/jotham/projects/2014-12-20_datascibowl/data/datascibowl/train/echinopluteus\n",
        "Reading files from /home/jotham/projects/2014-12-20_datascibowl/data/datascibowl/train/heteropod"
       ]
      },
      {
       "output_type": "stream",
       "stream": "stdout",
       "text": [
        "\n",
        "Reading files from /home/jotham/projects/2014-12-20_datascibowl/data/datascibowl/train/unknown_blobs_and_smudges\n",
        "Reading files from /home/jotham/projects/2014-12-20_datascibowl/data/datascibowl/train/echinoderm_larva_seastar_bipinnaria"
       ]
      },
      {
       "output_type": "stream",
       "stream": "stdout",
       "text": [
        "\n",
        "Reading files from /home/jotham/projects/2014-12-20_datascibowl/data/datascibowl/train/echinoderm_larva_seastar_brachiolaria"
       ]
      },
      {
       "output_type": "stream",
       "stream": "stdout",
       "text": [
        "\n",
        "Reading files from /home/jotham/projects/2014-12-20_datascibowl/data/datascibowl/train/copepod_cyclopoid_copilia"
       ]
      },
      {
       "output_type": "stream",
       "stream": "stdout",
       "text": [
        "\n",
        "Reading files from /home/jotham/projects/2014-12-20_datascibowl/data/datascibowl/train/chaetognath_non_sagitta\n",
        "Reading files from /home/jotham/projects/2014-12-20_datascibowl/data/datascibowl/train/tunicate_doliolid"
       ]
      },
      {
       "output_type": "stream",
       "stream": "stdout",
       "text": [
        "\n",
        "Reading files from /home/jotham/projects/2014-12-20_datascibowl/data/datascibowl/train/hydromedusae_liriope"
       ]
      },
      {
       "output_type": "stream",
       "stream": "stdout",
       "text": [
        "\n",
        "Reading files from /home/jotham/projects/2014-12-20_datascibowl/data/datascibowl/train/ctenophore_cydippid_tentacles\n",
        "Reading files from /home/jotham/projects/2014-12-20_datascibowl/data/datascibowl/train/siphonophore_calycophoran_rocketship_young"
       ]
      },
      {
       "output_type": "stream",
       "stream": "stdout",
       "text": [
        "\n",
        "Reading files from /home/jotham/projects/2014-12-20_datascibowl/data/datascibowl/train/copepod_calanoid_large_side_antennatucked"
       ]
      },
      {
       "output_type": "stream",
       "stream": "stdout",
       "text": [
        "\n",
        "Reading files from /home/jotham/projects/2014-12-20_datascibowl/data/datascibowl/train/fish_larvae_deep_body"
       ]
      },
      {
       "output_type": "stream",
       "stream": "stdout",
       "text": [
        "\n",
        "Reading files from /home/jotham/projects/2014-12-20_datascibowl/data/datascibowl/train/ctenophore_cydippid_no_tentacles\n",
        "Reading files from /home/jotham/projects/2014-12-20_datascibowl/data/datascibowl/train/hydromedusae_solmundella\n",
        "Reading files from /home/jotham/projects/2014-12-20_datascibowl/data/datascibowl/train/trichodesmium_puff"
       ]
      },
      {
       "output_type": "stream",
       "stream": "stdout",
       "text": [
        "\n",
        "Reading files from /home/jotham/projects/2014-12-20_datascibowl/data/datascibowl/train/hydromedusae_partial_dark"
       ]
      },
      {
       "output_type": "stream",
       "stream": "stdout",
       "text": [
        "\n",
        "Reading files from /home/jotham/projects/2014-12-20_datascibowl/data/datascibowl/train/hydromedusae_narco_young"
       ]
      },
      {
       "output_type": "stream",
       "stream": "stdout",
       "text": [
        "\n",
        "Reading files from /home/jotham/projects/2014-12-20_datascibowl/data/datascibowl/train/polychaete"
       ]
      },
      {
       "output_type": "stream",
       "stream": "stdout",
       "text": [
        "\n",
        "Reading files from /home/jotham/projects/2014-12-20_datascibowl/data/datascibowl/train/protist_other"
       ]
      },
      {
       "output_type": "stream",
       "stream": "stdout",
       "text": [
        "\n",
        "Reading files from /home/jotham/projects/2014-12-20_datascibowl/data/datascibowl/train/copepod_calanoid_octomoms"
       ]
      },
      {
       "output_type": "stream",
       "stream": "stdout",
       "text": [
        "\n",
        "Reading files from /home/jotham/projects/2014-12-20_datascibowl/data/datascibowl/train/acantharia_protist_big_center\n",
        "Reading files from /home/jotham/projects/2014-12-20_datascibowl/data/datascibowl/train/diatom_chain_tube\n",
        "Reading files from /home/jotham/projects/2014-12-20_datascibowl/data/datascibowl/train/fish_larvae_medium_body"
       ]
      },
      {
       "output_type": "stream",
       "stream": "stdout",
       "text": [
        "\n",
        "Reading files from /home/jotham/projects/2014-12-20_datascibowl/data/datascibowl/train/shrimp_sergestidae"
       ]
      },
      {
       "output_type": "stream",
       "stream": "stdout",
       "text": [
        "\n",
        "Reading files from /home/jotham/projects/2014-12-20_datascibowl/data/datascibowl/train/pteropod_theco_dev_seq"
       ]
      },
      {
       "output_type": "stream",
       "stream": "stdout",
       "text": [
        "\n",
        "Reading files from /home/jotham/projects/2014-12-20_datascibowl/data/datascibowl/train/siphonophore_partial\n",
        "Reading files from /home/jotham/projects/2014-12-20_datascibowl/data/datascibowl/train/protist_fuzzy_olive\n",
        "Reading files from /home/jotham/projects/2014-12-20_datascibowl/data/datascibowl/train/appendicularian_fritillaridae"
       ]
      },
      {
       "output_type": "stream",
       "stream": "stdout",
       "text": [
        "\n",
        "Reading files from /home/jotham/projects/2014-12-20_datascibowl/data/datascibowl/train/radiolarian_colony\n",
        "topo_view.shape: (30336, 32, 32, 1)"
       ]
      },
      {
       "output_type": "stream",
       "stream": "stdout",
       "text": [
        "\n",
        "NAs: 0\n",
        "Swapping 0 and 24158\n",
        "Swapping 1000 and 507\n",
        "Swapping 2000 and 10329\n",
        "Swapping 3000 and 12566\n",
        "Swapping 4000 and 5782"
       ]
      },
      {
       "output_type": "stream",
       "stream": "stdout",
       "text": [
        "\n",
        "Swapping 5000 and 14421\n",
        "Swapping 6000 and 25855\n",
        "Swapping 7000 and 19226\n",
        "Swapping 8000 and 5480\n",
        "Swapping 9000 and 14824\n",
        "Swapping 10000 and 7481\n",
        "Swapping 11000 and 4899"
       ]
      },
      {
       "output_type": "stream",
       "stream": "stdout",
       "text": [
        "\n",
        "Swapping 12000 and 547\n",
        "Swapping 13000 and 17117\n",
        "Swapping 14000 and 15848\n",
        "Swapping 15000 and 26705\n",
        "Swapping 16000 and 11752\n",
        "Swapping 17000 and 13157\n",
        "Swapping 18000 and 19743"
       ]
      },
      {
       "output_type": "stream",
       "stream": "stdout",
       "text": [
        "\n",
        "Swapping 19000 and 29262\n",
        "Swapping 20000 and 10984\n",
        "Swapping 21000 and 9312\n",
        "Swapping 22000 and 14681\n",
        "Swapping 23000 and 22392\n",
        "Swapping 24000 and 8749\n",
        "Swapping 25000 and 14310"
       ]
      },
      {
       "output_type": "stream",
       "stream": "stdout",
       "text": [
        "\n",
        "Swapping 26000 and 223\n",
        "Swapping 27000 and 9727\n",
        "Swapping 28000 and 13098\n",
        "Swapping 29000 and 4946\n",
        "Swapping 30000 and 19434\n",
        "Parameter and initial learning rate summary:\n"
       ]
      },
      {
       "output_type": "stream",
       "stream": "stderr",
       "text": [
        "/home/jotham/projects/2014-12-20_datascibowl/pylearn2_fork/pylearn2/costs/mlp/__init__.py:104: UserWarning: Coefficients should be given as a dictionary with layer names as key. The support of coefficients as list would be deprecated from 03/06/2015\n",
        "  warnings.warn(\"Coefficients should be given as a dictionary \"\n"
       ]
      },
      {
       "output_type": "stream",
       "stream": "stdout",
       "text": [
        "\th2_W: 0.00999999977648\n"
       ]
      },
      {
       "output_type": "stream",
       "stream": "stdout",
       "text": [
        "\th2_b: 0.00999999977648\n"
       ]
      },
      {
       "output_type": "stream",
       "stream": "stdout",
       "text": [
        "\th3_W: 0.00999999977648\n"
       ]
      },
      {
       "output_type": "stream",
       "stream": "stdout",
       "text": [
        "\th3_b: 0.00999999977648\n"
       ]
      },
      {
       "output_type": "stream",
       "stream": "stdout",
       "text": [
        "\tsoftmax_b: 0.00999999977648\n"
       ]
      },
      {
       "output_type": "stream",
       "stream": "stdout",
       "text": [
        "\tsoftmax_W: 0.00999999977648\n"
       ]
      },
      {
       "output_type": "stream",
       "stream": "stdout",
       "text": [
        "Compiling sgd_update...\n"
       ]
      },
      {
       "output_type": "stream",
       "stream": "stderr",
       "text": [
        "/home/jotham/projects/2014-12-20_datascibowl/pylearn2_fork/pylearn2/utils/iteration.py:783: UserWarning: dataset is using the old iterator interface which is deprecated and will become officially unsupported as of July 28, 2015. The dataset should implement a `get` method respecting the new interface.\n",
        "  warnings.warn(\"dataset is using the old iterator interface which \"\n"
       ]
      },
      {
       "output_type": "stream",
       "stream": "stdout",
       "text": [
        "Compiling sgd_update done. Time elapsed: 15.245195 seconds\n"
       ]
      },
      {
       "output_type": "stream",
       "stream": "stderr",
       "text": [
        "/home/jotham/venvs/2014-12-20_datascibowl/lib/python2.7/site-packages/theano/tensor/subtensor.py:110: FutureWarning: comparison to `None` will result in an elementwise object comparison in the future.\n",
        "  start in [None, 0] or\n",
        "/home/jotham/venvs/2014-12-20_datascibowl/lib/python2.7/site-packages/theano/tensor/subtensor.py:114: FutureWarning: comparison to `None` will result in an elementwise object comparison in the future.\n",
        "  stop in [None, length, maxsize] or\n"
       ]
      },
      {
       "output_type": "stream",
       "stream": "stdout",
       "text": [
        "compiling begin_record_entry...\n"
       ]
      },
      {
       "output_type": "stream",
       "stream": "stdout",
       "text": [
        "compiling begin_record_entry done. Time elapsed: 0.312843 seconds\n"
       ]
      },
      {
       "output_type": "stream",
       "stream": "stdout",
       "text": [
        "Monitored channels: \n"
       ]
      },
      {
       "output_type": "stream",
       "stream": "stdout",
       "text": [
        "\tlearning_rate\n"
       ]
      },
      {
       "output_type": "stream",
       "stream": "stdout",
       "text": [
        "\tmomentum\n"
       ]
      },
      {
       "output_type": "stream",
       "stream": "stdout",
       "text": [
        "\ttotal_seconds_last_epoch\n"
       ]
      },
      {
       "output_type": "stream",
       "stream": "stdout",
       "text": [
        "\ttrain_h2_kernel_norms_max\n"
       ]
      },
      {
       "output_type": "stream",
       "stream": "stdout",
       "text": [
        "\ttrain_h2_kernel_norms_mean\n"
       ]
      },
      {
       "output_type": "stream",
       "stream": "stdout",
       "text": [
        "\ttrain_h2_kernel_norms_min\n"
       ]
      },
      {
       "output_type": "stream",
       "stream": "stdout",
       "text": [
        "\ttrain_h2_max_x_max_u\n"
       ]
      },
      {
       "output_type": "stream",
       "stream": "stdout",
       "text": [
        "\ttrain_h2_max_x_mean_u\n"
       ]
      },
      {
       "output_type": "stream",
       "stream": "stdout",
       "text": [
        "\ttrain_h2_max_x_min_u\n"
       ]
      },
      {
       "output_type": "stream",
       "stream": "stdout",
       "text": [
        "\ttrain_h2_mean_x_max_u\n"
       ]
      },
      {
       "output_type": "stream",
       "stream": "stdout",
       "text": [
        "\ttrain_h2_mean_x_mean_u\n"
       ]
      },
      {
       "output_type": "stream",
       "stream": "stdout",
       "text": [
        "\ttrain_h2_mean_x_min_u\n"
       ]
      },
      {
       "output_type": "stream",
       "stream": "stdout",
       "text": [
        "\ttrain_h2_min_x_max_u\n"
       ]
      },
      {
       "output_type": "stream",
       "stream": "stdout",
       "text": [
        "\ttrain_h2_min_x_mean_u\n"
       ]
      },
      {
       "output_type": "stream",
       "stream": "stdout",
       "text": [
        "\ttrain_h2_min_x_min_u\n"
       ]
      },
      {
       "output_type": "stream",
       "stream": "stdout",
       "text": [
        "\ttrain_h2_range_x_max_u\n"
       ]
      },
      {
       "output_type": "stream",
       "stream": "stdout",
       "text": [
        "\ttrain_h2_range_x_mean_u\n"
       ]
      },
      {
       "output_type": "stream",
       "stream": "stdout",
       "text": [
        "\ttrain_h2_range_x_min_u\n"
       ]
      },
      {
       "output_type": "stream",
       "stream": "stdout",
       "text": [
        "\ttrain_h3_kernel_norms_max\n"
       ]
      },
      {
       "output_type": "stream",
       "stream": "stdout",
       "text": [
        "\ttrain_h3_kernel_norms_mean\n"
       ]
      },
      {
       "output_type": "stream",
       "stream": "stdout",
       "text": [
        "\ttrain_h3_kernel_norms_min\n"
       ]
      },
      {
       "output_type": "stream",
       "stream": "stdout",
       "text": [
        "\ttrain_h3_max_x_max_u\n"
       ]
      },
      {
       "output_type": "stream",
       "stream": "stdout",
       "text": [
        "\ttrain_h3_max_x_mean_u\n"
       ]
      },
      {
       "output_type": "stream",
       "stream": "stdout",
       "text": [
        "\ttrain_h3_max_x_min_u\n"
       ]
      },
      {
       "output_type": "stream",
       "stream": "stdout",
       "text": [
        "\ttrain_h3_mean_x_max_u\n"
       ]
      },
      {
       "output_type": "stream",
       "stream": "stdout",
       "text": [
        "\ttrain_h3_mean_x_mean_u\n"
       ]
      },
      {
       "output_type": "stream",
       "stream": "stdout",
       "text": [
        "\ttrain_h3_mean_x_min_u\n"
       ]
      },
      {
       "output_type": "stream",
       "stream": "stdout",
       "text": [
        "\ttrain_h3_min_x_max_u\n"
       ]
      },
      {
       "output_type": "stream",
       "stream": "stdout",
       "text": [
        "\ttrain_h3_min_x_mean_u\n"
       ]
      },
      {
       "output_type": "stream",
       "stream": "stdout",
       "text": [
        "\ttrain_h3_min_x_min_u\n"
       ]
      },
      {
       "output_type": "stream",
       "stream": "stdout",
       "text": [
        "\ttrain_h3_range_x_max_u\n"
       ]
      },
      {
       "output_type": "stream",
       "stream": "stdout",
       "text": [
        "\ttrain_h3_range_x_mean_u\n"
       ]
      },
      {
       "output_type": "stream",
       "stream": "stdout",
       "text": [
        "\ttrain_h3_range_x_min_u\n"
       ]
      },
      {
       "output_type": "stream",
       "stream": "stdout",
       "text": [
        "\ttrain_objective\n"
       ]
      },
      {
       "output_type": "stream",
       "stream": "stdout",
       "text": [
        "\ttrain_term_0\n"
       ]
      },
      {
       "output_type": "stream",
       "stream": "stdout",
       "text": [
        "\ttrain_term_1_weight_decay\n"
       ]
      },
      {
       "output_type": "stream",
       "stream": "stdout",
       "text": [
        "\ttrain_y_col_norms_max\n"
       ]
      },
      {
       "output_type": "stream",
       "stream": "stdout",
       "text": [
        "\ttrain_y_col_norms_mean\n"
       ]
      },
      {
       "output_type": "stream",
       "stream": "stdout",
       "text": [
        "\ttrain_y_col_norms_min\n"
       ]
      },
      {
       "output_type": "stream",
       "stream": "stdout",
       "text": [
        "\ttrain_y_max_max_class\n"
       ]
      },
      {
       "output_type": "stream",
       "stream": "stdout",
       "text": [
        "\ttrain_y_mean_max_class\n"
       ]
      },
      {
       "output_type": "stream",
       "stream": "stdout",
       "text": [
        "\ttrain_y_min_max_class\n"
       ]
      },
      {
       "output_type": "stream",
       "stream": "stdout",
       "text": [
        "\ttrain_y_misclass\n"
       ]
      },
      {
       "output_type": "stream",
       "stream": "stdout",
       "text": [
        "\ttrain_y_nll\n"
       ]
      },
      {
       "output_type": "stream",
       "stream": "stdout",
       "text": [
        "\ttrain_y_row_norms_max\n"
       ]
      },
      {
       "output_type": "stream",
       "stream": "stdout",
       "text": [
        "\ttrain_y_row_norms_mean\n"
       ]
      },
      {
       "output_type": "stream",
       "stream": "stdout",
       "text": [
        "\ttrain_y_row_norms_min\n"
       ]
      },
      {
       "output_type": "stream",
       "stream": "stdout",
       "text": [
        "\ttraining_seconds_this_epoch\n"
       ]
      },
      {
       "output_type": "stream",
       "stream": "stdout",
       "text": [
        "\tvalid_h2_kernel_norms_max\n"
       ]
      },
      {
       "output_type": "stream",
       "stream": "stdout",
       "text": [
        "\tvalid_h2_kernel_norms_mean\n"
       ]
      },
      {
       "output_type": "stream",
       "stream": "stdout",
       "text": [
        "\tvalid_h2_kernel_norms_min\n"
       ]
      },
      {
       "output_type": "stream",
       "stream": "stdout",
       "text": [
        "\tvalid_h2_max_x_max_u\n"
       ]
      },
      {
       "output_type": "stream",
       "stream": "stdout",
       "text": [
        "\tvalid_h2_max_x_mean_u\n"
       ]
      },
      {
       "output_type": "stream",
       "stream": "stdout",
       "text": [
        "\tvalid_h2_max_x_min_u\n"
       ]
      },
      {
       "output_type": "stream",
       "stream": "stdout",
       "text": [
        "\tvalid_h2_mean_x_max_u\n"
       ]
      },
      {
       "output_type": "stream",
       "stream": "stdout",
       "text": [
        "\tvalid_h2_mean_x_mean_u\n"
       ]
      },
      {
       "output_type": "stream",
       "stream": "stdout",
       "text": [
        "\tvalid_h2_mean_x_min_u\n"
       ]
      },
      {
       "output_type": "stream",
       "stream": "stdout",
       "text": [
        "\tvalid_h2_min_x_max_u\n"
       ]
      },
      {
       "output_type": "stream",
       "stream": "stdout",
       "text": [
        "\tvalid_h2_min_x_mean_u\n"
       ]
      },
      {
       "output_type": "stream",
       "stream": "stdout",
       "text": [
        "\tvalid_h2_min_x_min_u\n"
       ]
      },
      {
       "output_type": "stream",
       "stream": "stdout",
       "text": [
        "\tvalid_h2_range_x_max_u\n"
       ]
      },
      {
       "output_type": "stream",
       "stream": "stdout",
       "text": [
        "\tvalid_h2_range_x_mean_u\n"
       ]
      },
      {
       "output_type": "stream",
       "stream": "stdout",
       "text": [
        "\tvalid_h2_range_x_min_u\n"
       ]
      },
      {
       "output_type": "stream",
       "stream": "stdout",
       "text": [
        "\tvalid_h3_kernel_norms_max\n"
       ]
      },
      {
       "output_type": "stream",
       "stream": "stdout",
       "text": [
        "\tvalid_h3_kernel_norms_mean\n"
       ]
      },
      {
       "output_type": "stream",
       "stream": "stdout",
       "text": [
        "\tvalid_h3_kernel_norms_min\n"
       ]
      },
      {
       "output_type": "stream",
       "stream": "stdout",
       "text": [
        "\tvalid_h3_max_x_max_u\n"
       ]
      },
      {
       "output_type": "stream",
       "stream": "stdout",
       "text": [
        "\tvalid_h3_max_x_mean_u\n"
       ]
      },
      {
       "output_type": "stream",
       "stream": "stdout",
       "text": [
        "\tvalid_h3_max_x_min_u\n"
       ]
      },
      {
       "output_type": "stream",
       "stream": "stdout",
       "text": [
        "\tvalid_h3_mean_x_max_u\n"
       ]
      },
      {
       "output_type": "stream",
       "stream": "stdout",
       "text": [
        "\tvalid_h3_mean_x_mean_u\n"
       ]
      },
      {
       "output_type": "stream",
       "stream": "stdout",
       "text": [
        "\tvalid_h3_mean_x_min_u\n"
       ]
      },
      {
       "output_type": "stream",
       "stream": "stdout",
       "text": [
        "\tvalid_h3_min_x_max_u\n"
       ]
      },
      {
       "output_type": "stream",
       "stream": "stdout",
       "text": [
        "\tvalid_h3_min_x_mean_u\n"
       ]
      },
      {
       "output_type": "stream",
       "stream": "stdout",
       "text": [
        "\tvalid_h3_min_x_min_u\n"
       ]
      },
      {
       "output_type": "stream",
       "stream": "stdout",
       "text": [
        "\tvalid_h3_range_x_max_u\n"
       ]
      },
      {
       "output_type": "stream",
       "stream": "stdout",
       "text": [
        "\tvalid_h3_range_x_mean_u\n"
       ]
      },
      {
       "output_type": "stream",
       "stream": "stdout",
       "text": [
        "\tvalid_h3_range_x_min_u\n"
       ]
      },
      {
       "output_type": "stream",
       "stream": "stdout",
       "text": [
        "\tvalid_objective\n"
       ]
      },
      {
       "output_type": "stream",
       "stream": "stdout",
       "text": [
        "\tvalid_term_0\n"
       ]
      },
      {
       "output_type": "stream",
       "stream": "stdout",
       "text": [
        "\tvalid_term_1_weight_decay\n"
       ]
      },
      {
       "output_type": "stream",
       "stream": "stdout",
       "text": [
        "\tvalid_y_col_norms_max\n"
       ]
      },
      {
       "output_type": "stream",
       "stream": "stdout",
       "text": [
        "\tvalid_y_col_norms_mean\n"
       ]
      },
      {
       "output_type": "stream",
       "stream": "stdout",
       "text": [
        "\tvalid_y_col_norms_min\n"
       ]
      },
      {
       "output_type": "stream",
       "stream": "stdout",
       "text": [
        "\tvalid_y_max_max_class\n"
       ]
      },
      {
       "output_type": "stream",
       "stream": "stdout",
       "text": [
        "\tvalid_y_mean_max_class\n"
       ]
      },
      {
       "output_type": "stream",
       "stream": "stdout",
       "text": [
        "\tvalid_y_min_max_class\n"
       ]
      },
      {
       "output_type": "stream",
       "stream": "stdout",
       "text": [
        "\tvalid_y_misclass\n"
       ]
      },
      {
       "output_type": "stream",
       "stream": "stdout",
       "text": [
        "\tvalid_y_nll\n"
       ]
      },
      {
       "output_type": "stream",
       "stream": "stdout",
       "text": [
        "\tvalid_y_row_norms_max\n"
       ]
      },
      {
       "output_type": "stream",
       "stream": "stdout",
       "text": [
        "\tvalid_y_row_norms_mean\n"
       ]
      },
      {
       "output_type": "stream",
       "stream": "stdout",
       "text": [
        "\tvalid_y_row_norms_min\n"
       ]
      },
      {
       "output_type": "stream",
       "stream": "stdout",
       "text": [
        "Compiling accum...\n"
       ]
      },
      {
       "output_type": "stream",
       "stream": "stdout",
       "text": [
        "graph size: 569\n"
       ]
      },
      {
       "output_type": "stream",
       "stream": "stdout",
       "text": [
        "graph size: 545\n"
       ]
      },
      {
       "output_type": "stream",
       "stream": "stdout",
       "text": [
        "Compiling accum done. Time elapsed: 5.403056 seconds\n"
       ]
      },
      {
       "output_type": "stream",
       "stream": "stdout",
       "text": [
        "Monitoring step:\n"
       ]
      },
      {
       "output_type": "stream",
       "stream": "stdout",
       "text": [
        "\tEpochs seen: 0\n"
       ]
      },
      {
       "output_type": "stream",
       "stream": "stdout",
       "text": [
        "\tBatches seen: 0\n"
       ]
      },
      {
       "output_type": "stream",
       "stream": "stdout",
       "text": [
        "\tExamples seen: 0\n"
       ]
      },
      {
       "output_type": "stream",
       "stream": "stdout",
       "text": [
        "\tlearning_rate: 0.0100000035018\n"
       ]
      },
      {
       "output_type": "stream",
       "stream": "stdout",
       "text": [
        "\tmomentum: 0.500000655651\n"
       ]
      },
      {
       "output_type": "stream",
       "stream": "stdout",
       "text": [
        "\ttotal_seconds_last_epoch: 0.0\n"
       ]
      },
      {
       "output_type": "stream",
       "stream": "stdout",
       "text": [
        "\ttrain_h2_kernel_norms_max: 0.166490346193\n"
       ]
      },
      {
       "output_type": "stream",
       "stream": "stdout",
       "text": [
        "\ttrain_h2_kernel_norms_mean: 0.141213014722\n"
       ]
      },
      {
       "output_type": "stream",
       "stream": "stdout",
       "text": [
        "\ttrain_h2_kernel_norms_min: 0.121112890542\n"
       ]
      },
      {
       "output_type": "stream",
       "stream": "stdout",
       "text": [
        "\ttrain_h2_max_x_max_u: 0.231716245413\n"
       ]
      },
      {
       "output_type": "stream",
       "stream": "stdout",
       "text": [
        "\ttrain_h2_max_x_mean_u: 0.0846398025751\n"
       ]
      },
      {
       "output_type": "stream",
       "stream": "stdout",
       "text": [
        "\ttrain_h2_max_x_min_u: 0.00966640096158\n"
       ]
      },
      {
       "output_type": "stream",
       "stream": "stdout",
       "text": [
        "\ttrain_h2_mean_x_max_u: 0.0654322430491\n"
       ]
      },
      {
       "output_type": "stream",
       "stream": "stdout",
       "text": [
        "\ttrain_h2_mean_x_mean_u: 0.0186151824892\n"
       ]
      },
      {
       "output_type": "stream",
       "stream": "stdout",
       "text": [
        "\ttrain_h2_mean_x_min_u: 0.00200389907695\n"
       ]
      },
      {
       "output_type": "stream",
       "stream": "stdout",
       "text": [
        "\ttrain_h2_min_x_max_u: 0.00846118386835\n"
       ]
      },
      {
       "output_type": "stream",
       "stream": "stdout",
       "text": [
        "\ttrain_h2_min_x_mean_u: 0.000226775358897\n"
       ]
      },
      {
       "output_type": "stream",
       "stream": "stdout",
       "text": [
        "\ttrain_h2_min_x_min_u: 0.0\n"
       ]
      },
      {
       "output_type": "stream",
       "stream": "stdout",
       "text": [
        "\ttrain_h2_range_x_max_u: 0.231716111302\n"
       ]
      },
      {
       "output_type": "stream",
       "stream": "stdout",
       "text": [
        "\ttrain_h2_range_x_mean_u: 0.0844130069017\n"
       ]
      },
      {
       "output_type": "stream",
       "stream": "stdout",
       "text": [
        "\ttrain_h2_range_x_min_u: 0.00935652945191\n"
       ]
      },
      {
       "output_type": "stream",
       "stream": "stdout",
       "text": [
        "\ttrain_h3_kernel_norms_max: 1.18473422527\n"
       ]
      },
      {
       "output_type": "stream",
       "stream": "stdout",
       "text": [
        "\ttrain_h3_kernel_norms_mean: 1.15763175488\n"
       ]
      },
      {
       "output_type": "stream",
       "stream": "stdout",
       "text": [
        "\ttrain_h3_kernel_norms_min: 1.12533545494\n"
       ]
      },
      {
       "output_type": "stream",
       "stream": "stdout",
       "text": [
        "\ttrain_h3_max_x_max_u: 0.231052964926\n"
       ]
      },
      {
       "output_type": "stream",
       "stream": "stdout",
       "text": [
        "\ttrain_h3_max_x_mean_u: 0.0933150425553\n"
       ]
      },
      {
       "output_type": "stream",
       "stream": "stdout",
       "text": [
        "\ttrain_h3_max_x_min_u: 0.0\n"
       ]
      },
      {
       "output_type": "stream",
       "stream": "stdout",
       "text": [
        "\ttrain_h3_mean_x_max_u: 0.136964783072\n"
       ]
      },
      {
       "output_type": "stream",
       "stream": "stdout",
       "text": [
        "\ttrain_h3_mean_x_mean_u: 0.0360997207463\n"
       ]
      },
      {
       "output_type": "stream",
       "stream": "stdout",
       "text": [
        "\ttrain_h3_mean_x_min_u: 0.0\n"
       ]
      },
      {
       "output_type": "stream",
       "stream": "stdout",
       "text": [
        "\ttrain_h3_min_x_max_u: 0.0691854953766\n"
       ]
      },
      {
       "output_type": "stream",
       "stream": "stdout",
       "text": [
        "\ttrain_h3_min_x_mean_u: 0.0062083681114\n"
       ]
      },
      {
       "output_type": "stream",
       "stream": "stdout",
       "text": [
        "\ttrain_h3_min_x_min_u: 0.0\n"
       ]
      },
      {
       "output_type": "stream",
       "stream": "stdout",
       "text": [
        "\ttrain_h3_range_x_max_u: 0.209218487144\n"
       ]
      },
      {
       "output_type": "stream",
       "stream": "stdout",
       "text": [
        "\ttrain_h3_range_x_mean_u: 0.0871066451073\n"
       ]
      },
      {
       "output_type": "stream",
       "stream": "stdout",
       "text": [
        "\ttrain_h3_range_x_min_u: 0.0\n"
       ]
      },
      {
       "output_type": "stream",
       "stream": "stdout",
       "text": [
        "\ttrain_objective: 4.82959461212\n"
       ]
      },
      {
       "output_type": "stream",
       "stream": "stdout",
       "text": [
        "\ttrain_term_0: 4.80980443954\n"
       ]
      },
      {
       "output_type": "stream",
       "stream": "stdout",
       "text": [
        "\ttrain_term_1_weight_decay: 0.0197893548757\n"
       ]
      },
      {
       "output_type": "stream",
       "stream": "stdout",
       "text": [
        "\ttrain_y_col_norms_max: 1.68210041523\n"
       ]
      },
      {
       "output_type": "stream",
       "stream": "stdout",
       "text": [
        "\ttrain_y_col_norms_mean: 1.59696447849\n"
       ]
      },
      {
       "output_type": "stream",
       "stream": "stdout",
       "text": [
        "\ttrain_y_col_norms_min: 1.49965035915\n"
       ]
      },
      {
       "output_type": "stream",
       "stream": "stdout",
       "text": [
        "\ttrain_y_max_max_class: 0.0124720381573\n"
       ]
      },
      {
       "output_type": "stream",
       "stream": "stdout",
       "text": [
        "\ttrain_y_mean_max_class: 0.0106941908598\n"
       ]
      },
      {
       "output_type": "stream",
       "stream": "stdout",
       "text": [
        "\ttrain_y_min_max_class: 0.00921816378832\n"
       ]
      },
      {
       "output_type": "stream",
       "stream": "stdout",
       "text": [
        "\ttrain_y_misclass: 0.99516171217\n"
       ]
      },
      {
       "output_type": "stream",
       "stream": "stdout",
       "text": [
        "\ttrain_y_nll: 4.80980443954\n"
       ]
      },
      {
       "output_type": "stream",
       "stream": "stdout",
       "text": [
        "\ttrain_y_row_norms_max: 0.65601927042\n"
       ]
      },
      {
       "output_type": "stream",
       "stream": "stdout",
       "text": [
        "\ttrain_y_row_norms_mean: 0.548010587692\n"
       ]
      },
      {
       "output_type": "stream",
       "stream": "stdout",
       "text": [
        "\ttrain_y_row_norms_min: 0.452601999044\n"
       ]
      },
      {
       "output_type": "stream",
       "stream": "stdout",
       "text": [
        "\ttraining_seconds_this_epoch: 0.0\n"
       ]
      },
      {
       "output_type": "stream",
       "stream": "stdout",
       "text": [
        "\tvalid_h2_kernel_norms_max: 0.166489943862\n"
       ]
      },
      {
       "output_type": "stream",
       "stream": "stdout",
       "text": [
        "\tvalid_h2_kernel_norms_mean: 0.141213014722\n"
       ]
      },
      {
       "output_type": "stream",
       "stream": "stdout",
       "text": [
        "\tvalid_h2_kernel_norms_min: 0.121112823486\n"
       ]
      },
      {
       "output_type": "stream",
       "stream": "stdout",
       "text": [
        "\tvalid_h2_max_x_max_u: 0.231461822987\n"
       ]
      },
      {
       "output_type": "stream",
       "stream": "stdout",
       "text": [
        "\tvalid_h2_max_x_mean_u: 0.0838078409433\n"
       ]
      },
      {
       "output_type": "stream",
       "stream": "stdout",
       "text": [
        "\tvalid_h2_max_x_min_u: 0.00924499984831\n"
       ]
      },
      {
       "output_type": "stream",
       "stream": "stdout",
       "text": [
        "\tvalid_h2_mean_x_max_u: 0.0646394565701\n"
       ]
      },
      {
       "output_type": "stream",
       "stream": "stdout",
       "text": [
        "\tvalid_h2_mean_x_mean_u: 0.0184621345252\n"
       ]
      },
      {
       "output_type": "stream",
       "stream": "stdout",
       "text": [
        "\tvalid_h2_mean_x_min_u: 0.00179289048538\n"
       ]
      },
      {
       "output_type": "stream",
       "stream": "stdout",
       "text": [
        "\tvalid_h2_min_x_max_u: 0.00868680141866\n"
       ]
      },
      {
       "output_type": "stream",
       "stream": "stdout",
       "text": [
        "\tvalid_h2_min_x_mean_u: 0.000242207825067\n"
       ]
      },
      {
       "output_type": "stream",
       "stream": "stdout",
       "text": [
        "\tvalid_h2_min_x_min_u: 0.0\n"
       ]
      },
      {
       "output_type": "stream",
       "stream": "stdout",
       "text": [
        "\tvalid_h2_range_x_max_u: 0.231453925371\n"
       ]
      },
      {
       "output_type": "stream",
       "stream": "stdout",
       "text": [
        "\tvalid_h2_range_x_mean_u: 0.0835656300187\n"
       ]
      },
      {
       "output_type": "stream",
       "stream": "stdout",
       "text": [
        "\tvalid_h2_range_x_min_u: 0.0089343637228\n"
       ]
      },
      {
       "output_type": "stream",
       "stream": "stdout",
       "text": [
        "\tvalid_h3_kernel_norms_max: 1.1847370863\n"
       ]
      },
      {
       "output_type": "stream",
       "stream": "stdout",
       "text": [
        "\tvalid_h3_kernel_norms_mean: 1.1576333046\n"
       ]
      },
      {
       "output_type": "stream",
       "stream": "stdout",
       "text": [
        "\tvalid_h3_kernel_norms_min: 1.1253336668\n"
       ]
      },
      {
       "output_type": "stream",
       "stream": "stdout",
       "text": [
        "\tvalid_h3_max_x_max_u: 0.232176333666\n"
       ]
      },
      {
       "output_type": "stream",
       "stream": "stdout",
       "text": [
        "\tvalid_h3_max_x_mean_u: 0.0933707207441\n"
       ]
      },
      {
       "output_type": "stream",
       "stream": "stdout",
       "text": [
        "\tvalid_h3_max_x_min_u: 0.0\n"
       ]
      },
      {
       "output_type": "stream",
       "stream": "stdout",
       "text": [
        "\tvalid_h3_mean_x_max_u: 0.136620804667\n"
       ]
      },
      {
       "output_type": "stream",
       "stream": "stdout",
       "text": [
        "\tvalid_h3_mean_x_mean_u: 0.036112818867\n"
       ]
      },
      {
       "output_type": "stream",
       "stream": "stdout",
       "text": [
        "\tvalid_h3_mean_x_min_u: 0.0\n"
       ]
      },
      {
       "output_type": "stream",
       "stream": "stdout",
       "text": [
        "\tvalid_h3_min_x_max_u: 0.0698350667953\n"
       ]
      },
      {
       "output_type": "stream",
       "stream": "stdout",
       "text": [
        "\tvalid_h3_min_x_mean_u: 0.00620719976723\n"
       ]
      },
      {
       "output_type": "stream",
       "stream": "stdout",
       "text": [
        "\tvalid_h3_min_x_min_u: 0.0\n"
       ]
      },
      {
       "output_type": "stream",
       "stream": "stdout",
       "text": [
        "\tvalid_h3_range_x_max_u: 0.209386184812\n"
       ]
      },
      {
       "output_type": "stream",
       "stream": "stdout",
       "text": [
        "\tvalid_h3_range_x_mean_u: 0.087163515389\n"
       ]
      },
      {
       "output_type": "stream",
       "stream": "stdout",
       "text": [
        "\tvalid_h3_range_x_min_u: 0.0\n"
       ]
      },
      {
       "output_type": "stream",
       "stream": "stdout",
       "text": [
        "\tvalid_objective: 4.832716465\n"
       ]
      },
      {
       "output_type": "stream",
       "stream": "stdout",
       "text": [
        "\tvalid_term_0: 4.81292724609\n"
       ]
      },
      {
       "output_type": "stream",
       "stream": "stdout",
       "text": [
        "\tvalid_term_1_weight_decay: 0.0197893641889\n"
       ]
      },
      {
       "output_type": "stream",
       "stream": "stdout",
       "text": [
        "\tvalid_y_col_norms_max: 1.68209660053\n"
       ]
      },
      {
       "output_type": "stream",
       "stream": "stdout",
       "text": [
        "\tvalid_y_col_norms_mean: 1.59696483612\n"
       ]
      },
      {
       "output_type": "stream",
       "stream": "stdout",
       "text": [
        "\tvalid_y_col_norms_min: 1.49964654446\n"
       ]
      },
      {
       "output_type": "stream",
       "stream": "stdout",
       "text": [
        "\tvalid_y_max_max_class: 0.0125613780692\n"
       ]
      },
      {
       "output_type": "stream",
       "stream": "stdout",
       "text": [
        "\tvalid_y_mean_max_class: 0.0106917042285\n"
       ]
      },
      {
       "output_type": "stream",
       "stream": "stdout",
       "text": [
        "\tvalid_y_min_max_class: 0.00922353565693\n"
       ]
      },
      {
       "output_type": "stream",
       "stream": "stdout",
       "text": [
        "\tvalid_y_misclass: 0.996399819851\n"
       ]
      },
      {
       "output_type": "stream",
       "stream": "stdout",
       "text": [
        "\tvalid_y_nll: 4.81292724609\n"
       ]
      },
      {
       "output_type": "stream",
       "stream": "stdout",
       "text": [
        "\tvalid_y_row_norms_max: 0.656018793583\n"
       ]
      },
      {
       "output_type": "stream",
       "stream": "stdout",
       "text": [
        "\tvalid_y_row_norms_mean: 0.54801005125\n"
       ]
      },
      {
       "output_type": "stream",
       "stream": "stdout",
       "text": [
        "\tvalid_y_row_norms_min: 0.452603012323\n"
       ]
      },
      {
       "output_type": "stream",
       "stream": "stdout",
       "text": [
        "Saving to cnn_00_best.pkl...\n"
       ]
      },
      {
       "output_type": "stream",
       "stream": "stdout",
       "text": [
        "Saving to cnn_00_best.pkl done. Time elapsed: 0.115510 seconds\n"
       ]
      },
      {
       "output_type": "stream",
       "stream": "stdout",
       "text": [
        "Time this epoch: 0:15:08.411646\n"
       ]
      },
      {
       "output_type": "stream",
       "stream": "stdout",
       "text": [
        "Monitoring step:\n"
       ]
      },
      {
       "output_type": "stream",
       "stream": "stdout",
       "text": [
        "\tEpochs seen: 1\n"
       ]
      },
      {
       "output_type": "stream",
       "stream": "stdout",
       "text": [
        "\tBatches seen: 250\n"
       ]
      },
      {
       "output_type": "stream",
       "stream": "stdout",
       "text": [
        "\tExamples seen: 25000\n"
       ]
      },
      {
       "output_type": "stream",
       "stream": "stdout",
       "text": [
        "\tlearning_rate: 0.0100000035018\n"
       ]
      },
      {
       "output_type": "stream",
       "stream": "stdout",
       "text": [
        "\tmomentum: 0.500000655651\n"
       ]
      },
      {
       "output_type": "stream",
       "stream": "stdout",
       "text": [
        "\ttotal_seconds_last_epoch: 0.0\n"
       ]
      },
      {
       "output_type": "stream",
       "stream": "stdout",
       "text": [
        "\ttrain_h2_kernel_norms_max: 0.382892668247\n"
       ]
      },
      {
       "output_type": "stream",
       "stream": "stdout",
       "text": [
        "\ttrain_h2_kernel_norms_mean: 0.197622999549\n"
       ]
      },
      {
       "output_type": "stream",
       "stream": "stdout",
       "text": [
        "\ttrain_h2_kernel_norms_min: 0.115984670818\n"
       ]
      },
      {
       "output_type": "stream",
       "stream": "stdout",
       "text": [
        "\ttrain_h2_max_x_max_u: 1.32173359394\n"
       ]
      },
      {
       "output_type": "stream",
       "stream": "stdout",
       "text": [
        "\ttrain_h2_max_x_mean_u: 0.204541236162\n"
       ]
      },
      {
       "output_type": "stream",
       "stream": "stdout",
       "text": [
        "\ttrain_h2_max_x_min_u: 0.00930999498814\n"
       ]
      },
      {
       "output_type": "stream",
       "stream": "stdout",
       "text": [
        "\ttrain_h2_mean_x_max_u: 0.300178200006\n"
       ]
      },
      {
       "output_type": "stream",
       "stream": "stdout",
       "text": [
        "\ttrain_h2_mean_x_mean_u: 0.0441363379359\n"
       ]
      },
      {
       "output_type": "stream",
       "stream": "stdout",
       "text": [
        "\ttrain_h2_mean_x_min_u: 0.00220247358084\n"
       ]
      },
      {
       "output_type": "stream",
       "stream": "stdout",
       "text": [
        "\ttrain_h2_min_x_max_u: 0.0100132636726\n"
       ]
      },
      {
       "output_type": "stream",
       "stream": "stdout",
       "text": [
        "\ttrain_h2_min_x_mean_u: 0.000102642923594\n"
       ]
      },
      {
       "output_type": "stream",
       "stream": "stdout",
       "text": [
        "\ttrain_h2_min_x_min_u: 0.0\n"
       ]
      },
      {
       "output_type": "stream",
       "stream": "stdout",
       "text": [
        "\ttrain_h2_range_x_max_u: 1.32173359394\n"
       ]
      },
      {
       "output_type": "stream",
       "stream": "stdout",
       "text": [
        "\ttrain_h2_range_x_mean_u: 0.204438477755\n"
       ]
      },
      {
       "output_type": "stream",
       "stream": "stdout",
       "text": [
        "\ttrain_h2_range_x_min_u: 0.00913043506444\n"
       ]
      },
      {
       "output_type": "stream",
       "stream": "stdout",
       "text": [
        "\ttrain_h3_kernel_norms_max: 1.21632158756\n"
       ]
      },
      {
       "output_type": "stream",
       "stream": "stdout",
       "text": [
        "\ttrain_h3_kernel_norms_mean: 1.16652309895\n"
       ]
      },
      {
       "output_type": "stream",
       "stream": "stdout",
       "text": [
        "\ttrain_h3_kernel_norms_min: 1.133690238\n"
       ]
      },
      {
       "output_type": "stream",
       "stream": "stdout",
       "text": [
        "\ttrain_h3_max_x_max_u: 3.67561101913\n"
       ]
      },
      {
       "output_type": "stream",
       "stream": "stdout",
       "text": [
        "\ttrain_h3_max_x_mean_u: 0.762549877167\n"
       ]
      },
      {
       "output_type": "stream",
       "stream": "stdout",
       "text": [
        "\ttrain_h3_max_x_min_u: 0.0\n"
       ]
      },
      {
       "output_type": "stream",
       "stream": "stdout",
       "text": [
        "\ttrain_h3_mean_x_max_u: 1.26298868656\n"
       ]
      },
      {
       "output_type": "stream",
       "stream": "stdout",
       "text": [
        "\ttrain_h3_mean_x_mean_u: 0.298922181129\n"
       ]
      },
      {
       "output_type": "stream",
       "stream": "stdout",
       "text": [
        "\ttrain_h3_mean_x_min_u: 0.0\n"
       ]
      },
      {
       "output_type": "stream",
       "stream": "stdout",
       "text": [
        "\ttrain_h3_min_x_max_u: 0.600623071194\n"
       ]
      },
      {
       "output_type": "stream",
       "stream": "stdout",
       "text": [
        "\ttrain_h3_min_x_mean_u: 0.0482426658273\n"
       ]
      },
      {
       "output_type": "stream",
       "stream": "stdout",
       "text": [
        "\ttrain_h3_min_x_min_u: 0.0\n"
       ]
      },
      {
       "output_type": "stream",
       "stream": "stdout",
       "text": [
        "\ttrain_h3_range_x_max_u: 3.67516541481\n"
       ]
      },
      {
       "output_type": "stream",
       "stream": "stdout",
       "text": [
        "\ttrain_h3_range_x_mean_u: 0.714307129383\n"
       ]
      },
      {
       "output_type": "stream",
       "stream": "stdout",
       "text": [
        "\ttrain_h3_range_x_min_u: 0.0\n"
       ]
      },
      {
       "output_type": "stream",
       "stream": "stdout",
       "text": [
        "\ttrain_objective: 3.74505877495\n"
       ]
      },
      {
       "output_type": "stream",
       "stream": "stdout",
       "text": [
        "\ttrain_term_0: 3.72507071495\n"
       ]
      },
      {
       "output_type": "stream",
       "stream": "stdout",
       "text": [
        "\ttrain_term_1_weight_decay: 0.0199866853654\n"
       ]
      },
      {
       "output_type": "stream",
       "stream": "stdout",
       "text": [
        "\ttrain_y_col_norms_max: 1.69957506657\n"
       ]
      },
      {
       "output_type": "stream",
       "stream": "stdout",
       "text": [
        "\ttrain_y_col_norms_mean: 1.60017836094\n"
       ]
      },
      {
       "output_type": "stream",
       "stream": "stdout",
       "text": [
        "\ttrain_y_col_norms_min: 1.49943435192\n"
       ]
      },
      {
       "output_type": "stream",
       "stream": "stdout",
       "text": [
        "\ttrain_y_max_max_class: 0.707747280598\n"
       ]
      },
      {
       "output_type": "stream",
       "stream": "stdout",
       "text": [
        "\ttrain_y_mean_max_class: 0.132356107235\n"
       ]
      },
      {
       "output_type": "stream",
       "stream": "stdout",
       "text": [
        "\ttrain_y_min_max_class: 0.0363243669271\n"
       ]
      },
      {
       "output_type": "stream",
       "stream": "stdout",
       "text": [
        "\ttrain_y_misclass: 0.83339959383\n"
       ]
      },
      {
       "output_type": "stream",
       "stream": "stdout",
       "text": [
        "\ttrain_y_nll: 3.72507071495\n"
       ]
      },
      {
       "output_type": "stream",
       "stream": "stdout",
       "text": [
        "\ttrain_y_row_norms_max: 0.656317293644\n"
       ]
      },
      {
       "output_type": "stream",
       "stream": "stdout",
       "text": [
        "\ttrain_y_row_norms_mean: 0.54911416769\n"
       ]
      },
      {
       "output_type": "stream",
       "stream": "stdout",
       "text": [
        "\ttrain_y_row_norms_min: 0.453753590584\n"
       ]
      },
      {
       "output_type": "stream",
       "stream": "stdout",
       "text": [
        "\ttraining_seconds_this_epoch: 908.413330078\n"
       ]
      },
      {
       "output_type": "stream",
       "stream": "stdout",
       "text": [
        "\tvalid_h2_kernel_norms_max: 0.382892340422\n"
       ]
      },
      {
       "output_type": "stream",
       "stream": "stdout",
       "text": [
        "\tvalid_h2_kernel_norms_mean: 0.197623446584\n"
       ]
      },
      {
       "output_type": "stream",
       "stream": "stdout",
       "text": [
        "\tvalid_h2_kernel_norms_min: 0.115984402597\n"
       ]
      },
      {
       "output_type": "stream",
       "stream": "stdout",
       "text": [
        "\tvalid_h2_max_x_max_u: 1.32153213024\n"
       ]
      },
      {
       "output_type": "stream",
       "stream": "stdout",
       "text": [
        "\tvalid_h2_max_x_mean_u: 0.202661260962\n"
       ]
      },
      {
       "output_type": "stream",
       "stream": "stdout",
       "text": [
        "\tvalid_h2_max_x_min_u: 0.00942620728165\n"
       ]
      },
      {
       "output_type": "stream",
       "stream": "stdout",
       "text": [
        "\tvalid_h2_mean_x_max_u: 0.307085394859\n"
       ]
      },
      {
       "output_type": "stream",
       "stream": "stdout",
       "text": [
        "\tvalid_h2_mean_x_mean_u: 0.0439315773547\n"
       ]
      },
      {
       "output_type": "stream",
       "stream": "stdout",
       "text": [
        "\tvalid_h2_mean_x_min_u: 0.00205877493136\n"
       ]
      },
      {
       "output_type": "stream",
       "stream": "stdout",
       "text": [
        "\tvalid_h2_min_x_max_u: 0.0101157613099\n"
       ]
      },
      {
       "output_type": "stream",
       "stream": "stdout",
       "text": [
        "\tvalid_h2_min_x_mean_u: 0.000116876464745\n"
       ]
      },
      {
       "output_type": "stream",
       "stream": "stdout",
       "text": [
        "\tvalid_h2_min_x_min_u: 0.0\n"
       ]
      },
      {
       "output_type": "stream",
       "stream": "stdout",
       "text": [
        "\tvalid_h2_range_x_max_u: 1.32153213024\n"
       ]
      },
      {
       "output_type": "stream",
       "stream": "stdout",
       "text": [
        "\tvalid_h2_range_x_mean_u: 0.202544331551\n"
       ]
      },
      {
       "output_type": "stream",
       "stream": "stdout",
       "text": [
        "\tvalid_h2_range_x_min_u: 0.0089719677344\n"
       ]
      },
      {
       "output_type": "stream",
       "stream": "stdout",
       "text": [
        "\tvalid_h3_kernel_norms_max: 1.21631991863\n"
       ]
      },
      {
       "output_type": "stream",
       "stream": "stdout",
       "text": [
        "\tvalid_h3_kernel_norms_mean: 1.16652452946\n"
       ]
      },
      {
       "output_type": "stream",
       "stream": "stdout",
       "text": [
        "\tvalid_h3_kernel_norms_min: 1.13368844986\n"
       ]
      },
      {
       "output_type": "stream",
       "stream": "stdout",
       "text": [
        "\tvalid_h3_max_x_max_u: 3.64511156082\n"
       ]
      },
      {
       "output_type": "stream",
       "stream": "stdout",
       "text": [
        "\tvalid_h3_max_x_mean_u: 0.761608600616\n"
       ]
      },
      {
       "output_type": "stream",
       "stream": "stdout",
       "text": [
        "\tvalid_h3_max_x_min_u: 0.0\n"
       ]
      },
      {
       "output_type": "stream",
       "stream": "stdout",
       "text": [
        "\tvalid_h3_mean_x_max_u: 1.27614569664\n"
       ]
      },
      {
       "output_type": "stream",
       "stream": "stdout",
       "text": [
        "\tvalid_h3_mean_x_mean_u: 0.299201011658\n"
       ]
      },
      {
       "output_type": "stream",
       "stream": "stdout",
       "text": [
        "\tvalid_h3_mean_x_min_u: 0.0\n"
       ]
      },
      {
       "output_type": "stream",
       "stream": "stdout",
       "text": [
        "\tvalid_h3_min_x_max_u: 0.598585128784\n"
       ]
      },
      {
       "output_type": "stream",
       "stream": "stdout",
       "text": [
        "\tvalid_h3_min_x_mean_u: 0.0478820875287\n"
       ]
      },
      {
       "output_type": "stream",
       "stream": "stdout",
       "text": [
        "\tvalid_h3_min_x_min_u: 0.0\n"
       ]
      },
      {
       "output_type": "stream",
       "stream": "stdout",
       "text": [
        "\tvalid_h3_range_x_max_u: 3.64509081841\n"
       ]
      },
      {
       "output_type": "stream",
       "stream": "stdout",
       "text": [
        "\tvalid_h3_range_x_mean_u: 0.713726758957\n"
       ]
      },
      {
       "output_type": "stream",
       "stream": "stdout",
       "text": [
        "\tvalid_h3_range_x_min_u: 0.0\n"
       ]
      },
      {
       "output_type": "stream",
       "stream": "stdout",
       "text": [
        "\tvalid_objective: 3.72951316833\n"
       ]
      },
      {
       "output_type": "stream",
       "stream": "stdout",
       "text": [
        "\tvalid_term_0: 3.70952749252\n"
       ]
      },
      {
       "output_type": "stream",
       "stream": "stdout",
       "text": [
        "\tvalid_term_1_weight_decay: 0.0199867393821\n"
       ]
      },
      {
       "output_type": "stream",
       "stream": "stdout",
       "text": [
        "\tvalid_y_col_norms_max: 1.69957876205\n"
       ]
      },
      {
       "output_type": "stream",
       "stream": "stdout",
       "text": [
        "\tvalid_y_col_norms_mean: 1.60018217564\n"
       ]
      },
      {
       "output_type": "stream",
       "stream": "stdout",
       "text": [
        "\tvalid_y_col_norms_min: 1.49943065643\n"
       ]
      },
      {
       "output_type": "stream",
       "stream": "stdout",
       "text": [
        "\tvalid_y_max_max_class: 0.717231035233\n"
       ]
      },
      {
       "output_type": "stream",
       "stream": "stdout",
       "text": [
        "\tvalid_y_mean_max_class: 0.134148165584\n"
       ]
      },
      {
       "output_type": "stream",
       "stream": "stdout",
       "text": [
        "\tvalid_y_min_max_class: 0.0353845059872\n"
       ]
      },
      {
       "output_type": "stream",
       "stream": "stdout",
       "text": [
        "\tvalid_y_misclass: 0.830399870872\n"
       ]
      },
      {
       "output_type": "stream",
       "stream": "stdout",
       "text": [
        "\tvalid_y_nll: 3.70952749252\n"
       ]
      },
      {
       "output_type": "stream",
       "stream": "stdout",
       "text": [
        "\tvalid_y_row_norms_max: 0.656316816807\n"
       ]
      },
      {
       "output_type": "stream",
       "stream": "stdout",
       "text": [
        "\tvalid_y_row_norms_mean: 0.549113631248\n"
       ]
      },
      {
       "output_type": "stream",
       "stream": "stdout",
       "text": [
        "\tvalid_y_row_norms_min: 0.453752398491\n"
       ]
      },
      {
       "output_type": "stream",
       "stream": "stdout",
       "text": [
        "Saving to cnn_00_best.pkl...\n"
       ]
      },
      {
       "output_type": "stream",
       "stream": "stdout",
       "text": [
        "Saving to cnn_00_best.pkl done. Time elapsed: 0.104482 seconds\n"
       ]
      },
      {
       "output_type": "stream",
       "stream": "stdout",
       "text": [
        "Time this epoch: 0:15:05.437317\n"
       ]
      },
      {
       "output_type": "stream",
       "stream": "stdout",
       "text": [
        "Monitoring step:\n"
       ]
      },
      {
       "output_type": "stream",
       "stream": "stdout",
       "text": [
        "\tEpochs seen: 2\n"
       ]
      },
      {
       "output_type": "stream",
       "stream": "stdout",
       "text": [
        "\tBatches seen: 500\n"
       ]
      },
      {
       "output_type": "stream",
       "stream": "stdout",
       "text": [
        "\tExamples seen: 50000\n"
       ]
      },
      {
       "output_type": "stream",
       "stream": "stdout",
       "text": [
        "\tlearning_rate: 0.0100000035018\n"
       ]
      },
      {
       "output_type": "stream",
       "stream": "stdout",
       "text": [
        "\tmomentum: 0.554443657398\n"
       ]
      },
      {
       "output_type": "stream",
       "stream": "stdout",
       "text": [
        "\ttotal_seconds_last_epoch: 1124.90576172\n"
       ]
      },
      {
       "output_type": "stream",
       "stream": "stdout",
       "text": [
        "\ttrain_h2_kernel_norms_max: 0.630850791931\n"
       ]
      },
      {
       "output_type": "stream",
       "stream": "stdout",
       "text": [
        "\ttrain_h2_kernel_norms_mean: 0.258593887091\n"
       ]
      },
      {
       "output_type": "stream",
       "stream": "stdout",
       "text": [
        "\ttrain_h2_kernel_norms_min: 0.138575792313\n"
       ]
      },
      {
       "output_type": "stream",
       "stream": "stdout",
       "text": [
        "\ttrain_h2_max_x_max_u: 2.27710556984\n"
       ]
      },
      {
       "output_type": "stream",
       "stream": "stdout",
       "text": [
        "\ttrain_h2_max_x_mean_u: 0.333863675594\n"
       ]
      },
      {
       "output_type": "stream",
       "stream": "stdout",
       "text": [
        "\ttrain_h2_max_x_min_u: 0.00975674204528\n"
       ]
      },
      {
       "output_type": "stream",
       "stream": "stdout",
       "text": [
        "\ttrain_h2_mean_x_max_u: 0.516988992691\n"
       ]
      },
      {
       "output_type": "stream",
       "stream": "stdout",
       "text": [
        "\ttrain_h2_mean_x_mean_u: 0.0653207227588\n"
       ]
      },
      {
       "output_type": "stream",
       "stream": "stdout",
       "text": [
        "\ttrain_h2_mean_x_min_u: 0.00278992531821\n"
       ]
      },
      {
       "output_type": "stream",
       "stream": "stdout",
       "text": [
        "\ttrain_h2_min_x_max_u: 0.0120381349698\n"
       ]
      },
      {
       "output_type": "stream",
       "stream": "stdout",
       "text": [
        "\ttrain_h2_min_x_mean_u: 9.32006078074e-05\n"
       ]
      },
      {
       "output_type": "stream",
       "stream": "stdout",
       "text": [
        "\ttrain_h2_min_x_min_u: 0.0\n"
       ]
      },
      {
       "output_type": "stream",
       "stream": "stdout",
       "text": [
        "\ttrain_h2_range_x_max_u: 2.27710556984\n"
       ]
      },
      {
       "output_type": "stream",
       "stream": "stdout",
       "text": [
        "\ttrain_h2_range_x_mean_u: 0.333770602942\n"
       ]
      },
      {
       "output_type": "stream",
       "stream": "stdout",
       "text": [
        "\ttrain_h2_range_x_min_u: 0.00956645142287\n"
       ]
      },
      {
       "output_type": "stream",
       "stream": "stdout",
       "text": [
        "\ttrain_h3_kernel_norms_max: 1.26122248173\n"
       ]
      },
      {
       "output_type": "stream",
       "stream": "stdout",
       "text": [
        "\ttrain_h3_kernel_norms_mean: 1.18100941181\n"
       ]
      },
      {
       "output_type": "stream",
       "stream": "stdout",
       "text": [
        "\ttrain_h3_kernel_norms_min: 1.14109802246\n"
       ]
      },
      {
       "output_type": "stream",
       "stream": "stdout",
       "text": [
        "\ttrain_h3_max_x_max_u: 7.71744632721\n"
       ]
      },
      {
       "output_type": "stream",
       "stream": "stdout",
       "text": [
        "\ttrain_h3_max_x_mean_u: 1.75477528572\n"
       ]
      },
      {
       "output_type": "stream",
       "stream": "stdout",
       "text": [
        "\ttrain_h3_max_x_min_u: 0.0\n"
       ]
      },
      {
       "output_type": "stream",
       "stream": "stdout",
       "text": [
        "\ttrain_h3_mean_x_max_u: 2.73775053024\n"
       ]
      },
      {
       "output_type": "stream",
       "stream": "stdout",
       "text": [
        "\ttrain_h3_mean_x_mean_u: 0.611721038818\n"
       ]
      },
      {
       "output_type": "stream",
       "stream": "stdout",
       "text": [
        "\ttrain_h3_mean_x_min_u: 0.0\n"
       ]
      },
      {
       "output_type": "stream",
       "stream": "stdout",
       "text": [
        "\ttrain_h3_min_x_max_u: 0.664613306522\n"
       ]
      },
      {
       "output_type": "stream",
       "stream": "stdout",
       "text": [
        "\ttrain_h3_min_x_mean_u: 0.0510991439223\n"
       ]
      },
      {
       "output_type": "stream",
       "stream": "stdout",
       "text": [
        "\ttrain_h3_min_x_min_u: 0.0\n"
       ]
      },
      {
       "output_type": "stream",
       "stream": "stdout",
       "text": [
        "\ttrain_h3_range_x_max_u: 7.71721887589\n"
       ]
      },
      {
       "output_type": "stream",
       "stream": "stdout",
       "text": [
        "\ttrain_h3_range_x_mean_u: 1.70367574692\n"
       ]
      },
      {
       "output_type": "stream",
       "stream": "stdout",
       "text": [
        "\ttrain_h3_range_x_min_u: 0.0\n"
       ]
      },
      {
       "output_type": "stream",
       "stream": "stdout",
       "text": [
        "\ttrain_objective: 3.15317416191\n"
       ]
      },
      {
       "output_type": "stream",
       "stream": "stdout",
       "text": [
        "\ttrain_term_0: 3.1328394413\n"
       ]
      },
      {
       "output_type": "stream",
       "stream": "stdout",
       "text": [
        "\ttrain_term_1_weight_decay: 0.0203343201429\n"
       ]
      },
      {
       "output_type": "stream",
       "stream": "stdout",
       "text": [
        "\ttrain_y_col_norms_max: 1.76051461697\n"
       ]
      },
      {
       "output_type": "stream",
       "stream": "stdout",
       "text": [
        "\ttrain_y_col_norms_mean: 1.60676050186\n"
       ]
      },
      {
       "output_type": "stream",
       "stream": "stdout",
       "text": [
        "\ttrain_y_col_norms_min: 1.50374341011\n"
       ]
      },
      {
       "output_type": "stream",
       "stream": "stdout",
       "text": [
        "\ttrain_y_max_max_class: 0.919582605362\n"
       ]
      },
      {
       "output_type": "stream",
       "stream": "stdout",
       "text": [
        "\ttrain_y_mean_max_class: 0.222954794765\n"
       ]
      },
      {
       "output_type": "stream",
       "stream": "stdout",
       "text": [
        "\ttrain_y_min_max_class: 0.047393374145\n"
       ]
      },
      {
       "output_type": "stream",
       "stream": "stdout",
       "text": [
        "\ttrain_y_misclass: 0.7459602952\n"
       ]
      },
      {
       "output_type": "stream",
       "stream": "stdout",
       "text": [
        "\ttrain_y_nll: 3.1328394413\n"
       ]
      },
      {
       "output_type": "stream",
       "stream": "stdout",
       "text": [
        "\ttrain_y_row_norms_max: 0.657557070255\n"
       ]
      },
      {
       "output_type": "stream",
       "stream": "stdout",
       "text": [
        "\ttrain_y_row_norms_mean: 0.551392793655\n"
       ]
      },
      {
       "output_type": "stream",
       "stream": "stdout",
       "text": [
        "\ttrain_y_row_norms_min: 0.453598767519\n"
       ]
      },
      {
       "output_type": "stream",
       "stream": "stdout",
       "text": [
        "\ttraining_seconds_this_epoch: 905.438049316\n"
       ]
      },
      {
       "output_type": "stream",
       "stream": "stdout",
       "text": [
        "\tvalid_h2_kernel_norms_max: 0.630849838257\n"
       ]
      },
      {
       "output_type": "stream",
       "stream": "stdout",
       "text": [
        "\tvalid_h2_kernel_norms_mean: 0.258593201637\n"
       ]
      },
      {
       "output_type": "stream",
       "stream": "stdout",
       "text": [
        "\tvalid_h2_kernel_norms_min: 0.138575911522\n"
       ]
      },
      {
       "output_type": "stream",
       "stream": "stdout",
       "text": [
        "\tvalid_h2_max_x_max_u: 2.27451014519\n"
       ]
      },
      {
       "output_type": "stream",
       "stream": "stdout",
       "text": [
        "\tvalid_h2_max_x_mean_u: 0.330896943808\n"
       ]
      },
      {
       "output_type": "stream",
       "stream": "stdout",
       "text": [
        "\tvalid_h2_max_x_min_u: 0.00961862504482\n"
       ]
      },
      {
       "output_type": "stream",
       "stream": "stdout",
       "text": [
        "\tvalid_h2_mean_x_max_u: 0.528566002846\n"
       ]
      },
      {
       "output_type": "stream",
       "stream": "stdout",
       "text": [
        "\tvalid_h2_mean_x_mean_u: 0.0650903210044\n"
       ]
      },
      {
       "output_type": "stream",
       "stream": "stdout",
       "text": [
        "\tvalid_h2_mean_x_min_u: 0.00251196906902\n"
       ]
      },
      {
       "output_type": "stream",
       "stream": "stdout",
       "text": [
        "\tvalid_h2_min_x_max_u: 0.0120249856263\n"
       ]
      },
      {
       "output_type": "stream",
       "stream": "stdout",
       "text": [
        "\tvalid_h2_min_x_mean_u: 0.000104033490061\n"
       ]
      },
      {
       "output_type": "stream",
       "stream": "stdout",
       "text": [
        "\tvalid_h2_min_x_min_u: 0.0\n"
       ]
      },
      {
       "output_type": "stream",
       "stream": "stdout",
       "text": [
        "\tvalid_h2_range_x_max_u: 2.27451014519\n"
       ]
      },
      {
       "output_type": "stream",
       "stream": "stdout",
       "text": [
        "\tvalid_h2_range_x_mean_u: 0.330792933702\n"
       ]
      },
      {
       "output_type": "stream",
       "stream": "stdout",
       "text": [
        "\tvalid_h2_range_x_min_u: 0.00931570492685\n"
       ]
      },
      {
       "output_type": "stream",
       "stream": "stdout",
       "text": [
        "\tvalid_h3_kernel_norms_max: 1.26122021675\n"
       ]
      },
      {
       "output_type": "stream",
       "stream": "stdout",
       "text": [
        "\tvalid_h3_kernel_norms_mean: 1.18101251125\n"
       ]
      },
      {
       "output_type": "stream",
       "stream": "stdout",
       "text": [
        "\tvalid_h3_kernel_norms_min: 1.14109528065\n"
       ]
      },
      {
       "output_type": "stream",
       "stream": "stdout",
       "text": [
        "\tvalid_h3_max_x_max_u: 7.64018678665\n"
       ]
      },
      {
       "output_type": "stream",
       "stream": "stdout",
       "text": [
        "\tvalid_h3_max_x_mean_u: 1.7511305809\n"
       ]
      },
      {
       "output_type": "stream",
       "stream": "stdout",
       "text": [
        "\tvalid_h3_max_x_min_u: 0.0\n"
       ]
      },
      {
       "output_type": "stream",
       "stream": "stdout",
       "text": [
        "\tvalid_h3_mean_x_max_u: 2.77253627777\n"
       ]
      },
      {
       "output_type": "stream",
       "stream": "stdout",
       "text": [
        "\tvalid_h3_mean_x_mean_u: 0.613690376282\n"
       ]
      },
      {
       "output_type": "stream",
       "stream": "stdout",
       "text": [
        "\tvalid_h3_mean_x_min_u: 0.0\n"
       ]
      },
      {
       "output_type": "stream",
       "stream": "stdout",
       "text": [
        "\tvalid_h3_min_x_max_u: 0.678521871567\n"
       ]
      },
      {
       "output_type": "stream",
       "stream": "stdout",
       "text": [
        "\tvalid_h3_min_x_mean_u: 0.0512519031763\n"
       ]
      },
      {
       "output_type": "stream",
       "stream": "stdout",
       "text": [
        "\tvalid_h3_min_x_min_u: 0.0\n"
       ]
      },
      {
       "output_type": "stream",
       "stream": "stdout",
       "text": [
        "\tvalid_h3_range_x_max_u: 7.64018678665\n"
       ]
      },
      {
       "output_type": "stream",
       "stream": "stdout",
       "text": [
        "\tvalid_h3_range_x_mean_u: 1.69987869263\n"
       ]
      },
      {
       "output_type": "stream",
       "stream": "stdout",
       "text": [
        "\tvalid_h3_range_x_min_u: 0.0\n"
       ]
      },
      {
       "output_type": "stream",
       "stream": "stdout",
       "text": [
        "\tvalid_objective: 3.14824914932\n"
       ]
      },
      {
       "output_type": "stream",
       "stream": "stdout",
       "text": [
        "\tvalid_term_0: 3.12791442871\n"
       ]
      },
      {
       "output_type": "stream",
       "stream": "stdout",
       "text": [
        "\tvalid_term_1_weight_decay: 0.0203343015164\n"
       ]
      },
      {
       "output_type": "stream",
       "stream": "stdout",
       "text": [
        "\tvalid_y_col_norms_max: 1.76051855087\n"
       ]
      },
      {
       "output_type": "stream",
       "stream": "stdout",
       "text": [
        "\tvalid_y_col_norms_mean: 1.60675692558\n"
       ]
      },
      {
       "output_type": "stream",
       "stream": "stdout",
       "text": [
        "\tvalid_y_col_norms_min: 1.50374364853\n"
       ]
      },
      {
       "output_type": "stream",
       "stream": "stdout",
       "text": [
        "\tvalid_y_max_max_class: 0.921542882919\n"
       ]
      },
      {
       "output_type": "stream",
       "stream": "stdout",
       "text": [
        "\tvalid_y_mean_max_class: 0.224926203489\n"
       ]
      },
      {
       "output_type": "stream",
       "stream": "stdout",
       "text": [
        "\tvalid_y_min_max_class: 0.0477188155055\n"
       ]
      },
      {
       "output_type": "stream",
       "stream": "stdout",
       "text": [
        "\tvalid_y_misclass: 0.735000014305\n"
       ]
      },
      {
       "output_type": "stream",
       "stream": "stdout",
       "text": [
        "\tvalid_y_nll: 3.12791442871\n"
       ]
      },
      {
       "output_type": "stream",
       "stream": "stdout",
       "text": [
        "\tvalid_y_row_norms_max: 0.657555401325\n"
       ]
      },
      {
       "output_type": "stream",
       "stream": "stdout",
       "text": [
        "\tvalid_y_row_norms_mean: 0.55139195919\n"
       ]
      },
      {
       "output_type": "stream",
       "stream": "stdout",
       "text": [
        "\tvalid_y_row_norms_min: 0.453598767519\n"
       ]
      },
      {
       "output_type": "stream",
       "stream": "stdout",
       "text": [
        "Saving to cnn_00_best.pkl...\n"
       ]
      },
      {
       "output_type": "stream",
       "stream": "stdout",
       "text": [
        "Saving to cnn_00_best.pkl done. Time elapsed: 0.104202 seconds\n"
       ]
      },
      {
       "output_type": "stream",
       "stream": "stdout",
       "text": [
        "Time this epoch: 0:15:04.941725\n"
       ]
      },
      {
       "output_type": "stream",
       "stream": "stdout",
       "text": [
        "Monitoring step:\n"
       ]
      },
      {
       "output_type": "stream",
       "stream": "stdout",
       "text": [
        "\tEpochs seen: 3\n"
       ]
      },
      {
       "output_type": "stream",
       "stream": "stdout",
       "text": [
        "\tBatches seen: 750\n"
       ]
      },
      {
       "output_type": "stream",
       "stream": "stdout",
       "text": [
        "\tExamples seen: 75000\n"
       ]
      },
      {
       "output_type": "stream",
       "stream": "stdout",
       "text": [
        "\tlearning_rate: 0.0100000035018\n"
       ]
      },
      {
       "output_type": "stream",
       "stream": "stdout",
       "text": [
        "\tmomentum: 0.608889997005\n"
       ]
      },
      {
       "output_type": "stream",
       "stream": "stdout",
       "text": [
        "\ttotal_seconds_last_epoch: 1121.82263184\n"
       ]
      },
      {
       "output_type": "stream",
       "stream": "stdout",
       "text": [
        "\ttrain_h2_kernel_norms_max: 0.766966462135\n"
       ]
      },
      {
       "output_type": "stream",
       "stream": "stdout",
       "text": [
        "\ttrain_h2_kernel_norms_mean: 0.3035171628\n"
       ]
      },
      {
       "output_type": "stream",
       "stream": "stdout",
       "text": [
        "\ttrain_h2_kernel_norms_min: 0.168583959341\n"
       ]
      },
      {
       "output_type": "stream",
       "stream": "stdout",
       "text": [
        "\ttrain_h2_max_x_max_u: 2.73505377769\n"
       ]
      },
      {
       "output_type": "stream",
       "stream": "stdout",
       "text": [
        "\ttrain_h2_max_x_mean_u: 0.407002478838\n"
       ]
      },
      {
       "output_type": "stream",
       "stream": "stdout",
       "text": [
        "\ttrain_h2_max_x_min_u: 0.00968629773706\n"
       ]
      },
      {
       "output_type": "stream",
       "stream": "stdout",
       "text": [
        "\ttrain_h2_mean_x_max_u: 0.627164363861\n"
       ]
      },
      {
       "output_type": "stream",
       "stream": "stdout",
       "text": [
        "\ttrain_h2_mean_x_mean_u: 0.0776365175843\n"
       ]
      },
      {
       "output_type": "stream",
       "stream": "stdout",
       "text": [
        "\ttrain_h2_mean_x_min_u: 0.00322667579167\n"
       ]
      },
      {
       "output_type": "stream",
       "stream": "stdout",
       "text": [
        "\ttrain_h2_min_x_max_u: 0.0145158106461\n"
       ]
      },
      {
       "output_type": "stream",
       "stream": "stdout",
       "text": [
        "\ttrain_h2_min_x_mean_u: 9.65491999523e-05\n"
       ]
      },
      {
       "output_type": "stream",
       "stream": "stdout",
       "text": [
        "\ttrain_h2_min_x_min_u: 0.0\n"
       ]
      },
      {
       "output_type": "stream",
       "stream": "stdout",
       "text": [
        "\ttrain_h2_range_x_max_u: 2.73505377769\n"
       ]
      },
      {
       "output_type": "stream",
       "stream": "stdout",
       "text": [
        "\ttrain_h2_range_x_mean_u: 0.406905889511\n"
       ]
      },
      {
       "output_type": "stream",
       "stream": "stdout",
       "text": [
        "\ttrain_h2_range_x_min_u: 0.00951332040131\n"
       ]
      },
      {
       "output_type": "stream",
       "stream": "stdout",
       "text": [
        "\ttrain_h3_kernel_norms_max: 1.29822766781\n"
       ]
      },
      {
       "output_type": "stream",
       "stream": "stdout",
       "text": [
        "\ttrain_h3_kernel_norms_mean: 1.19478523731\n"
       ]
      },
      {
       "output_type": "stream",
       "stream": "stdout",
       "text": [
        "\ttrain_h3_kernel_norms_min: 1.14667165279\n"
       ]
      },
      {
       "output_type": "stream",
       "stream": "stdout",
       "text": [
        "\ttrain_h3_max_x_max_u: 8.85075473785\n"
       ]
      },
      {
       "output_type": "stream",
       "stream": "stdout",
       "text": [
        "\ttrain_h3_max_x_mean_u: 2.24537539482\n"
       ]
      },
      {
       "output_type": "stream",
       "stream": "stdout",
       "text": [
        "\ttrain_h3_max_x_min_u: 0.0\n"
       ]
      },
      {
       "output_type": "stream",
       "stream": "stdout",
       "text": [
        "\ttrain_h3_mean_x_max_u: 3.32590007782\n"
       ]
      },
      {
       "output_type": "stream",
       "stream": "stdout",
       "text": [
        "\ttrain_h3_mean_x_mean_u: 0.744891166687\n"
       ]
      },
      {
       "output_type": "stream",
       "stream": "stdout",
       "text": [
        "\ttrain_h3_mean_x_min_u: 0.0\n"
       ]
      },
      {
       "output_type": "stream",
       "stream": "stdout",
       "text": [
        "\ttrain_h3_min_x_max_u: 0.665154218674\n"
       ]
      },
      {
       "output_type": "stream",
       "stream": "stdout",
       "text": [
        "\ttrain_h3_min_x_mean_u: 0.037604726851\n"
       ]
      },
      {
       "output_type": "stream",
       "stream": "stdout",
       "text": [
        "\ttrain_h3_min_x_min_u: 0.0\n"
       ]
      },
      {
       "output_type": "stream",
       "stream": "stdout",
       "text": [
        "\ttrain_h3_range_x_max_u: 8.85070419312\n"
       ]
      },
      {
       "output_type": "stream",
       "stream": "stdout",
       "text": [
        "\ttrain_h3_range_x_mean_u: 2.20777058601\n"
       ]
      },
      {
       "output_type": "stream",
       "stream": "stdout",
       "text": [
        "\ttrain_h3_range_x_min_u: 0.0\n"
       ]
      },
      {
       "output_type": "stream",
       "stream": "stdout",
       "text": [
        "\ttrain_objective: 2.81943821907\n"
       ]
      },
      {
       "output_type": "stream",
       "stream": "stdout",
       "text": [
        "\ttrain_term_0: 2.7987306118\n"
       ]
      },
      {
       "output_type": "stream",
       "stream": "stdout",
       "text": [
        "\ttrain_term_1_weight_decay: 0.0207087155432\n"
       ]
      },
      {
       "output_type": "stream",
       "stream": "stdout",
       "text": [
        "\ttrain_y_col_norms_max: 1.80155086517\n"
       ]
      },
      {
       "output_type": "stream",
       "stream": "stdout",
       "text": [
        "\ttrain_y_col_norms_mean: 1.61529493332\n"
       ]
      },
      {
       "output_type": "stream",
       "stream": "stdout",
       "text": [
        "\ttrain_y_col_norms_min: 1.50763237476\n"
       ]
      },
      {
       "output_type": "stream",
       "stream": "stdout",
       "text": [
        "\ttrain_y_max_max_class: 0.885163903236\n"
       ]
      },
      {
       "output_type": "stream",
       "stream": "stdout",
       "text": [
        "\ttrain_y_mean_max_class: 0.267598986626\n"
       ]
      },
      {
       "output_type": "stream",
       "stream": "stdout",
       "text": [
        "\ttrain_y_min_max_class: 0.0542840212584\n"
       ]
      },
      {
       "output_type": "stream",
       "stream": "stdout",
       "text": [
        "\ttrain_y_misclass: 0.672680079937\n"
       ]
      },
      {
       "output_type": "stream",
       "stream": "stdout",
       "text": [
        "\ttrain_y_nll: 2.7987306118\n"
       ]
      },
      {
       "output_type": "stream",
       "stream": "stdout",
       "text": [
        "\ttrain_y_row_norms_max: 0.660359919071\n"
       ]
      },
      {
       "output_type": "stream",
       "stream": "stdout",
       "text": [
        "\ttrain_y_row_norms_mean: 0.554339706898\n"
       ]
      },
      {
       "output_type": "stream",
       "stream": "stdout",
       "text": [
        "\ttrain_y_row_norms_min: 0.454112946987\n"
       ]
      },
      {
       "output_type": "stream",
       "stream": "stdout",
       "text": [
        "\ttraining_seconds_this_epoch: 904.940979004\n"
       ]
      },
      {
       "output_type": "stream",
       "stream": "stdout",
       "text": [
        "\tvalid_h2_kernel_norms_max: 0.766966700554\n"
       ]
      },
      {
       "output_type": "stream",
       "stream": "stdout",
       "text": [
        "\tvalid_h2_kernel_norms_mean: 0.303517252207\n"
       ]
      },
      {
       "output_type": "stream",
       "stream": "stdout",
       "text": [
        "\tvalid_h2_kernel_norms_min: 0.168583527207\n"
       ]
      },
      {
       "output_type": "stream",
       "stream": "stdout",
       "text": [
        "\tvalid_h2_max_x_max_u: 2.73102664948\n"
       ]
      },
      {
       "output_type": "stream",
       "stream": "stdout",
       "text": [
        "\tvalid_h2_max_x_mean_u: 0.403562098742\n"
       ]
      },
      {
       "output_type": "stream",
       "stream": "stdout",
       "text": [
        "\tvalid_h2_max_x_min_u: 0.00933499354869\n"
       ]
      },
      {
       "output_type": "stream",
       "stream": "stdout",
       "text": [
        "\tvalid_h2_mean_x_max_u: 0.641381978989\n"
       ]
      },
      {
       "output_type": "stream",
       "stream": "stdout",
       "text": [
        "\tvalid_h2_mean_x_mean_u: 0.0773726701736\n"
       ]
      },
      {
       "output_type": "stream",
       "stream": "stdout",
       "text": [
        "\tvalid_h2_mean_x_min_u: 0.00293728453107\n"
       ]
      },
      {
       "output_type": "stream",
       "stream": "stdout",
       "text": [
        "\tvalid_h2_min_x_max_u: 0.0139926644042\n"
       ]
      },
      {
       "output_type": "stream",
       "stream": "stdout",
       "text": [
        "\tvalid_h2_min_x_mean_u: 0.000106412131572\n"
       ]
      },
      {
       "output_type": "stream",
       "stream": "stdout",
       "text": [
        "\tvalid_h2_min_x_min_u: 0.0\n"
       ]
      },
      {
       "output_type": "stream",
       "stream": "stdout",
       "text": [
        "\tvalid_h2_range_x_max_u: 2.73102664948\n"
       ]
      },
      {
       "output_type": "stream",
       "stream": "stdout",
       "text": [
        "\tvalid_h2_range_x_mean_u: 0.403455644846\n"
       ]
      },
      {
       "output_type": "stream",
       "stream": "stdout",
       "text": [
        "\tvalid_h2_range_x_min_u: 0.00908455252647\n"
       ]
      },
      {
       "output_type": "stream",
       "stream": "stdout",
       "text": [
        "\tvalid_h3_kernel_norms_max: 1.29822707176\n"
       ]
      },
      {
       "output_type": "stream",
       "stream": "stdout",
       "text": [
        "\tvalid_h3_kernel_norms_mean: 1.19478642941\n"
       ]
      },
      {
       "output_type": "stream",
       "stream": "stdout",
       "text": [
        "\tvalid_h3_kernel_norms_min: 1.14666879177\n"
       ]
      },
      {
       "output_type": "stream",
       "stream": "stdout",
       "text": [
        "\tvalid_h3_max_x_max_u: 8.76539516449\n"
       ]
      },
      {
       "output_type": "stream",
       "stream": "stdout",
       "text": [
        "\tvalid_h3_max_x_mean_u: 2.24305820465\n"
       ]
      },
      {
       "output_type": "stream",
       "stream": "stdout",
       "text": [
        "\tvalid_h3_max_x_min_u: 0.0\n"
       ]
      },
      {
       "output_type": "stream",
       "stream": "stdout",
       "text": [
        "\tvalid_h3_mean_x_max_u: 3.36326622963\n"
       ]
      },
      {
       "output_type": "stream",
       "stream": "stdout",
       "text": [
        "\tvalid_h3_mean_x_mean_u: 0.747619748116\n"
       ]
      },
      {
       "output_type": "stream",
       "stream": "stdout",
       "text": [
        "\tvalid_h3_mean_x_min_u: 0.0\n"
       ]
      },
      {
       "output_type": "stream",
       "stream": "stdout",
       "text": [
        "\tvalid_h3_min_x_max_u: 0.671523272991\n"
       ]
      },
      {
       "output_type": "stream",
       "stream": "stdout",
       "text": [
        "\tvalid_h3_min_x_mean_u: 0.0379304029047\n"
       ]
      },
      {
       "output_type": "stream",
       "stream": "stdout",
       "text": [
        "\tvalid_h3_min_x_min_u: 0.0\n"
       ]
      },
      {
       "output_type": "stream",
       "stream": "stdout",
       "text": [
        "\tvalid_h3_range_x_max_u: 8.76539516449\n"
       ]
      },
      {
       "output_type": "stream",
       "stream": "stdout",
       "text": [
        "\tvalid_h3_range_x_mean_u: 2.20512723923\n"
       ]
      },
      {
       "output_type": "stream",
       "stream": "stdout",
       "text": [
        "\tvalid_h3_range_x_min_u: 0.0\n"
       ]
      },
      {
       "output_type": "stream",
       "stream": "stdout",
       "text": [
        "\tvalid_objective: 2.82663297653\n"
       ]
      },
      {
       "output_type": "stream",
       "stream": "stdout",
       "text": [
        "\tvalid_term_0: 2.80592393875\n"
       ]
      },
      {
       "output_type": "stream",
       "stream": "stdout",
       "text": [
        "\tvalid_term_1_weight_decay: 0.0207086931914\n"
       ]
      },
      {
       "output_type": "stream",
       "stream": "stdout",
       "text": [
        "\tvalid_y_col_norms_max: 1.80155193806\n"
       ]
      },
      {
       "output_type": "stream",
       "stream": "stdout",
       "text": [
        "\tvalid_y_col_norms_mean: 1.61529922485\n"
       ]
      },
      {
       "output_type": "stream",
       "stream": "stdout",
       "text": [
        "\tvalid_y_col_norms_min: 1.50763201714\n"
       ]
      },
      {
       "output_type": "stream",
       "stream": "stdout",
       "text": [
        "\tvalid_y_max_max_class: 0.880768537521\n"
       ]
      },
      {
       "output_type": "stream",
       "stream": "stdout",
       "text": [
        "\tvalid_y_mean_max_class: 0.268153786659\n"
       ]
      },
      {
       "output_type": "stream",
       "stream": "stdout",
       "text": [
        "\tvalid_y_min_max_class: 0.0556237325072\n"
       ]
      },
      {
       "output_type": "stream",
       "stream": "stdout",
       "text": [
        "\tvalid_y_misclass: 0.667799949646\n"
       ]
      },
      {
       "output_type": "stream",
       "stream": "stdout",
       "text": [
        "\tvalid_y_nll: 2.80592393875\n"
       ]
      },
      {
       "output_type": "stream",
       "stream": "stdout",
       "text": [
        "\tvalid_y_row_norms_max: 0.660360097885\n"
       ]
      },
      {
       "output_type": "stream",
       "stream": "stdout",
       "text": [
        "\tvalid_y_row_norms_mean: 0.5543410182\n"
       ]
      },
      {
       "output_type": "stream",
       "stream": "stdout",
       "text": [
        "\tvalid_y_row_norms_min: 0.454113215208\n"
       ]
      },
      {
       "output_type": "stream",
       "stream": "stdout",
       "text": [
        "Saving to cnn_00_best.pkl...\n"
       ]
      },
      {
       "output_type": "stream",
       "stream": "stdout",
       "text": [
        "Saving to cnn_00_best.pkl done. Time elapsed: 0.106707 seconds\n"
       ]
      },
      {
       "output_type": "stream",
       "stream": "stdout",
       "text": [
        "Time this epoch: 0:15:04.929678\n"
       ]
      },
      {
       "output_type": "stream",
       "stream": "stdout",
       "text": [
        "Monitoring step:\n"
       ]
      },
      {
       "output_type": "stream",
       "stream": "stdout",
       "text": [
        "\tEpochs seen: 4\n"
       ]
      },
      {
       "output_type": "stream",
       "stream": "stdout",
       "text": [
        "\tBatches seen: 1000\n"
       ]
      },
      {
       "output_type": "stream",
       "stream": "stdout",
       "text": [
        "\tExamples seen: 100000\n"
       ]
      },
      {
       "output_type": "stream",
       "stream": "stdout",
       "text": [
        "\tlearning_rate: 0.0100000035018\n"
       ]
      },
      {
       "output_type": "stream",
       "stream": "stdout",
       "text": [
        "\tmomentum: 0.663334548473\n"
       ]
      },
      {
       "output_type": "stream",
       "stream": "stdout",
       "text": [
        "\ttotal_seconds_last_epoch: 1121.17480469\n"
       ]
      },
      {
       "output_type": "stream",
       "stream": "stdout",
       "text": [
        "\ttrain_h2_kernel_norms_max: 0.845308721066\n"
       ]
      },
      {
       "output_type": "stream",
       "stream": "stdout",
       "text": [
        "\ttrain_h2_kernel_norms_mean: 0.344090312719\n"
       ]
      },
      {
       "output_type": "stream",
       "stream": "stdout",
       "text": [
        "\ttrain_h2_kernel_norms_min: 0.197143316269\n"
       ]
      },
      {
       "output_type": "stream",
       "stream": "stdout",
       "text": [
        "\ttrain_h2_max_x_max_u: 2.9590985775\n"
       ]
      },
      {
       "output_type": "stream",
       "stream": "stdout",
       "text": [
        "\ttrain_h2_max_x_mean_u: 0.453640788794\n"
       ]
      },
      {
       "output_type": "stream",
       "stream": "stdout",
       "text": [
        "\ttrain_h2_max_x_min_u: 0.00975861866027\n"
       ]
      },
      {
       "output_type": "stream",
       "stream": "stdout",
       "text": [
        "\ttrain_h2_mean_x_max_u: 0.685176312923\n"
       ]
      },
      {
       "output_type": "stream",
       "stream": "stdout",
       "text": [
        "\ttrain_h2_mean_x_mean_u: 0.0865260884166\n"
       ]
      },
      {
       "output_type": "stream",
       "stream": "stdout",
       "text": [
        "\ttrain_h2_mean_x_min_u: 0.00383811094798\n"
       ]
      },
      {
       "output_type": "stream",
       "stream": "stdout",
       "text": [
        "\ttrain_h2_min_x_max_u: 0.0168532710522\n"
       ]
      },
      {
       "output_type": "stream",
       "stream": "stdout",
       "text": [
        "\ttrain_h2_min_x_mean_u: 0.000135376874823\n"
       ]
      },
      {
       "output_type": "stream",
       "stream": "stdout",
       "text": [
        "\ttrain_h2_min_x_min_u: 0.0\n"
       ]
      },
      {
       "output_type": "stream",
       "stream": "stdout",
       "text": [
        "\ttrain_h2_range_x_max_u: 2.9590985775\n"
       ]
      },
      {
       "output_type": "stream",
       "stream": "stdout",
       "text": [
        "\ttrain_h2_range_x_mean_u: 0.453505367041\n"
       ]
      },
      {
       "output_type": "stream",
       "stream": "stdout",
       "text": [
        "\ttrain_h2_range_x_min_u: 0.00964428018779\n"
       ]
      },
      {
       "output_type": "stream",
       "stream": "stdout",
       "text": [
        "\ttrain_h3_kernel_norms_max: 1.36747896671\n"
       ]
      },
      {
       "output_type": "stream",
       "stream": "stdout",
       "text": [
        "\ttrain_h3_kernel_norms_mean: 1.2092294693\n"
       ]
      },
      {
       "output_type": "stream",
       "stream": "stdout",
       "text": [
        "\ttrain_h3_kernel_norms_min: 1.1463060379\n"
       ]
      },
      {
       "output_type": "stream",
       "stream": "stdout",
       "text": [
        "\ttrain_h3_max_x_max_u: 7.99984693527\n"
       ]
      },
      {
       "output_type": "stream",
       "stream": "stdout",
       "text": [
        "\ttrain_h3_max_x_mean_u: 2.41187405586\n"
       ]
      },
      {
       "output_type": "stream",
       "stream": "stdout",
       "text": [
        "\ttrain_h3_max_x_min_u: 0.0\n"
       ]
      },
      {
       "output_type": "stream",
       "stream": "stdout",
       "text": [
        "\ttrain_h3_mean_x_max_u: 3.03763198853\n"
       ]
      },
      {
       "output_type": "stream",
       "stream": "stdout",
       "text": [
        "\ttrain_h3_mean_x_mean_u: 0.764802098274\n"
       ]
      },
      {
       "output_type": "stream",
       "stream": "stdout",
       "text": [
        "\ttrain_h3_mean_x_min_u: 0.0\n"
       ]
      },
      {
       "output_type": "stream",
       "stream": "stdout",
       "text": [
        "\ttrain_h3_min_x_max_u: 0.612800955772\n"
       ]
      },
      {
       "output_type": "stream",
       "stream": "stdout",
       "text": [
        "\ttrain_h3_min_x_mean_u: 0.0142219085246\n"
       ]
      },
      {
       "output_type": "stream",
       "stream": "stdout",
       "text": [
        "\ttrain_h3_min_x_min_u: 0.0\n"
       ]
      },
      {
       "output_type": "stream",
       "stream": "stdout",
       "text": [
        "\ttrain_h3_range_x_max_u: 7.99984693527\n"
       ]
      },
      {
       "output_type": "stream",
       "stream": "stdout",
       "text": [
        "\ttrain_h3_range_x_mean_u: 2.3976521492\n"
       ]
      },
      {
       "output_type": "stream",
       "stream": "stdout",
       "text": [
        "\ttrain_h3_range_x_min_u: 0.0\n"
       ]
      },
      {
       "output_type": "stream",
       "stream": "stdout",
       "text": [
        "\ttrain_objective: 2.621966362\n"
       ]
      },
      {
       "output_type": "stream",
       "stream": "stdout",
       "text": [
        "\ttrain_term_0: 2.60083913803\n"
       ]
      },
      {
       "output_type": "stream",
       "stream": "stdout",
       "text": [
        "\ttrain_term_1_weight_decay: 0.0211269240826\n"
       ]
      },
      {
       "output_type": "stream",
       "stream": "stdout",
       "text": [
        "\ttrain_y_col_norms_max: 1.84110605717\n"
       ]
      },
      {
       "output_type": "stream",
       "stream": "stdout",
       "text": [
        "\ttrain_y_col_norms_mean: 1.625618577\n"
       ]
      },
      {
       "output_type": "stream",
       "stream": "stdout",
       "text": [
        "\ttrain_y_col_norms_min: 1.50788021088\n"
       ]
      },
      {
       "output_type": "stream",
       "stream": "stdout",
       "text": [
        "\ttrain_y_max_max_class: 0.983977854252\n"
       ]
      },
      {
       "output_type": "stream",
       "stream": "stdout",
       "text": [
        "\ttrain_y_mean_max_class: 0.332272678614\n"
       ]
      },
      {
       "output_type": "stream",
       "stream": "stdout",
       "text": [
        "\ttrain_y_min_max_class: 0.0643847882748\n"
       ]
      },
      {
       "output_type": "stream",
       "stream": "stdout",
       "text": [
        "\ttrain_y_misclass: 0.646319806576\n"
       ]
      },
      {
       "output_type": "stream",
       "stream": "stdout",
       "text": [
        "\ttrain_y_nll: 2.60083913803\n"
       ]
      },
      {
       "output_type": "stream",
       "stream": "stdout",
       "text": [
        "\ttrain_y_row_norms_max: 0.685198783875\n"
       ]
      },
      {
       "output_type": "stream",
       "stream": "stdout",
       "text": [
        "\ttrain_y_row_norms_mean: 0.557897806168\n"
       ]
      },
      {
       "output_type": "stream",
       "stream": "stdout",
       "text": [
        "\ttrain_y_row_norms_min: 0.45317414403\n"
       ]
      },
      {
       "output_type": "stream",
       "stream": "stdout",
       "text": [
        "\ttraining_seconds_this_epoch: 904.926757812\n"
       ]
      },
      {
       "output_type": "stream",
       "stream": "stdout",
       "text": [
        "\tvalid_h2_kernel_norms_max: 0.845306456089\n"
       ]
      },
      {
       "output_type": "stream",
       "stream": "stdout",
       "text": [
        "\tvalid_h2_kernel_norms_mean: 0.344090610743\n"
       ]
      },
      {
       "output_type": "stream",
       "stream": "stdout",
       "text": [
        "\tvalid_h2_kernel_norms_min: 0.197143793106\n"
       ]
      },
      {
       "output_type": "stream",
       "stream": "stdout",
       "text": [
        "\tvalid_h2_max_x_max_u: 2.95412659645\n"
       ]
      },
      {
       "output_type": "stream",
       "stream": "stdout",
       "text": [
        "\tvalid_h2_max_x_mean_u: 0.449978411198\n"
       ]
      },
      {
       "output_type": "stream",
       "stream": "stdout",
       "text": [
        "\tvalid_h2_max_x_min_u: 0.0095243724063\n"
       ]
      },
      {
       "output_type": "stream",
       "stream": "stdout",
       "text": [
        "\tvalid_h2_mean_x_max_u: 0.700807511806\n"
       ]
      },
      {
       "output_type": "stream",
       "stream": "stdout",
       "text": [
        "\tvalid_h2_mean_x_mean_u: 0.0862181857228\n"
       ]
      },
      {
       "output_type": "stream",
       "stream": "stdout",
       "text": [
        "\tvalid_h2_mean_x_min_u: 0.00344443600625\n"
       ]
      },
      {
       "output_type": "stream",
       "stream": "stdout",
       "text": [
        "\tvalid_h2_min_x_max_u: 0.0162120014429\n"
       ]
      },
      {
       "output_type": "stream",
       "stream": "stdout",
       "text": [
        "\tvalid_h2_min_x_mean_u: 0.000143090946949\n"
       ]
      },
      {
       "output_type": "stream",
       "stream": "stdout",
       "text": [
        "\tvalid_h2_min_x_min_u: 0.0\n"
       ]
      },
      {
       "output_type": "stream",
       "stream": "stdout",
       "text": [
        "\tvalid_h2_range_x_max_u: 2.95412659645\n"
       ]
      },
      {
       "output_type": "stream",
       "stream": "stdout",
       "text": [
        "\tvalid_h2_range_x_mean_u: 0.44983536005\n"
       ]
      },
      {
       "output_type": "stream",
       "stream": "stdout",
       "text": [
        "\tvalid_h2_range_x_min_u: 0.00924084335566\n"
       ]
      },
      {
       "output_type": "stream",
       "stream": "stdout",
       "text": [
        "\tvalid_h3_kernel_norms_max: 1.3674775362\n"
       ]
      },
      {
       "output_type": "stream",
       "stream": "stdout",
       "text": [
        "\tvalid_h3_kernel_norms_mean: 1.20923113823\n"
       ]
      },
      {
       "output_type": "stream",
       "stream": "stdout",
       "text": [
        "\tvalid_h3_kernel_norms_min: 1.14630663395\n"
       ]
      },
      {
       "output_type": "stream",
       "stream": "stdout",
       "text": [
        "\tvalid_h3_max_x_max_u: 7.95169353485\n"
       ]
      },
      {
       "output_type": "stream",
       "stream": "stdout",
       "text": [
        "\tvalid_h3_max_x_mean_u: 2.41159820557\n"
       ]
      },
      {
       "output_type": "stream",
       "stream": "stdout",
       "text": [
        "\tvalid_h3_max_x_min_u: 0.0\n"
       ]
      },
      {
       "output_type": "stream",
       "stream": "stdout",
       "text": [
        "\tvalid_h3_mean_x_max_u: 3.06747484207\n"
       ]
      },
      {
       "output_type": "stream",
       "stream": "stdout",
       "text": [
        "\tvalid_h3_mean_x_mean_u: 0.767368495464\n"
       ]
      },
      {
       "output_type": "stream",
       "stream": "stdout",
       "text": [
        "\tvalid_h3_mean_x_min_u: 0.0\n"
       ]
      },
      {
       "output_type": "stream",
       "stream": "stdout",
       "text": [
        "\tvalid_h3_min_x_max_u: 0.600911915302\n"
       ]
      },
      {
       "output_type": "stream",
       "stream": "stdout",
       "text": [
        "\tvalid_h3_min_x_mean_u: 0.0144848162308\n"
       ]
      },
      {
       "output_type": "stream",
       "stream": "stdout",
       "text": [
        "\tvalid_h3_min_x_min_u: 0.0\n"
       ]
      },
      {
       "output_type": "stream",
       "stream": "stdout",
       "text": [
        "\tvalid_h3_range_x_max_u: 7.95169353485\n"
       ]
      },
      {
       "output_type": "stream",
       "stream": "stdout",
       "text": [
        "\tvalid_h3_range_x_mean_u: 2.39711308479\n"
       ]
      },
      {
       "output_type": "stream",
       "stream": "stdout",
       "text": [
        "\tvalid_h3_range_x_min_u: 0.0\n"
       ]
      },
      {
       "output_type": "stream",
       "stream": "stdout",
       "text": [
        "\tvalid_objective: 2.63939881325\n"
       ]
      },
      {
       "output_type": "stream",
       "stream": "stdout",
       "text": [
        "\tvalid_term_0: 2.61827206612\n"
       ]
      },
      {
       "output_type": "stream",
       "stream": "stdout",
       "text": [
        "\tvalid_term_1_weight_decay: 0.0211269315332\n"
       ]
      },
      {
       "output_type": "stream",
       "stream": "stdout",
       "text": [
        "\tvalid_y_col_norms_max: 1.84111154079\n"
       ]
      },
      {
       "output_type": "stream",
       "stream": "stdout",
       "text": [
        "\tvalid_y_col_norms_mean: 1.62561523914\n"
       ]
      },
      {
       "output_type": "stream",
       "stream": "stdout",
       "text": [
        "\tvalid_y_col_norms_min: 1.50788271427\n"
       ]
      },
      {
       "output_type": "stream",
       "stream": "stdout",
       "text": [
        "\tvalid_y_max_max_class: 0.98291862011\n"
       ]
      },
      {
       "output_type": "stream",
       "stream": "stdout",
       "text": [
        "\tvalid_y_mean_max_class: 0.33044141531\n"
       ]
      },
      {
       "output_type": "stream",
       "stream": "stdout",
       "text": [
        "\tvalid_y_min_max_class: 0.066559150815\n"
       ]
      },
      {
       "output_type": "stream",
       "stream": "stdout",
       "text": [
        "\tvalid_y_misclass: 0.644600093365\n"
       ]
      },
      {
       "output_type": "stream",
       "stream": "stdout",
       "text": [
        "\tvalid_y_nll: 2.61827206612\n"
       ]
      },
      {
       "output_type": "stream",
       "stream": "stdout",
       "text": [
        "\tvalid_y_row_norms_max: 0.685197174549\n"
       ]
      },
      {
       "output_type": "stream",
       "stream": "stdout",
       "text": [
        "\tvalid_y_row_norms_mean: 0.557896137238\n"
       ]
      },
      {
       "output_type": "stream",
       "stream": "stdout",
       "text": [
        "\tvalid_y_row_norms_min: 0.45317414403\n"
       ]
      },
      {
       "output_type": "stream",
       "stream": "stdout",
       "text": [
        "Saving to cnn_00_best.pkl...\n"
       ]
      },
      {
       "output_type": "stream",
       "stream": "stdout",
       "text": [
        "Saving to cnn_00_best.pkl done. Time elapsed: 0.108638 seconds\n"
       ]
      },
      {
       "output_type": "stream",
       "stream": "stdout",
       "text": [
        "Time this epoch: 0:15:05.210792\n"
       ]
      },
      {
       "output_type": "stream",
       "stream": "stdout",
       "text": [
        "Monitoring step:\n"
       ]
      },
      {
       "output_type": "stream",
       "stream": "stdout",
       "text": [
        "\tEpochs seen: 5\n"
       ]
      },
      {
       "output_type": "stream",
       "stream": "stdout",
       "text": [
        "\tBatches seen: 1250\n"
       ]
      },
      {
       "output_type": "stream",
       "stream": "stdout",
       "text": [
        "\tExamples seen: 125000\n"
       ]
      },
      {
       "output_type": "stream",
       "stream": "stdout",
       "text": [
        "\tlearning_rate: 0.0100000035018\n"
       ]
      },
      {
       "output_type": "stream",
       "stream": "stdout",
       "text": [
        "\tmomentum: 0.717775344849\n"
       ]
      },
      {
       "output_type": "stream",
       "stream": "stdout",
       "text": [
        "\ttotal_seconds_last_epoch: 1121.35095215\n"
       ]
      },
      {
       "output_type": "stream",
       "stream": "stdout",
       "text": [
        "\ttrain_h2_kernel_norms_max: 0.890835285187\n"
       ]
      },
      {
       "output_type": "stream",
       "stream": "stdout",
       "text": [
        "\ttrain_h2_kernel_norms_mean: 0.384780049324\n"
       ]
      },
      {
       "output_type": "stream",
       "stream": "stdout",
       "text": [
        "\ttrain_h2_kernel_norms_min: 0.207225874066\n"
       ]
      },
      {
       "output_type": "stream",
       "stream": "stdout",
       "text": [
        "\ttrain_h2_max_x_max_u: 3.06963348389\n"
       ]
      },
      {
       "output_type": "stream",
       "stream": "stdout",
       "text": [
        "\ttrain_h2_max_x_mean_u: 0.490072727203\n"
       ]
      },
      {
       "output_type": "stream",
       "stream": "stdout",
       "text": [
        "\ttrain_h2_max_x_min_u: 0.0100549012423\n"
       ]
      },
      {
       "output_type": "stream",
       "stream": "stdout",
       "text": [
        "\ttrain_h2_mean_x_max_u: 0.716277956963\n"
       ]
      },
      {
       "output_type": "stream",
       "stream": "stdout",
       "text": [
        "\ttrain_h2_mean_x_mean_u: 0.0935930684209\n"
       ]
      },
      {
       "output_type": "stream",
       "stream": "stdout",
       "text": [
        "\ttrain_h2_mean_x_min_u: 0.00460891285911\n"
       ]
      },
      {
       "output_type": "stream",
       "stream": "stdout",
       "text": [
        "\ttrain_h2_min_x_max_u: 0.0210145059973\n"
       ]
      },
      {
       "output_type": "stream",
       "stream": "stdout",
       "text": [
        "\ttrain_h2_min_x_mean_u: 0.000205054035177\n"
       ]
      },
      {
       "output_type": "stream",
       "stream": "stdout",
       "text": [
        "\ttrain_h2_min_x_min_u: 0.0\n"
       ]
      },
      {
       "output_type": "stream",
       "stream": "stdout",
       "text": [
        "\ttrain_h2_range_x_max_u: 3.06963348389\n"
       ]
      },
      {
       "output_type": "stream",
       "stream": "stdout",
       "text": [
        "\ttrain_h2_range_x_mean_u: 0.489867895842\n"
       ]
      },
      {
       "output_type": "stream",
       "stream": "stdout",
       "text": [
        "\ttrain_h2_range_x_min_u: 0.00995335448533\n"
       ]
      },
      {
       "output_type": "stream",
       "stream": "stdout",
       "text": [
        "\ttrain_h3_kernel_norms_max: 1.43268632889\n"
       ]
      },
      {
       "output_type": "stream",
       "stream": "stdout",
       "text": [
        "\ttrain_h3_kernel_norms_mean: 1.22578155994\n"
       ]
      },
      {
       "output_type": "stream",
       "stream": "stdout",
       "text": [
        "\ttrain_h3_kernel_norms_min: 1.14673125744\n"
       ]
      },
      {
       "output_type": "stream",
       "stream": "stdout",
       "text": [
        "\ttrain_h3_max_x_max_u: 7.49060201645\n"
       ]
      },
      {
       "output_type": "stream",
       "stream": "stdout",
       "text": [
        "\ttrain_h3_max_x_mean_u: 2.53190565109\n"
       ]
      },
      {
       "output_type": "stream",
       "stream": "stdout",
       "text": [
        "\ttrain_h3_max_x_min_u: 0.0\n"
       ]
      },
      {
       "output_type": "stream",
       "stream": "stdout",
       "text": [
        "\ttrain_h3_mean_x_max_u: 2.85771942139\n"
       ]
      },
      {
       "output_type": "stream",
       "stream": "stdout",
       "text": [
        "\ttrain_h3_mean_x_mean_u: 0.770476102829\n"
       ]
      },
      {
       "output_type": "stream",
       "stream": "stdout",
       "text": [
        "\ttrain_h3_mean_x_min_u: 0.0\n"
       ]
      },
      {
       "output_type": "stream",
       "stream": "stdout",
       "text": [
        "\ttrain_h3_min_x_max_u: 0.482971608639\n"
       ]
      },
      {
       "output_type": "stream",
       "stream": "stdout",
       "text": [
        "\ttrain_h3_min_x_mean_u: 0.0139262508601\n"
       ]
      },
      {
       "output_type": "stream",
       "stream": "stdout",
       "text": [
        "\ttrain_h3_min_x_min_u: 0.0\n"
       ]
      },
      {
       "output_type": "stream",
       "stream": "stdout",
       "text": [
        "\ttrain_h3_range_x_max_u: 7.49060201645\n"
       ]
      },
      {
       "output_type": "stream",
       "stream": "stdout",
       "text": [
        "\ttrain_h3_range_x_mean_u: 2.51797914505\n"
       ]
      },
      {
       "output_type": "stream",
       "stream": "stdout",
       "text": [
        "\ttrain_h3_range_x_min_u: 0.0\n"
       ]
      },
      {
       "output_type": "stream",
       "stream": "stdout",
       "text": [
        "\ttrain_objective: 2.41484951973\n"
       ]
      },
      {
       "output_type": "stream",
       "stream": "stdout",
       "text": [
        "\ttrain_term_0: 2.39323115349\n"
       ]
      },
      {
       "output_type": "stream",
       "stream": "stdout",
       "text": [
        "\ttrain_term_1_weight_decay: 0.02161924541\n"
       ]
      },
      {
       "output_type": "stream",
       "stream": "stdout",
       "text": [
        "\ttrain_y_col_norms_max: 1.88308167458\n"
       ]
      },
      {
       "output_type": "stream",
       "stream": "stdout",
       "text": [
        "\ttrain_y_col_norms_mean: 1.63811659813\n"
       ]
      },
      {
       "output_type": "stream",
       "stream": "stdout",
       "text": [
        "\ttrain_y_col_norms_min: 1.50968706608\n"
       ]
      },
      {
       "output_type": "stream",
       "stream": "stdout",
       "text": [
        "\ttrain_y_max_max_class: 0.943689644337\n"
       ]
      },
      {
       "output_type": "stream",
       "stream": "stdout",
       "text": [
        "\ttrain_y_mean_max_class: 0.378811269999\n"
       ]
      },
      {
       "output_type": "stream",
       "stream": "stdout",
       "text": [
        "\ttrain_y_min_max_class: 0.0740913152695\n"
       ]
      },
      {
       "output_type": "stream",
       "stream": "stdout",
       "text": [
        "\ttrain_y_misclass: 0.60375982523\n"
       ]
      },
      {
       "output_type": "stream",
       "stream": "stdout",
       "text": [
        "\ttrain_y_nll: 2.39323115349\n"
       ]
      },
      {
       "output_type": "stream",
       "stream": "stdout",
       "text": [
        "\ttrain_y_row_norms_max: 0.716180920601\n"
       ]
      },
      {
       "output_type": "stream",
       "stream": "stdout",
       "text": [
        "\ttrain_y_row_norms_mean: 0.562207579613\n"
       ]
      },
      {
       "output_type": "stream",
       "stream": "stdout",
       "text": [
        "\ttrain_y_row_norms_min: 0.452332317829\n"
       ]
      },
      {
       "output_type": "stream",
       "stream": "stdout",
       "text": [
        "\ttraining_seconds_this_epoch: 905.212097168\n"
       ]
      },
      {
       "output_type": "stream",
       "stream": "stdout",
       "text": [
        "\tvalid_h2_kernel_norms_max: 0.890833795071\n"
       ]
      },
      {
       "output_type": "stream",
       "stream": "stdout",
       "text": [
        "\tvalid_h2_kernel_norms_mean: 0.38478076458\n"
       ]
      },
      {
       "output_type": "stream",
       "stream": "stdout",
       "text": [
        "\tvalid_h2_kernel_norms_min: 0.207225769758\n"
       ]
      },
      {
       "output_type": "stream",
       "stream": "stdout",
       "text": [
        "\tvalid_h2_max_x_max_u: 3.06410169601\n"
       ]
      },
      {
       "output_type": "stream",
       "stream": "stdout",
       "text": [
        "\tvalid_h2_max_x_mean_u: 0.486256122589\n"
       ]
      },
      {
       "output_type": "stream",
       "stream": "stdout",
       "text": [
        "\tvalid_h2_max_x_min_u: 0.00995274167508\n"
       ]
      },
      {
       "output_type": "stream",
       "stream": "stdout",
       "text": [
        "\tvalid_h2_mean_x_max_u: 0.732757806778\n"
       ]
      },
      {
       "output_type": "stream",
       "stream": "stdout",
       "text": [
        "\tvalid_h2_mean_x_mean_u: 0.0932400524616\n"
       ]
      },
      {
       "output_type": "stream",
       "stream": "stdout",
       "text": [
        "\tvalid_h2_mean_x_min_u: 0.00403077108786\n"
       ]
      },
      {
       "output_type": "stream",
       "stream": "stdout",
       "text": [
        "\tvalid_h2_min_x_max_u: 0.0208869893104\n"
       ]
      },
      {
       "output_type": "stream",
       "stream": "stdout",
       "text": [
        "\tvalid_h2_min_x_mean_u: 0.000209499659832\n"
       ]
      },
      {
       "output_type": "stream",
       "stream": "stdout",
       "text": [
        "\tvalid_h2_min_x_min_u: 0.0\n"
       ]
      },
      {
       "output_type": "stream",
       "stream": "stdout",
       "text": [
        "\tvalid_h2_range_x_max_u: 3.06410169601\n"
       ]
      },
      {
       "output_type": "stream",
       "stream": "stdout",
       "text": [
        "\tvalid_h2_range_x_mean_u: 0.486046552658\n"
       ]
      },
      {
       "output_type": "stream",
       "stream": "stdout",
       "text": [
        "\tvalid_h2_range_x_min_u: 0.00965220481157\n"
       ]
      },
      {
       "output_type": "stream",
       "stream": "stdout",
       "text": [
        "\tvalid_h3_kernel_norms_max: 1.43268299103\n"
       ]
      },
      {
       "output_type": "stream",
       "stream": "stdout",
       "text": [
        "\tvalid_h3_kernel_norms_mean: 1.22578370571\n"
       ]
      },
      {
       "output_type": "stream",
       "stream": "stdout",
       "text": [
        "\tvalid_h3_kernel_norms_min: 1.14672839642\n"
       ]
      },
      {
       "output_type": "stream",
       "stream": "stdout",
       "text": [
        "\tvalid_h3_max_x_max_u: 7.46926450729\n"
       ]
      },
      {
       "output_type": "stream",
       "stream": "stdout",
       "text": [
        "\tvalid_h3_max_x_mean_u: 2.53229093552\n"
       ]
      },
      {
       "output_type": "stream",
       "stream": "stdout",
       "text": [
        "\tvalid_h3_max_x_min_u: 0.0\n"
       ]
      },
      {
       "output_type": "stream",
       "stream": "stdout",
       "text": [
        "\tvalid_h3_mean_x_max_u: 2.8860912323\n"
       ]
      },
      {
       "output_type": "stream",
       "stream": "stdout",
       "text": [
        "\tvalid_h3_mean_x_mean_u: 0.773286998272\n"
       ]
      },
      {
       "output_type": "stream",
       "stream": "stdout",
       "text": [
        "\tvalid_h3_mean_x_min_u: 0.0\n"
       ]
      },
      {
       "output_type": "stream",
       "stream": "stdout",
       "text": [
        "\tvalid_h3_min_x_max_u: 0.474471181631\n"
       ]
      },
      {
       "output_type": "stream",
       "stream": "stdout",
       "text": [
        "\tvalid_h3_min_x_mean_u: 0.0141146797687\n"
       ]
      },
      {
       "output_type": "stream",
       "stream": "stdout",
       "text": [
        "\tvalid_h3_min_x_min_u: 0.0\n"
       ]
      },
      {
       "output_type": "stream",
       "stream": "stdout",
       "text": [
        "\tvalid_h3_range_x_max_u: 7.46926450729\n"
       ]
      },
      {
       "output_type": "stream",
       "stream": "stdout",
       "text": [
        "\tvalid_h3_range_x_mean_u: 2.51817679405\n"
       ]
      },
      {
       "output_type": "stream",
       "stream": "stdout",
       "text": [
        "\tvalid_h3_range_x_min_u: 0.0\n"
       ]
      },
      {
       "output_type": "stream",
       "stream": "stdout",
       "text": [
        "\tvalid_objective: 2.44269037247\n"
       ]
      },
      {
       "output_type": "stream",
       "stream": "stdout",
       "text": [
        "\tvalid_term_0: 2.42107152939\n"
       ]
      },
      {
       "output_type": "stream",
       "stream": "stdout",
       "text": [
        "\tvalid_term_1_weight_decay: 0.0216191969812\n"
       ]
      },
      {
       "output_type": "stream",
       "stream": "stdout",
       "text": [
        "\tvalid_y_col_norms_max: 1.88307607174\n"
       ]
      },
      {
       "output_type": "stream",
       "stream": "stdout",
       "text": [
        "\tvalid_y_col_norms_mean: 1.63812053204\n"
       ]
      },
      {
       "output_type": "stream",
       "stream": "stdout",
       "text": [
        "\tvalid_y_col_norms_min: 1.50968444347\n"
       ]
      },
      {
       "output_type": "stream",
       "stream": "stdout",
       "text": [
        "\tvalid_y_max_max_class: 0.941681146622\n"
       ]
      },
      {
       "output_type": "stream",
       "stream": "stdout",
       "text": [
        "\tvalid_y_mean_max_class: 0.382486552\n"
       ]
      },
      {
       "output_type": "stream",
       "stream": "stdout",
       "text": [
        "\tvalid_y_min_max_class: 0.0734234526753\n"
       ]
      },
      {
       "output_type": "stream",
       "stream": "stdout",
       "text": [
        "\tvalid_y_misclass: 0.605400025845\n"
       ]
      },
      {
       "output_type": "stream",
       "stream": "stdout",
       "text": [
        "\tvalid_y_nll: 2.42107152939\n"
       ]
      },
      {
       "output_type": "stream",
       "stream": "stdout",
       "text": [
        "\tvalid_y_row_norms_max: 0.71618282795\n"
       ]
      },
      {
       "output_type": "stream",
       "stream": "stdout",
       "text": [
        "\tvalid_y_row_norms_mean: 0.562209188938\n"
       ]
      },
      {
       "output_type": "stream",
       "stream": "stdout",
       "text": [
        "\tvalid_y_row_norms_min: 0.452333271503\n"
       ]
      },
      {
       "output_type": "stream",
       "stream": "stdout",
       "text": [
        "Saving to cnn_00_best.pkl...\n"
       ]
      },
      {
       "output_type": "stream",
       "stream": "stdout",
       "text": [
        "Saving to cnn_00_best.pkl done. Time elapsed: 0.108752 seconds\n"
       ]
      },
      {
       "output_type": "stream",
       "stream": "stdout",
       "text": [
        "Time this epoch: 0:15:05.440035\n"
       ]
      },
      {
       "output_type": "stream",
       "stream": "stdout",
       "text": [
        "Monitoring step:\n"
       ]
      },
      {
       "output_type": "stream",
       "stream": "stdout",
       "text": [
        "\tEpochs seen: 6\n"
       ]
      },
      {
       "output_type": "stream",
       "stream": "stdout",
       "text": [
        "\tBatches seen: 1500\n"
       ]
      },
      {
       "output_type": "stream",
       "stream": "stdout",
       "text": [
        "\tExamples seen: 150000\n"
       ]
      },
      {
       "output_type": "stream",
       "stream": "stdout",
       "text": [
        "\tlearning_rate: 0.0100000035018\n"
       ]
      },
      {
       "output_type": "stream",
       "stream": "stdout",
       "text": [
        "\tmomentum: 0.772222816944\n"
       ]
      },
      {
       "output_type": "stream",
       "stream": "stdout",
       "text": [
        "\ttotal_seconds_last_epoch: 1121.73730469\n"
       ]
      },
      {
       "output_type": "stream",
       "stream": "stdout",
       "text": [
        "\ttrain_h2_kernel_norms_max: 0.90352088213\n"
       ]
      },
      {
       "output_type": "stream",
       "stream": "stdout",
       "text": [
        "\ttrain_h2_kernel_norms_mean: 0.427352160215\n"
       ]
      },
      {
       "output_type": "stream",
       "stream": "stdout",
       "text": [
        "\ttrain_h2_kernel_norms_min: 0.219150513411\n"
       ]
      },
      {
       "output_type": "stream",
       "stream": "stdout",
       "text": [
        "\ttrain_h2_max_x_max_u: 3.04907512665\n"
       ]
      },
      {
       "output_type": "stream",
       "stream": "stdout",
       "text": [
        "\ttrain_h2_max_x_mean_u: 0.513497292995\n"
       ]
      },
      {
       "output_type": "stream",
       "stream": "stdout",
       "text": [
        "\ttrain_h2_max_x_min_u: 0.0103365518153\n"
       ]
      },
      {
       "output_type": "stream",
       "stream": "stdout",
       "text": [
        "\ttrain_h2_mean_x_max_u: 0.718125462532\n"
       ]
      },
      {
       "output_type": "stream",
       "stream": "stdout",
       "text": [
        "\ttrain_h2_mean_x_mean_u: 0.0993298813701\n"
       ]
      },
      {
       "output_type": "stream",
       "stream": "stdout",
       "text": [
        "\ttrain_h2_mean_x_min_u: 0.00528230611235\n"
       ]
      },
      {
       "output_type": "stream",
       "stream": "stdout",
       "text": [
        "\ttrain_h2_min_x_max_u: 0.0263027753681\n"
       ]
      },
      {
       "output_type": "stream",
       "stream": "stdout",
       "text": [
        "\ttrain_h2_min_x_mean_u: 0.000343222171068\n"
       ]
      },
      {
       "output_type": "stream",
       "stream": "stdout",
       "text": [
        "\ttrain_h2_min_x_min_u: 0.0\n"
       ]
      },
      {
       "output_type": "stream",
       "stream": "stdout",
       "text": [
        "\ttrain_h2_range_x_max_u: 3.04907512665\n"
       ]
      },
      {
       "output_type": "stream",
       "stream": "stdout",
       "text": [
        "\ttrain_h2_range_x_mean_u: 0.513154149055\n"
       ]
      },
      {
       "output_type": "stream",
       "stream": "stdout",
       "text": [
        "\ttrain_h2_range_x_min_u: 0.0102388216183\n"
       ]
      },
      {
       "output_type": "stream",
       "stream": "stdout",
       "text": [
        "\ttrain_h3_kernel_norms_max: 1.49728870392\n"
       ]
      },
      {
       "output_type": "stream",
       "stream": "stdout",
       "text": [
        "\ttrain_h3_kernel_norms_mean: 1.24632358551\n"
       ]
      },
      {
       "output_type": "stream",
       "stream": "stdout",
       "text": [
        "\ttrain_h3_kernel_norms_min: 1.14586949348\n"
       ]
      },
      {
       "output_type": "stream",
       "stream": "stdout",
       "text": [
        "\ttrain_h3_max_x_max_u: 7.00137233734\n"
       ]
      },
      {
       "output_type": "stream",
       "stream": "stdout",
       "text": [
        "\ttrain_h3_max_x_mean_u: 2.52494430542\n"
       ]
      },
      {
       "output_type": "stream",
       "stream": "stdout",
       "text": [
        "\ttrain_h3_max_x_min_u: 0.0\n"
       ]
      },
      {
       "output_type": "stream",
       "stream": "stdout",
       "text": [
        "\ttrain_h3_mean_x_max_u: 2.36602926254\n"
       ]
      },
      {
       "output_type": "stream",
       "stream": "stdout",
       "text": [
        "\ttrain_h3_mean_x_mean_u: 0.724201619625\n"
       ]
      },
      {
       "output_type": "stream",
       "stream": "stdout",
       "text": [
        "\ttrain_h3_mean_x_min_u: 0.0\n"
       ]
      },
      {
       "output_type": "stream",
       "stream": "stdout",
       "text": [
        "\ttrain_h3_min_x_max_u: 0.40660110116\n"
       ]
      },
      {
       "output_type": "stream",
       "stream": "stdout",
       "text": [
        "\ttrain_h3_min_x_mean_u: 0.00610020570457\n"
       ]
      },
      {
       "output_type": "stream",
       "stream": "stdout",
       "text": [
        "\ttrain_h3_min_x_min_u: 0.0\n"
       ]
      },
      {
       "output_type": "stream",
       "stream": "stdout",
       "text": [
        "\ttrain_h3_range_x_max_u: 7.00137233734\n"
       ]
      },
      {
       "output_type": "stream",
       "stream": "stdout",
       "text": [
        "\ttrain_h3_range_x_mean_u: 2.51884460449\n"
       ]
      },
      {
       "output_type": "stream",
       "stream": "stdout",
       "text": [
        "\ttrain_h3_range_x_min_u: 0.0\n"
       ]
      },
      {
       "output_type": "stream",
       "stream": "stdout",
       "text": [
        "\ttrain_objective: 2.19756865501\n"
       ]
      },
      {
       "output_type": "stream",
       "stream": "stdout",
       "text": [
        "\ttrain_term_0: 2.17534065247\n"
       ]
      },
      {
       "output_type": "stream",
       "stream": "stdout",
       "text": [
        "\ttrain_term_1_weight_decay: 0.022228308022\n"
       ]
      },
      {
       "output_type": "stream",
       "stream": "stdout",
       "text": [
        "\ttrain_y_col_norms_max: 1.93571460247\n"
       ]
      },
      {
       "output_type": "stream",
       "stream": "stdout",
       "text": [
        "\ttrain_y_col_norms_mean: 1.65371000767\n"
       ]
      },
      {
       "output_type": "stream",
       "stream": "stdout",
       "text": [
        "\ttrain_y_col_norms_min: 1.51359283924\n"
       ]
      },
      {
       "output_type": "stream",
       "stream": "stdout",
       "text": [
        "\ttrain_y_max_max_class: 0.961292803288\n"
       ]
      },
      {
       "output_type": "stream",
       "stream": "stdout",
       "text": [
        "\ttrain_y_mean_max_class: 0.393301635981\n"
       ]
      },
      {
       "output_type": "stream",
       "stream": "stdout",
       "text": [
        "\ttrain_y_min_max_class: 0.0825570449233\n"
       ]
      },
      {
       "output_type": "stream",
       "stream": "stdout",
       "text": [
        "\ttrain_y_misclass: 0.556400060654\n"
       ]
      },
      {
       "output_type": "stream",
       "stream": "stdout",
       "text": [
        "\ttrain_y_nll: 2.17534065247\n"
       ]
      },
      {
       "output_type": "stream",
       "stream": "stdout",
       "text": [
        "\ttrain_y_row_norms_max: 0.747059524059\n"
       ]
      },
      {
       "output_type": "stream",
       "stream": "stdout",
       "text": [
        "\ttrain_y_row_norms_mean: 0.567591786385\n"
       ]
      },
      {
       "output_type": "stream",
       "stream": "stdout",
       "text": [
        "\ttrain_y_row_norms_min: 0.451529204845\n"
       ]
      },
      {
       "output_type": "stream",
       "stream": "stdout",
       "text": [
        "\ttraining_seconds_this_epoch: 905.441040039\n"
       ]
      },
      {
       "output_type": "stream",
       "stream": "stdout",
       "text": [
        "\tvalid_h2_kernel_norms_max: 0.903522908688\n"
       ]
      },
      {
       "output_type": "stream",
       "stream": "stdout",
       "text": [
        "\tvalid_h2_kernel_norms_mean: 0.427353262901\n"
       ]
      },
      {
       "output_type": "stream",
       "stream": "stdout",
       "text": [
        "\tvalid_h2_kernel_norms_min: 0.219149947166\n"
       ]
      },
      {
       "output_type": "stream",
       "stream": "stdout",
       "text": [
        "\tvalid_h2_max_x_max_u: 3.04336690903\n"
       ]
      },
      {
       "output_type": "stream",
       "stream": "stdout",
       "text": [
        "\tvalid_h2_max_x_mean_u: 0.50962293148\n"
       ]
      },
      {
       "output_type": "stream",
       "stream": "stdout",
       "text": [
        "\tvalid_h2_max_x_min_u: 0.0102921919897\n"
       ]
      },
      {
       "output_type": "stream",
       "stream": "stdout",
       "text": [
        "\tvalid_h2_mean_x_max_u: 0.734911739826\n"
       ]
      },
      {
       "output_type": "stream",
       "stream": "stdout",
       "text": [
        "\tvalid_h2_mean_x_mean_u: 0.0989196747541\n"
       ]
      },
      {
       "output_type": "stream",
       "stream": "stdout",
       "text": [
        "\tvalid_h2_mean_x_min_u: 0.00464409729466\n"
       ]
      },
      {
       "output_type": "stream",
       "stream": "stdout",
       "text": [
        "\tvalid_h2_min_x_max_u: 0.0268618091941\n"
       ]
      },
      {
       "output_type": "stream",
       "stream": "stdout",
       "text": [
        "\tvalid_h2_min_x_mean_u: 0.000347662775312\n"
       ]
      },
      {
       "output_type": "stream",
       "stream": "stdout",
       "text": [
        "\tvalid_h2_min_x_min_u: 0.0\n"
       ]
      },
      {
       "output_type": "stream",
       "stream": "stdout",
       "text": [
        "\tvalid_h2_range_x_max_u: 3.04336690903\n"
       ]
      },
      {
       "output_type": "stream",
       "stream": "stdout",
       "text": [
        "\tvalid_h2_range_x_mean_u: 0.509275257587\n"
       ]
      },
      {
       "output_type": "stream",
       "stream": "stdout",
       "text": [
        "\tvalid_h2_range_x_min_u: 0.00997750274837\n"
       ]
      },
      {
       "output_type": "stream",
       "stream": "stdout",
       "text": [
        "\tvalid_h3_kernel_norms_max: 1.49728500843\n"
       ]
      },
      {
       "output_type": "stream",
       "stream": "stdout",
       "text": [
        "\tvalid_h3_kernel_norms_mean: 1.2463234663\n"
       ]
      },
      {
       "output_type": "stream",
       "stream": "stdout",
       "text": [
        "\tvalid_h3_kernel_norms_min: 1.14586949348\n"
       ]
      },
      {
       "output_type": "stream",
       "stream": "stdout",
       "text": [
        "\tvalid_h3_max_x_max_u: 6.9785695076\n"
       ]
      },
      {
       "output_type": "stream",
       "stream": "stdout",
       "text": [
        "\tvalid_h3_max_x_mean_u: 2.52408003807\n"
       ]
      },
      {
       "output_type": "stream",
       "stream": "stdout",
       "text": [
        "\tvalid_h3_max_x_min_u: 0.0\n"
       ]
      },
      {
       "output_type": "stream",
       "stream": "stdout",
       "text": [
        "\tvalid_h3_mean_x_max_u: 2.39241170883\n"
       ]
      },
      {
       "output_type": "stream",
       "stream": "stdout",
       "text": [
        "\tvalid_h3_mean_x_mean_u: 0.726699888706\n"
       ]
      },
      {
       "output_type": "stream",
       "stream": "stdout",
       "text": [
        "\tvalid_h3_mean_x_min_u: 0.0\n"
       ]
      },
      {
       "output_type": "stream",
       "stream": "stdout",
       "text": [
        "\tvalid_h3_min_x_max_u: 0.415055990219\n"
       ]
      },
      {
       "output_type": "stream",
       "stream": "stdout",
       "text": [
        "\tvalid_h3_min_x_mean_u: 0.00628676451743\n"
       ]
      },
      {
       "output_type": "stream",
       "stream": "stdout",
       "text": [
        "\tvalid_h3_min_x_min_u: 0.0\n"
       ]
      },
      {
       "output_type": "stream",
       "stream": "stdout",
       "text": [
        "\tvalid_h3_range_x_max_u: 6.9785695076\n"
       ]
      },
      {
       "output_type": "stream",
       "stream": "stdout",
       "text": [
        "\tvalid_h3_range_x_mean_u: 2.51779341698\n"
       ]
      },
      {
       "output_type": "stream",
       "stream": "stdout",
       "text": [
        "\tvalid_h3_range_x_min_u: 0.0\n"
       ]
      },
      {
       "output_type": "stream",
       "stream": "stdout",
       "text": [
        "\tvalid_objective: 2.25193929672\n"
       ]
      },
      {
       "output_type": "stream",
       "stream": "stdout",
       "text": [
        "\tvalid_term_0: 2.22971057892\n"
       ]
      },
      {
       "output_type": "stream",
       "stream": "stdout",
       "text": [
        "\tvalid_term_1_weight_decay: 0.022228255868\n"
       ]
      },
      {
       "output_type": "stream",
       "stream": "stdout",
       "text": [
        "\tvalid_y_col_norms_max: 1.93571329117\n"
       ]
      },
      {
       "output_type": "stream",
       "stream": "stdout",
       "text": [
        "\tvalid_y_col_norms_mean: 1.65371465683\n"
       ]
      },
      {
       "output_type": "stream",
       "stream": "stdout",
       "text": [
        "\tvalid_y_col_norms_min: 1.51359248161\n"
       ]
      },
      {
       "output_type": "stream",
       "stream": "stdout",
       "text": [
        "\tvalid_y_max_max_class: 0.958306133747\n"
       ]
      },
      {
       "output_type": "stream",
       "stream": "stdout",
       "text": [
        "\tvalid_y_mean_max_class: 0.39504507184\n"
       ]
      },
      {
       "output_type": "stream",
       "stream": "stdout",
       "text": [
        "\tvalid_y_min_max_class: 0.0822056084871\n"
       ]
      },
      {
       "output_type": "stream",
       "stream": "stdout",
       "text": [
        "\tvalid_y_misclass: 0.564999938011\n"
       ]
      },
      {
       "output_type": "stream",
       "stream": "stdout",
       "text": [
        "\tvalid_y_nll: 2.22971057892\n"
       ]
      },
      {
       "output_type": "stream",
       "stream": "stdout",
       "text": [
        "\tvalid_y_row_norms_max: 0.747060716152\n"
       ]
      },
      {
       "output_type": "stream",
       "stream": "stdout",
       "text": [
        "\tvalid_y_row_norms_mean: 0.567592442036\n"
       ]
      },
      {
       "output_type": "stream",
       "stream": "stdout",
       "text": [
        "\tvalid_y_row_norms_min: 0.451530188322\n"
       ]
      },
      {
       "output_type": "stream",
       "stream": "stdout",
       "text": [
        "Saving to cnn_00_best.pkl...\n"
       ]
      },
      {
       "output_type": "stream",
       "stream": "stdout",
       "text": [
        "Saving to cnn_00_best.pkl done. Time elapsed: 0.109757 seconds\n"
       ]
      },
      {
       "output_type": "stream",
       "stream": "stdout",
       "text": [
        "Time this epoch: 0:15:05.326430\n"
       ]
      },
      {
       "output_type": "stream",
       "stream": "stdout",
       "text": [
        "Monitoring step:\n"
       ]
      },
      {
       "output_type": "stream",
       "stream": "stdout",
       "text": [
        "\tEpochs seen: 7\n"
       ]
      },
      {
       "output_type": "stream",
       "stream": "stdout",
       "text": [
        "\tBatches seen: 1750\n"
       ]
      },
      {
       "output_type": "stream",
       "stream": "stdout",
       "text": [
        "\tExamples seen: 175000\n"
       ]
      },
      {
       "output_type": "stream",
       "stream": "stdout",
       "text": [
        "\tlearning_rate: 0.0100000035018\n"
       ]
      },
      {
       "output_type": "stream",
       "stream": "stdout",
       "text": [
        "\tmomentum: 0.826668083668\n"
       ]
      },
      {
       "output_type": "stream",
       "stream": "stdout",
       "text": [
        "\ttotal_seconds_last_epoch: 1122.16162109\n"
       ]
      },
      {
       "output_type": "stream",
       "stream": "stdout",
       "text": [
        "\ttrain_h2_kernel_norms_max: 0.974208891392\n"
       ]
      },
      {
       "output_type": "stream",
       "stream": "stdout",
       "text": [
        "\ttrain_h2_kernel_norms_mean: 0.47052654624\n"
       ]
      },
      {
       "output_type": "stream",
       "stream": "stdout",
       "text": [
        "\ttrain_h2_kernel_norms_min: 0.225599601865\n"
       ]
      },
      {
       "output_type": "stream",
       "stream": "stdout",
       "text": [
        "\ttrain_h2_max_x_max_u: 2.90810871124\n"
       ]
      },
      {
       "output_type": "stream",
       "stream": "stdout",
       "text": [
        "\ttrain_h2_max_x_mean_u: 0.530316114426\n"
       ]
      },
      {
       "output_type": "stream",
       "stream": "stdout",
       "text": [
        "\ttrain_h2_max_x_min_u: 0.0104054333642\n"
       ]
      },
      {
       "output_type": "stream",
       "stream": "stdout",
       "text": [
        "\ttrain_h2_mean_x_max_u: 0.693323075771\n"
       ]
      },
      {
       "output_type": "stream",
       "stream": "stdout",
       "text": [
        "\ttrain_h2_mean_x_mean_u: 0.103690378368\n"
       ]
      },
      {
       "output_type": "stream",
       "stream": "stdout",
       "text": [
        "\ttrain_h2_mean_x_min_u: 0.00578724872321\n"
       ]
      },
      {
       "output_type": "stream",
       "stream": "stdout",
       "text": [
        "\ttrain_h2_min_x_max_u: 0.0299129467458\n"
       ]
      },
      {
       "output_type": "stream",
       "stream": "stdout",
       "text": [
        "\ttrain_h2_min_x_mean_u: 0.000458391674329\n"
       ]
      },
      {
       "output_type": "stream",
       "stream": "stdout",
       "text": [
        "\ttrain_h2_min_x_min_u: 0.0\n"
       ]
      },
      {
       "output_type": "stream",
       "stream": "stdout",
       "text": [
        "\ttrain_h2_range_x_max_u: 2.90810871124\n"
       ]
      },
      {
       "output_type": "stream",
       "stream": "stdout",
       "text": [
        "\ttrain_h2_range_x_mean_u: 0.529857575893\n"
       ]
      },
      {
       "output_type": "stream",
       "stream": "stdout",
       "text": [
        "\ttrain_h2_range_x_min_u: 0.0103183425963\n"
       ]
      },
      {
       "output_type": "stream",
       "stream": "stdout",
       "text": [
        "\ttrain_h3_kernel_norms_max: 1.55097985268\n"
       ]
      },
      {
       "output_type": "stream",
       "stream": "stdout",
       "text": [
        "\ttrain_h3_kernel_norms_mean: 1.27260065079\n"
       ]
      },
      {
       "output_type": "stream",
       "stream": "stdout",
       "text": [
        "\ttrain_h3_kernel_norms_min: 1.14497220516\n"
       ]
      },
      {
       "output_type": "stream",
       "stream": "stdout",
       "text": [
        "\ttrain_h3_max_x_max_u: 6.65878772736\n"
       ]
      },
      {
       "output_type": "stream",
       "stream": "stdout",
       "text": [
        "\ttrain_h3_max_x_mean_u: 2.50475525856\n"
       ]
      },
      {
       "output_type": "stream",
       "stream": "stdout",
       "text": [
        "\ttrain_h3_max_x_min_u: 0.0\n"
       ]
      },
      {
       "output_type": "stream",
       "stream": "stdout",
       "text": [
        "\ttrain_h3_mean_x_max_u: 2.14061498642\n"
       ]
      },
      {
       "output_type": "stream",
       "stream": "stdout",
       "text": [
        "\ttrain_h3_mean_x_mean_u: 0.661438345909\n"
       ]
      },
      {
       "output_type": "stream",
       "stream": "stdout",
       "text": [
        "\ttrain_h3_mean_x_min_u: 0.0\n"
       ]
      },
      {
       "output_type": "stream",
       "stream": "stdout",
       "text": [
        "\ttrain_h3_min_x_max_u: 0.17762593925\n"
       ]
      },
      {
       "output_type": "stream",
       "stream": "stdout",
       "text": [
        "\ttrain_h3_min_x_mean_u: 0.000685086881276\n"
       ]
      },
      {
       "output_type": "stream",
       "stream": "stdout",
       "text": [
        "\ttrain_h3_min_x_min_u: 0.0\n"
       ]
      },
      {
       "output_type": "stream",
       "stream": "stdout",
       "text": [
        "\ttrain_h3_range_x_max_u: 6.65878772736\n"
       ]
      },
      {
       "output_type": "stream",
       "stream": "stdout",
       "text": [
        "\ttrain_h3_range_x_mean_u: 2.50406908989\n"
       ]
      },
      {
       "output_type": "stream",
       "stream": "stdout",
       "text": [
        "\ttrain_h3_range_x_min_u: 0.0\n"
       ]
      },
      {
       "output_type": "stream",
       "stream": "stdout",
       "text": [
        "\ttrain_objective: 2.02239608765\n"
       ]
      },
      {
       "output_type": "stream",
       "stream": "stdout",
       "text": [
        "\ttrain_term_0: 1.99941217899\n"
       ]
      },
      {
       "output_type": "stream",
       "stream": "stdout",
       "text": [
        "\ttrain_term_1_weight_decay: 0.0229836516082\n"
       ]
      },
      {
       "output_type": "stream",
       "stream": "stdout",
       "text": [
        "\ttrain_y_col_norms_max: 1.93679344654\n"
       ]
      },
      {
       "output_type": "stream",
       "stream": "stdout",
       "text": [
        "\ttrain_y_col_norms_mean: 1.67282581329\n"
       ]
      },
      {
       "output_type": "stream",
       "stream": "stdout",
       "text": [
        "\ttrain_y_col_norms_min: 1.52692008018\n"
       ]
      },
      {
       "output_type": "stream",
       "stream": "stdout",
       "text": [
        "\ttrain_y_max_max_class: 0.980976700783\n"
       ]
      },
      {
       "output_type": "stream",
       "stream": "stdout",
       "text": [
        "\ttrain_y_mean_max_class: 0.435070157051\n"
       ]
      },
      {
       "output_type": "stream",
       "stream": "stdout",
       "text": [
        "\ttrain_y_min_max_class: 0.0824708417058\n"
       ]
      },
      {
       "output_type": "stream",
       "stream": "stdout",
       "text": [
        "\ttrain_y_misclass: 0.531040072441\n"
       ]
      },
      {
       "output_type": "stream",
       "stream": "stdout",
       "text": [
        "\ttrain_y_nll: 1.99941217899\n"
       ]
      },
      {
       "output_type": "stream",
       "stream": "stdout",
       "text": [
        "\ttrain_y_row_norms_max: 0.778873503208\n"
       ]
      },
      {
       "output_type": "stream",
       "stream": "stdout",
       "text": [
        "\ttrain_y_row_norms_mean: 0.574147880077\n"
       ]
      },
      {
       "output_type": "stream",
       "stream": "stdout",
       "text": [
        "\ttrain_y_row_norms_min: 0.449582904577\n"
       ]
      },
      {
       "output_type": "stream",
       "stream": "stdout",
       "text": [
        "\ttraining_seconds_this_epoch: 905.323486328\n"
       ]
      },
      {
       "output_type": "stream",
       "stream": "stdout",
       "text": [
        "\tvalid_h2_kernel_norms_max: 0.97421091795\n"
       ]
      },
      {
       "output_type": "stream",
       "stream": "stdout",
       "text": [
        "\tvalid_h2_kernel_norms_mean: 0.470526635647\n"
       ]
      },
      {
       "output_type": "stream",
       "stream": "stdout",
       "text": [
        "\tvalid_h2_kernel_norms_min: 0.225599110126\n"
       ]
      },
      {
       "output_type": "stream",
       "stream": "stdout",
       "text": [
        "\tvalid_h2_max_x_max_u: 2.90255618095\n"
       ]
      },
      {
       "output_type": "stream",
       "stream": "stdout",
       "text": [
        "\tvalid_h2_max_x_mean_u: 0.526374220848\n"
       ]
      },
      {
       "output_type": "stream",
       "stream": "stdout",
       "text": [
        "\tvalid_h2_max_x_min_u: 0.0103683136404\n"
       ]
      },
      {
       "output_type": "stream",
       "stream": "stdout",
       "text": [
        "\tvalid_h2_mean_x_max_u: 0.709868431091\n"
       ]
      },
      {
       "output_type": "stream",
       "stream": "stdout",
       "text": [
        "\tvalid_h2_mean_x_mean_u: 0.103222467005\n"
       ]
      },
      {
       "output_type": "stream",
       "stream": "stdout",
       "text": [
        "\tvalid_h2_mean_x_min_u: 0.00521453469992\n"
       ]
      },
      {
       "output_type": "stream",
       "stream": "stdout",
       "text": [
        "\tvalid_h2_min_x_max_u: 0.0312403924763\n"
       ]
      },
      {
       "output_type": "stream",
       "stream": "stdout",
       "text": [
        "\tvalid_h2_min_x_mean_u: 0.000465672870632\n"
       ]
      },
      {
       "output_type": "stream",
       "stream": "stdout",
       "text": [
        "\tvalid_h2_min_x_min_u: 0.0\n"
       ]
      },
      {
       "output_type": "stream",
       "stream": "stdout",
       "text": [
        "\tvalid_h2_range_x_max_u: 2.90255618095\n"
       ]
      },
      {
       "output_type": "stream",
       "stream": "stdout",
       "text": [
        "\tvalid_h2_range_x_mean_u: 0.525908589363\n"
       ]
      },
      {
       "output_type": "stream",
       "stream": "stdout",
       "text": [
        "\tvalid_h2_range_x_min_u: 0.0100769279525\n"
       ]
      },
      {
       "output_type": "stream",
       "stream": "stdout",
       "text": [
        "\tvalid_h3_kernel_norms_max: 1.55098032951\n"
       ]
      },
      {
       "output_type": "stream",
       "stream": "stdout",
       "text": [
        "\tvalid_h3_kernel_norms_mean: 1.27260315418\n"
       ]
      },
      {
       "output_type": "stream",
       "stream": "stdout",
       "text": [
        "\tvalid_h3_kernel_norms_min: 1.14496922493\n"
       ]
      },
      {
       "output_type": "stream",
       "stream": "stdout",
       "text": [
        "\tvalid_h3_max_x_max_u: 6.63183116913\n"
       ]
      },
      {
       "output_type": "stream",
       "stream": "stdout",
       "text": [
        "\tvalid_h3_max_x_mean_u: 2.50318813324\n"
       ]
      },
      {
       "output_type": "stream",
       "stream": "stdout",
       "text": [
        "\tvalid_h3_max_x_min_u: 0.0\n"
       ]
      },
      {
       "output_type": "stream",
       "stream": "stdout",
       "text": [
        "\tvalid_h3_mean_x_max_u: 2.16648006439\n"
       ]
      },
      {
       "output_type": "stream",
       "stream": "stdout",
       "text": [
        "\tvalid_h3_mean_x_mean_u: 0.663544416428\n"
       ]
      },
      {
       "output_type": "stream",
       "stream": "stdout",
       "text": [
        "\tvalid_h3_mean_x_min_u: 0.0\n"
       ]
      },
      {
       "output_type": "stream",
       "stream": "stdout",
       "text": [
        "\tvalid_h3_min_x_max_u: 0.191344156861\n"
       ]
      },
      {
       "output_type": "stream",
       "stream": "stdout",
       "text": [
        "\tvalid_h3_min_x_mean_u: 0.000732987653464\n"
       ]
      },
      {
       "output_type": "stream",
       "stream": "stdout",
       "text": [
        "\tvalid_h3_min_x_min_u: 0.0\n"
       ]
      },
      {
       "output_type": "stream",
       "stream": "stdout",
       "text": [
        "\tvalid_h3_range_x_max_u: 6.63183116913\n"
       ]
      },
      {
       "output_type": "stream",
       "stream": "stdout",
       "text": [
        "\tvalid_h3_range_x_mean_u: 2.50245547295\n"
       ]
      },
      {
       "output_type": "stream",
       "stream": "stdout",
       "text": [
        "\tvalid_h3_range_x_min_u: 0.0\n"
       ]
      },
      {
       "output_type": "stream",
       "stream": "stdout",
       "text": [
        "\tvalid_objective: 2.10042572021\n"
       ]
      },
      {
       "output_type": "stream",
       "stream": "stdout",
       "text": [
        "\tvalid_term_0: 2.07744193077\n"
       ]
      },
      {
       "output_type": "stream",
       "stream": "stdout",
       "text": [
        "\tvalid_term_1_weight_decay: 0.022983668372\n"
       ]
      },
      {
       "output_type": "stream",
       "stream": "stdout",
       "text": [
        "\tvalid_y_col_norms_max: 1.93679451942\n"
       ]
      },
      {
       "output_type": "stream",
       "stream": "stdout",
       "text": [
        "\tvalid_y_col_norms_mean: 1.67282235622\n"
       ]
      },
      {
       "output_type": "stream",
       "stream": "stdout",
       "text": [
        "\tvalid_y_col_norms_min: 1.52691745758\n"
       ]
      },
      {
       "output_type": "stream",
       "stream": "stdout",
       "text": [
        "\tvalid_y_max_max_class: 0.979879498482\n"
       ]
      },
      {
       "output_type": "stream",
       "stream": "stdout",
       "text": [
        "\tvalid_y_mean_max_class: 0.435889363289\n"
       ]
      },
      {
       "output_type": "stream",
       "stream": "stdout",
       "text": [
        "\tvalid_y_min_max_class: 0.0809186175466\n"
       ]
      },
      {
       "output_type": "stream",
       "stream": "stdout",
       "text": [
        "\tvalid_y_misclass: 0.542199969292\n"
       ]
      },
      {
       "output_type": "stream",
       "stream": "stdout",
       "text": [
        "\tvalid_y_nll: 2.07744193077\n"
       ]
      },
      {
       "output_type": "stream",
       "stream": "stdout",
       "text": [
        "\tvalid_y_row_norms_max: 0.778875470161\n"
       ]
      },
      {
       "output_type": "stream",
       "stream": "stdout",
       "text": [
        "\tvalid_y_row_norms_mean: 0.574147820473\n"
       ]
      },
      {
       "output_type": "stream",
       "stream": "stdout",
       "text": [
        "\tvalid_y_row_norms_min: 0.449582904577\n"
       ]
      },
      {
       "output_type": "stream",
       "stream": "stdout",
       "text": [
        "Saving to cnn_00_best.pkl...\n"
       ]
      },
      {
       "output_type": "stream",
       "stream": "stdout",
       "text": [
        "Saving to cnn_00_best.pkl done. Time elapsed: 0.109988 seconds\n"
       ]
      },
      {
       "output_type": "stream",
       "stream": "stdout",
       "text": [
        "Time this epoch: 0:15:05.388334\n"
       ]
      },
      {
       "output_type": "stream",
       "stream": "stdout",
       "text": [
        "Monitoring step:\n"
       ]
      },
      {
       "output_type": "stream",
       "stream": "stdout",
       "text": [
        "\tEpochs seen: 8\n"
       ]
      },
      {
       "output_type": "stream",
       "stream": "stdout",
       "text": [
        "\tBatches seen: 2000\n"
       ]
      },
      {
       "output_type": "stream",
       "stream": "stdout",
       "text": [
        "\tExamples seen: 200000\n"
       ]
      },
      {
       "output_type": "stream",
       "stream": "stdout",
       "text": [
        "\tlearning_rate: 0.0100000035018\n"
       ]
      },
      {
       "output_type": "stream",
       "stream": "stdout",
       "text": [
        "\tmomentum: 0.881109058857\n"
       ]
      },
      {
       "output_type": "stream",
       "stream": "stdout",
       "text": [
        "\ttotal_seconds_last_epoch: 1122.01196289\n"
       ]
      },
      {
       "output_type": "stream",
       "stream": "stdout",
       "text": [
        "\ttrain_h2_kernel_norms_max: 1.06104874611\n"
       ]
      },
      {
       "output_type": "stream",
       "stream": "stdout",
       "text": [
        "\ttrain_h2_kernel_norms_mean: 0.515818119049\n"
       ]
      },
      {
       "output_type": "stream",
       "stream": "stdout",
       "text": [
        "\ttrain_h2_kernel_norms_min: 0.226612314582\n"
       ]
      },
      {
       "output_type": "stream",
       "stream": "stdout",
       "text": [
        "\ttrain_h2_max_x_max_u: 2.65699696541\n"
       ]
      },
      {
       "output_type": "stream",
       "stream": "stdout",
       "text": [
        "\ttrain_h2_max_x_mean_u: 0.539927899837\n"
       ]
      },
      {
       "output_type": "stream",
       "stream": "stdout",
       "text": [
        "\ttrain_h2_max_x_min_u: 0.0103400889784\n"
       ]
      },
      {
       "output_type": "stream",
       "stream": "stdout",
       "text": [
        "\ttrain_h2_mean_x_max_u: 0.638455271721\n"
       ]
      },
      {
       "output_type": "stream",
       "stream": "stdout",
       "text": [
        "\ttrain_h2_mean_x_mean_u: 0.106305122375\n"
       ]
      },
      {
       "output_type": "stream",
       "stream": "stdout",
       "text": [
        "\ttrain_h2_mean_x_min_u: 0.00617851642892\n"
       ]
      },
      {
       "output_type": "stream",
       "stream": "stdout",
       "text": [
        "\ttrain_h2_min_x_max_u: 0.0352112129331\n"
       ]
      },
      {
       "output_type": "stream",
       "stream": "stdout",
       "text": [
        "\ttrain_h2_min_x_mean_u: 0.000658363103867\n"
       ]
      },
      {
       "output_type": "stream",
       "stream": "stdout",
       "text": [
        "\ttrain_h2_min_x_min_u: 0.0\n"
       ]
      },
      {
       "output_type": "stream",
       "stream": "stdout",
       "text": [
        "\ttrain_h2_range_x_max_u: 2.65699696541\n"
       ]
      },
      {
       "output_type": "stream",
       "stream": "stdout",
       "text": [
        "\ttrain_h2_range_x_mean_u: 0.539269626141\n"
       ]
      },
      {
       "output_type": "stream",
       "stream": "stdout",
       "text": [
        "\ttrain_h2_range_x_min_u: 0.0102456351742\n"
       ]
      },
      {
       "output_type": "stream",
       "stream": "stdout",
       "text": [
        "\ttrain_h3_kernel_norms_max: 1.64010381699\n"
       ]
      },
      {
       "output_type": "stream",
       "stream": "stdout",
       "text": [
        "\ttrain_h3_kernel_norms_mean: 1.31118071079\n"
       ]
      },
      {
       "output_type": "stream",
       "stream": "stdout",
       "text": [
        "\ttrain_h3_kernel_norms_min: 1.14348781109\n"
       ]
      },
      {
       "output_type": "stream",
       "stream": "stdout",
       "text": [
        "\ttrain_h3_max_x_max_u: 5.79538011551\n"
       ]
      },
      {
       "output_type": "stream",
       "stream": "stdout",
       "text": [
        "\ttrain_h3_max_x_mean_u: 2.42993783951\n"
       ]
      },
      {
       "output_type": "stream",
       "stream": "stdout",
       "text": [
        "\ttrain_h3_max_x_min_u: 0.0\n"
       ]
      },
      {
       "output_type": "stream",
       "stream": "stdout",
       "text": [
        "\ttrain_h3_mean_x_max_u: 1.76080310345\n"
       ]
      },
      {
       "output_type": "stream",
       "stream": "stdout",
       "text": [
        "\ttrain_h3_mean_x_mean_u: 0.58254468441\n"
       ]
      },
      {
       "output_type": "stream",
       "stream": "stdout",
       "text": [
        "\ttrain_h3_mean_x_min_u: 0.0\n"
       ]
      },
      {
       "output_type": "stream",
       "stream": "stdout",
       "text": [
        "\ttrain_h3_min_x_max_u: 0.228319913149\n"
       ]
      },
      {
       "output_type": "stream",
       "stream": "stdout",
       "text": [
        "\ttrain_h3_min_x_mean_u: 0.000930340494961\n"
       ]
      },
      {
       "output_type": "stream",
       "stream": "stdout",
       "text": [
        "\ttrain_h3_min_x_min_u: 0.0\n"
       ]
      },
      {
       "output_type": "stream",
       "stream": "stdout",
       "text": [
        "\ttrain_h3_range_x_max_u: 5.79538011551\n"
       ]
      },
      {
       "output_type": "stream",
       "stream": "stdout",
       "text": [
        "\ttrain_h3_range_x_mean_u: 2.42900753021\n"
       ]
      },
      {
       "output_type": "stream",
       "stream": "stdout",
       "text": [
        "\ttrain_h3_range_x_min_u: 0.0\n"
       ]
      },
      {
       "output_type": "stream",
       "stream": "stdout",
       "text": [
        "\ttrain_objective: 1.89331305027\n"
       ]
      },
      {
       "output_type": "stream",
       "stream": "stdout",
       "text": [
        "\ttrain_term_0: 1.86932384968\n"
       ]
      },
      {
       "output_type": "stream",
       "stream": "stdout",
       "text": [
        "\ttrain_term_1_weight_decay: 0.0239894427359\n"
       ]
      },
      {
       "output_type": "stream",
       "stream": "stdout",
       "text": [
        "\ttrain_y_col_norms_max: 1.93938803673\n"
       ]
      },
      {
       "output_type": "stream",
       "stream": "stdout",
       "text": [
        "\ttrain_y_col_norms_mean: 1.6969742775\n"
       ]
      },
      {
       "output_type": "stream",
       "stream": "stdout",
       "text": [
        "\ttrain_y_col_norms_min: 1.55070447922\n"
       ]
      },
      {
       "output_type": "stream",
       "stream": "stdout",
       "text": [
        "\ttrain_y_max_max_class: 0.974164128304\n"
       ]
      },
      {
       "output_type": "stream",
       "stream": "stdout",
       "text": [
        "\ttrain_y_mean_max_class: 0.476628124714\n"
       ]
      },
      {
       "output_type": "stream",
       "stream": "stdout",
       "text": [
        "\ttrain_y_min_max_class: 0.0928438529372\n"
       ]
      },
      {
       "output_type": "stream",
       "stream": "stdout",
       "text": [
        "\ttrain_y_misclass: 0.504000067711\n"
       ]
      },
      {
       "output_type": "stream",
       "stream": "stdout",
       "text": [
        "\ttrain_y_nll: 1.86932384968\n"
       ]
      },
      {
       "output_type": "stream",
       "stream": "stdout",
       "text": [
        "\ttrain_y_row_norms_max: 0.810985326767\n"
       ]
      },
      {
       "output_type": "stream",
       "stream": "stdout",
       "text": [
        "\ttrain_y_row_norms_mean: 0.582232713699\n"
       ]
      },
      {
       "output_type": "stream",
       "stream": "stdout",
       "text": [
        "\ttrain_y_row_norms_min: 0.451527118683\n"
       ]
      },
      {
       "output_type": "stream",
       "stream": "stdout",
       "text": [
        "\ttraining_seconds_this_epoch: 905.391235352\n"
       ]
      },
      {
       "output_type": "stream",
       "stream": "stdout",
       "text": [
        "\tvalid_h2_kernel_norms_max: 1.0610460043\n"
       ]
      },
      {
       "output_type": "stream",
       "stream": "stdout",
       "text": [
        "\tvalid_h2_kernel_norms_mean: 0.515816986561\n"
       ]
      },
      {
       "output_type": "stream",
       "stream": "stdout",
       "text": [
        "\tvalid_h2_kernel_norms_min: 0.226611837745\n"
       ]
      },
      {
       "output_type": "stream",
       "stream": "stdout",
       "text": [
        "\tvalid_h2_max_x_max_u: 2.65151309967\n"
       ]
      },
      {
       "output_type": "stream",
       "stream": "stdout",
       "text": [
        "\tvalid_h2_max_x_mean_u: 0.535879611969\n"
       ]
      },
      {
       "output_type": "stream",
       "stream": "stdout",
       "text": [
        "\tvalid_h2_max_x_min_u: 0.0101466625929\n"
       ]
      },
      {
       "output_type": "stream",
       "stream": "stdout",
       "text": [
        "\tvalid_h2_mean_x_max_u: 0.654220104218\n"
       ]
      },
      {
       "output_type": "stream",
       "stream": "stdout",
       "text": [
        "\tvalid_h2_mean_x_mean_u: 0.105776138604\n"
       ]
      },
      {
       "output_type": "stream",
       "stream": "stdout",
       "text": [
        "\tvalid_h2_mean_x_min_u: 0.00573462992907\n"
       ]
      },
      {
       "output_type": "stream",
       "stream": "stdout",
       "text": [
        "\tvalid_h2_min_x_max_u: 0.036307733506\n"
       ]
      },
      {
       "output_type": "stream",
       "stream": "stdout",
       "text": [
        "\tvalid_h2_min_x_mean_u: 0.000662594800815\n"
       ]
      },
      {
       "output_type": "stream",
       "stream": "stdout",
       "text": [
        "\tvalid_h2_min_x_min_u: 0.0\n"
       ]
      },
      {
       "output_type": "stream",
       "stream": "stdout",
       "text": [
        "\tvalid_h2_range_x_max_u: 2.65151309967\n"
       ]
      },
      {
       "output_type": "stream",
       "stream": "stdout",
       "text": [
        "\tvalid_h2_range_x_mean_u: 0.535217046738\n"
       ]
      },
      {
       "output_type": "stream",
       "stream": "stdout",
       "text": [
        "\tvalid_h2_range_x_min_u: 0.00986524857581\n"
       ]
      },
      {
       "output_type": "stream",
       "stream": "stdout",
       "text": [
        "\tvalid_h3_kernel_norms_max: 1.64009976387\n"
       ]
      },
      {
       "output_type": "stream",
       "stream": "stdout",
       "text": [
        "\tvalid_h3_kernel_norms_mean: 1.31117761135\n"
       ]
      },
      {
       "output_type": "stream",
       "stream": "stdout",
       "text": [
        "\tvalid_h3_kernel_norms_min: 1.14348912239\n"
       ]
      },
      {
       "output_type": "stream",
       "stream": "stdout",
       "text": [
        "\tvalid_h3_max_x_max_u: 5.69769001007\n"
       ]
      },
      {
       "output_type": "stream",
       "stream": "stdout",
       "text": [
        "\tvalid_h3_max_x_mean_u: 2.42500329018\n"
       ]
      },
      {
       "output_type": "stream",
       "stream": "stdout",
       "text": [
        "\tvalid_h3_max_x_min_u: 0.0\n"
       ]
      },
      {
       "output_type": "stream",
       "stream": "stdout",
       "text": [
        "\tvalid_h3_mean_x_max_u: 1.77140951157\n"
       ]
      },
      {
       "output_type": "stream",
       "stream": "stdout",
       "text": [
        "\tvalid_h3_mean_x_mean_u: 0.583590209484\n"
       ]
      },
      {
       "output_type": "stream",
       "stream": "stdout",
       "text": [
        "\tvalid_h3_mean_x_min_u: 0.0\n"
       ]
      },
      {
       "output_type": "stream",
       "stream": "stdout",
       "text": [
        "\tvalid_h3_min_x_max_u: 0.236387342215\n"
       ]
      },
      {
       "output_type": "stream",
       "stream": "stdout",
       "text": [
        "\tvalid_h3_min_x_mean_u: 0.000990302651189\n"
       ]
      },
      {
       "output_type": "stream",
       "stream": "stdout",
       "text": [
        "\tvalid_h3_min_x_min_u: 0.0\n"
       ]
      },
      {
       "output_type": "stream",
       "stream": "stdout",
       "text": [
        "\tvalid_h3_range_x_max_u: 5.69769001007\n"
       ]
      },
      {
       "output_type": "stream",
       "stream": "stdout",
       "text": [
        "\tvalid_h3_range_x_mean_u: 2.42401361465\n"
       ]
      },
      {
       "output_type": "stream",
       "stream": "stdout",
       "text": [
        "\tvalid_h3_range_x_min_u: 0.0\n"
       ]
      },
      {
       "output_type": "stream",
       "stream": "stdout",
       "text": [
        "\tvalid_objective: 1.99490880966\n"
       ]
      },
      {
       "output_type": "stream",
       "stream": "stdout",
       "text": [
        "\tvalid_term_0: 1.97091925144\n"
       ]
      },
      {
       "output_type": "stream",
       "stream": "stdout",
       "text": [
        "\tvalid_term_1_weight_decay: 0.0239893868566\n"
       ]
      },
      {
       "output_type": "stream",
       "stream": "stdout",
       "text": [
        "\tvalid_y_col_norms_max: 1.93939220905\n"
       ]
      },
      {
       "output_type": "stream",
       "stream": "stdout",
       "text": [
        "\tvalid_y_col_norms_mean: 1.69697535038\n"
       ]
      },
      {
       "output_type": "stream",
       "stream": "stdout",
       "text": [
        "\tvalid_y_col_norms_min: 1.55070471764\n"
       ]
      },
      {
       "output_type": "stream",
       "stream": "stdout",
       "text": [
        "\tvalid_y_max_max_class: 0.974137187004\n"
       ]
      },
      {
       "output_type": "stream",
       "stream": "stdout",
       "text": [
        "\tvalid_y_mean_max_class: 0.477521032095\n"
       ]
      },
      {
       "output_type": "stream",
       "stream": "stdout",
       "text": [
        "\tvalid_y_min_max_class: 0.093402504921\n"
       ]
      },
      {
       "output_type": "stream",
       "stream": "stdout",
       "text": [
        "\tvalid_y_misclass: 0.526000022888\n"
       ]
      },
      {
       "output_type": "stream",
       "stream": "stdout",
       "text": [
        "\tvalid_y_nll: 1.97091925144\n"
       ]
      },
      {
       "output_type": "stream",
       "stream": "stdout",
       "text": [
        "\tvalid_y_row_norms_max: 0.810986995697\n"
       ]
      },
      {
       "output_type": "stream",
       "stream": "stdout",
       "text": [
        "\tvalid_y_row_norms_mean: 0.582231879234\n"
       ]
      },
      {
       "output_type": "stream",
       "stream": "stdout",
       "text": [
        "\tvalid_y_row_norms_min: 0.451526135206\n"
       ]
      },
      {
       "output_type": "stream",
       "stream": "stdout",
       "text": [
        "Saving to cnn_00_best.pkl...\n"
       ]
      },
      {
       "output_type": "stream",
       "stream": "stdout",
       "text": [
        "Saving to cnn_00_best.pkl done. Time elapsed: 0.111709 seconds\n"
       ]
      },
      {
       "output_type": "stream",
       "stream": "stdout",
       "text": [
        "Time this epoch: 0:15:05.974661\n"
       ]
      },
      {
       "output_type": "stream",
       "stream": "stdout",
       "text": [
        "Monitoring step:\n"
       ]
      },
      {
       "output_type": "stream",
       "stream": "stdout",
       "text": [
        "\tEpochs seen: 9\n"
       ]
      },
      {
       "output_type": "stream",
       "stream": "stdout",
       "text": [
        "\tBatches seen: 2250\n"
       ]
      },
      {
       "output_type": "stream",
       "stream": "stdout",
       "text": [
        "\tExamples seen: 225000\n"
       ]
      },
      {
       "output_type": "stream",
       "stream": "stdout",
       "text": [
        "\tlearning_rate: 0.0100000035018\n"
       ]
      },
      {
       "output_type": "stream",
       "stream": "stdout",
       "text": [
        "\tmomentum: 0.935554742813\n"
       ]
      },
      {
       "output_type": "stream",
       "stream": "stdout",
       "text": [
        "\ttotal_seconds_last_epoch: 1122.20288086\n"
       ]
      },
      {
       "output_type": "stream",
       "stream": "stdout",
       "text": [
        "\ttrain_h2_kernel_norms_max: 1.19486761093\n"
       ]
      },
      {
       "output_type": "stream",
       "stream": "stdout",
       "text": [
        "\ttrain_h2_kernel_norms_mean: 0.558943808079\n"
       ]
      },
      {
       "output_type": "stream",
       "stream": "stdout",
       "text": [
        "\ttrain_h2_kernel_norms_min: 0.196714252234\n"
       ]
      },
      {
       "output_type": "stream",
       "stream": "stdout",
       "text": [
        "\ttrain_h2_max_x_max_u: 2.12016916275\n"
       ]
      },
      {
       "output_type": "stream",
       "stream": "stdout",
       "text": [
        "\ttrain_h2_max_x_mean_u: 0.528344273567\n"
       ]
      },
      {
       "output_type": "stream",
       "stream": "stdout",
       "text": [
        "\ttrain_h2_max_x_min_u: 0.0123296938837\n"
       ]
      },
      {
       "output_type": "stream",
       "stream": "stdout",
       "text": [
        "\ttrain_h2_mean_x_max_u: 0.539423823357\n"
       ]
      },
      {
       "output_type": "stream",
       "stream": "stdout",
       "text": [
        "\ttrain_h2_mean_x_mean_u: 0.103652887046\n"
       ]
      },
      {
       "output_type": "stream",
       "stream": "stdout",
       "text": [
        "\ttrain_h2_mean_x_min_u: 0.00581195903942\n"
       ]
      },
      {
       "output_type": "stream",
       "stream": "stdout",
       "text": [
        "\ttrain_h2_min_x_max_u: 0.0419199317694\n"
       ]
      },
      {
       "output_type": "stream",
       "stream": "stdout",
       "text": [
        "\ttrain_h2_min_x_mean_u: 0.000941347738262\n"
       ]
      },
      {
       "output_type": "stream",
       "stream": "stdout",
       "text": [
        "\ttrain_h2_min_x_min_u: 0.0\n"
       ]
      },
      {
       "output_type": "stream",
       "stream": "stdout",
       "text": [
        "\ttrain_h2_range_x_max_u: 2.12014770508\n"
       ]
      },
      {
       "output_type": "stream",
       "stream": "stdout",
       "text": [
        "\ttrain_h2_range_x_mean_u: 0.527402818203\n"
       ]
      },
      {
       "output_type": "stream",
       "stream": "stdout",
       "text": [
        "\ttrain_h2_range_x_min_u: 0.0121294409037\n"
       ]
      },
      {
       "output_type": "stream",
       "stream": "stdout",
       "text": [
        "\ttrain_h3_kernel_norms_max: 1.78592765331\n"
       ]
      },
      {
       "output_type": "stream",
       "stream": "stdout",
       "text": [
        "\ttrain_h3_kernel_norms_mean: 1.3871871233\n"
       ]
      },
      {
       "output_type": "stream",
       "stream": "stdout",
       "text": [
        "\ttrain_h3_kernel_norms_min: 1.14266061783\n"
       ]
      },
      {
       "output_type": "stream",
       "stream": "stdout",
       "text": [
        "\ttrain_h3_max_x_max_u: 5.46724843979\n"
       ]
      },
      {
       "output_type": "stream",
       "stream": "stdout",
       "text": [
        "\ttrain_h3_max_x_mean_u: 2.34507632256\n"
       ]
      },
      {
       "output_type": "stream",
       "stream": "stdout",
       "text": [
        "\ttrain_h3_max_x_min_u: 0.0\n"
       ]
      },
      {
       "output_type": "stream",
       "stream": "stdout",
       "text": [
        "\ttrain_h3_mean_x_max_u: 1.52170932293\n"
       ]
      },
      {
       "output_type": "stream",
       "stream": "stdout",
       "text": [
        "\ttrain_h3_mean_x_mean_u: 0.478270590305\n"
       ]
      },
      {
       "output_type": "stream",
       "stream": "stdout",
       "text": [
        "\ttrain_h3_mean_x_min_u: 0.0\n"
       ]
      },
      {
       "output_type": "stream",
       "stream": "stdout",
       "text": [
        "\ttrain_h3_min_x_max_u: 0.101659417152\n"
       ]
      },
      {
       "output_type": "stream",
       "stream": "stdout",
       "text": [
        "\ttrain_h3_min_x_mean_u: 0.000153067710926\n"
       ]
      },
      {
       "output_type": "stream",
       "stream": "stdout",
       "text": [
        "\ttrain_h3_min_x_min_u: 0.0\n"
       ]
      },
      {
       "output_type": "stream",
       "stream": "stdout",
       "text": [
        "\ttrain_h3_range_x_max_u: 5.46724843979\n"
       ]
      },
      {
       "output_type": "stream",
       "stream": "stdout",
       "text": [
        "\ttrain_h3_range_x_mean_u: 2.34492373466\n"
       ]
      },
      {
       "output_type": "stream",
       "stream": "stdout",
       "text": [
        "\ttrain_h3_range_x_min_u: 0.0\n"
       ]
      },
      {
       "output_type": "stream",
       "stream": "stdout",
       "text": [
        "\ttrain_objective: 1.70666444302\n"
       ]
      },
      {
       "output_type": "stream",
       "stream": "stdout",
       "text": [
        "\ttrain_term_0: 1.6809387207\n"
       ]
      },
      {
       "output_type": "stream",
       "stream": "stdout",
       "text": [
        "\ttrain_term_1_weight_decay: 0.025725485757\n"
       ]
      },
      {
       "output_type": "stream",
       "stream": "stdout",
       "text": [
        "\ttrain_y_col_norms_max: 1.93917572498\n"
       ]
      },
      {
       "output_type": "stream",
       "stream": "stdout",
       "text": [
        "\ttrain_y_col_norms_mean: 1.73735630512\n"
       ]
      },
      {
       "output_type": "stream",
       "stream": "stdout",
       "text": [
        "\ttrain_y_col_norms_min: 1.56077980995\n"
       ]
      },
      {
       "output_type": "stream",
       "stream": "stdout",
       "text": [
        "\ttrain_y_max_max_class: 0.992641627789\n"
       ]
      },
      {
       "output_type": "stream",
       "stream": "stdout",
       "text": [
        "\ttrain_y_mean_max_class: 0.502431750298\n"
       ]
      },
      {
       "output_type": "stream",
       "stream": "stdout",
       "text": [
        "\ttrain_y_min_max_class: 0.0962820127606\n"
       ]
      },
      {
       "output_type": "stream",
       "stream": "stdout",
       "text": [
        "\ttrain_y_misclass: 0.454760015011\n"
       ]
      },
      {
       "output_type": "stream",
       "stream": "stdout",
       "text": [
        "\ttrain_y_nll: 1.6809387207\n"
       ]
      },
      {
       "output_type": "stream",
       "stream": "stdout",
       "text": [
        "\ttrain_y_row_norms_max: 0.867303907871\n"
       ]
      },
      {
       "output_type": "stream",
       "stream": "stdout",
       "text": [
        "\ttrain_y_row_norms_mean: 0.59543555975\n"
       ]
      },
      {
       "output_type": "stream",
       "stream": "stdout",
       "text": [
        "\ttrain_y_row_norms_min: 0.4585981071\n"
       ]
      },
      {
       "output_type": "stream",
       "stream": "stdout",
       "text": [
        "\ttraining_seconds_this_epoch: 905.975280762\n"
       ]
      },
      {
       "output_type": "stream",
       "stream": "stdout",
       "text": [
        "\tvalid_h2_kernel_norms_max: 1.19487094879\n"
       ]
      },
      {
       "output_type": "stream",
       "stream": "stdout",
       "text": [
        "\tvalid_h2_kernel_norms_mean: 0.558944523335\n"
       ]
      },
      {
       "output_type": "stream",
       "stream": "stdout",
       "text": [
        "\tvalid_h2_kernel_norms_min: 0.19671471417\n"
       ]
      },
      {
       "output_type": "stream",
       "stream": "stdout",
       "text": [
        "\tvalid_h2_max_x_max_u: 2.11353564262\n"
       ]
      },
      {
       "output_type": "stream",
       "stream": "stdout",
       "text": [
        "\tvalid_h2_max_x_mean_u: 0.524251818657\n"
       ]
      },
      {
       "output_type": "stream",
       "stream": "stdout",
       "text": [
        "\tvalid_h2_max_x_min_u: 0.012002796866\n"
       ]
      },
      {
       "output_type": "stream",
       "stream": "stdout",
       "text": [
        "\tvalid_h2_mean_x_max_u: 0.547510147095\n"
       ]
      },
      {
       "output_type": "stream",
       "stream": "stdout",
       "text": [
        "\tvalid_h2_mean_x_mean_u: 0.103067219257\n"
       ]
      },
      {
       "output_type": "stream",
       "stream": "stdout",
       "text": [
        "\tvalid_h2_mean_x_min_u: 0.0053622443229\n"
       ]
      },
      {
       "output_type": "stream",
       "stream": "stdout",
       "text": [
        "\tvalid_h2_min_x_max_u: 0.0430402867496\n"
       ]
      },
      {
       "output_type": "stream",
       "stream": "stdout",
       "text": [
        "\tvalid_h2_min_x_mean_u: 0.000946152373217\n"
       ]
      },
      {
       "output_type": "stream",
       "stream": "stdout",
       "text": [
        "\tvalid_h2_min_x_min_u: 0.0\n"
       ]
      },
      {
       "output_type": "stream",
       "stream": "stdout",
       "text": [
        "\tvalid_h2_range_x_max_u: 2.11353564262\n"
       ]
      },
      {
       "output_type": "stream",
       "stream": "stdout",
       "text": [
        "\tvalid_h2_range_x_mean_u: 0.52330571413\n"
       ]
      },
      {
       "output_type": "stream",
       "stream": "stdout",
       "text": [
        "\tvalid_h2_range_x_min_u: 0.0116401622072\n"
       ]
      },
      {
       "output_type": "stream",
       "stream": "stdout",
       "text": [
        "\tvalid_h3_kernel_norms_max: 1.78592646122\n"
       ]
      },
      {
       "output_type": "stream",
       "stream": "stdout",
       "text": [
        "\tvalid_h3_kernel_norms_mean: 1.38718879223\n"
       ]
      },
      {
       "output_type": "stream",
       "stream": "stdout",
       "text": [
        "\tvalid_h3_kernel_norms_min: 1.1426589489\n"
       ]
      },
      {
       "output_type": "stream",
       "stream": "stdout",
       "text": [
        "\tvalid_h3_max_x_max_u: 5.33448600769\n"
       ]
      },
      {
       "output_type": "stream",
       "stream": "stdout",
       "text": [
        "\tvalid_h3_max_x_mean_u: 2.33549237251\n"
       ]
      },
      {
       "output_type": "stream",
       "stream": "stdout",
       "text": [
        "\tvalid_h3_max_x_min_u: 0.0\n"
       ]
      },
      {
       "output_type": "stream",
       "stream": "stdout",
       "text": [
        "\tvalid_h3_mean_x_max_u: 1.53260111809\n"
       ]
      },
      {
       "output_type": "stream",
       "stream": "stdout",
       "text": [
        "\tvalid_h3_mean_x_mean_u: 0.479085028172\n"
       ]
      },
      {
       "output_type": "stream",
       "stream": "stdout",
       "text": [
        "\tvalid_h3_mean_x_min_u: 0.0\n"
       ]
      },
      {
       "output_type": "stream",
       "stream": "stdout",
       "text": [
        "\tvalid_h3_min_x_max_u: 0.101860329509\n"
       ]
      },
      {
       "output_type": "stream",
       "stream": "stdout",
       "text": [
        "\tvalid_h3_min_x_mean_u: 0.000149252373376\n"
       ]
      },
      {
       "output_type": "stream",
       "stream": "stdout",
       "text": [
        "\tvalid_h3_min_x_min_u: 0.0\n"
       ]
      },
      {
       "output_type": "stream",
       "stream": "stdout",
       "text": [
        "\tvalid_h3_range_x_max_u: 5.33448600769\n"
       ]
      },
      {
       "output_type": "stream",
       "stream": "stdout",
       "text": [
        "\tvalid_h3_range_x_mean_u: 2.33534312248\n"
       ]
      },
      {
       "output_type": "stream",
       "stream": "stdout",
       "text": [
        "\tvalid_h3_range_x_min_u: 0.0\n"
       ]
      },
      {
       "output_type": "stream",
       "stream": "stdout",
       "text": [
        "\tvalid_objective: 1.84200954437\n"
       ]
      },
      {
       "output_type": "stream",
       "stream": "stdout",
       "text": [
        "\tvalid_term_0: 1.81628394127\n"
       ]
      },
      {
       "output_type": "stream",
       "stream": "stdout",
       "text": [
        "\tvalid_term_1_weight_decay: 0.025725543499\n"
       ]
      },
      {
       "output_type": "stream",
       "stream": "stdout",
       "text": [
        "\tvalid_y_col_norms_max: 1.93917155266\n"
       ]
      },
      {
       "output_type": "stream",
       "stream": "stdout",
       "text": [
        "\tvalid_y_col_norms_mean: 1.73735618591\n"
       ]
      },
      {
       "output_type": "stream",
       "stream": "stdout",
       "text": [
        "\tvalid_y_col_norms_min: 1.56078386307\n"
       ]
      },
      {
       "output_type": "stream",
       "stream": "stdout",
       "text": [
        "\tvalid_y_max_max_class: 0.99213719368\n"
       ]
      },
      {
       "output_type": "stream",
       "stream": "stdout",
       "text": [
        "\tvalid_y_mean_max_class: 0.502806782722\n"
       ]
      },
      {
       "output_type": "stream",
       "stream": "stdout",
       "text": [
        "\tvalid_y_min_max_class: 0.0952942967415\n"
       ]
      },
      {
       "output_type": "stream",
       "stream": "stdout",
       "text": [
        "\tvalid_y_misclass: 0.476600021124\n"
       ]
      },
      {
       "output_type": "stream",
       "stream": "stdout",
       "text": [
        "\tvalid_y_nll: 1.81628394127\n"
       ]
      },
      {
       "output_type": "stream",
       "stream": "stdout",
       "text": [
        "\tvalid_y_row_norms_max: 0.867303431034\n"
       ]
      },
      {
       "output_type": "stream",
       "stream": "stdout",
       "text": [
        "\tvalid_y_row_norms_mean: 0.595435619354\n"
       ]
      },
      {
       "output_type": "stream",
       "stream": "stdout",
       "text": [
        "\tvalid_y_row_norms_min: 0.4585981071\n"
       ]
      },
      {
       "output_type": "stream",
       "stream": "stdout",
       "text": [
        "Saving to cnn_00_best.pkl...\n"
       ]
      },
      {
       "output_type": "stream",
       "stream": "stdout",
       "text": [
        "Saving to cnn_00_best.pkl done. Time elapsed: 0.110643 seconds\n"
       ]
      },
      {
       "output_type": "stream",
       "stream": "stdout",
       "text": [
        "Time this epoch: 0:15:06.107166\n"
       ]
      },
      {
       "output_type": "stream",
       "stream": "stdout",
       "text": [
        "Monitoring step:\n"
       ]
      },
      {
       "output_type": "stream",
       "stream": "stdout",
       "text": [
        "\tEpochs seen: 10\n"
       ]
      },
      {
       "output_type": "stream",
       "stream": "stdout",
       "text": [
        "\tBatches seen: 2500\n"
       ]
      },
      {
       "output_type": "stream",
       "stream": "stdout",
       "text": [
        "\tExamples seen: 250000\n"
       ]
      },
      {
       "output_type": "stream",
       "stream": "stdout",
       "text": [
        "\tlearning_rate: 0.0100000035018\n"
       ]
      },
      {
       "output_type": "stream",
       "stream": "stdout",
       "text": [
        "\tmomentum: 0.990002393723\n"
       ]
      },
      {
       "output_type": "stream",
       "stream": "stdout",
       "text": [
        "\ttotal_seconds_last_epoch: 1122.98303223\n"
       ]
      },
      {
       "output_type": "stream",
       "stream": "stdout",
       "text": [
        "\ttrain_h2_kernel_norms_max: 1.88797724247\n"
       ]
      },
      {
       "output_type": "stream",
       "stream": "stdout",
       "text": [
        "\ttrain_h2_kernel_norms_mean: 0.585822701454\n"
       ]
      },
      {
       "output_type": "stream",
       "stream": "stdout",
       "text": [
        "\ttrain_h2_kernel_norms_min: 0.152426540852\n"
       ]
      },
      {
       "output_type": "stream",
       "stream": "stdout",
       "text": [
        "\ttrain_h2_max_x_max_u: 1.86167418957\n"
       ]
      },
      {
       "output_type": "stream",
       "stream": "stdout",
       "text": [
        "\ttrain_h2_max_x_mean_u: 0.444381445646\n"
       ]
      },
      {
       "output_type": "stream",
       "stream": "stdout",
       "text": [
        "\ttrain_h2_max_x_min_u: 0.0163547229022\n"
       ]
      },
      {
       "output_type": "stream",
       "stream": "stdout",
       "text": [
        "\ttrain_h2_mean_x_max_u: 0.458555281162\n"
       ]
      },
      {
       "output_type": "stream",
       "stream": "stdout",
       "text": [
        "\ttrain_h2_mean_x_mean_u: 0.0859070792794\n"
       ]
      },
      {
       "output_type": "stream",
       "stream": "stdout",
       "text": [
        "\ttrain_h2_mean_x_min_u: 0.00414357287809\n"
       ]
      },
      {
       "output_type": "stream",
       "stream": "stdout",
       "text": [
        "\ttrain_h2_min_x_max_u: 0.0761631131172\n"
       ]
      },
      {
       "output_type": "stream",
       "stream": "stdout",
       "text": [
        "\ttrain_h2_min_x_mean_u: 0.00230767321773\n"
       ]
      },
      {
       "output_type": "stream",
       "stream": "stdout",
       "text": [
        "\ttrain_h2_min_x_min_u: 0.0\n"
       ]
      },
      {
       "output_type": "stream",
       "stream": "stdout",
       "text": [
        "\ttrain_h2_range_x_max_u: 1.86127305031\n"
       ]
      },
      {
       "output_type": "stream",
       "stream": "stdout",
       "text": [
        "\ttrain_h2_range_x_mean_u: 0.442073911428\n"
       ]
      },
      {
       "output_type": "stream",
       "stream": "stdout",
       "text": [
        "\ttrain_h2_range_x_min_u: 0.0159731917083\n"
       ]
      },
      {
       "output_type": "stream",
       "stream": "stdout",
       "text": [
        "\ttrain_h3_kernel_norms_max: 1.93649685383\n"
       ]
      },
      {
       "output_type": "stream",
       "stream": "stdout",
       "text": [
        "\ttrain_h3_kernel_norms_mean: 1.82849156857\n"
       ]
      },
      {
       "output_type": "stream",
       "stream": "stdout",
       "text": [
        "\ttrain_h3_kernel_norms_min: 1.19371974468\n"
       ]
      },
      {
       "output_type": "stream",
       "stream": "stdout",
       "text": [
        "\ttrain_h3_max_x_max_u: 5.02148199081\n"
       ]
      },
      {
       "output_type": "stream",
       "stream": "stdout",
       "text": [
        "\ttrain_h3_max_x_mean_u: 1.36519944668\n"
       ]
      },
      {
       "output_type": "stream",
       "stream": "stdout",
       "text": [
        "\ttrain_h3_max_x_min_u: 0.0\n"
       ]
      },
      {
       "output_type": "stream",
       "stream": "stdout",
       "text": [
        "\ttrain_h3_mean_x_max_u: 1.40725386143\n"
       ]
      },
      {
       "output_type": "stream",
       "stream": "stdout",
       "text": [
        "\ttrain_h3_mean_x_mean_u: 0.180785566568\n"
       ]
      },
      {
       "output_type": "stream",
       "stream": "stdout",
       "text": [
        "\ttrain_h3_mean_x_min_u: 0.0\n"
       ]
      },
      {
       "output_type": "stream",
       "stream": "stdout",
       "text": [
        "\ttrain_h3_min_x_max_u: 0.0\n"
       ]
      },
      {
       "output_type": "stream",
       "stream": "stdout",
       "text": [
        "\ttrain_h3_min_x_mean_u: 0.0\n"
       ]
      },
      {
       "output_type": "stream",
       "stream": "stdout",
       "text": [
        "\ttrain_h3_min_x_min_u: 0.0\n"
       ]
      },
      {
       "output_type": "stream",
       "stream": "stdout",
       "text": [
        "\ttrain_h3_range_x_max_u: 5.02148199081\n"
       ]
      },
      {
       "output_type": "stream",
       "stream": "stdout",
       "text": [
        "\ttrain_h3_range_x_mean_u: 1.36519944668\n"
       ]
      },
      {
       "output_type": "stream",
       "stream": "stdout",
       "text": [
        "\ttrain_h3_range_x_min_u: 0.0\n"
       ]
      },
      {
       "output_type": "stream",
       "stream": "stdout",
       "text": [
        "\ttrain_objective: 1.88953363895\n"
       ]
      },
      {
       "output_type": "stream",
       "stream": "stdout",
       "text": [
        "\ttrain_term_0: 1.85568189621\n"
       ]
      },
      {
       "output_type": "stream",
       "stream": "stdout",
       "text": [
        "\ttrain_term_1_weight_decay: 0.0338520556688\n"
       ]
      },
      {
       "output_type": "stream",
       "stream": "stdout",
       "text": [
        "\ttrain_y_col_norms_max: 1.95032978058\n"
       ]
      },
      {
       "output_type": "stream",
       "stream": "stdout",
       "text": [
        "\ttrain_y_col_norms_mean: 1.88496541977\n"
       ]
      },
      {
       "output_type": "stream",
       "stream": "stdout",
       "text": [
        "\ttrain_y_col_norms_min: 1.61251235008\n"
       ]
      },
      {
       "output_type": "stream",
       "stream": "stdout",
       "text": [
        "\ttrain_y_max_max_class: 0.988730847836\n"
       ]
      },
      {
       "output_type": "stream",
       "stream": "stdout",
       "text": [
        "\ttrain_y_mean_max_class: 0.483265519142\n"
       ]
      },
      {
       "output_type": "stream",
       "stream": "stdout",
       "text": [
        "\ttrain_y_min_max_class: 0.0832575634122\n"
       ]
      },
      {
       "output_type": "stream",
       "stream": "stdout",
       "text": [
        "\ttrain_y_misclass: 0.498120158911\n"
       ]
      },
      {
       "output_type": "stream",
       "stream": "stdout",
       "text": [
        "\ttrain_y_nll: 1.85568189621\n"
       ]
      },
      {
       "output_type": "stream",
       "stream": "stdout",
       "text": [
        "\ttrain_y_row_norms_max: 1.15433323383\n"
       ]
      },
      {
       "output_type": "stream",
       "stream": "stdout",
       "text": [
        "\ttrain_y_row_norms_mean: 0.63562977314\n"
       ]
      },
      {
       "output_type": "stream",
       "stream": "stdout",
       "text": [
        "\ttrain_y_row_norms_min: 0.382974594831\n"
       ]
      },
      {
       "output_type": "stream",
       "stream": "stdout",
       "text": [
        "\ttraining_seconds_this_epoch: 906.109191895\n"
       ]
      },
      {
       "output_type": "stream",
       "stream": "stdout",
       "text": [
        "\tvalid_h2_kernel_norms_max: 1.88797831535\n"
       ]
      },
      {
       "output_type": "stream",
       "stream": "stdout",
       "text": [
        "\tvalid_h2_kernel_norms_mean: 0.585821032524\n"
       ]
      },
      {
       "output_type": "stream",
       "stream": "stdout",
       "text": [
        "\tvalid_h2_kernel_norms_min: 0.152426674962\n"
       ]
      },
      {
       "output_type": "stream",
       "stream": "stdout",
       "text": [
        "\tvalid_h2_max_x_max_u: 1.86177575588\n"
       ]
      },
      {
       "output_type": "stream",
       "stream": "stdout",
       "text": [
        "\tvalid_h2_max_x_mean_u: 0.440327554941\n"
       ]
      },
      {
       "output_type": "stream",
       "stream": "stdout",
       "text": [
        "\tvalid_h2_max_x_min_u: 0.0159454811364\n"
       ]
      },
      {
       "output_type": "stream",
       "stream": "stdout",
       "text": [
        "\tvalid_h2_mean_x_max_u: 0.46857714653\n"
       ]
      },
      {
       "output_type": "stream",
       "stream": "stdout",
       "text": [
        "\tvalid_h2_mean_x_mean_u: 0.0852958709002\n"
       ]
      },
      {
       "output_type": "stream",
       "stream": "stdout",
       "text": [
        "\tvalid_h2_mean_x_min_u: 0.00395170319825\n"
       ]
      },
      {
       "output_type": "stream",
       "stream": "stdout",
       "text": [
        "\tvalid_h2_min_x_max_u: 0.0751246362925\n"
       ]
      },
      {
       "output_type": "stream",
       "stream": "stdout",
       "text": [
        "\tvalid_h2_min_x_mean_u: 0.00234428443946\n"
       ]
      },
      {
       "output_type": "stream",
       "stream": "stdout",
       "text": [
        "\tvalid_h2_min_x_min_u: 0.0\n"
       ]
      },
      {
       "output_type": "stream",
       "stream": "stdout",
       "text": [
        "\tvalid_h2_range_x_max_u: 1.86154401302\n"
       ]
      },
      {
       "output_type": "stream",
       "stream": "stdout",
       "text": [
        "\tvalid_h2_range_x_mean_u: 0.437983244658\n"
       ]
      },
      {
       "output_type": "stream",
       "stream": "stdout",
       "text": [
        "\tvalid_h2_range_x_min_u: 0.0154072549194\n"
       ]
      },
      {
       "output_type": "stream",
       "stream": "stdout",
       "text": [
        "\tvalid_h3_kernel_norms_max: 1.93650090694\n"
       ]
      },
      {
       "output_type": "stream",
       "stream": "stdout",
       "text": [
        "\tvalid_h3_kernel_norms_mean: 1.82849121094\n"
       ]
      },
      {
       "output_type": "stream",
       "stream": "stdout",
       "text": [
        "\tvalid_h3_kernel_norms_min: 1.19371950626\n"
       ]
      },
      {
       "output_type": "stream",
       "stream": "stdout",
       "text": [
        "\tvalid_h3_max_x_max_u: 4.83954143524\n"
       ]
      },
      {
       "output_type": "stream",
       "stream": "stdout",
       "text": [
        "\tvalid_h3_max_x_mean_u: 1.35180711746\n"
       ]
      },
      {
       "output_type": "stream",
       "stream": "stdout",
       "text": [
        "\tvalid_h3_max_x_min_u: 0.0\n"
       ]
      },
      {
       "output_type": "stream",
       "stream": "stdout",
       "text": [
        "\tvalid_h3_mean_x_max_u: 1.42284834385\n"
       ]
      },
      {
       "output_type": "stream",
       "stream": "stdout",
       "text": [
        "\tvalid_h3_mean_x_mean_u: 0.180428102612\n"
       ]
      },
      {
       "output_type": "stream",
       "stream": "stdout",
       "text": [
        "\tvalid_h3_mean_x_min_u: 0.0\n"
       ]
      },
      {
       "output_type": "stream",
       "stream": "stdout",
       "text": [
        "\tvalid_h3_min_x_max_u: 0.0\n"
       ]
      },
      {
       "output_type": "stream",
       "stream": "stdout",
       "text": [
        "\tvalid_h3_min_x_mean_u: 0.0\n"
       ]
      },
      {
       "output_type": "stream",
       "stream": "stdout",
       "text": [
        "\tvalid_h3_min_x_min_u: 0.0\n"
       ]
      },
      {
       "output_type": "stream",
       "stream": "stdout",
       "text": [
        "\tvalid_h3_range_x_max_u: 4.83954143524\n"
       ]
      },
      {
       "output_type": "stream",
       "stream": "stdout",
       "text": [
        "\tvalid_h3_range_x_mean_u: 1.35180711746\n"
       ]
      },
      {
       "output_type": "stream",
       "stream": "stdout",
       "text": [
        "\tvalid_h3_range_x_min_u: 0.0\n"
       ]
      },
      {
       "output_type": "stream",
       "stream": "stdout",
       "text": [
        "\tvalid_objective: 2.03600311279\n"
       ]
      },
      {
       "output_type": "stream",
       "stream": "stdout",
       "text": [
        "\tvalid_term_0: 2.00215125084\n"
       ]
      },
      {
       "output_type": "stream",
       "stream": "stdout",
       "text": [
        "\tvalid_term_1_weight_decay: 0.0338520146906\n"
       ]
      },
      {
       "output_type": "stream",
       "stream": "stdout",
       "text": [
        "\tvalid_y_col_norms_max: 1.95033431053\n"
       ]
      },
      {
       "output_type": "stream",
       "stream": "stdout",
       "text": [
        "\tvalid_y_col_norms_mean: 1.88496148586\n"
       ]
      },
      {
       "output_type": "stream",
       "stream": "stdout",
       "text": [
        "\tvalid_y_col_norms_min: 1.61250841618\n"
       ]
      },
      {
       "output_type": "stream",
       "stream": "stdout",
       "text": [
        "\tvalid_y_max_max_class: 0.989305615425\n"
       ]
      },
      {
       "output_type": "stream",
       "stream": "stdout",
       "text": [
        "\tvalid_y_mean_max_class: 0.479139953852\n"
       ]
      },
      {
       "output_type": "stream",
       "stream": "stdout",
       "text": [
        "\tvalid_y_min_max_class: 0.0813782289624\n"
       ]
      },
      {
       "output_type": "stream",
       "stream": "stdout",
       "text": [
        "\tvalid_y_misclass: 0.534400045872\n"
       ]
      },
      {
       "output_type": "stream",
       "stream": "stdout",
       "text": [
        "\tvalid_y_nll: 2.00215125084\n"
       ]
      },
      {
       "output_type": "stream",
       "stream": "stdout",
       "text": [
        "\tvalid_y_row_norms_max: 1.15433323383\n"
       ]
      },
      {
       "output_type": "stream",
       "stream": "stdout",
       "text": [
        "\tvalid_y_row_norms_mean: 0.635630846024\n"
       ]
      },
      {
       "output_type": "stream",
       "stream": "stdout",
       "text": [
        "\tvalid_y_row_norms_min: 0.382973730564\n"
       ]
      },
      {
       "output_type": "stream",
       "stream": "stdout",
       "text": [
        "Time this epoch: 0:15:05.602837\n"
       ]
      },
      {
       "output_type": "stream",
       "stream": "stdout",
       "text": [
        "Monitoring step:\n"
       ]
      },
      {
       "output_type": "stream",
       "stream": "stdout",
       "text": [
        "\tEpochs seen: 11\n"
       ]
      },
      {
       "output_type": "stream",
       "stream": "stdout",
       "text": [
        "\tBatches seen: 2750\n"
       ]
      },
      {
       "output_type": "stream",
       "stream": "stdout",
       "text": [
        "\tExamples seen: 275000\n"
       ]
      },
      {
       "output_type": "stream",
       "stream": "stdout",
       "text": [
        "\tlearning_rate: 0.0100000035018\n"
       ]
      },
      {
       "output_type": "stream",
       "stream": "stdout",
       "text": [
        "\tmomentum: 0.990002393723\n"
       ]
      },
      {
       "output_type": "stream",
       "stream": "stdout",
       "text": [
        "\ttotal_seconds_last_epoch: 1122.65087891\n"
       ]
      },
      {
       "output_type": "stream",
       "stream": "stdout",
       "text": [
        "\ttrain_h2_kernel_norms_max: 1.93649685383\n"
       ]
      },
      {
       "output_type": "stream",
       "stream": "stdout",
       "text": [
        "\ttrain_h2_kernel_norms_mean: 0.701640307903\n"
       ]
      },
      {
       "output_type": "stream",
       "stream": "stdout",
       "text": [
        "\ttrain_h2_kernel_norms_min: 0.17048047483\n"
       ]
      },
      {
       "output_type": "stream",
       "stream": "stdout",
       "text": [
        "\ttrain_h2_max_x_max_u: 1.96906816959\n"
       ]
      },
      {
       "output_type": "stream",
       "stream": "stdout",
       "text": [
        "\ttrain_h2_max_x_mean_u: 0.491121530533\n"
       ]
      },
      {
       "output_type": "stream",
       "stream": "stdout",
       "text": [
        "\ttrain_h2_max_x_min_u: 0.0172932837158\n"
       ]
      },
      {
       "output_type": "stream",
       "stream": "stdout",
       "text": [
        "\ttrain_h2_mean_x_max_u: 0.46201172471\n"
       ]
      },
      {
       "output_type": "stream",
       "stream": "stdout",
       "text": [
        "\ttrain_h2_mean_x_mean_u: 0.0989097580314\n"
       ]
      },
      {
       "output_type": "stream",
       "stream": "stdout",
       "text": [
        "\ttrain_h2_mean_x_min_u: 0.00419703312218\n"
       ]
      },
      {
       "output_type": "stream",
       "stream": "stdout",
       "text": [
        "\ttrain_h2_min_x_max_u: 0.135555803776\n"
       ]
      },
      {
       "output_type": "stream",
       "stream": "stdout",
       "text": [
        "\ttrain_h2_min_x_mean_u: 0.00341110187583\n"
       ]
      },
      {
       "output_type": "stream",
       "stream": "stdout",
       "text": [
        "\ttrain_h2_min_x_min_u: 0.0\n"
       ]
      },
      {
       "output_type": "stream",
       "stream": "stdout",
       "text": [
        "\ttrain_h2_range_x_max_u: 1.96684288979\n"
       ]
      },
      {
       "output_type": "stream",
       "stream": "stdout",
       "text": [
        "\ttrain_h2_range_x_mean_u: 0.487710267305\n"
       ]
      },
      {
       "output_type": "stream",
       "stream": "stdout",
       "text": [
        "\ttrain_h2_range_x_min_u: 0.0170705355704\n"
       ]
      },
      {
       "output_type": "stream",
       "stream": "stdout",
       "text": [
        "\ttrain_h3_kernel_norms_max: 1.93649685383\n"
       ]
      },
      {
       "output_type": "stream",
       "stream": "stdout",
       "text": [
        "\ttrain_h3_kernel_norms_mean: 1.87471497059\n"
       ]
      },
      {
       "output_type": "stream",
       "stream": "stdout",
       "text": [
        "\ttrain_h3_kernel_norms_min: 1.17446732521\n"
       ]
      },
      {
       "output_type": "stream",
       "stream": "stdout",
       "text": [
        "\ttrain_h3_max_x_max_u: 5.50041818619\n"
       ]
      },
      {
       "output_type": "stream",
       "stream": "stdout",
       "text": [
        "\ttrain_h3_max_x_mean_u: 1.2446243763\n"
       ]
      },
      {
       "output_type": "stream",
       "stream": "stdout",
       "text": [
        "\ttrain_h3_max_x_min_u: 0.0\n"
       ]
      },
      {
       "output_type": "stream",
       "stream": "stdout",
       "text": [
        "\ttrain_h3_mean_x_max_u: 1.03423702717\n"
       ]
      },
      {
       "output_type": "stream",
       "stream": "stdout",
       "text": [
        "\ttrain_h3_mean_x_mean_u: 0.136983826756\n"
       ]
      },
      {
       "output_type": "stream",
       "stream": "stdout",
       "text": [
        "\ttrain_h3_mean_x_min_u: 0.0\n"
       ]
      },
      {
       "output_type": "stream",
       "stream": "stdout",
       "text": [
        "\ttrain_h3_min_x_max_u: 0.0\n"
       ]
      },
      {
       "output_type": "stream",
       "stream": "stdout",
       "text": [
        "\ttrain_h3_min_x_mean_u: 0.0\n"
       ]
      },
      {
       "output_type": "stream",
       "stream": "stdout",
       "text": [
        "\ttrain_h3_min_x_min_u: 0.0\n"
       ]
      },
      {
       "output_type": "stream",
       "stream": "stdout",
       "text": [
        "\ttrain_h3_range_x_max_u: 5.50041818619\n"
       ]
      },
      {
       "output_type": "stream",
       "stream": "stdout",
       "text": [
        "\ttrain_h3_range_x_mean_u: 1.2446243763\n"
       ]
      },
      {
       "output_type": "stream",
       "stream": "stdout",
       "text": [
        "\ttrain_h3_range_x_min_u: 0.0\n"
       ]
      },
      {
       "output_type": "stream",
       "stream": "stdout",
       "text": [
        "\ttrain_objective: 1.82321584225\n"
       ]
      },
      {
       "output_type": "stream",
       "stream": "stdout",
       "text": [
        "\ttrain_term_0: 1.78754973412\n"
       ]
      },
      {
       "output_type": "stream",
       "stream": "stdout",
       "text": [
        "\ttrain_term_1_weight_decay: 0.0356663353741\n"
       ]
      },
      {
       "output_type": "stream",
       "stream": "stdout",
       "text": [
        "\ttrain_y_col_norms_max: 1.95280480385\n"
       ]
      },
      {
       "output_type": "stream",
       "stream": "stdout",
       "text": [
        "\ttrain_y_col_norms_mean: 1.91411340237\n"
       ]
      },
      {
       "output_type": "stream",
       "stream": "stdout",
       "text": [
        "\ttrain_y_col_norms_min: 1.66934716702\n"
       ]
      },
      {
       "output_type": "stream",
       "stream": "stdout",
       "text": [
        "\ttrain_y_max_max_class: 0.99031496048\n"
       ]
      },
      {
       "output_type": "stream",
       "stream": "stdout",
       "text": [
        "\ttrain_y_mean_max_class: 0.512010991573\n"
       ]
      },
      {
       "output_type": "stream",
       "stream": "stdout",
       "text": [
        "\ttrain_y_min_max_class: 0.0880940109491\n"
       ]
      },
      {
       "output_type": "stream",
       "stream": "stdout",
       "text": [
        "\ttrain_y_misclass: 0.489520043135\n"
       ]
      },
      {
       "output_type": "stream",
       "stream": "stdout",
       "text": [
        "\ttrain_y_nll: 1.78754973412\n"
       ]
      },
      {
       "output_type": "stream",
       "stream": "stdout",
       "text": [
        "\ttrain_y_row_norms_max: 1.40482163429\n"
       ]
      },
      {
       "output_type": "stream",
       "stream": "stdout",
       "text": [
        "\ttrain_y_row_norms_mean: 0.630223810673\n"
       ]
      },
      {
       "output_type": "stream",
       "stream": "stdout",
       "text": [
        "\ttrain_y_row_norms_min: 0.310589522123\n"
       ]
      },
      {
       "output_type": "stream",
       "stream": "stdout",
       "text": [
        "\ttraining_seconds_this_epoch: 905.605041504\n"
       ]
      },
      {
       "output_type": "stream",
       "stream": "stdout",
       "text": [
        "\tvalid_h2_kernel_norms_max: 1.93650090694\n"
       ]
      },
      {
       "output_type": "stream",
       "stream": "stdout",
       "text": [
        "\tvalid_h2_kernel_norms_mean: 0.701641023159\n"
       ]
      },
      {
       "output_type": "stream",
       "stream": "stdout",
       "text": [
        "\tvalid_h2_kernel_norms_min: 0.170480489731\n"
       ]
      },
      {
       "output_type": "stream",
       "stream": "stdout",
       "text": [
        "\tvalid_h2_max_x_max_u: 1.97570455074\n"
       ]
      },
      {
       "output_type": "stream",
       "stream": "stdout",
       "text": [
        "\tvalid_h2_max_x_mean_u: 0.486086428165\n"
       ]
      },
      {
       "output_type": "stream",
       "stream": "stdout",
       "text": [
        "\tvalid_h2_max_x_min_u: 0.0166738778353\n"
       ]
      },
      {
       "output_type": "stream",
       "stream": "stdout",
       "text": [
        "\tvalid_h2_mean_x_max_u: 0.46523809433\n"
       ]
      },
      {
       "output_type": "stream",
       "stream": "stdout",
       "text": [
        "\tvalid_h2_mean_x_mean_u: 0.0981648340821\n"
       ]
      },
      {
       "output_type": "stream",
       "stream": "stdout",
       "text": [
        "\tvalid_h2_mean_x_min_u: 0.00398075720295\n"
       ]
      },
      {
       "output_type": "stream",
       "stream": "stdout",
       "text": [
        "\tvalid_h2_min_x_max_u: 0.139115989208\n"
       ]
      },
      {
       "output_type": "stream",
       "stream": "stdout",
       "text": [
        "\tvalid_h2_min_x_mean_u: 0.00349000981078\n"
       ]
      },
      {
       "output_type": "stream",
       "stream": "stdout",
       "text": [
        "\tvalid_h2_min_x_min_u: 0.0\n"
       ]
      },
      {
       "output_type": "stream",
       "stream": "stdout",
       "text": [
        "\tvalid_h2_range_x_max_u: 1.97316110134\n"
       ]
      },
      {
       "output_type": "stream",
       "stream": "stdout",
       "text": [
        "\tvalid_h2_range_x_mean_u: 0.482596486807\n"
       ]
      },
      {
       "output_type": "stream",
       "stream": "stdout",
       "text": [
        "\tvalid_h2_range_x_min_u: 0.0163938216865\n"
       ]
      },
      {
       "output_type": "stream",
       "stream": "stdout",
       "text": [
        "\tvalid_h3_kernel_norms_max: 1.93650090694\n"
       ]
      },
      {
       "output_type": "stream",
       "stream": "stdout",
       "text": [
        "\tvalid_h3_kernel_norms_mean: 1.87471497059\n"
       ]
      },
      {
       "output_type": "stream",
       "stream": "stdout",
       "text": [
        "\tvalid_h3_kernel_norms_min: 1.174467206\n"
       ]
      },
      {
       "output_type": "stream",
       "stream": "stdout",
       "text": [
        "\tvalid_h3_max_x_max_u: 5.48387241364\n"
       ]
      },
      {
       "output_type": "stream",
       "stream": "stdout",
       "text": [
        "\tvalid_h3_max_x_mean_u: 1.23684418201\n"
       ]
      },
      {
       "output_type": "stream",
       "stream": "stdout",
       "text": [
        "\tvalid_h3_max_x_min_u: 0.0\n"
       ]
      },
      {
       "output_type": "stream",
       "stream": "stdout",
       "text": [
        "\tvalid_h3_mean_x_max_u: 1.05667376518\n"
       ]
      },
      {
       "output_type": "stream",
       "stream": "stdout",
       "text": [
        "\tvalid_h3_mean_x_mean_u: 0.136426880956\n"
       ]
      },
      {
       "output_type": "stream",
       "stream": "stdout",
       "text": [
        "\tvalid_h3_mean_x_min_u: 0.0\n"
       ]
      },
      {
       "output_type": "stream",
       "stream": "stdout",
       "text": [
        "\tvalid_h3_min_x_max_u: 0.0\n"
       ]
      },
      {
       "output_type": "stream",
       "stream": "stdout",
       "text": [
        "\tvalid_h3_min_x_mean_u: 0.0\n"
       ]
      },
      {
       "output_type": "stream",
       "stream": "stdout",
       "text": [
        "\tvalid_h3_min_x_min_u: 0.0\n"
       ]
      },
      {
       "output_type": "stream",
       "stream": "stdout",
       "text": [
        "\tvalid_h3_range_x_max_u: 5.48387241364\n"
       ]
      },
      {
       "output_type": "stream",
       "stream": "stdout",
       "text": [
        "\tvalid_h3_range_x_mean_u: 1.23684418201\n"
       ]
      },
      {
       "output_type": "stream",
       "stream": "stdout",
       "text": [
        "\tvalid_h3_range_x_min_u: 0.0\n"
       ]
      },
      {
       "output_type": "stream",
       "stream": "stdout",
       "text": [
        "\tvalid_objective: 1.98790323734\n"
       ]
      },
      {
       "output_type": "stream",
       "stream": "stdout",
       "text": [
        "\tvalid_term_0: 1.95223677158\n"
       ]
      },
      {
       "output_type": "stream",
       "stream": "stdout",
       "text": [
        "\tvalid_term_1_weight_decay: 0.0356663689017\n"
       ]
      },
      {
       "output_type": "stream",
       "stream": "stdout",
       "text": [
        "\tvalid_y_col_norms_max: 1.95281052589\n"
       ]
      },
      {
       "output_type": "stream",
       "stream": "stdout",
       "text": [
        "\tvalid_y_col_norms_mean: 1.91411244869\n"
       ]
      },
      {
       "output_type": "stream",
       "stream": "stdout",
       "text": [
        "\tvalid_y_col_norms_min: 1.6693469286\n"
       ]
      },
      {
       "output_type": "stream",
       "stream": "stdout",
       "text": [
        "\tvalid_y_max_max_class: 0.989671587944\n"
       ]
      },
      {
       "output_type": "stream",
       "stream": "stdout",
       "text": [
        "\tvalid_y_mean_max_class: 0.510569572449\n"
       ]
      },
      {
       "output_type": "stream",
       "stream": "stdout",
       "text": [
        "\tvalid_y_min_max_class: 0.0856275185943\n"
       ]
      },
      {
       "output_type": "stream",
       "stream": "stdout",
       "text": [
        "\tvalid_y_misclass: 0.513800024986\n"
       ]
      },
      {
       "output_type": "stream",
       "stream": "stdout",
       "text": [
        "\tvalid_y_nll: 1.95223677158\n"
       ]
      },
      {
       "output_type": "stream",
       "stream": "stdout",
       "text": [
        "\tvalid_y_row_norms_max: 1.40482020378\n"
       ]
      },
      {
       "output_type": "stream",
       "stream": "stdout",
       "text": [
        "\tvalid_y_row_norms_mean: 0.63022261858\n"
       ]
      },
      {
       "output_type": "stream",
       "stream": "stdout",
       "text": [
        "\tvalid_y_row_norms_min: 0.310589402914\n"
       ]
      }
     ],
     "prompt_number": 7
    },
    {
     "cell_type": "code",
     "collapsed": false,
     "input": [
      "!../pylearn2_fork/pylearn2/scripts/print_monitor.py cnn_00_best.pkl"
     ],
     "language": "python",
     "metadata": {},
     "outputs": [
      {
       "output_type": "stream",
       "stream": "stdout",
       "text": [
        "Using gpu device 0: GeForce GTX 550 Ti\r\n"
       ]
      },
      {
       "output_type": "stream",
       "stream": "stdout",
       "text": [
        "epochs seen:  9\r\n",
        "time trained:  10341.848325\r\n",
        "learning_rate : 0.0100000035018\r\n",
        "momentum : 0.935554742813\r\n",
        "total_seconds_last_epoch : 1122.20288086\r\n",
        "train_h2_kernel_norms_max : 1.19486761093\r\n",
        "train_h2_kernel_norms_mean : 0.558943808079\r\n",
        "train_h2_kernel_norms_min : 0.196714252234\r\n",
        "train_h2_max_x_max_u : 2.12016916275\r\n",
        "train_h2_max_x_mean_u : 0.528344273567\r\n",
        "train_h2_max_x_min_u : 0.0123296938837\r\n",
        "train_h2_mean_x_max_u : 0.539423823357\r\n",
        "train_h2_mean_x_mean_u : 0.103652887046\r\n",
        "train_h2_mean_x_min_u : 0.00581195903942\r\n",
        "train_h2_min_x_max_u : 0.0419199317694\r\n",
        "train_h2_min_x_mean_u : 0.000941347738262\r\n",
        "train_h2_min_x_min_u : 0.0\r\n",
        "train_h2_range_x_max_u : 2.12014770508\r\n",
        "train_h2_range_x_mean_u : 0.527402818203\r\n",
        "train_h2_range_x_min_u : 0.0121294409037\r\n",
        "train_h3_kernel_norms_max : 1.78592765331\r\n",
        "train_h3_kernel_norms_mean : 1.3871871233\r\n",
        "train_h3_kernel_norms_min : 1.14266061783\r\n",
        "train_h3_max_x_max_u : 5.46724843979\r\n",
        "train_h3_max_x_mean_u : 2.34507632256\r\n",
        "train_h3_max_x_min_u : 0.0\r\n",
        "train_h3_mean_x_max_u : 1.52170932293\r\n",
        "train_h3_mean_x_mean_u : 0.478270590305\r\n",
        "train_h3_mean_x_min_u : 0.0\r\n",
        "train_h3_min_x_max_u : 0.101659417152\r\n",
        "train_h3_min_x_mean_u : 0.000153067710926\r\n",
        "train_h3_min_x_min_u : 0.0\r\n",
        "train_h3_range_x_max_u : 5.46724843979\r\n",
        "train_h3_range_x_mean_u : 2.34492373466\r\n",
        "train_h3_range_x_min_u : 0.0\r\n",
        "train_objective : 1.70666444302\r\n",
        "train_term_0 : 1.6809387207\r\n",
        "train_term_1_weight_decay : 0.025725485757\r\n",
        "train_y_col_norms_max : 1.93917572498\r\n",
        "train_y_col_norms_mean : 1.73735630512\r\n",
        "train_y_col_norms_min : 1.56077980995\r\n",
        "train_y_max_max_class : 0.992641627789\r\n",
        "train_y_mean_max_class : 0.502431750298\r\n",
        "train_y_min_max_class : 0.0962820127606\r\n",
        "train_y_misclass : 0.454760015011\r\n",
        "train_y_nll : 1.6809387207\r\n",
        "train_y_row_norms_max : 0.867303907871\r\n",
        "train_y_row_norms_mean : 0.59543555975\r\n",
        "train_y_row_norms_min : 0.4585981071\r\n",
        "training_seconds_this_epoch : 905.975280762\r\n",
        "valid_h2_kernel_norms_max : 1.19487094879\r\n",
        "valid_h2_kernel_norms_mean : 0.558944523335\r\n",
        "valid_h2_kernel_norms_min : 0.19671471417\r\n",
        "valid_h2_max_x_max_u : 2.11353564262\r\n",
        "valid_h2_max_x_mean_u : 0.524251818657\r\n",
        "valid_h2_max_x_min_u : 0.012002796866\r\n",
        "valid_h2_mean_x_max_u : 0.547510147095\r\n",
        "valid_h2_mean_x_mean_u : 0.103067219257\r\n",
        "valid_h2_mean_x_min_u : 0.0053622443229\r\n",
        "valid_h2_min_x_max_u : 0.0430402867496\r\n",
        "valid_h2_min_x_mean_u : 0.000946152373217\r\n",
        "valid_h2_min_x_min_u : 0.0\r\n",
        "valid_h2_range_x_max_u : 2.11353564262\r\n",
        "valid_h2_range_x_mean_u : 0.52330571413\r\n",
        "valid_h2_range_x_min_u : 0.0116401622072\r\n",
        "valid_h3_kernel_norms_max : 1.78592646122\r\n",
        "valid_h3_kernel_norms_mean : 1.38718879223\r\n",
        "valid_h3_kernel_norms_min : 1.1426589489\r\n",
        "valid_h3_max_x_max_u : 5.33448600769\r\n",
        "valid_h3_max_x_mean_u : 2.33549237251\r\n",
        "valid_h3_max_x_min_u : 0.0\r\n",
        "valid_h3_mean_x_max_u : 1.53260111809\r\n",
        "valid_h3_mean_x_mean_u : 0.479085028172\r\n",
        "valid_h3_mean_x_min_u : 0.0\r\n",
        "valid_h3_min_x_max_u : 0.101860329509\r\n",
        "valid_h3_min_x_mean_u : 0.000149252373376\r\n",
        "valid_h3_min_x_min_u : 0.0\r\n",
        "valid_h3_range_x_max_u : 5.33448600769\r\n",
        "valid_h3_range_x_mean_u : 2.33534312248\r\n",
        "valid_h3_range_x_min_u : 0.0\r\n",
        "valid_objective : 1.84200954437\r\n",
        "valid_term_0 : 1.81628394127\r\n",
        "valid_term_1_weight_decay : 0.025725543499\r\n",
        "valid_y_col_norms_max : 1.93917155266\r\n",
        "valid_y_col_norms_mean : 1.73735618591\r\n",
        "valid_y_col_norms_min : 1.56078386307\r\n",
        "valid_y_max_max_class : 0.99213719368\r\n",
        "valid_y_mean_max_class : 0.502806782722\r\n",
        "valid_y_min_max_class : 0.0952942967415\r\n",
        "valid_y_misclass : 0.476600021124\r\n",
        "valid_y_nll : 1.81628394127\r\n",
        "valid_y_row_norms_max : 0.867303431034\r\n",
        "valid_y_row_norms_mean : 0.595435619354\r\n",
        "valid_y_row_norms_min : 0.4585981071\r\n"
       ]
      }
     ],
     "prompt_number": 3
    },
    {
     "cell_type": "code",
     "collapsed": false,
     "input": [
      "# !chmod u+x pylearn2_fork/pylearn2/scripts/mlp/predict_csv.py"
     ],
     "language": "python",
     "metadata": {},
     "outputs": []
    },
    {
     "cell_type": "code",
     "collapsed": false,
     "input": [
      "!../pylearn2_fork/pylearn2/scripts/mlp/predict_cnn_csv.py \\\n",
      "    cnn_00_best.pkl\\\n",
      "    test_data_centered_cnn_32px.npy\\\n",
      "    submission_cnn_00_best.csv\\\n",
      "    pred_rownames_cnn.pkl\\\n",
      "    pred_colnames_reader.pkl"
     ],
     "language": "python",
     "metadata": {},
     "outputs": [
      {
       "output_type": "stream",
       "stream": "stdout",
       "text": [
        "Using gpu device 0: GeForce GTX 550 Ti\r\n"
       ]
      },
      {
       "output_type": "stream",
       "stream": "stdout",
       "text": [
        "loading model...\r\n"
       ]
      },
      {
       "output_type": "stream",
       "stream": "stdout",
       "text": [
        "loading data and predicting...\r\n",
        "setting up symbolic expressions...\r\n"
       ]
      },
      {
       "output_type": "stream",
       "stream": "stdout",
       "text": [
        "/home/jotham/venvs/2014-12-20_datascibowl/lib/python2.7/site-packages/theano/tensor/subtensor.py:190: FutureWarning: comparison to `None` will result in an elementwise object comparison in the future.\r\n",
        "  if stop in [None, maxsize]:\r\n"
       ]
      },
      {
       "output_type": "stream",
       "stream": "stdout",
       "text": [
        "writing predictions...\r\n"
       ]
      }
     ],
     "prompt_number": 5
    },
    {
     "cell_type": "code",
     "collapsed": false,
     "input": [
      "# OLD ONE WITH BUGGERED COL LABELS\n",
      "y = pd.read_csv('submission_cnn_00_best.csv')\n",
      "y"
     ],
     "language": "python",
     "metadata": {},
     "outputs": [
      {
       "html": [
        "<div style=\"max-height:1000px;max-width:1500px;overflow:auto;\">\n",
        "<table border=\"1\" class=\"dataframe\">\n",
        "  <thead>\n",
        "    <tr style=\"text-align: right;\">\n",
        "      <th></th>\n",
        "      <th>image</th>\n",
        "      <th>euphausiids_young</th>\n",
        "      <th>hydromedusae_narcomedusae</th>\n",
        "      <th>copepod_calanoid_small_longantennae</th>\n",
        "      <th>appendicularian_s_shape</th>\n",
        "      <th>decapods</th>\n",
        "      <th>hydromedusae_typeD_bell_and_tentacles</th>\n",
        "      <th>crustacean_other</th>\n",
        "      <th>hydromedusae_bell_and_tentacles</th>\n",
        "      <th>echinoderm_larva_pluteus_brittlestar</th>\n",
        "      <th>...</th>\n",
        "      <th>copepod_calanoid_octomoms</th>\n",
        "      <th>acantharia_protist_big_center</th>\n",
        "      <th>diatom_chain_tube</th>\n",
        "      <th>fish_larvae_medium_body</th>\n",
        "      <th>shrimp_sergestidae</th>\n",
        "      <th>pteropod_theco_dev_seq</th>\n",
        "      <th>siphonophore_partial</th>\n",
        "      <th>protist_fuzzy_olive</th>\n",
        "      <th>appendicularian_fritillaridae</th>\n",
        "      <th>radiolarian_colony</th>\n",
        "    </tr>\n",
        "  </thead>\n",
        "  <tbody>\n",
        "    <tr>\n",
        "      <th>0     </th>\n",
        "      <td>  79469.jpg</td>\n",
        "      <td> 0.000999</td>\n",
        "      <td> 5.126506e-04</td>\n",
        "      <td> 1.018462e-05</td>\n",
        "      <td> 0.000889</td>\n",
        "      <td> 0.000092</td>\n",
        "      <td> 3.017974e-05</td>\n",
        "      <td> 4.801131e-05</td>\n",
        "      <td> 3.830052e-05</td>\n",
        "      <td> 1.121036e-04</td>\n",
        "      <td>...</td>\n",
        "      <td> 8.009753e-05</td>\n",
        "      <td> 0.000141</td>\n",
        "      <td> 7.553571e-04</td>\n",
        "      <td> 2.574329e-05</td>\n",
        "      <td> 1.648166e-03</td>\n",
        "      <td> 0.000134</td>\n",
        "      <td> 9.096187e-05</td>\n",
        "      <td> 2.044277e-05</td>\n",
        "      <td> 0.000130</td>\n",
        "      <td> 1.987029e-04</td>\n",
        "    </tr>\n",
        "    <tr>\n",
        "      <th>1     </th>\n",
        "      <td> 158984.jpg</td>\n",
        "      <td> 0.000020</td>\n",
        "      <td> 1.519219e-04</td>\n",
        "      <td> 4.288653e-05</td>\n",
        "      <td> 0.015080</td>\n",
        "      <td> 0.000080</td>\n",
        "      <td> 1.913380e-07</td>\n",
        "      <td> 3.401868e-06</td>\n",
        "      <td> 1.211119e-06</td>\n",
        "      <td> 2.347123e-05</td>\n",
        "      <td>...</td>\n",
        "      <td> 9.658837e-06</td>\n",
        "      <td> 0.000031</td>\n",
        "      <td> 4.773716e-06</td>\n",
        "      <td> 1.790800e-07</td>\n",
        "      <td> 4.962825e-04</td>\n",
        "      <td> 0.000010</td>\n",
        "      <td> 2.424652e-05</td>\n",
        "      <td> 1.066839e-02</td>\n",
        "      <td> 0.005034</td>\n",
        "      <td> 4.422695e-04</td>\n",
        "    </tr>\n",
        "    <tr>\n",
        "      <th>2     </th>\n",
        "      <td> 114171.jpg</td>\n",
        "      <td> 0.000047</td>\n",
        "      <td> 1.451103e-02</td>\n",
        "      <td> 7.176830e-06</td>\n",
        "      <td> 0.000388</td>\n",
        "      <td> 0.000807</td>\n",
        "      <td> 1.857109e-03</td>\n",
        "      <td> 7.839362e-06</td>\n",
        "      <td> 2.871784e-03</td>\n",
        "      <td> 1.447452e-04</td>\n",
        "      <td>...</td>\n",
        "      <td> 1.234644e-04</td>\n",
        "      <td> 0.000206</td>\n",
        "      <td> 6.880909e-05</td>\n",
        "      <td> 1.788396e-04</td>\n",
        "      <td> 2.153248e-02</td>\n",
        "      <td> 0.001212</td>\n",
        "      <td> 1.212041e-02</td>\n",
        "      <td> 1.470681e-04</td>\n",
        "      <td> 0.000571</td>\n",
        "      <td> 3.082770e-02</td>\n",
        "    </tr>\n",
        "    <tr>\n",
        "      <th>3     </th>\n",
        "      <td>  56148.jpg</td>\n",
        "      <td> 0.000015</td>\n",
        "      <td> 1.062309e-03</td>\n",
        "      <td> 1.581430e-05</td>\n",
        "      <td> 0.000033</td>\n",
        "      <td> 0.000030</td>\n",
        "      <td> 5.796808e-01</td>\n",
        "      <td> 8.393954e-06</td>\n",
        "      <td> 2.070906e-01</td>\n",
        "      <td> 3.005158e-03</td>\n",
        "      <td>...</td>\n",
        "      <td> 1.910843e-06</td>\n",
        "      <td> 0.000047</td>\n",
        "      <td> 7.878471e-05</td>\n",
        "      <td> 9.196852e-06</td>\n",
        "      <td> 5.683988e-05</td>\n",
        "      <td> 0.000324</td>\n",
        "      <td> 1.890857e-03</td>\n",
        "      <td> 3.718558e-06</td>\n",
        "      <td> 0.000008</td>\n",
        "      <td> 4.623566e-04</td>\n",
        "    </tr>\n",
        "    <tr>\n",
        "      <th>4     </th>\n",
        "      <td>  28082.jpg</td>\n",
        "      <td> 0.000046</td>\n",
        "      <td> 6.095946e-06</td>\n",
        "      <td> 1.551438e-04</td>\n",
        "      <td> 0.000161</td>\n",
        "      <td> 0.000005</td>\n",
        "      <td> 1.478683e-09</td>\n",
        "      <td> 8.664228e-04</td>\n",
        "      <td> 1.511152e-07</td>\n",
        "      <td> 1.670150e-05</td>\n",
        "      <td>...</td>\n",
        "      <td> 2.518088e-03</td>\n",
        "      <td> 0.000573</td>\n",
        "      <td> 2.419562e-05</td>\n",
        "      <td> 2.610493e-07</td>\n",
        "      <td> 7.194679e-05</td>\n",
        "      <td> 0.000003</td>\n",
        "      <td> 7.232652e-09</td>\n",
        "      <td> 3.307026e-05</td>\n",
        "      <td> 0.000124</td>\n",
        "      <td> 3.626074e-07</td>\n",
        "    </tr>\n",
        "    <tr>\n",
        "      <th>5     </th>\n",
        "      <td>  69488.jpg</td>\n",
        "      <td> 0.022871</td>\n",
        "      <td> 1.123973e-07</td>\n",
        "      <td> 3.507647e-07</td>\n",
        "      <td> 0.000017</td>\n",
        "      <td> 0.000037</td>\n",
        "      <td> 1.688424e-09</td>\n",
        "      <td> 4.207015e-03</td>\n",
        "      <td> 8.579118e-08</td>\n",
        "      <td> 3.838054e-07</td>\n",
        "      <td>...</td>\n",
        "      <td> 6.863903e-06</td>\n",
        "      <td> 0.000010</td>\n",
        "      <td> 5.034389e-04</td>\n",
        "      <td> 1.215086e-06</td>\n",
        "      <td> 7.017920e-03</td>\n",
        "      <td> 0.000004</td>\n",
        "      <td> 1.673246e-07</td>\n",
        "      <td> 7.275006e-10</td>\n",
        "      <td> 0.000009</td>\n",
        "      <td> 1.443130e-07</td>\n",
        "    </tr>\n",
        "    <tr>\n",
        "      <th>6     </th>\n",
        "      <td> 116104.jpg</td>\n",
        "      <td> 0.000680</td>\n",
        "      <td> 3.054321e-03</td>\n",
        "      <td> 7.847542e-06</td>\n",
        "      <td> 0.056200</td>\n",
        "      <td> 0.000923</td>\n",
        "      <td> 3.914984e-05</td>\n",
        "      <td> 2.146507e-04</td>\n",
        "      <td> 1.384115e-04</td>\n",
        "      <td> 1.707249e-04</td>\n",
        "      <td>...</td>\n",
        "      <td> 1.056153e-04</td>\n",
        "      <td> 0.000203</td>\n",
        "      <td> 3.848304e-03</td>\n",
        "      <td> 4.626535e-04</td>\n",
        "      <td> 1.428145e-03</td>\n",
        "      <td> 0.002341</td>\n",
        "      <td> 2.496904e-03</td>\n",
        "      <td> 7.001583e-04</td>\n",
        "      <td> 0.005605</td>\n",
        "      <td> 8.500820e-03</td>\n",
        "    </tr>\n",
        "    <tr>\n",
        "      <th>7     </th>\n",
        "      <td>  35015.jpg</td>\n",
        "      <td> 0.000970</td>\n",
        "      <td> 1.278684e-06</td>\n",
        "      <td> 1.961599e-06</td>\n",
        "      <td> 0.423750</td>\n",
        "      <td> 0.000017</td>\n",
        "      <td> 7.131472e-07</td>\n",
        "      <td> 8.335883e-05</td>\n",
        "      <td> 4.155511e-06</td>\n",
        "      <td> 2.249962e-05</td>\n",
        "      <td>...</td>\n",
        "      <td> 1.779826e-05</td>\n",
        "      <td> 0.000055</td>\n",
        "      <td> 4.730393e-04</td>\n",
        "      <td> 1.211731e-06</td>\n",
        "      <td> 8.971590e-06</td>\n",
        "      <td> 0.000054</td>\n",
        "      <td> 1.300229e-05</td>\n",
        "      <td> 1.791680e-06</td>\n",
        "      <td> 0.000188</td>\n",
        "      <td> 6.076314e-06</td>\n",
        "    </tr>\n",
        "    <tr>\n",
        "      <th>8     </th>\n",
        "      <td> 137664.jpg</td>\n",
        "      <td> 0.000119</td>\n",
        "      <td> 1.391841e-04</td>\n",
        "      <td> 3.050134e-04</td>\n",
        "      <td> 0.000443</td>\n",
        "      <td> 0.000493</td>\n",
        "      <td> 5.930452e-05</td>\n",
        "      <td> 6.409914e-04</td>\n",
        "      <td> 1.120810e-04</td>\n",
        "      <td> 8.499032e-05</td>\n",
        "      <td>...</td>\n",
        "      <td> 1.045501e-04</td>\n",
        "      <td> 0.000336</td>\n",
        "      <td> 6.455828e-02</td>\n",
        "      <td> 1.966139e-04</td>\n",
        "      <td> 9.053159e-03</td>\n",
        "      <td> 0.000040</td>\n",
        "      <td> 5.674300e-05</td>\n",
        "      <td> 6.621518e-06</td>\n",
        "      <td> 0.000495</td>\n",
        "      <td> 3.368836e-04</td>\n",
        "    </tr>\n",
        "    <tr>\n",
        "      <th>9     </th>\n",
        "      <td> 119939.jpg</td>\n",
        "      <td> 0.000550</td>\n",
        "      <td> 9.452846e-05</td>\n",
        "      <td> 7.419787e-05</td>\n",
        "      <td> 0.000508</td>\n",
        "      <td> 0.000579</td>\n",
        "      <td> 1.805225e-04</td>\n",
        "      <td> 2.661458e-03</td>\n",
        "      <td> 1.000375e-03</td>\n",
        "      <td> 9.444020e-04</td>\n",
        "      <td>...</td>\n",
        "      <td> 1.375301e-06</td>\n",
        "      <td> 0.000127</td>\n",
        "      <td> 5.655879e-03</td>\n",
        "      <td> 3.889129e-04</td>\n",
        "      <td> 4.615208e-03</td>\n",
        "      <td> 0.000605</td>\n",
        "      <td> 4.412823e-03</td>\n",
        "      <td> 3.853222e-06</td>\n",
        "      <td> 0.000218</td>\n",
        "      <td> 1.575645e-03</td>\n",
        "    </tr>\n",
        "    <tr>\n",
        "      <th>10    </th>\n",
        "      <td>  94206.jpg</td>\n",
        "      <td> 0.002616</td>\n",
        "      <td> 2.242026e-05</td>\n",
        "      <td> 1.590589e-06</td>\n",
        "      <td> 0.003010</td>\n",
        "      <td> 0.002772</td>\n",
        "      <td> 1.510278e-05</td>\n",
        "      <td> 6.102488e-02</td>\n",
        "      <td> 5.822351e-06</td>\n",
        "      <td> 3.526338e-05</td>\n",
        "      <td>...</td>\n",
        "      <td> 1.857480e-05</td>\n",
        "      <td> 0.000202</td>\n",
        "      <td> 5.840598e-03</td>\n",
        "      <td> 9.580268e-03</td>\n",
        "      <td> 1.014878e-03</td>\n",
        "      <td> 0.000199</td>\n",
        "      <td> 4.572322e-04</td>\n",
        "      <td> 1.469347e-04</td>\n",
        "      <td> 0.004118</td>\n",
        "      <td> 2.474847e-03</td>\n",
        "    </tr>\n",
        "    <tr>\n",
        "      <th>11    </th>\n",
        "      <td> 160285.jpg</td>\n",
        "      <td> 0.000129</td>\n",
        "      <td> 5.514275e-03</td>\n",
        "      <td> 7.318699e-03</td>\n",
        "      <td> 0.000447</td>\n",
        "      <td> 0.000047</td>\n",
        "      <td> 9.037509e-04</td>\n",
        "      <td> 6.677080e-04</td>\n",
        "      <td> 6.424260e-03</td>\n",
        "      <td> 5.251947e-03</td>\n",
        "      <td>...</td>\n",
        "      <td> 2.166573e-04</td>\n",
        "      <td> 0.001247</td>\n",
        "      <td> 1.298781e-02</td>\n",
        "      <td> 9.492628e-05</td>\n",
        "      <td> 4.847135e-04</td>\n",
        "      <td> 0.000741</td>\n",
        "      <td> 1.620994e-04</td>\n",
        "      <td> 1.407944e-04</td>\n",
        "      <td> 0.000238</td>\n",
        "      <td> 9.446264e-04</td>\n",
        "    </tr>\n",
        "    <tr>\n",
        "      <th>12    </th>\n",
        "      <td>  91834.jpg</td>\n",
        "      <td> 0.001420</td>\n",
        "      <td> 1.019875e-04</td>\n",
        "      <td> 3.816401e-04</td>\n",
        "      <td> 0.004767</td>\n",
        "      <td> 0.000035</td>\n",
        "      <td> 5.089372e-06</td>\n",
        "      <td> 6.696055e-03</td>\n",
        "      <td> 8.797735e-05</td>\n",
        "      <td> 5.177489e-03</td>\n",
        "      <td>...</td>\n",
        "      <td> 2.760683e-04</td>\n",
        "      <td> 0.000156</td>\n",
        "      <td> 3.283549e-03</td>\n",
        "      <td> 4.941487e-05</td>\n",
        "      <td> 1.108340e-03</td>\n",
        "      <td> 0.000103</td>\n",
        "      <td> 3.821414e-05</td>\n",
        "      <td> 6.086312e-04</td>\n",
        "      <td> 0.000795</td>\n",
        "      <td> 1.014760e-04</td>\n",
        "    </tr>\n",
        "    <tr>\n",
        "      <th>13    </th>\n",
        "      <td> 143392.jpg</td>\n",
        "      <td> 0.000385</td>\n",
        "      <td> 8.288134e-04</td>\n",
        "      <td> 4.974315e-04</td>\n",
        "      <td> 0.002336</td>\n",
        "      <td> 0.000200</td>\n",
        "      <td> 4.369800e-04</td>\n",
        "      <td> 5.823078e-04</td>\n",
        "      <td> 1.097529e-03</td>\n",
        "      <td> 1.190600e-03</td>\n",
        "      <td>...</td>\n",
        "      <td> 1.950869e-05</td>\n",
        "      <td> 0.000278</td>\n",
        "      <td> 7.301356e-03</td>\n",
        "      <td> 7.653003e-04</td>\n",
        "      <td> 1.323279e-02</td>\n",
        "      <td> 0.001981</td>\n",
        "      <td> 1.305992e-03</td>\n",
        "      <td> 2.247412e-04</td>\n",
        "      <td> 0.001074</td>\n",
        "      <td> 2.283828e-03</td>\n",
        "    </tr>\n",
        "    <tr>\n",
        "      <th>14    </th>\n",
        "      <td>  81677.jpg</td>\n",
        "      <td> 0.000749</td>\n",
        "      <td> 4.167136e-07</td>\n",
        "      <td> 4.828373e-09</td>\n",
        "      <td> 0.000039</td>\n",
        "      <td> 0.000100</td>\n",
        "      <td> 2.983499e-09</td>\n",
        "      <td> 3.919711e-03</td>\n",
        "      <td> 2.280520e-08</td>\n",
        "      <td> 1.419986e-07</td>\n",
        "      <td>...</td>\n",
        "      <td> 6.972745e-07</td>\n",
        "      <td> 0.000007</td>\n",
        "      <td> 2.925047e-04</td>\n",
        "      <td> 1.045649e-04</td>\n",
        "      <td> 2.304798e-04</td>\n",
        "      <td> 0.000003</td>\n",
        "      <td> 2.246882e-07</td>\n",
        "      <td> 1.664463e-07</td>\n",
        "      <td> 0.000006</td>\n",
        "      <td> 1.148170e-05</td>\n",
        "    </tr>\n",
        "    <tr>\n",
        "      <th>15    </th>\n",
        "      <td> 147924.jpg</td>\n",
        "      <td> 0.000002</td>\n",
        "      <td> 8.972303e-04</td>\n",
        "      <td> 5.277665e-04</td>\n",
        "      <td> 0.000632</td>\n",
        "      <td> 0.000004</td>\n",
        "      <td> 4.816081e-07</td>\n",
        "      <td> 1.340978e-06</td>\n",
        "      <td> 6.206224e-06</td>\n",
        "      <td> 2.172058e-05</td>\n",
        "      <td>...</td>\n",
        "      <td> 1.067823e-04</td>\n",
        "      <td> 0.000033</td>\n",
        "      <td> 6.045113e-06</td>\n",
        "      <td> 7.547288e-08</td>\n",
        "      <td> 3.274209e-05</td>\n",
        "      <td> 0.000012</td>\n",
        "      <td> 3.152500e-06</td>\n",
        "      <td> 1.463381e-03</td>\n",
        "      <td> 0.000303</td>\n",
        "      <td> 1.652731e-05</td>\n",
        "    </tr>\n",
        "    <tr>\n",
        "      <th>16    </th>\n",
        "      <td> 143911.jpg</td>\n",
        "      <td> 0.001087</td>\n",
        "      <td> 2.818010e-04</td>\n",
        "      <td> 2.460242e-05</td>\n",
        "      <td> 0.000080</td>\n",
        "      <td> 0.000048</td>\n",
        "      <td> 2.895782e-05</td>\n",
        "      <td> 1.894139e-04</td>\n",
        "      <td> 7.127765e-05</td>\n",
        "      <td> 3.082244e-05</td>\n",
        "      <td>...</td>\n",
        "      <td> 5.221488e-05</td>\n",
        "      <td> 0.000104</td>\n",
        "      <td> 7.829570e-04</td>\n",
        "      <td> 3.844811e-05</td>\n",
        "      <td> 9.685019e-03</td>\n",
        "      <td> 0.000371</td>\n",
        "      <td> 4.485469e-05</td>\n",
        "      <td> 5.000522e-06</td>\n",
        "      <td> 0.000105</td>\n",
        "      <td> 2.021373e-04</td>\n",
        "    </tr>\n",
        "    <tr>\n",
        "      <th>17    </th>\n",
        "      <td>  40405.jpg</td>\n",
        "      <td> 0.000077</td>\n",
        "      <td> 2.367586e-04</td>\n",
        "      <td> 6.736666e-07</td>\n",
        "      <td> 0.000465</td>\n",
        "      <td> 0.000654</td>\n",
        "      <td> 7.836463e-04</td>\n",
        "      <td> 9.244884e-06</td>\n",
        "      <td> 3.231273e-04</td>\n",
        "      <td> 5.439233e-05</td>\n",
        "      <td>...</td>\n",
        "      <td> 2.738172e-06</td>\n",
        "      <td> 0.000060</td>\n",
        "      <td> 2.633562e-05</td>\n",
        "      <td> 6.036977e-04</td>\n",
        "      <td> 5.572043e-04</td>\n",
        "      <td> 0.000629</td>\n",
        "      <td> 5.520146e-02</td>\n",
        "      <td> 9.656329e-05</td>\n",
        "      <td> 0.000199</td>\n",
        "      <td> 9.109232e-03</td>\n",
        "    </tr>\n",
        "    <tr>\n",
        "      <th>18    </th>\n",
        "      <td>  50081.jpg</td>\n",
        "      <td> 0.000411</td>\n",
        "      <td> 6.294932e-03</td>\n",
        "      <td> 2.567829e-03</td>\n",
        "      <td> 0.045230</td>\n",
        "      <td> 0.000170</td>\n",
        "      <td> 7.028774e-05</td>\n",
        "      <td> 7.539095e-04</td>\n",
        "      <td> 3.058978e-03</td>\n",
        "      <td> 4.454009e-03</td>\n",
        "      <td>...</td>\n",
        "      <td> 5.675491e-04</td>\n",
        "      <td> 0.000629</td>\n",
        "      <td> 1.305163e-02</td>\n",
        "      <td> 1.011209e-04</td>\n",
        "      <td> 1.394067e-03</td>\n",
        "      <td> 0.001259</td>\n",
        "      <td> 2.714327e-04</td>\n",
        "      <td> 1.028551e-03</td>\n",
        "      <td> 0.001414</td>\n",
        "      <td> 1.029996e-03</td>\n",
        "    </tr>\n",
        "    <tr>\n",
        "      <th>19    </th>\n",
        "      <td>   1507.jpg</td>\n",
        "      <td> 0.000316</td>\n",
        "      <td> 6.711986e-04</td>\n",
        "      <td> 6.307339e-04</td>\n",
        "      <td> 0.000357</td>\n",
        "      <td> 0.000027</td>\n",
        "      <td> 2.338456e-02</td>\n",
        "      <td> 3.100927e-04</td>\n",
        "      <td> 3.418324e-01</td>\n",
        "      <td> 7.412316e-02</td>\n",
        "      <td>...</td>\n",
        "      <td> 9.851788e-06</td>\n",
        "      <td> 0.000477</td>\n",
        "      <td> 2.229880e-02</td>\n",
        "      <td> 3.048077e-05</td>\n",
        "      <td> 1.946418e-04</td>\n",
        "      <td> 0.002401</td>\n",
        "      <td> 6.860101e-04</td>\n",
        "      <td> 2.675943e-05</td>\n",
        "      <td> 0.000056</td>\n",
        "      <td> 4.007295e-04</td>\n",
        "    </tr>\n",
        "    <tr>\n",
        "      <th>20    </th>\n",
        "      <td>   9188.jpg</td>\n",
        "      <td> 0.000199</td>\n",
        "      <td> 5.001167e-05</td>\n",
        "      <td> 4.635692e-03</td>\n",
        "      <td> 0.001054</td>\n",
        "      <td> 0.000021</td>\n",
        "      <td> 7.679667e-08</td>\n",
        "      <td> 4.106690e-03</td>\n",
        "      <td> 7.878451e-07</td>\n",
        "      <td> 7.873426e-05</td>\n",
        "      <td>...</td>\n",
        "      <td> 3.742907e-04</td>\n",
        "      <td> 0.000051</td>\n",
        "      <td> 1.535143e-03</td>\n",
        "      <td> 3.472908e-06</td>\n",
        "      <td> 6.829164e-03</td>\n",
        "      <td> 0.000041</td>\n",
        "      <td> 8.500587e-07</td>\n",
        "      <td> 7.430544e-06</td>\n",
        "      <td> 0.000147</td>\n",
        "      <td> 2.343529e-06</td>\n",
        "    </tr>\n",
        "    <tr>\n",
        "      <th>21    </th>\n",
        "      <td>  63590.jpg</td>\n",
        "      <td> 0.000371</td>\n",
        "      <td> 9.774262e-04</td>\n",
        "      <td> 1.239333e-04</td>\n",
        "      <td> 0.002260</td>\n",
        "      <td> 0.000174</td>\n",
        "      <td> 3.702291e-02</td>\n",
        "      <td> 4.104247e-04</td>\n",
        "      <td> 1.742970e-01</td>\n",
        "      <td> 2.854282e-02</td>\n",
        "      <td>...</td>\n",
        "      <td> 6.040242e-06</td>\n",
        "      <td> 0.001396</td>\n",
        "      <td> 9.673483e-04</td>\n",
        "      <td> 8.045837e-06</td>\n",
        "      <td> 1.661992e-04</td>\n",
        "      <td> 0.000597</td>\n",
        "      <td> 5.228246e-04</td>\n",
        "      <td> 3.057161e-05</td>\n",
        "      <td> 0.000113</td>\n",
        "      <td> 6.229638e-04</td>\n",
        "    </tr>\n",
        "    <tr>\n",
        "      <th>22    </th>\n",
        "      <td>  48464.jpg</td>\n",
        "      <td> 0.000898</td>\n",
        "      <td> 2.978553e-09</td>\n",
        "      <td> 2.809462e-08</td>\n",
        "      <td> 0.000477</td>\n",
        "      <td> 0.000057</td>\n",
        "      <td> 2.031230e-10</td>\n",
        "      <td> 2.835146e-04</td>\n",
        "      <td> 3.469500e-08</td>\n",
        "      <td> 7.799456e-08</td>\n",
        "      <td>...</td>\n",
        "      <td> 2.112352e-09</td>\n",
        "      <td> 0.000001</td>\n",
        "      <td> 5.274189e-05</td>\n",
        "      <td> 5.231123e-07</td>\n",
        "      <td> 2.954194e-04</td>\n",
        "      <td> 0.000001</td>\n",
        "      <td> 8.474995e-06</td>\n",
        "      <td> 8.256377e-09</td>\n",
        "      <td> 0.000050</td>\n",
        "      <td> 1.295219e-06</td>\n",
        "    </tr>\n",
        "    <tr>\n",
        "      <th>23    </th>\n",
        "      <td>  42284.jpg</td>\n",
        "      <td> 0.003097</td>\n",
        "      <td> 4.006012e-04</td>\n",
        "      <td> 7.896144e-05</td>\n",
        "      <td> 0.002400</td>\n",
        "      <td> 0.001058</td>\n",
        "      <td> 8.568781e-05</td>\n",
        "      <td> 7.910884e-04</td>\n",
        "      <td> 2.451961e-04</td>\n",
        "      <td> 2.223898e-04</td>\n",
        "      <td>...</td>\n",
        "      <td> 5.731609e-05</td>\n",
        "      <td> 0.000530</td>\n",
        "      <td> 5.980205e-03</td>\n",
        "      <td> 2.030730e-04</td>\n",
        "      <td> 4.902991e-03</td>\n",
        "      <td> 0.003744</td>\n",
        "      <td> 1.174006e-03</td>\n",
        "      <td> 4.326293e-05</td>\n",
        "      <td> 0.000908</td>\n",
        "      <td> 1.609563e-03</td>\n",
        "    </tr>\n",
        "    <tr>\n",
        "      <th>24    </th>\n",
        "      <td>   9848.jpg</td>\n",
        "      <td> 0.000005</td>\n",
        "      <td> 4.102498e-03</td>\n",
        "      <td> 1.374800e-05</td>\n",
        "      <td> 0.001462</td>\n",
        "      <td> 0.000278</td>\n",
        "      <td> 2.723893e-05</td>\n",
        "      <td> 3.564468e-06</td>\n",
        "      <td> 2.632159e-04</td>\n",
        "      <td> 4.403191e-05</td>\n",
        "      <td>...</td>\n",
        "      <td> 1.273400e-05</td>\n",
        "      <td> 0.000092</td>\n",
        "      <td> 3.709486e-05</td>\n",
        "      <td> 4.145081e-06</td>\n",
        "      <td> 4.846972e-04</td>\n",
        "      <td> 0.000031</td>\n",
        "      <td> 1.774444e-04</td>\n",
        "      <td> 1.686083e-03</td>\n",
        "      <td> 0.001927</td>\n",
        "      <td> 1.052716e-02</td>\n",
        "    </tr>\n",
        "    <tr>\n",
        "      <th>25    </th>\n",
        "      <td> 151571.jpg</td>\n",
        "      <td> 0.001718</td>\n",
        "      <td> 4.940825e-03</td>\n",
        "      <td> 2.190310e-03</td>\n",
        "      <td> 0.017772</td>\n",
        "      <td> 0.000974</td>\n",
        "      <td> 8.275877e-05</td>\n",
        "      <td> 1.075445e-02</td>\n",
        "      <td> 4.417783e-04</td>\n",
        "      <td> 6.987875e-04</td>\n",
        "      <td>...</td>\n",
        "      <td> 1.637473e-03</td>\n",
        "      <td> 0.001680</td>\n",
        "      <td> 1.551763e-01</td>\n",
        "      <td> 8.227759e-04</td>\n",
        "      <td> 3.917436e-03</td>\n",
        "      <td> 0.002322</td>\n",
        "      <td> 2.750102e-04</td>\n",
        "      <td> 3.792951e-04</td>\n",
        "      <td> 0.001939</td>\n",
        "      <td> 7.301364e-04</td>\n",
        "    </tr>\n",
        "    <tr>\n",
        "      <th>26    </th>\n",
        "      <td>  91257.jpg</td>\n",
        "      <td> 0.000086</td>\n",
        "      <td> 5.606927e-03</td>\n",
        "      <td> 1.263404e-06</td>\n",
        "      <td> 0.000704</td>\n",
        "      <td> 0.000170</td>\n",
        "      <td> 5.697790e-05</td>\n",
        "      <td> 6.560893e-07</td>\n",
        "      <td> 1.182289e-04</td>\n",
        "      <td> 2.687824e-05</td>\n",
        "      <td>...</td>\n",
        "      <td> 2.565104e-05</td>\n",
        "      <td> 0.000065</td>\n",
        "      <td> 1.032723e-04</td>\n",
        "      <td> 9.782945e-04</td>\n",
        "      <td> 8.921594e-04</td>\n",
        "      <td> 0.005148</td>\n",
        "      <td> 1.063854e-02</td>\n",
        "      <td> 9.256442e-06</td>\n",
        "      <td> 0.001113</td>\n",
        "      <td> 1.881056e-02</td>\n",
        "    </tr>\n",
        "    <tr>\n",
        "      <th>27    </th>\n",
        "      <td>  58024.jpg</td>\n",
        "      <td> 0.000654</td>\n",
        "      <td> 2.106458e-02</td>\n",
        "      <td> 2.524522e-02</td>\n",
        "      <td> 0.028900</td>\n",
        "      <td> 0.000224</td>\n",
        "      <td> 8.503104e-04</td>\n",
        "      <td> 8.726364e-04</td>\n",
        "      <td> 8.547142e-03</td>\n",
        "      <td> 5.064995e-03</td>\n",
        "      <td>...</td>\n",
        "      <td> 1.612995e-03</td>\n",
        "      <td> 0.001826</td>\n",
        "      <td> 4.192722e-02</td>\n",
        "      <td> 8.872009e-05</td>\n",
        "      <td> 4.290367e-03</td>\n",
        "      <td> 0.001634</td>\n",
        "      <td> 4.308471e-04</td>\n",
        "      <td> 1.065485e-03</td>\n",
        "      <td> 0.001573</td>\n",
        "      <td> 1.351802e-03</td>\n",
        "    </tr>\n",
        "    <tr>\n",
        "      <th>28    </th>\n",
        "      <td>  31902.jpg</td>\n",
        "      <td> 0.000079</td>\n",
        "      <td> 6.903827e-03</td>\n",
        "      <td> 7.207031e-05</td>\n",
        "      <td> 0.000013</td>\n",
        "      <td> 0.000026</td>\n",
        "      <td> 9.408540e-02</td>\n",
        "      <td> 2.671283e-05</td>\n",
        "      <td> 1.607830e-01</td>\n",
        "      <td> 4.223257e-03</td>\n",
        "      <td>...</td>\n",
        "      <td> 1.929131e-05</td>\n",
        "      <td> 0.000101</td>\n",
        "      <td> 5.265879e-04</td>\n",
        "      <td> 4.489352e-05</td>\n",
        "      <td> 3.477944e-04</td>\n",
        "      <td> 0.001010</td>\n",
        "      <td> 1.605594e-03</td>\n",
        "      <td> 1.437417e-05</td>\n",
        "      <td> 0.000017</td>\n",
        "      <td> 2.618525e-03</td>\n",
        "    </tr>\n",
        "    <tr>\n",
        "      <th>29    </th>\n",
        "      <td> 155780.jpg</td>\n",
        "      <td> 0.000883</td>\n",
        "      <td> 5.633764e-03</td>\n",
        "      <td> 2.180743e-04</td>\n",
        "      <td> 0.000074</td>\n",
        "      <td> 0.000085</td>\n",
        "      <td> 3.645420e-04</td>\n",
        "      <td> 1.459935e-04</td>\n",
        "      <td> 1.261641e-03</td>\n",
        "      <td> 1.425233e-04</td>\n",
        "      <td>...</td>\n",
        "      <td> 9.229666e-05</td>\n",
        "      <td> 0.000119</td>\n",
        "      <td> 4.668995e-02</td>\n",
        "      <td> 1.174686e-04</td>\n",
        "      <td> 2.902733e-02</td>\n",
        "      <td> 0.003378</td>\n",
        "      <td> 4.109700e-04</td>\n",
        "      <td> 2.428172e-06</td>\n",
        "      <td> 0.000093</td>\n",
        "      <td> 3.788476e-04</td>\n",
        "    </tr>\n",
        "    <tr>\n",
        "      <th>...</th>\n",
        "      <td>...</td>\n",
        "      <td>...</td>\n",
        "      <td>...</td>\n",
        "      <td>...</td>\n",
        "      <td>...</td>\n",
        "      <td>...</td>\n",
        "      <td>...</td>\n",
        "      <td>...</td>\n",
        "      <td>...</td>\n",
        "      <td>...</td>\n",
        "      <td>...</td>\n",
        "      <td>...</td>\n",
        "      <td>...</td>\n",
        "      <td>...</td>\n",
        "      <td>...</td>\n",
        "      <td>...</td>\n",
        "      <td>...</td>\n",
        "      <td>...</td>\n",
        "      <td>...</td>\n",
        "      <td>...</td>\n",
        "      <td>...</td>\n",
        "    </tr>\n",
        "    <tr>\n",
        "      <th>130370</th>\n",
        "      <td>  24086.jpg</td>\n",
        "      <td> 0.000000</td>\n",
        "      <td> 1.165990e-04</td>\n",
        "      <td> 6.813993e-09</td>\n",
        "      <td> 0.000002</td>\n",
        "      <td> 0.000004</td>\n",
        "      <td> 7.496709e-05</td>\n",
        "      <td> 2.293618e-09</td>\n",
        "      <td> 4.079814e-05</td>\n",
        "      <td> 4.521118e-07</td>\n",
        "      <td>...</td>\n",
        "      <td> 2.016335e-08</td>\n",
        "      <td> 0.000000</td>\n",
        "      <td> 1.404657e-08</td>\n",
        "      <td> 1.784132e-06</td>\n",
        "      <td> 2.364742e-05</td>\n",
        "      <td> 0.000011</td>\n",
        "      <td> 1.408320e-03</td>\n",
        "      <td> 1.223217e-06</td>\n",
        "      <td> 0.000003</td>\n",
        "      <td> 2.584394e-03</td>\n",
        "    </tr>\n",
        "    <tr>\n",
        "      <th>130371</th>\n",
        "      <td> 130515.jpg</td>\n",
        "      <td> 0.000012</td>\n",
        "      <td> 1.568085e-02</td>\n",
        "      <td> 1.982954e-04</td>\n",
        "      <td> 0.000024</td>\n",
        "      <td> 0.000023</td>\n",
        "      <td> 6.422920e-04</td>\n",
        "      <td> 8.509871e-06</td>\n",
        "      <td> 5.810796e-03</td>\n",
        "      <td> 3.971952e-04</td>\n",
        "      <td>...</td>\n",
        "      <td> 2.290419e-05</td>\n",
        "      <td> 0.000084</td>\n",
        "      <td> 1.153897e-03</td>\n",
        "      <td> 1.673627e-05</td>\n",
        "      <td> 3.606041e-04</td>\n",
        "      <td> 0.000406</td>\n",
        "      <td> 2.244732e-04</td>\n",
        "      <td> 3.578204e-05</td>\n",
        "      <td> 0.000063</td>\n",
        "      <td> 1.369468e-03</td>\n",
        "    </tr>\n",
        "    <tr>\n",
        "      <th>130372</th>\n",
        "      <td>  19459.jpg</td>\n",
        "      <td> 0.000185</td>\n",
        "      <td> 2.822348e-05</td>\n",
        "      <td> 3.126657e-08</td>\n",
        "      <td> 0.000003</td>\n",
        "      <td> 0.000145</td>\n",
        "      <td> 2.462963e-07</td>\n",
        "      <td> 4.724700e-03</td>\n",
        "      <td> 3.494609e-07</td>\n",
        "      <td> 4.496356e-07</td>\n",
        "      <td>...</td>\n",
        "      <td> 4.915078e-06</td>\n",
        "      <td> 0.000059</td>\n",
        "      <td> 9.457090e-06</td>\n",
        "      <td> 3.816827e-04</td>\n",
        "      <td> 2.741887e-06</td>\n",
        "      <td> 0.000007</td>\n",
        "      <td> 1.553218e-06</td>\n",
        "      <td> 2.125021e-04</td>\n",
        "      <td> 0.000029</td>\n",
        "      <td> 1.234957e-04</td>\n",
        "    </tr>\n",
        "    <tr>\n",
        "      <th>130373</th>\n",
        "      <td>  26852.jpg</td>\n",
        "      <td> 0.005946</td>\n",
        "      <td> 2.414292e-06</td>\n",
        "      <td> 7.451615e-06</td>\n",
        "      <td> 0.630433</td>\n",
        "      <td> 0.000133</td>\n",
        "      <td> 6.166951e-08</td>\n",
        "      <td> 2.553345e-03</td>\n",
        "      <td> 4.819280e-06</td>\n",
        "      <td> 2.794477e-05</td>\n",
        "      <td>...</td>\n",
        "      <td> 2.735706e-05</td>\n",
        "      <td> 0.000165</td>\n",
        "      <td> 1.641903e-03</td>\n",
        "      <td> 4.959024e-06</td>\n",
        "      <td> 6.768286e-06</td>\n",
        "      <td> 0.000007</td>\n",
        "      <td> 7.137880e-07</td>\n",
        "      <td> 3.181784e-05</td>\n",
        "      <td> 0.001263</td>\n",
        "      <td> 7.662865e-06</td>\n",
        "    </tr>\n",
        "    <tr>\n",
        "      <th>130374</th>\n",
        "      <td> 128596.jpg</td>\n",
        "      <td> 0.000019</td>\n",
        "      <td> 2.485275e-04</td>\n",
        "      <td> 1.190333e-08</td>\n",
        "      <td> 0.000519</td>\n",
        "      <td> 0.000024</td>\n",
        "      <td> 4.256476e-06</td>\n",
        "      <td> 2.338214e-06</td>\n",
        "      <td> 3.974416e-05</td>\n",
        "      <td> 3.009132e-07</td>\n",
        "      <td>...</td>\n",
        "      <td> 2.225482e-06</td>\n",
        "      <td> 0.000002</td>\n",
        "      <td> 1.546964e-07</td>\n",
        "      <td> 8.567754e-06</td>\n",
        "      <td> 1.848326e-05</td>\n",
        "      <td> 0.000018</td>\n",
        "      <td> 7.553597e-05</td>\n",
        "      <td> 2.616031e-03</td>\n",
        "      <td> 0.000129</td>\n",
        "      <td> 5.647101e-03</td>\n",
        "    </tr>\n",
        "    <tr>\n",
        "      <th>130375</th>\n",
        "      <td>  90877.jpg</td>\n",
        "      <td> 0.000400</td>\n",
        "      <td> 1.331894e-04</td>\n",
        "      <td> 8.636715e-04</td>\n",
        "      <td> 0.004374</td>\n",
        "      <td> 0.000013</td>\n",
        "      <td> 8.272045e-06</td>\n",
        "      <td> 5.709067e-03</td>\n",
        "      <td> 2.465188e-04</td>\n",
        "      <td> 1.322983e-02</td>\n",
        "      <td>...</td>\n",
        "      <td> 4.664958e-05</td>\n",
        "      <td> 0.000113</td>\n",
        "      <td> 1.256210e-03</td>\n",
        "      <td> 1.420840e-05</td>\n",
        "      <td> 3.725400e-04</td>\n",
        "      <td> 0.000210</td>\n",
        "      <td> 8.477317e-06</td>\n",
        "      <td> 3.367948e-03</td>\n",
        "      <td> 0.000412</td>\n",
        "      <td> 1.021097e-04</td>\n",
        "    </tr>\n",
        "    <tr>\n",
        "      <th>130376</th>\n",
        "      <td> 133027.jpg</td>\n",
        "      <td> 0.000007</td>\n",
        "      <td> 3.809151e-06</td>\n",
        "      <td> 1.413810e-04</td>\n",
        "      <td> 0.000081</td>\n",
        "      <td> 0.000001</td>\n",
        "      <td> 7.558842e-09</td>\n",
        "      <td> 5.854718e-05</td>\n",
        "      <td> 1.055302e-06</td>\n",
        "      <td> 1.108484e-04</td>\n",
        "      <td>...</td>\n",
        "      <td> 1.245081e-04</td>\n",
        "      <td> 0.000035</td>\n",
        "      <td> 3.463867e-05</td>\n",
        "      <td> 6.298318e-08</td>\n",
        "      <td> 8.241085e-06</td>\n",
        "      <td> 0.000001</td>\n",
        "      <td> 8.390527e-09</td>\n",
        "      <td> 3.691253e-05</td>\n",
        "      <td> 0.000014</td>\n",
        "      <td> 2.343135e-07</td>\n",
        "    </tr>\n",
        "    <tr>\n",
        "      <th>130377</th>\n",
        "      <td>  44512.jpg</td>\n",
        "      <td> 0.000179</td>\n",
        "      <td> 5.021890e-07</td>\n",
        "      <td> 2.923931e-09</td>\n",
        "      <td> 0.000002</td>\n",
        "      <td> 0.000020</td>\n",
        "      <td> 9.012063e-09</td>\n",
        "      <td> 5.632719e-03</td>\n",
        "      <td> 6.543480e-09</td>\n",
        "      <td> 7.013988e-08</td>\n",
        "      <td>...</td>\n",
        "      <td> 4.933275e-07</td>\n",
        "      <td> 0.000009</td>\n",
        "      <td> 3.393151e-06</td>\n",
        "      <td> 1.844951e-04</td>\n",
        "      <td> 4.128639e-08</td>\n",
        "      <td> 0.000001</td>\n",
        "      <td> 9.692985e-08</td>\n",
        "      <td> 4.012420e-05</td>\n",
        "      <td> 0.000009</td>\n",
        "      <td> 1.125066e-05</td>\n",
        "    </tr>\n",
        "    <tr>\n",
        "      <th>130378</th>\n",
        "      <td>  12942.jpg</td>\n",
        "      <td> 0.004578</td>\n",
        "      <td> 2.823021e-03</td>\n",
        "      <td> 8.488832e-07</td>\n",
        "      <td> 0.009079</td>\n",
        "      <td> 0.000146</td>\n",
        "      <td> 6.869656e-05</td>\n",
        "      <td> 2.045212e-04</td>\n",
        "      <td> 2.044310e-04</td>\n",
        "      <td> 3.394291e-05</td>\n",
        "      <td>...</td>\n",
        "      <td> 6.743026e-04</td>\n",
        "      <td> 0.000340</td>\n",
        "      <td> 5.447784e-05</td>\n",
        "      <td> 6.300518e-05</td>\n",
        "      <td> 1.190440e-04</td>\n",
        "      <td> 0.000148</td>\n",
        "      <td> 8.201258e-05</td>\n",
        "      <td> 3.663970e-04</td>\n",
        "      <td> 0.000344</td>\n",
        "      <td> 6.155659e-03</td>\n",
        "    </tr>\n",
        "    <tr>\n",
        "      <th>130379</th>\n",
        "      <td> 113734.jpg</td>\n",
        "      <td> 0.004595</td>\n",
        "      <td> 7.046689e-05</td>\n",
        "      <td> 2.717374e-04</td>\n",
        "      <td> 0.006182</td>\n",
        "      <td> 0.000357</td>\n",
        "      <td> 1.133551e-05</td>\n",
        "      <td> 8.709021e-03</td>\n",
        "      <td> 1.122939e-04</td>\n",
        "      <td> 3.086867e-04</td>\n",
        "      <td>...</td>\n",
        "      <td> 1.165864e-04</td>\n",
        "      <td> 0.000539</td>\n",
        "      <td> 3.258466e-02</td>\n",
        "      <td> 1.164425e-04</td>\n",
        "      <td> 4.692719e-03</td>\n",
        "      <td> 0.000804</td>\n",
        "      <td> 4.174014e-05</td>\n",
        "      <td> 7.775734e-06</td>\n",
        "      <td> 0.000336</td>\n",
        "      <td> 1.898063e-05</td>\n",
        "    </tr>\n",
        "    <tr>\n",
        "      <th>130380</th>\n",
        "      <td> 143936.jpg</td>\n",
        "      <td> 0.000006</td>\n",
        "      <td> 7.114875e-07</td>\n",
        "      <td> 1.015548e-06</td>\n",
        "      <td> 0.948019</td>\n",
        "      <td> 0.000001</td>\n",
        "      <td> 4.396513e-09</td>\n",
        "      <td> 1.760610e-05</td>\n",
        "      <td> 3.377832e-08</td>\n",
        "      <td> 5.509454e-07</td>\n",
        "      <td>...</td>\n",
        "      <td> 1.278766e-06</td>\n",
        "      <td> 0.000015</td>\n",
        "      <td> 3.148412e-05</td>\n",
        "      <td> 9.347720e-08</td>\n",
        "      <td> 1.979133e-05</td>\n",
        "      <td> 0.000000</td>\n",
        "      <td> 3.605217e-07</td>\n",
        "      <td> 2.339322e-07</td>\n",
        "      <td> 0.001127</td>\n",
        "      <td> 1.350759e-07</td>\n",
        "    </tr>\n",
        "    <tr>\n",
        "      <th>130381</th>\n",
        "      <td>  74502.jpg</td>\n",
        "      <td> 0.000151</td>\n",
        "      <td> 5.907018e-02</td>\n",
        "      <td> 4.624712e-04</td>\n",
        "      <td> 0.002299</td>\n",
        "      <td> 0.000984</td>\n",
        "      <td> 8.010739e-04</td>\n",
        "      <td> 9.863817e-05</td>\n",
        "      <td> 5.666770e-03</td>\n",
        "      <td> 2.713204e-04</td>\n",
        "      <td>...</td>\n",
        "      <td> 1.759703e-03</td>\n",
        "      <td> 0.001887</td>\n",
        "      <td> 3.029712e-03</td>\n",
        "      <td> 1.835296e-04</td>\n",
        "      <td> 2.035834e-02</td>\n",
        "      <td> 0.000664</td>\n",
        "      <td> 9.195571e-04</td>\n",
        "      <td> 2.738819e-04</td>\n",
        "      <td> 0.001959</td>\n",
        "      <td> 2.421313e-02</td>\n",
        "    </tr>\n",
        "    <tr>\n",
        "      <th>130382</th>\n",
        "      <td> 153803.jpg</td>\n",
        "      <td> 0.000159</td>\n",
        "      <td> 1.400394e-04</td>\n",
        "      <td> 3.303481e-08</td>\n",
        "      <td> 0.000001</td>\n",
        "      <td> 0.000009</td>\n",
        "      <td> 5.303390e-08</td>\n",
        "      <td> 1.018849e-05</td>\n",
        "      <td> 7.252889e-07</td>\n",
        "      <td> 1.157781e-07</td>\n",
        "      <td>...</td>\n",
        "      <td> 2.281975e-05</td>\n",
        "      <td> 0.000005</td>\n",
        "      <td> 1.779104e-06</td>\n",
        "      <td> 4.690485e-06</td>\n",
        "      <td> 1.541052e-03</td>\n",
        "      <td> 0.000004</td>\n",
        "      <td> 6.844863e-07</td>\n",
        "      <td> 1.360419e-06</td>\n",
        "      <td> 0.000003</td>\n",
        "      <td> 1.472041e-04</td>\n",
        "    </tr>\n",
        "    <tr>\n",
        "      <th>130383</th>\n",
        "      <td>   8403.jpg</td>\n",
        "      <td> 0.000009</td>\n",
        "      <td> 3.530939e-07</td>\n",
        "      <td> 4.728980e-09</td>\n",
        "      <td> 0.000007</td>\n",
        "      <td> 0.000028</td>\n",
        "      <td> 1.144751e-04</td>\n",
        "      <td> 2.583403e-07</td>\n",
        "      <td> 1.807561e-05</td>\n",
        "      <td> 4.862425e-06</td>\n",
        "      <td>...</td>\n",
        "      <td> 6.569722e-09</td>\n",
        "      <td> 0.000001</td>\n",
        "      <td> 6.002562e-07</td>\n",
        "      <td> 4.815376e-05</td>\n",
        "      <td> 5.225008e-07</td>\n",
        "      <td> 0.000263</td>\n",
        "      <td> 2.077323e-03</td>\n",
        "      <td> 1.727643e-07</td>\n",
        "      <td> 0.000003</td>\n",
        "      <td> 2.937186e-04</td>\n",
        "    </tr>\n",
        "    <tr>\n",
        "      <th>130384</th>\n",
        "      <td>  81894.jpg</td>\n",
        "      <td> 0.000305</td>\n",
        "      <td> 6.902327e-03</td>\n",
        "      <td> 3.687456e-04</td>\n",
        "      <td> 0.004833</td>\n",
        "      <td> 0.000748</td>\n",
        "      <td> 1.139980e-03</td>\n",
        "      <td> 8.523658e-06</td>\n",
        "      <td> 2.727774e-03</td>\n",
        "      <td> 1.981529e-04</td>\n",
        "      <td>...</td>\n",
        "      <td> 2.983977e-05</td>\n",
        "      <td> 0.000275</td>\n",
        "      <td> 1.573711e-04</td>\n",
        "      <td> 8.850114e-05</td>\n",
        "      <td> 1.363308e-02</td>\n",
        "      <td> 0.003781</td>\n",
        "      <td> 4.090330e-02</td>\n",
        "      <td> 5.767578e-04</td>\n",
        "      <td> 0.004445</td>\n",
        "      <td> 6.087781e-03</td>\n",
        "    </tr>\n",
        "    <tr>\n",
        "      <th>130385</th>\n",
        "      <td>  61829.jpg</td>\n",
        "      <td> 0.003436</td>\n",
        "      <td> 1.556388e-02</td>\n",
        "      <td> 4.048791e-03</td>\n",
        "      <td> 0.012386</td>\n",
        "      <td> 0.001869</td>\n",
        "      <td> 1.001326e-03</td>\n",
        "      <td> 3.572549e-03</td>\n",
        "      <td> 7.256353e-03</td>\n",
        "      <td> 3.352681e-03</td>\n",
        "      <td>...</td>\n",
        "      <td> 1.413465e-03</td>\n",
        "      <td> 0.002720</td>\n",
        "      <td> 4.986243e-02</td>\n",
        "      <td> 9.366245e-04</td>\n",
        "      <td> 1.305994e-02</td>\n",
        "      <td> 0.006910</td>\n",
        "      <td> 2.255234e-03</td>\n",
        "      <td> 1.732215e-03</td>\n",
        "      <td> 0.005405</td>\n",
        "      <td> 5.800865e-03</td>\n",
        "    </tr>\n",
        "    <tr>\n",
        "      <th>130386</th>\n",
        "      <td>  63429.jpg</td>\n",
        "      <td> 0.007609</td>\n",
        "      <td> 7.480601e-07</td>\n",
        "      <td> 1.111595e-06</td>\n",
        "      <td> 0.000038</td>\n",
        "      <td> 0.001107</td>\n",
        "      <td> 1.860774e-06</td>\n",
        "      <td> 8.388398e-03</td>\n",
        "      <td> 6.630543e-07</td>\n",
        "      <td> 2.612079e-05</td>\n",
        "      <td>...</td>\n",
        "      <td> 3.957413e-05</td>\n",
        "      <td> 0.000058</td>\n",
        "      <td> 3.258585e-03</td>\n",
        "      <td> 1.246139e-04</td>\n",
        "      <td> 1.757527e-04</td>\n",
        "      <td> 0.000017</td>\n",
        "      <td> 1.206563e-05</td>\n",
        "      <td> 2.544240e-06</td>\n",
        "      <td> 0.000148</td>\n",
        "      <td> 4.776717e-05</td>\n",
        "    </tr>\n",
        "    <tr>\n",
        "      <th>130387</th>\n",
        "      <td>  19009.jpg</td>\n",
        "      <td> 0.003884</td>\n",
        "      <td> 1.475201e-03</td>\n",
        "      <td> 2.629675e-07</td>\n",
        "      <td> 0.000055</td>\n",
        "      <td> 0.005910</td>\n",
        "      <td> 2.057660e-07</td>\n",
        "      <td> 4.929659e-02</td>\n",
        "      <td> 1.481846e-06</td>\n",
        "      <td> 1.981311e-06</td>\n",
        "      <td>...</td>\n",
        "      <td> 1.446079e-04</td>\n",
        "      <td> 0.000406</td>\n",
        "      <td> 9.915662e-04</td>\n",
        "      <td> 1.405723e-02</td>\n",
        "      <td> 1.054293e-04</td>\n",
        "      <td> 0.000277</td>\n",
        "      <td> 8.673022e-06</td>\n",
        "      <td> 5.299839e-05</td>\n",
        "      <td> 0.001276</td>\n",
        "      <td> 1.292889e-03</td>\n",
        "    </tr>\n",
        "    <tr>\n",
        "      <th>130388</th>\n",
        "      <td>  42136.jpg</td>\n",
        "      <td> 0.000204</td>\n",
        "      <td> 3.409524e-02</td>\n",
        "      <td> 6.849532e-08</td>\n",
        "      <td> 0.000008</td>\n",
        "      <td> 0.000692</td>\n",
        "      <td> 8.294059e-07</td>\n",
        "      <td> 1.086178e-04</td>\n",
        "      <td> 6.299058e-06</td>\n",
        "      <td> 1.708348e-06</td>\n",
        "      <td>...</td>\n",
        "      <td> 4.120414e-05</td>\n",
        "      <td> 0.000118</td>\n",
        "      <td> 1.303221e-05</td>\n",
        "      <td> 3.479517e-02</td>\n",
        "      <td> 8.644524e-04</td>\n",
        "      <td> 0.001256</td>\n",
        "      <td> 5.876402e-04</td>\n",
        "      <td> 7.221184e-04</td>\n",
        "      <td> 0.000998</td>\n",
        "      <td> 2.046846e-01</td>\n",
        "    </tr>\n",
        "    <tr>\n",
        "      <th>130389</th>\n",
        "      <td> 120010.jpg</td>\n",
        "      <td> 0.000423</td>\n",
        "      <td> 1.328877e-02</td>\n",
        "      <td> 2.490427e-06</td>\n",
        "      <td> 0.000054</td>\n",
        "      <td> 0.003565</td>\n",
        "      <td> 1.022739e-04</td>\n",
        "      <td> 9.829490e-04</td>\n",
        "      <td> 1.059880e-04</td>\n",
        "      <td> 6.509154e-06</td>\n",
        "      <td>...</td>\n",
        "      <td> 8.345323e-05</td>\n",
        "      <td> 0.000464</td>\n",
        "      <td> 4.645875e-04</td>\n",
        "      <td> 4.853637e-02</td>\n",
        "      <td> 4.349863e-03</td>\n",
        "      <td> 0.000236</td>\n",
        "      <td> 4.943350e-03</td>\n",
        "      <td> 1.194667e-04</td>\n",
        "      <td> 0.001907</td>\n",
        "      <td> 5.542649e-02</td>\n",
        "    </tr>\n",
        "    <tr>\n",
        "      <th>130390</th>\n",
        "      <td>  13576.jpg</td>\n",
        "      <td> 0.000347</td>\n",
        "      <td> 2.314379e-04</td>\n",
        "      <td> 2.825275e-06</td>\n",
        "      <td> 0.000354</td>\n",
        "      <td> 0.000189</td>\n",
        "      <td> 4.620806e-06</td>\n",
        "      <td> 1.933284e-03</td>\n",
        "      <td> 1.612966e-05</td>\n",
        "      <td> 5.970753e-06</td>\n",
        "      <td>...</td>\n",
        "      <td> 5.371674e-05</td>\n",
        "      <td> 0.000115</td>\n",
        "      <td> 6.148006e-06</td>\n",
        "      <td> 4.373002e-04</td>\n",
        "      <td> 1.276439e-05</td>\n",
        "      <td> 0.000056</td>\n",
        "      <td> 2.989753e-05</td>\n",
        "      <td> 5.190452e-01</td>\n",
        "      <td> 0.000723</td>\n",
        "      <td> 3.670851e-03</td>\n",
        "    </tr>\n",
        "    <tr>\n",
        "      <th>130391</th>\n",
        "      <td>  69459.jpg</td>\n",
        "      <td> 0.000021</td>\n",
        "      <td> 1.626957e-03</td>\n",
        "      <td> 6.909182e-05</td>\n",
        "      <td> 0.011011</td>\n",
        "      <td> 0.000061</td>\n",
        "      <td> 4.700383e-07</td>\n",
        "      <td> 1.783952e-05</td>\n",
        "      <td> 1.176495e-05</td>\n",
        "      <td> 2.579203e-05</td>\n",
        "      <td>...</td>\n",
        "      <td> 1.284795e-04</td>\n",
        "      <td> 0.000144</td>\n",
        "      <td> 5.991226e-05</td>\n",
        "      <td> 8.398869e-07</td>\n",
        "      <td> 1.686857e-04</td>\n",
        "      <td> 0.000023</td>\n",
        "      <td> 7.001003e-06</td>\n",
        "      <td> 5.912246e-03</td>\n",
        "      <td> 0.006680</td>\n",
        "      <td> 5.365332e-04</td>\n",
        "    </tr>\n",
        "    <tr>\n",
        "      <th>130392</th>\n",
        "      <td> 158402.jpg</td>\n",
        "      <td> 0.000326</td>\n",
        "      <td> 4.604239e-04</td>\n",
        "      <td> 2.608556e-06</td>\n",
        "      <td> 0.000280</td>\n",
        "      <td> 0.000899</td>\n",
        "      <td> 4.674828e-04</td>\n",
        "      <td> 2.196757e-02</td>\n",
        "      <td> 5.208805e-05</td>\n",
        "      <td> 1.059472e-04</td>\n",
        "      <td>...</td>\n",
        "      <td> 4.061911e-06</td>\n",
        "      <td> 0.000568</td>\n",
        "      <td> 2.762245e-04</td>\n",
        "      <td> 6.391317e-03</td>\n",
        "      <td> 1.281895e-03</td>\n",
        "      <td> 0.000382</td>\n",
        "      <td> 7.288348e-04</td>\n",
        "      <td> 2.786743e-03</td>\n",
        "      <td> 0.000247</td>\n",
        "      <td> 5.315614e-03</td>\n",
        "    </tr>\n",
        "    <tr>\n",
        "      <th>130393</th>\n",
        "      <td>  97579.jpg</td>\n",
        "      <td> 0.000058</td>\n",
        "      <td> 7.032353e-03</td>\n",
        "      <td> 5.231691e-03</td>\n",
        "      <td> 0.014458</td>\n",
        "      <td> 0.000156</td>\n",
        "      <td> 5.290774e-04</td>\n",
        "      <td> 4.725501e-04</td>\n",
        "      <td> 1.429941e-03</td>\n",
        "      <td> 5.667660e-03</td>\n",
        "      <td>...</td>\n",
        "      <td> 2.798276e-04</td>\n",
        "      <td> 0.001239</td>\n",
        "      <td> 2.397096e-02</td>\n",
        "      <td> 1.685101e-04</td>\n",
        "      <td> 1.964505e-02</td>\n",
        "      <td> 0.000691</td>\n",
        "      <td> 5.622862e-04</td>\n",
        "      <td> 3.022719e-04</td>\n",
        "      <td> 0.003549</td>\n",
        "      <td> 2.785647e-03</td>\n",
        "    </tr>\n",
        "    <tr>\n",
        "      <th>130394</th>\n",
        "      <td>  10878.jpg</td>\n",
        "      <td> 0.000291</td>\n",
        "      <td> 5.296155e-04</td>\n",
        "      <td> 8.451970e-03</td>\n",
        "      <td> 0.007615</td>\n",
        "      <td> 0.000029</td>\n",
        "      <td> 2.878975e-06</td>\n",
        "      <td> 9.500369e-04</td>\n",
        "      <td> 1.278781e-03</td>\n",
        "      <td> 8.569819e-03</td>\n",
        "      <td>...</td>\n",
        "      <td> 1.461621e-03</td>\n",
        "      <td> 0.006041</td>\n",
        "      <td> 9.313533e-03</td>\n",
        "      <td> 3.323041e-06</td>\n",
        "      <td> 1.776520e-04</td>\n",
        "      <td> 0.000622</td>\n",
        "      <td> 6.970260e-06</td>\n",
        "      <td> 6.367600e-03</td>\n",
        "      <td> 0.001137</td>\n",
        "      <td> 1.121121e-04</td>\n",
        "    </tr>\n",
        "    <tr>\n",
        "      <th>130395</th>\n",
        "      <td> 105884.jpg</td>\n",
        "      <td> 0.000439</td>\n",
        "      <td> 5.232533e-03</td>\n",
        "      <td> 6.278231e-03</td>\n",
        "      <td> 0.001183</td>\n",
        "      <td> 0.000261</td>\n",
        "      <td> 1.289612e-03</td>\n",
        "      <td> 1.680329e-03</td>\n",
        "      <td> 8.669334e-03</td>\n",
        "      <td> 5.292034e-03</td>\n",
        "      <td>...</td>\n",
        "      <td> 1.773497e-04</td>\n",
        "      <td> 0.001198</td>\n",
        "      <td> 2.687302e-02</td>\n",
        "      <td> 4.989423e-04</td>\n",
        "      <td> 1.049848e-02</td>\n",
        "      <td> 0.001929</td>\n",
        "      <td> 1.765884e-03</td>\n",
        "      <td> 7.084742e-05</td>\n",
        "      <td> 0.000604</td>\n",
        "      <td> 2.632792e-03</td>\n",
        "    </tr>\n",
        "    <tr>\n",
        "      <th>130396</th>\n",
        "      <td>  62470.jpg</td>\n",
        "      <td> 0.000015</td>\n",
        "      <td> 1.120297e-03</td>\n",
        "      <td> 2.187608e-07</td>\n",
        "      <td> 0.001132</td>\n",
        "      <td> 0.000022</td>\n",
        "      <td> 1.540238e-06</td>\n",
        "      <td> 4.773161e-07</td>\n",
        "      <td> 2.768655e-05</td>\n",
        "      <td> 4.560850e-07</td>\n",
        "      <td>...</td>\n",
        "      <td> 7.027674e-06</td>\n",
        "      <td> 0.000003</td>\n",
        "      <td> 2.248637e-07</td>\n",
        "      <td> 4.481659e-06</td>\n",
        "      <td> 1.962329e-04</td>\n",
        "      <td> 0.000046</td>\n",
        "      <td> 2.377867e-04</td>\n",
        "      <td> 6.871668e-03</td>\n",
        "      <td> 0.000440</td>\n",
        "      <td> 5.123886e-03</td>\n",
        "    </tr>\n",
        "    <tr>\n",
        "      <th>130397</th>\n",
        "      <td>  50677.jpg</td>\n",
        "      <td> 0.000002</td>\n",
        "      <td> 2.008294e-06</td>\n",
        "      <td> 2.294755e-05</td>\n",
        "      <td> 0.000116</td>\n",
        "      <td> 0.000001</td>\n",
        "      <td> 1.731315e-10</td>\n",
        "      <td> 6.544372e-05</td>\n",
        "      <td> 7.033635e-08</td>\n",
        "      <td> 2.515926e-06</td>\n",
        "      <td>...</td>\n",
        "      <td> 6.996276e-05</td>\n",
        "      <td> 0.000021</td>\n",
        "      <td> 1.405585e-05</td>\n",
        "      <td> 1.467081e-08</td>\n",
        "      <td> 4.880525e-06</td>\n",
        "      <td> 0.000000</td>\n",
        "      <td> 1.400253e-09</td>\n",
        "      <td> 2.043109e-06</td>\n",
        "      <td> 0.000013</td>\n",
        "      <td> 2.619839e-08</td>\n",
        "    </tr>\n",
        "    <tr>\n",
        "      <th>130398</th>\n",
        "      <td>  24257.jpg</td>\n",
        "      <td> 0.000105</td>\n",
        "      <td> 3.608689e-06</td>\n",
        "      <td> 6.898022e-06</td>\n",
        "      <td> 0.000857</td>\n",
        "      <td> 0.000001</td>\n",
        "      <td> 1.028443e-08</td>\n",
        "      <td> 4.838320e-04</td>\n",
        "      <td> 1.334377e-07</td>\n",
        "      <td> 6.747795e-05</td>\n",
        "      <td>...</td>\n",
        "      <td> 1.313828e-05</td>\n",
        "      <td> 0.000003</td>\n",
        "      <td> 2.290349e-04</td>\n",
        "      <td> 9.201573e-07</td>\n",
        "      <td> 2.692792e-04</td>\n",
        "      <td> 0.000008</td>\n",
        "      <td> 3.408855e-07</td>\n",
        "      <td> 7.038469e-06</td>\n",
        "      <td> 0.000034</td>\n",
        "      <td> 1.230931e-06</td>\n",
        "    </tr>\n",
        "    <tr>\n",
        "      <th>130399</th>\n",
        "      <td> 136199.jpg</td>\n",
        "      <td> 0.001011</td>\n",
        "      <td> 3.574382e-03</td>\n",
        "      <td> 9.436215e-06</td>\n",
        "      <td> 0.000077</td>\n",
        "      <td> 0.000137</td>\n",
        "      <td> 2.528987e-04</td>\n",
        "      <td> 6.580843e-05</td>\n",
        "      <td> 3.365748e-04</td>\n",
        "      <td> 7.259294e-05</td>\n",
        "      <td>...</td>\n",
        "      <td> 2.538820e-04</td>\n",
        "      <td> 0.000126</td>\n",
        "      <td> 1.274167e-04</td>\n",
        "      <td> 5.447974e-05</td>\n",
        "      <td> 6.417924e-03</td>\n",
        "      <td> 0.000639</td>\n",
        "      <td> 4.238515e-04</td>\n",
        "      <td> 5.472406e-05</td>\n",
        "      <td> 0.000175</td>\n",
        "      <td> 1.510069e-03</td>\n",
        "    </tr>\n",
        "  </tbody>\n",
        "</table>\n",
        "<p>130400 rows \u00d7 122 columns</p>\n",
        "</div>"
       ],
       "metadata": {},
       "output_type": "pyout",
       "prompt_number": 6,
       "text": [
        "             image  euphausiids_young  hydromedusae_narcomedusae  \\\n",
        "0        79469.jpg           0.000999               5.126506e-04   \n",
        "1       158984.jpg           0.000020               1.519219e-04   \n",
        "2       114171.jpg           0.000047               1.451103e-02   \n",
        "3        56148.jpg           0.000015               1.062309e-03   \n",
        "4        28082.jpg           0.000046               6.095946e-06   \n",
        "5        69488.jpg           0.022871               1.123973e-07   \n",
        "6       116104.jpg           0.000680               3.054321e-03   \n",
        "7        35015.jpg           0.000970               1.278684e-06   \n",
        "8       137664.jpg           0.000119               1.391841e-04   \n",
        "9       119939.jpg           0.000550               9.452846e-05   \n",
        "10       94206.jpg           0.002616               2.242026e-05   \n",
        "11      160285.jpg           0.000129               5.514275e-03   \n",
        "12       91834.jpg           0.001420               1.019875e-04   \n",
        "13      143392.jpg           0.000385               8.288134e-04   \n",
        "14       81677.jpg           0.000749               4.167136e-07   \n",
        "15      147924.jpg           0.000002               8.972303e-04   \n",
        "16      143911.jpg           0.001087               2.818010e-04   \n",
        "17       40405.jpg           0.000077               2.367586e-04   \n",
        "18       50081.jpg           0.000411               6.294932e-03   \n",
        "19        1507.jpg           0.000316               6.711986e-04   \n",
        "20        9188.jpg           0.000199               5.001167e-05   \n",
        "21       63590.jpg           0.000371               9.774262e-04   \n",
        "22       48464.jpg           0.000898               2.978553e-09   \n",
        "23       42284.jpg           0.003097               4.006012e-04   \n",
        "24        9848.jpg           0.000005               4.102498e-03   \n",
        "25      151571.jpg           0.001718               4.940825e-03   \n",
        "26       91257.jpg           0.000086               5.606927e-03   \n",
        "27       58024.jpg           0.000654               2.106458e-02   \n",
        "28       31902.jpg           0.000079               6.903827e-03   \n",
        "29      155780.jpg           0.000883               5.633764e-03   \n",
        "...            ...                ...                        ...   \n",
        "130370   24086.jpg           0.000000               1.165990e-04   \n",
        "130371  130515.jpg           0.000012               1.568085e-02   \n",
        "130372   19459.jpg           0.000185               2.822348e-05   \n",
        "130373   26852.jpg           0.005946               2.414292e-06   \n",
        "130374  128596.jpg           0.000019               2.485275e-04   \n",
        "130375   90877.jpg           0.000400               1.331894e-04   \n",
        "130376  133027.jpg           0.000007               3.809151e-06   \n",
        "130377   44512.jpg           0.000179               5.021890e-07   \n",
        "130378   12942.jpg           0.004578               2.823021e-03   \n",
        "130379  113734.jpg           0.004595               7.046689e-05   \n",
        "130380  143936.jpg           0.000006               7.114875e-07   \n",
        "130381   74502.jpg           0.000151               5.907018e-02   \n",
        "130382  153803.jpg           0.000159               1.400394e-04   \n",
        "130383    8403.jpg           0.000009               3.530939e-07   \n",
        "130384   81894.jpg           0.000305               6.902327e-03   \n",
        "130385   61829.jpg           0.003436               1.556388e-02   \n",
        "130386   63429.jpg           0.007609               7.480601e-07   \n",
        "130387   19009.jpg           0.003884               1.475201e-03   \n",
        "130388   42136.jpg           0.000204               3.409524e-02   \n",
        "130389  120010.jpg           0.000423               1.328877e-02   \n",
        "130390   13576.jpg           0.000347               2.314379e-04   \n",
        "130391   69459.jpg           0.000021               1.626957e-03   \n",
        "130392  158402.jpg           0.000326               4.604239e-04   \n",
        "130393   97579.jpg           0.000058               7.032353e-03   \n",
        "130394   10878.jpg           0.000291               5.296155e-04   \n",
        "130395  105884.jpg           0.000439               5.232533e-03   \n",
        "130396   62470.jpg           0.000015               1.120297e-03   \n",
        "130397   50677.jpg           0.000002               2.008294e-06   \n",
        "130398   24257.jpg           0.000105               3.608689e-06   \n",
        "130399  136199.jpg           0.001011               3.574382e-03   \n",
        "\n",
        "        copepod_calanoid_small_longantennae  appendicularian_s_shape  \\\n",
        "0                              1.018462e-05                 0.000889   \n",
        "1                              4.288653e-05                 0.015080   \n",
        "2                              7.176830e-06                 0.000388   \n",
        "3                              1.581430e-05                 0.000033   \n",
        "4                              1.551438e-04                 0.000161   \n",
        "5                              3.507647e-07                 0.000017   \n",
        "6                              7.847542e-06                 0.056200   \n",
        "7                              1.961599e-06                 0.423750   \n",
        "8                              3.050134e-04                 0.000443   \n",
        "9                              7.419787e-05                 0.000508   \n",
        "10                             1.590589e-06                 0.003010   \n",
        "11                             7.318699e-03                 0.000447   \n",
        "12                             3.816401e-04                 0.004767   \n",
        "13                             4.974315e-04                 0.002336   \n",
        "14                             4.828373e-09                 0.000039   \n",
        "15                             5.277665e-04                 0.000632   \n",
        "16                             2.460242e-05                 0.000080   \n",
        "17                             6.736666e-07                 0.000465   \n",
        "18                             2.567829e-03                 0.045230   \n",
        "19                             6.307339e-04                 0.000357   \n",
        "20                             4.635692e-03                 0.001054   \n",
        "21                             1.239333e-04                 0.002260   \n",
        "22                             2.809462e-08                 0.000477   \n",
        "23                             7.896144e-05                 0.002400   \n",
        "24                             1.374800e-05                 0.001462   \n",
        "25                             2.190310e-03                 0.017772   \n",
        "26                             1.263404e-06                 0.000704   \n",
        "27                             2.524522e-02                 0.028900   \n",
        "28                             7.207031e-05                 0.000013   \n",
        "29                             2.180743e-04                 0.000074   \n",
        "...                                     ...                      ...   \n",
        "130370                         6.813993e-09                 0.000002   \n",
        "130371                         1.982954e-04                 0.000024   \n",
        "130372                         3.126657e-08                 0.000003   \n",
        "130373                         7.451615e-06                 0.630433   \n",
        "130374                         1.190333e-08                 0.000519   \n",
        "130375                         8.636715e-04                 0.004374   \n",
        "130376                         1.413810e-04                 0.000081   \n",
        "130377                         2.923931e-09                 0.000002   \n",
        "130378                         8.488832e-07                 0.009079   \n",
        "130379                         2.717374e-04                 0.006182   \n",
        "130380                         1.015548e-06                 0.948019   \n",
        "130381                         4.624712e-04                 0.002299   \n",
        "130382                         3.303481e-08                 0.000001   \n",
        "130383                         4.728980e-09                 0.000007   \n",
        "130384                         3.687456e-04                 0.004833   \n",
        "130385                         4.048791e-03                 0.012386   \n",
        "130386                         1.111595e-06                 0.000038   \n",
        "130387                         2.629675e-07                 0.000055   \n",
        "130388                         6.849532e-08                 0.000008   \n",
        "130389                         2.490427e-06                 0.000054   \n",
        "130390                         2.825275e-06                 0.000354   \n",
        "130391                         6.909182e-05                 0.011011   \n",
        "130392                         2.608556e-06                 0.000280   \n",
        "130393                         5.231691e-03                 0.014458   \n",
        "130394                         8.451970e-03                 0.007615   \n",
        "130395                         6.278231e-03                 0.001183   \n",
        "130396                         2.187608e-07                 0.001132   \n",
        "130397                         2.294755e-05                 0.000116   \n",
        "130398                         6.898022e-06                 0.000857   \n",
        "130399                         9.436215e-06                 0.000077   \n",
        "\n",
        "        decapods  hydromedusae_typeD_bell_and_tentacles  crustacean_other  \\\n",
        "0       0.000092                           3.017974e-05      4.801131e-05   \n",
        "1       0.000080                           1.913380e-07      3.401868e-06   \n",
        "2       0.000807                           1.857109e-03      7.839362e-06   \n",
        "3       0.000030                           5.796808e-01      8.393954e-06   \n",
        "4       0.000005                           1.478683e-09      8.664228e-04   \n",
        "5       0.000037                           1.688424e-09      4.207015e-03   \n",
        "6       0.000923                           3.914984e-05      2.146507e-04   \n",
        "7       0.000017                           7.131472e-07      8.335883e-05   \n",
        "8       0.000493                           5.930452e-05      6.409914e-04   \n",
        "9       0.000579                           1.805225e-04      2.661458e-03   \n",
        "10      0.002772                           1.510278e-05      6.102488e-02   \n",
        "11      0.000047                           9.037509e-04      6.677080e-04   \n",
        "12      0.000035                           5.089372e-06      6.696055e-03   \n",
        "13      0.000200                           4.369800e-04      5.823078e-04   \n",
        "14      0.000100                           2.983499e-09      3.919711e-03   \n",
        "15      0.000004                           4.816081e-07      1.340978e-06   \n",
        "16      0.000048                           2.895782e-05      1.894139e-04   \n",
        "17      0.000654                           7.836463e-04      9.244884e-06   \n",
        "18      0.000170                           7.028774e-05      7.539095e-04   \n",
        "19      0.000027                           2.338456e-02      3.100927e-04   \n",
        "20      0.000021                           7.679667e-08      4.106690e-03   \n",
        "21      0.000174                           3.702291e-02      4.104247e-04   \n",
        "22      0.000057                           2.031230e-10      2.835146e-04   \n",
        "23      0.001058                           8.568781e-05      7.910884e-04   \n",
        "24      0.000278                           2.723893e-05      3.564468e-06   \n",
        "25      0.000974                           8.275877e-05      1.075445e-02   \n",
        "26      0.000170                           5.697790e-05      6.560893e-07   \n",
        "27      0.000224                           8.503104e-04      8.726364e-04   \n",
        "28      0.000026                           9.408540e-02      2.671283e-05   \n",
        "29      0.000085                           3.645420e-04      1.459935e-04   \n",
        "...          ...                                    ...               ...   \n",
        "130370  0.000004                           7.496709e-05      2.293618e-09   \n",
        "130371  0.000023                           6.422920e-04      8.509871e-06   \n",
        "130372  0.000145                           2.462963e-07      4.724700e-03   \n",
        "130373  0.000133                           6.166951e-08      2.553345e-03   \n",
        "130374  0.000024                           4.256476e-06      2.338214e-06   \n",
        "130375  0.000013                           8.272045e-06      5.709067e-03   \n",
        "130376  0.000001                           7.558842e-09      5.854718e-05   \n",
        "130377  0.000020                           9.012063e-09      5.632719e-03   \n",
        "130378  0.000146                           6.869656e-05      2.045212e-04   \n",
        "130379  0.000357                           1.133551e-05      8.709021e-03   \n",
        "130380  0.000001                           4.396513e-09      1.760610e-05   \n",
        "130381  0.000984                           8.010739e-04      9.863817e-05   \n",
        "130382  0.000009                           5.303390e-08      1.018849e-05   \n",
        "130383  0.000028                           1.144751e-04      2.583403e-07   \n",
        "130384  0.000748                           1.139980e-03      8.523658e-06   \n",
        "130385  0.001869                           1.001326e-03      3.572549e-03   \n",
        "130386  0.001107                           1.860774e-06      8.388398e-03   \n",
        "130387  0.005910                           2.057660e-07      4.929659e-02   \n",
        "130388  0.000692                           8.294059e-07      1.086178e-04   \n",
        "130389  0.003565                           1.022739e-04      9.829490e-04   \n",
        "130390  0.000189                           4.620806e-06      1.933284e-03   \n",
        "130391  0.000061                           4.700383e-07      1.783952e-05   \n",
        "130392  0.000899                           4.674828e-04      2.196757e-02   \n",
        "130393  0.000156                           5.290774e-04      4.725501e-04   \n",
        "130394  0.000029                           2.878975e-06      9.500369e-04   \n",
        "130395  0.000261                           1.289612e-03      1.680329e-03   \n",
        "130396  0.000022                           1.540238e-06      4.773161e-07   \n",
        "130397  0.000001                           1.731315e-10      6.544372e-05   \n",
        "130398  0.000001                           1.028443e-08      4.838320e-04   \n",
        "130399  0.000137                           2.528987e-04      6.580843e-05   \n",
        "\n",
        "        hydromedusae_bell_and_tentacles  echinoderm_larva_pluteus_brittlestar  \\\n",
        "0                          3.830052e-05                          1.121036e-04   \n",
        "1                          1.211119e-06                          2.347123e-05   \n",
        "2                          2.871784e-03                          1.447452e-04   \n",
        "3                          2.070906e-01                          3.005158e-03   \n",
        "4                          1.511152e-07                          1.670150e-05   \n",
        "5                          8.579118e-08                          3.838054e-07   \n",
        "6                          1.384115e-04                          1.707249e-04   \n",
        "7                          4.155511e-06                          2.249962e-05   \n",
        "8                          1.120810e-04                          8.499032e-05   \n",
        "9                          1.000375e-03                          9.444020e-04   \n",
        "10                         5.822351e-06                          3.526338e-05   \n",
        "11                         6.424260e-03                          5.251947e-03   \n",
        "12                         8.797735e-05                          5.177489e-03   \n",
        "13                         1.097529e-03                          1.190600e-03   \n",
        "14                         2.280520e-08                          1.419986e-07   \n",
        "15                         6.206224e-06                          2.172058e-05   \n",
        "16                         7.127765e-05                          3.082244e-05   \n",
        "17                         3.231273e-04                          5.439233e-05   \n",
        "18                         3.058978e-03                          4.454009e-03   \n",
        "19                         3.418324e-01                          7.412316e-02   \n",
        "20                         7.878451e-07                          7.873426e-05   \n",
        "21                         1.742970e-01                          2.854282e-02   \n",
        "22                         3.469500e-08                          7.799456e-08   \n",
        "23                         2.451961e-04                          2.223898e-04   \n",
        "24                         2.632159e-04                          4.403191e-05   \n",
        "25                         4.417783e-04                          6.987875e-04   \n",
        "26                         1.182289e-04                          2.687824e-05   \n",
        "27                         8.547142e-03                          5.064995e-03   \n",
        "28                         1.607830e-01                          4.223257e-03   \n",
        "29                         1.261641e-03                          1.425233e-04   \n",
        "...                                 ...                                   ...   \n",
        "130370                     4.079814e-05                          4.521118e-07   \n",
        "130371                     5.810796e-03                          3.971952e-04   \n",
        "130372                     3.494609e-07                          4.496356e-07   \n",
        "130373                     4.819280e-06                          2.794477e-05   \n",
        "130374                     3.974416e-05                          3.009132e-07   \n",
        "130375                     2.465188e-04                          1.322983e-02   \n",
        "130376                     1.055302e-06                          1.108484e-04   \n",
        "130377                     6.543480e-09                          7.013988e-08   \n",
        "130378                     2.044310e-04                          3.394291e-05   \n",
        "130379                     1.122939e-04                          3.086867e-04   \n",
        "130380                     3.377832e-08                          5.509454e-07   \n",
        "130381                     5.666770e-03                          2.713204e-04   \n",
        "130382                     7.252889e-07                          1.157781e-07   \n",
        "130383                     1.807561e-05                          4.862425e-06   \n",
        "130384                     2.727774e-03                          1.981529e-04   \n",
        "130385                     7.256353e-03                          3.352681e-03   \n",
        "130386                     6.630543e-07                          2.612079e-05   \n",
        "130387                     1.481846e-06                          1.981311e-06   \n",
        "130388                     6.299058e-06                          1.708348e-06   \n",
        "130389                     1.059880e-04                          6.509154e-06   \n",
        "130390                     1.612966e-05                          5.970753e-06   \n",
        "130391                     1.176495e-05                          2.579203e-05   \n",
        "130392                     5.208805e-05                          1.059472e-04   \n",
        "130393                     1.429941e-03                          5.667660e-03   \n",
        "130394                     1.278781e-03                          8.569819e-03   \n",
        "130395                     8.669334e-03                          5.292034e-03   \n",
        "130396                     2.768655e-05                          4.560850e-07   \n",
        "130397                     7.033635e-08                          2.515926e-06   \n",
        "130398                     1.334377e-07                          6.747795e-05   \n",
        "130399                     3.365748e-04                          7.259294e-05   \n",
        "\n",
        "               ...          copepod_calanoid_octomoms  \\\n",
        "0              ...                       8.009753e-05   \n",
        "1              ...                       9.658837e-06   \n",
        "2              ...                       1.234644e-04   \n",
        "3              ...                       1.910843e-06   \n",
        "4              ...                       2.518088e-03   \n",
        "5              ...                       6.863903e-06   \n",
        "6              ...                       1.056153e-04   \n",
        "7              ...                       1.779826e-05   \n",
        "8              ...                       1.045501e-04   \n",
        "9              ...                       1.375301e-06   \n",
        "10             ...                       1.857480e-05   \n",
        "11             ...                       2.166573e-04   \n",
        "12             ...                       2.760683e-04   \n",
        "13             ...                       1.950869e-05   \n",
        "14             ...                       6.972745e-07   \n",
        "15             ...                       1.067823e-04   \n",
        "16             ...                       5.221488e-05   \n",
        "17             ...                       2.738172e-06   \n",
        "18             ...                       5.675491e-04   \n",
        "19             ...                       9.851788e-06   \n",
        "20             ...                       3.742907e-04   \n",
        "21             ...                       6.040242e-06   \n",
        "22             ...                       2.112352e-09   \n",
        "23             ...                       5.731609e-05   \n",
        "24             ...                       1.273400e-05   \n",
        "25             ...                       1.637473e-03   \n",
        "26             ...                       2.565104e-05   \n",
        "27             ...                       1.612995e-03   \n",
        "28             ...                       1.929131e-05   \n",
        "29             ...                       9.229666e-05   \n",
        "...            ...                                ...   \n",
        "130370         ...                       2.016335e-08   \n",
        "130371         ...                       2.290419e-05   \n",
        "130372         ...                       4.915078e-06   \n",
        "130373         ...                       2.735706e-05   \n",
        "130374         ...                       2.225482e-06   \n",
        "130375         ...                       4.664958e-05   \n",
        "130376         ...                       1.245081e-04   \n",
        "130377         ...                       4.933275e-07   \n",
        "130378         ...                       6.743026e-04   \n",
        "130379         ...                       1.165864e-04   \n",
        "130380         ...                       1.278766e-06   \n",
        "130381         ...                       1.759703e-03   \n",
        "130382         ...                       2.281975e-05   \n",
        "130383         ...                       6.569722e-09   \n",
        "130384         ...                       2.983977e-05   \n",
        "130385         ...                       1.413465e-03   \n",
        "130386         ...                       3.957413e-05   \n",
        "130387         ...                       1.446079e-04   \n",
        "130388         ...                       4.120414e-05   \n",
        "130389         ...                       8.345323e-05   \n",
        "130390         ...                       5.371674e-05   \n",
        "130391         ...                       1.284795e-04   \n",
        "130392         ...                       4.061911e-06   \n",
        "130393         ...                       2.798276e-04   \n",
        "130394         ...                       1.461621e-03   \n",
        "130395         ...                       1.773497e-04   \n",
        "130396         ...                       7.027674e-06   \n",
        "130397         ...                       6.996276e-05   \n",
        "130398         ...                       1.313828e-05   \n",
        "130399         ...                       2.538820e-04   \n",
        "\n",
        "        acantharia_protist_big_center  diatom_chain_tube  \\\n",
        "0                            0.000141       7.553571e-04   \n",
        "1                            0.000031       4.773716e-06   \n",
        "2                            0.000206       6.880909e-05   \n",
        "3                            0.000047       7.878471e-05   \n",
        "4                            0.000573       2.419562e-05   \n",
        "5                            0.000010       5.034389e-04   \n",
        "6                            0.000203       3.848304e-03   \n",
        "7                            0.000055       4.730393e-04   \n",
        "8                            0.000336       6.455828e-02   \n",
        "9                            0.000127       5.655879e-03   \n",
        "10                           0.000202       5.840598e-03   \n",
        "11                           0.001247       1.298781e-02   \n",
        "12                           0.000156       3.283549e-03   \n",
        "13                           0.000278       7.301356e-03   \n",
        "14                           0.000007       2.925047e-04   \n",
        "15                           0.000033       6.045113e-06   \n",
        "16                           0.000104       7.829570e-04   \n",
        "17                           0.000060       2.633562e-05   \n",
        "18                           0.000629       1.305163e-02   \n",
        "19                           0.000477       2.229880e-02   \n",
        "20                           0.000051       1.535143e-03   \n",
        "21                           0.001396       9.673483e-04   \n",
        "22                           0.000001       5.274189e-05   \n",
        "23                           0.000530       5.980205e-03   \n",
        "24                           0.000092       3.709486e-05   \n",
        "25                           0.001680       1.551763e-01   \n",
        "26                           0.000065       1.032723e-04   \n",
        "27                           0.001826       4.192722e-02   \n",
        "28                           0.000101       5.265879e-04   \n",
        "29                           0.000119       4.668995e-02   \n",
        "...                               ...                ...   \n",
        "130370                       0.000000       1.404657e-08   \n",
        "130371                       0.000084       1.153897e-03   \n",
        "130372                       0.000059       9.457090e-06   \n",
        "130373                       0.000165       1.641903e-03   \n",
        "130374                       0.000002       1.546964e-07   \n",
        "130375                       0.000113       1.256210e-03   \n",
        "130376                       0.000035       3.463867e-05   \n",
        "130377                       0.000009       3.393151e-06   \n",
        "130378                       0.000340       5.447784e-05   \n",
        "130379                       0.000539       3.258466e-02   \n",
        "130380                       0.000015       3.148412e-05   \n",
        "130381                       0.001887       3.029712e-03   \n",
        "130382                       0.000005       1.779104e-06   \n",
        "130383                       0.000001       6.002562e-07   \n",
        "130384                       0.000275       1.573711e-04   \n",
        "130385                       0.002720       4.986243e-02   \n",
        "130386                       0.000058       3.258585e-03   \n",
        "130387                       0.000406       9.915662e-04   \n",
        "130388                       0.000118       1.303221e-05   \n",
        "130389                       0.000464       4.645875e-04   \n",
        "130390                       0.000115       6.148006e-06   \n",
        "130391                       0.000144       5.991226e-05   \n",
        "130392                       0.000568       2.762245e-04   \n",
        "130393                       0.001239       2.397096e-02   \n",
        "130394                       0.006041       9.313533e-03   \n",
        "130395                       0.001198       2.687302e-02   \n",
        "130396                       0.000003       2.248637e-07   \n",
        "130397                       0.000021       1.405585e-05   \n",
        "130398                       0.000003       2.290349e-04   \n",
        "130399                       0.000126       1.274167e-04   \n",
        "\n",
        "        fish_larvae_medium_body  shrimp_sergestidae  pteropod_theco_dev_seq  \\\n",
        "0                  2.574329e-05        1.648166e-03                0.000134   \n",
        "1                  1.790800e-07        4.962825e-04                0.000010   \n",
        "2                  1.788396e-04        2.153248e-02                0.001212   \n",
        "3                  9.196852e-06        5.683988e-05                0.000324   \n",
        "4                  2.610493e-07        7.194679e-05                0.000003   \n",
        "5                  1.215086e-06        7.017920e-03                0.000004   \n",
        "6                  4.626535e-04        1.428145e-03                0.002341   \n",
        "7                  1.211731e-06        8.971590e-06                0.000054   \n",
        "8                  1.966139e-04        9.053159e-03                0.000040   \n",
        "9                  3.889129e-04        4.615208e-03                0.000605   \n",
        "10                 9.580268e-03        1.014878e-03                0.000199   \n",
        "11                 9.492628e-05        4.847135e-04                0.000741   \n",
        "12                 4.941487e-05        1.108340e-03                0.000103   \n",
        "13                 7.653003e-04        1.323279e-02                0.001981   \n",
        "14                 1.045649e-04        2.304798e-04                0.000003   \n",
        "15                 7.547288e-08        3.274209e-05                0.000012   \n",
        "16                 3.844811e-05        9.685019e-03                0.000371   \n",
        "17                 6.036977e-04        5.572043e-04                0.000629   \n",
        "18                 1.011209e-04        1.394067e-03                0.001259   \n",
        "19                 3.048077e-05        1.946418e-04                0.002401   \n",
        "20                 3.472908e-06        6.829164e-03                0.000041   \n",
        "21                 8.045837e-06        1.661992e-04                0.000597   \n",
        "22                 5.231123e-07        2.954194e-04                0.000001   \n",
        "23                 2.030730e-04        4.902991e-03                0.003744   \n",
        "24                 4.145081e-06        4.846972e-04                0.000031   \n",
        "25                 8.227759e-04        3.917436e-03                0.002322   \n",
        "26                 9.782945e-04        8.921594e-04                0.005148   \n",
        "27                 8.872009e-05        4.290367e-03                0.001634   \n",
        "28                 4.489352e-05        3.477944e-04                0.001010   \n",
        "29                 1.174686e-04        2.902733e-02                0.003378   \n",
        "...                         ...                 ...                     ...   \n",
        "130370             1.784132e-06        2.364742e-05                0.000011   \n",
        "130371             1.673627e-05        3.606041e-04                0.000406   \n",
        "130372             3.816827e-04        2.741887e-06                0.000007   \n",
        "130373             4.959024e-06        6.768286e-06                0.000007   \n",
        "130374             8.567754e-06        1.848326e-05                0.000018   \n",
        "130375             1.420840e-05        3.725400e-04                0.000210   \n",
        "130376             6.298318e-08        8.241085e-06                0.000001   \n",
        "130377             1.844951e-04        4.128639e-08                0.000001   \n",
        "130378             6.300518e-05        1.190440e-04                0.000148   \n",
        "130379             1.164425e-04        4.692719e-03                0.000804   \n",
        "130380             9.347720e-08        1.979133e-05                0.000000   \n",
        "130381             1.835296e-04        2.035834e-02                0.000664   \n",
        "130382             4.690485e-06        1.541052e-03                0.000004   \n",
        "130383             4.815376e-05        5.225008e-07                0.000263   \n",
        "130384             8.850114e-05        1.363308e-02                0.003781   \n",
        "130385             9.366245e-04        1.305994e-02                0.006910   \n",
        "130386             1.246139e-04        1.757527e-04                0.000017   \n",
        "130387             1.405723e-02        1.054293e-04                0.000277   \n",
        "130388             3.479517e-02        8.644524e-04                0.001256   \n",
        "130389             4.853637e-02        4.349863e-03                0.000236   \n",
        "130390             4.373002e-04        1.276439e-05                0.000056   \n",
        "130391             8.398869e-07        1.686857e-04                0.000023   \n",
        "130392             6.391317e-03        1.281895e-03                0.000382   \n",
        "130393             1.685101e-04        1.964505e-02                0.000691   \n",
        "130394             3.323041e-06        1.776520e-04                0.000622   \n",
        "130395             4.989423e-04        1.049848e-02                0.001929   \n",
        "130396             4.481659e-06        1.962329e-04                0.000046   \n",
        "130397             1.467081e-08        4.880525e-06                0.000000   \n",
        "130398             9.201573e-07        2.692792e-04                0.000008   \n",
        "130399             5.447974e-05        6.417924e-03                0.000639   \n",
        "\n",
        "        siphonophore_partial  protist_fuzzy_olive  \\\n",
        "0               9.096187e-05         2.044277e-05   \n",
        "1               2.424652e-05         1.066839e-02   \n",
        "2               1.212041e-02         1.470681e-04   \n",
        "3               1.890857e-03         3.718558e-06   \n",
        "4               7.232652e-09         3.307026e-05   \n",
        "5               1.673246e-07         7.275006e-10   \n",
        "6               2.496904e-03         7.001583e-04   \n",
        "7               1.300229e-05         1.791680e-06   \n",
        "8               5.674300e-05         6.621518e-06   \n",
        "9               4.412823e-03         3.853222e-06   \n",
        "10              4.572322e-04         1.469347e-04   \n",
        "11              1.620994e-04         1.407944e-04   \n",
        "12              3.821414e-05         6.086312e-04   \n",
        "13              1.305992e-03         2.247412e-04   \n",
        "14              2.246882e-07         1.664463e-07   \n",
        "15              3.152500e-06         1.463381e-03   \n",
        "16              4.485469e-05         5.000522e-06   \n",
        "17              5.520146e-02         9.656329e-05   \n",
        "18              2.714327e-04         1.028551e-03   \n",
        "19              6.860101e-04         2.675943e-05   \n",
        "20              8.500587e-07         7.430544e-06   \n",
        "21              5.228246e-04         3.057161e-05   \n",
        "22              8.474995e-06         8.256377e-09   \n",
        "23              1.174006e-03         4.326293e-05   \n",
        "24              1.774444e-04         1.686083e-03   \n",
        "25              2.750102e-04         3.792951e-04   \n",
        "26              1.063854e-02         9.256442e-06   \n",
        "27              4.308471e-04         1.065485e-03   \n",
        "28              1.605594e-03         1.437417e-05   \n",
        "29              4.109700e-04         2.428172e-06   \n",
        "...                      ...                  ...   \n",
        "130370          1.408320e-03         1.223217e-06   \n",
        "130371          2.244732e-04         3.578204e-05   \n",
        "130372          1.553218e-06         2.125021e-04   \n",
        "130373          7.137880e-07         3.181784e-05   \n",
        "130374          7.553597e-05         2.616031e-03   \n",
        "130375          8.477317e-06         3.367948e-03   \n",
        "130376          8.390527e-09         3.691253e-05   \n",
        "130377          9.692985e-08         4.012420e-05   \n",
        "130378          8.201258e-05         3.663970e-04   \n",
        "130379          4.174014e-05         7.775734e-06   \n",
        "130380          3.605217e-07         2.339322e-07   \n",
        "130381          9.195571e-04         2.738819e-04   \n",
        "130382          6.844863e-07         1.360419e-06   \n",
        "130383          2.077323e-03         1.727643e-07   \n",
        "130384          4.090330e-02         5.767578e-04   \n",
        "130385          2.255234e-03         1.732215e-03   \n",
        "130386          1.206563e-05         2.544240e-06   \n",
        "130387          8.673022e-06         5.299839e-05   \n",
        "130388          5.876402e-04         7.221184e-04   \n",
        "130389          4.943350e-03         1.194667e-04   \n",
        "130390          2.989753e-05         5.190452e-01   \n",
        "130391          7.001003e-06         5.912246e-03   \n",
        "130392          7.288348e-04         2.786743e-03   \n",
        "130393          5.622862e-04         3.022719e-04   \n",
        "130394          6.970260e-06         6.367600e-03   \n",
        "130395          1.765884e-03         7.084742e-05   \n",
        "130396          2.377867e-04         6.871668e-03   \n",
        "130397          1.400253e-09         2.043109e-06   \n",
        "130398          3.408855e-07         7.038469e-06   \n",
        "130399          4.238515e-04         5.472406e-05   \n",
        "\n",
        "        appendicularian_fritillaridae  radiolarian_colony  \n",
        "0                            0.000130        1.987029e-04  \n",
        "1                            0.005034        4.422695e-04  \n",
        "2                            0.000571        3.082770e-02  \n",
        "3                            0.000008        4.623566e-04  \n",
        "4                            0.000124        3.626074e-07  \n",
        "5                            0.000009        1.443130e-07  \n",
        "6                            0.005605        8.500820e-03  \n",
        "7                            0.000188        6.076314e-06  \n",
        "8                            0.000495        3.368836e-04  \n",
        "9                            0.000218        1.575645e-03  \n",
        "10                           0.004118        2.474847e-03  \n",
        "11                           0.000238        9.446264e-04  \n",
        "12                           0.000795        1.014760e-04  \n",
        "13                           0.001074        2.283828e-03  \n",
        "14                           0.000006        1.148170e-05  \n",
        "15                           0.000303        1.652731e-05  \n",
        "16                           0.000105        2.021373e-04  \n",
        "17                           0.000199        9.109232e-03  \n",
        "18                           0.001414        1.029996e-03  \n",
        "19                           0.000056        4.007295e-04  \n",
        "20                           0.000147        2.343529e-06  \n",
        "21                           0.000113        6.229638e-04  \n",
        "22                           0.000050        1.295219e-06  \n",
        "23                           0.000908        1.609563e-03  \n",
        "24                           0.001927        1.052716e-02  \n",
        "25                           0.001939        7.301364e-04  \n",
        "26                           0.001113        1.881056e-02  \n",
        "27                           0.001573        1.351802e-03  \n",
        "28                           0.000017        2.618525e-03  \n",
        "29                           0.000093        3.788476e-04  \n",
        "...                               ...                 ...  \n",
        "130370                       0.000003        2.584394e-03  \n",
        "130371                       0.000063        1.369468e-03  \n",
        "130372                       0.000029        1.234957e-04  \n",
        "130373                       0.001263        7.662865e-06  \n",
        "130374                       0.000129        5.647101e-03  \n",
        "130375                       0.000412        1.021097e-04  \n",
        "130376                       0.000014        2.343135e-07  \n",
        "130377                       0.000009        1.125066e-05  \n",
        "130378                       0.000344        6.155659e-03  \n",
        "130379                       0.000336        1.898063e-05  \n",
        "130380                       0.001127        1.350759e-07  \n",
        "130381                       0.001959        2.421313e-02  \n",
        "130382                       0.000003        1.472041e-04  \n",
        "130383                       0.000003        2.937186e-04  \n",
        "130384                       0.004445        6.087781e-03  \n",
        "130385                       0.005405        5.800865e-03  \n",
        "130386                       0.000148        4.776717e-05  \n",
        "130387                       0.001276        1.292889e-03  \n",
        "130388                       0.000998        2.046846e-01  \n",
        "130389                       0.001907        5.542649e-02  \n",
        "130390                       0.000723        3.670851e-03  \n",
        "130391                       0.006680        5.365332e-04  \n",
        "130392                       0.000247        5.315614e-03  \n",
        "130393                       0.003549        2.785647e-03  \n",
        "130394                       0.001137        1.121121e-04  \n",
        "130395                       0.000604        2.632792e-03  \n",
        "130396                       0.000440        5.123886e-03  \n",
        "130397                       0.000013        2.619839e-08  \n",
        "130398                       0.000034        1.230931e-06  \n",
        "130399                       0.000175        1.510069e-03  \n",
        "\n",
        "[130400 rows x 122 columns]"
       ]
      }
     ],
     "prompt_number": 6
    },
    {
     "cell_type": "code",
     "collapsed": false,
     "input": [
      "!gzip submission_cnn_00_best.csv"
     ],
     "language": "python",
     "metadata": {},
     "outputs": [],
     "prompt_number": 10
    },
    {
     "cell_type": "code",
     "collapsed": false,
     "input": [],
     "language": "python",
     "metadata": {},
     "outputs": []
    }
   ],
   "metadata": {}
  }
 ]
}