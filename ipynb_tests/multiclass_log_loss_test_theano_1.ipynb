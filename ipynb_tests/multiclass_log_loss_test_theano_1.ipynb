{
 "metadata": {
  "name": "",
  "signature": "sha256:60f7ef6720ffd91653cf3961a5293c94e26703862c1e63622f1dd4e1d29c6a1b"
 },
 "nbformat": 3,
 "nbformat_minor": 0,
 "worksheets": [
  {
   "cells": [
    {
     "cell_type": "code",
     "collapsed": false,
     "input": [
      "import random\n",
      "import numpy as np\n",
      "from theano import tensor as T, function, pp\n",
      "# from theano import function "
     ],
     "language": "python",
     "metadata": {},
     "outputs": [],
     "prompt_number": 7
    },
    {
     "cell_type": "code",
     "collapsed": false,
     "input": [
      "x = T.dmatrix('x')\n",
      "s = 1 / (1 + T.exp(-x))\n",
      "logistic = function([x], s)\n",
      "logistic([[0, 1], [-1, -2]])\n"
     ],
     "language": "python",
     "metadata": {},
     "outputs": [
      {
       "metadata": {},
       "output_type": "pyout",
       "prompt_number": 5,
       "text": [
        "array([[ 0.5       ,  0.73105858],\n",
        "       [ 0.26894142,  0.11920292]])"
       ]
      }
     ],
     "prompt_number": 5
    },
    {
     "cell_type": "code",
     "collapsed": false,
     "input": [
      "def multiclass_log_loss(y_true, y_pred, eps=1e-15):\n",
      "    # clip values to >0 and <1\n",
      "    predictions = np.clip(y_pred, eps, 1 - eps)\n",
      "\n",
      "    # normalize row sums to 1\n",
      "    predictions /= predictions.sum(axis=1)[:, np.newaxis]\n",
      "    print \"Predictions:\\n%s\" %predictions\n",
      "\n",
      "    actual = np.zeros(y_pred.shape)\n",
      "    n_samples = actual.shape[0]\n",
      "#     print \"Samples:\\n%s\" %n_samples\n",
      "    \n",
      "    actual[np.arange(n_samples), y_true.astype(int)] = 1\n",
      "    print \"Actual 1s:\\n%s\" %actual\n",
      "    \n",
      "    print \"log(predictions):\\n%s\" %np.log(predictions)\n",
      "    print \"actual * log(predictions):\\n%s\" %(actual * np.log(predictions))\n",
      "    vectsum = np.sum(actual * np.log(predictions))\n",
      "#     print \"vectsum: %s\" %vectsum\n",
      "    \n",
      "    loss = -1.0 / n_samples * vectsum\n",
      "    return loss"
     ],
     "language": "python",
     "metadata": {},
     "outputs": [],
     "prompt_number": 250
    },
    {
     "cell_type": "code",
     "collapsed": false,
     "input": [
      "y_pred = T.matrix(dtype='float32')\n",
      "y_true = T.matrix('y_true', dtype='int32')\n",
      "y_true_square = T.matrix('y_true_square', dtype='int32')\n",
      "eps = T.constant(1e-15, 'eps', dtype='float32')\n",
      "\n",
      "n_samples = y_pred.shape[0]\n",
      "y_pred_clip = T.clip(y_pred, eps, 1-eps)\n",
      "y_pred_row_sum = y_pred_clip.sum(axis=1)[:, np.newaxis]\n",
      "y_pred_norm = y_pred_clip / y_pred_row_sum\n",
      "y_true_square_ones = T.set_subtensor(y_true_square[T.arange(y_true.shape[0]), y_true.dimshuffle(1,0)], 1)\n",
      "y_pred_log = T.log(y_pred_norm)\n",
      "log_true_prod = y_true_square_ones * y_pred_log\n",
      "loss = -1.0 / n_samples * log_true_prod.sum()\n",
      "\n",
      "clip = function([y_pred], y_pred_clip)\n",
      "clip_row_sum = function([y_pred], y_pred_row_sum)\n",
      "norm = function([y_pred], y_pred_norm)\n",
      "myfun1 = function([y_true, y_true_square], y_true_square_ones)\n",
      "log = function([y_pred], y_pred_log)\n",
      "prod = function([y_pred, y_true, y_true_square], log_true_prod)\n",
      "log_loss = function([y_pred, y_true, y_true_square], loss)"
     ],
     "language": "python",
     "metadata": {},
     "outputs": [],
     "prompt_number": 251
    },
    {
     "cell_type": "code",
     "collapsed": false,
     "input": [
      "test_arr = np.random.rand(3,3).astype('float32')\n",
      "y = np.random.randint(3, size=3).astype('int32')\n",
      "y_T = y.reshape(y.shape[0],1)\n",
      "y"
     ],
     "language": "python",
     "metadata": {},
     "outputs": [
      {
       "metadata": {},
       "output_type": "pyout",
       "prompt_number": 252,
       "text": [
        "array([0, 2, 2], dtype=int32)"
       ]
      }
     ],
     "prompt_number": 252
    },
    {
     "cell_type": "code",
     "collapsed": false,
     "input": [
      "# print clip(test_arr)\n",
      "# print clip_row_sum(test_arr)\n",
      "print norm(test_arr)\n",
      "print myfun1(y_T, np.zeros([y_T.shape[0], y_T.shape[0]], dtype='int32'))\n",
      "print log(test_arr)\n",
      "print prod(test_arr, y_T, np.zeros([y_T.shape[0], y.shape[0]], dtype='int32'))\n",
      "print log_loss(test_arr, y_T, np.zeros([y_T.shape[0], y_T.shape[0]], dtype='int32'))"
     ],
     "language": "python",
     "metadata": {},
     "outputs": [
      {
       "output_type": "stream",
       "stream": "stdout",
       "text": [
        "[[ 0.41761243  0.4729698   0.10941777]\n",
        " [ 0.04102971  0.05721697  0.90175331]\n",
        " [ 0.52168947  0.36370257  0.11460798]]\n",
        "[[1 0 0]\n",
        " [0 0 1]\n",
        " [0 0 1]]\n",
        "[[-0.87320149 -0.74872375 -2.21258211]\n",
        " [-3.1934588  -2.86090469 -0.10341429]\n",
        " [-0.65068275 -1.01141882 -2.16623783]]\n",
        "[[-0.87320149 -0.         -0.        ]\n",
        " [-0.         -0.         -0.10341429]\n",
        " [-0.         -0.         -2.16623783]]\n",
        "1.04761790129\n"
       ]
      }
     ],
     "prompt_number": 254
    },
    {
     "cell_type": "code",
     "collapsed": false,
     "input": [
      "multiclass_log_loss(y, test_arr)"
     ],
     "language": "python",
     "metadata": {},
     "outputs": [
      {
       "output_type": "stream",
       "stream": "stdout",
       "text": [
        "Predictions:\n",
        "[[ 0.41761243  0.4729698   0.10941777]\n",
        " [ 0.04102971  0.05721697  0.90175331]\n",
        " [ 0.52168947  0.36370257  0.11460798]]\n",
        "Actual 1s:\n",
        "[[ 1.  0.  0.]\n",
        " [ 0.  0.  1.]\n",
        " [ 0.  0.  1.]]\n",
        "log(predictions):\n",
        "[[-0.87320149 -0.74872375 -2.21258211]\n",
        " [-3.1934588  -2.86090469 -0.10341429]\n",
        " [-0.65068275 -1.01141882 -2.16623783]]\n",
        "actual * log(predictions):\n",
        "[[-0.87320149 -0.         -0.        ]\n",
        " [-0.         -0.         -0.10341429]\n",
        " [-0.         -0.         -2.16623783]]\n"
       ]
      },
      {
       "metadata": {},
       "output_type": "pyout",
       "prompt_number": 255,
       "text": [
        "1.0476178700725236"
       ]
      }
     ],
     "prompt_number": 255
    },
    {
     "cell_type": "code",
     "collapsed": false,
     "input": [],
     "language": "python",
     "metadata": {},
     "outputs": []
    }
   ],
   "metadata": {}
  }
 ]
}