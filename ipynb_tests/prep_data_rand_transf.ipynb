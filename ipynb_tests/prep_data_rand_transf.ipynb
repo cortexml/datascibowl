{
 "metadata": {
  "name": "",
  "signature": "sha256:a4424c1a2f71c48698bab661c79e48aefd26b838d27806d09f6e8568feac437c"
 },
 "nbformat": 3,
 "nbformat_minor": 0,
 "worksheets": [
  {
   "cells": [
    {
     "cell_type": "code",
     "collapsed": false,
     "input": [
      "#Import libraries for doing image analysis\n",
      "from skimage.io import imread\n",
      "from skimage.transform import resize, rotate, warp, AffineTransform as af\n",
      "from sklearn.ensemble import RandomForestClassifier as RF\n",
      "import glob\n",
      "import os\n",
      "from sklearn import cross_validation\n",
      "from sklearn.cross_validation import train_test_split\n",
      "from sklearn.metrics import classification_report\n",
      "from sklearn.metrics import confusion_matrix\n",
      "from matplotlib import pyplot as plt\n",
      "from matplotlib import colors\n",
      "from pylab import cm\n",
      "from skimage import segmentation\n",
      "from skimage.morphology import watershed\n",
      "from skimage import measure\n",
      "from skimage import morphology\n",
      "import numpy as np\n",
      "import pandas as pd\n",
      "from scipy import ndimage\n",
      "from skimage.feature import peak_local_max\n",
      "from nolearn.dbn import DBN\n",
      "from nolearn.lasagne import NeuralNet \n",
      "from lasagne import layers\n",
      "from lasagne.updates import nesterov_momentum\n",
      "import random\n",
      "import math\n",
      "from PIL import Image\n",
      "# make graphics inline\n",
      "%matplotlib inline"
     ],
     "language": "python",
     "metadata": {},
     "outputs": [
      {
       "output_type": "stream",
       "stream": "stderr",
       "text": [
        "/Users/bert.ji/venvs/DeepLearning/lib/python2.7/site-packages/nolearn/dbn.py:17: UserWarning: \n",
        "The nolearn.dbn module will be removed in nolearn 0.6.  If you want to\n",
        "continue to use this module, please consider copying the code into\n",
        "your own project.  And take a look at Lasagne and nolearn.lasagne for\n",
        "a better neural net toolkit.\n",
        "\n",
        "  \"\"\")\n",
        "Using gpu device 0: GeForce GT 750M"
       ]
      },
      {
       "output_type": "stream",
       "stream": "stderr",
       "text": [
        "\n"
       ]
      }
     ],
     "prompt_number": 1
    },
    {
     "cell_type": "code",
     "collapsed": false,
     "input": [
      "from lasagne.layers import cuda_convnet"
     ],
     "language": "python",
     "metadata": {},
     "outputs": [],
     "prompt_number": 2
    },
    {
     "cell_type": "code",
     "collapsed": false,
     "input": [
      "# get the classnames from the directory structure\n",
      "directory_names = list(set(glob.glob(os.path.join(\"competition_data\",\"train\", \"*\"))\\\n",
      " ).difference(set(glob.glob(os.path.join(\"competition_data\",\"train\",\"*.*\")))))"
     ],
     "language": "python",
     "metadata": {},
     "outputs": [],
     "prompt_number": 3
    },
    {
     "cell_type": "code",
     "collapsed": false,
     "input": [
      "#get the total training images\n",
      "numberofImages = 0\n",
      "for folder in directory_names:\n",
      "    for fileNameDir in os.walk(folder):   \n",
      "        for fileName in fileNameDir[2]:\n",
      "             # Only read in the images\n",
      "            if fileName[-4:] != \".jpg\":\n",
      "              continue\n",
      "            numberofImages += 1"
     ],
     "language": "python",
     "metadata": {},
     "outputs": [],
     "prompt_number": 4
    },
    {
     "cell_type": "code",
     "collapsed": false,
     "input": [
      "def random_transform(im):\n",
      "    x, y = im.shape\n",
      "    pixel_count = x * y\n",
      "    \n",
      "    rotation = random.uniform(0, 360)\n",
      "    flip = np.random.binomial(1, 0.5)\n",
      "    if flip:\n",
      "        im = np.fliplr(im)\n",
      "    rotation = random.uniform(0, 360)\n",
      "    translation = random.uniform(4.0/float(x),\n",
      "                                 4.0/float(y))\n",
      "    zoom = math.exp(random.uniform(math.log(1.0/1.0), math.log(1.1)))\n",
      "    transform = af(\n",
      "        scale=(zoom, zoom),\n",
      "        rotation=rotation,\n",
      "        translation=translation\n",
      "    )\n",
      "    transformed_im = warp(im, transform, cval=1.0)\n",
      "    orig_white_pixels =\\\n",
      "        np.bincount(np.unique(im, return_inverse=True)[1])[-1]\n",
      "    orig_signal_pct =\\\n",
      "        float(pixel_count - orig_white_pixels)/float(pixel_count)\n",
      "    transformed_white_pixels =\\\n",
      "        np.bincount(\n",
      "            np.unique(transformed_im,\n",
      "                      return_inverse=True)[1])[-1]\n",
      "    transformed_signal_pct =\\\n",
      "        float(pixel_count - transformed_white_pixels)/float(pixel_count)\n",
      "    pix_pct_diff = 1.0 - (orig_signal_pct-transformed_signal_pct)/orig_signal_pct\n",
      "    if pix_pct_diff >= 0.5:\n",
      "        return transformed_im\n",
      "    return random_transform(im)"
     ],
     "language": "python",
     "metadata": {},
     "outputs": [],
     "prompt_number": 5
    },
    {
     "cell_type": "code",
     "collapsed": false,
     "input": [
      "example_file = glob.glob(os.path.join(directory_names[1], '*.jpg'))[2]\n",
      "max_pixel = 95\n",
      "im = imread(example_file, as_grey=True)\n",
      "image = resize(im, (max_pixel, max_pixel))\n",
      "transformed_image = resize(random_transform(im),\n",
      "                           (max_pixel, max_pixel))\n",
      "plt.imshow(image, cmap=cm.gray)\n",
      "plt.show()\n",
      "plt.imshow(transformed_image, cmap=cm.gray)\n",
      "plt.show()"
     ],
     "language": "python",
     "metadata": {},
     "outputs": [
      {
       "metadata": {},
       "output_type": "display_data",
       "png": "[encoded data removed]",
       "text": [
        "<matplotlib.figure.Figure at 0x10abb29d0>"
       ]
      },
      {
       "metadata": {},
       "output_type": "display_data",
       "png": "[encoded data removed]",
       "text": [
        "<matplotlib.figure.Figure at 0x11485be10>"
       ]
      }
     ],
     "prompt_number": 6
    },
    {
     "cell_type": "code",
     "collapsed": false,
     "input": [
      "# We'll rescale the images to be 25x25\n",
      "num_copies = 1\n",
      "maxPixel = 96\n",
      "imageSize = maxPixel * maxPixel\n",
      "num_rows = numberofImages * num_copies # one row for each image in the training dataset\n",
      "num_features = imageSize # for our ratio\n",
      "\n",
      "# X is the feature vector with one row of features per image\n",
      "# consisting of the pixel values and our metric\n",
      "X = np.zeros((num_rows, num_features), dtype=float)\n",
      "# y is the numeric class label \n",
      "y = np.zeros((num_rows))\n",
      "\n",
      "files = []\n",
      "# Generate training data\n",
      "i = 0    \n",
      "label = 0\n",
      "# List of string of class names\n",
      "namesClasses = list()\n",
      "\n",
      "print \"Reading images\"\n",
      "for folder in directory_names:\n",
      "    # Append the string class name for each class\n",
      "    currentClass = folder.split(os.pathsep)[-1]\n",
      "    namesClasses.append(currentClass)\n",
      "    for fileNameDir in os.walk(folder):   \n",
      "        for fileName in fileNameDir[2]:\n",
      "            # Only read in the images\n",
      "            if fileName[-4:] != \".jpg\":\n",
      "              continue\n",
      "            \n",
      "            # Read in the images and create the features\n",
      "            nameFileImage = \"{0}{1}{2}\".format(fileNameDir[0], os.sep, fileName)\n",
      "            image = imread(nameFileImage, as_grey=True)\n",
      "            if num_copies > 1:\n",
      "                for _ in xrange(num_copies):\n",
      "                    files.append(nameFileImage)\n",
      "                    transformed_im =\\\n",
      "                        resize(random_transform(image),\n",
      "                               (maxPixel, maxPixel))\n",
      "\n",
      "                    # Store the rescaled image pixels and the axis ratio\n",
      "                    X[i, 0:imageSize] = np.reshape(transformed_im, (1, imageSize))\n",
      "\n",
      "                    # Store the classlabel\n",
      "                    y[i] = label\n",
      "                    i += 1\n",
      "                # report progress for each 5% done  \n",
      "                report = [int((j+1)*num_rows/20.) for j in range(20)]\n",
      "                if i in report: print np.ceil(i *100.0 / num_rows), \"% done\"\n",
      "            else:\n",
      "                files.append(nameFileImage)\n",
      "                im = resize(image, (maxPixel, maxPixel))\n",
      "\n",
      "                # Store the rescaled image pixels and the axis ratio\n",
      "                X[i, 0:imageSize] = np.reshape(im, (1, imageSize))\n",
      "\n",
      "                # Store the classlabel\n",
      "                y[i] = label\n",
      "                i += 1\n",
      "            # report progress for each 5% done  \n",
      "            report = [int((j+1)*num_rows/20.) for j in range(20)]\n",
      "            if i in report: print np.ceil(i *100.0 / num_rows), \"% done\"\n",
      "                \n",
      "    label += 1"
     ],
     "language": "python",
     "metadata": {},
     "outputs": [
      {
       "output_type": "stream",
       "stream": "stdout",
       "text": [
        "Reading images\n",
        "5.0"
       ]
      },
      {
       "output_type": "stream",
       "stream": "stdout",
       "text": [
        " % done\n",
        "10.0"
       ]
      },
      {
       "output_type": "stream",
       "stream": "stdout",
       "text": [
        " % done\n",
        "15.0"
       ]
      },
      {
       "output_type": "stream",
       "stream": "stdout",
       "text": [
        " % done\n",
        "20.0"
       ]
      },
      {
       "output_type": "stream",
       "stream": "stdout",
       "text": [
        " % done\n",
        "25.0"
       ]
      },
      {
       "output_type": "stream",
       "stream": "stdout",
       "text": [
        " % done\n",
        "30.0"
       ]
      },
      {
       "output_type": "stream",
       "stream": "stdout",
       "text": [
        " % done\n",
        "35.0"
       ]
      },
      {
       "output_type": "stream",
       "stream": "stdout",
       "text": [
        " % done\n",
        "40.0"
       ]
      },
      {
       "output_type": "stream",
       "stream": "stdout",
       "text": [
        " % done\n",
        "45.0"
       ]
      },
      {
       "output_type": "stream",
       "stream": "stdout",
       "text": [
        " % done\n",
        "50.0"
       ]
      },
      {
       "output_type": "stream",
       "stream": "stdout",
       "text": [
        " % done\n",
        "55.0"
       ]
      },
      {
       "output_type": "stream",
       "stream": "stdout",
       "text": [
        " % done\n",
        "60.0"
       ]
      },
      {
       "output_type": "stream",
       "stream": "stdout",
       "text": [
        " % done\n",
        "65.0"
       ]
      },
      {
       "output_type": "stream",
       "stream": "stdout",
       "text": [
        " % done\n",
        "70.0"
       ]
      },
      {
       "output_type": "stream",
       "stream": "stdout",
       "text": [
        " % done\n",
        "75.0"
       ]
      },
      {
       "output_type": "stream",
       "stream": "stdout",
       "text": [
        " % done\n",
        "80.0"
       ]
      },
      {
       "output_type": "stream",
       "stream": "stdout",
       "text": [
        " % done\n",
        "85.0"
       ]
      },
      {
       "output_type": "stream",
       "stream": "stdout",
       "text": [
        " % done\n",
        "90.0"
       ]
      },
      {
       "output_type": "stream",
       "stream": "stdout",
       "text": [
        " % done\n",
        "95.0"
       ]
      },
      {
       "output_type": "stream",
       "stream": "stdout",
       "text": [
        " % done\n",
        "100.0"
       ]
      },
      {
       "output_type": "stream",
       "stream": "stdout",
       "text": [
        " % done\n"
       ]
      }
     ],
     "prompt_number": 7
    },
    {
     "cell_type": "code",
     "collapsed": false,
     "input": [
      "X = X.astype(np.float32)\n",
      "train_X, test_X, train_Y, test_Y =\\\n",
      "    train_test_split(X, y.astype('int0'), test_size=0.1)\n",
      "\n",
      "train_X = train_X.reshape(-1, 1, 96, 96)\n",
      "train_Y = train_Y.astype(np.float32)"
     ],
     "language": "python",
     "metadata": {},
     "outputs": [],
     "prompt_number": 8
    },
    {
     "cell_type": "code",
     "collapsed": false,
     "input": [
      "train_Y"
     ],
     "language": "python",
     "metadata": {},
     "outputs": [
      {
       "metadata": {},
       "output_type": "pyout",
       "prompt_number": 23,
       "text": [
        "array([ 21.,  90.,   5., ...,  77.,  41.,  61.], dtype=float32)"
       ]
      }
     ],
     "prompt_number": 23
    },
    {
     "cell_type": "code",
     "collapsed": false,
     "input": [
      "# dbn = DBN([train_X.shape[1], 500, len(directory_names)],\n",
      "#           learn_rates=0.3,\n",
      "#           learn_rate_decays=0.9,\n",
      "#           epochs=10,\n",
      "#           verbose=1)\n",
      "\n",
      "Conv2DLayer = cuda_convnet.Conv2DCCLayer\n",
      "MaxPool2DLayer = cuda_convnet.MaxPool2DCCLayer\n",
      "\n",
      "net = NeuralNet(\n",
      "    layers=[\n",
      "        ('input', layers.InputLayer),\n",
      "        ('conv1', Conv2DLayer),\n",
      "        ('pool1', MaxPool2DLayer),\n",
      "        ('conv2', Conv2DLayer),\n",
      "        ('pool2', MaxPool2DLayer),\n",
      "        ('conv3', Conv2DLayer),\n",
      "        ('pool3', MaxPool2DLayer),\n",
      "        ('hidden4', layers.DenseLayer),\n",
      "        ('hidden5', layers.DenseLayer),\n",
      "        ('output', layers.DenseLayer),\n",
      "    ],\n",
      "    input_shape=(128, 1, 96, 96),\n",
      "    conv1_num_filters=32, conv1_filter_size=(3, 3), pool1_ds=(2,2),\n",
      "    conv2_num_filters=64, conv2_filter_size=(2, 2), pool2_ds=(2,2),\n",
      "    conv3_num_filters=128, conv3_filter_size=(2, 2), pool3_ds=(2,2),\n",
      "    hidden4_num_units=500, hidden5_num_units=500,\n",
      "    output_nonlinearity=None,\n",
      "    output_num_units=1,\n",
      "\n",
      "    update_learning_rate=0.01,\n",
      "    update_momentum=0.9,\n",
      "\n",
      "    regression=True,\n",
      "    max_epochs=1000,\n",
      "    verbose=1\n",
      ")"
     ],
     "language": "python",
     "metadata": {},
     "outputs": [],
     "prompt_number": 21
    },
    {
     "cell_type": "code",
     "collapsed": false,
     "input": [
      "# dbn.fit(train_X, train_Y)\n",
      "\n",
      "net.fit(train_X, train_Y)"
     ],
     "language": "python",
     "metadata": {},
     "outputs": [
      {
       "output_type": "stream",
       "stream": "stdout",
       "text": [
        "  InputLayer        \t(128, 1, 96, 96)    \tproduces    9216 outputs\n",
        "  Conv2DCCLayer     \t(128, 32, 94, 94)   \tproduces  282752 outputs\n",
        "  MaxPool2DCCLayer  \t(128, 32, 47, 47)   \tproduces   70688 outputs\n",
        "  Conv2DCCLayer     \t(128, 64, 46, 46)   \tproduces  135424 outputs\n",
        "  MaxPool2DCCLayer  \t(128, 64, 23, 23)   \tproduces   33856 outputs\n",
        "  Conv2DCCLayer     \t(128, 128, 22, 22)  \tproduces   61952 outputs\n",
        "  MaxPool2DCCLayer  \t(128, 128, 11, 11)  \tproduces   15488 outputs\n",
        "  DenseLayer        \t(128, 500)          \tproduces     500 outputs\n",
        "  DenseLayer        \t(128, 500)          \tproduces     500 outputs\n",
        "  DenseLayer        \t(128, 1)            \tproduces       1 outputs\n",
        "\n",
        " Epoch  |  Train loss  |  Valid loss  |  Train / Val  |  Valid acc  |  Dur\n",
        "--------|--------------|--------------|---------------|-------------|-------"
       ]
      },
      {
       "output_type": "stream",
       "stream": "stdout",
       "text": [
        "\n"
       ]
      },
      {
       "ename": "TypeError",
       "evalue": "('Bad input argument to theano function with name \"/Users/bert.ji/venvs/DeepLearning/lib/python2.7/site-packages/nolearn/lasagne.py:303\"  at index 1(0-based)', 'Wrong number of dimensions: expected 2, got 1 with shape (128,).')",
       "output_type": "pyerr",
       "traceback": [
        "\u001b[0;31m---------------------------------------------------------------------------\u001b[0m\n\u001b[0;31mTypeError\u001b[0m                                 Traceback (most recent call last)",
        "\u001b[0;32m<ipython-input-22-b6be86cc3bfd>\u001b[0m in \u001b[0;36m<module>\u001b[0;34m()\u001b[0m\n\u001b[1;32m      1\u001b[0m \u001b[0;31m# dbn.fit(train_X, train_Y)\u001b[0m\u001b[0;34m\u001b[0m\u001b[0;34m\u001b[0m\u001b[0m\n\u001b[1;32m      2\u001b[0m \u001b[0;34m\u001b[0m\u001b[0m\n\u001b[0;32m----> 3\u001b[0;31m \u001b[0mnet\u001b[0m\u001b[0;34m.\u001b[0m\u001b[0mfit\u001b[0m\u001b[0;34m(\u001b[0m\u001b[0mtrain_X\u001b[0m\u001b[0;34m,\u001b[0m \u001b[0mtrain_Y\u001b[0m\u001b[0;34m)\u001b[0m\u001b[0;34m\u001b[0m\u001b[0m\n\u001b[0m",
        "\u001b[0;32m/Users/bert.ji/venvs/DeepLearning/lib/python2.7/site-packages/nolearn/lasagne.pyc\u001b[0m in \u001b[0;36mfit\u001b[0;34m(self, X, y)\u001b[0m\n\u001b[1;32m    148\u001b[0m \u001b[0;34m\u001b[0m\u001b[0m\n\u001b[1;32m    149\u001b[0m         \u001b[0;32mtry\u001b[0m\u001b[0;34m:\u001b[0m\u001b[0;34m\u001b[0m\u001b[0m\n\u001b[0;32m--> 150\u001b[0;31m             \u001b[0mself\u001b[0m\u001b[0;34m.\u001b[0m\u001b[0mtrain_loop\u001b[0m\u001b[0;34m(\u001b[0m\u001b[0mX\u001b[0m\u001b[0;34m,\u001b[0m \u001b[0my\u001b[0m\u001b[0;34m)\u001b[0m\u001b[0;34m\u001b[0m\u001b[0m\n\u001b[0m\u001b[1;32m    151\u001b[0m         \u001b[0;32mexcept\u001b[0m \u001b[0mKeyboardInterrupt\u001b[0m\u001b[0;34m:\u001b[0m\u001b[0;34m\u001b[0m\u001b[0m\n\u001b[1;32m    152\u001b[0m             \u001b[0mpdb\u001b[0m\u001b[0;34m.\u001b[0m\u001b[0mset_trace\u001b[0m\u001b[0;34m(\u001b[0m\u001b[0;34m)\u001b[0m\u001b[0;34m\u001b[0m\u001b[0m\n",
        "\u001b[0;32m/Users/bert.ji/venvs/DeepLearning/lib/python2.7/site-packages/nolearn/lasagne.pyc\u001b[0m in \u001b[0;36mtrain_loop\u001b[0;34m(self, X, y)\u001b[0m\n\u001b[1;32m    186\u001b[0m \u001b[0;34m\u001b[0m\u001b[0m\n\u001b[1;32m    187\u001b[0m             \u001b[0;32mfor\u001b[0m \u001b[0mXb\u001b[0m\u001b[0;34m,\u001b[0m \u001b[0myb\u001b[0m \u001b[0;32min\u001b[0m \u001b[0mself\u001b[0m\u001b[0;34m.\u001b[0m\u001b[0mbatch_iterator_train\u001b[0m\u001b[0;34m(\u001b[0m\u001b[0mX_train\u001b[0m\u001b[0;34m,\u001b[0m \u001b[0my_train\u001b[0m\u001b[0;34m)\u001b[0m\u001b[0;34m:\u001b[0m\u001b[0;34m\u001b[0m\u001b[0m\n\u001b[0;32m--> 188\u001b[0;31m                 \u001b[0mbatch_train_loss\u001b[0m \u001b[0;34m=\u001b[0m \u001b[0mself\u001b[0m\u001b[0;34m.\u001b[0m\u001b[0mtrain_iter_\u001b[0m\u001b[0;34m(\u001b[0m\u001b[0mXb\u001b[0m\u001b[0;34m,\u001b[0m \u001b[0myb\u001b[0m\u001b[0;34m)\u001b[0m\u001b[0;34m\u001b[0m\u001b[0m\n\u001b[0m\u001b[1;32m    189\u001b[0m                 \u001b[0mtrain_losses\u001b[0m\u001b[0;34m.\u001b[0m\u001b[0mappend\u001b[0m\u001b[0;34m(\u001b[0m\u001b[0mbatch_train_loss\u001b[0m\u001b[0;34m)\u001b[0m\u001b[0;34m\u001b[0m\u001b[0m\n\u001b[1;32m    190\u001b[0m \u001b[0;34m\u001b[0m\u001b[0m\n",
        "\u001b[0;32m/Users/bert.ji/venvs/DeepLearning/lib/python2.7/site-packages/Theano-0.6.0-py2.7.egg/theano/compile/function_module.pyc\u001b[0m in \u001b[0;36m__call__\u001b[0;34m(self, *args, **kwargs)\u001b[0m\n\u001b[1;32m    511\u001b[0m                     \u001b[0;32mtry\u001b[0m\u001b[0;34m:\u001b[0m\u001b[0;34m\u001b[0m\u001b[0m\n\u001b[1;32m    512\u001b[0m                         s.storage[0] = s.type.filter(arg, strict=s.strict,\n\u001b[0;32m--> 513\u001b[0;31m                                 allow_downcast=s.allow_downcast)\n\u001b[0m\u001b[1;32m    514\u001b[0m \u001b[0;34m\u001b[0m\u001b[0m\n\u001b[1;32m    515\u001b[0m                     \u001b[0;32mexcept\u001b[0m \u001b[0mException\u001b[0m\u001b[0;34m,\u001b[0m \u001b[0me\u001b[0m\u001b[0;34m:\u001b[0m\u001b[0;34m\u001b[0m\u001b[0m\n",
        "\u001b[0;32m/Users/bert.ji/venvs/DeepLearning/lib/python2.7/site-packages/Theano-0.6.0-py2.7.egg/theano/tensor/type.pyc\u001b[0m in \u001b[0;36mfilter\u001b[0;34m(self, data, strict, allow_downcast)\u001b[0m\n\u001b[1;32m    167\u001b[0m             raise TypeError(\"Wrong number of dimensions: expected %s,\"\n\u001b[1;32m    168\u001b[0m                             \" got %s with shape %s.\" % (self.ndim, data.ndim,\n\u001b[0;32m--> 169\u001b[0;31m                                                         data.shape))\n\u001b[0m\u001b[1;32m    170\u001b[0m         \u001b[0;32mif\u001b[0m \u001b[0;32mnot\u001b[0m \u001b[0mdata\u001b[0m\u001b[0;34m.\u001b[0m\u001b[0mflags\u001b[0m\u001b[0;34m.\u001b[0m\u001b[0maligned\u001b[0m\u001b[0;34m:\u001b[0m\u001b[0;34m\u001b[0m\u001b[0m\n\u001b[1;32m    171\u001b[0m             \u001b[0;32mtry\u001b[0m\u001b[0;34m:\u001b[0m\u001b[0;34m\u001b[0m\u001b[0m\n",
        "\u001b[0;31mTypeError\u001b[0m: ('Bad input argument to theano function with name \"/Users/bert.ji/venvs/DeepLearning/lib/python2.7/site-packages/nolearn/lasagne.py:303\"  at index 1(0-based)', 'Wrong number of dimensions: expected 2, got 1 with shape (128,).')"
       ]
      }
     ],
     "prompt_number": 22
    },
    {
     "cell_type": "code",
     "collapsed": false,
     "input": [
      "# preds = dbn.predict(test_X)\n",
      "train_X.shape"
     ],
     "language": "python",
     "metadata": {},
     "outputs": [
      {
       "metadata": {},
       "output_type": "pyout",
       "prompt_number": 22,
       "text": [
        "(27302, 9217)"
       ]
      }
     ],
     "prompt_number": 22
    },
    {
     "cell_type": "code",
     "collapsed": false,
     "input": [
      "print classification_report(test_Y, preds)"
     ],
     "language": "python",
     "metadata": {},
     "outputs": [
      {
       "output_type": "stream",
       "stream": "stdout",
       "text": [
        "             precision    recall  f1-score   support\n",
        "\n",
        "          0       0.00      0.00      0.00      1035\n",
        "          1       0.00      0.00      0.00       301\n",
        "          2       0.00      0.00      0.00       822\n",
        "          3       0.00      0.00      0.00        54\n",
        "          4       0.00      0.00      0.00       836\n",
        "          5       0.00      0.00      0.00      1780\n",
        "          6       0.00      0.00      0.00       679\n",
        "          7       0.00      0.00      0.00        22\n",
        "          8       0.00      0.00      0.00        16\n",
        "          9       0.00      0.00      0.00       201\n",
        "         10       0.00      0.00      0.00       934\n",
        "         11       0.00      0.00      0.00      1333\n",
        "         12       0.00      0.00      0.00       113\n",
        "         13       0.00      0.00      0.00        34\n",
        "         14       0.00      0.00      0.00        18\n",
        "         15       0.00      0.00      0.00       462\n",
        "         16       0.00      0.00      0.00      1632\n",
        "         17       0.00      0.00      0.00        55\n",
        "         18       0.00      0.00      0.00      2395\n",
        "         19       0.00      0.00      0.00       223\n",
        "         20       0.00      0.00      0.00       196\n",
        "         21       0.00      0.00      0.00       137\n",
        "         22       0.00      0.00      0.00       255\n",
        "         23       0.00      0.00      0.00        95\n",
        "         24       0.00      0.00      0.00        83\n",
        "         25       0.00      0.00      0.00      1363\n",
        "         26       0.00      0.00      0.00       395\n",
        "         27       0.00      0.00      0.00       252\n",
        "         28       0.00      0.00      0.00       393\n",
        "         29       0.00      0.00      0.00       335\n",
        "         30       0.00      0.00      0.00        56\n",
        "         31       0.00      0.00      0.00        51\n",
        "         32       0.00      0.00      0.00       256\n",
        "         33       0.00      0.00      0.00        22\n",
        "         34       0.00      0.00      0.00       142\n",
        "         35       0.00      0.00      0.00       121\n",
        "         36       0.00      0.00      0.00        68\n",
        "         37       0.00      0.00      0.00      1015\n",
        "         38       0.00      0.00      0.00       277\n",
        "         39       0.00      0.00      0.00       564\n",
        "         40       0.00      0.00      0.00       310\n",
        "         41       0.00      0.00      0.00       708\n",
        "         42       0.00      0.00      0.00        59\n",
        "         43       0.00      0.00      0.00        24\n",
        "         44       0.00      0.00      0.00        73\n",
        "         45       0.00      0.00      0.00       448\n",
        "         46       0.00      0.00      0.00        78\n",
        "         47       0.00      0.00      0.00       255\n",
        "         48       0.00      0.00      0.00       208\n",
        "         49       0.00      0.00      0.00      1432\n",
        "         50       0.00      0.00      0.00       539\n",
        "         51       0.00      0.00      0.00       752\n",
        "         52       0.00      0.00      0.00       261\n",
        "         53       0.00      0.00      0.00      1379\n",
        "         54       0.00      0.00      0.00       101\n",
        "         55       0.00      0.00      0.00        28\n",
        "         56       0.00      0.00      0.00        83\n",
        "         57       0.00      0.00      0.00      2285\n",
        "         58       0.00      0.00      0.00        30\n",
        "         59       0.00      0.00      0.00       489\n",
        "         60       0.00      0.00      0.00       111\n",
        "         61       0.00      0.00      0.00      3939\n",
        "         62       0.00      0.00      0.00       753\n",
        "         63       0.00      0.00      0.00        60\n",
        "         64       0.00      0.00      0.00       741\n",
        "         65       0.00      0.00      0.00       166\n",
        "         66       0.00      0.00      0.00       343\n",
        "         67       0.00      0.00      0.00        30\n",
        "         68       0.00      0.00      0.00        88\n",
        "         69       0.00      0.00      0.00        33\n",
        "         70       0.00      0.00      0.00       291\n",
        "         71       0.00      0.00      0.00      1358\n",
        "         72       0.00      0.00      0.00      1085\n",
        "         73       0.00      0.00      0.00       552\n",
        "         74       0.00      0.00      0.00       334\n",
        "         75       0.00      0.00      0.00       359\n",
        "         76       0.00      0.00      0.00       108\n",
        "         77       0.00      0.00      0.00      1767\n",
        "         78       0.00      0.00      0.00        59\n",
        "         79       0.00      0.00      0.00       873\n",
        "         80       0.00      0.00      0.00        53\n",
        "         81       0.00      0.00      0.00       614\n",
        "         82       0.00      0.00      0.00       302\n",
        "         83       0.00      0.00      0.00      1423\n",
        "         84       0.00      0.00      0.00       338\n",
        "         85       0.00      0.00      0.00      1173\n",
        "         86       0.00      0.00      0.00       194\n",
        "         87       0.00      0.00      0.00        66\n",
        "         88       0.00      0.00      0.00       780\n",
        "         89       0.00      0.00      0.00       268\n",
        "         90       0.00      0.00      0.00       747\n",
        "         91       0.06      1.00      0.12      3823\n",
        "         92       0.00      0.00      0.00        71\n",
        "         93       0.00      0.00      0.00       214\n",
        "         94       0.00      0.00      0.00       120\n",
        "         95       0.00      0.00      0.00       136\n",
        "         96       0.00      0.00      0.00       960\n",
        "         97       0.00      0.00      0.00       165\n",
        "         98       0.00      0.00      0.00       201\n",
        "         99       0.00      0.00      0.00       187\n",
        "        100       0.00      0.00      0.00        47\n",
        "        101       0.00      0.00      0.00       467\n",
        "        102       0.00      0.00      0.00        28\n",
        "        103       0.00      0.00      0.00       132\n",
        "        104       0.00      0.00      0.00       171\n",
        "        105       0.00      0.00      0.00       503\n",
        "        106       0.00      0.00      0.00      1276\n",
        "        107       0.00      0.00      0.00       141\n",
        "        108       0.00      0.00      0.00       194\n",
        "        109       0.00      0.00      0.00        81\n",
        "        110       0.00      0.00      0.00      1895\n",
        "        111       0.00      0.00      0.00       387\n",
        "        112       0.00      0.00      0.00       853\n",
        "        113       0.00      0.00      0.00        37\n",
        "        114       0.00      0.00      0.00       131\n",
        "        115       0.00      0.00      0.00       112\n",
        "        116       0.00      0.00      0.00       151\n",
        "        117       0.00      0.00      0.00       100\n",
        "        118       0.00      0.00      0.00       195\n",
        "        119       0.00      0.00      0.00       274\n",
        "        120       0.00      0.00      0.00        49\n",
        "\n",
        "avg / total       0.00      0.06      0.01     60672\n",
        "\n"
       ]
      }
     ],
     "prompt_number": 188
    },
    {
     "cell_type": "code",
     "collapsed": false,
     "input": [
      "set(preds)"
     ],
     "language": "python",
     "metadata": {},
     "outputs": [
      {
       "metadata": {},
       "output_type": "pyout",
       "prompt_number": 190,
       "text": [
        "{91}"
       ]
      }
     ],
     "prompt_number": 190
    },
    {
     "cell_type": "code",
     "collapsed": false,
     "input": [],
     "language": "python",
     "metadata": {},
     "outputs": [],
     "prompt_number": 21
    },
    {
     "cell_type": "code",
     "collapsed": false,
     "input": [],
     "language": "python",
     "metadata": {},
     "outputs": [],
     "prompt_number": 21
    },
    {
     "cell_type": "code",
     "collapsed": false,
     "input": [],
     "language": "python",
     "metadata": {},
     "outputs": [],
     "prompt_number": 21
    },
    {
     "cell_type": "code",
     "collapsed": false,
     "input": [
      "output_file_name = '20150206_1.csv'\n",
      "\n",
      "with open(output_file_name, 'w') as f:\n",
      "    header = ['image'] + [os.path.split(file_path)[1] for file_path in namesClasses]\n",
      "    f.write(','.join(header) + '\\n')\n",
      "    for i, row in enumerate(preds):\n",
      "        f.write(','.join(map(str, [files[i]] + list(row))) + '\\n')"
     ],
     "language": "python",
     "metadata": {},
     "outputs": []
    }
   ],
   "metadata": {}
  }
 ]
}