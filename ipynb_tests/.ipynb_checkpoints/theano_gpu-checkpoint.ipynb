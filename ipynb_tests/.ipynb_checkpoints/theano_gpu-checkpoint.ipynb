{
 "metadata": {
  "name": "",
  "signature": "sha256:2f2e62c4f6ee1d94480b9cf110b41494977c38e228d55eee984054c0f878c8da"
 },
 "nbformat": 3,
 "nbformat_minor": 0,
 "worksheets": [
  {
   "cells": [
    {
     "cell_type": "code",
     "collapsed": false,
     "input": [
      "import theano"
     ],
     "language": "python",
     "metadata": {},
     "outputs": [
      {
       "output_type": "stream",
       "stream": "stderr",
       "text": [
        "Using gpu device 0: GeForce GTX 550 Ti\n"
       ]
      }
     ],
     "prompt_number": 1
    },
    {
     "cell_type": "code",
     "collapsed": false,
     "input": [
      "theano.test()"
     ],
     "language": "python",
     "metadata": {},
     "outputs": [
      {
       "output_type": "stream",
       "stream": "stderr",
       "text": [
        "."
       ]
      },
      {
       "output_type": "stream",
       "stream": "stderr",
       "text": [
        "."
       ]
      },
      {
       "output_type": "stream",
       "stream": "stderr",
       "text": [
        "."
       ]
      },
      {
       "output_type": "stream",
       "stream": "stdout",
       "text": [
        "Theano version 0.6.0\n",
        "theano is installed in /home/jotham/venvs/2014-12-20_datascibowl/lib/python2.7/site-packages/theano\n",
        "NumPy version 1.9.1\n",
        "NumPy is installed in /home/jotham/venvs/2014-12-20_datascibowl/lib/python2.7/site-packages/numpy\n",
        "Python version 2.7.9 (default, Dec 11 2014, 04:42:00) [GCC 4.9.2]\n",
        "nose version 1.3.4\n"
       ]
      },
      {
       "output_type": "stream",
       "stream": "stderr",
       "text": [
        "."
       ]
      },
      {
       "output_type": "stream",
       "stream": "stderr",
       "text": [
        "."
       ]
      },
      {
       "output_type": "stream",
       "stream": "stderr",
       "text": [
        "."
       ]
      },
      {
       "output_type": "stream",
       "stream": "stderr",
       "text": [
        "."
       ]
      },
      {
       "output_type": "stream",
       "stream": "stderr",
       "text": [
        "."
       ]
      },
      {
       "output_type": "stream",
       "stream": "stderr",
       "text": [
        "."
       ]
      },
      {
       "output_type": "stream",
       "stream": "stderr",
       "text": [
        "."
       ]
      },
      {
       "output_type": "stream",
       "stream": "stderr",
       "text": [
        "."
       ]
      },
      {
       "output_type": "stream",
       "stream": "stderr",
       "text": [
        "."
       ]
      },
      {
       "output_type": "stream",
       "stream": "stderr",
       "text": [
        "."
       ]
      },
      {
       "output_type": "stream",
       "stream": "stderr",
       "text": [
        "."
       ]
      },
      {
       "output_type": "stream",
       "stream": "stderr",
       "text": [
        "."
       ]
      },
      {
       "output_type": "stream",
       "stream": "stderr",
       "text": [
        "."
       ]
      },
      {
       "output_type": "stream",
       "stream": "stderr",
       "text": [
        "."
       ]
      },
      {
       "output_type": "stream",
       "stream": "stderr",
       "text": [
        "."
       ]
      },
      {
       "output_type": "stream",
       "stream": "stderr",
       "text": [
        "."
       ]
      },
      {
       "output_type": "stream",
       "stream": "stderr",
       "text": [
        "."
       ]
      },
      {
       "output_type": "stream",
       "stream": "stderr",
       "text": [
        "."
       ]
      },
      {
       "output_type": "stream",
       "stream": "stderr",
       "text": [
        "."
       ]
      },
      {
       "output_type": "stream",
       "stream": "stderr",
       "text": [
        "."
       ]
      },
      {
       "output_type": "stream",
       "stream": "stderr",
       "text": [
        "."
       ]
      },
      {
       "output_type": "stream",
       "stream": "stderr",
       "text": [
        "."
       ]
      },
      {
       "output_type": "stream",
       "stream": "stderr",
       "text": [
        "."
       ]
      },
      {
       "output_type": "stream",
       "stream": "stderr",
       "text": [
        "."
       ]
      },
      {
       "output_type": "stream",
       "stream": "stderr",
       "text": [
        "."
       ]
      },
      {
       "output_type": "stream",
       "stream": "stderr",
       "text": [
        "."
       ]
      },
      {
       "output_type": "stream",
       "stream": "stderr",
       "text": [
        "."
       ]
      },
      {
       "output_type": "stream",
       "stream": "stderr",
       "text": [
        "."
       ]
      },
      {
       "output_type": "stream",
       "stream": "stderr",
       "text": [
        "."
       ]
      },
      {
       "output_type": "stream",
       "stream": "stderr",
       "text": [
        "."
       ]
      },
      {
       "output_type": "stream",
       "stream": "stderr",
       "text": [
        "."
       ]
      },
      {
       "output_type": "stream",
       "stream": "stderr",
       "text": [
        "."
       ]
      },
      {
       "output_type": "stream",
       "stream": "stderr",
       "text": [
        "."
       ]
      },
      {
       "output_type": "stream",
       "stream": "stderr",
       "text": [
        "."
       ]
      },
      {
       "output_type": "stream",
       "stream": "stderr",
       "text": [
        "."
       ]
      },
      {
       "output_type": "stream",
       "stream": "stderr",
       "text": [
        "."
       ]
      },
      {
       "output_type": "stream",
       "stream": "stderr",
       "text": [
        "."
       ]
      },
      {
       "output_type": "stream",
       "stream": "stderr",
       "text": [
        "."
       ]
      },
      {
       "output_type": "stream",
       "stream": "stderr",
       "text": [
        "E."
       ]
      },
      {
       "output_type": "stream",
       "stream": "stderr",
       "text": [
        "."
       ]
      },
      {
       "output_type": "stream",
       "stream": "stderr",
       "text": [
        "."
       ]
      },
      {
       "output_type": "stream",
       "stream": "stderr",
       "text": [
        "."
       ]
      },
      {
       "output_type": "stream",
       "stream": "stderr",
       "text": [
        "."
       ]
      },
      {
       "output_type": "stream",
       "stream": "stderr",
       "text": [
        "."
       ]
      },
      {
       "output_type": "stream",
       "stream": "stderr",
       "text": [
        "."
       ]
      },
      {
       "output_type": "stream",
       "stream": "stderr",
       "text": [
        "."
       ]
      },
      {
       "output_type": "stream",
       "stream": "stderr",
       "text": [
        "."
       ]
      },
      {
       "output_type": "stream",
       "stream": "stderr",
       "text": [
        "."
       ]
      },
      {
       "output_type": "stream",
       "stream": "stderr",
       "text": [
        "."
       ]
      },
      {
       "output_type": "stream",
       "stream": "stderr",
       "text": [
        "."
       ]
      },
      {
       "output_type": "stream",
       "stream": "stderr",
       "text": [
        "."
       ]
      },
      {
       "output_type": "stream",
       "stream": "stderr",
       "text": [
        "."
       ]
      },
      {
       "output_type": "stream",
       "stream": "stderr",
       "text": [
        "."
       ]
      },
      {
       "output_type": "stream",
       "stream": "stderr",
       "text": [
        "/home/jotham/venvs/2014-12-20_datascibowl/lib/python2.7/site-packages/theano/compile/tests/test_inplace_opt_for_value.py:170: UserWarning: theano modules are deprecated and will be removed in release 0.7\n",
        "  super(ExampleRNN, self).__init__()\n",
        "/home/jotham/venvs/2014-12-20_datascibowl/lib/python2.7/site-packages/theano/tensor/subtensor.py:110: FutureWarning: comparison to `None` will result in an elementwise object comparison in the future.\n",
        "  start in [None, 0] or\n",
        "/home/jotham/venvs/2014-12-20_datascibowl/lib/python2.7/site-packages/theano/tensor/subtensor.py:114: FutureWarning: comparison to `None` will result in an elementwise object comparison in the future.\n",
        "  stop in [None, length, maxsize] or\n",
        "."
       ]
      },
      {
       "output_type": "stream",
       "stream": "stderr",
       "text": [
        "."
       ]
      },
      {
       "output_type": "stream",
       "stream": "stderr",
       "text": [
        "."
       ]
      },
      {
       "output_type": "stream",
       "stream": "stderr",
       "text": [
        "EE"
       ]
      },
      {
       "output_type": "stream",
       "stream": "stderr",
       "text": [
        "."
       ]
      },
      {
       "output_type": "stream",
       "stream": "stderr",
       "text": [
        "."
       ]
      },
      {
       "output_type": "stream",
       "stream": "stderr",
       "text": [
        "."
       ]
      },
      {
       "output_type": "stream",
       "stream": "stderr",
       "text": [
        "."
       ]
      },
      {
       "output_type": "stream",
       "stream": "stderr",
       "text": [
        "F"
       ]
      },
      {
       "output_type": "stream",
       "stream": "stderr",
       "text": [
        "."
       ]
      },
      {
       "output_type": "stream",
       "stream": "stderr",
       "text": [
        "."
       ]
      },
      {
       "output_type": "stream",
       "stream": "stderr",
       "text": [
        "."
       ]
      },
      {
       "output_type": "stream",
       "stream": "stderr",
       "text": [
        "."
       ]
      },
      {
       "output_type": "stream",
       "stream": "stderr",
       "text": [
        "."
       ]
      },
      {
       "output_type": "stream",
       "stream": "stderr",
       "text": [
        "."
       ]
      },
      {
       "output_type": "stream",
       "stream": "stderr",
       "text": [
        "."
       ]
      },
      {
       "output_type": "stream",
       "stream": "stderr",
       "text": [
        "."
       ]
      },
      {
       "output_type": "stream",
       "stream": "stderr",
       "text": [
        "."
       ]
      },
      {
       "output_type": "stream",
       "stream": "stderr",
       "text": [
        "."
       ]
      },
      {
       "output_type": "stream",
       "stream": "stderr",
       "text": [
        "."
       ]
      },
      {
       "output_type": "stream",
       "stream": "stderr",
       "text": [
        "."
       ]
      },
      {
       "output_type": "stream",
       "stream": "stderr",
       "text": [
        "."
       ]
      },
      {
       "output_type": "stream",
       "stream": "stderr",
       "text": [
        "."
       ]
      },
      {
       "output_type": "stream",
       "stream": "stderr",
       "text": [
        "."
       ]
      },
      {
       "output_type": "stream",
       "stream": "stderr",
       "text": [
        "."
       ]
      },
      {
       "output_type": "stream",
       "stream": "stderr",
       "text": [
        "."
       ]
      },
      {
       "output_type": "stream",
       "stream": "stderr",
       "text": [
        "WARNING:theano.compile.function_module:aliased relationship between Function arguments [[ 3.14  0.    0.    0.    0.  ]\n",
        " [ 0.    0.    0.    0.    0.  ]\n",
        " [ 0.    0.    0.    0.    0.  ]\n",
        " [ 0.    0.    0.    0.    0.  ]], [[ 3.14  0.    0.    0.    0.  ]\n",
        " [ 0.    0.    0.    0.    0.  ]\n",
        " [ 0.    0.    0.    0.    0.  ]\n",
        " [ 0.    0.    0.    0.    0.  ]] will not be preserved by un-pickling operation\n"
       ]
      },
      {
       "output_type": "stream",
       "stream": "stderr",
       "text": [
        "WARNING:theano.compile.function_module:aliased relationship between Function arguments [[ 3.14  0.    0.    0.    0.  ]\n",
        " [ 0.    0.    0.    0.    0.  ]\n",
        " [ 0.    0.    0.    0.    0.  ]\n",
        " [ 0.    0.    0.    0.    0.  ]], [[ 3.14  0.    0.    0.    0.  ]\n",
        " [ 0.    0.    0.    0.    0.  ]\n",
        " [ 0.    0.    0.    0.    0.  ]\n",
        " [ 0.    0.    0.    0.    0.  ]] will not be preserved by un-pickling operation\n"
       ]
      },
      {
       "output_type": "stream",
       "stream": "stderr",
       "text": [
        "."
       ]
      },
      {
       "output_type": "stream",
       "stream": "stderr",
       "text": [
        "."
       ]
      },
      {
       "output_type": "stream",
       "stream": "stderr",
       "text": [
        "."
       ]
      },
      {
       "output_type": "stream",
       "stream": "stdout",
       "text": [
        "*** NaN detected ***\n",
        "Elemwise{mul,no_inplace} [@A] ''   \n",
        " |Elemwise{log,no_inplace} [@B] ''   \n",
        " | |x [@C]\n",
        " |x [@C]\n"
       ]
      },
      {
       "output_type": "stream",
       "stream": "stderr",
       "text": [
        "."
       ]
      },
      {
       "output_type": "stream",
       "stream": "stdout",
       "text": [
        "Inputs : [array(-inf), array(0.0)]\n",
        "Outputs: [array(nan)]\n",
        "*** NaN detected ***\n",
        "Elemwise{mul,no_inplace} [@A] ''   \n",
        " |Elemwise{log,no_inplace} [@B] ''   \n",
        " | |x [@C]\n",
        " |x [@C]\n"
       ]
      },
      {
       "output_type": "stream",
       "stream": "stderr",
       "text": [
        "."
       ]
      },
      {
       "output_type": "stream",
       "stream": "stdout",
       "text": [
        "Inputs : [array(-inf), array(0.0)]\n",
        "Outputs: [array(nan)]\n",
        "*** NaN detected ***"
       ]
      },
      {
       "output_type": "stream",
       "stream": "stdout",
       "text": [
        "\n",
        "Elemwise{mul,no_inplace} [@A] ''   \n",
        " |Elemwise{log,no_inplace} [@B] ''   \n",
        " | |dot [@C] ''   \n",
        " |   |DimShuffle{0,x} [@D] ''   \n",
        " |   | |x [@E]\n",
        " |   |DimShuffle{x,0} [@F] ''   \n",
        " |     |x [@E]\n",
        " |dot [@C] ''   \n"
       ]
      },
      {
       "output_type": "stream",
       "stream": "stderr",
       "text": [
        "."
       ]
      },
      {
       "output_type": "stream",
       "stream": "stderr",
       "text": [
        "."
       ]
      },
      {
       "output_type": "stream",
       "stream": "stderr",
       "text": [
        "."
       ]
      },
      {
       "output_type": "stream",
       "stream": "stderr",
       "text": [
        "."
       ]
      },
      {
       "output_type": "stream",
       "stream": "stderr",
       "text": [
        "."
       ]
      },
      {
       "output_type": "stream",
       "stream": "stderr",
       "text": [
        "F"
       ]
      },
      {
       "output_type": "stream",
       "stream": "stderr",
       "text": [
        "."
       ]
      },
      {
       "output_type": "stream",
       "stream": "stderr",
       "text": [
        "."
       ]
      },
      {
       "output_type": "stream",
       "stream": "stderr",
       "text": [
        "."
       ]
      },
      {
       "output_type": "stream",
       "stream": "stderr",
       "text": [
        "."
       ]
      },
      {
       "output_type": "stream",
       "stream": "stderr",
       "text": [
        "."
       ]
      },
      {
       "output_type": "stream",
       "stream": "stderr",
       "text": [
        "."
       ]
      },
      {
       "output_type": "stream",
       "stream": "stderr",
       "text": [
        "."
       ]
      },
      {
       "output_type": "stream",
       "stream": "stderr",
       "text": [
        "."
       ]
      },
      {
       "output_type": "stream",
       "stream": "stderr",
       "text": [
        "."
       ]
      },
      {
       "output_type": "stream",
       "stream": "stderr",
       "text": [
        "."
       ]
      },
      {
       "output_type": "stream",
       "stream": "stderr",
       "text": [
        "."
       ]
      },
      {
       "output_type": "stream",
       "stream": "stderr",
       "text": [
        "."
       ]
      },
      {
       "output_type": "stream",
       "stream": "stderr",
       "text": [
        "."
       ]
      },
      {
       "output_type": "stream",
       "stream": "stderr",
       "text": [
        "."
       ]
      },
      {
       "output_type": "stream",
       "stream": "stderr",
       "text": [
        "."
       ]
      },
      {
       "output_type": "stream",
       "stream": "stderr",
       "text": [
        "."
       ]
      },
      {
       "output_type": "stream",
       "stream": "stderr",
       "text": [
        "."
       ]
      },
      {
       "output_type": "stream",
       "stream": "stderr",
       "text": [
        "."
       ]
      },
      {
       "output_type": "stream",
       "stream": "stderr",
       "text": [
        "."
       ]
      },
      {
       "output_type": "stream",
       "stream": "stderr",
       "text": [
        "."
       ]
      },
      {
       "output_type": "stream",
       "stream": "stderr",
       "text": [
        "."
       ]
      },
      {
       "output_type": "stream",
       "stream": "stderr",
       "text": [
        "."
       ]
      },
      {
       "output_type": "stream",
       "stream": "stderr",
       "text": [
        "."
       ]
      },
      {
       "output_type": "stream",
       "stream": "stderr",
       "text": [
        "."
       ]
      },
      {
       "output_type": "stream",
       "stream": "stderr",
       "text": [
        "."
       ]
      },
      {
       "output_type": "stream",
       "stream": "stderr",
       "text": [
        "."
       ]
      },
      {
       "output_type": "stream",
       "stream": "stderr",
       "text": [
        "."
       ]
      },
      {
       "output_type": "stream",
       "stream": "stderr",
       "text": [
        "."
       ]
      },
      {
       "output_type": "stream",
       "stream": "stderr",
       "text": [
        "."
       ]
      },
      {
       "output_type": "stream",
       "stream": "stderr",
       "text": [
        "."
       ]
      },
      {
       "output_type": "stream",
       "stream": "stderr",
       "text": [
        "."
       ]
      },
      {
       "output_type": "stream",
       "stream": "stderr",
       "text": [
        "."
       ]
      },
      {
       "output_type": "stream",
       "stream": "stderr",
       "text": [
        "."
       ]
      },
      {
       "output_type": "stream",
       "stream": "stderr",
       "text": [
        "."
       ]
      },
      {
       "output_type": "stream",
       "stream": "stderr",
       "text": [
        "."
       ]
      },
      {
       "output_type": "stream",
       "stream": "stderr",
       "text": [
        "."
       ]
      },
      {
       "output_type": "stream",
       "stream": "stderr",
       "text": [
        "."
       ]
      },
      {
       "output_type": "stream",
       "stream": "stderr",
       "text": [
        "."
       ]
      },
      {
       "output_type": "stream",
       "stream": "stderr",
       "text": [
        "."
       ]
      },
      {
       "output_type": "stream",
       "stream": "stderr",
       "text": [
        "."
       ]
      },
      {
       "output_type": "stream",
       "stream": "stderr",
       "text": [
        "."
       ]
      },
      {
       "output_type": "stream",
       "stream": "stderr",
       "text": [
        "F"
       ]
      },
      {
       "output_type": "stream",
       "stream": "stderr",
       "text": [
        "F"
       ]
      },
      {
       "output_type": "stream",
       "stream": "stderr",
       "text": [
        "."
       ]
      },
      {
       "output_type": "stream",
       "stream": "stderr",
       "text": [
        "."
       ]
      },
      {
       "output_type": "stream",
       "stream": "stderr",
       "text": [
        "."
       ]
      },
      {
       "output_type": "stream",
       "stream": "stderr",
       "text": [
        "."
       ]
      },
      {
       "output_type": "stream",
       "stream": "stderr",
       "text": [
        "."
       ]
      },
      {
       "output_type": "stream",
       "stream": "stderr",
       "text": [
        "."
       ]
      },
      {
       "output_type": "stream",
       "stream": "stderr",
       "text": [
        "."
       ]
      },
      {
       "output_type": "stream",
       "stream": "stderr",
       "text": [
        "."
       ]
      },
      {
       "output_type": "stream",
       "stream": "stderr",
       "text": [
        "."
       ]
      },
      {
       "output_type": "stream",
       "stream": "stderr",
       "text": [
        "."
       ]
      },
      {
       "output_type": "stream",
       "stream": "stdout",
       "text": [
        "Inputs : [array([[-inf, -inf],\n",
        "       [-inf, -inf]], dtype=float32), array([[ 0.,  0.],\n",
        "       [ 0.,  0.]], dtype=float32)]\n",
        "Outputs: [array([[ nan,  nan],\n",
        "       [ nan,  nan]], dtype=float32)]\n",
        "Yay, TEST PASSED"
       ]
      },
      {
       "output_type": "stream",
       "stream": "stderr",
       "text": [
        "."
       ]
      },
      {
       "output_type": "stream",
       "stream": "stderr",
       "text": [
        "."
       ]
      },
      {
       "output_type": "stream",
       "stream": "stderr",
       "text": [
        "."
       ]
      },
      {
       "output_type": "stream",
       "stream": "stderr",
       "text": [
        "."
       ]
      },
      {
       "output_type": "stream",
       "stream": "stderr",
       "text": [
        "."
       ]
      },
      {
       "output_type": "stream",
       "stream": "stderr",
       "text": [
        "."
       ]
      },
      {
       "output_type": "stream",
       "stream": "stderr",
       "text": [
        "."
       ]
      },
      {
       "output_type": "stream",
       "stream": "stderr",
       "text": [
        "."
       ]
      },
      {
       "output_type": "stream",
       "stream": "stderr",
       "text": [
        "."
       ]
      },
      {
       "output_type": "stream",
       "stream": "stderr",
       "text": [
        "."
       ]
      },
      {
       "output_type": "stream",
       "stream": "stderr",
       "text": [
        "/home/jotham/venvs/2014-12-20_datascibowl/lib/python2.7/site-packages/theano/gof/cmodule.py:284: RuntimeWarning: numpy.ndarray size changed, may indicate binary incompatibility\n",
        "  rval = __import__(module_name, {}, {}, [module_name])\n",
        "."
       ]
      },
      {
       "output_type": "stream",
       "stream": "stderr",
       "text": [
        "."
       ]
      },
      {
       "output_type": "stream",
       "stream": "stderr",
       "text": [
        "."
       ]
      },
      {
       "output_type": "stream",
       "stream": "stderr",
       "text": [
        "."
       ]
      },
      {
       "output_type": "stream",
       "stream": "stderr",
       "text": [
        "."
       ]
      },
      {
       "output_type": "stream",
       "stream": "stderr",
       "text": [
        "."
       ]
      },
      {
       "output_type": "stream",
       "stream": "stderr",
       "text": [
        "."
       ]
      },
      {
       "output_type": "stream",
       "stream": "stderr",
       "text": [
        "."
       ]
      },
      {
       "output_type": "stream",
       "stream": "stderr",
       "text": [
        "."
       ]
      },
      {
       "output_type": "stream",
       "stream": "stderr",
       "text": [
        "."
       ]
      },
      {
       "output_type": "stream",
       "stream": "stderr",
       "text": [
        "."
       ]
      },
      {
       "output_type": "stream",
       "stream": "stderr",
       "text": [
        "."
       ]
      },
      {
       "output_type": "stream",
       "stream": "stderr",
       "text": [
        "."
       ]
      },
      {
       "output_type": "stream",
       "stream": "stderr",
       "text": [
        "."
       ]
      },
      {
       "output_type": "stream",
       "stream": "stderr",
       "text": [
        "."
       ]
      },
      {
       "output_type": "stream",
       "stream": "stderr",
       "text": [
        "."
       ]
      },
      {
       "output_type": "stream",
       "stream": "stderr",
       "text": [
        "."
       ]
      },
      {
       "output_type": "stream",
       "stream": "stderr",
       "text": [
        "."
       ]
      },
      {
       "output_type": "stream",
       "stream": "stderr",
       "text": [
        "."
       ]
      },
      {
       "output_type": "stream",
       "stream": "stderr",
       "text": [
        "."
       ]
      },
      {
       "output_type": "stream",
       "stream": "stderr",
       "text": [
        "."
       ]
      },
      {
       "output_type": "stream",
       "stream": "stderr",
       "text": [
        "."
       ]
      },
      {
       "output_type": "stream",
       "stream": "stderr",
       "text": [
        "."
       ]
      },
      {
       "output_type": "stream",
       "stream": "stderr",
       "text": [
        "."
       ]
      },
      {
       "output_type": "stream",
       "stream": "stderr",
       "text": [
        "."
       ]
      },
      {
       "output_type": "stream",
       "stream": "stderr",
       "text": [
        "."
       ]
      },
      {
       "output_type": "stream",
       "stream": "stderr",
       "text": [
        "."
       ]
      },
      {
       "output_type": "stream",
       "stream": "stderr",
       "text": [
        "."
       ]
      },
      {
       "output_type": "stream",
       "stream": "stderr",
       "text": [
        "."
       ]
      },
      {
       "output_type": "stream",
       "stream": "stderr",
       "text": [
        "."
       ]
      },
      {
       "output_type": "stream",
       "stream": "stderr",
       "text": [
        "."
       ]
      },
      {
       "output_type": "stream",
       "stream": "stderr",
       "text": [
        "."
       ]
      },
      {
       "output_type": "stream",
       "stream": "stderr",
       "text": [
        "."
       ]
      },
      {
       "output_type": "stream",
       "stream": "stderr",
       "text": [
        "."
       ]
      },
      {
       "output_type": "stream",
       "stream": "stderr",
       "text": [
        "."
       ]
      },
      {
       "output_type": "stream",
       "stream": "stderr",
       "text": [
        "."
       ]
      },
      {
       "output_type": "stream",
       "stream": "stderr",
       "text": [
        "."
       ]
      },
      {
       "output_type": "stream",
       "stream": "stderr",
       "text": [
        "."
       ]
      },
      {
       "output_type": "stream",
       "stream": "stderr",
       "text": [
        "."
       ]
      },
      {
       "output_type": "stream",
       "stream": "stderr",
       "text": [
        "."
       ]
      },
      {
       "output_type": "stream",
       "stream": "stderr",
       "text": [
        "."
       ]
      },
      {
       "output_type": "stream",
       "stream": "stderr",
       "text": [
        "."
       ]
      },
      {
       "output_type": "stream",
       "stream": "stderr",
       "text": [
        "."
       ]
      },
      {
       "output_type": "stream",
       "stream": "stderr",
       "text": [
        "."
       ]
      },
      {
       "output_type": "stream",
       "stream": "stderr",
       "text": [
        "."
       ]
      },
      {
       "output_type": "stream",
       "stream": "stderr",
       "text": [
        "."
       ]
      },
      {
       "output_type": "stream",
       "stream": "stderr",
       "text": [
        "."
       ]
      },
      {
       "output_type": "stream",
       "stream": "stderr",
       "text": [
        "."
       ]
      },
      {
       "output_type": "stream",
       "stream": "stderr",
       "text": [
        "."
       ]
      },
      {
       "output_type": "stream",
       "stream": "stderr",
       "text": [
        "."
       ]
      },
      {
       "output_type": "stream",
       "stream": "stderr",
       "text": [
        "."
       ]
      },
      {
       "output_type": "stream",
       "stream": "stderr",
       "text": [
        "ERROR (theano.gof.opt): Optimization failure due to: local_gpu_lazy_ifelse\n"
       ]
      },
      {
       "output_type": "stream",
       "stream": "stderr",
       "text": [
        "ERROR:theano.gof.opt:Optimization failure due to: local_gpu_lazy_ifelse\n"
       ]
      },
      {
       "output_type": "stream",
       "stream": "stderr",
       "text": [
        "ERROR (theano.gof.opt): TRACEBACK:\n"
       ]
      },
      {
       "output_type": "stream",
       "stream": "stderr",
       "text": [
        "ERROR:theano.gof.opt:TRACEBACK:\n"
       ]
      },
      {
       "output_type": "stream",
       "stream": "stderr",
       "text": [
        "ERROR (theano.gof.opt): Traceback (most recent call last):\n",
        "  File \"/home/jotham/venvs/2014-12-20_datascibowl/lib/python2.7/site-packages/theano/gof/opt.py\", line 1286, in process_node\n",
        "    replacements = lopt.transform(node)\n",
        "  File \"/home/jotham/venvs/2014-12-20_datascibowl/lib/python2.7/site-packages/theano/sandbox/cuda/opt.py\", line 403, in local_gpu_lazy_ifelse\n",
        "    outs[i] = gpu_from_host(outs[i])\n",
        "  File \"/home/jotham/venvs/2014-12-20_datascibowl/lib/python2.7/site-packages/theano/gof/op.py\", line 399, in __call__\n",
        "    node = self.make_node(*inputs, **kwargs)\n",
        "  File \"/home/jotham/venvs/2014-12-20_datascibowl/lib/python2.7/site-packages/theano/sandbox/cuda/basic_ops.py\", line 126, in make_node\n",
        "    x.type))\n",
        "TypeError: Expected a Theano variable with type TensorType. Got <theano.gof.tests.test_lazy.NotImplementedOp object at 0x7ff875710a10>.0 with type Generic\n",
        "\n"
       ]
      },
      {
       "output_type": "stream",
       "stream": "stderr",
       "text": [
        "ERROR:theano.gof.opt:Traceback (most recent call last):\n",
        "  File \"/home/jotham/venvs/2014-12-20_datascibowl/lib/python2.7/site-packages/theano/gof/opt.py\", line 1286, in process_node\n",
        "    replacements = lopt.transform(node)\n",
        "  File \"/home/jotham/venvs/2014-12-20_datascibowl/lib/python2.7/site-packages/theano/sandbox/cuda/opt.py\", line 403, in local_gpu_lazy_ifelse\n",
        "    outs[i] = gpu_from_host(outs[i])\n",
        "  File \"/home/jotham/venvs/2014-12-20_datascibowl/lib/python2.7/site-packages/theano/gof/op.py\", line 399, in __call__\n",
        "    node = self.make_node(*inputs, **kwargs)\n",
        "  File \"/home/jotham/venvs/2014-12-20_datascibowl/lib/python2.7/site-packages/theano/sandbox/cuda/basic_ops.py\", line 126, in make_node\n",
        "    x.type))\n",
        "TypeError: Expected a Theano variable with type TensorType. Got <theano.gof.tests.test_lazy.NotImplementedOp object at 0x7ff875710a10>.0 with type Generic\n",
        "\n"
       ]
      },
      {
       "output_type": "stream",
       "stream": "stderr",
       "text": [
        "ERROR (theano.gof.opt): Optimization failure due to: local_gpu_lazy_ifelse\n"
       ]
      },
      {
       "output_type": "stream",
       "stream": "stderr",
       "text": [
        "ERROR:theano.gof.opt:Optimization failure due to: local_gpu_lazy_ifelse\n"
       ]
      },
      {
       "output_type": "stream",
       "stream": "stderr",
       "text": [
        "ERROR (theano.gof.opt): TRACEBACK:\n"
       ]
      },
      {
       "output_type": "stream",
       "stream": "stderr",
       "text": [
        "ERROR:theano.gof.opt:TRACEBACK:\n"
       ]
      },
      {
       "output_type": "stream",
       "stream": "stderr",
       "text": [
        "ERROR (theano.gof.opt): Traceback (most recent call last):\n",
        "  File \"/home/jotham/venvs/2014-12-20_datascibowl/lib/python2.7/site-packages/theano/gof/opt.py\", line 1286, in process_node\n",
        "    replacements = lopt.transform(node)\n",
        "  File \"/home/jotham/venvs/2014-12-20_datascibowl/lib/python2.7/site-packages/theano/sandbox/cuda/opt.py\", line 403, in local_gpu_lazy_ifelse\n",
        "    outs[i] = gpu_from_host(outs[i])\n",
        "  File \"/home/jotham/venvs/2014-12-20_datascibowl/lib/python2.7/site-packages/theano/gof/op.py\", line 399, in __call__\n",
        "    node = self.make_node(*inputs, **kwargs)\n",
        "  File \"/home/jotham/venvs/2014-12-20_datascibowl/lib/python2.7/site-packages/theano/sandbox/cuda/basic_ops.py\", line 126, in make_node\n",
        "    x.type))\n",
        "TypeError: Expected a Theano variable with type TensorType. Got <theano.gof.tests.test_lazy.NotImplementedOp object at 0x7ff875710a10>.0 with type Generic\n",
        "\n"
       ]
      },
      {
       "output_type": "stream",
       "stream": "stderr",
       "text": [
        "ERROR:theano.gof.opt:Traceback (most recent call last):\n",
        "  File \"/home/jotham/venvs/2014-12-20_datascibowl/lib/python2.7/site-packages/theano/gof/opt.py\", line 1286, in process_node\n",
        "    replacements = lopt.transform(node)\n",
        "  File \"/home/jotham/venvs/2014-12-20_datascibowl/lib/python2.7/site-packages/theano/sandbox/cuda/opt.py\", line 403, in local_gpu_lazy_ifelse\n",
        "    outs[i] = gpu_from_host(outs[i])\n",
        "  File \"/home/jotham/venvs/2014-12-20_datascibowl/lib/python2.7/site-packages/theano/gof/op.py\", line 399, in __call__\n",
        "    node = self.make_node(*inputs, **kwargs)\n",
        "  File \"/home/jotham/venvs/2014-12-20_datascibowl/lib/python2.7/site-packages/theano/sandbox/cuda/basic_ops.py\", line 126, in make_node\n",
        "    x.type))\n",
        "TypeError: Expected a Theano variable with type TensorType. Got <theano.gof.tests.test_lazy.NotImplementedOp object at 0x7ff875710a10>.0 with type Generic\n",
        "\n"
       ]
      },
      {
       "output_type": "stream",
       "stream": "stderr",
       "text": [
        "ERROR (theano.gof.opt): Optimization failure due to: local_gpu_lazy_ifelse\n"
       ]
      },
      {
       "output_type": "stream",
       "stream": "stderr",
       "text": [
        "ERROR:theano.gof.opt:Optimization failure due to: local_gpu_lazy_ifelse\n"
       ]
      },
      {
       "output_type": "stream",
       "stream": "stderr",
       "text": [
        "ERROR (theano.gof.opt): TRACEBACK:\n"
       ]
      },
      {
       "output_type": "stream",
       "stream": "stderr",
       "text": [
        "ERROR:theano.gof.opt:TRACEBACK:\n"
       ]
      },
      {
       "output_type": "stream",
       "stream": "stderr",
       "text": [
        "ERROR (theano.gof.opt): Traceback (most recent call last):\n",
        "  File \"/home/jotham/venvs/2014-12-20_datascibowl/lib/python2.7/site-packages/theano/gof/opt.py\", line 1286, in process_node\n",
        "    replacements = lopt.transform(node)\n",
        "  File \"/home/jotham/venvs/2014-12-20_datascibowl/lib/python2.7/site-packages/theano/sandbox/cuda/opt.py\", line 403, in local_gpu_lazy_ifelse\n",
        "    outs[i] = gpu_from_host(outs[i])\n",
        "  File \"/home/jotham/venvs/2014-12-20_datascibowl/lib/python2.7/site-packages/theano/gof/op.py\", line 399, in __call__\n",
        "    node = self.make_node(*inputs, **kwargs)\n",
        "  File \"/home/jotham/venvs/2014-12-20_datascibowl/lib/python2.7/site-packages/theano/sandbox/cuda/basic_ops.py\", line 126, in make_node\n",
        "    x.type))\n",
        "TypeError: Expected a Theano variable with type TensorType. Got <theano.gof.tests.test_lazy.NotImplementedOp object at 0x7ff875710a10>.0 with type Generic\n",
        "\n"
       ]
      },
      {
       "output_type": "stream",
       "stream": "stderr",
       "text": [
        "ERROR:theano.gof.opt:Traceback (most recent call last):\n",
        "  File \"/home/jotham/venvs/2014-12-20_datascibowl/lib/python2.7/site-packages/theano/gof/opt.py\", line 1286, in process_node\n",
        "    replacements = lopt.transform(node)\n",
        "  File \"/home/jotham/venvs/2014-12-20_datascibowl/lib/python2.7/site-packages/theano/sandbox/cuda/opt.py\", line 403, in local_gpu_lazy_ifelse\n",
        "    outs[i] = gpu_from_host(outs[i])\n",
        "  File \"/home/jotham/venvs/2014-12-20_datascibowl/lib/python2.7/site-packages/theano/gof/op.py\", line 399, in __call__\n",
        "    node = self.make_node(*inputs, **kwargs)\n",
        "  File \"/home/jotham/venvs/2014-12-20_datascibowl/lib/python2.7/site-packages/theano/sandbox/cuda/basic_ops.py\", line 126, in make_node\n",
        "    x.type))\n",
        "TypeError: Expected a Theano variable with type TensorType. Got <theano.gof.tests.test_lazy.NotImplementedOp object at 0x7ff875710a10>.0 with type Generic\n",
        "\n"
       ]
      },
      {
       "output_type": "stream",
       "stream": "stderr",
       "text": [
        "ERROR (theano.gof.opt): Optimization failure due to: local_gpu_lazy_ifelse\n"
       ]
      },
      {
       "output_type": "stream",
       "stream": "stderr",
       "text": [
        "ERROR:theano.gof.opt:Optimization failure due to: local_gpu_lazy_ifelse\n"
       ]
      },
      {
       "output_type": "stream",
       "stream": "stderr",
       "text": [
        "ERROR (theano.gof.opt): TRACEBACK:\n"
       ]
      },
      {
       "output_type": "stream",
       "stream": "stderr",
       "text": [
        "ERROR:theano.gof.opt:TRACEBACK:\n"
       ]
      },
      {
       "output_type": "stream",
       "stream": "stderr",
       "text": [
        "ERROR (theano.gof.opt): Traceback (most recent call last):\n",
        "  File \"/home/jotham/venvs/2014-12-20_datascibowl/lib/python2.7/site-packages/theano/gof/opt.py\", line 1286, in process_node\n",
        "    replacements = lopt.transform(node)\n",
        "  File \"/home/jotham/venvs/2014-12-20_datascibowl/lib/python2.7/site-packages/theano/sandbox/cuda/opt.py\", line 403, in local_gpu_lazy_ifelse\n",
        "    outs[i] = gpu_from_host(outs[i])\n",
        "  File \"/home/jotham/venvs/2014-12-20_datascibowl/lib/python2.7/site-packages/theano/gof/op.py\", line 399, in __call__\n",
        "    node = self.make_node(*inputs, **kwargs)\n",
        "  File \"/home/jotham/venvs/2014-12-20_datascibowl/lib/python2.7/site-packages/theano/sandbox/cuda/basic_ops.py\", line 126, in make_node\n",
        "    x.type))\n",
        "TypeError: Expected a Theano variable with type TensorType. Got <theano.gof.tests.test_lazy.NotImplementedOp object at 0x7ff875710a10>.0 with type Generic\n",
        "\n"
       ]
      },
      {
       "output_type": "stream",
       "stream": "stderr",
       "text": [
        "ERROR:theano.gof.opt:Traceback (most recent call last):\n",
        "  File \"/home/jotham/venvs/2014-12-20_datascibowl/lib/python2.7/site-packages/theano/gof/opt.py\", line 1286, in process_node\n",
        "    replacements = lopt.transform(node)\n",
        "  File \"/home/jotham/venvs/2014-12-20_datascibowl/lib/python2.7/site-packages/theano/sandbox/cuda/opt.py\", line 403, in local_gpu_lazy_ifelse\n",
        "    outs[i] = gpu_from_host(outs[i])\n",
        "  File \"/home/jotham/venvs/2014-12-20_datascibowl/lib/python2.7/site-packages/theano/gof/op.py\", line 399, in __call__\n",
        "    node = self.make_node(*inputs, **kwargs)\n",
        "  File \"/home/jotham/venvs/2014-12-20_datascibowl/lib/python2.7/site-packages/theano/sandbox/cuda/basic_ops.py\", line 126, in make_node\n",
        "    x.type))\n",
        "TypeError: Expected a Theano variable with type TensorType. Got <theano.gof.tests.test_lazy.NotImplementedOp object at 0x7ff875710a10>.0 with type Generic\n",
        "\n"
       ]
      },
      {
       "output_type": "stream",
       "stream": "stderr",
       "text": [
        "ERROR (theano.gof.opt): Optimization failure due to: local_gpu_lazy_ifelse\n"
       ]
      },
      {
       "output_type": "stream",
       "stream": "stderr",
       "text": [
        "ERROR:theano.gof.opt:Optimization failure due to: local_gpu_lazy_ifelse\n"
       ]
      },
      {
       "output_type": "stream",
       "stream": "stderr",
       "text": [
        "ERROR (theano.gof.opt): TRACEBACK:\n"
       ]
      },
      {
       "output_type": "stream",
       "stream": "stderr",
       "text": [
        "ERROR:theano.gof.opt:TRACEBACK:\n"
       ]
      },
      {
       "output_type": "stream",
       "stream": "stderr",
       "text": [
        "ERROR (theano.gof.opt): Traceback (most recent call last):\n",
        "  File \"/home/jotham/venvs/2014-12-20_datascibowl/lib/python2.7/site-packages/theano/gof/opt.py\", line 1286, in process_node\n",
        "    replacements = lopt.transform(node)\n",
        "  File \"/home/jotham/venvs/2014-12-20_datascibowl/lib/python2.7/site-packages/theano/sandbox/cuda/opt.py\", line 403, in local_gpu_lazy_ifelse\n",
        "    outs[i] = gpu_from_host(outs[i])\n",
        "  File \"/home/jotham/venvs/2014-12-20_datascibowl/lib/python2.7/site-packages/theano/gof/op.py\", line 399, in __call__\n",
        "    node = self.make_node(*inputs, **kwargs)\n",
        "  File \"/home/jotham/venvs/2014-12-20_datascibowl/lib/python2.7/site-packages/theano/sandbox/cuda/basic_ops.py\", line 126, in make_node\n",
        "    x.type))\n",
        "TypeError: Expected a Theano variable with type TensorType. Got <theano.gof.tests.test_lazy.NotImplementedOp object at 0x7ff875710a10>.0 with type Generic\n",
        "\n"
       ]
      },
      {
       "output_type": "stream",
       "stream": "stderr",
       "text": [
        "ERROR:theano.gof.opt:Traceback (most recent call last):\n",
        "  File \"/home/jotham/venvs/2014-12-20_datascibowl/lib/python2.7/site-packages/theano/gof/opt.py\", line 1286, in process_node\n",
        "    replacements = lopt.transform(node)\n",
        "  File \"/home/jotham/venvs/2014-12-20_datascibowl/lib/python2.7/site-packages/theano/sandbox/cuda/opt.py\", line 403, in local_gpu_lazy_ifelse\n",
        "    outs[i] = gpu_from_host(outs[i])\n",
        "  File \"/home/jotham/venvs/2014-12-20_datascibowl/lib/python2.7/site-packages/theano/gof/op.py\", line 399, in __call__\n",
        "    node = self.make_node(*inputs, **kwargs)\n",
        "  File \"/home/jotham/venvs/2014-12-20_datascibowl/lib/python2.7/site-packages/theano/sandbox/cuda/basic_ops.py\", line 126, in make_node\n",
        "    x.type))\n",
        "TypeError: Expected a Theano variable with type TensorType. Got <theano.gof.tests.test_lazy.NotImplementedOp object at 0x7ff875710a10>.0 with type Generic\n",
        "\n"
       ]
      },
      {
       "output_type": "stream",
       "stream": "stderr",
       "text": [
        "ERROR (theano.gof.opt): Optimization failure due to: local_gpu_lazy_ifelse\n"
       ]
      },
      {
       "output_type": "stream",
       "stream": "stderr",
       "text": [
        "ERROR:theano.gof.opt:Optimization failure due to: local_gpu_lazy_ifelse\n"
       ]
      },
      {
       "output_type": "stream",
       "stream": "stderr",
       "text": [
        "ERROR (theano.gof.opt): TRACEBACK:\n"
       ]
      },
      {
       "output_type": "stream",
       "stream": "stderr",
       "text": [
        "ERROR:theano.gof.opt:TRACEBACK:\n"
       ]
      },
      {
       "output_type": "stream",
       "stream": "stderr",
       "text": [
        "ERROR (theano.gof.opt): Traceback (most recent call last):\n",
        "  File \"/home/jotham/venvs/2014-12-20_datascibowl/lib/python2.7/site-packages/theano/gof/opt.py\", line 1286, in process_node\n",
        "    replacements = lopt.transform(node)\n",
        "  File \"/home/jotham/venvs/2014-12-20_datascibowl/lib/python2.7/site-packages/theano/sandbox/cuda/opt.py\", line 403, in local_gpu_lazy_ifelse\n",
        "    outs[i] = gpu_from_host(outs[i])\n",
        "  File \"/home/jotham/venvs/2014-12-20_datascibowl/lib/python2.7/site-packages/theano/gof/op.py\", line 399, in __call__\n",
        "    node = self.make_node(*inputs, **kwargs)\n",
        "  File \"/home/jotham/venvs/2014-12-20_datascibowl/lib/python2.7/site-packages/theano/sandbox/cuda/basic_ops.py\", line 126, in make_node\n",
        "    x.type))\n",
        "TypeError: Expected a Theano variable with type TensorType. Got <theano.gof.tests.test_lazy.NotImplementedOp object at 0x7ff875710a10>.0 with type Generic\n",
        "\n"
       ]
      },
      {
       "output_type": "stream",
       "stream": "stderr",
       "text": [
        "ERROR:theano.gof.opt:Traceback (most recent call last):\n",
        "  File \"/home/jotham/venvs/2014-12-20_datascibowl/lib/python2.7/site-packages/theano/gof/opt.py\", line 1286, in process_node\n",
        "    replacements = lopt.transform(node)\n",
        "  File \"/home/jotham/venvs/2014-12-20_datascibowl/lib/python2.7/site-packages/theano/sandbox/cuda/opt.py\", line 403, in local_gpu_lazy_ifelse\n",
        "    outs[i] = gpu_from_host(outs[i])\n",
        "  File \"/home/jotham/venvs/2014-12-20_datascibowl/lib/python2.7/site-packages/theano/gof/op.py\", line 399, in __call__\n",
        "    node = self.make_node(*inputs, **kwargs)\n",
        "  File \"/home/jotham/venvs/2014-12-20_datascibowl/lib/python2.7/site-packages/theano/sandbox/cuda/basic_ops.py\", line 126, in make_node\n",
        "    x.type))\n",
        "TypeError: Expected a Theano variable with type TensorType. Got <theano.gof.tests.test_lazy.NotImplementedOp object at 0x7ff875710a10>.0 with type Generic\n",
        "\n"
       ]
      },
      {
       "output_type": "stream",
       "stream": "stderr",
       "text": [
        "ERROR (theano.gof.opt): Optimization failure due to: local_gpu_lazy_ifelse\n"
       ]
      },
      {
       "output_type": "stream",
       "stream": "stderr",
       "text": [
        "ERROR:theano.gof.opt:Optimization failure due to: local_gpu_lazy_ifelse\n"
       ]
      },
      {
       "output_type": "stream",
       "stream": "stderr",
       "text": [
        "ERROR (theano.gof.opt): TRACEBACK:\n"
       ]
      },
      {
       "output_type": "stream",
       "stream": "stderr",
       "text": [
        "ERROR:theano.gof.opt:TRACEBACK:\n"
       ]
      },
      {
       "output_type": "stream",
       "stream": "stderr",
       "text": [
        "ERROR (theano.gof.opt): Traceback (most recent call last):\n",
        "  File \"/home/jotham/venvs/2014-12-20_datascibowl/lib/python2.7/site-packages/theano/gof/opt.py\", line 1286, in process_node\n",
        "    replacements = lopt.transform(node)\n",
        "  File \"/home/jotham/venvs/2014-12-20_datascibowl/lib/python2.7/site-packages/theano/sandbox/cuda/opt.py\", line 403, in local_gpu_lazy_ifelse\n",
        "    outs[i] = gpu_from_host(outs[i])\n",
        "  File \"/home/jotham/venvs/2014-12-20_datascibowl/lib/python2.7/site-packages/theano/gof/op.py\", line 399, in __call__\n",
        "    node = self.make_node(*inputs, **kwargs)\n",
        "  File \"/home/jotham/venvs/2014-12-20_datascibowl/lib/python2.7/site-packages/theano/sandbox/cuda/basic_ops.py\", line 126, in make_node\n",
        "    x.type))\n",
        "TypeError: Expected a Theano variable with type TensorType. Got <theano.gof.tests.test_lazy.NotImplementedOp object at 0x7ff875710a10>.0 with type Generic\n",
        "\n"
       ]
      },
      {
       "output_type": "stream",
       "stream": "stderr",
       "text": [
        "ERROR:theano.gof.opt:Traceback (most recent call last):\n",
        "  File \"/home/jotham/venvs/2014-12-20_datascibowl/lib/python2.7/site-packages/theano/gof/opt.py\", line 1286, in process_node\n",
        "    replacements = lopt.transform(node)\n",
        "  File \"/home/jotham/venvs/2014-12-20_datascibowl/lib/python2.7/site-packages/theano/sandbox/cuda/opt.py\", line 403, in local_gpu_lazy_ifelse\n",
        "    outs[i] = gpu_from_host(outs[i])\n",
        "  File \"/home/jotham/venvs/2014-12-20_datascibowl/lib/python2.7/site-packages/theano/gof/op.py\", line 399, in __call__\n",
        "    node = self.make_node(*inputs, **kwargs)\n",
        "  File \"/home/jotham/venvs/2014-12-20_datascibowl/lib/python2.7/site-packages/theano/sandbox/cuda/basic_ops.py\", line 126, in make_node\n",
        "    x.type))\n",
        "TypeError: Expected a Theano variable with type TensorType. Got <theano.gof.tests.test_lazy.NotImplementedOp object at 0x7ff875710a10>.0 with type Generic\n",
        "\n"
       ]
      },
      {
       "output_type": "stream",
       "stream": "stderr",
       "text": [
        "ERROR (theano.gof.opt): Optimization failure due to: local_gpu_lazy_ifelse\n"
       ]
      },
      {
       "output_type": "stream",
       "stream": "stderr",
       "text": [
        "ERROR:theano.gof.opt:Optimization failure due to: local_gpu_lazy_ifelse\n"
       ]
      },
      {
       "output_type": "stream",
       "stream": "stderr",
       "text": [
        "ERROR (theano.gof.opt): TRACEBACK:\n"
       ]
      },
      {
       "output_type": "stream",
       "stream": "stderr",
       "text": [
        "ERROR:theano.gof.opt:TRACEBACK:\n"
       ]
      },
      {
       "output_type": "stream",
       "stream": "stderr",
       "text": [
        "ERROR (theano.gof.opt): Traceback (most recent call last):\n",
        "  File \"/home/jotham/venvs/2014-12-20_datascibowl/lib/python2.7/site-packages/theano/gof/opt.py\", line 1286, in process_node\n",
        "    replacements = lopt.transform(node)\n",
        "  File \"/home/jotham/venvs/2014-12-20_datascibowl/lib/python2.7/site-packages/theano/sandbox/cuda/opt.py\", line 403, in local_gpu_lazy_ifelse\n",
        "    outs[i] = gpu_from_host(outs[i])\n",
        "  File \"/home/jotham/venvs/2014-12-20_datascibowl/lib/python2.7/site-packages/theano/gof/op.py\", line 399, in __call__\n",
        "    node = self.make_node(*inputs, **kwargs)\n",
        "  File \"/home/jotham/venvs/2014-12-20_datascibowl/lib/python2.7/site-packages/theano/sandbox/cuda/basic_ops.py\", line 126, in make_node\n",
        "    x.type))\n",
        "TypeError: Expected a Theano variable with type TensorType. Got <theano.gof.tests.test_lazy.NotImplementedOp object at 0x7ff875710a10>.0 with type Generic\n",
        "\n"
       ]
      },
      {
       "output_type": "stream",
       "stream": "stderr",
       "text": [
        "ERROR:theano.gof.opt:Traceback (most recent call last):\n",
        "  File \"/home/jotham/venvs/2014-12-20_datascibowl/lib/python2.7/site-packages/theano/gof/opt.py\", line 1286, in process_node\n",
        "    replacements = lopt.transform(node)\n",
        "  File \"/home/jotham/venvs/2014-12-20_datascibowl/lib/python2.7/site-packages/theano/sandbox/cuda/opt.py\", line 403, in local_gpu_lazy_ifelse\n",
        "    outs[i] = gpu_from_host(outs[i])\n",
        "  File \"/home/jotham/venvs/2014-12-20_datascibowl/lib/python2.7/site-packages/theano/gof/op.py\", line 399, in __call__\n",
        "    node = self.make_node(*inputs, **kwargs)\n",
        "  File \"/home/jotham/venvs/2014-12-20_datascibowl/lib/python2.7/site-packages/theano/sandbox/cuda/basic_ops.py\", line 126, in make_node\n",
        "    x.type))\n",
        "TypeError: Expected a Theano variable with type TensorType. Got <theano.gof.tests.test_lazy.NotImplementedOp object at 0x7ff875710a10>.0 with type Generic\n",
        "\n"
       ]
      },
      {
       "output_type": "stream",
       "stream": "stderr",
       "text": [
        "."
       ]
      },
      {
       "output_type": "stream",
       "stream": "stdout",
       "text": [
        "\n",
        "20.5"
       ]
      },
      {
       "output_type": "stream",
       "stream": "stderr",
       "text": [
        "."
       ]
      },
      {
       "output_type": "stream",
       "stream": "stderr",
       "text": [
        "."
       ]
      },
      {
       "output_type": "stream",
       "stream": "stderr",
       "text": [
        "."
       ]
      },
      {
       "output_type": "stream",
       "stream": "stderr",
       "text": [
        "."
       ]
      },
      {
       "output_type": "stream",
       "stream": "stderr",
       "text": [
        "."
       ]
      },
      {
       "output_type": "stream",
       "stream": "stderr",
       "text": [
        "."
       ]
      },
      {
       "output_type": "stream",
       "stream": "stderr",
       "text": [
        "."
       ]
      },
      {
       "output_type": "stream",
       "stream": "stderr",
       "text": [
        "."
       ]
      },
      {
       "output_type": "stream",
       "stream": "stderr",
       "text": [
        "."
       ]
      },
      {
       "output_type": "stream",
       "stream": "stderr",
       "text": [
        "."
       ]
      },
      {
       "output_type": "stream",
       "stream": "stderr",
       "text": [
        "."
       ]
      },
      {
       "output_type": "stream",
       "stream": "stderr",
       "text": [
        "."
       ]
      },
      {
       "output_type": "stream",
       "stream": "stderr",
       "text": [
        "."
       ]
      },
      {
       "output_type": "stream",
       "stream": "stderr",
       "text": [
        "."
       ]
      },
      {
       "output_type": "stream",
       "stream": "stderr",
       "text": [
        "."
       ]
      },
      {
       "output_type": "stream",
       "stream": "stderr",
       "text": [
        "."
       ]
      },
      {
       "output_type": "stream",
       "stream": "stderr",
       "text": [
        "."
       ]
      },
      {
       "output_type": "stream",
       "stream": "stderr",
       "text": [
        "."
       ]
      },
      {
       "output_type": "stream",
       "stream": "stderr",
       "text": [
        "."
       ]
      },
      {
       "output_type": "stream",
       "stream": "stderr",
       "text": [
        "."
       ]
      },
      {
       "output_type": "stream",
       "stream": "stderr",
       "text": [
        "."
       ]
      },
      {
       "output_type": "stream",
       "stream": "stderr",
       "text": [
        "."
       ]
      },
      {
       "output_type": "stream",
       "stream": "stderr",
       "text": [
        "."
       ]
      },
      {
       "output_type": "stream",
       "stream": "stderr",
       "text": [
        "."
       ]
      },
      {
       "output_type": "stream",
       "stream": "stderr",
       "text": [
        "."
       ]
      },
      {
       "output_type": "stream",
       "stream": "stderr",
       "text": [
        "."
       ]
      },
      {
       "output_type": "stream",
       "stream": "stderr",
       "text": [
        "."
       ]
      },
      {
       "output_type": "stream",
       "stream": "stderr",
       "text": [
        "."
       ]
      },
      {
       "output_type": "stream",
       "stream": "stderr",
       "text": [
        "."
       ]
      },
      {
       "output_type": "stream",
       "stream": "stderr",
       "text": [
        "."
       ]
      },
      {
       "output_type": "stream",
       "stream": "stderr",
       "text": [
        "."
       ]
      },
      {
       "output_type": "stream",
       "stream": "stderr",
       "text": [
        "."
       ]
      },
      {
       "output_type": "stream",
       "stream": "stderr",
       "text": [
        "."
       ]
      },
      {
       "output_type": "stream",
       "stream": "stderr",
       "text": [
        "."
       ]
      },
      {
       "output_type": "stream",
       "stream": "stderr",
       "text": [
        "."
       ]
      },
      {
       "output_type": "stream",
       "stream": "stderr",
       "text": [
        "."
       ]
      },
      {
       "output_type": "stream",
       "stream": "stderr",
       "text": [
        "."
       ]
      },
      {
       "output_type": "stream",
       "stream": "stderr",
       "text": [
        "."
       ]
      },
      {
       "output_type": "stream",
       "stream": "stderr",
       "text": [
        "."
       ]
      },
      {
       "output_type": "stream",
       "stream": "stderr",
       "text": [
        "."
       ]
      },
      {
       "output_type": "stream",
       "stream": "stderr",
       "text": [
        "."
       ]
      },
      {
       "output_type": "stream",
       "stream": "stderr",
       "text": [
        "."
       ]
      },
      {
       "output_type": "stream",
       "stream": "stderr",
       "text": [
        "."
       ]
      },
      {
       "output_type": "stream",
       "stream": "stderr",
       "text": [
        "."
       ]
      },
      {
       "output_type": "stream",
       "stream": "stderr",
       "text": [
        "."
       ]
      },
      {
       "output_type": "stream",
       "stream": "stderr",
       "text": [
        "."
       ]
      },
      {
       "output_type": "stream",
       "stream": "stderr",
       "text": [
        "."
       ]
      },
      {
       "output_type": "stream",
       "stream": "stderr",
       "text": [
        "."
       ]
      },
      {
       "output_type": "stream",
       "stream": "stderr",
       "text": [
        "."
       ]
      },
      {
       "output_type": "stream",
       "stream": "stderr",
       "text": [
        "."
       ]
      },
      {
       "output_type": "stream",
       "stream": "stderr",
       "text": [
        "."
       ]
      },
      {
       "output_type": "stream",
       "stream": "stderr",
       "text": [
        "."
       ]
      },
      {
       "output_type": "stream",
       "stream": "stderr",
       "text": [
        "."
       ]
      },
      {
       "output_type": "stream",
       "stream": "stderr",
       "text": [
        "."
       ]
      },
      {
       "output_type": "stream",
       "stream": "stderr",
       "text": [
        "."
       ]
      },
      {
       "output_type": "stream",
       "stream": "stderr",
       "text": [
        "."
       ]
      },
      {
       "output_type": "stream",
       "stream": "stderr",
       "text": [
        "."
       ]
      },
      {
       "output_type": "stream",
       "stream": "stderr",
       "text": [
        "."
       ]
      },
      {
       "output_type": "stream",
       "stream": "stderr",
       "text": [
        "."
       ]
      },
      {
       "output_type": "stream",
       "stream": "stderr",
       "text": [
        "."
       ]
      },
      {
       "output_type": "stream",
       "stream": "stderr",
       "text": [
        "."
       ]
      },
      {
       "output_type": "stream",
       "stream": "stderr",
       "text": [
        "."
       ]
      },
      {
       "output_type": "stream",
       "stream": "stderr",
       "text": [
        "."
       ]
      },
      {
       "output_type": "stream",
       "stream": "stderr",
       "text": [
        "."
       ]
      },
      {
       "output_type": "stream",
       "stream": "stderr",
       "text": [
        "."
       ]
      },
      {
       "output_type": "stream",
       "stream": "stderr",
       "text": [
        "."
       ]
      },
      {
       "output_type": "stream",
       "stream": "stderr",
       "text": [
        "."
       ]
      },
      {
       "output_type": "stream",
       "stream": "stderr",
       "text": [
        "."
       ]
      },
      {
       "output_type": "stream",
       "stream": "stdout",
       "text": [
        "\n",
        "... passed\n",
        "c|py takes 0.001390 s/Kop"
       ]
      },
      {
       "output_type": "stream",
       "stream": "stdout",
       "text": [
        "\n",
        "vmLinker takes 0.001358 s/Kop"
       ]
      },
      {
       "output_type": "stream",
       "stream": "stdout",
       "text": [
        "\n",
        "vmLinker_nogc takes 0.000999 s/Kop"
       ]
      },
      {
       "output_type": "stream",
       "stream": "stdout",
       "text": [
        "\n",
        "vmLinker_CLOOP takes 0.000103 s/Kop"
       ]
      },
      {
       "output_type": "stream",
       "stream": "stderr",
       "text": [
        "."
       ]
      },
      {
       "output_type": "stream",
       "stream": "stdout",
       "text": [
        "\n",
        "numpy takes -0.000010 s/Kop\n",
        "vmLinker takes 0.061380 s/Kop"
       ]
      },
      {
       "output_type": "stream",
       "stream": "stdout",
       "text": [
        "\n",
        "vmLinker_nogc takes 0.054736 s/Kop"
       ]
      },
      {
       "output_type": "stream",
       "stream": "stdout",
       "text": [
        "\n",
        "vmLinker_C takes 0.015521 s/Kop"
       ]
      },
      {
       "output_type": "stream",
       "stream": "stderr",
       "text": [
        "."
       ]
      },
      {
       "output_type": "stream",
       "stream": "stderr",
       "text": [
        "."
       ]
      },
      {
       "output_type": "stream",
       "stream": "stderr",
       "text": [
        "."
       ]
      },
      {
       "output_type": "stream",
       "stream": "stderr",
       "text": [
        "."
       ]
      },
      {
       "output_type": "stream",
       "stream": "stderr",
       "text": [
        "."
       ]
      },
      {
       "output_type": "stream",
       "stream": "stderr",
       "text": [
        "."
       ]
      },
      {
       "output_type": "stream",
       "stream": "stderr",
       "text": [
        "."
       ]
      },
      {
       "output_type": "stream",
       "stream": "stderr",
       "text": [
        "."
       ]
      },
      {
       "output_type": "stream",
       "stream": "stderr",
       "text": [
        "F"
       ]
      },
      {
       "output_type": "stream",
       "stream": "stderr",
       "text": [
        "."
       ]
      },
      {
       "output_type": "stream",
       "stream": "stderr",
       "text": [
        "F"
       ]
      },
      {
       "output_type": "stream",
       "stream": "stderr",
       "text": [
        "."
       ]
      },
      {
       "output_type": "stream",
       "stream": "stderr",
       "text": [
        "."
       ]
      },
      {
       "output_type": "stream",
       "stream": "stderr",
       "text": [
        "."
       ]
      },
      {
       "output_type": "stream",
       "stream": "stderr",
       "text": [
        "."
       ]
      },
      {
       "output_type": "stream",
       "stream": "stderr",
       "text": [
        "."
       ]
      },
      {
       "output_type": "stream",
       "stream": "stderr",
       "text": [
        "."
       ]
      },
      {
       "output_type": "stream",
       "stream": "stderr",
       "text": [
        "."
       ]
      },
      {
       "output_type": "stream",
       "stream": "stderr",
       "text": [
        "."
       ]
      },
      {
       "output_type": "stream",
       "stream": "stderr",
       "text": [
        "."
       ]
      },
      {
       "output_type": "stream",
       "stream": "stderr",
       "text": [
        "."
       ]
      },
      {
       "output_type": "stream",
       "stream": "stderr",
       "text": [
        "."
       ]
      },
      {
       "output_type": "stream",
       "stream": "stderr",
       "text": [
        "."
       ]
      },
      {
       "output_type": "stream",
       "stream": "stderr",
       "text": [
        "."
       ]
      },
      {
       "output_type": "stream",
       "stream": "stderr",
       "text": [
        "."
       ]
      },
      {
       "output_type": "stream",
       "stream": "stderr",
       "text": [
        "."
       ]
      },
      {
       "output_type": "stream",
       "stream": "stderr",
       "text": [
        "."
       ]
      },
      {
       "output_type": "stream",
       "stream": "stderr",
       "text": [
        "."
       ]
      },
      {
       "output_type": "stream",
       "stream": "stderr",
       "text": [
        "."
       ]
      },
      {
       "output_type": "stream",
       "stream": "stderr",
       "text": [
        "."
       ]
      },
      {
       "output_type": "stream",
       "stream": "stderr",
       "text": [
        "."
       ]
      },
      {
       "output_type": "stream",
       "stream": "stderr",
       "text": [
        "."
       ]
      },
      {
       "output_type": "stream",
       "stream": "stderr",
       "text": [
        "."
       ]
      },
      {
       "output_type": "stream",
       "stream": "stderr",
       "text": [
        "."
       ]
      },
      {
       "output_type": "stream",
       "stream": "stderr",
       "text": [
        "."
       ]
      },
      {
       "output_type": "stream",
       "stream": "stderr",
       "text": [
        "."
       ]
      },
      {
       "output_type": "stream",
       "stream": "stderr",
       "text": [
        "."
       ]
      },
      {
       "output_type": "stream",
       "stream": "stderr",
       "text": [
        "/home/jotham/venvs/2014-12-20_datascibowl/lib/python2.7/site-packages/theano/tensor/subtensor.py:190: FutureWarning: comparison to `None` will result in an elementwise object comparison in the future.\n",
        "  if stop in [None, maxsize]:\n",
        "."
       ]
      },
      {
       "output_type": "stream",
       "stream": "stderr",
       "text": [
        "."
       ]
      },
      {
       "output_type": "stream",
       "stream": "stderr",
       "text": [
        "."
       ]
      },
      {
       "output_type": "stream",
       "stream": "stderr",
       "text": [
        "."
       ]
      },
      {
       "output_type": "stream",
       "stream": "stderr",
       "text": [
        "."
       ]
      },
      {
       "output_type": "stream",
       "stream": "stderr",
       "text": [
        "."
       ]
      },
      {
       "output_type": "stream",
       "stream": "stderr",
       "text": [
        "."
       ]
      },
      {
       "output_type": "stream",
       "stream": "stderr",
       "text": [
        "."
       ]
      },
      {
       "output_type": "stream",
       "stream": "stderr",
       "text": [
        "."
       ]
      },
      {
       "output_type": "stream",
       "stream": "stderr",
       "text": [
        "."
       ]
      },
      {
       "output_type": "stream",
       "stream": "stderr",
       "text": [
        "."
       ]
      },
      {
       "output_type": "stream",
       "stream": "stderr",
       "text": [
        "."
       ]
      },
      {
       "output_type": "stream",
       "stream": "stderr",
       "text": [
        "."
       ]
      },
      {
       "output_type": "stream",
       "stream": "stderr",
       "text": [
        "/home/jotham/venvs/2014-12-20_datascibowl/lib/python2.7/site-packages/theano/tensor/var.py:359: FutureWarning: comparison to `None` will result in an elementwise object comparison in the future.\n",
        "  if arg != numpy.newaxis:\n",
        "."
       ]
      },
      {
       "output_type": "stream",
       "stream": "stderr",
       "text": [
        "."
       ]
      },
      {
       "output_type": "stream",
       "stream": "stderr",
       "text": [
        "."
       ]
      },
      {
       "output_type": "stream",
       "stream": "stderr",
       "text": [
        "."
       ]
      },
      {
       "output_type": "stream",
       "stream": "stderr",
       "text": [
        "."
       ]
      },
      {
       "output_type": "stream",
       "stream": "stderr",
       "text": [
        "."
       ]
      },
      {
       "output_type": "stream",
       "stream": "stderr",
       "text": [
        "."
       ]
      },
      {
       "output_type": "stream",
       "stream": "stderr",
       "text": [
        "."
       ]
      },
      {
       "output_type": "stream",
       "stream": "stderr",
       "text": [
        "F"
       ]
      },
      {
       "output_type": "stream",
       "stream": "stderr",
       "text": [
        "F"
       ]
      },
      {
       "output_type": "stream",
       "stream": "stderr",
       "text": [
        "."
       ]
      },
      {
       "output_type": "stream",
       "stream": "stderr",
       "text": [
        "F"
       ]
      },
      {
       "output_type": "stream",
       "stream": "stderr",
       "text": [
        "."
       ]
      },
      {
       "output_type": "stream",
       "stream": "stderr",
       "text": [
        "."
       ]
      },
      {
       "output_type": "stream",
       "stream": "stderr",
       "text": [
        "."
       ]
      },
      {
       "output_type": "stream",
       "stream": "stderr",
       "text": [
        "."
       ]
      },
      {
       "output_type": "stream",
       "stream": "stderr",
       "text": [
        "."
       ]
      },
      {
       "output_type": "stream",
       "stream": "stderr",
       "text": [
        "."
       ]
      },
      {
       "output_type": "stream",
       "stream": "stderr",
       "text": [
        "F"
       ]
      },
      {
       "output_type": "stream",
       "stream": "stderr",
       "text": [
        "."
       ]
      },
      {
       "output_type": "stream",
       "stream": "stderr",
       "text": [
        "."
       ]
      },
      {
       "output_type": "stream",
       "stream": "stderr",
       "text": [
        "."
       ]
      },
      {
       "output_type": "stream",
       "stream": "stderr",
       "text": [
        "."
       ]
      },
      {
       "output_type": "stream",
       "stream": "stderr",
       "text": [
        "."
       ]
      },
      {
       "output_type": "stream",
       "stream": "stderr",
       "text": [
        "."
       ]
      },
      {
       "output_type": "stream",
       "stream": "stderr",
       "text": [
        "."
       ]
      },
      {
       "output_type": "stream",
       "stream": "stderr",
       "text": [
        "."
       ]
      },
      {
       "output_type": "stream",
       "stream": "stderr",
       "text": [
        "F"
       ]
      },
      {
       "output_type": "stream",
       "stream": "stderr",
       "text": [
        "."
       ]
      },
      {
       "output_type": "stream",
       "stream": "stderr",
       "text": [
        "."
       ]
      },
      {
       "output_type": "stream",
       "stream": "stderr",
       "text": [
        "."
       ]
      },
      {
       "output_type": "stream",
       "stream": "stderr",
       "text": [
        "."
       ]
      },
      {
       "output_type": "stream",
       "stream": "stderr",
       "text": [
        "."
       ]
      },
      {
       "output_type": "stream",
       "stream": "stderr",
       "text": [
        "."
       ]
      },
      {
       "output_type": "stream",
       "stream": "stderr",
       "text": [
        "."
       ]
      },
      {
       "output_type": "stream",
       "stream": "stderr",
       "text": [
        "F"
       ]
      },
      {
       "output_type": "stream",
       "stream": "stderr",
       "text": [
        "F"
       ]
      },
      {
       "output_type": "stream",
       "stream": "stderr",
       "text": [
        "."
       ]
      },
      {
       "output_type": "stream",
       "stream": "stderr",
       "text": [
        "."
       ]
      },
      {
       "output_type": "stream",
       "stream": "stderr",
       "text": [
        "F"
       ]
      },
      {
       "output_type": "stream",
       "stream": "stderr",
       "text": [
        "F"
       ]
      },
      {
       "output_type": "stream",
       "stream": "stderr",
       "text": [
        "F"
       ]
      },
      {
       "output_type": "stream",
       "stream": "stderr",
       "text": [
        "."
       ]
      },
      {
       "output_type": "stream",
       "stream": "stderr",
       "text": [
        "."
       ]
      },
      {
       "output_type": "stream",
       "stream": "stderr",
       "text": [
        "."
       ]
      },
      {
       "output_type": "stream",
       "stream": "stderr",
       "text": [
        "."
       ]
      },
      {
       "output_type": "stream",
       "stream": "stderr",
       "text": [
        "."
       ]
      },
      {
       "output_type": "stream",
       "stream": "stderr",
       "text": [
        "F"
       ]
      },
      {
       "output_type": "stream",
       "stream": "stderr",
       "text": [
        "F"
       ]
      },
      {
       "output_type": "stream",
       "stream": "stderr",
       "text": [
        "."
       ]
      },
      {
       "output_type": "stream",
       "stream": "stderr",
       "text": [
        "."
       ]
      },
      {
       "output_type": "stream",
       "stream": "stderr",
       "text": [
        "F"
       ]
      },
      {
       "output_type": "stream",
       "stream": "stderr",
       "text": [
        "F"
       ]
      },
      {
       "output_type": "stream",
       "stream": "stderr",
       "text": [
        "F"
       ]
      },
      {
       "output_type": "stream",
       "stream": "stderr",
       "text": [
        "."
       ]
      },
      {
       "output_type": "stream",
       "stream": "stderr",
       "text": [
        "."
       ]
      },
      {
       "output_type": "stream",
       "stream": "stderr",
       "text": [
        "."
       ]
      },
      {
       "output_type": "stream",
       "stream": "stderr",
       "text": [
        "."
       ]
      },
      {
       "output_type": "stream",
       "stream": "stderr",
       "text": [
        "."
       ]
      },
      {
       "output_type": "stream",
       "stream": "stderr",
       "text": [
        "."
       ]
      },
      {
       "output_type": "stream",
       "stream": "stderr",
       "text": [
        "."
       ]
      },
      {
       "output_type": "stream",
       "stream": "stderr",
       "text": [
        "."
       ]
      },
      {
       "output_type": "stream",
       "stream": "stderr",
       "text": [
        "."
       ]
      },
      {
       "output_type": "stream",
       "stream": "stderr",
       "text": [
        "."
       ]
      },
      {
       "output_type": "stream",
       "stream": "stderr",
       "text": [
        "."
       ]
      },
      {
       "output_type": "stream",
       "stream": "stderr",
       "text": [
        "."
       ]
      },
      {
       "output_type": "stream",
       "stream": "stderr",
       "text": [
        "."
       ]
      },
      {
       "output_type": "stream",
       "stream": "stderr",
       "text": [
        "."
       ]
      },
      {
       "output_type": "stream",
       "stream": "stderr",
       "text": [
        "."
       ]
      },
      {
       "output_type": "stream",
       "stream": "stderr",
       "text": [
        "F"
       ]
      },
      {
       "output_type": "stream",
       "stream": "stderr",
       "text": [
        "."
       ]
      },
      {
       "output_type": "stream",
       "stream": "stdout",
       "text": [
        "\n"
       ]
      },
      {
       "output_type": "stream",
       "stream": "stderr",
       "text": [
        "\n",
        "======================================================================\n",
        "ERROR: test_none (theano.compile.tests.test_function_module.T_function)\n",
        "----------------------------------------------------------------------\n",
        "Traceback (most recent call last):\n",
        "  File \"/home/jotham/venvs/2014-12-20_datascibowl/lib/python2.7/site-packages/theano/compile/tests/test_function_module.py\", line 42, in test_none\n",
        "    raise KnownFailureTest('See #254: Using None as function output leads to [] return value')\n",
        "KnownFailureTest: See #254: Using None as function output leads to [] return value\n",
        "\n",
        "======================================================================\n",
        "ERROR: test_1 (theano.compile.tests.test_modes.T_ProfileMode_WrapLinker)\n",
        "----------------------------------------------------------------------\n",
        "Traceback (most recent call last):\n",
        "  File \"/home/jotham/venvs/2014-12-20_datascibowl/lib/python2.7/site-packages/theano/compile/tests/test_modes.py\", line 57, in test_1\n",
        "    theano.function([x], x * 2, mode=mode)\n",
        "  File \"/home/jotham/venvs/2014-12-20_datascibowl/lib/python2.7/site-packages/theano/compile/function.py\", line 223, in function\n",
        "    profile=profile)\n",
        "  File \"/home/jotham/venvs/2014-12-20_datascibowl/lib/python2.7/site-packages/theano/compile/pfunc.py\", line 512, in pfunc\n",
        "    on_unused_input=on_unused_input)\n",
        "  File \"/home/jotham/venvs/2014-12-20_datascibowl/lib/python2.7/site-packages/theano/compile/function_module.py\", line 1312, in orig_function\n",
        "    defaults)\n",
        "  File \"/home/jotham/venvs/2014-12-20_datascibowl/lib/python2.7/site-packages/theano/compile/profilemode.py\", line 52, in create\n",
        "    \"You are running the Theano profiler with CUDA enabled.\"\n",
        "Exception: You are running the Theano profiler with CUDA enabled. Theano GPU ops execution is asynchronous by default. So by default, the profile is useless. You must set the environment variable CUDA_LAUNCH_BLOCKING to 1 to tell the CUDA driver to synchronize the execution to get a meaningful profile.\n",
        "\n",
        "======================================================================\n",
        "ERROR: test1 (theano.compile.tests.test_modes.T_bunch_of_modes)\n",
        "----------------------------------------------------------------------\n",
        "Traceback (most recent call last):\n",
        "  File \"/home/jotham/venvs/2014-12-20_datascibowl/lib/python2.7/site-packages/theano/compile/tests/test_modes.py\", line 35, in test1\n",
        "    f = theano.function([x, y], x + y, mode=mode)\n",
        "  File \"/home/jotham/venvs/2014-12-20_datascibowl/lib/python2.7/site-packages/theano/compile/function.py\", line 223, in function\n",
        "    profile=profile)\n",
        "  File \"/home/jotham/venvs/2014-12-20_datascibowl/lib/python2.7/site-packages/theano/compile/pfunc.py\", line 512, in pfunc\n",
        "    on_unused_input=on_unused_input)\n",
        "  File \"/home/jotham/venvs/2014-12-20_datascibowl/lib/python2.7/site-packages/theano/compile/function_module.py\", line 1312, in orig_function\n",
        "    defaults)\n",
        "  File \"/home/jotham/venvs/2014-12-20_datascibowl/lib/python2.7/site-packages/theano/compile/profilemode.py\", line 52, in create\n",
        "    \"You are running the Theano profiler with CUDA enabled.\"\n",
        "Exception: You are running the Theano profiler with CUDA enabled. Theano GPU ops execution is asynchronous by default. So by default, the profile is useless. You must set the environment variable CUDA_LAUNCH_BLOCKING to 1 to tell the CUDA driver to synchronize the execution to get a meaningful profile.\n",
        "\n",
        "======================================================================\n",
        "FAIL: Test that we can manipulate the mutable, strict, etc. flags (see SymbolicInput) of\n",
        "----------------------------------------------------------------------\n",
        "Traceback (most recent call last):\n",
        "  File \"/home/jotham/venvs/2014-12-20_datascibowl/lib/python2.7/site-packages/theano/compile/tests/test_module.py\", line 451, in test_member_input_flags\n",
        "    assert numpy.all(xval == [-1, -1.5])\n",
        "AssertionError\n",
        "\n",
        "======================================================================\n",
        "FAIL: test_no_aliasing_2b (theano.compile.tests.test_pfunc.Test_aliasing_rules)\n",
        "----------------------------------------------------------------------\n",
        "Traceback (most recent call last):\n",
        "  File \"/home/jotham/venvs/2014-12-20_datascibowl/lib/python2.7/site-packages/theano/compile/tests/test_pfunc.py\", line 974, in test_no_aliasing_2b\n",
        "    assert numpy.all(data_of(B) > 5)\n",
        "AssertionError\n",
        "\n",
        "======================================================================\n",
        "FAIL: test_tensor_floatX (theano.compile.tests.test_shared.Test_SharedVariable)\n",
        "----------------------------------------------------------------------\n",
        "Traceback (most recent call last):\n",
        "  File \"/home/jotham/venvs/2014-12-20_datascibowl/lib/python2.7/site-packages/theano/compile/tests/test_shared.py\", line 286, in test_tensor_floatX\n",
        "    assert b.type == theano.tensor.fvector\n",
        "AssertionError\n",
        "\n",
        "======================================================================\n",
        "FAIL: test_tensor_strict (theano.compile.tests.test_shared.Test_SharedVariable)\n",
        "----------------------------------------------------------------------\n",
        "Traceback (most recent call last):\n",
        "  File \"/home/jotham/venvs/2014-12-20_datascibowl/lib/python2.7/site-packages/theano/compile/tests/test_shared.py\", line 184, in test_tensor_strict\n",
        "    assert b.type == theano.tensor.fvector\n",
        "AssertionError\n",
        "\n",
        "======================================================================\n",
        "FAIL: Test that all broadcastable flags are preserved by a\n",
        "----------------------------------------------------------------------\n",
        "Traceback (most recent call last):\n",
        "  File \"/home/jotham/venvs/2014-12-20_datascibowl/lib/python2.7/site-packages/theano/tensor/tests/test_basic.py\", line 3337, in test_broadcastable_single_input_broadcastable_dimension\n",
        "    node.op, self.join_op)]\n",
        "AssertionError\n",
        "\n",
        "======================================================================\n",
        "FAIL: test_infer_shape_join (theano.sandbox.cuda.tests.test_basic_ops.T_Join_and_Split)\n",
        "----------------------------------------------------------------------\n",
        "Traceback (most recent call last):\n",
        "  File \"/home/jotham/venvs/2014-12-20_datascibowl/lib/python2.7/site-packages/theano/tensor/tests/test_basic.py\", line 3417, in test_infer_shape_join\n",
        "    assert not isinstance(node.op, tensor.Join)\n",
        "AssertionError\n",
        "\n",
        "======================================================================\n",
        "FAIL: test_grad_0d (theano.sandbox.cuda.tests.test_basic_ops.T_subtensor)\n",
        "----------------------------------------------------------------------\n",
        "Traceback (most recent call last):\n",
        "  File \"/home/jotham/venvs/2014-12-20_datascibowl/lib/python2.7/site-packages/theano/tensor/tests/test_subtensor.py\", line 390, in test_grad_0d\n",
        "    assert len(topo_) == 6\n",
        "AssertionError\n",
        "\n",
        "======================================================================\n",
        "FAIL: test_grad_1d (theano.sandbox.cuda.tests.test_basic_ops.T_subtensor)\n",
        "----------------------------------------------------------------------\n",
        "Traceback (most recent call last):\n",
        "  File \"/home/jotham/venvs/2014-12-20_datascibowl/lib/python2.7/site-packages/theano/tensor/tests/test_subtensor.py\", line 369, in test_grad_1d\n",
        "    assert len(topo_) == 6\n",
        "AssertionError\n",
        "\n",
        "======================================================================\n",
        "FAIL: test_grad_list (theano.sandbox.cuda.tests.test_basic_ops.T_subtensor)\n",
        "----------------------------------------------------------------------\n",
        "Traceback (most recent call last):\n",
        "  File \"/home/jotham/venvs/2014-12-20_datascibowl/lib/python2.7/site-packages/theano/tensor/tests/test_subtensor.py\", line 766, in test_grad_list\n",
        "    self.grad_list_(idxs, data)\n",
        "  File \"/home/jotham/venvs/2014-12-20_datascibowl/lib/python2.7/site-packages/theano/tensor/tests/test_subtensor.py\", line 697, in grad_list_\n",
        "    f = self.function([], [gn, gn.shape], op=self.adv_incsub1)\n",
        "  File \"/home/jotham/venvs/2014-12-20_datascibowl/lib/python2.7/site-packages/theano/tensor/tests/test_subtensor.py\", line 79, in function\n",
        "    self.assertFunctionContainsClassN(f, op, N)\n",
        "  File \"/home/jotham/venvs/2014-12-20_datascibowl/lib/python2.7/site-packages/theano/tests/unittest_tools.py\", line 128, in assertFunctionContainsClassN\n",
        "    return self.assertFunctionContainsClass(f, op, min=N, max=N)\n",
        "  File \"/home/jotham/venvs/2014-12-20_datascibowl/lib/python2.7/site-packages/theano/tests/unittest_tools.py\", line 125, in assertFunctionContainsClass\n",
        "    str(op), len(matches), min, max)\n",
        "AssertionError: ([GpuAdvancedSubtensor1(<CudaNdarrayType(float32, vector)>, <TensorType(int64, vector)>), GpuElemwise{second,no_inplace}(<CudaNdarrayType(float32, vector)>, CudaNdarrayConstant{[ 0.]}), GpuElemwise{Composite{[Composite{[mul(second(i0, i1), i0)]}(exp(i0), i1)]}}[(0, 0)](GpuAdvancedSubtensor1.0, CudaNdarrayConstant{[ 1.]}), GpuAdvancedIncSubtensor1{no_inplace,inc}(GpuElemwise{second,no_inplace}.0, GpuElemwise{Composite{[Composite{[mul(second(i0, i1), i0)]}(exp(i0), i1)]}}[(0, 0)].0, <TensorType(int64, vector)>), GpuAdvancedIncSubtensor1{no_inplace,inc}(GpuElemwise{second,no_inplace}.0, GpuElemwise{Composite{[Composite{[mul(second(i0, i1), i0)]}(exp(i0), i1)]}}[(0, 0)].0, <TensorType(int64, vector)>), GpuShape(GpuAdvancedIncSubtensor1{no_inplace,inc}.0)], [GpuAdvancedIncSubtensor1{no_inplace,inc}(GpuElemwise{second,no_inplace}.0, GpuElemwise{Composite{[Composite{[mul(second(i0, i1), i0)]}(exp(i0), i1)]}}[(0, 0)].0, <TensorType(int64, vector)>), GpuAdvancedIncSubtensor1{no_inplace,inc}(GpuElemwise{second,no_inplace}.0, GpuElemwise{Composite{[Composite{[mul(second(i0, i1), i0)]}(exp(i0), i1)]}}[(0, 0)].0, <TensorType(int64, vector)>)], \"<class 'theano.sandbox.cuda.basic_ops.GpuAdvancedIncSubtensor1'>\", 2, 1, 1)\n",
        "\n",
        "======================================================================\n",
        "FAIL: test_shape_list (theano.sandbox.cuda.tests.test_basic_ops.T_subtensor)\n",
        "----------------------------------------------------------------------\n",
        "Traceback (most recent call last):\n",
        "  File \"/home/jotham/venvs/2014-12-20_datascibowl/lib/python2.7/site-packages/theano/tensor/tests/test_subtensor.py\", line 786, in test_shape_list\n",
        "    f = self.function([], t.shape, op=self.ops, N=0, N_fast=1)\n",
        "  File \"/home/jotham/venvs/2014-12-20_datascibowl/lib/python2.7/site-packages/theano/tensor/tests/test_subtensor.py\", line 79, in function\n",
        "    self.assertFunctionContainsClassN(f, op, N)\n",
        "  File \"/home/jotham/venvs/2014-12-20_datascibowl/lib/python2.7/site-packages/theano/tests/unittest_tools.py\", line 128, in assertFunctionContainsClassN\n",
        "    return self.assertFunctionContainsClass(f, op, min=N, max=N)\n",
        "  File \"/home/jotham/venvs/2014-12-20_datascibowl/lib/python2.7/site-packages/theano/tests/unittest_tools.py\", line 125, in assertFunctionContainsClass\n",
        "    str(op), len(matches), min, max)\n",
        "AssertionError: ([GpuAdvancedSubtensor1(<CudaNdarrayType(float32, vector)>, TensorConstant{[1 0]}), GpuShape(GpuAdvancedSubtensor1.0)], [GpuAdvancedSubtensor1(<CudaNdarrayType(float32, vector)>, TensorConstant{[1 0]})], \"(<class 'theano.sandbox.cuda.basic_ops.GpuSubtensor'>, <class 'theano.sandbox.cuda.basic_ops.GpuIncSubtensor'>, <class 'theano.sandbox.cuda.basic_ops.GpuAdvancedSubtensor1'>, <class 'theano.sandbox.cuda.basic_ops.GpuAdvancedIncSubtensor1'>)\", 1, 0, 0)\n",
        "\n",
        "======================================================================\n",
        "FAIL: test_alloc_constant_folding (theano.sandbox.cuda.tests.test_basic_ops.TestAlloc)\n",
        "----------------------------------------------------------------------\n",
        "Traceback (most recent call last):\n",
        "  File \"/home/jotham/venvs/2014-12-20_datascibowl/lib/python2.7/site-packages/theano/tensor/tests/test_basic.py\", line 1943, in test_alloc_constant_folding\n",
        "    for node in topo_grad]) == n_alloc\n",
        "AssertionError\n",
        "\n",
        "======================================================================\n",
        "FAIL: test_shape (theano.sandbox.cuda.tests.test_basic_ops.test_shared_options)\n",
        "----------------------------------------------------------------------\n",
        "Traceback (most recent call last):\n",
        "  File \"/home/jotham/venvs/2014-12-20_datascibowl/lib/python2.7/site-packages/theano/tensor/tests/test_sharedvar.py\", line 146, in test_shape\n",
        "    assert len(topo)==3\n",
        "AssertionError\n",
        "\n",
        "======================================================================\n",
        "FAIL: test_shape_i (theano.sandbox.cuda.tests.test_basic_ops.test_shared_options)\n",
        "----------------------------------------------------------------------\n",
        "Traceback (most recent call last):\n",
        "  File \"/home/jotham/venvs/2014-12-20_datascibowl/lib/python2.7/site-packages/theano/tensor/tests/test_sharedvar.py\", line 169, in test_shape_i\n",
        "    assert len(topo)==1\n",
        "AssertionError\n",
        "\n",
        "======================================================================\n",
        "FAIL: test_specify_shape (theano.sandbox.cuda.tests.test_basic_ops.test_shared_options)\n",
        "----------------------------------------------------------------------\n",
        "Traceback (most recent call last):\n",
        "  File \"/home/jotham/venvs/2014-12-20_datascibowl/lib/python2.7/site-packages/theano/tensor/tests/test_sharedvar.py\", line 407, in test_specify_shape\n",
        "    assert len(topo)==3\n",
        "AssertionError\n",
        "\n",
        "======================================================================\n",
        "FAIL: test_specify_shape_inplace (theano.sandbox.cuda.tests.test_basic_ops.test_shared_options)\n",
        "----------------------------------------------------------------------\n",
        "Traceback (most recent call last):\n",
        "  File \"/home/jotham/venvs/2014-12-20_datascibowl/lib/python2.7/site-packages/theano/tensor/tests/test_sharedvar.py\", line 535, in test_specify_shape_inplace\n",
        "    assert sum([node.op.__class__.__name__ in [\"Gemm\",\"GpuGemm\",\"StructuredDot\"] for node in topo])==1\n",
        "AssertionError\n",
        "\n",
        "======================================================================\n",
        "FAIL: test_specify_shape_partial (theano.sandbox.cuda.tests.test_basic_ops.test_shared_options)\n",
        "----------------------------------------------------------------------\n",
        "Traceback (most recent call last):\n",
        "  File \"/home/jotham/venvs/2014-12-20_datascibowl/lib/python2.7/site-packages/theano/tensor/tests/test_sharedvar.py\", line 477, in test_specify_shape_partial\n",
        "    assert len(topo)==3\n",
        "AssertionError\n",
        "\n",
        "======================================================================\n",
        "FAIL: test_shape (theano.sandbox.cuda.tests.test_basic_ops.test_shared_options)\n",
        "----------------------------------------------------------------------\n",
        "Traceback (most recent call last):\n",
        "  File \"/home/jotham/venvs/2014-12-20_datascibowl/lib/python2.7/site-packages/theano/tensor/tests/test_sharedvar.py\", line 146, in test_shape\n",
        "    assert len(topo)==3\n",
        "AssertionError\n",
        "\n",
        "======================================================================\n",
        "FAIL: test_shape_i (theano.sandbox.cuda.tests.test_basic_ops.test_shared_options)\n",
        "----------------------------------------------------------------------\n",
        "Traceback (most recent call last):\n",
        "  File \"/home/jotham/venvs/2014-12-20_datascibowl/lib/python2.7/site-packages/theano/tensor/tests/test_sharedvar.py\", line 169, in test_shape_i\n",
        "    assert len(topo)==1\n",
        "AssertionError\n",
        "\n",
        "======================================================================\n",
        "FAIL: test_specify_shape (theano.sandbox.cuda.tests.test_basic_ops.test_shared_options)\n",
        "----------------------------------------------------------------------\n",
        "Traceback (most recent call last):\n",
        "  File \"/home/jotham/venvs/2014-12-20_datascibowl/lib/python2.7/site-packages/theano/tensor/tests/test_sharedvar.py\", line 407, in test_specify_shape\n",
        "    assert len(topo)==3\n",
        "AssertionError\n",
        "\n",
        "======================================================================\n",
        "FAIL: test_specify_shape_inplace (theano.sandbox.cuda.tests.test_basic_ops.test_shared_options)\n",
        "----------------------------------------------------------------------\n",
        "Traceback (most recent call last):\n",
        "  File \"/home/jotham/venvs/2014-12-20_datascibowl/lib/python2.7/site-packages/theano/tensor/tests/test_sharedvar.py\", line 535, in test_specify_shape_inplace\n",
        "    assert sum([node.op.__class__.__name__ in [\"Gemm\",\"GpuGemm\",\"StructuredDot\"] for node in topo])==1\n",
        "AssertionError\n",
        "\n",
        "======================================================================\n",
        "FAIL: test_specify_shape_partial (theano.sandbox.cuda.tests.test_basic_ops.test_shared_options)\n",
        "----------------------------------------------------------------------\n",
        "Traceback (most recent call last):\n",
        "  File \"/home/jotham/venvs/2014-12-20_datascibowl/lib/python2.7/site-packages/theano/tensor/tests/test_sharedvar.py\", line 477, in test_specify_shape_partial\n",
        "    assert len(topo)==3\n",
        "AssertionError\n",
        "\n",
        "======================================================================\n",
        "FAIL: test if an elemwise comparaison followed by a cast to float32 are\n",
        "----------------------------------------------------------------------\n",
        "Traceback (most recent call last):\n",
        "  File \"/home/jotham/venvs/2014-12-20_datascibowl/lib/python2.7/site-packages/nose/case.py\", line 197, in runTest\n",
        "    self.test(*self.arg)\n",
        "  File \"/home/jotham/venvs/2014-12-20_datascibowl/lib/python2.7/site-packages/theano/sandbox/cuda/tests/test_basic_ops.py\", line 490, in test_elemwise_comparaison_cast\n",
        "    for node in f.maker.fgraph.toposort()])\n",
        "AssertionError\n",
        "\n",
        "----------------------------------------------------------------------\n",
        "Ran 406 tests in 686.124s\n",
        "\n",
        "FAILED (errors=3, failures=22)\n"
       ]
      },
      {
       "metadata": {},
       "output_type": "pyout",
       "prompt_number": 2,
       "text": [
        "<nose.result.TextTestResult run=406 errors=3 failures=22>"
       ]
      }
     ],
     "prompt_number": 2
    },
    {
     "cell_type": "code",
     "collapsed": false,
     "input": [
      "theano.test()"
     ],
     "language": "python",
     "metadata": {},
     "outputs": [
      {
       "metadata": {},
       "output_type": "pyout",
       "prompt_number": 3,
       "text": [
        "<theano.configparser.TheanoConfigParser at 0x7ff8a7123e90>"
       ]
      }
     ],
     "prompt_number": 3
    },
    {
     "cell_type": "code",
     "collapsed": false,
     "input": [],
     "language": "python",
     "metadata": {},
     "outputs": []
    }
   ],
   "metadata": {}
  }
 ]
}