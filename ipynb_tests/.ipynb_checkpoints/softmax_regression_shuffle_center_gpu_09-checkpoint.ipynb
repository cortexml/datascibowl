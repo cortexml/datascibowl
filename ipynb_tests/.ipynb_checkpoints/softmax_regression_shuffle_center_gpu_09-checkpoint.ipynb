{
 "metadata": {
  "name": "",
  "signature": "sha256:1abd2486b5fdd54c88717c454a8c7b60f6c9cc1e832443a20fd0217f94b9bbdc"
 },
 "nbformat": 3,
 "nbformat_minor": 0,
 "worksheets": [
  {
   "cells": [
    {
     "cell_type": "code",
     "collapsed": false,
     "input": [
      "import os\n",
      "import pylearn2\n",
      "from pylearn2.config import yaml_parse"
     ],
     "language": "python",
     "metadata": {},
     "outputs": [],
     "prompt_number": 1
    },
    {
     "cell_type": "code",
     "collapsed": false,
     "input": [
      "dirname = os.path.abspath(os.path.dirname('softmax_regression_shuffle_center_03.ipynb'))\n",
      "# dirname"
     ],
     "language": "python",
     "metadata": {},
     "outputs": [],
     "prompt_number": 3
    },
    {
     "cell_type": "code",
     "collapsed": false,
     "input": [
      "with open(os.path.join(dirname, 'sr_train_03.yaml'), 'r') as f:\n",
      "    train = f.read()\n",
      "save_path = '.'\n",
      "train = train %locals()"
     ],
     "language": "python",
     "metadata": {},
     "outputs": [],
     "prompt_number": 10
    },
    {
     "cell_type": "code",
     "collapsed": false,
     "input": [
      "print train"
     ],
     "language": "python",
     "metadata": {},
     "outputs": [
      {
       "output_type": "stream",
       "stream": "stdout",
       "text": [
        "!obj:pylearn2.train.Train {\n",
        "    dataset: &train !obj:pylearn2.datasets.datascibowl.DataSciBowl {\n",
        "        which_set: 'train',\n",
        "        start: 0,\n",
        "        stop: 25000,\n",
        "        shuffle: True,\n",
        "        center: True,\n",
        "    },\n",
        "    model: !obj:pylearn2.models.softmax_regression.SoftmaxRegression {\n",
        "        n_classes: 121,\n",
        "        irange: 0.,\n",
        "        nvis: 1024\n",
        "    },\n",
        "    algorithm: !obj:pylearn2.training_algorithms.bgd.BGD {\n",
        "        batch_size: 5000,\n",
        "        line_search_mode: 'exhaustive',\n",
        "        conjugate: True,\n",
        "        monitoring_dataset:\n",
        "            {\n",
        "                'train' : *train,\n",
        "                'valid' : !obj:pylearn2.datasets.datascibowl.DataSciBowl {\n",
        "                              which_set: 'train',\n",
        "                              start: 25000,\n",
        "                              stop:  30000,\n",
        "                              shuffle: True,\n",
        "                              center: True\n",
        "                          }\n",
        "            },\n",
        "        termination_criterion: !obj:pylearn2.termination_criteria.MonitorBased {\n",
        "            channel_name: \"valid_y_misclass\"\n",
        "        }\n",
        "    },\n",
        "    extensions: [\n",
        "        !obj:pylearn2.train_extensions.best_params.MonitorBasedSaveBest {\n",
        "             channel_name: 'valid_y_misclass',\n",
        "             save_path: \"softmax_regression_best_shuf_ctr_03.pkl\"\n",
        "        }\n",
        "    ],\n",
        "    save_path: \"softmax_regression_shuf_ctr_03.pkl\",\n",
        "    save_freq: 1\n",
        "}\n",
        "\n"
       ]
      }
     ],
     "prompt_number": 11
    },
    {
     "cell_type": "code",
     "collapsed": false,
     "input": [
      "!pylearn2_fork/pylearn2/scripts/print_monitor.py softmax_regression_best_shuf_ctr_03.pkl"
     ],
     "language": "python",
     "metadata": {},
     "outputs": [
      {
       "output_type": "stream",
       "stream": "stdout",
       "text": [
        "epochs seen:  3\r\n",
        "time trained:  1474.09625006\r\n",
        "ave_grad_mult : 9.38543606306\r\n",
        "ave_grad_size : 0.177008395981\r\n",
        "ave_step_size : 1.28647384078\r\n",
        "total_seconds_last_epoch : 462.133584\r\n",
        "train_objective : 2.19548073838\r\n",
        "train_y_col_norms_max : 8.17922946971\r\n",
        "train_y_col_norms_mean : 4.12126416073\r\n",
        "train_y_col_norms_min : 1.02723543994\r\n",
        "train_y_max_max_class : 0.997905439343\r\n",
        "train_y_mean_max_class : 0.366180258571\r\n",
        "train_y_min_max_class : 0.0566014593365\r\n",
        "train_y_misclass : 0.55124\r\n",
        "train_y_nll : 2.19548073838\r\n",
        "train_y_row_norms_max : 3.41463475619\r\n",
        "train_y_row_norms_mean : 1.40815890404\r\n",
        "train_y_row_norms_min : 0.586515330788\r\n",
        "training_seconds_this_epoch : 524.031211\r\n",
        "valid_objective : 2.64395203275\r\n",
        "valid_y_col_norms_max : 8.17922946971\r\n",
        "valid_y_col_norms_mean : 4.12126416073\r\n",
        "valid_y_col_norms_min : 1.02723543994\r\n",
        "valid_y_max_max_class : 0.997017934704\r\n",
        "valid_y_mean_max_class : 0.35715295222\r\n",
        "valid_y_min_max_class : 0.0486126499594\r\n",
        "valid_y_misclass : 0.635\r\n",
        "valid_y_nll : 2.64395203275\r\n",
        "valid_y_row_norms_max : 3.41463475619\r\n",
        "valid_y_row_norms_mean : 1.40815890404\r\n",
        "valid_y_row_norms_min : 0.586515330788\r\n"
       ]
      }
     ],
     "prompt_number": 1
    },
    {
     "cell_type": "code",
     "collapsed": false,
     "input": [],
     "language": "python",
     "metadata": {},
     "outputs": []
    }
   ],
   "metadata": {}
  }
 ]
}