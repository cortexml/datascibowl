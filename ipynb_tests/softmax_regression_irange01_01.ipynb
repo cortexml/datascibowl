{
 "metadata": {
  "name": "",
  "signature": "sha256:a279c9992bb54775df15fd4b55ee291c9ac91c4cf688eedc689a174773677bec"
 },
 "nbformat": 3,
 "nbformat_minor": 0,
 "worksheets": [
  {
   "cells": [
    {
     "cell_type": "code",
     "collapsed": false,
     "input": [
      "import os\n",
      "import pylearn2\n",
      "from pylearn2.config import yaml_parse"
     ],
     "language": "python",
     "metadata": {},
     "outputs": [],
     "prompt_number": 1
    },
    {
     "cell_type": "code",
     "collapsed": false,
     "input": [
      "dirname = os.path.abspath(os.path.dirname('softmax_regression.ipynb'))\n",
      "# dirname"
     ],
     "language": "python",
     "metadata": {},
     "outputs": [],
     "prompt_number": 3
    },
    {
     "cell_type": "code",
     "collapsed": false,
     "input": [
      "with open(os.path.join(dirname, 'sr_train_01.yaml'), 'r') as f:\n",
      "    train = f.read()\n",
      "save_path = '.'\n",
      "train = train %locals()"
     ],
     "language": "python",
     "metadata": {},
     "outputs": [],
     "prompt_number": 5
    },
    {
     "cell_type": "code",
     "collapsed": false,
     "input": [
      "# print train"
     ],
     "language": "python",
     "metadata": {},
     "outputs": [],
     "prompt_number": 4
    },
    {
     "cell_type": "code",
     "collapsed": false,
     "input": [
      "train = yaml_parse.load(train)\n",
      "train.main_loop()"
     ],
     "language": "python",
     "metadata": {},
     "outputs": [
      {
       "output_type": "stream",
       "stream": "stdout",
       "text": [
        "Looking for data in /home/joth/projects/2014-12-20_datascibowl/competition_data/train\n",
        "Found 30336 images"
       ]
      },
      {
       "output_type": "stream",
       "stream": "stdout",
       "text": [
        "\n",
        "Reading files from /home/joth/projects/2014-12-20_datascibowl/competition_data/train/acantharia_protist\n",
        "Reading files from /home/joth/projects/2014-12-20_datascibowl/competition_data/train/acantharia_protist_big_center"
       ]
      },
      {
       "output_type": "stream",
       "stream": "stdout",
       "text": [
        "\n",
        "Reading files from /home/joth/projects/2014-12-20_datascibowl/competition_data/train/acantharia_protist_halo\n",
        "Reading files from /home/joth/projects/2014-12-20_datascibowl/competition_data/train/amphipods"
       ]
      },
      {
       "output_type": "stream",
       "stream": "stdout",
       "text": [
        "\n",
        "Reading files from /home/joth/projects/2014-12-20_datascibowl/competition_data/train/appendicularian_fritillaridae\n",
        "Reading files from /home/joth/projects/2014-12-20_datascibowl/competition_data/train/appendicularian_s_shape\n",
        "Reading files from /home/joth/projects/2014-12-20_datascibowl/competition_data/train/appendicularian_slight_curve"
       ]
      },
      {
       "output_type": "stream",
       "stream": "stdout",
       "text": [
        "\n",
        "Reading files from /home/joth/projects/2014-12-20_datascibowl/competition_data/train/appendicularian_straight"
       ]
      },
      {
       "output_type": "stream",
       "stream": "stdout",
       "text": [
        "\n",
        "Reading files from /home/joth/projects/2014-12-20_datascibowl/competition_data/train/artifacts"
       ]
      },
      {
       "output_type": "stream",
       "stream": "stdout",
       "text": [
        "\n",
        "Reading files from /home/joth/projects/2014-12-20_datascibowl/competition_data/train/artifacts_edge"
       ]
      },
      {
       "output_type": "stream",
       "stream": "stdout",
       "text": [
        "\n",
        "Reading files from /home/joth/projects/2014-12-20_datascibowl/competition_data/train/chaetognath_non_sagitta"
       ]
      },
      {
       "output_type": "stream",
       "stream": "stdout",
       "text": [
        "\n",
        "Reading files from /home/joth/projects/2014-12-20_datascibowl/competition_data/train/chaetognath_other"
       ]
      },
      {
       "output_type": "stream",
       "stream": "stdout",
       "text": [
        "\n",
        "Reading files from /home/joth/projects/2014-12-20_datascibowl/competition_data/train/chaetognath_sagitta"
       ]
      },
      {
       "output_type": "stream",
       "stream": "stdout",
       "text": [
        "\n",
        "Reading files from /home/joth/projects/2014-12-20_datascibowl/competition_data/train/chordate_type1"
       ]
      },
      {
       "output_type": "stream",
       "stream": "stdout",
       "text": [
        "\n",
        "Reading files from /home/joth/projects/2014-12-20_datascibowl/competition_data/train/copepod_calanoid"
       ]
      },
      {
       "output_type": "stream",
       "stream": "stdout",
       "text": [
        "\n",
        "Reading files from /home/joth/projects/2014-12-20_datascibowl/competition_data/train/copepod_calanoid_eggs"
       ]
      },
      {
       "output_type": "stream",
       "stream": "stdout",
       "text": [
        "\n",
        "Reading files from /home/joth/projects/2014-12-20_datascibowl/competition_data/train/copepod_calanoid_eucalanus"
       ]
      },
      {
       "output_type": "stream",
       "stream": "stdout",
       "text": [
        "\n",
        "Reading files from /home/joth/projects/2014-12-20_datascibowl/competition_data/train/copepod_calanoid_flatheads"
       ]
      },
      {
       "output_type": "stream",
       "stream": "stdout",
       "text": [
        "\n",
        "Reading files from /home/joth/projects/2014-12-20_datascibowl/competition_data/train/copepod_calanoid_frillyAntennae"
       ]
      },
      {
       "output_type": "stream",
       "stream": "stdout",
       "text": [
        "\n",
        "Reading files from /home/joth/projects/2014-12-20_datascibowl/competition_data/train/copepod_calanoid_large\n",
        "Reading files from /home/joth/projects/2014-12-20_datascibowl/competition_data/train/copepod_calanoid_large_side_antennatucked"
       ]
      },
      {
       "output_type": "stream",
       "stream": "stdout",
       "text": [
        "\n",
        "Reading files from /home/joth/projects/2014-12-20_datascibowl/competition_data/train/copepod_calanoid_octomoms"
       ]
      },
      {
       "output_type": "stream",
       "stream": "stdout",
       "text": [
        "\n",
        "Reading files from /home/joth/projects/2014-12-20_datascibowl/competition_data/train/copepod_calanoid_small_longantennae\n",
        "Reading files from /home/joth/projects/2014-12-20_datascibowl/competition_data/train/copepod_cyclopoid_copilia"
       ]
      },
      {
       "output_type": "stream",
       "stream": "stdout",
       "text": [
        "\n",
        "Reading files from /home/joth/projects/2014-12-20_datascibowl/competition_data/train/copepod_cyclopoid_oithona\n",
        "Reading files from /home/joth/projects/2014-12-20_datascibowl/competition_data/train/copepod_cyclopoid_oithona_eggs"
       ]
      },
      {
       "output_type": "stream",
       "stream": "stdout",
       "text": [
        "\n",
        "Reading files from /home/joth/projects/2014-12-20_datascibowl/competition_data/train/copepod_other"
       ]
      },
      {
       "output_type": "stream",
       "stream": "stdout",
       "text": [
        "\n",
        "Reading files from /home/joth/projects/2014-12-20_datascibowl/competition_data/train/crustacean_other\n",
        "Reading files from /home/joth/projects/2014-12-20_datascibowl/competition_data/train/ctenophore_cestid"
       ]
      },
      {
       "output_type": "stream",
       "stream": "stdout",
       "text": [
        "\n",
        "Reading files from /home/joth/projects/2014-12-20_datascibowl/competition_data/train/ctenophore_cydippid_no_tentacles"
       ]
      },
      {
       "output_type": "stream",
       "stream": "stdout",
       "text": [
        "\n",
        "Reading files from /home/joth/projects/2014-12-20_datascibowl/competition_data/train/ctenophore_cydippid_tentacles\n",
        "Reading files from /home/joth/projects/2014-12-20_datascibowl/competition_data/train/ctenophore_lobate"
       ]
      },
      {
       "output_type": "stream",
       "stream": "stdout",
       "text": [
        "\n",
        "Reading files from /home/joth/projects/2014-12-20_datascibowl/competition_data/train/decapods\n",
        "Reading files from /home/joth/projects/2014-12-20_datascibowl/competition_data/train/detritus_blob"
       ]
      },
      {
       "output_type": "stream",
       "stream": "stdout",
       "text": [
        "\n",
        "Reading files from /home/joth/projects/2014-12-20_datascibowl/competition_data/train/detritus_filamentous"
       ]
      },
      {
       "output_type": "stream",
       "stream": "stdout",
       "text": [
        "\n",
        "Reading files from /home/joth/projects/2014-12-20_datascibowl/competition_data/train/detritus_other"
       ]
      },
      {
       "output_type": "stream",
       "stream": "stdout",
       "text": [
        "\n",
        "Reading files from /home/joth/projects/2014-12-20_datascibowl/competition_data/train/diatom_chain_string"
       ]
      },
      {
       "output_type": "stream",
       "stream": "stdout",
       "text": [
        "\n",
        "Reading files from /home/joth/projects/2014-12-20_datascibowl/competition_data/train/diatom_chain_tube"
       ]
      },
      {
       "output_type": "stream",
       "stream": "stdout",
       "text": [
        "\n",
        "Reading files from /home/joth/projects/2014-12-20_datascibowl/competition_data/train/echinoderm_larva_pluteus_brittlestar"
       ]
      },
      {
       "output_type": "stream",
       "stream": "stdout",
       "text": [
        "\n",
        "Reading files from /home/joth/projects/2014-12-20_datascibowl/competition_data/train/echinoderm_larva_pluteus_early\n",
        "Reading files from /home/joth/projects/2014-12-20_datascibowl/competition_data/train/echinoderm_larva_pluteus_typeC"
       ]
      },
      {
       "output_type": "stream",
       "stream": "stdout",
       "text": [
        "\n",
        "Reading files from /home/joth/projects/2014-12-20_datascibowl/competition_data/train/echinoderm_larva_pluteus_urchin"
       ]
      },
      {
       "output_type": "stream",
       "stream": "stdout",
       "text": [
        "\n",
        "Reading files from /home/joth/projects/2014-12-20_datascibowl/competition_data/train/echinoderm_larva_seastar_bipinnaria"
       ]
      },
      {
       "output_type": "stream",
       "stream": "stdout",
       "text": [
        "\n",
        "Reading files from /home/joth/projects/2014-12-20_datascibowl/competition_data/train/echinoderm_larva_seastar_brachiolaria"
       ]
      },
      {
       "output_type": "stream",
       "stream": "stdout",
       "text": [
        "\n",
        "Reading files from /home/joth/projects/2014-12-20_datascibowl/competition_data/train/echinoderm_seacucumber_auricularia_larva"
       ]
      },
      {
       "output_type": "stream",
       "stream": "stdout",
       "text": [
        "\n",
        "Reading files from /home/joth/projects/2014-12-20_datascibowl/competition_data/train/echinopluteus"
       ]
      },
      {
       "output_type": "stream",
       "stream": "stdout",
       "text": [
        "\n",
        "Reading files from /home/joth/projects/2014-12-20_datascibowl/competition_data/train/ephyra\n",
        "Reading files from /home/joth/projects/2014-12-20_datascibowl/competition_data/train/euphausiids\n",
        "Reading files from /home/joth/projects/2014-12-20_datascibowl/competition_data/train/euphausiids_young"
       ]
      },
      {
       "output_type": "stream",
       "stream": "stdout",
       "text": [
        "\n",
        "Reading files from /home/joth/projects/2014-12-20_datascibowl/competition_data/train/fecal_pellet\n",
        "Reading files from /home/joth/projects/2014-12-20_datascibowl/competition_data/train/fish_larvae_deep_body"
       ]
      },
      {
       "output_type": "stream",
       "stream": "stdout",
       "text": [
        "\n",
        "Reading files from /home/joth/projects/2014-12-20_datascibowl/competition_data/train/fish_larvae_leptocephali\n",
        "Reading files from /home/joth/projects/2014-12-20_datascibowl/competition_data/train/fish_larvae_medium_body\n",
        "Reading files from /home/joth/projects/2014-12-20_datascibowl/competition_data/train/fish_larvae_myctophids"
       ]
      },
      {
       "output_type": "stream",
       "stream": "stdout",
       "text": [
        "\n",
        "Reading files from /home/joth/projects/2014-12-20_datascibowl/competition_data/train/fish_larvae_thin_body"
       ]
      },
      {
       "output_type": "stream",
       "stream": "stdout",
       "text": [
        "\n",
        "Reading files from /home/joth/projects/2014-12-20_datascibowl/competition_data/train/fish_larvae_very_thin_body"
       ]
      },
      {
       "output_type": "stream",
       "stream": "stdout",
       "text": [
        "\n",
        "Reading files from /home/joth/projects/2014-12-20_datascibowl/competition_data/train/heteropod\n",
        "Reading files from /home/joth/projects/2014-12-20_datascibowl/competition_data/train/hydromedusae_aglaura\n",
        "Reading files from /home/joth/projects/2014-12-20_datascibowl/competition_data/train/hydromedusae_bell_and_tentacles"
       ]
      },
      {
       "output_type": "stream",
       "stream": "stdout",
       "text": [
        "\n",
        "Reading files from /home/joth/projects/2014-12-20_datascibowl/competition_data/train/hydromedusae_h15"
       ]
      },
      {
       "output_type": "stream",
       "stream": "stdout",
       "text": [
        "\n",
        "Reading files from /home/joth/projects/2014-12-20_datascibowl/competition_data/train/hydromedusae_haliscera\n",
        "Reading files from /home/joth/projects/2014-12-20_datascibowl/competition_data/train/hydromedusae_haliscera_small_sideview"
       ]
      },
      {
       "output_type": "stream",
       "stream": "stdout",
       "text": [
        "\n",
        "Reading files from /home/joth/projects/2014-12-20_datascibowl/competition_data/train/hydromedusae_liriope\n",
        "Reading files from /home/joth/projects/2014-12-20_datascibowl/competition_data/train/hydromedusae_narco_dark\n",
        "Reading files from /home/joth/projects/2014-12-20_datascibowl/competition_data/train/hydromedusae_narco_young"
       ]
      },
      {
       "output_type": "stream",
       "stream": "stdout",
       "text": [
        "\n",
        "Reading files from /home/joth/projects/2014-12-20_datascibowl/competition_data/train/hydromedusae_narcomedusae"
       ]
      },
      {
       "output_type": "stream",
       "stream": "stdout",
       "text": [
        "\n",
        "Reading files from /home/joth/projects/2014-12-20_datascibowl/competition_data/train/hydromedusae_other"
       ]
      },
      {
       "output_type": "stream",
       "stream": "stdout",
       "text": [
        "\n",
        "Reading files from /home/joth/projects/2014-12-20_datascibowl/competition_data/train/hydromedusae_partial_dark\n",
        "Reading files from /home/joth/projects/2014-12-20_datascibowl/competition_data/train/hydromedusae_shapeA"
       ]
      },
      {
       "output_type": "stream",
       "stream": "stdout",
       "text": [
        "\n",
        "Reading files from /home/joth/projects/2014-12-20_datascibowl/competition_data/train/hydromedusae_shapeA_sideview_small"
       ]
      },
      {
       "output_type": "stream",
       "stream": "stdout",
       "text": [
        "\n",
        "Reading files from /home/joth/projects/2014-12-20_datascibowl/competition_data/train/hydromedusae_shapeB"
       ]
      },
      {
       "output_type": "stream",
       "stream": "stdout",
       "text": [
        "\n",
        "Reading files from /home/joth/projects/2014-12-20_datascibowl/competition_data/train/hydromedusae_sideview_big"
       ]
      },
      {
       "output_type": "stream",
       "stream": "stdout",
       "text": [
        "\n",
        "Reading files from /home/joth/projects/2014-12-20_datascibowl/competition_data/train/hydromedusae_solmaris"
       ]
      },
      {
       "output_type": "stream",
       "stream": "stdout",
       "text": [
        "\n",
        "Reading files from /home/joth/projects/2014-12-20_datascibowl/competition_data/train/hydromedusae_solmundella"
       ]
      },
      {
       "output_type": "stream",
       "stream": "stdout",
       "text": [
        "\n",
        "Reading files from /home/joth/projects/2014-12-20_datascibowl/competition_data/train/hydromedusae_typeD"
       ]
      },
      {
       "output_type": "stream",
       "stream": "stdout",
       "text": [
        "\n",
        "Reading files from /home/joth/projects/2014-12-20_datascibowl/competition_data/train/hydromedusae_typeD_bell_and_tentacles\n",
        "Reading files from /home/joth/projects/2014-12-20_datascibowl/competition_data/train/hydromedusae_typeE"
       ]
      },
      {
       "output_type": "stream",
       "stream": "stdout",
       "text": [
        "\n",
        "Reading files from /home/joth/projects/2014-12-20_datascibowl/competition_data/train/hydromedusae_typeF\n",
        "Reading files from /home/joth/projects/2014-12-20_datascibowl/competition_data/train/invertebrate_larvae_other_A"
       ]
      },
      {
       "output_type": "stream",
       "stream": "stdout",
       "text": [
        "\n",
        "Reading files from /home/joth/projects/2014-12-20_datascibowl/competition_data/train/invertebrate_larvae_other_B\n",
        "Reading files from /home/joth/projects/2014-12-20_datascibowl/competition_data/train/jellies_tentacles\n",
        "Reading files from /home/joth/projects/2014-12-20_datascibowl/competition_data/train/polychaete"
       ]
      },
      {
       "output_type": "stream",
       "stream": "stdout",
       "text": [
        "\n",
        "Reading files from /home/joth/projects/2014-12-20_datascibowl/competition_data/train/protist_dark_center"
       ]
      },
      {
       "output_type": "stream",
       "stream": "stdout",
       "text": [
        "\n",
        "Reading files from /home/joth/projects/2014-12-20_datascibowl/competition_data/train/protist_fuzzy_olive"
       ]
      },
      {
       "output_type": "stream",
       "stream": "stdout",
       "text": [
        "\n",
        "Reading files from /home/joth/projects/2014-12-20_datascibowl/competition_data/train/protist_noctiluca"
       ]
      },
      {
       "output_type": "stream",
       "stream": "stdout",
       "text": [
        "\n",
        "Reading files from /home/joth/projects/2014-12-20_datascibowl/competition_data/train/protist_other"
       ]
      },
      {
       "output_type": "stream",
       "stream": "stdout",
       "text": [
        "\n",
        "Reading files from /home/joth/projects/2014-12-20_datascibowl/competition_data/train/protist_star"
       ]
      },
      {
       "output_type": "stream",
       "stream": "stdout",
       "text": [
        "\n",
        "Reading files from /home/joth/projects/2014-12-20_datascibowl/competition_data/train/pteropod_butterfly"
       ]
      },
      {
       "output_type": "stream",
       "stream": "stdout",
       "text": [
        "\n",
        "Reading files from /home/joth/projects/2014-12-20_datascibowl/competition_data/train/pteropod_theco_dev_seq"
       ]
      },
      {
       "output_type": "stream",
       "stream": "stdout",
       "text": [
        "\n",
        "Reading files from /home/joth/projects/2014-12-20_datascibowl/competition_data/train/pteropod_triangle\n",
        "Reading files from /home/joth/projects/2014-12-20_datascibowl/competition_data/train/radiolarian_chain"
       ]
      },
      {
       "output_type": "stream",
       "stream": "stdout",
       "text": [
        "\n",
        "Reading files from /home/joth/projects/2014-12-20_datascibowl/competition_data/train/radiolarian_colony"
       ]
      },
      {
       "output_type": "stream",
       "stream": "stdout",
       "text": [
        "\n",
        "Reading files from /home/joth/projects/2014-12-20_datascibowl/competition_data/train/shrimp-like_other"
       ]
      },
      {
       "output_type": "stream",
       "stream": "stdout",
       "text": [
        "\n",
        "Reading files from /home/joth/projects/2014-12-20_datascibowl/competition_data/train/shrimp_caridean\n",
        "Reading files from /home/joth/projects/2014-12-20_datascibowl/competition_data/train/shrimp_sergestidae"
       ]
      },
      {
       "output_type": "stream",
       "stream": "stdout",
       "text": [
        "\n",
        "Reading files from /home/joth/projects/2014-12-20_datascibowl/competition_data/train/shrimp_zoea"
       ]
      },
      {
       "output_type": "stream",
       "stream": "stdout",
       "text": [
        "\n",
        "Reading files from /home/joth/projects/2014-12-20_datascibowl/competition_data/train/siphonophore_calycophoran_abylidae"
       ]
      },
      {
       "output_type": "stream",
       "stream": "stdout",
       "text": [
        "\n",
        "Reading files from /home/joth/projects/2014-12-20_datascibowl/competition_data/train/siphonophore_calycophoran_rocketship_adult"
       ]
      },
      {
       "output_type": "stream",
       "stream": "stdout",
       "text": [
        "\n",
        "Reading files from /home/joth/projects/2014-12-20_datascibowl/competition_data/train/siphonophore_calycophoran_rocketship_young"
       ]
      },
      {
       "output_type": "stream",
       "stream": "stdout",
       "text": [
        "\n",
        "Reading files from /home/joth/projects/2014-12-20_datascibowl/competition_data/train/siphonophore_calycophoran_sphaeronectes"
       ]
      },
      {
       "output_type": "stream",
       "stream": "stdout",
       "text": [
        "\n",
        "Reading files from /home/joth/projects/2014-12-20_datascibowl/competition_data/train/siphonophore_calycophoran_sphaeronectes_stem"
       ]
      },
      {
       "output_type": "stream",
       "stream": "stdout",
       "text": [
        "\n",
        "Reading files from /home/joth/projects/2014-12-20_datascibowl/competition_data/train/siphonophore_calycophoran_sphaeronectes_young\n",
        "Reading files from /home/joth/projects/2014-12-20_datascibowl/competition_data/train/siphonophore_other_parts"
       ]
      },
      {
       "output_type": "stream",
       "stream": "stdout",
       "text": [
        "\n",
        "Reading files from /home/joth/projects/2014-12-20_datascibowl/competition_data/train/siphonophore_partial\n",
        "Reading files from /home/joth/projects/2014-12-20_datascibowl/competition_data/train/siphonophore_physonect\n",
        "Reading files from /home/joth/projects/2014-12-20_datascibowl/competition_data/train/siphonophore_physonect_young"
       ]
      },
      {
       "output_type": "stream",
       "stream": "stdout",
       "text": [
        "\n",
        "Reading files from /home/joth/projects/2014-12-20_datascibowl/competition_data/train/stomatopod\n",
        "Reading files from /home/joth/projects/2014-12-20_datascibowl/competition_data/train/tornaria_acorn_worm_larvae\n",
        "Reading files from /home/joth/projects/2014-12-20_datascibowl/competition_data/train/trichodesmium_bowtie"
       ]
      },
      {
       "output_type": "stream",
       "stream": "stdout",
       "text": [
        "\n",
        "Reading files from /home/joth/projects/2014-12-20_datascibowl/competition_data/train/trichodesmium_multiple"
       ]
      },
      {
       "output_type": "stream",
       "stream": "stdout",
       "text": [
        "\n",
        "Reading files from /home/joth/projects/2014-12-20_datascibowl/competition_data/train/trichodesmium_puff\n",
        "Reading files from /home/joth/projects/2014-12-20_datascibowl/competition_data/train/trichodesmium_tuft"
       ]
      },
      {
       "output_type": "stream",
       "stream": "stdout",
       "text": [
        "\n",
        "Reading files from /home/joth/projects/2014-12-20_datascibowl/competition_data/train/trochophore_larvae"
       ]
      },
      {
       "output_type": "stream",
       "stream": "stdout",
       "text": [
        "\n",
        "Reading files from /home/joth/projects/2014-12-20_datascibowl/competition_data/train/tunicate_doliolid\n",
        "Reading files from /home/joth/projects/2014-12-20_datascibowl/competition_data/train/tunicate_doliolid_nurse"
       ]
      },
      {
       "output_type": "stream",
       "stream": "stdout",
       "text": [
        "\n",
        "Reading files from /home/joth/projects/2014-12-20_datascibowl/competition_data/train/tunicate_partial"
       ]
      },
      {
       "output_type": "stream",
       "stream": "stdout",
       "text": [
        "\n",
        "Reading files from /home/joth/projects/2014-12-20_datascibowl/competition_data/train/tunicate_salp"
       ]
      },
      {
       "output_type": "stream",
       "stream": "stdout",
       "text": [
        "\n",
        "Reading files from /home/joth/projects/2014-12-20_datascibowl/competition_data/train/tunicate_salp_chains"
       ]
      },
      {
       "output_type": "stream",
       "stream": "stdout",
       "text": [
        "\n",
        "Reading files from /home/joth/projects/2014-12-20_datascibowl/competition_data/train/unknown_blobs_and_smudges"
       ]
      },
      {
       "output_type": "stream",
       "stream": "stdout",
       "text": [
        "\n",
        "Reading files from /home/joth/projects/2014-12-20_datascibowl/competition_data/train/unknown_sticks"
       ]
      },
      {
       "output_type": "stream",
       "stream": "stdout",
       "text": [
        "\n",
        "Reading files from /home/joth/projects/2014-12-20_datascibowl/competition_data/train/unknown_unclassified"
       ]
      },
      {
       "output_type": "stream",
       "stream": "stdout",
       "text": [
        "\n",
        "topo_view.shape: (25000, 32, 32, 1)"
       ]
      },
      {
       "output_type": "stream",
       "stream": "stdout",
       "text": [
        "\n",
        "NAs: 0\n",
        "Looking for data in /home/joth/projects/2014-12-20_datascibowl/competition_data/train"
       ]
      },
      {
       "output_type": "stream",
       "stream": "stdout",
       "text": [
        "\n",
        "Found 30336 images"
       ]
      },
      {
       "output_type": "stream",
       "stream": "stdout",
       "text": [
        "\n",
        "Reading files from /home/joth/projects/2014-12-20_datascibowl/competition_data/train/acantharia_protist\n",
        "Reading files from /home/joth/projects/2014-12-20_datascibowl/competition_data/train/acantharia_protist_big_center"
       ]
      },
      {
       "output_type": "stream",
       "stream": "stdout",
       "text": [
        "\n",
        "Reading files from /home/joth/projects/2014-12-20_datascibowl/competition_data/train/acantharia_protist_halo\n",
        "Reading files from /home/joth/projects/2014-12-20_datascibowl/competition_data/train/amphipods"
       ]
      },
      {
       "output_type": "stream",
       "stream": "stdout",
       "text": [
        "\n",
        "Reading files from /home/joth/projects/2014-12-20_datascibowl/competition_data/train/appendicularian_fritillaridae\n",
        "Reading files from /home/joth/projects/2014-12-20_datascibowl/competition_data/train/appendicularian_s_shape"
       ]
      },
      {
       "output_type": "stream",
       "stream": "stdout",
       "text": [
        "\n",
        "Reading files from /home/joth/projects/2014-12-20_datascibowl/competition_data/train/appendicularian_slight_curve"
       ]
      },
      {
       "output_type": "stream",
       "stream": "stdout",
       "text": [
        "\n",
        "Reading files from /home/joth/projects/2014-12-20_datascibowl/competition_data/train/appendicularian_straight"
       ]
      },
      {
       "output_type": "stream",
       "stream": "stdout",
       "text": [
        "\n",
        "Reading files from /home/joth/projects/2014-12-20_datascibowl/competition_data/train/artifacts"
       ]
      },
      {
       "output_type": "stream",
       "stream": "stdout",
       "text": [
        "\n",
        "Reading files from /home/joth/projects/2014-12-20_datascibowl/competition_data/train/artifacts_edge"
       ]
      },
      {
       "output_type": "stream",
       "stream": "stdout",
       "text": [
        "\n",
        "Reading files from /home/joth/projects/2014-12-20_datascibowl/competition_data/train/chaetognath_non_sagitta"
       ]
      },
      {
       "output_type": "stream",
       "stream": "stdout",
       "text": [
        "\n",
        "Reading files from /home/joth/projects/2014-12-20_datascibowl/competition_data/train/chaetognath_other"
       ]
      },
      {
       "output_type": "stream",
       "stream": "stdout",
       "text": [
        "\n",
        "Reading files from /home/joth/projects/2014-12-20_datascibowl/competition_data/train/chaetognath_sagitta"
       ]
      },
      {
       "output_type": "stream",
       "stream": "stdout",
       "text": [
        "\n",
        "Reading files from /home/joth/projects/2014-12-20_datascibowl/competition_data/train/chordate_type1"
       ]
      },
      {
       "output_type": "stream",
       "stream": "stdout",
       "text": [
        "\n",
        "Reading files from /home/joth/projects/2014-12-20_datascibowl/competition_data/train/copepod_calanoid"
       ]
      },
      {
       "output_type": "stream",
       "stream": "stdout",
       "text": [
        "\n",
        "Reading files from /home/joth/projects/2014-12-20_datascibowl/competition_data/train/copepod_calanoid_eggs"
       ]
      },
      {
       "output_type": "stream",
       "stream": "stdout",
       "text": [
        "\n",
        "Reading files from /home/joth/projects/2014-12-20_datascibowl/competition_data/train/copepod_calanoid_eucalanus"
       ]
      },
      {
       "output_type": "stream",
       "stream": "stdout",
       "text": [
        "\n",
        "Reading files from /home/joth/projects/2014-12-20_datascibowl/competition_data/train/copepod_calanoid_flatheads"
       ]
      },
      {
       "output_type": "stream",
       "stream": "stdout",
       "text": [
        "\n",
        "Reading files from /home/joth/projects/2014-12-20_datascibowl/competition_data/train/copepod_calanoid_frillyAntennae"
       ]
      },
      {
       "output_type": "stream",
       "stream": "stdout",
       "text": [
        "\n",
        "Reading files from /home/joth/projects/2014-12-20_datascibowl/competition_data/train/copepod_calanoid_large\n",
        "Reading files from /home/joth/projects/2014-12-20_datascibowl/competition_data/train/copepod_calanoid_large_side_antennatucked"
       ]
      },
      {
       "output_type": "stream",
       "stream": "stdout",
       "text": [
        "\n",
        "Reading files from /home/joth/projects/2014-12-20_datascibowl/competition_data/train/copepod_calanoid_octomoms"
       ]
      },
      {
       "output_type": "stream",
       "stream": "stdout",
       "text": [
        "\n",
        "Reading files from /home/joth/projects/2014-12-20_datascibowl/competition_data/train/copepod_calanoid_small_longantennae\n",
        "Reading files from /home/joth/projects/2014-12-20_datascibowl/competition_data/train/copepod_cyclopoid_copilia"
       ]
      },
      {
       "output_type": "stream",
       "stream": "stdout",
       "text": [
        "\n",
        "Reading files from /home/joth/projects/2014-12-20_datascibowl/competition_data/train/copepod_cyclopoid_oithona\n",
        "Reading files from /home/joth/projects/2014-12-20_datascibowl/competition_data/train/copepod_cyclopoid_oithona_eggs"
       ]
      },
      {
       "output_type": "stream",
       "stream": "stdout",
       "text": [
        "\n",
        "Reading files from /home/joth/projects/2014-12-20_datascibowl/competition_data/train/copepod_other"
       ]
      },
      {
       "output_type": "stream",
       "stream": "stdout",
       "text": [
        "\n",
        "Reading files from /home/joth/projects/2014-12-20_datascibowl/competition_data/train/crustacean_other\n",
        "Reading files from /home/joth/projects/2014-12-20_datascibowl/competition_data/train/ctenophore_cestid"
       ]
      },
      {
       "output_type": "stream",
       "stream": "stdout",
       "text": [
        "\n",
        "Reading files from /home/joth/projects/2014-12-20_datascibowl/competition_data/train/ctenophore_cydippid_no_tentacles"
       ]
      },
      {
       "output_type": "stream",
       "stream": "stdout",
       "text": [
        "\n",
        "Reading files from /home/joth/projects/2014-12-20_datascibowl/competition_data/train/ctenophore_cydippid_tentacles\n",
        "Reading files from /home/joth/projects/2014-12-20_datascibowl/competition_data/train/ctenophore_lobate"
       ]
      },
      {
       "output_type": "stream",
       "stream": "stdout",
       "text": [
        "\n",
        "Reading files from /home/joth/projects/2014-12-20_datascibowl/competition_data/train/decapods\n",
        "Reading files from /home/joth/projects/2014-12-20_datascibowl/competition_data/train/detritus_blob"
       ]
      },
      {
       "output_type": "stream",
       "stream": "stdout",
       "text": [
        "\n",
        "Reading files from /home/joth/projects/2014-12-20_datascibowl/competition_data/train/detritus_filamentous"
       ]
      },
      {
       "output_type": "stream",
       "stream": "stdout",
       "text": [
        "\n",
        "Reading files from /home/joth/projects/2014-12-20_datascibowl/competition_data/train/detritus_other"
       ]
      },
      {
       "output_type": "stream",
       "stream": "stdout",
       "text": [
        "\n",
        "Reading files from /home/joth/projects/2014-12-20_datascibowl/competition_data/train/diatom_chain_string"
       ]
      },
      {
       "output_type": "stream",
       "stream": "stdout",
       "text": [
        "\n",
        "Reading files from /home/joth/projects/2014-12-20_datascibowl/competition_data/train/diatom_chain_tube"
       ]
      },
      {
       "output_type": "stream",
       "stream": "stdout",
       "text": [
        "\n",
        "Reading files from /home/joth/projects/2014-12-20_datascibowl/competition_data/train/echinoderm_larva_pluteus_brittlestar"
       ]
      },
      {
       "output_type": "stream",
       "stream": "stdout",
       "text": [
        "\n",
        "Reading files from /home/joth/projects/2014-12-20_datascibowl/competition_data/train/echinoderm_larva_pluteus_early\n",
        "Reading files from /home/joth/projects/2014-12-20_datascibowl/competition_data/train/echinoderm_larva_pluteus_typeC"
       ]
      },
      {
       "output_type": "stream",
       "stream": "stdout",
       "text": [
        "\n",
        "Reading files from /home/joth/projects/2014-12-20_datascibowl/competition_data/train/echinoderm_larva_pluteus_urchin"
       ]
      },
      {
       "output_type": "stream",
       "stream": "stdout",
       "text": [
        "\n",
        "Reading files from /home/joth/projects/2014-12-20_datascibowl/competition_data/train/echinoderm_larva_seastar_bipinnaria"
       ]
      },
      {
       "output_type": "stream",
       "stream": "stdout",
       "text": [
        "\n",
        "Reading files from /home/joth/projects/2014-12-20_datascibowl/competition_data/train/echinoderm_larva_seastar_brachiolaria"
       ]
      },
      {
       "output_type": "stream",
       "stream": "stdout",
       "text": [
        "\n",
        "Reading files from /home/joth/projects/2014-12-20_datascibowl/competition_data/train/echinoderm_seacucumber_auricularia_larva"
       ]
      },
      {
       "output_type": "stream",
       "stream": "stdout",
       "text": [
        "\n",
        "Reading files from /home/joth/projects/2014-12-20_datascibowl/competition_data/train/echinopluteus"
       ]
      },
      {
       "output_type": "stream",
       "stream": "stdout",
       "text": [
        "\n",
        "Reading files from /home/joth/projects/2014-12-20_datascibowl/competition_data/train/ephyra\n",
        "Reading files from /home/joth/projects/2014-12-20_datascibowl/competition_data/train/euphausiids\n",
        "Reading files from /home/joth/projects/2014-12-20_datascibowl/competition_data/train/euphausiids_young"
       ]
      },
      {
       "output_type": "stream",
       "stream": "stdout",
       "text": [
        "\n",
        "Reading files from /home/joth/projects/2014-12-20_datascibowl/competition_data/train/fecal_pellet\n",
        "Reading files from /home/joth/projects/2014-12-20_datascibowl/competition_data/train/fish_larvae_deep_body"
       ]
      },
      {
       "output_type": "stream",
       "stream": "stdout",
       "text": [
        "\n",
        "Reading files from /home/joth/projects/2014-12-20_datascibowl/competition_data/train/fish_larvae_leptocephali\n",
        "Reading files from /home/joth/projects/2014-12-20_datascibowl/competition_data/train/fish_larvae_medium_body\n",
        "Reading files from /home/joth/projects/2014-12-20_datascibowl/competition_data/train/fish_larvae_myctophids"
       ]
      },
      {
       "output_type": "stream",
       "stream": "stdout",
       "text": [
        "\n",
        "Reading files from /home/joth/projects/2014-12-20_datascibowl/competition_data/train/fish_larvae_thin_body"
       ]
      },
      {
       "output_type": "stream",
       "stream": "stdout",
       "text": [
        "\n",
        "Reading files from /home/joth/projects/2014-12-20_datascibowl/competition_data/train/fish_larvae_very_thin_body\n",
        "Reading files from /home/joth/projects/2014-12-20_datascibowl/competition_data/train/heteropod"
       ]
      },
      {
       "output_type": "stream",
       "stream": "stdout",
       "text": [
        "\n",
        "Reading files from /home/joth/projects/2014-12-20_datascibowl/competition_data/train/hydromedusae_aglaura\n",
        "Reading files from /home/joth/projects/2014-12-20_datascibowl/competition_data/train/hydromedusae_bell_and_tentacles"
       ]
      },
      {
       "output_type": "stream",
       "stream": "stdout",
       "text": [
        "\n",
        "Reading files from /home/joth/projects/2014-12-20_datascibowl/competition_data/train/hydromedusae_h15"
       ]
      },
      {
       "output_type": "stream",
       "stream": "stdout",
       "text": [
        "\n",
        "Reading files from /home/joth/projects/2014-12-20_datascibowl/competition_data/train/hydromedusae_haliscera\n",
        "Reading files from /home/joth/projects/2014-12-20_datascibowl/competition_data/train/hydromedusae_haliscera_small_sideview"
       ]
      },
      {
       "output_type": "stream",
       "stream": "stdout",
       "text": [
        "\n",
        "Reading files from /home/joth/projects/2014-12-20_datascibowl/competition_data/train/hydromedusae_liriope\n",
        "Reading files from /home/joth/projects/2014-12-20_datascibowl/competition_data/train/hydromedusae_narco_dark\n",
        "Reading files from /home/joth/projects/2014-12-20_datascibowl/competition_data/train/hydromedusae_narco_young\n",
        "Reading files from /home/joth/projects/2014-12-20_datascibowl/competition_data/train/hydromedusae_narcomedusae"
       ]
      },
      {
       "output_type": "stream",
       "stream": "stdout",
       "text": [
        "\n",
        "Reading files from /home/joth/projects/2014-12-20_datascibowl/competition_data/train/hydromedusae_other"
       ]
      },
      {
       "output_type": "stream",
       "stream": "stdout",
       "text": [
        "\n",
        "Reading files from /home/joth/projects/2014-12-20_datascibowl/competition_data/train/hydromedusae_partial_dark\n",
        "Reading files from /home/joth/projects/2014-12-20_datascibowl/competition_data/train/hydromedusae_shapeA"
       ]
      },
      {
       "output_type": "stream",
       "stream": "stdout",
       "text": [
        "\n",
        "Reading files from /home/joth/projects/2014-12-20_datascibowl/competition_data/train/hydromedusae_shapeA_sideview_small"
       ]
      },
      {
       "output_type": "stream",
       "stream": "stdout",
       "text": [
        "\n",
        "Reading files from /home/joth/projects/2014-12-20_datascibowl/competition_data/train/hydromedusae_shapeB"
       ]
      },
      {
       "output_type": "stream",
       "stream": "stdout",
       "text": [
        "\n",
        "Reading files from /home/joth/projects/2014-12-20_datascibowl/competition_data/train/hydromedusae_sideview_big"
       ]
      },
      {
       "output_type": "stream",
       "stream": "stdout",
       "text": [
        "\n",
        "Reading files from /home/joth/projects/2014-12-20_datascibowl/competition_data/train/hydromedusae_solmaris"
       ]
      },
      {
       "output_type": "stream",
       "stream": "stdout",
       "text": [
        "\n",
        "Reading files from /home/joth/projects/2014-12-20_datascibowl/competition_data/train/hydromedusae_solmundella"
       ]
      },
      {
       "output_type": "stream",
       "stream": "stdout",
       "text": [
        "\n",
        "Reading files from /home/joth/projects/2014-12-20_datascibowl/competition_data/train/hydromedusae_typeD"
       ]
      },
      {
       "output_type": "stream",
       "stream": "stdout",
       "text": [
        "\n",
        "Reading files from /home/joth/projects/2014-12-20_datascibowl/competition_data/train/hydromedusae_typeD_bell_and_tentacles\n",
        "Reading files from /home/joth/projects/2014-12-20_datascibowl/competition_data/train/hydromedusae_typeE"
       ]
      },
      {
       "output_type": "stream",
       "stream": "stdout",
       "text": [
        "\n",
        "Reading files from /home/joth/projects/2014-12-20_datascibowl/competition_data/train/hydromedusae_typeF\n",
        "Reading files from /home/joth/projects/2014-12-20_datascibowl/competition_data/train/invertebrate_larvae_other_A"
       ]
      },
      {
       "output_type": "stream",
       "stream": "stdout",
       "text": [
        "\n",
        "Reading files from /home/joth/projects/2014-12-20_datascibowl/competition_data/train/invertebrate_larvae_other_B\n",
        "Reading files from /home/joth/projects/2014-12-20_datascibowl/competition_data/train/jellies_tentacles\n",
        "Reading files from /home/joth/projects/2014-12-20_datascibowl/competition_data/train/polychaete"
       ]
      },
      {
       "output_type": "stream",
       "stream": "stdout",
       "text": [
        "\n",
        "Reading files from /home/joth/projects/2014-12-20_datascibowl/competition_data/train/protist_dark_center"
       ]
      },
      {
       "output_type": "stream",
       "stream": "stdout",
       "text": [
        "\n",
        "Reading files from /home/joth/projects/2014-12-20_datascibowl/competition_data/train/protist_fuzzy_olive"
       ]
      },
      {
       "output_type": "stream",
       "stream": "stdout",
       "text": [
        "\n",
        "Reading files from /home/joth/projects/2014-12-20_datascibowl/competition_data/train/protist_noctiluca"
       ]
      },
      {
       "output_type": "stream",
       "stream": "stdout",
       "text": [
        "\n",
        "Reading files from /home/joth/projects/2014-12-20_datascibowl/competition_data/train/protist_other"
       ]
      },
      {
       "output_type": "stream",
       "stream": "stdout",
       "text": [
        "\n",
        "Reading files from /home/joth/projects/2014-12-20_datascibowl/competition_data/train/protist_star"
       ]
      },
      {
       "output_type": "stream",
       "stream": "stdout",
       "text": [
        "\n",
        "Reading files from /home/joth/projects/2014-12-20_datascibowl/competition_data/train/pteropod_butterfly"
       ]
      },
      {
       "output_type": "stream",
       "stream": "stdout",
       "text": [
        "\n",
        "Reading files from /home/joth/projects/2014-12-20_datascibowl/competition_data/train/pteropod_theco_dev_seq"
       ]
      },
      {
       "output_type": "stream",
       "stream": "stdout",
       "text": [
        "\n",
        "Reading files from /home/joth/projects/2014-12-20_datascibowl/competition_data/train/pteropod_triangle\n",
        "Reading files from /home/joth/projects/2014-12-20_datascibowl/competition_data/train/radiolarian_chain"
       ]
      },
      {
       "output_type": "stream",
       "stream": "stdout",
       "text": [
        "\n",
        "Reading files from /home/joth/projects/2014-12-20_datascibowl/competition_data/train/radiolarian_colony"
       ]
      },
      {
       "output_type": "stream",
       "stream": "stdout",
       "text": [
        "\n",
        "Reading files from /home/joth/projects/2014-12-20_datascibowl/competition_data/train/shrimp-like_other"
       ]
      },
      {
       "output_type": "stream",
       "stream": "stdout",
       "text": [
        "\n",
        "Reading files from /home/joth/projects/2014-12-20_datascibowl/competition_data/train/shrimp_caridean\n",
        "Reading files from /home/joth/projects/2014-12-20_datascibowl/competition_data/train/shrimp_sergestidae"
       ]
      },
      {
       "output_type": "stream",
       "stream": "stdout",
       "text": [
        "\n",
        "Reading files from /home/joth/projects/2014-12-20_datascibowl/competition_data/train/shrimp_zoea"
       ]
      },
      {
       "output_type": "stream",
       "stream": "stdout",
       "text": [
        "\n",
        "Reading files from /home/joth/projects/2014-12-20_datascibowl/competition_data/train/siphonophore_calycophoran_abylidae"
       ]
      },
      {
       "output_type": "stream",
       "stream": "stdout",
       "text": [
        "\n",
        "Reading files from /home/joth/projects/2014-12-20_datascibowl/competition_data/train/siphonophore_calycophoran_rocketship_adult"
       ]
      },
      {
       "output_type": "stream",
       "stream": "stdout",
       "text": [
        "\n",
        "Reading files from /home/joth/projects/2014-12-20_datascibowl/competition_data/train/siphonophore_calycophoran_rocketship_young"
       ]
      },
      {
       "output_type": "stream",
       "stream": "stdout",
       "text": [
        "\n",
        "Reading files from /home/joth/projects/2014-12-20_datascibowl/competition_data/train/siphonophore_calycophoran_sphaeronectes"
       ]
      },
      {
       "output_type": "stream",
       "stream": "stdout",
       "text": [
        "\n",
        "Reading files from /home/joth/projects/2014-12-20_datascibowl/competition_data/train/siphonophore_calycophoran_sphaeronectes_stem"
       ]
      },
      {
       "output_type": "stream",
       "stream": "stdout",
       "text": [
        "\n",
        "Reading files from /home/joth/projects/2014-12-20_datascibowl/competition_data/train/siphonophore_calycophoran_sphaeronectes_young\n",
        "Reading files from /home/joth/projects/2014-12-20_datascibowl/competition_data/train/siphonophore_other_parts"
       ]
      },
      {
       "output_type": "stream",
       "stream": "stdout",
       "text": [
        "\n",
        "Reading files from /home/joth/projects/2014-12-20_datascibowl/competition_data/train/siphonophore_partial\n",
        "Reading files from /home/joth/projects/2014-12-20_datascibowl/competition_data/train/siphonophore_physonect\n",
        "Reading files from /home/joth/projects/2014-12-20_datascibowl/competition_data/train/siphonophore_physonect_young"
       ]
      },
      {
       "output_type": "stream",
       "stream": "stdout",
       "text": [
        "\n",
        "Reading files from /home/joth/projects/2014-12-20_datascibowl/competition_data/train/stomatopod\n",
        "Reading files from /home/joth/projects/2014-12-20_datascibowl/competition_data/train/tornaria_acorn_worm_larvae\n",
        "Reading files from /home/joth/projects/2014-12-20_datascibowl/competition_data/train/trichodesmium_bowtie"
       ]
      },
      {
       "output_type": "stream",
       "stream": "stdout",
       "text": [
        "\n",
        "Reading files from /home/joth/projects/2014-12-20_datascibowl/competition_data/train/trichodesmium_multiple"
       ]
      },
      {
       "output_type": "stream",
       "stream": "stdout",
       "text": [
        "\n",
        "Reading files from /home/joth/projects/2014-12-20_datascibowl/competition_data/train/trichodesmium_puff\n",
        "Reading files from /home/joth/projects/2014-12-20_datascibowl/competition_data/train/trichodesmium_tuft"
       ]
      },
      {
       "output_type": "stream",
       "stream": "stdout",
       "text": [
        "\n",
        "Reading files from /home/joth/projects/2014-12-20_datascibowl/competition_data/train/trochophore_larvae"
       ]
      },
      {
       "output_type": "stream",
       "stream": "stdout",
       "text": [
        "\n",
        "Reading files from /home/joth/projects/2014-12-20_datascibowl/competition_data/train/tunicate_doliolid\n",
        "Reading files from /home/joth/projects/2014-12-20_datascibowl/competition_data/train/tunicate_doliolid_nurse"
       ]
      },
      {
       "output_type": "stream",
       "stream": "stdout",
       "text": [
        "\n",
        "Reading files from /home/joth/projects/2014-12-20_datascibowl/competition_data/train/tunicate_partial"
       ]
      },
      {
       "output_type": "stream",
       "stream": "stdout",
       "text": [
        "\n",
        "Reading files from /home/joth/projects/2014-12-20_datascibowl/competition_data/train/tunicate_salp"
       ]
      },
      {
       "output_type": "stream",
       "stream": "stdout",
       "text": [
        "\n",
        "Reading files from /home/joth/projects/2014-12-20_datascibowl/competition_data/train/tunicate_salp_chains"
       ]
      },
      {
       "output_type": "stream",
       "stream": "stdout",
       "text": [
        "\n",
        "Reading files from /home/joth/projects/2014-12-20_datascibowl/competition_data/train/unknown_blobs_and_smudges"
       ]
      },
      {
       "output_type": "stream",
       "stream": "stdout",
       "text": [
        "\n",
        "Reading files from /home/joth/projects/2014-12-20_datascibowl/competition_data/train/unknown_sticks"
       ]
      },
      {
       "output_type": "stream",
       "stream": "stdout",
       "text": [
        "\n",
        "Reading files from /home/joth/projects/2014-12-20_datascibowl/competition_data/train/unknown_unclassified"
       ]
      },
      {
       "output_type": "stream",
       "stream": "stdout",
       "text": [
        "\n",
        "topo_view.shape: (5000, 32, 32, 1)"
       ]
      },
      {
       "output_type": "stream",
       "stream": "stdout",
       "text": [
        "\n",
        "NAs: 0\n",
        "compiling begin_record_entry...\n"
       ]
      },
      {
       "output_type": "stream",
       "stream": "stderr",
       "text": [
        "/home/joth/projects/2014-12-20_datascibowl/pylearn2_fork/pylearn2/utils/iteration.py:783: UserWarning: dataset is using the old iterator interface which is deprecated and will become officially unsupported as of July 28, 2015. The dataset should implement a `get` method respecting the new interface.\n",
        "  warnings.warn(\"dataset is using the old iterator interface which \"\n"
       ]
      },
      {
       "output_type": "stream",
       "stream": "stdout",
       "text": [
        "compiling begin_record_entry done. Time elapsed: 0.038511 seconds\n"
       ]
      },
      {
       "output_type": "stream",
       "stream": "stdout",
       "text": [
        "Monitored channels: \n"
       ]
      },
      {
       "output_type": "stream",
       "stream": "stdout",
       "text": [
        "\tave_grad_mult\n"
       ]
      },
      {
       "output_type": "stream",
       "stream": "stdout",
       "text": [
        "\tave_grad_size\n"
       ]
      },
      {
       "output_type": "stream",
       "stream": "stdout",
       "text": [
        "\tave_step_size\n"
       ]
      },
      {
       "output_type": "stream",
       "stream": "stdout",
       "text": [
        "\ttotal_seconds_last_epoch\n"
       ]
      },
      {
       "output_type": "stream",
       "stream": "stdout",
       "text": [
        "\ttrain_objective\n"
       ]
      },
      {
       "output_type": "stream",
       "stream": "stdout",
       "text": [
        "\ttrain_y_col_norms_max\n"
       ]
      },
      {
       "output_type": "stream",
       "stream": "stdout",
       "text": [
        "\ttrain_y_col_norms_mean\n"
       ]
      },
      {
       "output_type": "stream",
       "stream": "stdout",
       "text": [
        "\ttrain_y_col_norms_min\n"
       ]
      },
      {
       "output_type": "stream",
       "stream": "stdout",
       "text": [
        "\ttrain_y_max_max_class\n"
       ]
      },
      {
       "output_type": "stream",
       "stream": "stdout",
       "text": [
        "\ttrain_y_mean_max_class\n"
       ]
      },
      {
       "output_type": "stream",
       "stream": "stdout",
       "text": [
        "\ttrain_y_min_max_class\n"
       ]
      },
      {
       "output_type": "stream",
       "stream": "stdout",
       "text": [
        "\ttrain_y_misclass\n"
       ]
      },
      {
       "output_type": "stream",
       "stream": "stdout",
       "text": [
        "\ttrain_y_nll\n"
       ]
      },
      {
       "output_type": "stream",
       "stream": "stdout",
       "text": [
        "\ttrain_y_row_norms_max\n"
       ]
      },
      {
       "output_type": "stream",
       "stream": "stdout",
       "text": [
        "\ttrain_y_row_norms_mean\n"
       ]
      },
      {
       "output_type": "stream",
       "stream": "stdout",
       "text": [
        "\ttrain_y_row_norms_min\n"
       ]
      },
      {
       "output_type": "stream",
       "stream": "stdout",
       "text": [
        "\ttraining_seconds_this_epoch\n"
       ]
      },
      {
       "output_type": "stream",
       "stream": "stdout",
       "text": [
        "\tvalid_objective\n"
       ]
      },
      {
       "output_type": "stream",
       "stream": "stdout",
       "text": [
        "\tvalid_y_col_norms_max\n"
       ]
      },
      {
       "output_type": "stream",
       "stream": "stdout",
       "text": [
        "\tvalid_y_col_norms_mean\n"
       ]
      },
      {
       "output_type": "stream",
       "stream": "stdout",
       "text": [
        "\tvalid_y_col_norms_min\n"
       ]
      },
      {
       "output_type": "stream",
       "stream": "stdout",
       "text": [
        "\tvalid_y_max_max_class\n"
       ]
      },
      {
       "output_type": "stream",
       "stream": "stdout",
       "text": [
        "\tvalid_y_mean_max_class\n"
       ]
      },
      {
       "output_type": "stream",
       "stream": "stdout",
       "text": [
        "\tvalid_y_min_max_class\n"
       ]
      },
      {
       "output_type": "stream",
       "stream": "stdout",
       "text": [
        "\tvalid_y_misclass\n"
       ]
      },
      {
       "output_type": "stream",
       "stream": "stdout",
       "text": [
        "\tvalid_y_nll\n"
       ]
      },
      {
       "output_type": "stream",
       "stream": "stdout",
       "text": [
        "\tvalid_y_row_norms_max\n"
       ]
      },
      {
       "output_type": "stream",
       "stream": "stdout",
       "text": [
        "\tvalid_y_row_norms_mean\n"
       ]
      },
      {
       "output_type": "stream",
       "stream": "stdout",
       "text": [
        "\tvalid_y_row_norms_min\n"
       ]
      },
      {
       "output_type": "stream",
       "stream": "stdout",
       "text": [
        "Compiling accum...\n"
       ]
      },
      {
       "output_type": "stream",
       "stream": "stdout",
       "text": [
        "graph size: 112\n"
       ]
      },
      {
       "output_type": "stream",
       "stream": "stdout",
       "text": [
        "graph size: 97\n"
       ]
      },
      {
       "output_type": "stream",
       "stream": "stdout",
       "text": [
        "Compiling accum done. Time elapsed: 0.235677 seconds\n"
       ]
      },
      {
       "output_type": "stream",
       "stream": "stdout",
       "text": [
        "Monitoring step:\n"
       ]
      },
      {
       "output_type": "stream",
       "stream": "stdout",
       "text": [
        "\tEpochs seen: 0\n"
       ]
      },
      {
       "output_type": "stream",
       "stream": "stdout",
       "text": [
        "\tBatches seen: 0\n"
       ]
      },
      {
       "output_type": "stream",
       "stream": "stdout",
       "text": [
        "\tExamples seen: 0\n"
       ]
      },
      {
       "output_type": "stream",
       "stream": "stdout",
       "text": [
        "\tave_grad_mult: 0.0\n"
       ]
      },
      {
       "output_type": "stream",
       "stream": "stdout",
       "text": [
        "\tave_grad_size: 0.0\n"
       ]
      },
      {
       "output_type": "stream",
       "stream": "stdout",
       "text": [
        "\tave_step_size: 0.0\n"
       ]
      },
      {
       "output_type": "stream",
       "stream": "stdout",
       "text": [
        "\ttotal_seconds_last_epoch: 0.0\n"
       ]
      },
      {
       "output_type": "stream",
       "stream": "stdout",
       "text": [
        "\ttrain_objective: 5.9440710993\n"
       ]
      },
      {
       "output_type": "stream",
       "stream": "stdout",
       "text": [
        "\ttrain_y_col_norms_max: 1.92106619387\n"
       ]
      },
      {
       "output_type": "stream",
       "stream": "stdout",
       "text": [
        "\ttrain_y_col_norms_mean: 1.85144205497\n"
       ]
      },
      {
       "output_type": "stream",
       "stream": "stdout",
       "text": [
        "\ttrain_y_col_norms_min: 1.79090094004\n"
       ]
      },
      {
       "output_type": "stream",
       "stream": "stdout",
       "text": [
        "\ttrain_y_max_max_class: 0.223872892007\n"
       ]
      },
      {
       "output_type": "stream",
       "stream": "stdout",
       "text": [
        "\ttrain_y_mean_max_class: 0.114386466667\n"
       ]
      },
      {
       "output_type": "stream",
       "stream": "stdout",
       "text": [
        "\ttrain_y_min_max_class: 0.0652031628345\n"
       ]
      },
      {
       "output_type": "stream",
       "stream": "stdout",
       "text": [
        "\ttrain_y_misclass: 0.97072\n"
       ]
      },
      {
       "output_type": "stream",
       "stream": "stdout",
       "text": [
        "\ttrain_y_nll: 5.9440710993\n"
       ]
      },
      {
       "output_type": "stream",
       "stream": "stdout",
       "text": [
        "\ttrain_y_row_norms_max: 0.725485213949\n"
       ]
      },
      {
       "output_type": "stream",
       "stream": "stdout",
       "text": [
        "\ttrain_y_row_norms_mean: 0.635971985354\n"
       ]
      },
      {
       "output_type": "stream",
       "stream": "stdout",
       "text": [
        "\ttrain_y_row_norms_min: 0.541832951692\n"
       ]
      },
      {
       "output_type": "stream",
       "stream": "stdout",
       "text": [
        "\ttraining_seconds_this_epoch: 0.0\n"
       ]
      },
      {
       "output_type": "stream",
       "stream": "stdout",
       "text": [
        "\tvalid_objective: 5.92876661432\n"
       ]
      },
      {
       "output_type": "stream",
       "stream": "stdout",
       "text": [
        "\tvalid_y_col_norms_max: 1.92106619387\n"
       ]
      },
      {
       "output_type": "stream",
       "stream": "stdout",
       "text": [
        "\tvalid_y_col_norms_mean: 1.85144205497\n"
       ]
      },
      {
       "output_type": "stream",
       "stream": "stdout",
       "text": [
        "\tvalid_y_col_norms_min: 1.79090094004\n"
       ]
      },
      {
       "output_type": "stream",
       "stream": "stdout",
       "text": [
        "\tvalid_y_max_max_class: 0.252430215602\n"
       ]
      },
      {
       "output_type": "stream",
       "stream": "stdout",
       "text": [
        "\tvalid_y_mean_max_class: 0.108115547517\n"
       ]
      },
      {
       "output_type": "stream",
       "stream": "stdout",
       "text": [
        "\tvalid_y_min_max_class: 0.0622030799828\n"
       ]
      },
      {
       "output_type": "stream",
       "stream": "stdout",
       "text": [
        "\tvalid_y_misclass: 0.999\n"
       ]
      },
      {
       "output_type": "stream",
       "stream": "stdout",
       "text": [
        "\tvalid_y_nll: 5.92876661432\n"
       ]
      },
      {
       "output_type": "stream",
       "stream": "stdout",
       "text": [
        "\tvalid_y_row_norms_max: 0.725485213949\n"
       ]
      },
      {
       "output_type": "stream",
       "stream": "stdout",
       "text": [
        "\tvalid_y_row_norms_mean: 0.635971985354\n"
       ]
      },
      {
       "output_type": "stream",
       "stream": "stdout",
       "text": [
        "\tvalid_y_row_norms_min: 0.541832951692\n"
       ]
      },
      {
       "output_type": "stream",
       "stream": "stdout",
       "text": [
        "Saving to softmax_regression_best.pkl...\n"
       ]
      },
      {
       "output_type": "stream",
       "stream": "stdout",
       "text": [
        "Saving to softmax_regression_best.pkl done. Time elapsed: 0.120865 seconds\n"
       ]
      },
      {
       "output_type": "stream",
       "stream": "stdout",
       "text": [
        "Time this epoch: 0:06:47.045808\n"
       ]
      },
      {
       "output_type": "stream",
       "stream": "stdout",
       "text": [
        "Monitoring step:\n"
       ]
      },
      {
       "output_type": "stream",
       "stream": "stdout",
       "text": [
        "\tEpochs seen: 1\n"
       ]
      },
      {
       "output_type": "stream",
       "stream": "stdout",
       "text": [
        "\tBatches seen: 5\n"
       ]
      },
      {
       "output_type": "stream",
       "stream": "stdout",
       "text": [
        "\tExamples seen: 25000\n"
       ]
      },
      {
       "output_type": "stream",
       "stream": "stdout",
       "text": [
        "\tave_grad_mult: 0.0692868251305\n"
       ]
      },
      {
       "output_type": "stream",
       "stream": "stdout",
       "text": [
        "\tave_grad_size: 4.13738786991\n"
       ]
      },
      {
       "output_type": "stream",
       "stream": "stdout",
       "text": [
        "\tave_step_size: 0.321224100139\n"
       ]
      },
      {
       "output_type": "stream",
       "stream": "stdout",
       "text": [
        "\ttotal_seconds_last_epoch: 0.0\n"
       ]
      },
      {
       "output_type": "stream",
       "stream": "stdout",
       "text": [
        "\ttrain_objective: 3.87742446263\n"
       ]
      },
      {
       "output_type": "stream",
       "stream": "stdout",
       "text": [
        "\ttrain_y_col_norms_max: 1.92003547827\n"
       ]
      },
      {
       "output_type": "stream",
       "stream": "stdout",
       "text": [
        "\ttrain_y_col_norms_mean: 1.85249794687\n"
       ]
      },
      {
       "output_type": "stream",
       "stream": "stdout",
       "text": [
        "\ttrain_y_col_norms_min: 1.79676316841\n"
       ]
      },
      {
       "output_type": "stream",
       "stream": "stdout",
       "text": [
        "\ttrain_y_max_max_class: 0.282669563154\n"
       ]
      },
      {
       "output_type": "stream",
       "stream": "stdout",
       "text": [
        "\ttrain_y_mean_max_class: 0.0758068024956\n"
       ]
      },
      {
       "output_type": "stream",
       "stream": "stdout",
       "text": [
        "\ttrain_y_min_max_class: 0.0430055225184\n"
       ]
      },
      {
       "output_type": "stream",
       "stream": "stdout",
       "text": [
        "\ttrain_y_misclass: 0.89232\n"
       ]
      },
      {
       "output_type": "stream",
       "stream": "stdout",
       "text": [
        "\ttrain_y_nll: 3.87742446263\n"
       ]
      },
      {
       "output_type": "stream",
       "stream": "stdout",
       "text": [
        "\ttrain_y_row_norms_max: 0.726633435529\n"
       ]
      },
      {
       "output_type": "stream",
       "stream": "stdout",
       "text": [
        "\ttrain_y_row_norms_mean: 0.636327950848\n"
       ]
      },
      {
       "output_type": "stream",
       "stream": "stdout",
       "text": [
        "\ttrain_y_row_norms_min: 0.539542833293\n"
       ]
      },
      {
       "output_type": "stream",
       "stream": "stdout",
       "text": [
        "\ttraining_seconds_this_epoch: 407.045808\n"
       ]
      },
      {
       "output_type": "stream",
       "stream": "stdout",
       "text": [
        "\tvalid_objective: 8.45767792279\n"
       ]
      },
      {
       "output_type": "stream",
       "stream": "stdout",
       "text": [
        "\tvalid_y_col_norms_max: 1.92003547827\n"
       ]
      },
      {
       "output_type": "stream",
       "stream": "stdout",
       "text": [
        "\tvalid_y_col_norms_mean: 1.85249794687\n"
       ]
      },
      {
       "output_type": "stream",
       "stream": "stdout",
       "text": [
        "\tvalid_y_col_norms_min: 1.79676316841\n"
       ]
      },
      {
       "output_type": "stream",
       "stream": "stdout",
       "text": [
        "\tvalid_y_max_max_class: 0.263036570789\n"
       ]
      },
      {
       "output_type": "stream",
       "stream": "stdout",
       "text": [
        "\tvalid_y_mean_max_class: 0.0755260338032\n"
       ]
      },
      {
       "output_type": "stream",
       "stream": "stdout",
       "text": [
        "\tvalid_y_min_max_class: 0.0426992165475\n"
       ]
      },
      {
       "output_type": "stream",
       "stream": "stdout",
       "text": [
        "\tvalid_y_misclass: 1.0\n"
       ]
      },
      {
       "output_type": "stream",
       "stream": "stdout",
       "text": [
        "\tvalid_y_nll: 8.45767792279\n"
       ]
      },
      {
       "output_type": "stream",
       "stream": "stdout",
       "text": [
        "\tvalid_y_row_norms_max: 0.726633435529\n"
       ]
      },
      {
       "output_type": "stream",
       "stream": "stdout",
       "text": [
        "\tvalid_y_row_norms_mean: 0.636327950848\n"
       ]
      },
      {
       "output_type": "stream",
       "stream": "stdout",
       "text": [
        "\tvalid_y_row_norms_min: 0.539542833293\n"
       ]
      },
      {
       "output_type": "stream",
       "stream": "stdout",
       "text": [
        "Saving to softmax_regression.pkl...\n"
       ]
      },
      {
       "output_type": "stream",
       "stream": "stdout",
       "text": [
        "Saving to softmax_regression.pkl done. Time elapsed: 0.121729 seconds\n"
       ]
      },
      {
       "output_type": "stream",
       "stream": "stdout",
       "text": [
        "Time this epoch: 0:06:41.583844\n"
       ]
      },
      {
       "output_type": "stream",
       "stream": "stdout",
       "text": [
        "Monitoring step:\n"
       ]
      },
      {
       "output_type": "stream",
       "stream": "stdout",
       "text": [
        "\tEpochs seen: 2\n"
       ]
      },
      {
       "output_type": "stream",
       "stream": "stdout",
       "text": [
        "\tBatches seen: 10\n"
       ]
      },
      {
       "output_type": "stream",
       "stream": "stdout",
       "text": [
        "\tExamples seen: 50000\n"
       ]
      },
      {
       "output_type": "stream",
       "stream": "stdout",
       "text": [
        "\tave_grad_mult: 0.0618640149563\n"
       ]
      },
      {
       "output_type": "stream",
       "stream": "stdout",
       "text": [
        "\tave_grad_size: 2.72021548385\n"
       ]
      },
      {
       "output_type": "stream",
       "stream": "stdout",
       "text": [
        "\tave_step_size: 0.205106338428\n"
       ]
      },
      {
       "output_type": "stream",
       "stream": "stdout",
       "text": [
        "\ttotal_seconds_last_epoch: 410.579283\n"
       ]
      },
      {
       "output_type": "stream",
       "stream": "stdout",
       "text": [
        "\ttrain_objective: 3.73998751391\n"
       ]
      },
      {
       "output_type": "stream",
       "stream": "stdout",
       "text": [
        "\ttrain_y_col_norms_max: 1.95754166109\n"
       ]
      },
      {
       "output_type": "stream",
       "stream": "stdout",
       "text": [
        "\ttrain_y_col_norms_mean: 1.85700871749\n"
       ]
      },
      {
       "output_type": "stream",
       "stream": "stdout",
       "text": [
        "\ttrain_y_col_norms_min: 1.80038664125\n"
       ]
      },
      {
       "output_type": "stream",
       "stream": "stdout",
       "text": [
        "\ttrain_y_max_max_class: 0.501771912698\n"
       ]
      },
      {
       "output_type": "stream",
       "stream": "stdout",
       "text": [
        "\ttrain_y_mean_max_class: 0.0984125712369\n"
       ]
      },
      {
       "output_type": "stream",
       "stream": "stdout",
       "text": [
        "\ttrain_y_min_max_class: 0.0452117449036\n"
       ]
      },
      {
       "output_type": "stream",
       "stream": "stdout",
       "text": [
        "\ttrain_y_misclass: 0.88028\n"
       ]
      },
      {
       "output_type": "stream",
       "stream": "stdout",
       "text": [
        "\ttrain_y_nll: 3.73998751391\n"
       ]
      },
      {
       "output_type": "stream",
       "stream": "stdout",
       "text": [
        "\ttrain_y_row_norms_max: 0.727548391677\n"
       ]
      },
      {
       "output_type": "stream",
       "stream": "stdout",
       "text": [
        "\ttrain_y_row_norms_mean: 0.63786886708\n"
       ]
      },
      {
       "output_type": "stream",
       "stream": "stdout",
       "text": [
        "\ttrain_y_row_norms_min: 0.539957110403\n"
       ]
      },
      {
       "output_type": "stream",
       "stream": "stdout",
       "text": [
        "\ttraining_seconds_this_epoch: 401.583844\n"
       ]
      },
      {
       "output_type": "stream",
       "stream": "stdout",
       "text": [
        "\tvalid_objective: 9.12132429437\n"
       ]
      },
      {
       "output_type": "stream",
       "stream": "stdout",
       "text": [
        "\tvalid_y_col_norms_max: 1.95754166109\n"
       ]
      },
      {
       "output_type": "stream",
       "stream": "stdout",
       "text": [
        "\tvalid_y_col_norms_mean: 1.85700871749\n"
       ]
      },
      {
       "output_type": "stream",
       "stream": "stdout",
       "text": [
        "\tvalid_y_col_norms_min: 1.80038664125\n"
       ]
      },
      {
       "output_type": "stream",
       "stream": "stdout",
       "text": [
        "\tvalid_y_max_max_class: 0.478737835865\n"
       ]
      },
      {
       "output_type": "stream",
       "stream": "stdout",
       "text": [
        "\tvalid_y_mean_max_class: 0.0981213686279\n"
       ]
      },
      {
       "output_type": "stream",
       "stream": "stdout",
       "text": [
        "\tvalid_y_min_max_class: 0.044577712514\n"
       ]
      },
      {
       "output_type": "stream",
       "stream": "stdout",
       "text": [
        "\tvalid_y_misclass: 0.999\n"
       ]
      },
      {
       "output_type": "stream",
       "stream": "stdout",
       "text": [
        "\tvalid_y_nll: 9.12132429437\n"
       ]
      },
      {
       "output_type": "stream",
       "stream": "stdout",
       "text": [
        "\tvalid_y_row_norms_max: 0.727548391677\n"
       ]
      },
      {
       "output_type": "stream",
       "stream": "stdout",
       "text": [
        "\tvalid_y_row_norms_mean: 0.63786886708\n"
       ]
      },
      {
       "output_type": "stream",
       "stream": "stdout",
       "text": [
        "\tvalid_y_row_norms_min: 0.539957110403\n"
       ]
      },
      {
       "output_type": "stream",
       "stream": "stdout",
       "text": [
        "Saving to softmax_regression.pkl...\n"
       ]
      },
      {
       "output_type": "stream",
       "stream": "stdout",
       "text": [
        "Saving to softmax_regression.pkl done. Time elapsed: 0.122529 seconds\n"
       ]
      },
      {
       "output_type": "stream",
       "stream": "stdout",
       "text": [
        "Time this epoch: 0:06:43.574210\n"
       ]
      },
      {
       "output_type": "stream",
       "stream": "stdout",
       "text": [
        "Monitoring step:\n"
       ]
      },
      {
       "output_type": "stream",
       "stream": "stdout",
       "text": [
        "\tEpochs seen: 3\n"
       ]
      },
      {
       "output_type": "stream",
       "stream": "stdout",
       "text": [
        "\tBatches seen: 15\n"
       ]
      },
      {
       "output_type": "stream",
       "stream": "stdout",
       "text": [
        "\tExamples seen: 75000\n"
       ]
      },
      {
       "output_type": "stream",
       "stream": "stdout",
       "text": [
        "\tave_grad_mult: 0.0585319131613\n"
       ]
      },
      {
       "output_type": "stream",
       "stream": "stdout",
       "text": [
        "\tave_grad_size: 1.83731527279\n"
       ]
      },
      {
       "output_type": "stream",
       "stream": "stdout",
       "text": [
        "\tave_step_size: 0.133916463355\n"
       ]
      },
      {
       "output_type": "stream",
       "stream": "stdout",
       "text": [
        "\ttotal_seconds_last_epoch: 405.206537\n"
       ]
      },
      {
       "output_type": "stream",
       "stream": "stdout",
       "text": [
        "\ttrain_objective: 3.62940187848\n"
       ]
      },
      {
       "output_type": "stream",
       "stream": "stdout",
       "text": [
        "\ttrain_y_col_norms_max: 2.01586062343\n"
       ]
      },
      {
       "output_type": "stream",
       "stream": "stdout",
       "text": [
        "\ttrain_y_col_norms_mean: 1.86350486247\n"
       ]
      },
      {
       "output_type": "stream",
       "stream": "stdout",
       "text": [
        "\ttrain_y_col_norms_min: 1.80034843002\n"
       ]
      },
      {
       "output_type": "stream",
       "stream": "stdout",
       "text": [
        "\ttrain_y_max_max_class: 0.56826478496\n"
       ]
      },
      {
       "output_type": "stream",
       "stream": "stdout",
       "text": [
        "\ttrain_y_mean_max_class: 0.100415245569\n"
       ]
      },
      {
       "output_type": "stream",
       "stream": "stdout",
       "text": [
        "\ttrain_y_min_max_class: 0.0433749997268\n"
       ]
      },
      {
       "output_type": "stream",
       "stream": "stdout",
       "text": [
        "\ttrain_y_misclass: 0.84372\n"
       ]
      },
      {
       "output_type": "stream",
       "stream": "stdout",
       "text": [
        "\ttrain_y_nll: 3.62940187848\n"
       ]
      },
      {
       "output_type": "stream",
       "stream": "stdout",
       "text": [
        "\ttrain_y_row_norms_max: 0.728180088859\n"
       ]
      },
      {
       "output_type": "stream",
       "stream": "stdout",
       "text": [
        "\ttrain_y_row_norms_mean: 0.640087481707\n"
       ]
      },
      {
       "output_type": "stream",
       "stream": "stdout",
       "text": [
        "\ttrain_y_row_norms_min: 0.540318445783\n"
       ]
      },
      {
       "output_type": "stream",
       "stream": "stdout",
       "text": [
        "\ttraining_seconds_this_epoch: 403.57421\n"
       ]
      },
      {
       "output_type": "stream",
       "stream": "stdout",
       "text": [
        "\tvalid_objective: 9.50211390202\n"
       ]
      },
      {
       "output_type": "stream",
       "stream": "stdout",
       "text": [
        "\tvalid_y_col_norms_max: 2.01586062343\n"
       ]
      },
      {
       "output_type": "stream",
       "stream": "stdout",
       "text": [
        "\tvalid_y_col_norms_mean: 1.86350486247\n"
       ]
      },
      {
       "output_type": "stream",
       "stream": "stdout",
       "text": [
        "\tvalid_y_col_norms_min: 1.80034843002\n"
       ]
      },
      {
       "output_type": "stream",
       "stream": "stdout",
       "text": [
        "\tvalid_y_max_max_class: 0.542945977163\n"
       ]
      },
      {
       "output_type": "stream",
       "stream": "stdout",
       "text": [
        "\tvalid_y_mean_max_class: 0.108677790525\n"
       ]
      },
      {
       "output_type": "stream",
       "stream": "stdout",
       "text": [
        "\tvalid_y_min_max_class: 0.042219395042\n"
       ]
      },
      {
       "output_type": "stream",
       "stream": "stdout",
       "text": [
        "\tvalid_y_misclass: 0.9964\n"
       ]
      },
      {
       "output_type": "stream",
       "stream": "stdout",
       "text": [
        "\tvalid_y_nll: 9.50211390202\n"
       ]
      },
      {
       "output_type": "stream",
       "stream": "stdout",
       "text": [
        "\tvalid_y_row_norms_max: 0.728180088859\n"
       ]
      },
      {
       "output_type": "stream",
       "stream": "stdout",
       "text": [
        "\tvalid_y_row_norms_mean: 0.640087481707\n"
       ]
      },
      {
       "output_type": "stream",
       "stream": "stdout",
       "text": [
        "\tvalid_y_row_norms_min: 0.540318445783\n"
       ]
      },
      {
       "output_type": "stream",
       "stream": "stdout",
       "text": [
        "Saving to softmax_regression_best.pkl...\n"
       ]
      },
      {
       "output_type": "stream",
       "stream": "stdout",
       "text": [
        "Saving to softmax_regression_best.pkl done. Time elapsed: 0.123297 seconds\n"
       ]
      },
      {
       "output_type": "stream",
       "stream": "stdout",
       "text": [
        "Saving to softmax_regression.pkl...\n"
       ]
      },
      {
       "output_type": "stream",
       "stream": "stdout",
       "text": [
        "Saving to softmax_regression.pkl done. Time elapsed: 0.121709 seconds\n"
       ]
      },
      {
       "output_type": "stream",
       "stream": "stdout",
       "text": [
        "Time this epoch: 0:06:41.036963\n"
       ]
      },
      {
       "output_type": "stream",
       "stream": "stdout",
       "text": [
        "Monitoring step:\n"
       ]
      },
      {
       "output_type": "stream",
       "stream": "stdout",
       "text": [
        "\tEpochs seen: 4\n"
       ]
      },
      {
       "output_type": "stream",
       "stream": "stdout",
       "text": [
        "\tBatches seen: 20\n"
       ]
      },
      {
       "output_type": "stream",
       "stream": "stdout",
       "text": [
        "\tExamples seen: 100000\n"
       ]
      },
      {
       "output_type": "stream",
       "stream": "stdout",
       "text": [
        "\tave_grad_mult: 0.055856881832\n"
       ]
      },
      {
       "output_type": "stream",
       "stream": "stdout",
       "text": [
        "\tave_grad_size: 1.2937865563\n"
       ]
      },
      {
       "output_type": "stream",
       "stream": "stdout",
       "text": [
        "\tave_step_size: 0.0901260086205\n"
       ]
      },
      {
       "output_type": "stream",
       "stream": "stdout",
       "text": [
        "\ttotal_seconds_last_epoch: 407.241528\n"
       ]
      },
      {
       "output_type": "stream",
       "stream": "stdout",
       "text": [
        "\ttrain_objective: 3.54896145877\n"
       ]
      },
      {
       "output_type": "stream",
       "stream": "stdout",
       "text": [
        "\ttrain_y_col_norms_max: 2.07056004716\n"
       ]
      },
      {
       "output_type": "stream",
       "stream": "stdout",
       "text": [
        "\ttrain_y_col_norms_mean: 1.87084884326\n"
       ]
      },
      {
       "output_type": "stream",
       "stream": "stdout",
       "text": [
        "\ttrain_y_col_norms_min: 1.80130507652\n"
       ]
      },
      {
       "output_type": "stream",
       "stream": "stdout",
       "text": [
        "\ttrain_y_max_max_class: 0.591009649292\n"
       ]
      },
      {
       "output_type": "stream",
       "stream": "stdout",
       "text": [
        "\ttrain_y_mean_max_class: 0.103541139622\n"
       ]
      },
      {
       "output_type": "stream",
       "stream": "stdout",
       "text": [
        "\ttrain_y_min_max_class: 0.0411091117943\n"
       ]
      },
      {
       "output_type": "stream",
       "stream": "stdout",
       "text": [
        "\ttrain_y_misclass: 0.81176\n"
       ]
      },
      {
       "output_type": "stream",
       "stream": "stdout",
       "text": [
        "\ttrain_y_nll: 3.54896145877\n"
       ]
      },
      {
       "output_type": "stream",
       "stream": "stdout",
       "text": [
        "\ttrain_y_row_norms_max: 0.749768710248\n"
       ]
      },
      {
       "output_type": "stream",
       "stream": "stdout",
       "text": [
        "\ttrain_y_row_norms_mean: 0.642595168838\n"
       ]
      },
      {
       "output_type": "stream",
       "stream": "stdout",
       "text": [
        "\ttrain_y_row_norms_min: 0.540943918369\n"
       ]
      },
      {
       "output_type": "stream",
       "stream": "stdout",
       "text": [
        "\ttraining_seconds_this_epoch: 401.036963\n"
       ]
      },
      {
       "output_type": "stream",
       "stream": "stdout",
       "text": [
        "\tvalid_objective: 9.85819320584\n"
       ]
      },
      {
       "output_type": "stream",
       "stream": "stdout",
       "text": [
        "\tvalid_y_col_norms_max: 2.07056004716\n"
       ]
      },
      {
       "output_type": "stream",
       "stream": "stdout",
       "text": [
        "\tvalid_y_col_norms_mean: 1.87084884326\n"
       ]
      },
      {
       "output_type": "stream",
       "stream": "stdout",
       "text": [
        "\tvalid_y_col_norms_min: 1.80130507652\n"
       ]
      },
      {
       "output_type": "stream",
       "stream": "stdout",
       "text": [
        "\tvalid_y_max_max_class: 0.559651258246\n"
       ]
      },
      {
       "output_type": "stream",
       "stream": "stdout",
       "text": [
        "\tvalid_y_mean_max_class: 0.117652717158\n"
       ]
      },
      {
       "output_type": "stream",
       "stream": "stdout",
       "text": [
        "\tvalid_y_min_max_class: 0.0410088220156\n"
       ]
      },
      {
       "output_type": "stream",
       "stream": "stdout",
       "text": [
        "\tvalid_y_misclass: 0.9954\n"
       ]
      },
      {
       "output_type": "stream",
       "stream": "stdout",
       "text": [
        "\tvalid_y_nll: 9.85819320584\n"
       ]
      },
      {
       "output_type": "stream",
       "stream": "stdout",
       "text": [
        "\tvalid_y_row_norms_max: 0.749768710248\n"
       ]
      },
      {
       "output_type": "stream",
       "stream": "stdout",
       "text": [
        "\tvalid_y_row_norms_mean: 0.642595168838\n"
       ]
      },
      {
       "output_type": "stream",
       "stream": "stdout",
       "text": [
        "\tvalid_y_row_norms_min: 0.540943918369\n"
       ]
      },
      {
       "output_type": "stream",
       "stream": "stdout",
       "text": [
        "Saving to softmax_regression_best.pkl...\n"
       ]
      },
      {
       "output_type": "stream",
       "stream": "stdout",
       "text": [
        "Saving to softmax_regression_best.pkl done. Time elapsed: 0.122598 seconds\n"
       ]
      },
      {
       "output_type": "stream",
       "stream": "stdout",
       "text": [
        "Saving to softmax_regression.pkl...\n"
       ]
      },
      {
       "output_type": "stream",
       "stream": "stdout",
       "text": [
        "Saving to softmax_regression.pkl done. Time elapsed: 0.114417 seconds\n"
       ]
      },
      {
       "output_type": "stream",
       "stream": "stdout",
       "text": [
        "Time this epoch: 0:06:44.830848\n"
       ]
      },
      {
       "output_type": "stream",
       "stream": "stdout",
       "text": [
        "Monitoring step:\n"
       ]
      },
      {
       "output_type": "stream",
       "stream": "stdout",
       "text": [
        "\tEpochs seen: 5\n"
       ]
      },
      {
       "output_type": "stream",
       "stream": "stdout",
       "text": [
        "\tBatches seen: 25\n"
       ]
      },
      {
       "output_type": "stream",
       "stream": "stdout",
       "text": [
        "\tExamples seen: 125000\n"
       ]
      },
      {
       "output_type": "stream",
       "stream": "stdout",
       "text": [
        "\tave_grad_mult: 0.053892740286\n"
       ]
      },
      {
       "output_type": "stream",
       "stream": "stdout",
       "text": [
        "\tave_grad_size: 0.953411753984\n"
       ]
      },
      {
       "output_type": "stream",
       "stream": "stdout",
       "text": [
        "\tave_step_size: 0.0629476883997\n"
       ]
      },
      {
       "output_type": "stream",
       "stream": "stdout",
       "text": [
        "\ttotal_seconds_last_epoch: 404.637634\n"
       ]
      },
      {
       "output_type": "stream",
       "stream": "stdout",
       "text": [
        "\ttrain_objective: 3.48332570853\n"
       ]
      },
      {
       "output_type": "stream",
       "stream": "stdout",
       "text": [
        "\ttrain_y_col_norms_max: 2.1203547876\n"
       ]
      },
      {
       "output_type": "stream",
       "stream": "stdout",
       "text": [
        "\ttrain_y_col_norms_mean: 1.87858611455\n"
       ]
      },
      {
       "output_type": "stream",
       "stream": "stdout",
       "text": [
        "\ttrain_y_col_norms_min: 1.8018762801\n"
       ]
      },
      {
       "output_type": "stream",
       "stream": "stdout",
       "text": [
        "\ttrain_y_max_max_class: 0.625133507156\n"
       ]
      },
      {
       "output_type": "stream",
       "stream": "stdout",
       "text": [
        "\ttrain_y_mean_max_class: 0.111848391885\n"
       ]
      },
      {
       "output_type": "stream",
       "stream": "stdout",
       "text": [
        "\ttrain_y_min_max_class: 0.0422160309419\n"
       ]
      },
      {
       "output_type": "stream",
       "stream": "stdout",
       "text": [
        "\ttrain_y_misclass: 0.78704\n"
       ]
      },
      {
       "output_type": "stream",
       "stream": "stdout",
       "text": [
        "\ttrain_y_nll: 3.48332570853\n"
       ]
      },
      {
       "output_type": "stream",
       "stream": "stdout",
       "text": [
        "\ttrain_y_row_norms_max: 0.770841556248\n"
       ]
      },
      {
       "output_type": "stream",
       "stream": "stdout",
       "text": [
        "\ttrain_y_row_norms_mean: 0.645238022384\n"
       ]
      },
      {
       "output_type": "stream",
       "stream": "stdout",
       "text": [
        "\ttrain_y_row_norms_min: 0.541627116203\n"
       ]
      },
      {
       "output_type": "stream",
       "stream": "stdout",
       "text": [
        "\ttraining_seconds_this_epoch: 404.830848\n"
       ]
      },
      {
       "output_type": "stream",
       "stream": "stdout",
       "text": [
        "\tvalid_objective: 10.1272850006\n"
       ]
      },
      {
       "output_type": "stream",
       "stream": "stdout",
       "text": [
        "\tvalid_y_col_norms_max: 2.1203547876\n"
       ]
      },
      {
       "output_type": "stream",
       "stream": "stdout",
       "text": [
        "\tvalid_y_col_norms_mean: 1.87858611455\n"
       ]
      },
      {
       "output_type": "stream",
       "stream": "stdout",
       "text": [
        "\tvalid_y_col_norms_min: 1.8018762801\n"
       ]
      },
      {
       "output_type": "stream",
       "stream": "stdout",
       "text": [
        "\tvalid_y_max_max_class: 0.643424234128\n"
       ]
      },
      {
       "output_type": "stream",
       "stream": "stdout",
       "text": [
        "\tvalid_y_mean_max_class: 0.130752330513\n"
       ]
      },
      {
       "output_type": "stream",
       "stream": "stdout",
       "text": [
        "\tvalid_y_min_max_class: 0.0417364145023\n"
       ]
      },
      {
       "output_type": "stream",
       "stream": "stdout",
       "text": [
        "\tvalid_y_misclass: 0.992\n"
       ]
      },
      {
       "output_type": "stream",
       "stream": "stdout",
       "text": [
        "\tvalid_y_nll: 10.1272850006\n"
       ]
      },
      {
       "output_type": "stream",
       "stream": "stdout",
       "text": [
        "\tvalid_y_row_norms_max: 0.770841556248\n"
       ]
      },
      {
       "output_type": "stream",
       "stream": "stdout",
       "text": [
        "\tvalid_y_row_norms_mean: 0.645238022384\n"
       ]
      },
      {
       "output_type": "stream",
       "stream": "stdout",
       "text": [
        "\tvalid_y_row_norms_min: 0.541627116203\n"
       ]
      },
      {
       "output_type": "stream",
       "stream": "stdout",
       "text": [
        "Saving to softmax_regression_best.pkl...\n"
       ]
      },
      {
       "output_type": "stream",
       "stream": "stdout",
       "text": [
        "Saving to softmax_regression_best.pkl done. Time elapsed: 0.123137 seconds\n"
       ]
      },
      {
       "output_type": "stream",
       "stream": "stdout",
       "text": [
        "Saving to softmax_regression.pkl...\n"
       ]
      },
      {
       "output_type": "stream",
       "stream": "stdout",
       "text": [
        "Saving to softmax_regression.pkl done. Time elapsed: 0.116679 seconds\n"
       ]
      },
      {
       "output_type": "stream",
       "stream": "stdout",
       "text": [
        "Time this epoch: 0:06:40.881119\n"
       ]
      },
      {
       "output_type": "stream",
       "stream": "stdout",
       "text": [
        "Monitoring step:\n"
       ]
      },
      {
       "output_type": "stream",
       "stream": "stdout",
       "text": [
        "\tEpochs seen: 6\n"
       ]
      },
      {
       "output_type": "stream",
       "stream": "stdout",
       "text": [
        "\tBatches seen: 30\n"
       ]
      },
      {
       "output_type": "stream",
       "stream": "stdout",
       "text": [
        "\tExamples seen: 150000\n"
       ]
      },
      {
       "output_type": "stream",
       "stream": "stdout",
       "text": [
        "\tave_grad_mult: 0.0525520110427\n"
       ]
      },
      {
       "output_type": "stream",
       "stream": "stdout",
       "text": [
        "\tave_grad_size: 0.744703600132\n"
       ]
      },
      {
       "output_type": "stream",
       "stream": "stdout",
       "text": [
        "\tave_step_size: 0.0462533244424\n"
       ]
      },
      {
       "output_type": "stream",
       "stream": "stdout",
       "text": [
        "\ttotal_seconds_last_epoch: 408.43677\n"
       ]
      },
      {
       "output_type": "stream",
       "stream": "stdout",
       "text": [
        "\ttrain_objective: 3.43002035031\n"
       ]
      },
      {
       "output_type": "stream",
       "stream": "stdout",
       "text": [
        "\ttrain_y_col_norms_max: 2.16716675488\n"
       ]
      },
      {
       "output_type": "stream",
       "stream": "stdout",
       "text": [
        "\ttrain_y_col_norms_mean: 1.88653522599\n"
       ]
      },
      {
       "output_type": "stream",
       "stream": "stdout",
       "text": [
        "\ttrain_y_col_norms_min: 1.8024202478\n"
       ]
      },
      {
       "output_type": "stream",
       "stream": "stdout",
       "text": [
        "\ttrain_y_max_max_class: 0.692793851262\n"
       ]
      },
      {
       "output_type": "stream",
       "stream": "stdout",
       "text": [
        "\ttrain_y_mean_max_class: 0.125665685971\n"
       ]
      },
      {
       "output_type": "stream",
       "stream": "stdout",
       "text": [
        "\ttrain_y_min_max_class: 0.0434240358402\n"
       ]
      },
      {
       "output_type": "stream",
       "stream": "stdout",
       "text": [
        "\ttrain_y_misclass: 0.79396\n"
       ]
      },
      {
       "output_type": "stream",
       "stream": "stdout",
       "text": [
        "\ttrain_y_nll: 3.43002035031\n"
       ]
      },
      {
       "output_type": "stream",
       "stream": "stdout",
       "text": [
        "\ttrain_y_row_norms_max: 0.798880923874\n"
       ]
      },
      {
       "output_type": "stream",
       "stream": "stdout",
       "text": [
        "\ttrain_y_row_norms_mean: 0.647955778479\n"
       ]
      },
      {
       "output_type": "stream",
       "stream": "stdout",
       "text": [
        "\ttrain_y_row_norms_min: 0.542467645145\n"
       ]
      },
      {
       "output_type": "stream",
       "stream": "stdout",
       "text": [
        "\ttraining_seconds_this_epoch: 400.881119\n"
       ]
      },
      {
       "output_type": "stream",
       "stream": "stdout",
       "text": [
        "\tvalid_objective: 10.3317869975\n"
       ]
      },
      {
       "output_type": "stream",
       "stream": "stdout",
       "text": [
        "\tvalid_y_col_norms_max: 2.16716675488\n"
       ]
      },
      {
       "output_type": "stream",
       "stream": "stdout",
       "text": [
        "\tvalid_y_col_norms_mean: 1.88653522599\n"
       ]
      },
      {
       "output_type": "stream",
       "stream": "stdout",
       "text": [
        "\tvalid_y_col_norms_min: 1.8024202478\n"
       ]
      },
      {
       "output_type": "stream",
       "stream": "stdout",
       "text": [
        "\tvalid_y_max_max_class: 0.674357389261\n"
       ]
      },
      {
       "output_type": "stream",
       "stream": "stdout",
       "text": [
        "\tvalid_y_mean_max_class: 0.146076809186\n"
       ]
      },
      {
       "output_type": "stream",
       "stream": "stdout",
       "text": [
        "\tvalid_y_min_max_class: 0.0435507613236\n"
       ]
      },
      {
       "output_type": "stream",
       "stream": "stdout",
       "text": [
        "\tvalid_y_misclass: 0.996\n"
       ]
      },
      {
       "output_type": "stream",
       "stream": "stdout",
       "text": [
        "\tvalid_y_nll: 10.3317869975\n"
       ]
      },
      {
       "output_type": "stream",
       "stream": "stdout",
       "text": [
        "\tvalid_y_row_norms_max: 0.798880923874\n"
       ]
      },
      {
       "output_type": "stream",
       "stream": "stdout",
       "text": [
        "\tvalid_y_row_norms_mean: 0.647955778479\n"
       ]
      },
      {
       "output_type": "stream",
       "stream": "stdout",
       "text": [
        "\tvalid_y_row_norms_min: 0.542467645145\n"
       ]
      },
      {
       "output_type": "stream",
       "stream": "stdout",
       "text": [
        "Saving to softmax_regression.pkl...\n"
       ]
      },
      {
       "output_type": "stream",
       "stream": "stdout",
       "text": [
        "Saving to softmax_regression.pkl done. Time elapsed: 0.123666 seconds\n"
       ]
      },
      {
       "output_type": "stream",
       "stream": "stdout",
       "text": [
        "Saving to softmax_regression.pkl...\n"
       ]
      },
      {
       "output_type": "stream",
       "stream": "stdout",
       "text": [
        "Saving to softmax_regression.pkl done. Time elapsed: 0.118325 seconds\n"
       ]
      }
     ],
     "prompt_number": 6
    },
    {
     "cell_type": "code",
     "collapsed": false,
     "input": [
      "!pylearn2_fork/pylearn2/scripts/print_monitor.py softmax_regression_best.pkl"
     ],
     "language": "python",
     "metadata": {},
     "outputs": [
      {
       "output_type": "stream",
       "stream": "stdout",
       "text": [
        "epochs seen:  5\r\n",
        "time trained:  2040.15979791\r\n",
        "ave_grad_mult : 0.053892740286\r\n",
        "ave_grad_size : 0.953411753984\r\n",
        "ave_step_size : 0.0629476883997\r\n",
        "total_seconds_last_epoch : 404.637634\r\n",
        "train_objective : 3.48332570853\r\n",
        "train_y_col_norms_max : 2.1203547876\r\n",
        "train_y_col_norms_mean : 1.87858611455\r\n",
        "train_y_col_norms_min : 1.8018762801\r\n",
        "train_y_max_max_class : 0.625133507156\r\n",
        "train_y_mean_max_class : 0.111848391885\r\n",
        "train_y_min_max_class : 0.0422160309419\r\n",
        "train_y_misclass : 0.78704\r\n",
        "train_y_nll : 3.48332570853\r\n",
        "train_y_row_norms_max : 0.770841556248\r\n",
        "train_y_row_norms_mean : 0.645238022384\r\n",
        "train_y_row_norms_min : 0.541627116203\r\n",
        "training_seconds_this_epoch : 404.830848\r\n",
        "valid_objective : 10.1272850006\r\n",
        "valid_y_col_norms_max : 2.1203547876\r\n",
        "valid_y_col_norms_mean : 1.87858611455\r\n",
        "valid_y_col_norms_min : 1.8018762801\r\n",
        "valid_y_max_max_class : 0.643424234128\r\n",
        "valid_y_mean_max_class : 0.130752330513\r\n",
        "valid_y_min_max_class : 0.0417364145023\r\n",
        "valid_y_misclass : 0.992\r\n",
        "valid_y_nll : 10.1272850006\r\n",
        "valid_y_row_norms_max : 0.770841556248\r\n",
        "valid_y_row_norms_mean : 0.645238022384\r\n",
        "valid_y_row_norms_min : 0.541627116203\r\n"
       ]
      }
     ],
     "prompt_number": 8
    },
    {
     "cell_type": "code",
     "collapsed": false,
     "input": [],
     "language": "python",
     "metadata": {},
     "outputs": []
    }
   ],
   "metadata": {}
  }
 ]
}