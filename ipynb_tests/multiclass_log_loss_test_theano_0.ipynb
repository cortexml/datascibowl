{
 "metadata": {
  "name": "",
  "signature": "sha256:51ff9a338e4e7da5bc2bb1a09c8696aea0556835a555c9fd39fd9a36659dc670"
 },
 "nbformat": 3,
 "nbformat_minor": 0,
 "worksheets": [
  {
   "cells": [
    {
     "cell_type": "code",
     "collapsed": false,
     "input": [
      "import random\n",
      "import numpy as np\n",
      "from theano import tensor as T, function, pp\n",
      "# from theano import function "
     ],
     "language": "python",
     "metadata": {},
     "outputs": [],
     "prompt_number": 7
    },
    {
     "cell_type": "code",
     "collapsed": false,
     "input": [
      "x = T.dmatrix('x')\n",
      "s = 1 / (1 + T.exp(-x))\n",
      "logistic = function([x], s)\n",
      "logistic([[0, 1], [-1, -2]])\n"
     ],
     "language": "python",
     "metadata": {},
     "outputs": [
      {
       "metadata": {},
       "output_type": "pyout",
       "prompt_number": 5,
       "text": [
        "array([[ 0.5       ,  0.73105858],\n",
        "       [ 0.26894142,  0.11920292]])"
       ]
      }
     ],
     "prompt_number": 5
    },
    {
     "cell_type": "code",
     "collapsed": false,
     "input": [
      "def multiclass_log_loss(y_true, y_pred, eps=1e-15):\n",
      "    # clip values to >0 and <1\n",
      "    predictions = T.clip(y_pred, eps, 1 - eps)\n",
      "\n",
      "    # normalize row sums to 1\n",
      "    predictions /= predictions.sum(axis=1)[:, np.newaxis]\n",
      "    print \"Predictions:\\n%s\" %predictions\n",
      "\n",
      "    actual = np.zeros(y_pred.shape)\n",
      "    n_samples = actual.shape[0]\n",
      "    print \"Samples:\\n%s\" %n_samples\n",
      "    \n",
      "    actual[np.arange(n_samples), y_true.astype(int)] = 1\n",
      "    print \"Actual 1s:\\n%s\" %actual\n",
      "    \n",
      "    print \"log(predictions):\\n%s\" %np.log(predictions)\n",
      "    print \"actual * log(predictions):\\n%s\" %(actual * np.log(predictions))\n",
      "    vectsum = np.sum(actual * np.log(predictions))\n",
      "    print \"vectsum: %s\" %vectsum\n",
      "    \n",
      "    loss = -1.0 / n_samples * vectsum\n",
      "    return loss\n"
     ],
     "language": "python",
     "metadata": {},
     "outputs": [],
     "prompt_number": 30
    },
    {
     "cell_type": "code",
     "collapsed": false,
     "input": [
      "y_pred = T.matrix(dtype='float32')\n",
      "y_true = T.matrix(dtype='float32')\n",
      "\n",
      "eps = T.constant(1e-15, 'eps', dtype='float32')\n",
      "y_pred_clip = T.clip(y_pred, eps, 1-eps)\n",
      "y_pred_row_sum = y_pred_clip.sum(axis=1).reshape((y_pred_clip.shape[0], 1))\n",
      "y_pred_clip_norm = y_pred_clip / y_pred_row_sum\n",
      "\n",
      "n_samples = y_pred_clip_norm.shape[0]\n",
      "y_pred_conformal = T.matrix(dtype='float32')\n",
      "y_true.ar\n",
      "\n",
      "clip = function([y_pred], y_pred_clip)\n",
      "clip_row_sum = function([y_pred], y_pred_row_sum)\n",
      "clip_norm = function([y_pred], y_pred_clip_norm)"
     ],
     "language": "python",
     "metadata": {},
     "outputs": [
      {
       "ename": "AttributeError",
       "evalue": "'TensorVariable' object has no attribute 'ar'",
       "output_type": "pyerr",
       "traceback": [
        "\u001b[1;31m---------------------------------------------------------------------------\u001b[0m\n\u001b[1;31mAttributeError\u001b[0m                            Traceback (most recent call last)",
        "\u001b[1;32m<ipython-input-30-028817e891e2>\u001b[0m in \u001b[0;36m<module>\u001b[1;34m()\u001b[0m\n\u001b[0;32m      8\u001b[0m \u001b[1;33m\u001b[0m\u001b[0m\n\u001b[0;32m      9\u001b[0m \u001b[0mn_samples\u001b[0m \u001b[1;33m=\u001b[0m \u001b[0my_pred_clip_norm\u001b[0m\u001b[1;33m.\u001b[0m\u001b[0mshape\u001b[0m\u001b[1;33m[\u001b[0m\u001b[1;36m0\u001b[0m\u001b[1;33m]\u001b[0m\u001b[1;33m\u001b[0m\u001b[0m\n\u001b[1;32m---> 10\u001b[1;33m \u001b[0my_pred_conformal\u001b[0m \u001b[1;33m=\u001b[0m \u001b[0my_true\u001b[0m\u001b[1;33m.\u001b[0m\u001b[0mar\u001b[0m\u001b[1;33m\u001b[0m\u001b[0m\n\u001b[0m\u001b[0;32m     11\u001b[0m \u001b[1;33m\u001b[0m\u001b[0m\n\u001b[0;32m     12\u001b[0m \u001b[0mclip\u001b[0m \u001b[1;33m=\u001b[0m \u001b[0mfunction\u001b[0m\u001b[1;33m(\u001b[0m\u001b[1;33m[\u001b[0m\u001b[0my_pred\u001b[0m\u001b[1;33m]\u001b[0m\u001b[1;33m,\u001b[0m \u001b[0my_pred_clip\u001b[0m\u001b[1;33m)\u001b[0m\u001b[1;33m\u001b[0m\u001b[0m\n",
        "\u001b[1;31mAttributeError\u001b[0m: 'TensorVariable' object has no attribute 'ar'"
       ]
      }
     ],
     "prompt_number": 30
    },
    {
     "cell_type": "code",
     "collapsed": false,
     "input": [
      "test_arr = np.array([[0.,0.54], [0.32,1.]], dtype='float32')\n",
      "print clip(test_arr)\n",
      "print clip_row_sum(test_arr)\n",
      "print clip_norm(test_arr)"
     ],
     "language": "python",
     "metadata": {},
     "outputs": [
      {
       "output_type": "stream",
       "stream": "stdout",
       "text": [
        "[[  1.00000000e-15   5.40000021e-01]\n",
        " [  3.19999993e-01   1.00000000e+00]]\n",
        "[[ 0.54000002]\n",
        " [ 1.31999993]]\n",
        "[[  1.85185183e-15   1.00000000e+00]\n",
        " [  2.42424250e-01   7.57575810e-01]]\n"
       ]
      }
     ],
     "prompt_number": 29
    },
    {
     "cell_type": "code",
     "collapsed": false,
     "input": [
      "y_true = T.matrix('y_true', dtype='int32')\n",
      "y_true_square = T.matrix('y_true_square', dtype='int32')\n",
      "\n",
      "# y_true_square_ones = T.set_subtensor(y_true_square[T.arange(y_true.shape[0]), y_true], 1)\n",
      "y_true_square_ones = T.set_subtensor(y_true_square[T.arange(y_true.shape[0]), y_true.dimshuffle(1,0)], 1)\n",
      "\n",
      "myfun1 = function([y_true, y_true_square], y_true_square_ones)\n"
     ],
     "language": "python",
     "metadata": {},
     "outputs": [],
     "prompt_number": 140
    },
    {
     "cell_type": "code",
     "collapsed": false,
     "input": [
      "y = np.random.randint(7, size=7).astype('int32')\n",
      "y = y.reshape(y.shape[0],1)"
     ],
     "language": "python",
     "metadata": {},
     "outputs": [
      {
       "metadata": {},
       "output_type": "pyout",
       "prompt_number": 143,
       "text": [
        "array([0, 1, 2, 3, 4, 5, 6])"
       ]
      }
     ],
     "prompt_number": 143
    },
    {
     "cell_type": "code",
     "collapsed": false,
     "input": [
      "print y"
     ],
     "language": "python",
     "metadata": {},
     "outputs": [
      {
       "output_type": "stream",
       "stream": "stdout",
       "text": [
        "[[0]\n",
        " [4]\n",
        " [5]\n",
        " [2]\n",
        " [0]\n",
        " [4]\n",
        " [5]]\n"
       ]
      }
     ],
     "prompt_number": 145
    },
    {
     "cell_type": "code",
     "collapsed": false,
     "input": [
      "myfun1(y, np.zeros([y.shape[0], y.shape[0]], dtype='int32'))"
     ],
     "language": "python",
     "metadata": {},
     "outputs": [
      {
       "metadata": {},
       "output_type": "pyout",
       "prompt_number": 144,
       "text": [
        "array([[1, 0, 0, 0, 0, 0, 0],\n",
        "       [0, 0, 0, 0, 1, 0, 0],\n",
        "       [0, 0, 0, 0, 0, 1, 0],\n",
        "       [0, 0, 1, 0, 0, 0, 0],\n",
        "       [1, 0, 0, 0, 0, 0, 0],\n",
        "       [0, 0, 0, 0, 1, 0, 0],\n",
        "       [0, 0, 0, 0, 0, 1, 0]], dtype=int32)"
       ]
      }
     ],
     "prompt_number": 144
    },
    {
     "cell_type": "code",
     "collapsed": false,
     "input": [],
     "language": "python",
     "metadata": {},
     "outputs": [],
     "prompt_number": 122
    }
   ],
   "metadata": {}
  }
 ]
}