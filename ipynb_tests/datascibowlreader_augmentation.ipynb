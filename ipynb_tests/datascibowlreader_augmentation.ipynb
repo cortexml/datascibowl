{
 "metadata": {
  "name": "",
  "signature": "sha256:4fb3342f26c973021cc4858e8102e113531d1cf4ecf82ca9f0ebf4e4a94b8dc1"
 },
 "nbformat": 3,
 "nbformat_minor": 0,
 "worksheets": [
  {
   "cells": [
    {
     "cell_type": "code",
     "collapsed": false,
     "input": [
      "import os\n",
      "import pylearn2\n",
      "from pylearn2.config import yaml_parse\n",
      "from pylearn2.utils.datascibowl_reader import read_datascibowl_images\n",
      "import glob\n",
      "import numpy as np\n",
      "import pickle as pkl\n",
      "import pandas as pd"
     ],
     "language": "python",
     "metadata": {},
     "outputs": [
      {
       "output_type": "stream",
       "stream": "stderr",
       "text": [
        "Using gpu device 0: GeForce GTX 550 Ti\n"
       ]
      }
     ]
    },
    {
     "cell_type": "code",
     "collapsed": false,
     "input": [
      "X,y = read_datascibowl_images(\"/home/jotham/projects/2014-12-20_datascibowl/data/datascibowl/train\", augment_factor=2)"
     ],
     "language": "python",
     "metadata": {},
     "outputs": [
      {
       "output_type": "stream",
       "stream": "stdout",
       "text": [
        "Looking for data in /home/jotham/projects/2014-12-20_datascibowl/data/datascibowl/train\n",
        "Found 30336 images"
       ]
      },
      {
       "output_type": "stream",
       "stream": "stdout",
       "text": [
        "\n",
        "Highest class sample is 1979 observations\n",
        "Reading files from /home/jotham/projects/2014-12-20_datascibowl/data/datascibowl/train/euphausiids_young\n",
        "> /home/jotham/projects/2014-12-20_datascibowl/pylearn2_fork/pylearn2/utils/datascibowl_reader.py(104)read_datascibowl_images()\n",
        "-> if fileName[-4:] != \".jpg\":\n"
       ]
      },
      {
       "name": "stdout",
       "output_type": "stream",
       "stream": "stdout",
       "text": [
        "(Pdb) p num_rows\n"
       ]
      },
      {
       "output_type": "stream",
       "stream": "stdout",
       "text": [
        "478918\n"
       ]
      }
     ]
    },
    {
     "cell_type": "code",
     "collapsed": false,
     "input": [],
     "language": "python",
     "metadata": {},
     "outputs": []
    }
   ],
   "metadata": {}
  }
 ]
}