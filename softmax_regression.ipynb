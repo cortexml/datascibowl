{
 "metadata": {
  "name": "",
  "signature": "sha256:1c5e078b8a874d33fce3e2a1dd63ce246fc4b68a69f91d42d5f574099e22c2d6"
 },
 "nbformat": 3,
 "nbformat_minor": 0,
 "worksheets": [
  {
   "cells": [
    {
     "cell_type": "code",
     "collapsed": false,
     "input": [
      "import os\n",
      "import pylearn2\n",
      "from pylearn2.config import yaml_parse"
     ],
     "language": "python",
     "metadata": {},
     "outputs": [],
     "prompt_number": 6
    },
    {
     "cell_type": "code",
     "collapsed": false,
     "input": [
      "dirname = os.path.abspath(os.path.dirname('softmax_regression.ipynb'))\n",
      "# dirname"
     ],
     "language": "python",
     "metadata": {},
     "outputs": [],
     "prompt_number": 7
    },
    {
     "cell_type": "code",
     "collapsed": false,
     "input": [
      "with open(os.path.join(dirname, 'sr_train.yaml'), 'r') as f:\n",
      "    train = f.read()\n",
      "save_path = '.'\n",
      "train = train %locals()"
     ],
     "language": "python",
     "metadata": {},
     "outputs": [],
     "prompt_number": 8
    },
    {
     "cell_type": "code",
     "collapsed": false,
     "input": [
      "# print train"
     ],
     "language": "python",
     "metadata": {},
     "outputs": [],
     "prompt_number": 9
    },
    {
     "cell_type": "code",
     "collapsed": false,
     "input": [
      "train = yaml_parse.load(train)\n",
      "train.main_loop()"
     ],
     "language": "python",
     "metadata": {},
     "outputs": [
      {
       "output_type": "stream",
       "stream": "stdout",
       "text": [
        "Looking for data in /home/joth/projects/2014-12-20_datascibowl/competition_data/train\n",
        "topo_view.shape: (25000, 32, 32, 1)"
       ]
      },
      {
       "output_type": "stream",
       "stream": "stdout",
       "text": [
        "\n",
        "NAs: 0\n",
        "Looking for data in /home/joth/projects/2014-12-20_datascibowl/competition_data/train\n",
        "topo_view.shape: (5000, 32, 32, 1)"
       ]
      },
      {
       "output_type": "stream",
       "stream": "stdout",
       "text": [
        "\n",
        "NAs: 0\n",
        "compiling begin_record_entry...\n"
       ]
      },
      {
       "output_type": "stream",
       "stream": "stdout",
       "text": [
        "compiling begin_record_entry done. Time elapsed: 0.080230 seconds\n"
       ]
      },
      {
       "output_type": "stream",
       "stream": "stdout",
       "text": [
        "Monitored channels: \n"
       ]
      },
      {
       "output_type": "stream",
       "stream": "stdout",
       "text": [
        "\tave_grad_mult\n"
       ]
      },
      {
       "output_type": "stream",
       "stream": "stdout",
       "text": [
        "\tave_grad_size\n"
       ]
      },
      {
       "output_type": "stream",
       "stream": "stdout",
       "text": [
        "\tave_step_size\n"
       ]
      },
      {
       "output_type": "stream",
       "stream": "stdout",
       "text": [
        "\ttotal_seconds_last_epoch\n"
       ]
      },
      {
       "output_type": "stream",
       "stream": "stdout",
       "text": [
        "\ttrain_objective\n"
       ]
      },
      {
       "output_type": "stream",
       "stream": "stdout",
       "text": [
        "\ttrain_y_col_norms_max\n"
       ]
      },
      {
       "output_type": "stream",
       "stream": "stdout",
       "text": [
        "\ttrain_y_col_norms_mean\n"
       ]
      },
      {
       "output_type": "stream",
       "stream": "stdout",
       "text": [
        "\ttrain_y_col_norms_min\n"
       ]
      },
      {
       "output_type": "stream",
       "stream": "stdout",
       "text": [
        "\ttrain_y_max_max_class\n"
       ]
      },
      {
       "output_type": "stream",
       "stream": "stdout",
       "text": [
        "\ttrain_y_mean_max_class\n"
       ]
      },
      {
       "output_type": "stream",
       "stream": "stdout",
       "text": [
        "\ttrain_y_min_max_class\n"
       ]
      },
      {
       "output_type": "stream",
       "stream": "stdout",
       "text": [
        "\ttrain_y_misclass\n"
       ]
      },
      {
       "output_type": "stream",
       "stream": "stdout",
       "text": [
        "\ttrain_y_nll\n"
       ]
      },
      {
       "output_type": "stream",
       "stream": "stdout",
       "text": [
        "\ttrain_y_row_norms_max\n"
       ]
      },
      {
       "output_type": "stream",
       "stream": "stdout",
       "text": [
        "\ttrain_y_row_norms_mean\n"
       ]
      },
      {
       "output_type": "stream",
       "stream": "stdout",
       "text": [
        "\ttrain_y_row_norms_min\n"
       ]
      },
      {
       "output_type": "stream",
       "stream": "stdout",
       "text": [
        "\ttraining_seconds_this_epoch\n"
       ]
      },
      {
       "output_type": "stream",
       "stream": "stdout",
       "text": [
        "\tvalid_objective\n"
       ]
      },
      {
       "output_type": "stream",
       "stream": "stdout",
       "text": [
        "\tvalid_y_col_norms_max\n"
       ]
      },
      {
       "output_type": "stream",
       "stream": "stdout",
       "text": [
        "\tvalid_y_col_norms_mean\n"
       ]
      },
      {
       "output_type": "stream",
       "stream": "stdout",
       "text": [
        "\tvalid_y_col_norms_min\n"
       ]
      },
      {
       "output_type": "stream",
       "stream": "stdout",
       "text": [
        "\tvalid_y_max_max_class\n"
       ]
      },
      {
       "output_type": "stream",
       "stream": "stdout",
       "text": [
        "\tvalid_y_mean_max_class\n"
       ]
      },
      {
       "output_type": "stream",
       "stream": "stdout",
       "text": [
        "\tvalid_y_min_max_class\n"
       ]
      },
      {
       "output_type": "stream",
       "stream": "stdout",
       "text": [
        "\tvalid_y_misclass\n"
       ]
      },
      {
       "output_type": "stream",
       "stream": "stdout",
       "text": [
        "\tvalid_y_nll\n"
       ]
      },
      {
       "output_type": "stream",
       "stream": "stdout",
       "text": [
        "\tvalid_y_row_norms_max\n"
       ]
      },
      {
       "output_type": "stream",
       "stream": "stdout",
       "text": [
        "\tvalid_y_row_norms_mean\n"
       ]
      },
      {
       "output_type": "stream",
       "stream": "stdout",
       "text": [
        "\tvalid_y_row_norms_min\n"
       ]
      },
      {
       "output_type": "stream",
       "stream": "stdout",
       "text": [
        "Compiling accum...\n"
       ]
      },
      {
       "output_type": "stream",
       "stream": "stdout",
       "text": [
        "graph size: 112\n"
       ]
      },
      {
       "output_type": "stream",
       "stream": "stdout",
       "text": [
        "graph size: 97\n"
       ]
      },
      {
       "output_type": "stream",
       "stream": "stdout",
       "text": [
        "Compiling accum done. Time elapsed: 0.335908 seconds\n"
       ]
      },
      {
       "output_type": "stream",
       "stream": "stdout",
       "text": [
        "> /home/joth/projects/2014-12-20_datascibowl/pylearn2_fork/pylearn2/monitor.py(258)__call__()\n",
        "-> self.run_prereqs(X, d)\n"
       ]
      },
      {
       "name": "stdout",
       "output_type": "stream",
       "stream": "stdout",
       "text": [
        "(Pdb) n\n"
       ]
      },
      {
       "output_type": "stream",
       "stream": "stdout",
       "text": [
        "> /home/joth/projects/2014-12-20_datascibowl/pylearn2_fork/pylearn2/monitor.py(259)__call__()\n",
        "-> a(*X)\n"
       ]
      },
      {
       "name": "stdout",
       "output_type": "stream",
       "stream": "stdout",
       "text": [
        "(Pdb) s\n"
       ]
      },
      {
       "output_type": "stream",
       "stream": "stdout",
       "text": [
        "--Call--\n",
        "> /home/joth/venvs/2014-12-20_datascibowl/lib/python2.7/site-packages/theano/compile/function_module.py(482)__call__()\n",
        "-> def __call__(self, *args, **kwargs):\n"
       ]
      },
      {
       "name": "stdout",
       "output_type": "stream",
       "stream": "stdout",
       "text": [
        "(Pdb) s\n"
       ]
      },
      {
       "output_type": "stream",
       "stream": "stdout",
       "text": [
        "> /home/joth/venvs/2014-12-20_datascibowl/lib/python2.7/site-packages/theano/compile/function_module.py(483)__call__()\n",
        "-> profile = self.profile\n"
       ]
      },
      {
       "name": "stdout",
       "output_type": "stream",
       "stream": "stdout",
       "text": [
        "(Pdb) r\n"
       ]
      },
      {
       "output_type": "stream",
       "stream": "stdout",
       "text": [
        "--Return--\n",
        "> /home/joth/venvs/2014-12-20_datascibowl/lib/python2.7/site-packages/theano/compile/function_module.py(606)__call__()->None\n",
        "-> storage_map=self.fn.storage_map)\n"
       ]
      },
      {
       "name": "stdout",
       "output_type": "stream",
       "stream": "stdout",
       "text": [
        "(Pdb) s\n"
       ]
      },
      {
       "output_type": "stream",
       "stream": "stdout",
       "text": [
        "ValueError: ValueErr...s)\\n\\n',)\n",
        "> /home/joth/projects/2014-12-20_datascibowl/pylearn2_fork/pylearn2/monitor.py(259)__call__()\n",
        "-> a(*X)\n"
       ]
      },
      {
       "name": "stdout",
       "output_type": "stream",
       "stream": "stdout",
       "text": [
        "(Pdb) s\n"
       ]
      },
      {
       "output_type": "stream",
       "stream": "stdout",
       "text": [
        "--Return--\n",
        "> /home/joth/projects/2014-12-20_datascibowl/pylearn2_fork/pylearn2/monitor.py(259)__call__()->None\n",
        "-> a(*X)\n"
       ]
      },
      {
       "name": "stdout",
       "output_type": "stream",
       "stream": "stdout",
       "text": [
        "(Pdb) s\n"
       ]
      },
      {
       "output_type": "stream",
       "stream": "stdout",
       "text": [
        "ValueError: ValueErr...s)\\n\\n',)\n",
        "> /home/joth/projects/2014-12-20_datascibowl/pylearn2_fork/pylearn2/train.py(242)run_callbacks_and_monitoring()\n",
        "-> self.model.monitor()\n"
       ]
      },
      {
       "name": "stdout",
       "output_type": "stream",
       "stream": "stdout",
       "text": [
        "(Pdb) s\n"
       ]
      },
      {
       "output_type": "stream",
       "stream": "stdout",
       "text": [
        "--Return--\n",
        "> /home/joth/projects/2014-12-20_datascibowl/pylearn2_fork/pylearn2/train.py(242)run_callbacks_and_monitoring()->None\n",
        "-> self.model.monitor()\n"
       ]
      },
      {
       "name": "stdout",
       "output_type": "stream",
       "stream": "stdout",
       "text": [
        "(Pdb) s\n"
       ]
      },
      {
       "output_type": "stream",
       "stream": "stdout",
       "text": [
        "ValueError: ValueErr...s)\\n\\n',)\n",
        "> /home/joth/projects/2014-12-20_datascibowl/pylearn2_fork/pylearn2/train.py(196)main_loop()\n",
        "-> self.run_callbacks_and_monitoring()\n"
       ]
      },
      {
       "name": "stdout",
       "output_type": "stream",
       "stream": "stdout",
       "text": [
        "(Pdb) r\n"
       ]
      },
      {
       "output_type": "stream",
       "stream": "stdout",
       "text": [
        "--Return--\n",
        "> /home/joth/projects/2014-12-20_datascibowl/pylearn2_fork/pylearn2/train.py(196)main_loop()->None\n",
        "-> self.run_callbacks_and_monitoring()\n"
       ]
      },
      {
       "name": "stdout",
       "output_type": "stream",
       "stream": "stdout",
       "text": [
        "(Pdb) n\n"
       ]
      },
      {
       "output_type": "stream",
       "stream": "stdout",
       "text": [
        "ValueError: ValueErr...s)\\n\\n',)\n",
        "> <ipython-input-10-99a022070172>(2)<module>()\n",
        "-> train.main_loop()\n"
       ]
      },
      {
       "name": "stdout",
       "output_type": "stream",
       "stream": "stdout",
       "text": [
        "(Pdb) s\n"
       ]
      },
      {
       "output_type": "stream",
       "stream": "stdout",
       "text": [
        "--Return--\n",
        "> <ipython-input-10-99a022070172>(2)<module>()->None\n",
        "-> train.main_loop()\n"
       ]
      },
      {
       "name": "stdout",
       "output_type": "stream",
       "stream": "stdout",
       "text": [
        "(Pdb) s\n"
       ]
      },
      {
       "output_type": "stream",
       "stream": "stdout",
       "text": [
        "ValueError: ValueErr...s)\\n\\n',)\n",
        "> /home/joth/venvs/2014-12-20_datascibowl/lib/python2.7/site-packages/IPython/core/interactiveshell.py(2883)run_code()\n",
        "-> exec(code_obj, self.user_global_ns, self.user_ns)\n"
       ]
      },
      {
       "name": "stdout",
       "output_type": "stream",
       "stream": "stdout",
       "text": [
        "(Pdb) r\n"
       ]
      },
      {
       "ename": "ValueError",
       "evalue": "Input dimension mis-match. (input[0].shape[0] = 1, input[1].shape[0] = 5000)\nApply node that caused the error: Elemwise{mul,no_inplace}(monitoring_targets, Elemwise{sub,no_inplace}.0)\nInputs types: [TensorType(float64, matrix), TensorType(float64, matrix)]\nInputs shapes: [(1, 121), (5000, 121)]\nInputs strides: [(968, 8), (968, 8)]\nInputs values: ['not shown', 'not shown']\n\nBacktrace when the node is created:\n  File \"/home/joth/projects/2014-12-20_datascibowl/pylearn2_fork/pylearn2/sandbox/rnn/models/mlp_hook.py\", line 247, in outer\n    return cost(self, Y, Y_hat)\n  File \"/home/joth/projects/2014-12-20_datascibowl/pylearn2_fork/pylearn2/models/mlp.py\", line 1456, in cost\n    log_prob_of = self._cost(Y, Y_hat).sum(axis=1)\n  File \"/home/joth/projects/2014-12-20_datascibowl/pylearn2_fork/pylearn2/models/mlp.py\", line 1449, in _cost\n    log_prob_of = (Y * log_prob)\n\nDebugprint of the apply node: \nElemwise{mul,no_inplace} [@A] <TensorType(float64, matrix)> ''   \n |monitoring_targets [@B] <TensorType(float64, matrix)>\n |Elemwise{sub,no_inplace} [@C] <TensorType(float64, matrix)> ''   \n   |Elemwise{sub,no_inplace} [@D] <TensorType(float64, matrix)> ''   \n   | |Elemwise{add,no_inplace} [@E] <TensorType(float64, matrix)> ''   \n   | | |Dot22 [@F] <TensorType(float64, matrix)> ''   \n   | | | |monitoring_features [@G] <TensorType(float64, matrix)>\n   | | | |softmax_W [@H] <TensorType(float64, matrix)>\n   | | |DimShuffle{x,0} [@I] <TensorType(float64, row)> ''   \n   | |   |softmax_b [@J] <TensorType(float64, vector)>\n   | |DimShuffle{0,x} [@K] <TensorType(float64, col)> ''   \n   |   |MaxAndArgmax.0 [@L] <TensorType(float64, vector)> 'max'   \n   |Elemwise{log,no_inplace} [@M] <TensorType(float64, col)> ''   \n     |DimShuffle{0,x} [@N] <TensorType(float64, col)> ''   \n       |Sum{axis=[1], acc_dtype=float64} [@O] <TensorType(float64, vector)> ''   \n         |Elemwise{exp,no_inplace} [@P] <TensorType(float64, matrix)> ''   \n           |Elemwise{sub,no_inplace} [@D] <TensorType(float64, matrix)> ''   \n\nStorage map footprint:\n - ave_grad_size_tracker, Shape: (1,), ElemSize: 8 Byte(s), TotalSize: 8.0 Byte(s)\n - monitoring_targets, Shape: (1, 121), ElemSize: 8 Byte(s), TotalSize: 968 Byte(s)\n - train_y_col_norms_max_tracker, Shape: (1,), ElemSize: 8 Byte(s), TotalSize: 8.0 Byte(s)\n - Elemwise{sub,no_inplace}.0, Shape: (5000, 121), ElemSize: 8 Byte(s), TotalSize: 4840000 Byte(s)\n - train_objective_tracker, Shape: (1,), ElemSize: 8 Byte(s), TotalSize: 8.0 Byte(s)\n - monitoring_features, Shape: (5000, 1024), ElemSize: 8 Byte(s), TotalSize: 40960000 Byte(s)\n - <TensorType(float64, scalar)>, Shape: (1,), ElemSize: 8 Byte(s), TotalSize: 8.0 Byte(s)\n - train_y_row_norms_max_tracker, Shape: (1,), ElemSize: 8 Byte(s), TotalSize: 8.0 Byte(s)\n - train_y_max_max_class_tracker, Shape: (1,), ElemSize: 8 Byte(s), TotalSize: 8.0 Byte(s)\n - train_y_misclass_tracker, Shape: (1,), ElemSize: 8 Byte(s), TotalSize: 8.0 Byte(s)\n - train_y_col_norms_min_tracker, Shape: (1,), ElemSize: 8 Byte(s), TotalSize: 8.0 Byte(s)\n - train_y_row_norms_mean_tracker, Shape: (1,), ElemSize: 8 Byte(s), TotalSize: 8.0 Byte(s)\n - ave_step_size_tracker, Shape: (1,), ElemSize: 8 Byte(s), TotalSize: 8.0 Byte(s)\n - <TensorType(float64, scalar)>, Shape: (1,), ElemSize: 8 Byte(s), TotalSize: 8.0 Byte(s)\n - <TensorType(float64, scalar)>, Shape: (1,), ElemSize: 8 Byte(s), TotalSize: 8.0 Byte(s)\n - ave_grad_mult_tracker, Shape: (1,), ElemSize: 8 Byte(s), TotalSize: 8.0 Byte(s)\n - training_seconds_this_epoch_tracker, Shape: (1,), ElemSize: 8 Byte(s), TotalSize: 8.0 Byte(s)\n - training_seconds_this_epoch, Shape: (1,), ElemSize: 8 Byte(s), TotalSize: 8.0 Byte(s)\n - total_seconds_last_epoch_tracker, Shape: (1,), ElemSize: 8 Byte(s), TotalSize: 8.0 Byte(s)\n - total_seconds_last_epoch, Shape: (1,), ElemSize: 8 Byte(s), TotalSize: 8.0 Byte(s)\n - train_y_nll_tracker, Shape: (1,), ElemSize: 8 Byte(s), TotalSize: 8.0 Byte(s)\n - train_y_min_max_class_tracker, Shape: (1,), ElemSize: 8 Byte(s), TotalSize: 8.0 Byte(s)\n - train_y_col_norms_mean_tracker, Shape: (1,), ElemSize: 8 Byte(s), TotalSize: 8.0 Byte(s)\n - softmax_b, Shape: (121,), ElemSize: 8 Byte(s), TotalSize: 968 Byte(s)\n - TensorConstant{1}, Shape: (1,), ElemSize: 1 Byte(s), TotalSize: 1.0 Byte(s)\n - Constant{0}, Shape: (1,), ElemSize: 8 Byte(s), TotalSize: 8.0 Byte(s)\n - train_y_row_norms_min_tracker, Shape: (1,), ElemSize: 8 Byte(s), TotalSize: 8.0 Byte(s)\n - softmax_W, Shape: (1024, 121), ElemSize: 8 Byte(s), TotalSize: 991232 Byte(s)\n - Dot22.0, Shape: (5000, 121), ElemSize: 8 Byte(s), TotalSize: 4840000 Byte(s)\n - TensorConstant{25000.0}, Shape: (1,), ElemSize: 8 Byte(s), TotalSize: 8.0 Byte(s)\n - argmax, Shape: (5000,), ElemSize: 8 Byte(s), TotalSize: 40000 Byte(s)\n - train_y_mean_max_class_tracker, Shape: (1,), ElemSize: 8 Byte(s), TotalSize: 8.0 Byte(s)\n\n",
       "output_type": "pyerr",
       "traceback": [
        "\u001b[1;31m---------------------------------------------------------------------------\u001b[0m\n\u001b[1;31mValueError\u001b[0m                                Traceback (most recent call last)",
        "\u001b[1;32m<ipython-input-10-99a022070172>\u001b[0m in \u001b[0;36m<module>\u001b[1;34m()\u001b[0m\n\u001b[0;32m      1\u001b[0m \u001b[0mtrain\u001b[0m \u001b[1;33m=\u001b[0m \u001b[0myaml_parse\u001b[0m\u001b[1;33m.\u001b[0m\u001b[0mload\u001b[0m\u001b[1;33m(\u001b[0m\u001b[0mtrain\u001b[0m\u001b[1;33m)\u001b[0m\u001b[1;33m\u001b[0m\u001b[0m\n\u001b[1;32m----> 2\u001b[1;33m \u001b[0mtrain\u001b[0m\u001b[1;33m.\u001b[0m\u001b[0mmain_loop\u001b[0m\u001b[1;33m(\u001b[0m\u001b[1;33m)\u001b[0m\u001b[1;33m\u001b[0m\u001b[0m\n\u001b[0m",
        "\u001b[1;32m/home/joth/projects/2014-12-20_datascibowl/pylearn2_fork/pylearn2/train.pyc\u001b[0m in \u001b[0;36mmain_loop\u001b[1;34m(self, time_budget)\u001b[0m\n\u001b[0;32m    194\u001b[0m                     \u001b[0mdata_specs\u001b[0m\u001b[1;33m=\u001b[0m\u001b[1;33m(\u001b[0m\u001b[0mNullSpace\u001b[0m\u001b[1;33m(\u001b[0m\u001b[1;33m)\u001b[0m\u001b[1;33m,\u001b[0m \u001b[1;34m''\u001b[0m\u001b[1;33m)\u001b[0m\u001b[1;33m,\u001b[0m\u001b[1;33m\u001b[0m\u001b[0m\n\u001b[0;32m    195\u001b[0m                     dataset=self.model.monitor._datasets[0])\n\u001b[1;32m--> 196\u001b[1;33m             \u001b[0mself\u001b[0m\u001b[1;33m.\u001b[0m\u001b[0mrun_callbacks_and_monitoring\u001b[0m\u001b[1;33m(\u001b[0m\u001b[1;33m)\u001b[0m\u001b[1;33m\u001b[0m\u001b[0m\n\u001b[0m\u001b[0;32m    197\u001b[0m \u001b[1;33m\u001b[0m\u001b[0m\n\u001b[0;32m    198\u001b[0m             \u001b[1;32mwhile\u001b[0m \u001b[0mTrue\u001b[0m\u001b[1;33m:\u001b[0m\u001b[1;33m\u001b[0m\u001b[0m\n",
        "\u001b[1;32m/home/joth/projects/2014-12-20_datascibowl/pylearn2_fork/pylearn2/train.pyc\u001b[0m in \u001b[0;36mrun_callbacks_and_monitoring\u001b[1;34m(self)\u001b[0m\n\u001b[0;32m    240\u001b[0m             \u001b[0mextension\u001b[0m \u001b[0mwants\u001b[0m \u001b[0mto\u001b[0m \u001b[0mstop\u001b[0m \u001b[0mlearning\u001b[0m\u001b[1;33m.\u001b[0m\u001b[1;33m\u001b[0m\u001b[0m\n\u001b[0;32m    241\u001b[0m         \"\"\"\n\u001b[1;32m--> 242\u001b[1;33m         \u001b[0mself\u001b[0m\u001b[1;33m.\u001b[0m\u001b[0mmodel\u001b[0m\u001b[1;33m.\u001b[0m\u001b[0mmonitor\u001b[0m\u001b[1;33m(\u001b[0m\u001b[1;33m)\u001b[0m\u001b[1;33m\u001b[0m\u001b[0m\n\u001b[0m\u001b[0;32m    243\u001b[0m         \u001b[0mcontinue_learning\u001b[0m \u001b[1;33m=\u001b[0m \u001b[0mTrue\u001b[0m\u001b[1;33m\u001b[0m\u001b[0m\n\u001b[0;32m    244\u001b[0m         \u001b[1;32mfor\u001b[0m \u001b[0mextension\u001b[0m \u001b[1;32min\u001b[0m \u001b[0mself\u001b[0m\u001b[1;33m.\u001b[0m\u001b[0mextensions\u001b[0m\u001b[1;33m:\u001b[0m\u001b[1;33m\u001b[0m\u001b[0m\n",
        "\u001b[1;32m/home/joth/projects/2014-12-20_datascibowl/pylearn2_fork/pylearn2/monitor.py\u001b[0m in \u001b[0;36m__call__\u001b[1;34m(self)\u001b[0m\n\u001b[0;32m    257\u001b[0m                     \u001b[1;31m# X is a flat (not nested) tuple\u001b[0m\u001b[1;33m\u001b[0m\u001b[1;33m\u001b[0m\u001b[0m\n\u001b[0;32m    258\u001b[0m                     \u001b[0mself\u001b[0m\u001b[1;33m.\u001b[0m\u001b[0mrun_prereqs\u001b[0m\u001b[1;33m(\u001b[0m\u001b[0mX\u001b[0m\u001b[1;33m,\u001b[0m \u001b[0md\u001b[0m\u001b[1;33m)\u001b[0m\u001b[1;33m\u001b[0m\u001b[0m\n\u001b[1;32m--> 259\u001b[1;33m                     \u001b[0ma\u001b[0m\u001b[1;33m(\u001b[0m\u001b[1;33m*\u001b[0m\u001b[0mX\u001b[0m\u001b[1;33m)\u001b[0m\u001b[1;33m\u001b[0m\u001b[0m\n\u001b[0m\u001b[0;32m    260\u001b[0m                     \u001b[0mactual_ne\u001b[0m \u001b[1;33m+=\u001b[0m \u001b[0mself\u001b[0m\u001b[1;33m.\u001b[0m\u001b[0m_flat_data_specs\u001b[0m\u001b[1;33m[\u001b[0m\u001b[1;36m0\u001b[0m\u001b[1;33m]\u001b[0m\u001b[1;33m.\u001b[0m\u001b[0mnp_batch_size\u001b[0m\u001b[1;33m(\u001b[0m\u001b[0mX\u001b[0m\u001b[1;33m)\u001b[0m\u001b[1;33m\u001b[0m\u001b[0m\n\u001b[0;32m    261\u001b[0m                 \u001b[1;31m# end for X\u001b[0m\u001b[1;33m\u001b[0m\u001b[1;33m\u001b[0m\u001b[0m\n",
        "\u001b[1;32m/home/joth/venvs/2014-12-20_datascibowl/lib/python2.7/site-packages/theano/compile/function_module.pyc\u001b[0m in \u001b[0;36m__call__\u001b[1;34m(self, *args, **kwargs)\u001b[0m\n\u001b[0;32m    604\u001b[0m                         \u001b[0mself\u001b[0m\u001b[1;33m.\u001b[0m\u001b[0mfn\u001b[0m\u001b[1;33m.\u001b[0m\u001b[0mnodes\u001b[0m\u001b[1;33m[\u001b[0m\u001b[0mself\u001b[0m\u001b[1;33m.\u001b[0m\u001b[0mfn\u001b[0m\u001b[1;33m.\u001b[0m\u001b[0mposition_of_error\u001b[0m\u001b[1;33m]\u001b[0m\u001b[1;33m,\u001b[0m\u001b[1;33m\u001b[0m\u001b[0m\n\u001b[0;32m    605\u001b[0m                         \u001b[0mself\u001b[0m\u001b[1;33m.\u001b[0m\u001b[0mfn\u001b[0m\u001b[1;33m.\u001b[0m\u001b[0mthunks\u001b[0m\u001b[1;33m[\u001b[0m\u001b[0mself\u001b[0m\u001b[1;33m.\u001b[0m\u001b[0mfn\u001b[0m\u001b[1;33m.\u001b[0m\u001b[0mposition_of_error\u001b[0m\u001b[1;33m]\u001b[0m\u001b[1;33m,\u001b[0m\u001b[1;33m\u001b[0m\u001b[0m\n\u001b[1;32m--> 606\u001b[1;33m                         storage_map=self.fn.storage_map)\n\u001b[0m\u001b[0;32m    607\u001b[0m                 \u001b[1;32melse\u001b[0m\u001b[1;33m:\u001b[0m\u001b[1;33m\u001b[0m\u001b[0m\n\u001b[0;32m    608\u001b[0m                     \u001b[1;31m# For the c linker We don't have access from\u001b[0m\u001b[1;33m\u001b[0m\u001b[1;33m\u001b[0m\u001b[0m\n",
        "\u001b[1;32m/home/joth/venvs/2014-12-20_datascibowl/lib/python2.7/site-packages/theano/compile/function_module.pyc\u001b[0m in \u001b[0;36m__call__\u001b[1;34m(self, *args, **kwargs)\u001b[0m\n\u001b[0;32m    593\u001b[0m         \u001b[0mt0_fn\u001b[0m \u001b[1;33m=\u001b[0m \u001b[0mtime\u001b[0m\u001b[1;33m.\u001b[0m\u001b[0mtime\u001b[0m\u001b[1;33m(\u001b[0m\u001b[1;33m)\u001b[0m\u001b[1;33m\u001b[0m\u001b[0m\n\u001b[0;32m    594\u001b[0m         \u001b[1;32mtry\u001b[0m\u001b[1;33m:\u001b[0m\u001b[1;33m\u001b[0m\u001b[0m\n\u001b[1;32m--> 595\u001b[1;33m             \u001b[0moutputs\u001b[0m \u001b[1;33m=\u001b[0m \u001b[0mself\u001b[0m\u001b[1;33m.\u001b[0m\u001b[0mfn\u001b[0m\u001b[1;33m(\u001b[0m\u001b[1;33m)\u001b[0m\u001b[1;33m\u001b[0m\u001b[0m\n\u001b[0m\u001b[0;32m    596\u001b[0m         \u001b[1;32mexcept\u001b[0m \u001b[0mException\u001b[0m\u001b[1;33m:\u001b[0m\u001b[1;33m\u001b[0m\u001b[0m\n\u001b[0;32m    597\u001b[0m             \u001b[1;32mif\u001b[0m \u001b[0mhasattr\u001b[0m\u001b[1;33m(\u001b[0m\u001b[0mself\u001b[0m\u001b[1;33m.\u001b[0m\u001b[0mfn\u001b[0m\u001b[1;33m,\u001b[0m \u001b[1;34m'position_of_error'\u001b[0m\u001b[1;33m)\u001b[0m\u001b[1;33m:\u001b[0m\u001b[1;33m\u001b[0m\u001b[0m\n",
        "\u001b[1;31mValueError\u001b[0m: Input dimension mis-match. (input[0].shape[0] = 1, input[1].shape[0] = 5000)\nApply node that caused the error: Elemwise{mul,no_inplace}(monitoring_targets, Elemwise{sub,no_inplace}.0)\nInputs types: [TensorType(float64, matrix), TensorType(float64, matrix)]\nInputs shapes: [(1, 121), (5000, 121)]\nInputs strides: [(968, 8), (968, 8)]\nInputs values: ['not shown', 'not shown']\n\nBacktrace when the node is created:\n  File \"/home/joth/projects/2014-12-20_datascibowl/pylearn2_fork/pylearn2/sandbox/rnn/models/mlp_hook.py\", line 247, in outer\n    return cost(self, Y, Y_hat)\n  File \"/home/joth/projects/2014-12-20_datascibowl/pylearn2_fork/pylearn2/models/mlp.py\", line 1456, in cost\n    log_prob_of = self._cost(Y, Y_hat).sum(axis=1)\n  File \"/home/joth/projects/2014-12-20_datascibowl/pylearn2_fork/pylearn2/models/mlp.py\", line 1449, in _cost\n    log_prob_of = (Y * log_prob)\n\nDebugprint of the apply node: \nElemwise{mul,no_inplace} [@A] <TensorType(float64, matrix)> ''   \n |monitoring_targets [@B] <TensorType(float64, matrix)>\n |Elemwise{sub,no_inplace} [@C] <TensorType(float64, matrix)> ''   \n   |Elemwise{sub,no_inplace} [@D] <TensorType(float64, matrix)> ''   \n   | |Elemwise{add,no_inplace} [@E] <TensorType(float64, matrix)> ''   \n   | | |Dot22 [@F] <TensorType(float64, matrix)> ''   \n   | | | |monitoring_features [@G] <TensorType(float64, matrix)>\n   | | | |softmax_W [@H] <TensorType(float64, matrix)>\n   | | |DimShuffle{x,0} [@I] <TensorType(float64, row)> ''   \n   | |   |softmax_b [@J] <TensorType(float64, vector)>\n   | |DimShuffle{0,x} [@K] <TensorType(float64, col)> ''   \n   |   |MaxAndArgmax.0 [@L] <TensorType(float64, vector)> 'max'   \n   |Elemwise{log,no_inplace} [@M] <TensorType(float64, col)> ''   \n     |DimShuffle{0,x} [@N] <TensorType(float64, col)> ''   \n       |Sum{axis=[1], acc_dtype=float64} [@O] <TensorType(float64, vector)> ''   \n         |Elemwise{exp,no_inplace} [@P] <TensorType(float64, matrix)> ''   \n           |Elemwise{sub,no_inplace} [@D] <TensorType(float64, matrix)> ''   \n\nStorage map footprint:\n - ave_grad_size_tracker, Shape: (1,), ElemSize: 8 Byte(s), TotalSize: 8.0 Byte(s)\n - monitoring_targets, Shape: (1, 121), ElemSize: 8 Byte(s), TotalSize: 968 Byte(s)\n - train_y_col_norms_max_tracker, Shape: (1,), ElemSize: 8 Byte(s), TotalSize: 8.0 Byte(s)\n - Elemwise{sub,no_inplace}.0, Shape: (5000, 121), ElemSize: 8 Byte(s), TotalSize: 4840000 Byte(s)\n - train_objective_tracker, Shape: (1,), ElemSize: 8 Byte(s), TotalSize: 8.0 Byte(s)\n - monitoring_features, Shape: (5000, 1024), ElemSize: 8 Byte(s), TotalSize: 40960000 Byte(s)\n - <TensorType(float64, scalar)>, Shape: (1,), ElemSize: 8 Byte(s), TotalSize: 8.0 Byte(s)\n - train_y_row_norms_max_tracker, Shape: (1,), ElemSize: 8 Byte(s), TotalSize: 8.0 Byte(s)\n - train_y_max_max_class_tracker, Shape: (1,), ElemSize: 8 Byte(s), TotalSize: 8.0 Byte(s)\n - train_y_misclass_tracker, Shape: (1,), ElemSize: 8 Byte(s), TotalSize: 8.0 Byte(s)\n - train_y_col_norms_min_tracker, Shape: (1,), ElemSize: 8 Byte(s), TotalSize: 8.0 Byte(s)\n - train_y_row_norms_mean_tracker, Shape: (1,), ElemSize: 8 Byte(s), TotalSize: 8.0 Byte(s)\n - ave_step_size_tracker, Shape: (1,), ElemSize: 8 Byte(s), TotalSize: 8.0 Byte(s)\n - <TensorType(float64, scalar)>, Shape: (1,), ElemSize: 8 Byte(s), TotalSize: 8.0 Byte(s)\n - <TensorType(float64, scalar)>, Shape: (1,), ElemSize: 8 Byte(s), TotalSize: 8.0 Byte(s)\n - ave_grad_mult_tracker, Shape: (1,), ElemSize: 8 Byte(s), TotalSize: 8.0 Byte(s)\n - training_seconds_this_epoch_tracker, Shape: (1,), ElemSize: 8 Byte(s), TotalSize: 8.0 Byte(s)\n - training_seconds_this_epoch, Shape: (1,), ElemSize: 8 Byte(s), TotalSize: 8.0 Byte(s)\n - total_seconds_last_epoch_tracker, Shape: (1,), ElemSize: 8 Byte(s), TotalSize: 8.0 Byte(s)\n - total_seconds_last_epoch, Shape: (1,), ElemSize: 8 Byte(s), TotalSize: 8.0 Byte(s)\n - train_y_nll_tracker, Shape: (1,), ElemSize: 8 Byte(s), TotalSize: 8.0 Byte(s)\n - train_y_min_max_class_tracker, Shape: (1,), ElemSize: 8 Byte(s), TotalSize: 8.0 Byte(s)\n - train_y_col_norms_mean_tracker, Shape: (1,), ElemSize: 8 Byte(s), TotalSize: 8.0 Byte(s)\n - softmax_b, Shape: (121,), ElemSize: 8 Byte(s), TotalSize: 968 Byte(s)\n - TensorConstant{1}, Shape: (1,), ElemSize: 1 Byte(s), TotalSize: 1.0 Byte(s)\n - Constant{0}, Shape: (1,), ElemSize: 8 Byte(s), TotalSize: 8.0 Byte(s)\n - train_y_row_norms_min_tracker, Shape: (1,), ElemSize: 8 Byte(s), TotalSize: 8.0 Byte(s)\n - softmax_W, Shape: (1024, 121), ElemSize: 8 Byte(s), TotalSize: 991232 Byte(s)\n - Dot22.0, Shape: (5000, 121), ElemSize: 8 Byte(s), TotalSize: 4840000 Byte(s)\n - TensorConstant{25000.0}, Shape: (1,), ElemSize: 8 Byte(s), TotalSize: 8.0 Byte(s)\n - argmax, Shape: (5000,), ElemSize: 8 Byte(s), TotalSize: 40000 Byte(s)\n - train_y_mean_max_class_tracker, Shape: (1,), ElemSize: 8 Byte(s), TotalSize: 8.0 Byte(s)\n\n"
       ]
      },
      {
       "output_type": "stream",
       "stream": "stdout",
       "text": [
        "--Return--\n",
        "> /home/joth/venvs/2014-12-20_datascibowl/lib/python2.7/site-packages/IPython/core/interactiveshell.py(2897)run_code()->1\n",
        "-> return outflag\n"
       ]
      },
      {
       "name": "stdout",
       "output_type": "stream",
       "stream": "stdout",
       "text": [
        "(Pdb) q\n"
       ]
      },
      {
       "ename": "BdbQuit",
       "evalue": "",
       "output_type": "pyerr",
       "traceback": [
        "\u001b[1;31m---------------------------------------------------------------------------\u001b[0m\n\u001b[1;31mBdbQuit\u001b[0m                                   Traceback (most recent call last)",
        "\u001b[1;32m/home/joth/venvs/2014-12-20_datascibowl/lib/python2.7/site-packages/IPython/core/interactiveshell.pyc\u001b[0m in \u001b[0;36mrun_code\u001b[1;34m(self, code_obj)\u001b[0m\n\u001b[0;32m   2895\u001b[0m         \u001b[1;32melse\u001b[0m\u001b[1;33m:\u001b[0m\u001b[1;33m\u001b[0m\u001b[0m\n\u001b[0;32m   2896\u001b[0m             \u001b[0moutflag\u001b[0m \u001b[1;33m=\u001b[0m \u001b[1;36m0\u001b[0m\u001b[1;33m\u001b[0m\u001b[0m\n\u001b[1;32m-> 2897\u001b[1;33m         \u001b[1;32mreturn\u001b[0m \u001b[0moutflag\u001b[0m\u001b[1;33m\u001b[0m\u001b[0m\n\u001b[0m\u001b[0;32m   2898\u001b[0m \u001b[1;33m\u001b[0m\u001b[0m\n\u001b[0;32m   2899\u001b[0m     \u001b[1;31m# For backwards compatibility\u001b[0m\u001b[1;33m\u001b[0m\u001b[1;33m\u001b[0m\u001b[0m\n",
        "\u001b[1;32m/usr/lib64/python2.7/bdb.pyc\u001b[0m in \u001b[0;36mtrace_dispatch\u001b[1;34m(self, frame, event, arg)\u001b[0m\n\u001b[0;32m     51\u001b[0m             \u001b[1;32mreturn\u001b[0m \u001b[0mself\u001b[0m\u001b[1;33m.\u001b[0m\u001b[0mdispatch_call\u001b[0m\u001b[1;33m(\u001b[0m\u001b[0mframe\u001b[0m\u001b[1;33m,\u001b[0m \u001b[0marg\u001b[0m\u001b[1;33m)\u001b[0m\u001b[1;33m\u001b[0m\u001b[0m\n\u001b[0;32m     52\u001b[0m         \u001b[1;32mif\u001b[0m \u001b[0mevent\u001b[0m \u001b[1;33m==\u001b[0m \u001b[1;34m'return'\u001b[0m\u001b[1;33m:\u001b[0m\u001b[1;33m\u001b[0m\u001b[0m\n\u001b[1;32m---> 53\u001b[1;33m             \u001b[1;32mreturn\u001b[0m \u001b[0mself\u001b[0m\u001b[1;33m.\u001b[0m\u001b[0mdispatch_return\u001b[0m\u001b[1;33m(\u001b[0m\u001b[0mframe\u001b[0m\u001b[1;33m,\u001b[0m \u001b[0marg\u001b[0m\u001b[1;33m)\u001b[0m\u001b[1;33m\u001b[0m\u001b[0m\n\u001b[0m\u001b[0;32m     54\u001b[0m         \u001b[1;32mif\u001b[0m \u001b[0mevent\u001b[0m \u001b[1;33m==\u001b[0m \u001b[1;34m'exception'\u001b[0m\u001b[1;33m:\u001b[0m\u001b[1;33m\u001b[0m\u001b[0m\n\u001b[0;32m     55\u001b[0m             \u001b[1;32mreturn\u001b[0m \u001b[0mself\u001b[0m\u001b[1;33m.\u001b[0m\u001b[0mdispatch_exception\u001b[0m\u001b[1;33m(\u001b[0m\u001b[0mframe\u001b[0m\u001b[1;33m,\u001b[0m \u001b[0marg\u001b[0m\u001b[1;33m)\u001b[0m\u001b[1;33m\u001b[0m\u001b[0m\n",
        "\u001b[1;32m/usr/lib64/python2.7/bdb.pyc\u001b[0m in \u001b[0;36mdispatch_return\u001b[1;34m(self, frame, arg)\u001b[0m\n\u001b[0;32m     89\u001b[0m             \u001b[1;32mfinally\u001b[0m\u001b[1;33m:\u001b[0m\u001b[1;33m\u001b[0m\u001b[0m\n\u001b[0;32m     90\u001b[0m                 \u001b[0mself\u001b[0m\u001b[1;33m.\u001b[0m\u001b[0mframe_returning\u001b[0m \u001b[1;33m=\u001b[0m \u001b[0mNone\u001b[0m\u001b[1;33m\u001b[0m\u001b[0m\n\u001b[1;32m---> 91\u001b[1;33m             \u001b[1;32mif\u001b[0m \u001b[0mself\u001b[0m\u001b[1;33m.\u001b[0m\u001b[0mquitting\u001b[0m\u001b[1;33m:\u001b[0m \u001b[1;32mraise\u001b[0m \u001b[0mBdbQuit\u001b[0m\u001b[1;33m\u001b[0m\u001b[0m\n\u001b[0m\u001b[0;32m     92\u001b[0m         \u001b[1;32mreturn\u001b[0m \u001b[0mself\u001b[0m\u001b[1;33m.\u001b[0m\u001b[0mtrace_dispatch\u001b[0m\u001b[1;33m\u001b[0m\u001b[0m\n\u001b[0;32m     93\u001b[0m \u001b[1;33m\u001b[0m\u001b[0m\n",
        "\u001b[1;31mBdbQuit\u001b[0m: "
       ]
      }
     ],
     "prompt_number": 10
    },
    {
     "cell_type": "code",
     "collapsed": false,
     "input": [],
     "language": "python",
     "metadata": {},
     "outputs": []
    }
   ],
   "metadata": {}
  }
 ]
}